{
 "cells": [
  {
   "cell_type": "markdown",
   "metadata": {
    "toc": true
   },
   "source": [
    "<h1>Table of Contents<span class=\"tocSkip\"></span></h1>\n",
    "<div class=\"toc\"><ul class=\"toc-item\"><li><span><a href=\"#Bibliotecas-e-Funções\" data-toc-modified-id=\"Bibliotecas-e-Funções-1\"><span class=\"toc-item-num\">1&nbsp;&nbsp;</span>Bibliotecas e Funções</a></span></li><li><span><a href=\"#Entendendo-os-Dados\" data-toc-modified-id=\"Entendendo-os-Dados-2\"><span class=\"toc-item-num\">2&nbsp;&nbsp;</span>Entendendo os Dados</a></span><ul class=\"toc-item\"><li><span><a href=\"#Dados-Nulos\" data-toc-modified-id=\"Dados-Nulos-2.1\"><span class=\"toc-item-num\">2.1&nbsp;&nbsp;</span>Dados Nulos</a></span></li><li><span><a href=\"#Tipos-Primitivos\" data-toc-modified-id=\"Tipos-Primitivos-2.2\"><span class=\"toc-item-num\">2.2&nbsp;&nbsp;</span>Tipos Primitivos</a></span></li><li><span><a href=\"#Exploração-Gráfica\" data-toc-modified-id=\"Exploração-Gráfica-2.3\"><span class=\"toc-item-num\">2.3&nbsp;&nbsp;</span>Exploração Gráfica</a></span><ul class=\"toc-item\"><li><span><a href=\"#Evolução-do-E-Commerce-no-Brasil\" data-toc-modified-id=\"Evolução-do-E-Commerce-no-Brasil-2.3.1\"><span class=\"toc-item-num\">2.3.1&nbsp;&nbsp;</span>Evolução do E-Commerce no Brasil</a></span></li><li><span><a href=\"#E-Commerce-nos-Estados-Brasileiros\" data-toc-modified-id=\"E-Commerce-nos-Estados-Brasileiros-2.3.2\"><span class=\"toc-item-num\">2.3.2&nbsp;&nbsp;</span>E-Commerce nos Estados Brasileiros</a></span></li><li><span><a href=\"#Formas-de-Pagamento-Online\" data-toc-modified-id=\"Formas-de-Pagamento-Online-2.3.3\"><span class=\"toc-item-num\">2.3.3&nbsp;&nbsp;</span>Formas de Pagamento Online</a></span></li><li><span><a href=\"#Categorias-de-Produtos\" data-toc-modified-id=\"Categorias-de-Produtos-2.3.4\"><span class=\"toc-item-num\">2.3.4&nbsp;&nbsp;</span>Categorias de Produtos</a></span></li><li><span><a href=\"#Review-Score\" data-toc-modified-id=\"Review-Score-2.3.5\"><span class=\"toc-item-num\">2.3.5&nbsp;&nbsp;</span>Review Score</a></span></li></ul></li></ul></li><li><span><a href=\"#Processamento-de-Linguagem-Natural\" data-toc-modified-id=\"Processamento-de-Linguagem-Natural-3\"><span class=\"toc-item-num\">3&nbsp;&nbsp;</span>Processamento de Linguagem Natural</a></span><ul class=\"toc-item\"><li><span><a href=\"#Contato-Inicial-com-o-Dataset\" data-toc-modified-id=\"Contato-Inicial-com-o-Dataset-3.1\"><span class=\"toc-item-num\">3.1&nbsp;&nbsp;</span>Contato Inicial com o Dataset</a></span></li><li><span><a href=\"#RegEx\" data-toc-modified-id=\"RegEx-3.2\"><span class=\"toc-item-num\">3.2&nbsp;&nbsp;</span>RegEx</a></span><ul class=\"toc-item\"><li><span><a href=\"#Quebra-de-Linha-e-Carriage-Return\" data-toc-modified-id=\"Quebra-de-Linha-e-Carriage-Return-3.2.1\"><span class=\"toc-item-num\">3.2.1&nbsp;&nbsp;</span>Quebra de Linha e Carriage Return</a></span></li><li><span><a href=\"#Sites-e-Hiperlinks\" data-toc-modified-id=\"Sites-e-Hiperlinks-3.2.2\"><span class=\"toc-item-num\">3.2.2&nbsp;&nbsp;</span>Sites e Hiperlinks</a></span></li><li><span><a href=\"#Números\" data-toc-modified-id=\"Números-3.2.3\"><span class=\"toc-item-num\">3.2.3&nbsp;&nbsp;</span>Números</a></span></li><li><span><a href=\"#Caracteres-Especiais\" data-toc-modified-id=\"Caracteres-Especiais-3.2.4\"><span class=\"toc-item-num\">3.2.4&nbsp;&nbsp;</span>Caracteres Especiais</a></span></li><li><span><a href=\"#Espaços-Adicionais\" data-toc-modified-id=\"Espaços-Adicionais-3.2.5\"><span class=\"toc-item-num\">3.2.5&nbsp;&nbsp;</span>Espaços Adicionais</a></span></li></ul></li><li><span><a href=\"#Stop-Words-e-Pontuações\" data-toc-modified-id=\"Stop-Words-e-Pontuações-3.3\"><span class=\"toc-item-num\">3.3&nbsp;&nbsp;</span>Stop Words e Pontuações</a></span></li><li><span><a href=\"#Stemming\" data-toc-modified-id=\"Stemming-3.4\"><span class=\"toc-item-num\">3.4&nbsp;&nbsp;</span>Stemming</a></span></li><li><span><a href=\"#Score\" data-toc-modified-id=\"Score-3.5\"><span class=\"toc-item-num\">3.5&nbsp;&nbsp;</span>Score</a></span></li><li><span><a href=\"#TF-IDF\" data-toc-modified-id=\"TF-IDF-3.6\"><span class=\"toc-item-num\">3.6&nbsp;&nbsp;</span>TF-IDF</a></span></li><li><span><a href=\"#Pipeline-de-Preparação\" data-toc-modified-id=\"Pipeline-de-Preparação-3.7\"><span class=\"toc-item-num\">3.7&nbsp;&nbsp;</span>Pipeline de Preparação</a></span><ul class=\"toc-item\"><li><span><a href=\"#Definindo-Pipeline\" data-toc-modified-id=\"Definindo-Pipeline-3.7.1\"><span class=\"toc-item-num\">3.7.1&nbsp;&nbsp;</span>Definindo Pipeline</a></span></li><li><span><a href=\"#Aplicando-Pipeline\" data-toc-modified-id=\"Aplicando-Pipeline-3.7.2\"><span class=\"toc-item-num\">3.7.2&nbsp;&nbsp;</span>Aplicando Pipeline</a></span></li></ul></li><li><span><a href=\"#Treinando-um-Modelo\" data-toc-modified-id=\"Treinando-um-Modelo-3.8\"><span class=\"toc-item-num\">3.8&nbsp;&nbsp;</span>Treinando um Modelo</a></span><ul class=\"toc-item\"><li><span><a href=\"#Regressão-Logística\" data-toc-modified-id=\"Regressão-Logística-3.8.1\"><span class=\"toc-item-num\">3.8.1&nbsp;&nbsp;</span>Regressão Logística</a></span></li><li><span><a href=\"#Naive-Bayes\" data-toc-modified-id=\"Naive-Bayes-3.8.2\"><span class=\"toc-item-num\">3.8.2&nbsp;&nbsp;</span>Naive Bayes</a></span></li></ul></li><li><span><a href=\"#Testes\" data-toc-modified-id=\"Testes-3.9\"><span class=\"toc-item-num\">3.9&nbsp;&nbsp;</span>Testes</a></span></li></ul></li><li><span><a href=\"#Conclusões\" data-toc-modified-id=\"Conclusões-4\"><span class=\"toc-item-num\">4&nbsp;&nbsp;</span>Conclusões</a></span></li></ul></div>"
   ]
  },
  {
   "cell_type": "markdown",
   "metadata": {},
   "source": [
    "Este notebook tem por objetivo alocar o desenvolvimento prático envolvendo múltiplos conjuntos de dados contendo informações a respeito do E-Commerce do Brasil, dentro de um contexto relacionado ao trabalho final da matéria de Processamento de Linguagem Natural ministrada na UFABC pelo professor Jesús Mena.\n",
    "\n",
    "Os dados públicos levantados pela empresa _Olist_ contemplam aproximadamente 100.000 registros de pediso on-line (e anônimos) dispostos em 8 diferentes datasets. Essa implementação visa realizar um estudo nos dados contidos nestes conjuntos com ênfase na aplicação de técnicas de PLN para análise e classificação de sentimentos de clientes coletados através das críticas postadas antes, durante ou após aquisições on-line.\n",
    "\n",
    "Link do dataset: [Kaggle-Brazilian-e-commerce](https://www.kaggle.com/olistbr/brazilian-ecommerce#olist_orders_dataset.csv)"
   ]
  },
  {
   "cell_type": "markdown",
   "metadata": {},
   "source": [
    "# Bibliotecas e Funções"
   ]
  },
  {
   "cell_type": "code",
   "execution_count": 1,
   "metadata": {
    "ExecuteTime": {
     "end_time": "2020-03-26T01:57:21.398575Z",
     "start_time": "2020-03-26T01:56:51.672593Z"
    }
   },
   "outputs": [
    {
     "name": "stdout",
     "output_type": "stream",
     "text": [
      "Collecting geopandas\n",
      "  Downloading https://files.pythonhosted.org/packages/83/c5/3cf9cdc39a6f2552922f79915f36b45a95b71fd343cfc51170a5b6ddb6e8/geopandas-0.7.0-py2.py3-none-any.whl (928kB)\n",
      "Collecting pyproj>=2.2.0 (from geopandas)\n",
      "  Downloading https://files.pythonhosted.org/packages/56/57/462b634a5ab562201f4f208b3cd077b80e8e04359509ec294e22f7dd006c/pyproj-2.6.0-cp37-cp37m-win_amd64.whl (24.1MB)\n",
      "Collecting shapely (from geopandas)\n",
      "  Downloading https://files.pythonhosted.org/packages/ea/55/61a5d274a210585b5d0c3dac81a82952a4baa7903e3642228d7a465fc340/Shapely-1.7.0-cp37-cp37m-win_amd64.whl (1.0MB)\n",
      "Collecting fiona (from geopandas)\n",
      "  Downloading https://files.pythonhosted.org/packages/6d/42/f4a7cac53b28fa70e9a93d0e89a24d33e14826dad6644b699362ad84dde0/Fiona-1.8.13.post1.tar.gz (1.2MB)\n",
      "    Complete output from command python setup.py egg_info:\n",
      "    A GDAL API version must be specified. Provide a path to gdal-config using a GDAL_CONFIG environment variable or use a GDAL_VERSION environment variable.\n",
      "    \n",
      "    ----------------------------------------\n"
     ]
    },
    {
     "name": "stderr",
     "output_type": "stream",
     "text": [
      "Command \"python setup.py egg_info\" failed with error code 1 in C:\\Users\\thipa\\AppData\\Local\\Temp\\pip-install-o4y2w7x4\\fiona\\\n"
     ]
    }
   ],
   "source": [
    "# Importando bibliotecas\n",
    "import pandas as pd\n",
    "import numpy as np\n",
    "import seaborn as sns\n",
    "import matplotlib.pyplot as plt\n",
    "%matplotlib inline\n",
    "from matplotlib.gridspec import GridSpec\n",
    "try:\n",
    "    import missingno as msno\n",
    "except:\n",
    "    !pip install missingno\n",
    "import re\n",
    "from collections import Counter\n",
    "import nltk\n",
    "from nltk.corpus import stopwords\n",
    "from nltk.stem import RSLPStemmer\n",
    "import string\n",
    "import sys\n",
    "from sklearn.model_selection import train_test_split\n",
    "from sklearn.feature_extraction.text import CountVectorizer\n",
    "from sklearn.base import BaseEstimator, TransformerMixin\n",
    "try:\n",
    "    import urlextract\n",
    "except:\n",
    "    !pip install urlextract\n",
    "from scipy.sparse import csr_matrix\n",
    "from sklearn.pipeline import Pipeline\n",
    "from sklearn.linear_model import LogisticRegression\n",
    "from sklearn.model_selection import cross_val_score, cross_val_predict\n",
    "from sklearn.metrics import confusion_matrix, accuracy_score, precision_score, recall_score, f1_score\n",
    "import time\n",
    "import sys\n",
    "import math\n",
    "import itertools\n",
    "import folium\n",
    "from folium.plugins import Fullscreen\n",
    "try:\n",
    "    import geopandas as gpd\n",
    "except:\n",
    "    !pip install geopandas\n",
    "import json\n",
    "from sklearn.naive_bayes import GaussianNB\n",
    "from sklearn.svm import SVC\n",
    "from sklearn.pipeline import Pipeline\n",
    "import warnings\n",
    "warnings.filterwarnings('ignore')"
   ]
  },
  {
   "cell_type": "code",
   "execution_count": 2,
   "metadata": {
    "ExecuteTime": {
     "end_time": "2020-03-26T01:57:21.457424Z",
     "start_time": "2020-03-26T01:57:21.400567Z"
    }
   },
   "outputs": [],
   "source": [
    "# Funções\n",
    "def format_spines(ax, right_border=True):\n",
    "    \"\"\"\n",
    "    Função responsável por formatar os eixos dos gráficos\n",
    "    \n",
    "    Input:\n",
    "        ax: matplotlib axis\n",
    "        right_border: flag booleano que indica a presença ou não da borda direita\n",
    "    \n",
    "    Output:\n",
    "        None\n",
    "    \"\"\"    \n",
    "    ax.spines['bottom'].set_color('#CCCCCC')\n",
    "    ax.spines['left'].set_color('#CCCCCC')\n",
    "    ax.spines['top'].set_visible(False)\n",
    "    if right_border:\n",
    "        ax.spines['right'].set_color('#CCCCCC')\n",
    "    else:\n",
    "        ax.spines['right'].set_color('#FFFFFF')\n",
    "    ax.patch.set_facecolor('#FFFFFF')\n",
    "    \n",
    "def bar_plot(x, y, df, ax, colors='Blues_d', hue=False, value=False):\n",
    "    \"\"\"\n",
    "    Função responsável por plotar, configurar e personalizar um gráfico de barras\n",
    "\n",
    "    Input:\n",
    "        x: feature a ser plotada no eixo x\n",
    "        y: feature a ser plotada no eixo y\n",
    "        df: dataframe utilizado\n",
    "        colors: palette padrão \"Blues_d\"\n",
    "        hue: feature de separação, padrão False\n",
    "        value: flag que define se o rótulo das barras será valor (True) ou porcentagem (False)\n",
    "        \n",
    "    Returns:\n",
    "        None\n",
    "    \"\"\"\n",
    "    # Realizando contagem da feature numérica (em x ou em y)\n",
    "    try:\n",
    "        ncount = sum(df[y])\n",
    "    except:\n",
    "        ncount = sum(df[x])\n",
    "    \n",
    "    # Plotando gráfico no eixo\n",
    "    if hue != False:\n",
    "        ax = sns.barplot(x=x, y=y, data=df, palette=colors, hue=hue, ax=ax, ci=None)\n",
    "    else:\n",
    "        ax = sns.barplot(x=x, y=y, data=df, palette=colors, ax=ax, ci=None)\n",
    "\n",
    "    # Configurando porcentagem ou valor\n",
    "    for p in ax.patches:\n",
    "        xp=p.get_bbox().get_points()[:,0]\n",
    "        yp=p.get_bbox().get_points()[1,1]\n",
    "        if value:\n",
    "            ax.annotate('{:.2f}k'.format(yp/1000), (xp.mean(), yp), \n",
    "                    ha='center', va='bottom')\n",
    "        else:\n",
    "            ax.annotate('{:.1f}%'.format(100.*yp/ncount), (xp.mean(), yp), \n",
    "                    ha='center', va='bottom')\n",
    "            \n",
    "def add_series_working_days(series_name, df, date_col1, date_col2):\n",
    "    \"\"\"\n",
    "    Função extremamente importante: calcula os dias úteis entre duas datas e retorna este valor\n",
    "    como uma coluna adicional em um dataframe\n",
    "    \n",
    "    Input:\n",
    "        series_names: nome da nova série criada para alocar a diferença em dias úteis\n",
    "        df: conjunto de dados onde as colunas de data se encontram\n",
    "        date_col1: coluna de datas 1\n",
    "        date_col2: coluna de datas 2\n",
    "        \n",
    "    Returns:\n",
    "        df_return: dataframe com coluna de dias úteis já inserida\n",
    "    \"\"\"\n",
    "    # Calculando lista com diferença entre datas\n",
    "    time_list = []\n",
    "    idx = 0\n",
    "    second_date_series = df[date_col2].values.astype('datetime64[D]')\n",
    "    for date in df[date_col1].values.astype('datetime64[D]'):\n",
    "        second_date = second_date_series[idx]\n",
    "        try:\n",
    "            workdays = np.busday_count(date, second_date)\n",
    "        except:\n",
    "            workdays = np.NaN\n",
    "        time_list.append(workdays)\n",
    "        idx += 1\n",
    "    \n",
    "    # Adicionando ao dataframe e eliminando valores nulos\n",
    "    df_return = df.copy()\n",
    "    df_return[series_name] = pd.Series(time_list)\n",
    "    df_return.dropna(inplace=True)\n",
    "    \n",
    "    return df_return\n",
    "\n",
    "def communicate_params(frete, entrega, estimativa):\n",
    "    \"\"\"\n",
    "    Função adicional criada para auxiliar na plotagem gráfica do dashboard de análise por estado\n",
    "    \n",
    "    Input:\n",
    "        frete: valor do frete a ser plotado no gráfico em formato de texto\n",
    "        entrega: tempo médio de entrega a ser plotado no gráfico em formato de texto\n",
    "        estimativa: diferença entre estimativa e entrega ser plotada no gráfico em formato de texto\n",
    "    \n",
    "    Returns:\n",
    "        None\n",
    "    \"\"\"\n",
    "    # \n",
    "    \"\"\"axs[0, 0].text(0.5, 0.12, str(f'Frete Médio \\nR${frete:.2f}'),\n",
    "                   fontsize=13, ha='center')\n",
    "    axs[0, 0].axis('off')\"\"\"\n",
    "    \n",
    "    # Comunicando frete médio\n",
    "    ax1.text(0.23, 0.6, f'R${frete:.2f}', fontsize=65)\n",
    "    ax1.text(0.22, 0.45, 'é o valor médio de frete', fontsize=12)\n",
    "    ax1.text(0.24, 0.4, 'para compras online', fontsize=12)\n",
    "    ax1.axis('off')\n",
    "    \n",
    "    # Comunicando tempo médio de entrega\n",
    "    axs[0, 1].text(0.5, 0.12, \n",
    "                   str(f'Tempo Médio de Entrega \\n{int(entrega)} dias úteis.'),\n",
    "                   fontsize=13, ha='center')\n",
    "    axs[0, 1].axis('off')\n",
    "    \n",
    "    # Comunicando diferença entre tempo de entrega e tempo estimado\n",
    "    if mean_diff_estimative > 0:\n",
    "        inf = 'antes'\n",
    "    else:\n",
    "        inf = 'depois'\n",
    "    text_diff_estimative = f'Em média, entregas \\nacontecem {int(estimativa)} dias úteis \\\n",
    "\\n{inf} do período estimado.'\n",
    "    axs[0, 2].text(0.5, 0.10, \n",
    "                   str(text_diff_estimative), fontsize=13, ha='center')\n",
    "    axs[0, 2].axis('off')\n",
    "    \n",
    "def plot_param(df, col, title, xlim, n_row, n_col, y='customer_state', div_xlim=0, \n",
    "               one_axis=False, xlabel=[], ylabel='Estado'):\n",
    "    \"\"\"\n",
    "    Função utilizada para plotar um estudo comparativo de acordo com o tema, \n",
    "    separando análises de dos 5 Melhores e 5 Piores em assuntos pré-determinados\n",
    "    \n",
    "    Input:\n",
    "        df: dataframe com as informações\n",
    "        col: coluna com a informação a ser analisada\n",
    "        title: título da análise\n",
    "        xlim: limite no eixo X dos números\n",
    "        n_row: índice da linha onde a plotagem será realizada\n",
    "        n_col: índice da coluna onde a plotagem será realizada\n",
    "    \"\"\"\n",
    "    # Configurando eixos\n",
    "    if one_axis:\n",
    "        ax_top = axs[n_col]\n",
    "        ax_last = axs[n_col+1]\n",
    "    else:\n",
    "        ax_top = axs[n_row, n_col]\n",
    "        ax_last = axs[n_row+1, n_col]\n",
    "    \n",
    "    # Primeiro passo: plotando Top 5\n",
    "    df.sort_values(by=col, ascending=False, inplace=True)\n",
    "    top5 = df.iloc[:5, :]\n",
    "    sns.barplot(x=col, y=y, data=top5, ci=None, palette='Blues_d', ax=ax_top)\n",
    "    format_spines(ax_top, right_border=False)\n",
    "    ax_top.set_title(title)\n",
    "    ax_top.set_xlim(0, xlim)\n",
    "    ax_top.set_xlabel(xlabel)\n",
    "    if n_col > 0:\n",
    "        ax_top.set_ylabel('')\n",
    "    else:\n",
    "        ax_top.set_ylabel(ylabel)\n",
    "    \n",
    "    # Segundo passo: plotando Top 5 inverso\n",
    "    last5 = df.iloc[-5:, :]\n",
    "    sns.barplot(x=col, y=y, data=last5, ci=None, palette='Blues_d', ax=ax_last)\n",
    "    format_spines(ax_last, right_border=False)\n",
    "    ax_last.set_title(title.replace('Maior', 'Menor'))\n",
    "    if div_xlim > 0:\n",
    "        ax_last.set_xlim(0, xlim/div_xlim)\n",
    "    else:\n",
    "        ax_last.set_xlim(0, xlim)\n",
    "    ax_last.set_xlabel(xlabel)\n",
    "    if n_col > 0:\n",
    "        ax_last.set_ylabel('')\n",
    "    else:\n",
    "        ax_last.set_ylabel(ylabel)\n",
    "        \n",
    "def style_function(feature):\n",
    "    \"\"\"\n",
    "    Função responsável por customizar mapas do folium\n",
    "    \"\"\"\n",
    "    return {\n",
    "        'fillColor': '#ffaf00',\n",
    "        'color': 'grey',\n",
    "        'weight': 1.5,\n",
    "        'dashArray': '5, 5'\n",
    "    }\n",
    "\n",
    "def highlight_function(feature):\n",
    "    \"\"\"\n",
    "    Função responsável por customizar mapas do folium\n",
    "    \"\"\"\n",
    "    return {\n",
    "        'fillColor': '#ffaf00',\n",
    "        'color': 'black',\n",
    "        'weight': 2,\n",
    "        'dashArray': '5, 5'\n",
    "    }\n",
    "        \n",
    "def donut_plot(col, ax, df, labels, text='', flag_ruido = 0,\n",
    "               colors=['navy', 'lightsteelblue', 'lightgreen', 'crimson', '']):\n",
    "    \"\"\"\n",
    "    Função responsável por plotar um gráfico de rosca customizado\n",
    "    \n",
    "    Input:\n",
    "        col: coluna a ser analisada e plotada no gráfico de rosca\n",
    "        ax: matplotlib axis\n",
    "        df: DataFrame contendo os dados\n",
    "        labels: índice de labels da coluna a ser plotada\n",
    "        text: texto a ser plotado no centro do gráfico de rosca\n",
    "        flag_ruido: indica a quantidade de elementos a serem eliminados da plotagem\n",
    "        colors: lista de cores para plotagem (4 cores default)\n",
    "    \"\"\"\n",
    "    flag_ruido = flag_ruido * -1\n",
    "    if flag_ruido < 0:\n",
    "        sizes = df[col].value_counts().values[:flag_ruido]\n",
    "        labels = labels[:flag_ruido]\n",
    "    else:\n",
    "        sizes = df[col].value_counts().values\n",
    "    center_circle = plt.Circle((0,0), 0.80, color='white')\n",
    "    ax.pie(sizes, labels=labels, colors=colors, autopct='%1.2f%%')\n",
    "    ax.add_artist(center_circle)\n",
    "    kwargs = dict(size=20, fontweight='bold', va='center')\n",
    "    ax.text(0, 0, text, ha='center', **kwargs)\n",
    "    \n",
    "def text_process(c):\n",
    "    \"\"\"\n",
    "    Função responsável por remover as pontuações e as stopwords das críticas.\n",
    "    \n",
    "    Input:\n",
    "        c: crítica do cliente\n",
    "    \n",
    "    Output:\n",
    "        lista sem pontuação e sem stopwords\n",
    "    \"\"\"\n",
    "    # Retira pontuações\n",
    "    nopunc = [char for char in c if char not in string.punctuation]\n",
    "\n",
    "    # Junta-os para formar strings\n",
    "    nopunc = ''.join(nopunc)\n",
    "    \n",
    "    # Remove as stopwords\n",
    "    return [word.lower() for word in nopunc.split() if word.lower() not in stopwords.words('portuguese')]\n",
    "\n",
    "def stem_processing(c):\n",
    "    \"\"\"\n",
    "    Função responsável por realizarz o stemming nas críticas.\n",
    "    \n",
    "    Input:\n",
    "        c: crítica do cliente\n",
    "        \n",
    "    Output:\n",
    "        critica após aplicação do stemming\n",
    "    \"\"\"\n",
    "    \n",
    "    stemmer = RSLPStemmer()\n",
    "    return list(map(lambda x: stemmer.stem(x), [word for word in c.split()]))\n",
    "\n",
    "def create_dataset():\n",
    "    \"\"\"\n",
    "    Função responsável por criar um dataset vazio para armazenamento das métricas\n",
    "    \n",
    "    Returns:\n",
    "        DataFrame vazio\n",
    "    \"\"\"\n",
    "    attributes = ['acc', 'prec', 'rec', 'f1', 'total_time']\n",
    "    model_performance = pd.DataFrame({})\n",
    "    for col in attributes:\n",
    "        model_performance[col] = []\n",
    "        \n",
    "    return model_performance\n",
    "\n",
    "def model_analysis(model, X, y, X_test, y_test, df_performance, cv=5, train=True):\n",
    "    \"\"\"\n",
    "    Função responsável por aplicar métodos de avaliação de um modelo e salvar os resultados em um DataFrame\n",
    "    \n",
    "    Input:\n",
    "        model: modelo a ser utilizado na avaliação\n",
    "        X, y: Dados de treino, teste e labels\n",
    "        df_performance: DataFrame vazio (gerado pela função create_dataset())\n",
    "        cv: cross validation k folds\n",
    "\n",
    "    Returns:\n",
    "        Um objeto do tipo DataFrame com todas as métricas avaliadas\n",
    "    \"\"\"\n",
    "    # Accuracy, precision, recall and f1_score on training set using cv\n",
    "    t0_cv = time.time()\n",
    "    acc = cross_val_score(model, X, y, cv=cv, scoring='accuracy').mean()\n",
    "    prec = cross_val_score(model, X, y, cv=cv, scoring='precision').mean()\n",
    "    rec = cross_val_score(model, X, y, cv=cv, scoring='recall').mean()\n",
    "    f1 = cross_val_score(model, X, y, cv=cv, scoring='f1').mean()\n",
    "    # Time spent on cross_validation prediction\n",
    "    t1_cv = time.time()\n",
    "    delta_time_cv = t1_cv-t0_cv\n",
    "    \n",
    "    # Evaluation using the test set\n",
    "    t0_test = time.time()\n",
    "    y_pred_test = model.predict(X_test)\n",
    "    acc_test = accuracy_score(y_test, y_pred_test)\n",
    "    prec_test = precision_score(y_test, y_pred_test)\n",
    "    rec_test = recall_score(y_test, y_pred_test)\n",
    "    f1_test = f1_score(y_test, y_pred_test)\n",
    "    y_scores_test = model.predict_proba(X_test)[:, 1]\n",
    "    # Time spent on test prediction\n",
    "    t1_test = time.time()\n",
    "    delta_time_test = t1_test-t0_test\n",
    "\n",
    "    # Saving on dataframe\n",
    "    performances = {}\n",
    "    performances['acc'] = round(acc, 4)\n",
    "    performances['prec'] = round(prec, 4)\n",
    "    performances['rec'] = round(rec, 4)\n",
    "    performances['f1'] = round(f1, 4)\n",
    "    performances['total_time'] = round(delta_time_cv, 3)        \n",
    "    df_performance = df_performance.append(performances, ignore_index=True)\n",
    "    \n",
    "    test_performances = {}\n",
    "    test_performances['acc'] = round(acc_test, 4)\n",
    "    test_performances['prec'] = round(prec_test, 4)\n",
    "    test_performances['rec'] = round(rec_test, 4)\n",
    "    test_performances['f1'] = round(f1_test, 4)\n",
    "    test_performances['total_time'] = round(delta_time_test, 3)        \n",
    "    df_performance = df_performance.append(test_performances, ignore_index=True)\n",
    "    \n",
    "    model_name = model.__class__.__name__\n",
    "    df_performance.index = [model_name+' cv', model_name+' test']\n",
    "    \n",
    "    return df_performance\n",
    "\n",
    "def plot_confusion_matrix(cm, classes, title='Confusion matrix', cmap=plt.cm.Blues):\n",
    "    \"\"\"\n",
    "    Esta função plota e personaliza uma matriz de confusão\n",
    "    \n",
    "    Input:\n",
    "        cm: matriz de confusão gerada pela função do sklearn confusion_matrix(set, predictions)\n",
    "        classes: target labels a serem plotados\n",
    "        title: título do gráfico\n",
    "        cmap: cores da matriz\n",
    "    Output:\n",
    "        Matriz de confusão personalizada\n",
    "    \"\"\"\n",
    "    plt.imshow(cm, interpolation='nearest', cmap=cmap)\n",
    "    plt.title(title, fontsize=14)\n",
    "    plt.colorbar()\n",
    "    tick_marks = np.arange(len(classes))\n",
    "    plt.xticks(tick_marks, classes, rotation=45)\n",
    "    plt.yticks(tick_marks, classes)\n",
    "    \n",
    "    # Plot configuration\n",
    "    thresh = cm.max() / 1.2\n",
    "    for i, j in itertools.product(range(cm.shape[0]), range(cm.shape[1])):\n",
    "        plt.text(j, i, format(cm[i, j]),\n",
    "                 horizontalalignment=\"center\",\n",
    "                 color=\"white\" if cm[i, j] > thresh else \"black\")\n",
    "    plt.ylabel('True label')\n",
    "    plt.xlabel('Predicted label')\n",
    "    \n",
    "def plot_sentimento(model, frase):\n",
    "    \"\"\"\n",
    "    Função responsável por receber uma frase pré-processada e um algoritmo de ML já treinado e \n",
    "    comunicar o resultado do sentimento em uma plotagem gráfica\n",
    "    \n",
    "    Input:\n",
    "        model: modelo de classificação já treinado\n",
    "        frase: frase teste já pré-processada\n",
    "    \n",
    "    Output:\n",
    "        plotagem do resultado da predição utilizando matplotlib\n",
    "    \"\"\"\n",
    "    # Predizendo\n",
    "    pred = model.predict(frase)\n",
    "    fig, ax = plt.subplots(figsize=(5, 3))\n",
    "    if pred[0] == 1:\n",
    "        text = 'Positivo'\n",
    "        proba = 100 * round(model.predict_proba(frase)[0][1], 4)\n",
    "        color = 'seagreen'\n",
    "    else:\n",
    "        text = 'Negativo'\n",
    "        proba = 100 * round(model.predict_proba(frase)[0][0], 4)\n",
    "        color = 'crimson'\n",
    "    ax.text(0.5, 0.5, text, fontsize=50, ha='center', color=color)\n",
    "    ax.text(0.5, 0.20, str(proba) + '%', fontsize=14, ha='center')\n",
    "    ax.axis('off')\n",
    "    ax.set_title('Sentimento', fontsize=14)\n",
    "    plt.show()"
   ]
  },
  {
   "cell_type": "markdown",
   "metadata": {},
   "source": [
    "# Entendendo os Dados"
   ]
  },
  {
   "cell_type": "markdown",
   "metadata": {},
   "source": [
    "Datasets disponíveis:\n",
    "\n",
    "    olist_customers_dataset.csv\n",
    "    olist_geolocation_dataset.csv\n",
    "    olist_orders_dataset.csv\n",
    "    olist_order_items_dataset.csv\n",
    "    olist_order_payments_dataset.csv\n",
    "    olist_order_reviews_dataset.csv\n",
    "    olist_products_dataset.csv\n",
    "    olist_sellers_dataset.csv\n",
    "    product_category_name_translation.csv"
   ]
  },
  {
   "cell_type": "markdown",
   "metadata": {},
   "source": [
    "<img src=\"images/brazilian_e-commerce_schema.png\" alt=\"Dataset Schema\" style=\"width: 750px;\"/>"
   ]
  },
  {
   "cell_type": "markdown",
   "metadata": {},
   "source": [
    "Acima, é possível visualizar um modelo que transcreve o problema de negócio. A relação entre os datasets é dada através de chaves estrangeiras contidas em cada um dos conjuntos, sendo necessária a aplicação de métodos específicos (join, concat, entre outros) para a efetiva união e posterior análise dos conjuntos. Neste primeiro momento, vamos ler os conjuntos de dados e verificar as dimensões de cada um deles."
   ]
  },
  {
   "cell_type": "code",
   "execution_count": 3,
   "metadata": {
    "ExecuteTime": {
     "end_time": "2020-03-26T01:57:24.609631Z",
     "start_time": "2020-03-26T01:57:21.464394Z"
    }
   },
   "outputs": [],
   "source": [
    "# Lendo arquivos\n",
    "olist_customer = pd.read_csv('olist_customers_dataset.csv')\n",
    "olist_geolocation = pd.read_csv('olist_geolocation_dataset.csv')\n",
    "olist_orders = pd.read_csv('olist_orders_dataset.csv')\n",
    "olist_order_items = pd.read_csv('olist_order_items_dataset.csv')\n",
    "olist_order_payments = pd.read_csv('olist_order_payments_dataset.csv')\n",
    "olist_order_reviews = pd.read_csv('olist_order_reviews_dataset.csv')\n",
    "olist_products = pd.read_csv('olist_products_dataset.csv')\n",
    "olist_sellers = pd.read_csv('olist_sellers_dataset.csv')"
   ]
  },
  {
   "cell_type": "code",
   "execution_count": 4,
   "metadata": {
    "ExecuteTime": {
     "end_time": "2020-03-26T01:57:24.630494Z",
     "start_time": "2020-03-26T01:57:24.611544Z"
    }
   },
   "outputs": [
    {
     "data": {
      "text/html": [
       "<div>\n",
       "<style scoped>\n",
       "    .dataframe tbody tr th:only-of-type {\n",
       "        vertical-align: middle;\n",
       "    }\n",
       "\n",
       "    .dataframe tbody tr th {\n",
       "        vertical-align: top;\n",
       "    }\n",
       "\n",
       "    .dataframe thead th {\n",
       "        text-align: right;\n",
       "    }\n",
       "</style>\n",
       "<table border=\"1\" class=\"dataframe\">\n",
       "  <thead>\n",
       "    <tr style=\"text-align: right;\">\n",
       "      <th></th>\n",
       "      <th>order_id</th>\n",
       "      <th>customer_id</th>\n",
       "      <th>order_status</th>\n",
       "      <th>order_purchase_timestamp</th>\n",
       "      <th>order_approved_at</th>\n",
       "      <th>order_delivered_carrier_date</th>\n",
       "      <th>order_delivered_customer_date</th>\n",
       "      <th>order_estimated_delivery_date</th>\n",
       "    </tr>\n",
       "  </thead>\n",
       "  <tbody>\n",
       "    <tr>\n",
       "      <th>0</th>\n",
       "      <td>e481f51cbdc54678b7cc49136f2d6af7</td>\n",
       "      <td>9ef432eb6251297304e76186b10a928d</td>\n",
       "      <td>delivered</td>\n",
       "      <td>2017-10-02 10:56:33</td>\n",
       "      <td>2017-10-02 11:07:15</td>\n",
       "      <td>2017-10-04 19:55:00</td>\n",
       "      <td>2017-10-10 21:25:13</td>\n",
       "      <td>2017-10-18 00:00:00</td>\n",
       "    </tr>\n",
       "    <tr>\n",
       "      <th>1</th>\n",
       "      <td>53cdb2fc8bc7dce0b6741e2150273451</td>\n",
       "      <td>b0830fb4747a6c6d20dea0b8c802d7ef</td>\n",
       "      <td>delivered</td>\n",
       "      <td>2018-07-24 20:41:37</td>\n",
       "      <td>2018-07-26 03:24:27</td>\n",
       "      <td>2018-07-26 14:31:00</td>\n",
       "      <td>2018-08-07 15:27:45</td>\n",
       "      <td>2018-08-13 00:00:00</td>\n",
       "    </tr>\n",
       "    <tr>\n",
       "      <th>2</th>\n",
       "      <td>47770eb9100c2d0c44946d9cf07ec65d</td>\n",
       "      <td>41ce2a54c0b03bf3443c3d931a367089</td>\n",
       "      <td>delivered</td>\n",
       "      <td>2018-08-08 08:38:49</td>\n",
       "      <td>2018-08-08 08:55:23</td>\n",
       "      <td>2018-08-08 13:50:00</td>\n",
       "      <td>2018-08-17 18:06:29</td>\n",
       "      <td>2018-09-04 00:00:00</td>\n",
       "    </tr>\n",
       "    <tr>\n",
       "      <th>3</th>\n",
       "      <td>949d5b44dbf5de918fe9c16f97b45f8a</td>\n",
       "      <td>f88197465ea7920adcdbec7375364d82</td>\n",
       "      <td>delivered</td>\n",
       "      <td>2017-11-18 19:28:06</td>\n",
       "      <td>2017-11-18 19:45:59</td>\n",
       "      <td>2017-11-22 13:39:59</td>\n",
       "      <td>2017-12-02 00:28:42</td>\n",
       "      <td>2017-12-15 00:00:00</td>\n",
       "    </tr>\n",
       "    <tr>\n",
       "      <th>4</th>\n",
       "      <td>ad21c59c0840e6cb83a9ceb5573f8159</td>\n",
       "      <td>8ab97904e6daea8866dbdbc4fb7aad2c</td>\n",
       "      <td>delivered</td>\n",
       "      <td>2018-02-13 21:18:39</td>\n",
       "      <td>2018-02-13 22:20:29</td>\n",
       "      <td>2018-02-14 19:46:34</td>\n",
       "      <td>2018-02-16 18:17:02</td>\n",
       "      <td>2018-02-26 00:00:00</td>\n",
       "    </tr>\n",
       "  </tbody>\n",
       "</table>\n",
       "</div>"
      ],
      "text/plain": [
       "                           order_id                       customer_id  \\\n",
       "0  e481f51cbdc54678b7cc49136f2d6af7  9ef432eb6251297304e76186b10a928d   \n",
       "1  53cdb2fc8bc7dce0b6741e2150273451  b0830fb4747a6c6d20dea0b8c802d7ef   \n",
       "2  47770eb9100c2d0c44946d9cf07ec65d  41ce2a54c0b03bf3443c3d931a367089   \n",
       "3  949d5b44dbf5de918fe9c16f97b45f8a  f88197465ea7920adcdbec7375364d82   \n",
       "4  ad21c59c0840e6cb83a9ceb5573f8159  8ab97904e6daea8866dbdbc4fb7aad2c   \n",
       "\n",
       "  order_status order_purchase_timestamp    order_approved_at  \\\n",
       "0    delivered      2017-10-02 10:56:33  2017-10-02 11:07:15   \n",
       "1    delivered      2018-07-24 20:41:37  2018-07-26 03:24:27   \n",
       "2    delivered      2018-08-08 08:38:49  2018-08-08 08:55:23   \n",
       "3    delivered      2017-11-18 19:28:06  2017-11-18 19:45:59   \n",
       "4    delivered      2018-02-13 21:18:39  2018-02-13 22:20:29   \n",
       "\n",
       "  order_delivered_carrier_date order_delivered_customer_date  \\\n",
       "0          2017-10-04 19:55:00           2017-10-10 21:25:13   \n",
       "1          2018-07-26 14:31:00           2018-08-07 15:27:45   \n",
       "2          2018-08-08 13:50:00           2018-08-17 18:06:29   \n",
       "3          2017-11-22 13:39:59           2017-12-02 00:28:42   \n",
       "4          2018-02-14 19:46:34           2018-02-16 18:17:02   \n",
       "\n",
       "  order_estimated_delivery_date  \n",
       "0           2017-10-18 00:00:00  \n",
       "1           2018-08-13 00:00:00  \n",
       "2           2018-09-04 00:00:00  \n",
       "3           2017-12-15 00:00:00  \n",
       "4           2018-02-26 00:00:00  "
      ]
     },
     "execution_count": 4,
     "metadata": {},
     "output_type": "execute_result"
    }
   ],
   "source": [
    "# Exemplo: dataset de pedidos\n",
    "olist_orders.head()"
   ]
  },
  {
   "cell_type": "code",
   "execution_count": 5,
   "metadata": {
    "ExecuteTime": {
     "end_time": "2020-03-26T01:57:24.641465Z",
     "start_time": "2020-03-26T01:57:24.633485Z"
    }
   },
   "outputs": [
    {
     "name": "stdout",
     "output_type": "stream",
     "text": [
      "Customers: 5 colunas\n",
      "['customer_id', 'customer_unique_id', 'customer_zip_code_prefix', 'customer_city', 'customer_state']\n",
      "\n",
      "Geolocation: 5 colunas\n",
      "['geolocation_zip_code_prefix', 'geolocation_lat', 'geolocation_lng', 'geolocation_city', 'geolocation_state']\n",
      "\n",
      "Orders: 8 colunas\n",
      "['order_id', 'customer_id', 'order_status', 'order_purchase_timestamp', 'order_approved_at', 'order_delivered_carrier_date', 'order_delivered_customer_date', 'order_estimated_delivery_date']\n",
      "\n",
      "Items: 7 colunas\n",
      "['order_id', 'order_item_id', 'product_id', 'seller_id', 'shipping_limit_date', 'price', 'freight_value']\n",
      "\n",
      "Payments: 5 colunas\n",
      "['order_id', 'payment_sequential', 'payment_type', 'payment_installments', 'payment_value']\n",
      "\n",
      "Reviews: 7 colunas\n",
      "['review_id', 'order_id', 'review_score', 'review_comment_title', 'review_comment_message', 'review_creation_date', 'review_answer_timestamp']\n",
      "\n",
      "Products: 9 colunas\n",
      "['product_id', 'product_category_name', 'product_name_lenght', 'product_description_lenght', 'product_photos_qty', 'product_weight_g', 'product_length_cm', 'product_height_cm', 'product_width_cm']\n",
      "\n",
      "Sellers: 4 colunas\n",
      "['seller_id', 'seller_zip_code_prefix', 'seller_city', 'seller_state']\n",
      "\n"
     ]
    }
   ],
   "source": [
    "# Visualizando colunas em cada um dos conjuntos\n",
    "dataframes = {\n",
    "    'Customers': olist_customer,\n",
    "    'Geolocation': olist_geolocation,\n",
    "    'Orders': olist_orders,\n",
    "    'Items': olist_order_items,\n",
    "    'Payments': olist_order_payments,\n",
    "    'Reviews': olist_order_reviews,\n",
    "    'Products': olist_products,\n",
    "    'Sellers': olist_sellers\n",
    "}\n",
    "\n",
    "for name, df in dataframes.items():\n",
    "    print(f'{name}: {len(df.columns)} colunas')\n",
    "    print(f'{list(df.columns)}\\n')"
   ]
  },
  {
   "cell_type": "code",
   "execution_count": 6,
   "metadata": {
    "ExecuteTime": {
     "end_time": "2020-03-26T01:57:24.653432Z",
     "start_time": "2020-03-26T01:57:24.645454Z"
    }
   },
   "outputs": [
    {
     "name": "stdout",
     "output_type": "stream",
     "text": [
      "Customers: 3 chaves PK ou FK\n",
      "['customer_id', 'customer_unique_id', 'customer_zip_code_prefix']\n",
      "\n",
      "Geolocation: 1 chaves PK ou FK\n",
      "['geolocation_zip_code_prefix']\n",
      "\n",
      "Orders: 2 chaves PK ou FK\n",
      "['order_id', 'customer_id']\n",
      "\n",
      "Items: 4 chaves PK ou FK\n",
      "['order_id', 'order_item_id', 'product_id', 'seller_id']\n",
      "\n",
      "Payments: 1 chaves PK ou FK\n",
      "['order_id']\n",
      "\n",
      "Reviews: 2 chaves PK ou FK\n",
      "['review_id', 'order_id']\n",
      "\n",
      "Products: 1 chaves PK ou FK\n",
      "['product_id']\n",
      "\n",
      "Sellers: 2 chaves PK ou FK\n",
      "['seller_id', 'seller_zip_code_prefix']\n",
      "\n"
     ]
    }
   ],
   "source": [
    "# Chaves estrangeiras\n",
    "for name, df in dataframes.items():\n",
    "    chaves = [col for col in df.columns if '_id' in col or 'code' in col]\n",
    "    print(f'{name}: {len(chaves)} chaves PK ou FK')\n",
    "    print(f'{chaves}\\n')"
   ]
  },
  {
   "cell_type": "markdown",
   "metadata": {},
   "source": [
    "## Dados Nulos"
   ]
  },
  {
   "cell_type": "markdown",
   "metadata": {},
   "source": [
    "Vamos verificar a presença de dados nulos em uma visão macro, considerando os datasets como um todo"
   ]
  },
  {
   "cell_type": "code",
   "execution_count": 7,
   "metadata": {
    "ExecuteTime": {
     "end_time": "2020-03-26T01:57:24.930691Z",
     "start_time": "2020-03-26T01:57:24.655427Z"
    }
   },
   "outputs": [
    {
     "name": "stdout",
     "output_type": "stream",
     "text": [
      "Customers   - False\n",
      "Geolocation - False\n",
      "Orders      - True\n",
      "Items       - False\n",
      "Payments    - False\n",
      "Reviews     - True\n",
      "Products    - True\n",
      "Sellers     - False\n"
     ]
    }
   ],
   "source": [
    "# Em quais datasets existem dados nulos?\n",
    "for name, df in dataframes.items():\n",
    "    print(f'{name:<11} - {df.isnull().any().any()}')"
   ]
  },
  {
   "cell_type": "markdown",
   "metadata": {},
   "source": [
    "Vamos agora quantificar os dados nulos em todos os conjuntos"
   ]
  },
  {
   "cell_type": "code",
   "execution_count": 8,
   "metadata": {
    "ExecuteTime": {
     "end_time": "2020-03-26T01:57:25.272778Z",
     "start_time": "2020-03-26T01:57:24.933693Z"
    }
   },
   "outputs": [
    {
     "name": "stdout",
     "output_type": "stream",
     "text": [
      "Dataset: Orders\n",
      "\n",
      "order_id                            0\n",
      "customer_id                         0\n",
      "order_status                        0\n",
      "order_purchase_timestamp            0\n",
      "order_approved_at                 160\n",
      "order_delivered_carrier_date     1783\n",
      "order_delivered_customer_date    2965\n",
      "order_estimated_delivery_date       0\n",
      "dtype: int64\n",
      "\n",
      "Dataset: Reviews\n",
      "\n",
      "review_id                      0\n",
      "order_id                       0\n",
      "review_score                   0\n",
      "review_comment_title       88285\n",
      "review_comment_message     58247\n",
      "review_creation_date           0\n",
      "review_answer_timestamp        0\n",
      "dtype: int64\n",
      "\n",
      "Dataset: Products\n",
      "\n",
      "product_id                      0\n",
      "product_category_name         610\n",
      "product_name_lenght           610\n",
      "product_description_lenght    610\n",
      "product_photos_qty            610\n",
      "product_weight_g                2\n",
      "product_length_cm               2\n",
      "product_height_cm               2\n",
      "product_width_cm                2\n",
      "dtype: int64\n",
      "\n"
     ]
    }
   ],
   "source": [
    "# Quantificando dados nulos\n",
    "for name, df in dataframes.items():\n",
    "    if df.isnull().any().any():\n",
    "        print(f'Dataset: {name}\\n')\n",
    "        print(f'{df.isnull().sum()}\\n')"
   ]
  },
  {
   "cell_type": "markdown",
   "metadata": {},
   "source": [
    "* Os dados nulos no dataset **Orders** são dados por:\n",
    "\n",
    "    - Pedidos sem data de aprovação;\n",
    "    - Pedidos que não foram entregues na transportadora;\n",
    "    - Pedidos ainda não entregues aos clientes.\n",
    "\n",
    "\n",
    "* Os dados nulos no dataset **Reviews** são dados por:\n",
    "    - Pedidos sem comentários;\n",
    "    - Comentários postados sem título;\n",
    "\n",
    "\n",
    "* Os dados nulos no dataset **Produtos** são dados por:\n",
    "    - Produtos sem categoria, sem informações de nome, descrição, fotos e atributos"
   ]
  },
  {
   "cell_type": "markdown",
   "metadata": {},
   "source": [
    "## Tipos Primitivos"
   ]
  },
  {
   "cell_type": "markdown",
   "metadata": {},
   "source": [
    "Ainda trabalhando nos passos precedentes a análise exploratória e posterior implementação das técnicas de PLN para classificação de sentimentos, é preciso verificar os tipos primitivos dos dados para aplicar as transformações que se fizerem necessárias"
   ]
  },
  {
   "cell_type": "code",
   "execution_count": 9,
   "metadata": {
    "ExecuteTime": {
     "end_time": "2020-03-26T01:57:25.290728Z",
     "start_time": "2020-03-26T01:57:25.276767Z"
    }
   },
   "outputs": [
    {
     "name": "stdout",
     "output_type": "stream",
     "text": [
      "Dataset: Customers\n",
      "\n",
      "customer_id                 object\n",
      "customer_unique_id          object\n",
      "customer_zip_code_prefix     int64\n",
      "customer_city               object\n",
      "customer_state              object\n",
      "dtype: object\n",
      "\n",
      "Dataset: Geolocation\n",
      "\n",
      "geolocation_zip_code_prefix      int64\n",
      "geolocation_lat                float64\n",
      "geolocation_lng                float64\n",
      "geolocation_city                object\n",
      "geolocation_state               object\n",
      "dtype: object\n",
      "\n",
      "Dataset: Orders\n",
      "\n",
      "order_id                         object\n",
      "customer_id                      object\n",
      "order_status                     object\n",
      "order_purchase_timestamp         object\n",
      "order_approved_at                object\n",
      "order_delivered_carrier_date     object\n",
      "order_delivered_customer_date    object\n",
      "order_estimated_delivery_date    object\n",
      "dtype: object\n",
      "\n",
      "Dataset: Items\n",
      "\n",
      "order_id                object\n",
      "order_item_id            int64\n",
      "product_id              object\n",
      "seller_id               object\n",
      "shipping_limit_date     object\n",
      "price                  float64\n",
      "freight_value          float64\n",
      "dtype: object\n",
      "\n",
      "Dataset: Payments\n",
      "\n",
      "order_id                 object\n",
      "payment_sequential        int64\n",
      "payment_type             object\n",
      "payment_installments      int64\n",
      "payment_value           float64\n",
      "dtype: object\n",
      "\n",
      "Dataset: Reviews\n",
      "\n",
      "review_id                  object\n",
      "order_id                   object\n",
      "review_score                int64\n",
      "review_comment_title       object\n",
      "review_comment_message     object\n",
      "review_creation_date       object\n",
      "review_answer_timestamp    object\n",
      "dtype: object\n",
      "\n",
      "Dataset: Products\n",
      "\n",
      "product_id                     object\n",
      "product_category_name          object\n",
      "product_name_lenght           float64\n",
      "product_description_lenght    float64\n",
      "product_photos_qty            float64\n",
      "product_weight_g              float64\n",
      "product_length_cm             float64\n",
      "product_height_cm             float64\n",
      "product_width_cm              float64\n",
      "dtype: object\n",
      "\n",
      "Dataset: Sellers\n",
      "\n",
      "seller_id                 object\n",
      "seller_zip_code_prefix     int64\n",
      "seller_city               object\n",
      "seller_state              object\n",
      "dtype: object\n",
      "\n"
     ]
    }
   ],
   "source": [
    "# Verificando tipos primitivos\n",
    "for name, df in dataframes.items():\n",
    "    print(f'Dataset: {name}\\n')\n",
    "    print(f'{df.dtypes}\\n')"
   ]
  },
  {
   "cell_type": "markdown",
   "metadata": {},
   "source": [
    "As colunas a seguir devem ser transformadas para o tipo *datetime*:\n",
    "\n",
    "    order_purchase_timestamp\n",
    "    order_approved_at\n",
    "    order_delivered_carrier_date\n",
    "    order_delivered_customer_date\n",
    "    order_estimated_delivery_date"
   ]
  },
  {
   "cell_type": "code",
   "execution_count": 10,
   "metadata": {
    "ExecuteTime": {
     "end_time": "2020-03-26T01:57:25.764463Z",
     "start_time": "2020-03-26T01:57:25.293720Z"
    }
   },
   "outputs": [
    {
     "data": {
      "text/plain": [
       "order_id                                 object\n",
       "customer_id                              object\n",
       "order_status                             object\n",
       "order_purchase_timestamp         datetime64[ns]\n",
       "order_approved_at                datetime64[ns]\n",
       "order_delivered_carrier_date     datetime64[ns]\n",
       "order_delivered_customer_date    datetime64[ns]\n",
       "order_estimated_delivery_date    datetime64[ns]\n",
       "dtype: object"
      ]
     },
     "execution_count": 10,
     "metadata": {},
     "output_type": "execute_result"
    }
   ],
   "source": [
    "# Aplicando transformações\n",
    "time_cols = ['order_purchase_timestamp', 'order_approved_at', 'order_delivered_carrier_date',\n",
    "           'order_delivered_customer_date', 'order_estimated_delivery_date']\n",
    "for col in time_cols:\n",
    "    olist_orders[col] = pd.to_datetime(olist_orders[col])\n",
    "    \n",
    "# Verificando\n",
    "olist_orders.dtypes"
   ]
  },
  {
   "cell_type": "markdown",
   "metadata": {},
   "source": [
    "## Exploração Gráfica"
   ]
  },
  {
   "cell_type": "markdown",
   "metadata": {},
   "source": [
    "Para que possa ser criado um melhor relacionamento com os dados, objetivando o ganho de insights a respeito do comportamento de clientes que realizam compras on-line, serão propostas análises gráficas. Esta sessão é de extrema importância para que, ao serem aplicadas técnicas de PLN para identificar o sentimento de clientes a partir de comentários e críticas postadas antes, durante ou após as compras, seja captada a ideia final de uma forma mais ampla, auxiliando assim no entendimento dos resultados obtidos."
   ]
  },
  {
   "cell_type": "markdown",
   "metadata": {},
   "source": [
    "### Evolução do E-Commerce no Brasil"
   ]
  },
  {
   "cell_type": "markdown",
   "metadata": {},
   "source": [
    "Sabe-se que a realização de compras online é uma modalidade que cresce cada dia mais ao redor do mundo. No Brasil, isso não é diferente. Há poucos anos atrás, o receio e a sensação de insegurança eram os principais termos que relacionavam aquisições via e-commerce. Hoje, muitos preferem associar a comodidade e a facilidade para descrever essa modalidade de compra.\n",
    "\n",
    "Os dados propostos refletem essa análise?"
   ]
  },
  {
   "cell_type": "code",
   "execution_count": 11,
   "metadata": {
    "ExecuteTime": {
     "end_time": "2020-03-26T01:57:26.481707Z",
     "start_time": "2020-03-26T01:57:25.766456Z"
    }
   },
   "outputs": [],
   "source": [
    "# Criando nova coluna para ano\n",
    "olist_orders['order_purchase_year'] = \\\n",
    "olist_orders['order_purchase_timestamp'].apply(lambda x: x.year)\n",
    "\n",
    "# Criando nova coluna para mês\n",
    "olist_orders['order_purchase_month'] = \\\n",
    "olist_orders['order_purchase_timestamp'].apply(lambda x: x.month)\n",
    "\n",
    "# Criando nova coluna para dia da semana\n",
    "olist_orders['order_purchase_dayofweek'] = \\\n",
    "olist_orders['order_purchase_timestamp'].apply(lambda x: x.dayofweek)"
   ]
  },
  {
   "cell_type": "markdown",
   "metadata": {},
   "source": [
    "* **Quantidade de Pedidos por Ano**"
   ]
  },
  {
   "cell_type": "code",
   "execution_count": 12,
   "metadata": {
    "ExecuteTime": {
     "end_time": "2020-03-26T01:57:26.722790Z",
     "start_time": "2020-03-26T01:57:26.482636Z"
    }
   },
   "outputs": [
    {
     "data": {
      "image/png": "[encoded data removed]",
      "text/plain": [
       "<Figure size 720x360 with 1 Axes>"
      ]
     },
     "metadata": {
      "needs_background": "light"
     },
     "output_type": "display_data"
    }
   ],
   "source": [
    "# Preparando plotagem\n",
    "fig, ax = plt.subplots(figsize=(10, 5))\n",
    "ax = sns.countplot(x='order_purchase_year', data=olist_orders, palette='Blues_d')\n",
    "format_spines(ax, right_border=False)\n",
    "\n",
    "# Mostrando frequência\n",
    "ncount = len(olist_orders)\n",
    "for p in ax.patches:\n",
    "    x=p.get_bbox().get_points()[:,0]\n",
    "    y=p.get_bbox().get_points()[1,1]\n",
    "    ax.annotate('{:.1f}%'.format(100.*y/ncount), (x.mean(), y), \n",
    "            ha='center', va='bottom', size=12)\n",
    "\n",
    "ax.set_title('Quantidade de Pedidos On-line por Ano', size=14)\n",
    "ax.set_ylabel('Pedidos')\n",
    "ax.set_xlabel('Ano')\n",
    "\n",
    "plt.tight_layout()\n",
    "plt.show()"
   ]
  },
  {
   "cell_type": "markdown",
   "metadata": {},
   "source": [
    "Realmente é possível notar um crescimento na quantidade de compras online feitas entre 2017 e 2018. Entretanto, é preciso ter cuidado com o valor extremamente baixo relacionado ao ano de 2016. É possível que o conjunto de dados não contemple a totalidade deste ano."
   ]
  },
  {
   "cell_type": "code",
   "execution_count": 13,
   "metadata": {
    "ExecuteTime": {
     "end_time": "2020-03-26T01:57:26.732732Z",
     "start_time": "2020-03-26T01:57:26.724753Z"
    }
   },
   "outputs": [
    {
     "name": "stdout",
     "output_type": "stream",
     "text": [
      "Data mínima presente: 2016-09-04 21:15:19\n",
      "Data máxima presente: 2018-10-17 17:30:18\n"
     ]
    }
   ],
   "source": [
    "# Range das amostras\n",
    "print(f'Data mínima presente: {olist_orders[\"order_purchase_timestamp\"].min()}')\n",
    "print(f'Data máxima presente: {olist_orders[\"order_purchase_timestamp\"].max()}')"
   ]
  },
  {
   "cell_type": "markdown",
   "metadata": {},
   "source": [
    "* **Total de Vendas ao Longo do Tempo**"
   ]
  },
  {
   "cell_type": "code",
   "execution_count": 14,
   "metadata": {
    "ExecuteTime": {
     "end_time": "2020-03-26T01:57:27.008260Z",
     "start_time": "2020-03-26T01:57:26.734727Z"
    }
   },
   "outputs": [],
   "source": [
    "# Unindo datasets de pedidos e itens\n",
    "df_orders_items = olist_orders.merge(olist_order_items, on='order_id', how='inner')\n",
    "\n",
    "# Criando uma coluna para somar o valor do item + frete\n",
    "df_orders_items['total_sales'] = df_orders_items['price'] + df_orders_items['freight_value']\n",
    "\n",
    "# Agrupando datasets por vendas mensais e anuais\n",
    "df_sales = df_orders_items.groupby(['order_purchase_year', 'order_purchase_month'], \n",
    "                         as_index=False).sum()\n",
    "df_sales = df_sales.loc[:, ['order_purchase_year', 'order_purchase_month', 'total_sales']]\n",
    "\n",
    "# Separando conjuntos por ano\n",
    "df_sales_2016 = df_sales[df_sales['order_purchase_year']==2016]\n",
    "df_sales_2017 = df_sales[df_sales['order_purchase_year']==2017]\n",
    "df_sales_2018 = df_sales[df_sales['order_purchase_year']==2018]"
   ]
  },
  {
   "cell_type": "code",
   "execution_count": 15,
   "metadata": {
    "ExecuteTime": {
     "end_time": "2020-03-26T01:57:27.058126Z",
     "start_time": "2020-03-26T01:57:27.011250Z"
    }
   },
   "outputs": [],
   "source": [
    "# Preenchendo meses não presentes nos datasets\n",
    "months = np.arange(1, 13)\n",
    "df_append = pd.DataFrame({})\n",
    "grouped_dfs = df_sales_2016, df_sales_2017, df_sales_2018\n",
    "years = [2016, 2017, 2018]\n",
    "idx = 0\n",
    "\n",
    "# Laço para preenchimento dos dados\n",
    "for df in grouped_dfs:\n",
    "    for month in months:\n",
    "        # Se existe um mês não presente no dataset\n",
    "        if month not in df['order_purchase_month'].values:\n",
    "            dict_append = {\n",
    "                'order_purchase_year': years[idx],\n",
    "                'order_purchase_month': month,\n",
    "                'total_sales': 0\n",
    "            }\n",
    "            df_append = df_append.append(dict_append, ignore_index=True)\n",
    "    # Insere o dicionário no dataset e ordena\n",
    "    df = df.append(df_append).astype(int)\n",
    "    df.sort_values(by='order_purchase_month', inplace=True)\n",
    "    df_append = pd.DataFrame({})\n",
    "    # Atribui os resultados aos respectivos conjuntos\n",
    "    if idx == 0:\n",
    "        df_sales_2016 = df\n",
    "    elif idx == 1:\n",
    "        df_sales_2017 = df\n",
    "    else:\n",
    "        df_sales_2018 = df\n",
    "    idx += 1"
   ]
  },
  {
   "cell_type": "code",
   "execution_count": 16,
   "metadata": {
    "ExecuteTime": {
     "end_time": "2020-03-26T01:57:27.760246Z",
     "start_time": "2020-03-26T01:57:27.060143Z"
    }
   },
   "outputs": [
    {
     "data": {
      "image/png": "[encoded data removed]",
      "text/plain": [
       "<Figure size 864x864 with 3 Axes>"
      ]
     },
     "metadata": {
      "needs_background": "light"
     },
     "output_type": "display_data"
    }
   ],
   "source": [
    "# Quantidade de vendas online por mês (neste dataset)\n",
    "fig, axs = plt.subplots(3, 1, figsize=(12, 12))\n",
    "bar_plot(x='order_purchase_month', y='total_sales', df=df_sales_2016, ax=axs[0], value=True)\n",
    "bar_plot(x='order_purchase_month', y='total_sales', df=df_sales_2017, ax=axs[1], value=True)\n",
    "bar_plot(x='order_purchase_month', y='total_sales', df=df_sales_2018, ax=axs[2], value=True)\n",
    "\n",
    "# Formatando\n",
    "axs_list = axs[0], axs[1], axs[2]\n",
    "for ax in axs_list:\n",
    "    format_spines(ax, right_border=False)\n",
    "    ax.set_xlabel('Mês da Compra')\n",
    "    ax.set_ylabel('Total de Vendas (R$)')\n",
    "axs[0].set_title('Total de Vendas Mensais em 2016', size=14)\n",
    "axs[1].set_title('Total de Vendas Mensais em 2017', size=14)\n",
    "axs[2].set_title('Total de Vendas Mensais em 2018', size=14, pad=10)\n",
    "plt.tight_layout()\n",
    "plt.show()"
   ]
  },
  {
   "cell_type": "markdown",
   "metadata": {},
   "source": [
    "* **Report de Evolução de Vendas**"
   ]
  },
  {
   "cell_type": "code",
   "execution_count": 17,
   "metadata": {
    "ExecuteTime": {
     "end_time": "2020-03-26T01:57:28.787534Z",
     "start_time": "2020-03-26T01:57:27.777201Z"
    }
   },
   "outputs": [
    {
     "data": {
      "image/png": "[encoded data removed]",
      "text/plain": [
       "<Figure size 936x720 with 3 Axes>"
      ]
     },
     "metadata": {
      "needs_background": "light"
     },
     "output_type": "display_data"
    }
   ],
   "source": [
    "fig = plt.figure(constrained_layout=True, figsize=(13, 10))\n",
    "\n",
    "# Definição dos eixos\n",
    "gs = GridSpec(2, 2, figure=fig)\n",
    "ax1 = fig.add_subplot(gs[1, :])\n",
    "ax2 = fig.add_subplot(gs[0, 0])\n",
    "ax3 = fig.add_subplot(gs[0, 1])\n",
    "\n",
    "# --------- Evolução de Vendas Online ------------\n",
    "\n",
    "# Criando coluna ano-mês para ordenação dos dados\n",
    "df_sales['order_purchase_month'] = df_sales['order_purchase_month'].astype(str).\\\n",
    "apply(lambda x: '0' + x if len(x) == 1 else x)\n",
    "df_sales['month_year'] = df_sales['order_purchase_year'].astype(str) + '-' + \\\n",
    "df_sales['order_purchase_month'].astype(str)\n",
    "\n",
    "# Modificando tipo primitivo dessa coluna\n",
    "df_sales['order_purchase_month'] = df_sales['order_purchase_month'].astype(int)\n",
    "\n",
    "# Plotando\n",
    "sns.lineplot(x='month_year', y='total_sales', data=df_sales.iloc[:-1, :], ax=ax1)\n",
    "format_spines(ax1, right_border=False)\n",
    "ax1.tick_params(axis='x', labelrotation=90)\n",
    "ax1.set_xlabel('Período', labelpad=20)\n",
    "ax1.set_ylabel('Vendas (R$)')\n",
    "ax1.set_title('Evolução de Vendas Online', size=14)\n",
    "\n",
    "\n",
    "# --------- Evolução das Vendas nos Últimos Dois Anos ------------\n",
    "\n",
    "# Cruzando dados de 2017 e 2018\n",
    "sns.lineplot(x='order_purchase_month', y='total_sales', data=df_sales_2017, label='2017', ax=ax2)\n",
    "sns.lineplot(x='order_purchase_month', y='total_sales', \n",
    "                  data=df_sales_2018.iloc[:-4, :], label='2018', ax=ax2)\n",
    "format_spines(ax2, right_border=False)\n",
    "ax2.set_xlabel('Período', labelpad=15)\n",
    "ax2.set_ylabel('Vendas (R$)')\n",
    "ax2.set_title('Evolução de Vendas nos Últimos Dois Anos', size=14)\n",
    "ax2.set_xticks(np.arange(13))\n",
    "ax2.set_xticklabels(['', 'Jan', 'Feb', 'Mar', 'Apr', 'May', 'Jun', 'Jul', 'Aug', 'Sep', \n",
    "                           'Oct', 'Nov', 'Dec'])\n",
    "\n",
    "# --------- Média de Vendas por Dia da Semana ------------\n",
    "\n",
    "# Média de vendas\n",
    "df_sales_dow_mean = \\\n",
    "df_orders_items.groupby(['order_purchase_year', 'order_purchase_dayofweek'], \n",
    "                        as_index=False).mean().iloc[:, np.c_[0, 1, 6][0]]\n",
    "\n",
    "# Plotando\n",
    "bar_plot(x='order_purchase_dayofweek', y='total_sales', ax=ax3,\n",
    "         df=df_sales_dow_mean, colors='YlGnBu', value=True)\n",
    "ax3.set_xlabel('Dia da Semana', labelpad=15)\n",
    "ax3.set_ylabel('Média de Vendas (R$)')\n",
    "ax3.set_title('Média de Vendas por Dia da Semana', size=14)\n",
    "format_spines(ax3, right_border=False)\n",
    "ax3.set_xticks(np.arange(7))\n",
    "ax3.set_xticklabels(['Mon', 'Tue', 'Wed', 'Thu', 'Fri', 'Sat', 'Sun'])\n",
    "\n",
    "plt.show()"
   ]
  },
  {
   "cell_type": "markdown",
   "metadata": {},
   "source": [
    "### E-Commerce nos Estados Brasileiros"
   ]
  },
  {
   "cell_type": "markdown",
   "metadata": {},
   "source": [
    "Após entender um pouco mais sobre como o e-commerce no Brasil vem evoluindo e como isso se transmite a partir do conjunto de dados utilizado, será proposta uma análise que leva em consideração a atuação do comércio online em cada um dos estados brasileiros."
   ]
  },
  {
   "cell_type": "markdown",
   "metadata": {},
   "source": [
    "* **Total de Vendas Online por Estado**"
   ]
  },
  {
   "cell_type": "code",
   "execution_count": 18,
   "metadata": {
    "ExecuteTime": {
     "end_time": "2020-03-26T01:57:29.338873Z",
     "start_time": "2020-03-26T01:57:28.789496Z"
    }
   },
   "outputs": [
    {
     "data": {
      "image/png": "[encoded data removed]",
      "text/plain": [
       "<Figure size 936x720 with 1 Axes>"
      ]
     },
     "metadata": {
      "needs_background": "light"
     },
     "output_type": "display_data"
    }
   ],
   "source": [
    "# Unindo dataset de clientes\n",
    "df_sales_customer = df_orders_items.merge(olist_customer, on='customer_id', how='inner')\n",
    "\n",
    "# Agrupando total de vendas por estado\n",
    "df_sales_state = df_sales_customer.groupby(['customer_state'], \n",
    "                                          as_index=False).sum().iloc[:, np.c_[(0, -2, -3)][0]]\n",
    "df_sales_state.sort_values(by='total_sales', ascending=False, inplace=True)\n",
    "\n",
    "fig, ax = plt.subplots(figsize=(13, 10))\n",
    "sns.barplot(x='total_sales', y='customer_state', data=df_sales_state, ci=None,\n",
    "                 palette='Blues_d')\n",
    "format_spines(ax, right_border=False)\n",
    "ax.set_title('Total de Vendas Online por Estado', size=14)\n",
    "ax.set_xlabel('Total de Vendas (R$)')\n",
    "ax.set_ylabel('Estado')\n",
    "plt.show()"
   ]
  },
  {
   "cell_type": "markdown",
   "metadata": {},
   "source": [
    "* **Visão Geográfica do E-Commerce no Brasil**"
   ]
  },
  {
   "cell_type": "code",
   "execution_count": 19,
   "metadata": {
    "ExecuteTime": {
     "end_time": "2020-03-26T01:57:29.570290Z",
     "start_time": "2020-03-26T01:57:29.340868Z"
    }
   },
   "outputs": [
    {
     "ename": "NameError",
     "evalue": "name 'gpd' is not defined",
     "output_type": "error",
     "traceback": [
      "\u001b[1;31m---------------------------------------------------------------------------\u001b[0m",
      "\u001b[1;31mNameError\u001b[0m                                 Traceback (most recent call last)",
      "\u001b[1;32m<ipython-input-19-ef337829fc33>\u001b[0m in \u001b[0;36m<module>\u001b[1;34m\u001b[0m\n\u001b[0;32m      1\u001b[0m \u001b[0murl\u001b[0m \u001b[1;33m=\u001b[0m \u001b[1;34m'https://raw.githubusercontent.com/luizpedone/municipal-brazilian-geodata/master/data'\u001b[0m\u001b[1;33m\u001b[0m\u001b[1;33m\u001b[0m\u001b[0m\n\u001b[0;32m      2\u001b[0m \u001b[0mworld_geo\u001b[0m \u001b[1;33m=\u001b[0m \u001b[1;34mf'{url}/Brasil.json'\u001b[0m\u001b[1;33m\u001b[0m\u001b[1;33m\u001b[0m\u001b[0m\n\u001b[1;32m----> 3\u001b[1;33m \u001b[0mjson_data\u001b[0m \u001b[1;33m=\u001b[0m \u001b[0mgpd\u001b[0m\u001b[1;33m.\u001b[0m\u001b[0mread_file\u001b[0m\u001b[1;33m(\u001b[0m\u001b[1;34mf'{url}/Brasil.json'\u001b[0m\u001b[1;33m)\u001b[0m\u001b[1;33m\u001b[0m\u001b[1;33m\u001b[0m\u001b[0m\n\u001b[0m",
      "\u001b[1;31mNameError\u001b[0m: name 'gpd' is not defined"
     ]
    }
   ],
   "source": [
    "url = 'https://raw.githubusercontent.com/luizpedone/municipal-brazilian-geodata/master/data'\n",
    "world_geo = f'{url}/Brasil.json'\n",
    "json_data = gpd.read_file(f'{url}/Brasil.json')"
   ]
  },
  {
   "cell_type": "code",
   "execution_count": 20,
   "metadata": {
    "ExecuteTime": {
     "end_time": "2020-03-26T01:57:37.523855Z",
     "start_time": "2020-03-26T01:57:37.499895Z"
    }
   },
   "outputs": [
    {
     "ename": "NameError",
     "evalue": "name 'json_data' is not defined",
     "output_type": "error",
     "traceback": [
      "\u001b[1;31m---------------------------------------------------------------------------\u001b[0m",
      "\u001b[1;31mNameError\u001b[0m                                 Traceback (most recent call last)",
      "\u001b[1;32m<ipython-input-20-bf0b526a6d0e>\u001b[0m in \u001b[0;36m<module>\u001b[1;34m\u001b[0m\n\u001b[1;32m----> 1\u001b[1;33m \u001b[0mbrazilian_data\u001b[0m \u001b[1;33m=\u001b[0m \u001b[0mjson_data\u001b[0m\u001b[1;33m.\u001b[0m\u001b[0mmerge\u001b[0m\u001b[1;33m(\u001b[0m\u001b[0mdf_sales_state\u001b[0m\u001b[1;33m,\u001b[0m \u001b[0mleft_on\u001b[0m\u001b[1;33m=\u001b[0m\u001b[1;34m'UF'\u001b[0m\u001b[1;33m,\u001b[0m \u001b[0mright_on\u001b[0m\u001b[1;33m=\u001b[0m\u001b[1;34m'customer_state'\u001b[0m\u001b[1;33m,\u001b[0m \u001b[0mhow\u001b[0m\u001b[1;33m=\u001b[0m\u001b[1;34m'left'\u001b[0m\u001b[1;33m)\u001b[0m\u001b[1;33m.\u001b[0m\u001b[0mfillna\u001b[0m\u001b[1;33m(\u001b[0m\u001b[1;36m0\u001b[0m\u001b[1;33m)\u001b[0m\u001b[1;33m\u001b[0m\u001b[1;33m\u001b[0m\u001b[0m\n\u001b[0m\u001b[0;32m      2\u001b[0m \u001b[0mbrazilian_data\u001b[0m\u001b[1;33m[\u001b[0m\u001b[1;34m'total_sales_plot'\u001b[0m\u001b[1;33m]\u001b[0m \u001b[1;33m=\u001b[0m \u001b[0mbrazilian_data\u001b[0m\u001b[1;33m[\u001b[0m\u001b[1;34m'total_sales'\u001b[0m\u001b[1;33m]\u001b[0m\u001b[1;33m.\u001b[0m\u001b[0mapply\u001b[0m\u001b[1;33m(\u001b[0m\u001b[1;32mlambda\u001b[0m \u001b[0mx\u001b[0m\u001b[1;33m:\u001b[0m \u001b[0mround\u001b[0m\u001b[1;33m(\u001b[0m\u001b[0mx\u001b[0m\u001b[1;33m/\u001b[0m\u001b[1;36m1000\u001b[0m\u001b[1;33m,\u001b[0m \u001b[1;36m1\u001b[0m\u001b[1;33m)\u001b[0m\u001b[1;33m)\u001b[0m\u001b[1;33m.\u001b[0m\u001b[0mastype\u001b[0m\u001b[1;33m(\u001b[0m\u001b[0mstr\u001b[0m\u001b[1;33m)\u001b[0m\u001b[1;33m\u001b[0m\u001b[1;33m\u001b[0m\u001b[0m\n\u001b[0;32m      3\u001b[0m \u001b[0mbrazilian_data\u001b[0m\u001b[1;33m[\u001b[0m\u001b[1;34m'total_sales_plot'\u001b[0m\u001b[1;33m]\u001b[0m \u001b[1;33m=\u001b[0m \u001b[0mbrazilian_data\u001b[0m\u001b[1;33m[\u001b[0m\u001b[1;34m'total_sales_plot'\u001b[0m\u001b[1;33m]\u001b[0m\u001b[1;33m.\u001b[0m\u001b[0mapply\u001b[0m\u001b[1;33m(\u001b[0m\u001b[1;32mlambda\u001b[0m \u001b[0mx\u001b[0m\u001b[1;33m:\u001b[0m \u001b[0mx\u001b[0m \u001b[1;33m+\u001b[0m \u001b[1;34m'k'\u001b[0m\u001b[1;33m)\u001b[0m\u001b[1;33m\u001b[0m\u001b[1;33m\u001b[0m\u001b[0m\n\u001b[0;32m      4\u001b[0m \u001b[1;33m\u001b[0m\u001b[0m\n\u001b[0;32m      5\u001b[0m m = folium.Map(\n",
      "\u001b[1;31mNameError\u001b[0m: name 'json_data' is not defined"
     ]
    }
   ],
   "source": [
    "brazilian_data = json_data.merge(df_sales_state, left_on='UF', right_on='customer_state', how='left').fillna(0)\n",
    "brazilian_data['total_sales_plot'] = brazilian_data['total_sales'].apply(lambda x: round(x/1000, 1)).astype(str)\n",
    "brazilian_data['total_sales_plot'] = brazilian_data['total_sales_plot'].apply(lambda x: x + 'k')\n",
    "\n",
    "m = folium.Map(\n",
    "    location=[-16.5, -52.6], \n",
    "    zoom_start=4,\n",
    "    tiles='stamenwatercolor'\n",
    ")\n",
    "\n",
    "folium.Choropleth(\n",
    "    geo_data=json_data,\n",
    "    name='Online Sales',\n",
    "    data=df_sales_state,\n",
    "    columns=['customer_state', 'total_sales'],\n",
    "    key_on='feature.properties.UF',\n",
    "    fill_color='YlOrRd',\n",
    "    fill_opacity=0.7,\n",
    "    line_opacity=0.2,\n",
    "    nan_fill_color='white',\n",
    "    nan_fill_opacity=0.9,\n",
    "    legend_name='Online Sales',\n",
    ").add_to(m)\n",
    "\n",
    "Fullscreen(\n",
    "    position='topright',\n",
    "    title='Expand me',\n",
    "    title_cancel='Exit me',\n",
    "    force_separate_button=True\n",
    ").add_to(m)\n",
    "\n",
    "folium.GeoJson(\n",
    "    brazilian_data,\n",
    "    style_function=style_function,\n",
    "    highlight_function=highlight_function,\n",
    "    tooltip=folium.GeoJsonTooltip(fields=['ESTADO', 'total_sales_plot'],\n",
    "                                  aliases=['State:', 'Total Sales:'],\n",
    "                                  labels=True,\n",
    "                                  sticky=True)\n",
    ").add_to(m)\n",
    "\n",
    "m"
   ]
  },
  {
   "cell_type": "markdown",
   "metadata": {},
   "source": [
    "Para a próxima plotagem gráfica, serão realizados alguns preparativos nos dados com o objetivo de criar uma visão geral sobre os Estados considerando:\n",
    "* **Valor do frete**\n",
    "* **Tempo médio de entrega**\n",
    "* **Diferença entre data estimativa e data de entrega**"
   ]
  },
  {
   "cell_type": "code",
   "execution_count": 21,
   "metadata": {
    "ExecuteTime": {
     "end_time": "2020-03-26T01:57:39.915022Z",
     "start_time": "2020-03-26T01:57:38.484845Z"
    }
   },
   "outputs": [],
   "source": [
    "# Calculando dias úteis de entrega\n",
    "df_delivery_time = add_series_working_days(series_name='time_to_delivery', \n",
    "                                           df=df_sales_customer,\n",
    "                                           date_col1 = 'order_purchase_timestamp', \n",
    "                                           date_col2 = 'order_delivered_customer_date')\n",
    "\n",
    "# Agrupando tempo médio de entrega por estado\n",
    "df_delivery_time = df_delivery_time.groupby(['customer_state'], as_index=False).mean()\n",
    "df_delivery_time = df_delivery_time.iloc[:, np.c_[(0, -1)][0]]\n",
    "\n",
    "# Calculando dias úteis entre a data de entrega e a data estimada\n",
    "df_diff_est_deliv = add_series_working_days(series_name='diff_est_deliv', \n",
    "                                           df=df_sales_customer,\n",
    "                                           date_col1 = 'order_delivered_customer_date', \n",
    "                                           date_col2 = 'order_estimated_delivery_date')\n",
    "\n",
    "# Agrupando tempo médio de entrega por estado\n",
    "df_diff_est_deliv = df_diff_est_deliv.groupby(['customer_state'], as_index=False).mean()\n",
    "df_diff_est_deliv = df_diff_est_deliv.iloc[:, np.c_[(0, -1)][0]]\n",
    "df_diff_est_deliv['diff_est_deliv'] = df_diff_est_deliv['diff_est_deliv'].astype(int)\n",
    "\n",
    "# Calculando parâmetros informativos\n",
    "df_mean_freight = df_sales_customer.groupby(['customer_state'], \n",
    "                                as_index=False).mean().iloc[:, np.c_[(0, -2, -3)][0]]\n",
    "mean_freight_value = df_mean_freight['freight_value'].mean()\n",
    "mean_delivery_time = df_delivery_time['time_to_delivery'].mean()\n",
    "mean_diff_estimative = df_diff_est_deliv['diff_est_deliv'].mean()"
   ]
  },
  {
   "cell_type": "code",
   "execution_count": 22,
   "metadata": {
    "ExecuteTime": {
     "end_time": "2020-03-26T01:57:39.930978Z",
     "start_time": "2020-03-26T01:57:39.919011Z"
    }
   },
   "outputs": [],
   "source": [
    "def communicate_params(frete, entrega, estimativa):\n",
    "    \"\"\"\n",
    "    Função adicional criada para auxiliar na plotagem gráfica do dashboard de análise por estado\n",
    "    \n",
    "    Input:\n",
    "        frete: valor do frete a ser plotado no gráfico em formato de texto\n",
    "        entrega: tempo médio de entrega a ser plotado no gráfico em formato de texto\n",
    "        estimativa: diferença entre estimativa e entrega ser plotada no gráfico em formato de texto\n",
    "    \n",
    "    Returns:\n",
    "        None\n",
    "    \"\"\"\n",
    "    # Comunicando o frete\n",
    "    axs[0, 0].text(0.10, 0.30, f'R${frete:.2f}', fontsize=45)\n",
    "    axs[0, 0].text(0.20, 0.12, 'é o valor médio de frete', fontsize=12)\n",
    "    axs[0, 0].text(0.25, 0.00, 'para compras online', fontsize=12)\n",
    "    axs[0, 0].axis('off')\n",
    "\n",
    "    # Comunicando tempo médio de entrega\n",
    "    axs[0, 1].text(0.13, 0.30, f'{entrega:.2f}', fontsize=45)\n",
    "    axs[0, 1].text(0.66, 0.30, 'dias úteis', fontsize=12)\n",
    "    axs[0, 1].text(0.12, 0.12, 'é o tempo médio de entrega', fontsize=12)\n",
    "    axs[0, 1].text(0.23, 0.00, 'para compras online', fontsize=12)\n",
    "    axs[0, 1].axis('off')\n",
    "\n",
    "    # Comunicando diferença entre tempo de entrega e tempo estimado\n",
    "    axs[0, 2].text(0.18, 0.30, f'{estimativa:.2f}', fontsize=45)\n",
    "    axs[0, 2].text(0.62, 0.30, 'dias úteis', fontsize=12)\n",
    "    axs[0, 2].text(0.17, 0.12, 'é a diferença entre a data', fontsize=12)\n",
    "    axs[0, 2].text(0.13, 0.00, 'estimada e a data de entrega', fontsize=12)\n",
    "    axs[0, 2].axis('off') "
   ]
  },
  {
   "cell_type": "code",
   "execution_count": 23,
   "metadata": {
    "ExecuteTime": {
     "end_time": "2020-03-26T01:57:43.903817Z",
     "start_time": "2020-03-26T01:57:42.762867Z"
    }
   },
   "outputs": [
    {
     "data": {
      "image/png": "[encoded data removed]",
      "text/plain": [
       "<Figure size 864x576 with 9 Axes>"
      ]
     },
     "metadata": {
      "needs_background": "light"
     },
     "output_type": "display_data"
    }
   ],
   "source": [
    "# Plotando\n",
    "fig, axs = plt.subplots(3, 3, figsize=(12, 8))\n",
    "communicate_params(mean_freight_value, mean_delivery_time, mean_diff_estimative)\n",
    "\n",
    "# Plotando informações de frete\n",
    "plot_param(df=df_mean_freight, col='freight_value', \n",
    "           title='Top 5 Estados com \\nMaior Valor de Frete', xlim=45, n_row=1, n_col=0, xlabel='Frete Médio')\n",
    "\n",
    "# Plotando informações sobre tempo de entrega\n",
    "plot_param(df=df_delivery_time, col='time_to_delivery', \n",
    "           title='Top 5 Estados com \\nMaior Tempo de Entrega', xlim=21, n_row=1, n_col=1, \n",
    "           xlabel='Tempo Médio de Entrega')\n",
    "\n",
    "# Plotando informações sobre diferença entre data de entrega e data estimada\n",
    "plot_param(df=df_diff_est_deliv, col='diff_est_deliv', \n",
    "           title='Top 5 Estados com Maior Diferença \\nEntre Entrega e Estimativa', \n",
    "           xlim=15, n_row=1, n_col=2, xlabel='Diff Tempo Estimado e de Entrega')\n",
    "\n",
    "plt.suptitle('Estudo Comparativo: E-Commerce nos Estados Brasileiros', size=16)\n",
    "plt.tight_layout()\n",
    "plt.show()"
   ]
  },
  {
   "cell_type": "markdown",
   "metadata": {},
   "source": [
    "### Formas de Pagamento Online"
   ]
  },
  {
   "cell_type": "markdown",
   "metadata": {},
   "source": [
    "Neste tópico, serão estudados as formas de pagamento mais comuns encontrada em transações online."
   ]
  },
  {
   "cell_type": "markdown",
   "metadata": {},
   "source": [
    "* **Frequência de Métodos de Pagamento e Evolução ao Longo do Tempo**"
   ]
  },
  {
   "cell_type": "code",
   "execution_count": 24,
   "metadata": {
    "ExecuteTime": {
     "end_time": "2020-03-26T01:57:45.548417Z",
     "start_time": "2020-03-26T01:57:45.279137Z"
    }
   },
   "outputs": [],
   "source": [
    "# Evolução de meios de pagamento\n",
    "df_orders_payments = olist_orders.merge(olist_order_payments, on='order_id', how='left')\n",
    "payments_evolution = df_orders_payments.groupby(by=['order_purchase_year', 'order_purchase_month',\n",
    "                                                    'payment_type'], as_index=False).count().iloc[:, :4]\n",
    "\n",
    "payments_evolution = payments_evolution.query('payment_type != \"not_defined\"')\n",
    "\n",
    "# Transformando coluna mês para correta ordenação na plotagem\n",
    "payments_evolution['order_purchase_month'] = payments_evolution['order_purchase_month'].astype(str).\\\n",
    "apply(lambda x: '0' + x if len(x) == 1 else x)\n",
    "\n",
    "# Criando nova coluna com ano-mês\n",
    "payments_evolution['month_year'] = payments_evolution['order_purchase_year'].astype(str) + '-' + \\\n",
    "payments_evolution['order_purchase_month'].astype(str)\n",
    "\n",
    "# Retornando o tipo primitivo da coluna mês\n",
    "payments_evolution['order_purchase_month'] = payments_evolution['order_purchase_month'].astype(int)"
   ]
  },
  {
   "cell_type": "code",
   "execution_count": 25,
   "metadata": {
    "ExecuteTime": {
     "end_time": "2020-03-26T01:57:48.024798Z",
     "start_time": "2020-03-26T01:57:47.132182Z"
    }
   },
   "outputs": [
    {
     "data": {
      "image/png": "[encoded data removed]",
      "text/plain": [
       "<Figure size 720x720 with 3 Axes>"
      ]
     },
     "metadata": {
      "needs_background": "light"
     },
     "output_type": "display_data"
    }
   ],
   "source": [
    "fig = plt.figure(constrained_layout=True, figsize=(10, 10))\n",
    "\n",
    "# Definindo eixos\n",
    "gs = GridSpec(2, 2, figure=fig)\n",
    "ax1 = fig.add_subplot(gs[0, 0])\n",
    "ax2 = fig.add_subplot(gs[0, 1])\n",
    "ax3 = fig.add_subplot(gs[1, :])\n",
    "\n",
    "# Plotando receita total\n",
    "total_transacoes = len(olist_order_payments)\n",
    "total_pagamentos = olist_order_payments['payment_value'].sum()\n",
    "ax1.text(0.12, 0.65, f'{str(total_transacoes)[:3]}.', fontsize=30, color='navy')\n",
    "ax1.text(0.33, 0.65, f'{str(total_transacoes)[3:]}', fontsize=30, color='navy')\n",
    "ax1.text(0.00, 0.57, 'é o número total de pagamentos', fontsize=12)\n",
    "ax1.text(0.00, 0.37, f'R${str(total_pagamentos)[:2]}.', fontsize=25, color='navy')\n",
    "ax1.text(0.23, 0.37, f'{str(total_pagamentos)[2:5]}.', fontsize=25, color='navy')\n",
    "ax1.text(0.40, 0.37, f'{str(total_pagamentos)[5:8]},', fontsize=25, color='navy')\n",
    "ax1.text(0.57, 0.37, f'{str(total_pagamentos)[9:]}', fontsize=25, color='navy')\n",
    "ax1.text(0.05, 0.28, 'é o valor total movimentado', fontsize=12)\n",
    "ax1.axis('off')\n",
    "\n",
    "# Plotando proporção de métodos de pagamento\n",
    "payments_labels = olist_order_payments['payment_type'].value_counts().index\n",
    "text = f'Total de \\nTransações\\n\\n{total_transacoes}'\n",
    "colors = ['navy', 'steelblue', 'lightsteelblue', 'powderblue']\n",
    "donut_plot('payment_type', ax2, olist_order_payments, labels=payments_labels, text='', \n",
    "           colors=colors, flag_ruido=1)\n",
    "#ax.set_title('Métodos de Pagamentos em Compras Online', size=14)\n",
    "\n",
    "# Plotando evolução de vendas por método de pagamento\n",
    "sns.lineplot(x='month_year', y='order_id', data=payments_evolution, hue='payment_type', ax=ax3)\n",
    "format_spines(ax3, right_border=False)\n",
    "ax3.tick_params(axis='x', labelrotation=90)\n",
    "ax3.set_xlabel('Período', labelpad=20)\n",
    "ax3.set_ylabel('Total de Transações')\n",
    "ax3.set_title('Evolução de Transações por Métodos de Pagamento', size=14)\n",
    "\n",
    "fig.suptitle(\"Estudo no E-Commerce Brasileiro por Meios de Pagamento\", size=16)    \n",
    "\n",
    "plt.show()"
   ]
  },
  {
   "cell_type": "markdown",
   "metadata": {},
   "source": [
    "### Categorias de Produtos"
   ]
  },
  {
   "cell_type": "code",
   "execution_count": 26,
   "metadata": {
    "ExecuteTime": {
     "end_time": "2020-03-26T01:57:49.835952Z",
     "start_time": "2020-03-26T01:57:49.470933Z"
    }
   },
   "outputs": [],
   "source": [
    "# Unindo datasets e preparando demais datasets para plotagem\n",
    "df_order_products = df_orders_items.merge(olist_products, on='product_id', how='inner')\n",
    "\n",
    "# Quantidade de vendas\n",
    "df_qtd_product = df_order_products.groupby(['product_category_name'], \n",
    "                                             as_index=False).count()\n",
    "df_qtd_product = df_qtd_product.loc[:, ['product_category_name', 'total_sales']]\n",
    "\n",
    "# Receita total\n",
    "df_sales_product = df_order_products.groupby(['product_category_name'], \n",
    "                                             as_index=False).sum()\n",
    "df_sales_product = df_sales_product.loc[:, ['product_category_name', 'total_sales']]\n",
    "\n",
    "# Valor médio por categoria\n",
    "df_mean_product = df_order_products.groupby(['product_category_name'], \n",
    "                                             as_index=False).mean()\n",
    "df_mean_product = df_mean_product.loc[:, ['product_category_name', 'total_sales']]"
   ]
  },
  {
   "cell_type": "markdown",
   "metadata": {},
   "source": [
    "* **Quantidade de Vendas por Categoria**"
   ]
  },
  {
   "cell_type": "code",
   "execution_count": 27,
   "metadata": {
    "ExecuteTime": {
     "end_time": "2020-03-26T01:57:52.019113Z",
     "start_time": "2020-03-26T01:57:51.728889Z"
    }
   },
   "outputs": [
    {
     "data": {
      "image/png": "[encoded data removed]",
      "text/plain": [
       "<Figure size 720x432 with 2 Axes>"
      ]
     },
     "metadata": {
      "needs_background": "light"
     },
     "output_type": "display_data"
    }
   ],
   "source": [
    "# Quantidade de Vendas\n",
    "fig, axs = plt.subplots(2, 1, figsize=(10, 6))\n",
    "plot_param(df=df_qtd_product, col='total_sales', title='Top 5 Categorias com Maior Venda',\n",
    "           xlim=10500, n_row=0, n_col=0, y='product_category_name', div_xlim=100,\n",
    "           one_axis=True)\n",
    "axs[1].set_xlabel('Quantidade de Vendas', labelpad=10)\n",
    "axs[0].set_xlabel('Quantidade de Vendas', labelpad=10)\n",
    "axs[0].set_ylabel('Categoria', labelpad=40)\n",
    "axs[1].set_ylabel('')\n",
    "plt.tight_layout()\n",
    "plt.show()"
   ]
  },
  {
   "cell_type": "markdown",
   "metadata": {},
   "source": [
    "* **Receita Gerada por Categoria**"
   ]
  },
  {
   "cell_type": "code",
   "execution_count": 28,
   "metadata": {
    "ExecuteTime": {
     "end_time": "2020-03-26T01:57:52.336265Z",
     "start_time": "2020-03-26T01:57:52.021108Z"
    }
   },
   "outputs": [
    {
     "data": {
      "image/png": "[encoded data removed]",
      "text/plain": [
       "<Figure size 720x432 with 2 Axes>"
      ]
     },
     "metadata": {
      "needs_background": "light"
     },
     "output_type": "display_data"
    }
   ],
   "source": [
    "# Valor total de Vendas\n",
    "fig, axs = plt.subplots(2, 1, figsize=(10, 6))\n",
    "plot_param(df=df_sales_product, col='total_sales', \n",
    "           title='Top 5 Categorias que Geram Maior Receita',\n",
    "           xlim=1500000, n_row=0, n_col=0, y='product_category_name', div_xlim=100,\n",
    "           one_axis=True)\n",
    "axs[1].set_xlabel('Valor Comercializado (R$)', labelpad=10)\n",
    "axs[0].set_xlabel('Valor Comercializado (R$)', labelpad=10)\n",
    "axs[0].set_ylabel('Categoria', labelpad=40)\n",
    "axs[1].set_ylabel('')\n",
    "plt.tight_layout()\n",
    "plt.show()"
   ]
  },
  {
   "cell_type": "markdown",
   "metadata": {},
   "source": [
    "* **Valor Médio de Produtos por Categoria**"
   ]
  },
  {
   "cell_type": "code",
   "execution_count": 29,
   "metadata": {
    "ExecuteTime": {
     "end_time": "2020-03-26T01:57:52.629482Z",
     "start_time": "2020-03-26T01:57:52.338260Z"
    }
   },
   "outputs": [
    {
     "data": {
      "image/png": "[encoded data removed]",
      "text/plain": [
       "<Figure size 720x432 with 2 Axes>"
      ]
     },
     "metadata": {
      "needs_background": "light"
     },
     "output_type": "display_data"
    }
   ],
   "source": [
    "# Valor médio de produto por categoria\n",
    "fig, axs = plt.subplots(2, 1, figsize=(10, 6))\n",
    "plot_param(df=df_mean_product, col='total_sales', \n",
    "           title='Top 5 Categorias com Maior Valor Médio por Produto',\n",
    "           xlim=1200, n_row=0, n_col=0, y='product_category_name',\n",
    "           one_axis=True)\n",
    "axs[1].set_xlabel('Valor Médio por Produto (R$)', labelpad=10)\n",
    "axs[0].set_xlabel('Valor Médio por Produto (R$)', labelpad=10)\n",
    "axs[0].set_ylabel('Categoria', labelpad=40)\n",
    "axs[1].set_ylabel('')\n",
    "plt.tight_layout()\n",
    "plt.show()"
   ]
  },
  {
   "cell_type": "markdown",
   "metadata": {},
   "source": [
    "### Review Score"
   ]
  },
  {
   "cell_type": "markdown",
   "metadata": {},
   "source": [
    "* **Distribuição de Scores**"
   ]
  },
  {
   "cell_type": "code",
   "execution_count": 30,
   "metadata": {
    "ExecuteTime": {
     "end_time": "2020-03-26T01:57:52.753181Z",
     "start_time": "2020-03-26T01:57:52.631476Z"
    }
   },
   "outputs": [
    {
     "data": {
      "image/png": "[encoded data removed]",
      "text/plain": [
       "<Figure size 648x648 with 1 Axes>"
      ]
     },
     "metadata": {},
     "output_type": "display_data"
    }
   ],
   "source": [
    "reviews_labels = olist_order_reviews['review_score'].value_counts().index\n",
    "total_reviews = len(olist_order_reviews)\n",
    "text = f'Total de Reviews\\n\\n{total_reviews}'\n",
    "colors = ['navy', 'steelblue', 'lightsteelblue', 'powderblue', 'lightcyan']\n",
    "fig, ax = plt.subplots(figsize=(9, 9))\n",
    "donut_plot('review_score', ax, olist_order_reviews, labels=reviews_labels, text=text, colors=colors)\n",
    "ax.set_title('Reviews em Compras Online', size=14)\n",
    "\n",
    "plt.show()"
   ]
  },
  {
   "cell_type": "markdown",
   "metadata": {},
   "source": [
    "# Processamento de Linguagem Natural"
   ]
  },
  {
   "cell_type": "markdown",
   "metadata": {},
   "source": [
    "Após uma análise exploratória nos dados, realizada com o objetivo de propor uma familiarização e uma imersão no contexto do problema de negócio a ser resolvido, os próximos passos irão contemplar, de fato, a aplicação de técnicas de Processamento de Linguagem Natural de acordo com o objetivo proposto.\n",
    "\n",
    "Entre os conjuntos de dados disponibilizados que descrevem fatos sobre o E-Commerce no Brasil, existem informações a respeito de _reviews_ (ou críticas) deixadas por compradores nas plataformas online. O objetivo deste projeto é analisar este dados e propor um algoritmo de classificação de sentimentos para captar como o consumidor se sente a medida que o fluxo de compras via e-commerce ocorre."
   ]
  },
  {
   "cell_type": "markdown",
   "metadata": {},
   "source": [
    "## Contato Inicial com o Dataset"
   ]
  },
  {
   "cell_type": "markdown",
   "metadata": {},
   "source": [
    "Como citado, abaixo encontra-se um exemplo do dataset a ser utilizado."
   ]
  },
  {
   "cell_type": "code",
   "execution_count": 31,
   "metadata": {
    "ExecuteTime": {
     "end_time": "2020-03-26T01:57:52.767112Z",
     "start_time": "2020-03-26T01:57:52.755145Z"
    }
   },
   "outputs": [
    {
     "data": {
      "text/html": [
       "<div>\n",
       "<style scoped>\n",
       "    .dataframe tbody tr th:only-of-type {\n",
       "        vertical-align: middle;\n",
       "    }\n",
       "\n",
       "    .dataframe tbody tr th {\n",
       "        vertical-align: top;\n",
       "    }\n",
       "\n",
       "    .dataframe thead th {\n",
       "        text-align: right;\n",
       "    }\n",
       "</style>\n",
       "<table border=\"1\" class=\"dataframe\">\n",
       "  <thead>\n",
       "    <tr style=\"text-align: right;\">\n",
       "      <th></th>\n",
       "      <th>review_id</th>\n",
       "      <th>order_id</th>\n",
       "      <th>review_score</th>\n",
       "      <th>review_comment_title</th>\n",
       "      <th>review_comment_message</th>\n",
       "      <th>review_creation_date</th>\n",
       "      <th>review_answer_timestamp</th>\n",
       "    </tr>\n",
       "  </thead>\n",
       "  <tbody>\n",
       "    <tr>\n",
       "      <th>0</th>\n",
       "      <td>7bc2406110b926393aa56f80a40eba40</td>\n",
       "      <td>73fc7af87114b39712e6da79b0a377eb</td>\n",
       "      <td>4</td>\n",
       "      <td>NaN</td>\n",
       "      <td>NaN</td>\n",
       "      <td>2018-01-18 00:00:00</td>\n",
       "      <td>2018-01-18 21:46:59</td>\n",
       "    </tr>\n",
       "    <tr>\n",
       "      <th>1</th>\n",
       "      <td>80e641a11e56f04c1ad469d5645fdfde</td>\n",
       "      <td>a548910a1c6147796b98fdf73dbeba33</td>\n",
       "      <td>5</td>\n",
       "      <td>NaN</td>\n",
       "      <td>NaN</td>\n",
       "      <td>2018-03-10 00:00:00</td>\n",
       "      <td>2018-03-11 03:05:13</td>\n",
       "    </tr>\n",
       "    <tr>\n",
       "      <th>2</th>\n",
       "      <td>228ce5500dc1d8e020d8d1322874b6f0</td>\n",
       "      <td>f9e4b658b201a9f2ecdecbb34bed034b</td>\n",
       "      <td>5</td>\n",
       "      <td>NaN</td>\n",
       "      <td>NaN</td>\n",
       "      <td>2018-02-17 00:00:00</td>\n",
       "      <td>2018-02-18 14:36:24</td>\n",
       "    </tr>\n",
       "    <tr>\n",
       "      <th>3</th>\n",
       "      <td>e64fb393e7b32834bb789ff8bb30750e</td>\n",
       "      <td>658677c97b385a9be170737859d3511b</td>\n",
       "      <td>5</td>\n",
       "      <td>NaN</td>\n",
       "      <td>Recebi bem antes do prazo estipulado.</td>\n",
       "      <td>2017-04-21 00:00:00</td>\n",
       "      <td>2017-04-21 22:02:06</td>\n",
       "    </tr>\n",
       "    <tr>\n",
       "      <th>4</th>\n",
       "      <td>f7c4243c7fe1938f181bec41a392bdeb</td>\n",
       "      <td>8e6bfb81e283fa7e4f11123a3fb894f1</td>\n",
       "      <td>5</td>\n",
       "      <td>NaN</td>\n",
       "      <td>Parabéns lojas lannister adorei comprar pela I...</td>\n",
       "      <td>2018-03-01 00:00:00</td>\n",
       "      <td>2018-03-02 10:26:53</td>\n",
       "    </tr>\n",
       "  </tbody>\n",
       "</table>\n",
       "</div>"
      ],
      "text/plain": [
       "                          review_id                          order_id  \\\n",
       "0  7bc2406110b926393aa56f80a40eba40  73fc7af87114b39712e6da79b0a377eb   \n",
       "1  80e641a11e56f04c1ad469d5645fdfde  a548910a1c6147796b98fdf73dbeba33   \n",
       "2  228ce5500dc1d8e020d8d1322874b6f0  f9e4b658b201a9f2ecdecbb34bed034b   \n",
       "3  e64fb393e7b32834bb789ff8bb30750e  658677c97b385a9be170737859d3511b   \n",
       "4  f7c4243c7fe1938f181bec41a392bdeb  8e6bfb81e283fa7e4f11123a3fb894f1   \n",
       "\n",
       "   review_score review_comment_title  \\\n",
       "0             4                  NaN   \n",
       "1             5                  NaN   \n",
       "2             5                  NaN   \n",
       "3             5                  NaN   \n",
       "4             5                  NaN   \n",
       "\n",
       "                              review_comment_message review_creation_date  \\\n",
       "0                                                NaN  2018-01-18 00:00:00   \n",
       "1                                                NaN  2018-03-10 00:00:00   \n",
       "2                                                NaN  2018-02-17 00:00:00   \n",
       "3              Recebi bem antes do prazo estipulado.  2017-04-21 00:00:00   \n",
       "4  Parabéns lojas lannister adorei comprar pela I...  2018-03-01 00:00:00   \n",
       "\n",
       "  review_answer_timestamp  \n",
       "0     2018-01-18 21:46:59  \n",
       "1     2018-03-11 03:05:13  \n",
       "2     2018-02-18 14:36:24  \n",
       "3     2017-04-21 22:02:06  \n",
       "4     2018-03-02 10:26:53  "
      ]
     },
     "execution_count": 31,
     "metadata": {},
     "output_type": "execute_result"
    }
   ],
   "source": [
    "# Dados com críticas de clientes\n",
    "olist_order_reviews.head()"
   ]
  },
  {
   "cell_type": "code",
   "execution_count": 32,
   "metadata": {
    "ExecuteTime": {
     "end_time": "2020-03-26T01:57:52.774094Z",
     "start_time": "2020-03-26T01:57:52.769108Z"
    }
   },
   "outputs": [
    {
     "name": "stdout",
     "output_type": "stream",
     "text": [
      "Este dataset possui 100000 linhas e 7 colunas.\n"
     ]
    }
   ],
   "source": [
    "# Dimensões\n",
    "print(f'Este dataset possui {olist_order_reviews.shape[0]} linhas e {olist_order_reviews.shape[1]} colunas.')"
   ]
  },
  {
   "cell_type": "markdown",
   "metadata": {},
   "source": [
    "Informações disponíveis:\n",
    "\n",
    "* **review_id:** chave primária que identifica a crítica;\n",
    "* **order_id:** chave estrangeira para conectar ao dataset de pedidos;\n",
    "* **review_score:** score dado pelo cliente para cada pedido;\n",
    "* **review_comment_title:** título do comentário deixado pelo cliente;\n",
    "* **review_comment_message:** comentário/crítica deixada pelo cliente;\n",
    "* **review_creation_date:** data da criação do comentário;\n",
    "* **review_answer_timestamp:** data da resposta dada"
   ]
  },
  {
   "cell_type": "markdown",
   "metadata": {},
   "source": [
    "Já no cabeçalho dos dados, é possível visualizar dados nulos. "
   ]
  },
  {
   "cell_type": "code",
   "execution_count": 33,
   "metadata": {
    "ExecuteTime": {
     "end_time": "2020-03-26T01:57:52.812989Z",
     "start_time": "2020-03-26T01:57:52.777089Z"
    }
   },
   "outputs": [
    {
     "data": {
      "text/plain": [
       "review_id                      0\n",
       "order_id                       0\n",
       "review_score                   0\n",
       "review_comment_title       88285\n",
       "review_comment_message     58247\n",
       "review_creation_date           0\n",
       "review_answer_timestamp        0\n",
       "dtype: int64"
      ]
     },
     "execution_count": 33,
     "metadata": {},
     "output_type": "execute_result"
    }
   ],
   "source": [
    "# Dados nulos\n",
    "olist_order_reviews.isnull().sum()"
   ]
  },
  {
   "cell_type": "markdown",
   "metadata": {},
   "source": [
    "Os dados nulos presentes concentram-se nas colunas de título e de mensagem da crítica/comentário. É possível que exista uma relação entre ambos, como por exemplo, títulos não existentes estão relacionados a críticas não existentes e vice e versa. Para visualizar essa correlação entre dados nulos, será utilizada a biblioteca [_missigno_](https://github.com/ResidentMario/missingno)."
   ]
  },
  {
   "cell_type": "code",
   "execution_count": 34,
   "metadata": {
    "ExecuteTime": {
     "end_time": "2020-03-26T01:57:53.371497Z",
     "start_time": "2020-03-26T01:57:52.813987Z"
    }
   },
   "outputs": [
    {
     "data": {
      "image/png": "[encoded data removed]",
      "text/plain": [
       "<Figure size 1800x720 with 2 Axes>"
      ]
     },
     "metadata": {
      "needs_background": "light"
     },
     "output_type": "display_data"
    }
   ],
   "source": [
    "# Correlação entre estes dados nulos\n",
    "msno.matrix(olist_order_reviews)\n",
    "plt.show()"
   ]
  },
  {
   "cell_type": "code",
   "execution_count": 35,
   "metadata": {
    "ExecuteTime": {
     "end_time": "2020-03-26T01:57:53.641774Z",
     "start_time": "2020-03-26T01:57:53.372496Z"
    }
   },
   "outputs": [
    {
     "data": {
      "image/png": "[encoded data removed]",
      "text/plain": [
       "<Figure size 1440x864 with 2 Axes>"
      ]
     },
     "metadata": {
      "needs_background": "light"
     },
     "output_type": "display_data"
    }
   ],
   "source": [
    "# Correlação entre dados nulos\n",
    "msno.heatmap(olist_order_reviews)\n",
    "plt.show()"
   ]
  },
  {
   "cell_type": "markdown",
   "metadata": {},
   "source": [
    "Realmente a plotagem de correlação de dados nulos mostra que existe uma relação entre críticas nulas com títulos nulos. Levando em consideração os objetivos do projeto, será realizada a remoção de dados nulos da coluna *review_comment_message*."
   ]
  },
  {
   "cell_type": "code",
   "execution_count": 36,
   "metadata": {
    "ExecuteTime": {
     "end_time": "2020-03-26T01:57:53.667707Z",
     "start_time": "2020-03-26T01:57:53.642771Z"
    }
   },
   "outputs": [
    {
     "name": "stdout",
     "output_type": "stream",
     "text": [
      "Restaram 41753 críticas a serem analisada.\n"
     ]
    }
   ],
   "source": [
    "# Removendo dados nulos\n",
    "reviews = olist_order_reviews.dropna(subset=['review_comment_message'])\n",
    "print(f'Restaram {reviews.shape[0]} críticas a serem analisada.')"
   ]
  },
  {
   "cell_type": "code",
   "execution_count": 37,
   "metadata": {
    "ExecuteTime": {
     "end_time": "2020-03-26T01:57:53.675684Z",
     "start_time": "2020-03-26T01:57:53.668703Z"
    }
   },
   "outputs": [
    {
     "name": "stdout",
     "output_type": "stream",
     "text": [
      "Crítica 1: Vende produto indisponível, não resolve o problema do cliente, não responde os e-mails.\n",
      "Crítica 2: Produto chegou no prazo e em perfeitas condições....\n",
      "Crítica 3: COMPREI UM PRODUTO E VEIO OUTRO.\n",
      "Crítica 4: Super indico\n",
      "Crítica 5: Sempre que posso e preciso comprar algo, esse é o melhor site.\n"
     ]
    }
   ],
   "source": [
    "# Exemplos\n",
    "for i in range(5):\n",
    "    print(f'Crítica {i+1}: {np.random.choice(reviews[\"review_comment_message\"])}')"
   ]
  },
  {
   "cell_type": "markdown",
   "metadata": {
    "ExecuteTime": {
     "end_time": "2019-08-19T08:08:09.927180Z",
     "start_time": "2019-08-19T08:08:09.923503Z"
    }
   },
   "source": [
    "Depois de analisar brevemente o conteúdo a ser trabalhado, é possível dar os primeiros passos para a construção de um modelo de análise de sentimentos. A seguir, será proposta uma análise utilizamos Expressões Regulares a fim de identificar se existem alguns elementos de HTML nas críticas fornecidas pelo dataset."
   ]
  },
  {
   "cell_type": "markdown",
   "metadata": {},
   "source": [
    "## RegEx"
   ]
  },
  {
   "cell_type": "markdown",
   "metadata": {},
   "source": [
    "Pelo fato de se trabalhar com um conteúdo oriundo da internet, é possível que algumas tags HTML, ou mesmo tags de quebra de linha e outros padrões, estejam presentes nos comentários deste dataset. Em um primeiro momento, deve ser feita uma investigação pra confirmar essa hipótese a partir de algumas funcionalidades trazidas pelas Expressões Regulares."
   ]
  },
  {
   "cell_type": "markdown",
   "metadata": {},
   "source": [
    "### Quebra de Linha e Carriage Return"
   ]
  },
  {
   "cell_type": "code",
   "execution_count": 38,
   "metadata": {
    "ExecuteTime": {
     "end_time": "2020-03-26T01:57:53.685656Z",
     "start_time": "2020-03-26T01:57:53.677679Z"
    }
   },
   "outputs": [
    {
     "data": {
      "text/plain": [
       "'Mas um pouco ,travando...pelo valor ta Boa.\\r\\n'"
      ]
     },
     "execution_count": 38,
     "metadata": {},
     "output_type": "execute_result"
    }
   ],
   "source": [
    "# Verificando um exemplo de comentário\n",
    "critica = reviews.iloc[3, 4]\n",
    "critica"
   ]
  },
  {
   "cell_type": "markdown",
   "metadata": {},
   "source": [
    "Aqui é possível visualizar as tags \\r (_carriage return_ código ASCII 10) e \\n (_new line_ código ASCII 13). Através de RegEx, é possível procurar este padrão dentro do texto."
   ]
  },
  {
   "cell_type": "code",
   "execution_count": 39,
   "metadata": {
    "ExecuteTime": {
     "end_time": "2020-03-26T01:57:53.693635Z",
     "start_time": "2020-03-26T01:57:53.687651Z"
    }
   },
   "outputs": [
    {
     "name": "stdout",
     "output_type": "stream",
     "text": [
      "<re.Match object; span=(44, 45), match='\\n'>\n"
     ]
    }
   ],
   "source": [
    "# Aplicando expressão\n",
    "p = re.compile(r'\\n')\n",
    "s = p.search(critica)\n",
    "print(s)"
   ]
  },
  {
   "cell_type": "markdown",
   "metadata": {},
   "source": [
    "O resultado acima mostra que o padrão \"\\n\" foi encontrado nas posições indicadas por `span=(44, 45)`. Será mesmo?"
   ]
  },
  {
   "cell_type": "code",
   "execution_count": 40,
   "metadata": {
    "ExecuteTime": {
     "end_time": "2020-03-26T01:57:53.701615Z",
     "start_time": "2020-03-26T01:57:53.695630Z"
    }
   },
   "outputs": [
    {
     "data": {
      "text/plain": [
       "'\\n'"
      ]
     },
     "execution_count": 40,
     "metadata": {},
     "output_type": "execute_result"
    }
   ],
   "source": [
    "# Confirmando\n",
    "critica[44]"
   ]
  },
  {
   "cell_type": "markdown",
   "metadata": {},
   "source": [
    "Entretando, podem existir comentários com mais de uma quebra de linha ou outra expressão característica. Exemplo:"
   ]
  },
  {
   "cell_type": "code",
   "execution_count": 41,
   "metadata": {
    "ExecuteTime": {
     "end_time": "2020-03-26T01:57:53.709593Z",
     "start_time": "2020-03-26T01:57:53.703608Z"
    }
   },
   "outputs": [
    {
     "data": {
      "text/plain": [
       "'Estava faltando apenas um produto, eu recebi hoje , muito obrigada!\\r\\nTudo certo!\\r\\n\\r\\nAtt \\r\\n\\r\\nElenice.'"
      ]
     },
     "execution_count": 41,
     "metadata": {},
     "output_type": "execute_result"
    }
   ],
   "source": [
    "# Comentário com mais de uma tag\n",
    "critica2 = reviews.iloc[48, 4]\n",
    "critica2"
   ]
  },
  {
   "cell_type": "markdown",
   "metadata": {},
   "source": [
    "Em casos como este, rodar o _search_ da expressão regular criada irá retornar apenas a primeira aparição da expressão procurada."
   ]
  },
  {
   "cell_type": "code",
   "execution_count": 42,
   "metadata": {
    "ExecuteTime": {
     "end_time": "2020-03-26T01:57:53.743503Z",
     "start_time": "2020-03-26T01:57:53.732530Z"
    }
   },
   "outputs": [
    {
     "name": "stdout",
     "output_type": "stream",
     "text": [
      "<re.Match object; span=(68, 69), match='\\n'>\n"
     ]
    }
   ],
   "source": [
    "# Testando\n",
    "s = p.search(critica2)\n",
    "print(s)"
   ]
  },
  {
   "cell_type": "markdown",
   "metadata": {},
   "source": [
    "Para retornar todas as possíveis posições da expressão procurada, é preciso utilizar o método `finditer()`."
   ]
  },
  {
   "cell_type": "code",
   "execution_count": 43,
   "metadata": {
    "ExecuteTime": {
     "end_time": "2020-03-26T01:57:53.750484Z",
     "start_time": "2020-03-26T01:57:53.745496Z"
    }
   },
   "outputs": [
    {
     "name": "stdout",
     "output_type": "stream",
     "text": [
      "(68, 69)\n",
      "(81, 82)\n",
      "(83, 84)\n",
      "(89, 90)\n",
      "(91, 92)\n"
     ]
    }
   ],
   "source": [
    "# Retornando todos os resultados\n",
    "iterator = p.finditer(critica2)\n",
    "for match in iterator:\n",
    "    print(match.span())"
   ]
  },
  {
   "cell_type": "code",
   "execution_count": 44,
   "metadata": {
    "ExecuteTime": {
     "end_time": "2020-03-26T01:58:24.325689Z",
     "start_time": "2020-03-26T01:58:24.171103Z"
    }
   },
   "outputs": [
    {
     "name": "stdout",
     "output_type": "stream",
     "text": [
      "Crítica 3 [(44, 45)]\n",
      "Crítica 9 [(35, 36), (86, 87), (138, 139)]\n",
      "Crítica 22 [(46, 47)]\n",
      "Crítica 25 [(71, 72), (90, 91)]\n",
      "Crítica 30 [(67, 68)]\n"
     ]
    }
   ],
   "source": [
    "# Testando para todos os comentários\n",
    "p = re.compile(r'\\n')\n",
    "criticas = list(reviews['review_comment_message'].values)\n",
    "positions_dict = {}\n",
    "i = -1\n",
    "for c in criticas:\n",
    "    i += 1\n",
    "    match_list = []\n",
    "    iterator = p.finditer(c)\n",
    "    for match in iterator:\n",
    "        match_list.append(match.span())\n",
    "    control_key = f'Crítica {i}'\n",
    "    if len(match_list) == 0:\n",
    "        pass\n",
    "    else:\n",
    "        positions_dict[control_key] = match_list\n",
    "\n",
    "# Verificando\n",
    "for k, v in positions_dict.items():\n",
    "    print(k, v)\n",
    "    if k[-2:] == '30':\n",
    "        break"
   ]
  },
  {
   "cell_type": "code",
   "execution_count": 45,
   "metadata": {
    "ExecuteTime": {
     "end_time": "2020-03-26T01:58:24.419438Z",
     "start_time": "2020-03-26T01:58:24.329678Z"
    }
   },
   "outputs": [],
   "source": [
    "# Removendo \\n dos comentários\n",
    "p = re.compile(r'\\n')\n",
    "criticas = list(reviews['review_comment_message'].values)\n",
    "criticas_temp = []\n",
    "for c in criticas:\n",
    "    iterator = p.finditer(c)\n",
    "    for match in iterator:\n",
    "        if len(match.span()) > 0:\n",
    "            c = c.replace('\\n', ' ')\n",
    "        break\n",
    "    criticas_temp.append(c)"
   ]
  },
  {
   "cell_type": "code",
   "execution_count": 46,
   "metadata": {
    "ExecuteTime": {
     "end_time": "2020-03-26T01:58:24.500221Z",
     "start_time": "2020-03-26T01:58:24.422430Z"
    }
   },
   "outputs": [],
   "source": [
    "# Removendo \\r dos comentários\n",
    "p = re.compile(r'\\r')\n",
    "criticas_pos_quebra = []\n",
    "for c in criticas_temp:\n",
    "    iterator = p.finditer(c)\n",
    "    for match in iterator:\n",
    "        if len(match.span()) > 0:\n",
    "            c = c.replace('\\r', ' ')\n",
    "        break\n",
    "    criticas_pos_quebra.append(c)"
   ]
  },
  {
   "cell_type": "code",
   "execution_count": 47,
   "metadata": {
    "ExecuteTime": {
     "end_time": "2020-03-26T01:58:24.510195Z",
     "start_time": "2020-03-26T01:58:24.503214Z"
    }
   },
   "outputs": [
    {
     "data": {
      "text/plain": [
       "'Estava faltando apenas um produto, eu recebi hoje , muito obrigada!  Tudo certo!    Att     Elenice.'"
      ]
     },
     "execution_count": 47,
     "metadata": {},
     "output_type": "execute_result"
    }
   ],
   "source": [
    "# Verificando o mesmo exemplo usado anteriormente\n",
    "criticas_pos_quebra[48]"
   ]
  },
  {
   "cell_type": "markdown",
   "metadata": {},
   "source": [
    "Abaixo, um jeito mais elegante de se aplicar o RegEx utilizando o método `.sub()`"
   ]
  },
  {
   "cell_type": "code",
   "execution_count": 48,
   "metadata": {
    "ExecuteTime": {
     "end_time": "2020-03-26T01:58:25.005870Z",
     "start_time": "2020-03-26T01:58:24.514185Z"
    }
   },
   "outputs": [],
   "source": [
    "# Aplicando RegEx\n",
    "criticas_temp = []\n",
    "criticas_pos_quebra = []\n",
    "for c in criticas:\n",
    "    c = re.sub(r'\\n', ' ', c)\n",
    "    criticas_temp.append(c)\n",
    "for c in criticas_temp:\n",
    "    c = re.sub(r'\\r', ' ', c)\n",
    "    criticas_pos_quebra.append(c)"
   ]
  },
  {
   "cell_type": "code",
   "execution_count": 49,
   "metadata": {
    "ExecuteTime": {
     "end_time": "2020-03-26T01:58:25.023821Z",
     "start_time": "2020-03-26T01:58:25.012853Z"
    }
   },
   "outputs": [
    {
     "data": {
      "text/plain": [
       "'Estava faltando apenas um produto, eu recebi hoje , muito obrigada!\\r\\nTudo certo!\\r\\n\\r\\nAtt \\r\\n\\r\\nElenice.'"
      ]
     },
     "execution_count": 49,
     "metadata": {},
     "output_type": "execute_result"
    }
   ],
   "source": [
    "# Antes\n",
    "criticas[48]"
   ]
  },
  {
   "cell_type": "code",
   "execution_count": 50,
   "metadata": {
    "ExecuteTime": {
     "end_time": "2020-03-26T01:58:25.046761Z",
     "start_time": "2020-03-26T01:58:25.032797Z"
    }
   },
   "outputs": [
    {
     "data": {
      "text/plain": [
       "'Estava faltando apenas um produto, eu recebi hoje , muito obrigada!  Tudo certo!    Att     Elenice.'"
      ]
     },
     "execution_count": 50,
     "metadata": {},
     "output_type": "execute_result"
    }
   ],
   "source": [
    "# Depois\n",
    "criticas_pos_quebra[48]"
   ]
  },
  {
   "cell_type": "markdown",
   "metadata": {},
   "source": [
    "### Sites e Hiperlinks"
   ]
  },
  {
   "cell_type": "code",
   "execution_count": 51,
   "metadata": {
    "ExecuteTime": {
     "end_time": "2020-03-26T01:58:25.192388Z",
     "start_time": "2020-03-26T01:58:25.057731Z"
    }
   },
   "outputs": [
    {
     "name": "stdout",
     "output_type": "stream",
     "text": [
      "http://\n",
      "http://\n"
     ]
    }
   ],
   "source": [
    "# Procurando sites\n",
    "for c in criticas_pos_quebra:\n",
    "    for f in re.finditer(r'http://', c):\n",
    "        print(f.group())"
   ]
  },
  {
   "cell_type": "code",
   "execution_count": 52,
   "metadata": {
    "ExecuteTime": {
     "end_time": "2020-03-26T01:58:25.322024Z",
     "start_time": "2020-03-26T01:58:25.197359Z"
    }
   },
   "outputs": [
    {
     "name": "stdout",
     "output_type": "stream",
     "text": [
      "Crítica: 10796 - Links: ['http://prntscr.com', 'http://prntscr.com']\n",
      "Crítica: 12782 - Links: ['https://www.lannister.com.br']\n"
     ]
    }
   ],
   "source": [
    "# Retornando urls\n",
    "for c in criticas_pos_quebra:\n",
    "    urls = re.findall('https?://(?:[-\\w.]|(?:%[\\da-fA-F]{2}))+', c)\n",
    "    if len(urls) == 0:\n",
    "        pass\n",
    "    else:\n",
    "        print(f'Crítica: {criticas.index(c)} - Links: {urls}')"
   ]
  },
  {
   "cell_type": "markdown",
   "metadata": {},
   "source": [
    "É possível afirmar que existem comentários (apesar de poucos) com alguns links. Provando:"
   ]
  },
  {
   "cell_type": "code",
   "execution_count": 53,
   "metadata": {
    "ExecuteTime": {
     "end_time": "2020-03-26T01:58:25.333992Z",
     "start_time": "2020-03-26T01:58:25.328039Z"
    }
   },
   "outputs": [
    {
     "data": {
      "text/plain": [
       "'comprei o produto pela cor ilustrada pelo site da loja americana, no site mostra ser preto http://prntscr.com/jkx7hr quando o produto chegou aqui veio todos com a mesma cor, tabaco http://prntscr.com/'"
      ]
     },
     "execution_count": 53,
     "metadata": {},
     "output_type": "execute_result"
    }
   ],
   "source": [
    "# Primeiro teste\n",
    "criticas_pos_quebra[10796]"
   ]
  },
  {
   "cell_type": "code",
   "execution_count": 54,
   "metadata": {
    "ExecuteTime": {
     "end_time": "2020-03-26T01:58:25.370895Z",
     "start_time": "2020-03-26T01:58:25.339976Z"
    }
   },
   "outputs": [
    {
     "data": {
      "text/plain": [
       "'Pedi esse: https://www.lannister.com.br/produto/22880118/botox-capilar-selafix-argan-premium-doux-clair-2x1-litro?pfm_carac=doux%20clair&pfm_index=3&pfm_page=search&pfm_pos=grid&pfm_type=search_page%'"
      ]
     },
     "execution_count": 54,
     "metadata": {},
     "output_type": "execute_result"
    }
   ],
   "source": [
    "# Segundo teste\n",
    "criticas_pos_quebra[12782]"
   ]
  },
  {
   "cell_type": "markdown",
   "metadata": {
    "ExecuteTime": {
     "end_time": "2019-08-19T23:49:35.559994Z",
     "start_time": "2019-08-19T23:49:28.018Z"
    }
   },
   "source": [
    "Apesar da Expressão Regular ter identificado os sites, ela não pegou o link completo, mas sim apenas a parte principal. Abaixo, será colocada uma nova expressão para coletar o link completo, conforme visto nos exemplos acima."
   ]
  },
  {
   "cell_type": "code",
   "execution_count": 55,
   "metadata": {
    "ExecuteTime": {
     "end_time": "2020-03-26T01:58:25.388845Z",
     "start_time": "2020-03-26T01:58:25.377878Z"
    }
   },
   "outputs": [
    {
     "name": "stdout",
     "output_type": "stream",
     "text": [
      "Crítica 12782:\n",
      "Link: ['https://www.lannister.com.br/produto/22880118/botox-capilar-selafix-argan-premium-doux-clair-2x1-litro?pfm_carac=doux%20clair&pfm_index=3&pfm_page=search&pfm_pos=grid&pfm_type=search_page%']\n"
     ]
    }
   ],
   "source": [
    "# Testando outro método\n",
    "urls = re.findall('http[s]?://(?:[a-zA-Z]|[0-9]|[$-_@.&+]|[!*\\(\\), ]|(?:%[0-9a-fA-F][0-9a-fA-F]))+', \n",
    "                  criticas_pos_quebra[12782])\n",
    "if len(urls) == 0:\n",
    "    pass\n",
    "else:\n",
    "    print(f'Crítica 12782:\\nLink: {urls}')"
   ]
  },
  {
   "cell_type": "code",
   "execution_count": 56,
   "metadata": {
    "ExecuteTime": {
     "end_time": "2020-03-26T01:58:26.446662Z",
     "start_time": "2020-03-26T01:58:25.396824Z"
    }
   },
   "outputs": [],
   "source": [
    "# Testando outro método (url extractor)\n",
    "url_extractor = urlextract.URLExtract()\n",
    "criticas_pos_hyperlink = []\n",
    "for c in criticas_pos_quebra:\n",
    "    urls = list(set(url_extractor.find_urls(c)))\n",
    "    if len(urls) > 0:\n",
    "        for url in urls:\n",
    "            c = c.replace(url, 'url')\n",
    "    criticas_pos_hyperlink.append(c)"
   ]
  },
  {
   "cell_type": "code",
   "execution_count": 57,
   "metadata": {
    "ExecuteTime": {
     "end_time": "2020-03-26T01:58:26.459629Z",
     "start_time": "2020-03-26T01:58:26.452645Z"
    }
   },
   "outputs": [
    {
     "data": {
      "text/plain": [
       "'Pedi esse: https://www.lannister.com.br/produto/22880118/botox-capilar-selafix-argan-premium-doux-clair-2x1-litro?pfm_carac=doux%20clair&pfm_index=3&pfm_page=search&pfm_pos=grid&pfm_type=search_page%'"
      ]
     },
     "execution_count": 57,
     "metadata": {},
     "output_type": "execute_result"
    }
   ],
   "source": [
    "# Antes \n",
    "criticas_pos_quebra[12782]"
   ]
  },
  {
   "cell_type": "code",
   "execution_count": 58,
   "metadata": {
    "ExecuteTime": {
     "end_time": "2020-03-26T01:58:26.469614Z",
     "start_time": "2020-03-26T01:58:26.463617Z"
    }
   },
   "outputs": [
    {
     "data": {
      "text/plain": [
       "'Pedi esse: url'"
      ]
     },
     "execution_count": 58,
     "metadata": {},
     "output_type": "execute_result"
    }
   ],
   "source": [
    "# Depois\n",
    "criticas_pos_hyperlink[12782]"
   ]
  },
  {
   "cell_type": "code",
   "execution_count": 59,
   "metadata": {
    "ExecuteTime": {
     "end_time": "2020-03-26T01:58:26.713951Z",
     "start_time": "2020-03-26T01:58:26.472593Z"
    }
   },
   "outputs": [],
   "source": [
    "# Este seria um terceiro método aplicando RegEx\n",
    "criticas_pos_hyperlink = []\n",
    "for c in criticas_pos_quebra:\n",
    "    urls = re.findall('(http|ftp|https)://([\\w_-]+(?:(?:\\.[\\w_-]+)+))([\\w.,@?^=%&:/~+#-]*[\\w@?^=%&/~+#-])?', c)\n",
    "    if len(urls) == 0:\n",
    "        pass\n",
    "    else:\n",
    "        for url in urls:\n",
    "            for link in url:\n",
    "                c = c.replace(link, ' ')\n",
    "        c = c.replace(':', ' ')\n",
    "        c = c.replace('/', ' ')\n",
    "    criticas_pos_hyperlink.append(c)"
   ]
  },
  {
   "cell_type": "code",
   "execution_count": 60,
   "metadata": {
    "ExecuteTime": {
     "end_time": "2020-03-26T01:58:26.730902Z",
     "start_time": "2020-03-26T01:58:26.716939Z"
    }
   },
   "outputs": [
    {
     "name": "stdout",
     "output_type": "stream",
     "text": [
      "- - - COMENTÁRIO 10796 - - -\n",
      "\n",
      "Antes do RegEx: \n",
      "comprei o produto pela cor ilustrada pelo site da loja americana, no site mostra ser preto http://prntscr.com/jkx7hr quando o produto chegou aqui veio todos com a mesma cor, tabaco http://prntscr.com/\n",
      "\n",
      "Depois do RegEx: \n",
      "comprei o produto pela cor ilustrada pelo site da loja americana, no site mostra ser preto        quando o produto chegou aqui veio todos com a mesma cor, tabaco       \n",
      "\n",
      "\n",
      "- - - COMENTÁRIO 12782 - - -\n",
      "\n",
      "Antes do RegEx: \n",
      "Pedi esse: https://www.lannister.com.br/produto/22880118/botox-capilar-selafix-argan-premium-doux-clair-2x1-litro?pfm_carac=doux%20clair&pfm_index=3&pfm_page=search&pfm_pos=grid&pfm_type=search_page%\n",
      "\n",
      "Depois do RegEx: \n",
      "Pedi esse        \n",
      "\n",
      "\n"
     ]
    }
   ],
   "source": [
    "exemplos = []\n",
    "idx1 = 10796\n",
    "idx2 = 12782\n",
    "exemplos.append((criticas_pos_quebra[idx1], criticas_pos_hyperlink[idx1]))\n",
    "exemplos.append((criticas_pos_quebra[idx2], criticas_pos_hyperlink[idx2]))\n",
    "i = 0\n",
    "indices = [idx1, idx2]\n",
    "for e in exemplos:\n",
    "    print(f'- - - COMENTÁRIO {indices[i]} - - -\\n')\n",
    "    print(f'Antes do RegEx: \\n{e[0]}\\n')\n",
    "    print(f'Depois do RegEx: \\n{e[1]}\\n\\n')\n",
    "    i += 1"
   ]
  },
  {
   "cell_type": "markdown",
   "metadata": {},
   "source": [
    "### Números"
   ]
  },
  {
   "cell_type": "code",
   "execution_count": 61,
   "metadata": {
    "ExecuteTime": {
     "end_time": "2020-03-26T01:58:26.739877Z",
     "start_time": "2020-03-26T01:58:26.733894Z"
    }
   },
   "outputs": [
    {
     "data": {
      "text/plain": [
       "'Comprei o produto dia 25 de fevereiro e hoje dia 29 de marco não fora entregue na minha residência. Não sei se os correios desse Brasil e péssimo ou foi a própria loja que demorou postar.'"
      ]
     },
     "execution_count": 61,
     "metadata": {},
     "output_type": "execute_result"
    }
   ],
   "source": [
    "# Exemplo\n",
    "number_comment = criticas_pos_hyperlink[68]\n",
    "number_comment"
   ]
  },
  {
   "cell_type": "code",
   "execution_count": 62,
   "metadata": {
    "ExecuteTime": {
     "end_time": "2020-03-26T01:58:27.020265Z",
     "start_time": "2020-03-26T01:58:26.746859Z"
    }
   },
   "outputs": [],
   "source": [
    "criticas_pos_num = []\n",
    "for c in criticas_pos_hyperlink:\n",
    "    c = re.sub(r'\\d+(?:\\.\\d*(?:[eE]\\d+))?', ' numero ', c)\n",
    "    criticas_pos_num.append(c)"
   ]
  },
  {
   "cell_type": "code",
   "execution_count": 63,
   "metadata": {
    "ExecuteTime": {
     "end_time": "2020-03-26T01:58:27.030239Z",
     "start_time": "2020-03-26T01:58:27.024268Z"
    }
   },
   "outputs": [
    {
     "data": {
      "text/plain": [
       "'Comprei o produto dia 25 de fevereiro e hoje dia 29 de marco não fora entregue na minha residência. Não sei se os correios desse Brasil e péssimo ou foi a própria loja que demorou postar.'"
      ]
     },
     "execution_count": 63,
     "metadata": {},
     "output_type": "execute_result"
    }
   ],
   "source": [
    "# Antes\n",
    "number_comment"
   ]
  },
  {
   "cell_type": "code",
   "execution_count": 64,
   "metadata": {
    "ExecuteTime": {
     "end_time": "2020-03-26T01:58:27.039225Z",
     "start_time": "2020-03-26T01:58:27.033231Z"
    }
   },
   "outputs": [
    {
     "data": {
      "text/plain": [
       "'Comprei o produto dia  numero  de fevereiro e hoje dia  numero  de marco não fora entregue na minha residência. Não sei se os correios desse Brasil e péssimo ou foi a própria loja que demorou postar.'"
      ]
     },
     "execution_count": 64,
     "metadata": {},
     "output_type": "execute_result"
    }
   ],
   "source": [
    "# Depois\n",
    "criticas_pos_num[68]"
   ]
  },
  {
   "cell_type": "markdown",
   "metadata": {},
   "source": [
    "### Caracteres Especiais"
   ]
  },
  {
   "cell_type": "markdown",
   "metadata": {},
   "source": [
    "A remoção de caracteres especiais também é um importante tópico dentro da preparação dos dados utilizando RegEx. Vejamos alguns exemplos:"
   ]
  },
  {
   "cell_type": "code",
   "execution_count": 65,
   "metadata": {
    "ExecuteTime": {
     "end_time": "2020-03-26T01:58:27.048196Z",
     "start_time": "2020-03-26T01:58:27.044202Z"
    }
   },
   "outputs": [
    {
     "name": "stdout",
     "output_type": "stream",
     "text": [
      "Crítica 45: Este foi o pedido  Balde Com  numero  Peças - Blocos De Montar  numero  un - R$  numero , numero  cada (NÃO FOI ENTREGUE)  Vendido e entregue targaryen  Tapete de Eva Nº Letras  numero  Peças Crianças  numero  un - R$  numero , numero  (ESTE FOI ENTREG\n",
      "\n",
      "Crítica 135: Cada vez que compro mais fico satisfeita parabéns pela honestidade com seus clientes 👏👏👏👏?\n",
      "\n",
      "Crítica 234: Comprei o produto, paguei no boleto e só recebi metade do produto, anunciaram uma coisa é mandaram outra. Muito insatisfeita 😡😡😡\n"
     ]
    }
   ],
   "source": [
    "# Exemplos de comentários com caracteres especiais\n",
    "print(f'Crítica 45: {criticas_pos_num[45]}\\n')\n",
    "print(f'Crítica 135: {criticas_pos_num[135]}\\n')\n",
    "print(f'Crítica 234: {criticas_pos_num[234]}')"
   ]
  },
  {
   "cell_type": "code",
   "execution_count": 66,
   "metadata": {
    "ExecuteTime": {
     "end_time": "2020-03-26T01:58:27.577799Z",
     "start_time": "2020-03-26T01:58:27.050186Z"
    }
   },
   "outputs": [
    {
     "name": "stdout",
     "output_type": "stream",
     "text": [
      "Crítica 45: Este foi o pedido  Balde Com  numero  Peças   Blocos De Montar  numero  un      numero   numero  cada  NÃO FOI ENTREGUE   Vendido e entregue targaryen  Tapete de Eva Nº Letras  numero  Peças Crianças  numero  un      numero   numero   ESTE FOI ENTREG\n",
      "\n",
      "Crítica 135: Cada vez que compro mais fico satisfeita parabéns pela honestidade com seus clientes      \n",
      "\n",
      "Crítica 234: Comprei o produto  paguei no boleto e só recebi metade do produto  anunciaram uma coisa é mandaram outra  Muito insatisfeita    \n"
     ]
    }
   ],
   "source": [
    "# Aplicando regex e verificando resultados\n",
    "criticas_sem_alphanumerico = []\n",
    "for c in criticas_pos_num:\n",
    "    c = re.sub(r'R\\$', ' ', c)\n",
    "    c = re.sub(r'\\W', ' ', c)\n",
    "    criticas_sem_alphanumerico.append(c)\n",
    "    \n",
    "print(f'Crítica 45: {criticas_sem_alphanumerico[45]}\\n')\n",
    "print(f'Crítica 135: {criticas_sem_alphanumerico[135]}\\n')\n",
    "print(f'Crítica 234: {criticas_sem_alphanumerico[234]}')"
   ]
  },
  {
   "cell_type": "markdown",
   "metadata": {
    "ExecuteTime": {
     "end_time": "2019-08-26T10:35:34.528427Z",
     "start_time": "2019-08-26T10:35:34.523342Z"
    }
   },
   "source": [
    "### Espaços Adicionais"
   ]
  },
  {
   "cell_type": "markdown",
   "metadata": {},
   "source": [
    "Com algumas aplicações de RegEx nesta sessão, alguns espaços adicionais foram criados entre palavras. Além disso, devido a própria natureza dos comentários, é possível que clientes tenham escrito de forma a deixar múltiplos espaços entre palavras. Vamos analisar estes casos e transformar as frases para que tenham apenas um único espaço entre palavras."
   ]
  },
  {
   "cell_type": "code",
   "execution_count": 67,
   "metadata": {
    "ExecuteTime": {
     "end_time": "2020-03-26T01:58:27.595756Z",
     "start_time": "2020-03-26T01:58:27.579797Z"
    }
   },
   "outputs": [
    {
     "name": "stdout",
     "output_type": "stream",
     "text": [
      "Crítica 3: Mas um pouco  travando   pelo valor ta Boa   \n",
      "\n",
      "Crítica 48: Estava faltando apenas um produto  eu recebi hoje   muito obrigada   Tudo certo     Att     Elenice \n",
      "\n",
      "Crítica 51: super rapido a entrega      chegou antes da data    \n",
      "\n",
      "Crítica 2569: Produto entregue antes do prazo  Show        stark sempre competente \n",
      "\n",
      "Crítica 3856: Como posso avaliar o produto se ainda nem recebir   Estou aguardando  E que diga de passagem  não sabia que ia demorar tanto         \n",
      "\n"
     ]
    }
   ],
   "source": [
    "# Exemplos de comentários com espaços adicionais\n",
    "print(f'Crítica 3: {criticas_sem_alphanumerico[3]}\\n')\n",
    "print(f'Crítica 48: {criticas_sem_alphanumerico[48]}\\n')\n",
    "print(f'Crítica 51: {criticas_sem_alphanumerico[51]}\\n')\n",
    "print(f'Crítica 2569: {criticas_sem_alphanumerico[2569]}\\n')\n",
    "print(f'Crítica 3856: {criticas_sem_alphanumerico[3856]}\\n')"
   ]
  },
  {
   "cell_type": "code",
   "execution_count": 68,
   "metadata": {
    "ExecuteTime": {
     "end_time": "2020-03-26T01:58:27.966883Z",
     "start_time": "2020-03-26T01:58:27.597744Z"
    }
   },
   "outputs": [
    {
     "name": "stdout",
     "output_type": "stream",
     "text": [
      "Crítica 3: Mas um pouco travando pelo valor ta Boa \n",
      "\n",
      "Crítica 48: Estava faltando apenas um produto eu recebi hoje muito obrigada Tudo certo Att Elenice \n",
      "\n",
      "Crítica 51: super rapido a entrega chegou antes da data \n",
      "\n",
      "Crítica 2569: Produto entregue antes do prazo Show stark sempre competente \n",
      "\n",
      "Crítica 3856: Como posso avaliar o produto se ainda nem recebir Estou aguardando E que diga de passagem não sabia que ia demorar tanto \n",
      "\n"
     ]
    }
   ],
   "source": [
    "# Aplicando RegEx e verificando\n",
    "criticas_sem_espacos_adicionais = []\n",
    "for c in criticas_sem_alphanumerico:\n",
    "    c = re.sub(r'\\s+', ' ', c)\n",
    "    criticas_sem_espacos_adicionais.append(c)\n",
    "    \n",
    "print(f'Crítica 3: {criticas_sem_espacos_adicionais[3]}\\n')\n",
    "print(f'Crítica 48: {criticas_sem_espacos_adicionais[48]}\\n')\n",
    "print(f'Crítica 51: {criticas_sem_espacos_adicionais[51]}\\n')\n",
    "print(f'Crítica 2569: {criticas_sem_espacos_adicionais[2569]}\\n')\n",
    "print(f'Crítica 3856: {criticas_sem_espacos_adicionais[3856]}\\n')"
   ]
  },
  {
   "cell_type": "code",
   "execution_count": 69,
   "metadata": {
    "ExecuteTime": {
     "end_time": "2020-03-26T01:58:28.028718Z",
     "start_time": "2020-03-26T01:58:27.968878Z"
    }
   },
   "outputs": [
    {
     "data": {
      "text/html": [
       "<div>\n",
       "<style scoped>\n",
       "    .dataframe tbody tr th:only-of-type {\n",
       "        vertical-align: middle;\n",
       "    }\n",
       "\n",
       "    .dataframe tbody tr th {\n",
       "        vertical-align: top;\n",
       "    }\n",
       "\n",
       "    .dataframe thead th {\n",
       "        text-align: right;\n",
       "    }\n",
       "</style>\n",
       "<table border=\"1\" class=\"dataframe\">\n",
       "  <thead>\n",
       "    <tr style=\"text-align: right;\">\n",
       "      <th></th>\n",
       "      <th>review_comment_message</th>\n",
       "      <th>review_after_regex</th>\n",
       "      <th>review_score</th>\n",
       "    </tr>\n",
       "  </thead>\n",
       "  <tbody>\n",
       "    <tr>\n",
       "      <th>3</th>\n",
       "      <td>Recebi bem antes do prazo estipulado.</td>\n",
       "      <td>Recebi bem antes do prazo estipulado</td>\n",
       "      <td>5</td>\n",
       "    </tr>\n",
       "    <tr>\n",
       "      <th>4</th>\n",
       "      <td>Parabéns lojas lannister adorei comprar pela I...</td>\n",
       "      <td>Parabéns lojas lannister adorei comprar pela I...</td>\n",
       "      <td>5</td>\n",
       "    </tr>\n",
       "    <tr>\n",
       "      <th>9</th>\n",
       "      <td>aparelho eficiente. no site a marca do aparelh...</td>\n",
       "      <td>aparelho eficiente no site a marca do aparelho...</td>\n",
       "      <td>4</td>\n",
       "    </tr>\n",
       "    <tr>\n",
       "      <th>12</th>\n",
       "      <td>Mas um pouco ,travando...pelo valor ta Boa.\\r\\n</td>\n",
       "      <td>Mas um pouco travando pelo valor ta Boa</td>\n",
       "      <td>4</td>\n",
       "    </tr>\n",
       "    <tr>\n",
       "      <th>15</th>\n",
       "      <td>Vendedor confiável, produto ok e entrega antes...</td>\n",
       "      <td>Vendedor confiável produto ok e entrega antes ...</td>\n",
       "      <td>5</td>\n",
       "    </tr>\n",
       "  </tbody>\n",
       "</table>\n",
       "</div>"
      ],
      "text/plain": [
       "                               review_comment_message  \\\n",
       "3               Recebi bem antes do prazo estipulado.   \n",
       "4   Parabéns lojas lannister adorei comprar pela I...   \n",
       "9   aparelho eficiente. no site a marca do aparelh...   \n",
       "12    Mas um pouco ,travando...pelo valor ta Boa.\\r\\n   \n",
       "15  Vendedor confiável, produto ok e entrega antes...   \n",
       "\n",
       "                                   review_after_regex  review_score  \n",
       "3               Recebi bem antes do prazo estipulado              5  \n",
       "4   Parabéns lojas lannister adorei comprar pela I...             5  \n",
       "9   aparelho eficiente no site a marca do aparelho...             4  \n",
       "12           Mas um pouco travando pelo valor ta Boa              4  \n",
       "15  Vendedor confiável produto ok e entrega antes ...             5  "
      ]
     },
     "execution_count": 69,
     "metadata": {},
     "output_type": "execute_result"
    }
   ],
   "source": [
    "# Salvando novo dataset\n",
    "processed_reviews = reviews.copy()\n",
    "processed_reviews['review_after_regex'] = criticas_sem_espacos_adicionais\n",
    "processed_reviews = processed_reviews.iloc[:, np.r_[4, -1, 2]]\n",
    "processed_reviews.head()"
   ]
  },
  {
   "cell_type": "markdown",
   "metadata": {},
   "source": [
    "## Stop Words e Pontuações"
   ]
  },
  {
   "cell_type": "markdown",
   "metadata": {},
   "source": [
    "Nesta etapa do projeto, serão removidas as stopwords através da biblioteca `nltk`, além das pontuações presentes em cada crítica/comentário com o auxílio da biblioteca `string`. Antes, será mostrado um exemplo de comentário antes e após a aplicação da função criada para realizar este procedimento."
   ]
  },
  {
   "cell_type": "code",
   "execution_count": 70,
   "metadata": {
    "ExecuteTime": {
     "end_time": "2020-03-26T01:58:28.057639Z",
     "start_time": "2020-03-26T01:58:28.030712Z"
    }
   },
   "outputs": [
    {
     "data": {
      "text/plain": [
       "['de', 'a', 'o', 'que', 'e', 'é', 'do', 'da', 'em', 'um']"
      ]
     },
     "execution_count": 70,
     "metadata": {},
     "output_type": "execute_result"
    }
   ],
   "source": [
    "# Algumas stopwords utilizadas\n",
    "stopwords.words('portuguese')[:10]"
   ]
  },
  {
   "cell_type": "code",
   "execution_count": 71,
   "metadata": {
    "ExecuteTime": {
     "end_time": "2020-03-26T01:58:28.067613Z",
     "start_time": "2020-03-26T01:58:28.061628Z"
    }
   },
   "outputs": [
    {
     "data": {
      "text/plain": [
       "'!\"#$%&\\'()*+,-./:;<=>?@[\\\\]^_`{|}~'"
      ]
     },
     "execution_count": 71,
     "metadata": {},
     "output_type": "execute_result"
    }
   ],
   "source": [
    "# Pontuações\n",
    "string.punctuation"
   ]
  },
  {
   "cell_type": "code",
   "execution_count": 72,
   "metadata": {
    "ExecuteTime": {
     "end_time": "2020-03-26T01:58:28.080579Z",
     "start_time": "2020-03-26T01:58:28.069607Z"
    }
   },
   "outputs": [
    {
     "name": "stdout",
     "output_type": "stream",
     "text": [
      "Fornecedor targaryen me mandou um massageador completamente diferente do que comprei de preço inferior e cheio de avaliações negativas Ninguém erra mandando um superior né curioso Ou seja n recomendo\n"
     ]
    }
   ],
   "source": [
    "# Exemplo\n",
    "after_regex = list(processed_reviews['review_after_regex'].values)\n",
    "c = after_regex[462]\n",
    "print(c)"
   ]
  },
  {
   "cell_type": "markdown",
   "metadata": {},
   "source": [
    "A função `text_process(c)` criada recebe o comentário como argumento e aplica tanto a remoção de stopwords como também a remoção das pontuações. O resultado é uma lista com cada palavra de cada comentário, sendo necessário aplicad o método `join()` para unir novamente as palavras. Vamos testar essa função no comentário de exemplo."
   ]
  },
  {
   "cell_type": "code",
   "execution_count": 73,
   "metadata": {
    "ExecuteTime": {
     "end_time": "2020-03-26T01:58:28.113490Z",
     "start_time": "2020-03-26T01:58:28.083570Z"
    }
   },
   "outputs": [
    {
     "data": {
      "text/plain": [
       "'fornecedor targaryen mandou massageador completamente diferente comprei preço inferior cheio avaliações negativas ninguém erra mandando superior né curioso n recomendo'"
      ]
     },
     "execution_count": 73,
     "metadata": {},
     "output_type": "execute_result"
    }
   ],
   "source": [
    "# Testando\n",
    "c_processed = text_process(c)\n",
    "c_processed = ' '.join(c_processed)\n",
    "c_processed"
   ]
  },
  {
   "cell_type": "markdown",
   "metadata": {},
   "source": [
    "Realmente a função removeu as pontuações e splitou as palavras."
   ]
  },
  {
   "cell_type": "code",
   "execution_count": 74,
   "metadata": {
    "ExecuteTime": {
     "end_time": "2020-03-26T02:00:55.997355Z",
     "start_time": "2020-03-26T01:58:28.116482Z"
    }
   },
   "outputs": [
    {
     "data": {
      "text/plain": [
       "3                     recebi bem antes prazo estipulado\n",
       "4     parabéns lojas lannister adorei comprar intern...\n",
       "9     aparelho eficiente site marca aparelho impress...\n",
       "12                          pouco travando valor ta boa\n",
       "15    vendedor confiável produto ok entrega antes prazo\n",
       "Name: review_after_stopwords, dtype: object"
      ]
     },
     "execution_count": 74,
     "metadata": {},
     "output_type": "execute_result"
    }
   ],
   "source": [
    "# Aplicando transformações ao dataset\n",
    "processed_reviews['review_after_stopwords'] = processed_reviews['review_after_regex'].apply(text_process)\n",
    "processed_reviews['review_after_stopwords'] = processed_reviews['review_after_stopwords'].apply(lambda x: ' '.join(x))\n",
    "processed_reviews['review_after_stopwords'].head()"
   ]
  },
  {
   "cell_type": "markdown",
   "metadata": {},
   "source": [
    "## Stemming"
   ]
  },
  {
   "cell_type": "markdown",
   "metadata": {},
   "source": [
    "Após a aplicação do RegEx para preparação do texto e também a remoção de stopwords/pontuações, o próximo passo do projeto é aplicar o Stemming nas críticas. Vejamos alguns exemplos."
   ]
  },
  {
   "cell_type": "code",
   "execution_count": 75,
   "metadata": {
    "ExecuteTime": {
     "end_time": "2020-03-26T02:02:26.577882Z",
     "start_time": "2020-03-26T02:02:26.563406Z"
    }
   },
   "outputs": [
    {
     "name": "stdout",
     "output_type": "stream",
     "text": [
      "Comentário 15: vendedor confiável produto ok entrega antes prazo\n",
      "\n",
      "Comentário 3856: posso avaliar produto ainda recebir aguardando diga passagem sabia ia demorar tanto\n"
     ]
    }
   ],
   "source": [
    "# Exemplos\n",
    "exemplo1 = processed_reviews['review_after_stopwords'][15]\n",
    "exemplo2 = list(processed_reviews['review_after_stopwords'])[3856]\n",
    "\n",
    "print(f'Comentário 15: {exemplo1}\\n')\n",
    "print(f'Comentário 3856: {exemplo2}')"
   ]
  },
  {
   "cell_type": "markdown",
   "metadata": {},
   "source": [
    "A função `stem_processing(c)` foi criada para aplicar o stemming utilizando a funçãp `RSLPSTemmer()` (Removedor de Sufixos da Língua Portuguesa)."
   ]
  },
  {
   "cell_type": "code",
   "execution_count": 80,
   "metadata": {
    "ExecuteTime": {
     "end_time": "2020-03-26T02:28:38.689160Z",
     "start_time": "2020-03-26T02:27:53.336308Z"
    }
   },
   "outputs": [],
   "source": [
    "# Aplicando stemming\n",
    "processed_reviews['review_after_stemming'] = processed_reviews['review_after_stopwords'].apply(stem_processing)\n",
    "processed_reviews['review_after_stemming'] = processed_reviews['review_after_stemming'].apply(lambda x: ' '.join(x))"
   ]
  },
  {
   "cell_type": "code",
   "execution_count": 81,
   "metadata": {
    "ExecuteTime": {
     "end_time": "2020-03-26T02:28:41.592701Z",
     "start_time": "2020-03-26T02:28:41.578738Z"
    }
   },
   "outputs": [
    {
     "name": "stdout",
     "output_type": "stream",
     "text": [
      "Comentário 15: vend confi produt ok entreg ant praz\n",
      "\n",
      "Comentário 3856: poss avali produt aind receb aguard dig pass sab ia demor tant\n"
     ]
    }
   ],
   "source": [
    "# Exemplos após o stemming\n",
    "exemplo1 = processed_reviews['review_after_stemming'][15]\n",
    "exemplo2 = list(processed_reviews['review_after_stemming'])[3856]\n",
    "\n",
    "print(f'Comentário 15: {exemplo1}\\n')\n",
    "print(f'Comentário 3856: {exemplo2}')"
   ]
  },
  {
   "cell_type": "code",
   "execution_count": 82,
   "metadata": {
    "ExecuteTime": {
     "end_time": "2020-03-26T02:28:44.235362Z",
     "start_time": "2020-03-26T02:28:44.183508Z"
    }
   },
   "outputs": [
    {
     "data": {
      "text/html": [
       "<div>\n",
       "<style scoped>\n",
       "    .dataframe tbody tr th:only-of-type {\n",
       "        vertical-align: middle;\n",
       "    }\n",
       "\n",
       "    .dataframe tbody tr th {\n",
       "        vertical-align: top;\n",
       "    }\n",
       "\n",
       "    .dataframe thead th {\n",
       "        text-align: right;\n",
       "    }\n",
       "</style>\n",
       "<table border=\"1\" class=\"dataframe\">\n",
       "  <thead>\n",
       "    <tr style=\"text-align: right;\">\n",
       "      <th></th>\n",
       "      <th>review_comment_message</th>\n",
       "      <th>review_after_regex</th>\n",
       "      <th>review_after_stopwords</th>\n",
       "      <th>review_after_stemming</th>\n",
       "      <th>review_score</th>\n",
       "    </tr>\n",
       "  </thead>\n",
       "  <tbody>\n",
       "    <tr>\n",
       "      <th>3</th>\n",
       "      <td>Recebi bem antes do prazo estipulado.</td>\n",
       "      <td>Recebi bem antes do prazo estipulado</td>\n",
       "      <td>recebi bem antes prazo estipulado</td>\n",
       "      <td>receb bem ant praz estipul</td>\n",
       "      <td>5</td>\n",
       "    </tr>\n",
       "    <tr>\n",
       "      <th>4</th>\n",
       "      <td>Parabéns lojas lannister adorei comprar pela I...</td>\n",
       "      <td>Parabéns lojas lannister adorei comprar pela I...</td>\n",
       "      <td>parabéns lojas lannister adorei comprar intern...</td>\n",
       "      <td>parabém loj lannist ador compr internet segur ...</td>\n",
       "      <td>5</td>\n",
       "    </tr>\n",
       "    <tr>\n",
       "      <th>9</th>\n",
       "      <td>aparelho eficiente. no site a marca do aparelh...</td>\n",
       "      <td>aparelho eficiente no site a marca do aparelho...</td>\n",
       "      <td>aparelho eficiente site marca aparelho impress...</td>\n",
       "      <td>aparelh efici sit marc aparelh impress numer d...</td>\n",
       "      <td>4</td>\n",
       "    </tr>\n",
       "    <tr>\n",
       "      <th>12</th>\n",
       "      <td>Mas um pouco ,travando...pelo valor ta Boa.\\r\\n</td>\n",
       "      <td>Mas um pouco travando pelo valor ta Boa</td>\n",
       "      <td>pouco travando valor ta boa</td>\n",
       "      <td>pouc trav val ta boa</td>\n",
       "      <td>4</td>\n",
       "    </tr>\n",
       "    <tr>\n",
       "      <th>15</th>\n",
       "      <td>Vendedor confiável, produto ok e entrega antes...</td>\n",
       "      <td>Vendedor confiável produto ok e entrega antes ...</td>\n",
       "      <td>vendedor confiável produto ok entrega antes prazo</td>\n",
       "      <td>vend confi produt ok entreg ant praz</td>\n",
       "      <td>5</td>\n",
       "    </tr>\n",
       "  </tbody>\n",
       "</table>\n",
       "</div>"
      ],
      "text/plain": [
       "                               review_comment_message  \\\n",
       "3               Recebi bem antes do prazo estipulado.   \n",
       "4   Parabéns lojas lannister adorei comprar pela I...   \n",
       "9   aparelho eficiente. no site a marca do aparelh...   \n",
       "12    Mas um pouco ,travando...pelo valor ta Boa.\\r\\n   \n",
       "15  Vendedor confiável, produto ok e entrega antes...   \n",
       "\n",
       "                                   review_after_regex  \\\n",
       "3               Recebi bem antes do prazo estipulado    \n",
       "4   Parabéns lojas lannister adorei comprar pela I...   \n",
       "9   aparelho eficiente no site a marca do aparelho...   \n",
       "12           Mas um pouco travando pelo valor ta Boa    \n",
       "15  Vendedor confiável produto ok e entrega antes ...   \n",
       "\n",
       "                               review_after_stopwords  \\\n",
       "3                   recebi bem antes prazo estipulado   \n",
       "4   parabéns lojas lannister adorei comprar intern...   \n",
       "9   aparelho eficiente site marca aparelho impress...   \n",
       "12                        pouco travando valor ta boa   \n",
       "15  vendedor confiável produto ok entrega antes prazo   \n",
       "\n",
       "                                review_after_stemming  review_score  \n",
       "3                          receb bem ant praz estipul             5  \n",
       "4   parabém loj lannist ador compr internet segur ...             5  \n",
       "9   aparelh efici sit marc aparelh impress numer d...             4  \n",
       "12                               pouc trav val ta boa             4  \n",
       "15               vend confi produt ok entreg ant praz             5  "
      ]
     },
     "execution_count": 82,
     "metadata": {},
     "output_type": "execute_result"
    }
   ],
   "source": [
    "# Comparando a preparação até o momento\n",
    "processed_reviews = processed_reviews.iloc[:, np.r_[0, 1, 3, 4, 2]]\n",
    "processed_reviews.head()"
   ]
  },
  {
   "cell_type": "markdown",
   "metadata": {},
   "source": [
    "## Score"
   ]
  },
  {
   "cell_type": "markdown",
   "metadata": {},
   "source": [
    "Este é uma etapa extremamente importante durante a preparação dos dados para a criação de um algoritmo de análise de sentimentos. A coluna `review_score` traz uma nota, variando de 1 a 5, para cada um dos comentários e, de certa forma, indica o nível de satisfação dos clientes com relação ao pedido online realizado.\n",
    "\n",
    "Dessa forma, dentro do escopo deste projeto, será criado um _label_ para cada um dos comentários utilizando este _score_ como base de acordo com os limites abaixo:"
   ]
  },
  {
   "cell_type": "markdown",
   "metadata": {},
   "source": [
    "* **Scores 1 e 2:** Sentimento negativo (0)\n",
    "* **Scores 3, 4 e 5:** Sentimento positivo (1)"
   ]
  },
  {
   "cell_type": "code",
   "execution_count": 83,
   "metadata": {
    "ExecuteTime": {
     "end_time": "2020-03-26T02:28:47.126539Z",
     "start_time": "2020-03-26T02:28:47.115561Z"
    }
   },
   "outputs": [
    {
     "data": {
      "text/plain": [
       "5    20646\n",
       "1     9179\n",
       "4     6034\n",
       "3     3665\n",
       "2     2229\n",
       "Name: review_score, dtype: int64"
      ]
     },
     "execution_count": 83,
     "metadata": {},
     "output_type": "execute_result"
    }
   ],
   "source": [
    "# Distribuição\n",
    "processed_reviews['review_score'].value_counts()"
   ]
  },
  {
   "cell_type": "code",
   "execution_count": 84,
   "metadata": {
    "ExecuteTime": {
     "end_time": "2020-03-26T02:28:49.730422Z",
     "start_time": "2020-03-26T02:28:49.651632Z"
    }
   },
   "outputs": [
    {
     "data": {
      "text/html": [
       "<div>\n",
       "<style scoped>\n",
       "    .dataframe tbody tr th:only-of-type {\n",
       "        vertical-align: middle;\n",
       "    }\n",
       "\n",
       "    .dataframe tbody tr th {\n",
       "        vertical-align: top;\n",
       "    }\n",
       "\n",
       "    .dataframe thead th {\n",
       "        text-align: right;\n",
       "    }\n",
       "</style>\n",
       "<table border=\"1\" class=\"dataframe\">\n",
       "  <thead>\n",
       "    <tr style=\"text-align: right;\">\n",
       "      <th></th>\n",
       "      <th>review_comment_message</th>\n",
       "      <th>review_after_regex</th>\n",
       "      <th>review_after_stopwords</th>\n",
       "      <th>review_after_stemming</th>\n",
       "      <th>review_score</th>\n",
       "      <th>sentimento</th>\n",
       "    </tr>\n",
       "  </thead>\n",
       "  <tbody>\n",
       "    <tr>\n",
       "      <th>3</th>\n",
       "      <td>Recebi bem antes do prazo estipulado.</td>\n",
       "      <td>Recebi bem antes do prazo estipulado</td>\n",
       "      <td>recebi bem antes prazo estipulado</td>\n",
       "      <td>receb bem ant praz estipul</td>\n",
       "      <td>5</td>\n",
       "      <td>1</td>\n",
       "    </tr>\n",
       "    <tr>\n",
       "      <th>4</th>\n",
       "      <td>Parabéns lojas lannister adorei comprar pela I...</td>\n",
       "      <td>Parabéns lojas lannister adorei comprar pela I...</td>\n",
       "      <td>parabéns lojas lannister adorei comprar intern...</td>\n",
       "      <td>parabém loj lannist ador compr internet segur ...</td>\n",
       "      <td>5</td>\n",
       "      <td>1</td>\n",
       "    </tr>\n",
       "    <tr>\n",
       "      <th>9</th>\n",
       "      <td>aparelho eficiente. no site a marca do aparelh...</td>\n",
       "      <td>aparelho eficiente no site a marca do aparelho...</td>\n",
       "      <td>aparelho eficiente site marca aparelho impress...</td>\n",
       "      <td>aparelh efici sit marc aparelh impress numer d...</td>\n",
       "      <td>4</td>\n",
       "      <td>1</td>\n",
       "    </tr>\n",
       "    <tr>\n",
       "      <th>12</th>\n",
       "      <td>Mas um pouco ,travando...pelo valor ta Boa.\\r\\n</td>\n",
       "      <td>Mas um pouco travando pelo valor ta Boa</td>\n",
       "      <td>pouco travando valor ta boa</td>\n",
       "      <td>pouc trav val ta boa</td>\n",
       "      <td>4</td>\n",
       "      <td>1</td>\n",
       "    </tr>\n",
       "    <tr>\n",
       "      <th>15</th>\n",
       "      <td>Vendedor confiável, produto ok e entrega antes...</td>\n",
       "      <td>Vendedor confiável produto ok e entrega antes ...</td>\n",
       "      <td>vendedor confiável produto ok entrega antes prazo</td>\n",
       "      <td>vend confi produt ok entreg ant praz</td>\n",
       "      <td>5</td>\n",
       "      <td>1</td>\n",
       "    </tr>\n",
       "    <tr>\n",
       "      <th>16</th>\n",
       "      <td>GOSTARIA DE SABER O QUE HOUVE, SEMPRE RECEBI E...</td>\n",
       "      <td>GOSTARIA DE SABER O QUE HOUVE SEMPRE RECEBI E ...</td>\n",
       "      <td>gostaria saber sempre recebi compra agora decp...</td>\n",
       "      <td>gost sab sempr receb compr agor decpcion</td>\n",
       "      <td>2</td>\n",
       "      <td>0</td>\n",
       "    </tr>\n",
       "    <tr>\n",
       "      <th>19</th>\n",
       "      <td>Péssimo</td>\n",
       "      <td>Péssimo</td>\n",
       "      <td>péssimo</td>\n",
       "      <td>péss</td>\n",
       "      <td>1</td>\n",
       "      <td>0</td>\n",
       "    </tr>\n",
       "    <tr>\n",
       "      <th>22</th>\n",
       "      <td>Loja nota 10</td>\n",
       "      <td>Loja nota numero</td>\n",
       "      <td>loja nota numero</td>\n",
       "      <td>loj not numer</td>\n",
       "      <td>5</td>\n",
       "      <td>1</td>\n",
       "    </tr>\n",
       "    <tr>\n",
       "      <th>24</th>\n",
       "      <td>obrigado pela atençao amim dispensada</td>\n",
       "      <td>obrigado pela atençao amim dispensada</td>\n",
       "      <td>obrigado atençao amim dispensada</td>\n",
       "      <td>obrig atença amim dispens</td>\n",
       "      <td>5</td>\n",
       "      <td>1</td>\n",
       "    </tr>\n",
       "    <tr>\n",
       "      <th>27</th>\n",
       "      <td>A compra foi realizada facilmente.\\r\\nA entreg...</td>\n",
       "      <td>A compra foi realizada facilmente A entrega fo...</td>\n",
       "      <td>compra realizada facilmente entrega efetuada a...</td>\n",
       "      <td>compr realiz facil entreg efetu ant praz dad p...</td>\n",
       "      <td>5</td>\n",
       "      <td>1</td>\n",
       "    </tr>\n",
       "    <tr>\n",
       "      <th>28</th>\n",
       "      <td>relógio muito bonito e barato.</td>\n",
       "      <td>relógio muito bonito e barato</td>\n",
       "      <td>relógio bonito barato</td>\n",
       "      <td>relógi bonit barat</td>\n",
       "      <td>5</td>\n",
       "      <td>1</td>\n",
       "    </tr>\n",
       "    <tr>\n",
       "      <th>29</th>\n",
       "      <td>Não gostei ! Comprei gato por lebre</td>\n",
       "      <td>Não gostei Comprei gato por lebre</td>\n",
       "      <td>gostei comprei gato lebre</td>\n",
       "      <td>gost compr gat lebr</td>\n",
       "      <td>1</td>\n",
       "      <td>0</td>\n",
       "    </tr>\n",
       "    <tr>\n",
       "      <th>32</th>\n",
       "      <td>Sempre compro pela Internet e a entrega ocorre...</td>\n",
       "      <td>Sempre compro pela Internet e a entrega ocorre...</td>\n",
       "      <td>sempre compro internet entrega ocorre antes pr...</td>\n",
       "      <td>sempr compr internet entreg ocorr ant praz com...</td>\n",
       "      <td>1</td>\n",
       "      <td>0</td>\n",
       "    </tr>\n",
       "    <tr>\n",
       "      <th>34</th>\n",
       "      <td>Recebi exatamente o que esperava. As demais en...</td>\n",
       "      <td>Recebi exatamente o que esperava As demais enc...</td>\n",
       "      <td>recebi exatamente esperava demais encomendas o...</td>\n",
       "      <td>receb exat esper demal encomend outr vend atra...</td>\n",
       "      <td>4</td>\n",
       "      <td>1</td>\n",
       "    </tr>\n",
       "    <tr>\n",
       "      <th>36</th>\n",
       "      <td>Recomendo ,</td>\n",
       "      <td>Recomendo</td>\n",
       "      <td>recomendo</td>\n",
       "      <td>recom</td>\n",
       "      <td>5</td>\n",
       "      <td>1</td>\n",
       "    </tr>\n",
       "  </tbody>\n",
       "</table>\n",
       "</div>"
      ],
      "text/plain": [
       "                               review_comment_message  \\\n",
       "3               Recebi bem antes do prazo estipulado.   \n",
       "4   Parabéns lojas lannister adorei comprar pela I...   \n",
       "9   aparelho eficiente. no site a marca do aparelh...   \n",
       "12    Mas um pouco ,travando...pelo valor ta Boa.\\r\\n   \n",
       "15  Vendedor confiável, produto ok e entrega antes...   \n",
       "16  GOSTARIA DE SABER O QUE HOUVE, SEMPRE RECEBI E...   \n",
       "19                                            Péssimo   \n",
       "22                                       Loja nota 10   \n",
       "24              obrigado pela atençao amim dispensada   \n",
       "27  A compra foi realizada facilmente.\\r\\nA entreg...   \n",
       "28                     relógio muito bonito e barato.   \n",
       "29                Não gostei ! Comprei gato por lebre   \n",
       "32  Sempre compro pela Internet e a entrega ocorre...   \n",
       "34  Recebi exatamente o que esperava. As demais en...   \n",
       "36                                        Recomendo ,   \n",
       "\n",
       "                                   review_after_regex  \\\n",
       "3               Recebi bem antes do prazo estipulado    \n",
       "4   Parabéns lojas lannister adorei comprar pela I...   \n",
       "9   aparelho eficiente no site a marca do aparelho...   \n",
       "12           Mas um pouco travando pelo valor ta Boa    \n",
       "15  Vendedor confiável produto ok e entrega antes ...   \n",
       "16  GOSTARIA DE SABER O QUE HOUVE SEMPRE RECEBI E ...   \n",
       "19                                            Péssimo   \n",
       "22                                  Loja nota numero    \n",
       "24              obrigado pela atençao amim dispensada   \n",
       "27  A compra foi realizada facilmente A entrega fo...   \n",
       "28                     relógio muito bonito e barato    \n",
       "29                  Não gostei Comprei gato por lebre   \n",
       "32  Sempre compro pela Internet e a entrega ocorre...   \n",
       "34  Recebi exatamente o que esperava As demais enc...   \n",
       "36                                         Recomendo    \n",
       "\n",
       "                               review_after_stopwords  \\\n",
       "3                   recebi bem antes prazo estipulado   \n",
       "4   parabéns lojas lannister adorei comprar intern...   \n",
       "9   aparelho eficiente site marca aparelho impress...   \n",
       "12                        pouco travando valor ta boa   \n",
       "15  vendedor confiável produto ok entrega antes prazo   \n",
       "16  gostaria saber sempre recebi compra agora decp...   \n",
       "19                                            péssimo   \n",
       "22                                   loja nota numero   \n",
       "24                   obrigado atençao amim dispensada   \n",
       "27  compra realizada facilmente entrega efetuada a...   \n",
       "28                              relógio bonito barato   \n",
       "29                          gostei comprei gato lebre   \n",
       "32  sempre compro internet entrega ocorre antes pr...   \n",
       "34  recebi exatamente esperava demais encomendas o...   \n",
       "36                                          recomendo   \n",
       "\n",
       "                                review_after_stemming  review_score sentimento  \n",
       "3                          receb bem ant praz estipul             5          1  \n",
       "4   parabém loj lannist ador compr internet segur ...             5          1  \n",
       "9   aparelh efici sit marc aparelh impress numer d...             4          1  \n",
       "12                               pouc trav val ta boa             4          1  \n",
       "15               vend confi produt ok entreg ant praz             5          1  \n",
       "16           gost sab sempr receb compr agor decpcion             2          0  \n",
       "19                                               péss             1          0  \n",
       "22                                      loj not numer             5          1  \n",
       "24                          obrig atença amim dispens             5          1  \n",
       "27  compr realiz facil entreg efetu ant praz dad p...             5          1  \n",
       "28                                 relógi bonit barat             5          1  \n",
       "29                                gost compr gat lebr             1          0  \n",
       "32  sempr compr internet entreg ocorr ant praz com...             1          0  \n",
       "34  receb exat esper demal encomend outr vend atra...             4          1  \n",
       "36                                              recom             5          1  "
      ]
     },
     "execution_count": 84,
     "metadata": {},
     "output_type": "execute_result"
    }
   ],
   "source": [
    "# Criando classes\n",
    "bin_edges = [0, 2, 5]\n",
    "bin_names = ['0', '1']\n",
    "processed_reviews['sentimento'] = pd.cut(processed_reviews['review_score'], bins=bin_edges, labels=bin_names)\n",
    "processed_reviews.head(15)"
   ]
  },
  {
   "cell_type": "markdown",
   "metadata": {},
   "source": [
    "Talvez esta não seja a melhor abordagem, uma vez que possam existir comentários realmente \"positivos\" com um score baixo (e vice e versa). Como baseline, é possível seguir com esse princípio, tendo em mente que algumas melhorias podem ser aplicadas nesta definição do que é realmente _positivo_ ou _negativo_ baseando-se unicamente no score."
   ]
  },
  {
   "cell_type": "markdown",
   "metadata": {},
   "source": [
    "## TF-IDF"
   ]
  },
  {
   "cell_type": "markdown",
   "metadata": {},
   "source": [
    "Visando preparar os dados para que um algoritmo de classificação consiga analisar e classificar o sentimento presente em cada um, é necessário transformar os textos em números. Para tal, existem diferentes abordagens, como por exemplo, _Bag of Words, TF-IDF e Word2Vec_.\n",
    "\n",
    "Na abordagem _Bag of Words_, é criado um vocabulário com todas as palavras únicas e, para cada comentário, o número indexado ao vetor respectivo irá significar a frequência daquela palavra.\n",
    "\n",
    "Assim, cada palavra tem o mesmo peso, o que pode não ser verdadeiro principalmente para as palavras de baixa ocorrência no corpus. Assim, a abordagem TF-IDF (Term Frequency and Inverse Document Frequency) pode ser utilizada com o auxílio da biblioteca sklearn."
   ]
  },
  {
   "cell_type": "markdown",
   "metadata": {},
   "source": [
    "\\begin{equation*}\n",
    "    TF=\\frac{\\text{Frequency of a word in the document}}{\\text{Total words in the document}}\n",
    "\\end{equation*}"
   ]
  },
  {
   "cell_type": "markdown",
   "metadata": {},
   "source": [
    "\\begin{equation*}\n",
    "    IDF = \\log\\left({\\frac{\\text{Total number of docs}}{\\text{Number of docs containing the words}}}\\right)\n",
    "\\end{equation*}"
   ]
  },
  {
   "cell_type": "code",
   "execution_count": 85,
   "metadata": {
    "ExecuteTime": {
     "end_time": "2020-03-26T02:28:52.925109Z",
     "start_time": "2020-03-26T02:28:52.410540Z"
    }
   },
   "outputs": [
    {
     "data": {
      "text/plain": [
       "array([0, 0, 0, 0, 0, 0, 0, 0, 0, 0, 0, 0, 0, 0, 1, 0, 0, 0, 0, 0, 0, 0,\n",
       "       0, 0, 0, 0, 0, 0, 0, 1, 0, 0, 0, 0, 0, 0, 0, 0, 0, 0, 0, 0, 0, 0,\n",
       "       0, 0, 0, 0, 0, 0, 0, 0, 0, 0, 0, 0, 0, 0, 0, 0, 0, 0, 0, 0, 0, 0,\n",
       "       0, 0, 0, 0, 0, 0, 0, 0, 0, 0, 0, 0, 0, 0, 0, 0, 0, 0, 0, 0, 0, 0,\n",
       "       0, 0, 0, 0, 0, 0, 0, 0, 0, 0, 0, 0, 0, 0, 0, 0, 0, 0, 0, 0, 0, 0,\n",
       "       0, 1, 0, 0, 0, 0, 0, 0, 0, 0, 0, 0, 0, 0, 0, 0, 0, 0, 0, 0, 0, 0,\n",
       "       0, 0, 0, 0, 0, 0, 0, 0, 0, 0, 0, 0, 0, 0, 0, 0, 0, 0, 0, 0, 0, 0,\n",
       "       0, 0, 0, 0, 0, 0, 0, 0, 0, 0, 0, 0, 0, 0, 0, 0, 0, 0, 0, 0, 0, 0,\n",
       "       0, 0, 0, 0, 0, 0, 0, 0, 0, 0, 0, 0, 0, 0, 0, 0, 0, 0, 0, 0, 0, 0,\n",
       "       0, 0, 0, 0, 0, 0, 0, 0, 0, 0, 0, 0, 0, 0, 0, 0, 0, 0, 1, 0, 0, 0,\n",
       "       0, 0, 0, 0, 0, 0, 0, 0, 0, 0, 0, 0, 0, 0, 0, 0, 1, 0, 0, 0, 0, 0,\n",
       "       0, 0, 0, 0, 0, 0, 0, 0, 0, 0, 0, 0, 0, 0, 0, 0, 0, 0, 0, 0, 0, 0,\n",
       "       0, 0, 0, 0, 0, 0, 0, 0, 0, 0, 0, 0, 0, 0, 0, 0, 0, 0, 0, 0, 0, 0,\n",
       "       0, 0, 0, 0, 0, 0, 0, 0, 0, 0, 0, 0, 0, 0], dtype=int64)"
      ]
     },
     "execution_count": 85,
     "metadata": {},
     "output_type": "execute_result"
    }
   ],
   "source": [
    "# Aplicando TF-IDF\n",
    "X = list(processed_reviews['review_after_stemming'])\n",
    "y = processed_reviews['sentimento'].values\n",
    "y = y.astype(int)\n",
    "vectorizer = CountVectorizer(max_features=300, min_df=7, max_df=0.8, \n",
    "                             stop_words=stopwords.words('portuguese'))\n",
    "processed_features = vectorizer.fit_transform(X).toarray()\n",
    "\n",
    "# Exemplo de comentário\n",
    "processed_features[0]"
   ]
  },
  {
   "cell_type": "markdown",
   "metadata": {
    "ExecuteTime": {
     "end_time": "2019-08-26T11:34:47.024096Z",
     "start_time": "2019-08-26T11:34:47.020433Z"
    }
   },
   "source": [
    "Argumentos da função `CountVectorizer()`:\n",
    "\n",
    "* **max_features=300** - indica que serão utilizadas apenas as 300 palavras mais comuns para a criação do vetor de features bag of words\n",
    "* **max_df=0.8** - indica que serão utilizadas apenas as palavras que ocorrem em um máximo de 80% do conjunto de críticas\n",
    "* **min_df=7** - indica que serão incluídas palavras que ocorrem em, pelo menos, 7 críticas"
   ]
  },
  {
   "cell_type": "markdown",
   "metadata": {},
   "source": [
    "Lembrando que, para uma primeira tentativa, tudo ainda está na fase de experimentação. Estes parâmetros podem ser alterados de acordo com os resultados obtidos."
   ]
  },
  {
   "cell_type": "markdown",
   "metadata": {},
   "source": [
    "## Pipeline de Preparação"
   ]
  },
  {
   "cell_type": "markdown",
   "metadata": {},
   "source": [
    "Após exemplificadas algumas transformações a serem realizadas no conjunto de dados, vamos criar um Pipeline de preparação para realizar todos os procedimentos exigidos em um treinamento de classificação de texto. Para isso, serão utilizadas algumas funcionalidades do Scikit-Learn (como a classe Pipeline, por exemplo), para acoplar e facilitar a execução do código"
   ]
  },
  {
   "cell_type": "markdown",
   "metadata": {},
   "source": [
    "### Definindo Pipeline"
   ]
  },
  {
   "cell_type": "code",
   "execution_count": 86,
   "metadata": {
    "ExecuteTime": {
     "end_time": "2020-03-26T02:28:55.898283Z",
     "start_time": "2020-03-26T02:28:55.888311Z"
    }
   },
   "outputs": [],
   "source": [
    "# Classe para implementação das Expressões Regulares\n",
    "class ApplyRegex(BaseEstimator, TransformerMixin):\n",
    "    \n",
    "    def __init__(self, break_line=True, carriage_return=True, numbers=True, number_replacing='number', \n",
    "                 special_char=True, additional_spaces=True):\n",
    "        self.break_line = break_line\n",
    "        self.carriage_return = carriage_return\n",
    "        self.numbers = numbers\n",
    "        self.number_replacing = number_replacing\n",
    "        self.special_char = special_char\n",
    "        self.additional_spaces = additional_spaces\n",
    "        \n",
    "    def fit(self, X, y=None):\n",
    "        return self\n",
    "    \n",
    "    def transform(self, X, y=None):\n",
    "        X_transformed = []\n",
    "        for c in X:\n",
    "            if self.break_line:\n",
    "                c = re.sub('\\n', ' ', c)\n",
    "            if self.carriage_return:\n",
    "                c = re.sub('\\r', ' ', c)\n",
    "            if self.numbers:\n",
    "                c = re.sub(r'\\d+(?:\\.\\d*(?:[eE]\\d+))?', ' '+self.number_replacing+' ', c)\n",
    "            if self.special_char:\n",
    "                c = re.sub(r'R\\$', ' ', c)\n",
    "                c = re.sub(r'\\W', ' ', c)\n",
    "            if self.additional_spaces:\n",
    "                c = re.sub(r'\\s+', ' ', c)\n",
    "            X_transformed.append(c)\n",
    "        return X_transformed"
   ]
  },
  {
   "cell_type": "code",
   "execution_count": 87,
   "metadata": {
    "ExecuteTime": {
     "end_time": "2020-03-26T02:28:58.538224Z",
     "start_time": "2020-03-26T02:28:58.532240Z"
    }
   },
   "outputs": [],
   "source": [
    "# Classe para remoção de Stopwords e pontuações\n",
    "class StopWordsPunctuationRemoval(BaseEstimator, TransformerMixin):\n",
    "    \n",
    "    def fit(self, X, y=None):\n",
    "        return self\n",
    "    \n",
    "    def transform(self, X, y=None):\n",
    "        X_transformed = list(map(lambda c: text_process(c), X))\n",
    "        X_transformed = list(map(lambda x: ' '.join(x), X_transformed))\n",
    "        return X_transformed"
   ]
  },
  {
   "cell_type": "code",
   "execution_count": 88,
   "metadata": {
    "ExecuteTime": {
     "end_time": "2020-03-26T02:29:01.096383Z",
     "start_time": "2020-03-26T02:29:01.088404Z"
    }
   },
   "outputs": [],
   "source": [
    "# Classe para aplicação do Stemming\n",
    "class TextStemming(BaseEstimator, TransformerMixin):\n",
    "\n",
    "    def fit(self, X, y=None):\n",
    "        return self\n",
    "    \n",
    "    def transform(self, X, y=None):\n",
    "        \"\"\"X_Series = pd.Series(X)\n",
    "        X_transformed = X_Series.apply(stem_processing)\n",
    "        X_transformed = X_transformed.apply(lambda x: ' '.join(x))\n",
    "        return list(X_transformed.values)\"\"\"\n",
    "        X_transformed = list(map(lambda c: stem_processing(c), X))\n",
    "        X_transformed = list(map(lambda x: ' '.join(x), X_transformed))\n",
    "        return X_transformed"
   ]
  },
  {
   "cell_type": "code",
   "execution_count": 89,
   "metadata": {
    "ExecuteTime": {
     "end_time": "2020-03-26T02:29:03.661976Z",
     "start_time": "2020-03-26T02:29:03.653001Z"
    }
   },
   "outputs": [],
   "source": [
    "# Classe para aplicação do TF-IDF\n",
    "class TF_IDF(BaseEstimator, TransformerMixin):\n",
    "    \n",
    "    def __init__(self, max_features=300, stop_words=stopwords.words('portuguese')):\n",
    "        self.max_features = max_features\n",
    "        #self.min_df = min_df\n",
    "        #self.max_df = max_df\n",
    "        self.stop_words = stop_words\n",
    "    \n",
    "    def fit(self, X, y=None):\n",
    "        return self\n",
    "    \n",
    "    def transform(self, X, y=None):\n",
    "        vectorizer = CountVectorizer(max_features=self.max_features, stop_words=self.stop_words)\n",
    "        X_transformed = vectorizer.fit_transform(X)\n",
    "        return X_transformed.toarray()"
   ]
  },
  {
   "cell_type": "markdown",
   "metadata": {},
   "source": [
    "Após a definição de todas as classes responsáveis pela preparação dos dados, vamos consolidá-las em uma forma de **_Pipeline_**."
   ]
  },
  {
   "cell_type": "code",
   "execution_count": 90,
   "metadata": {
    "ExecuteTime": {
     "end_time": "2020-03-26T02:29:06.307379Z",
     "start_time": "2020-03-26T02:29:06.302392Z"
    }
   },
   "outputs": [],
   "source": [
    "# Definindo Pipeline completo\n",
    "preprocess_pipeline = Pipeline([\n",
    "    ('regex_cleaner', ApplyRegex()),\n",
    "    ('stopwords_punc_remover', StopWordsPunctuationRemoval()),\n",
    "    ('stemming', TextStemming()),\n",
    "])"
   ]
  },
  {
   "cell_type": "markdown",
   "metadata": {},
   "source": [
    "### Aplicando Pipeline"
   ]
  },
  {
   "cell_type": "markdown",
   "metadata": {},
   "source": [
    "Definido um pipeline de pre-processamento, vamos coletar o dataset original, separar em conjuntos de _treino_ e _teste_ e, por fim, realizar todos os procedimentos"
   ]
  },
  {
   "cell_type": "code",
   "execution_count": 91,
   "metadata": {
    "ExecuteTime": {
     "end_time": "2020-03-26T02:32:04.343690Z",
     "start_time": "2020-03-26T02:29:08.864205Z"
    }
   },
   "outputs": [],
   "source": [
    "# Separando dataset\n",
    "bin_edges = [0, 2, 5]\n",
    "bin_names = ['0', '1']\n",
    "reviews['sentimento'] = pd.cut(reviews['review_score'], bins=bin_edges, labels=bin_names)\n",
    "X = reviews['review_comment_message']\n",
    "y = reviews['sentimento'].values\n",
    "y = y.astype(int)\n",
    "\n",
    "# Aplicando pre-processamento\n",
    "X_preprocessed = preprocess_pipeline.fit_transform(X)\n",
    "\n",
    "# Aplicando TDIDF\n",
    "vectorizer = CountVectorizer(max_features=300, stop_words=stopwords.words('portuguese'))\n",
    "X_transformed = vectorizer.fit_transform(X_preprocessed).toarray()"
   ]
  },
  {
   "cell_type": "code",
   "execution_count": 96,
   "metadata": {
    "ExecuteTime": {
     "end_time": "2020-03-26T02:37:17.500687Z",
     "start_time": "2020-03-26T02:34:22.323820Z"
    }
   },
   "outputs": [],
   "source": [
    "# Definindo Pipeline completo\n",
    "preprocess_pipeline = Pipeline([\n",
    "    ('regex_cleaner', ApplyRegex()),\n",
    "    ('stopwords_punc_remover', StopWordsPunctuationRemoval())\n",
    "])\n",
    "\n",
    "# Aplicando pre-processamento\n",
    "X = reviews['review_comment_message']\n",
    "X_preprocessed = preprocess_pipeline.fit_transform(X)"
   ]
  },
  {
   "cell_type": "code",
   "execution_count": 97,
   "metadata": {
    "ExecuteTime": {
     "end_time": "2020-03-26T02:43:46.897485Z",
     "start_time": "2020-03-26T02:43:46.874546Z"
    }
   },
   "outputs": [
    {
     "data": {
      "text/plain": [
       "['recebi bem antes prazo estipulado',\n",
       " 'parabéns lojas lannister adorei comprar internet seguro prático parabéns todos feliz páscoa',\n",
       " 'aparelho eficiente site marca aparelho impresso number desinfector chegar outro nome atualizar marca correta vez aparelho',\n",
       " 'pouco travando valor ta boa',\n",
       " 'vendedor confiável produto ok entrega antes prazo',\n",
       " 'gostaria saber sempre recebi compra agora decpcionou',\n",
       " 'péssimo',\n",
       " 'loja nota number',\n",
       " 'obrigado atençao amim dispensada',\n",
       " 'compra realizada facilmente entrega efetuada antes prazo dado produto começou ser usado presente problemas',\n",
       " 'relógio bonito barato',\n",
       " 'gostei comprei gato lebre',\n",
       " 'sempre compro internet entrega ocorre antes prazo combinado acredito ser prazo máximo stark prazo máximo esgotou ainda recebi produto',\n",
       " 'recebi exatamente esperava demais encomendas outros vendedores atrasaram chegou prazo',\n",
       " 'recomendo',\n",
       " 'boa',\n",
       " 'tô completamente apaixonada loja super responsável confiável',\n",
       " 'nada chegar pedido',\n",
       " 'bom cheiroso',\n",
       " 'otimo vendedor chegou ate antes prazo adorei produto',\n",
       " 'processo compra tranquilo eficiente',\n",
       " 'tomara q dure pois pelinho',\n",
       " 'recebi somente number controle midea split estilo faltou controle remoto ar condicionado consul',\n",
       " 'boa',\n",
       " 'mt lindo',\n",
       " 'ocorreu tudo contratado sendo entrega realizada antes prazo satisfeita',\n",
       " 'amei achei lindo delicado adorei',\n",
       " 'ótima loja parceria rápidíssima produtos bem embalados qualidade custo frete meio azedo',\n",
       " 'recomendo vendedor',\n",
       " 'produto chegou prazo estipulado causou transtorno pq programei viagem férias filho baseado prazo moro bahia cuiabá sozinho agora casa vazia',\n",
       " 'produto entregue solicitado muita brevidade parabéns',\n",
       " 'comprei duas unidades recebi agora faço',\n",
       " 'produto bom porém veio mim condiz foto anúncio',\n",
       " 'produto inferior mal acabado',\n",
       " 'kit mochila patrulha canina lindo netinho vai amar obrigada',\n",
       " 'maravilha',\n",
       " 'entrega prazo',\n",
       " 'cumpriu prometido compra entrega tempo satisfatório',\n",
       " 'pedi reembolso resposta momento',\n",
       " 'super rápido',\n",
       " 'satisfeito',\n",
       " 'estao parabens sempre chega muiiita antecedencia obrigada',\n",
       " 'ok recomendo',\n",
       " 'produto chegou pc conseguiu reconhecer portas usb',\n",
       " 'produto boa qualidade chegou antes prazo prometido',\n",
       " 'pedido balde number peças blocos montar number un number number cada entregue vendido entregue targaryen tapete eva nº letras number peças crianças number un number number entreg',\n",
       " 'entrega rápida parabéns',\n",
       " 'comprei tres pacotes cinco folhas cada papel transfer tecido escuro so recebi dois',\n",
       " 'faltando apenas produto recebi hoje obrigada tudo certo att elenice',\n",
       " 'bolsa térmica além linda super espaçosa produto acordo anunciado entrega super rápida entregou bem antes prazo',\n",
       " 'demorou pra entrega',\n",
       " 'super rapido entrega chegou antes data',\n",
       " 'entrega dividida duas comunicado loja cheguei pensar haviam enviado parte produto',\n",
       " 'funciona faz sincronismo',\n",
       " 'recomendo todos clientes',\n",
       " 'gostei',\n",
       " 'otima',\n",
       " 'gostei jogo banho estampa florida bordado tudo bonito ótimo produto',\n",
       " 'chegou apenas peça nota garantia constam duas joias',\n",
       " 'recebi produto consta sistema recebi além pagar caro frete',\n",
       " 'comprei relógio unissex enviaram relógio feminino bem menor especificações anúncio',\n",
       " 'sempre compro lannister pra mim melhor loja on line',\n",
       " 'produto qualidade excelente',\n",
       " 'ótimo custo benefício',\n",
       " 'ok',\n",
       " 'gostei atenção entrega',\n",
       " 'vidro quebrado veio caixa nenhuma proteção dentro caixa amassada desculpe gosto comprar vcs',\n",
       " 'peça serviu',\n",
       " 'comprei produto dia number fevereiro hoje dia number marco entregue residência sei correios desse brasil péssimo própria loja demorou postar',\n",
       " 'fiz compra faz number dias recebi ainda produto precisa melhorar entregas',\n",
       " 'espero receber semana tão extravagante porém atrazo faria desistir baratheon',\n",
       " 'entregou prazo certo fiquei feliz compra fiz',\n",
       " 'lindo relógio adorei',\n",
       " 'comprei dois lustres pendentes parceira targaryen enviaram lustre abri reclamação ainda recebi resposta aguardo solução parte lojas lannister',\n",
       " 'bom alta qualidade',\n",
       " 'produto bonito entregue bem valado dentro prazo recomendo',\n",
       " 'bom',\n",
       " 'faltou number produto recebi number veio quebrado',\n",
       " 'chegou dentro prazo produto excelente qualidade acabou dores costas dormindo bem',\n",
       " 'aqui descrevendo entregue ate agora recebi',\n",
       " 'acho rastreando produto devia ser melhor preciso geral ótima experiência',\n",
       " 'ainda oportunidade testar',\n",
       " 'comecei usar agora',\n",
       " 'nada declarar',\n",
       " 'comprar produto correto capa interno ser outro',\n",
       " 'entrega super rapida',\n",
       " 'fiz pedido number garrafas azeite chegaram number dia outras number quase number horas contato loja dificil tanto via mail qto telef suspense terminou lá compro',\n",
       " 'produto chegou rapido boa qualidade recomendo produto',\n",
       " 'posso aguardando chegada produto comprei logo aconteça opinião formada',\n",
       " 'comprei dois produtos recebi somente mandei dois emails loja nenhum retorno insatisfeita',\n",
       " 'recomendaria loja pretendo voltar comprar nela mercadoria entregue após prazo quase number mês após compra site lannister costumam chegar antes prazo estranhei',\n",
       " 'recomendo',\n",
       " 'atendeu expectativa',\n",
       " 'entrega antes prazo produto prático fácil manuseio',\n",
       " 'decepcionado',\n",
       " 'otimo produto nao veio manual problemas',\n",
       " 'peças encaixava diâmetro diferente serrar martelar poder caber encaixar resto tudo ok',\n",
       " 'excelente produto',\n",
       " 'tudo certo',\n",
       " 'demora entrega detestei atendimento nunca compro baratheon vendia mesmos bem melhor',\n",
       " 'produto bom',\n",
       " 'produto chegou segundo rastreio parado ribeirão preto sp',\n",
       " 'produto deu defeito number vez uso',\n",
       " 'super recomendo produto profissional qualidade',\n",
       " 'agora recebi produto',\n",
       " 'loja anuncia produto entrega outro',\n",
       " 'bom rapido vi ja chegado',\n",
       " 'produto chegou bem',\n",
       " 'otimo',\n",
       " 'apesar ter sido entregue rapidamente substituíram caixa meteoro caixa borne tentei reclamar lannister sistema estaav ar guitarra acessórios corretos',\n",
       " 'satisfeito',\n",
       " 'parabéns loja revendedor apesar ter demorado pouco',\n",
       " 'entregue dentro prazo bom período validade',\n",
       " 'jogo toalhas lindo bonito foto amei',\n",
       " 'produto entregue umas alças problemas faltando number pino fixação',\n",
       " 'marcado dia number number entrega pedido rastreamento marcava produto havia sido entregue data realidade entregue produto entregue dia number number',\n",
       " 'loja além frete ser caro produto leva quase number dias úteis chegar casa',\n",
       " 'recebi bem rápido porém veio outro produto pedi modelo veio diferente cor veio capinha zíper enfim recomendo',\n",
       " 'sempre comprei stark satisfeito',\n",
       " 'fiz compra tabela graças deus deu tudo certo fico grato pode confiar',\n",
       " 'cancelaram compra dia antes entrega liguei lannister atendentes sabiam acontecendo bagunça agora esperando ver vai ser cobrado',\n",
       " 'produto qualidade eficiência entrega recebi antes combinado recomendo',\n",
       " 'produto bom veio dentro prazo chegou number dias parabéns',\n",
       " 'enviei number solicitações site trocar endereço recebi mensagem iam ligar number h ligaram',\n",
       " 'tudo ok baratheon sempre responsável entregas',\n",
       " 'acabento foto bonito chegou sintetico feio acabento todo borrado orrivel nao gostei',\n",
       " 'desordenado comprei três produtos veio dia sertões veio separado data separada',\n",
       " '',\n",
       " 'entrega rapida',\n",
       " 'bom',\n",
       " 'mercadoria certa entregue prazo combinado grata',\n",
       " 'ruim',\n",
       " 'passou dias previstos',\n",
       " 'fazer compra kit entendi receberia number frascos number cápsulas cada number frascos number cápsulas total vou devolver porque precisando produto',\n",
       " 'entrega bem antes prazo perfeito',\n",
       " 'cada vez compro fico satisfeita parabéns honestidade clientes',\n",
       " 'bem rapido entrega bom comprar vcs',\n",
       " 'produto recomendo ler nenhum dispositivo',\n",
       " 'entrega super rápida parabéns',\n",
       " 'tudo rápido eficiente',\n",
       " 'creme maravilhoso entrega super rápida',\n",
       " 'tentando cancelar produto desde antes emissão nota fiscal avisada correio nenhuma resposta cancelamento nao consigo devolver',\n",
       " 'chegou hoje comentários',\n",
       " 'boa noite lamentável loja tantas compras ja fiz hoje satisfação sequer relógio importância number number reais produto defeito agora deu retor',\n",
       " 'bom esperava',\n",
       " 'capa protetora exatamente esperava deixa desejar tipo material qualidade',\n",
       " 'site produto parece ter melhor qualidade material acabamento',\n",
       " 'recebi produto corretamente dentro prazo verificando caixa tudo correto ainda montei produto lindo cor perfeita amamos super recomendo',\n",
       " 'embalagem deixou desejar pouco produto danificado caixa toda amassada',\n",
       " 'parabéns produto entregue bem antes prazo atendeu necessidades',\n",
       " 'recomendo',\n",
       " 'faltaram cabos manual',\n",
       " 'ótimo chegou bem antes prazo',\n",
       " 'entregue prazo produto bom',\n",
       " 'produto embalado apenas papel pardo sobre embalagem enviado correios lógico embalagem chegou amassada deus sabe produto funcionando ainda testei',\n",
       " 'acho q deveriam mandar sedex invés pac',\n",
       " 'última vez compro pois hoje vai fazer number mês fiz comprar nada demorar tempo entregar estarei procurando direitos contra lojas lannister targaryen',\n",
       " 'lindo faltou instruções troca pulseiras',\n",
       " 'produto exatamente conforme descrito chegou bem antes prazo',\n",
       " 'produto chegou bem antes prazo estipulado amei atendimento super recomendo',\n",
       " 'gostei produto material péssima qualidade',\n",
       " 'dois produtos comprados entregue apenas',\n",
       " 'nao compro lannister parceiro lannister targaryen jamais uso novamente ler dessa empresa saio correndo absurdo quase mês entregar extra ok',\n",
       " 'recebi corretamente produto',\n",
       " 'recebi produto dentro prazo informado ainda utilizei',\n",
       " 'pedido chegou antes combinado bom',\n",
       " 'produto entregue conforme anunciado',\n",
       " 'recebe apenas number peça produto precisando number peças restante',\n",
       " 'loja number',\n",
       " 'violão comprei lindo porém cor adesivo confere foto ato compra aprovei',\n",
       " 'fizeram nota fiscal',\n",
       " 'chegou antes prazo produto excelente',\n",
       " 'trabalho profissionalismo lojas lannister indico certeza',\n",
       " 'mp number player funciona trocando pilha diversas vezes devolver',\n",
       " 'super recomendo produto bom',\n",
       " 'pré treino bom melhores mercado melhor',\n",
       " 'loja postou produto mediato correio demorou pouco',\n",
       " 'sempre compro stark sempre bem atendido site eficiente produtos ótima qualidade recomendo todos podem comprar olhos fechados',\n",
       " 'bom desde compra entrega td direitinho rapido',\n",
       " 'tudo ok',\n",
       " 'targaryen confiança entregou compra colocou rastreamento pedido entregue dia number number number empresa falsa quero receber produtos pagos boleto bancari',\n",
       " 'entrega qualidade produto acordo esperado',\n",
       " 'excelente recomendo',\n",
       " 'bolsa bonita dentro forro bem fragil',\n",
       " 'instalei cartucho tinta impressora indicou vazio apresentou mensagem erro cima marcador nível tinta solicitei troca',\n",
       " 'bom recomendo produto',\n",
       " 'quanto site questionar sempre cumprem super combinado recomendo sempre produto fraco',\n",
       " 'bom todos aspectos',\n",
       " 'hoje satisfeito sbmarino',\n",
       " 'entregue duas capas couro compradas apenas aguardo devolução dinheiro entrega segunda capa',\n",
       " 'gostei',\n",
       " 'fiquei feliz tecido acho faltou lençol cima ficar completo espero logo lancem',\n",
       " 'chegou antes prazo cabeceira linda',\n",
       " 'alguma confusão vendedor stark pois recebi email stark pedindo cancelamento produto algum imprevisto entrega neguei recebi produto dias',\n",
       " 'number',\n",
       " 'gostei produto chegou tempo certo vendedores parabéns',\n",
       " 'atendimento excelente',\n",
       " 'gostei',\n",
       " 'dia number maio usei alça quebrou peso',\n",
       " 'toalha maior campeão brasil maravilhosa',\n",
       " 'entrega realizado antes previsto bom produto satisfeita',\n",
       " 'agora tudo bem esperando entrega produto',\n",
       " 'compra ocorreu esperado desde pedido recebimento produto tudo bem certinho',\n",
       " 'produto entregue antes prazo',\n",
       " 'gostei produto exatamente boque esperava entrega dentro prazo parabéns recomendo loja',\n",
       " 'comprei produto cor preta chegou cor vermelha',\n",
       " 'segunda vez compro nesta loja super eficiente entrega rápida antes prazo contratado produto bem embalado nota number obrigado',\n",
       " 'otimo',\n",
       " 'pensei mochila material resistente',\n",
       " 'comprei produto veio outro mandei msg informando erro porém obtive resposta obrigado',\n",
       " 'produto demora muita chegar',\n",
       " 'so recebemos relogio correio att',\n",
       " 'entrega rápida produto conforme esperado',\n",
       " 'tudo anunciado ótimo produto',\n",
       " 'produto boa qualidade exatamente conforme anunciado preço baixo atrativo',\n",
       " 'somente entregue unidade invés duas',\n",
       " 'adorei produto recebi antes prazo combinado ficou bonito',\n",
       " 'satisfeito',\n",
       " 'otimo produto porem caro demais',\n",
       " 'produtos otimos entrega rápida super recomendo',\n",
       " 'recebi sim defeito encaixes sao dois igual nao fecham',\n",
       " 'ainda recebi',\n",
       " 'pós venda excelente através sr renato',\n",
       " 'gostei produto entrega veio antes prazo recomendo fica bem encaixado celular tira elegância aparelho outras capas deixam monstruoso tamanho',\n",
       " 'bom',\n",
       " 'agora nao recebi comprei aparelho questao saude portanto nao recomendo loja',\n",
       " 'recomendo todos produto ótima qualidade entregue problemas',\n",
       " 'produto chegou dentro prazo veio conforme descrição excelente',\n",
       " 'produto chegou antes prazo gostei bastante agora rapazinho number aninhos vai aproveitar maximo',\n",
       " 'gostaria saber chegará produto pois passou data prevista entrega gostaria resposta aguardando',\n",
       " 'loja nota number',\n",
       " 'parabéns recebi antes prazo tudo correto combinado',\n",
       " 'produto entregue difere pedido trata produto inferior gostaria solucionado problema satisfeito procedimento',\n",
       " 'bom',\n",
       " 'comprei produto paguei boleto recebi metade produto anunciaram coisa mandaram outra insatisfeita',\n",
       " 'entrega antes prazo produto bem conservado',\n",
       " 'produto ótima qualidade adorei',\n",
       " 'apesar demora expedir nota fiscal expedida entrega rápida produto veio bem embalado recomendo',\n",
       " 'comprei produto dia inicio março recebi prazo abrindo protocolo resolverem situação',\n",
       " 'recebi produto assim nenhum contato parte vendedor',\n",
       " 'ratrear conseguindo',\n",
       " 'nota number',\n",
       " 'esperando instalador',\n",
       " 'comprei produto ser entregue loja ainda recebi pois assim passou data entrega',\n",
       " 'ótimo serviço',\n",
       " 'ótima compra ótimo produto senti falta algum comunicado compra chegada produto contato valeu',\n",
       " 'veio conforme pedido pós venda respondeu nenhuma perguntas',\n",
       " 'comprei duas mochilas recebi apenas natal chegando agora nada',\n",
       " 'perfeitos',\n",
       " 'preço ótimo prazo entrega longo number mês entregar comprei number cartuchos entregaram apenas number reclamei enviaram outro ainda dentro prazo entrega',\n",
       " 'prazo estendido porém entregue prazo divulgado propaganda cadeira conforme foto vem montar fácil linda',\n",
       " 'simplesmente lindo adorei produto tamanho perfeito comprei várias produtos faz anos compro baratheon',\n",
       " 'bom chegou dentro prazo',\n",
       " 'otimo preço entregou antes prazo produto ótima qualidade',\n",
       " 'comprei relogio presente natal filho ate agora nao chegou enviei mensagens ultima conversa relogio chegaria ontem porem nao recebi nada',\n",
       " 'poderia entregar rápido fim ano',\n",
       " 'otima venda tudo perfeito',\n",
       " 'produto ótima qualidade chegou antes tempo esperado amei number',\n",
       " 'veio bem embalado envio rápido',\n",
       " 'satisfeita compra recebimento produto dentro prazo',\n",
       " 'agora recebi nada colcha prevista anteontem number number agora nada',\n",
       " 'pincéis vieram amassados condiz algumas fotos condiz descrição fracos cabem case veio descolado',\n",
       " 'produto correspondente expectativas entregue antes prazo estabelecido',\n",
       " 'indico loja compro sempre lannister',\n",
       " 'produto veio diferente q mostra foto luxo acolchoado dizia',\n",
       " 'tudo normal compra internet obrigado',\n",
       " 'boa compra',\n",
       " 'produto chegou dentro prazo atende custo benefício porém bolsa forrada alça plástico satisfeita',\n",
       " 'plenamente satisfeita aquisição recomendo única coisa concordo valor frete autíssimo',\n",
       " 'comprei number enviaram number',\n",
       " 'parece mantem bem alimento murchar batata palha tampa estranha parece fecha inox tampa feio',\n",
       " 'aguardando resposta hoje sobre produtos pagos ainda recebi number iguais necessito falar pessoas máquina gravações',\n",
       " 'entrega produto perfeito',\n",
       " 'parabéns excelente atendimento qualidade',\n",
       " 'produto entregue antecipadamente',\n",
       " 'gostei comprar recebi produto antes prazo boa qualidade recomendo',\n",
       " 'super recomendo stark sempre chegando antes dta prevista d',\n",
       " 'correios entregou',\n",
       " 'entrega feita prazo produto perfeitas condicoes parabens equipe',\n",
       " 'ainda recebi produto',\n",
       " 'gostaria receber produtos corretos tentei realizar troca devolução dinheiro cartão site lannister possibilita realizado',\n",
       " 'produto perfeito entrega rápida satisfeitíssima',\n",
       " 'produto veio defeito devolvi conforme informado postado correio conforme indicado hoje recebi nenhuma notificação empresa quanto devolução análise ter meuressarcimento',\n",
       " 'pedido chegou antes prazo obrigada',\n",
       " 'recebemos number cartucho abrimos reclamação site ainda obtive resposta',\n",
       " 'produto alta qualidade descrição confere produto entregue tempo certo recomendo',\n",
       " 'tampo mesa chegou todo amassado batido',\n",
       " 'dentro prazo porém poderiam agilizar outro produto entregue number dias',\n",
       " 'relógio lindo entrega rápida recomendo',\n",
       " 'adorei pequeno fácil usar arranha apela limpa pele recomendo',\n",
       " 'sempre excelente serviço',\n",
       " 'momento n recebir produto',\n",
       " 'sempre lannister entrega certinho',\n",
       " 'produto perfeito chegou antes prazo',\n",
       " 'bom produto melhor esperava entregue prazo gostei bastante',\n",
       " 'bom produto preço cobrado',\n",
       " 'sdds',\n",
       " 'bom produto recomendo',\n",
       " 'entrega dentro prazo importante',\n",
       " 'gostei objeto veio comprado comprei outras lojas veio outra cor ñ gostei lannister tudo ok',\n",
       " 'aparelho chegou apresentando defeito apresentando todas funções visor digital',\n",
       " 'produto medidas corretas indicadas oferta q ligar vcs troca',\n",
       " 'aguardo retorno urgente',\n",
       " 'produto passou prazo entregar tento resolver problema empresa consigo falar ninguém tudo fazem passar reclamar sistema funciona',\n",
       " 'recebi produto consta recebi dois recebi sapateira',\n",
       " 'deram prazo grande entrega produto conseguiram entregar prazo',\n",
       " 'excelente produto indico qualquer pessoa',\n",
       " 'tudo certinho entrega prazo ótimo',\n",
       " 'recebi produto agora',\n",
       " 'chegou amassado',\n",
       " 'recomendo',\n",
       " 'comprei tapete borracha tr number mitsubishi loja entregou tapete pvc horrivel titulo ta tapete borracha tr number enganaram agora fazer sendo despesa devoluçao',\n",
       " 'ótimo perfume fragrância maravilhosa recomendo',\n",
       " 'boa rapida produto veio bom estado agora fazer testes',\n",
       " 'produto superou expectativa prazo entrega antecipado number dias instalei ficou show',\n",
       " 'entrega rapida',\n",
       " 'previsão entrega number number recebi number number excelente',\n",
       " 'cortina plástico foto parece tecido desenho diferente cores morta apagadas verdadeira porcaria recomendo ninguém compra decepção total',\n",
       " 'solicitei devolução produto defeito',\n",
       " 'loja si boa pena americana nao suporte cliente',\n",
       " 'exatamente precisava',\n",
       " 'achei qualidade produto ruim veio nenhuma bucha parafuso fixar parede',\n",
       " 'obrigada chegou mto rápido',\n",
       " 'único problema marcação data marcação americana',\n",
       " 'acho produto deveria ter prazo validade maior',\n",
       " 'entrega antes prazo recomendo loja',\n",
       " 'show',\n",
       " 'boa noite lojas lannister ótimas adoro site hoje faço pouquíssima compra frete abusivo infelizmente compensa antes precisamos comprar obrigada',\n",
       " 'excelente produto bonito sofisticado',\n",
       " 'veio nota fiscal',\n",
       " 'agradeço pois recebi produto correto conforme encontrado site entrega super rápida fiquei satisfeito certeza vou recomentar amigo',\n",
       " 'entrega rápida produto conforme anunciado',\n",
       " 'produto ainda entregue fiz reclamação agora nenhuma previsão entrega super insatisfeito quero dinheiro volta denunciar procon',\n",
       " 'cortina modelo pedi',\n",
       " 'impressão saindo tinta fraquinha',\n",
       " 'comprei rosa braços brancos entregam toda preta',\n",
       " 'preciso previsão',\n",
       " 'satisfeita chegou antes prazo super recomendo',\n",
       " 'produto chegou antes prazo estipulado atendeu plenamente expectativas',\n",
       " 'entrega dentro prazo produto nenhum problema',\n",
       " 'bom',\n",
       " 'boa qualidade preço',\n",
       " 'sempre entrega antes prazo',\n",
       " 'bom super recomendo entrega sempre certa',\n",
       " 'boas pessoal atendente lannister atenciosa porém loja deveria ter entregado produto cancelou comprar aconteceu',\n",
       " 'entregue antes prazo produto perfeito',\n",
       " 'recomendo todos problema nenhum mercadoria prazo ótimos',\n",
       " 'gostei ter comprado nesta loja atendimento perfeito',\n",
       " 'comprei cadeira recebi prazo porém cadeira veio quebrada parte inferior poderiam ter maior cuidado embalagem',\n",
       " 'sempre compro sempre recebo produto certo prazo antes prazo',\n",
       " 'entrega rapida',\n",
       " 'produto entregue bem antes prazo adorei',\n",
       " 'ainda nao instalei gostei',\n",
       " 'bom produto entrega rápida recomendo',\n",
       " 'produto recebido prazo perfeitas condições',\n",
       " 'bom',\n",
       " 'recebi outra boneca quero devolver consigo contato jamais compraria novamente dessa loja',\n",
       " 'ótima compra frete nao compensa pesa orçamento devia ter frete grates',\n",
       " 'n',\n",
       " 'produto chegou imaginava enquanto gostando',\n",
       " 'ótima rápida entrega obrigado',\n",
       " 'penso deveria haver modo comunicar empresa caso acontecesse encomenda ser entregue',\n",
       " 'produto bom prazo bom',\n",
       " 'bom segundo objeto compro recebi problema nenhum',\n",
       " 'bonito boa qualidade adorei',\n",
       " 'produto chegou antes prazo',\n",
       " 'boa noite gostei pois nunca conseguimos falar vcs telefone',\n",
       " 'vendedor compromisso vou cliente',\n",
       " 'produto atendeu espectativas pois potinhos dificeis abrir fechar bandeja onde vai potinhos veio pontos ferrugem',\n",
       " 'satisfeito entrega super rápida show parabéns vacilei comprei celular casas bahia quase mês entregaram',\n",
       " 'ótimo',\n",
       " 'tudo cento prazo recomento',\n",
       " 'recebi jogo cor tabaco vermelho',\n",
       " 'nao entregue casa nao gostei nao tempo indo correios',\n",
       " 'compra perfeita',\n",
       " 'produto veio estragado',\n",
       " 'mercadoria entregue paguei primeira fatura quero cancelar compra pois paguei frete recebi mercadoria',\n",
       " 'produto ja chegou defeito fucionou conforme necessidade uso infelizmente ultima compra totalmente insatisfeito',\n",
       " 'recebi apenas number caixa number unidades pedi number caixas',\n",
       " 'extremamente decepcionado nunca havia acontecido',\n",
       " 'comprei dois pendentes chegou preciso saber',\n",
       " 'recomendo loja entrega direitinho',\n",
       " 'tudo conforme entrega rápida pena verifiquei cor pois preta precisava cinza outro ponto lixar pouco funcionar nada demais',\n",
       " 'entrega rapida correta',\n",
       " 'produto fácil montagem atende perfeitamente propósito otimizar espaço',\n",
       " 'produto veio amassados funcionando corretamente',\n",
       " 'gostei produto',\n",
       " 'produto ótima qualidade',\n",
       " 'esperando vinte dias ainda recebi produto consigo nenhuma informação',\n",
       " 'aguardando posição empresa fazer devolução produto',\n",
       " 'cep escrito errado retirar produto correios cidade vizinha',\n",
       " 'fornecedor enviou produto correto solicitei sabor chocolate enviado outro sabor',\n",
       " 'recomendo loja',\n",
       " 'ótimo produto',\n",
       " 'excelente',\n",
       " 'continuem assim responsabilidade consumidor tanto produto quanto prazo entrega primeira vez compro vou comprar muitas obrigado',\n",
       " 'adorei moderno bonito cantinho café vai ficar top',\n",
       " 'bom esperava',\n",
       " 'tudo correu combinado nada reclamar',\n",
       " 'fácil manuseio presente atende expectativas',\n",
       " 'relógio lindo entrega antes prazo',\n",
       " 'veio conforme anunciado simples bonita',\n",
       " 'produto condiz anúncio',\n",
       " 'produto ainda chegou',\n",
       " 'satisfeito recomendo',\n",
       " 'amei chegou rapidinho ainda vou testa lo obrigado',\n",
       " 'gostei comprei vcs obrigada breve farei outras compras vanda',\n",
       " 'ainda recebi produto',\n",
       " 'recebi bolsa diferente gostei previsto pra number janeiro achando tempo porque pra escola aguardando vale compra primeira compra bolsa deu certo',\n",
       " 'recebi produto queria antes prazo combinado bom recomendo certeza',\n",
       " 'propaganda escrito mixer elétrico veio portátil três quebrou queria elétrico devem especificar melhor produtos',\n",
       " 'produto entregue antes prazo combinado primeira vez compro site lojas lannister recomendo tal empresa seriedade trato clientes',\n",
       " 'comprei number produtos so mandaram number n mim deram nenhuma justificativa',\n",
       " 'agradeço bom',\n",
       " '',\n",
       " 'dentro previsto',\n",
       " 'recebi antes prazo estimado',\n",
       " 'imaginei maior boneca legal',\n",
       " 'problema entrega pois ninguém casa receber mercadoria horário passaram',\n",
       " 'atenciosos ligam dar acompanhamento bom prazo validade demorou chegar agora verificar qualidade produto',\n",
       " 'eficiente entregou bem rápido recomendo',\n",
       " 'lindo relógio',\n",
       " 'otimo produto entrega prazo',\n",
       " 'chegou antes data prazo porem vazou pouco produto',\n",
       " 'sempre compro itens chega perfeito estado',\n",
       " 'produto entregue antes prazo ótimo estado',\n",
       " 'bom',\n",
       " 'entrega super rápida produto ótima qualidade recomendo',\n",
       " 'olá único problema recebemos produto endereço solicitado ir atrás produto agência correios centro cidade sendo pagamos receber cas',\n",
       " 'produto lindo ótimo',\n",
       " 'excelente',\n",
       " 'esperava toalhas poderiam ser grossas',\n",
       " 'entrega dia antes previsto',\n",
       " 'demora pouco pra esquentar potência máxima number atende bem rimeiros dias uso cheiro meio borracha queimada passa recomendo praticidade custo benefício',\n",
       " 'entregue bem embalado entrega rapido comforme prometido comforme imagem',\n",
       " 'tudo ocorreu forma eficiente',\n",
       " 'produto chegou antes prazo perfeitas condições',\n",
       " 'pedido entregue endereço paguei frente ir centro distribuição retirar pedido falta respeito pagar pra receber casa receber',\n",
       " 'produto corresponde comprei película menor tela celular cobre toda tela',\n",
       " 'produto conforme anunciado veio antes prazo perfeito',\n",
       " 'produto bom entregue antes previsto',\n",
       " 'ainda usei nenhuma viagem parece ser boa',\n",
       " 'produto encaminhado cidade destino dia number number momento recebi',\n",
       " 'recomendo',\n",
       " 'produto entregue',\n",
       " 'simplesmente recebi produto nao posicionamento decente acontecerá',\n",
       " 'recebi braço ducha desviador somente ducha number x number braço number cm',\n",
       " 'adoro comprar lojas lannister',\n",
       " 'entrega rápido produto excelente',\n",
       " 'ótimo',\n",
       " 'produto pode estar mal funcionamento telefone conseguindo fazer leitura',\n",
       " 'produto entregue',\n",
       " 'loja vergonha entregaram pedido descaração duerem cancelei porcaria vendedor stark escolheu mal paeceiro',\n",
       " 'bom',\n",
       " 'recebi produto eh falso quero dinheiro volta',\n",
       " 'produto veio conforme site mostrava calendário site recebi veio difícil fazer troca estorno produto',\n",
       " 'produto bom entrega antes prazo',\n",
       " 'bom',\n",
       " 'gostei',\n",
       " 'comprei dois produtos sendo chegou cabo adaptador áudio',\n",
       " 'gostei chegou tudo certinho antes prazo entrega',\n",
       " 'produto entregue dentro prazo',\n",
       " 'fornecedor targaryen mandou massageador completamente diferente comprei preço inferior cheio avaliações negativas ninguém erra mandando superior né curioso n recomendo',\n",
       " 'recebi produto prazo tudo ok',\n",
       " 'ruim veio produto outro veio errado',\n",
       " 'abri protocolo devolução produto baixa qualidade deu problema primeiro dia uso lannister virou mercado livre number pedidos number problemas',\n",
       " 'entrega prazo descrito site',\n",
       " 'pedido numero number number veio partes ficou faltando sapatênis manchester polo match cada dia mostra lugar entro site aparece entregue',\n",
       " 'lannister sempre superandoo',\n",
       " 'surpreendido eficácia ótimo atentimento',\n",
       " 'otimo atendimento tudo certo entregue dentro prazo',\n",
       " 'obrigada qualidade produto entrega tbm previsto number number chegou dia number number adorei parabéns',\n",
       " 'mercadoria entregue ainda',\n",
       " 'ainda utilizei produto',\n",
       " 'recebi encomenda forma normal dentro prazo contudo recebi primeira data entrega estimada posterior data aumentando gostei dessa atitude demorou number semanas',\n",
       " 'pedi q cancelacem antes nf ser emitida pq havia ganhado presente igual cancelaram mandaram assim msm pedi nf ainda sido emitida',\n",
       " 'linda deu charme sala',\n",
       " 'ótimo atendimento entrega antes prazo',\n",
       " 'recebi produto completo comprei quantidade number recebi somente number consta nota entrega quantidade number volume number quero receber outra custo nenhum pois erro',\n",
       " 'recomendo',\n",
       " 'bolsas lindas cor bem próxima foto dentro forro descrição acabamento deixou pouco desejar entrega super rápida',\n",
       " 'preciso urgente desta mercadoria prazo maximo dia number agora chegou',\n",
       " 'otimo material bem resistente espaçosa gostei',\n",
       " 'ótimo serviço',\n",
       " 'prestação serviços alta qualidade',\n",
       " 'produto muita baixa qualidade',\n",
       " 'produto entregue bem embalado perfeitas condições',\n",
       " 'demorou entregou',\n",
       " 'compra efetuada dois ursos rezam rosa azul recebi somente produtos adquiri rosa aguardando retorno vendedor sobre ocorreu vou receber outro',\n",
       " 'produto defeito apresenta risco ser confiável eviei mail efetuei ligações retorno',\n",
       " 'modo geral satisfatório ser gravação laser justamente ser laser deixa desejar quanto centralização pingente marca bem qualidade gravação',\n",
       " 'chegou antes data prevista recomendaria amigos loja stark parabéns',\n",
       " 'tapete lindo chegou antes prazo',\n",
       " 'gostei',\n",
       " 'poderia ter agilizado entrega porém recebi produto ótimas condições',\n",
       " 'recebi number prancha falta outra porque number falta pedido number number',\n",
       " 'protudo chegou ótimo estado conservação antes prazo',\n",
       " 'produto excelente qualidade entrega feita antes prazo previsto satisfeita',\n",
       " 'produto lindo preço excelente entrega super rápida ocorrendo antes prazo recomendo quarto ficou irado',\n",
       " 'produto veio nota fiscal solicitar telefone',\n",
       " 'produto bom',\n",
       " 'satisfeito recomendo',\n",
       " 'podem comprar medo',\n",
       " 'gosto comprar nessa loja porque agente ñ precisa avisar entrega',\n",
       " 'excelente produto',\n",
       " 'produto entregue prazo nota number',\n",
       " 'descrição produto errada consegui usar produto pedi cancelamento fazem number dias ainda obtive resposta',\n",
       " 'bom exelente',\n",
       " 'atendimento eficaz entrega dentro prazo',\n",
       " 'chegou pouco antes prazo bom',\n",
       " 'gostei demais travesseiro descrito site',\n",
       " 'super recomendo entrega produtos ok',\n",
       " 'pontualidade satisfação cliente',\n",
       " 'satisfeito aquisição negócio entrega prazo produto bem embalado nota fiscal caixa original garantia manual usuário primeiras impressões relógio perfeito',\n",
       " 'atendeu expectativas',\n",
       " 'bom encomenda chegou certinha',\n",
       " 'mosquiteiro veio dois furos parte superior pedir mosquiteiro king porem nao veio kiung sim queem',\n",
       " 'bom',\n",
       " 'produto chegou rapidamente conforme anunciado',\n",
       " 'produto baixa qualidade',\n",
       " 'produto qualidade preço justo entrega dentro prazo produto atendeu expectativas recomendo vendedor',\n",
       " 'enviado produto errado',\n",
       " 'efetuei compra pagamento duas unidades recebi apenas unidade aguardando tratativa',\n",
       " 'adorei produto chegou antes prazo estipulado satisfeita',\n",
       " 'tudo ok',\n",
       " 'quadro entregue correios chegou madeira atrás quebrada tela quadro danificada afundada chegou avariado produto',\n",
       " 'produto importado veio defeito',\n",
       " 'produto simples bonito',\n",
       " 'gostei agilidade entrega',\n",
       " 'ainda recebi',\n",
       " 'esperava maior pouco',\n",
       " 'produto razoavel envio produto embalagem propria chegou td amassado quase q danificou',\n",
       " 'produto chegou antes prazo bem embalado fornecedor avarias qualidado produto boa',\n",
       " 'gostaria saber dia correto entrega',\n",
       " 'produtos bons',\n",
       " 'otimo produto',\n",
       " 'bom dia comprei bebedouro vermelho metálico recebi bebedouro rosa obs cachorro macho',\n",
       " 'entregue primeira vez acontece',\n",
       " 'produto demorou mês ser entregue tempo demais poderia ter chegado antes data limite tudo ok',\n",
       " 'comprei number unidades produto veio avariado visto embalagem fraca sendo veio dois buracos fundo panela devido pressão dog colocado cima',\n",
       " 'acho poderia ter comprado cartuchos fiz porque cada cartucho veio frete diferente coisa poderiam ser colocados único pacote baratearia frete',\n",
       " 'comprei lannister tratar loja confiança porém chegar produto descobri vendido marca targus verdade produto falsificado confio',\n",
       " 'excelente serviço',\n",
       " 'pedido cancelado assim loja enviou produto devolvi produto quero estorno compra cartão crédito',\n",
       " 'comprei jogo panelas number panelas panela pressão vermelho panelas tipo oval recebi jogo number panelas jogo espátulas pretos coisa pedi veio apenas frideira',\n",
       " 'comprei dia recebi outro mercadoria excelente',\n",
       " 'gostei qualidade enchimento almofadas',\n",
       " 'conforme solicitei preciso fazer devolução entregue prazo precisa solicitei aqui entrei contato vendedor aguardo fazer devolução',\n",
       " 'gostaei rapidez entrega',\n",
       " 'quero saber demais produtos number itens',\n",
       " 'parabéns',\n",
       " 'posso dar opinião sobre produto pois recebi sobre loja recomendo pois atrasa entregas',\n",
       " 'produto chegou prazo perfeitas condiçoes veio embalado forma incrivel bem embalado chegou nenhum arranhao',\n",
       " 'recebi produto',\n",
       " 'comprei number dois produtos iguais pagar number dois fretes empresa poderia ter colocado única embalagem cobrar apenas frete produto entregue perfeitas condições ótimo produto',\n",
       " 'ótimo produto',\n",
       " 'produto qualidade entrega demorada',\n",
       " 'entrega muita rápida produto ótimo estado',\n",
       " 'gostaria saber produto mudou embalagem pois comprei embalagem vermelha recebi outra embalagem toda florida preciso saber produto',\n",
       " 'lavabo bem bonito igual descrição veio mancha bem pequena nada problema recomendo',\n",
       " 'produto entregue totalmente diferente comprado',\n",
       " 'ótimo tds aspectos',\n",
       " 'ainda aguardando',\n",
       " 'aida nao recebi produto',\n",
       " 'recebi antes data prometida recomendo loja',\n",
       " 'demorou quase trinta dias tempo demais',\n",
       " 'depende possa avaliar resolverem problema pos compra number correios entregarão pacote contendo number peneus',\n",
       " 'gostei',\n",
       " 'bom',\n",
       " 'boa tarde problemas pedido sim veio mosqueteiro errado pedi tamanho queen arrastasse chão círculo cima bem grande veio pequeno cama casal nor',\n",
       " 'ate agora tudo perfeito produto entrega prazo',\n",
       " 'comprei number relógios entregue number',\n",
       " 'produto ok recebido dentro prazo bem antes previsto',\n",
       " 'entrega antecipado umas panelas pressão veio suporte quebrado',\n",
       " 'tudo ok',\n",
       " 'ótimo produto recomendo',\n",
       " 'entrega demorada comprei number number number agora recebi produtos',\n",
       " 'bom',\n",
       " 'produto chegou conforme anunciado gostei',\n",
       " 'dentro prazo informacoes encaminhamento produto forma clara',\n",
       " 'excelente recomendo',\n",
       " 'produto enteque veio errado',\n",
       " 'recebi produto produto consta enviado correio ribeirão preto correio recebeu produto envie varias mensagem targaryen obtive targaryen sujando nome',\n",
       " 'gostei',\n",
       " 'produto veio especificação calota vendida símbolo citroën calota veio símbolo',\n",
       " 'então conprei gostei nao tudo nao achei q melhor',\n",
       " 'loja confiança chegou praso',\n",
       " 'amei produto super fácil manusear lannister parabéns pois chegou bem antes prazo',\n",
       " 'super recomendo produtos lindos',\n",
       " 'pedi duas carteiras veio defeito outra veio errada ñ q pedi pedi reembolso creio q correrá bem',\n",
       " 'motor ótimo vem cremalheiras junto',\n",
       " 'gostei produto entrega rápida',\n",
       " 'excelente produto entrega chegou antes prazo previsto ótimo',\n",
       " 'produto chegou antes prazo estabelecido',\n",
       " 'excelente chegou antes combinado parabéns',\n",
       " 'gostei produto nao ardencia olhos cheiro alisou number fos cabelos acho segunda vez ficara super liso',\n",
       " 'entregou antes prazo estipulado ótimo sempre compro site',\n",
       " 'apesar ter bom acabamento produto bem funcional',\n",
       " 'entrega perfeita antes prazo produto perfeito estado ótima qualidade',\n",
       " 'aaa',\n",
       " 'ótimo produto',\n",
       " 'veio certinho super rápido amei lustre gente',\n",
       " 'bonito bom chegou rápido',\n",
       " 'recebi apenas number detector metal compra number unidades podemos resolver aguardo orientações',\n",
       " 'boa noite compra diz wireless number mbs multilaser number g vim modem number g conecta usb nele',\n",
       " 'satisfeito',\n",
       " 'chegou dentro prazo bonito valeu',\n",
       " 'bom recomendo',\n",
       " 'otimi produto entrega excelente',\n",
       " 'legal tudo certo entrega rapida',\n",
       " 'comprei dois pares aliança chegou apenas duas unidades masculinas casa aguardando resposta empresa envio outras duas unidades femeninas cheopu',\n",
       " 'acho deveriam mudar modo entrega pois correios deixam desejar vieram única vez entregar produto domingo tarde mandaram volta pro remetente produto',\n",
       " 'acho deveria enformar rapido onde produto',\n",
       " 'amei',\n",
       " 'recebi desta loja apenas dois pendentes paguei boleto antecipado produto veio trata pendente alumínio meia bola medio escovado valor number quero volta',\n",
       " 'vcs tá deixando desejar comprei produtos vcs vcs demora entregar ainda cancela pedido autorização',\n",
       " 'produto entregue antes prazo bom custo benefício',\n",
       " 'recebi outra encomenda dessa loja esperando enviarem duas proteínas number kg',\n",
       " 'além ñ cumprir prometido caso aentrega loja ainda dá esclarecimento errado informado endereço errado',\n",
       " 'produto entregue antes prazo aprovado',\n",
       " 'fiz compra dois porém dois código veio comprei colcha chegou certinho veio saia cama box',\n",
       " 'chegou bem antes prazo determinado tudo certinho amei produto super recomendo',\n",
       " 'atendeu expectivas',\n",
       " 'compro confio comprar sempre chegaram prazo antes nunca problemas recomendo',\n",
       " 'rapidez entrega',\n",
       " 'mercadoria conforme pedido chegou antes prazo recomendo',\n",
       " 'demorando desta vez',\n",
       " 'produto entregue leigos peças vêm desmontadas devemos montar algumas tal biciclieta necessitam cola permanecer pé melhor opção cola madeira',\n",
       " 'prazo esgotado produto ainda entregue',\n",
       " 'bom resma chegou muitobem embalada dentro prazo afora vamos testar verificar qualidade papel',\n",
       " 'produto correto entregue prazo conforme acordado recomendo',\n",
       " 'super recomendo mim agradável surpresa nível atendimento amaricanas sensacional',\n",
       " 'parabéns loja lannister parceiro produto veio bem embalado mto lindo grande jeito queria cor marrom conforme mostra foto amei pendente',\n",
       " 'recebi apenas number perfume perfume h number perfume ototemo recebi ainda preocupada pois pedido consta recebi dois perfumes',\n",
       " 'maravilhosa',\n",
       " 'produto chegou bem antes prazo defeito veio quebrado lugar fazer encaixar bonitinha frágil tentei realizar troca site consegui',\n",
       " 'ainda nao recebi ultima informacao sobre p produto dia number number number',\n",
       " 'película vidro veio defeito conseguindo resolver problema',\n",
       " 'ainda falta capa',\n",
       " 'adorei',\n",
       " 'bom',\n",
       " 'entrega rapida sobre perfume bom ja melhores valor vale pena',\n",
       " 'mercadoria levar menos number dias chegar demorou quase dois meses',\n",
       " 'ótimo produto satisfeito compra',\n",
       " 'produto bom quase number meses receber',\n",
       " 'veio capa comprei number aí paguei number reais capa',\n",
       " 'bom tmb',\n",
       " 'veio prazo funcionando bem',\n",
       " 'original infelizmente pós vendas stark extremamente ruim pois entrei contato agora nada aí consegui ligar fornecedor parceiro devolveu dinheiro',\n",
       " 'maravilhoso',\n",
       " 'entrega rápida pedido entregue conforme solicitado recomendo',\n",
       " 'entrei contato lannister telefone falam q vai mandar link direto parceiro pra saber detalhes entrega conta link n veio péssimo suporte cliente',\n",
       " 'cumpriram',\n",
       " 'apesar tamanho escova leve fácil manuseio',\n",
       " 'frágil funciona certinho',\n",
       " 'comunicação respeito consumidor raro comprar aqui sempre',\n",
       " 'recebi produto recebi justificativa vendedor entrei contato agora obtive resposta',\n",
       " 'satisfeita rapidez chegou produto bem antes previsto',\n",
       " 'melhor fantasia vida',\n",
       " 'loja eficiente entrega correta antes prazo',\n",
       " 'ótima',\n",
       " 'recomendaria loja chegou dentro prazo ótima mercadoria',\n",
       " 'recebi jarra cafeteria mesma modelo comprei comprei jarra cafeteira electrolux cmm number recebi desse modelo cafeteria',\n",
       " 'adorei veio certinho obrigado',\n",
       " 'entrega feita produto queria bom',\n",
       " 'bom produto veio neum defeito bom',\n",
       " 'ainda recebi capa sofá tô aguardando',\n",
       " 'correio nao entregou endereço retirar caixa aberta churrasqueira amassada',\n",
       " 'chegou super rápido bem embalado',\n",
       " 'melhor site compras internet',\n",
       " 'chegou antes prazo',\n",
       " 'ainda recebi produto varios dias fiz compra entrega demorada compras faço online ainda aguardando entrega',\n",
       " 'instalei ainda',\n",
       " 'chegou antes data prevista tudo ok',\n",
       " 'aberto reclamação solicitando reenvio ontem durante tarde aconteceu grato',\n",
       " 'boa compra recomendo',\n",
       " 'infelizmente compensa pagar pouco comprar loja física cidade todas lojas inclusive stark péssimo prazo entrega produtos',\n",
       " 'produto dentro dom esperado',\n",
       " 'ñ gostei coisa relógio parando bateria fraca novicimo relógio parando',\n",
       " 'troca rápida mundo realmente impressionado eficiência stark nenhuma burocracia produto troca casa piscar olhos parabéns',\n",
       " 'ótimo produto prazo rápido',\n",
       " 'ainda pode avaliar produto aguardando matriz botões comprados site lojas lannister estranhando fato nota fiscal desses produtos ter sido emitida',\n",
       " 'bom',\n",
       " 'entrega dentro prazo produto excelente condição',\n",
       " 'produto igual anunciado super satisfeita funciona perfeitamente',\n",
       " 'recebi produto prazo bem embalado',\n",
       " 'cofre bom espaço interno prateleira facilitar organização bom produto',\n",
       " 'solicitei devolução produto veio amassado parece queda',\n",
       " 'recebi produto comprei paguei',\n",
       " 'chegou antes prazo produto mto bom',\n",
       " 'respondi sim recebi produto correto falta opção ainda vi produto quis abrir embalagem pois presente caso alguma desconformidade entrarei contato',\n",
       " 'acordo propósitos',\n",
       " 'mp number player bonito pequeno contudo som ruim ruídos chiados troquei fone ouvido apple mudou nada problema qualidade produto',\n",
       " 'x',\n",
       " 'produto bonito parece boa qualidade entretanto imagens site produto parecia robusto elegante cor uniforme tom varia',\n",
       " 'ainda instalei chegou prazo certinho',\n",
       " 'ótimo produto entrega rápida',\n",
       " 'ótimo excelente produto recomendo todos',\n",
       " 'nao veio produto pedi veio quite marmitas number peças comprei jogo panelas',\n",
       " 'experiência compra on line entrega boas porém produto atendeu expectativas tendo dificuldades troca devolução',\n",
       " 'parabenizo qualidade produto pontualidade entrega',\n",
       " 'ainda recebi faço',\n",
       " 'recebi produto errado comprei original recebi produtos paralelos reciclados picareta',\n",
       " 'produto entregue divergente adquirido deram resposta solicitação feita site trata presente pude entregar aguardo troca',\n",
       " 'tapete lindo personalizado bordado volta logo classic todo borracha pvc mt bom fácil limpar',\n",
       " 'produto bem acabado',\n",
       " 'produto problemas defeito',\n",
       " 'comprei duas bonecas baby kiss sid nil dia number number number entregaram somente number boneca veio junto nota fiscal caixa amassada consigo contato lannister telefone ocupado',\n",
       " 'ótimo produto entrega super rápida',\n",
       " 'recebi i procuto antes prazo determinado',\n",
       " 'boa loja cumpriu tudo anuncio entrega super rápido',\n",
       " 'produto chegou antes prazo',\n",
       " 'tapete lindo material bom super fofinho entrega dentro prazo so embrulho veio assusta tao pequeno parece lindo tapete dentro',\n",
       " 'ótima loja produto bonito entrega antes prazo recomendo',\n",
       " 'bom',\n",
       " 'hoje mercado encontramos roteador baixa potência aparelho bom potente',\n",
       " 'forma geral produto bom porém som sai baixo torna produto produto média qualidade',\n",
       " 'produto entregue prazo semana antes porém imprevisto entrega tentei entrar contato várias vezes nenhum sucesso fiquei semana saber nada',\n",
       " 'bom amei produto',\n",
       " 'ainda recebi relógios ainda aguardando obrigada',\n",
       " 'nao possível verificar site lados almofada preto',\n",
       " 'capa boa celular película inclusa muita péssima qualidade',\n",
       " 'abri caixa ainda',\n",
       " 'produto alta qualidade adorei',\n",
       " 'posso avaliar recebi',\n",
       " 'obrigada',\n",
       " 'produto frágil',\n",
       " 'ótima entrega rápida objetiva',\n",
       " 'veio quebrado faltando peça',\n",
       " 'recebi produto outro modelo desatenção parte distribuidor',\n",
       " 'gostei bastante tecido bem macio',\n",
       " 'produto bom obrigada',\n",
       " 'mudarei avaliação tudo der certo',\n",
       " 'relógio comprei replica original',\n",
       " 'chegou obrigada caixa embalagem amassada presente',\n",
       " 'otimo',\n",
       " 'produto entregue conforme contratado',\n",
       " 'segunda compra loja satisfeito produtos chegaram rapidamente recomendo',\n",
       " 'adorei produtos somente achei ruim ter pagar number fretes produto vendedor',\n",
       " 'gostei som mt bom',\n",
       " 'entrega antes prazo otimo',\n",
       " 'varios anos compro loja stark agora nada reclamar',\n",
       " 'ainda recebi produto',\n",
       " 'lannister parabéns entrega super rápida',\n",
       " 'balança ótima qualidade suprido necessidade muita eficiência',\n",
       " 'produto veio diferente anuncuado liguei esperando código devolução produto reembolso valor pago',\n",
       " 'parabéns entrega antes data prevista produto bom barato som produto bom corrir incomodo ficou caindo folgando ouvido olha corrir number km recomendo',\n",
       " 'loja totalmente confiável produto entregue antes prazo todo trajeto produto informado corretamente produto entregue perfeitas condições uso exatamente solicitado',\n",
       " 'produto bom entrega rápida',\n",
       " 'falta respeito consumidor produto mal embalado vidros lacre vazando náo recebi autorização devolução tendo reclamado dia entrega pior levar correio',\n",
       " 'bom',\n",
       " 'melhor preço entrega super rápida fregues tempo loja totalmente confiável',\n",
       " 'melhor loja fazer compras',\n",
       " 'bom demais',\n",
       " 'lojas lannister cumpre prazo mercadoria correto tudo certinho único problema nome incorreto consigo corrigi lo',\n",
       " 'entrega super rápida produto acordo características descritas site excelente',\n",
       " 'pensei defletor grande placa porém number pequenas peças encaixam outra sinceramente gostei pois mercado opção peça única bonita melhor design',\n",
       " 'fiquei satisfeito material produto',\n",
       " 'super recomendo produto loja veijo certinho antes prazo previsto',\n",
       " 'agilidade entrega',\n",
       " 'lugar ótimo pra fazer compras',\n",
       " 'ate agora nao revebi produto espero menos pontuação sido feita acordo promoção',\n",
       " 'entrega prazo gostei',\n",
       " 'tamanho g ta pequeno g adulto infantil',\n",
       " 'venderam produto entregar',\n",
       " 'chegou prazo determinado bem embrulhado satisfeita',\n",
       " 'estampa bonita enchimento ruim',\n",
       " 'botão abrir carro funcionando',\n",
       " 'produto ótimo chegou antes esperado',\n",
       " 'bom produto',\n",
       " 'otimo deu tudo certinho nota number',\n",
       " 'bom recomendo',\n",
       " 'perfeito',\n",
       " 'recebi produtos momento recebi conjunto quadros decorativos fé amor família vidro number aguardo',\n",
       " 'preço bom produto ótimo entrega rápida',\n",
       " 'ótimo produto chegou antes prazo',\n",
       " 'correto',\n",
       " 'recomendo chegou dentro prazo',\n",
       " 'bom',\n",
       " 'excelente produto veio embaço perfeitamente chegou antes previsto amei',\n",
       " 'otimo comprar',\n",
       " 'produto chegou dentro prazo',\n",
       " 'bom',\n",
       " 'produto otima qualidade parabéns',\n",
       " 'boa loja',\n",
       " 'entregue antes prazo sistema acompanhamento produto credibiliza loja',\n",
       " 'boa tarde produto veio faltando peças tempo compro lojas lannister sempre veio certinho dessa vez',\n",
       " 'chegou antes prazo',\n",
       " 'tá demorando mt',\n",
       " 'infelizmente produto veio defeito mídia corrompida perdi troca pois inutilizei embalagem antes testar deixa incapacitado trocar',\n",
       " 'amei produto chegou antes prazo',\n",
       " 'compro sempre baratheon adoro tudo',\n",
       " 'sempre cumpre prazos entregues',\n",
       " 'tudo aconteceu previsto',\n",
       " 'entrega rápida produto perfeito',\n",
       " 'roubo nota fiscal number unidades embrulho vem apenas querem cobrar entregar',\n",
       " 'nao enviou pedido',\n",
       " 'excelente produto colecionador recomendo',\n",
       " 'produto original entrega rápida bom preço',\n",
       " 'produto bom entrega tempo rapido excelente',\n",
       " 'adorei produto compra excelente',\n",
       " 'aspirador bom leve fácil manusear',\n",
       " 'material produto bom porém cabe perfeitamente',\n",
       " 'compensa comprar pra quer material reserva pra usar treinos vale bastante',\n",
       " 'veio certinho rapido boa qualidade',\n",
       " 'produto lindo ótima qualidade',\n",
       " 'produto qualidade recomendo',\n",
       " 'produto entregue dentro prazo previsto',\n",
       " 'poduto bom recomendo chegou rápido',\n",
       " 'pedido number number alça dupla x double couro legitimo cameras dslr double strap informo produto entregue porém site sendo informado peço esclarecimentos',\n",
       " 'recomendo',\n",
       " 'veio relógio feminino lugar relógio masculino pedi fiz cancelamento devolução recebi sobre estorno recebi nenhuma resposta',\n",
       " 'bim',\n",
       " 'película errada modelo protege toda frente',\n",
       " 'satisfatório',\n",
       " 'excelente',\n",
       " 'gosto comprar lojas lannister confiáveis',\n",
       " 'comprei capa cor preta porém recebi number number number cor branca gostaria trocar visto produto veio cor errada',\n",
       " 'recebi produto data prevista enviei várias mensagens p informações ja q rastreamento parado number semanas simplesmente gostei recomendo entrega targaryen',\n",
       " 'produto chegou bem antes data prevista',\n",
       " 'gostei mto produto',\n",
       " 'satisfeita',\n",
       " 'comprei number unidades papel parede chegou number rolo resolver situação m',\n",
       " 'super recomendo loja produto entregue antes prazo excelente qualidade',\n",
       " 'bom entrega antecipada faz diferença',\n",
       " 'excelente loja envio rápido produto certo',\n",
       " 'tudo correto exceto demora culpa fornecedor sim correios',\n",
       " 'produto bom entrega rápida',\n",
       " 'produto otima qualidade bem embalado',\n",
       " 'recomendo todos compra produtos lannister compra entregue contento prazo',\n",
       " 'site lannister data entrega number number código rastreio produto postado correio dia number number produto ainda trânsito dia hoje number number',\n",
       " 'entrega feita antes prazo chegou bem embalado produto excelente',\n",
       " 'produto lindo perfeito chegou tempo certo tudo direitinho',\n",
       " 'ótimo produto entrega antes prazo recomendo',\n",
       " 'produto chegou antes prazo previsto',\n",
       " 'rápido ainda veio brinde top',\n",
       " 'quero produto',\n",
       " 'sistema operacional compra fácil ser manuseado compreendido entrega rápida metros comprado corresponde propaganda compraria novamente',\n",
       " 'produto chegou rasgado',\n",
       " 'produto feito material boa qualidade difícil colocar lâmina forma precisa navalhete podendo ferir hora colocar retirar lâmina',\n",
       " 'bom produto gostei apenas faltou ser pouco alti recomendo',\n",
       " 'pratico fácil lavar bem compacto esposa amou recomendo',\n",
       " 'entregaram produtos cumpriram prazo entrega passou prazo',\n",
       " 'produto ótimo original recomendo',\n",
       " 'compra veio metade comprei capinha celular película vidro somente veio capinha película veio',\n",
       " 'motivo q fones n consigo sintonizar rádio fm cor preta n restante parece bom',\n",
       " 'chegou rapidinho',\n",
       " 'demora produto nao entregue',\n",
       " 'produto chegou prazo perfeitas condições',\n",
       " 'produto excelente jogar ps number consta serve ps number pc vou testar',\n",
       " 'bom produto',\n",
       " 'produto chegou prazo entrega nenhum detalhe',\n",
       " 'material otima qualidade',\n",
       " 'super rápida',\n",
       " 'entregue bem embalado',\n",
       " 'excelente',\n",
       " 'dois dias após prazo mês após compra nada produto chegar frete caro ineficiente',\n",
       " 'tudo conforme combinado',\n",
       " 'recebi produto cx aberta lacre nota fiscal pedido compra remetente diferente anuncio quero devolucao dinheiro descontentamento',\n",
       " 'recomendo bons relógio q ter desativar segundo tempo manual q vim explicado pra q serve função tr recomendo entregue bem antes prazo',\n",
       " 'produto ótima qualidade',\n",
       " 'entrega realizada corretamente dentro combinado produto veio perfeito condições uso',\n",
       " 'entregue quantidade produto sendo pedi duas quantidades',\n",
       " 'satisfeita produto',\n",
       " 'ótimo vendedor ótimo produto chegou prazo certo recomendo',\n",
       " 'prazo entrega podia ser menor',\n",
       " 'cegou antes prazo bom',\n",
       " 'bom gostei bastante tecido ótimo atendeu espectativas super recomendo',\n",
       " 'produto adequado necessidades',\n",
       " 'recomendo',\n",
       " 'loja confiável',\n",
       " 'produto excelente qualidade vendedores responsáveis entrega prazo super satisfeita',\n",
       " 'primeira vez compro loja virtual arrependo chegou prazo',\n",
       " 'recebi escova outra marca consigo resolver problema péssimos atendimentos lojas lannister parceira',\n",
       " 'chegou tudo certo recomendo',\n",
       " 'ótimo',\n",
       " 'adorei',\n",
       " 'otima loja',\n",
       " 'chegou bem rápido parece ser bom vou descobrir uso capa sofá number lugares veio pouco menor largura veio number number number lugares veio tamanho certo',\n",
       " 'adorei produto chegou antes prazo',\n",
       " 'imagens hora compra bem distantes produto final',\n",
       " 'produto qualidade entrega rápida recomendo',\n",
       " 'nota number',\n",
       " 'sempre atendimento cliente',\n",
       " 'esperando bonito led perfeito conta som potente enfim perfeito',\n",
       " 'produto conforme foto atendeu todas expectativas super indico',\n",
       " 'pedido feito dia number number consta neste formulário produto entregue recomendar loja aguardar',\n",
       " 'gente ainda recebi encomenda fasso pra enviarem novo',\n",
       " 'agradeço amei chegou antes prazo perfeita virei cliente super indico obrigada',\n",
       " 'cheiro bom',\n",
       " 'fácil rápido tempo entrega menor prazo produto inferior obrigada',\n",
       " 'produto veio certo vi foto chegou antes prazo gostei bastante',\n",
       " 'gosto comprarias lannister',\n",
       " 'ótimo produto certinho entregue dentro prazo tudo ok',\n",
       " 'bonito aparenta qualidade ainda apliquei posso falar quanto aderência custo beneficio recomendo',\n",
       " 'material bom',\n",
       " 'poderia ter vindo melhor embalado relógio chegou alguns riscos ótimo produto',\n",
       " 'dei nota number pq veio mesma embalagem veio embalagem branca proibido pra venda outro lado preço bom',\n",
       " 'ótima',\n",
       " 'bom produto chegou perfeito',\n",
       " 'fantástico',\n",
       " 'comprar number lixeiras pagar frete individualmente comprado apenas number lixeira stark poderia ter montado number caixa maior number lixeiras dentro barato',\n",
       " 'ok',\n",
       " 'tudo ok conforme anúncio',\n",
       " 'perfeito',\n",
       " 'produtos chegaram certinho prazo satisfeita obrigado vcs parabéns',\n",
       " 'entrega antes prazo estipulado produto entregue descrito',\n",
       " 'recomendo loa pois cumpriu prazo certinho produto ruim pessima qualidade',\n",
       " 'gostei compra chegou antes combinado recomendo',\n",
       " 'recomendo rápida entrega',\n",
       " 'chegou dentro prazo',\n",
       " 'recebi fonte correta porém cabo energia dentes tomada partido testei fonte funcionou perfeitamente',\n",
       " 'produto entregue antes prazo satisfeita',\n",
       " 'comprei capinha paguei frete caro recebo produto veio cor havia comprado decidi devolver custo adicional demora entrega produto correto',\n",
       " 'produto enviado carinho atenção adorei',\n",
       " 'recebi produto errado semana aceitei valor produto entregue menor pedi reembolso agora nada faz number dias',\n",
       " 'recebi number number produtos desejados',\n",
       " 'produto entregue entregaram somente envelope vazio nada papel dentro absurdo puro golpe caso policia',\n",
       " 'entrega rápida antes prazo objeto bom acordo anuncio',\n",
       " 'gostei produto acho panos poderiam ser maiores tudo certo super recomendo sitie entrega antes prazo certeza irei comprar outras vezes',\n",
       " 'lojas altamente qualidade',\n",
       " 'excelente produto',\n",
       " 'chegou rápido fiquei duvida nao conhecer produto bom produto',\n",
       " 'super recomendo produto loja',\n",
       " 'produto bom entrega rápida',\n",
       " 'esperava preço produto melhor material baixa qualidade tampa fica meio solta gostei preço absurdo nao vale pena',\n",
       " 'satisfeita produto cumpre objetivo bombear água caso fonte água lojas lannister sempre entrega antes prazo preço bommmmm',\n",
       " 'recebi ante data entrega americana parabéns tapete bom cor bonita super recomendo',\n",
       " 'recebi metade material',\n",
       " 'ainda abri embalagem porque vou dar presente recebi antes prazo',\n",
       " 'otimo qualidade',\n",
       " 'bem atendida chegou antes prazo',\n",
       " 'única coisa q acho q entregas poderiam ser rápidas n cada number number dias demorado',\n",
       " 'nao consegui fazer contato fornecedor solicitar troca veio modeo errado relógio',\n",
       " 'ótima empresa entregou antes prazo parabéns',\n",
       " 'comprei produto pra entregar casa paguei frete deixaram correio pra retirar certo porq cobram frete então',\n",
       " 'qualidade preço justo entrega tempo recorde',\n",
       " 'produto ótima qualidade entrega turbo',\n",
       " 'recebi super rápido',\n",
       " 'entrega super rápida recomendo parceiro targaryen nota number',\n",
       " 'material boa qualidade bonito achei maior',\n",
       " 'produto enorme confortavel',\n",
       " 'adorei produto chegou antes q esperava super recomendo',\n",
       " 'produto bom gostei',\n",
       " 'produto entregue casa q ir buscar agência paguei number reais frete ainda assim recebi casa',\n",
       " 'bom',\n",
       " 'alguns itens produto tampo vidro pés deixaram deixar devido fragilidade material',\n",
       " 'veio defeitos',\n",
       " 'tecido oq esperava parece borracha igual plásticos q forravamos mesas tempo colégio abri apenas outra abri favor façam troca deste priduto',\n",
       " 'comprei segunda feira tarde terça feira feriado quarta feira produto chegou casa parabéns rapidez',\n",
       " 'tamanho pequeno percebi anúncio dá destaque dimensões produto deixa desejar',\n",
       " 'produto chegou antes prazo combinado deforma segura fiquei satisfeito',\n",
       " 'mada declarar',\n",
       " 'ainda pude testar chegou tempo record',\n",
       " 'entrega rápida produto bacana',\n",
       " 'to esperando agora nunca recebi nenhum relógio comprei recomendado loja',\n",
       " 'espero nunca comprar ter responder tipo avaliação',\n",
       " 'entrega realizada antes prazo estabelecido produto bem embalado aprovado',\n",
       " 'imagens mostrava foto diferente produto recebi',\n",
       " 'comprei voltagem number veio number v',\n",
       " 'entrega perfeita bem antes data prevista',\n",
       " 'adorei produto ainda coloquei lugar testar fixação adesivo espero bom achei pouco maior porém satisfeita chegou antes prazo estipulado',\n",
       " 'apesar entrega dentro prazo tempo longo comparando anoutras compras costumo fazer via internet',\n",
       " 'tudo ok',\n",
       " 'produto mal feito torto soldas mal feitas',\n",
       " 'comprei produto defeito consigo trocar erro site',\n",
       " 'chegou perfeito estado antes prazo previsto obrigada rapidez',\n",
       " 'almofada linda cor linda grandona fiz excelente compra',\n",
       " 'otimo',\n",
       " 'ótimos parceiros parabéns',\n",
       " 'relógio chegou funcionar original oakley',\n",
       " 'rapido pratico compra',\n",
       " 'site dizia chegaria number number ainda chegou',\n",
       " 'realiza promete instalado fica vazando cartucho seguindo instruções vale pena dinheiro jogado',\n",
       " 'entrega atrasada previsão vai chegar',\n",
       " 'paguei entregarem residência paguei frete ainda gastar pra ir buscar correio completamente longe endereço solicitado',\n",
       " 'ainda nao recebi maquina solda',\n",
       " 'tudo ok',\n",
       " 'loja super perfeita compre fala pra cliente chega ante prazo',\n",
       " 'sempre comprei problema porém dessa vem sim produtos chegou agora',\n",
       " 'tudo dentro esperado ser correio trouxe embalagem parecendo estar atropelado trem pessar tres produtos pra ver perda pois vazando',\n",
       " 'eficiente entrega produto qualidade',\n",
       " 'tudo certinho obrigada',\n",
       " 'fiquei satisfeita',\n",
       " 'atendimento nota number produto muita qualidade prazo entrega respeitado aliás chegou antes tempo dado inicialmente parabéns',\n",
       " 'produto excelente recomendo',\n",
       " 'produto maravilhoso recomendo',\n",
       " 'recomendo',\n",
       " 'bom',\n",
       " 'data prevista entrega number number urgência desse produto nada',\n",
       " 'produto chegou porem embalagem aberta braços cadeira encaixa parafuso quebrado prazo entrega bom',\n",
       " 'produto bom',\n",
       " 'recebi agora mercadoria',\n",
       " 'loja entregou antes esperado',\n",
       " 'adoro comprar loja',\n",
       " 'produto bom entrega rapida frete caro',\n",
       " 'dentro prazo perfeito estado gostei',\n",
       " 'loja confiavel ainda recebi produto',\n",
       " 'compra feita entregue prazo recomendo loja site lannister',\n",
       " 'preciso receber produto deve ter sido entregue outra pessoa',\n",
       " ...]"
      ]
     },
     "execution_count": 97,
     "metadata": {},
     "output_type": "execute_result"
    }
   ],
   "source": [
    "X_preprocessed"
   ]
  },
  {
   "cell_type": "code",
   "execution_count": 112,
   "metadata": {
    "ExecuteTime": {
     "end_time": "2020-03-26T02:56:29.845346Z",
     "start_time": "2020-03-26T02:56:29.671724Z"
    }
   },
   "outputs": [],
   "source": [
    "teste = pd.DataFrame({\n",
    "    'comentarios': X_preprocessed\n",
    "})\n",
    "teste.to_csv('tbl_rsrc_comentarios.csv', index=False, encoding='utf-8-sig')"
   ]
  },
  {
   "cell_type": "code",
   "execution_count": null,
   "metadata": {
    "ExecuteTime": {
     "end_time": "2020-03-26T02:02:29.502520Z",
     "start_time": "2020-03-26T01:57:51.945Z"
    }
   },
   "outputs": [],
   "source": [
    "# Separando os dados\n",
    "X_train, X_test, y_train, y_test = train_test_split(X_transformed, y, test_size=.20, random_state=42)\n",
    "\n",
    "# Dimensões\n",
    "print(f'Dimensões X_train: {X_train.shape}')\n",
    "print(f'Dimensões y_train: {y_train.shape}\\n')\n",
    "print(f'Dimensões X_test: {X_test.shape}')\n",
    "print(f'Dimensões y_test: {y_test.shape}')"
   ]
  },
  {
   "cell_type": "markdown",
   "metadata": {},
   "source": [
    "## Treinando um Modelo"
   ]
  },
  {
   "cell_type": "markdown",
   "metadata": {},
   "source": [
    "Por fim, vamos treinar um modelo de classificação e analisar os resultados"
   ]
  },
  {
   "cell_type": "markdown",
   "metadata": {},
   "source": [
    "### Regressão Logística"
   ]
  },
  {
   "cell_type": "code",
   "execution_count": null,
   "metadata": {
    "ExecuteTime": {
     "end_time": "2020-03-26T02:02:29.503511Z",
     "start_time": "2020-03-26T01:57:52.208Z"
    }
   },
   "outputs": [],
   "source": [
    "# Treinando modelo de regressão logística\n",
    "log_reg = LogisticRegression()\n",
    "log_reg.fit(X_train, y_train)\n",
    "\n",
    "# Avaliando resultados\n",
    "empty_train_performance = create_dataset()\n",
    "log_reg_performance = model_analysis(log_reg, X_train, y_train, \n",
    "                                     X_test, y_test, empty_train_performance)\n",
    "log_reg_performance"
   ]
  },
  {
   "cell_type": "code",
   "execution_count": null,
   "metadata": {
    "ExecuteTime": {
     "end_time": "2020-03-26T02:02:29.505507Z",
     "start_time": "2020-03-26T01:57:52.288Z"
    }
   },
   "outputs": [],
   "source": [
    "# Predictions\n",
    "cv_predictions = cross_val_predict(log_reg, X_train, y_train, cv=5)\n",
    "test_pred = log_reg.predict(X_test)\n",
    "\n",
    "# Confusion matrix\n",
    "cv_cm = confusion_matrix(y_train, cv_predictions)\n",
    "test_cm = confusion_matrix(y_test, test_pred)\n",
    "\n",
    "# Plotting\n",
    "fig = plt.figure(figsize=(10, 4))\n",
    "classes = ['Sent Negativo', 'Sent Positivo']\n",
    "plt.subplot(121)\n",
    "plot_confusion_matrix(cv_cm, classes, title='Logistic Regression\\nCV Confusion Matrix')\n",
    "plt.subplot(122)\n",
    "plot_confusion_matrix(test_cm, classes, cmap=plt.cm.Reds, title='Logistic Regression\\nTest Confusion Matrix')\n",
    "\n",
    "plt.tight_layout()\n",
    "plt.show()"
   ]
  },
  {
   "cell_type": "markdown",
   "metadata": {},
   "source": [
    "### Naive Bayes"
   ]
  },
  {
   "cell_type": "code",
   "execution_count": null,
   "metadata": {
    "ExecuteTime": {
     "end_time": "2020-03-26T02:02:29.506503Z",
     "start_time": "2020-03-26T01:57:52.432Z"
    }
   },
   "outputs": [],
   "source": [
    "# Treinando modelo\n",
    "nb = GaussianNB()\n",
    "nb.fit(X_train, y_train)\n",
    "\n",
    "empty_train_performance = create_dataset()\n",
    "nb_performance = model_analysis(nb, X_train, y_train, \n",
    "                                X_test, y_test, empty_train_performance)\n",
    "nb_performance"
   ]
  },
  {
   "cell_type": "code",
   "execution_count": null,
   "metadata": {
    "ExecuteTime": {
     "end_time": "2020-03-26T02:02:29.508498Z",
     "start_time": "2020-03-26T01:57:52.507Z"
    }
   },
   "outputs": [],
   "source": [
    "# Predictions\n",
    "cv_predictions = cross_val_predict(nb, X_train, y_train, cv=5)\n",
    "test_pred = nb.predict(X_test)\n",
    "\n",
    "# Confusion matrix\n",
    "cv_cm = confusion_matrix(y_train, cv_predictions)\n",
    "test_cm = confusion_matrix(y_test, test_pred)\n",
    "\n",
    "# Plotting\n",
    "fig = plt.figure(figsize=(10, 4))\n",
    "classes = ['Sent Negativo', 'Sent Positivo']\n",
    "plt.subplot(121)\n",
    "plot_confusion_matrix(cv_cm, classes, title='Naive Bayes\\nCV Confusion Matrix')\n",
    "plt.subplot(122)\n",
    "plot_confusion_matrix(test_cm, classes, cmap=plt.cm.Reds, title='Naive Bayes\\nTest Confusion Matrix')\n",
    "\n",
    "plt.tight_layout()\n",
    "plt.show()"
   ]
  },
  {
   "cell_type": "markdown",
   "metadata": {},
   "source": [
    "## Testes"
   ]
  },
  {
   "cell_type": "code",
   "execution_count": null,
   "metadata": {
    "ExecuteTime": {
     "end_time": "2020-03-26T02:02:29.509495Z",
     "start_time": "2020-03-26T01:57:52.657Z"
    }
   },
   "outputs": [],
   "source": [
    "# Preparando dados para teste\n",
    "frase = ['Péssimo produto! Nunca mais compro nessa loja, a entrega atrasou e custou muito dinheiro!']\n",
    "frase_preprocessed = preprocess_pipeline.fit_transform(frase)\n",
    "\n",
    "# Vetorizando\n",
    "frase_transformed = vectorizer.transform(frase_preprocessed).toarray()\n",
    "\n",
    "# Comunicando resultado\n",
    "plot_sentimento(log_reg, frase_transformed)"
   ]
  },
  {
   "cell_type": "code",
   "execution_count": null,
   "metadata": {
    "ExecuteTime": {
     "end_time": "2020-03-26T02:02:29.511491Z",
     "start_time": "2020-03-26T01:57:52.746Z"
    }
   },
   "outputs": [],
   "source": [
    "# Preparando dados para teste\n",
    "frase2 = ['Muito bom! Adorei o produto e a loja forneceu um serviço excelente. Qualidade!']\n",
    "frase_preprocessed2 = preprocess_pipeline.fit_transform(frase2)\n",
    "\n",
    "# Vetorizando\n",
    "frase_transformed2 = vectorizer.transform(frase_preprocessed2).toarray()\n",
    "\n",
    "# Comunicando resultado\n",
    "plot_sentimento(log_reg, frase_transformed2)"
   ]
  },
  {
   "cell_type": "markdown",
   "metadata": {},
   "source": [
    "# Conclusões"
   ]
  },
  {
   "cell_type": "markdown",
   "metadata": {},
   "source": [
    "Após a realização de todas as etapas de Processamento de Linguagem Natural para classificação e análise de sentimento entre comentários postados em sites de e-commerce, foi possível identificar a importância do processamento adequado dos textos e dos efeitos causados pelas decisões tomadas pelo grupo.\n",
    "\n",
    "A preparação do conjunto de dados, sem dúvidas, demandou uma análise profunda e específica por parte da equipe, sendo necessárias pesquisas, testes e validações das mais variadas, buscando sempre melhorar os resultados obtidos e seguir de acordo com as boas práticas relacionadas a análises textuais. Foram aplicados conceitos de Expressões Regulares, Stemming, remoção de Stop Words e outras palavras indesejadas. Além disso, uma última etapa da preparação realizou o procedimento de transformação dos corpus em matrizes esparsas, preparando assim o treinamento de um modelo de classificação.\n",
    "\n",
    "Com isso, foram testados três modelos diferentes: Regressão Logística e Gaussian Naive Bayes. Foi cogitado também o modelo de SVM, porém o alto custo computacional e o tempo de processamento inviabilizou essa tentativa. Após o treinamento, é possível considerar o tempo exigido por cada um dos algoritmos, sendo o modelo de Regressão Logística o mais rápido e o de melhor performance. Quanto aos resultados, o grupo obteve o ápice do f1_score com o modelo de Regressão Logística. \n",
    "\n",
    "Entretanto, a performance desses modelos poderia ser melhorada com uma melhor definição do sentimento de cada comentário, desvinculando-o do score da crítica pois, muitas vezes, este número não reflete a realidade do sentimento demonstrado pelo cliente. Além disso, como o dataset é oriundo de uma relação entre usuário e interenet, algumas gírias e abreviações características se fizeram presentes, dificultando assim o entendimento do algoritmo para a devida classificação. A busca por melhores hiperparâmetros com o pacote GridSearchCV também poderia auxiliar na melhora da performance."
   ]
  }
 ],
 "metadata": {
  "kernelspec": {
   "display_name": "Python 3",
   "language": "python",
   "name": "python3"
  },
  "language_info": {
   "codemirror_mode": {
    "name": "ipython",
    "version": 3
   },
   "file_extension": ".py",
   "mimetype": "text/x-python",
   "name": "python",
   "nbconvert_exporter": "python",
   "pygments_lexer": "ipython3",
   "version": "3.7.3"
  },
  "toc": {
   "base_numbering": 1,
   "nav_menu": {},
   "number_sections": true,
   "sideBar": true,
   "skip_h1_title": false,
   "title_cell": "Table of Contents",
   "title_sidebar": "Contents",
   "toc_cell": true,
   "toc_position": {
    "height": "748px",
    "left": "519px",
    "top": "111.133px",
    "width": "370.6px"
   },
   "toc_section_display": true,
   "toc_window_display": true
  },
  "varInspector": {
   "cols": {
    "lenName": 16,
    "lenType": 16,
    "lenVar": 40
   },
   "kernels_config": {
    "python": {
     "delete_cmd_postfix": "",
     "delete_cmd_prefix": "del ",
     "library": "var_list.py",
     "varRefreshCmd": "print(var_dic_list())"
    },
    "r": {
     "delete_cmd_postfix": ") ",
     "delete_cmd_prefix": "rm(",
     "library": "var_list.r",
     "varRefreshCmd": "cat(var_dic_list()) "
    }
   },
   "types_to_exclude": [
    "module",
    "function",
    "builtin_function_or_method",
    "instance",
    "_Feature"
   ],
   "window_display": false
  }
 },
 "nbformat": 4,
 "nbformat_minor": 2
}
