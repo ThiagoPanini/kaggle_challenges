{
 "cells": [
  {
   "cell_type": "markdown",
   "metadata": {
    "toc": true
   },
   "source": [
    "<h1>Table of Contents<span class=\"tocSkip\"></span></h1>\n",
    "<div class=\"toc\"><ul class=\"toc-item\"><li><span><a href=\"#Importando-Bibliotecas\" data-toc-modified-id=\"Importando-Bibliotecas-1\"><span class=\"toc-item-num\">1&nbsp;&nbsp;</span>Importando Bibliotecas</a></span></li><li><span><a href=\"#Definindo-Funções\" data-toc-modified-id=\"Definindo-Funções-2\"><span class=\"toc-item-num\">2&nbsp;&nbsp;</span>Definindo Funções</a></span></li><li><span><a href=\"#Lendo-os-Dados\" data-toc-modified-id=\"Lendo-os-Dados-3\"><span class=\"toc-item-num\">3&nbsp;&nbsp;</span>Lendo os Dados</a></span></li><li><span><a href=\"#DataPrep\" data-toc-modified-id=\"DataPrep-4\"><span class=\"toc-item-num\">4&nbsp;&nbsp;</span>DataPrep</a></span></li><li><span><a href=\"#Exploração-Gráfica\" data-toc-modified-id=\"Exploração-Gráfica-5\"><span class=\"toc-item-num\">5&nbsp;&nbsp;</span>Exploração Gráfica</a></span></li></ul></div>"
   ]
  },
  {
   "cell_type": "markdown",
   "metadata": {},
   "source": [
    "Este notebook tem como objetivo propor uma análise da evolução do COVID-19 ao redor do mundo, enfatizando casos confirmados, vítimas e casos recuperados no `Brasil`.\n",
    "Utilizando uma [base de dados](https://www.kaggle.com/sudalairajkumar/novel-corona-virus-2019-dataset) do Kaggle com atualização diária, serão apresentados gráficos e análises sobre o impacto do Corona Virus na sociedade como um todo."
   ]
  },
  {
   "cell_type": "markdown",
   "metadata": {},
   "source": [
    "# Importando Bibliotecas"
   ]
  },
  {
   "cell_type": "code",
   "execution_count": 1,
   "metadata": {
    "ExecuteTime": {
     "end_time": "2020-03-19T02:26:40.460211Z",
     "start_time": "2020-03-19T02:26:34.512655Z"
    }
   },
   "outputs": [
    {
     "data": {
      "text/html": [
       "        <script type=\"text/javascript\">\n",
       "        window.PlotlyConfig = {MathJaxConfig: 'local'};\n",
       "        if (window.MathJax) {MathJax.Hub.Config({SVG: {font: \"STIX-Web\"}});}\n",
       "        if (typeof require !== 'undefined') {\n",
       "        require.undef(\"plotly\");\n",
       "        requirejs.config({\n",
       "            paths: {\n",
       "                'plotly': ['https://cdn.plot.ly/plotly-latest.min']\n",
       "            }\n",
       "        });\n",
       "        require(['plotly'], function(Plotly) {\n",
       "            window._Plotly = Plotly;\n",
       "        });\n",
       "        }\n",
       "        </script>\n",
       "        "
      ]
     },
     "metadata": {},
     "output_type": "display_data"
    }
   ],
   "source": [
    "# Biblliotecas utilizadas no projeto\n",
    "import pandas as pd\n",
    "import numpy as np\n",
    "import os\n",
    "from datetime import datetime\n",
    "import matplotlib.pyplot as plt\n",
    "import matplotlib.dates as mdates\n",
    "import seaborn as sns\n",
    "%matplotlib inline\n",
    "from warnings import filterwarnings\n",
    "filterwarnings('ignore')\n",
    "import urllib.request, json\n",
    "\n",
    "import plotly as py\n",
    "import plotly.graph_objs as go\n",
    "py.offline.init_notebook_mode(connected=True)"
   ]
  },
  {
   "cell_type": "markdown",
   "metadata": {},
   "source": [
    "# Definindo Funções"
   ]
  },
  {
   "cell_type": "code",
   "execution_count": 2,
   "metadata": {
    "ExecuteTime": {
     "end_time": "2020-03-19T02:26:40.496516Z",
     "start_time": "2020-03-19T02:26:40.485592Z"
    },
    "code_folding": [
     1
    ]
   },
   "outputs": [],
   "source": [
    "# Formatando eixos do matplotlib\n",
    "def format_spines(ax, right_border=True):\n",
    "    \"\"\"\n",
    "    This function sets up borders from an axis and personalize colors\n",
    "    \n",
    "    Input:\n",
    "        Axis and a flag for deciding or not to plot the right border\n",
    "    Returns:\n",
    "        Plot configuration\n",
    "    \"\"\"    \n",
    "    # Setting up colors\n",
    "    ax.spines['bottom'].set_color('#CCCCCC')\n",
    "    ax.spines['left'].set_color('#CCCCCC')\n",
    "    ax.spines['top'].set_visible(False)\n",
    "    if right_border:\n",
    "        ax.spines['right'].set_color('#CCCCCC')\n",
    "    else:\n",
    "        ax.spines['right'].set_color('#FFFFFF')\n",
    "    ax.patch.set_facecolor('#FFFFFF')"
   ]
  },
  {
   "cell_type": "markdown",
   "metadata": {},
   "source": [
    "# Lendo os Dados"
   ]
  },
  {
   "cell_type": "code",
   "execution_count": 3,
   "metadata": {
    "ExecuteTime": {
     "end_time": "2020-03-19T02:26:40.837692Z",
     "start_time": "2020-03-19T02:26:40.527004Z"
    }
   },
   "outputs": [
    {
     "data": {
      "text/html": [
       "<div>\n",
       "<style scoped>\n",
       "    .dataframe tbody tr th:only-of-type {\n",
       "        vertical-align: middle;\n",
       "    }\n",
       "\n",
       "    .dataframe tbody tr th {\n",
       "        vertical-align: top;\n",
       "    }\n",
       "\n",
       "    .dataframe thead th {\n",
       "        text-align: right;\n",
       "    }\n",
       "</style>\n",
       "<table border=\"1\" class=\"dataframe\">\n",
       "  <thead>\n",
       "    <tr style=\"text-align: right;\">\n",
       "      <th></th>\n",
       "      <th>sno</th>\n",
       "      <th>observationdate</th>\n",
       "      <th>province_state</th>\n",
       "      <th>country_region</th>\n",
       "      <th>last_update</th>\n",
       "      <th>confirmed</th>\n",
       "      <th>deaths</th>\n",
       "      <th>recovered</th>\n",
       "    </tr>\n",
       "  </thead>\n",
       "  <tbody>\n",
       "    <tr>\n",
       "      <th>0</th>\n",
       "      <td>1</td>\n",
       "      <td>01/22/2020</td>\n",
       "      <td>Anhui</td>\n",
       "      <td>Mainland China</td>\n",
       "      <td>1/22/2020 17:00</td>\n",
       "      <td>1.0</td>\n",
       "      <td>0.0</td>\n",
       "      <td>0.0</td>\n",
       "    </tr>\n",
       "    <tr>\n",
       "      <th>1</th>\n",
       "      <td>2</td>\n",
       "      <td>01/22/2020</td>\n",
       "      <td>Beijing</td>\n",
       "      <td>Mainland China</td>\n",
       "      <td>1/22/2020 17:00</td>\n",
       "      <td>14.0</td>\n",
       "      <td>0.0</td>\n",
       "      <td>0.0</td>\n",
       "    </tr>\n",
       "    <tr>\n",
       "      <th>2</th>\n",
       "      <td>3</td>\n",
       "      <td>01/22/2020</td>\n",
       "      <td>Chongqing</td>\n",
       "      <td>Mainland China</td>\n",
       "      <td>1/22/2020 17:00</td>\n",
       "      <td>6.0</td>\n",
       "      <td>0.0</td>\n",
       "      <td>0.0</td>\n",
       "    </tr>\n",
       "    <tr>\n",
       "      <th>3</th>\n",
       "      <td>4</td>\n",
       "      <td>01/22/2020</td>\n",
       "      <td>Fujian</td>\n",
       "      <td>Mainland China</td>\n",
       "      <td>1/22/2020 17:00</td>\n",
       "      <td>1.0</td>\n",
       "      <td>0.0</td>\n",
       "      <td>0.0</td>\n",
       "    </tr>\n",
       "    <tr>\n",
       "      <th>4</th>\n",
       "      <td>5</td>\n",
       "      <td>01/22/2020</td>\n",
       "      <td>Gansu</td>\n",
       "      <td>Mainland China</td>\n",
       "      <td>1/22/2020 17:00</td>\n",
       "      <td>0.0</td>\n",
       "      <td>0.0</td>\n",
       "      <td>0.0</td>\n",
       "    </tr>\n",
       "  </tbody>\n",
       "</table>\n",
       "</div>"
      ],
      "text/plain": [
       "   sno observationdate province_state  country_region      last_update  \\\n",
       "0    1      01/22/2020          Anhui  Mainland China  1/22/2020 17:00   \n",
       "1    2      01/22/2020        Beijing  Mainland China  1/22/2020 17:00   \n",
       "2    3      01/22/2020      Chongqing  Mainland China  1/22/2020 17:00   \n",
       "3    4      01/22/2020         Fujian  Mainland China  1/22/2020 17:00   \n",
       "4    5      01/22/2020          Gansu  Mainland China  1/22/2020 17:00   \n",
       "\n",
       "   confirmed  deaths  recovered  \n",
       "0        1.0     0.0        0.0  \n",
       "1       14.0     0.0        0.0  \n",
       "2        6.0     0.0        0.0  \n",
       "3        1.0     0.0        0.0  \n",
       "4        0.0     0.0        0.0  "
      ]
     },
     "execution_count": 3,
     "metadata": {},
     "output_type": "execute_result"
    }
   ],
   "source": [
    "# Lendo a base mais recente sobre o virus\n",
    "data_path = r'D:\\Users\\thiagoPanini\\github_files\\kaggle_challenges\\kernels\\08_corona_virus\\data'\n",
    "df_corona = pd.read_csv(data_path + f'\\covid_19_data.csv')\n",
    "df_corona.columns = [c.lower().replace(' ', '_').replace('/', '_') for c in df_corona.columns]\n",
    "df_corona.head()"
   ]
  },
  {
   "cell_type": "markdown",
   "metadata": {},
   "source": [
    "De acordo com a documentação da base disponibilizada no Kaggle, as colunas presentes na base são:\n",
    "\n",
    "- **sno:** serial number;\n",
    "- **observationdate:** data da observação no formato MM/DD/YYYY;\n",
    "- **province_state:** cidade referente ao registro (pode ser vazio (\"\") quando nulo);\n",
    "- **country_region:** país referente ao registro;\n",
    "- **last_update:** tempo (UTC) na qual o registro foi atualizado para o estado e país em questão;\n",
    "- **confirmed**: quantidade cumulativa de casos confirmados até a data em questão;\n",
    "- **deaths:** quantidade cumulativa de vítimas até a data em questão;\n",
    "- **recovered:** quantidade cumulativa de pacientes recuperados até a data em questão"
   ]
  },
  {
   "cell_type": "code",
   "execution_count": 4,
   "metadata": {
    "ExecuteTime": {
     "end_time": "2020-03-19T02:26:40.921771Z",
     "start_time": "2020-03-19T02:26:40.916281Z"
    }
   },
   "outputs": [
    {
     "data": {
      "text/plain": [
       "(5890, 8)"
      ]
     },
     "execution_count": 4,
     "metadata": {},
     "output_type": "execute_result"
    }
   ],
   "source": [
    "# Volumetria\n",
    "df_corona.shape"
   ]
  },
  {
   "cell_type": "markdown",
   "metadata": {},
   "source": [
    "# DataPrep"
   ]
  },
  {
   "cell_type": "markdown",
   "metadata": {},
   "source": [
    "Aqui será proposto um fluxo de preparação da base lida envolvendo:\n",
    "\n",
    "**1)** Transformação das colunas de data e eliminação das inconsistências;\n",
    "\n",
    "**2)** Criação de nova coluna com casos `ativos`"
   ]
  },
  {
   "cell_type": "code",
   "execution_count": 5,
   "metadata": {
    "ExecuteTime": {
     "end_time": "2020-03-19T02:26:43.582845Z",
     "start_time": "2020-03-19T02:26:42.575426Z"
    },
    "code_folding": [
     0
    ]
   },
   "outputs": [
    {
     "data": {
      "text/html": [
       "<div>\n",
       "<style scoped>\n",
       "    .dataframe tbody tr th:only-of-type {\n",
       "        vertical-align: middle;\n",
       "    }\n",
       "\n",
       "    .dataframe tbody tr th {\n",
       "        vertical-align: top;\n",
       "    }\n",
       "\n",
       "    .dataframe thead th {\n",
       "        text-align: right;\n",
       "    }\n",
       "</style>\n",
       "<table border=\"1\" class=\"dataframe\">\n",
       "  <thead>\n",
       "    <tr style=\"text-align: right;\">\n",
       "      <th></th>\n",
       "      <th>sno</th>\n",
       "      <th>province_state</th>\n",
       "      <th>country_region</th>\n",
       "      <th>confirmed</th>\n",
       "      <th>deaths</th>\n",
       "      <th>recovered</th>\n",
       "      <th>observation_date</th>\n",
       "      <th>last_update</th>\n",
       "      <th>actives</th>\n",
       "    </tr>\n",
       "  </thead>\n",
       "  <tbody>\n",
       "    <tr>\n",
       "      <th>0</th>\n",
       "      <td>1</td>\n",
       "      <td>Anhui</td>\n",
       "      <td>Mainland China</td>\n",
       "      <td>1.0</td>\n",
       "      <td>0.0</td>\n",
       "      <td>0.0</td>\n",
       "      <td>2020-01-22</td>\n",
       "      <td>2020-01-22</td>\n",
       "      <td>1.0</td>\n",
       "    </tr>\n",
       "    <tr>\n",
       "      <th>1</th>\n",
       "      <td>2</td>\n",
       "      <td>Beijing</td>\n",
       "      <td>Mainland China</td>\n",
       "      <td>14.0</td>\n",
       "      <td>0.0</td>\n",
       "      <td>0.0</td>\n",
       "      <td>2020-01-22</td>\n",
       "      <td>2020-01-22</td>\n",
       "      <td>14.0</td>\n",
       "    </tr>\n",
       "    <tr>\n",
       "      <th>2</th>\n",
       "      <td>3</td>\n",
       "      <td>Chongqing</td>\n",
       "      <td>Mainland China</td>\n",
       "      <td>6.0</td>\n",
       "      <td>0.0</td>\n",
       "      <td>0.0</td>\n",
       "      <td>2020-01-22</td>\n",
       "      <td>2020-01-22</td>\n",
       "      <td>6.0</td>\n",
       "    </tr>\n",
       "    <tr>\n",
       "      <th>3</th>\n",
       "      <td>4</td>\n",
       "      <td>Fujian</td>\n",
       "      <td>Mainland China</td>\n",
       "      <td>1.0</td>\n",
       "      <td>0.0</td>\n",
       "      <td>0.0</td>\n",
       "      <td>2020-01-22</td>\n",
       "      <td>2020-01-22</td>\n",
       "      <td>1.0</td>\n",
       "    </tr>\n",
       "    <tr>\n",
       "      <th>4</th>\n",
       "      <td>5</td>\n",
       "      <td>Gansu</td>\n",
       "      <td>Mainland China</td>\n",
       "      <td>0.0</td>\n",
       "      <td>0.0</td>\n",
       "      <td>0.0</td>\n",
       "      <td>2020-01-22</td>\n",
       "      <td>2020-01-22</td>\n",
       "      <td>0.0</td>\n",
       "    </tr>\n",
       "  </tbody>\n",
       "</table>\n",
       "</div>"
      ],
      "text/plain": [
       "   sno province_state  country_region  confirmed  deaths  recovered  \\\n",
       "0    1          Anhui  Mainland China        1.0     0.0        0.0   \n",
       "1    2        Beijing  Mainland China       14.0     0.0        0.0   \n",
       "2    3      Chongqing  Mainland China        6.0     0.0        0.0   \n",
       "3    4         Fujian  Mainland China        1.0     0.0        0.0   \n",
       "4    5          Gansu  Mainland China        0.0     0.0        0.0   \n",
       "\n",
       "  observation_date last_update  actives  \n",
       "0       2020-01-22  2020-01-22      1.0  \n",
       "1       2020-01-22  2020-01-22     14.0  \n",
       "2       2020-01-22  2020-01-22      6.0  \n",
       "3       2020-01-22  2020-01-22      1.0  \n",
       "4       2020-01-22  2020-01-22      0.0  "
      ]
     },
     "execution_count": 5,
     "metadata": {},
     "output_type": "execute_result"
    }
   ],
   "source": [
    "# Limpando colunas de data\n",
    "df_corona['last_update_cleaned'] = pd.to_datetime(df_corona['last_update']).dt.date\n",
    "df_corona['obs_date_cleaned'] = pd.to_datetime(df_corona['observationdate']).dt.date\n",
    "df_corona.drop(['last_update', 'observationdate'], axis=1, inplace=True)\n",
    "df_corona.columns = ['sno', 'province_state', 'country_region', 'confirmed', \n",
    "                     'deaths', 'recovered', 'observation_date', 'last_update']\n",
    "\n",
    "# Criação de coluna com casos ativos\n",
    "df_corona['actives'] = df_corona['confirmed'] - df_corona['deaths'] - df_corona['recovered']\n",
    "\n",
    "df_corona.head()"
   ]
  },
  {
   "cell_type": "code",
   "execution_count": 6,
   "metadata": {
    "ExecuteTime": {
     "end_time": "2020-03-19T02:26:43.678361Z",
     "start_time": "2020-03-19T02:26:43.666677Z"
    }
   },
   "outputs": [
    {
     "name": "stdout",
     "output_type": "stream",
     "text": [
      "Range de observação: de 2020-01-22 até 2020-03-15\n",
      "\n",
      "Range de atualização: de 2020-01-22 até 2020-03-15\n"
     ]
    }
   ],
   "source": [
    "# Range dos dados\n",
    "print(f'Range de observação: de {df_corona[\"observation_date\"].min()} até {df_corona[\"observation_date\"].max()}\\n')\n",
    "print(f'Range de atualização: de {df_corona[\"last_update\"].min()} até {df_corona[\"last_update\"].max()}')"
   ]
  },
  {
   "cell_type": "markdown",
   "metadata": {},
   "source": [
    "# Exploração Gráfica"
   ]
  },
  {
   "cell_type": "markdown",
   "metadata": {},
   "source": [
    "Nesta sessão, vamos iniciar as análises gráficas a partir de plotagens com `matplotlib`, `seaborn` e `plotly`. O intuito é retirar insights da base de dados e proporcionar uma visão ampla sobre os impactos do COVID-19."
   ]
  },
  {
   "cell_type": "code",
   "execution_count": 18,
   "metadata": {
    "ExecuteTime": {
     "end_time": "2020-03-19T02:34:01.428361Z",
     "start_time": "2020-03-19T02:34:01.404098Z"
    }
   },
   "outputs": [],
   "source": [
    "# Agrupando dados\n",
    "corona_sum = df_corona.groupby(by='last_update', as_index=False).sum()\n",
    "china_sum = df_corona.query('country_region == \"Mainland China\"').groupby(by='last_update', as_index=False).sum()"
   ]
  },
  {
   "cell_type": "code",
   "execution_count": 144,
   "metadata": {
    "ExecuteTime": {
     "end_time": "2020-03-19T03:18:23.899810Z",
     "start_time": "2020-03-19T03:18:23.556007Z"
    },
    "code_folding": []
   },
   "outputs": [
    {
     "data": {
      "application/vnd.plotly.v1+json": {
       "config": {
        "plotlyServerURL": "https://plot.ly"
       },
       "data": [
        {
         "line": {
          "color": "black",
          "width": 4
         },
         "name": "Mundo",
         "type": "scatter",
         "x": [
          "2020-01-22",
          "2020-01-23",
          "2020-01-24",
          "2020-01-25",
          "2020-01-26",
          "2020-01-27",
          "2020-01-28",
          "2020-01-29",
          "2020-01-30",
          "2020-01-31",
          "2020-02-01",
          "2020-02-02",
          "2020-02-03",
          "2020-02-04",
          "2020-02-05",
          "2020-02-06",
          "2020-02-07",
          "2020-02-08",
          "2020-02-09",
          "2020-02-10",
          "2020-02-11",
          "2020-02-12",
          "2020-02-13",
          "2020-02-14",
          "2020-02-15",
          "2020-02-16",
          "2020-02-17",
          "2020-02-18",
          "2020-02-19",
          "2020-02-20",
          "2020-02-21",
          "2020-02-22",
          "2020-02-23",
          "2020-02-24",
          "2020-02-25",
          "2020-02-26",
          "2020-02-27",
          "2020-02-28",
          "2020-02-29",
          "2020-03-01",
          "2020-03-02",
          "2020-03-03",
          "2020-03-04",
          "2020-03-05",
          "2020-03-06",
          "2020-03-07",
          "2020-03-08",
          "2020-03-09",
          "2020-03-10",
          "2020-03-11",
          "2020-03-12",
          "2020-03-13",
          "2020-03-14",
          "2020-03-15"
         ],
         "y": [
          555,
          653,
          941,
          1438,
          2118,
          2927,
          5578,
          6165,
          8235,
          9925,
          12038,
          16787,
          19881,
          23892,
          27636,
          30818,
          34392,
          37121,
          40151,
          42763,
          44803,
          45222,
          60370,
          66887,
          69032,
          71226,
          73260,
          75138,
          75641,
          76199,
          76843,
          78599,
          78985,
          79570,
          80415,
          81397,
          82756,
          84124,
          86013,
          88371,
          90309,
          92844,
          95124,
          97886,
          101800,
          105836,
          109835,
          113582,
          118582,
          125865,
          128343,
          145193,
          156099,
          167447
         ]
        },
        {
         "line": {
          "color": "crimson",
          "width": 2
         },
         "name": "China",
         "type": "scatter",
         "x": [
          "2020-01-22",
          "2020-01-23",
          "2020-01-24",
          "2020-01-25",
          "2020-01-26",
          "2020-01-27",
          "2020-01-28",
          "2020-01-29",
          "2020-01-30",
          "2020-01-31",
          "2020-02-01",
          "2020-02-02",
          "2020-02-03",
          "2020-02-04",
          "2020-02-05",
          "2020-02-06",
          "2020-02-07",
          "2020-02-08",
          "2020-02-09",
          "2020-02-10",
          "2020-02-11",
          "2020-02-12",
          "2020-02-13",
          "2020-02-14",
          "2020-02-15",
          "2020-02-16",
          "2020-02-17",
          "2020-02-18",
          "2020-02-19",
          "2020-02-20",
          "2020-02-21",
          "2020-02-22",
          "2020-02-23",
          "2020-02-24",
          "2020-02-25",
          "2020-02-26",
          "2020-02-27",
          "2020-02-28",
          "2020-02-29",
          "2020-03-01",
          "2020-03-02",
          "2020-03-03",
          "2020-03-04",
          "2020-03-05",
          "2020-03-06",
          "2020-03-07",
          "2020-03-08",
          "2020-03-09",
          "2020-03-10",
          "2020-03-11",
          "2020-03-12",
          "2020-03-13",
          "2020-03-14",
          "2020-03-15"
         ],
         "y": [
          547,
          639,
          916,
          1399,
          2062,
          2863,
          5494,
          6070,
          8124,
          9783,
          11871,
          16607,
          19693,
          23680,
          27409,
          30553,
          34075,
          36778,
          39790,
          42306,
          44327,
          44699,
          59832,
          66292,
          68347,
          70446,
          72364,
          74139,
          74546,
          74999,
          75472,
          76922,
          76938,
          77152,
          77660,
          78065,
          78498,
          78824,
          79251,
          79826,
          80026,
          80151,
          80271,
          80422,
          80573,
          80652,
          80699,
          80735,
          80757,
          80785,
          80793,
          80801,
          80827,
          80848
         ]
        },
        {
         "marker": {
          "color": "black",
          "size": 12
         },
         "mode": "markers",
         "showlegend": false,
         "type": "scatter",
         "x": [
          "2020-03-15"
         ],
         "y": [
          167447
         ]
        }
       ],
       "layout": {
        "annotations": [
         {
          "font": {
           "color": "rgb(150,150,150)",
           "family": "Raleway, sans-serif",
           "size": 12
          },
          "showarrow": false,
          "text": "Fonte: <a href=https://www.kaggle.com/sudalairajkumar/novel-corona-virus-2019-dataset>Novel COVID-19 Kaggle dataset</a>",
          "x": 0.5,
          "xanchor": "center",
          "xref": "paper",
          "y": -0.1,
          "yanchor": "top",
          "yref": "paper"
         },
         {
          "arrowhead": 2,
          "ax": -20,
          "ay": -50,
          "font": {
           "color": "dimgrey"
          },
          "showarrow": true,
          "text": "Espalhamento drástico <br>pelo mundo",
          "x": "2020-02-22",
          "xref": "x",
          "y": 78599,
          "yref": "y"
         },
         {
          "arrowhead": 2,
          "ax": -90,
          "ay": 0,
          "font": {
           "color": "dimgrey",
           "family": "Raleway, sans-serif"
          },
          "showarrow": true,
          "text": "167447<br>casos confirmados<br> ao todo",
          "x": "2020-03-15",
          "xref": "x",
          "y": 167447,
          "yref": "y"
         }
        ],
        "plot_bgcolor": "white",
        "showlegend": true,
        "template": {
         "data": {
          "bar": [
           {
            "error_x": {
             "color": "#2a3f5f"
            },
            "error_y": {
             "color": "#2a3f5f"
            },
            "marker": {
             "line": {
              "color": "#E5ECF6",
              "width": 0.5
             }
            },
            "type": "bar"
           }
          ],
          "barpolar": [
           {
            "marker": {
             "line": {
              "color": "#E5ECF6",
              "width": 0.5
             }
            },
            "type": "barpolar"
           }
          ],
          "carpet": [
           {
            "aaxis": {
             "endlinecolor": "#2a3f5f",
             "gridcolor": "white",
             "linecolor": "white",
             "minorgridcolor": "white",
             "startlinecolor": "#2a3f5f"
            },
            "baxis": {
             "endlinecolor": "#2a3f5f",
             "gridcolor": "white",
             "linecolor": "white",
             "minorgridcolor": "white",
             "startlinecolor": "#2a3f5f"
            },
            "type": "carpet"
           }
          ],
          "choropleth": [
           {
            "colorbar": {
             "outlinewidth": 0,
             "ticks": ""
            },
            "type": "choropleth"
           }
          ],
          "contour": [
           {
            "colorbar": {
             "outlinewidth": 0,
             "ticks": ""
            },
            "colorscale": [
             [
              0,
              "#0d0887"
             ],
             [
              0.1111111111111111,
              "#46039f"
             ],
             [
              0.2222222222222222,
              "#7201a8"
             ],
             [
              0.3333333333333333,
              "#9c179e"
             ],
             [
              0.4444444444444444,
              "#bd3786"
             ],
             [
              0.5555555555555556,
              "#d8576b"
             ],
             [
              0.6666666666666666,
              "#ed7953"
             ],
             [
              0.7777777777777778,
              "#fb9f3a"
             ],
             [
              0.8888888888888888,
              "#fdca26"
             ],
             [
              1,
              "#f0f921"
             ]
            ],
            "type": "contour"
           }
          ],
          "contourcarpet": [
           {
            "colorbar": {
             "outlinewidth": 0,
             "ticks": ""
            },
            "type": "contourcarpet"
           }
          ],
          "heatmap": [
           {
            "colorbar": {
             "outlinewidth": 0,
             "ticks": ""
            },
            "colorscale": [
             [
              0,
              "#0d0887"
             ],
             [
              0.1111111111111111,
              "#46039f"
             ],
             [
              0.2222222222222222,
              "#7201a8"
             ],
             [
              0.3333333333333333,
              "#9c179e"
             ],
             [
              0.4444444444444444,
              "#bd3786"
             ],
             [
              0.5555555555555556,
              "#d8576b"
             ],
             [
              0.6666666666666666,
              "#ed7953"
             ],
             [
              0.7777777777777778,
              "#fb9f3a"
             ],
             [
              0.8888888888888888,
              "#fdca26"
             ],
             [
              1,
              "#f0f921"
             ]
            ],
            "type": "heatmap"
           }
          ],
          "heatmapgl": [
           {
            "colorbar": {
             "outlinewidth": 0,
             "ticks": ""
            },
            "colorscale": [
             [
              0,
              "#0d0887"
             ],
             [
              0.1111111111111111,
              "#46039f"
             ],
             [
              0.2222222222222222,
              "#7201a8"
             ],
             [
              0.3333333333333333,
              "#9c179e"
             ],
             [
              0.4444444444444444,
              "#bd3786"
             ],
             [
              0.5555555555555556,
              "#d8576b"
             ],
             [
              0.6666666666666666,
              "#ed7953"
             ],
             [
              0.7777777777777778,
              "#fb9f3a"
             ],
             [
              0.8888888888888888,
              "#fdca26"
             ],
             [
              1,
              "#f0f921"
             ]
            ],
            "type": "heatmapgl"
           }
          ],
          "histogram": [
           {
            "marker": {
             "colorbar": {
              "outlinewidth": 0,
              "ticks": ""
             }
            },
            "type": "histogram"
           }
          ],
          "histogram2d": [
           {
            "colorbar": {
             "outlinewidth": 0,
             "ticks": ""
            },
            "colorscale": [
             [
              0,
              "#0d0887"
             ],
             [
              0.1111111111111111,
              "#46039f"
             ],
             [
              0.2222222222222222,
              "#7201a8"
             ],
             [
              0.3333333333333333,
              "#9c179e"
             ],
             [
              0.4444444444444444,
              "#bd3786"
             ],
             [
              0.5555555555555556,
              "#d8576b"
             ],
             [
              0.6666666666666666,
              "#ed7953"
             ],
             [
              0.7777777777777778,
              "#fb9f3a"
             ],
             [
              0.8888888888888888,
              "#fdca26"
             ],
             [
              1,
              "#f0f921"
             ]
            ],
            "type": "histogram2d"
           }
          ],
          "histogram2dcontour": [
           {
            "colorbar": {
             "outlinewidth": 0,
             "ticks": ""
            },
            "colorscale": [
             [
              0,
              "#0d0887"
             ],
             [
              0.1111111111111111,
              "#46039f"
             ],
             [
              0.2222222222222222,
              "#7201a8"
             ],
             [
              0.3333333333333333,
              "#9c179e"
             ],
             [
              0.4444444444444444,
              "#bd3786"
             ],
             [
              0.5555555555555556,
              "#d8576b"
             ],
             [
              0.6666666666666666,
              "#ed7953"
             ],
             [
              0.7777777777777778,
              "#fb9f3a"
             ],
             [
              0.8888888888888888,
              "#fdca26"
             ],
             [
              1,
              "#f0f921"
             ]
            ],
            "type": "histogram2dcontour"
           }
          ],
          "mesh3d": [
           {
            "colorbar": {
             "outlinewidth": 0,
             "ticks": ""
            },
            "type": "mesh3d"
           }
          ],
          "parcoords": [
           {
            "line": {
             "colorbar": {
              "outlinewidth": 0,
              "ticks": ""
             }
            },
            "type": "parcoords"
           }
          ],
          "pie": [
           {
            "automargin": true,
            "type": "pie"
           }
          ],
          "scatter": [
           {
            "marker": {
             "colorbar": {
              "outlinewidth": 0,
              "ticks": ""
             }
            },
            "type": "scatter"
           }
          ],
          "scatter3d": [
           {
            "line": {
             "colorbar": {
              "outlinewidth": 0,
              "ticks": ""
             }
            },
            "marker": {
             "colorbar": {
              "outlinewidth": 0,
              "ticks": ""
             }
            },
            "type": "scatter3d"
           }
          ],
          "scattercarpet": [
           {
            "marker": {
             "colorbar": {
              "outlinewidth": 0,
              "ticks": ""
             }
            },
            "type": "scattercarpet"
           }
          ],
          "scattergeo": [
           {
            "marker": {
             "colorbar": {
              "outlinewidth": 0,
              "ticks": ""
             }
            },
            "type": "scattergeo"
           }
          ],
          "scattergl": [
           {
            "marker": {
             "colorbar": {
              "outlinewidth": 0,
              "ticks": ""
             }
            },
            "type": "scattergl"
           }
          ],
          "scattermapbox": [
           {
            "marker": {
             "colorbar": {
              "outlinewidth": 0,
              "ticks": ""
             }
            },
            "type": "scattermapbox"
           }
          ],
          "scatterpolar": [
           {
            "marker": {
             "colorbar": {
              "outlinewidth": 0,
              "ticks": ""
             }
            },
            "type": "scatterpolar"
           }
          ],
          "scatterpolargl": [
           {
            "marker": {
             "colorbar": {
              "outlinewidth": 0,
              "ticks": ""
             }
            },
            "type": "scatterpolargl"
           }
          ],
          "scatterternary": [
           {
            "marker": {
             "colorbar": {
              "outlinewidth": 0,
              "ticks": ""
             }
            },
            "type": "scatterternary"
           }
          ],
          "surface": [
           {
            "colorbar": {
             "outlinewidth": 0,
             "ticks": ""
            },
            "colorscale": [
             [
              0,
              "#0d0887"
             ],
             [
              0.1111111111111111,
              "#46039f"
             ],
             [
              0.2222222222222222,
              "#7201a8"
             ],
             [
              0.3333333333333333,
              "#9c179e"
             ],
             [
              0.4444444444444444,
              "#bd3786"
             ],
             [
              0.5555555555555556,
              "#d8576b"
             ],
             [
              0.6666666666666666,
              "#ed7953"
             ],
             [
              0.7777777777777778,
              "#fb9f3a"
             ],
             [
              0.8888888888888888,
              "#fdca26"
             ],
             [
              1,
              "#f0f921"
             ]
            ],
            "type": "surface"
           }
          ],
          "table": [
           {
            "cells": {
             "fill": {
              "color": "#EBF0F8"
             },
             "line": {
              "color": "white"
             }
            },
            "header": {
             "fill": {
              "color": "#C8D4E3"
             },
             "line": {
              "color": "white"
             }
            },
            "type": "table"
           }
          ]
         },
         "layout": {
          "annotationdefaults": {
           "arrowcolor": "#2a3f5f",
           "arrowhead": 0,
           "arrowwidth": 1
          },
          "coloraxis": {
           "colorbar": {
            "outlinewidth": 0,
            "ticks": ""
           }
          },
          "colorscale": {
           "diverging": [
            [
             0,
             "#8e0152"
            ],
            [
             0.1,
             "#c51b7d"
            ],
            [
             0.2,
             "#de77ae"
            ],
            [
             0.3,
             "#f1b6da"
            ],
            [
             0.4,
             "#fde0ef"
            ],
            [
             0.5,
             "#f7f7f7"
            ],
            [
             0.6,
             "#e6f5d0"
            ],
            [
             0.7,
             "#b8e186"
            ],
            [
             0.8,
             "#7fbc41"
            ],
            [
             0.9,
             "#4d9221"
            ],
            [
             1,
             "#276419"
            ]
           ],
           "sequential": [
            [
             0,
             "#0d0887"
            ],
            [
             0.1111111111111111,
             "#46039f"
            ],
            [
             0.2222222222222222,
             "#7201a8"
            ],
            [
             0.3333333333333333,
             "#9c179e"
            ],
            [
             0.4444444444444444,
             "#bd3786"
            ],
            [
             0.5555555555555556,
             "#d8576b"
            ],
            [
             0.6666666666666666,
             "#ed7953"
            ],
            [
             0.7777777777777778,
             "#fb9f3a"
            ],
            [
             0.8888888888888888,
             "#fdca26"
            ],
            [
             1,
             "#f0f921"
            ]
           ],
           "sequentialminus": [
            [
             0,
             "#0d0887"
            ],
            [
             0.1111111111111111,
             "#46039f"
            ],
            [
             0.2222222222222222,
             "#7201a8"
            ],
            [
             0.3333333333333333,
             "#9c179e"
            ],
            [
             0.4444444444444444,
             "#bd3786"
            ],
            [
             0.5555555555555556,
             "#d8576b"
            ],
            [
             0.6666666666666666,
             "#ed7953"
            ],
            [
             0.7777777777777778,
             "#fb9f3a"
            ],
            [
             0.8888888888888888,
             "#fdca26"
            ],
            [
             1,
             "#f0f921"
            ]
           ]
          },
          "colorway": [
           "#636efa",
           "#EF553B",
           "#00cc96",
           "#ab63fa",
           "#FFA15A",
           "#19d3f3",
           "#FF6692",
           "#B6E880",
           "#FF97FF",
           "#FECB52"
          ],
          "font": {
           "color": "#2a3f5f"
          },
          "geo": {
           "bgcolor": "white",
           "lakecolor": "white",
           "landcolor": "#E5ECF6",
           "showlakes": true,
           "showland": true,
           "subunitcolor": "white"
          },
          "hoverlabel": {
           "align": "left"
          },
          "hovermode": "closest",
          "mapbox": {
           "style": "light"
          },
          "paper_bgcolor": "white",
          "plot_bgcolor": "#E5ECF6",
          "polar": {
           "angularaxis": {
            "gridcolor": "white",
            "linecolor": "white",
            "ticks": ""
           },
           "bgcolor": "#E5ECF6",
           "radialaxis": {
            "gridcolor": "white",
            "linecolor": "white",
            "ticks": ""
           }
          },
          "scene": {
           "xaxis": {
            "backgroundcolor": "#E5ECF6",
            "gridcolor": "white",
            "gridwidth": 2,
            "linecolor": "white",
            "showbackground": true,
            "ticks": "",
            "zerolinecolor": "white"
           },
           "yaxis": {
            "backgroundcolor": "#E5ECF6",
            "gridcolor": "white",
            "gridwidth": 2,
            "linecolor": "white",
            "showbackground": true,
            "ticks": "",
            "zerolinecolor": "white"
           },
           "zaxis": {
            "backgroundcolor": "#E5ECF6",
            "gridcolor": "white",
            "gridwidth": 2,
            "linecolor": "white",
            "showbackground": true,
            "ticks": "",
            "zerolinecolor": "white"
           }
          },
          "shapedefaults": {
           "line": {
            "color": "#2a3f5f"
           }
          },
          "ternary": {
           "aaxis": {
            "gridcolor": "white",
            "linecolor": "white",
            "ticks": ""
           },
           "baxis": {
            "gridcolor": "white",
            "linecolor": "white",
            "ticks": ""
           },
           "bgcolor": "#E5ECF6",
           "caxis": {
            "gridcolor": "white",
            "linecolor": "white",
            "ticks": ""
           }
          },
          "title": {
           "x": 0.05
          },
          "xaxis": {
           "automargin": true,
           "gridcolor": "white",
           "linecolor": "white",
           "ticks": "",
           "title": {
            "standoff": 15
           },
           "zerolinecolor": "white",
           "zerolinewidth": 2
          },
          "yaxis": {
           "automargin": true,
           "gridcolor": "white",
           "linecolor": "white",
           "ticks": "",
           "title": {
            "standoff": 15
           },
           "zerolinecolor": "white",
           "zerolinewidth": 2
          }
         }
        },
        "title": {
         "font": {
          "color": "dimgrey",
          "family": "Franklin Gothic",
          "size": 25
         },
         "text": "Evolução COVID-19 no Mundo"
        },
        "xaxis": {
         "linecolor": "rgb(204, 204, 204)",
         "linewidth": 2,
         "showgrid": false,
         "showline": true,
         "showticklabels": true,
         "tickfont": {
          "color": "rgb(82, 82, 82)",
          "family": "Raleway, sans-serif",
          "size": 12
         },
         "ticks": "outside"
        },
        "yaxis": {
         "linecolor": "rgb(204, 204, 204)",
         "linewidth": 2,
         "showgrid": true,
         "showline": true,
         "showticklabels": true,
         "tickfont": {
          "color": "rgb(82, 82, 82)",
          "family": "Raleway, sans-serif",
          "size": 12
         },
         "ticks": "outside",
         "title": {
          "font": {
           "color": "rgb(150,150,150)",
           "family": "Raleway, sans-serif",
           "size": 12
          },
          "text": "Casos Confirmados"
         },
         "zeroline": true
        }
       }
      },
      "text/html": [
       "<div>\n",
       "        \n",
       "        \n",
       "            <div id=\"d32cc134-57e8-4af0-941a-3b8e00411036\" class=\"plotly-graph-div\" style=\"height:525px; width:100%;\"></div>\n",
       "            <script type=\"text/javascript\">\n",
       "                require([\"plotly\"], function(Plotly) {\n",
       "                    window.PLOTLYENV=window.PLOTLYENV || {};\n",
       "                    \n",
       "                if (document.getElementById(\"d32cc134-57e8-4af0-941a-3b8e00411036\")) {\n",
       "                    Plotly.newPlot(\n",
       "                        'd32cc134-57e8-4af0-941a-3b8e00411036',\n",
       "                        [{\"line\": {\"color\": \"black\", \"width\": 4}, \"name\": \"Mundo\", \"type\": \"scatter\", \"x\": [\"2020-01-22\", \"2020-01-23\", \"2020-01-24\", \"2020-01-25\", \"2020-01-26\", \"2020-01-27\", \"2020-01-28\", \"2020-01-29\", \"2020-01-30\", \"2020-01-31\", \"2020-02-01\", \"2020-02-02\", \"2020-02-03\", \"2020-02-04\", \"2020-02-05\", \"2020-02-06\", \"2020-02-07\", \"2020-02-08\", \"2020-02-09\", \"2020-02-10\", \"2020-02-11\", \"2020-02-12\", \"2020-02-13\", \"2020-02-14\", \"2020-02-15\", \"2020-02-16\", \"2020-02-17\", \"2020-02-18\", \"2020-02-19\", \"2020-02-20\", \"2020-02-21\", \"2020-02-22\", \"2020-02-23\", \"2020-02-24\", \"2020-02-25\", \"2020-02-26\", \"2020-02-27\", \"2020-02-28\", \"2020-02-29\", \"2020-03-01\", \"2020-03-02\", \"2020-03-03\", \"2020-03-04\", \"2020-03-05\", \"2020-03-06\", \"2020-03-07\", \"2020-03-08\", \"2020-03-09\", \"2020-03-10\", \"2020-03-11\", \"2020-03-12\", \"2020-03-13\", \"2020-03-14\", \"2020-03-15\"], \"y\": [555.0, 653.0, 941.0, 1438.0, 2118.0, 2927.0, 5578.0, 6165.0, 8235.0, 9925.0, 12038.0, 16787.0, 19881.0, 23892.0, 27636.0, 30818.0, 34392.0, 37121.0, 40151.0, 42763.0, 44803.0, 45222.0, 60370.0, 66887.0, 69032.0, 71226.0, 73260.0, 75138.0, 75641.0, 76199.0, 76843.0, 78599.0, 78985.0, 79570.0, 80415.0, 81397.0, 82756.0, 84124.0, 86013.0, 88371.0, 90309.0, 92844.0, 95124.0, 97886.0, 101800.0, 105836.0, 109835.0, 113582.0, 118582.0, 125865.0, 128343.0, 145193.0, 156099.0, 167447.0]}, {\"line\": {\"color\": \"crimson\", \"width\": 2}, \"name\": \"China\", \"type\": \"scatter\", \"x\": [\"2020-01-22\", \"2020-01-23\", \"2020-01-24\", \"2020-01-25\", \"2020-01-26\", \"2020-01-27\", \"2020-01-28\", \"2020-01-29\", \"2020-01-30\", \"2020-01-31\", \"2020-02-01\", \"2020-02-02\", \"2020-02-03\", \"2020-02-04\", \"2020-02-05\", \"2020-02-06\", \"2020-02-07\", \"2020-02-08\", \"2020-02-09\", \"2020-02-10\", \"2020-02-11\", \"2020-02-12\", \"2020-02-13\", \"2020-02-14\", \"2020-02-15\", \"2020-02-16\", \"2020-02-17\", \"2020-02-18\", \"2020-02-19\", \"2020-02-20\", \"2020-02-21\", \"2020-02-22\", \"2020-02-23\", \"2020-02-24\", \"2020-02-25\", \"2020-02-26\", \"2020-02-27\", \"2020-02-28\", \"2020-02-29\", \"2020-03-01\", \"2020-03-02\", \"2020-03-03\", \"2020-03-04\", \"2020-03-05\", \"2020-03-06\", \"2020-03-07\", \"2020-03-08\", \"2020-03-09\", \"2020-03-10\", \"2020-03-11\", \"2020-03-12\", \"2020-03-13\", \"2020-03-14\", \"2020-03-15\"], \"y\": [547.0, 639.0, 916.0, 1399.0, 2062.0, 2863.0, 5494.0, 6070.0, 8124.0, 9783.0, 11871.0, 16607.0, 19693.0, 23680.0, 27409.0, 30553.0, 34075.0, 36778.0, 39790.0, 42306.0, 44327.0, 44699.0, 59832.0, 66292.0, 68347.0, 70446.0, 72364.0, 74139.0, 74546.0, 74999.0, 75472.0, 76922.0, 76938.0, 77152.0, 77660.0, 78065.0, 78498.0, 78824.0, 79251.0, 79826.0, 80026.0, 80151.0, 80271.0, 80422.0, 80573.0, 80652.0, 80699.0, 80735.0, 80757.0, 80785.0, 80793.0, 80801.0, 80827.0, 80848.0]}, {\"marker\": {\"color\": \"black\", \"size\": 12}, \"mode\": \"markers\", \"showlegend\": false, \"type\": \"scatter\", \"x\": [\"2020-03-15\"], \"y\": [167447.0]}],\n",
       "                        {\"annotations\": [{\"font\": {\"color\": \"rgb(150,150,150)\", \"family\": \"Raleway, sans-serif\", \"size\": 12}, \"showarrow\": false, \"text\": \"Fonte: <a href=https://www.kaggle.com/sudalairajkumar/novel-corona-virus-2019-dataset>Novel COVID-19 Kaggle dataset</a>\", \"x\": 0.5, \"xanchor\": \"center\", \"xref\": \"paper\", \"y\": -0.1, \"yanchor\": \"top\", \"yref\": \"paper\"}, {\"arrowhead\": 2, \"ax\": -20, \"ay\": -50, \"font\": {\"color\": \"dimgrey\"}, \"showarrow\": true, \"text\": \"Espalhamento dr\\u00e1stico <br>pelo mundo\", \"x\": \"2020-02-22\", \"xref\": \"x\", \"y\": 78599.0, \"yref\": \"y\"}, {\"arrowhead\": 2, \"ax\": -90, \"ay\": 0, \"font\": {\"color\": \"dimgrey\", \"family\": \"Raleway, sans-serif\"}, \"showarrow\": true, \"text\": \"167447<br>casos confirmados<br> ao todo\", \"x\": \"2020-03-15\", \"xref\": \"x\", \"y\": 167447.0, \"yref\": \"y\"}], \"plot_bgcolor\": \"white\", \"showlegend\": true, \"template\": {\"data\": {\"bar\": [{\"error_x\": {\"color\": \"#2a3f5f\"}, \"error_y\": {\"color\": \"#2a3f5f\"}, \"marker\": {\"line\": {\"color\": \"#E5ECF6\", \"width\": 0.5}}, \"type\": \"bar\"}], \"barpolar\": [{\"marker\": {\"line\": {\"color\": \"#E5ECF6\", \"width\": 0.5}}, \"type\": \"barpolar\"}], \"carpet\": [{\"aaxis\": {\"endlinecolor\": \"#2a3f5f\", \"gridcolor\": \"white\", \"linecolor\": \"white\", \"minorgridcolor\": \"white\", \"startlinecolor\": \"#2a3f5f\"}, \"baxis\": {\"endlinecolor\": \"#2a3f5f\", \"gridcolor\": \"white\", \"linecolor\": \"white\", \"minorgridcolor\": \"white\", \"startlinecolor\": \"#2a3f5f\"}, \"type\": \"carpet\"}], \"choropleth\": [{\"colorbar\": {\"outlinewidth\": 0, \"ticks\": \"\"}, \"type\": \"choropleth\"}], \"contour\": [{\"colorbar\": {\"outlinewidth\": 0, \"ticks\": \"\"}, \"colorscale\": [[0.0, \"#0d0887\"], [0.1111111111111111, \"#46039f\"], [0.2222222222222222, \"#7201a8\"], [0.3333333333333333, \"#9c179e\"], [0.4444444444444444, \"#bd3786\"], [0.5555555555555556, \"#d8576b\"], [0.6666666666666666, \"#ed7953\"], [0.7777777777777778, \"#fb9f3a\"], [0.8888888888888888, \"#fdca26\"], [1.0, \"#f0f921\"]], \"type\": \"contour\"}], \"contourcarpet\": [{\"colorbar\": {\"outlinewidth\": 0, \"ticks\": \"\"}, \"type\": \"contourcarpet\"}], \"heatmap\": [{\"colorbar\": {\"outlinewidth\": 0, \"ticks\": \"\"}, \"colorscale\": [[0.0, \"#0d0887\"], [0.1111111111111111, \"#46039f\"], [0.2222222222222222, \"#7201a8\"], [0.3333333333333333, \"#9c179e\"], [0.4444444444444444, \"#bd3786\"], [0.5555555555555556, \"#d8576b\"], [0.6666666666666666, \"#ed7953\"], [0.7777777777777778, \"#fb9f3a\"], [0.8888888888888888, \"#fdca26\"], [1.0, \"#f0f921\"]], \"type\": \"heatmap\"}], \"heatmapgl\": [{\"colorbar\": {\"outlinewidth\": 0, \"ticks\": \"\"}, \"colorscale\": [[0.0, \"#0d0887\"], [0.1111111111111111, \"#46039f\"], [0.2222222222222222, \"#7201a8\"], [0.3333333333333333, \"#9c179e\"], [0.4444444444444444, \"#bd3786\"], [0.5555555555555556, \"#d8576b\"], [0.6666666666666666, \"#ed7953\"], [0.7777777777777778, \"#fb9f3a\"], [0.8888888888888888, \"#fdca26\"], [1.0, \"#f0f921\"]], \"type\": \"heatmapgl\"}], \"histogram\": [{\"marker\": {\"colorbar\": {\"outlinewidth\": 0, \"ticks\": \"\"}}, \"type\": \"histogram\"}], \"histogram2d\": [{\"colorbar\": {\"outlinewidth\": 0, \"ticks\": \"\"}, \"colorscale\": [[0.0, \"#0d0887\"], [0.1111111111111111, \"#46039f\"], [0.2222222222222222, \"#7201a8\"], [0.3333333333333333, \"#9c179e\"], [0.4444444444444444, \"#bd3786\"], [0.5555555555555556, \"#d8576b\"], [0.6666666666666666, \"#ed7953\"], [0.7777777777777778, \"#fb9f3a\"], [0.8888888888888888, \"#fdca26\"], [1.0, \"#f0f921\"]], \"type\": \"histogram2d\"}], \"histogram2dcontour\": [{\"colorbar\": {\"outlinewidth\": 0, \"ticks\": \"\"}, \"colorscale\": [[0.0, \"#0d0887\"], [0.1111111111111111, \"#46039f\"], [0.2222222222222222, \"#7201a8\"], [0.3333333333333333, \"#9c179e\"], [0.4444444444444444, \"#bd3786\"], [0.5555555555555556, \"#d8576b\"], [0.6666666666666666, \"#ed7953\"], [0.7777777777777778, \"#fb9f3a\"], [0.8888888888888888, \"#fdca26\"], [1.0, \"#f0f921\"]], \"type\": \"histogram2dcontour\"}], \"mesh3d\": [{\"colorbar\": {\"outlinewidth\": 0, \"ticks\": \"\"}, \"type\": \"mesh3d\"}], \"parcoords\": [{\"line\": {\"colorbar\": {\"outlinewidth\": 0, \"ticks\": \"\"}}, \"type\": \"parcoords\"}], \"pie\": [{\"automargin\": true, \"type\": \"pie\"}], \"scatter\": [{\"marker\": {\"colorbar\": {\"outlinewidth\": 0, \"ticks\": \"\"}}, \"type\": \"scatter\"}], \"scatter3d\": [{\"line\": {\"colorbar\": {\"outlinewidth\": 0, \"ticks\": \"\"}}, \"marker\": {\"colorbar\": {\"outlinewidth\": 0, \"ticks\": \"\"}}, \"type\": \"scatter3d\"}], \"scattercarpet\": [{\"marker\": {\"colorbar\": {\"outlinewidth\": 0, \"ticks\": \"\"}}, \"type\": \"scattercarpet\"}], \"scattergeo\": [{\"marker\": {\"colorbar\": {\"outlinewidth\": 0, \"ticks\": \"\"}}, \"type\": \"scattergeo\"}], \"scattergl\": [{\"marker\": {\"colorbar\": {\"outlinewidth\": 0, \"ticks\": \"\"}}, \"type\": \"scattergl\"}], \"scattermapbox\": [{\"marker\": {\"colorbar\": {\"outlinewidth\": 0, \"ticks\": \"\"}}, \"type\": \"scattermapbox\"}], \"scatterpolar\": [{\"marker\": {\"colorbar\": {\"outlinewidth\": 0, \"ticks\": \"\"}}, \"type\": \"scatterpolar\"}], \"scatterpolargl\": [{\"marker\": {\"colorbar\": {\"outlinewidth\": 0, \"ticks\": \"\"}}, \"type\": \"scatterpolargl\"}], \"scatterternary\": [{\"marker\": {\"colorbar\": {\"outlinewidth\": 0, \"ticks\": \"\"}}, \"type\": \"scatterternary\"}], \"surface\": [{\"colorbar\": {\"outlinewidth\": 0, \"ticks\": \"\"}, \"colorscale\": [[0.0, \"#0d0887\"], [0.1111111111111111, \"#46039f\"], [0.2222222222222222, \"#7201a8\"], [0.3333333333333333, \"#9c179e\"], [0.4444444444444444, \"#bd3786\"], [0.5555555555555556, \"#d8576b\"], [0.6666666666666666, \"#ed7953\"], [0.7777777777777778, \"#fb9f3a\"], [0.8888888888888888, \"#fdca26\"], [1.0, \"#f0f921\"]], \"type\": \"surface\"}], \"table\": [{\"cells\": {\"fill\": {\"color\": \"#EBF0F8\"}, \"line\": {\"color\": \"white\"}}, \"header\": {\"fill\": {\"color\": \"#C8D4E3\"}, \"line\": {\"color\": \"white\"}}, \"type\": \"table\"}]}, \"layout\": {\"annotationdefaults\": {\"arrowcolor\": \"#2a3f5f\", \"arrowhead\": 0, \"arrowwidth\": 1}, \"coloraxis\": {\"colorbar\": {\"outlinewidth\": 0, \"ticks\": \"\"}}, \"colorscale\": {\"diverging\": [[0, \"#8e0152\"], [0.1, \"#c51b7d\"], [0.2, \"#de77ae\"], [0.3, \"#f1b6da\"], [0.4, \"#fde0ef\"], [0.5, \"#f7f7f7\"], [0.6, \"#e6f5d0\"], [0.7, \"#b8e186\"], [0.8, \"#7fbc41\"], [0.9, \"#4d9221\"], [1, \"#276419\"]], \"sequential\": [[0.0, \"#0d0887\"], [0.1111111111111111, \"#46039f\"], [0.2222222222222222, \"#7201a8\"], [0.3333333333333333, \"#9c179e\"], [0.4444444444444444, \"#bd3786\"], [0.5555555555555556, \"#d8576b\"], [0.6666666666666666, \"#ed7953\"], [0.7777777777777778, \"#fb9f3a\"], [0.8888888888888888, \"#fdca26\"], [1.0, \"#f0f921\"]], \"sequentialminus\": [[0.0, \"#0d0887\"], [0.1111111111111111, \"#46039f\"], [0.2222222222222222, \"#7201a8\"], [0.3333333333333333, \"#9c179e\"], [0.4444444444444444, \"#bd3786\"], [0.5555555555555556, \"#d8576b\"], [0.6666666666666666, \"#ed7953\"], [0.7777777777777778, \"#fb9f3a\"], [0.8888888888888888, \"#fdca26\"], [1.0, \"#f0f921\"]]}, \"colorway\": [\"#636efa\", \"#EF553B\", \"#00cc96\", \"#ab63fa\", \"#FFA15A\", \"#19d3f3\", \"#FF6692\", \"#B6E880\", \"#FF97FF\", \"#FECB52\"], \"font\": {\"color\": \"#2a3f5f\"}, \"geo\": {\"bgcolor\": \"white\", \"lakecolor\": \"white\", \"landcolor\": \"#E5ECF6\", \"showlakes\": true, \"showland\": true, \"subunitcolor\": \"white\"}, \"hoverlabel\": {\"align\": \"left\"}, \"hovermode\": \"closest\", \"mapbox\": {\"style\": \"light\"}, \"paper_bgcolor\": \"white\", \"plot_bgcolor\": \"#E5ECF6\", \"polar\": {\"angularaxis\": {\"gridcolor\": \"white\", \"linecolor\": \"white\", \"ticks\": \"\"}, \"bgcolor\": \"#E5ECF6\", \"radialaxis\": {\"gridcolor\": \"white\", \"linecolor\": \"white\", \"ticks\": \"\"}}, \"scene\": {\"xaxis\": {\"backgroundcolor\": \"#E5ECF6\", \"gridcolor\": \"white\", \"gridwidth\": 2, \"linecolor\": \"white\", \"showbackground\": true, \"ticks\": \"\", \"zerolinecolor\": \"white\"}, \"yaxis\": {\"backgroundcolor\": \"#E5ECF6\", \"gridcolor\": \"white\", \"gridwidth\": 2, \"linecolor\": \"white\", \"showbackground\": true, \"ticks\": \"\", \"zerolinecolor\": \"white\"}, \"zaxis\": {\"backgroundcolor\": \"#E5ECF6\", \"gridcolor\": \"white\", \"gridwidth\": 2, \"linecolor\": \"white\", \"showbackground\": true, \"ticks\": \"\", \"zerolinecolor\": \"white\"}}, \"shapedefaults\": {\"line\": {\"color\": \"#2a3f5f\"}}, \"ternary\": {\"aaxis\": {\"gridcolor\": \"white\", \"linecolor\": \"white\", \"ticks\": \"\"}, \"baxis\": {\"gridcolor\": \"white\", \"linecolor\": \"white\", \"ticks\": \"\"}, \"bgcolor\": \"#E5ECF6\", \"caxis\": {\"gridcolor\": \"white\", \"linecolor\": \"white\", \"ticks\": \"\"}}, \"title\": {\"x\": 0.05}, \"xaxis\": {\"automargin\": true, \"gridcolor\": \"white\", \"linecolor\": \"white\", \"ticks\": \"\", \"title\": {\"standoff\": 15}, \"zerolinecolor\": \"white\", \"zerolinewidth\": 2}, \"yaxis\": {\"automargin\": true, \"gridcolor\": \"white\", \"linecolor\": \"white\", \"ticks\": \"\", \"title\": {\"standoff\": 15}, \"zerolinecolor\": \"white\", \"zerolinewidth\": 2}}}, \"title\": {\"font\": {\"color\": \"dimgrey\", \"family\": \"Franklin Gothic\", \"size\": 25}, \"text\": \"Evolu\\u00e7\\u00e3o COVID-19 no Mundo\"}, \"xaxis\": {\"linecolor\": \"rgb(204, 204, 204)\", \"linewidth\": 2, \"showgrid\": false, \"showline\": true, \"showticklabels\": true, \"tickfont\": {\"color\": \"rgb(82, 82, 82)\", \"family\": \"Raleway, sans-serif\", \"size\": 12}, \"ticks\": \"outside\"}, \"yaxis\": {\"linecolor\": \"rgb(204, 204, 204)\", \"linewidth\": 2, \"showgrid\": true, \"showline\": true, \"showticklabels\": true, \"tickfont\": {\"color\": \"rgb(82, 82, 82)\", \"family\": \"Raleway, sans-serif\", \"size\": 12}, \"ticks\": \"outside\", \"title\": {\"font\": {\"color\": \"rgb(150,150,150)\", \"family\": \"Raleway, sans-serif\", \"size\": 12}, \"text\": \"Casos Confirmados\"}, \"zeroline\": true}},\n",
       "                        {\"responsive\": true}\n",
       "                    ).then(function(){\n",
       "                            \n",
       "var gd = document.getElementById('d32cc134-57e8-4af0-941a-3b8e00411036');\n",
       "var x = new MutationObserver(function (mutations, observer) {{\n",
       "        var display = window.getComputedStyle(gd).display;\n",
       "        if (!display || display === 'none') {{\n",
       "            console.log([gd, 'removed!']);\n",
       "            Plotly.purge(gd);\n",
       "            observer.disconnect();\n",
       "        }}\n",
       "}});\n",
       "\n",
       "// Listen for the removal of the full notebook cells\n",
       "var notebookContainer = gd.closest('#notebook-container');\n",
       "if (notebookContainer) {{\n",
       "    x.observe(notebookContainer, {childList: true});\n",
       "}}\n",
       "\n",
       "// Listen for the clearing of the current output cell\n",
       "var outputEl = gd.closest('.output');\n",
       "if (outputEl) {{\n",
       "    x.observe(outputEl, {childList: true});\n",
       "}}\n",
       "\n",
       "                        })\n",
       "                };\n",
       "                });\n",
       "            </script>\n",
       "        </div>"
      ]
     },
     "metadata": {},
     "output_type": "display_data"
    }
   ],
   "source": [
    "# Criando figure\n",
    "fig = go.Figure()\n",
    "\n",
    "# Criando linha - Casos confirmados ao longo do mundo\n",
    "trace0 = go.Scatter(\n",
    "    x=corona_sum['last_update'],\n",
    "    y=corona_sum['confirmed'],\n",
    "    line=dict(\n",
    "        color='black',\n",
    "        width=4\n",
    "    ),\n",
    "    name='Mundo'\n",
    ")\n",
    "\n",
    "# Criando linha - Casos confirmados na China\n",
    "trace1 = go.Scatter(\n",
    "    x=china_sum['last_update'],\n",
    "    y=china_sum['confirmed'],\n",
    "    line=dict(\n",
    "        color='crimson',\n",
    "        width=2\n",
    "    ),\n",
    "    name='China'\n",
    ")\n",
    "\n",
    "# Criando ponto específico\n",
    "trace2 = go.Scatter(\n",
    "    x=corona_sum['last_update'][-1:],\n",
    "    y=corona_sum['confirmed'][-1:],\n",
    "    mode='markers',\n",
    "    marker=dict(\n",
    "        color='black',\n",
    "        size=12\n",
    "    ),\n",
    "    showlegend=False\n",
    ")\n",
    "\n",
    "# Adicionando traços às figuras\n",
    "fig.add_trace(trace0)\n",
    "fig.add_trace(trace1)\n",
    "fig.add_trace(trace2)\n",
    "\n",
    "# Formatando layout da plotagem\n",
    "fig.update_layout(\n",
    "    \n",
    "    # Eixo x\n",
    "    xaxis=dict(\n",
    "        showline=True,\n",
    "        showgrid=False,\n",
    "        showticklabels=True,\n",
    "        linecolor='rgb(204, 204, 204)',\n",
    "        linewidth=2,\n",
    "        ticks='outside',\n",
    "        tickfont=dict(\n",
    "            family='Raleway, sans-serif',\n",
    "            size=12,\n",
    "            color='rgb(82, 82, 82)',\n",
    "        ),\n",
    "    ),\n",
    "    \n",
    "    # Eixo y\n",
    "    yaxis=dict(\n",
    "        showgrid=True,\n",
    "        zeroline=True,\n",
    "        showline=True,\n",
    "        showticklabels=True,\n",
    "        linecolor='rgb(204, 204, 204)',\n",
    "        linewidth=2,\n",
    "        ticks='outside',\n",
    "        tickfont=dict(\n",
    "            family='Raleway, sans-serif',\n",
    "            size=12,\n",
    "            color='rgb(82, 82, 82)',\n",
    "        ),\n",
    "    ),\n",
    "    \n",
    "    \n",
    "    showlegend=True,\n",
    "    plot_bgcolor='white',\n",
    "    \n",
    "    # Título do gráfico\n",
    "    title=dict(\n",
    "        text='Evolução COVID-19 no Mundo',\n",
    "        font=dict(\n",
    "            family='Franklin Gothic',\n",
    "            size=25,\n",
    "            color='dimgrey'\n",
    "        )\n",
    "    ),\n",
    "    \n",
    "    # Título do eixo y\n",
    "    yaxis_title=dict(\n",
    "        text='Casos Confirmados',\n",
    "        font=dict(\n",
    "            family='Raleway, sans-serif',\n",
    "            size=12,\n",
    "            color='rgb(150,150,150)'\n",
    "        )\n",
    "    )\n",
    ")\n",
    "\n",
    "# Criando anotações\n",
    "annotations = []\n",
    "annotations.append(\n",
    "    dict(\n",
    "        xref='paper', \n",
    "        yref='paper', \n",
    "        x=0.5, \n",
    "        y=-0.1,\n",
    "        xanchor='center', \n",
    "        yanchor='top',\n",
    "        text='Fonte: <a href=https://www.kaggle.com/sudalairajkumar/novel-corona-virus-2019-dataset>' +\n",
    "                                   'Novel COVID-19 Kaggle dataset</a>',\n",
    "        font=dict(\n",
    "            family='Raleway, sans-serif',\n",
    "            size=12,\n",
    "            color='rgb(150,150,150)'\n",
    "        ),\n",
    "        showarrow=False\n",
    "    )\n",
    ")\n",
    "\n",
    "annotations.append(\n",
    "    dict(\n",
    "        x=corona_sum['last_update'][31],\n",
    "        y=corona_sum['confirmed'][31],\n",
    "        xref='x',\n",
    "        yref='y',\n",
    "        text='Espalhamento drástico <br>pelo mundo',\n",
    "        ax=-20,\n",
    "        ay=-50,\n",
    "        showarrow=True,\n",
    "        arrowhead=2,\n",
    "        font=dict(\n",
    "            color='dimgrey'\n",
    "        )\n",
    "    )\n",
    ")\n",
    "\n",
    "annotations.append(\n",
    "    dict(\n",
    "        x=corona_sum['last_update'][len(corona_sum)-1],\n",
    "        y=corona_sum['confirmed'][len(corona_sum)-1],\n",
    "        xref='x',\n",
    "        yref='y',\n",
    "        text=f'{int(corona_sum[\"confirmed\"].max())}' + \n",
    "                '<br>casos confirmados<br> ao todo',\n",
    "        ax=-90,\n",
    "        ay=0,\n",
    "        showarrow=True,\n",
    "        arrowhead=2,\n",
    "        font=dict(\n",
    "            family='Raleway, sans-serif',\n",
    "            color='dimgrey'\n",
    "        )\n",
    "    )\n",
    ")\n",
    " \n",
    "fig.update_layout(annotations=annotations)\n",
    "fig.show()"
   ]
  },
  {
   "cell_type": "code",
   "execution_count": 36,
   "metadata": {
    "ExecuteTime": {
     "end_time": "2020-03-19T02:40:56.609515Z",
     "start_time": "2020-03-19T02:40:56.602429Z"
    }
   },
   "outputs": [
    {
     "data": {
      "text/plain": [
       "datetime.date(2020, 2, 16)"
      ]
     },
     "execution_count": 36,
     "metadata": {},
     "output_type": "execute_result"
    }
   ],
   "source": [
    "list(corona_sum['last_update'].values)[25]"
   ]
  },
  {
   "cell_type": "code",
   "execution_count": 136,
   "metadata": {
    "ExecuteTime": {
     "end_time": "2020-03-19T03:14:01.798039Z",
     "start_time": "2020-03-19T03:14:01.676383Z"
    }
   },
   "outputs": [
    {
     "ename": "AttributeError",
     "evalue": "module 'plotly' has no attribute 'sign_in'",
     "output_type": "error",
     "traceback": [
      "\u001b[1;31m---------------------------------------------------------------------------\u001b[0m",
      "\u001b[1;31mAttributeError\u001b[0m                            Traceback (most recent call last)",
      "\u001b[1;32m<ipython-input-136-ecc4dcbd1f81>\u001b[0m in \u001b[0;36m<module>\u001b[1;34m\u001b[0m\n\u001b[0;32m     14\u001b[0m \u001b[1;33m\u001b[0m\u001b[0m\n\u001b[0;32m     15\u001b[0m \u001b[1;32mfrom\u001b[0m \u001b[0mplotly\u001b[0m\u001b[1;33m.\u001b[0m\u001b[0mgraph_objs\u001b[0m \u001b[1;32mimport\u001b[0m \u001b[1;33m*\u001b[0m\u001b[1;33m\u001b[0m\u001b[1;33m\u001b[0m\u001b[0m\n\u001b[1;32m---> 16\u001b[1;33m \u001b[0mpy\u001b[0m\u001b[1;33m.\u001b[0m\u001b[0msign_in\u001b[0m\u001b[1;33m(\u001b[0m\u001b[1;34m'username'\u001b[0m\u001b[1;33m,\u001b[0m \u001b[1;34m'api_key'\u001b[0m\u001b[1;33m)\u001b[0m\u001b[1;33m\u001b[0m\u001b[1;33m\u001b[0m\u001b[0m\n\u001b[0m\u001b[0;32m     17\u001b[0m trace1 = {\n\u001b[0;32m     18\u001b[0m   \u001b[1;34m\"uid\"\u001b[0m\u001b[1;33m:\u001b[0m \u001b[1;34m\"2021d2\"\u001b[0m\u001b[1;33m,\u001b[0m\u001b[1;33m\u001b[0m\u001b[1;33m\u001b[0m\u001b[0m\n",
      "\u001b[1;31mAttributeError\u001b[0m: module 'plotly' has no attribute 'sign_in'"
     ]
    }
   ],
   "source": [
    "# Get this figure: fig = py.get_figure(\"https://plot.ly/~Sripada/148/\")\n",
    "# Get this figure's data: data = py.get_figure(\"https://plot.ly/~Sripada/148/\").get_data()\n",
    "# Add data to this figure: py.plot(Data([Scatter(x=[1, 2], y=[2, 3])]), filename =\"plot from API (24)\", fileopt=\"extend\")\n",
    "# Get y data of first trace: y1 = py.get_figure(\"https://plot.ly/~Sripada/148/\").get_data()[0][\"y\"]\n",
    "\n",
    "# Get figure documentation: https://plot.ly/python/get-requests/\n",
    "# Add data documentation: https://plot.ly/python/file-options/\n",
    "\n",
    "# If you're using unicode in your file, you may need to specify the encoding.\n",
    "# You can reproduce this figure in Python with the following code!\n",
    "\n",
    "# Learn about API authentication here: https://plot.ly/python/getting-started\n",
    "# Find your api_key here: https://plot.ly/settings/api\n",
    "\n",
    "from plotly.graph_objs import *\n",
    "py.sign_in('username', 'api_key')\n",
    "trace1 = {\n",
    "  \"uid\": \"2021d2\", \n",
    "  \"name\": \"Perceived Tax Distribution\", \n",
    "  \"type\": \"bar\", \n",
    "  \"x\": [\"Bottom 10%\", \"Average\", \"Top 10%\"], \n",
    "  \"y\": [\"23.9\", \"29.8\", \"35.9\"], \n",
    "  \"marker\": {\"color\": \"rgb(135, 186, 0)\"}\n",
    "}\n",
    "trace2 = {\n",
    "  \"uid\": \"e5bb3c\", \n",
    "  \"name\": \"Preferred Tax Distribution\", \n",
    "  \"type\": \"bar\", \n",
    "  \"x\": [\"Bottom 10%\", \"Average\", \"Top 10%\"], \n",
    "  \"y\": [\"14.8\", \"22.4\", \"38.6\"], \n",
    "  \"marker\": {\"color\": \"rgb(60, 120, 216)\"}\n",
    "}\n",
    "trace3 = {\n",
    "  \"uid\": \"2e840f\", \n",
    "  \"name\": \"Actual Tax Distribution\", \n",
    "  \"type\": \"bar\", \n",
    "  \"x\": [\"Bottom 10%\", \"Average\", \"Top 10%\"], \n",
    "  \"y\": [\"43.0\", \"35.0\", \"35.0\"], \n",
    "  \"marker\": {\"color\": \"rgb(140, 0, 75)\"}\n",
    "}\n",
    "data = Data([trace1, trace2, trace3])\n",
    "layout = {\n",
    "  \"font\": {\n",
    "    \"size\": 12, \n",
    "    \"color\": \"#444\", \n",
    "    \"family\": \"Raleway, sans-serif\"\n",
    "  }, \n",
    "  \"title\": \"Sample Data Distribution<br>A Simple % Representation\", \n",
    "  \"width\": 800, \n",
    "  \"xaxis\": {\n",
    "    \"type\": \"category\", \n",
    "    \"dtick\": 1, \n",
    "    \"range\": [-0.5, 2.5], \n",
    "    \"tick0\": 0, \n",
    "    \"ticks\": \"\", \n",
    "    \"title\": \"\", \n",
    "    \"anchor\": \"y\", \n",
    "    \"domain\": [0, 1], \n",
    "    \"mirror\": False, \n",
    "    \"nticks\": 0, \n",
    "    \"ticklen\": 5, \n",
    "    \"position\": 0, \n",
    "    \"showgrid\": False, \n",
    "    \"showline\": True, \n",
    "    \"tickfont\": {\n",
    "      \"size\": 0, \n",
    "      \"color\": \"\", \n",
    "      \"family\": \"\"\n",
    "    }, \n",
    "    \"tickmode\": \"auto\", \n",
    "    \"zeroline\": False, \n",
    "    \"autorange\": True, \n",
    "    \"gridcolor\": \"#eee\", \n",
    "    \"gridwidth\": 1, \n",
    "    \"linecolor\": \"#444\", \n",
    "    \"linewidth\": 1, \n",
    "    \"rangemode\": \"normal\", \n",
    "    \"tickangle\": \"auto\", \n",
    "    \"tickcolor\": \"#444\", \n",
    "    \"tickwidth\": 1, \n",
    "    \"titlefont\": {\n",
    "      \"size\": 0, \n",
    "      \"color\": \"\", \n",
    "      \"family\": \"\"\n",
    "    }, \n",
    "    \"overlaying\": False, \n",
    "    \"showexponent\": \"all\", \n",
    "    \"zerolinecolor\": \"#444\", \n",
    "    \"zerolinewidth\": 1, \n",
    "    \"exponentformat\": \"B\", \n",
    "    \"showticklabels\": True\n",
    "  }, \n",
    "  \"yaxis\": {\n",
    "    \"type\": \"linear\", \n",
    "    \"dtick\": 10, \n",
    "    \"range\": [0, 45.26315789473684], \n",
    "    \"tick0\": 0, \n",
    "    \"ticks\": \"\", \n",
    "    \"title\": \"\", \n",
    "    \"anchor\": \"x\", \n",
    "    \"domain\": [0, 1], \n",
    "    \"mirror\": False, \n",
    "    \"nticks\": 0, \n",
    "    \"ticklen\": 5, \n",
    "    \"position\": 0, \n",
    "    \"showgrid\": True, \n",
    "    \"showline\": True, \n",
    "    \"tickfont\": {\n",
    "      \"size\": 0, \n",
    "      \"color\": \"\", \n",
    "      \"family\": \"\"\n",
    "    }, \n",
    "    \"tickmode\": \"auto\", \n",
    "    \"zeroline\": False, \n",
    "    \"autorange\": True, \n",
    "    \"gridcolor\": \"#eee\", \n",
    "    \"gridwidth\": 1, \n",
    "    \"linecolor\": \"#444\", \n",
    "    \"linewidth\": 1, \n",
    "    \"rangemode\": \"normal\", \n",
    "    \"tickangle\": \"auto\", \n",
    "    \"tickcolor\": \"#444\", \n",
    "    \"tickwidth\": 1, \n",
    "    \"titlefont\": {\n",
    "      \"size\": 0, \n",
    "      \"color\": \"\", \n",
    "      \"family\": \"\"\n",
    "    }, \n",
    "    \"overlaying\": False, \n",
    "    \"showexponent\": \"all\", \n",
    "    \"zerolinecolor\": \"#444\", \n",
    "    \"zerolinewidth\": 1, \n",
    "    \"exponentformat\": \"B\", \n",
    "    \"showticklabels\": True\n",
    "  }, \n",
    "  \"bargap\": 0.2, \n",
    "  \"boxgap\": 0.3, \n",
    "  \"height\": 500, \n",
    "  \"legend\": {\n",
    "    \"x\": 0.6796875, \n",
    "    \"y\": 1.09375, \n",
    "    \"font\": {\n",
    "      \"size\": 0, \n",
    "      \"color\": \"\", \n",
    "      \"family\": \"\"\n",
    "    }, \n",
    "    \"bgcolor\": \"rgba(255, 255, 255, 0)\", \n",
    "    \"xanchor\": \"left\", \n",
    "    \"yanchor\": \"top\", \n",
    "    \"traceorder\": \"normal\", \n",
    "    \"bordercolor\": \"#444\", \n",
    "    \"borderwidth\": 0\n",
    "  }, \n",
    "  \"margin\": {\n",
    "    \"b\": 80, \n",
    "    \"l\": 80, \n",
    "    \"r\": 80, \n",
    "    \"t\": 100, \n",
    "    \"pad\": 0, \n",
    "    \"autoexpand\": True\n",
    "  }, \n",
    "  \"barmode\": \"group\", \n",
    "  \"boxmode\": \"overlay\", \n",
    "  \"autosize\": False, \n",
    "  \"dragmode\": \"zoom\", \n",
    "  \"hovermode\": \"x\", \n",
    "  \"titlefont\": {\n",
    "    \"size\": 0, \n",
    "    \"color\": \"\", \n",
    "    \"family\": \"\"\n",
    "  }, \n",
    "  \"separators\": \".,\", \n",
    "  \"showlegend\": True, \n",
    "  \"annotations\": [\n",
    "    {\n",
    "      \"x\": 0.10000000000000002, \n",
    "      \"y\": 0.3, \n",
    "      \"ax\": -14, \n",
    "      \"ay\": -60.39166259765625, \n",
    "      \"font\": {\n",
    "        \"size\": 14, \n",
    "        \"color\": \"rgb(255, 255, 255)\", \n",
    "        \"family\": \"\"\n",
    "      }, \n",
    "      \"text\": \"23.9%\", \n",
    "      \"xref\": \"paper\", \n",
    "      \"yref\": \"paper\", \n",
    "      \"align\": \"center\", \n",
    "      \"bgcolor\": \"rgba(0, 0, 0, 0)\", \n",
    "      \"opacity\": 1, \n",
    "      \"xanchor\": \"auto\", \n",
    "      \"yanchor\": \"auto\", \n",
    "      \"arrowhead\": 1, \n",
    "      \"arrowsize\": 1, \n",
    "      \"borderpad\": 1, \n",
    "      \"showarrow\": True, \n",
    "      \"textangle\": 0, \n",
    "      \"arrowcolor\": \"rgba(68, 68, 68, 0)\", \n",
    "      \"arrowwidth\": 0, \n",
    "      \"bordercolor\": \"\", \n",
    "      \"borderwidth\": 1\n",
    "    }, \n",
    "    {\n",
    "      \"x\": 0.10000000000000002, \n",
    "      \"y\": 0.3, \n",
    "      \"ax\": 45, \n",
    "      \"ay\": 6.60833740234375, \n",
    "      \"font\": {\n",
    "        \"size\": 14, \n",
    "        \"color\": \"rgb(255, 255, 255)\", \n",
    "        \"family\": \"\"\n",
    "      }, \n",
    "      \"text\": \"14.8%\", \n",
    "      \"xref\": \"paper\", \n",
    "      \"yref\": \"paper\", \n",
    "      \"align\": \"center\", \n",
    "      \"bgcolor\": \"rgba(0, 0, 0, 0)\", \n",
    "      \"opacity\": 1, \n",
    "      \"xanchor\": \"auto\", \n",
    "      \"yanchor\": \"auto\", \n",
    "      \"arrowhead\": 1, \n",
    "      \"arrowsize\": 1, \n",
    "      \"borderpad\": 1, \n",
    "      \"showarrow\": True, \n",
    "      \"textangle\": 0, \n",
    "      \"arrowcolor\": \"rgba(68, 68, 68, 0)\", \n",
    "      \"arrowwidth\": 0, \n",
    "      \"bordercolor\": \"\", \n",
    "      \"borderwidth\": 1\n",
    "    }, \n",
    "    {\n",
    "      \"x\": 0.10000000000000002, \n",
    "      \"y\": 0.3, \n",
    "      \"ax\": 100, \n",
    "      \"ay\": -194.39166259765625, \n",
    "      \"font\": {\n",
    "        \"size\": 14, \n",
    "        \"color\": \"rgb(255, 255, 255)\", \n",
    "        \"family\": \"\"\n",
    "      }, \n",
    "      \"text\": \"43.0%\", \n",
    "      \"xref\": \"paper\", \n",
    "      \"yref\": \"paper\", \n",
    "      \"align\": \"center\", \n",
    "      \"bgcolor\": \"rgba(0, 0, 0, 0)\", \n",
    "      \"opacity\": 1, \n",
    "      \"xanchor\": \"auto\", \n",
    "      \"yanchor\": \"auto\", \n",
    "      \"arrowhead\": 1, \n",
    "      \"arrowsize\": 1, \n",
    "      \"borderpad\": 1, \n",
    "      \"showarrow\": True, \n",
    "      \"textangle\": 0, \n",
    "      \"arrowcolor\": \"rgba(68, 68, 68, 0)\", \n",
    "      \"arrowwidth\": 0, \n",
    "      \"bordercolor\": \"\", \n",
    "      \"borderwidth\": 1\n",
    "    }, \n",
    "    {\n",
    "      \"x\": 0.10000000000000002, \n",
    "      \"y\": 0.3, \n",
    "      \"ax\": 202, \n",
    "      \"ay\": -102.39166259765625, \n",
    "      \"font\": {\n",
    "        \"size\": 14, \n",
    "        \"color\": \"rgb(255, 255, 255)\", \n",
    "        \"family\": \"\"\n",
    "      }, \n",
    "      \"text\": \"29.8%\", \n",
    "      \"xref\": \"paper\", \n",
    "      \"yref\": \"paper\", \n",
    "      \"align\": \"center\", \n",
    "      \"bgcolor\": \"rgba(0, 0, 0, 0)\", \n",
    "      \"opacity\": 1, \n",
    "      \"xanchor\": \"auto\", \n",
    "      \"yanchor\": \"auto\", \n",
    "      \"arrowhead\": 1, \n",
    "      \"arrowsize\": 1, \n",
    "      \"borderpad\": 1, \n",
    "      \"showarrow\": True, \n",
    "      \"textangle\": 0, \n",
    "      \"arrowcolor\": \"rgba(68, 68, 68, 0)\", \n",
    "      \"arrowwidth\": 0, \n",
    "      \"bordercolor\": \"\", \n",
    "      \"borderwidth\": 1\n",
    "    }, \n",
    "    {\n",
    "      \"x\": 0.10000000000000002, \n",
    "      \"y\": 0.3, \n",
    "      \"ax\": 258, \n",
    "      \"ay\": -48.39166259765625, \n",
    "      \"font\": {\n",
    "        \"size\": 14, \n",
    "        \"color\": \"rgb(255, 255, 255)\", \n",
    "        \"family\": \"\"\n",
    "      }, \n",
    "      \"text\": \"22.4%\", \n",
    "      \"xref\": \"paper\", \n",
    "      \"yref\": \"paper\", \n",
    "      \"align\": \"center\", \n",
    "      \"bgcolor\": \"rgba(0, 0, 0, 0)\", \n",
    "      \"opacity\": 1, \n",
    "      \"xanchor\": \"auto\", \n",
    "      \"yanchor\": \"auto\", \n",
    "      \"arrowhead\": 1, \n",
    "      \"arrowsize\": 1, \n",
    "      \"borderpad\": 1, \n",
    "      \"showarrow\": True, \n",
    "      \"textangle\": 0, \n",
    "      \"arrowcolor\": \"rgba(68, 68, 68, 0)\", \n",
    "      \"arrowwidth\": 0, \n",
    "      \"bordercolor\": \"\", \n",
    "      \"borderwidth\": 1\n",
    "    }, \n",
    "    {\n",
    "      \"x\": 0.10000000000000002, \n",
    "      \"y\": 0.3, \n",
    "      \"ax\": 315, \n",
    "      \"ay\": -139.39166259765625, \n",
    "      \"font\": {\n",
    "        \"size\": 14, \n",
    "        \"color\": \"rgb(255, 255, 255)\", \n",
    "        \"family\": \"\"\n",
    "      }, \n",
    "      \"text\": \"35.0%\", \n",
    "      \"xref\": \"paper\", \n",
    "      \"yref\": \"paper\", \n",
    "      \"align\": \"center\", \n",
    "      \"bgcolor\": \"rgba(0, 0, 0, 0)\", \n",
    "      \"opacity\": 1, \n",
    "      \"xanchor\": \"auto\", \n",
    "      \"yanchor\": \"auto\", \n",
    "      \"arrowhead\": 1, \n",
    "      \"arrowsize\": 1, \n",
    "      \"borderpad\": 1, \n",
    "      \"showarrow\": True, \n",
    "      \"textangle\": 0, \n",
    "      \"arrowcolor\": \"rgba(68, 68, 68, 0)\", \n",
    "      \"arrowwidth\": 0, \n",
    "      \"bordercolor\": \"\", \n",
    "      \"borderwidth\": 1\n",
    "    }, \n",
    "    {\n",
    "      \"x\": 0.10000000000000002, \n",
    "      \"y\": 0.3, \n",
    "      \"ax\": 416, \n",
    "      \"ay\": -144.39166259765625, \n",
    "      \"font\": {\n",
    "        \"size\": 14, \n",
    "        \"color\": \"rgb(255, 255, 255)\", \n",
    "        \"family\": \"\"\n",
    "      }, \n",
    "      \"text\": \"35.9%\", \n",
    "      \"xref\": \"paper\", \n",
    "      \"yref\": \"paper\", \n",
    "      \"align\": \"center\", \n",
    "      \"bgcolor\": \"rgba(0, 0, 0, 0)\", \n",
    "      \"opacity\": 1, \n",
    "      \"xanchor\": \"auto\", \n",
    "      \"yanchor\": \"auto\", \n",
    "      \"arrowhead\": 1, \n",
    "      \"arrowsize\": 1, \n",
    "      \"borderpad\": 1, \n",
    "      \"showarrow\": True, \n",
    "      \"textangle\": 0, \n",
    "      \"arrowcolor\": \"rgba(68, 68, 68, 0)\", \n",
    "      \"arrowwidth\": 0, \n",
    "      \"bordercolor\": \"\", \n",
    "      \"borderwidth\": 1\n",
    "    }, \n",
    "    {\n",
    "      \"x\": 0.10000000000000002, \n",
    "      \"y\": 0.3, \n",
    "      \"ax\": 471, \n",
    "      \"ay\": -163.39166259765625, \n",
    "      \"font\": {\n",
    "        \"size\": 14, \n",
    "        \"color\": \"rgb(255, 255, 255)\", \n",
    "        \"family\": \"\"\n",
    "      }, \n",
    "      \"text\": \"38.6%\", \n",
    "      \"xref\": \"paper\", \n",
    "      \"yref\": \"paper\", \n",
    "      \"align\": \"center\", \n",
    "      \"bgcolor\": \"rgba(0, 0, 0, 0)\", \n",
    "      \"opacity\": 1, \n",
    "      \"xanchor\": \"auto\", \n",
    "      \"yanchor\": \"auto\", \n",
    "      \"arrowhead\": 1, \n",
    "      \"arrowsize\": 1, \n",
    "      \"borderpad\": 1, \n",
    "      \"showarrow\": True, \n",
    "      \"textangle\": 0, \n",
    "      \"arrowcolor\": \"rgba(68, 68, 68, 0)\", \n",
    "      \"arrowwidth\": 0, \n",
    "      \"bordercolor\": \"\", \n",
    "      \"borderwidth\": 1\n",
    "    }, \n",
    "    {\n",
    "      \"x\": 0.10000000000000002, \n",
    "      \"y\": 0.3, \n",
    "      \"ax\": 528, \n",
    "      \"ay\": -139.39166259765625, \n",
    "      \"font\": {\n",
    "        \"size\": 14, \n",
    "        \"color\": \"rgb(255, 255, 255)\", \n",
    "        \"family\": \"\"\n",
    "      }, \n",
    "      \"text\": \"35.0%\", \n",
    "      \"xref\": \"paper\", \n",
    "      \"yref\": \"paper\", \n",
    "      \"align\": \"center\", \n",
    "      \"bgcolor\": \"rgba(0, 0, 0, 0)\", \n",
    "      \"opacity\": 1, \n",
    "      \"xanchor\": \"auto\", \n",
    "      \"yanchor\": \"auto\", \n",
    "      \"arrowhead\": 1, \n",
    "      \"arrowsize\": 1, \n",
    "      \"borderpad\": 1, \n",
    "      \"showarrow\": True, \n",
    "      \"textangle\": 0, \n",
    "      \"arrowcolor\": \"rgba(68, 68, 68, 0)\", \n",
    "      \"arrowwidth\": 0, \n",
    "      \"bordercolor\": \"\", \n",
    "      \"borderwidth\": 1\n",
    "    }, \n",
    "    {\n",
    "      \"x\": 0.10000000000000002, \n",
    "      \"y\": 0.3, \n",
    "      \"ax\": -51, \n",
    "      \"ay\": 140.60833740234375, \n",
    "      \"font\": {\n",
    "        \"size\": 0, \n",
    "        \"color\": \"\", \n",
    "        \"family\": \"\"\n",
    "      }, \n",
    "      \"text\": \"Source: <a href=\\\"http://www.equalitytrust.org.uk/sites/default/files/attachments/resources/Unfair%20and%20Unclear.pdf\\\">The Equality Trust</a>\", \n",
    "      \"xref\": \"paper\", \n",
    "      \"yref\": \"paper\", \n",
    "      \"align\": \"center\", \n",
    "      \"bgcolor\": \"rgba(0, 0, 0, 0)\", \n",
    "      \"opacity\": 1, \n",
    "      \"xanchor\": \"auto\", \n",
    "      \"yanchor\": \"auto\", \n",
    "      \"arrowhead\": 1, \n",
    "      \"arrowsize\": 1, \n",
    "      \"borderpad\": 1, \n",
    "      \"showarrow\": True, \n",
    "      \"textangle\": 0, \n",
    "      \"arrowcolor\": \"rgba(68, 68, 68, 0)\", \n",
    "      \"arrowwidth\": 0, \n",
    "      \"bordercolor\": \"\", \n",
    "      \"borderwidth\": 1\n",
    "    }\n",
    "  ], \n",
    "  \"bargroupgap\": 0.05, \n",
    "  \"boxgroupgap\": 0.3, \n",
    "  \"hidesources\": False, \n",
    "  \"plot_bgcolor\": \"#fff\", \n",
    "  \"paper_bgcolor\": \"#fff\"\n",
    "}\n",
    "fig = Figure(data=data, layout=layout)\n",
    "plot_url = py.plot(fig)"
   ]
  },
  {
   "cell_type": "code",
   "execution_count": null,
   "metadata": {},
   "outputs": [],
   "source": []
  }
 ],
 "metadata": {
  "kernelspec": {
   "display_name": "Python 3",
   "language": "python",
   "name": "python3"
  },
  "language_info": {
   "codemirror_mode": {
    "name": "ipython",
    "version": 3
   },
   "file_extension": ".py",
   "mimetype": "text/x-python",
   "name": "python",
   "nbconvert_exporter": "python",
   "pygments_lexer": "ipython3",
   "version": "3.7.3"
  },
  "toc": {
   "base_numbering": 1,
   "nav_menu": {},
   "number_sections": true,
   "sideBar": true,
   "skip_h1_title": false,
   "title_cell": "Table of Contents",
   "title_sidebar": "Contents",
   "toc_cell": true,
   "toc_position": {},
   "toc_section_display": true,
   "toc_window_display": true
  },
  "varInspector": {
   "cols": {
    "lenName": 16,
    "lenType": 16,
    "lenVar": 40
   },
   "kernels_config": {
    "python": {
     "delete_cmd_postfix": "",
     "delete_cmd_prefix": "del ",
     "library": "var_list.py",
     "varRefreshCmd": "print(var_dic_list())"
    },
    "r": {
     "delete_cmd_postfix": ") ",
     "delete_cmd_prefix": "rm(",
     "library": "var_list.r",
     "varRefreshCmd": "cat(var_dic_list()) "
    }
   },
   "types_to_exclude": [
    "module",
    "function",
    "builtin_function_or_method",
    "instance",
    "_Feature"
   ],
   "window_display": false
  }
 },
 "nbformat": 4,
 "nbformat_minor": 2
}
