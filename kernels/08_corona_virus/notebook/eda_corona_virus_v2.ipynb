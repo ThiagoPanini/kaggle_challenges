{
 "cells": [
  {
   "cell_type": "markdown",
   "metadata": {
    "toc": true
   },
   "source": [
    "<h1>Table of Contents<span class=\"tocSkip\"></span></h1>\n",
    "<div class=\"toc\"><ul class=\"toc-item\"><li><span><a href=\"#Importando-Bibliotecas\" data-toc-modified-id=\"Importando-Bibliotecas-1\"><span class=\"toc-item-num\">1&nbsp;&nbsp;</span>Importando Bibliotecas</a></span></li><li><span><a href=\"#Definindo-Funções\" data-toc-modified-id=\"Definindo-Funções-2\"><span class=\"toc-item-num\">2&nbsp;&nbsp;</span>Definindo Funções</a></span></li><li><span><a href=\"#Lendo-os-Dados\" data-toc-modified-id=\"Lendo-os-Dados-3\"><span class=\"toc-item-num\">3&nbsp;&nbsp;</span>Lendo os Dados</a></span></li><li><span><a href=\"#DataPrep\" data-toc-modified-id=\"DataPrep-4\"><span class=\"toc-item-num\">4&nbsp;&nbsp;</span>DataPrep</a></span></li><li><span><a href=\"#Exploração-Gráfica\" data-toc-modified-id=\"Exploração-Gráfica-5\"><span class=\"toc-item-num\">5&nbsp;&nbsp;</span>Exploração Gráfica</a></span><ul class=\"toc-item\"><li><span><a href=\"#A-China-e-o-Mundo\" data-toc-modified-id=\"A-China-e-o-Mundo-5.1\"><span class=\"toc-item-num\">5.1&nbsp;&nbsp;</span>A China e o Mundo</a></span></li><li><span><a href=\"#Comparação-Brasil-e-Itália\" data-toc-modified-id=\"Comparação-Brasil-e-Itália-5.2\"><span class=\"toc-item-num\">5.2&nbsp;&nbsp;</span>Comparação Brasil e Itália</a></span><ul class=\"toc-item\"><li><span><a href=\"#Pós-Primeira-Observação\" data-toc-modified-id=\"Pós-Primeira-Observação-5.2.1\"><span class=\"toc-item-num\">5.2.1&nbsp;&nbsp;</span>Pós Primeira Observação</a></span></li><li><span><a href=\"#Pós-Trigger-de-Confirmados\" data-toc-modified-id=\"Pós-Trigger-de-Confirmados-5.2.2\"><span class=\"toc-item-num\">5.2.2&nbsp;&nbsp;</span>Pós Trigger de Confirmados</a></span></li></ul></li></ul></li></ul></div>"
   ]
  },
  {
   "cell_type": "markdown",
   "metadata": {},
   "source": [
    "Este notebook tem como objetivo propor uma análise da evolução do COVID-19 ao redor do mundo, enfatizando casos confirmados, vítimas e casos recuperados no `Brasil`.\n",
    "Utilizando uma [base de dados](https://www.kaggle.com/sudalairajkumar/novel-corona-virus-2019-dataset) do Kaggle com atualização diária, serão apresentados gráficos e análises sobre o impacto do Corona Virus na sociedade como um todo."
   ]
  },
  {
   "cell_type": "markdown",
   "metadata": {},
   "source": [
    "# Importando Bibliotecas"
   ]
  },
  {
   "cell_type": "code",
   "execution_count": 20,
   "metadata": {
    "ExecuteTime": {
     "end_time": "2020-03-21T23:25:09.881813Z",
     "start_time": "2020-03-21T23:25:09.865958Z"
    }
   },
   "outputs": [
    {
     "data": {
      "text/html": [
       "        <script type=\"text/javascript\">\n",
       "        window.PlotlyConfig = {MathJaxConfig: 'local'};\n",
       "        if (window.MathJax) {MathJax.Hub.Config({SVG: {font: \"STIX-Web\"}});}\n",
       "        if (typeof require !== 'undefined') {\n",
       "        require.undef(\"plotly\");\n",
       "        requirejs.config({\n",
       "            paths: {\n",
       "                'plotly': ['https://cdn.plot.ly/plotly-latest.min']\n",
       "            }\n",
       "        });\n",
       "        require(['plotly'], function(Plotly) {\n",
       "            window._Plotly = Plotly;\n",
       "        });\n",
       "        }\n",
       "        </script>\n",
       "        "
      ]
     },
     "metadata": {},
     "output_type": "display_data"
    }
   ],
   "source": [
    "# Biblliotecas utilizadas no projeto\n",
    "import pandas as pd\n",
    "import numpy as np\n",
    "import os\n",
    "from datetime import datetime\n",
    "import matplotlib.pyplot as plt\n",
    "import matplotlib.dates as mdates\n",
    "import seaborn as sns\n",
    "%matplotlib inline\n",
    "from warnings import filterwarnings\n",
    "filterwarnings('ignore')\n",
    "import urllib.request, json\n",
    "\n",
    "import plotly as py\n",
    "import plotly.graph_objs as go\n",
    "py.offline.init_notebook_mode(connected=True)\n",
    "import plotly.express as px"
   ]
  },
  {
   "cell_type": "markdown",
   "metadata": {},
   "source": [
    "# Definindo Funções"
   ]
  },
  {
   "cell_type": "code",
   "execution_count": 2,
   "metadata": {
    "ExecuteTime": {
     "end_time": "2020-03-21T23:11:44.262809Z",
     "start_time": "2020-03-21T23:11:44.249539Z"
    },
    "code_folding": [
     1
    ]
   },
   "outputs": [],
   "source": [
    "# Formatando eixos do matplotlib\n",
    "def format_spines(ax, right_border=True):\n",
    "    \"\"\"\n",
    "    This function sets up borders from an axis and personalize colors\n",
    "    \n",
    "    Input:\n",
    "        Axis and a flag for deciding or not to plot the right border\n",
    "    Returns:\n",
    "        Plot configuration\n",
    "    \"\"\"    \n",
    "    # Setting up colors\n",
    "    ax.spines['bottom'].set_color('#CCCCCC')\n",
    "    ax.spines['left'].set_color('#CCCCCC')\n",
    "    ax.spines['top'].set_visible(False)\n",
    "    if right_border:\n",
    "        ax.spines['right'].set_color('#CCCCCC')\n",
    "    else:\n",
    "        ax.spines['right'].set_color('#FFFFFF')\n",
    "    ax.patch.set_facecolor('#FFFFFF')"
   ]
  },
  {
   "cell_type": "markdown",
   "metadata": {},
   "source": [
    "# Lendo os Dados"
   ]
  },
  {
   "cell_type": "code",
   "execution_count": 3,
   "metadata": {
    "ExecuteTime": {
     "end_time": "2020-03-21T23:11:44.372940Z",
     "start_time": "2020-03-21T23:11:44.265683Z"
    }
   },
   "outputs": [
    {
     "data": {
      "text/html": [
       "<div>\n",
       "<style scoped>\n",
       "    .dataframe tbody tr th:only-of-type {\n",
       "        vertical-align: middle;\n",
       "    }\n",
       "\n",
       "    .dataframe tbody tr th {\n",
       "        vertical-align: top;\n",
       "    }\n",
       "\n",
       "    .dataframe thead th {\n",
       "        text-align: right;\n",
       "    }\n",
       "</style>\n",
       "<table border=\"1\" class=\"dataframe\">\n",
       "  <thead>\n",
       "    <tr style=\"text-align: right;\">\n",
       "      <th></th>\n",
       "      <th>sno</th>\n",
       "      <th>observationdate</th>\n",
       "      <th>province_state</th>\n",
       "      <th>country_region</th>\n",
       "      <th>last_update</th>\n",
       "      <th>confirmed</th>\n",
       "      <th>deaths</th>\n",
       "      <th>recovered</th>\n",
       "    </tr>\n",
       "  </thead>\n",
       "  <tbody>\n",
       "    <tr>\n",
       "      <th>0</th>\n",
       "      <td>1</td>\n",
       "      <td>01/22/2020</td>\n",
       "      <td>Anhui</td>\n",
       "      <td>Mainland China</td>\n",
       "      <td>1/22/2020 17:00</td>\n",
       "      <td>1.0</td>\n",
       "      <td>0.0</td>\n",
       "      <td>0.0</td>\n",
       "    </tr>\n",
       "    <tr>\n",
       "      <th>1</th>\n",
       "      <td>2</td>\n",
       "      <td>01/22/2020</td>\n",
       "      <td>Beijing</td>\n",
       "      <td>Mainland China</td>\n",
       "      <td>1/22/2020 17:00</td>\n",
       "      <td>14.0</td>\n",
       "      <td>0.0</td>\n",
       "      <td>0.0</td>\n",
       "    </tr>\n",
       "    <tr>\n",
       "      <th>2</th>\n",
       "      <td>3</td>\n",
       "      <td>01/22/2020</td>\n",
       "      <td>Chongqing</td>\n",
       "      <td>Mainland China</td>\n",
       "      <td>1/22/2020 17:00</td>\n",
       "      <td>6.0</td>\n",
       "      <td>0.0</td>\n",
       "      <td>0.0</td>\n",
       "    </tr>\n",
       "    <tr>\n",
       "      <th>3</th>\n",
       "      <td>4</td>\n",
       "      <td>01/22/2020</td>\n",
       "      <td>Fujian</td>\n",
       "      <td>Mainland China</td>\n",
       "      <td>1/22/2020 17:00</td>\n",
       "      <td>1.0</td>\n",
       "      <td>0.0</td>\n",
       "      <td>0.0</td>\n",
       "    </tr>\n",
       "    <tr>\n",
       "      <th>4</th>\n",
       "      <td>5</td>\n",
       "      <td>01/22/2020</td>\n",
       "      <td>Gansu</td>\n",
       "      <td>Mainland China</td>\n",
       "      <td>1/22/2020 17:00</td>\n",
       "      <td>0.0</td>\n",
       "      <td>0.0</td>\n",
       "      <td>0.0</td>\n",
       "    </tr>\n",
       "  </tbody>\n",
       "</table>\n",
       "</div>"
      ],
      "text/plain": [
       "   sno observationdate province_state  country_region      last_update  \\\n",
       "0    1      01/22/2020          Anhui  Mainland China  1/22/2020 17:00   \n",
       "1    2      01/22/2020        Beijing  Mainland China  1/22/2020 17:00   \n",
       "2    3      01/22/2020      Chongqing  Mainland China  1/22/2020 17:00   \n",
       "3    4      01/22/2020         Fujian  Mainland China  1/22/2020 17:00   \n",
       "4    5      01/22/2020          Gansu  Mainland China  1/22/2020 17:00   \n",
       "\n",
       "   confirmed  deaths  recovered  \n",
       "0        1.0     0.0        0.0  \n",
       "1       14.0     0.0        0.0  \n",
       "2        6.0     0.0        0.0  \n",
       "3        1.0     0.0        0.0  \n",
       "4        0.0     0.0        0.0  "
      ]
     },
     "execution_count": 3,
     "metadata": {},
     "output_type": "execute_result"
    }
   ],
   "source": [
    "# Lendo a base mais recente sobre o virus\n",
    "data_path = r'D:\\Users\\thiagoPanini\\github_files\\kaggle_challenges\\kernels\\08_corona_virus\\data'\n",
    "df_corona = pd.read_csv(data_path + f'\\covid_19_data.csv')\n",
    "df_corona.columns = [c.lower().replace(' ', '_').replace('/', '_') for c in df_corona.columns]\n",
    "df_corona.head()"
   ]
  },
  {
   "cell_type": "markdown",
   "metadata": {},
   "source": [
    "De acordo com a documentação da base disponibilizada no Kaggle, as colunas presentes na base são:\n",
    "\n",
    "- **sno:** serial number;\n",
    "- **observationdate:** data da observação no formato MM/DD/YYYY;\n",
    "- **province_state:** cidade referente ao registro (pode ser vazio (\"\") quando nulo);\n",
    "- **country_region:** país referente ao registro;\n",
    "- **last_update:** tempo (UTC) na qual o registro foi atualizado para o estado e país em questão;\n",
    "- **confirmed**: quantidade cumulativa de casos confirmados até a data em questão;\n",
    "- **deaths:** quantidade cumulativa de vítimas até a data em questão;\n",
    "- **recovered:** quantidade cumulativa de pacientes recuperados até a data em questão"
   ]
  },
  {
   "cell_type": "code",
   "execution_count": 4,
   "metadata": {
    "ExecuteTime": {
     "end_time": "2020-03-21T23:11:44.381998Z",
     "start_time": "2020-03-21T23:11:44.375783Z"
    }
   },
   "outputs": [
    {
     "data": {
      "text/plain": [
       "(7313, 8)"
      ]
     },
     "execution_count": 4,
     "metadata": {},
     "output_type": "execute_result"
    }
   ],
   "source": [
    "# Volumetria\n",
    "df_corona.shape"
   ]
  },
  {
   "cell_type": "markdown",
   "metadata": {},
   "source": [
    "# DataPrep"
   ]
  },
  {
   "cell_type": "markdown",
   "metadata": {},
   "source": [
    "Aqui será proposto um fluxo de preparação da base lida envolvendo:\n",
    "\n",
    "**1)** Transformação das colunas de data e eliminação das inconsistências;\n",
    "\n",
    "**2)** Criação de nova coluna com casos `ativos`"
   ]
  },
  {
   "cell_type": "code",
   "execution_count": 5,
   "metadata": {
    "ExecuteTime": {
     "end_time": "2020-03-21T23:11:45.875364Z",
     "start_time": "2020-03-21T23:11:44.385149Z"
    },
    "code_folding": [
     0
    ]
   },
   "outputs": [
    {
     "data": {
      "text/html": [
       "<div>\n",
       "<style scoped>\n",
       "    .dataframe tbody tr th:only-of-type {\n",
       "        vertical-align: middle;\n",
       "    }\n",
       "\n",
       "    .dataframe tbody tr th {\n",
       "        vertical-align: top;\n",
       "    }\n",
       "\n",
       "    .dataframe thead th {\n",
       "        text-align: right;\n",
       "    }\n",
       "</style>\n",
       "<table border=\"1\" class=\"dataframe\">\n",
       "  <thead>\n",
       "    <tr style=\"text-align: right;\">\n",
       "      <th></th>\n",
       "      <th>sno</th>\n",
       "      <th>province_state</th>\n",
       "      <th>country_region</th>\n",
       "      <th>confirmed</th>\n",
       "      <th>deaths</th>\n",
       "      <th>recovered</th>\n",
       "      <th>observation_date</th>\n",
       "      <th>last_update</th>\n",
       "      <th>actives</th>\n",
       "    </tr>\n",
       "  </thead>\n",
       "  <tbody>\n",
       "    <tr>\n",
       "      <th>0</th>\n",
       "      <td>1</td>\n",
       "      <td>Anhui</td>\n",
       "      <td>Mainland China</td>\n",
       "      <td>1.0</td>\n",
       "      <td>0.0</td>\n",
       "      <td>0.0</td>\n",
       "      <td>2020-01-22</td>\n",
       "      <td>2020-01-22</td>\n",
       "      <td>1.0</td>\n",
       "    </tr>\n",
       "    <tr>\n",
       "      <th>1</th>\n",
       "      <td>2</td>\n",
       "      <td>Beijing</td>\n",
       "      <td>Mainland China</td>\n",
       "      <td>14.0</td>\n",
       "      <td>0.0</td>\n",
       "      <td>0.0</td>\n",
       "      <td>2020-01-22</td>\n",
       "      <td>2020-01-22</td>\n",
       "      <td>14.0</td>\n",
       "    </tr>\n",
       "    <tr>\n",
       "      <th>2</th>\n",
       "      <td>3</td>\n",
       "      <td>Chongqing</td>\n",
       "      <td>Mainland China</td>\n",
       "      <td>6.0</td>\n",
       "      <td>0.0</td>\n",
       "      <td>0.0</td>\n",
       "      <td>2020-01-22</td>\n",
       "      <td>2020-01-22</td>\n",
       "      <td>6.0</td>\n",
       "    </tr>\n",
       "    <tr>\n",
       "      <th>3</th>\n",
       "      <td>4</td>\n",
       "      <td>Fujian</td>\n",
       "      <td>Mainland China</td>\n",
       "      <td>1.0</td>\n",
       "      <td>0.0</td>\n",
       "      <td>0.0</td>\n",
       "      <td>2020-01-22</td>\n",
       "      <td>2020-01-22</td>\n",
       "      <td>1.0</td>\n",
       "    </tr>\n",
       "    <tr>\n",
       "      <th>4</th>\n",
       "      <td>5</td>\n",
       "      <td>Gansu</td>\n",
       "      <td>Mainland China</td>\n",
       "      <td>0.0</td>\n",
       "      <td>0.0</td>\n",
       "      <td>0.0</td>\n",
       "      <td>2020-01-22</td>\n",
       "      <td>2020-01-22</td>\n",
       "      <td>0.0</td>\n",
       "    </tr>\n",
       "  </tbody>\n",
       "</table>\n",
       "</div>"
      ],
      "text/plain": [
       "   sno province_state  country_region  confirmed  deaths  recovered  \\\n",
       "0    1          Anhui  Mainland China        1.0     0.0        0.0   \n",
       "1    2        Beijing  Mainland China       14.0     0.0        0.0   \n",
       "2    3      Chongqing  Mainland China        6.0     0.0        0.0   \n",
       "3    4         Fujian  Mainland China        1.0     0.0        0.0   \n",
       "4    5          Gansu  Mainland China        0.0     0.0        0.0   \n",
       "\n",
       "  observation_date last_update  actives  \n",
       "0       2020-01-22  2020-01-22      1.0  \n",
       "1       2020-01-22  2020-01-22     14.0  \n",
       "2       2020-01-22  2020-01-22      6.0  \n",
       "3       2020-01-22  2020-01-22      1.0  \n",
       "4       2020-01-22  2020-01-22      0.0  "
      ]
     },
     "execution_count": 5,
     "metadata": {},
     "output_type": "execute_result"
    }
   ],
   "source": [
    "# Limpando colunas de data\n",
    "df_corona['last_update_cleaned'] = pd.to_datetime(df_corona['last_update']).dt.date\n",
    "df_corona['obs_date_cleaned'] = pd.to_datetime(df_corona['observationdate']).dt.date\n",
    "df_corona.drop(['last_update', 'observationdate'], axis=1, inplace=True)\n",
    "df_corona.columns = ['sno', 'province_state', 'country_region', 'confirmed', \n",
    "                     'deaths', 'recovered', 'observation_date', 'last_update']\n",
    "\n",
    "# Criação de coluna com casos ativos\n",
    "df_corona['actives'] = df_corona['confirmed'] - df_corona['deaths'] - df_corona['recovered']\n",
    "\n",
    "df_corona.head()"
   ]
  },
  {
   "cell_type": "code",
   "execution_count": 6,
   "metadata": {
    "ExecuteTime": {
     "end_time": "2020-03-21T23:11:45.907207Z",
     "start_time": "2020-03-21T23:11:45.880454Z"
    }
   },
   "outputs": [
    {
     "name": "stdout",
     "output_type": "stream",
     "text": [
      "Range de observação: de 2020-01-22 até 2020-03-20\n",
      "\n",
      "Range de atualização: de 2020-01-22 até 2020-03-20\n"
     ]
    }
   ],
   "source": [
    "# Range dos dados\n",
    "print(f'Range de observação: de {df_corona[\"observation_date\"].min()} até {df_corona[\"observation_date\"].max()}\\n')\n",
    "print(f'Range de atualização: de {df_corona[\"last_update\"].min()} até {df_corona[\"last_update\"].max()}')"
   ]
  },
  {
   "cell_type": "markdown",
   "metadata": {},
   "source": [
    "# Exploração Gráfica"
   ]
  },
  {
   "cell_type": "markdown",
   "metadata": {},
   "source": [
    "Nesta sessão, vamos iniciar as análises gráficas a partir de plotagens com `matplotlib`, `seaborn` e `plotly`. O intuito é retirar insights da base de dados e proporcionar uma visão ampla sobre os impactos do COVID-19."
   ]
  },
  {
   "cell_type": "markdown",
   "metadata": {},
   "source": [
    "## A China e o Mundo"
   ]
  },
  {
   "cell_type": "code",
   "execution_count": 7,
   "metadata": {
    "ExecuteTime": {
     "end_time": "2020-03-21T23:11:45.969858Z",
     "start_time": "2020-03-21T23:11:45.916473Z"
    }
   },
   "outputs": [],
   "source": [
    "# Agrupando dados\n",
    "corona_sum = df_corona.groupby(by='last_update', as_index=False).sum()\n",
    "china_sum = df_corona.query('country_region == \"Mainland China\"').groupby(by='last_update', as_index=False).sum()"
   ]
  },
  {
   "cell_type": "code",
   "execution_count": 8,
   "metadata": {
    "ExecuteTime": {
     "end_time": "2020-03-21T23:11:48.137829Z",
     "start_time": "2020-03-21T23:11:45.974955Z"
    },
    "code_folding": [
     0,
     4,
     18,
     32,
     52,
     110,
     129,
     147
    ]
   },
   "outputs": [
    {
     "data": {
      "application/vnd.plotly.v1+json": {
       "config": {
        "plotlyServerURL": "https://plot.ly"
       },
       "data": [
        {
         "hovertemplate": "<b>Casos</b>: %{y}<br><b>Data</b>: %{x}<br>",
         "line": {
          "color": "black",
          "width": 4
         },
         "name": "Mundo",
         "type": "scatter",
         "x": [
          "2020-01-22",
          "2020-01-23",
          "2020-01-24",
          "2020-01-25",
          "2020-01-26",
          "2020-01-27",
          "2020-01-28",
          "2020-01-29",
          "2020-01-30",
          "2020-01-31",
          "2020-02-01",
          "2020-02-02",
          "2020-02-03",
          "2020-02-04",
          "2020-02-05",
          "2020-02-06",
          "2020-02-07",
          "2020-02-08",
          "2020-02-09",
          "2020-02-10",
          "2020-02-11",
          "2020-02-12",
          "2020-02-13",
          "2020-02-14",
          "2020-02-15",
          "2020-02-16",
          "2020-02-17",
          "2020-02-18",
          "2020-02-19",
          "2020-02-20",
          "2020-02-21",
          "2020-02-22",
          "2020-02-23",
          "2020-02-24",
          "2020-02-25",
          "2020-02-26",
          "2020-02-27",
          "2020-02-28",
          "2020-02-29",
          "2020-03-01",
          "2020-03-02",
          "2020-03-03",
          "2020-03-04",
          "2020-03-05",
          "2020-03-06",
          "2020-03-07",
          "2020-03-08",
          "2020-03-09",
          "2020-03-10",
          "2020-03-11",
          "2020-03-12",
          "2020-03-13",
          "2020-03-14",
          "2020-03-15",
          "2020-03-16",
          "2020-03-17",
          "2020-03-18",
          "2020-03-19",
          "2020-03-20"
         ],
         "y": [
          555,
          653,
          941,
          1438,
          2118,
          2927,
          5578,
          6165,
          8235,
          9925,
          12038,
          16787,
          19881,
          23892,
          27636,
          30818,
          34392,
          37121,
          40151,
          42763,
          44803,
          45222,
          60370,
          66887,
          69032,
          71226,
          73260,
          75138,
          75641,
          76199,
          76843,
          78599,
          78985,
          79570,
          80415,
          81397,
          82756,
          84124,
          86013,
          88371,
          90309,
          92844,
          95124,
          97886,
          101800,
          105836,
          109835,
          113582,
          118582,
          125865,
          128343,
          145193,
          156099,
          167447,
          181546,
          197168,
          214915,
          242713,
          272167
         ]
        },
        {
         "hovertemplate": "<b>Casos</b>: %{y}<br><b>Data</b>: %{x}<br>",
         "line": {
          "color": "crimson",
          "width": 2
         },
         "name": "China",
         "type": "scatter",
         "x": [
          "2020-01-22",
          "2020-01-23",
          "2020-01-24",
          "2020-01-25",
          "2020-01-26",
          "2020-01-27",
          "2020-01-28",
          "2020-01-29",
          "2020-01-30",
          "2020-01-31",
          "2020-02-01",
          "2020-02-02",
          "2020-02-03",
          "2020-02-04",
          "2020-02-05",
          "2020-02-06",
          "2020-02-07",
          "2020-02-08",
          "2020-02-09",
          "2020-02-10",
          "2020-02-11",
          "2020-02-12",
          "2020-02-13",
          "2020-02-14",
          "2020-02-15",
          "2020-02-16",
          "2020-02-17",
          "2020-02-18",
          "2020-02-19",
          "2020-02-20",
          "2020-02-21",
          "2020-02-22",
          "2020-02-23",
          "2020-02-24",
          "2020-02-25",
          "2020-02-26",
          "2020-02-27",
          "2020-02-28",
          "2020-02-29",
          "2020-03-01",
          "2020-03-02",
          "2020-03-03",
          "2020-03-04",
          "2020-03-05",
          "2020-03-06",
          "2020-03-07",
          "2020-03-08",
          "2020-03-09",
          "2020-03-10",
          "2020-03-11",
          "2020-03-12",
          "2020-03-13",
          "2020-03-14",
          "2020-03-15",
          "2020-03-16",
          "2020-03-17",
          "2020-03-18",
          "2020-03-19",
          "2020-03-20"
         ],
         "y": [
          547,
          639,
          916,
          1399,
          2062,
          2863,
          5494,
          6070,
          8124,
          9783,
          11871,
          16607,
          19693,
          23680,
          27409,
          30553,
          34075,
          36778,
          39790,
          42306,
          44327,
          44699,
          59832,
          66292,
          68347,
          70446,
          72364,
          74139,
          74546,
          74999,
          75472,
          76922,
          76938,
          77152,
          77660,
          78065,
          78498,
          78824,
          79251,
          79826,
          80026,
          80151,
          80271,
          80422,
          80573,
          80652,
          80699,
          80735,
          80757,
          80785,
          80793,
          80801,
          80827,
          80848,
          80867,
          80884,
          80906,
          80931,
          80977
         ]
        },
        {
         "hovertemplate": "<b>Casos</b>: %{y}<br><b>Data</b>: %{x}<br>",
         "marker": {
          "color": "black",
          "size": 12
         },
         "mode": "markers",
         "showlegend": false,
         "type": "scatter",
         "x": [
          "2020-03-20"
         ],
         "y": [
          272167
         ]
        }
       ],
       "layout": {
        "annotations": [
         {
          "font": {
           "color": "rgb(150,150,150)",
           "family": "Raleway, sans-serif",
           "size": 12
          },
          "showarrow": false,
          "text": "Fonte: <a href=https://www.kaggle.com/sudalairajkumar/novel-corona-virus-2019-dataset>Novel COVID-19 Kaggle dataset</a>",
          "x": 0.5,
          "xanchor": "center",
          "xref": "paper",
          "y": -0.1,
          "yanchor": "top",
          "yref": "paper"
         },
         {
          "arrowhead": 2,
          "ax": -20,
          "ay": -50,
          "font": {
           "color": "dimgrey"
          },
          "showarrow": true,
          "text": "Espalhamento drástico <br>pelo mundo",
          "x": "2020-02-22",
          "xref": "x",
          "y": 78599,
          "yref": "y"
         },
         {
          "arrowhead": 2,
          "ax": -90,
          "ay": 0,
          "font": {
           "color": "dimgrey",
           "family": "Raleway, sans-serif"
          },
          "showarrow": true,
          "text": "272167<br>casos confirmados<br> ao todo",
          "x": "2020-03-20",
          "xref": "x",
          "y": 272167,
          "yref": "y"
         }
        ],
        "plot_bgcolor": "white",
        "showlegend": true,
        "template": {
         "data": {
          "bar": [
           {
            "error_x": {
             "color": "#2a3f5f"
            },
            "error_y": {
             "color": "#2a3f5f"
            },
            "marker": {
             "line": {
              "color": "#E5ECF6",
              "width": 0.5
             }
            },
            "type": "bar"
           }
          ],
          "barpolar": [
           {
            "marker": {
             "line": {
              "color": "#E5ECF6",
              "width": 0.5
             }
            },
            "type": "barpolar"
           }
          ],
          "carpet": [
           {
            "aaxis": {
             "endlinecolor": "#2a3f5f",
             "gridcolor": "white",
             "linecolor": "white",
             "minorgridcolor": "white",
             "startlinecolor": "#2a3f5f"
            },
            "baxis": {
             "endlinecolor": "#2a3f5f",
             "gridcolor": "white",
             "linecolor": "white",
             "minorgridcolor": "white",
             "startlinecolor": "#2a3f5f"
            },
            "type": "carpet"
           }
          ],
          "choropleth": [
           {
            "colorbar": {
             "outlinewidth": 0,
             "ticks": ""
            },
            "type": "choropleth"
           }
          ],
          "contour": [
           {
            "colorbar": {
             "outlinewidth": 0,
             "ticks": ""
            },
            "colorscale": [
             [
              0,
              "#0d0887"
             ],
             [
              0.1111111111111111,
              "#46039f"
             ],
             [
              0.2222222222222222,
              "#7201a8"
             ],
             [
              0.3333333333333333,
              "#9c179e"
             ],
             [
              0.4444444444444444,
              "#bd3786"
             ],
             [
              0.5555555555555556,
              "#d8576b"
             ],
             [
              0.6666666666666666,
              "#ed7953"
             ],
             [
              0.7777777777777778,
              "#fb9f3a"
             ],
             [
              0.8888888888888888,
              "#fdca26"
             ],
             [
              1,
              "#f0f921"
             ]
            ],
            "type": "contour"
           }
          ],
          "contourcarpet": [
           {
            "colorbar": {
             "outlinewidth": 0,
             "ticks": ""
            },
            "type": "contourcarpet"
           }
          ],
          "heatmap": [
           {
            "colorbar": {
             "outlinewidth": 0,
             "ticks": ""
            },
            "colorscale": [
             [
              0,
              "#0d0887"
             ],
             [
              0.1111111111111111,
              "#46039f"
             ],
             [
              0.2222222222222222,
              "#7201a8"
             ],
             [
              0.3333333333333333,
              "#9c179e"
             ],
             [
              0.4444444444444444,
              "#bd3786"
             ],
             [
              0.5555555555555556,
              "#d8576b"
             ],
             [
              0.6666666666666666,
              "#ed7953"
             ],
             [
              0.7777777777777778,
              "#fb9f3a"
             ],
             [
              0.8888888888888888,
              "#fdca26"
             ],
             [
              1,
              "#f0f921"
             ]
            ],
            "type": "heatmap"
           }
          ],
          "heatmapgl": [
           {
            "colorbar": {
             "outlinewidth": 0,
             "ticks": ""
            },
            "colorscale": [
             [
              0,
              "#0d0887"
             ],
             [
              0.1111111111111111,
              "#46039f"
             ],
             [
              0.2222222222222222,
              "#7201a8"
             ],
             [
              0.3333333333333333,
              "#9c179e"
             ],
             [
              0.4444444444444444,
              "#bd3786"
             ],
             [
              0.5555555555555556,
              "#d8576b"
             ],
             [
              0.6666666666666666,
              "#ed7953"
             ],
             [
              0.7777777777777778,
              "#fb9f3a"
             ],
             [
              0.8888888888888888,
              "#fdca26"
             ],
             [
              1,
              "#f0f921"
             ]
            ],
            "type": "heatmapgl"
           }
          ],
          "histogram": [
           {
            "marker": {
             "colorbar": {
              "outlinewidth": 0,
              "ticks": ""
             }
            },
            "type": "histogram"
           }
          ],
          "histogram2d": [
           {
            "colorbar": {
             "outlinewidth": 0,
             "ticks": ""
            },
            "colorscale": [
             [
              0,
              "#0d0887"
             ],
             [
              0.1111111111111111,
              "#46039f"
             ],
             [
              0.2222222222222222,
              "#7201a8"
             ],
             [
              0.3333333333333333,
              "#9c179e"
             ],
             [
              0.4444444444444444,
              "#bd3786"
             ],
             [
              0.5555555555555556,
              "#d8576b"
             ],
             [
              0.6666666666666666,
              "#ed7953"
             ],
             [
              0.7777777777777778,
              "#fb9f3a"
             ],
             [
              0.8888888888888888,
              "#fdca26"
             ],
             [
              1,
              "#f0f921"
             ]
            ],
            "type": "histogram2d"
           }
          ],
          "histogram2dcontour": [
           {
            "colorbar": {
             "outlinewidth": 0,
             "ticks": ""
            },
            "colorscale": [
             [
              0,
              "#0d0887"
             ],
             [
              0.1111111111111111,
              "#46039f"
             ],
             [
              0.2222222222222222,
              "#7201a8"
             ],
             [
              0.3333333333333333,
              "#9c179e"
             ],
             [
              0.4444444444444444,
              "#bd3786"
             ],
             [
              0.5555555555555556,
              "#d8576b"
             ],
             [
              0.6666666666666666,
              "#ed7953"
             ],
             [
              0.7777777777777778,
              "#fb9f3a"
             ],
             [
              0.8888888888888888,
              "#fdca26"
             ],
             [
              1,
              "#f0f921"
             ]
            ],
            "type": "histogram2dcontour"
           }
          ],
          "mesh3d": [
           {
            "colorbar": {
             "outlinewidth": 0,
             "ticks": ""
            },
            "type": "mesh3d"
           }
          ],
          "parcoords": [
           {
            "line": {
             "colorbar": {
              "outlinewidth": 0,
              "ticks": ""
             }
            },
            "type": "parcoords"
           }
          ],
          "pie": [
           {
            "automargin": true,
            "type": "pie"
           }
          ],
          "scatter": [
           {
            "marker": {
             "colorbar": {
              "outlinewidth": 0,
              "ticks": ""
             }
            },
            "type": "scatter"
           }
          ],
          "scatter3d": [
           {
            "line": {
             "colorbar": {
              "outlinewidth": 0,
              "ticks": ""
             }
            },
            "marker": {
             "colorbar": {
              "outlinewidth": 0,
              "ticks": ""
             }
            },
            "type": "scatter3d"
           }
          ],
          "scattercarpet": [
           {
            "marker": {
             "colorbar": {
              "outlinewidth": 0,
              "ticks": ""
             }
            },
            "type": "scattercarpet"
           }
          ],
          "scattergeo": [
           {
            "marker": {
             "colorbar": {
              "outlinewidth": 0,
              "ticks": ""
             }
            },
            "type": "scattergeo"
           }
          ],
          "scattergl": [
           {
            "marker": {
             "colorbar": {
              "outlinewidth": 0,
              "ticks": ""
             }
            },
            "type": "scattergl"
           }
          ],
          "scattermapbox": [
           {
            "marker": {
             "colorbar": {
              "outlinewidth": 0,
              "ticks": ""
             }
            },
            "type": "scattermapbox"
           }
          ],
          "scatterpolar": [
           {
            "marker": {
             "colorbar": {
              "outlinewidth": 0,
              "ticks": ""
             }
            },
            "type": "scatterpolar"
           }
          ],
          "scatterpolargl": [
           {
            "marker": {
             "colorbar": {
              "outlinewidth": 0,
              "ticks": ""
             }
            },
            "type": "scatterpolargl"
           }
          ],
          "scatterternary": [
           {
            "marker": {
             "colorbar": {
              "outlinewidth": 0,
              "ticks": ""
             }
            },
            "type": "scatterternary"
           }
          ],
          "surface": [
           {
            "colorbar": {
             "outlinewidth": 0,
             "ticks": ""
            },
            "colorscale": [
             [
              0,
              "#0d0887"
             ],
             [
              0.1111111111111111,
              "#46039f"
             ],
             [
              0.2222222222222222,
              "#7201a8"
             ],
             [
              0.3333333333333333,
              "#9c179e"
             ],
             [
              0.4444444444444444,
              "#bd3786"
             ],
             [
              0.5555555555555556,
              "#d8576b"
             ],
             [
              0.6666666666666666,
              "#ed7953"
             ],
             [
              0.7777777777777778,
              "#fb9f3a"
             ],
             [
              0.8888888888888888,
              "#fdca26"
             ],
             [
              1,
              "#f0f921"
             ]
            ],
            "type": "surface"
           }
          ],
          "table": [
           {
            "cells": {
             "fill": {
              "color": "#EBF0F8"
             },
             "line": {
              "color": "white"
             }
            },
            "header": {
             "fill": {
              "color": "#C8D4E3"
             },
             "line": {
              "color": "white"
             }
            },
            "type": "table"
           }
          ]
         },
         "layout": {
          "annotationdefaults": {
           "arrowcolor": "#2a3f5f",
           "arrowhead": 0,
           "arrowwidth": 1
          },
          "coloraxis": {
           "colorbar": {
            "outlinewidth": 0,
            "ticks": ""
           }
          },
          "colorscale": {
           "diverging": [
            [
             0,
             "#8e0152"
            ],
            [
             0.1,
             "#c51b7d"
            ],
            [
             0.2,
             "#de77ae"
            ],
            [
             0.3,
             "#f1b6da"
            ],
            [
             0.4,
             "#fde0ef"
            ],
            [
             0.5,
             "#f7f7f7"
            ],
            [
             0.6,
             "#e6f5d0"
            ],
            [
             0.7,
             "#b8e186"
            ],
            [
             0.8,
             "#7fbc41"
            ],
            [
             0.9,
             "#4d9221"
            ],
            [
             1,
             "#276419"
            ]
           ],
           "sequential": [
            [
             0,
             "#0d0887"
            ],
            [
             0.1111111111111111,
             "#46039f"
            ],
            [
             0.2222222222222222,
             "#7201a8"
            ],
            [
             0.3333333333333333,
             "#9c179e"
            ],
            [
             0.4444444444444444,
             "#bd3786"
            ],
            [
             0.5555555555555556,
             "#d8576b"
            ],
            [
             0.6666666666666666,
             "#ed7953"
            ],
            [
             0.7777777777777778,
             "#fb9f3a"
            ],
            [
             0.8888888888888888,
             "#fdca26"
            ],
            [
             1,
             "#f0f921"
            ]
           ],
           "sequentialminus": [
            [
             0,
             "#0d0887"
            ],
            [
             0.1111111111111111,
             "#46039f"
            ],
            [
             0.2222222222222222,
             "#7201a8"
            ],
            [
             0.3333333333333333,
             "#9c179e"
            ],
            [
             0.4444444444444444,
             "#bd3786"
            ],
            [
             0.5555555555555556,
             "#d8576b"
            ],
            [
             0.6666666666666666,
             "#ed7953"
            ],
            [
             0.7777777777777778,
             "#fb9f3a"
            ],
            [
             0.8888888888888888,
             "#fdca26"
            ],
            [
             1,
             "#f0f921"
            ]
           ]
          },
          "colorway": [
           "#636efa",
           "#EF553B",
           "#00cc96",
           "#ab63fa",
           "#FFA15A",
           "#19d3f3",
           "#FF6692",
           "#B6E880",
           "#FF97FF",
           "#FECB52"
          ],
          "font": {
           "color": "#2a3f5f"
          },
          "geo": {
           "bgcolor": "white",
           "lakecolor": "white",
           "landcolor": "#E5ECF6",
           "showlakes": true,
           "showland": true,
           "subunitcolor": "white"
          },
          "hoverlabel": {
           "align": "left"
          },
          "hovermode": "closest",
          "mapbox": {
           "style": "light"
          },
          "paper_bgcolor": "white",
          "plot_bgcolor": "#E5ECF6",
          "polar": {
           "angularaxis": {
            "gridcolor": "white",
            "linecolor": "white",
            "ticks": ""
           },
           "bgcolor": "#E5ECF6",
           "radialaxis": {
            "gridcolor": "white",
            "linecolor": "white",
            "ticks": ""
           }
          },
          "scene": {
           "xaxis": {
            "backgroundcolor": "#E5ECF6",
            "gridcolor": "white",
            "gridwidth": 2,
            "linecolor": "white",
            "showbackground": true,
            "ticks": "",
            "zerolinecolor": "white"
           },
           "yaxis": {
            "backgroundcolor": "#E5ECF6",
            "gridcolor": "white",
            "gridwidth": 2,
            "linecolor": "white",
            "showbackground": true,
            "ticks": "",
            "zerolinecolor": "white"
           },
           "zaxis": {
            "backgroundcolor": "#E5ECF6",
            "gridcolor": "white",
            "gridwidth": 2,
            "linecolor": "white",
            "showbackground": true,
            "ticks": "",
            "zerolinecolor": "white"
           }
          },
          "shapedefaults": {
           "line": {
            "color": "#2a3f5f"
           }
          },
          "ternary": {
           "aaxis": {
            "gridcolor": "white",
            "linecolor": "white",
            "ticks": ""
           },
           "baxis": {
            "gridcolor": "white",
            "linecolor": "white",
            "ticks": ""
           },
           "bgcolor": "#E5ECF6",
           "caxis": {
            "gridcolor": "white",
            "linecolor": "white",
            "ticks": ""
           }
          },
          "title": {
           "x": 0.05
          },
          "xaxis": {
           "automargin": true,
           "gridcolor": "white",
           "linecolor": "white",
           "ticks": "",
           "title": {
            "standoff": 15
           },
           "zerolinecolor": "white",
           "zerolinewidth": 2
          },
          "yaxis": {
           "automargin": true,
           "gridcolor": "white",
           "linecolor": "white",
           "ticks": "",
           "title": {
            "standoff": 15
           },
           "zerolinecolor": "white",
           "zerolinewidth": 2
          }
         }
        },
        "title": {
         "font": {
          "color": "dimgrey",
          "family": "Franklin Gothic",
          "size": 25
         },
         "text": "Evolução COVID-19 no Mundo"
        },
        "xaxis": {
         "linecolor": "rgb(204, 204, 204)",
         "linewidth": 2,
         "showgrid": false,
         "showline": true,
         "showticklabels": true,
         "tickfont": {
          "color": "rgb(82, 82, 82)",
          "family": "Raleway, sans-serif",
          "size": 12
         },
         "ticks": "outside"
        },
        "yaxis": {
         "linecolor": "rgb(204, 204, 204)",
         "linewidth": 2,
         "showgrid": true,
         "showline": true,
         "showticklabels": true,
         "tickfont": {
          "color": "rgb(82, 82, 82)",
          "family": "Raleway, sans-serif",
          "size": 12
         },
         "ticks": "outside",
         "title": {
          "font": {
           "color": "rgb(150,150,150)",
           "family": "Raleway, sans-serif",
           "size": 12
          },
          "text": "Casos Confirmados"
         },
         "zeroline": true
        }
       }
      },
      "text/html": [
       "<div>\n",
       "        \n",
       "        \n",
       "            <div id=\"4fc0cbcf-c8f8-4c64-8d59-3d1fbccb4d4f\" class=\"plotly-graph-div\" style=\"height:525px; width:100%;\"></div>\n",
       "            <script type=\"text/javascript\">\n",
       "                require([\"plotly\"], function(Plotly) {\n",
       "                    window.PLOTLYENV=window.PLOTLYENV || {};\n",
       "                    \n",
       "                if (document.getElementById(\"4fc0cbcf-c8f8-4c64-8d59-3d1fbccb4d4f\")) {\n",
       "                    Plotly.newPlot(\n",
       "                        '4fc0cbcf-c8f8-4c64-8d59-3d1fbccb4d4f',\n",
       "                        [{\"hovertemplate\": \"<b>Casos</b>: %{y}<br><b>Data</b>: %{x}<br>\", \"line\": {\"color\": \"black\", \"width\": 4}, \"name\": \"Mundo\", \"type\": \"scatter\", \"x\": [\"2020-01-22\", \"2020-01-23\", \"2020-01-24\", \"2020-01-25\", \"2020-01-26\", \"2020-01-27\", \"2020-01-28\", \"2020-01-29\", \"2020-01-30\", \"2020-01-31\", \"2020-02-01\", \"2020-02-02\", \"2020-02-03\", \"2020-02-04\", \"2020-02-05\", \"2020-02-06\", \"2020-02-07\", \"2020-02-08\", \"2020-02-09\", \"2020-02-10\", \"2020-02-11\", \"2020-02-12\", \"2020-02-13\", \"2020-02-14\", \"2020-02-15\", \"2020-02-16\", \"2020-02-17\", \"2020-02-18\", \"2020-02-19\", \"2020-02-20\", \"2020-02-21\", \"2020-02-22\", \"2020-02-23\", \"2020-02-24\", \"2020-02-25\", \"2020-02-26\", \"2020-02-27\", \"2020-02-28\", \"2020-02-29\", \"2020-03-01\", \"2020-03-02\", \"2020-03-03\", \"2020-03-04\", \"2020-03-05\", \"2020-03-06\", \"2020-03-07\", \"2020-03-08\", \"2020-03-09\", \"2020-03-10\", \"2020-03-11\", \"2020-03-12\", \"2020-03-13\", \"2020-03-14\", \"2020-03-15\", \"2020-03-16\", \"2020-03-17\", \"2020-03-18\", \"2020-03-19\", \"2020-03-20\"], \"y\": [555.0, 653.0, 941.0, 1438.0, 2118.0, 2927.0, 5578.0, 6165.0, 8235.0, 9925.0, 12038.0, 16787.0, 19881.0, 23892.0, 27636.0, 30818.0, 34392.0, 37121.0, 40151.0, 42763.0, 44803.0, 45222.0, 60370.0, 66887.0, 69032.0, 71226.0, 73260.0, 75138.0, 75641.0, 76199.0, 76843.0, 78599.0, 78985.0, 79570.0, 80415.0, 81397.0, 82756.0, 84124.0, 86013.0, 88371.0, 90309.0, 92844.0, 95124.0, 97886.0, 101800.0, 105836.0, 109835.0, 113582.0, 118582.0, 125865.0, 128343.0, 145193.0, 156099.0, 167447.0, 181546.0, 197168.0, 214915.0, 242713.0, 272167.0]}, {\"hovertemplate\": \"<b>Casos</b>: %{y}<br><b>Data</b>: %{x}<br>\", \"line\": {\"color\": \"crimson\", \"width\": 2}, \"name\": \"China\", \"type\": \"scatter\", \"x\": [\"2020-01-22\", \"2020-01-23\", \"2020-01-24\", \"2020-01-25\", \"2020-01-26\", \"2020-01-27\", \"2020-01-28\", \"2020-01-29\", \"2020-01-30\", \"2020-01-31\", \"2020-02-01\", \"2020-02-02\", \"2020-02-03\", \"2020-02-04\", \"2020-02-05\", \"2020-02-06\", \"2020-02-07\", \"2020-02-08\", \"2020-02-09\", \"2020-02-10\", \"2020-02-11\", \"2020-02-12\", \"2020-02-13\", \"2020-02-14\", \"2020-02-15\", \"2020-02-16\", \"2020-02-17\", \"2020-02-18\", \"2020-02-19\", \"2020-02-20\", \"2020-02-21\", \"2020-02-22\", \"2020-02-23\", \"2020-02-24\", \"2020-02-25\", \"2020-02-26\", \"2020-02-27\", \"2020-02-28\", \"2020-02-29\", \"2020-03-01\", \"2020-03-02\", \"2020-03-03\", \"2020-03-04\", \"2020-03-05\", \"2020-03-06\", \"2020-03-07\", \"2020-03-08\", \"2020-03-09\", \"2020-03-10\", \"2020-03-11\", \"2020-03-12\", \"2020-03-13\", \"2020-03-14\", \"2020-03-15\", \"2020-03-16\", \"2020-03-17\", \"2020-03-18\", \"2020-03-19\", \"2020-03-20\"], \"y\": [547.0, 639.0, 916.0, 1399.0, 2062.0, 2863.0, 5494.0, 6070.0, 8124.0, 9783.0, 11871.0, 16607.0, 19693.0, 23680.0, 27409.0, 30553.0, 34075.0, 36778.0, 39790.0, 42306.0, 44327.0, 44699.0, 59832.0, 66292.0, 68347.0, 70446.0, 72364.0, 74139.0, 74546.0, 74999.0, 75472.0, 76922.0, 76938.0, 77152.0, 77660.0, 78065.0, 78498.0, 78824.0, 79251.0, 79826.0, 80026.0, 80151.0, 80271.0, 80422.0, 80573.0, 80652.0, 80699.0, 80735.0, 80757.0, 80785.0, 80793.0, 80801.0, 80827.0, 80848.0, 80867.0, 80884.0, 80906.0, 80931.0, 80977.0]}, {\"hovertemplate\": \"<b>Casos</b>: %{y}<br><b>Data</b>: %{x}<br>\", \"marker\": {\"color\": \"black\", \"size\": 12}, \"mode\": \"markers\", \"showlegend\": false, \"type\": \"scatter\", \"x\": [\"2020-03-20\"], \"y\": [272167.0]}],\n",
       "                        {\"annotations\": [{\"font\": {\"color\": \"rgb(150,150,150)\", \"family\": \"Raleway, sans-serif\", \"size\": 12}, \"showarrow\": false, \"text\": \"Fonte: <a href=https://www.kaggle.com/sudalairajkumar/novel-corona-virus-2019-dataset>Novel COVID-19 Kaggle dataset</a>\", \"x\": 0.5, \"xanchor\": \"center\", \"xref\": \"paper\", \"y\": -0.1, \"yanchor\": \"top\", \"yref\": \"paper\"}, {\"arrowhead\": 2, \"ax\": -20, \"ay\": -50, \"font\": {\"color\": \"dimgrey\"}, \"showarrow\": true, \"text\": \"Espalhamento dr\\u00e1stico <br>pelo mundo\", \"x\": \"2020-02-22\", \"xref\": \"x\", \"y\": 78599.0, \"yref\": \"y\"}, {\"arrowhead\": 2, \"ax\": -90, \"ay\": 0, \"font\": {\"color\": \"dimgrey\", \"family\": \"Raleway, sans-serif\"}, \"showarrow\": true, \"text\": \"272167<br>casos confirmados<br> ao todo\", \"x\": \"2020-03-20\", \"xref\": \"x\", \"y\": 272167.0, \"yref\": \"y\"}], \"plot_bgcolor\": \"white\", \"showlegend\": true, \"template\": {\"data\": {\"bar\": [{\"error_x\": {\"color\": \"#2a3f5f\"}, \"error_y\": {\"color\": \"#2a3f5f\"}, \"marker\": {\"line\": {\"color\": \"#E5ECF6\", \"width\": 0.5}}, \"type\": \"bar\"}], \"barpolar\": [{\"marker\": {\"line\": {\"color\": \"#E5ECF6\", \"width\": 0.5}}, \"type\": \"barpolar\"}], \"carpet\": [{\"aaxis\": {\"endlinecolor\": \"#2a3f5f\", \"gridcolor\": \"white\", \"linecolor\": \"white\", \"minorgridcolor\": \"white\", \"startlinecolor\": \"#2a3f5f\"}, \"baxis\": {\"endlinecolor\": \"#2a3f5f\", \"gridcolor\": \"white\", \"linecolor\": \"white\", \"minorgridcolor\": \"white\", \"startlinecolor\": \"#2a3f5f\"}, \"type\": \"carpet\"}], \"choropleth\": [{\"colorbar\": {\"outlinewidth\": 0, \"ticks\": \"\"}, \"type\": \"choropleth\"}], \"contour\": [{\"colorbar\": {\"outlinewidth\": 0, \"ticks\": \"\"}, \"colorscale\": [[0.0, \"#0d0887\"], [0.1111111111111111, \"#46039f\"], [0.2222222222222222, \"#7201a8\"], [0.3333333333333333, \"#9c179e\"], [0.4444444444444444, \"#bd3786\"], [0.5555555555555556, \"#d8576b\"], [0.6666666666666666, \"#ed7953\"], [0.7777777777777778, \"#fb9f3a\"], [0.8888888888888888, \"#fdca26\"], [1.0, \"#f0f921\"]], \"type\": \"contour\"}], \"contourcarpet\": [{\"colorbar\": {\"outlinewidth\": 0, \"ticks\": \"\"}, \"type\": \"contourcarpet\"}], \"heatmap\": [{\"colorbar\": {\"outlinewidth\": 0, \"ticks\": \"\"}, \"colorscale\": [[0.0, \"#0d0887\"], [0.1111111111111111, \"#46039f\"], [0.2222222222222222, \"#7201a8\"], [0.3333333333333333, \"#9c179e\"], [0.4444444444444444, \"#bd3786\"], [0.5555555555555556, \"#d8576b\"], [0.6666666666666666, \"#ed7953\"], [0.7777777777777778, \"#fb9f3a\"], [0.8888888888888888, \"#fdca26\"], [1.0, \"#f0f921\"]], \"type\": \"heatmap\"}], \"heatmapgl\": [{\"colorbar\": {\"outlinewidth\": 0, \"ticks\": \"\"}, \"colorscale\": [[0.0, \"#0d0887\"], [0.1111111111111111, \"#46039f\"], [0.2222222222222222, \"#7201a8\"], [0.3333333333333333, \"#9c179e\"], [0.4444444444444444, \"#bd3786\"], [0.5555555555555556, \"#d8576b\"], [0.6666666666666666, \"#ed7953\"], [0.7777777777777778, \"#fb9f3a\"], [0.8888888888888888, \"#fdca26\"], [1.0, \"#f0f921\"]], \"type\": \"heatmapgl\"}], \"histogram\": [{\"marker\": {\"colorbar\": {\"outlinewidth\": 0, \"ticks\": \"\"}}, \"type\": \"histogram\"}], \"histogram2d\": [{\"colorbar\": {\"outlinewidth\": 0, \"ticks\": \"\"}, \"colorscale\": [[0.0, \"#0d0887\"], [0.1111111111111111, \"#46039f\"], [0.2222222222222222, \"#7201a8\"], [0.3333333333333333, \"#9c179e\"], [0.4444444444444444, \"#bd3786\"], [0.5555555555555556, \"#d8576b\"], [0.6666666666666666, \"#ed7953\"], [0.7777777777777778, \"#fb9f3a\"], [0.8888888888888888, \"#fdca26\"], [1.0, \"#f0f921\"]], \"type\": \"histogram2d\"}], \"histogram2dcontour\": [{\"colorbar\": {\"outlinewidth\": 0, \"ticks\": \"\"}, \"colorscale\": [[0.0, \"#0d0887\"], [0.1111111111111111, \"#46039f\"], [0.2222222222222222, \"#7201a8\"], [0.3333333333333333, \"#9c179e\"], [0.4444444444444444, \"#bd3786\"], [0.5555555555555556, \"#d8576b\"], [0.6666666666666666, \"#ed7953\"], [0.7777777777777778, \"#fb9f3a\"], [0.8888888888888888, \"#fdca26\"], [1.0, \"#f0f921\"]], \"type\": \"histogram2dcontour\"}], \"mesh3d\": [{\"colorbar\": {\"outlinewidth\": 0, \"ticks\": \"\"}, \"type\": \"mesh3d\"}], \"parcoords\": [{\"line\": {\"colorbar\": {\"outlinewidth\": 0, \"ticks\": \"\"}}, \"type\": \"parcoords\"}], \"pie\": [{\"automargin\": true, \"type\": \"pie\"}], \"scatter\": [{\"marker\": {\"colorbar\": {\"outlinewidth\": 0, \"ticks\": \"\"}}, \"type\": \"scatter\"}], \"scatter3d\": [{\"line\": {\"colorbar\": {\"outlinewidth\": 0, \"ticks\": \"\"}}, \"marker\": {\"colorbar\": {\"outlinewidth\": 0, \"ticks\": \"\"}}, \"type\": \"scatter3d\"}], \"scattercarpet\": [{\"marker\": {\"colorbar\": {\"outlinewidth\": 0, \"ticks\": \"\"}}, \"type\": \"scattercarpet\"}], \"scattergeo\": [{\"marker\": {\"colorbar\": {\"outlinewidth\": 0, \"ticks\": \"\"}}, \"type\": \"scattergeo\"}], \"scattergl\": [{\"marker\": {\"colorbar\": {\"outlinewidth\": 0, \"ticks\": \"\"}}, \"type\": \"scattergl\"}], \"scattermapbox\": [{\"marker\": {\"colorbar\": {\"outlinewidth\": 0, \"ticks\": \"\"}}, \"type\": \"scattermapbox\"}], \"scatterpolar\": [{\"marker\": {\"colorbar\": {\"outlinewidth\": 0, \"ticks\": \"\"}}, \"type\": \"scatterpolar\"}], \"scatterpolargl\": [{\"marker\": {\"colorbar\": {\"outlinewidth\": 0, \"ticks\": \"\"}}, \"type\": \"scatterpolargl\"}], \"scatterternary\": [{\"marker\": {\"colorbar\": {\"outlinewidth\": 0, \"ticks\": \"\"}}, \"type\": \"scatterternary\"}], \"surface\": [{\"colorbar\": {\"outlinewidth\": 0, \"ticks\": \"\"}, \"colorscale\": [[0.0, \"#0d0887\"], [0.1111111111111111, \"#46039f\"], [0.2222222222222222, \"#7201a8\"], [0.3333333333333333, \"#9c179e\"], [0.4444444444444444, \"#bd3786\"], [0.5555555555555556, \"#d8576b\"], [0.6666666666666666, \"#ed7953\"], [0.7777777777777778, \"#fb9f3a\"], [0.8888888888888888, \"#fdca26\"], [1.0, \"#f0f921\"]], \"type\": \"surface\"}], \"table\": [{\"cells\": {\"fill\": {\"color\": \"#EBF0F8\"}, \"line\": {\"color\": \"white\"}}, \"header\": {\"fill\": {\"color\": \"#C8D4E3\"}, \"line\": {\"color\": \"white\"}}, \"type\": \"table\"}]}, \"layout\": {\"annotationdefaults\": {\"arrowcolor\": \"#2a3f5f\", \"arrowhead\": 0, \"arrowwidth\": 1}, \"coloraxis\": {\"colorbar\": {\"outlinewidth\": 0, \"ticks\": \"\"}}, \"colorscale\": {\"diverging\": [[0, \"#8e0152\"], [0.1, \"#c51b7d\"], [0.2, \"#de77ae\"], [0.3, \"#f1b6da\"], [0.4, \"#fde0ef\"], [0.5, \"#f7f7f7\"], [0.6, \"#e6f5d0\"], [0.7, \"#b8e186\"], [0.8, \"#7fbc41\"], [0.9, \"#4d9221\"], [1, \"#276419\"]], \"sequential\": [[0.0, \"#0d0887\"], [0.1111111111111111, \"#46039f\"], [0.2222222222222222, \"#7201a8\"], [0.3333333333333333, \"#9c179e\"], [0.4444444444444444, \"#bd3786\"], [0.5555555555555556, \"#d8576b\"], [0.6666666666666666, \"#ed7953\"], [0.7777777777777778, \"#fb9f3a\"], [0.8888888888888888, \"#fdca26\"], [1.0, \"#f0f921\"]], \"sequentialminus\": [[0.0, \"#0d0887\"], [0.1111111111111111, \"#46039f\"], [0.2222222222222222, \"#7201a8\"], [0.3333333333333333, \"#9c179e\"], [0.4444444444444444, \"#bd3786\"], [0.5555555555555556, \"#d8576b\"], [0.6666666666666666, \"#ed7953\"], [0.7777777777777778, \"#fb9f3a\"], [0.8888888888888888, \"#fdca26\"], [1.0, \"#f0f921\"]]}, \"colorway\": [\"#636efa\", \"#EF553B\", \"#00cc96\", \"#ab63fa\", \"#FFA15A\", \"#19d3f3\", \"#FF6692\", \"#B6E880\", \"#FF97FF\", \"#FECB52\"], \"font\": {\"color\": \"#2a3f5f\"}, \"geo\": {\"bgcolor\": \"white\", \"lakecolor\": \"white\", \"landcolor\": \"#E5ECF6\", \"showlakes\": true, \"showland\": true, \"subunitcolor\": \"white\"}, \"hoverlabel\": {\"align\": \"left\"}, \"hovermode\": \"closest\", \"mapbox\": {\"style\": \"light\"}, \"paper_bgcolor\": \"white\", \"plot_bgcolor\": \"#E5ECF6\", \"polar\": {\"angularaxis\": {\"gridcolor\": \"white\", \"linecolor\": \"white\", \"ticks\": \"\"}, \"bgcolor\": \"#E5ECF6\", \"radialaxis\": {\"gridcolor\": \"white\", \"linecolor\": \"white\", \"ticks\": \"\"}}, \"scene\": {\"xaxis\": {\"backgroundcolor\": \"#E5ECF6\", \"gridcolor\": \"white\", \"gridwidth\": 2, \"linecolor\": \"white\", \"showbackground\": true, \"ticks\": \"\", \"zerolinecolor\": \"white\"}, \"yaxis\": {\"backgroundcolor\": \"#E5ECF6\", \"gridcolor\": \"white\", \"gridwidth\": 2, \"linecolor\": \"white\", \"showbackground\": true, \"ticks\": \"\", \"zerolinecolor\": \"white\"}, \"zaxis\": {\"backgroundcolor\": \"#E5ECF6\", \"gridcolor\": \"white\", \"gridwidth\": 2, \"linecolor\": \"white\", \"showbackground\": true, \"ticks\": \"\", \"zerolinecolor\": \"white\"}}, \"shapedefaults\": {\"line\": {\"color\": \"#2a3f5f\"}}, \"ternary\": {\"aaxis\": {\"gridcolor\": \"white\", \"linecolor\": \"white\", \"ticks\": \"\"}, \"baxis\": {\"gridcolor\": \"white\", \"linecolor\": \"white\", \"ticks\": \"\"}, \"bgcolor\": \"#E5ECF6\", \"caxis\": {\"gridcolor\": \"white\", \"linecolor\": \"white\", \"ticks\": \"\"}}, \"title\": {\"x\": 0.05}, \"xaxis\": {\"automargin\": true, \"gridcolor\": \"white\", \"linecolor\": \"white\", \"ticks\": \"\", \"title\": {\"standoff\": 15}, \"zerolinecolor\": \"white\", \"zerolinewidth\": 2}, \"yaxis\": {\"automargin\": true, \"gridcolor\": \"white\", \"linecolor\": \"white\", \"ticks\": \"\", \"title\": {\"standoff\": 15}, \"zerolinecolor\": \"white\", \"zerolinewidth\": 2}}}, \"title\": {\"font\": {\"color\": \"dimgrey\", \"family\": \"Franklin Gothic\", \"size\": 25}, \"text\": \"Evolu\\u00e7\\u00e3o COVID-19 no Mundo\"}, \"xaxis\": {\"linecolor\": \"rgb(204, 204, 204)\", \"linewidth\": 2, \"showgrid\": false, \"showline\": true, \"showticklabels\": true, \"tickfont\": {\"color\": \"rgb(82, 82, 82)\", \"family\": \"Raleway, sans-serif\", \"size\": 12}, \"ticks\": \"outside\"}, \"yaxis\": {\"linecolor\": \"rgb(204, 204, 204)\", \"linewidth\": 2, \"showgrid\": true, \"showline\": true, \"showticklabels\": true, \"tickfont\": {\"color\": \"rgb(82, 82, 82)\", \"family\": \"Raleway, sans-serif\", \"size\": 12}, \"ticks\": \"outside\", \"title\": {\"font\": {\"color\": \"rgb(150,150,150)\", \"family\": \"Raleway, sans-serif\", \"size\": 12}, \"text\": \"Casos Confirmados\"}, \"zeroline\": true}},\n",
       "                        {\"responsive\": true}\n",
       "                    ).then(function(){\n",
       "                            \n",
       "var gd = document.getElementById('4fc0cbcf-c8f8-4c64-8d59-3d1fbccb4d4f');\n",
       "var x = new MutationObserver(function (mutations, observer) {{\n",
       "        var display = window.getComputedStyle(gd).display;\n",
       "        if (!display || display === 'none') {{\n",
       "            console.log([gd, 'removed!']);\n",
       "            Plotly.purge(gd);\n",
       "            observer.disconnect();\n",
       "        }}\n",
       "}});\n",
       "\n",
       "// Listen for the removal of the full notebook cells\n",
       "var notebookContainer = gd.closest('#notebook-container');\n",
       "if (notebookContainer) {{\n",
       "    x.observe(notebookContainer, {childList: true});\n",
       "}}\n",
       "\n",
       "// Listen for the clearing of the current output cell\n",
       "var outputEl = gd.closest('.output');\n",
       "if (outputEl) {{\n",
       "    x.observe(outputEl, {childList: true});\n",
       "}}\n",
       "\n",
       "                        })\n",
       "                };\n",
       "                });\n",
       "            </script>\n",
       "        </div>"
      ]
     },
     "metadata": {},
     "output_type": "display_data"
    }
   ],
   "source": [
    "# Evolução COVID-19 no mundo\n",
    "fig = go.Figure()\n",
    "\n",
    "# Criando linha - Casos confirmados ao longo do mundo\n",
    "trace0 = go.Scatter(\n",
    "    x=corona_sum['last_update'],\n",
    "    y=corona_sum['confirmed'],\n",
    "    line=dict(\n",
    "        color='black',\n",
    "        width=4\n",
    "    ),\n",
    "    name='Mundo',\n",
    "    hovertemplate =\n",
    "    '<b>Casos</b>: %{y}'+\n",
    "    '<br><b>Data</b>: %{x}<br>'\n",
    ")\n",
    "\n",
    "# Criando linha - Casos confirmados na China\n",
    "trace1 = go.Scatter(\n",
    "    x=china_sum['last_update'],\n",
    "    y=china_sum['confirmed'],\n",
    "    line=dict(\n",
    "        color='crimson',\n",
    "        width=2\n",
    "    ),\n",
    "    name='China',\n",
    "    hovertemplate =\n",
    "    '<b>Casos</b>: %{y}'+\n",
    "    '<br><b>Data</b>: %{x}<br>'\n",
    ")\n",
    "\n",
    "# Criando ponto específico\n",
    "trace2 = go.Scatter(\n",
    "    x=corona_sum['last_update'][-1:],\n",
    "    y=corona_sum['confirmed'][-1:],\n",
    "    mode='markers',\n",
    "    marker=dict(\n",
    "        color='black',\n",
    "        size=12\n",
    "    ),\n",
    "    showlegend=False,\n",
    "    hovertemplate =\n",
    "    '<b>Casos</b>: %{y}'+\n",
    "    '<br><b>Data</b>: %{x}<br>'\n",
    ")\n",
    "\n",
    "# Adicionando traços às figuras\n",
    "fig.add_trace(trace0)\n",
    "fig.add_trace(trace1)\n",
    "fig.add_trace(trace2)\n",
    "\n",
    "# Formatando layout da plotagem\n",
    "fig.update_layout(\n",
    "    \n",
    "    # Eixo x\n",
    "    xaxis=dict(\n",
    "        showline=True,\n",
    "        showgrid=False,\n",
    "        showticklabels=True,\n",
    "        linecolor='rgb(204, 204, 204)',\n",
    "        linewidth=2,\n",
    "        ticks='outside',\n",
    "        tickfont=dict(\n",
    "            family='Raleway, sans-serif',\n",
    "            size=12,\n",
    "            color='rgb(82, 82, 82)',\n",
    "        ),\n",
    "    ),\n",
    "    \n",
    "    # Eixo y\n",
    "    yaxis=dict(\n",
    "        showgrid=True,\n",
    "        zeroline=True,\n",
    "        showline=True,\n",
    "        showticklabels=True,\n",
    "        linecolor='rgb(204, 204, 204)',\n",
    "        linewidth=2,\n",
    "        ticks='outside',\n",
    "        tickfont=dict(\n",
    "            family='Raleway, sans-serif',\n",
    "            size=12,\n",
    "            color='rgb(82, 82, 82)',\n",
    "        ),\n",
    "    ),  \n",
    "    showlegend=True,\n",
    "    plot_bgcolor='white',\n",
    "    \n",
    "    # Título do gráfico\n",
    "    title=dict(\n",
    "        text='Evolução COVID-19 no Mundo',\n",
    "        font=dict(\n",
    "            family='Franklin Gothic',\n",
    "            size=25,\n",
    "            color='dimgrey'\n",
    "        )\n",
    "    ),\n",
    "    \n",
    "    # Título do eixo y\n",
    "    yaxis_title=dict(\n",
    "        text='Casos Confirmados',\n",
    "        font=dict(\n",
    "            family='Raleway, sans-serif',\n",
    "            size=12,\n",
    "            color='rgb(150,150,150)'\n",
    "        )\n",
    "    )\n",
    ")\n",
    "\n",
    "# Criando anotações\n",
    "annotations = []\n",
    "annotations.append(\n",
    "    dict(\n",
    "        xref='paper', \n",
    "        yref='paper', \n",
    "        x=0.5, \n",
    "        y=-0.1,\n",
    "        xanchor='center', \n",
    "        yanchor='top',\n",
    "        text='Fonte: <a href=https://www.kaggle.com/sudalairajkumar/novel-corona-virus-2019-dataset>' +\n",
    "                                   'Novel COVID-19 Kaggle dataset</a>',\n",
    "        font=dict(\n",
    "            family='Raleway, sans-serif',\n",
    "            size=12,\n",
    "            color='rgb(150,150,150)'\n",
    "        ),\n",
    "        showarrow=False\n",
    "    )\n",
    ")\n",
    "\n",
    "annotations.append(\n",
    "    dict(\n",
    "        x=corona_sum['last_update'][31],\n",
    "        y=corona_sum['confirmed'][31],\n",
    "        xref='x',\n",
    "        yref='y',\n",
    "        text='Espalhamento drástico <br>pelo mundo',\n",
    "        ax=-20,\n",
    "        ay=-50,\n",
    "        showarrow=True,\n",
    "        arrowhead=2,\n",
    "        font=dict(\n",
    "            color='dimgrey'\n",
    "        )\n",
    "    )\n",
    ")\n",
    "\n",
    "annotations.append(\n",
    "    dict(\n",
    "        x=corona_sum['last_update'][len(corona_sum)-1],\n",
    "        y=corona_sum['confirmed'][len(corona_sum)-1],\n",
    "        xref='x',\n",
    "        yref='y',\n",
    "        text=f'{int(corona_sum[\"confirmed\"].max())}' + \n",
    "                '<br>casos confirmados<br> ao todo',\n",
    "        ax=-90,\n",
    "        ay=0,\n",
    "        showarrow=True,\n",
    "        arrowhead=2,\n",
    "        font=dict(\n",
    "            family='Raleway, sans-serif',\n",
    "            color='dimgrey'\n",
    "        )\n",
    "    )\n",
    ")\n",
    " \n",
    "fig.update_layout(annotations=annotations)\n",
    "fig.show()"
   ]
  },
  {
   "cell_type": "markdown",
   "metadata": {},
   "source": [
    "## Comparação Brasil e Itália"
   ]
  },
  {
   "cell_type": "markdown",
   "metadata": {},
   "source": [
    "### Pós Primeira Observação"
   ]
  },
  {
   "cell_type": "code",
   "execution_count": 9,
   "metadata": {
    "ExecuteTime": {
     "end_time": "2020-03-21T23:11:48.397060Z",
     "start_time": "2020-03-21T23:11:48.138614Z"
    },
    "code_folding": [
     0
    ]
   },
   "outputs": [
    {
     "data": {
      "text/html": [
       "<div>\n",
       "<style scoped>\n",
       "    .dataframe tbody tr th:only-of-type {\n",
       "        vertical-align: middle;\n",
       "    }\n",
       "\n",
       "    .dataframe tbody tr th {\n",
       "        vertical-align: top;\n",
       "    }\n",
       "\n",
       "    .dataframe thead th {\n",
       "        text-align: right;\n",
       "    }\n",
       "</style>\n",
       "<table border=\"1\" class=\"dataframe\">\n",
       "  <thead>\n",
       "    <tr style=\"text-align: right;\">\n",
       "      <th></th>\n",
       "      <th>country_region</th>\n",
       "      <th>last_update</th>\n",
       "      <th>sno</th>\n",
       "      <th>confirmed</th>\n",
       "      <th>deaths</th>\n",
       "      <th>recovered</th>\n",
       "      <th>actives</th>\n",
       "      <th>min_dt_update</th>\n",
       "      <th>days_pos_1st_obs</th>\n",
       "    </tr>\n",
       "  </thead>\n",
       "  <tbody>\n",
       "    <tr>\n",
       "      <th>1842</th>\n",
       "      <td>Mainland China</td>\n",
       "      <td>2020-01-22</td>\n",
       "      <td>535</td>\n",
       "      <td>547.0</td>\n",
       "      <td>17.0</td>\n",
       "      <td>28.0</td>\n",
       "      <td>502.0</td>\n",
       "      <td>2020-01-22</td>\n",
       "      <td>0</td>\n",
       "    </tr>\n",
       "    <tr>\n",
       "      <th>1843</th>\n",
       "      <td>Mainland China</td>\n",
       "      <td>2020-01-23</td>\n",
       "      <td>1713</td>\n",
       "      <td>639.0</td>\n",
       "      <td>18.0</td>\n",
       "      <td>30.0</td>\n",
       "      <td>591.0</td>\n",
       "      <td>2020-01-22</td>\n",
       "      <td>1</td>\n",
       "    </tr>\n",
       "    <tr>\n",
       "      <th>1844</th>\n",
       "      <td>Mainland China</td>\n",
       "      <td>2020-01-24</td>\n",
       "      <td>3004</td>\n",
       "      <td>916.0</td>\n",
       "      <td>26.0</td>\n",
       "      <td>36.0</td>\n",
       "      <td>854.0</td>\n",
       "      <td>2020-01-22</td>\n",
       "      <td>2</td>\n",
       "    </tr>\n",
       "    <tr>\n",
       "      <th>1845</th>\n",
       "      <td>Mainland China</td>\n",
       "      <td>2020-01-25</td>\n",
       "      <td>4224</td>\n",
       "      <td>1399.0</td>\n",
       "      <td>42.0</td>\n",
       "      <td>39.0</td>\n",
       "      <td>1318.0</td>\n",
       "      <td>2020-01-22</td>\n",
       "      <td>3</td>\n",
       "    </tr>\n",
       "    <tr>\n",
       "      <th>1846</th>\n",
       "      <td>Mainland China</td>\n",
       "      <td>2020-01-26</td>\n",
       "      <td>5548</td>\n",
       "      <td>2062.0</td>\n",
       "      <td>56.0</td>\n",
       "      <td>49.0</td>\n",
       "      <td>1957.0</td>\n",
       "      <td>2020-01-22</td>\n",
       "      <td>4</td>\n",
       "    </tr>\n",
       "  </tbody>\n",
       "</table>\n",
       "</div>"
      ],
      "text/plain": [
       "      country_region last_update   sno  confirmed  deaths  recovered  actives  \\\n",
       "1842  Mainland China  2020-01-22   535      547.0    17.0       28.0    502.0   \n",
       "1843  Mainland China  2020-01-23  1713      639.0    18.0       30.0    591.0   \n",
       "1844  Mainland China  2020-01-24  3004      916.0    26.0       36.0    854.0   \n",
       "1845  Mainland China  2020-01-25  4224     1399.0    42.0       39.0   1318.0   \n",
       "1846  Mainland China  2020-01-26  5548     2062.0    56.0       49.0   1957.0   \n",
       "\n",
       "     min_dt_update  days_pos_1st_obs  \n",
       "1842    2020-01-22                 0  \n",
       "1843    2020-01-22                 1  \n",
       "1844    2020-01-22                 2  \n",
       "1845    2020-01-22                 3  \n",
       "1846    2020-01-22                 4  "
      ]
     },
     "execution_count": 9,
     "metadata": {},
     "output_type": "execute_result"
    }
   ],
   "source": [
    "# Agrupando dados por país e data de atualização\n",
    "country_sum = df_corona.groupby(by=['country_region', 'last_update'], as_index=False).sum().query('confirmed > 0')\n",
    "\n",
    "# Criando dataset com país e primeira data de atualização\n",
    "min_dt_obs = country_sum.groupby(by='country_region', as_index=False).min().loc[:, ['country_region', 'last_update']]\n",
    "min_dt_obs.columns = ['country_region', 'min_dt_update']\n",
    "\n",
    "# Unindo os dois datasets\n",
    "corona_min_dt = country_sum.merge(min_dt_obs, on='country_region', how='left')\n",
    "\n",
    "# Calculando coluna com dias após primeira obs\n",
    "corona_min_dt['days_pos_1st_obs'] = corona_min_dt['last_update'] - corona_min_dt['min_dt_update']\n",
    "corona_min_dt['days_pos_1st_obs'] = corona_min_dt['days_pos_1st_obs'].dt.days\n",
    "\n",
    "# Exemplo (China)\n",
    "corona_min_dt.query('country_region == \"Mainland China\"').head()"
   ]
  },
  {
   "cell_type": "code",
   "execution_count": 10,
   "metadata": {
    "ExecuteTime": {
     "end_time": "2020-03-21T23:11:48.944005Z",
     "start_time": "2020-03-21T23:11:48.399099Z"
    },
    "code_folding": [
     0,
     14,
     26,
     55,
     67,
     80,
     104,
     177,
     196,
     219,
     243
    ]
   },
   "outputs": [
    {
     "data": {
      "application/vnd.plotly.v1+json": {
       "config": {
        "plotlyServerURL": "https://plot.ly"
       },
       "data": [
        {
         "hovertemplate": "<b>Casos</b>: %{y}<br><b>Dias</b>: %{x}<br>",
         "line": {
          "color": "green",
          "width": 4
         },
         "name": "Brasil",
         "type": "scatter",
         "x": [
          0,
          1,
          2,
          3,
          4,
          5,
          6,
          7,
          8,
          9,
          10,
          11,
          12,
          13,
          14,
          15,
          16,
          17,
          18,
          19,
          20,
          21,
          22,
          23
         ],
         "y": [
          1,
          1,
          1,
          2,
          2,
          2,
          2,
          4,
          4,
          13,
          13,
          20,
          25,
          31,
          38,
          52,
          151,
          151,
          162,
          200,
          321,
          372,
          621,
          793
         ]
        },
        {
         "hovertemplate": "<b>Casos</b>: %{y}<br><b>Dias</b>: %{x}<br>",
         "line": {
          "color": "mediumspringgreen",
          "dash": "dash",
          "width": 2
         },
         "name": "Ativos BRA",
         "type": "scatter",
         "x": [
          0,
          1,
          2,
          3,
          4,
          5,
          6,
          7,
          8,
          9,
          10,
          11,
          12,
          13,
          14,
          15,
          16,
          17,
          18,
          19,
          20,
          21,
          22,
          23
         ],
         "y": [
          1,
          1,
          1,
          2,
          2,
          2,
          2,
          4,
          4,
          13,
          13,
          20,
          25,
          31,
          38,
          52,
          151,
          151,
          162,
          199,
          318,
          367,
          613,
          780
         ]
        },
        {
         "hovertemplate": "<b>Casos</b>: %{y}<br><b>Data</b>: %{x}<br>",
         "marker": {
          "color": "green",
          "size": 12
         },
         "mode": "markers",
         "name": "Brasil",
         "showlegend": false,
         "type": "scatter",
         "x": [
          23
         ],
         "y": [
          793
         ]
        },
        {
         "hovertemplate": "<b>Casos</b>: %{y}<br><b>Dias</b>: %{x}<br>",
         "line": {
          "color": "cornflowerblue",
          "width": 4
         },
         "name": "Itália",
         "type": "scatter",
         "x": [
          0,
          1,
          2,
          3,
          4,
          5,
          6,
          7,
          8,
          9,
          10,
          11,
          12,
          13,
          14,
          15,
          16,
          17,
          18,
          19,
          20,
          21,
          22,
          23,
          24,
          25,
          26,
          27,
          28,
          29,
          30,
          31,
          32
         ],
         "y": [
          2,
          2,
          2,
          2,
          2,
          2,
          2,
          3,
          3,
          3,
          3,
          3,
          3,
          3,
          3,
          3,
          3,
          3,
          3,
          3,
          3,
          20,
          62,
          155,
          229,
          322,
          453,
          655,
          888,
          1128,
          1694,
          2036,
          2502
         ]
        },
        {
         "hovertemplate": "<b>Casos</b>: %{y}<br><b>Dias</b>: %{x}<br>",
         "line": {
          "color": "royalblue",
          "dash": "dash",
          "width": 2
         },
         "name": "Ativos ITA",
         "type": "scatter",
         "x": [
          0,
          1,
          2,
          3,
          4,
          5,
          6,
          7,
          8,
          9,
          10,
          11,
          12,
          13,
          14,
          15,
          16,
          17,
          18,
          19,
          20,
          21,
          22,
          23,
          24,
          25,
          26,
          27,
          28,
          29,
          30,
          31,
          32
         ],
         "y": [
          2,
          2,
          2,
          2,
          2,
          2,
          2,
          3,
          3,
          3,
          3,
          3,
          3,
          3,
          3,
          3,
          3,
          3,
          3,
          3,
          3,
          19,
          59,
          150,
          221,
          311,
          438,
          593,
          821,
          1053,
          1577,
          1835,
          2263
         ]
        },
        {
         "hovertemplate": "<b>Casos</b>: %{y}<br><b>Data</b>: %{x}<br>",
         "marker": {
          "color": "cornflowerblue",
          "size": 12
         },
         "mode": "markers",
         "name": "Itália",
         "showlegend": false,
         "type": "scatter",
         "x": [
          32
         ],
         "y": [
          2502
         ]
        }
       ],
       "layout": {
        "annotations": [
         {
          "font": {
           "color": "rgb(150,150,150)",
           "family": "Raleway, sans-serif",
           "size": 12
          },
          "showarrow": false,
          "text": "Última atualização: 20/03/2020",
          "x": -0.04,
          "xanchor": "left",
          "xref": "paper",
          "y": 1.12,
          "yanchor": "top",
          "yref": "paper"
         },
         {
          "font": {
           "color": "rgb(150,150,150)",
           "family": "Raleway, sans-serif",
           "size": 12
          },
          "showarrow": false,
          "text": "Fonte: <a href=https://www.kaggle.com/sudalairajkumar/novel-corona-virus-2019-dataset>Novel COVID-19 Kaggle dataset</a>",
          "x": 0.5,
          "xanchor": "center",
          "xref": "paper",
          "y": -0.16,
          "yanchor": "top",
          "yref": "paper"
         },
         {
          "font": {
           "color": "green",
           "family": "Raleway, sans-serif",
           "size": 12
          },
          "showarrow": false,
          "text": "<b>Brasil:</b><br>793 confirmados <br>780 ativos após 23 dias",
          "x": 23,
          "xanchor": "right",
          "xref": "x",
          "y": 1093,
          "yanchor": "top",
          "yref": "y"
         },
         {
          "font": {
           "color": "royalblue",
           "family": "Raleway, sans-serif",
           "size": 12
          },
          "showarrow": false,
          "text": "<b>Itália:</b><br>2502 confirmados <br>2263 ativos após 32 dias",
          "x": 32,
          "xanchor": "right",
          "xref": "x",
          "y": 2802,
          "yanchor": "top",
          "yref": "y"
         }
        ],
        "plot_bgcolor": "white",
        "showlegend": true,
        "template": {
         "data": {
          "bar": [
           {
            "error_x": {
             "color": "#2a3f5f"
            },
            "error_y": {
             "color": "#2a3f5f"
            },
            "marker": {
             "line": {
              "color": "#E5ECF6",
              "width": 0.5
             }
            },
            "type": "bar"
           }
          ],
          "barpolar": [
           {
            "marker": {
             "line": {
              "color": "#E5ECF6",
              "width": 0.5
             }
            },
            "type": "barpolar"
           }
          ],
          "carpet": [
           {
            "aaxis": {
             "endlinecolor": "#2a3f5f",
             "gridcolor": "white",
             "linecolor": "white",
             "minorgridcolor": "white",
             "startlinecolor": "#2a3f5f"
            },
            "baxis": {
             "endlinecolor": "#2a3f5f",
             "gridcolor": "white",
             "linecolor": "white",
             "minorgridcolor": "white",
             "startlinecolor": "#2a3f5f"
            },
            "type": "carpet"
           }
          ],
          "choropleth": [
           {
            "colorbar": {
             "outlinewidth": 0,
             "ticks": ""
            },
            "type": "choropleth"
           }
          ],
          "contour": [
           {
            "colorbar": {
             "outlinewidth": 0,
             "ticks": ""
            },
            "colorscale": [
             [
              0,
              "#0d0887"
             ],
             [
              0.1111111111111111,
              "#46039f"
             ],
             [
              0.2222222222222222,
              "#7201a8"
             ],
             [
              0.3333333333333333,
              "#9c179e"
             ],
             [
              0.4444444444444444,
              "#bd3786"
             ],
             [
              0.5555555555555556,
              "#d8576b"
             ],
             [
              0.6666666666666666,
              "#ed7953"
             ],
             [
              0.7777777777777778,
              "#fb9f3a"
             ],
             [
              0.8888888888888888,
              "#fdca26"
             ],
             [
              1,
              "#f0f921"
             ]
            ],
            "type": "contour"
           }
          ],
          "contourcarpet": [
           {
            "colorbar": {
             "outlinewidth": 0,
             "ticks": ""
            },
            "type": "contourcarpet"
           }
          ],
          "heatmap": [
           {
            "colorbar": {
             "outlinewidth": 0,
             "ticks": ""
            },
            "colorscale": [
             [
              0,
              "#0d0887"
             ],
             [
              0.1111111111111111,
              "#46039f"
             ],
             [
              0.2222222222222222,
              "#7201a8"
             ],
             [
              0.3333333333333333,
              "#9c179e"
             ],
             [
              0.4444444444444444,
              "#bd3786"
             ],
             [
              0.5555555555555556,
              "#d8576b"
             ],
             [
              0.6666666666666666,
              "#ed7953"
             ],
             [
              0.7777777777777778,
              "#fb9f3a"
             ],
             [
              0.8888888888888888,
              "#fdca26"
             ],
             [
              1,
              "#f0f921"
             ]
            ],
            "type": "heatmap"
           }
          ],
          "heatmapgl": [
           {
            "colorbar": {
             "outlinewidth": 0,
             "ticks": ""
            },
            "colorscale": [
             [
              0,
              "#0d0887"
             ],
             [
              0.1111111111111111,
              "#46039f"
             ],
             [
              0.2222222222222222,
              "#7201a8"
             ],
             [
              0.3333333333333333,
              "#9c179e"
             ],
             [
              0.4444444444444444,
              "#bd3786"
             ],
             [
              0.5555555555555556,
              "#d8576b"
             ],
             [
              0.6666666666666666,
              "#ed7953"
             ],
             [
              0.7777777777777778,
              "#fb9f3a"
             ],
             [
              0.8888888888888888,
              "#fdca26"
             ],
             [
              1,
              "#f0f921"
             ]
            ],
            "type": "heatmapgl"
           }
          ],
          "histogram": [
           {
            "marker": {
             "colorbar": {
              "outlinewidth": 0,
              "ticks": ""
             }
            },
            "type": "histogram"
           }
          ],
          "histogram2d": [
           {
            "colorbar": {
             "outlinewidth": 0,
             "ticks": ""
            },
            "colorscale": [
             [
              0,
              "#0d0887"
             ],
             [
              0.1111111111111111,
              "#46039f"
             ],
             [
              0.2222222222222222,
              "#7201a8"
             ],
             [
              0.3333333333333333,
              "#9c179e"
             ],
             [
              0.4444444444444444,
              "#bd3786"
             ],
             [
              0.5555555555555556,
              "#d8576b"
             ],
             [
              0.6666666666666666,
              "#ed7953"
             ],
             [
              0.7777777777777778,
              "#fb9f3a"
             ],
             [
              0.8888888888888888,
              "#fdca26"
             ],
             [
              1,
              "#f0f921"
             ]
            ],
            "type": "histogram2d"
           }
          ],
          "histogram2dcontour": [
           {
            "colorbar": {
             "outlinewidth": 0,
             "ticks": ""
            },
            "colorscale": [
             [
              0,
              "#0d0887"
             ],
             [
              0.1111111111111111,
              "#46039f"
             ],
             [
              0.2222222222222222,
              "#7201a8"
             ],
             [
              0.3333333333333333,
              "#9c179e"
             ],
             [
              0.4444444444444444,
              "#bd3786"
             ],
             [
              0.5555555555555556,
              "#d8576b"
             ],
             [
              0.6666666666666666,
              "#ed7953"
             ],
             [
              0.7777777777777778,
              "#fb9f3a"
             ],
             [
              0.8888888888888888,
              "#fdca26"
             ],
             [
              1,
              "#f0f921"
             ]
            ],
            "type": "histogram2dcontour"
           }
          ],
          "mesh3d": [
           {
            "colorbar": {
             "outlinewidth": 0,
             "ticks": ""
            },
            "type": "mesh3d"
           }
          ],
          "parcoords": [
           {
            "line": {
             "colorbar": {
              "outlinewidth": 0,
              "ticks": ""
             }
            },
            "type": "parcoords"
           }
          ],
          "pie": [
           {
            "automargin": true,
            "type": "pie"
           }
          ],
          "scatter": [
           {
            "marker": {
             "colorbar": {
              "outlinewidth": 0,
              "ticks": ""
             }
            },
            "type": "scatter"
           }
          ],
          "scatter3d": [
           {
            "line": {
             "colorbar": {
              "outlinewidth": 0,
              "ticks": ""
             }
            },
            "marker": {
             "colorbar": {
              "outlinewidth": 0,
              "ticks": ""
             }
            },
            "type": "scatter3d"
           }
          ],
          "scattercarpet": [
           {
            "marker": {
             "colorbar": {
              "outlinewidth": 0,
              "ticks": ""
             }
            },
            "type": "scattercarpet"
           }
          ],
          "scattergeo": [
           {
            "marker": {
             "colorbar": {
              "outlinewidth": 0,
              "ticks": ""
             }
            },
            "type": "scattergeo"
           }
          ],
          "scattergl": [
           {
            "marker": {
             "colorbar": {
              "outlinewidth": 0,
              "ticks": ""
             }
            },
            "type": "scattergl"
           }
          ],
          "scattermapbox": [
           {
            "marker": {
             "colorbar": {
              "outlinewidth": 0,
              "ticks": ""
             }
            },
            "type": "scattermapbox"
           }
          ],
          "scatterpolar": [
           {
            "marker": {
             "colorbar": {
              "outlinewidth": 0,
              "ticks": ""
             }
            },
            "type": "scatterpolar"
           }
          ],
          "scatterpolargl": [
           {
            "marker": {
             "colorbar": {
              "outlinewidth": 0,
              "ticks": ""
             }
            },
            "type": "scatterpolargl"
           }
          ],
          "scatterternary": [
           {
            "marker": {
             "colorbar": {
              "outlinewidth": 0,
              "ticks": ""
             }
            },
            "type": "scatterternary"
           }
          ],
          "surface": [
           {
            "colorbar": {
             "outlinewidth": 0,
             "ticks": ""
            },
            "colorscale": [
             [
              0,
              "#0d0887"
             ],
             [
              0.1111111111111111,
              "#46039f"
             ],
             [
              0.2222222222222222,
              "#7201a8"
             ],
             [
              0.3333333333333333,
              "#9c179e"
             ],
             [
              0.4444444444444444,
              "#bd3786"
             ],
             [
              0.5555555555555556,
              "#d8576b"
             ],
             [
              0.6666666666666666,
              "#ed7953"
             ],
             [
              0.7777777777777778,
              "#fb9f3a"
             ],
             [
              0.8888888888888888,
              "#fdca26"
             ],
             [
              1,
              "#f0f921"
             ]
            ],
            "type": "surface"
           }
          ],
          "table": [
           {
            "cells": {
             "fill": {
              "color": "#EBF0F8"
             },
             "line": {
              "color": "white"
             }
            },
            "header": {
             "fill": {
              "color": "#C8D4E3"
             },
             "line": {
              "color": "white"
             }
            },
            "type": "table"
           }
          ]
         },
         "layout": {
          "annotationdefaults": {
           "arrowcolor": "#2a3f5f",
           "arrowhead": 0,
           "arrowwidth": 1
          },
          "coloraxis": {
           "colorbar": {
            "outlinewidth": 0,
            "ticks": ""
           }
          },
          "colorscale": {
           "diverging": [
            [
             0,
             "#8e0152"
            ],
            [
             0.1,
             "#c51b7d"
            ],
            [
             0.2,
             "#de77ae"
            ],
            [
             0.3,
             "#f1b6da"
            ],
            [
             0.4,
             "#fde0ef"
            ],
            [
             0.5,
             "#f7f7f7"
            ],
            [
             0.6,
             "#e6f5d0"
            ],
            [
             0.7,
             "#b8e186"
            ],
            [
             0.8,
             "#7fbc41"
            ],
            [
             0.9,
             "#4d9221"
            ],
            [
             1,
             "#276419"
            ]
           ],
           "sequential": [
            [
             0,
             "#0d0887"
            ],
            [
             0.1111111111111111,
             "#46039f"
            ],
            [
             0.2222222222222222,
             "#7201a8"
            ],
            [
             0.3333333333333333,
             "#9c179e"
            ],
            [
             0.4444444444444444,
             "#bd3786"
            ],
            [
             0.5555555555555556,
             "#d8576b"
            ],
            [
             0.6666666666666666,
             "#ed7953"
            ],
            [
             0.7777777777777778,
             "#fb9f3a"
            ],
            [
             0.8888888888888888,
             "#fdca26"
            ],
            [
             1,
             "#f0f921"
            ]
           ],
           "sequentialminus": [
            [
             0,
             "#0d0887"
            ],
            [
             0.1111111111111111,
             "#46039f"
            ],
            [
             0.2222222222222222,
             "#7201a8"
            ],
            [
             0.3333333333333333,
             "#9c179e"
            ],
            [
             0.4444444444444444,
             "#bd3786"
            ],
            [
             0.5555555555555556,
             "#d8576b"
            ],
            [
             0.6666666666666666,
             "#ed7953"
            ],
            [
             0.7777777777777778,
             "#fb9f3a"
            ],
            [
             0.8888888888888888,
             "#fdca26"
            ],
            [
             1,
             "#f0f921"
            ]
           ]
          },
          "colorway": [
           "#636efa",
           "#EF553B",
           "#00cc96",
           "#ab63fa",
           "#FFA15A",
           "#19d3f3",
           "#FF6692",
           "#B6E880",
           "#FF97FF",
           "#FECB52"
          ],
          "font": {
           "color": "#2a3f5f"
          },
          "geo": {
           "bgcolor": "white",
           "lakecolor": "white",
           "landcolor": "#E5ECF6",
           "showlakes": true,
           "showland": true,
           "subunitcolor": "white"
          },
          "hoverlabel": {
           "align": "left"
          },
          "hovermode": "closest",
          "mapbox": {
           "style": "light"
          },
          "paper_bgcolor": "white",
          "plot_bgcolor": "#E5ECF6",
          "polar": {
           "angularaxis": {
            "gridcolor": "white",
            "linecolor": "white",
            "ticks": ""
           },
           "bgcolor": "#E5ECF6",
           "radialaxis": {
            "gridcolor": "white",
            "linecolor": "white",
            "ticks": ""
           }
          },
          "scene": {
           "xaxis": {
            "backgroundcolor": "#E5ECF6",
            "gridcolor": "white",
            "gridwidth": 2,
            "linecolor": "white",
            "showbackground": true,
            "ticks": "",
            "zerolinecolor": "white"
           },
           "yaxis": {
            "backgroundcolor": "#E5ECF6",
            "gridcolor": "white",
            "gridwidth": 2,
            "linecolor": "white",
            "showbackground": true,
            "ticks": "",
            "zerolinecolor": "white"
           },
           "zaxis": {
            "backgroundcolor": "#E5ECF6",
            "gridcolor": "white",
            "gridwidth": 2,
            "linecolor": "white",
            "showbackground": true,
            "ticks": "",
            "zerolinecolor": "white"
           }
          },
          "shapedefaults": {
           "line": {
            "color": "#2a3f5f"
           }
          },
          "ternary": {
           "aaxis": {
            "gridcolor": "white",
            "linecolor": "white",
            "ticks": ""
           },
           "baxis": {
            "gridcolor": "white",
            "linecolor": "white",
            "ticks": ""
           },
           "bgcolor": "#E5ECF6",
           "caxis": {
            "gridcolor": "white",
            "linecolor": "white",
            "ticks": ""
           }
          },
          "title": {
           "x": 0.05
          },
          "xaxis": {
           "automargin": true,
           "gridcolor": "white",
           "linecolor": "white",
           "ticks": "",
           "title": {
            "standoff": 15
           },
           "zerolinecolor": "white",
           "zerolinewidth": 2
          },
          "yaxis": {
           "automargin": true,
           "gridcolor": "white",
           "linecolor": "white",
           "ticks": "",
           "title": {
            "standoff": 15
           },
           "zerolinecolor": "white",
           "zerolinewidth": 2
          }
         }
        },
        "title": {
         "font": {
          "color": "dimgrey",
          "family": "Franklin Gothic",
          "size": 25
         },
         "text": "Comparação Brasil e Itália após 1ª Confirmação de COVID-19"
        },
        "xaxis": {
         "linecolor": "rgb(204, 204, 204)",
         "linewidth": 2,
         "showgrid": false,
         "showline": true,
         "showticklabels": true,
         "tickfont": {
          "color": "rgb(82, 82, 82)",
          "family": "Raleway, sans-serif",
          "size": 12
         },
         "ticks": "outside",
         "title": {
          "font": {
           "color": "rgb(150,150,150)",
           "family": "Raleway, sans-serif",
           "size": 12
          },
          "text": "Dias Após 1ª Confirmação"
         }
        },
        "yaxis": {
         "linecolor": "rgb(204, 204, 204)",
         "linewidth": 2,
         "showgrid": true,
         "showline": true,
         "showticklabels": true,
         "tickfont": {
          "color": "rgb(82, 82, 82)",
          "family": "Raleway, sans-serif",
          "size": 12
         },
         "ticks": "outside",
         "title": {
          "font": {
           "color": "rgb(150,150,150)",
           "family": "Raleway, sans-serif",
           "size": 12
          },
          "text": "Casos Confirmados"
         },
         "zeroline": true
        }
       }
      },
      "text/html": [
       "<div>\n",
       "        \n",
       "        \n",
       "            <div id=\"4644d654-8ecb-4ffa-94f9-8cdd4624d8b3\" class=\"plotly-graph-div\" style=\"height:525px; width:100%;\"></div>\n",
       "            <script type=\"text/javascript\">\n",
       "                require([\"plotly\"], function(Plotly) {\n",
       "                    window.PLOTLYENV=window.PLOTLYENV || {};\n",
       "                    \n",
       "                if (document.getElementById(\"4644d654-8ecb-4ffa-94f9-8cdd4624d8b3\")) {\n",
       "                    Plotly.newPlot(\n",
       "                        '4644d654-8ecb-4ffa-94f9-8cdd4624d8b3',\n",
       "                        [{\"hovertemplate\": \"<b>Casos</b>: %{y}<br><b>Dias</b>: %{x}<br>\", \"line\": {\"color\": \"green\", \"width\": 4}, \"name\": \"Brasil\", \"type\": \"scatter\", \"x\": [0, 1, 2, 3, 4, 5, 6, 7, 8, 9, 10, 11, 12, 13, 14, 15, 16, 17, 18, 19, 20, 21, 22, 23], \"y\": [1.0, 1.0, 1.0, 2.0, 2.0, 2.0, 2.0, 4.0, 4.0, 13.0, 13.0, 20.0, 25.0, 31.0, 38.0, 52.0, 151.0, 151.0, 162.0, 200.0, 321.0, 372.0, 621.0, 793.0]}, {\"hovertemplate\": \"<b>Casos</b>: %{y}<br><b>Dias</b>: %{x}<br>\", \"line\": {\"color\": \"mediumspringgreen\", \"dash\": \"dash\", \"width\": 2}, \"name\": \"Ativos BRA\", \"type\": \"scatter\", \"x\": [0, 1, 2, 3, 4, 5, 6, 7, 8, 9, 10, 11, 12, 13, 14, 15, 16, 17, 18, 19, 20, 21, 22, 23], \"y\": [1.0, 1.0, 1.0, 2.0, 2.0, 2.0, 2.0, 4.0, 4.0, 13.0, 13.0, 20.0, 25.0, 31.0, 38.0, 52.0, 151.0, 151.0, 162.0, 199.0, 318.0, 367.0, 613.0, 780.0]}, {\"hovertemplate\": \"<b>Casos</b>: %{y}<br><b>Data</b>: %{x}<br>\", \"marker\": {\"color\": \"green\", \"size\": 12}, \"mode\": \"markers\", \"name\": \"Brasil\", \"showlegend\": false, \"type\": \"scatter\", \"x\": [23], \"y\": [793.0]}, {\"hovertemplate\": \"<b>Casos</b>: %{y}<br><b>Dias</b>: %{x}<br>\", \"line\": {\"color\": \"cornflowerblue\", \"width\": 4}, \"name\": \"It\\u00e1lia\", \"type\": \"scatter\", \"x\": [0, 1, 2, 3, 4, 5, 6, 7, 8, 9, 10, 11, 12, 13, 14, 15, 16, 17, 18, 19, 20, 21, 22, 23, 24, 25, 26, 27, 28, 29, 30, 31, 32], \"y\": [2.0, 2.0, 2.0, 2.0, 2.0, 2.0, 2.0, 3.0, 3.0, 3.0, 3.0, 3.0, 3.0, 3.0, 3.0, 3.0, 3.0, 3.0, 3.0, 3.0, 3.0, 20.0, 62.0, 155.0, 229.0, 322.0, 453.0, 655.0, 888.0, 1128.0, 1694.0, 2036.0, 2502.0]}, {\"hovertemplate\": \"<b>Casos</b>: %{y}<br><b>Dias</b>: %{x}<br>\", \"line\": {\"color\": \"royalblue\", \"dash\": \"dash\", \"width\": 2}, \"name\": \"Ativos ITA\", \"type\": \"scatter\", \"x\": [0, 1, 2, 3, 4, 5, 6, 7, 8, 9, 10, 11, 12, 13, 14, 15, 16, 17, 18, 19, 20, 21, 22, 23, 24, 25, 26, 27, 28, 29, 30, 31, 32], \"y\": [2.0, 2.0, 2.0, 2.0, 2.0, 2.0, 2.0, 3.0, 3.0, 3.0, 3.0, 3.0, 3.0, 3.0, 3.0, 3.0, 3.0, 3.0, 3.0, 3.0, 3.0, 19.0, 59.0, 150.0, 221.0, 311.0, 438.0, 593.0, 821.0, 1053.0, 1577.0, 1835.0, 2263.0]}, {\"hovertemplate\": \"<b>Casos</b>: %{y}<br><b>Data</b>: %{x}<br>\", \"marker\": {\"color\": \"cornflowerblue\", \"size\": 12}, \"mode\": \"markers\", \"name\": \"It\\u00e1lia\", \"showlegend\": false, \"type\": \"scatter\", \"x\": [32], \"y\": [2502.0]}],\n",
       "                        {\"annotations\": [{\"font\": {\"color\": \"rgb(150,150,150)\", \"family\": \"Raleway, sans-serif\", \"size\": 12}, \"showarrow\": false, \"text\": \"\\u00daltima atualiza\\u00e7\\u00e3o: 20/03/2020\", \"x\": -0.04, \"xanchor\": \"left\", \"xref\": \"paper\", \"y\": 1.12, \"yanchor\": \"top\", \"yref\": \"paper\"}, {\"font\": {\"color\": \"rgb(150,150,150)\", \"family\": \"Raleway, sans-serif\", \"size\": 12}, \"showarrow\": false, \"text\": \"Fonte: <a href=https://www.kaggle.com/sudalairajkumar/novel-corona-virus-2019-dataset>Novel COVID-19 Kaggle dataset</a>\", \"x\": 0.5, \"xanchor\": \"center\", \"xref\": \"paper\", \"y\": -0.16, \"yanchor\": \"top\", \"yref\": \"paper\"}, {\"font\": {\"color\": \"green\", \"family\": \"Raleway, sans-serif\", \"size\": 12}, \"showarrow\": false, \"text\": \"<b>Brasil:</b><br>793 confirmados <br>780 ativos ap\\u00f3s 23 dias\", \"x\": 23, \"xanchor\": \"right\", \"xref\": \"x\", \"y\": 1093, \"yanchor\": \"top\", \"yref\": \"y\"}, {\"font\": {\"color\": \"royalblue\", \"family\": \"Raleway, sans-serif\", \"size\": 12}, \"showarrow\": false, \"text\": \"<b>It\\u00e1lia:</b><br>2502 confirmados <br>2263 ativos ap\\u00f3s 32 dias\", \"x\": 32, \"xanchor\": \"right\", \"xref\": \"x\", \"y\": 2802, \"yanchor\": \"top\", \"yref\": \"y\"}], \"plot_bgcolor\": \"white\", \"showlegend\": true, \"template\": {\"data\": {\"bar\": [{\"error_x\": {\"color\": \"#2a3f5f\"}, \"error_y\": {\"color\": \"#2a3f5f\"}, \"marker\": {\"line\": {\"color\": \"#E5ECF6\", \"width\": 0.5}}, \"type\": \"bar\"}], \"barpolar\": [{\"marker\": {\"line\": {\"color\": \"#E5ECF6\", \"width\": 0.5}}, \"type\": \"barpolar\"}], \"carpet\": [{\"aaxis\": {\"endlinecolor\": \"#2a3f5f\", \"gridcolor\": \"white\", \"linecolor\": \"white\", \"minorgridcolor\": \"white\", \"startlinecolor\": \"#2a3f5f\"}, \"baxis\": {\"endlinecolor\": \"#2a3f5f\", \"gridcolor\": \"white\", \"linecolor\": \"white\", \"minorgridcolor\": \"white\", \"startlinecolor\": \"#2a3f5f\"}, \"type\": \"carpet\"}], \"choropleth\": [{\"colorbar\": {\"outlinewidth\": 0, \"ticks\": \"\"}, \"type\": \"choropleth\"}], \"contour\": [{\"colorbar\": {\"outlinewidth\": 0, \"ticks\": \"\"}, \"colorscale\": [[0.0, \"#0d0887\"], [0.1111111111111111, \"#46039f\"], [0.2222222222222222, \"#7201a8\"], [0.3333333333333333, \"#9c179e\"], [0.4444444444444444, \"#bd3786\"], [0.5555555555555556, \"#d8576b\"], [0.6666666666666666, \"#ed7953\"], [0.7777777777777778, \"#fb9f3a\"], [0.8888888888888888, \"#fdca26\"], [1.0, \"#f0f921\"]], \"type\": \"contour\"}], \"contourcarpet\": [{\"colorbar\": {\"outlinewidth\": 0, \"ticks\": \"\"}, \"type\": \"contourcarpet\"}], \"heatmap\": [{\"colorbar\": {\"outlinewidth\": 0, \"ticks\": \"\"}, \"colorscale\": [[0.0, \"#0d0887\"], [0.1111111111111111, \"#46039f\"], [0.2222222222222222, \"#7201a8\"], [0.3333333333333333, \"#9c179e\"], [0.4444444444444444, \"#bd3786\"], [0.5555555555555556, \"#d8576b\"], [0.6666666666666666, \"#ed7953\"], [0.7777777777777778, \"#fb9f3a\"], [0.8888888888888888, \"#fdca26\"], [1.0, \"#f0f921\"]], \"type\": \"heatmap\"}], \"heatmapgl\": [{\"colorbar\": {\"outlinewidth\": 0, \"ticks\": \"\"}, \"colorscale\": [[0.0, \"#0d0887\"], [0.1111111111111111, \"#46039f\"], [0.2222222222222222, \"#7201a8\"], [0.3333333333333333, \"#9c179e\"], [0.4444444444444444, \"#bd3786\"], [0.5555555555555556, \"#d8576b\"], [0.6666666666666666, \"#ed7953\"], [0.7777777777777778, \"#fb9f3a\"], [0.8888888888888888, \"#fdca26\"], [1.0, \"#f0f921\"]], \"type\": \"heatmapgl\"}], \"histogram\": [{\"marker\": {\"colorbar\": {\"outlinewidth\": 0, \"ticks\": \"\"}}, \"type\": \"histogram\"}], \"histogram2d\": [{\"colorbar\": {\"outlinewidth\": 0, \"ticks\": \"\"}, \"colorscale\": [[0.0, \"#0d0887\"], [0.1111111111111111, \"#46039f\"], [0.2222222222222222, \"#7201a8\"], [0.3333333333333333, \"#9c179e\"], [0.4444444444444444, \"#bd3786\"], [0.5555555555555556, \"#d8576b\"], [0.6666666666666666, \"#ed7953\"], [0.7777777777777778, \"#fb9f3a\"], [0.8888888888888888, \"#fdca26\"], [1.0, \"#f0f921\"]], \"type\": \"histogram2d\"}], \"histogram2dcontour\": [{\"colorbar\": {\"outlinewidth\": 0, \"ticks\": \"\"}, \"colorscale\": [[0.0, \"#0d0887\"], [0.1111111111111111, \"#46039f\"], [0.2222222222222222, \"#7201a8\"], [0.3333333333333333, \"#9c179e\"], [0.4444444444444444, \"#bd3786\"], [0.5555555555555556, \"#d8576b\"], [0.6666666666666666, \"#ed7953\"], [0.7777777777777778, \"#fb9f3a\"], [0.8888888888888888, \"#fdca26\"], [1.0, \"#f0f921\"]], \"type\": \"histogram2dcontour\"}], \"mesh3d\": [{\"colorbar\": {\"outlinewidth\": 0, \"ticks\": \"\"}, \"type\": \"mesh3d\"}], \"parcoords\": [{\"line\": {\"colorbar\": {\"outlinewidth\": 0, \"ticks\": \"\"}}, \"type\": \"parcoords\"}], \"pie\": [{\"automargin\": true, \"type\": \"pie\"}], \"scatter\": [{\"marker\": {\"colorbar\": {\"outlinewidth\": 0, \"ticks\": \"\"}}, \"type\": \"scatter\"}], \"scatter3d\": [{\"line\": {\"colorbar\": {\"outlinewidth\": 0, \"ticks\": \"\"}}, \"marker\": {\"colorbar\": {\"outlinewidth\": 0, \"ticks\": \"\"}}, \"type\": \"scatter3d\"}], \"scattercarpet\": [{\"marker\": {\"colorbar\": {\"outlinewidth\": 0, \"ticks\": \"\"}}, \"type\": \"scattercarpet\"}], \"scattergeo\": [{\"marker\": {\"colorbar\": {\"outlinewidth\": 0, \"ticks\": \"\"}}, \"type\": \"scattergeo\"}], \"scattergl\": [{\"marker\": {\"colorbar\": {\"outlinewidth\": 0, \"ticks\": \"\"}}, \"type\": \"scattergl\"}], \"scattermapbox\": [{\"marker\": {\"colorbar\": {\"outlinewidth\": 0, \"ticks\": \"\"}}, \"type\": \"scattermapbox\"}], \"scatterpolar\": [{\"marker\": {\"colorbar\": {\"outlinewidth\": 0, \"ticks\": \"\"}}, \"type\": \"scatterpolar\"}], \"scatterpolargl\": [{\"marker\": {\"colorbar\": {\"outlinewidth\": 0, \"ticks\": \"\"}}, \"type\": \"scatterpolargl\"}], \"scatterternary\": [{\"marker\": {\"colorbar\": {\"outlinewidth\": 0, \"ticks\": \"\"}}, \"type\": \"scatterternary\"}], \"surface\": [{\"colorbar\": {\"outlinewidth\": 0, \"ticks\": \"\"}, \"colorscale\": [[0.0, \"#0d0887\"], [0.1111111111111111, \"#46039f\"], [0.2222222222222222, \"#7201a8\"], [0.3333333333333333, \"#9c179e\"], [0.4444444444444444, \"#bd3786\"], [0.5555555555555556, \"#d8576b\"], [0.6666666666666666, \"#ed7953\"], [0.7777777777777778, \"#fb9f3a\"], [0.8888888888888888, \"#fdca26\"], [1.0, \"#f0f921\"]], \"type\": \"surface\"}], \"table\": [{\"cells\": {\"fill\": {\"color\": \"#EBF0F8\"}, \"line\": {\"color\": \"white\"}}, \"header\": {\"fill\": {\"color\": \"#C8D4E3\"}, \"line\": {\"color\": \"white\"}}, \"type\": \"table\"}]}, \"layout\": {\"annotationdefaults\": {\"arrowcolor\": \"#2a3f5f\", \"arrowhead\": 0, \"arrowwidth\": 1}, \"coloraxis\": {\"colorbar\": {\"outlinewidth\": 0, \"ticks\": \"\"}}, \"colorscale\": {\"diverging\": [[0, \"#8e0152\"], [0.1, \"#c51b7d\"], [0.2, \"#de77ae\"], [0.3, \"#f1b6da\"], [0.4, \"#fde0ef\"], [0.5, \"#f7f7f7\"], [0.6, \"#e6f5d0\"], [0.7, \"#b8e186\"], [0.8, \"#7fbc41\"], [0.9, \"#4d9221\"], [1, \"#276419\"]], \"sequential\": [[0.0, \"#0d0887\"], [0.1111111111111111, \"#46039f\"], [0.2222222222222222, \"#7201a8\"], [0.3333333333333333, \"#9c179e\"], [0.4444444444444444, \"#bd3786\"], [0.5555555555555556, \"#d8576b\"], [0.6666666666666666, \"#ed7953\"], [0.7777777777777778, \"#fb9f3a\"], [0.8888888888888888, \"#fdca26\"], [1.0, \"#f0f921\"]], \"sequentialminus\": [[0.0, \"#0d0887\"], [0.1111111111111111, \"#46039f\"], [0.2222222222222222, \"#7201a8\"], [0.3333333333333333, \"#9c179e\"], [0.4444444444444444, \"#bd3786\"], [0.5555555555555556, \"#d8576b\"], [0.6666666666666666, \"#ed7953\"], [0.7777777777777778, \"#fb9f3a\"], [0.8888888888888888, \"#fdca26\"], [1.0, \"#f0f921\"]]}, \"colorway\": [\"#636efa\", \"#EF553B\", \"#00cc96\", \"#ab63fa\", \"#FFA15A\", \"#19d3f3\", \"#FF6692\", \"#B6E880\", \"#FF97FF\", \"#FECB52\"], \"font\": {\"color\": \"#2a3f5f\"}, \"geo\": {\"bgcolor\": \"white\", \"lakecolor\": \"white\", \"landcolor\": \"#E5ECF6\", \"showlakes\": true, \"showland\": true, \"subunitcolor\": \"white\"}, \"hoverlabel\": {\"align\": \"left\"}, \"hovermode\": \"closest\", \"mapbox\": {\"style\": \"light\"}, \"paper_bgcolor\": \"white\", \"plot_bgcolor\": \"#E5ECF6\", \"polar\": {\"angularaxis\": {\"gridcolor\": \"white\", \"linecolor\": \"white\", \"ticks\": \"\"}, \"bgcolor\": \"#E5ECF6\", \"radialaxis\": {\"gridcolor\": \"white\", \"linecolor\": \"white\", \"ticks\": \"\"}}, \"scene\": {\"xaxis\": {\"backgroundcolor\": \"#E5ECF6\", \"gridcolor\": \"white\", \"gridwidth\": 2, \"linecolor\": \"white\", \"showbackground\": true, \"ticks\": \"\", \"zerolinecolor\": \"white\"}, \"yaxis\": {\"backgroundcolor\": \"#E5ECF6\", \"gridcolor\": \"white\", \"gridwidth\": 2, \"linecolor\": \"white\", \"showbackground\": true, \"ticks\": \"\", \"zerolinecolor\": \"white\"}, \"zaxis\": {\"backgroundcolor\": \"#E5ECF6\", \"gridcolor\": \"white\", \"gridwidth\": 2, \"linecolor\": \"white\", \"showbackground\": true, \"ticks\": \"\", \"zerolinecolor\": \"white\"}}, \"shapedefaults\": {\"line\": {\"color\": \"#2a3f5f\"}}, \"ternary\": {\"aaxis\": {\"gridcolor\": \"white\", \"linecolor\": \"white\", \"ticks\": \"\"}, \"baxis\": {\"gridcolor\": \"white\", \"linecolor\": \"white\", \"ticks\": \"\"}, \"bgcolor\": \"#E5ECF6\", \"caxis\": {\"gridcolor\": \"white\", \"linecolor\": \"white\", \"ticks\": \"\"}}, \"title\": {\"x\": 0.05}, \"xaxis\": {\"automargin\": true, \"gridcolor\": \"white\", \"linecolor\": \"white\", \"ticks\": \"\", \"title\": {\"standoff\": 15}, \"zerolinecolor\": \"white\", \"zerolinewidth\": 2}, \"yaxis\": {\"automargin\": true, \"gridcolor\": \"white\", \"linecolor\": \"white\", \"ticks\": \"\", \"title\": {\"standoff\": 15}, \"zerolinecolor\": \"white\", \"zerolinewidth\": 2}}}, \"title\": {\"font\": {\"color\": \"dimgrey\", \"family\": \"Franklin Gothic\", \"size\": 25}, \"text\": \"Compara\\u00e7\\u00e3o Brasil e It\\u00e1lia ap\\u00f3s 1\\u00aa Confirma\\u00e7\\u00e3o de COVID-19\"}, \"xaxis\": {\"linecolor\": \"rgb(204, 204, 204)\", \"linewidth\": 2, \"showgrid\": false, \"showline\": true, \"showticklabels\": true, \"tickfont\": {\"color\": \"rgb(82, 82, 82)\", \"family\": \"Raleway, sans-serif\", \"size\": 12}, \"ticks\": \"outside\", \"title\": {\"font\": {\"color\": \"rgb(150,150,150)\", \"family\": \"Raleway, sans-serif\", \"size\": 12}, \"text\": \"Dias Ap\\u00f3s 1\\u00aa Confirma\\u00e7\\u00e3o\"}}, \"yaxis\": {\"linecolor\": \"rgb(204, 204, 204)\", \"linewidth\": 2, \"showgrid\": true, \"showline\": true, \"showticklabels\": true, \"tickfont\": {\"color\": \"rgb(82, 82, 82)\", \"family\": \"Raleway, sans-serif\", \"size\": 12}, \"ticks\": \"outside\", \"title\": {\"font\": {\"color\": \"rgb(150,150,150)\", \"family\": \"Raleway, sans-serif\", \"size\": 12}, \"text\": \"Casos Confirmados\"}, \"zeroline\": true}},\n",
       "                        {\"responsive\": true}\n",
       "                    ).then(function(){\n",
       "                            \n",
       "var gd = document.getElementById('4644d654-8ecb-4ffa-94f9-8cdd4624d8b3');\n",
       "var x = new MutationObserver(function (mutations, observer) {{\n",
       "        var display = window.getComputedStyle(gd).display;\n",
       "        if (!display || display === 'none') {{\n",
       "            console.log([gd, 'removed!']);\n",
       "            Plotly.purge(gd);\n",
       "            observer.disconnect();\n",
       "        }}\n",
       "}});\n",
       "\n",
       "// Listen for the removal of the full notebook cells\n",
       "var notebookContainer = gd.closest('#notebook-container');\n",
       "if (notebookContainer) {{\n",
       "    x.observe(notebookContainer, {childList: true});\n",
       "}}\n",
       "\n",
       "// Listen for the clearing of the current output cell\n",
       "var outputEl = gd.closest('.output');\n",
       "if (outputEl) {{\n",
       "    x.observe(outputEl, {childList: true});\n",
       "}}\n",
       "\n",
       "                        })\n",
       "                };\n",
       "                });\n",
       "            </script>\n",
       "        </div>"
      ]
     },
     "metadata": {},
     "output_type": "display_data"
    }
   ],
   "source": [
    "# Filtrando dados\n",
    "brazil_data = corona_min_dt.query('country_region == \"Brazil\"')\n",
    "italy_data = corona_min_dt.query('country_region == \"Italy\"')\n",
    "usa_data = corona_min_dt.query('country_region == \"US\"')\n",
    "\n",
    "# Parâmetros para visualização\n",
    "min_days = min([df['days_pos_1st_obs'].max() for df in [brazil_data, italy_data, usa_data]])\n",
    "offset = 10\n",
    "filter_days = min_days + offset\n",
    "\n",
    "# Visualizando crescimento de casos confirmados após primeira obs\n",
    "fig = go.Figure()\n",
    "\n",
    "# Criando traces - Brasil\n",
    "trace_brazil = go.Scatter(\n",
    "    x=brazil_data['days_pos_1st_obs'],\n",
    "    y=brazil_data['confirmed'],\n",
    "    name='Brasil',\n",
    "    line=dict(\n",
    "        color='green',\n",
    "        width=4\n",
    "    ),\n",
    "    hovertemplate =\n",
    "    '<b>Casos</b>: %{y}'+\n",
    "    '<br><b>Dias</b>: %{x}<br>'\n",
    ")\n",
    "trace_brazil2 = go.Scatter(\n",
    "    x=brazil_data['days_pos_1st_obs'],\n",
    "    y=brazil_data['actives'],\n",
    "    name='Ativos BRA',\n",
    "    line=dict(\n",
    "        color='mediumspringgreen',\n",
    "        width=2,\n",
    "        dash='dash'\n",
    "    ),\n",
    "    hovertemplate =\n",
    "    '<b>Casos</b>: %{y}'+\n",
    "    '<br><b>Dias</b>: %{x}<br>'\n",
    ")\n",
    "trace_brazil3 = go.Scatter(\n",
    "    x=brazil_data['days_pos_1st_obs'][-1:],\n",
    "    y=brazil_data['confirmed'][-1:],\n",
    "    mode='markers',\n",
    "    name='Brasil',\n",
    "    marker=dict(\n",
    "        color='green',\n",
    "        size=12\n",
    "    ),\n",
    "    showlegend=False,\n",
    "    hovertemplate =\n",
    "    '<b>Casos</b>: %{y}'+\n",
    "    '<br><b>Data</b>: %{x}<br>'\n",
    ")\n",
    "\n",
    "# Criando traces - Itália\n",
    "trace_italy = go.Scatter(\n",
    "    x=italy_data['days_pos_1st_obs'][:filter_days],\n",
    "    y=italy_data['confirmed'][:filter_days],\n",
    "    name='Itália',\n",
    "    line=dict(\n",
    "        color='cornflowerblue',\n",
    "        width=4\n",
    "    ),\n",
    "    hovertemplate =\n",
    "    '<b>Casos</b>: %{y}'+\n",
    "    '<br><b>Dias</b>: %{x}<br>'\n",
    ")\n",
    "trace_italy2 = go.Scatter(\n",
    "    x=italy_data['days_pos_1st_obs'][:filter_days],\n",
    "    y=italy_data['actives'][:filter_days],\n",
    "    name='Ativos ITA',\n",
    "    line=dict(\n",
    "        color='royalblue',\n",
    "        width=2,\n",
    "        dash='dash'\n",
    "    ),\n",
    "    hovertemplate =\n",
    "    '<b>Casos</b>: %{y}'+\n",
    "    '<br><b>Dias</b>: %{x}<br>'\n",
    ")\n",
    "trace_italy3 = go.Scatter(\n",
    "    x=italy_data['days_pos_1st_obs'][:filter_days][-1:],\n",
    "    y=italy_data['confirmed'][:filter_days][-1:],\n",
    "    mode='markers',\n",
    "    name='Itália',\n",
    "    marker=dict(\n",
    "        color='cornflowerblue',\n",
    "        size=12\n",
    "    ),\n",
    "    showlegend=False,\n",
    "    hovertemplate =\n",
    "    '<b>Casos</b>: %{y}'+\n",
    "    '<br><b>Data</b>: %{x}<br>'\n",
    ")\n",
    "\n",
    "# Adicionando linhas\n",
    "fig.add_trace(trace_brazil)\n",
    "fig.add_trace(trace_brazil2)\n",
    "fig.add_trace(trace_brazil3)\n",
    "fig.add_trace(trace_italy)\n",
    "fig.add_trace(trace_italy2)\n",
    "fig.add_trace(trace_italy3)\n",
    "\n",
    "# Formatando layout da plotagem\n",
    "fig.update_layout(\n",
    "    \n",
    "    # Eixo x\n",
    "    xaxis=dict(\n",
    "        showline=True,\n",
    "        showgrid=False,\n",
    "        showticklabels=True,\n",
    "        linecolor='rgb(204, 204, 204)',\n",
    "        linewidth=2,\n",
    "        ticks='outside',\n",
    "        tickfont=dict(\n",
    "            family='Raleway, sans-serif',\n",
    "            size=12,\n",
    "            color='rgb(82, 82, 82)',\n",
    "        ),\n",
    "    ),\n",
    "    \n",
    "    # Eixo y\n",
    "    yaxis=dict(\n",
    "        showgrid=True,\n",
    "        zeroline=True,\n",
    "        showline=True,\n",
    "        showticklabels=True,\n",
    "        linecolor='rgb(204, 204, 204)',\n",
    "        linewidth=2,\n",
    "        ticks='outside',\n",
    "        tickfont=dict(\n",
    "            family='Raleway, sans-serif',\n",
    "            size=12,\n",
    "            color='rgb(82, 82, 82)',\n",
    "        ),\n",
    "    ),\n",
    "    \n",
    "    \n",
    "    showlegend=True,\n",
    "    plot_bgcolor='white',\n",
    "    \n",
    "    # Título do gráfico\n",
    "    title=dict(\n",
    "        text='Comparação Brasil e Itália após 1ª Confirmação de COVID-19',\n",
    "        font=dict(\n",
    "            family='Franklin Gothic',\n",
    "            size=25,\n",
    "            color='dimgrey'\n",
    "        )\n",
    "    ),\n",
    "    \n",
    "    # Título do eixo y\n",
    "    yaxis_title=dict(\n",
    "        text='Casos Confirmados',\n",
    "        font=dict(\n",
    "            family='Raleway, sans-serif',\n",
    "            size=12,\n",
    "            color='rgb(150,150,150)'\n",
    "        )\n",
    "    ),\n",
    "    \n",
    "    # Título do eixo x\n",
    "    xaxis_title=dict(\n",
    "        text='Dias Após 1ª Confirmação',\n",
    "        font=dict(\n",
    "            family='Raleway, sans-serif',\n",
    "            size=12,\n",
    "            color='rgb(150,150,150)'\n",
    "        )\n",
    "    )\n",
    ")\n",
    "\n",
    "# Criando anotações\n",
    "annotations = []\n",
    "ref_data = df_corona['last_update'].max()\n",
    "\n",
    "# Data de referência\n",
    "annotations.append(\n",
    "    dict(\n",
    "        xref='paper', \n",
    "        yref='paper', \n",
    "        x=-0.04, \n",
    "        y=1.12,\n",
    "        xanchor='left', \n",
    "        yanchor='top',\n",
    "        text=f'Última atualização: {ref_data.strftime(\"%d/%m/%Y\")}',\n",
    "        font=dict(\n",
    "            family='Raleway, sans-serif',\n",
    "            size=12,\n",
    "            color='rgb(150,150,150)'\n",
    "        ),\n",
    "        showarrow=False\n",
    "    )\n",
    ")\n",
    "\n",
    "# Fonte dos dados\n",
    "annotations.append(\n",
    "    dict(\n",
    "        xref='paper', \n",
    "        yref='paper', \n",
    "        x=0.5, \n",
    "        y=-0.16,\n",
    "        xanchor='center', \n",
    "        yanchor='top',\n",
    "        text='Fonte: <a href=https://www.kaggle.com/sudalairajkumar/novel-corona-virus-2019-dataset>' +\n",
    "                                   'Novel COVID-19 Kaggle dataset</a>',\n",
    "        font=dict(\n",
    "            family='Raleway, sans-serif',\n",
    "            size=12,\n",
    "            color='rgb(150,150,150)'\n",
    "        ),\n",
    "        showarrow=False\n",
    "    )\n",
    ")\n",
    "\n",
    "# Últimas informações sobre o Brasil\n",
    "br_ult_dia = int(brazil_data['days_pos_1st_obs'][-1:].values[0])\n",
    "br_ult_conf = int(brazil_data['confirmed'][-1:].values[0])\n",
    "br_ult_ativ = int(brazil_data[\"actives\"][-1:].values[0])\n",
    "annotations.append(\n",
    "    dict(\n",
    "        xref='x', \n",
    "        yref='y', \n",
    "        x=br_ult_dia,\n",
    "        y=br_ult_conf+300,\n",
    "        xanchor='right', \n",
    "        yanchor='top',\n",
    "        text=f'<b>Brasil:</b><br>' + \n",
    "             f'{br_ult_conf} confirmados <br>' + \n",
    "             f'{br_ult_ativ} ativos após {br_ult_dia} dias',\n",
    "        font=dict(\n",
    "            family='Raleway, sans-serif',\n",
    "            size=12,\n",
    "            color='green'\n",
    "        ),\n",
    "        showarrow=False\n",
    "    )\n",
    ")\n",
    "\n",
    "# Últimas informações sobre o Brasil\n",
    "ita_ult_dia = int(italy_data['days_pos_1st_obs'][:filter_days][-1:].values[0])\n",
    "ita_ult_conf = int(italy_data['confirmed'][:filter_days][-1:].values[0])\n",
    "ita_ult_ativ = int(italy_data[\"actives\"][:filter_days][-1:].values[0])\n",
    "annotations.append(\n",
    "    dict(\n",
    "        xref='x', \n",
    "        yref='y', \n",
    "        x=ita_ult_dia,\n",
    "        y=ita_ult_conf+300,\n",
    "        xanchor='right', \n",
    "        yanchor='top',\n",
    "        text=f'<b>Itália:</b><br>' + \n",
    "             f'{ita_ult_conf} confirmados <br>' + \n",
    "             f'{ita_ult_ativ} ativos após {ita_ult_dia} dias',\n",
    "        font=dict(\n",
    "            family='Raleway, sans-serif',\n",
    "            size=12,\n",
    "            color='royalblue'\n",
    "        ),\n",
    "        showarrow=False\n",
    "    )\n",
    ")\n",
    " \n",
    "fig.update_layout(annotations=annotations)\n",
    "fig.show()"
   ]
  },
  {
   "cell_type": "markdown",
   "metadata": {},
   "source": [
    "### Pós Trigger de Confirmados"
   ]
  },
  {
   "cell_type": "code",
   "execution_count": 32,
   "metadata": {
    "ExecuteTime": {
     "end_time": "2020-03-21T23:34:09.029926Z",
     "start_time": "2020-03-21T23:34:08.557591Z"
    },
    "code_folding": [
     0
    ]
   },
   "outputs": [
    {
     "data": {
      "text/html": [
       "<div>\n",
       "<style scoped>\n",
       "    .dataframe tbody tr th:only-of-type {\n",
       "        vertical-align: middle;\n",
       "    }\n",
       "\n",
       "    .dataframe tbody tr th {\n",
       "        vertical-align: top;\n",
       "    }\n",
       "\n",
       "    .dataframe thead th {\n",
       "        text-align: right;\n",
       "    }\n",
       "</style>\n",
       "<table border=\"1\" class=\"dataframe\">\n",
       "  <thead>\n",
       "    <tr style=\"text-align: right;\">\n",
       "      <th></th>\n",
       "      <th>country</th>\n",
       "      <th>alpha_code</th>\n",
       "    </tr>\n",
       "  </thead>\n",
       "  <tbody>\n",
       "    <tr>\n",
       "      <th>0</th>\n",
       "      <td>Afghanistan</td>\n",
       "      <td>AFG</td>\n",
       "    </tr>\n",
       "    <tr>\n",
       "      <th>1</th>\n",
       "      <td>Åland Islands</td>\n",
       "      <td>ALA</td>\n",
       "    </tr>\n",
       "    <tr>\n",
       "      <th>2</th>\n",
       "      <td>Albania</td>\n",
       "      <td>ALB</td>\n",
       "    </tr>\n",
       "    <tr>\n",
       "      <th>3</th>\n",
       "      <td>Algeria</td>\n",
       "      <td>DZA</td>\n",
       "    </tr>\n",
       "    <tr>\n",
       "      <th>4</th>\n",
       "      <td>American Samoa</td>\n",
       "      <td>ASM</td>\n",
       "    </tr>\n",
       "  </tbody>\n",
       "</table>\n",
       "</div>"
      ],
      "text/plain": [
       "          country alpha_code\n",
       "0     Afghanistan        AFG\n",
       "1   Åland Islands        ALA\n",
       "2         Albania        ALB\n",
       "3         Algeria        DZA\n",
       "4  American Samoa        ASM"
      ]
     },
     "execution_count": 32,
     "metadata": {},
     "output_type": "execute_result"
    }
   ],
   "source": [
    "# Lendo informações sobre países de uma url pública\n",
    "with urllib.request.urlopen(\"https://restcountries.eu/rest/v2/all\") as url:\n",
    "    data = json.loads(url.read().decode())\n",
    "\n",
    "# Coletando código alpha dos países\n",
    "country_names = [data[x]['name'] for x in range(len(data))]\n",
    "country_alpha_codes = [data[x]['alpha3Code'] for x in range(len(data))]\n",
    "\n",
    "# Unindo informações\n",
    "country_dict = {}\n",
    "for name, alpha_code in zip(country_names, country_alpha_codes):\n",
    "    country_dict[name] = alpha_code\n",
    "    \n",
    "# Transformando o dicionários em um objeto DataFrame\n",
    "df_country_info = pd.DataFrame(list(country_dict.items()))\n",
    "df_country_info.columns = ['country', 'alpha_code']\n",
    "\n",
    "# Mudando algumas coisas no dataset\n",
    "country_changes = {\n",
    "    'United States of America': 'US',\n",
    "    'Macao': 'Macau',\n",
    "    'Korea (Republic of)': 'South Korea',\n",
    "    'Viet Nam': 'Vietnam',\n",
    "    'Russian Federation': 'Russia',\n",
    "    'United Kingdom of Great Britain and Northern Ireland': 'UK',\n",
    "    'Iran (Islamic Republic of)': 'Iran',\n",
    "    'Macedonia (the former Yugoslav Republic of)': 'North Macedonia',\n",
    "    'Saint Barthélemy': 'Saint Barthelemy',\n",
    "    'Palestine, State of': 'Palestine',\n",
    "    \"Côte d'Ivoire\": 'Ivory Coast',\n",
    "    'North Ireland': 'Ireland'\n",
    "}\n",
    "df_country_info = df_country_info.replace({'country': country_changes})\n",
    "\n",
    "# Resultado\n",
    "df_country_info.head()"
   ]
  },
  {
   "cell_type": "code",
   "execution_count": 47,
   "metadata": {
    "ExecuteTime": {
     "end_time": "2020-03-21T23:54:32.904502Z",
     "start_time": "2020-03-21T23:54:28.875277Z"
    }
   },
   "outputs": [
    {
     "data": {
      "application/vnd.plotly.v1+json": {
       "config": {
        "plotlyServerURL": "https://plot.ly"
       },
       "data": [
        {
         "coloraxis": "coloraxis",
         "geo": "geo",
         "hoverlabel": {
          "namelength": 0
         },
         "hovertemplate": "last_update=2020-01-22<br>alpha_code=%{location}<br>deaths=%{z}",
         "locations": [
          "HKG",
          "JPN",
          "MAC",
          "CHN",
          "KOR",
          "TWN",
          "THA",
          "USA"
         ],
         "name": "",
         "type": "choropleth",
         "z": [
          0,
          0,
          0,
          17,
          0,
          0,
          0,
          0
         ]
        }
       ],
       "frames": [
        {
         "data": [
          {
           "coloraxis": "coloraxis",
           "geo": "geo",
           "hoverlabel": {
            "namelength": 0
           },
           "hovertemplate": "last_update=2020-01-22<br>alpha_code=%{location}<br>deaths=%{z}",
           "locations": [
            "HKG",
            "JPN",
            "MAC",
            "CHN",
            "KOR",
            "TWN",
            "THA",
            "USA"
           ],
           "name": "",
           "type": "choropleth",
           "z": [
            0,
            0,
            0,
            17,
            0,
            0,
            0,
            0
           ]
          }
         ],
         "name": "2020-01-22"
        },
        {
         "data": [
          {
           "coloraxis": "coloraxis",
           "geo": "geo",
           "hoverlabel": {
            "namelength": 0
           },
           "hovertemplate": "last_update=2020-01-23<br>alpha_code=%{location}<br>deaths=%{z}",
           "locations": [
            "AUS",
            "BRA",
            "COL",
            "HKG",
            "JPN",
            "MAC",
            "CHN",
            "MYS",
            "MEX",
            "PHL",
            "SGP",
            "KOR",
            "TWN",
            "THA",
            "USA",
            "VNM"
           ],
           "name": "",
           "type": "choropleth",
           "z": [
            0,
            0,
            0,
            0,
            0,
            0,
            18,
            0,
            0,
            0,
            0,
            0,
            0,
            0,
            0,
            0
           ]
          }
         ],
         "name": "2020-01-23"
        },
        {
         "data": [
          {
           "coloraxis": "coloraxis",
           "geo": "geo",
           "hoverlabel": {
            "namelength": 0
           },
           "hovertemplate": "last_update=2020-01-24<br>alpha_code=%{location}<br>deaths=%{z}",
           "locations": [
            "FRA",
            "HKG",
            "JPN",
            "MAC",
            "CHN",
            "SGP",
            "KOR",
            "TWN",
            "THA",
            "USA",
            "VNM"
           ],
           "name": "",
           "type": "choropleth",
           "z": [
            0,
            0,
            0,
            0,
            26,
            0,
            0,
            0,
            0,
            0,
            0
           ]
          }
         ],
         "name": "2020-01-24"
        },
        {
         "data": [
          {
           "coloraxis": "coloraxis",
           "geo": "geo",
           "hoverlabel": {
            "namelength": 0
           },
           "hovertemplate": "last_update=2020-01-25<br>alpha_code=%{location}<br>deaths=%{z}",
           "locations": [
            "AUS",
            "FRA",
            "HKG",
            "JPN",
            "MAC",
            "CHN",
            "MYS",
            "NPL",
            "SGP",
            "KOR",
            "TWN",
            "THA",
            "USA",
            "VNM"
           ],
           "name": "",
           "type": "choropleth",
           "z": [
            0,
            0,
            0,
            0,
            0,
            42,
            0,
            0,
            0,
            0,
            0,
            0,
            0,
            0
           ]
          }
         ],
         "name": "2020-01-25"
        },
        {
         "data": [
          {
           "coloraxis": "coloraxis",
           "geo": "geo",
           "hoverlabel": {
            "namelength": 0
           },
           "hovertemplate": "last_update=2020-01-26<br>alpha_code=%{location}<br>deaths=%{z}",
           "locations": [
            "AUS",
            "CAN",
            "FRA",
            "HKG",
            "JPN",
            "MAC",
            "CHN",
            "MYS",
            "NPL",
            "SGP",
            "KOR",
            "TWN",
            "THA",
            "USA",
            "VNM"
           ],
           "name": "",
           "type": "choropleth",
           "z": [
            0,
            0,
            0,
            0,
            0,
            0,
            56,
            0,
            0,
            0,
            0,
            0,
            0,
            0,
            0
           ]
          }
         ],
         "name": "2020-01-26"
        },
        {
         "data": [
          {
           "coloraxis": "coloraxis",
           "geo": "geo",
           "hoverlabel": {
            "namelength": 0
           },
           "hovertemplate": "last_update=2020-01-27<br>alpha_code=%{location}<br>deaths=%{z}",
           "locations": [
            "AUS",
            "KHM",
            "CAN",
            "FRA",
            "HKG",
            "CIV",
            "JPN",
            "MAC",
            "CHN",
            "MYS",
            "NPL",
            "SGP",
            "KOR",
            "LKA",
            "TWN",
            "THA",
            "USA",
            "VNM"
           ],
           "name": "",
           "type": "choropleth",
           "z": [
            0,
            0,
            0,
            0,
            0,
            0,
            0,
            0,
            82,
            0,
            0,
            0,
            0,
            0,
            0,
            0,
            0,
            0
           ]
          }
         ],
         "name": "2020-01-27"
        },
        {
         "data": [
          {
           "coloraxis": "coloraxis",
           "geo": "geo",
           "hoverlabel": {
            "namelength": 0
           },
           "hovertemplate": "last_update=2020-01-28<br>alpha_code=%{location}<br>deaths=%{z}",
           "locations": [
            "AUS",
            "KHM",
            "CAN",
            "FRA",
            "DEU",
            "HKG",
            "JPN",
            "MAC",
            "CHN",
            "MYS",
            "NPL",
            "SGP",
            "KOR",
            "LKA",
            "TWN",
            "THA",
            "USA",
            "VNM"
           ],
           "name": "",
           "type": "choropleth",
           "z": [
            0,
            0,
            0,
            0,
            0,
            0,
            0,
            0,
            131,
            0,
            0,
            0,
            0,
            0,
            0,
            0,
            0,
            0
           ]
          }
         ],
         "name": "2020-01-28"
        },
        {
         "data": [
          {
           "coloraxis": "coloraxis",
           "geo": "geo",
           "hoverlabel": {
            "namelength": 0
           },
           "hovertemplate": "last_update=2020-01-29<br>alpha_code=%{location}<br>deaths=%{z}",
           "locations": [
            "AUS",
            "KHM",
            "CAN",
            "FIN",
            "FRA",
            "DEU",
            "HKG",
            "JPN",
            "MAC",
            "CHN",
            "MYS",
            "NPL",
            "SGP",
            "KOR",
            "LKA",
            "TWN",
            "THA",
            "USA",
            "ARE",
            "VNM"
           ],
           "name": "",
           "type": "choropleth",
           "z": [
            0,
            0,
            0,
            0,
            0,
            0,
            0,
            0,
            0,
            133,
            0,
            0,
            0,
            0,
            0,
            0,
            0,
            0,
            0,
            0
           ]
          }
         ],
         "name": "2020-01-29"
        },
        {
         "data": [
          {
           "coloraxis": "coloraxis",
           "geo": "geo",
           "hoverlabel": {
            "namelength": 0
           },
           "hovertemplate": "last_update=2020-01-30<br>alpha_code=%{location}<br>deaths=%{z}",
           "locations": [
            "AUS",
            "KHM",
            "CAN",
            "FIN",
            "FRA",
            "DEU",
            "HKG",
            "IND",
            "JPN",
            "MAC",
            "CHN",
            "MYS",
            "NPL",
            "PHL",
            "SGP",
            "KOR",
            "LKA",
            "TWN",
            "THA",
            "USA",
            "ARE",
            "VNM"
           ],
           "name": "",
           "type": "choropleth",
           "z": [
            0,
            0,
            0,
            0,
            0,
            0,
            0,
            0,
            0,
            0,
            171,
            0,
            0,
            0,
            0,
            0,
            0,
            0,
            0,
            0,
            0,
            0
           ]
          }
         ],
         "name": "2020-01-30"
        },
        {
         "data": [
          {
           "coloraxis": "coloraxis",
           "geo": "geo",
           "hoverlabel": {
            "namelength": 0
           },
           "hovertemplate": "last_update=2020-01-31<br>alpha_code=%{location}<br>deaths=%{z}",
           "locations": [
            "AUS",
            "KHM",
            "CAN",
            "FIN",
            "FRA",
            "DEU",
            "HKG",
            "IND",
            "ITA",
            "JPN",
            "MAC",
            "CHN",
            "MYS",
            "NPL",
            "PHL",
            "RUS",
            "SGP",
            "KOR",
            "LKA",
            "SWE",
            "TWN",
            "THA",
            "GBR",
            "USA",
            "ARE",
            "VNM"
           ],
           "name": "",
           "type": "choropleth",
           "z": [
            0,
            0,
            0,
            0,
            0,
            0,
            0,
            0,
            0,
            0,
            0,
            213,
            0,
            0,
            0,
            0,
            0,
            0,
            0,
            0,
            0,
            0,
            0,
            0,
            0,
            0
           ]
          }
         ],
         "name": "2020-01-31"
        },
        {
         "data": [
          {
           "coloraxis": "coloraxis",
           "geo": "geo",
           "hoverlabel": {
            "namelength": 0
           },
           "hovertemplate": "last_update=2020-02-01<br>alpha_code=%{location}<br>deaths=%{z}",
           "locations": [
            "AUS",
            "KHM",
            "CAN",
            "FIN",
            "FRA",
            "DEU",
            "HKG",
            "IND",
            "ITA",
            "JPN",
            "MAC",
            "CHN",
            "MYS",
            "NPL",
            "PHL",
            "RUS",
            "SGP",
            "KOR",
            "ESP",
            "LKA",
            "SWE",
            "TWN",
            "THA",
            "GBR",
            "USA",
            "ARE",
            "VNM"
           ],
           "name": "",
           "type": "choropleth",
           "z": [
            0,
            0,
            0,
            0,
            0,
            0,
            0,
            0,
            0,
            0,
            0,
            259,
            0,
            0,
            0,
            0,
            0,
            0,
            0,
            0,
            0,
            0,
            0,
            0,
            0,
            0,
            0
           ]
          }
         ],
         "name": "2020-02-01"
        },
        {
         "data": [
          {
           "coloraxis": "coloraxis",
           "geo": "geo",
           "hoverlabel": {
            "namelength": 0
           },
           "hovertemplate": "last_update=2020-02-02<br>alpha_code=%{location}<br>deaths=%{z}",
           "locations": [
            "AUS",
            "KHM",
            "CAN",
            "FIN",
            "FRA",
            "DEU",
            "HKG",
            "IND",
            "ITA",
            "JPN",
            "MAC",
            "CHN",
            "MYS",
            "NPL",
            "PHL",
            "RUS",
            "SGP",
            "KOR",
            "ESP",
            "LKA",
            "SWE",
            "TWN",
            "THA",
            "GBR",
            "USA",
            "ARE",
            "VNM"
           ],
           "name": "",
           "type": "choropleth",
           "z": [
            0,
            0,
            0,
            0,
            0,
            0,
            0,
            0,
            0,
            0,
            0,
            361,
            0,
            0,
            1,
            0,
            0,
            0,
            0,
            0,
            0,
            0,
            0,
            0,
            0,
            0,
            0
           ]
          }
         ],
         "name": "2020-02-02"
        },
        {
         "data": [
          {
           "coloraxis": "coloraxis",
           "geo": "geo",
           "hoverlabel": {
            "namelength": 0
           },
           "hovertemplate": "last_update=2020-02-03<br>alpha_code=%{location}<br>deaths=%{z}",
           "locations": [
            "AUS",
            "KHM",
            "CAN",
            "FIN",
            "FRA",
            "DEU",
            "HKG",
            "IND",
            "ITA",
            "JPN",
            "MAC",
            "CHN",
            "MYS",
            "NPL",
            "PHL",
            "RUS",
            "SGP",
            "KOR",
            "ESP",
            "LKA",
            "SWE",
            "TWN",
            "THA",
            "GBR",
            "USA",
            "ARE",
            "VNM"
           ],
           "name": "",
           "type": "choropleth",
           "z": [
            0,
            0,
            0,
            0,
            0,
            0,
            0,
            0,
            0,
            0,
            0,
            425,
            0,
            0,
            1,
            0,
            0,
            0,
            0,
            0,
            0,
            0,
            0,
            0,
            0,
            0,
            0
           ]
          }
         ],
         "name": "2020-02-03"
        },
        {
         "data": [
          {
           "coloraxis": "coloraxis",
           "geo": "geo",
           "hoverlabel": {
            "namelength": 0
           },
           "hovertemplate": "last_update=2020-02-04<br>alpha_code=%{location}<br>deaths=%{z}",
           "locations": [
            "AUS",
            "BEL",
            "KHM",
            "CAN",
            "FIN",
            "FRA",
            "DEU",
            "HKG",
            "IND",
            "ITA",
            "JPN",
            "MAC",
            "CHN",
            "MYS",
            "NPL",
            "PHL",
            "RUS",
            "SGP",
            "KOR",
            "ESP",
            "LKA",
            "SWE",
            "TWN",
            "THA",
            "GBR",
            "USA",
            "ARE",
            "VNM"
           ],
           "name": "",
           "type": "choropleth",
           "z": [
            0,
            0,
            0,
            0,
            0,
            0,
            0,
            1,
            0,
            0,
            0,
            0,
            490,
            0,
            0,
            1,
            0,
            0,
            0,
            0,
            0,
            0,
            0,
            0,
            0,
            0,
            0,
            0
           ]
          }
         ],
         "name": "2020-02-04"
        },
        {
         "data": [
          {
           "coloraxis": "coloraxis",
           "geo": "geo",
           "hoverlabel": {
            "namelength": 0
           },
           "hovertemplate": "last_update=2020-02-05<br>alpha_code=%{location}<br>deaths=%{z}",
           "locations": [
            "AUS",
            "BEL",
            "KHM",
            "CAN",
            "FIN",
            "FRA",
            "DEU",
            "HKG",
            "IND",
            "ITA",
            "JPN",
            "MAC",
            "CHN",
            "MYS",
            "NPL",
            "PHL",
            "RUS",
            "SGP",
            "KOR",
            "ESP",
            "LKA",
            "SWE",
            "TWN",
            "THA",
            "GBR",
            "USA",
            "ARE",
            "VNM"
           ],
           "name": "",
           "type": "choropleth",
           "z": [
            0,
            0,
            0,
            0,
            0,
            0,
            0,
            1,
            0,
            0,
            0,
            0,
            562,
            0,
            0,
            1,
            0,
            0,
            0,
            0,
            0,
            0,
            0,
            0,
            0,
            0,
            0,
            0
           ]
          }
         ],
         "name": "2020-02-05"
        },
        {
         "data": [
          {
           "coloraxis": "coloraxis",
           "geo": "geo",
           "hoverlabel": {
            "namelength": 0
           },
           "hovertemplate": "last_update=2020-02-06<br>alpha_code=%{location}<br>deaths=%{z}",
           "locations": [
            "AUS",
            "BEL",
            "KHM",
            "CAN",
            "FIN",
            "FRA",
            "DEU",
            "HKG",
            "IND",
            "ITA",
            "JPN",
            "MAC",
            "CHN",
            "MYS",
            "NPL",
            "PHL",
            "RUS",
            "SGP",
            "KOR",
            "ESP",
            "LKA",
            "SWE",
            "TWN",
            "THA",
            "GBR",
            "USA",
            "ARE",
            "VNM"
           ],
           "name": "",
           "type": "choropleth",
           "z": [
            0,
            0,
            0,
            0,
            0,
            0,
            0,
            1,
            0,
            0,
            0,
            0,
            632,
            0,
            0,
            1,
            0,
            0,
            0,
            0,
            0,
            0,
            0,
            0,
            0,
            0,
            0,
            0
           ]
          }
         ],
         "name": "2020-02-06"
        },
        {
         "data": [
          {
           "coloraxis": "coloraxis",
           "geo": "geo",
           "hoverlabel": {
            "namelength": 0
           },
           "hovertemplate": "last_update=2020-02-07<br>alpha_code=%{location}<br>deaths=%{z}",
           "locations": [
            "AUS",
            "BEL",
            "KHM",
            "CAN",
            "FIN",
            "FRA",
            "DEU",
            "HKG",
            "IND",
            "ITA",
            "JPN",
            "MAC",
            "CHN",
            "MYS",
            "NPL",
            null,
            "PHL",
            "RUS",
            "SGP",
            "KOR",
            "ESP",
            "LKA",
            "SWE",
            "TWN",
            "THA",
            "GBR",
            "USA",
            "ARE",
            "VNM"
           ],
           "name": "",
           "type": "choropleth",
           "z": [
            0,
            0,
            0,
            0,
            0,
            0,
            0,
            1,
            0,
            0,
            0,
            0,
            717,
            0,
            0,
            0,
            1,
            0,
            0,
            0,
            0,
            0,
            0,
            0,
            0,
            0,
            0,
            0,
            0
           ]
          }
         ],
         "name": "2020-02-07"
        },
        {
         "data": [
          {
           "coloraxis": "coloraxis",
           "geo": "geo",
           "hoverlabel": {
            "namelength": 0
           },
           "hovertemplate": "last_update=2020-02-08<br>alpha_code=%{location}<br>deaths=%{z}",
           "locations": [
            "AUS",
            "BEL",
            "KHM",
            "CAN",
            "FIN",
            "FRA",
            "DEU",
            "HKG",
            "IND",
            "ITA",
            "JPN",
            "MAC",
            "CHN",
            "MYS",
            "NPL",
            null,
            "PHL",
            "RUS",
            "SGP",
            "KOR",
            "ESP",
            "LKA",
            "SWE",
            "TWN",
            "THA",
            "GBR",
            "USA",
            "ARE",
            "VNM"
           ],
           "name": "",
           "type": "choropleth",
           "z": [
            0,
            0,
            0,
            0,
            0,
            0,
            0,
            1,
            0,
            0,
            0,
            0,
            804,
            0,
            0,
            0,
            1,
            0,
            0,
            0,
            0,
            0,
            0,
            0,
            0,
            0,
            0,
            0,
            0
           ]
          }
         ],
         "name": "2020-02-08"
        },
        {
         "data": [
          {
           "coloraxis": "coloraxis",
           "geo": "geo",
           "hoverlabel": {
            "namelength": 0
           },
           "hovertemplate": "last_update=2020-02-09<br>alpha_code=%{location}<br>deaths=%{z}",
           "locations": [
            "AUS",
            "BEL",
            "KHM",
            "CAN",
            "FIN",
            "FRA",
            "DEU",
            "HKG",
            "IND",
            "ITA",
            "JPN",
            "MAC",
            "CHN",
            "MYS",
            "NPL",
            null,
            "PHL",
            "RUS",
            "SGP",
            "KOR",
            "ESP",
            "LKA",
            "SWE",
            "TWN",
            "THA",
            "GBR",
            "USA",
            "ARE",
            "VNM"
           ],
           "name": "",
           "type": "choropleth",
           "z": [
            0,
            0,
            0,
            0,
            0,
            0,
            0,
            1,
            0,
            0,
            0,
            0,
            904,
            0,
            0,
            0,
            1,
            0,
            0,
            0,
            0,
            0,
            0,
            0,
            0,
            0,
            0,
            0,
            0
           ]
          }
         ],
         "name": "2020-02-09"
        },
        {
         "data": [
          {
           "coloraxis": "coloraxis",
           "geo": "geo",
           "hoverlabel": {
            "namelength": 0
           },
           "hovertemplate": "last_update=2020-02-10<br>alpha_code=%{location}<br>deaths=%{z}",
           "locations": [
            "AUS",
            "BEL",
            "KHM",
            "CAN",
            "FIN",
            "FRA",
            "DEU",
            "HKG",
            "IND",
            "ITA",
            "JPN",
            "MAC",
            "CHN",
            "MYS",
            "NPL",
            null,
            "PHL",
            "RUS",
            "SGP",
            "KOR",
            "ESP",
            "LKA",
            "SWE",
            "TWN",
            "THA",
            "GBR",
            "USA",
            "ARE",
            "VNM"
           ],
           "name": "",
           "type": "choropleth",
           "z": [
            0,
            0,
            0,
            0,
            0,
            0,
            0,
            1,
            0,
            0,
            0,
            0,
            1011,
            0,
            0,
            0,
            1,
            0,
            0,
            0,
            0,
            0,
            0,
            0,
            0,
            0,
            0,
            0,
            0
           ]
          }
         ],
         "name": "2020-02-10"
        },
        {
         "data": [
          {
           "coloraxis": "coloraxis",
           "geo": "geo",
           "hoverlabel": {
            "namelength": 0
           },
           "hovertemplate": "last_update=2020-02-11<br>alpha_code=%{location}<br>deaths=%{z}",
           "locations": [
            "AUS",
            "BEL",
            "KHM",
            "CAN",
            "FIN",
            "FRA",
            "DEU",
            "HKG",
            "IND",
            "ITA",
            "JPN",
            "MAC",
            "CHN",
            "MYS",
            "NPL",
            null,
            "PHL",
            "RUS",
            "SGP",
            "KOR",
            "ESP",
            "LKA",
            "SWE",
            "TWN",
            "THA",
            "GBR",
            "USA",
            "ARE",
            "VNM"
           ],
           "name": "",
           "type": "choropleth",
           "z": [
            0,
            0,
            0,
            0,
            0,
            0,
            0,
            1,
            0,
            0,
            0,
            0,
            1111,
            0,
            0,
            0,
            1,
            0,
            0,
            0,
            0,
            0,
            0,
            0,
            0,
            0,
            0,
            0,
            0
           ]
          }
         ],
         "name": "2020-02-11"
        },
        {
         "data": [
          {
           "coloraxis": "coloraxis",
           "geo": "geo",
           "hoverlabel": {
            "namelength": 0
           },
           "hovertemplate": "last_update=2020-02-12<br>alpha_code=%{location}<br>deaths=%{z}",
           "locations": [
            "AUS",
            "BEL",
            "KHM",
            "CAN",
            "FIN",
            "FRA",
            "DEU",
            "HKG",
            "IND",
            "ITA",
            "JPN",
            "MAC",
            "CHN",
            "MYS",
            "NPL",
            null,
            "PHL",
            "RUS",
            "SGP",
            "KOR",
            "ESP",
            "LKA",
            "SWE",
            "TWN",
            "THA",
            "GBR",
            "USA",
            "ARE",
            "VNM"
           ],
           "name": "",
           "type": "choropleth",
           "z": [
            0,
            0,
            0,
            0,
            0,
            0,
            0,
            1,
            0,
            0,
            0,
            0,
            1116,
            0,
            0,
            0,
            1,
            0,
            0,
            0,
            0,
            0,
            0,
            0,
            0,
            0,
            0,
            0,
            0
           ]
          }
         ],
         "name": "2020-02-12"
        },
        {
         "data": [
          {
           "coloraxis": "coloraxis",
           "geo": "geo",
           "hoverlabel": {
            "namelength": 0
           },
           "hovertemplate": "last_update=2020-02-13<br>alpha_code=%{location}<br>deaths=%{z}",
           "locations": [
            "AUS",
            "BEL",
            "KHM",
            "CAN",
            "FIN",
            "FRA",
            "DEU",
            "HKG",
            "IND",
            "ITA",
            "JPN",
            "MAC",
            "CHN",
            "MYS",
            "NPL",
            null,
            "PHL",
            "RUS",
            "SGP",
            "KOR",
            "ESP",
            "LKA",
            "SWE",
            "TWN",
            "THA",
            "GBR",
            "USA",
            "ARE",
            "VNM"
           ],
           "name": "",
           "type": "choropleth",
           "z": [
            0,
            0,
            0,
            0,
            0,
            0,
            0,
            1,
            0,
            0,
            1,
            0,
            1368,
            0,
            0,
            0,
            1,
            0,
            0,
            0,
            0,
            0,
            0,
            0,
            0,
            0,
            0,
            0,
            0
           ]
          }
         ],
         "name": "2020-02-13"
        },
        {
         "data": [
          {
           "coloraxis": "coloraxis",
           "geo": "geo",
           "hoverlabel": {
            "namelength": 0
           },
           "hovertemplate": "last_update=2020-02-14<br>alpha_code=%{location}<br>deaths=%{z}",
           "locations": [
            "AUS",
            "BEL",
            "KHM",
            "CAN",
            "EGY",
            "FIN",
            "FRA",
            "DEU",
            "HKG",
            "IND",
            "ITA",
            "JPN",
            "MAC",
            "CHN",
            "MYS",
            "NPL",
            null,
            "PHL",
            "RUS",
            "SGP",
            "KOR",
            "ESP",
            "LKA",
            "SWE",
            "TWN",
            "THA",
            "GBR",
            "USA",
            "ARE",
            "VNM"
           ],
           "name": "",
           "type": "choropleth",
           "z": [
            0,
            0,
            0,
            0,
            0,
            0,
            0,
            0,
            1,
            0,
            0,
            1,
            0,
            1520,
            0,
            0,
            0,
            1,
            0,
            0,
            0,
            0,
            0,
            0,
            0,
            0,
            0,
            0,
            0,
            0
           ]
          }
         ],
         "name": "2020-02-14"
        },
        {
         "data": [
          {
           "coloraxis": "coloraxis",
           "geo": "geo",
           "hoverlabel": {
            "namelength": 0
           },
           "hovertemplate": "last_update=2020-02-15<br>alpha_code=%{location}<br>deaths=%{z}",
           "locations": [
            "AUS",
            "BEL",
            "KHM",
            "CAN",
            "EGY",
            "FIN",
            "FRA",
            "DEU",
            "HKG",
            "IND",
            "ITA",
            "JPN",
            "MAC",
            "CHN",
            "MYS",
            "NPL",
            null,
            "PHL",
            "RUS",
            "SGP",
            "KOR",
            "ESP",
            "LKA",
            "SWE",
            "TWN",
            "THA",
            "GBR",
            "USA",
            "ARE",
            "VNM"
           ],
           "name": "",
           "type": "choropleth",
           "z": [
            0,
            0,
            0,
            0,
            0,
            0,
            1,
            0,
            1,
            0,
            0,
            1,
            0,
            1662,
            0,
            0,
            0,
            1,
            0,
            0,
            0,
            0,
            0,
            0,
            0,
            0,
            0,
            0,
            0,
            0
           ]
          }
         ],
         "name": "2020-02-15"
        },
        {
         "data": [
          {
           "coloraxis": "coloraxis",
           "geo": "geo",
           "hoverlabel": {
            "namelength": 0
           },
           "hovertemplate": "last_update=2020-02-16<br>alpha_code=%{location}<br>deaths=%{z}",
           "locations": [
            "AUS",
            "BEL",
            "KHM",
            "CAN",
            "EGY",
            "FIN",
            "FRA",
            "DEU",
            "HKG",
            "IND",
            "ITA",
            "JPN",
            "MAC",
            "CHN",
            "MYS",
            "NPL",
            null,
            "PHL",
            "RUS",
            "SGP",
            "KOR",
            "ESP",
            "LKA",
            "SWE",
            "TWN",
            "THA",
            "GBR",
            "USA",
            "ARE",
            "VNM"
           ],
           "name": "",
           "type": "choropleth",
           "z": [
            0,
            0,
            0,
            0,
            0,
            0,
            1,
            0,
            1,
            0,
            0,
            1,
            0,
            1765,
            0,
            0,
            0,
            1,
            0,
            0,
            0,
            0,
            0,
            0,
            1,
            0,
            0,
            0,
            0,
            0
           ]
          }
         ],
         "name": "2020-02-16"
        },
        {
         "data": [
          {
           "coloraxis": "coloraxis",
           "geo": "geo",
           "hoverlabel": {
            "namelength": 0
           },
           "hovertemplate": "last_update=2020-02-17<br>alpha_code=%{location}<br>deaths=%{z}",
           "locations": [
            "AUS",
            "BEL",
            "KHM",
            "CAN",
            "EGY",
            "FIN",
            "FRA",
            "DEU",
            "HKG",
            "IND",
            "ITA",
            "JPN",
            "MAC",
            "CHN",
            "MYS",
            "NPL",
            null,
            "PHL",
            "RUS",
            "SGP",
            "KOR",
            "ESP",
            "LKA",
            "SWE",
            "TWN",
            "THA",
            "GBR",
            "USA",
            "ARE",
            "VNM"
           ],
           "name": "",
           "type": "choropleth",
           "z": [
            0,
            0,
            0,
            0,
            0,
            0,
            1,
            0,
            1,
            0,
            0,
            1,
            0,
            1863,
            0,
            0,
            0,
            1,
            0,
            0,
            0,
            0,
            0,
            0,
            1,
            0,
            0,
            0,
            0,
            0
           ]
          }
         ],
         "name": "2020-02-17"
        },
        {
         "data": [
          {
           "coloraxis": "coloraxis",
           "geo": "geo",
           "hoverlabel": {
            "namelength": 0
           },
           "hovertemplate": "last_update=2020-02-18<br>alpha_code=%{location}<br>deaths=%{z}",
           "locations": [
            "AUS",
            "BEL",
            "KHM",
            "CAN",
            "EGY",
            "FIN",
            "FRA",
            "DEU",
            "HKG",
            "IND",
            "ITA",
            "JPN",
            "MAC",
            "CHN",
            "MYS",
            "NPL",
            null,
            "PHL",
            "RUS",
            "SGP",
            "KOR",
            "ESP",
            "LKA",
            "SWE",
            "TWN",
            "THA",
            "GBR",
            "USA",
            "ARE",
            "VNM"
           ],
           "name": "",
           "type": "choropleth",
           "z": [
            0,
            0,
            0,
            0,
            0,
            0,
            1,
            0,
            1,
            0,
            0,
            1,
            0,
            2002,
            0,
            0,
            0,
            1,
            0,
            0,
            0,
            0,
            0,
            0,
            1,
            0,
            0,
            0,
            0,
            0
           ]
          }
         ],
         "name": "2020-02-18"
        },
        {
         "data": [
          {
           "coloraxis": "coloraxis",
           "geo": "geo",
           "hoverlabel": {
            "namelength": 0
           },
           "hovertemplate": "last_update=2020-02-19<br>alpha_code=%{location}<br>deaths=%{z}",
           "locations": [
            "AUS",
            "BEL",
            "KHM",
            "CAN",
            "EGY",
            "FIN",
            "FRA",
            "DEU",
            "HKG",
            "IND",
            "IRN",
            "ITA",
            "JPN",
            "MAC",
            "CHN",
            "MYS",
            "NPL",
            null,
            "PHL",
            "RUS",
            "SGP",
            "KOR",
            "ESP",
            "LKA",
            "SWE",
            "TWN",
            "THA",
            "GBR",
            "USA",
            "ARE",
            "VNM"
           ],
           "name": "",
           "type": "choropleth",
           "z": [
            0,
            0,
            0,
            0,
            0,
            0,
            1,
            0,
            2,
            0,
            2,
            0,
            1,
            0,
            2114,
            0,
            0,
            0,
            1,
            0,
            0,
            0,
            0,
            0,
            0,
            1,
            0,
            0,
            0,
            0,
            0
           ]
          }
         ],
         "name": "2020-02-19"
        },
        {
         "data": [
          {
           "coloraxis": "coloraxis",
           "geo": "geo",
           "hoverlabel": {
            "namelength": 0
           },
           "hovertemplate": "last_update=2020-02-20<br>alpha_code=%{location}<br>deaths=%{z}",
           "locations": [
            "AUS",
            "BEL",
            "KHM",
            "CAN",
            "EGY",
            "FIN",
            "FRA",
            "DEU",
            "HKG",
            "IND",
            "IRN",
            "ITA",
            "JPN",
            "MAC",
            "CHN",
            "MYS",
            "NPL",
            null,
            "PHL",
            "RUS",
            "SGP",
            "KOR",
            "ESP",
            "LKA",
            "SWE",
            "TWN",
            "THA",
            "GBR",
            "USA",
            "ARE",
            "VNM"
           ],
           "name": "",
           "type": "choropleth",
           "z": [
            0,
            0,
            0,
            0,
            0,
            0,
            1,
            0,
            2,
            0,
            2,
            0,
            1,
            0,
            2236,
            0,
            0,
            2,
            1,
            0,
            0,
            1,
            0,
            0,
            0,
            1,
            0,
            0,
            0,
            0,
            0
           ]
          }
         ],
         "name": "2020-02-20"
        },
        {
         "data": [
          {
           "coloraxis": "coloraxis",
           "geo": "geo",
           "hoverlabel": {
            "namelength": 0
           },
           "hovertemplate": "last_update=2020-02-21<br>alpha_code=%{location}<br>deaths=%{z}",
           "locations": [
            "AUS",
            "BEL",
            "KHM",
            "CAN",
            "EGY",
            "FIN",
            "FRA",
            "DEU",
            "HKG",
            "IND",
            "IRN",
            "ISR",
            "ITA",
            "JPN",
            "LBN",
            "MAC",
            "CHN",
            "MYS",
            "NPL",
            null,
            "PHL",
            "RUS",
            "SGP",
            "KOR",
            "ESP",
            "LKA",
            "SWE",
            "TWN",
            "THA",
            "GBR",
            "USA",
            "ARE",
            "VNM"
           ],
           "name": "",
           "type": "choropleth",
           "z": [
            0,
            0,
            0,
            0,
            0,
            0,
            1,
            0,
            2,
            0,
            4,
            0,
            1,
            1,
            0,
            0,
            2236,
            0,
            0,
            2,
            1,
            0,
            0,
            2,
            0,
            0,
            0,
            1,
            0,
            0,
            0,
            0,
            0
           ]
          }
         ],
         "name": "2020-02-21"
        },
        {
         "data": [
          {
           "coloraxis": "coloraxis",
           "geo": "geo",
           "hoverlabel": {
            "namelength": 0
           },
           "hovertemplate": "last_update=2020-02-22<br>alpha_code=%{location}<br>deaths=%{z}",
           "locations": [
            "AUS",
            "BEL",
            "KHM",
            "CAN",
            "EGY",
            "FIN",
            "FRA",
            "DEU",
            "HKG",
            "IND",
            "IRN",
            "ISR",
            "ITA",
            "JPN",
            "LBN",
            "MAC",
            "CHN",
            "MYS",
            "NPL",
            null,
            "PHL",
            "RUS",
            "SGP",
            "KOR",
            "ESP",
            "LKA",
            "SWE",
            "TWN",
            "THA",
            "GBR",
            "USA",
            "ARE",
            "VNM"
           ],
           "name": "",
           "type": "choropleth",
           "z": [
            0,
            0,
            0,
            0,
            0,
            0,
            1,
            0,
            2,
            0,
            5,
            0,
            2,
            1,
            0,
            0,
            2441,
            0,
            0,
            2,
            1,
            0,
            0,
            2,
            0,
            0,
            0,
            1,
            0,
            0,
            0,
            0,
            0
           ]
          }
         ],
         "name": "2020-02-22"
        },
        {
         "data": [
          {
           "coloraxis": "coloraxis",
           "geo": "geo",
           "hoverlabel": {
            "namelength": 0
           },
           "hovertemplate": "last_update=2020-02-23<br>alpha_code=%{location}<br>deaths=%{z}",
           "locations": [
            "AUS",
            "BEL",
            "KHM",
            "CAN",
            "EGY",
            "FIN",
            "FRA",
            "DEU",
            "HKG",
            "IND",
            "IRN",
            "IRQ",
            "ISR",
            "ITA",
            "JPN",
            "LBN",
            "MAC",
            "CHN",
            "MYS",
            "NPL",
            null,
            "PHL",
            "RUS",
            "SGP",
            "KOR",
            "ESP",
            "LKA",
            "SWE",
            "TWN",
            "THA",
            "GBR",
            "USA",
            "ARE",
            "VNM"
           ],
           "name": "",
           "type": "choropleth",
           "z": [
            0,
            0,
            0,
            0,
            0,
            0,
            1,
            0,
            2,
            0,
            8,
            0,
            0,
            3,
            1,
            0,
            0,
            2443,
            0,
            0,
            3,
            1,
            0,
            0,
            6,
            0,
            0,
            0,
            1,
            0,
            0,
            0,
            0,
            0
           ]
          }
         ],
         "name": "2020-02-23"
        },
        {
         "data": [
          {
           "coloraxis": "coloraxis",
           "geo": "geo",
           "hoverlabel": {
            "namelength": 0
           },
           "hovertemplate": "last_update=2020-02-24<br>alpha_code=%{location}<br>deaths=%{z}",
           "locations": [
            "AFG",
            "AUS",
            "BHR",
            "BEL",
            "KHM",
            "CAN",
            "EGY",
            "FIN",
            "FRA",
            "DEU",
            "HKG",
            "IND",
            "IRN",
            "IRQ",
            "ISR",
            "ITA",
            "JPN",
            "KWT",
            "LBN",
            "MAC",
            "CHN",
            "MYS",
            "NPL",
            "OMN",
            null,
            "PHL",
            "RUS",
            "SGP",
            "KOR",
            "ESP",
            "LKA",
            "SWE",
            "TWN",
            "THA",
            "GBR",
            "USA",
            "ARE",
            "VNM"
           ],
           "name": "",
           "type": "choropleth",
           "z": [
            0,
            0,
            0,
            0,
            0,
            0,
            0,
            0,
            1,
            0,
            2,
            0,
            12,
            0,
            0,
            7,
            1,
            0,
            0,
            0,
            2593,
            0,
            0,
            0,
            3,
            1,
            0,
            0,
            8,
            0,
            0,
            0,
            1,
            0,
            0,
            0,
            0,
            0
           ]
          }
         ],
         "name": "2020-02-24"
        },
        {
         "data": [
          {
           "coloraxis": "coloraxis",
           "geo": "geo",
           "hoverlabel": {
            "namelength": 0
           },
           "hovertemplate": "last_update=2020-02-25<br>alpha_code=%{location}<br>deaths=%{z}",
           "locations": [
            "AFG",
            "DZA",
            "AUS",
            "AUT",
            "BHR",
            "BEL",
            "KHM",
            "CAN",
            "HRV",
            "EGY",
            "FIN",
            "FRA",
            "DEU",
            "HKG",
            "IND",
            "IRN",
            "IRQ",
            "ISR",
            "ITA",
            "JPN",
            "KWT",
            "LBN",
            "MAC",
            "CHN",
            "MYS",
            "NPL",
            "OMN",
            null,
            "PHL",
            "RUS",
            "SGP",
            "KOR",
            "ESP",
            "LKA",
            "SWE",
            "CHE",
            "TWN",
            "THA",
            "GBR",
            "USA",
            "ARE",
            "VNM"
           ],
           "name": "",
           "type": "choropleth",
           "z": [
            0,
            0,
            0,
            0,
            0,
            0,
            0,
            0,
            0,
            0,
            0,
            1,
            0,
            2,
            0,
            16,
            0,
            0,
            10,
            1,
            0,
            0,
            0,
            2663,
            0,
            0,
            0,
            3,
            1,
            0,
            0,
            10,
            0,
            0,
            0,
            0,
            1,
            0,
            0,
            0,
            0,
            0
           ]
          }
         ],
         "name": "2020-02-25"
        },
        {
         "data": [
          {
           "coloraxis": "coloraxis",
           "geo": "geo",
           "hoverlabel": {
            "namelength": 0
           },
           "hovertemplate": "last_update=2020-02-26<br>alpha_code=%{location}<br>deaths=%{z}",
           "locations": [
            "AFG",
            "DZA",
            "AUS",
            "AUT",
            "BHR",
            "BEL",
            "BRA",
            "KHM",
            "CAN",
            "HRV",
            "EGY",
            "FIN",
            "FRA",
            "GEO",
            "DEU",
            "GRC",
            "HKG",
            "IND",
            "IRN",
            "IRQ",
            "ISR",
            "ITA",
            "JPN",
            "KWT",
            "LBN",
            "MAC",
            "CHN",
            "MYS",
            "NPL",
            "MKD",
            "NOR",
            "OMN",
            null,
            "PAK",
            "PHL",
            "ROU",
            "RUS",
            "SGP",
            "KOR",
            "ESP",
            "LKA",
            "SWE",
            "CHE",
            "TWN",
            "THA",
            "GBR",
            "USA",
            "ARE",
            "VNM"
           ],
           "name": "",
           "type": "choropleth",
           "z": [
            0,
            0,
            0,
            0,
            0,
            0,
            0,
            0,
            0,
            0,
            0,
            0,
            2,
            0,
            0,
            0,
            2,
            0,
            19,
            0,
            0,
            12,
            2,
            0,
            0,
            0,
            2715,
            0,
            0,
            0,
            0,
            0,
            4,
            0,
            1,
            0,
            0,
            0,
            12,
            0,
            0,
            0,
            0,
            1,
            0,
            0,
            0,
            0,
            0
           ]
          }
         ],
         "name": "2020-02-26"
        },
        {
         "data": [
          {
           "coloraxis": "coloraxis",
           "geo": "geo",
           "hoverlabel": {
            "namelength": 0
           },
           "hovertemplate": "last_update=2020-02-27<br>alpha_code=%{location}<br>deaths=%{z}",
           "locations": [
            "AFG",
            "DZA",
            "AUS",
            "AUT",
            "BHR",
            "BEL",
            "BRA",
            "KHM",
            "CAN",
            "HRV",
            "DNK",
            "EGY",
            "EST",
            "FIN",
            "FRA",
            "GEO",
            "DEU",
            "GRC",
            "HKG",
            "IND",
            "IRN",
            "IRQ",
            "ISR",
            "ITA",
            "JPN",
            "KWT",
            "LBN",
            "MAC",
            "CHN",
            "MYS",
            "NPL",
            "NLD",
            "MKD",
            "NOR",
            "OMN",
            null,
            "PAK",
            "PHL",
            "ROU",
            "RUS",
            "SMR",
            "SGP",
            "KOR",
            "ESP",
            "LKA",
            "SWE",
            "CHE",
            "TWN",
            "THA",
            "GBR",
            "USA",
            "ARE",
            "VNM"
           ],
           "name": "",
           "type": "choropleth",
           "z": [
            0,
            0,
            0,
            0,
            0,
            0,
            0,
            0,
            0,
            0,
            0,
            0,
            0,
            0,
            2,
            0,
            0,
            0,
            2,
            0,
            26,
            0,
            0,
            17,
            4,
            0,
            0,
            0,
            2744,
            0,
            0,
            0,
            0,
            0,
            0,
            4,
            0,
            1,
            0,
            0,
            0,
            0,
            13,
            0,
            0,
            0,
            0,
            1,
            0,
            0,
            0,
            0,
            0
           ]
          }
         ],
         "name": "2020-02-27"
        },
        {
         "data": [
          {
           "coloraxis": "coloraxis",
           "geo": "geo",
           "hoverlabel": {
            "namelength": 0
           },
           "hovertemplate": "last_update=2020-02-28<br>alpha_code=%{location}<br>deaths=%{z}",
           "locations": [
            null,
            "AFG",
            "DZA",
            "AUS",
            "AUT",
            "BHR",
            "BLR",
            "BEL",
            "BRA",
            "KHM",
            "CAN",
            "HRV",
            "DNK",
            "EGY",
            "EST",
            "FIN",
            "FRA",
            "GEO",
            "DEU",
            "GRC",
            "HKG",
            "ISL",
            "IND",
            "IRN",
            "IRQ",
            "ISR",
            "ITA",
            "JPN",
            "KWT",
            "LBN",
            "LTU",
            "MAC",
            "CHN",
            "MYS",
            "MEX",
            "NPL",
            "NLD",
            "NZL",
            "NGA",
            null,
            "MKD",
            "NOR",
            "OMN",
            null,
            "PAK",
            "PHL",
            "ROU",
            "RUS",
            "SMR",
            "SGP",
            "KOR",
            "ESP",
            "LKA",
            "SWE",
            "CHE",
            "TWN",
            "THA",
            "GBR",
            "USA",
            "ARE",
            "VNM"
           ],
           "name": "",
           "type": "choropleth",
           "z": [
            0,
            0,
            0,
            0,
            0,
            0,
            0,
            0,
            0,
            0,
            0,
            0,
            0,
            0,
            0,
            0,
            2,
            0,
            0,
            0,
            2,
            0,
            0,
            34,
            0,
            0,
            21,
            4,
            0,
            0,
            0,
            0,
            2788,
            0,
            0,
            0,
            0,
            0,
            0,
            0,
            0,
            0,
            0,
            6,
            0,
            1,
            0,
            0,
            0,
            0,
            13,
            0,
            0,
            0,
            0,
            1,
            0,
            0,
            0,
            0,
            0
           ]
          }
         ],
         "name": "2020-02-28"
        },
        {
         "data": [
          {
           "coloraxis": "coloraxis",
           "geo": "geo",
           "hoverlabel": {
            "namelength": 0
           },
           "hovertemplate": "last_update=2020-02-29<br>alpha_code=%{location}<br>deaths=%{z}",
           "locations": [
            "AFG",
            "DZA",
            "AUS",
            "AUT",
            "BHR",
            "BLR",
            "BEL",
            "BRA",
            "KHM",
            "CAN",
            "HRV",
            "DNK",
            "EGY",
            "EST",
            "FIN",
            "FRA",
            "GEO",
            "DEU",
            "GRC",
            "HKG",
            "ISL",
            "IND",
            "IRN",
            "IRQ",
            "IRL",
            "ISR",
            "ITA",
            "JPN",
            "KWT",
            "LBN",
            "LTU",
            "LUX",
            "MAC",
            "CHN",
            "MYS",
            "MEX",
            "MCO",
            "NPL",
            "NLD",
            "NZL",
            "NGA",
            "MKD",
            "NOR",
            "OMN",
            null,
            "PAK",
            "PHL",
            "QAT",
            "ROU",
            "RUS",
            "SMR",
            "SGP",
            "KOR",
            "ESP",
            "LKA",
            "SWE",
            "CHE",
            "TWN",
            "THA",
            "GBR",
            "USA",
            "ARE",
            "VNM"
           ],
           "name": "",
           "type": "choropleth",
           "z": [
            0,
            0,
            0,
            0,
            0,
            0,
            0,
            0,
            0,
            0,
            0,
            0,
            0,
            0,
            0,
            2,
            0,
            0,
            0,
            2,
            0,
            0,
            43,
            0,
            0,
            0,
            29,
            5,
            0,
            0,
            0,
            0,
            0,
            2835,
            0,
            0,
            0,
            0,
            0,
            0,
            0,
            0,
            0,
            0,
            6,
            0,
            1,
            0,
            0,
            0,
            0,
            0,
            16,
            0,
            0,
            0,
            0,
            1,
            0,
            0,
            1,
            0,
            0
           ]
          }
         ],
         "name": "2020-02-29"
        },
        {
         "data": [
          {
           "coloraxis": "coloraxis",
           "geo": "geo",
           "hoverlabel": {
            "namelength": 0
           },
           "hovertemplate": "last_update=2020-03-01<br>alpha_code=%{location}<br>deaths=%{z}",
           "locations": [
            "AFG",
            "DZA",
            "ARM",
            "AUS",
            "AUT",
            "AZE",
            "BHR",
            "BLR",
            "BEL",
            "BRA",
            "KHM",
            "CAN",
            "HRV",
            "CZE",
            "DNK",
            "DOM",
            "ECU",
            "EGY",
            "EST",
            "FIN",
            "FRA",
            "GEO",
            "DEU",
            "GRC",
            "HKG",
            "ISL",
            "IND",
            "IRN",
            "IRQ",
            "IRL",
            "ISR",
            "ITA",
            "JPN",
            "KWT",
            "LBN",
            "LTU",
            "LUX",
            "MAC",
            "CHN",
            "MYS",
            "MEX",
            "MCO",
            "NPL",
            "NLD",
            "NZL",
            "NGA",
            "MKD",
            "NOR",
            "OMN",
            null,
            "PAK",
            "PHL",
            "QAT",
            "ROU",
            "RUS",
            "SMR",
            "SGP",
            "KOR",
            "ESP",
            "LKA",
            "SWE",
            "CHE",
            "TWN",
            "THA",
            "GBR",
            "USA",
            "ARE",
            "VNM"
           ],
           "name": "",
           "type": "choropleth",
           "z": [
            0,
            0,
            0,
            1,
            0,
            0,
            0,
            0,
            0,
            0,
            0,
            0,
            0,
            0,
            0,
            0,
            0,
            0,
            0,
            0,
            2,
            0,
            0,
            0,
            2,
            0,
            0,
            54,
            0,
            0,
            0,
            34,
            6,
            0,
            0,
            0,
            0,
            0,
            2870,
            0,
            0,
            0,
            0,
            0,
            0,
            0,
            0,
            0,
            0,
            6,
            0,
            1,
            0,
            0,
            0,
            0,
            0,
            17,
            0,
            0,
            0,
            0,
            1,
            1,
            0,
            1,
            0,
            0
           ]
          }
         ],
         "name": "2020-03-01"
        },
        {
         "data": [
          {
           "coloraxis": "coloraxis",
           "geo": "geo",
           "hoverlabel": {
            "namelength": 0
           },
           "hovertemplate": "last_update=2020-03-02<br>alpha_code=%{location}<br>deaths=%{z}",
           "locations": [
            "AFG",
            "DZA",
            "AND",
            "ARM",
            "AUS",
            "AUT",
            "AZE",
            "BHR",
            "BLR",
            "BEL",
            "BRA",
            "KHM",
            "CAN",
            "HRV",
            "CZE",
            "DNK",
            "DOM",
            "ECU",
            "EGY",
            "EST",
            "FIN",
            "FRA",
            "GEO",
            "DEU",
            "GRC",
            "HKG",
            "ISL",
            "IND",
            "IDN",
            "IRN",
            "IRQ",
            "IRL",
            "ISR",
            "ITA",
            "JPN",
            "KWT",
            "LVA",
            "LBN",
            "LTU",
            "LUX",
            "MAC",
            "CHN",
            "MYS",
            "MEX",
            "MCO",
            "MAR",
            "NPL",
            "NLD",
            "NZL",
            "NGA",
            "MKD",
            "NOR",
            "OMN",
            null,
            "PAK",
            "PHL",
            "PRT",
            "QAT",
            "ROU",
            "RUS",
            "SMR",
            "SAU",
            "SEN",
            "SGP",
            "KOR",
            "ESP",
            "LKA",
            "SWE",
            "CHE",
            "TWN",
            "THA",
            "GBR",
            "USA",
            "ARE",
            "VNM"
           ],
           "name": "",
           "type": "choropleth",
           "z": [
            0,
            0,
            0,
            0,
            1,
            0,
            0,
            0,
            0,
            0,
            0,
            0,
            0,
            0,
            0,
            0,
            0,
            0,
            0,
            0,
            0,
            3,
            0,
            0,
            0,
            2,
            0,
            0,
            0,
            66,
            0,
            0,
            0,
            52,
            6,
            0,
            0,
            0,
            0,
            0,
            0,
            2912,
            0,
            0,
            0,
            0,
            0,
            0,
            0,
            0,
            0,
            0,
            0,
            6,
            0,
            1,
            0,
            0,
            0,
            0,
            0,
            0,
            0,
            0,
            28,
            0,
            0,
            0,
            0,
            1,
            1,
            0,
            6,
            0,
            0
           ]
          }
         ],
         "name": "2020-03-02"
        },
        {
         "data": [
          {
           "coloraxis": "coloraxis",
           "geo": "geo",
           "hoverlabel": {
            "namelength": 0
           },
           "hovertemplate": "last_update=2020-03-03<br>alpha_code=%{location}<br>deaths=%{z}",
           "locations": [
            "AFG",
            "DZA",
            "AND",
            "ARG",
            "ARM",
            "AUS",
            "AUT",
            "AZE",
            "BHR",
            "BLR",
            "BEL",
            "BRA",
            "KHM",
            "CAN",
            "CHL",
            "HRV",
            "CZE",
            "DNK",
            "DOM",
            "ECU",
            "EGY",
            "EST",
            "FIN",
            "FRA",
            "GEO",
            "DEU",
            "GRC",
            "HKG",
            "ISL",
            "IND",
            "IDN",
            "IRN",
            "IRQ",
            "IRL",
            "ISR",
            "ITA",
            "JPN",
            "JOR",
            "KWT",
            "LVA",
            "LBN",
            "LTU",
            "LUX",
            "MAC",
            "CHN",
            "MYS",
            "MEX",
            "MCO",
            "MAR",
            "NPL",
            "NLD",
            "NZL",
            "NGA",
            "MKD",
            "NOR",
            "OMN",
            null,
            "PAK",
            "PHL",
            "PRT",
            "QAT",
            "ROU",
            "RUS",
            "SMR",
            "SAU",
            "SEN",
            "SGP",
            "KOR",
            "ESP",
            "LKA",
            "SWE",
            "CHE",
            "TWN",
            "THA",
            "GBR",
            "USA",
            "UKR",
            "ARE",
            "VNM"
           ],
           "name": "",
           "type": "choropleth",
           "z": [
            0,
            0,
            0,
            0,
            0,
            1,
            0,
            0,
            0,
            0,
            0,
            0,
            0,
            0,
            0,
            0,
            0,
            0,
            0,
            0,
            0,
            0,
            0,
            4,
            0,
            0,
            0,
            2,
            0,
            0,
            0,
            77,
            0,
            0,
            0,
            79,
            6,
            0,
            0,
            0,
            0,
            0,
            0,
            0,
            2945,
            0,
            0,
            0,
            0,
            0,
            0,
            0,
            0,
            0,
            0,
            0,
            6,
            0,
            1,
            0,
            0,
            0,
            0,
            1,
            0,
            0,
            0,
            28,
            1,
            0,
            0,
            0,
            1,
            1,
            0,
            7,
            0,
            0,
            0
           ]
          }
         ],
         "name": "2020-03-03"
        },
        {
         "data": [
          {
           "coloraxis": "coloraxis",
           "geo": "geo",
           "hoverlabel": {
            "namelength": 0
           },
           "hovertemplate": "last_update=2020-03-04<br>alpha_code=%{location}<br>deaths=%{z}",
           "locations": [
            "AFG",
            "DZA",
            "AND",
            "ARG",
            "ARM",
            "AUS",
            "AUT",
            "AZE",
            "BHR",
            "BLR",
            "BEL",
            "BRA",
            "KHM",
            "CAN",
            "CHL",
            "HRV",
            "CZE",
            "DNK",
            "DOM",
            "ECU",
            "EGY",
            "EST",
            "FRO",
            "FIN",
            "FRA",
            "GEO",
            "DEU",
            "GIB",
            "GRC",
            "HKG",
            "HUN",
            "ISL",
            "IND",
            "IDN",
            "IRN",
            "IRQ",
            "IRL",
            "ISR",
            "ITA",
            "JPN",
            "JOR",
            "KWT",
            "LVA",
            "LBN",
            "LIE",
            "LTU",
            "LUX",
            "MAC",
            "CHN",
            "MYS",
            "MEX",
            "MCO",
            "MAR",
            "NPL",
            "NLD",
            "NZL",
            "NGA",
            "MKD",
            "NOR",
            "OMN",
            null,
            "PAK",
            "PHL",
            "POL",
            "PRT",
            "QAT",
            "ROU",
            "RUS",
            "BLM",
            "SMR",
            "SAU",
            "SEN",
            "SGP",
            "KOR",
            "ESP",
            "LKA",
            "SWE",
            "CHE",
            "TWN",
            "THA",
            "TUN",
            "GBR",
            "USA",
            "UKR",
            "ARE",
            "VNM"
           ],
           "name": "",
           "type": "choropleth",
           "z": [
            0,
            0,
            0,
            0,
            0,
            2,
            0,
            0,
            0,
            0,
            0,
            0,
            0,
            0,
            0,
            0,
            0,
            0,
            0,
            0,
            0,
            0,
            0,
            0,
            4,
            0,
            0,
            0,
            0,
            2,
            0,
            0,
            0,
            0,
            92,
            2,
            0,
            0,
            107,
            6,
            0,
            0,
            0,
            0,
            0,
            0,
            0,
            0,
            2981,
            0,
            0,
            0,
            0,
            0,
            0,
            0,
            0,
            0,
            0,
            0,
            6,
            0,
            1,
            0,
            0,
            0,
            0,
            0,
            0,
            1,
            0,
            0,
            0,
            35,
            2,
            0,
            0,
            0,
            1,
            1,
            0,
            0,
            11,
            0,
            0,
            0
           ]
          }
         ],
         "name": "2020-03-04"
        },
        {
         "data": [
          {
           "coloraxis": "coloraxis",
           "geo": "geo",
           "hoverlabel": {
            "namelength": 0
           },
           "hovertemplate": "last_update=2020-03-05<br>alpha_code=%{location}<br>deaths=%{z}",
           "locations": [
            "AFG",
            "DZA",
            "AND",
            "ARG",
            "ARM",
            "AUS",
            "AUT",
            "AZE",
            "BHR",
            "BLR",
            "BEL",
            "BIH",
            "BRA",
            "KHM",
            "CAN",
            "CHL",
            "HRV",
            "CZE",
            "DNK",
            "DOM",
            "ECU",
            "EGY",
            "EST",
            "FRO",
            "FIN",
            "FRA",
            "GEO",
            "DEU",
            "GIB",
            "GRC",
            "HKG",
            "HUN",
            "ISL",
            "IND",
            "IDN",
            "IRN",
            "IRQ",
            "IRL",
            "ISR",
            "ITA",
            "JPN",
            "JOR",
            "KWT",
            "LVA",
            "LBN",
            "LIE",
            "LTU",
            "LUX",
            "MAC",
            "CHN",
            "MYS",
            "MEX",
            "MCO",
            "MAR",
            "NPL",
            "NLD",
            "NZL",
            "NGA",
            "MKD",
            "NOR",
            "OMN",
            null,
            "PAK",
            "PSE",
            "PHL",
            "POL",
            "PRT",
            "QAT",
            "ROU",
            "RUS",
            "BLM",
            "SMR",
            "SAU",
            "SEN",
            "SGP",
            "SVN",
            "ZAF",
            "KOR",
            "ESP",
            "LKA",
            "SWE",
            "CHE",
            "TWN",
            "THA",
            "TUN",
            "GBR",
            "USA",
            "UKR",
            "ARE",
            "VNM"
           ],
           "name": "",
           "type": "choropleth",
           "z": [
            0,
            0,
            0,
            0,
            0,
            2,
            0,
            0,
            0,
            0,
            0,
            0,
            0,
            0,
            0,
            0,
            0,
            0,
            0,
            0,
            0,
            0,
            0,
            0,
            0,
            6,
            0,
            0,
            0,
            0,
            2,
            0,
            0,
            0,
            0,
            107,
            2,
            0,
            0,
            148,
            6,
            0,
            0,
            0,
            0,
            0,
            0,
            0,
            0,
            3013,
            0,
            0,
            0,
            0,
            0,
            0,
            0,
            0,
            0,
            0,
            0,
            6,
            0,
            0,
            1,
            0,
            0,
            0,
            0,
            0,
            0,
            1,
            0,
            0,
            0,
            0,
            0,
            35,
            3,
            0,
            0,
            1,
            1,
            1,
            0,
            1,
            12,
            0,
            0,
            0
           ]
          }
         ],
         "name": "2020-03-05"
        },
        {
         "data": [
          {
           "coloraxis": "coloraxis",
           "geo": "geo",
           "hoverlabel": {
            "namelength": 0
           },
           "hovertemplate": "last_update=2020-03-06<br>alpha_code=%{location}<br>deaths=%{z}",
           "locations": [
            "AFG",
            "DZA",
            "AND",
            "ARG",
            "ARM",
            "AUS",
            "AUT",
            "AZE",
            "BHR",
            "BLR",
            "BEL",
            "BTN",
            "BIH",
            "BRA",
            "KHM",
            "CMR",
            "CAN",
            "CHL",
            "COL",
            "CRI",
            "HRV",
            "CZE",
            "DNK",
            "DOM",
            "ECU",
            "EGY",
            "EST",
            "FRO",
            "FIN",
            "FRA",
            "GEO",
            "DEU",
            "GIB",
            "GRC",
            "HKG",
            "HUN",
            "ISL",
            "IND",
            "IDN",
            "IRN",
            "IRQ",
            "IRL",
            "ISR",
            "ITA",
            "JPN",
            "JOR",
            "KWT",
            "LVA",
            "LBN",
            "LIE",
            "LTU",
            "LUX",
            "MAC",
            "CHN",
            "MYS",
            "MEX",
            "MCO",
            "MAR",
            "NPL",
            "NLD",
            "NZL",
            "NGA",
            "MKD",
            "NOR",
            "OMN",
            null,
            "PAK",
            "PSE",
            "PER",
            "PHL",
            "POL",
            "PRT",
            "QAT",
            "ROU",
            "RUS",
            "BLM",
            "SMR",
            "SAU",
            "SEN",
            "SRB",
            "SGP",
            "SVK",
            "SVN",
            "ZAF",
            "KOR",
            "ESP",
            "LKA",
            "SWE",
            "CHE",
            "TWN",
            "THA",
            "TGO",
            "TUN",
            "GBR",
            "USA",
            "UKR",
            "ARE",
            null,
            "VNM"
           ],
           "name": "",
           "type": "choropleth",
           "z": [
            0,
            0,
            0,
            0,
            0,
            2,
            0,
            0,
            0,
            0,
            0,
            0,
            0,
            0,
            0,
            0,
            0,
            0,
            0,
            0,
            0,
            0,
            0,
            0,
            0,
            0,
            0,
            0,
            0,
            9,
            0,
            0,
            0,
            0,
            2,
            0,
            0,
            0,
            0,
            124,
            3,
            0,
            0,
            197,
            6,
            0,
            0,
            0,
            0,
            0,
            0,
            0,
            0,
            3042,
            0,
            0,
            0,
            0,
            0,
            1,
            0,
            0,
            0,
            0,
            0,
            6,
            0,
            0,
            0,
            1,
            0,
            0,
            0,
            0,
            0,
            0,
            1,
            0,
            0,
            0,
            0,
            0,
            0,
            0,
            42,
            5,
            0,
            0,
            1,
            1,
            1,
            0,
            0,
            2,
            14,
            0,
            0,
            0,
            0
           ]
          }
         ],
         "name": "2020-03-06"
        },
        {
         "data": [
          {
           "coloraxis": "coloraxis",
           "geo": "geo",
           "hoverlabel": {
            "namelength": 0
           },
           "hovertemplate": "last_update=2020-03-07<br>alpha_code=%{location}<br>deaths=%{z}",
           "locations": [
            "AFG",
            "DZA",
            "AND",
            "ARG",
            "ARM",
            "AUS",
            "AUT",
            "AZE",
            "BHR",
            "BLR",
            "BEL",
            "BTN",
            "BIH",
            "BRA",
            "KHM",
            "CMR",
            "CAN",
            "CHL",
            "COL",
            "CRI",
            "HRV",
            "CZE",
            "DNK",
            "DOM",
            "ECU",
            "EGY",
            "EST",
            "FRO",
            "FIN",
            "FRA",
            "GUF",
            "GEO",
            "DEU",
            "GIB",
            "GRC",
            "HKG",
            "HUN",
            "ISL",
            "IND",
            "IDN",
            "IRN",
            "IRQ",
            "IRL",
            "ISR",
            "ITA",
            "JPN",
            "JOR",
            "KWT",
            "LVA",
            "LBN",
            "LIE",
            "LTU",
            "LUX",
            "MAC",
            "CHN",
            "MYS",
            "MLT",
            "MTQ",
            "MEX",
            "MCO",
            "MAR",
            "NPL",
            "NLD",
            "NZL",
            "NGA",
            "MKD",
            "NOR",
            "OMN",
            null,
            "PAK",
            "PSE",
            "PER",
            "PHL",
            "POL",
            "PRT",
            "QAT",
            "ROU",
            "RUS",
            "BLM",
            "SMR",
            "SAU",
            "SEN",
            "SRB",
            "SGP",
            "SVK",
            "SVN",
            "ZAF",
            "KOR",
            "ESP",
            "LKA",
            "SWE",
            "CHE",
            "TWN",
            "THA",
            "TGO",
            "TUN",
            "GBR",
            "USA",
            "UKR",
            "ARE",
            null,
            "VNM"
           ],
           "name": "",
           "type": "choropleth",
           "z": [
            0,
            0,
            0,
            0,
            0,
            2,
            0,
            0,
            0,
            0,
            0,
            0,
            0,
            0,
            0,
            0,
            0,
            0,
            0,
            0,
            0,
            0,
            0,
            0,
            0,
            0,
            0,
            0,
            0,
            11,
            0,
            0,
            0,
            0,
            0,
            2,
            0,
            0,
            0,
            0,
            145,
            4,
            0,
            0,
            233,
            6,
            0,
            0,
            0,
            0,
            0,
            0,
            0,
            0,
            3070,
            0,
            0,
            0,
            0,
            0,
            0,
            0,
            1,
            0,
            0,
            0,
            0,
            0,
            6,
            0,
            0,
            0,
            1,
            0,
            0,
            0,
            0,
            0,
            0,
            1,
            0,
            0,
            0,
            0,
            0,
            0,
            0,
            44,
            10,
            0,
            0,
            1,
            1,
            1,
            0,
            0,
            2,
            17,
            0,
            0,
            0,
            0
           ]
          }
         ],
         "name": "2020-03-07"
        },
        {
         "data": [
          {
           "coloraxis": "coloraxis",
           "geo": "geo",
           "hoverlabel": {
            "namelength": 0
           },
           "hovertemplate": "last_update=2020-03-08<br>alpha_code=%{location}<br>deaths=%{z}",
           "locations": [
            "AFG",
            "DZA",
            "AND",
            "ARG",
            "ARM",
            "AUS",
            "AUT",
            "AZE",
            "BHR",
            "BGD",
            "BLR",
            "BEL",
            "BTN",
            "BIH",
            "BRA",
            "BGR",
            "KHM",
            "CMR",
            "CAN",
            "CHL",
            "COL",
            "CRI",
            "HRV",
            "CZE",
            "DNK",
            "DOM",
            "ECU",
            "EGY",
            "EST",
            "FRO",
            "FIN",
            "FRA",
            "GUF",
            "GEO",
            "DEU",
            "GIB",
            "GRC",
            "HKG",
            "HUN",
            "ISL",
            "IND",
            "IDN",
            "IRN",
            "IRQ",
            "IRL",
            "ISR",
            "ITA",
            "JPN",
            "JOR",
            "KWT",
            "LVA",
            "LBN",
            "LIE",
            "LTU",
            "LUX",
            "MAC",
            "CHN",
            "MYS",
            "MDV",
            "MLT",
            "MTQ",
            "MEX",
            null,
            "MCO",
            "MAR",
            "NPL",
            "NLD",
            "NZL",
            "NGA",
            "MKD",
            "NOR",
            "OMN",
            null,
            "PAK",
            "PSE",
            "PRY",
            "PER",
            "PHL",
            "POL",
            "PRT",
            "QAT",
            null,
            "ROU",
            "RUS",
            "BLM",
            "SMR",
            "SAU",
            "SEN",
            "SRB",
            "SGP",
            "SVK",
            "SVN",
            "ZAF",
            "KOR",
            "ESP",
            "LKA",
            "SWE",
            "CHE",
            "TWN",
            "THA",
            "TGO",
            "TUN",
            "GBR",
            "USA",
            "UKR",
            "ARE",
            null,
            "VNM"
           ],
           "name": "",
           "type": "choropleth",
           "z": [
            0,
            0,
            0,
            1,
            0,
            4,
            0,
            0,
            0,
            0,
            0,
            0,
            0,
            0,
            0,
            0,
            0,
            0,
            0,
            0,
            0,
            0,
            0,
            0,
            0,
            0,
            0,
            1,
            0,
            0,
            0,
            19,
            0,
            0,
            0,
            0,
            0,
            3,
            0,
            0,
            0,
            0,
            194,
            6,
            0,
            0,
            366,
            6,
            0,
            0,
            0,
            0,
            0,
            0,
            0,
            0,
            3097,
            0,
            0,
            0,
            0,
            0,
            0,
            0,
            0,
            0,
            3,
            0,
            0,
            0,
            0,
            0,
            6,
            0,
            0,
            0,
            0,
            1,
            0,
            0,
            0,
            0,
            0,
            0,
            0,
            1,
            0,
            0,
            0,
            0,
            0,
            0,
            0,
            50,
            17,
            0,
            0,
            2,
            1,
            1,
            0,
            0,
            3,
            21,
            0,
            0,
            0,
            0
           ]
          }
         ],
         "name": "2020-03-08"
        },
        {
         "data": [
          {
           "coloraxis": "coloraxis",
           "geo": "geo",
           "hoverlabel": {
            "namelength": 0
           },
           "hovertemplate": "last_update=2020-03-09<br>alpha_code=%{location}<br>deaths=%{z}",
           "locations": [
            "AFG",
            "ALB",
            "DZA",
            "AND",
            "ARG",
            "ARM",
            "AUS",
            "AUT",
            "AZE",
            "BHR",
            "BGD",
            "BLR",
            "BEL",
            "BTN",
            "BIH",
            "BRA",
            null,
            "BGR",
            "KHM",
            "CMR",
            "CAN",
            "CHL",
            "COL",
            "CRI",
            "HRV",
            "CYP",
            "CZE",
            "DNK",
            "DOM",
            "ECU",
            "EGY",
            "EST",
            "FRO",
            "FIN",
            "FRA",
            "GUF",
            "GEO",
            "DEU",
            "GIB",
            "GRC",
            "HKG",
            "HUN",
            "ISL",
            "IND",
            "IDN",
            "IRN",
            "IRQ",
            "IRL",
            "ISR",
            "ITA",
            "JPN",
            "JOR",
            "KWT",
            "LVA",
            "LBN",
            "LIE",
            "LTU",
            "LUX",
            "MAC",
            "CHN",
            "MYS",
            "MDV",
            "MLT",
            "MTQ",
            "MEX",
            null,
            "MCO",
            "MAR",
            "NPL",
            "NLD",
            "NZL",
            "NGA",
            "MKD",
            "NOR",
            "OMN",
            null,
            "PAK",
            "PSE",
            "PRY",
            "PER",
            "PHL",
            "POL",
            "PRT",
            "QAT",
            "ROU",
            "RUS",
            "BLM",
            "SMR",
            "SAU",
            "SEN",
            "SRB",
            "SGP",
            "SVK",
            "SVN",
            "ZAF",
            "KOR",
            "ESP",
            "LKA",
            null,
            "SWE",
            "CHE",
            "TWN",
            "THA",
            "TGO",
            "TUN",
            "GBR",
            "USA",
            "UKR",
            "ARE",
            null,
            "VNM"
           ],
           "name": "",
           "type": "choropleth",
           "z": [
            0,
            0,
            0,
            0,
            1,
            0,
            4,
            0,
            0,
            0,
            0,
            0,
            0,
            0,
            0,
            0,
            0,
            0,
            0,
            0,
            1,
            0,
            0,
            0,
            0,
            0,
            0,
            0,
            0,
            0,
            1,
            0,
            0,
            0,
            19,
            0,
            0,
            2,
            0,
            0,
            3,
            0,
            0,
            0,
            0,
            237,
            6,
            0,
            0,
            463,
            17,
            0,
            0,
            0,
            0,
            0,
            0,
            0,
            0,
            3120,
            0,
            0,
            0,
            0,
            0,
            0,
            0,
            0,
            0,
            3,
            0,
            0,
            0,
            0,
            0,
            6,
            0,
            0,
            0,
            0,
            1,
            0,
            0,
            0,
            0,
            0,
            0,
            1,
            0,
            0,
            0,
            0,
            0,
            0,
            0,
            53,
            28,
            0,
            0,
            0,
            2,
            1,
            1,
            0,
            0,
            4,
            22,
            0,
            0,
            0,
            0
           ]
          }
         ],
         "name": "2020-03-09"
        },
        {
         "data": [
          {
           "coloraxis": "coloraxis",
           "geo": "geo",
           "hoverlabel": {
            "namelength": 0
           },
           "hovertemplate": "last_update=2020-03-10<br>alpha_code=%{location}<br>deaths=%{z}",
           "locations": [
            null,
            "AFG",
            "ALB",
            "DZA",
            "AND",
            "ARG",
            "ARM",
            "AUS",
            "AUT",
            "AZE",
            "BHR",
            "BGD",
            "BLR",
            "BEL",
            "BTN",
            "BIH",
            "BRA",
            null,
            "BGR",
            "BFA",
            "KHM",
            "CMR",
            "CAN",
            null,
            "CHL",
            "COL",
            "CRI",
            "HRV",
            "CYP",
            "CZE",
            "DNK",
            "DOM",
            "ECU",
            "EGY",
            "EST",
            "FRO",
            "FIN",
            "FRA",
            "GUF",
            "GEO",
            "DEU",
            "GIB",
            "GRC",
            "VAT",
            "HKG",
            "HUN",
            "ISL",
            "IND",
            "IDN",
            "IRN",
            "IRQ",
            "IRL",
            "ISR",
            "ITA",
            "JPN",
            "JOR",
            "KWT",
            "LVA",
            "LBN",
            "LIE",
            "LTU",
            "LUX",
            "MAC",
            "CHN",
            "MYS",
            "MDV",
            "MLT",
            "MTQ",
            "MEX",
            null,
            "MCO",
            "MNG",
            "MAR",
            "NPL",
            "NLD",
            "NZL",
            "NGA",
            "MKD",
            "NOR",
            "OMN",
            null,
            "PAK",
            "PAN",
            "PRY",
            "PER",
            "PHL",
            "POL",
            "PRT",
            "QAT",
            "ROU",
            "RUS",
            "BLM",
            "SMR",
            "SAU",
            "SEN",
            "SRB",
            "SGP",
            "SVK",
            "SVN",
            "ZAF",
            "KOR",
            "ESP",
            "LKA",
            "SWE",
            "CHE",
            "TWN",
            "THA",
            "TGO",
            "TUN",
            "GBR",
            "USA",
            "UKR",
            "ARE",
            "VNM",
            null
           ],
           "name": "",
           "type": "choropleth",
           "z": [
            0,
            0,
            0,
            0,
            0,
            1,
            0,
            3,
            0,
            0,
            0,
            0,
            0,
            0,
            0,
            0,
            0,
            0,
            0,
            0,
            0,
            0,
            1,
            0,
            0,
            0,
            0,
            0,
            0,
            0,
            0,
            0,
            0,
            1,
            0,
            0,
            0,
            33,
            0,
            0,
            2,
            0,
            0,
            0,
            3,
            0,
            0,
            0,
            0,
            291,
            7,
            0,
            0,
            631,
            10,
            0,
            0,
            0,
            1,
            0,
            0,
            0,
            0,
            3136,
            0,
            0,
            0,
            0,
            0,
            0,
            0,
            0,
            1,
            0,
            4,
            0,
            0,
            0,
            0,
            0,
            6,
            0,
            0,
            0,
            0,
            1,
            0,
            0,
            0,
            0,
            0,
            0,
            2,
            0,
            0,
            0,
            0,
            0,
            0,
            0,
            54,
            35,
            0,
            0,
            3,
            1,
            1,
            0,
            0,
            6,
            28,
            0,
            0,
            0,
            0
           ]
          }
         ],
         "name": "2020-03-10"
        },
        {
         "data": [
          {
           "coloraxis": "coloraxis",
           "geo": "geo",
           "hoverlabel": {
            "namelength": 0
           },
           "hovertemplate": "last_update=2020-03-11<br>alpha_code=%{location}<br>deaths=%{z}",
           "locations": [
            "AFG",
            "ALB",
            "DZA",
            "AND",
            "ARG",
            "ARM",
            "AUS",
            "AUT",
            "AZE",
            "BHR",
            "BGD",
            "BLR",
            "BEL",
            "BTN",
            null,
            "BIH",
            "BRA",
            null,
            "BGR",
            "BFA",
            "KHM",
            "CMR",
            "CAN",
            "CHL",
            "COL",
            null,
            "CRI",
            "HRV",
            "CYP",
            "CZE",
            "DNK",
            "DOM",
            "ECU",
            "EGY",
            "EST",
            "FIN",
            "FRA",
            "GUF",
            "GEO",
            "DEU",
            "GRC",
            "VAT",
            "HND",
            "HKG",
            "HUN",
            "ISL",
            "IND",
            "IDN",
            "IRN",
            "IRQ",
            "IRL",
            "ISR",
            "ITA",
            "CIV",
            "JAM",
            "JPN",
            "JOR",
            "KWT",
            "LVA",
            "LBN",
            "LIE",
            "LTU",
            "LUX",
            "MAC",
            "CHN",
            "MYS",
            "MDV",
            "MLT",
            "MTQ",
            "MEX",
            null,
            "MCO",
            "MNG",
            "MAR",
            "NPL",
            "NLD",
            "NZL",
            "NGA",
            "MKD",
            "NOR",
            "OMN",
            null,
            "PAK",
            "PAN",
            "PRY",
            "PER",
            "PHL",
            "POL",
            "PRT",
            "QAT",
            null,
            "ROU",
            "RUS",
            "SMR",
            "SAU",
            "SEN",
            "SRB",
            "SGP",
            "SVK",
            "SVN",
            "ZAF",
            "KOR",
            "ESP",
            "LKA",
            "SWE",
            "CHE",
            "TWN",
            "THA",
            "TGO",
            "TUN",
            "TUR",
            "GBR",
            "USA",
            "UKR",
            "ARE",
            "VNM",
            null
           ],
           "name": "",
           "type": "choropleth",
           "z": [
            0,
            1,
            0,
            0,
            1,
            0,
            3,
            0,
            0,
            0,
            0,
            0,
            3,
            0,
            0,
            0,
            0,
            0,
            1,
            0,
            0,
            0,
            1,
            0,
            0,
            0,
            0,
            0,
            0,
            0,
            0,
            0,
            0,
            1,
            0,
            0,
            48,
            0,
            0,
            3,
            1,
            0,
            0,
            3,
            0,
            0,
            1,
            1,
            354,
            7,
            1,
            0,
            827,
            0,
            0,
            15,
            0,
            0,
            0,
            3,
            0,
            0,
            0,
            0,
            3158,
            0,
            0,
            0,
            0,
            0,
            0,
            0,
            0,
            1,
            0,
            5,
            0,
            0,
            0,
            0,
            0,
            7,
            0,
            1,
            0,
            0,
            1,
            0,
            0,
            0,
            0,
            0,
            0,
            2,
            0,
            0,
            0,
            0,
            0,
            0,
            0,
            60,
            54,
            0,
            1,
            4,
            1,
            1,
            0,
            0,
            0,
            8,
            36,
            0,
            0,
            0,
            0
           ]
          }
         ],
         "name": "2020-03-11"
        },
        {
         "data": [
          {
           "coloraxis": "coloraxis",
           "geo": "geo",
           "hoverlabel": {
            "namelength": 0
           },
           "hovertemplate": "last_update=2020-03-12<br>alpha_code=%{location}<br>deaths=%{z}",
           "locations": [
            "AFG",
            "ALB",
            "DZA",
            "AND",
            "ARG",
            "ARM",
            "AUS",
            "AUT",
            "AZE",
            "BHR",
            "BGD",
            "BLR",
            "BEL",
            "BTN",
            null,
            "BIH",
            "BRA",
            null,
            "BGR",
            "BFA",
            "KHM",
            "CMR",
            "CAN",
            "CHL",
            "COL",
            null,
            "CRI",
            "HRV",
            "CUB",
            "CYP",
            "CZE",
            "DNK",
            "DOM",
            "ECU",
            "EGY",
            "EST",
            "FIN",
            "FRA",
            "GUF",
            "GEO",
            "DEU",
            "GRC",
            "GUY",
            "VAT",
            "HND",
            "HKG",
            "HUN",
            "ISL",
            "IND",
            "IDN",
            "IRN",
            "IRQ",
            "IRL",
            "ISR",
            "ITA",
            "CIV",
            "JAM",
            "JPN",
            "JOR",
            "KWT",
            "LVA",
            "LBN",
            "LIE",
            "LTU",
            "LUX",
            "MAC",
            "CHN",
            "MYS",
            "MDV",
            "MLT",
            "MTQ",
            "MEX",
            null,
            "MCO",
            "MNG",
            "MAR",
            "NPL",
            "NLD",
            "NZL",
            "NGA",
            "MKD",
            "NOR",
            "OMN",
            null,
            "PAK",
            "PAN",
            "PRY",
            "PER",
            "PHL",
            "POL",
            "PRT",
            "QAT",
            null,
            "ROU",
            "RUS",
            "SMR",
            "SAU",
            "SEN",
            "SRB",
            "SGP",
            "SVK",
            "SVN",
            "ZAF",
            "KOR",
            "ESP",
            "LKA",
            "SWE",
            "CHE",
            "TWN",
            "THA",
            "TGO",
            "TUN",
            "TUR",
            "GBR",
            "USA",
            "UKR",
            "ARE",
            "VNM",
            null
           ],
           "name": "",
           "type": "choropleth",
           "z": [
            0,
            1,
            1,
            0,
            1,
            0,
            3,
            1,
            0,
            0,
            0,
            0,
            3,
            0,
            0,
            0,
            0,
            0,
            1,
            0,
            0,
            0,
            1,
            0,
            0,
            0,
            0,
            0,
            0,
            0,
            0,
            0,
            0,
            0,
            1,
            0,
            0,
            48,
            0,
            0,
            3,
            1,
            1,
            0,
            0,
            3,
            0,
            0,
            1,
            1,
            429,
            8,
            1,
            0,
            827,
            0,
            0,
            16,
            0,
            0,
            0,
            3,
            0,
            0,
            0,
            0,
            3169,
            0,
            0,
            0,
            0,
            0,
            0,
            0,
            0,
            1,
            0,
            5,
            0,
            0,
            0,
            0,
            0,
            7,
            0,
            1,
            0,
            0,
            2,
            1,
            0,
            0,
            0,
            0,
            0,
            3,
            0,
            0,
            0,
            0,
            0,
            0,
            0,
            66,
            55,
            0,
            1,
            4,
            1,
            1,
            0,
            0,
            0,
            8,
            40,
            0,
            0,
            0,
            0
           ]
          }
         ],
         "name": "2020-03-12"
        },
        {
         "data": [
          {
           "coloraxis": "coloraxis",
           "geo": "geo",
           "hoverlabel": {
            "namelength": 0
           },
           "hovertemplate": "last_update=2020-03-13<br>alpha_code=%{location}<br>deaths=%{z}",
           "locations": [
            "AFG",
            "ALB",
            "DZA",
            "AND",
            "ATG",
            "ARG",
            "ARM",
            "ABW",
            "AUS",
            "AUT",
            "AZE",
            "BHR",
            "BGD",
            "BLR",
            "BEL",
            "BTN",
            null,
            "BIH",
            "BRA",
            null,
            "BGR",
            "BFA",
            "KHM",
            "CMR",
            "CAN",
            "CYM",
            "CHL",
            "COL",
            null,
            "CRI",
            "HRV",
            "CUB",
            "CYP",
            "CZE",
            "DNK",
            "DOM",
            "ECU",
            "EGY",
            "EST",
            "ETH",
            "FIN",
            "FRA",
            "GUF",
            "GEO",
            "DEU",
            "GRC",
            "GLP",
            "GIN",
            "GUY",
            "VAT",
            "HND",
            "HKG",
            "HUN",
            "ISL",
            "IND",
            "IDN",
            "IRN",
            "IRQ",
            "IRL",
            "ISR",
            "ITA",
            "CIV",
            "JAM",
            "JPN",
            "JOR",
            "KAZ",
            "KEN",
            "KWT",
            "LVA",
            "LBN",
            "LIE",
            "LTU",
            "LUX",
            "MAC",
            "CHN",
            "MYS",
            "MDV",
            "MLT",
            "MTQ",
            "MEX",
            null,
            "MCO",
            "MNG",
            "MAR",
            "NPL",
            "NLD",
            "NZL",
            "NGA",
            "MKD",
            "NOR",
            "OMN",
            null,
            "PAK",
            "PAN",
            "PRY",
            "PER",
            "PHL",
            "POL",
            "PRT",
            "QAT",
            null,
            "ROU",
            "RUS",
            "SMR",
            "SAU",
            "SEN",
            "SRB",
            "SGP",
            "SVK",
            "SVN",
            "ZAF",
            "KOR",
            "ESP",
            "LKA",
            "SDN",
            "SWE",
            "CHE",
            "TWN",
            "THA",
            "TGO",
            "TUN",
            "TUR",
            "GBR",
            "USA",
            "UKR",
            "ARE",
            "VNM"
           ],
           "name": "",
           "type": "choropleth",
           "z": [
            0,
            1,
            2,
            0,
            0,
            2,
            0,
            0,
            3,
            1,
            1,
            0,
            0,
            0,
            3,
            0,
            0,
            0,
            0,
            0,
            1,
            0,
            0,
            0,
            1,
            0,
            0,
            0,
            0,
            0,
            0,
            0,
            0,
            0,
            0,
            0,
            0,
            2,
            0,
            0,
            0,
            79,
            0,
            0,
            7,
            1,
            0,
            0,
            1,
            0,
            0,
            4,
            0,
            0,
            2,
            4,
            514,
            9,
            1,
            0,
            1266,
            0,
            0,
            19,
            0,
            0,
            0,
            0,
            0,
            3,
            0,
            0,
            0,
            0,
            3176,
            0,
            0,
            0,
            0,
            0,
            0,
            0,
            0,
            1,
            0,
            10,
            0,
            0,
            0,
            0,
            0,
            7,
            0,
            1,
            0,
            0,
            5,
            2,
            0,
            0,
            0,
            0,
            0,
            5,
            0,
            0,
            0,
            0,
            0,
            0,
            0,
            66,
            133,
            0,
            1,
            1,
            11,
            1,
            1,
            0,
            0,
            0,
            8,
            47,
            1,
            0,
            0
           ]
          }
         ],
         "name": "2020-03-13"
        },
        {
         "data": [
          {
           "coloraxis": "coloraxis",
           "geo": "geo",
           "hoverlabel": {
            "namelength": 0
           },
           "hovertemplate": "last_update=2020-03-14<br>alpha_code=%{location}<br>deaths=%{z}",
           "locations": [
            "AFG",
            "ALB",
            "DZA",
            "AND",
            "ATG",
            "ARG",
            "ARM",
            "ABW",
            "AUS",
            "AUT",
            "AZE",
            "BHR",
            "BGD",
            "BLR",
            "BEL",
            "BTN",
            null,
            "BIH",
            "BRA",
            null,
            "BGR",
            "BFA",
            "KHM",
            "CMR",
            "CAN",
            "CYM",
            "CHL",
            "COL",
            null,
            "CRI",
            "HRV",
            "CUB",
            null,
            "CYP",
            "CZE",
            "DNK",
            "DOM",
            "ECU",
            "EGY",
            "EST",
            null,
            "ETH",
            "FIN",
            "FRA",
            "GUF",
            "GAB",
            "GEO",
            "DEU",
            "GHA",
            "GRC",
            "GLP",
            "GTM",
            "GGY",
            "GIN",
            "GUY",
            "VAT",
            "HND",
            "HKG",
            "HUN",
            "ISL",
            "IND",
            "IDN",
            "IRN",
            "IRQ",
            "IRL",
            "ISR",
            "ITA",
            "CIV",
            "JAM",
            "JPN",
            "JEY",
            "JOR",
            "KAZ",
            "KEN",
            "KWT",
            "LVA",
            "LBN",
            "LIE",
            "LTU",
            "LUX",
            "MAC",
            "CHN",
            "MYS",
            "MDV",
            "MLT",
            "MTQ",
            "MRT",
            "MEX",
            null,
            "MCO",
            "MNG",
            "MAR",
            "NAM",
            "NPL",
            "NLD",
            "NZL",
            "NGA",
            "MKD",
            "NOR",
            "OMN",
            null,
            "PAK",
            "PAN",
            "PRY",
            "PER",
            "PHL",
            "POL",
            "PRT",
            "QAT",
            null,
            "ROU",
            "RUS",
            "RWA",
            "LCA",
            "VCT",
            "SMR",
            "SAU",
            "SEN",
            "SRB",
            "SYC",
            "SGP",
            "SVK",
            "SVN",
            "ZAF",
            "KOR",
            "ESP",
            "LKA",
            "SDN",
            "SUR",
            "SWE",
            "CHE",
            "TWN",
            "THA",
            "TGO",
            "TTO",
            "TUN",
            "TUR",
            "GBR",
            "USA",
            "UKR",
            "ARE",
            "URY",
            null,
            "VNM",
            null
           ],
           "name": "",
           "type": "choropleth",
           "z": [
            0,
            1,
            3,
            0,
            0,
            2,
            0,
            0,
            3,
            1,
            1,
            0,
            0,
            0,
            4,
            0,
            0,
            0,
            0,
            0,
            2,
            0,
            0,
            0,
            1,
            0,
            0,
            0,
            0,
            0,
            0,
            0,
            0,
            0,
            0,
            1,
            0,
            2,
            2,
            0,
            0,
            0,
            0,
            91,
            0,
            0,
            0,
            9,
            0,
            3,
            0,
            0,
            0,
            0,
            1,
            0,
            0,
            4,
            0,
            0,
            2,
            5,
            611,
            10,
            2,
            0,
            1441,
            0,
            0,
            22,
            0,
            0,
            0,
            0,
            0,
            0,
            3,
            0,
            0,
            1,
            0,
            3189,
            0,
            0,
            0,
            0,
            0,
            0,
            0,
            0,
            0,
            1,
            0,
            0,
            12,
            0,
            0,
            0,
            3,
            0,
            7,
            0,
            1,
            0,
            0,
            8,
            3,
            0,
            0,
            0,
            0,
            0,
            0,
            0,
            0,
            5,
            0,
            0,
            0,
            0,
            0,
            0,
            1,
            0,
            72,
            195,
            0,
            1,
            0,
            2,
            13,
            1,
            1,
            0,
            0,
            0,
            0,
            21,
            54,
            1,
            0,
            0,
            0,
            0,
            0
           ]
          }
         ],
         "name": "2020-03-14"
        },
        {
         "data": [
          {
           "coloraxis": "coloraxis",
           "geo": "geo",
           "hoverlabel": {
            "namelength": 0
           },
           "hovertemplate": "last_update=2020-03-15<br>alpha_code=%{location}<br>deaths=%{z}",
           "locations": [
            "AFG",
            "ALB",
            "DZA",
            "AND",
            "ATG",
            "ARG",
            "ARM",
            "ABW",
            "AUS",
            "AUT",
            "AZE",
            "BHR",
            "BGD",
            "BLR",
            "BEL",
            "BTN",
            null,
            "BIH",
            "BRA",
            null,
            "BGR",
            "BFA",
            "KHM",
            "CMR",
            "CAN",
            "CYM",
            "CAF",
            "CHL",
            "COL",
            null,
            null,
            "CRI",
            "HRV",
            "CUB",
            null,
            "CYP",
            "CZE",
            "DNK",
            "DOM",
            "ECU",
            "EGY",
            "GNQ",
            "EST",
            null,
            "ETH",
            "FIN",
            "FRA",
            "GAB",
            "GEO",
            "DEU",
            "GHA",
            "GRC",
            "GLP",
            "GTM",
            "GGY",
            "GIN",
            "GUY",
            "VAT",
            "HND",
            "HKG",
            "HUN",
            "ISL",
            "IND",
            "IDN",
            "IRN",
            "IRQ",
            "IRL",
            "ISR",
            "ITA",
            "CIV",
            "JAM",
            "JPN",
            "JEY",
            "JOR",
            "KAZ",
            "KEN",
            null,
            "KWT",
            "LVA",
            "LBN",
            "LIE",
            "LTU",
            "LUX",
            "MAC",
            "CHN",
            "MYS",
            "MDV",
            "MLT",
            "MTQ",
            "MRT",
            "MEX",
            null,
            "MCO",
            "MNG",
            "MAR",
            "NAM",
            "NPL",
            "NLD",
            "NZL",
            "NGA",
            "MKD",
            "NOR",
            "OMN",
            null,
            "PAK",
            "PAN",
            "PRY",
            "PER",
            "PHL",
            "POL",
            "PRT",
            "QAT",
            null,
            "ROU",
            "RUS",
            "RWA",
            "LCA",
            "VCT",
            "SMR",
            "SAU",
            "SEN",
            "SRB",
            "SYC",
            "SGP",
            "SVK",
            "SVN",
            "ZAF",
            "KOR",
            "ESP",
            "LKA",
            "SDN",
            "SUR",
            "SWE",
            "CHE",
            "TWN",
            "THA",
            "TGO",
            "TTO",
            "TUN",
            "TUR",
            "GBR",
            "USA",
            "UKR",
            "ARE",
            "URY",
            "UZB",
            null,
            "VNM",
            null
           ],
           "name": "",
           "type": "choropleth",
           "z": [
            0,
            1,
            4,
            0,
            0,
            2,
            0,
            0,
            3,
            1,
            1,
            0,
            0,
            0,
            4,
            0,
            0,
            0,
            0,
            0,
            2,
            0,
            0,
            0,
            1,
            0,
            0,
            0,
            0,
            0,
            0,
            0,
            0,
            0,
            0,
            0,
            0,
            2,
            0,
            2,
            2,
            0,
            0,
            0,
            0,
            0,
            91,
            0,
            0,
            11,
            0,
            4,
            0,
            0,
            0,
            0,
            1,
            0,
            0,
            4,
            1,
            5,
            2,
            5,
            724,
            10,
            2,
            0,
            1809,
            0,
            0,
            22,
            0,
            0,
            0,
            0,
            0,
            0,
            0,
            3,
            0,
            0,
            1,
            0,
            3199,
            0,
            0,
            0,
            0,
            0,
            0,
            0,
            0,
            0,
            1,
            0,
            0,
            20,
            0,
            0,
            0,
            3,
            0,
            7,
            0,
            1,
            0,
            0,
            11,
            3,
            0,
            0,
            0,
            0,
            0,
            0,
            0,
            0,
            5,
            0,
            0,
            0,
            0,
            0,
            0,
            1,
            0,
            75,
            289,
            0,
            1,
            0,
            3,
            14,
            1,
            1,
            0,
            0,
            0,
            0,
            21,
            63,
            1,
            0,
            0,
            0,
            0,
            0,
            0
           ]
          }
         ],
         "name": "2020-03-15"
        },
        {
         "data": [
          {
           "coloraxis": "coloraxis",
           "geo": "geo",
           "hoverlabel": {
            "namelength": 0
           },
           "hovertemplate": "last_update=2020-03-16<br>alpha_code=%{location}<br>deaths=%{z}",
           "locations": [
            "AFG",
            "ALB",
            "DZA",
            "AND",
            "ATG",
            "ARG",
            "ARM",
            "ABW",
            "AUS",
            "AUT",
            "AZE",
            "BHR",
            "BGD",
            "BLR",
            "BEL",
            "BEN",
            "BTN",
            null,
            "BIH",
            "BRA",
            null,
            "BGR",
            "BFA",
            "KHM",
            "CMR",
            "CAN",
            "CAF",
            "CHL",
            "COL",
            null,
            null,
            "CRI",
            "HRV",
            "CUB",
            "CYP",
            "CZE",
            "DNK",
            "DOM",
            "ECU",
            "EGY",
            "GNQ",
            "EST",
            null,
            "ETH",
            "FIN",
            "FRA",
            "GUF",
            "GAB",
            "GEO",
            "DEU",
            "GHA",
            "GRC",
            "GRL",
            "GLP",
            "GUM",
            "GTM",
            "GGY",
            "GIN",
            "GUY",
            "VAT",
            "HND",
            "HKG",
            "HUN",
            "ISL",
            "IND",
            "IDN",
            "IRN",
            "IRQ",
            "IRL",
            "ISR",
            "ITA",
            "CIV",
            "JAM",
            "JPN",
            "JEY",
            "JOR",
            "KAZ",
            "KEN",
            null,
            "KWT",
            "LVA",
            "LBN",
            "LBR",
            "LIE",
            "LTU",
            "LUX",
            "MAC",
            "CHN",
            "MYS",
            "MDV",
            "MLT",
            "MTQ",
            "MRT",
            "MYT",
            "MEX",
            null,
            "MCO",
            "MNG",
            "MAR",
            "NAM",
            "NPL",
            "NLD",
            "NZL",
            "NGA",
            "MKD",
            "NOR",
            "OMN",
            null,
            "PAK",
            "PAN",
            "PRY",
            "PER",
            "PHL",
            "POL",
            "PRT",
            "PRI",
            "QAT",
            null,
            null,
            "ROU",
            "RUS",
            "RWA",
            "LCA",
            "VCT",
            "SMR",
            "SAU",
            "SEN",
            "SRB",
            "SYC",
            "SGP",
            "SVK",
            "SVN",
            "SOM",
            "ZAF",
            "KOR",
            "ESP",
            "LKA",
            "SDN",
            "SUR",
            "SWE",
            "CHE",
            "TWN",
            null,
            "THA",
            null,
            "TGO",
            "TTO",
            "TUN",
            "TUR",
            "GBR",
            "USA",
            "UKR",
            "ARE",
            "URY",
            "UZB",
            null,
            "VNM",
            null
           ],
           "name": "",
           "type": "choropleth",
           "z": [
            0,
            1,
            4,
            0,
            0,
            2,
            0,
            0,
            3,
            3,
            1,
            1,
            0,
            0,
            5,
            0,
            0,
            0,
            0,
            0,
            0,
            2,
            0,
            0,
            0,
            4,
            0,
            0,
            0,
            0,
            0,
            0,
            0,
            0,
            0,
            0,
            3,
            0,
            2,
            2,
            0,
            0,
            0,
            0,
            0,
            148,
            0,
            0,
            0,
            17,
            0,
            4,
            0,
            0,
            0,
            1,
            0,
            0,
            1,
            0,
            0,
            4,
            1,
            0,
            2,
            5,
            853,
            10,
            2,
            0,
            2158,
            0,
            0,
            27,
            0,
            0,
            0,
            0,
            0,
            0,
            0,
            3,
            0,
            0,
            0,
            1,
            0,
            3213,
            0,
            0,
            0,
            1,
            0,
            0,
            0,
            0,
            0,
            0,
            1,
            0,
            0,
            24,
            0,
            0,
            0,
            3,
            0,
            7,
            0,
            1,
            0,
            0,
            12,
            4,
            0,
            0,
            0,
            0,
            0,
            0,
            0,
            0,
            0,
            0,
            7,
            0,
            0,
            0,
            0,
            0,
            0,
            1,
            0,
            0,
            75,
            342,
            0,
            1,
            0,
            6,
            14,
            1,
            0,
            1,
            0,
            0,
            0,
            0,
            0,
            56,
            85,
            1,
            0,
            0,
            0,
            0,
            0,
            0
           ]
          }
         ],
         "name": "2020-03-16"
        },
        {
         "data": [
          {
           "coloraxis": "coloraxis",
           "geo": "geo",
           "hoverlabel": {
            "namelength": 0
           },
           "hovertemplate": "last_update=2020-03-17<br>alpha_code=%{location}<br>deaths=%{z}",
           "locations": [
            "AFG",
            "ALB",
            "DZA",
            "AND",
            "ATG",
            "ARG",
            "ARM",
            "ABW",
            "AUS",
            "AUT",
            "AZE",
            "BHR",
            "BGD",
            "BRB",
            "BLR",
            "BEL",
            "BEN",
            "BTN",
            null,
            "BIH",
            "BRA",
            null,
            "BGR",
            "BFA",
            "KHM",
            "CMR",
            "CAN",
            "CAF",
            "CHL",
            "COL",
            null,
            null,
            "CRI",
            "HRV",
            "CUB",
            "CYP",
            "CZE",
            "DNK",
            "DOM",
            "ECU",
            "EGY",
            "GNQ",
            "EST",
            null,
            "ETH",
            "FIN",
            "FRA",
            "GUF",
            "GAB",
            "GEO",
            "DEU",
            "GHA",
            "GRC",
            "GRL",
            "GLP",
            "GUM",
            "GTM",
            "GGY",
            "GIN",
            "GUY",
            "VAT",
            "HND",
            "HKG",
            "HUN",
            "ISL",
            "IND",
            "IDN",
            "IRN",
            "IRQ",
            "IRL",
            "ISR",
            "ITA",
            "CIV",
            "JAM",
            "JPN",
            "JEY",
            "JOR",
            "KAZ",
            "KEN",
            null,
            "KWT",
            "LVA",
            "LBN",
            "LBR",
            "LIE",
            "LTU",
            "LUX",
            "MAC",
            "CHN",
            "MYS",
            "MDV",
            "MLT",
            "MTQ",
            "MRT",
            "MYT",
            "MEX",
            null,
            "MCO",
            "MNG",
            "MNE",
            "MAR",
            "NAM",
            "NPL",
            "NLD",
            "NZL",
            "NGA",
            "MKD",
            "NOR",
            "OMN",
            null,
            "PAK",
            "PAN",
            "PRY",
            "PER",
            "PHL",
            "POL",
            "PRT",
            "PRI",
            "QAT",
            null,
            null,
            "ROU",
            "RUS",
            "RWA",
            "LCA",
            "VCT",
            "SMR",
            "SAU",
            "SEN",
            "SRB",
            "SYC",
            "SGP",
            "SVK",
            "SVN",
            "SOM",
            "ZAF",
            "KOR",
            "ESP",
            "LKA",
            "SDN",
            "SUR",
            "SWE",
            "CHE",
            "TWN",
            null,
            "THA",
            null,
            null,
            "TGO",
            "TTO",
            "TUN",
            "TUR",
            "GBR",
            "USA",
            "UKR",
            "ARE",
            "URY",
            "UZB",
            null,
            "VNM",
            null
           ],
           "name": "",
           "type": "choropleth",
           "z": [
            0,
            1,
            4,
            0,
            0,
            2,
            0,
            0,
            5,
            3,
            1,
            1,
            0,
            0,
            0,
            10,
            0,
            0,
            0,
            0,
            1,
            0,
            2,
            0,
            0,
            0,
            5,
            0,
            0,
            0,
            0,
            0,
            0,
            0,
            0,
            0,
            0,
            4,
            1,
            2,
            4,
            0,
            0,
            0,
            0,
            0,
            148,
            0,
            0,
            0,
            24,
            0,
            5,
            0,
            0,
            0,
            1,
            0,
            0,
            1,
            0,
            0,
            4,
            1,
            1,
            3,
            5,
            988,
            11,
            2,
            0,
            2503,
            0,
            0,
            29,
            0,
            0,
            0,
            0,
            0,
            0,
            0,
            3,
            0,
            0,
            0,
            1,
            0,
            3226,
            2,
            0,
            0,
            1,
            0,
            0,
            0,
            0,
            0,
            0,
            0,
            2,
            0,
            0,
            43,
            0,
            0,
            0,
            3,
            0,
            7,
            0,
            1,
            0,
            0,
            12,
            5,
            1,
            0,
            0,
            0,
            0,
            0,
            0,
            0,
            0,
            0,
            7,
            0,
            0,
            0,
            0,
            0,
            0,
            1,
            0,
            0,
            81,
            533,
            0,
            1,
            0,
            7,
            27,
            1,
            0,
            1,
            0,
            0,
            0,
            0,
            0,
            1,
            56,
            108,
            2,
            0,
            0,
            0,
            0,
            0,
            0
           ]
          }
         ],
         "name": "2020-03-17"
        },
        {
         "data": [
          {
           "coloraxis": "coloraxis",
           "geo": "geo",
           "hoverlabel": {
            "namelength": 0
           },
           "hovertemplate": "last_update=2020-03-18<br>alpha_code=%{location}<br>deaths=%{z}",
           "locations": [
            "AFG",
            "ALB",
            "DZA",
            "AND",
            "ATG",
            "ARG",
            "ARM",
            "ABW",
            "AUS",
            "AUT",
            "AZE",
            "BHR",
            "BGD",
            "BRB",
            "BLR",
            "BEL",
            "BEN",
            "BTN",
            null,
            "BIH",
            "BRA",
            null,
            "BGR",
            "BFA",
            "KHM",
            "CMR",
            "CAN",
            "CAF",
            "CHL",
            "COL",
            null,
            null,
            "CRI",
            "HRV",
            "CUB",
            "CYP",
            "CZE",
            "DNK",
            "DJI",
            "DOM",
            "ECU",
            "EGY",
            "GNQ",
            "EST",
            null,
            "ETH",
            "FIN",
            "FRA",
            "GUF",
            "GAB",
            null,
            "GEO",
            "DEU",
            "GHA",
            "GRC",
            "GRL",
            "GLP",
            "GUM",
            "GTM",
            "GGY",
            "GIN",
            "GUY",
            "VAT",
            "HND",
            "HKG",
            "HUN",
            "ISL",
            "IND",
            "IDN",
            "IRN",
            "IRQ",
            "IRL",
            "ISR",
            "ITA",
            "CIV",
            "JAM",
            "JPN",
            "JEY",
            "JOR",
            "KAZ",
            "KEN",
            null,
            "KWT",
            "KGZ",
            "LVA",
            "LBN",
            "LBR",
            "LIE",
            "LTU",
            "LUX",
            "MAC",
            "CHN",
            "MYS",
            "MDV",
            "MLT",
            "MTQ",
            "MRT",
            "MUS",
            "MYT",
            "MEX",
            null,
            "MCO",
            "MNG",
            "MNE",
            "MAR",
            "NAM",
            "NPL",
            "NLD",
            "NZL",
            "NGA",
            "MKD",
            "NOR",
            "OMN",
            null,
            "PAK",
            "PAN",
            "PRY",
            "PER",
            "PHL",
            "POL",
            "PRT",
            "PRI",
            "QAT",
            null,
            null,
            "ROU",
            "RUS",
            "RWA",
            "LCA",
            "VCT",
            "SMR",
            "SAU",
            "SEN",
            "SRB",
            "SYC",
            "SGP",
            "SVK",
            "SVN",
            "SOM",
            "ZAF",
            "KOR",
            "ESP",
            "LKA",
            "SDN",
            "SUR",
            "SWE",
            "CHE",
            "TWN",
            null,
            "THA",
            null,
            null,
            "TGO",
            "TTO",
            "TUN",
            "TUR",
            "GBR",
            "USA",
            "UKR",
            "ARE",
            "URY",
            "UZB",
            null,
            "VNM",
            "ZMB"
           ],
           "name": "",
           "type": "choropleth",
           "z": [
            0,
            2,
            7,
            0,
            0,
            2,
            0,
            0,
            6,
            4,
            1,
            1,
            1,
            0,
            0,
            14,
            0,
            0,
            0,
            0,
            3,
            0,
            2,
            1,
            0,
            0,
            8,
            0,
            0,
            0,
            0,
            0,
            0,
            0,
            1,
            0,
            0,
            4,
            0,
            1,
            2,
            6,
            0,
            0,
            0,
            0,
            0,
            148,
            0,
            0,
            0,
            0,
            28,
            0,
            5,
            0,
            0,
            0,
            1,
            0,
            0,
            1,
            0,
            0,
            4,
            1,
            1,
            3,
            19,
            1135,
            12,
            2,
            0,
            2978,
            0,
            0,
            29,
            0,
            0,
            0,
            0,
            0,
            0,
            0,
            0,
            3,
            0,
            0,
            0,
            2,
            0,
            3237,
            2,
            0,
            0,
            1,
            0,
            0,
            0,
            0,
            1,
            0,
            0,
            0,
            2,
            0,
            0,
            58,
            0,
            0,
            0,
            6,
            0,
            7,
            0,
            1,
            0,
            0,
            19,
            5,
            2,
            0,
            0,
            0,
            0,
            0,
            0,
            0,
            0,
            0,
            11,
            0,
            0,
            0,
            0,
            0,
            1,
            1,
            0,
            0,
            84,
            623,
            0,
            1,
            0,
            10,
            28,
            1,
            0,
            1,
            0,
            0,
            0,
            0,
            0,
            1,
            72,
            118,
            2,
            0,
            0,
            0,
            0,
            0,
            0
           ]
          }
         ],
         "name": "2020-03-18"
        },
        {
         "data": [
          {
           "coloraxis": "coloraxis",
           "geo": "geo",
           "hoverlabel": {
            "namelength": 0
           },
           "hovertemplate": "last_update=2020-03-19<br>alpha_code=%{location}<br>deaths=%{z}",
           "locations": [
            "AFG",
            "ALB",
            "DZA",
            "AND",
            "ATG",
            "ARG",
            "ARM",
            "ABW",
            "AUS",
            "AUT",
            "AZE",
            null,
            "BHR",
            "BGD",
            "BRB",
            "BLR",
            "BEL",
            "BEN",
            "BTN",
            null,
            "BIH",
            "BRA",
            null,
            "BGR",
            "BFA",
            "KHM",
            "CMR",
            "CAN",
            "CAF",
            "TCD",
            "CHL",
            "COL",
            null,
            null,
            "CRI",
            "HRV",
            "CUB",
            "CYP",
            "CZE",
            "DNK",
            "DJI",
            "DOM",
            "ECU",
            "EGY",
            "SLV",
            "GNQ",
            "EST",
            null,
            "ETH",
            "FJI",
            "FIN",
            "FRA",
            "GUF",
            "GAB",
            null,
            "GEO",
            "DEU",
            "GHA",
            "GRC",
            "GRL",
            "GLP",
            "GUM",
            "GTM",
            "GGY",
            "GIN",
            "GUY",
            "VAT",
            "HND",
            "HKG",
            "HUN",
            "ISL",
            "IND",
            "IDN",
            "IRN",
            "IRQ",
            "IRL",
            "ISR",
            "ITA",
            "CIV",
            "JAM",
            "JPN",
            "JEY",
            "JOR",
            "KAZ",
            "KEN",
            null,
            "KWT",
            "KGZ",
            "LVA",
            "LBN",
            "LBR",
            "LIE",
            "LTU",
            "LUX",
            "MAC",
            "CHN",
            "MYS",
            "MDV",
            "MLT",
            "MTQ",
            "MRT",
            "MUS",
            "MYT",
            "MEX",
            null,
            "MCO",
            "MNG",
            "MNE",
            "MAR",
            "NAM",
            "NPL",
            "NLD",
            "NZL",
            "NIC",
            "NGA",
            "MKD",
            "NOR",
            "OMN",
            null,
            "PAK",
            "PAN",
            "PRY",
            "PER",
            "PHL",
            "POL",
            "PRT",
            "PRI",
            "QAT",
            null,
            null,
            "ROU",
            "RUS",
            "RWA",
            "LCA",
            "VCT",
            "SMR",
            "SAU",
            "SEN",
            "SRB",
            "SYC",
            "SGP",
            "SVK",
            "SVN",
            "SOM",
            "ZAF",
            "KOR",
            "ESP",
            "LKA",
            "SDN",
            "SUR",
            "SWE",
            "CHE",
            "TWN",
            null,
            "THA",
            null,
            null,
            "TGO",
            "TTO",
            "TUN",
            "TUR",
            "GBR",
            "USA",
            "UKR",
            "ARE",
            "URY",
            "UZB",
            null,
            "VNM",
            "ZMB"
           ],
           "name": "",
           "type": "choropleth",
           "z": [
            0,
            2,
            9,
            0,
            0,
            3,
            0,
            0,
            6,
            6,
            1,
            0,
            1,
            1,
            0,
            0,
            21,
            0,
            0,
            0,
            0,
            6,
            0,
            3,
            1,
            0,
            0,
            9,
            0,
            0,
            0,
            0,
            0,
            0,
            1,
            1,
            1,
            0,
            0,
            6,
            0,
            2,
            3,
            6,
            0,
            0,
            0,
            0,
            0,
            0,
            0,
            243,
            0,
            0,
            0,
            0,
            44,
            0,
            6,
            0,
            0,
            0,
            1,
            0,
            0,
            1,
            0,
            0,
            4,
            1,
            1,
            4,
            25,
            1284,
            13,
            3,
            0,
            3405,
            0,
            1,
            29,
            0,
            0,
            0,
            0,
            0,
            0,
            0,
            0,
            4,
            0,
            0,
            0,
            4,
            0,
            3245,
            2,
            0,
            0,
            1,
            0,
            0,
            0,
            1,
            1,
            0,
            0,
            0,
            2,
            0,
            0,
            77,
            0,
            0,
            0,
            0,
            7,
            0,
            7,
            2,
            1,
            0,
            0,
            17,
            5,
            3,
            0,
            0,
            0,
            0,
            0,
            1,
            0,
            0,
            0,
            11,
            0,
            0,
            0,
            0,
            0,
            1,
            1,
            0,
            0,
            91,
            830,
            0,
            1,
            0,
            11,
            41,
            1,
            0,
            1,
            0,
            0,
            0,
            0,
            1,
            3,
            138,
            200,
            2,
            0,
            0,
            0,
            0,
            0,
            0
           ]
          }
         ],
         "name": "2020-03-19"
        },
        {
         "data": [
          {
           "coloraxis": "coloraxis",
           "geo": "geo",
           "hoverlabel": {
            "namelength": 0
           },
           "hovertemplate": "last_update=2020-03-20<br>alpha_code=%{location}<br>deaths=%{z}",
           "locations": [
            "AFG",
            "ALB",
            "DZA",
            "AND",
            "AGO",
            "ATG",
            "ARG",
            "ARM",
            "AUS",
            "AUT",
            "AZE",
            null,
            "BHR",
            "BGD",
            "BRB",
            "BLR",
            "BEL",
            "BEN",
            "BTN",
            null,
            "BIH",
            "BRA",
            null,
            "BGR",
            "BFA",
            "CPV",
            "KHM",
            "CMR",
            "CAN",
            "CAF",
            "TCD",
            "CHL",
            "COL",
            null,
            null,
            "CRI",
            "HRV",
            "CUB",
            "CYP",
            "CZE",
            "DNK",
            "DJI",
            "DOM",
            "ECU",
            "EGY",
            "SLV",
            "GNQ",
            "EST",
            null,
            "ETH",
            "FJI",
            "FIN",
            "FRA",
            "GUF",
            "GAB",
            null,
            "GEO",
            "DEU",
            "GHA",
            "GRC",
            "GRL",
            "GLP",
            "GUM",
            "GTM",
            "GGY",
            "GIN",
            "GUY",
            "HTI",
            "VAT",
            "HND",
            "HKG",
            "HUN",
            "ISL",
            "IND",
            "IDN",
            "IRN",
            "IRQ",
            "IRL",
            "ISR",
            "ITA",
            "CIV",
            "JAM",
            "JPN",
            "JEY",
            "JOR",
            "KAZ",
            "KEN",
            null,
            "KWT",
            "KGZ",
            "LVA",
            "LBN",
            "LBR",
            "LIE",
            "LTU",
            "LUX",
            "MAC",
            "MDG",
            "CHN",
            "MYS",
            "MDV",
            "MLT",
            "MTQ",
            "MRT",
            "MUS",
            "MYT",
            "MEX",
            null,
            "MCO",
            "MNG",
            "MNE",
            "MAR",
            "NAM",
            "NPL",
            "NLD",
            "NZL",
            "NIC",
            "NER",
            "NGA",
            "MKD",
            "NOR",
            "OMN",
            null,
            "PAK",
            "PAN",
            "PNG",
            "PRY",
            "PER",
            "PHL",
            "POL",
            "PRT",
            "PRI",
            "QAT",
            null,
            null,
            "ROU",
            "RUS",
            "RWA",
            "LCA",
            "VCT",
            "SMR",
            "SAU",
            "SEN",
            "SRB",
            "SYC",
            "SGP",
            "SVK",
            "SVN",
            "SOM",
            "ZAF",
            "KOR",
            "ESP",
            "LKA",
            "SDN",
            "SUR",
            "SWE",
            "CHE",
            "TWN",
            null,
            "THA",
            null,
            null,
            "TGO",
            "TTO",
            "TUN",
            "TUR",
            "GBR",
            "USA",
            "UKR",
            "ARE",
            "URY",
            "UZB",
            null,
            "VNM",
            "ZMB",
            "ZWE"
           ],
           "name": "",
           "type": "choropleth",
           "z": [
            0,
            2,
            11,
            0,
            0,
            0,
            3,
            0,
            7,
            6,
            1,
            0,
            1,
            1,
            0,
            0,
            37,
            0,
            0,
            0,
            0,
            11,
            0,
            3,
            1,
            0,
            0,
            0,
            12,
            0,
            0,
            0,
            0,
            0,
            0,
            1,
            1,
            1,
            0,
            0,
            9,
            0,
            2,
            5,
            8,
            0,
            0,
            0,
            0,
            0,
            0,
            0,
            450,
            0,
            1,
            0,
            0,
            67,
            0,
            6,
            0,
            0,
            0,
            1,
            0,
            0,
            1,
            0,
            0,
            0,
            4,
            3,
            0,
            5,
            32,
            1433,
            17,
            3,
            0,
            4032,
            0,
            1,
            33,
            0,
            0,
            3,
            0,
            0,
            0,
            0,
            0,
            4,
            0,
            0,
            0,
            4,
            0,
            0,
            3249,
            3,
            0,
            0,
            1,
            0,
            0,
            0,
            1,
            1,
            0,
            0,
            0,
            3,
            0,
            0,
            107,
            0,
            0,
            0,
            0,
            0,
            7,
            0,
            7,
            3,
            1,
            0,
            0,
            3,
            18,
            5,
            6,
            0,
            0,
            0,
            0,
            0,
            1,
            0,
            0,
            0,
            14,
            0,
            0,
            1,
            0,
            0,
            1,
            1,
            0,
            0,
            94,
            1043,
            0,
            1,
            0,
            16,
            54,
            2,
            0,
            1,
            0,
            0,
            0,
            0,
            1,
            4,
            178,
            244,
            3,
            2,
            0,
            0,
            0,
            0,
            0,
            0
           ]
          }
         ],
         "name": "2020-03-20"
        }
       ],
       "layout": {
        "coloraxis": {
         "colorbar": {
          "title": {
           "text": "deaths"
          }
         },
         "colorscale": [
          [
           0,
           "#0d0887"
          ],
          [
           0.1111111111111111,
           "#46039f"
          ],
          [
           0.2222222222222222,
           "#7201a8"
          ],
          [
           0.3333333333333333,
           "#9c179e"
          ],
          [
           0.4444444444444444,
           "#bd3786"
          ],
          [
           0.5555555555555556,
           "#d8576b"
          ],
          [
           0.6666666666666666,
           "#ed7953"
          ],
          [
           0.7777777777777778,
           "#fb9f3a"
          ],
          [
           0.8888888888888888,
           "#fdca26"
          ],
          [
           1,
           "#f0f921"
          ]
         ]
        },
        "geo": {
         "center": {},
         "domain": {
          "x": [
           0,
           1
          ],
          "y": [
           0,
           1
          ]
         },
         "projection": {
          "type": "orthographic"
         }
        },
        "legend": {
         "tracegroupgap": 0
        },
        "margin": {
         "t": 60
        },
        "sliders": [
         {
          "active": 0,
          "currentvalue": {
           "prefix": "last_update="
          },
          "len": 0.9,
          "pad": {
           "b": 10,
           "t": 60
          },
          "steps": [
           {
            "args": [
             [
              "2020-01-22"
             ],
             {
              "frame": {
               "duration": 0,
               "redraw": true
              },
              "fromcurrent": true,
              "mode": "immediate",
              "transition": {
               "duration": 0,
               "easing": "linear"
              }
             }
            ],
            "label": "2020-01-22",
            "method": "animate"
           },
           {
            "args": [
             [
              "2020-01-23"
             ],
             {
              "frame": {
               "duration": 0,
               "redraw": true
              },
              "fromcurrent": true,
              "mode": "immediate",
              "transition": {
               "duration": 0,
               "easing": "linear"
              }
             }
            ],
            "label": "2020-01-23",
            "method": "animate"
           },
           {
            "args": [
             [
              "2020-01-24"
             ],
             {
              "frame": {
               "duration": 0,
               "redraw": true
              },
              "fromcurrent": true,
              "mode": "immediate",
              "transition": {
               "duration": 0,
               "easing": "linear"
              }
             }
            ],
            "label": "2020-01-24",
            "method": "animate"
           },
           {
            "args": [
             [
              "2020-01-25"
             ],
             {
              "frame": {
               "duration": 0,
               "redraw": true
              },
              "fromcurrent": true,
              "mode": "immediate",
              "transition": {
               "duration": 0,
               "easing": "linear"
              }
             }
            ],
            "label": "2020-01-25",
            "method": "animate"
           },
           {
            "args": [
             [
              "2020-01-26"
             ],
             {
              "frame": {
               "duration": 0,
               "redraw": true
              },
              "fromcurrent": true,
              "mode": "immediate",
              "transition": {
               "duration": 0,
               "easing": "linear"
              }
             }
            ],
            "label": "2020-01-26",
            "method": "animate"
           },
           {
            "args": [
             [
              "2020-01-27"
             ],
             {
              "frame": {
               "duration": 0,
               "redraw": true
              },
              "fromcurrent": true,
              "mode": "immediate",
              "transition": {
               "duration": 0,
               "easing": "linear"
              }
             }
            ],
            "label": "2020-01-27",
            "method": "animate"
           },
           {
            "args": [
             [
              "2020-01-28"
             ],
             {
              "frame": {
               "duration": 0,
               "redraw": true
              },
              "fromcurrent": true,
              "mode": "immediate",
              "transition": {
               "duration": 0,
               "easing": "linear"
              }
             }
            ],
            "label": "2020-01-28",
            "method": "animate"
           },
           {
            "args": [
             [
              "2020-01-29"
             ],
             {
              "frame": {
               "duration": 0,
               "redraw": true
              },
              "fromcurrent": true,
              "mode": "immediate",
              "transition": {
               "duration": 0,
               "easing": "linear"
              }
             }
            ],
            "label": "2020-01-29",
            "method": "animate"
           },
           {
            "args": [
             [
              "2020-01-30"
             ],
             {
              "frame": {
               "duration": 0,
               "redraw": true
              },
              "fromcurrent": true,
              "mode": "immediate",
              "transition": {
               "duration": 0,
               "easing": "linear"
              }
             }
            ],
            "label": "2020-01-30",
            "method": "animate"
           },
           {
            "args": [
             [
              "2020-01-31"
             ],
             {
              "frame": {
               "duration": 0,
               "redraw": true
              },
              "fromcurrent": true,
              "mode": "immediate",
              "transition": {
               "duration": 0,
               "easing": "linear"
              }
             }
            ],
            "label": "2020-01-31",
            "method": "animate"
           },
           {
            "args": [
             [
              "2020-02-01"
             ],
             {
              "frame": {
               "duration": 0,
               "redraw": true
              },
              "fromcurrent": true,
              "mode": "immediate",
              "transition": {
               "duration": 0,
               "easing": "linear"
              }
             }
            ],
            "label": "2020-02-01",
            "method": "animate"
           },
           {
            "args": [
             [
              "2020-02-02"
             ],
             {
              "frame": {
               "duration": 0,
               "redraw": true
              },
              "fromcurrent": true,
              "mode": "immediate",
              "transition": {
               "duration": 0,
               "easing": "linear"
              }
             }
            ],
            "label": "2020-02-02",
            "method": "animate"
           },
           {
            "args": [
             [
              "2020-02-03"
             ],
             {
              "frame": {
               "duration": 0,
               "redraw": true
              },
              "fromcurrent": true,
              "mode": "immediate",
              "transition": {
               "duration": 0,
               "easing": "linear"
              }
             }
            ],
            "label": "2020-02-03",
            "method": "animate"
           },
           {
            "args": [
             [
              "2020-02-04"
             ],
             {
              "frame": {
               "duration": 0,
               "redraw": true
              },
              "fromcurrent": true,
              "mode": "immediate",
              "transition": {
               "duration": 0,
               "easing": "linear"
              }
             }
            ],
            "label": "2020-02-04",
            "method": "animate"
           },
           {
            "args": [
             [
              "2020-02-05"
             ],
             {
              "frame": {
               "duration": 0,
               "redraw": true
              },
              "fromcurrent": true,
              "mode": "immediate",
              "transition": {
               "duration": 0,
               "easing": "linear"
              }
             }
            ],
            "label": "2020-02-05",
            "method": "animate"
           },
           {
            "args": [
             [
              "2020-02-06"
             ],
             {
              "frame": {
               "duration": 0,
               "redraw": true
              },
              "fromcurrent": true,
              "mode": "immediate",
              "transition": {
               "duration": 0,
               "easing": "linear"
              }
             }
            ],
            "label": "2020-02-06",
            "method": "animate"
           },
           {
            "args": [
             [
              "2020-02-07"
             ],
             {
              "frame": {
               "duration": 0,
               "redraw": true
              },
              "fromcurrent": true,
              "mode": "immediate",
              "transition": {
               "duration": 0,
               "easing": "linear"
              }
             }
            ],
            "label": "2020-02-07",
            "method": "animate"
           },
           {
            "args": [
             [
              "2020-02-08"
             ],
             {
              "frame": {
               "duration": 0,
               "redraw": true
              },
              "fromcurrent": true,
              "mode": "immediate",
              "transition": {
               "duration": 0,
               "easing": "linear"
              }
             }
            ],
            "label": "2020-02-08",
            "method": "animate"
           },
           {
            "args": [
             [
              "2020-02-09"
             ],
             {
              "frame": {
               "duration": 0,
               "redraw": true
              },
              "fromcurrent": true,
              "mode": "immediate",
              "transition": {
               "duration": 0,
               "easing": "linear"
              }
             }
            ],
            "label": "2020-02-09",
            "method": "animate"
           },
           {
            "args": [
             [
              "2020-02-10"
             ],
             {
              "frame": {
               "duration": 0,
               "redraw": true
              },
              "fromcurrent": true,
              "mode": "immediate",
              "transition": {
               "duration": 0,
               "easing": "linear"
              }
             }
            ],
            "label": "2020-02-10",
            "method": "animate"
           },
           {
            "args": [
             [
              "2020-02-11"
             ],
             {
              "frame": {
               "duration": 0,
               "redraw": true
              },
              "fromcurrent": true,
              "mode": "immediate",
              "transition": {
               "duration": 0,
               "easing": "linear"
              }
             }
            ],
            "label": "2020-02-11",
            "method": "animate"
           },
           {
            "args": [
             [
              "2020-02-12"
             ],
             {
              "frame": {
               "duration": 0,
               "redraw": true
              },
              "fromcurrent": true,
              "mode": "immediate",
              "transition": {
               "duration": 0,
               "easing": "linear"
              }
             }
            ],
            "label": "2020-02-12",
            "method": "animate"
           },
           {
            "args": [
             [
              "2020-02-13"
             ],
             {
              "frame": {
               "duration": 0,
               "redraw": true
              },
              "fromcurrent": true,
              "mode": "immediate",
              "transition": {
               "duration": 0,
               "easing": "linear"
              }
             }
            ],
            "label": "2020-02-13",
            "method": "animate"
           },
           {
            "args": [
             [
              "2020-02-14"
             ],
             {
              "frame": {
               "duration": 0,
               "redraw": true
              },
              "fromcurrent": true,
              "mode": "immediate",
              "transition": {
               "duration": 0,
               "easing": "linear"
              }
             }
            ],
            "label": "2020-02-14",
            "method": "animate"
           },
           {
            "args": [
             [
              "2020-02-15"
             ],
             {
              "frame": {
               "duration": 0,
               "redraw": true
              },
              "fromcurrent": true,
              "mode": "immediate",
              "transition": {
               "duration": 0,
               "easing": "linear"
              }
             }
            ],
            "label": "2020-02-15",
            "method": "animate"
           },
           {
            "args": [
             [
              "2020-02-16"
             ],
             {
              "frame": {
               "duration": 0,
               "redraw": true
              },
              "fromcurrent": true,
              "mode": "immediate",
              "transition": {
               "duration": 0,
               "easing": "linear"
              }
             }
            ],
            "label": "2020-02-16",
            "method": "animate"
           },
           {
            "args": [
             [
              "2020-02-17"
             ],
             {
              "frame": {
               "duration": 0,
               "redraw": true
              },
              "fromcurrent": true,
              "mode": "immediate",
              "transition": {
               "duration": 0,
               "easing": "linear"
              }
             }
            ],
            "label": "2020-02-17",
            "method": "animate"
           },
           {
            "args": [
             [
              "2020-02-18"
             ],
             {
              "frame": {
               "duration": 0,
               "redraw": true
              },
              "fromcurrent": true,
              "mode": "immediate",
              "transition": {
               "duration": 0,
               "easing": "linear"
              }
             }
            ],
            "label": "2020-02-18",
            "method": "animate"
           },
           {
            "args": [
             [
              "2020-02-19"
             ],
             {
              "frame": {
               "duration": 0,
               "redraw": true
              },
              "fromcurrent": true,
              "mode": "immediate",
              "transition": {
               "duration": 0,
               "easing": "linear"
              }
             }
            ],
            "label": "2020-02-19",
            "method": "animate"
           },
           {
            "args": [
             [
              "2020-02-20"
             ],
             {
              "frame": {
               "duration": 0,
               "redraw": true
              },
              "fromcurrent": true,
              "mode": "immediate",
              "transition": {
               "duration": 0,
               "easing": "linear"
              }
             }
            ],
            "label": "2020-02-20",
            "method": "animate"
           },
           {
            "args": [
             [
              "2020-02-21"
             ],
             {
              "frame": {
               "duration": 0,
               "redraw": true
              },
              "fromcurrent": true,
              "mode": "immediate",
              "transition": {
               "duration": 0,
               "easing": "linear"
              }
             }
            ],
            "label": "2020-02-21",
            "method": "animate"
           },
           {
            "args": [
             [
              "2020-02-22"
             ],
             {
              "frame": {
               "duration": 0,
               "redraw": true
              },
              "fromcurrent": true,
              "mode": "immediate",
              "transition": {
               "duration": 0,
               "easing": "linear"
              }
             }
            ],
            "label": "2020-02-22",
            "method": "animate"
           },
           {
            "args": [
             [
              "2020-02-23"
             ],
             {
              "frame": {
               "duration": 0,
               "redraw": true
              },
              "fromcurrent": true,
              "mode": "immediate",
              "transition": {
               "duration": 0,
               "easing": "linear"
              }
             }
            ],
            "label": "2020-02-23",
            "method": "animate"
           },
           {
            "args": [
             [
              "2020-02-24"
             ],
             {
              "frame": {
               "duration": 0,
               "redraw": true
              },
              "fromcurrent": true,
              "mode": "immediate",
              "transition": {
               "duration": 0,
               "easing": "linear"
              }
             }
            ],
            "label": "2020-02-24",
            "method": "animate"
           },
           {
            "args": [
             [
              "2020-02-25"
             ],
             {
              "frame": {
               "duration": 0,
               "redraw": true
              },
              "fromcurrent": true,
              "mode": "immediate",
              "transition": {
               "duration": 0,
               "easing": "linear"
              }
             }
            ],
            "label": "2020-02-25",
            "method": "animate"
           },
           {
            "args": [
             [
              "2020-02-26"
             ],
             {
              "frame": {
               "duration": 0,
               "redraw": true
              },
              "fromcurrent": true,
              "mode": "immediate",
              "transition": {
               "duration": 0,
               "easing": "linear"
              }
             }
            ],
            "label": "2020-02-26",
            "method": "animate"
           },
           {
            "args": [
             [
              "2020-02-27"
             ],
             {
              "frame": {
               "duration": 0,
               "redraw": true
              },
              "fromcurrent": true,
              "mode": "immediate",
              "transition": {
               "duration": 0,
               "easing": "linear"
              }
             }
            ],
            "label": "2020-02-27",
            "method": "animate"
           },
           {
            "args": [
             [
              "2020-02-28"
             ],
             {
              "frame": {
               "duration": 0,
               "redraw": true
              },
              "fromcurrent": true,
              "mode": "immediate",
              "transition": {
               "duration": 0,
               "easing": "linear"
              }
             }
            ],
            "label": "2020-02-28",
            "method": "animate"
           },
           {
            "args": [
             [
              "2020-02-29"
             ],
             {
              "frame": {
               "duration": 0,
               "redraw": true
              },
              "fromcurrent": true,
              "mode": "immediate",
              "transition": {
               "duration": 0,
               "easing": "linear"
              }
             }
            ],
            "label": "2020-02-29",
            "method": "animate"
           },
           {
            "args": [
             [
              "2020-03-01"
             ],
             {
              "frame": {
               "duration": 0,
               "redraw": true
              },
              "fromcurrent": true,
              "mode": "immediate",
              "transition": {
               "duration": 0,
               "easing": "linear"
              }
             }
            ],
            "label": "2020-03-01",
            "method": "animate"
           },
           {
            "args": [
             [
              "2020-03-02"
             ],
             {
              "frame": {
               "duration": 0,
               "redraw": true
              },
              "fromcurrent": true,
              "mode": "immediate",
              "transition": {
               "duration": 0,
               "easing": "linear"
              }
             }
            ],
            "label": "2020-03-02",
            "method": "animate"
           },
           {
            "args": [
             [
              "2020-03-03"
             ],
             {
              "frame": {
               "duration": 0,
               "redraw": true
              },
              "fromcurrent": true,
              "mode": "immediate",
              "transition": {
               "duration": 0,
               "easing": "linear"
              }
             }
            ],
            "label": "2020-03-03",
            "method": "animate"
           },
           {
            "args": [
             [
              "2020-03-04"
             ],
             {
              "frame": {
               "duration": 0,
               "redraw": true
              },
              "fromcurrent": true,
              "mode": "immediate",
              "transition": {
               "duration": 0,
               "easing": "linear"
              }
             }
            ],
            "label": "2020-03-04",
            "method": "animate"
           },
           {
            "args": [
             [
              "2020-03-05"
             ],
             {
              "frame": {
               "duration": 0,
               "redraw": true
              },
              "fromcurrent": true,
              "mode": "immediate",
              "transition": {
               "duration": 0,
               "easing": "linear"
              }
             }
            ],
            "label": "2020-03-05",
            "method": "animate"
           },
           {
            "args": [
             [
              "2020-03-06"
             ],
             {
              "frame": {
               "duration": 0,
               "redraw": true
              },
              "fromcurrent": true,
              "mode": "immediate",
              "transition": {
               "duration": 0,
               "easing": "linear"
              }
             }
            ],
            "label": "2020-03-06",
            "method": "animate"
           },
           {
            "args": [
             [
              "2020-03-07"
             ],
             {
              "frame": {
               "duration": 0,
               "redraw": true
              },
              "fromcurrent": true,
              "mode": "immediate",
              "transition": {
               "duration": 0,
               "easing": "linear"
              }
             }
            ],
            "label": "2020-03-07",
            "method": "animate"
           },
           {
            "args": [
             [
              "2020-03-08"
             ],
             {
              "frame": {
               "duration": 0,
               "redraw": true
              },
              "fromcurrent": true,
              "mode": "immediate",
              "transition": {
               "duration": 0,
               "easing": "linear"
              }
             }
            ],
            "label": "2020-03-08",
            "method": "animate"
           },
           {
            "args": [
             [
              "2020-03-09"
             ],
             {
              "frame": {
               "duration": 0,
               "redraw": true
              },
              "fromcurrent": true,
              "mode": "immediate",
              "transition": {
               "duration": 0,
               "easing": "linear"
              }
             }
            ],
            "label": "2020-03-09",
            "method": "animate"
           },
           {
            "args": [
             [
              "2020-03-10"
             ],
             {
              "frame": {
               "duration": 0,
               "redraw": true
              },
              "fromcurrent": true,
              "mode": "immediate",
              "transition": {
               "duration": 0,
               "easing": "linear"
              }
             }
            ],
            "label": "2020-03-10",
            "method": "animate"
           },
           {
            "args": [
             [
              "2020-03-11"
             ],
             {
              "frame": {
               "duration": 0,
               "redraw": true
              },
              "fromcurrent": true,
              "mode": "immediate",
              "transition": {
               "duration": 0,
               "easing": "linear"
              }
             }
            ],
            "label": "2020-03-11",
            "method": "animate"
           },
           {
            "args": [
             [
              "2020-03-12"
             ],
             {
              "frame": {
               "duration": 0,
               "redraw": true
              },
              "fromcurrent": true,
              "mode": "immediate",
              "transition": {
               "duration": 0,
               "easing": "linear"
              }
             }
            ],
            "label": "2020-03-12",
            "method": "animate"
           },
           {
            "args": [
             [
              "2020-03-13"
             ],
             {
              "frame": {
               "duration": 0,
               "redraw": true
              },
              "fromcurrent": true,
              "mode": "immediate",
              "transition": {
               "duration": 0,
               "easing": "linear"
              }
             }
            ],
            "label": "2020-03-13",
            "method": "animate"
           },
           {
            "args": [
             [
              "2020-03-14"
             ],
             {
              "frame": {
               "duration": 0,
               "redraw": true
              },
              "fromcurrent": true,
              "mode": "immediate",
              "transition": {
               "duration": 0,
               "easing": "linear"
              }
             }
            ],
            "label": "2020-03-14",
            "method": "animate"
           },
           {
            "args": [
             [
              "2020-03-15"
             ],
             {
              "frame": {
               "duration": 0,
               "redraw": true
              },
              "fromcurrent": true,
              "mode": "immediate",
              "transition": {
               "duration": 0,
               "easing": "linear"
              }
             }
            ],
            "label": "2020-03-15",
            "method": "animate"
           },
           {
            "args": [
             [
              "2020-03-16"
             ],
             {
              "frame": {
               "duration": 0,
               "redraw": true
              },
              "fromcurrent": true,
              "mode": "immediate",
              "transition": {
               "duration": 0,
               "easing": "linear"
              }
             }
            ],
            "label": "2020-03-16",
            "method": "animate"
           },
           {
            "args": [
             [
              "2020-03-17"
             ],
             {
              "frame": {
               "duration": 0,
               "redraw": true
              },
              "fromcurrent": true,
              "mode": "immediate",
              "transition": {
               "duration": 0,
               "easing": "linear"
              }
             }
            ],
            "label": "2020-03-17",
            "method": "animate"
           },
           {
            "args": [
             [
              "2020-03-18"
             ],
             {
              "frame": {
               "duration": 0,
               "redraw": true
              },
              "fromcurrent": true,
              "mode": "immediate",
              "transition": {
               "duration": 0,
               "easing": "linear"
              }
             }
            ],
            "label": "2020-03-18",
            "method": "animate"
           },
           {
            "args": [
             [
              "2020-03-19"
             ],
             {
              "frame": {
               "duration": 0,
               "redraw": true
              },
              "fromcurrent": true,
              "mode": "immediate",
              "transition": {
               "duration": 0,
               "easing": "linear"
              }
             }
            ],
            "label": "2020-03-19",
            "method": "animate"
           },
           {
            "args": [
             [
              "2020-03-20"
             ],
             {
              "frame": {
               "duration": 0,
               "redraw": true
              },
              "fromcurrent": true,
              "mode": "immediate",
              "transition": {
               "duration": 0,
               "easing": "linear"
              }
             }
            ],
            "label": "2020-03-20",
            "method": "animate"
           }
          ],
          "x": 0.1,
          "xanchor": "left",
          "y": 0,
          "yanchor": "top"
         }
        ],
        "template": {
         "data": {
          "bar": [
           {
            "error_x": {
             "color": "#2a3f5f"
            },
            "error_y": {
             "color": "#2a3f5f"
            },
            "marker": {
             "line": {
              "color": "#E5ECF6",
              "width": 0.5
             }
            },
            "type": "bar"
           }
          ],
          "barpolar": [
           {
            "marker": {
             "line": {
              "color": "#E5ECF6",
              "width": 0.5
             }
            },
            "type": "barpolar"
           }
          ],
          "carpet": [
           {
            "aaxis": {
             "endlinecolor": "#2a3f5f",
             "gridcolor": "white",
             "linecolor": "white",
             "minorgridcolor": "white",
             "startlinecolor": "#2a3f5f"
            },
            "baxis": {
             "endlinecolor": "#2a3f5f",
             "gridcolor": "white",
             "linecolor": "white",
             "minorgridcolor": "white",
             "startlinecolor": "#2a3f5f"
            },
            "type": "carpet"
           }
          ],
          "choropleth": [
           {
            "colorbar": {
             "outlinewidth": 0,
             "ticks": ""
            },
            "type": "choropleth"
           }
          ],
          "contour": [
           {
            "colorbar": {
             "outlinewidth": 0,
             "ticks": ""
            },
            "colorscale": [
             [
              0,
              "#0d0887"
             ],
             [
              0.1111111111111111,
              "#46039f"
             ],
             [
              0.2222222222222222,
              "#7201a8"
             ],
             [
              0.3333333333333333,
              "#9c179e"
             ],
             [
              0.4444444444444444,
              "#bd3786"
             ],
             [
              0.5555555555555556,
              "#d8576b"
             ],
             [
              0.6666666666666666,
              "#ed7953"
             ],
             [
              0.7777777777777778,
              "#fb9f3a"
             ],
             [
              0.8888888888888888,
              "#fdca26"
             ],
             [
              1,
              "#f0f921"
             ]
            ],
            "type": "contour"
           }
          ],
          "contourcarpet": [
           {
            "colorbar": {
             "outlinewidth": 0,
             "ticks": ""
            },
            "type": "contourcarpet"
           }
          ],
          "heatmap": [
           {
            "colorbar": {
             "outlinewidth": 0,
             "ticks": ""
            },
            "colorscale": [
             [
              0,
              "#0d0887"
             ],
             [
              0.1111111111111111,
              "#46039f"
             ],
             [
              0.2222222222222222,
              "#7201a8"
             ],
             [
              0.3333333333333333,
              "#9c179e"
             ],
             [
              0.4444444444444444,
              "#bd3786"
             ],
             [
              0.5555555555555556,
              "#d8576b"
             ],
             [
              0.6666666666666666,
              "#ed7953"
             ],
             [
              0.7777777777777778,
              "#fb9f3a"
             ],
             [
              0.8888888888888888,
              "#fdca26"
             ],
             [
              1,
              "#f0f921"
             ]
            ],
            "type": "heatmap"
           }
          ],
          "heatmapgl": [
           {
            "colorbar": {
             "outlinewidth": 0,
             "ticks": ""
            },
            "colorscale": [
             [
              0,
              "#0d0887"
             ],
             [
              0.1111111111111111,
              "#46039f"
             ],
             [
              0.2222222222222222,
              "#7201a8"
             ],
             [
              0.3333333333333333,
              "#9c179e"
             ],
             [
              0.4444444444444444,
              "#bd3786"
             ],
             [
              0.5555555555555556,
              "#d8576b"
             ],
             [
              0.6666666666666666,
              "#ed7953"
             ],
             [
              0.7777777777777778,
              "#fb9f3a"
             ],
             [
              0.8888888888888888,
              "#fdca26"
             ],
             [
              1,
              "#f0f921"
             ]
            ],
            "type": "heatmapgl"
           }
          ],
          "histogram": [
           {
            "marker": {
             "colorbar": {
              "outlinewidth": 0,
              "ticks": ""
             }
            },
            "type": "histogram"
           }
          ],
          "histogram2d": [
           {
            "colorbar": {
             "outlinewidth": 0,
             "ticks": ""
            },
            "colorscale": [
             [
              0,
              "#0d0887"
             ],
             [
              0.1111111111111111,
              "#46039f"
             ],
             [
              0.2222222222222222,
              "#7201a8"
             ],
             [
              0.3333333333333333,
              "#9c179e"
             ],
             [
              0.4444444444444444,
              "#bd3786"
             ],
             [
              0.5555555555555556,
              "#d8576b"
             ],
             [
              0.6666666666666666,
              "#ed7953"
             ],
             [
              0.7777777777777778,
              "#fb9f3a"
             ],
             [
              0.8888888888888888,
              "#fdca26"
             ],
             [
              1,
              "#f0f921"
             ]
            ],
            "type": "histogram2d"
           }
          ],
          "histogram2dcontour": [
           {
            "colorbar": {
             "outlinewidth": 0,
             "ticks": ""
            },
            "colorscale": [
             [
              0,
              "#0d0887"
             ],
             [
              0.1111111111111111,
              "#46039f"
             ],
             [
              0.2222222222222222,
              "#7201a8"
             ],
             [
              0.3333333333333333,
              "#9c179e"
             ],
             [
              0.4444444444444444,
              "#bd3786"
             ],
             [
              0.5555555555555556,
              "#d8576b"
             ],
             [
              0.6666666666666666,
              "#ed7953"
             ],
             [
              0.7777777777777778,
              "#fb9f3a"
             ],
             [
              0.8888888888888888,
              "#fdca26"
             ],
             [
              1,
              "#f0f921"
             ]
            ],
            "type": "histogram2dcontour"
           }
          ],
          "mesh3d": [
           {
            "colorbar": {
             "outlinewidth": 0,
             "ticks": ""
            },
            "type": "mesh3d"
           }
          ],
          "parcoords": [
           {
            "line": {
             "colorbar": {
              "outlinewidth": 0,
              "ticks": ""
             }
            },
            "type": "parcoords"
           }
          ],
          "pie": [
           {
            "automargin": true,
            "type": "pie"
           }
          ],
          "scatter": [
           {
            "marker": {
             "colorbar": {
              "outlinewidth": 0,
              "ticks": ""
             }
            },
            "type": "scatter"
           }
          ],
          "scatter3d": [
           {
            "line": {
             "colorbar": {
              "outlinewidth": 0,
              "ticks": ""
             }
            },
            "marker": {
             "colorbar": {
              "outlinewidth": 0,
              "ticks": ""
             }
            },
            "type": "scatter3d"
           }
          ],
          "scattercarpet": [
           {
            "marker": {
             "colorbar": {
              "outlinewidth": 0,
              "ticks": ""
             }
            },
            "type": "scattercarpet"
           }
          ],
          "scattergeo": [
           {
            "marker": {
             "colorbar": {
              "outlinewidth": 0,
              "ticks": ""
             }
            },
            "type": "scattergeo"
           }
          ],
          "scattergl": [
           {
            "marker": {
             "colorbar": {
              "outlinewidth": 0,
              "ticks": ""
             }
            },
            "type": "scattergl"
           }
          ],
          "scattermapbox": [
           {
            "marker": {
             "colorbar": {
              "outlinewidth": 0,
              "ticks": ""
             }
            },
            "type": "scattermapbox"
           }
          ],
          "scatterpolar": [
           {
            "marker": {
             "colorbar": {
              "outlinewidth": 0,
              "ticks": ""
             }
            },
            "type": "scatterpolar"
           }
          ],
          "scatterpolargl": [
           {
            "marker": {
             "colorbar": {
              "outlinewidth": 0,
              "ticks": ""
             }
            },
            "type": "scatterpolargl"
           }
          ],
          "scatterternary": [
           {
            "marker": {
             "colorbar": {
              "outlinewidth": 0,
              "ticks": ""
             }
            },
            "type": "scatterternary"
           }
          ],
          "surface": [
           {
            "colorbar": {
             "outlinewidth": 0,
             "ticks": ""
            },
            "colorscale": [
             [
              0,
              "#0d0887"
             ],
             [
              0.1111111111111111,
              "#46039f"
             ],
             [
              0.2222222222222222,
              "#7201a8"
             ],
             [
              0.3333333333333333,
              "#9c179e"
             ],
             [
              0.4444444444444444,
              "#bd3786"
             ],
             [
              0.5555555555555556,
              "#d8576b"
             ],
             [
              0.6666666666666666,
              "#ed7953"
             ],
             [
              0.7777777777777778,
              "#fb9f3a"
             ],
             [
              0.8888888888888888,
              "#fdca26"
             ],
             [
              1,
              "#f0f921"
             ]
            ],
            "type": "surface"
           }
          ],
          "table": [
           {
            "cells": {
             "fill": {
              "color": "#EBF0F8"
             },
             "line": {
              "color": "white"
             }
            },
            "header": {
             "fill": {
              "color": "#C8D4E3"
             },
             "line": {
              "color": "white"
             }
            },
            "type": "table"
           }
          ]
         },
         "layout": {
          "annotationdefaults": {
           "arrowcolor": "#2a3f5f",
           "arrowhead": 0,
           "arrowwidth": 1
          },
          "coloraxis": {
           "colorbar": {
            "outlinewidth": 0,
            "ticks": ""
           }
          },
          "colorscale": {
           "diverging": [
            [
             0,
             "#8e0152"
            ],
            [
             0.1,
             "#c51b7d"
            ],
            [
             0.2,
             "#de77ae"
            ],
            [
             0.3,
             "#f1b6da"
            ],
            [
             0.4,
             "#fde0ef"
            ],
            [
             0.5,
             "#f7f7f7"
            ],
            [
             0.6,
             "#e6f5d0"
            ],
            [
             0.7,
             "#b8e186"
            ],
            [
             0.8,
             "#7fbc41"
            ],
            [
             0.9,
             "#4d9221"
            ],
            [
             1,
             "#276419"
            ]
           ],
           "sequential": [
            [
             0,
             "#0d0887"
            ],
            [
             0.1111111111111111,
             "#46039f"
            ],
            [
             0.2222222222222222,
             "#7201a8"
            ],
            [
             0.3333333333333333,
             "#9c179e"
            ],
            [
             0.4444444444444444,
             "#bd3786"
            ],
            [
             0.5555555555555556,
             "#d8576b"
            ],
            [
             0.6666666666666666,
             "#ed7953"
            ],
            [
             0.7777777777777778,
             "#fb9f3a"
            ],
            [
             0.8888888888888888,
             "#fdca26"
            ],
            [
             1,
             "#f0f921"
            ]
           ],
           "sequentialminus": [
            [
             0,
             "#0d0887"
            ],
            [
             0.1111111111111111,
             "#46039f"
            ],
            [
             0.2222222222222222,
             "#7201a8"
            ],
            [
             0.3333333333333333,
             "#9c179e"
            ],
            [
             0.4444444444444444,
             "#bd3786"
            ],
            [
             0.5555555555555556,
             "#d8576b"
            ],
            [
             0.6666666666666666,
             "#ed7953"
            ],
            [
             0.7777777777777778,
             "#fb9f3a"
            ],
            [
             0.8888888888888888,
             "#fdca26"
            ],
            [
             1,
             "#f0f921"
            ]
           ]
          },
          "colorway": [
           "#636efa",
           "#EF553B",
           "#00cc96",
           "#ab63fa",
           "#FFA15A",
           "#19d3f3",
           "#FF6692",
           "#B6E880",
           "#FF97FF",
           "#FECB52"
          ],
          "font": {
           "color": "#2a3f5f"
          },
          "geo": {
           "bgcolor": "white",
           "lakecolor": "white",
           "landcolor": "#E5ECF6",
           "showlakes": true,
           "showland": true,
           "subunitcolor": "white"
          },
          "hoverlabel": {
           "align": "left"
          },
          "hovermode": "closest",
          "mapbox": {
           "style": "light"
          },
          "paper_bgcolor": "white",
          "plot_bgcolor": "#E5ECF6",
          "polar": {
           "angularaxis": {
            "gridcolor": "white",
            "linecolor": "white",
            "ticks": ""
           },
           "bgcolor": "#E5ECF6",
           "radialaxis": {
            "gridcolor": "white",
            "linecolor": "white",
            "ticks": ""
           }
          },
          "scene": {
           "xaxis": {
            "backgroundcolor": "#E5ECF6",
            "gridcolor": "white",
            "gridwidth": 2,
            "linecolor": "white",
            "showbackground": true,
            "ticks": "",
            "zerolinecolor": "white"
           },
           "yaxis": {
            "backgroundcolor": "#E5ECF6",
            "gridcolor": "white",
            "gridwidth": 2,
            "linecolor": "white",
            "showbackground": true,
            "ticks": "",
            "zerolinecolor": "white"
           },
           "zaxis": {
            "backgroundcolor": "#E5ECF6",
            "gridcolor": "white",
            "gridwidth": 2,
            "linecolor": "white",
            "showbackground": true,
            "ticks": "",
            "zerolinecolor": "white"
           }
          },
          "shapedefaults": {
           "line": {
            "color": "#2a3f5f"
           }
          },
          "ternary": {
           "aaxis": {
            "gridcolor": "white",
            "linecolor": "white",
            "ticks": ""
           },
           "baxis": {
            "gridcolor": "white",
            "linecolor": "white",
            "ticks": ""
           },
           "bgcolor": "#E5ECF6",
           "caxis": {
            "gridcolor": "white",
            "linecolor": "white",
            "ticks": ""
           }
          },
          "title": {
           "x": 0.05
          },
          "xaxis": {
           "automargin": true,
           "gridcolor": "white",
           "linecolor": "white",
           "ticks": "",
           "title": {
            "standoff": 15
           },
           "zerolinecolor": "white",
           "zerolinewidth": 2
          },
          "yaxis": {
           "automargin": true,
           "gridcolor": "white",
           "linecolor": "white",
           "ticks": "",
           "title": {
            "standoff": 15
           },
           "zerolinecolor": "white",
           "zerolinewidth": 2
          }
         }
        },
        "updatemenus": [
         {
          "buttons": [
           {
            "args": [
             null,
             {
              "frame": {
               "duration": 500,
               "redraw": true
              },
              "fromcurrent": true,
              "mode": "immediate",
              "transition": {
               "duration": 500,
               "easing": "linear"
              }
             }
            ],
            "label": "&#9654;",
            "method": "animate"
           },
           {
            "args": [
             [
              null
             ],
             {
              "frame": {
               "duration": 0,
               "redraw": true
              },
              "fromcurrent": true,
              "mode": "immediate",
              "transition": {
               "duration": 0,
               "easing": "linear"
              }
             }
            ],
            "label": "&#9724;",
            "method": "animate"
           }
          ],
          "direction": "left",
          "pad": {
           "r": 10,
           "t": 70
          },
          "showactive": false,
          "type": "buttons",
          "x": 0.1,
          "xanchor": "right",
          "y": 0,
          "yanchor": "top"
         }
        ]
       }
      },
      "text/html": [
       "<div>\n",
       "        \n",
       "        \n",
       "            <div id=\"1dac5640-d0da-459c-afd5-261be6219e0a\" class=\"plotly-graph-div\" style=\"height:525px; width:100%;\"></div>\n",
       "            <script type=\"text/javascript\">\n",
       "                require([\"plotly\"], function(Plotly) {\n",
       "                    window.PLOTLYENV=window.PLOTLYENV || {};\n",
       "                    \n",
       "                if (document.getElementById(\"1dac5640-d0da-459c-afd5-261be6219e0a\")) {\n",
       "                    Plotly.newPlot(\n",
       "                        '1dac5640-d0da-459c-afd5-261be6219e0a',\n",
       "                        [{\"coloraxis\": \"coloraxis\", \"geo\": \"geo\", \"hoverlabel\": {\"namelength\": 0}, \"hovertemplate\": \"last_update=2020-01-22<br>alpha_code=%{location}<br>deaths=%{z}\", \"locations\": [\"HKG\", \"JPN\", \"MAC\", \"CHN\", \"KOR\", \"TWN\", \"THA\", \"USA\"], \"name\": \"\", \"type\": \"choropleth\", \"z\": [0.0, 0.0, 0.0, 17.0, 0.0, 0.0, 0.0, 0.0]}],\n",
       "                        {\"coloraxis\": {\"colorbar\": {\"title\": {\"text\": \"deaths\"}}, \"colorscale\": [[0.0, \"#0d0887\"], [0.1111111111111111, \"#46039f\"], [0.2222222222222222, \"#7201a8\"], [0.3333333333333333, \"#9c179e\"], [0.4444444444444444, \"#bd3786\"], [0.5555555555555556, \"#d8576b\"], [0.6666666666666666, \"#ed7953\"], [0.7777777777777778, \"#fb9f3a\"], [0.8888888888888888, \"#fdca26\"], [1.0, \"#f0f921\"]]}, \"geo\": {\"center\": {}, \"domain\": {\"x\": [0.0, 1.0], \"y\": [0.0, 1.0]}, \"projection\": {\"type\": \"orthographic\"}}, \"legend\": {\"tracegroupgap\": 0}, \"margin\": {\"t\": 60}, \"sliders\": [{\"active\": 0, \"currentvalue\": {\"prefix\": \"last_update=\"}, \"len\": 0.9, \"pad\": {\"b\": 10, \"t\": 60}, \"steps\": [{\"args\": [[\"2020-01-22\"], {\"frame\": {\"duration\": 0, \"redraw\": true}, \"fromcurrent\": true, \"mode\": \"immediate\", \"transition\": {\"duration\": 0, \"easing\": \"linear\"}}], \"label\": \"2020-01-22\", \"method\": \"animate\"}, {\"args\": [[\"2020-01-23\"], {\"frame\": {\"duration\": 0, \"redraw\": true}, \"fromcurrent\": true, \"mode\": \"immediate\", \"transition\": {\"duration\": 0, \"easing\": \"linear\"}}], \"label\": \"2020-01-23\", \"method\": \"animate\"}, {\"args\": [[\"2020-01-24\"], {\"frame\": {\"duration\": 0, \"redraw\": true}, \"fromcurrent\": true, \"mode\": \"immediate\", \"transition\": {\"duration\": 0, \"easing\": \"linear\"}}], \"label\": \"2020-01-24\", \"method\": \"animate\"}, {\"args\": [[\"2020-01-25\"], {\"frame\": {\"duration\": 0, \"redraw\": true}, \"fromcurrent\": true, \"mode\": \"immediate\", \"transition\": {\"duration\": 0, \"easing\": \"linear\"}}], \"label\": \"2020-01-25\", \"method\": \"animate\"}, {\"args\": [[\"2020-01-26\"], {\"frame\": {\"duration\": 0, \"redraw\": true}, \"fromcurrent\": true, \"mode\": \"immediate\", \"transition\": {\"duration\": 0, \"easing\": \"linear\"}}], \"label\": \"2020-01-26\", \"method\": \"animate\"}, {\"args\": [[\"2020-01-27\"], {\"frame\": {\"duration\": 0, \"redraw\": true}, \"fromcurrent\": true, \"mode\": \"immediate\", \"transition\": {\"duration\": 0, \"easing\": \"linear\"}}], \"label\": \"2020-01-27\", \"method\": \"animate\"}, {\"args\": [[\"2020-01-28\"], {\"frame\": {\"duration\": 0, \"redraw\": true}, \"fromcurrent\": true, \"mode\": \"immediate\", \"transition\": {\"duration\": 0, \"easing\": \"linear\"}}], \"label\": \"2020-01-28\", \"method\": \"animate\"}, {\"args\": [[\"2020-01-29\"], {\"frame\": {\"duration\": 0, \"redraw\": true}, \"fromcurrent\": true, \"mode\": \"immediate\", \"transition\": {\"duration\": 0, \"easing\": \"linear\"}}], \"label\": \"2020-01-29\", \"method\": \"animate\"}, {\"args\": [[\"2020-01-30\"], {\"frame\": {\"duration\": 0, \"redraw\": true}, \"fromcurrent\": true, \"mode\": \"immediate\", \"transition\": {\"duration\": 0, \"easing\": \"linear\"}}], \"label\": \"2020-01-30\", \"method\": \"animate\"}, {\"args\": [[\"2020-01-31\"], {\"frame\": {\"duration\": 0, \"redraw\": true}, \"fromcurrent\": true, \"mode\": \"immediate\", \"transition\": {\"duration\": 0, \"easing\": \"linear\"}}], \"label\": \"2020-01-31\", \"method\": \"animate\"}, {\"args\": [[\"2020-02-01\"], {\"frame\": {\"duration\": 0, \"redraw\": true}, \"fromcurrent\": true, \"mode\": \"immediate\", \"transition\": {\"duration\": 0, \"easing\": \"linear\"}}], \"label\": \"2020-02-01\", \"method\": \"animate\"}, {\"args\": [[\"2020-02-02\"], {\"frame\": {\"duration\": 0, \"redraw\": true}, \"fromcurrent\": true, \"mode\": \"immediate\", \"transition\": {\"duration\": 0, \"easing\": \"linear\"}}], \"label\": \"2020-02-02\", \"method\": \"animate\"}, {\"args\": [[\"2020-02-03\"], {\"frame\": {\"duration\": 0, \"redraw\": true}, \"fromcurrent\": true, \"mode\": \"immediate\", \"transition\": {\"duration\": 0, \"easing\": \"linear\"}}], \"label\": \"2020-02-03\", \"method\": \"animate\"}, {\"args\": [[\"2020-02-04\"], {\"frame\": {\"duration\": 0, \"redraw\": true}, \"fromcurrent\": true, \"mode\": \"immediate\", \"transition\": {\"duration\": 0, \"easing\": \"linear\"}}], \"label\": \"2020-02-04\", \"method\": \"animate\"}, {\"args\": [[\"2020-02-05\"], {\"frame\": {\"duration\": 0, \"redraw\": true}, \"fromcurrent\": true, \"mode\": \"immediate\", \"transition\": {\"duration\": 0, \"easing\": \"linear\"}}], \"label\": \"2020-02-05\", \"method\": \"animate\"}, {\"args\": [[\"2020-02-06\"], {\"frame\": {\"duration\": 0, \"redraw\": true}, \"fromcurrent\": true, \"mode\": \"immediate\", \"transition\": {\"duration\": 0, \"easing\": \"linear\"}}], \"label\": \"2020-02-06\", \"method\": \"animate\"}, {\"args\": [[\"2020-02-07\"], {\"frame\": {\"duration\": 0, \"redraw\": true}, \"fromcurrent\": true, \"mode\": \"immediate\", \"transition\": {\"duration\": 0, \"easing\": \"linear\"}}], \"label\": \"2020-02-07\", \"method\": \"animate\"}, {\"args\": [[\"2020-02-08\"], {\"frame\": {\"duration\": 0, \"redraw\": true}, \"fromcurrent\": true, \"mode\": \"immediate\", \"transition\": {\"duration\": 0, \"easing\": \"linear\"}}], \"label\": \"2020-02-08\", \"method\": \"animate\"}, {\"args\": [[\"2020-02-09\"], {\"frame\": {\"duration\": 0, \"redraw\": true}, \"fromcurrent\": true, \"mode\": \"immediate\", \"transition\": {\"duration\": 0, \"easing\": \"linear\"}}], \"label\": \"2020-02-09\", \"method\": \"animate\"}, {\"args\": [[\"2020-02-10\"], {\"frame\": {\"duration\": 0, \"redraw\": true}, \"fromcurrent\": true, \"mode\": \"immediate\", \"transition\": {\"duration\": 0, \"easing\": \"linear\"}}], \"label\": \"2020-02-10\", \"method\": \"animate\"}, {\"args\": [[\"2020-02-11\"], {\"frame\": {\"duration\": 0, \"redraw\": true}, \"fromcurrent\": true, \"mode\": \"immediate\", \"transition\": {\"duration\": 0, \"easing\": \"linear\"}}], \"label\": \"2020-02-11\", \"method\": \"animate\"}, {\"args\": [[\"2020-02-12\"], {\"frame\": {\"duration\": 0, \"redraw\": true}, \"fromcurrent\": true, \"mode\": \"immediate\", \"transition\": {\"duration\": 0, \"easing\": \"linear\"}}], \"label\": \"2020-02-12\", \"method\": \"animate\"}, {\"args\": [[\"2020-02-13\"], {\"frame\": {\"duration\": 0, \"redraw\": true}, \"fromcurrent\": true, \"mode\": \"immediate\", \"transition\": {\"duration\": 0, \"easing\": \"linear\"}}], \"label\": \"2020-02-13\", \"method\": \"animate\"}, {\"args\": [[\"2020-02-14\"], {\"frame\": {\"duration\": 0, \"redraw\": true}, \"fromcurrent\": true, \"mode\": \"immediate\", \"transition\": {\"duration\": 0, \"easing\": \"linear\"}}], \"label\": \"2020-02-14\", \"method\": \"animate\"}, {\"args\": [[\"2020-02-15\"], {\"frame\": {\"duration\": 0, \"redraw\": true}, \"fromcurrent\": true, \"mode\": \"immediate\", \"transition\": {\"duration\": 0, \"easing\": \"linear\"}}], \"label\": \"2020-02-15\", \"method\": \"animate\"}, {\"args\": [[\"2020-02-16\"], {\"frame\": {\"duration\": 0, \"redraw\": true}, \"fromcurrent\": true, \"mode\": \"immediate\", \"transition\": {\"duration\": 0, \"easing\": \"linear\"}}], \"label\": \"2020-02-16\", \"method\": \"animate\"}, {\"args\": [[\"2020-02-17\"], {\"frame\": {\"duration\": 0, \"redraw\": true}, \"fromcurrent\": true, \"mode\": \"immediate\", \"transition\": {\"duration\": 0, \"easing\": \"linear\"}}], \"label\": \"2020-02-17\", \"method\": \"animate\"}, {\"args\": [[\"2020-02-18\"], {\"frame\": {\"duration\": 0, \"redraw\": true}, \"fromcurrent\": true, \"mode\": \"immediate\", \"transition\": {\"duration\": 0, \"easing\": \"linear\"}}], \"label\": \"2020-02-18\", \"method\": \"animate\"}, {\"args\": [[\"2020-02-19\"], {\"frame\": {\"duration\": 0, \"redraw\": true}, \"fromcurrent\": true, \"mode\": \"immediate\", \"transition\": {\"duration\": 0, \"easing\": \"linear\"}}], \"label\": \"2020-02-19\", \"method\": \"animate\"}, {\"args\": [[\"2020-02-20\"], {\"frame\": {\"duration\": 0, \"redraw\": true}, \"fromcurrent\": true, \"mode\": \"immediate\", \"transition\": {\"duration\": 0, \"easing\": \"linear\"}}], \"label\": \"2020-02-20\", \"method\": \"animate\"}, {\"args\": [[\"2020-02-21\"], {\"frame\": {\"duration\": 0, \"redraw\": true}, \"fromcurrent\": true, \"mode\": \"immediate\", \"transition\": {\"duration\": 0, \"easing\": \"linear\"}}], \"label\": \"2020-02-21\", \"method\": \"animate\"}, {\"args\": [[\"2020-02-22\"], {\"frame\": {\"duration\": 0, \"redraw\": true}, \"fromcurrent\": true, \"mode\": \"immediate\", \"transition\": {\"duration\": 0, \"easing\": \"linear\"}}], \"label\": \"2020-02-22\", \"method\": \"animate\"}, {\"args\": [[\"2020-02-23\"], {\"frame\": {\"duration\": 0, \"redraw\": true}, \"fromcurrent\": true, \"mode\": \"immediate\", \"transition\": {\"duration\": 0, \"easing\": \"linear\"}}], \"label\": \"2020-02-23\", \"method\": \"animate\"}, {\"args\": [[\"2020-02-24\"], {\"frame\": {\"duration\": 0, \"redraw\": true}, \"fromcurrent\": true, \"mode\": \"immediate\", \"transition\": {\"duration\": 0, \"easing\": \"linear\"}}], \"label\": \"2020-02-24\", \"method\": \"animate\"}, {\"args\": [[\"2020-02-25\"], {\"frame\": {\"duration\": 0, \"redraw\": true}, \"fromcurrent\": true, \"mode\": \"immediate\", \"transition\": {\"duration\": 0, \"easing\": \"linear\"}}], \"label\": \"2020-02-25\", \"method\": \"animate\"}, {\"args\": [[\"2020-02-26\"], {\"frame\": {\"duration\": 0, \"redraw\": true}, \"fromcurrent\": true, \"mode\": \"immediate\", \"transition\": {\"duration\": 0, \"easing\": \"linear\"}}], \"label\": \"2020-02-26\", \"method\": \"animate\"}, {\"args\": [[\"2020-02-27\"], {\"frame\": {\"duration\": 0, \"redraw\": true}, \"fromcurrent\": true, \"mode\": \"immediate\", \"transition\": {\"duration\": 0, \"easing\": \"linear\"}}], \"label\": \"2020-02-27\", \"method\": \"animate\"}, {\"args\": [[\"2020-02-28\"], {\"frame\": {\"duration\": 0, \"redraw\": true}, \"fromcurrent\": true, \"mode\": \"immediate\", \"transition\": {\"duration\": 0, \"easing\": \"linear\"}}], \"label\": \"2020-02-28\", \"method\": \"animate\"}, {\"args\": [[\"2020-02-29\"], {\"frame\": {\"duration\": 0, \"redraw\": true}, \"fromcurrent\": true, \"mode\": \"immediate\", \"transition\": {\"duration\": 0, \"easing\": \"linear\"}}], \"label\": \"2020-02-29\", \"method\": \"animate\"}, {\"args\": [[\"2020-03-01\"], {\"frame\": {\"duration\": 0, \"redraw\": true}, \"fromcurrent\": true, \"mode\": \"immediate\", \"transition\": {\"duration\": 0, \"easing\": \"linear\"}}], \"label\": \"2020-03-01\", \"method\": \"animate\"}, {\"args\": [[\"2020-03-02\"], {\"frame\": {\"duration\": 0, \"redraw\": true}, \"fromcurrent\": true, \"mode\": \"immediate\", \"transition\": {\"duration\": 0, \"easing\": \"linear\"}}], \"label\": \"2020-03-02\", \"method\": \"animate\"}, {\"args\": [[\"2020-03-03\"], {\"frame\": {\"duration\": 0, \"redraw\": true}, \"fromcurrent\": true, \"mode\": \"immediate\", \"transition\": {\"duration\": 0, \"easing\": \"linear\"}}], \"label\": \"2020-03-03\", \"method\": \"animate\"}, {\"args\": [[\"2020-03-04\"], {\"frame\": {\"duration\": 0, \"redraw\": true}, \"fromcurrent\": true, \"mode\": \"immediate\", \"transition\": {\"duration\": 0, \"easing\": \"linear\"}}], \"label\": \"2020-03-04\", \"method\": \"animate\"}, {\"args\": [[\"2020-03-05\"], {\"frame\": {\"duration\": 0, \"redraw\": true}, \"fromcurrent\": true, \"mode\": \"immediate\", \"transition\": {\"duration\": 0, \"easing\": \"linear\"}}], \"label\": \"2020-03-05\", \"method\": \"animate\"}, {\"args\": [[\"2020-03-06\"], {\"frame\": {\"duration\": 0, \"redraw\": true}, \"fromcurrent\": true, \"mode\": \"immediate\", \"transition\": {\"duration\": 0, \"easing\": \"linear\"}}], \"label\": \"2020-03-06\", \"method\": \"animate\"}, {\"args\": [[\"2020-03-07\"], {\"frame\": {\"duration\": 0, \"redraw\": true}, \"fromcurrent\": true, \"mode\": \"immediate\", \"transition\": {\"duration\": 0, \"easing\": \"linear\"}}], \"label\": \"2020-03-07\", \"method\": \"animate\"}, {\"args\": [[\"2020-03-08\"], {\"frame\": {\"duration\": 0, \"redraw\": true}, \"fromcurrent\": true, \"mode\": \"immediate\", \"transition\": {\"duration\": 0, \"easing\": \"linear\"}}], \"label\": \"2020-03-08\", \"method\": \"animate\"}, {\"args\": [[\"2020-03-09\"], {\"frame\": {\"duration\": 0, \"redraw\": true}, \"fromcurrent\": true, \"mode\": \"immediate\", \"transition\": {\"duration\": 0, \"easing\": \"linear\"}}], \"label\": \"2020-03-09\", \"method\": \"animate\"}, {\"args\": [[\"2020-03-10\"], {\"frame\": {\"duration\": 0, \"redraw\": true}, \"fromcurrent\": true, \"mode\": \"immediate\", \"transition\": {\"duration\": 0, \"easing\": \"linear\"}}], \"label\": \"2020-03-10\", \"method\": \"animate\"}, {\"args\": [[\"2020-03-11\"], {\"frame\": {\"duration\": 0, \"redraw\": true}, \"fromcurrent\": true, \"mode\": \"immediate\", \"transition\": {\"duration\": 0, \"easing\": \"linear\"}}], \"label\": \"2020-03-11\", \"method\": \"animate\"}, {\"args\": [[\"2020-03-12\"], {\"frame\": {\"duration\": 0, \"redraw\": true}, \"fromcurrent\": true, \"mode\": \"immediate\", \"transition\": {\"duration\": 0, \"easing\": \"linear\"}}], \"label\": \"2020-03-12\", \"method\": \"animate\"}, {\"args\": [[\"2020-03-13\"], {\"frame\": {\"duration\": 0, \"redraw\": true}, \"fromcurrent\": true, \"mode\": \"immediate\", \"transition\": {\"duration\": 0, \"easing\": \"linear\"}}], \"label\": \"2020-03-13\", \"method\": \"animate\"}, {\"args\": [[\"2020-03-14\"], {\"frame\": {\"duration\": 0, \"redraw\": true}, \"fromcurrent\": true, \"mode\": \"immediate\", \"transition\": {\"duration\": 0, \"easing\": \"linear\"}}], \"label\": \"2020-03-14\", \"method\": \"animate\"}, {\"args\": [[\"2020-03-15\"], {\"frame\": {\"duration\": 0, \"redraw\": true}, \"fromcurrent\": true, \"mode\": \"immediate\", \"transition\": {\"duration\": 0, \"easing\": \"linear\"}}], \"label\": \"2020-03-15\", \"method\": \"animate\"}, {\"args\": [[\"2020-03-16\"], {\"frame\": {\"duration\": 0, \"redraw\": true}, \"fromcurrent\": true, \"mode\": \"immediate\", \"transition\": {\"duration\": 0, \"easing\": \"linear\"}}], \"label\": \"2020-03-16\", \"method\": \"animate\"}, {\"args\": [[\"2020-03-17\"], {\"frame\": {\"duration\": 0, \"redraw\": true}, \"fromcurrent\": true, \"mode\": \"immediate\", \"transition\": {\"duration\": 0, \"easing\": \"linear\"}}], \"label\": \"2020-03-17\", \"method\": \"animate\"}, {\"args\": [[\"2020-03-18\"], {\"frame\": {\"duration\": 0, \"redraw\": true}, \"fromcurrent\": true, \"mode\": \"immediate\", \"transition\": {\"duration\": 0, \"easing\": \"linear\"}}], \"label\": \"2020-03-18\", \"method\": \"animate\"}, {\"args\": [[\"2020-03-19\"], {\"frame\": {\"duration\": 0, \"redraw\": true}, \"fromcurrent\": true, \"mode\": \"immediate\", \"transition\": {\"duration\": 0, \"easing\": \"linear\"}}], \"label\": \"2020-03-19\", \"method\": \"animate\"}, {\"args\": [[\"2020-03-20\"], {\"frame\": {\"duration\": 0, \"redraw\": true}, \"fromcurrent\": true, \"mode\": \"immediate\", \"transition\": {\"duration\": 0, \"easing\": \"linear\"}}], \"label\": \"2020-03-20\", \"method\": \"animate\"}], \"x\": 0.1, \"xanchor\": \"left\", \"y\": 0, \"yanchor\": \"top\"}], \"template\": {\"data\": {\"bar\": [{\"error_x\": {\"color\": \"#2a3f5f\"}, \"error_y\": {\"color\": \"#2a3f5f\"}, \"marker\": {\"line\": {\"color\": \"#E5ECF6\", \"width\": 0.5}}, \"type\": \"bar\"}], \"barpolar\": [{\"marker\": {\"line\": {\"color\": \"#E5ECF6\", \"width\": 0.5}}, \"type\": \"barpolar\"}], \"carpet\": [{\"aaxis\": {\"endlinecolor\": \"#2a3f5f\", \"gridcolor\": \"white\", \"linecolor\": \"white\", \"minorgridcolor\": \"white\", \"startlinecolor\": \"#2a3f5f\"}, \"baxis\": {\"endlinecolor\": \"#2a3f5f\", \"gridcolor\": \"white\", \"linecolor\": \"white\", \"minorgridcolor\": \"white\", \"startlinecolor\": \"#2a3f5f\"}, \"type\": \"carpet\"}], \"choropleth\": [{\"colorbar\": {\"outlinewidth\": 0, \"ticks\": \"\"}, \"type\": \"choropleth\"}], \"contour\": [{\"colorbar\": {\"outlinewidth\": 0, \"ticks\": \"\"}, \"colorscale\": [[0.0, \"#0d0887\"], [0.1111111111111111, \"#46039f\"], [0.2222222222222222, \"#7201a8\"], [0.3333333333333333, \"#9c179e\"], [0.4444444444444444, \"#bd3786\"], [0.5555555555555556, \"#d8576b\"], [0.6666666666666666, \"#ed7953\"], [0.7777777777777778, \"#fb9f3a\"], [0.8888888888888888, \"#fdca26\"], [1.0, \"#f0f921\"]], \"type\": \"contour\"}], \"contourcarpet\": [{\"colorbar\": {\"outlinewidth\": 0, \"ticks\": \"\"}, \"type\": \"contourcarpet\"}], \"heatmap\": [{\"colorbar\": {\"outlinewidth\": 0, \"ticks\": \"\"}, \"colorscale\": [[0.0, \"#0d0887\"], [0.1111111111111111, \"#46039f\"], [0.2222222222222222, \"#7201a8\"], [0.3333333333333333, \"#9c179e\"], [0.4444444444444444, \"#bd3786\"], [0.5555555555555556, \"#d8576b\"], [0.6666666666666666, \"#ed7953\"], [0.7777777777777778, \"#fb9f3a\"], [0.8888888888888888, \"#fdca26\"], [1.0, \"#f0f921\"]], \"type\": \"heatmap\"}], \"heatmapgl\": [{\"colorbar\": {\"outlinewidth\": 0, \"ticks\": \"\"}, \"colorscale\": [[0.0, \"#0d0887\"], [0.1111111111111111, \"#46039f\"], [0.2222222222222222, \"#7201a8\"], [0.3333333333333333, \"#9c179e\"], [0.4444444444444444, \"#bd3786\"], [0.5555555555555556, \"#d8576b\"], [0.6666666666666666, \"#ed7953\"], [0.7777777777777778, \"#fb9f3a\"], [0.8888888888888888, \"#fdca26\"], [1.0, \"#f0f921\"]], \"type\": \"heatmapgl\"}], \"histogram\": [{\"marker\": {\"colorbar\": {\"outlinewidth\": 0, \"ticks\": \"\"}}, \"type\": \"histogram\"}], \"histogram2d\": [{\"colorbar\": {\"outlinewidth\": 0, \"ticks\": \"\"}, \"colorscale\": [[0.0, \"#0d0887\"], [0.1111111111111111, \"#46039f\"], [0.2222222222222222, \"#7201a8\"], [0.3333333333333333, \"#9c179e\"], [0.4444444444444444, \"#bd3786\"], [0.5555555555555556, \"#d8576b\"], [0.6666666666666666, \"#ed7953\"], [0.7777777777777778, \"#fb9f3a\"], [0.8888888888888888, \"#fdca26\"], [1.0, \"#f0f921\"]], \"type\": \"histogram2d\"}], \"histogram2dcontour\": [{\"colorbar\": {\"outlinewidth\": 0, \"ticks\": \"\"}, \"colorscale\": [[0.0, \"#0d0887\"], [0.1111111111111111, \"#46039f\"], [0.2222222222222222, \"#7201a8\"], [0.3333333333333333, \"#9c179e\"], [0.4444444444444444, \"#bd3786\"], [0.5555555555555556, \"#d8576b\"], [0.6666666666666666, \"#ed7953\"], [0.7777777777777778, \"#fb9f3a\"], [0.8888888888888888, \"#fdca26\"], [1.0, \"#f0f921\"]], \"type\": \"histogram2dcontour\"}], \"mesh3d\": [{\"colorbar\": {\"outlinewidth\": 0, \"ticks\": \"\"}, \"type\": \"mesh3d\"}], \"parcoords\": [{\"line\": {\"colorbar\": {\"outlinewidth\": 0, \"ticks\": \"\"}}, \"type\": \"parcoords\"}], \"pie\": [{\"automargin\": true, \"type\": \"pie\"}], \"scatter\": [{\"marker\": {\"colorbar\": {\"outlinewidth\": 0, \"ticks\": \"\"}}, \"type\": \"scatter\"}], \"scatter3d\": [{\"line\": {\"colorbar\": {\"outlinewidth\": 0, \"ticks\": \"\"}}, \"marker\": {\"colorbar\": {\"outlinewidth\": 0, \"ticks\": \"\"}}, \"type\": \"scatter3d\"}], \"scattercarpet\": [{\"marker\": {\"colorbar\": {\"outlinewidth\": 0, \"ticks\": \"\"}}, \"type\": \"scattercarpet\"}], \"scattergeo\": [{\"marker\": {\"colorbar\": {\"outlinewidth\": 0, \"ticks\": \"\"}}, \"type\": \"scattergeo\"}], \"scattergl\": [{\"marker\": {\"colorbar\": {\"outlinewidth\": 0, \"ticks\": \"\"}}, \"type\": \"scattergl\"}], \"scattermapbox\": [{\"marker\": {\"colorbar\": {\"outlinewidth\": 0, \"ticks\": \"\"}}, \"type\": \"scattermapbox\"}], \"scatterpolar\": [{\"marker\": {\"colorbar\": {\"outlinewidth\": 0, \"ticks\": \"\"}}, \"type\": \"scatterpolar\"}], \"scatterpolargl\": [{\"marker\": {\"colorbar\": {\"outlinewidth\": 0, \"ticks\": \"\"}}, \"type\": \"scatterpolargl\"}], \"scatterternary\": [{\"marker\": {\"colorbar\": {\"outlinewidth\": 0, \"ticks\": \"\"}}, \"type\": \"scatterternary\"}], \"surface\": [{\"colorbar\": {\"outlinewidth\": 0, \"ticks\": \"\"}, \"colorscale\": [[0.0, \"#0d0887\"], [0.1111111111111111, \"#46039f\"], [0.2222222222222222, \"#7201a8\"], [0.3333333333333333, \"#9c179e\"], [0.4444444444444444, \"#bd3786\"], [0.5555555555555556, \"#d8576b\"], [0.6666666666666666, \"#ed7953\"], [0.7777777777777778, \"#fb9f3a\"], [0.8888888888888888, \"#fdca26\"], [1.0, \"#f0f921\"]], \"type\": \"surface\"}], \"table\": [{\"cells\": {\"fill\": {\"color\": \"#EBF0F8\"}, \"line\": {\"color\": \"white\"}}, \"header\": {\"fill\": {\"color\": \"#C8D4E3\"}, \"line\": {\"color\": \"white\"}}, \"type\": \"table\"}]}, \"layout\": {\"annotationdefaults\": {\"arrowcolor\": \"#2a3f5f\", \"arrowhead\": 0, \"arrowwidth\": 1}, \"coloraxis\": {\"colorbar\": {\"outlinewidth\": 0, \"ticks\": \"\"}}, \"colorscale\": {\"diverging\": [[0, \"#8e0152\"], [0.1, \"#c51b7d\"], [0.2, \"#de77ae\"], [0.3, \"#f1b6da\"], [0.4, \"#fde0ef\"], [0.5, \"#f7f7f7\"], [0.6, \"#e6f5d0\"], [0.7, \"#b8e186\"], [0.8, \"#7fbc41\"], [0.9, \"#4d9221\"], [1, \"#276419\"]], \"sequential\": [[0.0, \"#0d0887\"], [0.1111111111111111, \"#46039f\"], [0.2222222222222222, \"#7201a8\"], [0.3333333333333333, \"#9c179e\"], [0.4444444444444444, \"#bd3786\"], [0.5555555555555556, \"#d8576b\"], [0.6666666666666666, \"#ed7953\"], [0.7777777777777778, \"#fb9f3a\"], [0.8888888888888888, \"#fdca26\"], [1.0, \"#f0f921\"]], \"sequentialminus\": [[0.0, \"#0d0887\"], [0.1111111111111111, \"#46039f\"], [0.2222222222222222, \"#7201a8\"], [0.3333333333333333, \"#9c179e\"], [0.4444444444444444, \"#bd3786\"], [0.5555555555555556, \"#d8576b\"], [0.6666666666666666, \"#ed7953\"], [0.7777777777777778, \"#fb9f3a\"], [0.8888888888888888, \"#fdca26\"], [1.0, \"#f0f921\"]]}, \"colorway\": [\"#636efa\", \"#EF553B\", \"#00cc96\", \"#ab63fa\", \"#FFA15A\", \"#19d3f3\", \"#FF6692\", \"#B6E880\", \"#FF97FF\", \"#FECB52\"], \"font\": {\"color\": \"#2a3f5f\"}, \"geo\": {\"bgcolor\": \"white\", \"lakecolor\": \"white\", \"landcolor\": \"#E5ECF6\", \"showlakes\": true, \"showland\": true, \"subunitcolor\": \"white\"}, \"hoverlabel\": {\"align\": \"left\"}, \"hovermode\": \"closest\", \"mapbox\": {\"style\": \"light\"}, \"paper_bgcolor\": \"white\", \"plot_bgcolor\": \"#E5ECF6\", \"polar\": {\"angularaxis\": {\"gridcolor\": \"white\", \"linecolor\": \"white\", \"ticks\": \"\"}, \"bgcolor\": \"#E5ECF6\", \"radialaxis\": {\"gridcolor\": \"white\", \"linecolor\": \"white\", \"ticks\": \"\"}}, \"scene\": {\"xaxis\": {\"backgroundcolor\": \"#E5ECF6\", \"gridcolor\": \"white\", \"gridwidth\": 2, \"linecolor\": \"white\", \"showbackground\": true, \"ticks\": \"\", \"zerolinecolor\": \"white\"}, \"yaxis\": {\"backgroundcolor\": \"#E5ECF6\", \"gridcolor\": \"white\", \"gridwidth\": 2, \"linecolor\": \"white\", \"showbackground\": true, \"ticks\": \"\", \"zerolinecolor\": \"white\"}, \"zaxis\": {\"backgroundcolor\": \"#E5ECF6\", \"gridcolor\": \"white\", \"gridwidth\": 2, \"linecolor\": \"white\", \"showbackground\": true, \"ticks\": \"\", \"zerolinecolor\": \"white\"}}, \"shapedefaults\": {\"line\": {\"color\": \"#2a3f5f\"}}, \"ternary\": {\"aaxis\": {\"gridcolor\": \"white\", \"linecolor\": \"white\", \"ticks\": \"\"}, \"baxis\": {\"gridcolor\": \"white\", \"linecolor\": \"white\", \"ticks\": \"\"}, \"bgcolor\": \"#E5ECF6\", \"caxis\": {\"gridcolor\": \"white\", \"linecolor\": \"white\", \"ticks\": \"\"}}, \"title\": {\"x\": 0.05}, \"xaxis\": {\"automargin\": true, \"gridcolor\": \"white\", \"linecolor\": \"white\", \"ticks\": \"\", \"title\": {\"standoff\": 15}, \"zerolinecolor\": \"white\", \"zerolinewidth\": 2}, \"yaxis\": {\"automargin\": true, \"gridcolor\": \"white\", \"linecolor\": \"white\", \"ticks\": \"\", \"title\": {\"standoff\": 15}, \"zerolinecolor\": \"white\", \"zerolinewidth\": 2}}}, \"updatemenus\": [{\"buttons\": [{\"args\": [null, {\"frame\": {\"duration\": 500, \"redraw\": true}, \"fromcurrent\": true, \"mode\": \"immediate\", \"transition\": {\"duration\": 500, \"easing\": \"linear\"}}], \"label\": \"&#9654;\", \"method\": \"animate\"}, {\"args\": [[null], {\"frame\": {\"duration\": 0, \"redraw\": true}, \"fromcurrent\": true, \"mode\": \"immediate\", \"transition\": {\"duration\": 0, \"easing\": \"linear\"}}], \"label\": \"&#9724;\", \"method\": \"animate\"}], \"direction\": \"left\", \"pad\": {\"r\": 10, \"t\": 70}, \"showactive\": false, \"type\": \"buttons\", \"x\": 0.1, \"xanchor\": \"right\", \"y\": 0, \"yanchor\": \"top\"}]},\n",
       "                        {\"responsive\": true}\n",
       "                    ).then(function(){\n",
       "                            Plotly.addFrames('1dac5640-d0da-459c-afd5-261be6219e0a', [{\"data\": [{\"coloraxis\": \"coloraxis\", \"geo\": \"geo\", \"hoverlabel\": {\"namelength\": 0}, \"hovertemplate\": \"last_update=2020-01-22<br>alpha_code=%{location}<br>deaths=%{z}\", \"locations\": [\"HKG\", \"JPN\", \"MAC\", \"CHN\", \"KOR\", \"TWN\", \"THA\", \"USA\"], \"name\": \"\", \"z\": [0.0, 0.0, 0.0, 17.0, 0.0, 0.0, 0.0, 0.0], \"type\": \"choropleth\"}], \"name\": \"2020-01-22\"}, {\"data\": [{\"coloraxis\": \"coloraxis\", \"geo\": \"geo\", \"hoverlabel\": {\"namelength\": 0}, \"hovertemplate\": \"last_update=2020-01-23<br>alpha_code=%{location}<br>deaths=%{z}\", \"locations\": [\"AUS\", \"BRA\", \"COL\", \"HKG\", \"JPN\", \"MAC\", \"CHN\", \"MYS\", \"MEX\", \"PHL\", \"SGP\", \"KOR\", \"TWN\", \"THA\", \"USA\", \"VNM\"], \"name\": \"\", \"z\": [0.0, 0.0, 0.0, 0.0, 0.0, 0.0, 18.0, 0.0, 0.0, 0.0, 0.0, 0.0, 0.0, 0.0, 0.0, 0.0], \"type\": \"choropleth\"}], \"name\": \"2020-01-23\"}, {\"data\": [{\"coloraxis\": \"coloraxis\", \"geo\": \"geo\", \"hoverlabel\": {\"namelength\": 0}, \"hovertemplate\": \"last_update=2020-01-24<br>alpha_code=%{location}<br>deaths=%{z}\", \"locations\": [\"FRA\", \"HKG\", \"JPN\", \"MAC\", \"CHN\", \"SGP\", \"KOR\", \"TWN\", \"THA\", \"USA\", \"VNM\"], \"name\": \"\", \"z\": [0.0, 0.0, 0.0, 0.0, 26.0, 0.0, 0.0, 0.0, 0.0, 0.0, 0.0], \"type\": \"choropleth\"}], \"name\": \"2020-01-24\"}, {\"data\": [{\"coloraxis\": \"coloraxis\", \"geo\": \"geo\", \"hoverlabel\": {\"namelength\": 0}, \"hovertemplate\": \"last_update=2020-01-25<br>alpha_code=%{location}<br>deaths=%{z}\", \"locations\": [\"AUS\", \"FRA\", \"HKG\", \"JPN\", \"MAC\", \"CHN\", \"MYS\", \"NPL\", \"SGP\", \"KOR\", \"TWN\", \"THA\", \"USA\", \"VNM\"], \"name\": \"\", \"z\": [0.0, 0.0, 0.0, 0.0, 0.0, 42.0, 0.0, 0.0, 0.0, 0.0, 0.0, 0.0, 0.0, 0.0], \"type\": \"choropleth\"}], \"name\": \"2020-01-25\"}, {\"data\": [{\"coloraxis\": \"coloraxis\", \"geo\": \"geo\", \"hoverlabel\": {\"namelength\": 0}, \"hovertemplate\": \"last_update=2020-01-26<br>alpha_code=%{location}<br>deaths=%{z}\", \"locations\": [\"AUS\", \"CAN\", \"FRA\", \"HKG\", \"JPN\", \"MAC\", \"CHN\", \"MYS\", \"NPL\", \"SGP\", \"KOR\", \"TWN\", \"THA\", \"USA\", \"VNM\"], \"name\": \"\", \"z\": [0.0, 0.0, 0.0, 0.0, 0.0, 0.0, 56.0, 0.0, 0.0, 0.0, 0.0, 0.0, 0.0, 0.0, 0.0], \"type\": \"choropleth\"}], \"name\": \"2020-01-26\"}, {\"data\": [{\"coloraxis\": \"coloraxis\", \"geo\": \"geo\", \"hoverlabel\": {\"namelength\": 0}, \"hovertemplate\": \"last_update=2020-01-27<br>alpha_code=%{location}<br>deaths=%{z}\", \"locations\": [\"AUS\", \"KHM\", \"CAN\", \"FRA\", \"HKG\", \"CIV\", \"JPN\", \"MAC\", \"CHN\", \"MYS\", \"NPL\", \"SGP\", \"KOR\", \"LKA\", \"TWN\", \"THA\", \"USA\", \"VNM\"], \"name\": \"\", \"z\": [0.0, 0.0, 0.0, 0.0, 0.0, 0.0, 0.0, 0.0, 82.0, 0.0, 0.0, 0.0, 0.0, 0.0, 0.0, 0.0, 0.0, 0.0], \"type\": \"choropleth\"}], \"name\": \"2020-01-27\"}, {\"data\": [{\"coloraxis\": \"coloraxis\", \"geo\": \"geo\", \"hoverlabel\": {\"namelength\": 0}, \"hovertemplate\": \"last_update=2020-01-28<br>alpha_code=%{location}<br>deaths=%{z}\", \"locations\": [\"AUS\", \"KHM\", \"CAN\", \"FRA\", \"DEU\", \"HKG\", \"JPN\", \"MAC\", \"CHN\", \"MYS\", \"NPL\", \"SGP\", \"KOR\", \"LKA\", \"TWN\", \"THA\", \"USA\", \"VNM\"], \"name\": \"\", \"z\": [0.0, 0.0, 0.0, 0.0, 0.0, 0.0, 0.0, 0.0, 131.0, 0.0, 0.0, 0.0, 0.0, 0.0, 0.0, 0.0, 0.0, 0.0], \"type\": \"choropleth\"}], \"name\": \"2020-01-28\"}, {\"data\": [{\"coloraxis\": \"coloraxis\", \"geo\": \"geo\", \"hoverlabel\": {\"namelength\": 0}, \"hovertemplate\": \"last_update=2020-01-29<br>alpha_code=%{location}<br>deaths=%{z}\", \"locations\": [\"AUS\", \"KHM\", \"CAN\", \"FIN\", \"FRA\", \"DEU\", \"HKG\", \"JPN\", \"MAC\", \"CHN\", \"MYS\", \"NPL\", \"SGP\", \"KOR\", \"LKA\", \"TWN\", \"THA\", \"USA\", \"ARE\", \"VNM\"], \"name\": \"\", \"z\": [0.0, 0.0, 0.0, 0.0, 0.0, 0.0, 0.0, 0.0, 0.0, 133.0, 0.0, 0.0, 0.0, 0.0, 0.0, 0.0, 0.0, 0.0, 0.0, 0.0], \"type\": \"choropleth\"}], \"name\": \"2020-01-29\"}, {\"data\": [{\"coloraxis\": \"coloraxis\", \"geo\": \"geo\", \"hoverlabel\": {\"namelength\": 0}, \"hovertemplate\": \"last_update=2020-01-30<br>alpha_code=%{location}<br>deaths=%{z}\", \"locations\": [\"AUS\", \"KHM\", \"CAN\", \"FIN\", \"FRA\", \"DEU\", \"HKG\", \"IND\", \"JPN\", \"MAC\", \"CHN\", \"MYS\", \"NPL\", \"PHL\", \"SGP\", \"KOR\", \"LKA\", \"TWN\", \"THA\", \"USA\", \"ARE\", \"VNM\"], \"name\": \"\", \"z\": [0.0, 0.0, 0.0, 0.0, 0.0, 0.0, 0.0, 0.0, 0.0, 0.0, 171.0, 0.0, 0.0, 0.0, 0.0, 0.0, 0.0, 0.0, 0.0, 0.0, 0.0, 0.0], \"type\": \"choropleth\"}], \"name\": \"2020-01-30\"}, {\"data\": [{\"coloraxis\": \"coloraxis\", \"geo\": \"geo\", \"hoverlabel\": {\"namelength\": 0}, \"hovertemplate\": \"last_update=2020-01-31<br>alpha_code=%{location}<br>deaths=%{z}\", \"locations\": [\"AUS\", \"KHM\", \"CAN\", \"FIN\", \"FRA\", \"DEU\", \"HKG\", \"IND\", \"ITA\", \"JPN\", \"MAC\", \"CHN\", \"MYS\", \"NPL\", \"PHL\", \"RUS\", \"SGP\", \"KOR\", \"LKA\", \"SWE\", \"TWN\", \"THA\", \"GBR\", \"USA\", \"ARE\", \"VNM\"], \"name\": \"\", \"z\": [0.0, 0.0, 0.0, 0.0, 0.0, 0.0, 0.0, 0.0, 0.0, 0.0, 0.0, 213.0, 0.0, 0.0, 0.0, 0.0, 0.0, 0.0, 0.0, 0.0, 0.0, 0.0, 0.0, 0.0, 0.0, 0.0], \"type\": \"choropleth\"}], \"name\": \"2020-01-31\"}, {\"data\": [{\"coloraxis\": \"coloraxis\", \"geo\": \"geo\", \"hoverlabel\": {\"namelength\": 0}, \"hovertemplate\": \"last_update=2020-02-01<br>alpha_code=%{location}<br>deaths=%{z}\", \"locations\": [\"AUS\", \"KHM\", \"CAN\", \"FIN\", \"FRA\", \"DEU\", \"HKG\", \"IND\", \"ITA\", \"JPN\", \"MAC\", \"CHN\", \"MYS\", \"NPL\", \"PHL\", \"RUS\", \"SGP\", \"KOR\", \"ESP\", \"LKA\", \"SWE\", \"TWN\", \"THA\", \"GBR\", \"USA\", \"ARE\", \"VNM\"], \"name\": \"\", \"z\": [0.0, 0.0, 0.0, 0.0, 0.0, 0.0, 0.0, 0.0, 0.0, 0.0, 0.0, 259.0, 0.0, 0.0, 0.0, 0.0, 0.0, 0.0, 0.0, 0.0, 0.0, 0.0, 0.0, 0.0, 0.0, 0.0, 0.0], \"type\": \"choropleth\"}], \"name\": \"2020-02-01\"}, {\"data\": [{\"coloraxis\": \"coloraxis\", \"geo\": \"geo\", \"hoverlabel\": {\"namelength\": 0}, \"hovertemplate\": \"last_update=2020-02-02<br>alpha_code=%{location}<br>deaths=%{z}\", \"locations\": [\"AUS\", \"KHM\", \"CAN\", \"FIN\", \"FRA\", \"DEU\", \"HKG\", \"IND\", \"ITA\", \"JPN\", \"MAC\", \"CHN\", \"MYS\", \"NPL\", \"PHL\", \"RUS\", \"SGP\", \"KOR\", \"ESP\", \"LKA\", \"SWE\", \"TWN\", \"THA\", \"GBR\", \"USA\", \"ARE\", \"VNM\"], \"name\": \"\", \"z\": [0.0, 0.0, 0.0, 0.0, 0.0, 0.0, 0.0, 0.0, 0.0, 0.0, 0.0, 361.0, 0.0, 0.0, 1.0, 0.0, 0.0, 0.0, 0.0, 0.0, 0.0, 0.0, 0.0, 0.0, 0.0, 0.0, 0.0], \"type\": \"choropleth\"}], \"name\": \"2020-02-02\"}, {\"data\": [{\"coloraxis\": \"coloraxis\", \"geo\": \"geo\", \"hoverlabel\": {\"namelength\": 0}, \"hovertemplate\": \"last_update=2020-02-03<br>alpha_code=%{location}<br>deaths=%{z}\", \"locations\": [\"AUS\", \"KHM\", \"CAN\", \"FIN\", \"FRA\", \"DEU\", \"HKG\", \"IND\", \"ITA\", \"JPN\", \"MAC\", \"CHN\", \"MYS\", \"NPL\", \"PHL\", \"RUS\", \"SGP\", \"KOR\", \"ESP\", \"LKA\", \"SWE\", \"TWN\", \"THA\", \"GBR\", \"USA\", \"ARE\", \"VNM\"], \"name\": \"\", \"z\": [0.0, 0.0, 0.0, 0.0, 0.0, 0.0, 0.0, 0.0, 0.0, 0.0, 0.0, 425.0, 0.0, 0.0, 1.0, 0.0, 0.0, 0.0, 0.0, 0.0, 0.0, 0.0, 0.0, 0.0, 0.0, 0.0, 0.0], \"type\": \"choropleth\"}], \"name\": \"2020-02-03\"}, {\"data\": [{\"coloraxis\": \"coloraxis\", \"geo\": \"geo\", \"hoverlabel\": {\"namelength\": 0}, \"hovertemplate\": \"last_update=2020-02-04<br>alpha_code=%{location}<br>deaths=%{z}\", \"locations\": [\"AUS\", \"BEL\", \"KHM\", \"CAN\", \"FIN\", \"FRA\", \"DEU\", \"HKG\", \"IND\", \"ITA\", \"JPN\", \"MAC\", \"CHN\", \"MYS\", \"NPL\", \"PHL\", \"RUS\", \"SGP\", \"KOR\", \"ESP\", \"LKA\", \"SWE\", \"TWN\", \"THA\", \"GBR\", \"USA\", \"ARE\", \"VNM\"], \"name\": \"\", \"z\": [0.0, 0.0, 0.0, 0.0, 0.0, 0.0, 0.0, 1.0, 0.0, 0.0, 0.0, 0.0, 490.0, 0.0, 0.0, 1.0, 0.0, 0.0, 0.0, 0.0, 0.0, 0.0, 0.0, 0.0, 0.0, 0.0, 0.0, 0.0], \"type\": \"choropleth\"}], \"name\": \"2020-02-04\"}, {\"data\": [{\"coloraxis\": \"coloraxis\", \"geo\": \"geo\", \"hoverlabel\": {\"namelength\": 0}, \"hovertemplate\": \"last_update=2020-02-05<br>alpha_code=%{location}<br>deaths=%{z}\", \"locations\": [\"AUS\", \"BEL\", \"KHM\", \"CAN\", \"FIN\", \"FRA\", \"DEU\", \"HKG\", \"IND\", \"ITA\", \"JPN\", \"MAC\", \"CHN\", \"MYS\", \"NPL\", \"PHL\", \"RUS\", \"SGP\", \"KOR\", \"ESP\", \"LKA\", \"SWE\", \"TWN\", \"THA\", \"GBR\", \"USA\", \"ARE\", \"VNM\"], \"name\": \"\", \"z\": [0.0, 0.0, 0.0, 0.0, 0.0, 0.0, 0.0, 1.0, 0.0, 0.0, 0.0, 0.0, 562.0, 0.0, 0.0, 1.0, 0.0, 0.0, 0.0, 0.0, 0.0, 0.0, 0.0, 0.0, 0.0, 0.0, 0.0, 0.0], \"type\": \"choropleth\"}], \"name\": \"2020-02-05\"}, {\"data\": [{\"coloraxis\": \"coloraxis\", \"geo\": \"geo\", \"hoverlabel\": {\"namelength\": 0}, \"hovertemplate\": \"last_update=2020-02-06<br>alpha_code=%{location}<br>deaths=%{z}\", \"locations\": [\"AUS\", \"BEL\", \"KHM\", \"CAN\", \"FIN\", \"FRA\", \"DEU\", \"HKG\", \"IND\", \"ITA\", \"JPN\", \"MAC\", \"CHN\", \"MYS\", \"NPL\", \"PHL\", \"RUS\", \"SGP\", \"KOR\", \"ESP\", \"LKA\", \"SWE\", \"TWN\", \"THA\", \"GBR\", \"USA\", \"ARE\", \"VNM\"], \"name\": \"\", \"z\": [0.0, 0.0, 0.0, 0.0, 0.0, 0.0, 0.0, 1.0, 0.0, 0.0, 0.0, 0.0, 632.0, 0.0, 0.0, 1.0, 0.0, 0.0, 0.0, 0.0, 0.0, 0.0, 0.0, 0.0, 0.0, 0.0, 0.0, 0.0], \"type\": \"choropleth\"}], \"name\": \"2020-02-06\"}, {\"data\": [{\"coloraxis\": \"coloraxis\", \"geo\": \"geo\", \"hoverlabel\": {\"namelength\": 0}, \"hovertemplate\": \"last_update=2020-02-07<br>alpha_code=%{location}<br>deaths=%{z}\", \"locations\": [\"AUS\", \"BEL\", \"KHM\", \"CAN\", \"FIN\", \"FRA\", \"DEU\", \"HKG\", \"IND\", \"ITA\", \"JPN\", \"MAC\", \"CHN\", \"MYS\", \"NPL\", null, \"PHL\", \"RUS\", \"SGP\", \"KOR\", \"ESP\", \"LKA\", \"SWE\", \"TWN\", \"THA\", \"GBR\", \"USA\", \"ARE\", \"VNM\"], \"name\": \"\", \"z\": [0.0, 0.0, 0.0, 0.0, 0.0, 0.0, 0.0, 1.0, 0.0, 0.0, 0.0, 0.0, 717.0, 0.0, 0.0, 0.0, 1.0, 0.0, 0.0, 0.0, 0.0, 0.0, 0.0, 0.0, 0.0, 0.0, 0.0, 0.0, 0.0], \"type\": \"choropleth\"}], \"name\": \"2020-02-07\"}, {\"data\": [{\"coloraxis\": \"coloraxis\", \"geo\": \"geo\", \"hoverlabel\": {\"namelength\": 0}, \"hovertemplate\": \"last_update=2020-02-08<br>alpha_code=%{location}<br>deaths=%{z}\", \"locations\": [\"AUS\", \"BEL\", \"KHM\", \"CAN\", \"FIN\", \"FRA\", \"DEU\", \"HKG\", \"IND\", \"ITA\", \"JPN\", \"MAC\", \"CHN\", \"MYS\", \"NPL\", null, \"PHL\", \"RUS\", \"SGP\", \"KOR\", \"ESP\", \"LKA\", \"SWE\", \"TWN\", \"THA\", \"GBR\", \"USA\", \"ARE\", \"VNM\"], \"name\": \"\", \"z\": [0.0, 0.0, 0.0, 0.0, 0.0, 0.0, 0.0, 1.0, 0.0, 0.0, 0.0, 0.0, 804.0, 0.0, 0.0, 0.0, 1.0, 0.0, 0.0, 0.0, 0.0, 0.0, 0.0, 0.0, 0.0, 0.0, 0.0, 0.0, 0.0], \"type\": \"choropleth\"}], \"name\": \"2020-02-08\"}, {\"data\": [{\"coloraxis\": \"coloraxis\", \"geo\": \"geo\", \"hoverlabel\": {\"namelength\": 0}, \"hovertemplate\": \"last_update=2020-02-09<br>alpha_code=%{location}<br>deaths=%{z}\", \"locations\": [\"AUS\", \"BEL\", \"KHM\", \"CAN\", \"FIN\", \"FRA\", \"DEU\", \"HKG\", \"IND\", \"ITA\", \"JPN\", \"MAC\", \"CHN\", \"MYS\", \"NPL\", null, \"PHL\", \"RUS\", \"SGP\", \"KOR\", \"ESP\", \"LKA\", \"SWE\", \"TWN\", \"THA\", \"GBR\", \"USA\", \"ARE\", \"VNM\"], \"name\": \"\", \"z\": [0.0, 0.0, 0.0, 0.0, 0.0, 0.0, 0.0, 1.0, 0.0, 0.0, 0.0, 0.0, 904.0, 0.0, 0.0, 0.0, 1.0, 0.0, 0.0, 0.0, 0.0, 0.0, 0.0, 0.0, 0.0, 0.0, 0.0, 0.0, 0.0], \"type\": \"choropleth\"}], \"name\": \"2020-02-09\"}, {\"data\": [{\"coloraxis\": \"coloraxis\", \"geo\": \"geo\", \"hoverlabel\": {\"namelength\": 0}, \"hovertemplate\": \"last_update=2020-02-10<br>alpha_code=%{location}<br>deaths=%{z}\", \"locations\": [\"AUS\", \"BEL\", \"KHM\", \"CAN\", \"FIN\", \"FRA\", \"DEU\", \"HKG\", \"IND\", \"ITA\", \"JPN\", \"MAC\", \"CHN\", \"MYS\", \"NPL\", null, \"PHL\", \"RUS\", \"SGP\", \"KOR\", \"ESP\", \"LKA\", \"SWE\", \"TWN\", \"THA\", \"GBR\", \"USA\", \"ARE\", \"VNM\"], \"name\": \"\", \"z\": [0.0, 0.0, 0.0, 0.0, 0.0, 0.0, 0.0, 1.0, 0.0, 0.0, 0.0, 0.0, 1011.0, 0.0, 0.0, 0.0, 1.0, 0.0, 0.0, 0.0, 0.0, 0.0, 0.0, 0.0, 0.0, 0.0, 0.0, 0.0, 0.0], \"type\": \"choropleth\"}], \"name\": \"2020-02-10\"}, {\"data\": [{\"coloraxis\": \"coloraxis\", \"geo\": \"geo\", \"hoverlabel\": {\"namelength\": 0}, \"hovertemplate\": \"last_update=2020-02-11<br>alpha_code=%{location}<br>deaths=%{z}\", \"locations\": [\"AUS\", \"BEL\", \"KHM\", \"CAN\", \"FIN\", \"FRA\", \"DEU\", \"HKG\", \"IND\", \"ITA\", \"JPN\", \"MAC\", \"CHN\", \"MYS\", \"NPL\", null, \"PHL\", \"RUS\", \"SGP\", \"KOR\", \"ESP\", \"LKA\", \"SWE\", \"TWN\", \"THA\", \"GBR\", \"USA\", \"ARE\", \"VNM\"], \"name\": \"\", \"z\": [0.0, 0.0, 0.0, 0.0, 0.0, 0.0, 0.0, 1.0, 0.0, 0.0, 0.0, 0.0, 1111.0, 0.0, 0.0, 0.0, 1.0, 0.0, 0.0, 0.0, 0.0, 0.0, 0.0, 0.0, 0.0, 0.0, 0.0, 0.0, 0.0], \"type\": \"choropleth\"}], \"name\": \"2020-02-11\"}, {\"data\": [{\"coloraxis\": \"coloraxis\", \"geo\": \"geo\", \"hoverlabel\": {\"namelength\": 0}, \"hovertemplate\": \"last_update=2020-02-12<br>alpha_code=%{location}<br>deaths=%{z}\", \"locations\": [\"AUS\", \"BEL\", \"KHM\", \"CAN\", \"FIN\", \"FRA\", \"DEU\", \"HKG\", \"IND\", \"ITA\", \"JPN\", \"MAC\", \"CHN\", \"MYS\", \"NPL\", null, \"PHL\", \"RUS\", \"SGP\", \"KOR\", \"ESP\", \"LKA\", \"SWE\", \"TWN\", \"THA\", \"GBR\", \"USA\", \"ARE\", \"VNM\"], \"name\": \"\", \"z\": [0.0, 0.0, 0.0, 0.0, 0.0, 0.0, 0.0, 1.0, 0.0, 0.0, 0.0, 0.0, 1116.0, 0.0, 0.0, 0.0, 1.0, 0.0, 0.0, 0.0, 0.0, 0.0, 0.0, 0.0, 0.0, 0.0, 0.0, 0.0, 0.0], \"type\": \"choropleth\"}], \"name\": \"2020-02-12\"}, {\"data\": [{\"coloraxis\": \"coloraxis\", \"geo\": \"geo\", \"hoverlabel\": {\"namelength\": 0}, \"hovertemplate\": \"last_update=2020-02-13<br>alpha_code=%{location}<br>deaths=%{z}\", \"locations\": [\"AUS\", \"BEL\", \"KHM\", \"CAN\", \"FIN\", \"FRA\", \"DEU\", \"HKG\", \"IND\", \"ITA\", \"JPN\", \"MAC\", \"CHN\", \"MYS\", \"NPL\", null, \"PHL\", \"RUS\", \"SGP\", \"KOR\", \"ESP\", \"LKA\", \"SWE\", \"TWN\", \"THA\", \"GBR\", \"USA\", \"ARE\", \"VNM\"], \"name\": \"\", \"z\": [0.0, 0.0, 0.0, 0.0, 0.0, 0.0, 0.0, 1.0, 0.0, 0.0, 1.0, 0.0, 1368.0, 0.0, 0.0, 0.0, 1.0, 0.0, 0.0, 0.0, 0.0, 0.0, 0.0, 0.0, 0.0, 0.0, 0.0, 0.0, 0.0], \"type\": \"choropleth\"}], \"name\": \"2020-02-13\"}, {\"data\": [{\"coloraxis\": \"coloraxis\", \"geo\": \"geo\", \"hoverlabel\": {\"namelength\": 0}, \"hovertemplate\": \"last_update=2020-02-14<br>alpha_code=%{location}<br>deaths=%{z}\", \"locations\": [\"AUS\", \"BEL\", \"KHM\", \"CAN\", \"EGY\", \"FIN\", \"FRA\", \"DEU\", \"HKG\", \"IND\", \"ITA\", \"JPN\", \"MAC\", \"CHN\", \"MYS\", \"NPL\", null, \"PHL\", \"RUS\", \"SGP\", \"KOR\", \"ESP\", \"LKA\", \"SWE\", \"TWN\", \"THA\", \"GBR\", \"USA\", \"ARE\", \"VNM\"], \"name\": \"\", \"z\": [0.0, 0.0, 0.0, 0.0, 0.0, 0.0, 0.0, 0.0, 1.0, 0.0, 0.0, 1.0, 0.0, 1520.0, 0.0, 0.0, 0.0, 1.0, 0.0, 0.0, 0.0, 0.0, 0.0, 0.0, 0.0, 0.0, 0.0, 0.0, 0.0, 0.0], \"type\": \"choropleth\"}], \"name\": \"2020-02-14\"}, {\"data\": [{\"coloraxis\": \"coloraxis\", \"geo\": \"geo\", \"hoverlabel\": {\"namelength\": 0}, \"hovertemplate\": \"last_update=2020-02-15<br>alpha_code=%{location}<br>deaths=%{z}\", \"locations\": [\"AUS\", \"BEL\", \"KHM\", \"CAN\", \"EGY\", \"FIN\", \"FRA\", \"DEU\", \"HKG\", \"IND\", \"ITA\", \"JPN\", \"MAC\", \"CHN\", \"MYS\", \"NPL\", null, \"PHL\", \"RUS\", \"SGP\", \"KOR\", \"ESP\", \"LKA\", \"SWE\", \"TWN\", \"THA\", \"GBR\", \"USA\", \"ARE\", \"VNM\"], \"name\": \"\", \"z\": [0.0, 0.0, 0.0, 0.0, 0.0, 0.0, 1.0, 0.0, 1.0, 0.0, 0.0, 1.0, 0.0, 1662.0, 0.0, 0.0, 0.0, 1.0, 0.0, 0.0, 0.0, 0.0, 0.0, 0.0, 0.0, 0.0, 0.0, 0.0, 0.0, 0.0], \"type\": \"choropleth\"}], \"name\": \"2020-02-15\"}, {\"data\": [{\"coloraxis\": \"coloraxis\", \"geo\": \"geo\", \"hoverlabel\": {\"namelength\": 0}, \"hovertemplate\": \"last_update=2020-02-16<br>alpha_code=%{location}<br>deaths=%{z}\", \"locations\": [\"AUS\", \"BEL\", \"KHM\", \"CAN\", \"EGY\", \"FIN\", \"FRA\", \"DEU\", \"HKG\", \"IND\", \"ITA\", \"JPN\", \"MAC\", \"CHN\", \"MYS\", \"NPL\", null, \"PHL\", \"RUS\", \"SGP\", \"KOR\", \"ESP\", \"LKA\", \"SWE\", \"TWN\", \"THA\", \"GBR\", \"USA\", \"ARE\", \"VNM\"], \"name\": \"\", \"z\": [0.0, 0.0, 0.0, 0.0, 0.0, 0.0, 1.0, 0.0, 1.0, 0.0, 0.0, 1.0, 0.0, 1765.0, 0.0, 0.0, 0.0, 1.0, 0.0, 0.0, 0.0, 0.0, 0.0, 0.0, 1.0, 0.0, 0.0, 0.0, 0.0, 0.0], \"type\": \"choropleth\"}], \"name\": \"2020-02-16\"}, {\"data\": [{\"coloraxis\": \"coloraxis\", \"geo\": \"geo\", \"hoverlabel\": {\"namelength\": 0}, \"hovertemplate\": \"last_update=2020-02-17<br>alpha_code=%{location}<br>deaths=%{z}\", \"locations\": [\"AUS\", \"BEL\", \"KHM\", \"CAN\", \"EGY\", \"FIN\", \"FRA\", \"DEU\", \"HKG\", \"IND\", \"ITA\", \"JPN\", \"MAC\", \"CHN\", \"MYS\", \"NPL\", null, \"PHL\", \"RUS\", \"SGP\", \"KOR\", \"ESP\", \"LKA\", \"SWE\", \"TWN\", \"THA\", \"GBR\", \"USA\", \"ARE\", \"VNM\"], \"name\": \"\", \"z\": [0.0, 0.0, 0.0, 0.0, 0.0, 0.0, 1.0, 0.0, 1.0, 0.0, 0.0, 1.0, 0.0, 1863.0, 0.0, 0.0, 0.0, 1.0, 0.0, 0.0, 0.0, 0.0, 0.0, 0.0, 1.0, 0.0, 0.0, 0.0, 0.0, 0.0], \"type\": \"choropleth\"}], \"name\": \"2020-02-17\"}, {\"data\": [{\"coloraxis\": \"coloraxis\", \"geo\": \"geo\", \"hoverlabel\": {\"namelength\": 0}, \"hovertemplate\": \"last_update=2020-02-18<br>alpha_code=%{location}<br>deaths=%{z}\", \"locations\": [\"AUS\", \"BEL\", \"KHM\", \"CAN\", \"EGY\", \"FIN\", \"FRA\", \"DEU\", \"HKG\", \"IND\", \"ITA\", \"JPN\", \"MAC\", \"CHN\", \"MYS\", \"NPL\", null, \"PHL\", \"RUS\", \"SGP\", \"KOR\", \"ESP\", \"LKA\", \"SWE\", \"TWN\", \"THA\", \"GBR\", \"USA\", \"ARE\", \"VNM\"], \"name\": \"\", \"z\": [0.0, 0.0, 0.0, 0.0, 0.0, 0.0, 1.0, 0.0, 1.0, 0.0, 0.0, 1.0, 0.0, 2002.0, 0.0, 0.0, 0.0, 1.0, 0.0, 0.0, 0.0, 0.0, 0.0, 0.0, 1.0, 0.0, 0.0, 0.0, 0.0, 0.0], \"type\": \"choropleth\"}], \"name\": \"2020-02-18\"}, {\"data\": [{\"coloraxis\": \"coloraxis\", \"geo\": \"geo\", \"hoverlabel\": {\"namelength\": 0}, \"hovertemplate\": \"last_update=2020-02-19<br>alpha_code=%{location}<br>deaths=%{z}\", \"locations\": [\"AUS\", \"BEL\", \"KHM\", \"CAN\", \"EGY\", \"FIN\", \"FRA\", \"DEU\", \"HKG\", \"IND\", \"IRN\", \"ITA\", \"JPN\", \"MAC\", \"CHN\", \"MYS\", \"NPL\", null, \"PHL\", \"RUS\", \"SGP\", \"KOR\", \"ESP\", \"LKA\", \"SWE\", \"TWN\", \"THA\", \"GBR\", \"USA\", \"ARE\", \"VNM\"], \"name\": \"\", \"z\": [0.0, 0.0, 0.0, 0.0, 0.0, 0.0, 1.0, 0.0, 2.0, 0.0, 2.0, 0.0, 1.0, 0.0, 2114.0, 0.0, 0.0, 0.0, 1.0, 0.0, 0.0, 0.0, 0.0, 0.0, 0.0, 1.0, 0.0, 0.0, 0.0, 0.0, 0.0], \"type\": \"choropleth\"}], \"name\": \"2020-02-19\"}, {\"data\": [{\"coloraxis\": \"coloraxis\", \"geo\": \"geo\", \"hoverlabel\": {\"namelength\": 0}, \"hovertemplate\": \"last_update=2020-02-20<br>alpha_code=%{location}<br>deaths=%{z}\", \"locations\": [\"AUS\", \"BEL\", \"KHM\", \"CAN\", \"EGY\", \"FIN\", \"FRA\", \"DEU\", \"HKG\", \"IND\", \"IRN\", \"ITA\", \"JPN\", \"MAC\", \"CHN\", \"MYS\", \"NPL\", null, \"PHL\", \"RUS\", \"SGP\", \"KOR\", \"ESP\", \"LKA\", \"SWE\", \"TWN\", \"THA\", \"GBR\", \"USA\", \"ARE\", \"VNM\"], \"name\": \"\", \"z\": [0.0, 0.0, 0.0, 0.0, 0.0, 0.0, 1.0, 0.0, 2.0, 0.0, 2.0, 0.0, 1.0, 0.0, 2236.0, 0.0, 0.0, 2.0, 1.0, 0.0, 0.0, 1.0, 0.0, 0.0, 0.0, 1.0, 0.0, 0.0, 0.0, 0.0, 0.0], \"type\": \"choropleth\"}], \"name\": \"2020-02-20\"}, {\"data\": [{\"coloraxis\": \"coloraxis\", \"geo\": \"geo\", \"hoverlabel\": {\"namelength\": 0}, \"hovertemplate\": \"last_update=2020-02-21<br>alpha_code=%{location}<br>deaths=%{z}\", \"locations\": [\"AUS\", \"BEL\", \"KHM\", \"CAN\", \"EGY\", \"FIN\", \"FRA\", \"DEU\", \"HKG\", \"IND\", \"IRN\", \"ISR\", \"ITA\", \"JPN\", \"LBN\", \"MAC\", \"CHN\", \"MYS\", \"NPL\", null, \"PHL\", \"RUS\", \"SGP\", \"KOR\", \"ESP\", \"LKA\", \"SWE\", \"TWN\", \"THA\", \"GBR\", \"USA\", \"ARE\", \"VNM\"], \"name\": \"\", \"z\": [0.0, 0.0, 0.0, 0.0, 0.0, 0.0, 1.0, 0.0, 2.0, 0.0, 4.0, 0.0, 1.0, 1.0, 0.0, 0.0, 2236.0, 0.0, 0.0, 2.0, 1.0, 0.0, 0.0, 2.0, 0.0, 0.0, 0.0, 1.0, 0.0, 0.0, 0.0, 0.0, 0.0], \"type\": \"choropleth\"}], \"name\": \"2020-02-21\"}, {\"data\": [{\"coloraxis\": \"coloraxis\", \"geo\": \"geo\", \"hoverlabel\": {\"namelength\": 0}, \"hovertemplate\": \"last_update=2020-02-22<br>alpha_code=%{location}<br>deaths=%{z}\", \"locations\": [\"AUS\", \"BEL\", \"KHM\", \"CAN\", \"EGY\", \"FIN\", \"FRA\", \"DEU\", \"HKG\", \"IND\", \"IRN\", \"ISR\", \"ITA\", \"JPN\", \"LBN\", \"MAC\", \"CHN\", \"MYS\", \"NPL\", null, \"PHL\", \"RUS\", \"SGP\", \"KOR\", \"ESP\", \"LKA\", \"SWE\", \"TWN\", \"THA\", \"GBR\", \"USA\", \"ARE\", \"VNM\"], \"name\": \"\", \"z\": [0.0, 0.0, 0.0, 0.0, 0.0, 0.0, 1.0, 0.0, 2.0, 0.0, 5.0, 0.0, 2.0, 1.0, 0.0, 0.0, 2441.0, 0.0, 0.0, 2.0, 1.0, 0.0, 0.0, 2.0, 0.0, 0.0, 0.0, 1.0, 0.0, 0.0, 0.0, 0.0, 0.0], \"type\": \"choropleth\"}], \"name\": \"2020-02-22\"}, {\"data\": [{\"coloraxis\": \"coloraxis\", \"geo\": \"geo\", \"hoverlabel\": {\"namelength\": 0}, \"hovertemplate\": \"last_update=2020-02-23<br>alpha_code=%{location}<br>deaths=%{z}\", \"locations\": [\"AUS\", \"BEL\", \"KHM\", \"CAN\", \"EGY\", \"FIN\", \"FRA\", \"DEU\", \"HKG\", \"IND\", \"IRN\", \"IRQ\", \"ISR\", \"ITA\", \"JPN\", \"LBN\", \"MAC\", \"CHN\", \"MYS\", \"NPL\", null, \"PHL\", \"RUS\", \"SGP\", \"KOR\", \"ESP\", \"LKA\", \"SWE\", \"TWN\", \"THA\", \"GBR\", \"USA\", \"ARE\", \"VNM\"], \"name\": \"\", \"z\": [0.0, 0.0, 0.0, 0.0, 0.0, 0.0, 1.0, 0.0, 2.0, 0.0, 8.0, 0.0, 0.0, 3.0, 1.0, 0.0, 0.0, 2443.0, 0.0, 0.0, 3.0, 1.0, 0.0, 0.0, 6.0, 0.0, 0.0, 0.0, 1.0, 0.0, 0.0, 0.0, 0.0, 0.0], \"type\": \"choropleth\"}], \"name\": \"2020-02-23\"}, {\"data\": [{\"coloraxis\": \"coloraxis\", \"geo\": \"geo\", \"hoverlabel\": {\"namelength\": 0}, \"hovertemplate\": \"last_update=2020-02-24<br>alpha_code=%{location}<br>deaths=%{z}\", \"locations\": [\"AFG\", \"AUS\", \"BHR\", \"BEL\", \"KHM\", \"CAN\", \"EGY\", \"FIN\", \"FRA\", \"DEU\", \"HKG\", \"IND\", \"IRN\", \"IRQ\", \"ISR\", \"ITA\", \"JPN\", \"KWT\", \"LBN\", \"MAC\", \"CHN\", \"MYS\", \"NPL\", \"OMN\", null, \"PHL\", \"RUS\", \"SGP\", \"KOR\", \"ESP\", \"LKA\", \"SWE\", \"TWN\", \"THA\", \"GBR\", \"USA\", \"ARE\", \"VNM\"], \"name\": \"\", \"z\": [0.0, 0.0, 0.0, 0.0, 0.0, 0.0, 0.0, 0.0, 1.0, 0.0, 2.0, 0.0, 12.0, 0.0, 0.0, 7.0, 1.0, 0.0, 0.0, 0.0, 2593.0, 0.0, 0.0, 0.0, 3.0, 1.0, 0.0, 0.0, 8.0, 0.0, 0.0, 0.0, 1.0, 0.0, 0.0, 0.0, 0.0, 0.0], \"type\": \"choropleth\"}], \"name\": \"2020-02-24\"}, {\"data\": [{\"coloraxis\": \"coloraxis\", \"geo\": \"geo\", \"hoverlabel\": {\"namelength\": 0}, \"hovertemplate\": \"last_update=2020-02-25<br>alpha_code=%{location}<br>deaths=%{z}\", \"locations\": [\"AFG\", \"DZA\", \"AUS\", \"AUT\", \"BHR\", \"BEL\", \"KHM\", \"CAN\", \"HRV\", \"EGY\", \"FIN\", \"FRA\", \"DEU\", \"HKG\", \"IND\", \"IRN\", \"IRQ\", \"ISR\", \"ITA\", \"JPN\", \"KWT\", \"LBN\", \"MAC\", \"CHN\", \"MYS\", \"NPL\", \"OMN\", null, \"PHL\", \"RUS\", \"SGP\", \"KOR\", \"ESP\", \"LKA\", \"SWE\", \"CHE\", \"TWN\", \"THA\", \"GBR\", \"USA\", \"ARE\", \"VNM\"], \"name\": \"\", \"z\": [0.0, 0.0, 0.0, 0.0, 0.0, 0.0, 0.0, 0.0, 0.0, 0.0, 0.0, 1.0, 0.0, 2.0, 0.0, 16.0, 0.0, 0.0, 10.0, 1.0, 0.0, 0.0, 0.0, 2663.0, 0.0, 0.0, 0.0, 3.0, 1.0, 0.0, 0.0, 10.0, 0.0, 0.0, 0.0, 0.0, 1.0, 0.0, 0.0, 0.0, 0.0, 0.0], \"type\": \"choropleth\"}], \"name\": \"2020-02-25\"}, {\"data\": [{\"coloraxis\": \"coloraxis\", \"geo\": \"geo\", \"hoverlabel\": {\"namelength\": 0}, \"hovertemplate\": \"last_update=2020-02-26<br>alpha_code=%{location}<br>deaths=%{z}\", \"locations\": [\"AFG\", \"DZA\", \"AUS\", \"AUT\", \"BHR\", \"BEL\", \"BRA\", \"KHM\", \"CAN\", \"HRV\", \"EGY\", \"FIN\", \"FRA\", \"GEO\", \"DEU\", \"GRC\", \"HKG\", \"IND\", \"IRN\", \"IRQ\", \"ISR\", \"ITA\", \"JPN\", \"KWT\", \"LBN\", \"MAC\", \"CHN\", \"MYS\", \"NPL\", \"MKD\", \"NOR\", \"OMN\", null, \"PAK\", \"PHL\", \"ROU\", \"RUS\", \"SGP\", \"KOR\", \"ESP\", \"LKA\", \"SWE\", \"CHE\", \"TWN\", \"THA\", \"GBR\", \"USA\", \"ARE\", \"VNM\"], \"name\": \"\", \"z\": [0.0, 0.0, 0.0, 0.0, 0.0, 0.0, 0.0, 0.0, 0.0, 0.0, 0.0, 0.0, 2.0, 0.0, 0.0, 0.0, 2.0, 0.0, 19.0, 0.0, 0.0, 12.0, 2.0, 0.0, 0.0, 0.0, 2715.0, 0.0, 0.0, 0.0, 0.0, 0.0, 4.0, 0.0, 1.0, 0.0, 0.0, 0.0, 12.0, 0.0, 0.0, 0.0, 0.0, 1.0, 0.0, 0.0, 0.0, 0.0, 0.0], \"type\": \"choropleth\"}], \"name\": \"2020-02-26\"}, {\"data\": [{\"coloraxis\": \"coloraxis\", \"geo\": \"geo\", \"hoverlabel\": {\"namelength\": 0}, \"hovertemplate\": \"last_update=2020-02-27<br>alpha_code=%{location}<br>deaths=%{z}\", \"locations\": [\"AFG\", \"DZA\", \"AUS\", \"AUT\", \"BHR\", \"BEL\", \"BRA\", \"KHM\", \"CAN\", \"HRV\", \"DNK\", \"EGY\", \"EST\", \"FIN\", \"FRA\", \"GEO\", \"DEU\", \"GRC\", \"HKG\", \"IND\", \"IRN\", \"IRQ\", \"ISR\", \"ITA\", \"JPN\", \"KWT\", \"LBN\", \"MAC\", \"CHN\", \"MYS\", \"NPL\", \"NLD\", \"MKD\", \"NOR\", \"OMN\", null, \"PAK\", \"PHL\", \"ROU\", \"RUS\", \"SMR\", \"SGP\", \"KOR\", \"ESP\", \"LKA\", \"SWE\", \"CHE\", \"TWN\", \"THA\", \"GBR\", \"USA\", \"ARE\", \"VNM\"], \"name\": \"\", \"z\": [0.0, 0.0, 0.0, 0.0, 0.0, 0.0, 0.0, 0.0, 0.0, 0.0, 0.0, 0.0, 0.0, 0.0, 2.0, 0.0, 0.0, 0.0, 2.0, 0.0, 26.0, 0.0, 0.0, 17.0, 4.0, 0.0, 0.0, 0.0, 2744.0, 0.0, 0.0, 0.0, 0.0, 0.0, 0.0, 4.0, 0.0, 1.0, 0.0, 0.0, 0.0, 0.0, 13.0, 0.0, 0.0, 0.0, 0.0, 1.0, 0.0, 0.0, 0.0, 0.0, 0.0], \"type\": \"choropleth\"}], \"name\": \"2020-02-27\"}, {\"data\": [{\"coloraxis\": \"coloraxis\", \"geo\": \"geo\", \"hoverlabel\": {\"namelength\": 0}, \"hovertemplate\": \"last_update=2020-02-28<br>alpha_code=%{location}<br>deaths=%{z}\", \"locations\": [null, \"AFG\", \"DZA\", \"AUS\", \"AUT\", \"BHR\", \"BLR\", \"BEL\", \"BRA\", \"KHM\", \"CAN\", \"HRV\", \"DNK\", \"EGY\", \"EST\", \"FIN\", \"FRA\", \"GEO\", \"DEU\", \"GRC\", \"HKG\", \"ISL\", \"IND\", \"IRN\", \"IRQ\", \"ISR\", \"ITA\", \"JPN\", \"KWT\", \"LBN\", \"LTU\", \"MAC\", \"CHN\", \"MYS\", \"MEX\", \"NPL\", \"NLD\", \"NZL\", \"NGA\", null, \"MKD\", \"NOR\", \"OMN\", null, \"PAK\", \"PHL\", \"ROU\", \"RUS\", \"SMR\", \"SGP\", \"KOR\", \"ESP\", \"LKA\", \"SWE\", \"CHE\", \"TWN\", \"THA\", \"GBR\", \"USA\", \"ARE\", \"VNM\"], \"name\": \"\", \"z\": [0.0, 0.0, 0.0, 0.0, 0.0, 0.0, 0.0, 0.0, 0.0, 0.0, 0.0, 0.0, 0.0, 0.0, 0.0, 0.0, 2.0, 0.0, 0.0, 0.0, 2.0, 0.0, 0.0, 34.0, 0.0, 0.0, 21.0, 4.0, 0.0, 0.0, 0.0, 0.0, 2788.0, 0.0, 0.0, 0.0, 0.0, 0.0, 0.0, 0.0, 0.0, 0.0, 0.0, 6.0, 0.0, 1.0, 0.0, 0.0, 0.0, 0.0, 13.0, 0.0, 0.0, 0.0, 0.0, 1.0, 0.0, 0.0, 0.0, 0.0, 0.0], \"type\": \"choropleth\"}], \"name\": \"2020-02-28\"}, {\"data\": [{\"coloraxis\": \"coloraxis\", \"geo\": \"geo\", \"hoverlabel\": {\"namelength\": 0}, \"hovertemplate\": \"last_update=2020-02-29<br>alpha_code=%{location}<br>deaths=%{z}\", \"locations\": [\"AFG\", \"DZA\", \"AUS\", \"AUT\", \"BHR\", \"BLR\", \"BEL\", \"BRA\", \"KHM\", \"CAN\", \"HRV\", \"DNK\", \"EGY\", \"EST\", \"FIN\", \"FRA\", \"GEO\", \"DEU\", \"GRC\", \"HKG\", \"ISL\", \"IND\", \"IRN\", \"IRQ\", \"IRL\", \"ISR\", \"ITA\", \"JPN\", \"KWT\", \"LBN\", \"LTU\", \"LUX\", \"MAC\", \"CHN\", \"MYS\", \"MEX\", \"MCO\", \"NPL\", \"NLD\", \"NZL\", \"NGA\", \"MKD\", \"NOR\", \"OMN\", null, \"PAK\", \"PHL\", \"QAT\", \"ROU\", \"RUS\", \"SMR\", \"SGP\", \"KOR\", \"ESP\", \"LKA\", \"SWE\", \"CHE\", \"TWN\", \"THA\", \"GBR\", \"USA\", \"ARE\", \"VNM\"], \"name\": \"\", \"z\": [0.0, 0.0, 0.0, 0.0, 0.0, 0.0, 0.0, 0.0, 0.0, 0.0, 0.0, 0.0, 0.0, 0.0, 0.0, 2.0, 0.0, 0.0, 0.0, 2.0, 0.0, 0.0, 43.0, 0.0, 0.0, 0.0, 29.0, 5.0, 0.0, 0.0, 0.0, 0.0, 0.0, 2835.0, 0.0, 0.0, 0.0, 0.0, 0.0, 0.0, 0.0, 0.0, 0.0, 0.0, 6.0, 0.0, 1.0, 0.0, 0.0, 0.0, 0.0, 0.0, 16.0, 0.0, 0.0, 0.0, 0.0, 1.0, 0.0, 0.0, 1.0, 0.0, 0.0], \"type\": \"choropleth\"}], \"name\": \"2020-02-29\"}, {\"data\": [{\"coloraxis\": \"coloraxis\", \"geo\": \"geo\", \"hoverlabel\": {\"namelength\": 0}, \"hovertemplate\": \"last_update=2020-03-01<br>alpha_code=%{location}<br>deaths=%{z}\", \"locations\": [\"AFG\", \"DZA\", \"ARM\", \"AUS\", \"AUT\", \"AZE\", \"BHR\", \"BLR\", \"BEL\", \"BRA\", \"KHM\", \"CAN\", \"HRV\", \"CZE\", \"DNK\", \"DOM\", \"ECU\", \"EGY\", \"EST\", \"FIN\", \"FRA\", \"GEO\", \"DEU\", \"GRC\", \"HKG\", \"ISL\", \"IND\", \"IRN\", \"IRQ\", \"IRL\", \"ISR\", \"ITA\", \"JPN\", \"KWT\", \"LBN\", \"LTU\", \"LUX\", \"MAC\", \"CHN\", \"MYS\", \"MEX\", \"MCO\", \"NPL\", \"NLD\", \"NZL\", \"NGA\", \"MKD\", \"NOR\", \"OMN\", null, \"PAK\", \"PHL\", \"QAT\", \"ROU\", \"RUS\", \"SMR\", \"SGP\", \"KOR\", \"ESP\", \"LKA\", \"SWE\", \"CHE\", \"TWN\", \"THA\", \"GBR\", \"USA\", \"ARE\", \"VNM\"], \"name\": \"\", \"z\": [0.0, 0.0, 0.0, 1.0, 0.0, 0.0, 0.0, 0.0, 0.0, 0.0, 0.0, 0.0, 0.0, 0.0, 0.0, 0.0, 0.0, 0.0, 0.0, 0.0, 2.0, 0.0, 0.0, 0.0, 2.0, 0.0, 0.0, 54.0, 0.0, 0.0, 0.0, 34.0, 6.0, 0.0, 0.0, 0.0, 0.0, 0.0, 2870.0, 0.0, 0.0, 0.0, 0.0, 0.0, 0.0, 0.0, 0.0, 0.0, 0.0, 6.0, 0.0, 1.0, 0.0, 0.0, 0.0, 0.0, 0.0, 17.0, 0.0, 0.0, 0.0, 0.0, 1.0, 1.0, 0.0, 1.0, 0.0, 0.0], \"type\": \"choropleth\"}], \"name\": \"2020-03-01\"}, {\"data\": [{\"coloraxis\": \"coloraxis\", \"geo\": \"geo\", \"hoverlabel\": {\"namelength\": 0}, \"hovertemplate\": \"last_update=2020-03-02<br>alpha_code=%{location}<br>deaths=%{z}\", \"locations\": [\"AFG\", \"DZA\", \"AND\", \"ARM\", \"AUS\", \"AUT\", \"AZE\", \"BHR\", \"BLR\", \"BEL\", \"BRA\", \"KHM\", \"CAN\", \"HRV\", \"CZE\", \"DNK\", \"DOM\", \"ECU\", \"EGY\", \"EST\", \"FIN\", \"FRA\", \"GEO\", \"DEU\", \"GRC\", \"HKG\", \"ISL\", \"IND\", \"IDN\", \"IRN\", \"IRQ\", \"IRL\", \"ISR\", \"ITA\", \"JPN\", \"KWT\", \"LVA\", \"LBN\", \"LTU\", \"LUX\", \"MAC\", \"CHN\", \"MYS\", \"MEX\", \"MCO\", \"MAR\", \"NPL\", \"NLD\", \"NZL\", \"NGA\", \"MKD\", \"NOR\", \"OMN\", null, \"PAK\", \"PHL\", \"PRT\", \"QAT\", \"ROU\", \"RUS\", \"SMR\", \"SAU\", \"SEN\", \"SGP\", \"KOR\", \"ESP\", \"LKA\", \"SWE\", \"CHE\", \"TWN\", \"THA\", \"GBR\", \"USA\", \"ARE\", \"VNM\"], \"name\": \"\", \"z\": [0.0, 0.0, 0.0, 0.0, 1.0, 0.0, 0.0, 0.0, 0.0, 0.0, 0.0, 0.0, 0.0, 0.0, 0.0, 0.0, 0.0, 0.0, 0.0, 0.0, 0.0, 3.0, 0.0, 0.0, 0.0, 2.0, 0.0, 0.0, 0.0, 66.0, 0.0, 0.0, 0.0, 52.0, 6.0, 0.0, 0.0, 0.0, 0.0, 0.0, 0.0, 2912.0, 0.0, 0.0, 0.0, 0.0, 0.0, 0.0, 0.0, 0.0, 0.0, 0.0, 0.0, 6.0, 0.0, 1.0, 0.0, 0.0, 0.0, 0.0, 0.0, 0.0, 0.0, 0.0, 28.0, 0.0, 0.0, 0.0, 0.0, 1.0, 1.0, 0.0, 6.0, 0.0, 0.0], \"type\": \"choropleth\"}], \"name\": \"2020-03-02\"}, {\"data\": [{\"coloraxis\": \"coloraxis\", \"geo\": \"geo\", \"hoverlabel\": {\"namelength\": 0}, \"hovertemplate\": \"last_update=2020-03-03<br>alpha_code=%{location}<br>deaths=%{z}\", \"locations\": [\"AFG\", \"DZA\", \"AND\", \"ARG\", \"ARM\", \"AUS\", \"AUT\", \"AZE\", \"BHR\", \"BLR\", \"BEL\", \"BRA\", \"KHM\", \"CAN\", \"CHL\", \"HRV\", \"CZE\", \"DNK\", \"DOM\", \"ECU\", \"EGY\", \"EST\", \"FIN\", \"FRA\", \"GEO\", \"DEU\", \"GRC\", \"HKG\", \"ISL\", \"IND\", \"IDN\", \"IRN\", \"IRQ\", \"IRL\", \"ISR\", \"ITA\", \"JPN\", \"JOR\", \"KWT\", \"LVA\", \"LBN\", \"LTU\", \"LUX\", \"MAC\", \"CHN\", \"MYS\", \"MEX\", \"MCO\", \"MAR\", \"NPL\", \"NLD\", \"NZL\", \"NGA\", \"MKD\", \"NOR\", \"OMN\", null, \"PAK\", \"PHL\", \"PRT\", \"QAT\", \"ROU\", \"RUS\", \"SMR\", \"SAU\", \"SEN\", \"SGP\", \"KOR\", \"ESP\", \"LKA\", \"SWE\", \"CHE\", \"TWN\", \"THA\", \"GBR\", \"USA\", \"UKR\", \"ARE\", \"VNM\"], \"name\": \"\", \"z\": [0.0, 0.0, 0.0, 0.0, 0.0, 1.0, 0.0, 0.0, 0.0, 0.0, 0.0, 0.0, 0.0, 0.0, 0.0, 0.0, 0.0, 0.0, 0.0, 0.0, 0.0, 0.0, 0.0, 4.0, 0.0, 0.0, 0.0, 2.0, 0.0, 0.0, 0.0, 77.0, 0.0, 0.0, 0.0, 79.0, 6.0, 0.0, 0.0, 0.0, 0.0, 0.0, 0.0, 0.0, 2945.0, 0.0, 0.0, 0.0, 0.0, 0.0, 0.0, 0.0, 0.0, 0.0, 0.0, 0.0, 6.0, 0.0, 1.0, 0.0, 0.0, 0.0, 0.0, 1.0, 0.0, 0.0, 0.0, 28.0, 1.0, 0.0, 0.0, 0.0, 1.0, 1.0, 0.0, 7.0, 0.0, 0.0, 0.0], \"type\": \"choropleth\"}], \"name\": \"2020-03-03\"}, {\"data\": [{\"coloraxis\": \"coloraxis\", \"geo\": \"geo\", \"hoverlabel\": {\"namelength\": 0}, \"hovertemplate\": \"last_update=2020-03-04<br>alpha_code=%{location}<br>deaths=%{z}\", \"locations\": [\"AFG\", \"DZA\", \"AND\", \"ARG\", \"ARM\", \"AUS\", \"AUT\", \"AZE\", \"BHR\", \"BLR\", \"BEL\", \"BRA\", \"KHM\", \"CAN\", \"CHL\", \"HRV\", \"CZE\", \"DNK\", \"DOM\", \"ECU\", \"EGY\", \"EST\", \"FRO\", \"FIN\", \"FRA\", \"GEO\", \"DEU\", \"GIB\", \"GRC\", \"HKG\", \"HUN\", \"ISL\", \"IND\", \"IDN\", \"IRN\", \"IRQ\", \"IRL\", \"ISR\", \"ITA\", \"JPN\", \"JOR\", \"KWT\", \"LVA\", \"LBN\", \"LIE\", \"LTU\", \"LUX\", \"MAC\", \"CHN\", \"MYS\", \"MEX\", \"MCO\", \"MAR\", \"NPL\", \"NLD\", \"NZL\", \"NGA\", \"MKD\", \"NOR\", \"OMN\", null, \"PAK\", \"PHL\", \"POL\", \"PRT\", \"QAT\", \"ROU\", \"RUS\", \"BLM\", \"SMR\", \"SAU\", \"SEN\", \"SGP\", \"KOR\", \"ESP\", \"LKA\", \"SWE\", \"CHE\", \"TWN\", \"THA\", \"TUN\", \"GBR\", \"USA\", \"UKR\", \"ARE\", \"VNM\"], \"name\": \"\", \"z\": [0.0, 0.0, 0.0, 0.0, 0.0, 2.0, 0.0, 0.0, 0.0, 0.0, 0.0, 0.0, 0.0, 0.0, 0.0, 0.0, 0.0, 0.0, 0.0, 0.0, 0.0, 0.0, 0.0, 0.0, 4.0, 0.0, 0.0, 0.0, 0.0, 2.0, 0.0, 0.0, 0.0, 0.0, 92.0, 2.0, 0.0, 0.0, 107.0, 6.0, 0.0, 0.0, 0.0, 0.0, 0.0, 0.0, 0.0, 0.0, 2981.0, 0.0, 0.0, 0.0, 0.0, 0.0, 0.0, 0.0, 0.0, 0.0, 0.0, 0.0, 6.0, 0.0, 1.0, 0.0, 0.0, 0.0, 0.0, 0.0, 0.0, 1.0, 0.0, 0.0, 0.0, 35.0, 2.0, 0.0, 0.0, 0.0, 1.0, 1.0, 0.0, 0.0, 11.0, 0.0, 0.0, 0.0], \"type\": \"choropleth\"}], \"name\": \"2020-03-04\"}, {\"data\": [{\"coloraxis\": \"coloraxis\", \"geo\": \"geo\", \"hoverlabel\": {\"namelength\": 0}, \"hovertemplate\": \"last_update=2020-03-05<br>alpha_code=%{location}<br>deaths=%{z}\", \"locations\": [\"AFG\", \"DZA\", \"AND\", \"ARG\", \"ARM\", \"AUS\", \"AUT\", \"AZE\", \"BHR\", \"BLR\", \"BEL\", \"BIH\", \"BRA\", \"KHM\", \"CAN\", \"CHL\", \"HRV\", \"CZE\", \"DNK\", \"DOM\", \"ECU\", \"EGY\", \"EST\", \"FRO\", \"FIN\", \"FRA\", \"GEO\", \"DEU\", \"GIB\", \"GRC\", \"HKG\", \"HUN\", \"ISL\", \"IND\", \"IDN\", \"IRN\", \"IRQ\", \"IRL\", \"ISR\", \"ITA\", \"JPN\", \"JOR\", \"KWT\", \"LVA\", \"LBN\", \"LIE\", \"LTU\", \"LUX\", \"MAC\", \"CHN\", \"MYS\", \"MEX\", \"MCO\", \"MAR\", \"NPL\", \"NLD\", \"NZL\", \"NGA\", \"MKD\", \"NOR\", \"OMN\", null, \"PAK\", \"PSE\", \"PHL\", \"POL\", \"PRT\", \"QAT\", \"ROU\", \"RUS\", \"BLM\", \"SMR\", \"SAU\", \"SEN\", \"SGP\", \"SVN\", \"ZAF\", \"KOR\", \"ESP\", \"LKA\", \"SWE\", \"CHE\", \"TWN\", \"THA\", \"TUN\", \"GBR\", \"USA\", \"UKR\", \"ARE\", \"VNM\"], \"name\": \"\", \"z\": [0.0, 0.0, 0.0, 0.0, 0.0, 2.0, 0.0, 0.0, 0.0, 0.0, 0.0, 0.0, 0.0, 0.0, 0.0, 0.0, 0.0, 0.0, 0.0, 0.0, 0.0, 0.0, 0.0, 0.0, 0.0, 6.0, 0.0, 0.0, 0.0, 0.0, 2.0, 0.0, 0.0, 0.0, 0.0, 107.0, 2.0, 0.0, 0.0, 148.0, 6.0, 0.0, 0.0, 0.0, 0.0, 0.0, 0.0, 0.0, 0.0, 3013.0, 0.0, 0.0, 0.0, 0.0, 0.0, 0.0, 0.0, 0.0, 0.0, 0.0, 0.0, 6.0, 0.0, 0.0, 1.0, 0.0, 0.0, 0.0, 0.0, 0.0, 0.0, 1.0, 0.0, 0.0, 0.0, 0.0, 0.0, 35.0, 3.0, 0.0, 0.0, 1.0, 1.0, 1.0, 0.0, 1.0, 12.0, 0.0, 0.0, 0.0], \"type\": \"choropleth\"}], \"name\": \"2020-03-05\"}, {\"data\": [{\"coloraxis\": \"coloraxis\", \"geo\": \"geo\", \"hoverlabel\": {\"namelength\": 0}, \"hovertemplate\": \"last_update=2020-03-06<br>alpha_code=%{location}<br>deaths=%{z}\", \"locations\": [\"AFG\", \"DZA\", \"AND\", \"ARG\", \"ARM\", \"AUS\", \"AUT\", \"AZE\", \"BHR\", \"BLR\", \"BEL\", \"BTN\", \"BIH\", \"BRA\", \"KHM\", \"CMR\", \"CAN\", \"CHL\", \"COL\", \"CRI\", \"HRV\", \"CZE\", \"DNK\", \"DOM\", \"ECU\", \"EGY\", \"EST\", \"FRO\", \"FIN\", \"FRA\", \"GEO\", \"DEU\", \"GIB\", \"GRC\", \"HKG\", \"HUN\", \"ISL\", \"IND\", \"IDN\", \"IRN\", \"IRQ\", \"IRL\", \"ISR\", \"ITA\", \"JPN\", \"JOR\", \"KWT\", \"LVA\", \"LBN\", \"LIE\", \"LTU\", \"LUX\", \"MAC\", \"CHN\", \"MYS\", \"MEX\", \"MCO\", \"MAR\", \"NPL\", \"NLD\", \"NZL\", \"NGA\", \"MKD\", \"NOR\", \"OMN\", null, \"PAK\", \"PSE\", \"PER\", \"PHL\", \"POL\", \"PRT\", \"QAT\", \"ROU\", \"RUS\", \"BLM\", \"SMR\", \"SAU\", \"SEN\", \"SRB\", \"SGP\", \"SVK\", \"SVN\", \"ZAF\", \"KOR\", \"ESP\", \"LKA\", \"SWE\", \"CHE\", \"TWN\", \"THA\", \"TGO\", \"TUN\", \"GBR\", \"USA\", \"UKR\", \"ARE\", null, \"VNM\"], \"name\": \"\", \"z\": [0.0, 0.0, 0.0, 0.0, 0.0, 2.0, 0.0, 0.0, 0.0, 0.0, 0.0, 0.0, 0.0, 0.0, 0.0, 0.0, 0.0, 0.0, 0.0, 0.0, 0.0, 0.0, 0.0, 0.0, 0.0, 0.0, 0.0, 0.0, 0.0, 9.0, 0.0, 0.0, 0.0, 0.0, 2.0, 0.0, 0.0, 0.0, 0.0, 124.0, 3.0, 0.0, 0.0, 197.0, 6.0, 0.0, 0.0, 0.0, 0.0, 0.0, 0.0, 0.0, 0.0, 3042.0, 0.0, 0.0, 0.0, 0.0, 0.0, 1.0, 0.0, 0.0, 0.0, 0.0, 0.0, 6.0, 0.0, 0.0, 0.0, 1.0, 0.0, 0.0, 0.0, 0.0, 0.0, 0.0, 1.0, 0.0, 0.0, 0.0, 0.0, 0.0, 0.0, 0.0, 42.0, 5.0, 0.0, 0.0, 1.0, 1.0, 1.0, 0.0, 0.0, 2.0, 14.0, 0.0, 0.0, 0.0, 0.0], \"type\": \"choropleth\"}], \"name\": \"2020-03-06\"}, {\"data\": [{\"coloraxis\": \"coloraxis\", \"geo\": \"geo\", \"hoverlabel\": {\"namelength\": 0}, \"hovertemplate\": \"last_update=2020-03-07<br>alpha_code=%{location}<br>deaths=%{z}\", \"locations\": [\"AFG\", \"DZA\", \"AND\", \"ARG\", \"ARM\", \"AUS\", \"AUT\", \"AZE\", \"BHR\", \"BLR\", \"BEL\", \"BTN\", \"BIH\", \"BRA\", \"KHM\", \"CMR\", \"CAN\", \"CHL\", \"COL\", \"CRI\", \"HRV\", \"CZE\", \"DNK\", \"DOM\", \"ECU\", \"EGY\", \"EST\", \"FRO\", \"FIN\", \"FRA\", \"GUF\", \"GEO\", \"DEU\", \"GIB\", \"GRC\", \"HKG\", \"HUN\", \"ISL\", \"IND\", \"IDN\", \"IRN\", \"IRQ\", \"IRL\", \"ISR\", \"ITA\", \"JPN\", \"JOR\", \"KWT\", \"LVA\", \"LBN\", \"LIE\", \"LTU\", \"LUX\", \"MAC\", \"CHN\", \"MYS\", \"MLT\", \"MTQ\", \"MEX\", \"MCO\", \"MAR\", \"NPL\", \"NLD\", \"NZL\", \"NGA\", \"MKD\", \"NOR\", \"OMN\", null, \"PAK\", \"PSE\", \"PER\", \"PHL\", \"POL\", \"PRT\", \"QAT\", \"ROU\", \"RUS\", \"BLM\", \"SMR\", \"SAU\", \"SEN\", \"SRB\", \"SGP\", \"SVK\", \"SVN\", \"ZAF\", \"KOR\", \"ESP\", \"LKA\", \"SWE\", \"CHE\", \"TWN\", \"THA\", \"TGO\", \"TUN\", \"GBR\", \"USA\", \"UKR\", \"ARE\", null, \"VNM\"], \"name\": \"\", \"z\": [0.0, 0.0, 0.0, 0.0, 0.0, 2.0, 0.0, 0.0, 0.0, 0.0, 0.0, 0.0, 0.0, 0.0, 0.0, 0.0, 0.0, 0.0, 0.0, 0.0, 0.0, 0.0, 0.0, 0.0, 0.0, 0.0, 0.0, 0.0, 0.0, 11.0, 0.0, 0.0, 0.0, 0.0, 0.0, 2.0, 0.0, 0.0, 0.0, 0.0, 145.0, 4.0, 0.0, 0.0, 233.0, 6.0, 0.0, 0.0, 0.0, 0.0, 0.0, 0.0, 0.0, 0.0, 3070.0, 0.0, 0.0, 0.0, 0.0, 0.0, 0.0, 0.0, 1.0, 0.0, 0.0, 0.0, 0.0, 0.0, 6.0, 0.0, 0.0, 0.0, 1.0, 0.0, 0.0, 0.0, 0.0, 0.0, 0.0, 1.0, 0.0, 0.0, 0.0, 0.0, 0.0, 0.0, 0.0, 44.0, 10.0, 0.0, 0.0, 1.0, 1.0, 1.0, 0.0, 0.0, 2.0, 17.0, 0.0, 0.0, 0.0, 0.0], \"type\": \"choropleth\"}], \"name\": \"2020-03-07\"}, {\"data\": [{\"coloraxis\": \"coloraxis\", \"geo\": \"geo\", \"hoverlabel\": {\"namelength\": 0}, \"hovertemplate\": \"last_update=2020-03-08<br>alpha_code=%{location}<br>deaths=%{z}\", \"locations\": [\"AFG\", \"DZA\", \"AND\", \"ARG\", \"ARM\", \"AUS\", \"AUT\", \"AZE\", \"BHR\", \"BGD\", \"BLR\", \"BEL\", \"BTN\", \"BIH\", \"BRA\", \"BGR\", \"KHM\", \"CMR\", \"CAN\", \"CHL\", \"COL\", \"CRI\", \"HRV\", \"CZE\", \"DNK\", \"DOM\", \"ECU\", \"EGY\", \"EST\", \"FRO\", \"FIN\", \"FRA\", \"GUF\", \"GEO\", \"DEU\", \"GIB\", \"GRC\", \"HKG\", \"HUN\", \"ISL\", \"IND\", \"IDN\", \"IRN\", \"IRQ\", \"IRL\", \"ISR\", \"ITA\", \"JPN\", \"JOR\", \"KWT\", \"LVA\", \"LBN\", \"LIE\", \"LTU\", \"LUX\", \"MAC\", \"CHN\", \"MYS\", \"MDV\", \"MLT\", \"MTQ\", \"MEX\", null, \"MCO\", \"MAR\", \"NPL\", \"NLD\", \"NZL\", \"NGA\", \"MKD\", \"NOR\", \"OMN\", null, \"PAK\", \"PSE\", \"PRY\", \"PER\", \"PHL\", \"POL\", \"PRT\", \"QAT\", null, \"ROU\", \"RUS\", \"BLM\", \"SMR\", \"SAU\", \"SEN\", \"SRB\", \"SGP\", \"SVK\", \"SVN\", \"ZAF\", \"KOR\", \"ESP\", \"LKA\", \"SWE\", \"CHE\", \"TWN\", \"THA\", \"TGO\", \"TUN\", \"GBR\", \"USA\", \"UKR\", \"ARE\", null, \"VNM\"], \"name\": \"\", \"z\": [0.0, 0.0, 0.0, 1.0, 0.0, 4.0, 0.0, 0.0, 0.0, 0.0, 0.0, 0.0, 0.0, 0.0, 0.0, 0.0, 0.0, 0.0, 0.0, 0.0, 0.0, 0.0, 0.0, 0.0, 0.0, 0.0, 0.0, 1.0, 0.0, 0.0, 0.0, 19.0, 0.0, 0.0, 0.0, 0.0, 0.0, 3.0, 0.0, 0.0, 0.0, 0.0, 194.0, 6.0, 0.0, 0.0, 366.0, 6.0, 0.0, 0.0, 0.0, 0.0, 0.0, 0.0, 0.0, 0.0, 3097.0, 0.0, 0.0, 0.0, 0.0, 0.0, 0.0, 0.0, 0.0, 0.0, 3.0, 0.0, 0.0, 0.0, 0.0, 0.0, 6.0, 0.0, 0.0, 0.0, 0.0, 1.0, 0.0, 0.0, 0.0, 0.0, 0.0, 0.0, 0.0, 1.0, 0.0, 0.0, 0.0, 0.0, 0.0, 0.0, 0.0, 50.0, 17.0, 0.0, 0.0, 2.0, 1.0, 1.0, 0.0, 0.0, 3.0, 21.0, 0.0, 0.0, 0.0, 0.0], \"type\": \"choropleth\"}], \"name\": \"2020-03-08\"}, {\"data\": [{\"coloraxis\": \"coloraxis\", \"geo\": \"geo\", \"hoverlabel\": {\"namelength\": 0}, \"hovertemplate\": \"last_update=2020-03-09<br>alpha_code=%{location}<br>deaths=%{z}\", \"locations\": [\"AFG\", \"ALB\", \"DZA\", \"AND\", \"ARG\", \"ARM\", \"AUS\", \"AUT\", \"AZE\", \"BHR\", \"BGD\", \"BLR\", \"BEL\", \"BTN\", \"BIH\", \"BRA\", null, \"BGR\", \"KHM\", \"CMR\", \"CAN\", \"CHL\", \"COL\", \"CRI\", \"HRV\", \"CYP\", \"CZE\", \"DNK\", \"DOM\", \"ECU\", \"EGY\", \"EST\", \"FRO\", \"FIN\", \"FRA\", \"GUF\", \"GEO\", \"DEU\", \"GIB\", \"GRC\", \"HKG\", \"HUN\", \"ISL\", \"IND\", \"IDN\", \"IRN\", \"IRQ\", \"IRL\", \"ISR\", \"ITA\", \"JPN\", \"JOR\", \"KWT\", \"LVA\", \"LBN\", \"LIE\", \"LTU\", \"LUX\", \"MAC\", \"CHN\", \"MYS\", \"MDV\", \"MLT\", \"MTQ\", \"MEX\", null, \"MCO\", \"MAR\", \"NPL\", \"NLD\", \"NZL\", \"NGA\", \"MKD\", \"NOR\", \"OMN\", null, \"PAK\", \"PSE\", \"PRY\", \"PER\", \"PHL\", \"POL\", \"PRT\", \"QAT\", \"ROU\", \"RUS\", \"BLM\", \"SMR\", \"SAU\", \"SEN\", \"SRB\", \"SGP\", \"SVK\", \"SVN\", \"ZAF\", \"KOR\", \"ESP\", \"LKA\", null, \"SWE\", \"CHE\", \"TWN\", \"THA\", \"TGO\", \"TUN\", \"GBR\", \"USA\", \"UKR\", \"ARE\", null, \"VNM\"], \"name\": \"\", \"z\": [0.0, 0.0, 0.0, 0.0, 1.0, 0.0, 4.0, 0.0, 0.0, 0.0, 0.0, 0.0, 0.0, 0.0, 0.0, 0.0, 0.0, 0.0, 0.0, 0.0, 1.0, 0.0, 0.0, 0.0, 0.0, 0.0, 0.0, 0.0, 0.0, 0.0, 1.0, 0.0, 0.0, 0.0, 19.0, 0.0, 0.0, 2.0, 0.0, 0.0, 3.0, 0.0, 0.0, 0.0, 0.0, 237.0, 6.0, 0.0, 0.0, 463.0, 17.0, 0.0, 0.0, 0.0, 0.0, 0.0, 0.0, 0.0, 0.0, 3120.0, 0.0, 0.0, 0.0, 0.0, 0.0, 0.0, 0.0, 0.0, 0.0, 3.0, 0.0, 0.0, 0.0, 0.0, 0.0, 6.0, 0.0, 0.0, 0.0, 0.0, 1.0, 0.0, 0.0, 0.0, 0.0, 0.0, 0.0, 1.0, 0.0, 0.0, 0.0, 0.0, 0.0, 0.0, 0.0, 53.0, 28.0, 0.0, 0.0, 0.0, 2.0, 1.0, 1.0, 0.0, 0.0, 4.0, 22.0, 0.0, 0.0, 0.0, 0.0], \"type\": \"choropleth\"}], \"name\": \"2020-03-09\"}, {\"data\": [{\"coloraxis\": \"coloraxis\", \"geo\": \"geo\", \"hoverlabel\": {\"namelength\": 0}, \"hovertemplate\": \"last_update=2020-03-10<br>alpha_code=%{location}<br>deaths=%{z}\", \"locations\": [null, \"AFG\", \"ALB\", \"DZA\", \"AND\", \"ARG\", \"ARM\", \"AUS\", \"AUT\", \"AZE\", \"BHR\", \"BGD\", \"BLR\", \"BEL\", \"BTN\", \"BIH\", \"BRA\", null, \"BGR\", \"BFA\", \"KHM\", \"CMR\", \"CAN\", null, \"CHL\", \"COL\", \"CRI\", \"HRV\", \"CYP\", \"CZE\", \"DNK\", \"DOM\", \"ECU\", \"EGY\", \"EST\", \"FRO\", \"FIN\", \"FRA\", \"GUF\", \"GEO\", \"DEU\", \"GIB\", \"GRC\", \"VAT\", \"HKG\", \"HUN\", \"ISL\", \"IND\", \"IDN\", \"IRN\", \"IRQ\", \"IRL\", \"ISR\", \"ITA\", \"JPN\", \"JOR\", \"KWT\", \"LVA\", \"LBN\", \"LIE\", \"LTU\", \"LUX\", \"MAC\", \"CHN\", \"MYS\", \"MDV\", \"MLT\", \"MTQ\", \"MEX\", null, \"MCO\", \"MNG\", \"MAR\", \"NPL\", \"NLD\", \"NZL\", \"NGA\", \"MKD\", \"NOR\", \"OMN\", null, \"PAK\", \"PAN\", \"PRY\", \"PER\", \"PHL\", \"POL\", \"PRT\", \"QAT\", \"ROU\", \"RUS\", \"BLM\", \"SMR\", \"SAU\", \"SEN\", \"SRB\", \"SGP\", \"SVK\", \"SVN\", \"ZAF\", \"KOR\", \"ESP\", \"LKA\", \"SWE\", \"CHE\", \"TWN\", \"THA\", \"TGO\", \"TUN\", \"GBR\", \"USA\", \"UKR\", \"ARE\", \"VNM\", null], \"name\": \"\", \"z\": [0.0, 0.0, 0.0, 0.0, 0.0, 1.0, 0.0, 3.0, 0.0, 0.0, 0.0, 0.0, 0.0, 0.0, 0.0, 0.0, 0.0, 0.0, 0.0, 0.0, 0.0, 0.0, 1.0, 0.0, 0.0, 0.0, 0.0, 0.0, 0.0, 0.0, 0.0, 0.0, 0.0, 1.0, 0.0, 0.0, 0.0, 33.0, 0.0, 0.0, 2.0, 0.0, 0.0, 0.0, 3.0, 0.0, 0.0, 0.0, 0.0, 291.0, 7.0, 0.0, 0.0, 631.0, 10.0, 0.0, 0.0, 0.0, 1.0, 0.0, 0.0, 0.0, 0.0, 3136.0, 0.0, 0.0, 0.0, 0.0, 0.0, 0.0, 0.0, 0.0, 1.0, 0.0, 4.0, 0.0, 0.0, 0.0, 0.0, 0.0, 6.0, 0.0, 0.0, 0.0, 0.0, 1.0, 0.0, 0.0, 0.0, 0.0, 0.0, 0.0, 2.0, 0.0, 0.0, 0.0, 0.0, 0.0, 0.0, 0.0, 54.0, 35.0, 0.0, 0.0, 3.0, 1.0, 1.0, 0.0, 0.0, 6.0, 28.0, 0.0, 0.0, 0.0, 0.0], \"type\": \"choropleth\"}], \"name\": \"2020-03-10\"}, {\"data\": [{\"coloraxis\": \"coloraxis\", \"geo\": \"geo\", \"hoverlabel\": {\"namelength\": 0}, \"hovertemplate\": \"last_update=2020-03-11<br>alpha_code=%{location}<br>deaths=%{z}\", \"locations\": [\"AFG\", \"ALB\", \"DZA\", \"AND\", \"ARG\", \"ARM\", \"AUS\", \"AUT\", \"AZE\", \"BHR\", \"BGD\", \"BLR\", \"BEL\", \"BTN\", null, \"BIH\", \"BRA\", null, \"BGR\", \"BFA\", \"KHM\", \"CMR\", \"CAN\", \"CHL\", \"COL\", null, \"CRI\", \"HRV\", \"CYP\", \"CZE\", \"DNK\", \"DOM\", \"ECU\", \"EGY\", \"EST\", \"FIN\", \"FRA\", \"GUF\", \"GEO\", \"DEU\", \"GRC\", \"VAT\", \"HND\", \"HKG\", \"HUN\", \"ISL\", \"IND\", \"IDN\", \"IRN\", \"IRQ\", \"IRL\", \"ISR\", \"ITA\", \"CIV\", \"JAM\", \"JPN\", \"JOR\", \"KWT\", \"LVA\", \"LBN\", \"LIE\", \"LTU\", \"LUX\", \"MAC\", \"CHN\", \"MYS\", \"MDV\", \"MLT\", \"MTQ\", \"MEX\", null, \"MCO\", \"MNG\", \"MAR\", \"NPL\", \"NLD\", \"NZL\", \"NGA\", \"MKD\", \"NOR\", \"OMN\", null, \"PAK\", \"PAN\", \"PRY\", \"PER\", \"PHL\", \"POL\", \"PRT\", \"QAT\", null, \"ROU\", \"RUS\", \"SMR\", \"SAU\", \"SEN\", \"SRB\", \"SGP\", \"SVK\", \"SVN\", \"ZAF\", \"KOR\", \"ESP\", \"LKA\", \"SWE\", \"CHE\", \"TWN\", \"THA\", \"TGO\", \"TUN\", \"TUR\", \"GBR\", \"USA\", \"UKR\", \"ARE\", \"VNM\", null], \"name\": \"\", \"z\": [0.0, 1.0, 0.0, 0.0, 1.0, 0.0, 3.0, 0.0, 0.0, 0.0, 0.0, 0.0, 3.0, 0.0, 0.0, 0.0, 0.0, 0.0, 1.0, 0.0, 0.0, 0.0, 1.0, 0.0, 0.0, 0.0, 0.0, 0.0, 0.0, 0.0, 0.0, 0.0, 0.0, 1.0, 0.0, 0.0, 48.0, 0.0, 0.0, 3.0, 1.0, 0.0, 0.0, 3.0, 0.0, 0.0, 1.0, 1.0, 354.0, 7.0, 1.0, 0.0, 827.0, 0.0, 0.0, 15.0, 0.0, 0.0, 0.0, 3.0, 0.0, 0.0, 0.0, 0.0, 3158.0, 0.0, 0.0, 0.0, 0.0, 0.0, 0.0, 0.0, 0.0, 1.0, 0.0, 5.0, 0.0, 0.0, 0.0, 0.0, 0.0, 7.0, 0.0, 1.0, 0.0, 0.0, 1.0, 0.0, 0.0, 0.0, 0.0, 0.0, 0.0, 2.0, 0.0, 0.0, 0.0, 0.0, 0.0, 0.0, 0.0, 60.0, 54.0, 0.0, 1.0, 4.0, 1.0, 1.0, 0.0, 0.0, 0.0, 8.0, 36.0, 0.0, 0.0, 0.0, 0.0], \"type\": \"choropleth\"}], \"name\": \"2020-03-11\"}, {\"data\": [{\"coloraxis\": \"coloraxis\", \"geo\": \"geo\", \"hoverlabel\": {\"namelength\": 0}, \"hovertemplate\": \"last_update=2020-03-12<br>alpha_code=%{location}<br>deaths=%{z}\", \"locations\": [\"AFG\", \"ALB\", \"DZA\", \"AND\", \"ARG\", \"ARM\", \"AUS\", \"AUT\", \"AZE\", \"BHR\", \"BGD\", \"BLR\", \"BEL\", \"BTN\", null, \"BIH\", \"BRA\", null, \"BGR\", \"BFA\", \"KHM\", \"CMR\", \"CAN\", \"CHL\", \"COL\", null, \"CRI\", \"HRV\", \"CUB\", \"CYP\", \"CZE\", \"DNK\", \"DOM\", \"ECU\", \"EGY\", \"EST\", \"FIN\", \"FRA\", \"GUF\", \"GEO\", \"DEU\", \"GRC\", \"GUY\", \"VAT\", \"HND\", \"HKG\", \"HUN\", \"ISL\", \"IND\", \"IDN\", \"IRN\", \"IRQ\", \"IRL\", \"ISR\", \"ITA\", \"CIV\", \"JAM\", \"JPN\", \"JOR\", \"KWT\", \"LVA\", \"LBN\", \"LIE\", \"LTU\", \"LUX\", \"MAC\", \"CHN\", \"MYS\", \"MDV\", \"MLT\", \"MTQ\", \"MEX\", null, \"MCO\", \"MNG\", \"MAR\", \"NPL\", \"NLD\", \"NZL\", \"NGA\", \"MKD\", \"NOR\", \"OMN\", null, \"PAK\", \"PAN\", \"PRY\", \"PER\", \"PHL\", \"POL\", \"PRT\", \"QAT\", null, \"ROU\", \"RUS\", \"SMR\", \"SAU\", \"SEN\", \"SRB\", \"SGP\", \"SVK\", \"SVN\", \"ZAF\", \"KOR\", \"ESP\", \"LKA\", \"SWE\", \"CHE\", \"TWN\", \"THA\", \"TGO\", \"TUN\", \"TUR\", \"GBR\", \"USA\", \"UKR\", \"ARE\", \"VNM\", null], \"name\": \"\", \"z\": [0.0, 1.0, 1.0, 0.0, 1.0, 0.0, 3.0, 1.0, 0.0, 0.0, 0.0, 0.0, 3.0, 0.0, 0.0, 0.0, 0.0, 0.0, 1.0, 0.0, 0.0, 0.0, 1.0, 0.0, 0.0, 0.0, 0.0, 0.0, 0.0, 0.0, 0.0, 0.0, 0.0, 0.0, 1.0, 0.0, 0.0, 48.0, 0.0, 0.0, 3.0, 1.0, 1.0, 0.0, 0.0, 3.0, 0.0, 0.0, 1.0, 1.0, 429.0, 8.0, 1.0, 0.0, 827.0, 0.0, 0.0, 16.0, 0.0, 0.0, 0.0, 3.0, 0.0, 0.0, 0.0, 0.0, 3169.0, 0.0, 0.0, 0.0, 0.0, 0.0, 0.0, 0.0, 0.0, 1.0, 0.0, 5.0, 0.0, 0.0, 0.0, 0.0, 0.0, 7.0, 0.0, 1.0, 0.0, 0.0, 2.0, 1.0, 0.0, 0.0, 0.0, 0.0, 0.0, 3.0, 0.0, 0.0, 0.0, 0.0, 0.0, 0.0, 0.0, 66.0, 55.0, 0.0, 1.0, 4.0, 1.0, 1.0, 0.0, 0.0, 0.0, 8.0, 40.0, 0.0, 0.0, 0.0, 0.0], \"type\": \"choropleth\"}], \"name\": \"2020-03-12\"}, {\"data\": [{\"coloraxis\": \"coloraxis\", \"geo\": \"geo\", \"hoverlabel\": {\"namelength\": 0}, \"hovertemplate\": \"last_update=2020-03-13<br>alpha_code=%{location}<br>deaths=%{z}\", \"locations\": [\"AFG\", \"ALB\", \"DZA\", \"AND\", \"ATG\", \"ARG\", \"ARM\", \"ABW\", \"AUS\", \"AUT\", \"AZE\", \"BHR\", \"BGD\", \"BLR\", \"BEL\", \"BTN\", null, \"BIH\", \"BRA\", null, \"BGR\", \"BFA\", \"KHM\", \"CMR\", \"CAN\", \"CYM\", \"CHL\", \"COL\", null, \"CRI\", \"HRV\", \"CUB\", \"CYP\", \"CZE\", \"DNK\", \"DOM\", \"ECU\", \"EGY\", \"EST\", \"ETH\", \"FIN\", \"FRA\", \"GUF\", \"GEO\", \"DEU\", \"GRC\", \"GLP\", \"GIN\", \"GUY\", \"VAT\", \"HND\", \"HKG\", \"HUN\", \"ISL\", \"IND\", \"IDN\", \"IRN\", \"IRQ\", \"IRL\", \"ISR\", \"ITA\", \"CIV\", \"JAM\", \"JPN\", \"JOR\", \"KAZ\", \"KEN\", \"KWT\", \"LVA\", \"LBN\", \"LIE\", \"LTU\", \"LUX\", \"MAC\", \"CHN\", \"MYS\", \"MDV\", \"MLT\", \"MTQ\", \"MEX\", null, \"MCO\", \"MNG\", \"MAR\", \"NPL\", \"NLD\", \"NZL\", \"NGA\", \"MKD\", \"NOR\", \"OMN\", null, \"PAK\", \"PAN\", \"PRY\", \"PER\", \"PHL\", \"POL\", \"PRT\", \"QAT\", null, \"ROU\", \"RUS\", \"SMR\", \"SAU\", \"SEN\", \"SRB\", \"SGP\", \"SVK\", \"SVN\", \"ZAF\", \"KOR\", \"ESP\", \"LKA\", \"SDN\", \"SWE\", \"CHE\", \"TWN\", \"THA\", \"TGO\", \"TUN\", \"TUR\", \"GBR\", \"USA\", \"UKR\", \"ARE\", \"VNM\"], \"name\": \"\", \"z\": [0.0, 1.0, 2.0, 0.0, 0.0, 2.0, 0.0, 0.0, 3.0, 1.0, 1.0, 0.0, 0.0, 0.0, 3.0, 0.0, 0.0, 0.0, 0.0, 0.0, 1.0, 0.0, 0.0, 0.0, 1.0, 0.0, 0.0, 0.0, 0.0, 0.0, 0.0, 0.0, 0.0, 0.0, 0.0, 0.0, 0.0, 2.0, 0.0, 0.0, 0.0, 79.0, 0.0, 0.0, 7.0, 1.0, 0.0, 0.0, 1.0, 0.0, 0.0, 4.0, 0.0, 0.0, 2.0, 4.0, 514.0, 9.0, 1.0, 0.0, 1266.0, 0.0, 0.0, 19.0, 0.0, 0.0, 0.0, 0.0, 0.0, 3.0, 0.0, 0.0, 0.0, 0.0, 3176.0, 0.0, 0.0, 0.0, 0.0, 0.0, 0.0, 0.0, 0.0, 1.0, 0.0, 10.0, 0.0, 0.0, 0.0, 0.0, 0.0, 7.0, 0.0, 1.0, 0.0, 0.0, 5.0, 2.0, 0.0, 0.0, 0.0, 0.0, 0.0, 5.0, 0.0, 0.0, 0.0, 0.0, 0.0, 0.0, 0.0, 66.0, 133.0, 0.0, 1.0, 1.0, 11.0, 1.0, 1.0, 0.0, 0.0, 0.0, 8.0, 47.0, 1.0, 0.0, 0.0], \"type\": \"choropleth\"}], \"name\": \"2020-03-13\"}, {\"data\": [{\"coloraxis\": \"coloraxis\", \"geo\": \"geo\", \"hoverlabel\": {\"namelength\": 0}, \"hovertemplate\": \"last_update=2020-03-14<br>alpha_code=%{location}<br>deaths=%{z}\", \"locations\": [\"AFG\", \"ALB\", \"DZA\", \"AND\", \"ATG\", \"ARG\", \"ARM\", \"ABW\", \"AUS\", \"AUT\", \"AZE\", \"BHR\", \"BGD\", \"BLR\", \"BEL\", \"BTN\", null, \"BIH\", \"BRA\", null, \"BGR\", \"BFA\", \"KHM\", \"CMR\", \"CAN\", \"CYM\", \"CHL\", \"COL\", null, \"CRI\", \"HRV\", \"CUB\", null, \"CYP\", \"CZE\", \"DNK\", \"DOM\", \"ECU\", \"EGY\", \"EST\", null, \"ETH\", \"FIN\", \"FRA\", \"GUF\", \"GAB\", \"GEO\", \"DEU\", \"GHA\", \"GRC\", \"GLP\", \"GTM\", \"GGY\", \"GIN\", \"GUY\", \"VAT\", \"HND\", \"HKG\", \"HUN\", \"ISL\", \"IND\", \"IDN\", \"IRN\", \"IRQ\", \"IRL\", \"ISR\", \"ITA\", \"CIV\", \"JAM\", \"JPN\", \"JEY\", \"JOR\", \"KAZ\", \"KEN\", \"KWT\", \"LVA\", \"LBN\", \"LIE\", \"LTU\", \"LUX\", \"MAC\", \"CHN\", \"MYS\", \"MDV\", \"MLT\", \"MTQ\", \"MRT\", \"MEX\", null, \"MCO\", \"MNG\", \"MAR\", \"NAM\", \"NPL\", \"NLD\", \"NZL\", \"NGA\", \"MKD\", \"NOR\", \"OMN\", null, \"PAK\", \"PAN\", \"PRY\", \"PER\", \"PHL\", \"POL\", \"PRT\", \"QAT\", null, \"ROU\", \"RUS\", \"RWA\", \"LCA\", \"VCT\", \"SMR\", \"SAU\", \"SEN\", \"SRB\", \"SYC\", \"SGP\", \"SVK\", \"SVN\", \"ZAF\", \"KOR\", \"ESP\", \"LKA\", \"SDN\", \"SUR\", \"SWE\", \"CHE\", \"TWN\", \"THA\", \"TGO\", \"TTO\", \"TUN\", \"TUR\", \"GBR\", \"USA\", \"UKR\", \"ARE\", \"URY\", null, \"VNM\", null], \"name\": \"\", \"z\": [0.0, 1.0, 3.0, 0.0, 0.0, 2.0, 0.0, 0.0, 3.0, 1.0, 1.0, 0.0, 0.0, 0.0, 4.0, 0.0, 0.0, 0.0, 0.0, 0.0, 2.0, 0.0, 0.0, 0.0, 1.0, 0.0, 0.0, 0.0, 0.0, 0.0, 0.0, 0.0, 0.0, 0.0, 0.0, 1.0, 0.0, 2.0, 2.0, 0.0, 0.0, 0.0, 0.0, 91.0, 0.0, 0.0, 0.0, 9.0, 0.0, 3.0, 0.0, 0.0, 0.0, 0.0, 1.0, 0.0, 0.0, 4.0, 0.0, 0.0, 2.0, 5.0, 611.0, 10.0, 2.0, 0.0, 1441.0, 0.0, 0.0, 22.0, 0.0, 0.0, 0.0, 0.0, 0.0, 0.0, 3.0, 0.0, 0.0, 1.0, 0.0, 3189.0, 0.0, 0.0, 0.0, 0.0, 0.0, 0.0, 0.0, 0.0, 0.0, 1.0, 0.0, 0.0, 12.0, 0.0, 0.0, 0.0, 3.0, 0.0, 7.0, 0.0, 1.0, 0.0, 0.0, 8.0, 3.0, 0.0, 0.0, 0.0, 0.0, 0.0, 0.0, 0.0, 0.0, 5.0, 0.0, 0.0, 0.0, 0.0, 0.0, 0.0, 1.0, 0.0, 72.0, 195.0, 0.0, 1.0, 0.0, 2.0, 13.0, 1.0, 1.0, 0.0, 0.0, 0.0, 0.0, 21.0, 54.0, 1.0, 0.0, 0.0, 0.0, 0.0, 0.0], \"type\": \"choropleth\"}], \"name\": \"2020-03-14\"}, {\"data\": [{\"coloraxis\": \"coloraxis\", \"geo\": \"geo\", \"hoverlabel\": {\"namelength\": 0}, \"hovertemplate\": \"last_update=2020-03-15<br>alpha_code=%{location}<br>deaths=%{z}\", \"locations\": [\"AFG\", \"ALB\", \"DZA\", \"AND\", \"ATG\", \"ARG\", \"ARM\", \"ABW\", \"AUS\", \"AUT\", \"AZE\", \"BHR\", \"BGD\", \"BLR\", \"BEL\", \"BTN\", null, \"BIH\", \"BRA\", null, \"BGR\", \"BFA\", \"KHM\", \"CMR\", \"CAN\", \"CYM\", \"CAF\", \"CHL\", \"COL\", null, null, \"CRI\", \"HRV\", \"CUB\", null, \"CYP\", \"CZE\", \"DNK\", \"DOM\", \"ECU\", \"EGY\", \"GNQ\", \"EST\", null, \"ETH\", \"FIN\", \"FRA\", \"GAB\", \"GEO\", \"DEU\", \"GHA\", \"GRC\", \"GLP\", \"GTM\", \"GGY\", \"GIN\", \"GUY\", \"VAT\", \"HND\", \"HKG\", \"HUN\", \"ISL\", \"IND\", \"IDN\", \"IRN\", \"IRQ\", \"IRL\", \"ISR\", \"ITA\", \"CIV\", \"JAM\", \"JPN\", \"JEY\", \"JOR\", \"KAZ\", \"KEN\", null, \"KWT\", \"LVA\", \"LBN\", \"LIE\", \"LTU\", \"LUX\", \"MAC\", \"CHN\", \"MYS\", \"MDV\", \"MLT\", \"MTQ\", \"MRT\", \"MEX\", null, \"MCO\", \"MNG\", \"MAR\", \"NAM\", \"NPL\", \"NLD\", \"NZL\", \"NGA\", \"MKD\", \"NOR\", \"OMN\", null, \"PAK\", \"PAN\", \"PRY\", \"PER\", \"PHL\", \"POL\", \"PRT\", \"QAT\", null, \"ROU\", \"RUS\", \"RWA\", \"LCA\", \"VCT\", \"SMR\", \"SAU\", \"SEN\", \"SRB\", \"SYC\", \"SGP\", \"SVK\", \"SVN\", \"ZAF\", \"KOR\", \"ESP\", \"LKA\", \"SDN\", \"SUR\", \"SWE\", \"CHE\", \"TWN\", \"THA\", \"TGO\", \"TTO\", \"TUN\", \"TUR\", \"GBR\", \"USA\", \"UKR\", \"ARE\", \"URY\", \"UZB\", null, \"VNM\", null], \"name\": \"\", \"z\": [0.0, 1.0, 4.0, 0.0, 0.0, 2.0, 0.0, 0.0, 3.0, 1.0, 1.0, 0.0, 0.0, 0.0, 4.0, 0.0, 0.0, 0.0, 0.0, 0.0, 2.0, 0.0, 0.0, 0.0, 1.0, 0.0, 0.0, 0.0, 0.0, 0.0, 0.0, 0.0, 0.0, 0.0, 0.0, 0.0, 0.0, 2.0, 0.0, 2.0, 2.0, 0.0, 0.0, 0.0, 0.0, 0.0, 91.0, 0.0, 0.0, 11.0, 0.0, 4.0, 0.0, 0.0, 0.0, 0.0, 1.0, 0.0, 0.0, 4.0, 1.0, 5.0, 2.0, 5.0, 724.0, 10.0, 2.0, 0.0, 1809.0, 0.0, 0.0, 22.0, 0.0, 0.0, 0.0, 0.0, 0.0, 0.0, 0.0, 3.0, 0.0, 0.0, 1.0, 0.0, 3199.0, 0.0, 0.0, 0.0, 0.0, 0.0, 0.0, 0.0, 0.0, 0.0, 1.0, 0.0, 0.0, 20.0, 0.0, 0.0, 0.0, 3.0, 0.0, 7.0, 0.0, 1.0, 0.0, 0.0, 11.0, 3.0, 0.0, 0.0, 0.0, 0.0, 0.0, 0.0, 0.0, 0.0, 5.0, 0.0, 0.0, 0.0, 0.0, 0.0, 0.0, 1.0, 0.0, 75.0, 289.0, 0.0, 1.0, 0.0, 3.0, 14.0, 1.0, 1.0, 0.0, 0.0, 0.0, 0.0, 21.0, 63.0, 1.0, 0.0, 0.0, 0.0, 0.0, 0.0, 0.0], \"type\": \"choropleth\"}], \"name\": \"2020-03-15\"}, {\"data\": [{\"coloraxis\": \"coloraxis\", \"geo\": \"geo\", \"hoverlabel\": {\"namelength\": 0}, \"hovertemplate\": \"last_update=2020-03-16<br>alpha_code=%{location}<br>deaths=%{z}\", \"locations\": [\"AFG\", \"ALB\", \"DZA\", \"AND\", \"ATG\", \"ARG\", \"ARM\", \"ABW\", \"AUS\", \"AUT\", \"AZE\", \"BHR\", \"BGD\", \"BLR\", \"BEL\", \"BEN\", \"BTN\", null, \"BIH\", \"BRA\", null, \"BGR\", \"BFA\", \"KHM\", \"CMR\", \"CAN\", \"CAF\", \"CHL\", \"COL\", null, null, \"CRI\", \"HRV\", \"CUB\", \"CYP\", \"CZE\", \"DNK\", \"DOM\", \"ECU\", \"EGY\", \"GNQ\", \"EST\", null, \"ETH\", \"FIN\", \"FRA\", \"GUF\", \"GAB\", \"GEO\", \"DEU\", \"GHA\", \"GRC\", \"GRL\", \"GLP\", \"GUM\", \"GTM\", \"GGY\", \"GIN\", \"GUY\", \"VAT\", \"HND\", \"HKG\", \"HUN\", \"ISL\", \"IND\", \"IDN\", \"IRN\", \"IRQ\", \"IRL\", \"ISR\", \"ITA\", \"CIV\", \"JAM\", \"JPN\", \"JEY\", \"JOR\", \"KAZ\", \"KEN\", null, \"KWT\", \"LVA\", \"LBN\", \"LBR\", \"LIE\", \"LTU\", \"LUX\", \"MAC\", \"CHN\", \"MYS\", \"MDV\", \"MLT\", \"MTQ\", \"MRT\", \"MYT\", \"MEX\", null, \"MCO\", \"MNG\", \"MAR\", \"NAM\", \"NPL\", \"NLD\", \"NZL\", \"NGA\", \"MKD\", \"NOR\", \"OMN\", null, \"PAK\", \"PAN\", \"PRY\", \"PER\", \"PHL\", \"POL\", \"PRT\", \"PRI\", \"QAT\", null, null, \"ROU\", \"RUS\", \"RWA\", \"LCA\", \"VCT\", \"SMR\", \"SAU\", \"SEN\", \"SRB\", \"SYC\", \"SGP\", \"SVK\", \"SVN\", \"SOM\", \"ZAF\", \"KOR\", \"ESP\", \"LKA\", \"SDN\", \"SUR\", \"SWE\", \"CHE\", \"TWN\", null, \"THA\", null, \"TGO\", \"TTO\", \"TUN\", \"TUR\", \"GBR\", \"USA\", \"UKR\", \"ARE\", \"URY\", \"UZB\", null, \"VNM\", null], \"name\": \"\", \"z\": [0.0, 1.0, 4.0, 0.0, 0.0, 2.0, 0.0, 0.0, 3.0, 3.0, 1.0, 1.0, 0.0, 0.0, 5.0, 0.0, 0.0, 0.0, 0.0, 0.0, 0.0, 2.0, 0.0, 0.0, 0.0, 4.0, 0.0, 0.0, 0.0, 0.0, 0.0, 0.0, 0.0, 0.0, 0.0, 0.0, 3.0, 0.0, 2.0, 2.0, 0.0, 0.0, 0.0, 0.0, 0.0, 148.0, 0.0, 0.0, 0.0, 17.0, 0.0, 4.0, 0.0, 0.0, 0.0, 1.0, 0.0, 0.0, 1.0, 0.0, 0.0, 4.0, 1.0, 0.0, 2.0, 5.0, 853.0, 10.0, 2.0, 0.0, 2158.0, 0.0, 0.0, 27.0, 0.0, 0.0, 0.0, 0.0, 0.0, 0.0, 0.0, 3.0, 0.0, 0.0, 0.0, 1.0, 0.0, 3213.0, 0.0, 0.0, 0.0, 1.0, 0.0, 0.0, 0.0, 0.0, 0.0, 0.0, 1.0, 0.0, 0.0, 24.0, 0.0, 0.0, 0.0, 3.0, 0.0, 7.0, 0.0, 1.0, 0.0, 0.0, 12.0, 4.0, 0.0, 0.0, 0.0, 0.0, 0.0, 0.0, 0.0, 0.0, 0.0, 0.0, 7.0, 0.0, 0.0, 0.0, 0.0, 0.0, 0.0, 1.0, 0.0, 0.0, 75.0, 342.0, 0.0, 1.0, 0.0, 6.0, 14.0, 1.0, 0.0, 1.0, 0.0, 0.0, 0.0, 0.0, 0.0, 56.0, 85.0, 1.0, 0.0, 0.0, 0.0, 0.0, 0.0, 0.0], \"type\": \"choropleth\"}], \"name\": \"2020-03-16\"}, {\"data\": [{\"coloraxis\": \"coloraxis\", \"geo\": \"geo\", \"hoverlabel\": {\"namelength\": 0}, \"hovertemplate\": \"last_update=2020-03-17<br>alpha_code=%{location}<br>deaths=%{z}\", \"locations\": [\"AFG\", \"ALB\", \"DZA\", \"AND\", \"ATG\", \"ARG\", \"ARM\", \"ABW\", \"AUS\", \"AUT\", \"AZE\", \"BHR\", \"BGD\", \"BRB\", \"BLR\", \"BEL\", \"BEN\", \"BTN\", null, \"BIH\", \"BRA\", null, \"BGR\", \"BFA\", \"KHM\", \"CMR\", \"CAN\", \"CAF\", \"CHL\", \"COL\", null, null, \"CRI\", \"HRV\", \"CUB\", \"CYP\", \"CZE\", \"DNK\", \"DOM\", \"ECU\", \"EGY\", \"GNQ\", \"EST\", null, \"ETH\", \"FIN\", \"FRA\", \"GUF\", \"GAB\", \"GEO\", \"DEU\", \"GHA\", \"GRC\", \"GRL\", \"GLP\", \"GUM\", \"GTM\", \"GGY\", \"GIN\", \"GUY\", \"VAT\", \"HND\", \"HKG\", \"HUN\", \"ISL\", \"IND\", \"IDN\", \"IRN\", \"IRQ\", \"IRL\", \"ISR\", \"ITA\", \"CIV\", \"JAM\", \"JPN\", \"JEY\", \"JOR\", \"KAZ\", \"KEN\", null, \"KWT\", \"LVA\", \"LBN\", \"LBR\", \"LIE\", \"LTU\", \"LUX\", \"MAC\", \"CHN\", \"MYS\", \"MDV\", \"MLT\", \"MTQ\", \"MRT\", \"MYT\", \"MEX\", null, \"MCO\", \"MNG\", \"MNE\", \"MAR\", \"NAM\", \"NPL\", \"NLD\", \"NZL\", \"NGA\", \"MKD\", \"NOR\", \"OMN\", null, \"PAK\", \"PAN\", \"PRY\", \"PER\", \"PHL\", \"POL\", \"PRT\", \"PRI\", \"QAT\", null, null, \"ROU\", \"RUS\", \"RWA\", \"LCA\", \"VCT\", \"SMR\", \"SAU\", \"SEN\", \"SRB\", \"SYC\", \"SGP\", \"SVK\", \"SVN\", \"SOM\", \"ZAF\", \"KOR\", \"ESP\", \"LKA\", \"SDN\", \"SUR\", \"SWE\", \"CHE\", \"TWN\", null, \"THA\", null, null, \"TGO\", \"TTO\", \"TUN\", \"TUR\", \"GBR\", \"USA\", \"UKR\", \"ARE\", \"URY\", \"UZB\", null, \"VNM\", null], \"name\": \"\", \"z\": [0.0, 1.0, 4.0, 0.0, 0.0, 2.0, 0.0, 0.0, 5.0, 3.0, 1.0, 1.0, 0.0, 0.0, 0.0, 10.0, 0.0, 0.0, 0.0, 0.0, 1.0, 0.0, 2.0, 0.0, 0.0, 0.0, 5.0, 0.0, 0.0, 0.0, 0.0, 0.0, 0.0, 0.0, 0.0, 0.0, 0.0, 4.0, 1.0, 2.0, 4.0, 0.0, 0.0, 0.0, 0.0, 0.0, 148.0, 0.0, 0.0, 0.0, 24.0, 0.0, 5.0, 0.0, 0.0, 0.0, 1.0, 0.0, 0.0, 1.0, 0.0, 0.0, 4.0, 1.0, 1.0, 3.0, 5.0, 988.0, 11.0, 2.0, 0.0, 2503.0, 0.0, 0.0, 29.0, 0.0, 0.0, 0.0, 0.0, 0.0, 0.0, 0.0, 3.0, 0.0, 0.0, 0.0, 1.0, 0.0, 3226.0, 2.0, 0.0, 0.0, 1.0, 0.0, 0.0, 0.0, 0.0, 0.0, 0.0, 0.0, 2.0, 0.0, 0.0, 43.0, 0.0, 0.0, 0.0, 3.0, 0.0, 7.0, 0.0, 1.0, 0.0, 0.0, 12.0, 5.0, 1.0, 0.0, 0.0, 0.0, 0.0, 0.0, 0.0, 0.0, 0.0, 0.0, 7.0, 0.0, 0.0, 0.0, 0.0, 0.0, 0.0, 1.0, 0.0, 0.0, 81.0, 533.0, 0.0, 1.0, 0.0, 7.0, 27.0, 1.0, 0.0, 1.0, 0.0, 0.0, 0.0, 0.0, 0.0, 1.0, 56.0, 108.0, 2.0, 0.0, 0.0, 0.0, 0.0, 0.0, 0.0], \"type\": \"choropleth\"}], \"name\": \"2020-03-17\"}, {\"data\": [{\"coloraxis\": \"coloraxis\", \"geo\": \"geo\", \"hoverlabel\": {\"namelength\": 0}, \"hovertemplate\": \"last_update=2020-03-18<br>alpha_code=%{location}<br>deaths=%{z}\", \"locations\": [\"AFG\", \"ALB\", \"DZA\", \"AND\", \"ATG\", \"ARG\", \"ARM\", \"ABW\", \"AUS\", \"AUT\", \"AZE\", \"BHR\", \"BGD\", \"BRB\", \"BLR\", \"BEL\", \"BEN\", \"BTN\", null, \"BIH\", \"BRA\", null, \"BGR\", \"BFA\", \"KHM\", \"CMR\", \"CAN\", \"CAF\", \"CHL\", \"COL\", null, null, \"CRI\", \"HRV\", \"CUB\", \"CYP\", \"CZE\", \"DNK\", \"DJI\", \"DOM\", \"ECU\", \"EGY\", \"GNQ\", \"EST\", null, \"ETH\", \"FIN\", \"FRA\", \"GUF\", \"GAB\", null, \"GEO\", \"DEU\", \"GHA\", \"GRC\", \"GRL\", \"GLP\", \"GUM\", \"GTM\", \"GGY\", \"GIN\", \"GUY\", \"VAT\", \"HND\", \"HKG\", \"HUN\", \"ISL\", \"IND\", \"IDN\", \"IRN\", \"IRQ\", \"IRL\", \"ISR\", \"ITA\", \"CIV\", \"JAM\", \"JPN\", \"JEY\", \"JOR\", \"KAZ\", \"KEN\", null, \"KWT\", \"KGZ\", \"LVA\", \"LBN\", \"LBR\", \"LIE\", \"LTU\", \"LUX\", \"MAC\", \"CHN\", \"MYS\", \"MDV\", \"MLT\", \"MTQ\", \"MRT\", \"MUS\", \"MYT\", \"MEX\", null, \"MCO\", \"MNG\", \"MNE\", \"MAR\", \"NAM\", \"NPL\", \"NLD\", \"NZL\", \"NGA\", \"MKD\", \"NOR\", \"OMN\", null, \"PAK\", \"PAN\", \"PRY\", \"PER\", \"PHL\", \"POL\", \"PRT\", \"PRI\", \"QAT\", null, null, \"ROU\", \"RUS\", \"RWA\", \"LCA\", \"VCT\", \"SMR\", \"SAU\", \"SEN\", \"SRB\", \"SYC\", \"SGP\", \"SVK\", \"SVN\", \"SOM\", \"ZAF\", \"KOR\", \"ESP\", \"LKA\", \"SDN\", \"SUR\", \"SWE\", \"CHE\", \"TWN\", null, \"THA\", null, null, \"TGO\", \"TTO\", \"TUN\", \"TUR\", \"GBR\", \"USA\", \"UKR\", \"ARE\", \"URY\", \"UZB\", null, \"VNM\", \"ZMB\"], \"name\": \"\", \"z\": [0.0, 2.0, 7.0, 0.0, 0.0, 2.0, 0.0, 0.0, 6.0, 4.0, 1.0, 1.0, 1.0, 0.0, 0.0, 14.0, 0.0, 0.0, 0.0, 0.0, 3.0, 0.0, 2.0, 1.0, 0.0, 0.0, 8.0, 0.0, 0.0, 0.0, 0.0, 0.0, 0.0, 0.0, 1.0, 0.0, 0.0, 4.0, 0.0, 1.0, 2.0, 6.0, 0.0, 0.0, 0.0, 0.0, 0.0, 148.0, 0.0, 0.0, 0.0, 0.0, 28.0, 0.0, 5.0, 0.0, 0.0, 0.0, 1.0, 0.0, 0.0, 1.0, 0.0, 0.0, 4.0, 1.0, 1.0, 3.0, 19.0, 1135.0, 12.0, 2.0, 0.0, 2978.0, 0.0, 0.0, 29.0, 0.0, 0.0, 0.0, 0.0, 0.0, 0.0, 0.0, 0.0, 3.0, 0.0, 0.0, 0.0, 2.0, 0.0, 3237.0, 2.0, 0.0, 0.0, 1.0, 0.0, 0.0, 0.0, 0.0, 1.0, 0.0, 0.0, 0.0, 2.0, 0.0, 0.0, 58.0, 0.0, 0.0, 0.0, 6.0, 0.0, 7.0, 0.0, 1.0, 0.0, 0.0, 19.0, 5.0, 2.0, 0.0, 0.0, 0.0, 0.0, 0.0, 0.0, 0.0, 0.0, 0.0, 11.0, 0.0, 0.0, 0.0, 0.0, 0.0, 1.0, 1.0, 0.0, 0.0, 84.0, 623.0, 0.0, 1.0, 0.0, 10.0, 28.0, 1.0, 0.0, 1.0, 0.0, 0.0, 0.0, 0.0, 0.0, 1.0, 72.0, 118.0, 2.0, 0.0, 0.0, 0.0, 0.0, 0.0, 0.0], \"type\": \"choropleth\"}], \"name\": \"2020-03-18\"}, {\"data\": [{\"coloraxis\": \"coloraxis\", \"geo\": \"geo\", \"hoverlabel\": {\"namelength\": 0}, \"hovertemplate\": \"last_update=2020-03-19<br>alpha_code=%{location}<br>deaths=%{z}\", \"locations\": [\"AFG\", \"ALB\", \"DZA\", \"AND\", \"ATG\", \"ARG\", \"ARM\", \"ABW\", \"AUS\", \"AUT\", \"AZE\", null, \"BHR\", \"BGD\", \"BRB\", \"BLR\", \"BEL\", \"BEN\", \"BTN\", null, \"BIH\", \"BRA\", null, \"BGR\", \"BFA\", \"KHM\", \"CMR\", \"CAN\", \"CAF\", \"TCD\", \"CHL\", \"COL\", null, null, \"CRI\", \"HRV\", \"CUB\", \"CYP\", \"CZE\", \"DNK\", \"DJI\", \"DOM\", \"ECU\", \"EGY\", \"SLV\", \"GNQ\", \"EST\", null, \"ETH\", \"FJI\", \"FIN\", \"FRA\", \"GUF\", \"GAB\", null, \"GEO\", \"DEU\", \"GHA\", \"GRC\", \"GRL\", \"GLP\", \"GUM\", \"GTM\", \"GGY\", \"GIN\", \"GUY\", \"VAT\", \"HND\", \"HKG\", \"HUN\", \"ISL\", \"IND\", \"IDN\", \"IRN\", \"IRQ\", \"IRL\", \"ISR\", \"ITA\", \"CIV\", \"JAM\", \"JPN\", \"JEY\", \"JOR\", \"KAZ\", \"KEN\", null, \"KWT\", \"KGZ\", \"LVA\", \"LBN\", \"LBR\", \"LIE\", \"LTU\", \"LUX\", \"MAC\", \"CHN\", \"MYS\", \"MDV\", \"MLT\", \"MTQ\", \"MRT\", \"MUS\", \"MYT\", \"MEX\", null, \"MCO\", \"MNG\", \"MNE\", \"MAR\", \"NAM\", \"NPL\", \"NLD\", \"NZL\", \"NIC\", \"NGA\", \"MKD\", \"NOR\", \"OMN\", null, \"PAK\", \"PAN\", \"PRY\", \"PER\", \"PHL\", \"POL\", \"PRT\", \"PRI\", \"QAT\", null, null, \"ROU\", \"RUS\", \"RWA\", \"LCA\", \"VCT\", \"SMR\", \"SAU\", \"SEN\", \"SRB\", \"SYC\", \"SGP\", \"SVK\", \"SVN\", \"SOM\", \"ZAF\", \"KOR\", \"ESP\", \"LKA\", \"SDN\", \"SUR\", \"SWE\", \"CHE\", \"TWN\", null, \"THA\", null, null, \"TGO\", \"TTO\", \"TUN\", \"TUR\", \"GBR\", \"USA\", \"UKR\", \"ARE\", \"URY\", \"UZB\", null, \"VNM\", \"ZMB\"], \"name\": \"\", \"z\": [0.0, 2.0, 9.0, 0.0, 0.0, 3.0, 0.0, 0.0, 6.0, 6.0, 1.0, 0.0, 1.0, 1.0, 0.0, 0.0, 21.0, 0.0, 0.0, 0.0, 0.0, 6.0, 0.0, 3.0, 1.0, 0.0, 0.0, 9.0, 0.0, 0.0, 0.0, 0.0, 0.0, 0.0, 1.0, 1.0, 1.0, 0.0, 0.0, 6.0, 0.0, 2.0, 3.0, 6.0, 0.0, 0.0, 0.0, 0.0, 0.0, 0.0, 0.0, 243.0, 0.0, 0.0, 0.0, 0.0, 44.0, 0.0, 6.0, 0.0, 0.0, 0.0, 1.0, 0.0, 0.0, 1.0, 0.0, 0.0, 4.0, 1.0, 1.0, 4.0, 25.0, 1284.0, 13.0, 3.0, 0.0, 3405.0, 0.0, 1.0, 29.0, 0.0, 0.0, 0.0, 0.0, 0.0, 0.0, 0.0, 0.0, 4.0, 0.0, 0.0, 0.0, 4.0, 0.0, 3245.0, 2.0, 0.0, 0.0, 1.0, 0.0, 0.0, 0.0, 1.0, 1.0, 0.0, 0.0, 0.0, 2.0, 0.0, 0.0, 77.0, 0.0, 0.0, 0.0, 0.0, 7.0, 0.0, 7.0, 2.0, 1.0, 0.0, 0.0, 17.0, 5.0, 3.0, 0.0, 0.0, 0.0, 0.0, 0.0, 1.0, 0.0, 0.0, 0.0, 11.0, 0.0, 0.0, 0.0, 0.0, 0.0, 1.0, 1.0, 0.0, 0.0, 91.0, 830.0, 0.0, 1.0, 0.0, 11.0, 41.0, 1.0, 0.0, 1.0, 0.0, 0.0, 0.0, 0.0, 1.0, 3.0, 138.0, 200.0, 2.0, 0.0, 0.0, 0.0, 0.0, 0.0, 0.0], \"type\": \"choropleth\"}], \"name\": \"2020-03-19\"}, {\"data\": [{\"coloraxis\": \"coloraxis\", \"geo\": \"geo\", \"hoverlabel\": {\"namelength\": 0}, \"hovertemplate\": \"last_update=2020-03-20<br>alpha_code=%{location}<br>deaths=%{z}\", \"locations\": [\"AFG\", \"ALB\", \"DZA\", \"AND\", \"AGO\", \"ATG\", \"ARG\", \"ARM\", \"AUS\", \"AUT\", \"AZE\", null, \"BHR\", \"BGD\", \"BRB\", \"BLR\", \"BEL\", \"BEN\", \"BTN\", null, \"BIH\", \"BRA\", null, \"BGR\", \"BFA\", \"CPV\", \"KHM\", \"CMR\", \"CAN\", \"CAF\", \"TCD\", \"CHL\", \"COL\", null, null, \"CRI\", \"HRV\", \"CUB\", \"CYP\", \"CZE\", \"DNK\", \"DJI\", \"DOM\", \"ECU\", \"EGY\", \"SLV\", \"GNQ\", \"EST\", null, \"ETH\", \"FJI\", \"FIN\", \"FRA\", \"GUF\", \"GAB\", null, \"GEO\", \"DEU\", \"GHA\", \"GRC\", \"GRL\", \"GLP\", \"GUM\", \"GTM\", \"GGY\", \"GIN\", \"GUY\", \"HTI\", \"VAT\", \"HND\", \"HKG\", \"HUN\", \"ISL\", \"IND\", \"IDN\", \"IRN\", \"IRQ\", \"IRL\", \"ISR\", \"ITA\", \"CIV\", \"JAM\", \"JPN\", \"JEY\", \"JOR\", \"KAZ\", \"KEN\", null, \"KWT\", \"KGZ\", \"LVA\", \"LBN\", \"LBR\", \"LIE\", \"LTU\", \"LUX\", \"MAC\", \"MDG\", \"CHN\", \"MYS\", \"MDV\", \"MLT\", \"MTQ\", \"MRT\", \"MUS\", \"MYT\", \"MEX\", null, \"MCO\", \"MNG\", \"MNE\", \"MAR\", \"NAM\", \"NPL\", \"NLD\", \"NZL\", \"NIC\", \"NER\", \"NGA\", \"MKD\", \"NOR\", \"OMN\", null, \"PAK\", \"PAN\", \"PNG\", \"PRY\", \"PER\", \"PHL\", \"POL\", \"PRT\", \"PRI\", \"QAT\", null, null, \"ROU\", \"RUS\", \"RWA\", \"LCA\", \"VCT\", \"SMR\", \"SAU\", \"SEN\", \"SRB\", \"SYC\", \"SGP\", \"SVK\", \"SVN\", \"SOM\", \"ZAF\", \"KOR\", \"ESP\", \"LKA\", \"SDN\", \"SUR\", \"SWE\", \"CHE\", \"TWN\", null, \"THA\", null, null, \"TGO\", \"TTO\", \"TUN\", \"TUR\", \"GBR\", \"USA\", \"UKR\", \"ARE\", \"URY\", \"UZB\", null, \"VNM\", \"ZMB\", \"ZWE\"], \"name\": \"\", \"z\": [0.0, 2.0, 11.0, 0.0, 0.0, 0.0, 3.0, 0.0, 7.0, 6.0, 1.0, 0.0, 1.0, 1.0, 0.0, 0.0, 37.0, 0.0, 0.0, 0.0, 0.0, 11.0, 0.0, 3.0, 1.0, 0.0, 0.0, 0.0, 12.0, 0.0, 0.0, 0.0, 0.0, 0.0, 0.0, 1.0, 1.0, 1.0, 0.0, 0.0, 9.0, 0.0, 2.0, 5.0, 8.0, 0.0, 0.0, 0.0, 0.0, 0.0, 0.0, 0.0, 450.0, 0.0, 1.0, 0.0, 0.0, 67.0, 0.0, 6.0, 0.0, 0.0, 0.0, 1.0, 0.0, 0.0, 1.0, 0.0, 0.0, 0.0, 4.0, 3.0, 0.0, 5.0, 32.0, 1433.0, 17.0, 3.0, 0.0, 4032.0, 0.0, 1.0, 33.0, 0.0, 0.0, 3.0, 0.0, 0.0, 0.0, 0.0, 0.0, 4.0, 0.0, 0.0, 0.0, 4.0, 0.0, 0.0, 3249.0, 3.0, 0.0, 0.0, 1.0, 0.0, 0.0, 0.0, 1.0, 1.0, 0.0, 0.0, 0.0, 3.0, 0.0, 0.0, 107.0, 0.0, 0.0, 0.0, 0.0, 0.0, 7.0, 0.0, 7.0, 3.0, 1.0, 0.0, 0.0, 3.0, 18.0, 5.0, 6.0, 0.0, 0.0, 0.0, 0.0, 0.0, 1.0, 0.0, 0.0, 0.0, 14.0, 0.0, 0.0, 1.0, 0.0, 0.0, 1.0, 1.0, 0.0, 0.0, 94.0, 1043.0, 0.0, 1.0, 0.0, 16.0, 54.0, 2.0, 0.0, 1.0, 0.0, 0.0, 0.0, 0.0, 1.0, 4.0, 178.0, 244.0, 3.0, 2.0, 0.0, 0.0, 0.0, 0.0, 0.0, 0.0], \"type\": \"choropleth\"}], \"name\": \"2020-03-20\"}]);\n",
       "                        }).then(function(){\n",
       "                            \n",
       "var gd = document.getElementById('1dac5640-d0da-459c-afd5-261be6219e0a');\n",
       "var x = new MutationObserver(function (mutations, observer) {{\n",
       "        var display = window.getComputedStyle(gd).display;\n",
       "        if (!display || display === 'none') {{\n",
       "            console.log([gd, 'removed!']);\n",
       "            Plotly.purge(gd);\n",
       "            observer.disconnect();\n",
       "        }}\n",
       "}});\n",
       "\n",
       "// Listen for the removal of the full notebook cells\n",
       "var notebookContainer = gd.closest('#notebook-container');\n",
       "if (notebookContainer) {{\n",
       "    x.observe(notebookContainer, {childList: true});\n",
       "}}\n",
       "\n",
       "// Listen for the clearing of the current output cell\n",
       "var outputEl = gd.closest('.output');\n",
       "if (outputEl) {{\n",
       "    x.observe(outputEl, {childList: true});\n",
       "}}\n",
       "\n",
       "                        })\n",
       "                };\n",
       "                });\n",
       "            </script>\n",
       "        </div>"
      ]
     },
     "metadata": {},
     "output_type": "display_data"
    }
   ],
   "source": [
    "# Criando dataset para plotagem geográfica\n",
    "historic_corona = df_corona.groupby(by=['last_update', 'country_region'], as_index=False).sum()\n",
    "historic_corona['last_update'] = historic_corona['last_update'].astype(str)\n",
    "historic_corona['country'] = historic_corona['country_region'].apply(lambda x: 'China' if x == 'Mainland China' else x)\n",
    "historic_corona = historic_corona.merge(df_country_info, how='left', left_on='country', right_on='country')\n",
    "\n",
    "# Plodando mapa\n",
    "px.choropleth(historic_corona, locations='alpha_code', color='deaths', animation_frame='last_update',\n",
    "              color_continuous_scale=px.colors.sequential.Plasma, projection='orthographic')"
   ]
  },
  {
   "cell_type": "code",
   "execution_count": null,
   "metadata": {},
   "outputs": [],
   "source": []
  }
 ],
 "metadata": {
  "kernelspec": {
   "display_name": "Python 3",
   "language": "python",
   "name": "python3"
  },
  "language_info": {
   "codemirror_mode": {
    "name": "ipython",
    "version": 3
   },
   "file_extension": ".py",
   "mimetype": "text/x-python",
   "name": "python",
   "nbconvert_exporter": "python",
   "pygments_lexer": "ipython3",
   "version": "3.7.3"
  },
  "toc": {
   "base_numbering": 1,
   "nav_menu": {},
   "number_sections": true,
   "sideBar": true,
   "skip_h1_title": false,
   "title_cell": "Table of Contents",
   "title_sidebar": "Contents",
   "toc_cell": true,
   "toc_position": {},
   "toc_section_display": true,
   "toc_window_display": true
  },
  "varInspector": {
   "cols": {
    "lenName": 16,
    "lenType": 16,
    "lenVar": 40
   },
   "kernels_config": {
    "python": {
     "delete_cmd_postfix": "",
     "delete_cmd_prefix": "del ",
     "library": "var_list.py",
     "varRefreshCmd": "print(var_dic_list())"
    },
    "r": {
     "delete_cmd_postfix": ") ",
     "delete_cmd_prefix": "rm(",
     "library": "var_list.r",
     "varRefreshCmd": "cat(var_dic_list()) "
    }
   },
   "types_to_exclude": [
    "module",
    "function",
    "builtin_function_or_method",
    "instance",
    "_Feature"
   ],
   "window_display": false
  }
 },
 "nbformat": 4,
 "nbformat_minor": 2
}
