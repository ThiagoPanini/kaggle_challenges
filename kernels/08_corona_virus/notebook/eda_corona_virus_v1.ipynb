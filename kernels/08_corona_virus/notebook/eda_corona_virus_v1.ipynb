{
 "cells": [
  {
   "cell_type": "markdown",
   "metadata": {
    "toc": true
   },
   "source": [
    "<h1>Table of Contents<span class=\"tocSkip\"></span></h1>\n",
    "<div class=\"toc\"><ul class=\"toc-item\"><li><span><a href=\"#Importing-Libraries\" data-toc-modified-id=\"Importing-Libraries-1\"><span class=\"toc-item-num\">1&nbsp;&nbsp;</span>Importing Libraries</a></span></li><li><span><a href=\"#Defining-Functions\" data-toc-modified-id=\"Defining-Functions-2\"><span class=\"toc-item-num\">2&nbsp;&nbsp;</span>Defining Functions</a></span></li><li><span><a href=\"#Reading-the-Data\" data-toc-modified-id=\"Reading-the-Data-3\"><span class=\"toc-item-num\">3&nbsp;&nbsp;</span>Reading the Data</a></span><ul class=\"toc-item\"><li><span><a href=\"#Cleaning-Date-Columns\" data-toc-modified-id=\"Cleaning-Date-Columns-3.1\"><span class=\"toc-item-num\">3.1&nbsp;&nbsp;</span>Cleaning Date Columns</a></span></li></ul></li><li><span><a href=\"#Graphical-Exploration\" data-toc-modified-id=\"Graphical-Exploration-4\"><span class=\"toc-item-num\">4&nbsp;&nbsp;</span>Graphical Exploration</a></span><ul class=\"toc-item\"><li><span><a href=\"#Evolution-of-Confirmed-Cases\" data-toc-modified-id=\"Evolution-of-Confirmed-Cases-4.1\"><span class=\"toc-item-num\">4.1&nbsp;&nbsp;</span>Evolution of Confirmed Cases</a></span></li><li><span><a href=\"#Confirmed,-Deaths-and-Recovered\" data-toc-modified-id=\"Confirmed,-Deaths-and-Recovered-4.2\"><span class=\"toc-item-num\">4.2&nbsp;&nbsp;</span>Confirmed, Deaths and Recovered</a></span></li><li><span><a href=\"#COVID-19-Around-the-Globe\" data-toc-modified-id=\"COVID-19-Around-the-Globe-4.3\"><span class=\"toc-item-num\">4.3&nbsp;&nbsp;</span>COVID-19 Around the Globe</a></span></li></ul></li></ul></div>"
   ]
  },
  {
   "cell_type": "markdown",
   "metadata": {},
   "source": [
    "This notebook was created to analyze data from Kaggle's dataset `Corona Virus`. The goal is to go through the data and extract relevant information about the global virus. In parallel we will apply useful Python tools to explore graphs and get insights from the data provided."
   ]
  },
  {
   "cell_type": "markdown",
   "metadata": {},
   "source": [
    "# Importing Libraries"
   ]
  },
  {
   "cell_type": "code",
   "execution_count": 1,
   "metadata": {
    "ExecuteTime": {
     "end_time": "2020-03-17T00:52:07.939478Z",
     "start_time": "2020-03-17T00:51:51.710006Z"
    }
   },
   "outputs": [
    {
     "data": {
      "text/html": [
       "        <script type=\"text/javascript\">\n",
       "        window.PlotlyConfig = {MathJaxConfig: 'local'};\n",
       "        if (window.MathJax) {MathJax.Hub.Config({SVG: {font: \"STIX-Web\"}});}\n",
       "        if (typeof require !== 'undefined') {\n",
       "        require.undef(\"plotly\");\n",
       "        requirejs.config({\n",
       "            paths: {\n",
       "                'plotly': ['https://cdn.plot.ly/plotly-latest.min']\n",
       "            }\n",
       "        });\n",
       "        require(['plotly'], function(Plotly) {\n",
       "            window._Plotly = Plotly;\n",
       "        });\n",
       "        }\n",
       "        </script>\n",
       "        "
      ]
     },
     "metadata": {},
     "output_type": "display_data"
    }
   ],
   "source": [
    "# Libs to be used on this project\n",
    "import pandas as pd\n",
    "import numpy as np\n",
    "import os\n",
    "from datetime import datetime\n",
    "import matplotlib.pyplot as plt\n",
    "import matplotlib.dates as mdates\n",
    "import seaborn as sns\n",
    "%matplotlib inline\n",
    "from warnings import filterwarnings\n",
    "filterwarnings('ignore')\n",
    "import urllib.request, json\n",
    "\n",
    "from plotly.offline import init_notebook_mode, iplot, plot\n",
    "import plotly as py\n",
    "init_notebook_mode(connected=True)\n",
    "import plotly.graph_objs as go"
   ]
  },
  {
   "cell_type": "markdown",
   "metadata": {},
   "source": [
    "# Defining Functions"
   ]
  },
  {
   "cell_type": "code",
   "execution_count": 2,
   "metadata": {
    "ExecuteTime": {
     "end_time": "2020-03-17T00:52:07.972145Z",
     "start_time": "2020-03-17T00:52:07.962459Z"
    },
    "code_folding": [
     1
    ]
   },
   "outputs": [],
   "source": [
    "# Formatting matplotlib figures\n",
    "def format_spines(ax, right_border=True):\n",
    "    \"\"\"\n",
    "    This function sets up borders from an axis and personalize colors\n",
    "    \n",
    "    Input:\n",
    "        Axis and a flag for deciding or not to plot the right border\n",
    "    Returns:\n",
    "        Plot configuration\n",
    "    \"\"\"    \n",
    "    # Setting up colors\n",
    "    ax.spines['bottom'].set_color('#CCCCCC')\n",
    "    ax.spines['left'].set_color('#CCCCCC')\n",
    "    ax.spines['top'].set_visible(False)\n",
    "    if right_border:\n",
    "        ax.spines['right'].set_color('#CCCCCC')\n",
    "    else:\n",
    "        ax.spines['right'].set_color('#FFFFFF')\n",
    "    ax.patch.set_facecolor('#FFFFFF')"
   ]
  },
  {
   "cell_type": "markdown",
   "metadata": {},
   "source": [
    "# Reading the Data"
   ]
  },
  {
   "cell_type": "markdown",
   "metadata": {},
   "source": [
    "First of all, let's read the files provided and look into each one to see its content."
   ]
  },
  {
   "cell_type": "code",
   "execution_count": 3,
   "metadata": {
    "ExecuteTime": {
     "end_time": "2020-03-17T00:52:08.015979Z",
     "start_time": "2020-03-17T00:52:08.003069Z"
    }
   },
   "outputs": [
    {
     "data": {
      "text/plain": [
       "['2019_nCoV_data.csv',\n",
       " 'COVID19_line_list_data.csv',\n",
       " 'COVID19_open_line_list.csv',\n",
       " 'covid_19_data.csv',\n",
       " 'time_series_covid_19_confirmed.csv',\n",
       " 'time_series_covid_19_deaths.csv',\n",
       " 'time_series_covid_19_recovered.csv']"
      ]
     },
     "execution_count": 3,
     "metadata": {},
     "output_type": "execute_result"
    }
   ],
   "source": [
    "# Whats in the zip file provided?\n",
    "data_path = r'D:\\Users\\thiagoPanini\\github_files\\kaggle_challenges\\kernels\\08_corona_virus\\data'\n",
    "datasets = [d for d in os.listdir(data_path) if '.csv' in d]\n",
    "datasets"
   ]
  },
  {
   "cell_type": "code",
   "execution_count": 4,
   "metadata": {
    "ExecuteTime": {
     "end_time": "2020-03-17T00:52:08.107372Z",
     "start_time": "2020-03-17T00:52:08.038175Z"
    }
   },
   "outputs": [
    {
     "data": {
      "text/html": [
       "<div>\n",
       "<style scoped>\n",
       "    .dataframe tbody tr th:only-of-type {\n",
       "        vertical-align: middle;\n",
       "    }\n",
       "\n",
       "    .dataframe tbody tr th {\n",
       "        vertical-align: top;\n",
       "    }\n",
       "\n",
       "    .dataframe thead th {\n",
       "        text-align: right;\n",
       "    }\n",
       "</style>\n",
       "<table border=\"1\" class=\"dataframe\">\n",
       "  <thead>\n",
       "    <tr style=\"text-align: right;\">\n",
       "      <th></th>\n",
       "      <th>sno</th>\n",
       "      <th>observationdate</th>\n",
       "      <th>province_state</th>\n",
       "      <th>country_region</th>\n",
       "      <th>last_update</th>\n",
       "      <th>confirmed</th>\n",
       "      <th>deaths</th>\n",
       "      <th>recovered</th>\n",
       "    </tr>\n",
       "  </thead>\n",
       "  <tbody>\n",
       "    <tr>\n",
       "      <th>0</th>\n",
       "      <td>1</td>\n",
       "      <td>01/22/2020</td>\n",
       "      <td>Anhui</td>\n",
       "      <td>Mainland China</td>\n",
       "      <td>1/22/2020 17:00</td>\n",
       "      <td>1.0</td>\n",
       "      <td>0.0</td>\n",
       "      <td>0.0</td>\n",
       "    </tr>\n",
       "    <tr>\n",
       "      <th>1</th>\n",
       "      <td>2</td>\n",
       "      <td>01/22/2020</td>\n",
       "      <td>Beijing</td>\n",
       "      <td>Mainland China</td>\n",
       "      <td>1/22/2020 17:00</td>\n",
       "      <td>14.0</td>\n",
       "      <td>0.0</td>\n",
       "      <td>0.0</td>\n",
       "    </tr>\n",
       "    <tr>\n",
       "      <th>2</th>\n",
       "      <td>3</td>\n",
       "      <td>01/22/2020</td>\n",
       "      <td>Chongqing</td>\n",
       "      <td>Mainland China</td>\n",
       "      <td>1/22/2020 17:00</td>\n",
       "      <td>6.0</td>\n",
       "      <td>0.0</td>\n",
       "      <td>0.0</td>\n",
       "    </tr>\n",
       "    <tr>\n",
       "      <th>3</th>\n",
       "      <td>4</td>\n",
       "      <td>01/22/2020</td>\n",
       "      <td>Fujian</td>\n",
       "      <td>Mainland China</td>\n",
       "      <td>1/22/2020 17:00</td>\n",
       "      <td>1.0</td>\n",
       "      <td>0.0</td>\n",
       "      <td>0.0</td>\n",
       "    </tr>\n",
       "    <tr>\n",
       "      <th>4</th>\n",
       "      <td>5</td>\n",
       "      <td>01/22/2020</td>\n",
       "      <td>Gansu</td>\n",
       "      <td>Mainland China</td>\n",
       "      <td>1/22/2020 17:00</td>\n",
       "      <td>0.0</td>\n",
       "      <td>0.0</td>\n",
       "      <td>0.0</td>\n",
       "    </tr>\n",
       "  </tbody>\n",
       "</table>\n",
       "</div>"
      ],
      "text/plain": [
       "   sno observationdate province_state  country_region      last_update  \\\n",
       "0    1      01/22/2020          Anhui  Mainland China  1/22/2020 17:00   \n",
       "1    2      01/22/2020        Beijing  Mainland China  1/22/2020 17:00   \n",
       "2    3      01/22/2020      Chongqing  Mainland China  1/22/2020 17:00   \n",
       "3    4      01/22/2020         Fujian  Mainland China  1/22/2020 17:00   \n",
       "4    5      01/22/2020          Gansu  Mainland China  1/22/2020 17:00   \n",
       "\n",
       "   confirmed  deaths  recovered  \n",
       "0        1.0     0.0        0.0  \n",
       "1       14.0     0.0        0.0  \n",
       "2        6.0     0.0        0.0  \n",
       "3        1.0     0.0        0.0  \n",
       "4        0.0     0.0        0.0  "
      ]
     },
     "execution_count": 4,
     "metadata": {},
     "output_type": "execute_result"
    }
   ],
   "source": [
    "# Reading the updated corona virus dataset\n",
    "df_corona = pd.read_csv(data_path + f'\\covid_19_data.csv')\n",
    "df_corona.columns = [c.lower().replace(' ', '_').replace('/', '_') for c in df_corona.columns]\n",
    "df_corona.head()"
   ]
  },
  {
   "cell_type": "markdown",
   "metadata": {},
   "source": [
    "According to the dataset documentation, we have below the explanation for each columns of this data:\n",
    "\n",
    "- **sno:** serial number;\n",
    "- **observationdate:** observation date in the format MM/DD/YYYY;\n",
    "- **province_state:** province or state of the observation (could be empty when missing);\n",
    "- **country_region:** country of observation;\n",
    "- **last_update:** time in UTC at wich the row is updated for the given province or country;\n",
    "- **confirmed**: cumulative number of confirmed cases till that date;\n",
    "- **deaths:** cumulative number of deaths till that date;\n",
    "- **recovered:** cumulative number of recovered cases till that date"
   ]
  },
  {
   "cell_type": "code",
   "execution_count": 5,
   "metadata": {
    "ExecuteTime": {
     "end_time": "2020-03-17T00:52:08.183523Z",
     "start_time": "2020-03-17T00:52:08.173362Z"
    }
   },
   "outputs": [
    {
     "data": {
      "text/plain": [
       "(5890, 8)"
      ]
     },
     "execution_count": 5,
     "metadata": {},
     "output_type": "execute_result"
    }
   ],
   "source": [
    "# Dimensions of the data\n",
    "df_corona.shape"
   ]
  },
  {
   "cell_type": "markdown",
   "metadata": {},
   "source": [
    "## Cleaning Date Columns"
   ]
  },
  {
   "cell_type": "markdown",
   "metadata": {},
   "source": [
    "Also according to the documentation, it's necessary to pay attention with the date columns (`observationdate` and `last_update`). It's possible to face some unformatted entries. Let's take a look at the data types."
   ]
  },
  {
   "cell_type": "code",
   "execution_count": 6,
   "metadata": {
    "ExecuteTime": {
     "end_time": "2020-03-17T00:52:08.243301Z",
     "start_time": "2020-03-17T00:52:08.235281Z"
    }
   },
   "outputs": [
    {
     "data": {
      "text/plain": [
       "sno                  int64\n",
       "observationdate     object\n",
       "province_state      object\n",
       "country_region      object\n",
       "last_update         object\n",
       "confirmed          float64\n",
       "deaths             float64\n",
       "recovered          float64\n",
       "dtype: object"
      ]
     },
     "execution_count": 6,
     "metadata": {},
     "output_type": "execute_result"
    }
   ],
   "source": [
    "# Data types\n",
    "df_corona.dtypes"
   ]
  },
  {
   "cell_type": "code",
   "execution_count": 9,
   "metadata": {
    "ExecuteTime": {
     "end_time": "2020-03-17T00:52:35.056235Z",
     "start_time": "2020-03-17T00:52:33.317451Z"
    }
   },
   "outputs": [
    {
     "data": {
      "text/html": [
       "<div>\n",
       "<style scoped>\n",
       "    .dataframe tbody tr th:only-of-type {\n",
       "        vertical-align: middle;\n",
       "    }\n",
       "\n",
       "    .dataframe tbody tr th {\n",
       "        vertical-align: top;\n",
       "    }\n",
       "\n",
       "    .dataframe thead th {\n",
       "        text-align: right;\n",
       "    }\n",
       "</style>\n",
       "<table border=\"1\" class=\"dataframe\">\n",
       "  <thead>\n",
       "    <tr style=\"text-align: right;\">\n",
       "      <th></th>\n",
       "      <th>sno</th>\n",
       "      <th>province_state</th>\n",
       "      <th>country_region</th>\n",
       "      <th>confirmed</th>\n",
       "      <th>deaths</th>\n",
       "      <th>recovered</th>\n",
       "      <th>observation_date</th>\n",
       "      <th>last_update</th>\n",
       "    </tr>\n",
       "  </thead>\n",
       "  <tbody>\n",
       "    <tr>\n",
       "      <th>0</th>\n",
       "      <td>1</td>\n",
       "      <td>Anhui</td>\n",
       "      <td>Mainland China</td>\n",
       "      <td>1.0</td>\n",
       "      <td>0.0</td>\n",
       "      <td>0.0</td>\n",
       "      <td>2020-01-22</td>\n",
       "      <td>2020-01-22</td>\n",
       "    </tr>\n",
       "    <tr>\n",
       "      <th>1</th>\n",
       "      <td>2</td>\n",
       "      <td>Beijing</td>\n",
       "      <td>Mainland China</td>\n",
       "      <td>14.0</td>\n",
       "      <td>0.0</td>\n",
       "      <td>0.0</td>\n",
       "      <td>2020-01-22</td>\n",
       "      <td>2020-01-22</td>\n",
       "    </tr>\n",
       "    <tr>\n",
       "      <th>2</th>\n",
       "      <td>3</td>\n",
       "      <td>Chongqing</td>\n",
       "      <td>Mainland China</td>\n",
       "      <td>6.0</td>\n",
       "      <td>0.0</td>\n",
       "      <td>0.0</td>\n",
       "      <td>2020-01-22</td>\n",
       "      <td>2020-01-22</td>\n",
       "    </tr>\n",
       "    <tr>\n",
       "      <th>3</th>\n",
       "      <td>4</td>\n",
       "      <td>Fujian</td>\n",
       "      <td>Mainland China</td>\n",
       "      <td>1.0</td>\n",
       "      <td>0.0</td>\n",
       "      <td>0.0</td>\n",
       "      <td>2020-01-22</td>\n",
       "      <td>2020-01-22</td>\n",
       "    </tr>\n",
       "    <tr>\n",
       "      <th>4</th>\n",
       "      <td>5</td>\n",
       "      <td>Gansu</td>\n",
       "      <td>Mainland China</td>\n",
       "      <td>0.0</td>\n",
       "      <td>0.0</td>\n",
       "      <td>0.0</td>\n",
       "      <td>2020-01-22</td>\n",
       "      <td>2020-01-22</td>\n",
       "    </tr>\n",
       "  </tbody>\n",
       "</table>\n",
       "</div>"
      ],
      "text/plain": [
       "   sno province_state  country_region  confirmed  deaths  recovered  \\\n",
       "0    1          Anhui  Mainland China        1.0     0.0        0.0   \n",
       "1    2        Beijing  Mainland China       14.0     0.0        0.0   \n",
       "2    3      Chongqing  Mainland China        6.0     0.0        0.0   \n",
       "3    4         Fujian  Mainland China        1.0     0.0        0.0   \n",
       "4    5          Gansu  Mainland China        0.0     0.0        0.0   \n",
       "\n",
       "  observation_date last_update  \n",
       "0       2020-01-22  2020-01-22  \n",
       "1       2020-01-22  2020-01-22  \n",
       "2       2020-01-22  2020-01-22  \n",
       "3       2020-01-22  2020-01-22  \n",
       "4       2020-01-22  2020-01-22  "
      ]
     },
     "execution_count": 9,
     "metadata": {},
     "output_type": "execute_result"
    }
   ],
   "source": [
    "# Cleaning last_update column\n",
    "df_corona['last_update_cleaned'] = pd.to_datetime(df_corona['last_update']).dt.date\n",
    "df_corona['obs_date_cleaned'] = pd.to_datetime(df_corona['observationdate']).dt.date\n",
    "df_corona.drop(['last_update', 'observationdate'], axis=1, inplace=True)\n",
    "df_corona.columns = ['sno', 'province_state', 'country_region', 'confirmed', \n",
    "                     'deaths', 'recovered', 'observation_date', 'last_update']\n",
    "df_corona.head()"
   ]
  },
  {
   "cell_type": "code",
   "execution_count": 10,
   "metadata": {
    "ExecuteTime": {
     "end_time": "2020-03-17T00:52:35.127555Z",
     "start_time": "2020-03-17T00:52:35.110813Z"
    }
   },
   "outputs": [
    {
     "name": "stdout",
     "output_type": "stream",
     "text": [
      "Range of observation date: from 2020-01-22 to 2020-03-15\n",
      "\n",
      "Range of update date: from 2020-01-22 to 2020-03-15\n"
     ]
    }
   ],
   "source": [
    "# Observation and update dates\n",
    "print(f'Range of observation date: from {df_corona[\"observation_date\"].min()} to {df_corona[\"observation_date\"].max()}\\n')\n",
    "print(f'Range of update date: from {df_corona[\"last_update\"].min()} to {df_corona[\"last_update\"].max()}')"
   ]
  },
  {
   "cell_type": "markdown",
   "metadata": {},
   "source": [
    "# Graphical Exploration"
   ]
  },
  {
   "cell_type": "markdown",
   "metadata": {},
   "source": [
    "## Evolution of Confirmed Cases"
   ]
  },
  {
   "cell_type": "code",
   "execution_count": 14,
   "metadata": {
    "ExecuteTime": {
     "end_time": "2020-03-17T00:53:20.587119Z",
     "start_time": "2020-03-17T00:53:19.030462Z"
    },
    "code_folding": [
     0
    ]
   },
   "outputs": [
    {
     "data": {
      "image/png": "[encoded data removed]",
      "text/plain": [
       "<Figure size 1080x432 with 1 Axes>"
      ]
     },
     "metadata": {
      "needs_background": "light"
     },
     "output_type": "display_data"
    }
   ],
   "source": [
    "# Virus evolution on Mainland China\n",
    "main_china = df_corona.query('country_region == \"Mainland China\"')\n",
    "\n",
    "# Grouping data\n",
    "cols_group = ['last_update', 'confirmed', 'deaths', 'recovered']\n",
    "corona_sum = df_corona.groupby(by=['last_update'], as_index=False).sum().loc[:, cols_group]\n",
    "china_sum = main_china.groupby(by=['last_update', 'country_region'], \n",
    "                               as_index=False).sum().loc[:, cols_group + ['country_region']]\n",
    "\n",
    "# Showing confirmed cases of corona virus on Mainland China\n",
    "fig, ax = plt.subplots(figsize=(15, 6))\n",
    "sns.lineplot(x='last_update', y='confirmed', data=corona_sum, ax=ax, color='darkslateblue', label='World', marker='o')\n",
    "sns.lineplot(x='last_update', y='confirmed', data=china_sum, ax=ax, color='crimson', label='China', marker='X')\n",
    "\n",
    "# Making some annotations\n",
    "x_highlight = corona_sum['last_update'][22]\n",
    "y_highlight = corona_sum['confirmed'][22]\n",
    "highlight_perc_increase = 100 * (corona_sum['confirmed'][21] / corona_sum['confirmed'][22])\n",
    "ax.annotate(f'Huge increase\\nof {highlight_perc_increase:.2f}% from \\nthe day before', \n",
    "            (mdates.date2num(x_highlight), y_highlight), \n",
    "            xytext=(25, -25),textcoords='offset points', arrowprops=dict(arrowstyle='-|>', fc='w'), color='dimgrey')\n",
    "plt.vlines(x_highlight, 0, y_highlight, linestyle=\"dashed\", color='silver')\n",
    "\n",
    "# Showing the most recent information\n",
    "\"\"\"xs = corona_sum['last_update'][-1:]\n",
    "ys = corona_sum['confirmed'][-1:]\n",
    "for x, y in zip(xs, ys):\n",
    "    label = f\"{int(y)}\"\n",
    "    plt.annotate(label, (x, y), textcoords=\"offset points\", xytext=(0, 10), ha='center', color='dimgrey')\"\"\"\n",
    "    \n",
    "# Making another annotations\n",
    "ax.fill_between(corona_sum['last_update'], corona_sum['confirmed'], china_sum['confirmed'], color='silver', alpha=.5)\n",
    "offset_annotation = (china_sum['confirmed'][-1:].values[0] - corona_sum['confirmed'][-1:].values[0])/220\n",
    "ax.annotate(f'Virus spreading\\naround the World ', \n",
    "            (mdates.date2num(corona_sum['last_update'][-1:]), corona_sum['confirmed'][-1:]), \n",
    "            xytext=(-180, -20), textcoords='offset points', \n",
    "            bbox=dict(boxstyle=\"round4\", fc=\"w\"), color='dimgrey',\n",
    "            arrowprops=dict(arrowstyle='-|>', connectionstyle=\"arc3, rad=-0.07\", fc=\"w\"))\n",
    "\n",
    "# Finishing plot\n",
    "ax.set_title('Evolution of Corona Virus Confirmed Cases', size=14, color='dimgrey', pad=20)\n",
    "ax.set_ylim(ymin=0)\n",
    "format_spines(ax, right_border=False)\n",
    "plt.xticks(rotation=90)\n",
    "plt.xticks(corona_sum['last_update'])\n",
    "plt.show()"
   ]
  },
  {
   "cell_type": "markdown",
   "metadata": {},
   "source": [
    "## Confirmed, Deaths and Recovered"
   ]
  },
  {
   "cell_type": "code",
   "execution_count": 15,
   "metadata": {
    "ExecuteTime": {
     "end_time": "2020-03-17T00:53:30.948403Z",
     "start_time": "2020-03-17T00:53:29.174324Z"
    },
    "code_folding": [
     0
    ]
   },
   "outputs": [
    {
     "data": {
      "image/png": "[encoded data removed]",
      "text/plain": [
       "<Figure size 1080x432 with 1 Axes>"
      ]
     },
     "metadata": {
      "needs_background": "light"
     },
     "output_type": "display_data"
    }
   ],
   "source": [
    "# How we are doing against the Virus? Is there any evolution of recovering cases?\n",
    "fig, ax = plt.subplots(figsize=(15, 6))\n",
    "colors = ['darkslateblue', 'crimson', 'lightseagreen']\n",
    "corona_sum.drop('last_update', axis=1).div(corona_sum.sum(1).astype(float), \n",
    "                                           axis=0).plot(kind='bar', stacked=True, ax=ax, color=colors, width=0.7)\n",
    "format_spines(ax, right_border=False)\n",
    "plt.xticks(np.arange(0, len(corona_sum)), corona_sum['last_update'])\n",
    "ax.set_title('Percentage of Confirmed, Deaths and Recovered Cases', size=14, color='dimgrey')\n",
    "plt.show()"
   ]
  },
  {
   "cell_type": "markdown",
   "metadata": {},
   "source": [
    "## COVID-19 Around the Globe"
   ]
  },
  {
   "cell_type": "code",
   "execution_count": 16,
   "metadata": {
    "ExecuteTime": {
     "end_time": "2020-03-17T00:56:11.630825Z",
     "start_time": "2020-03-17T00:56:11.071410Z"
    },
    "code_folding": [
     0
    ]
   },
   "outputs": [
    {
     "data": {
      "text/html": [
       "<div>\n",
       "<style scoped>\n",
       "    .dataframe tbody tr th:only-of-type {\n",
       "        vertical-align: middle;\n",
       "    }\n",
       "\n",
       "    .dataframe tbody tr th {\n",
       "        vertical-align: top;\n",
       "    }\n",
       "\n",
       "    .dataframe thead th {\n",
       "        text-align: right;\n",
       "    }\n",
       "</style>\n",
       "<table border=\"1\" class=\"dataframe\">\n",
       "  <thead>\n",
       "    <tr style=\"text-align: right;\">\n",
       "      <th></th>\n",
       "      <th>country</th>\n",
       "      <th>region</th>\n",
       "    </tr>\n",
       "  </thead>\n",
       "  <tbody>\n",
       "    <tr>\n",
       "      <th>0</th>\n",
       "      <td>Afghanistan</td>\n",
       "      <td>Asia</td>\n",
       "    </tr>\n",
       "    <tr>\n",
       "      <th>1</th>\n",
       "      <td>Åland Islands</td>\n",
       "      <td>Europe</td>\n",
       "    </tr>\n",
       "    <tr>\n",
       "      <th>2</th>\n",
       "      <td>Albania</td>\n",
       "      <td>Europe</td>\n",
       "    </tr>\n",
       "    <tr>\n",
       "      <th>3</th>\n",
       "      <td>Algeria</td>\n",
       "      <td>Africa</td>\n",
       "    </tr>\n",
       "    <tr>\n",
       "      <th>4</th>\n",
       "      <td>American Samoa</td>\n",
       "      <td>Oceania</td>\n",
       "    </tr>\n",
       "  </tbody>\n",
       "</table>\n",
       "</div>"
      ],
      "text/plain": [
       "          country   region\n",
       "0     Afghanistan     Asia\n",
       "1   Åland Islands   Europe\n",
       "2         Albania   Europe\n",
       "3         Algeria   Africa\n",
       "4  American Samoa  Oceania"
      ]
     },
     "execution_count": 16,
     "metadata": {},
     "output_type": "execute_result"
    }
   ],
   "source": [
    "# Reading information about region and countries from a public url\n",
    "with urllib.request.urlopen(\"https://restcountries.eu/rest/v2/all\") as url:\n",
    "    data = json.loads(url.read().decode())\n",
    "\n",
    "# The result is a dictionary with usefull keys\n",
    "# Creating a new dictionary joining country and region information\n",
    "country_names = [data[x]['name'] for x in range(len(data))]\n",
    "country_regions = [data[x]['region'] for x in range(len(data))]\n",
    "\n",
    "country_dict = {}\n",
    "for name, region in zip(country_names, country_regions):\n",
    "    country_dict[name] = region\n",
    "\n",
    "# Transforming the dict information into a DataFrame objetc\n",
    "df_country_info = pd.DataFrame(list(country_dict.items()))\n",
    "df_country_info.columns = ['country', 'region']\n",
    "\n",
    "# Making some changes on the dataset\n",
    "country_changes = {\n",
    "    'United States of America': 'US',\n",
    "    'Macao': 'Macau',\n",
    "    'Korea (Republic of)': 'South Korea',\n",
    "    'Viet Nam': 'Vietnam',\n",
    "    'Russian Federation': 'Russia',\n",
    "    'United Kingdom of Great Britain and Northern Ireland': 'UK',\n",
    "    'Iran (Islamic Republic of)': 'Iran',\n",
    "    'Macedonia (the former Yugoslav Republic of)': 'North Macedonia',\n",
    "    'Saint Barthélemy': 'Saint Barthelemy',\n",
    "    'Palestine, State of': 'Palestine',\n",
    "    \"Côte d'Ivoire\": 'Ivory Coast',\n",
    "    'North Ireland': 'Ireland'\n",
    "}\n",
    "\n",
    "# Adding new rows to avoid missing data on merging\n",
    "new_rows = {\n",
    "    'Others': 'Unkown',\n",
    "    'Vatican City': 'Europe',\n",
    "    'North Ireland': 'Europe'\n",
    "}\n",
    "new_rows = {\n",
    "    'Others': 'Unkown',\n",
    "    'Vatican City': 'Europe',\n",
    "    'North Ireland': 'Europe'\n",
    "}\n",
    "rows_df = pd.DataFrame(list(new_rows.items()))\n",
    "rows_df.columns = ['country', 'region']\n",
    "\n",
    "# Changing some names and adding some rows\n",
    "df_country_info = df_country_info.replace({'country': country_changes})\n",
    "df_country_info = pd.concat([df_country_info, rows_df], ignore_index=True)\n",
    "\n",
    "# Result\n",
    "df_country_info.head()"
   ]
  },
  {
   "cell_type": "code",
   "execution_count": 140,
   "metadata": {
    "ExecuteTime": {
     "end_time": "2020-03-09T02:14:52.730281Z",
     "start_time": "2020-03-09T02:14:52.694708Z"
    },
    "code_folding": [
     0
    ]
   },
   "outputs": [
    {
     "data": {
      "text/html": [
       "<div>\n",
       "<style scoped>\n",
       "    .dataframe tbody tr th:only-of-type {\n",
       "        vertical-align: middle;\n",
       "    }\n",
       "\n",
       "    .dataframe tbody tr th {\n",
       "        vertical-align: top;\n",
       "    }\n",
       "\n",
       "    .dataframe thead th {\n",
       "        text-align: right;\n",
       "    }\n",
       "</style>\n",
       "<table border=\"1\" class=\"dataframe\">\n",
       "  <thead>\n",
       "    <tr style=\"text-align: right;\">\n",
       "      <th></th>\n",
       "      <th>sno</th>\n",
       "      <th>province_state</th>\n",
       "      <th>confirmed</th>\n",
       "      <th>deaths</th>\n",
       "      <th>recovered</th>\n",
       "      <th>observation_date</th>\n",
       "      <th>last_update</th>\n",
       "      <th>country</th>\n",
       "      <th>region</th>\n",
       "    </tr>\n",
       "  </thead>\n",
       "  <tbody>\n",
       "    <tr>\n",
       "      <th>0</th>\n",
       "      <td>1</td>\n",
       "      <td>Anhui</td>\n",
       "      <td>1.0</td>\n",
       "      <td>0.0</td>\n",
       "      <td>0.0</td>\n",
       "      <td>2020-01-22</td>\n",
       "      <td>2020-01-22</td>\n",
       "      <td>China</td>\n",
       "      <td>Asia</td>\n",
       "    </tr>\n",
       "    <tr>\n",
       "      <th>1</th>\n",
       "      <td>2</td>\n",
       "      <td>Beijing</td>\n",
       "      <td>14.0</td>\n",
       "      <td>0.0</td>\n",
       "      <td>0.0</td>\n",
       "      <td>2020-01-22</td>\n",
       "      <td>2020-01-22</td>\n",
       "      <td>China</td>\n",
       "      <td>Asia</td>\n",
       "    </tr>\n",
       "    <tr>\n",
       "      <th>2</th>\n",
       "      <td>3</td>\n",
       "      <td>Chongqing</td>\n",
       "      <td>6.0</td>\n",
       "      <td>0.0</td>\n",
       "      <td>0.0</td>\n",
       "      <td>2020-01-22</td>\n",
       "      <td>2020-01-22</td>\n",
       "      <td>China</td>\n",
       "      <td>Asia</td>\n",
       "    </tr>\n",
       "    <tr>\n",
       "      <th>3</th>\n",
       "      <td>4</td>\n",
       "      <td>Fujian</td>\n",
       "      <td>1.0</td>\n",
       "      <td>0.0</td>\n",
       "      <td>0.0</td>\n",
       "      <td>2020-01-22</td>\n",
       "      <td>2020-01-22</td>\n",
       "      <td>China</td>\n",
       "      <td>Asia</td>\n",
       "    </tr>\n",
       "    <tr>\n",
       "      <th>4</th>\n",
       "      <td>5</td>\n",
       "      <td>Gansu</td>\n",
       "      <td>0.0</td>\n",
       "      <td>0.0</td>\n",
       "      <td>0.0</td>\n",
       "      <td>2020-01-22</td>\n",
       "      <td>2020-01-22</td>\n",
       "      <td>China</td>\n",
       "      <td>Asia</td>\n",
       "    </tr>\n",
       "  </tbody>\n",
       "</table>\n",
       "</div>"
      ],
      "text/plain": [
       "   sno province_state  confirmed  deaths  recovered observation_date  \\\n",
       "0    1          Anhui        1.0     0.0        0.0       2020-01-22   \n",
       "1    2        Beijing       14.0     0.0        0.0       2020-01-22   \n",
       "2    3      Chongqing        6.0     0.0        0.0       2020-01-22   \n",
       "3    4         Fujian        1.0     0.0        0.0       2020-01-22   \n",
       "4    5          Gansu        0.0     0.0        0.0       2020-01-22   \n",
       "\n",
       "  last_update country region  \n",
       "0  2020-01-22   China   Asia  \n",
       "1  2020-01-22   China   Asia  \n",
       "2  2020-01-22   China   Asia  \n",
       "3  2020-01-22   China   Asia  \n",
       "4  2020-01-22   China   Asia  "
      ]
     },
     "execution_count": 140,
     "metadata": {},
     "output_type": "execute_result"
    }
   ],
   "source": [
    "# Preparing corona dataset to join with country_region dataset\n",
    "df_corona['country'] = df_corona['country_region'].apply(lambda x: 'China' if x == 'Mainland China' else x)\n",
    "df_corona['country'] = df_corona['country'].apply(lambda x: 'Azerbaijan' if x == ' Azerbaijan' else x)\n",
    "\n",
    "# Merging datasets\n",
    "df_region_corona = df_corona.merge(df_country_info, how='left', on='country')\n",
    "df_region_corona.drop('country_region', axis=1, inplace=True)\n",
    "df_region_corona.head()"
   ]
  },
  {
   "cell_type": "code",
   "execution_count": null,
   "metadata": {},
   "outputs": [],
   "source": []
  }
 ],
 "metadata": {
  "kernelspec": {
   "display_name": "Python 3",
   "language": "python",
   "name": "python3"
  },
  "language_info": {
   "codemirror_mode": {
    "name": "ipython",
    "version": 3
   },
   "file_extension": ".py",
   "mimetype": "text/x-python",
   "name": "python",
   "nbconvert_exporter": "python",
   "pygments_lexer": "ipython3",
   "version": "3.7.3"
  },
  "toc": {
   "base_numbering": 1,
   "nav_menu": {},
   "number_sections": true,
   "sideBar": true,
   "skip_h1_title": false,
   "title_cell": "Table of Contents",
   "title_sidebar": "Contents",
   "toc_cell": true,
   "toc_position": {},
   "toc_section_display": true,
   "toc_window_display": true
  },
  "varInspector": {
   "cols": {
    "lenName": 16,
    "lenType": 16,
    "lenVar": 40
   },
   "kernels_config": {
    "python": {
     "delete_cmd_postfix": "",
     "delete_cmd_prefix": "del ",
     "library": "var_list.py",
     "varRefreshCmd": "print(var_dic_list())"
    },
    "r": {
     "delete_cmd_postfix": ") ",
     "delete_cmd_prefix": "rm(",
     "library": "var_list.r",
     "varRefreshCmd": "cat(var_dic_list()) "
    }
   },
   "types_to_exclude": [
    "module",
    "function",
    "builtin_function_or_method",
    "instance",
    "_Feature"
   ],
   "window_display": false
  }
 },
 "nbformat": 4,
 "nbformat_minor": 2
}
