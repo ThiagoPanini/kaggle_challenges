{
 "cells": [
  {
   "cell_type": "markdown",
   "metadata": {
    "toc": true
   },
   "source": [
    "<h1>Table of Contents<span class=\"tocSkip\"></span></h1>\n",
    "<div class=\"toc\"><ul class=\"toc-item\"><li><span><a href=\"#Lendo-Dados\" data-toc-modified-id=\"Lendo-Dados-1\"><span class=\"toc-item-num\">1&nbsp;&nbsp;</span>Lendo Dados</a></span></li><li><span><a href=\"#Dados-Nulos\" data-toc-modified-id=\"Dados-Nulos-2\"><span class=\"toc-item-num\">2&nbsp;&nbsp;</span>Dados Nulos</a></span></li><li><span><a href=\"#Separando-Dados\" data-toc-modified-id=\"Separando-Dados-3\"><span class=\"toc-item-num\">3&nbsp;&nbsp;</span>Separando Dados</a></span></li><li><span><a href=\"#Pipeline\" data-toc-modified-id=\"Pipeline-4\"><span class=\"toc-item-num\">4&nbsp;&nbsp;</span>Pipeline</a></span></li><li><span><a href=\"#Avaliando-Resultados\" data-toc-modified-id=\"Avaliando-Resultados-5\"><span class=\"toc-item-num\">5&nbsp;&nbsp;</span>Avaliando Resultados</a></span><ul class=\"toc-item\"><li><span><a href=\"#Regressão-Logística\" data-toc-modified-id=\"Regressão-Logística-5.1\"><span class=\"toc-item-num\">5.1&nbsp;&nbsp;</span>Regressão Logística</a></span></li><li><span><a href=\"#Random-Forest\" data-toc-modified-id=\"Random-Forest-5.2\"><span class=\"toc-item-num\">5.2&nbsp;&nbsp;</span>Random Forest</a></span></li><li><span><a href=\"#Multi-Layer-Perceptron\" data-toc-modified-id=\"Multi-Layer-Perceptron-5.3\"><span class=\"toc-item-num\">5.3&nbsp;&nbsp;</span>Multi Layer Perceptron</a></span></li></ul></li><li><span><a href=\"#Dados-de-Teste\" data-toc-modified-id=\"Dados-de-Teste-6\"><span class=\"toc-item-num\">6&nbsp;&nbsp;</span>Dados de Teste</a></span></li></ul></div>"
   ]
  },
  {
   "cell_type": "markdown",
   "metadata": {},
   "source": [
    "Nesta segunda versão do algoritmo, vamos investigar melhorias para aumentar a performance do modelo obtido com análises primárias. O objetivo é encontrar uma acurácia que supere um valor de 80%."
   ]
  },
  {
   "cell_type": "markdown",
   "metadata": {},
   "source": [
    "## Lendo Dados"
   ]
  },
  {
   "cell_type": "code",
   "execution_count": 1,
   "metadata": {
    "ExecuteTime": {
     "end_time": "2019-05-13T19:30:07.922906Z",
     "start_time": "2019-05-13T19:29:57.591263Z"
    }
   },
   "outputs": [
    {
     "data": {
      "text/html": [
       "<div>\n",
       "<style scoped>\n",
       "    .dataframe tbody tr th:only-of-type {\n",
       "        vertical-align: middle;\n",
       "    }\n",
       "\n",
       "    .dataframe tbody tr th {\n",
       "        vertical-align: top;\n",
       "    }\n",
       "\n",
       "    .dataframe thead th {\n",
       "        text-align: right;\n",
       "    }\n",
       "</style>\n",
       "<table border=\"1\" class=\"dataframe\">\n",
       "  <thead>\n",
       "    <tr style=\"text-align: right;\">\n",
       "      <th></th>\n",
       "      <th>Age</th>\n",
       "      <th>Sex</th>\n",
       "      <th>Job</th>\n",
       "      <th>Housing</th>\n",
       "      <th>Saving accounts</th>\n",
       "      <th>Checking account</th>\n",
       "      <th>Credit amount</th>\n",
       "      <th>Duration</th>\n",
       "      <th>Purpose</th>\n",
       "      <th>Risk</th>\n",
       "    </tr>\n",
       "  </thead>\n",
       "  <tbody>\n",
       "    <tr>\n",
       "      <th>0</th>\n",
       "      <td>67</td>\n",
       "      <td>male</td>\n",
       "      <td>2</td>\n",
       "      <td>own</td>\n",
       "      <td>NaN</td>\n",
       "      <td>little</td>\n",
       "      <td>1169</td>\n",
       "      <td>6</td>\n",
       "      <td>radio/TV</td>\n",
       "      <td>good</td>\n",
       "    </tr>\n",
       "    <tr>\n",
       "      <th>1</th>\n",
       "      <td>22</td>\n",
       "      <td>female</td>\n",
       "      <td>2</td>\n",
       "      <td>own</td>\n",
       "      <td>little</td>\n",
       "      <td>moderate</td>\n",
       "      <td>5951</td>\n",
       "      <td>48</td>\n",
       "      <td>radio/TV</td>\n",
       "      <td>bad</td>\n",
       "    </tr>\n",
       "    <tr>\n",
       "      <th>2</th>\n",
       "      <td>49</td>\n",
       "      <td>male</td>\n",
       "      <td>1</td>\n",
       "      <td>own</td>\n",
       "      <td>little</td>\n",
       "      <td>NaN</td>\n",
       "      <td>2096</td>\n",
       "      <td>12</td>\n",
       "      <td>education</td>\n",
       "      <td>good</td>\n",
       "    </tr>\n",
       "    <tr>\n",
       "      <th>3</th>\n",
       "      <td>45</td>\n",
       "      <td>male</td>\n",
       "      <td>2</td>\n",
       "      <td>free</td>\n",
       "      <td>little</td>\n",
       "      <td>little</td>\n",
       "      <td>7882</td>\n",
       "      <td>42</td>\n",
       "      <td>furniture/equipment</td>\n",
       "      <td>good</td>\n",
       "    </tr>\n",
       "    <tr>\n",
       "      <th>4</th>\n",
       "      <td>53</td>\n",
       "      <td>male</td>\n",
       "      <td>2</td>\n",
       "      <td>free</td>\n",
       "      <td>little</td>\n",
       "      <td>little</td>\n",
       "      <td>4870</td>\n",
       "      <td>24</td>\n",
       "      <td>car</td>\n",
       "      <td>bad</td>\n",
       "    </tr>\n",
       "  </tbody>\n",
       "</table>\n",
       "</div>"
      ],
      "text/plain": [
       "   Age     Sex  Job Housing Saving accounts Checking account  Credit amount  \\\n",
       "0   67    male    2     own             NaN           little           1169   \n",
       "1   22  female    2     own          little         moderate           5951   \n",
       "2   49    male    1     own          little              NaN           2096   \n",
       "3   45    male    2    free          little           little           7882   \n",
       "4   53    male    2    free          little           little           4870   \n",
       "\n",
       "   Duration              Purpose  Risk  \n",
       "0         6             radio/TV  good  \n",
       "1        48             radio/TV   bad  \n",
       "2        12            education  good  \n",
       "3        42  furniture/equipment  good  \n",
       "4        24                  car   bad  "
      ]
     },
     "execution_count": 1,
     "metadata": {},
     "output_type": "execute_result"
    }
   ],
   "source": [
    "# Importando biblioteca pandas e lendo arquivo\n",
    "import pandas as pd\n",
    "\n",
    "df = pd.read_csv('german_credit_data.csv', index_col=0)\n",
    "df.head(5)"
   ]
  },
  {
   "cell_type": "code",
   "execution_count": 2,
   "metadata": {
    "ExecuteTime": {
     "end_time": "2019-05-13T19:30:07.965789Z",
     "start_time": "2019-05-13T19:30:07.932878Z"
    }
   },
   "outputs": [
    {
     "data": {
      "text/html": [
       "<div>\n",
       "<style scoped>\n",
       "    .dataframe tbody tr th:only-of-type {\n",
       "        vertical-align: middle;\n",
       "    }\n",
       "\n",
       "    .dataframe tbody tr th {\n",
       "        vertical-align: top;\n",
       "    }\n",
       "\n",
       "    .dataframe thead th {\n",
       "        text-align: right;\n",
       "    }\n",
       "</style>\n",
       "<table border=\"1\" class=\"dataframe\">\n",
       "  <thead>\n",
       "    <tr style=\"text-align: right;\">\n",
       "      <th></th>\n",
       "      <th>age</th>\n",
       "      <th>sex</th>\n",
       "      <th>job</th>\n",
       "      <th>housing</th>\n",
       "      <th>saving_accounts</th>\n",
       "      <th>checking_account</th>\n",
       "      <th>credit_amount</th>\n",
       "      <th>duration</th>\n",
       "      <th>purpose</th>\n",
       "      <th>risk</th>\n",
       "    </tr>\n",
       "  </thead>\n",
       "  <tbody>\n",
       "    <tr>\n",
       "      <th>0</th>\n",
       "      <td>67</td>\n",
       "      <td>male</td>\n",
       "      <td>2</td>\n",
       "      <td>own</td>\n",
       "      <td>NaN</td>\n",
       "      <td>little</td>\n",
       "      <td>1169</td>\n",
       "      <td>6</td>\n",
       "      <td>radio/TV</td>\n",
       "      <td>good</td>\n",
       "    </tr>\n",
       "    <tr>\n",
       "      <th>1</th>\n",
       "      <td>22</td>\n",
       "      <td>female</td>\n",
       "      <td>2</td>\n",
       "      <td>own</td>\n",
       "      <td>little</td>\n",
       "      <td>moderate</td>\n",
       "      <td>5951</td>\n",
       "      <td>48</td>\n",
       "      <td>radio/TV</td>\n",
       "      <td>bad</td>\n",
       "    </tr>\n",
       "    <tr>\n",
       "      <th>2</th>\n",
       "      <td>49</td>\n",
       "      <td>male</td>\n",
       "      <td>1</td>\n",
       "      <td>own</td>\n",
       "      <td>little</td>\n",
       "      <td>NaN</td>\n",
       "      <td>2096</td>\n",
       "      <td>12</td>\n",
       "      <td>education</td>\n",
       "      <td>good</td>\n",
       "    </tr>\n",
       "    <tr>\n",
       "      <th>3</th>\n",
       "      <td>45</td>\n",
       "      <td>male</td>\n",
       "      <td>2</td>\n",
       "      <td>free</td>\n",
       "      <td>little</td>\n",
       "      <td>little</td>\n",
       "      <td>7882</td>\n",
       "      <td>42</td>\n",
       "      <td>furniture/equipment</td>\n",
       "      <td>good</td>\n",
       "    </tr>\n",
       "    <tr>\n",
       "      <th>4</th>\n",
       "      <td>53</td>\n",
       "      <td>male</td>\n",
       "      <td>2</td>\n",
       "      <td>free</td>\n",
       "      <td>little</td>\n",
       "      <td>little</td>\n",
       "      <td>4870</td>\n",
       "      <td>24</td>\n",
       "      <td>car</td>\n",
       "      <td>bad</td>\n",
       "    </tr>\n",
       "  </tbody>\n",
       "</table>\n",
       "</div>"
      ],
      "text/plain": [
       "   age     sex  job housing saving_accounts checking_account  credit_amount  \\\n",
       "0   67    male    2     own             NaN           little           1169   \n",
       "1   22  female    2     own          little         moderate           5951   \n",
       "2   49    male    1     own          little              NaN           2096   \n",
       "3   45    male    2    free          little           little           7882   \n",
       "4   53    male    2    free          little           little           4870   \n",
       "\n",
       "   duration              purpose  risk  \n",
       "0         6             radio/TV  good  \n",
       "1        48             radio/TV   bad  \n",
       "2        12            education  good  \n",
       "3        42  furniture/equipment  good  \n",
       "4        24                  car   bad  "
      ]
     },
     "execution_count": 2,
     "metadata": {},
     "output_type": "execute_result"
    }
   ],
   "source": [
    "# Acertando nome das colunas\n",
    "df.columns = [col.replace(' ', '_').lower() for col in df.columns]\n",
    "df.head()"
   ]
  },
  {
   "cell_type": "markdown",
   "metadata": {},
   "source": [
    "## Dados Nulos"
   ]
  },
  {
   "cell_type": "markdown",
   "metadata": {},
   "source": [
    "Um dos primeiros pontos investigativos se basea no treinamento de um modelo, tendo as colunas `checking_account` e `saving_accounts` como target, para preencher os dados nulos destas mesmas colunas."
   ]
  },
  {
   "cell_type": "code",
   "execution_count": 3,
   "metadata": {
    "ExecuteTime": {
     "end_time": "2019-05-13T19:30:18.807561Z",
     "start_time": "2019-05-13T19:30:07.970826Z"
    }
   },
   "outputs": [],
   "source": [
    "# Pipeline para treinar dados de checking_account\n",
    "from sklearn.compose import ColumnTransformer\n",
    "from sklearn.pipeline import Pipeline\n",
    "from sklearn.preprocessing import StandardScaler\n",
    "from sklearn.preprocessing import OneHotEncoder\n",
    "\n",
    "# Preparando pipeline\n",
    "num_attribs_cc = ['age', 'credit_amount', 'duration']\n",
    "cat_attribs_cc = ['sex', 'job', 'housing', 'purpose', 'risk']\n",
    "\n",
    "# Criando pipeline numérico\n",
    "num_pipeline_cc = Pipeline([\n",
    "    ('std_scaler', StandardScaler())\n",
    "])\n",
    "\n",
    "# Criando pipeline categórico\n",
    "cat_pipeline_cc = Pipeline([\n",
    "    ('one_hot', OneHotEncoder(sparse=False))\n",
    "])\n",
    "\n",
    "# Definindo pipeline completo\n",
    "full_pipeline_cc = ColumnTransformer([\n",
    "    ('num_pipeline', num_pipeline_cc, num_attribs_cc),\n",
    "    ('cat_pipeline', cat_pipeline_cc, cat_attribs_cc)\n",
    "])"
   ]
  },
  {
   "cell_type": "code",
   "execution_count": 4,
   "metadata": {
    "ExecuteTime": {
     "end_time": "2019-05-13T19:30:18.886062Z",
     "start_time": "2019-05-13T19:30:18.817873Z"
    }
   },
   "outputs": [],
   "source": [
    "# Pipeline para treinar dados de saving_accounts\n",
    "\n",
    "# Preparando pipeline\n",
    "num_attribs_cp = ['age', 'credit_amount', 'duration']\n",
    "cat_attribs_cp = ['sex', 'job', 'housing', 'purpose', 'risk', 'checking_account']\n",
    "\n",
    "# Criando pipeline numérico\n",
    "num_pipeline_cp = Pipeline([\n",
    "    ('std_scaler', StandardScaler())\n",
    "])\n",
    "\n",
    "# Criando pipeline categórico\n",
    "cat_pipeline_cp = Pipeline([\n",
    "    ('one_hot', OneHotEncoder(sparse=False))\n",
    "])\n",
    "\n",
    "# Definindo pipeline completo\n",
    "full_pipeline_cp = ColumnTransformer([\n",
    "    ('num_pipeline', num_pipeline_cp, num_attribs_cp),\n",
    "    ('cat_pipeline', cat_pipeline_cp, cat_attribs_cp)\n",
    "])"
   ]
  },
  {
   "cell_type": "code",
   "execution_count": 5,
   "metadata": {
    "ExecuteTime": {
     "end_time": "2019-05-13T19:30:19.889416Z",
     "start_time": "2019-05-13T19:30:18.894177Z"
    }
   },
   "outputs": [],
   "source": [
    "# Definindo uma classe\n",
    "from sklearn.base import BaseEstimator, TransformerMixin\n",
    "from sklearn.neural_network import MLPClassifier\n",
    "\n",
    "class FillCheckingAcc(BaseEstimator, TransformerMixin):\n",
    "    \n",
    "    def fit(self, df, y=None):\n",
    "        return self\n",
    "    \n",
    "    def transform(self, df, y=None):\n",
    "        \n",
    "        # Definindo features checking_account\n",
    "        features_cc = ['age', 'sex', 'job', 'housing', 'credit_amount', 'duration', \n",
    "                       'purpose', 'risk']\n",
    "        label_cc = ['checking_account']\n",
    "        \n",
    "        # Indexando dados de CC\n",
    "        X_cc_notnull = df[df['checking_account'].notnull()]\n",
    "        X_cc_null = df[df['checking_account'].isnull()]\n",
    "        X_train_cc = X_cc_notnull.loc[:, features_cc]\n",
    "        y_train_cc = X_cc_notnull.loc[:, label_cc]\n",
    "        X_fill_cc = X_cc_null.loc[:, features_cc]\n",
    "        \n",
    "        # Preparando dados\n",
    "        X_cc_prepared = full_pipeline_cc.fit_transform(X_train_cc)\n",
    "        X_cc_fill_prepared = full_pipeline_cc.fit_transform(X_fill_cc)\n",
    "       \n",
    "        # Treinando modelo e predizendo (checking_account)\n",
    "        mlp_clf_cc = MLPClassifier()\n",
    "        mlp_clf_cc.fit(X_cc_prepared, y_train_cc)\n",
    "        cc_pred = mlp_clf_cc.predict(X_cc_fill_prepared)\n",
    "        X_cc_null['checking_account'] = cc_pred\n",
    "        \n",
    "        return pd.concat([X_cc_notnull, X_cc_null])"
   ]
  },
  {
   "cell_type": "code",
   "execution_count": 6,
   "metadata": {
    "ExecuteTime": {
     "end_time": "2019-05-13T19:30:22.216664Z",
     "start_time": "2019-05-13T19:30:19.891410Z"
    }
   },
   "outputs": [],
   "source": [
    "# Preenchendo dados nulos de checking_account\n",
    "import warnings\n",
    "warnings.filterwarnings('ignore')\n",
    "\n",
    "filler_checking_account = FillCheckingAcc()\n",
    "df_full_cc = filler_checking_account.fit_transform(df)"
   ]
  },
  {
   "cell_type": "code",
   "execution_count": 7,
   "metadata": {
    "ExecuteTime": {
     "end_time": "2019-05-13T19:30:22.230475Z",
     "start_time": "2019-05-13T19:30:22.219653Z"
    }
   },
   "outputs": [
    {
     "data": {
      "text/plain": [
       "age                   0\n",
       "sex                   0\n",
       "job                   0\n",
       "housing               0\n",
       "saving_accounts     183\n",
       "checking_account      0\n",
       "credit_amount         0\n",
       "duration              0\n",
       "purpose               0\n",
       "risk                  0\n",
       "dtype: int64"
      ]
     },
     "execution_count": 7,
     "metadata": {},
     "output_type": "execute_result"
    }
   ],
   "source": [
    "# Verificando\n",
    "df_full_cc.isnull().sum()"
   ]
  },
  {
   "cell_type": "markdown",
   "metadata": {},
   "source": [
    "Deu certo! Vamos treinar o modelo para preencher os dados nulos em `saving_accounts`."
   ]
  },
  {
   "cell_type": "code",
   "execution_count": 8,
   "metadata": {
    "ExecuteTime": {
     "end_time": "2019-05-13T19:30:22.344610Z",
     "start_time": "2019-05-13T19:30:22.235295Z"
    }
   },
   "outputs": [],
   "source": [
    "# Definindo uma classe\n",
    "class FillSavingAcc(BaseEstimator, TransformerMixin):\n",
    "    \n",
    "    def fit(self, df, y=None):\n",
    "        return self\n",
    "    \n",
    "    def transform(self, df, y=None):\n",
    "        \n",
    "        # Definindo features checking_account\n",
    "        features_cp = ['age', 'sex', 'job', 'housing', 'credit_amount', 'duration', \n",
    "                       'purpose', 'risk', 'checking_account']\n",
    "        label_cp = ['saving_accounts']\n",
    "        \n",
    "        # Indexando dados de CC\n",
    "        X_cp_notnull = df[df['saving_accounts'].notnull()]\n",
    "        X_cp_null = df[df['saving_accounts'].isnull()]\n",
    "        X_train_cp = X_cp_notnull.loc[:, features_cp]\n",
    "        y_train_cp = X_cp_notnull.loc[:, label_cp]\n",
    "        X_fill_cp = X_cp_null.loc[:, features_cp]\n",
    "        \n",
    "        # Preparando dados\n",
    "        X_cp_prepared = full_pipeline_cp.fit_transform(X_train_cp)\n",
    "        X_cp_fill_prepared = full_pipeline_cp.fit_transform(X_fill_cp)\n",
    "       \n",
    "        # Treinando modelo e predizendo (checking_account)\n",
    "        mlp_clf_cp = MLPClassifier()\n",
    "        mlp_clf_cp.fit(X_cp_prepared, y_train_cp)\n",
    "        cp_pred = mlp_clf_cp.predict(X_cp_fill_prepared)\n",
    "        X_cp_null['saving_accounts'] = cp_pred\n",
    "        \n",
    "        return pd.concat([X_cp_notnull, X_cp_null])"
   ]
  },
  {
   "cell_type": "code",
   "execution_count": 9,
   "metadata": {
    "ExecuteTime": {
     "end_time": "2019-05-13T19:30:24.111607Z",
     "start_time": "2019-05-13T19:30:22.347603Z"
    }
   },
   "outputs": [],
   "source": [
    "# Testando\n",
    "filler_saving_accouns = FillSavingAcc()\n",
    "df_full_complete = filler_saving_accouns.fit_transform(df_full_cc)"
   ]
  },
  {
   "cell_type": "code",
   "execution_count": 10,
   "metadata": {
    "ExecuteTime": {
     "end_time": "2019-05-13T19:30:24.130059Z",
     "start_time": "2019-05-13T19:30:24.115374Z"
    }
   },
   "outputs": [
    {
     "data": {
      "text/plain": [
       "age                 0\n",
       "sex                 0\n",
       "job                 0\n",
       "housing             0\n",
       "saving_accounts     0\n",
       "checking_account    0\n",
       "credit_amount       0\n",
       "duration            0\n",
       "purpose             0\n",
       "risk                0\n",
       "dtype: int64"
      ]
     },
     "execution_count": 10,
     "metadata": {},
     "output_type": "execute_result"
    }
   ],
   "source": [
    "# Verificando\n",
    "df_full_complete.isnull().sum()"
   ]
  },
  {
   "cell_type": "code",
   "execution_count": 11,
   "metadata": {
    "ExecuteTime": {
     "end_time": "2019-05-13T19:30:24.284021Z",
     "start_time": "2019-05-13T19:30:24.133306Z"
    }
   },
   "outputs": [
    {
     "data": {
      "text/html": [
       "<div>\n",
       "<style scoped>\n",
       "    .dataframe tbody tr th:only-of-type {\n",
       "        vertical-align: middle;\n",
       "    }\n",
       "\n",
       "    .dataframe tbody tr th {\n",
       "        vertical-align: top;\n",
       "    }\n",
       "\n",
       "    .dataframe thead th {\n",
       "        text-align: right;\n",
       "    }\n",
       "</style>\n",
       "<table border=\"1\" class=\"dataframe\">\n",
       "  <thead>\n",
       "    <tr style=\"text-align: right;\">\n",
       "      <th></th>\n",
       "      <th>age</th>\n",
       "      <th>sex</th>\n",
       "      <th>job</th>\n",
       "      <th>housing</th>\n",
       "      <th>saving_accounts</th>\n",
       "      <th>checking_account</th>\n",
       "      <th>credit_amount</th>\n",
       "      <th>duration</th>\n",
       "      <th>purpose</th>\n",
       "      <th>risk</th>\n",
       "    </tr>\n",
       "  </thead>\n",
       "  <tbody>\n",
       "    <tr>\n",
       "      <th>1</th>\n",
       "      <td>22</td>\n",
       "      <td>female</td>\n",
       "      <td>2</td>\n",
       "      <td>own</td>\n",
       "      <td>little</td>\n",
       "      <td>moderate</td>\n",
       "      <td>5951</td>\n",
       "      <td>48</td>\n",
       "      <td>radio/TV</td>\n",
       "      <td>bad</td>\n",
       "    </tr>\n",
       "    <tr>\n",
       "      <th>3</th>\n",
       "      <td>45</td>\n",
       "      <td>male</td>\n",
       "      <td>2</td>\n",
       "      <td>free</td>\n",
       "      <td>little</td>\n",
       "      <td>little</td>\n",
       "      <td>7882</td>\n",
       "      <td>42</td>\n",
       "      <td>furniture/equipment</td>\n",
       "      <td>good</td>\n",
       "    </tr>\n",
       "    <tr>\n",
       "      <th>4</th>\n",
       "      <td>53</td>\n",
       "      <td>male</td>\n",
       "      <td>2</td>\n",
       "      <td>free</td>\n",
       "      <td>little</td>\n",
       "      <td>little</td>\n",
       "      <td>4870</td>\n",
       "      <td>24</td>\n",
       "      <td>car</td>\n",
       "      <td>bad</td>\n",
       "    </tr>\n",
       "    <tr>\n",
       "      <th>7</th>\n",
       "      <td>35</td>\n",
       "      <td>male</td>\n",
       "      <td>3</td>\n",
       "      <td>rent</td>\n",
       "      <td>little</td>\n",
       "      <td>moderate</td>\n",
       "      <td>6948</td>\n",
       "      <td>36</td>\n",
       "      <td>car</td>\n",
       "      <td>good</td>\n",
       "    </tr>\n",
       "    <tr>\n",
       "      <th>9</th>\n",
       "      <td>28</td>\n",
       "      <td>male</td>\n",
       "      <td>3</td>\n",
       "      <td>own</td>\n",
       "      <td>little</td>\n",
       "      <td>moderate</td>\n",
       "      <td>5234</td>\n",
       "      <td>30</td>\n",
       "      <td>car</td>\n",
       "      <td>bad</td>\n",
       "    </tr>\n",
       "  </tbody>\n",
       "</table>\n",
       "</div>"
      ],
      "text/plain": [
       "   age     sex  job housing saving_accounts checking_account  credit_amount  \\\n",
       "1   22  female    2     own          little         moderate           5951   \n",
       "3   45    male    2    free          little           little           7882   \n",
       "4   53    male    2    free          little           little           4870   \n",
       "7   35    male    3    rent          little         moderate           6948   \n",
       "9   28    male    3     own          little         moderate           5234   \n",
       "\n",
       "   duration              purpose  risk  \n",
       "1        48             radio/TV   bad  \n",
       "3        42  furniture/equipment  good  \n",
       "4        24                  car   bad  \n",
       "7        36                  car  good  \n",
       "9        30                  car   bad  "
      ]
     },
     "execution_count": 11,
     "metadata": {},
     "output_type": "execute_result"
    }
   ],
   "source": [
    "# Vejamos primeiras linhas\n",
    "df_full_complete.head()"
   ]
  },
  {
   "cell_type": "code",
   "execution_count": 12,
   "metadata": {
    "ExecuteTime": {
     "end_time": "2019-05-13T19:30:24.392433Z",
     "start_time": "2019-05-13T19:30:24.286538Z"
    }
   },
   "outputs": [
    {
     "data": {
      "text/plain": [
       "moderate    512\n",
       "little      408\n",
       "rich         80\n",
       "Name: checking_account, dtype: int64"
      ]
     },
     "execution_count": 12,
     "metadata": {},
     "output_type": "execute_result"
    }
   ],
   "source": [
    "# Nova condição do atributo checking_account\n",
    "df_full_complete['checking_account'].value_counts()"
   ]
  },
  {
   "cell_type": "code",
   "execution_count": 13,
   "metadata": {
    "ExecuteTime": {
     "end_time": "2019-05-13T19:30:24.537696Z",
     "start_time": "2019-05-13T19:30:24.394881Z"
    }
   },
   "outputs": [
    {
     "data": {
      "text/plain": [
       "little        777\n",
       "moderate      111\n",
       "quite rich     64\n",
       "rich           48\n",
       "Name: saving_accounts, dtype: int64"
      ]
     },
     "execution_count": 13,
     "metadata": {},
     "output_type": "execute_result"
    }
   ],
   "source": [
    "# Nova condição do atributo saving_accounts\n",
    "df_full_complete['saving_accounts'].value_counts()"
   ]
  },
  {
   "cell_type": "markdown",
   "metadata": {},
   "source": [
    "## Separando Dados"
   ]
  },
  {
   "cell_type": "code",
   "execution_count": 14,
   "metadata": {
    "ExecuteTime": {
     "end_time": "2019-05-13T19:30:25.323994Z",
     "start_time": "2019-05-13T19:30:24.540770Z"
    }
   },
   "outputs": [],
   "source": [
    "# Importando módulo\n",
    "from sklearn.model_selection import train_test_split\n",
    "\n",
    "# Selecionando dados\n",
    "X = df_full_complete.iloc[:, :9]\n",
    "y = df_full_complete.iloc[:, -1]\n",
    "\n",
    "# Transformando label em 0s e 1s\n",
    "y = (y == 'bad')*1"
   ]
  },
  {
   "cell_type": "code",
   "execution_count": 15,
   "metadata": {
    "ExecuteTime": {
     "end_time": "2019-05-13T19:30:25.347691Z",
     "start_time": "2019-05-13T19:30:25.326042Z"
    }
   },
   "outputs": [
    {
     "data": {
      "text/html": [
       "<div>\n",
       "<style scoped>\n",
       "    .dataframe tbody tr th:only-of-type {\n",
       "        vertical-align: middle;\n",
       "    }\n",
       "\n",
       "    .dataframe tbody tr th {\n",
       "        vertical-align: top;\n",
       "    }\n",
       "\n",
       "    .dataframe thead th {\n",
       "        text-align: right;\n",
       "    }\n",
       "</style>\n",
       "<table border=\"1\" class=\"dataframe\">\n",
       "  <thead>\n",
       "    <tr style=\"text-align: right;\">\n",
       "      <th></th>\n",
       "      <th>age</th>\n",
       "      <th>sex</th>\n",
       "      <th>job</th>\n",
       "      <th>housing</th>\n",
       "      <th>saving_accounts</th>\n",
       "      <th>checking_account</th>\n",
       "      <th>credit_amount</th>\n",
       "      <th>duration</th>\n",
       "      <th>purpose</th>\n",
       "    </tr>\n",
       "  </thead>\n",
       "  <tbody>\n",
       "    <tr>\n",
       "      <th>1</th>\n",
       "      <td>22</td>\n",
       "      <td>female</td>\n",
       "      <td>2</td>\n",
       "      <td>own</td>\n",
       "      <td>little</td>\n",
       "      <td>moderate</td>\n",
       "      <td>5951</td>\n",
       "      <td>48</td>\n",
       "      <td>radio/TV</td>\n",
       "    </tr>\n",
       "    <tr>\n",
       "      <th>3</th>\n",
       "      <td>45</td>\n",
       "      <td>male</td>\n",
       "      <td>2</td>\n",
       "      <td>free</td>\n",
       "      <td>little</td>\n",
       "      <td>little</td>\n",
       "      <td>7882</td>\n",
       "      <td>42</td>\n",
       "      <td>furniture/equipment</td>\n",
       "    </tr>\n",
       "    <tr>\n",
       "      <th>4</th>\n",
       "      <td>53</td>\n",
       "      <td>male</td>\n",
       "      <td>2</td>\n",
       "      <td>free</td>\n",
       "      <td>little</td>\n",
       "      <td>little</td>\n",
       "      <td>4870</td>\n",
       "      <td>24</td>\n",
       "      <td>car</td>\n",
       "    </tr>\n",
       "    <tr>\n",
       "      <th>7</th>\n",
       "      <td>35</td>\n",
       "      <td>male</td>\n",
       "      <td>3</td>\n",
       "      <td>rent</td>\n",
       "      <td>little</td>\n",
       "      <td>moderate</td>\n",
       "      <td>6948</td>\n",
       "      <td>36</td>\n",
       "      <td>car</td>\n",
       "    </tr>\n",
       "    <tr>\n",
       "      <th>9</th>\n",
       "      <td>28</td>\n",
       "      <td>male</td>\n",
       "      <td>3</td>\n",
       "      <td>own</td>\n",
       "      <td>little</td>\n",
       "      <td>moderate</td>\n",
       "      <td>5234</td>\n",
       "      <td>30</td>\n",
       "      <td>car</td>\n",
       "    </tr>\n",
       "  </tbody>\n",
       "</table>\n",
       "</div>"
      ],
      "text/plain": [
       "   age     sex  job housing saving_accounts checking_account  credit_amount  \\\n",
       "1   22  female    2     own          little         moderate           5951   \n",
       "3   45    male    2    free          little           little           7882   \n",
       "4   53    male    2    free          little           little           4870   \n",
       "7   35    male    3    rent          little         moderate           6948   \n",
       "9   28    male    3     own          little         moderate           5234   \n",
       "\n",
       "   duration              purpose  \n",
       "1        48             radio/TV  \n",
       "3        42  furniture/equipment  \n",
       "4        24                  car  \n",
       "7        36                  car  \n",
       "9        30                  car  "
      ]
     },
     "execution_count": 15,
     "metadata": {},
     "output_type": "execute_result"
    }
   ],
   "source": [
    "# Verificnado\n",
    "X.head()"
   ]
  },
  {
   "cell_type": "code",
   "execution_count": 16,
   "metadata": {
    "ExecuteTime": {
     "end_time": "2019-05-13T19:30:25.546030Z",
     "start_time": "2019-05-13T19:30:25.349518Z"
    }
   },
   "outputs": [
    {
     "data": {
      "text/plain": [
       "1    1\n",
       "3    0\n",
       "4    1\n",
       "7    0\n",
       "9    1\n",
       "Name: risk, dtype: int32"
      ]
     },
     "execution_count": 16,
     "metadata": {},
     "output_type": "execute_result"
    }
   ],
   "source": [
    "# Label\n",
    "y.head()"
   ]
  },
  {
   "cell_type": "code",
   "execution_count": 17,
   "metadata": {
    "ExecuteTime": {
     "end_time": "2019-05-13T19:30:25.647276Z",
     "start_time": "2019-05-13T19:30:25.548829Z"
    }
   },
   "outputs": [
    {
     "name": "stdout",
     "output_type": "stream",
     "text": [
      "Dimensões de X_train: (800, 9)\n",
      "Dimensões de X_test: (200, 9)\n",
      "\n",
      "Dimensões de y_train: (800,)\n",
      "Dimensões de y_test: (200,)\n"
     ]
    }
   ],
   "source": [
    "# Separando dados\n",
    "X_train, X_test, y_train, y_test = train_test_split(X, y, test_size=.20)\n",
    "\n",
    "# Verificando\n",
    "print(f'Dimensões de X_train: {X_train.shape}')\n",
    "print(f'Dimensões de X_test: {X_test.shape}')\n",
    "print(f'\\nDimensões de y_train: {y_train.shape}')\n",
    "print(f'Dimensões de y_test: {y_test.shape}')"
   ]
  },
  {
   "cell_type": "code",
   "execution_count": 18,
   "metadata": {
    "ExecuteTime": {
     "end_time": "2019-05-13T19:30:25.885562Z",
     "start_time": "2019-05-13T19:30:25.650266Z"
    }
   },
   "outputs": [
    {
     "data": {
      "text/plain": [
       "0    564\n",
       "1    236\n",
       "Name: risk, dtype: int64"
      ]
     },
     "execution_count": 18,
     "metadata": {},
     "output_type": "execute_result"
    }
   ],
   "source": [
    "# Verificando distribuição\n",
    "y_train.value_counts()"
   ]
  },
  {
   "cell_type": "code",
   "execution_count": 19,
   "metadata": {
    "ExecuteTime": {
     "end_time": "2019-05-13T19:30:26.074957Z",
     "start_time": "2019-05-13T19:30:25.887968Z"
    }
   },
   "outputs": [
    {
     "data": {
      "text/plain": [
       "0    136\n",
       "1     64\n",
       "Name: risk, dtype: int64"
      ]
     },
     "execution_count": 19,
     "metadata": {},
     "output_type": "execute_result"
    }
   ],
   "source": [
    "# Distribuição de teste\n",
    "y_test.value_counts()"
   ]
  },
  {
   "cell_type": "code",
   "execution_count": 20,
   "metadata": {
    "ExecuteTime": {
     "end_time": "2019-05-13T19:30:26.481314Z",
     "start_time": "2019-05-13T19:30:26.077394Z"
    }
   },
   "outputs": [
    {
     "data": {
      "text/plain": [
       "moderate    416\n",
       "little      326\n",
       "rich         58\n",
       "Name: checking_account, dtype: int64"
      ]
     },
     "execution_count": 20,
     "metadata": {},
     "output_type": "execute_result"
    }
   ],
   "source": [
    "# Distribuição das colunas recém imputadas\n",
    "X_train['checking_account'].value_counts()"
   ]
  },
  {
   "cell_type": "code",
   "execution_count": 21,
   "metadata": {
    "ExecuteTime": {
     "end_time": "2019-05-13T19:30:27.193486Z",
     "start_time": "2019-05-13T19:30:26.488750Z"
    }
   },
   "outputs": [
    {
     "data": {
      "text/plain": [
       "little        613\n",
       "moderate       94\n",
       "quite rich     53\n",
       "rich           40\n",
       "Name: saving_accounts, dtype: int64"
      ]
     },
     "execution_count": 21,
     "metadata": {},
     "output_type": "execute_result"
    }
   ],
   "source": [
    "# saving_accounts\n",
    "X_train['saving_accounts'].value_counts()"
   ]
  },
  {
   "cell_type": "markdown",
   "metadata": {},
   "source": [
    "Suspeita: coluna `saving_accounts` é pouca representativa para o modelo, dado que temos muitos dados com uma única classificação."
   ]
  },
  {
   "cell_type": "markdown",
   "metadata": {},
   "source": [
    "## Pipeline"
   ]
  },
  {
   "cell_type": "code",
   "execution_count": 22,
   "metadata": {
    "ExecuteTime": {
     "end_time": "2019-05-13T19:30:27.383602Z",
     "start_time": "2019-05-13T19:30:27.196032Z"
    }
   },
   "outputs": [],
   "source": [
    "# Importando módulo especial do scikit para unir pipelines\n",
    "from sklearn.compose import ColumnTransformer\n",
    "\n",
    "# Preparando pipeline\n",
    "num_attribs = ['age', 'credit_amount', 'duration']\n",
    "cat_attribs = ['sex', 'job', 'housing', 'saving_accounts', \n",
    "               'checking_account', 'purpose']\n",
    "\n",
    "# Criando pipeline numérico\n",
    "num_pipeline = Pipeline([\n",
    "    ('std_scaler', StandardScaler())\n",
    "])\n",
    "\n",
    "# Criando pipeline categórico\n",
    "cat_pipeline = Pipeline([\n",
    "    ('one_hot', OneHotEncoder(sparse=False))\n",
    "])\n",
    "\n",
    "# Definindo pipeline completo\n",
    "full_pipeline = ColumnTransformer([\n",
    "    ('num_pipeline', num_pipeline, num_attribs),\n",
    "    ('cat_pipeline', cat_pipeline, cat_attribs)\n",
    "])\n",
    "\n",
    "# Dados preparados\n",
    "X_train_prepared = full_pipeline.fit_transform(X_train)"
   ]
  },
  {
   "cell_type": "markdown",
   "metadata": {},
   "source": [
    "## Avaliando Resultados"
   ]
  },
  {
   "cell_type": "code",
   "execution_count": 23,
   "metadata": {
    "ExecuteTime": {
     "end_time": "2019-05-13T19:30:32.552761Z",
     "start_time": "2019-05-13T19:30:27.397762Z"
    }
   },
   "outputs": [],
   "source": [
    "# Importando bibliotecas\n",
    "from sklearn.linear_model import LogisticRegression\n",
    "from sklearn.model_selection import cross_val_score\n",
    "from sklearn.metrics import accuracy_score\n",
    "from sklearn.model_selection import cross_val_predict\n",
    "from sklearn.metrics import confusion_matrix\n",
    "from sklearn.metrics import precision_score, recall_score\n",
    "from sklearn.metrics import f1_score\n",
    "from sklearn.metrics import roc_curve\n",
    "import matplotlib.pyplot as plt\n",
    "%matplotlib inline"
   ]
  },
  {
   "cell_type": "code",
   "execution_count": 24,
   "metadata": {
    "ExecuteTime": {
     "end_time": "2019-05-13T19:30:32.572595Z",
     "start_time": "2019-05-13T19:30:32.554760Z"
    }
   },
   "outputs": [],
   "source": [
    "# Função para plotagem da curva ROC\n",
    "def plot_roc_curve(fpr, tpr, label=None):\n",
    "    plt.plot(fpr, tpr, linewidth=2, label=label)\n",
    "    plt.plot([0, 1], [0, 1], 'k--')\n",
    "    plt.axis([0, 1, 0, 1])\n",
    "    plt.xlabel('False Positive Rate')\n",
    "    plt.ylabel('True Positive Rate')\n",
    "    plt.title('ROC Curve')\n",
    "    plt.show()"
   ]
  },
  {
   "cell_type": "code",
   "execution_count": 25,
   "metadata": {
    "ExecuteTime": {
     "end_time": "2019-05-13T19:30:32.696460Z",
     "start_time": "2019-05-13T19:30:32.576872Z"
    }
   },
   "outputs": [],
   "source": [
    "# Definindo função para retornar toda a análise nos dados de treino\n",
    "def full_train_analysis(model, X, y, acc=True, cross_val=True, cv=5, precision=True, \n",
    "                        recall=True, f1=True, conf_mx=True, roc=True):\n",
    "    \n",
    "    # Calculando requisitos para as análises\n",
    "    flag_tree = False\n",
    "    y_pred = model.predict(X)\n",
    "    y_scores = cross_val_score(model, X, y, cv=cv, scoring='accuracy')\n",
    "    y_cfmx_pred = cross_val_predict(model, X, y, cv=cv)\n",
    "    \n",
    "    try:\n",
    "        y_roc_pred = cross_val_predict(model, X, y, cv=5, method='decision_function')\n",
    "    except:\n",
    "        # Decision Trees e Random Forest não possuem decision_function\n",
    "        y_probas = cross_val_predict(model, X, y, cv=5, method='predict_proba')\n",
    "        y_scores_tree = y_probas[:, 1]\n",
    "        flag_tree = True\n",
    "    \n",
    "    # Retornando análise\n",
    "    if acc:\n",
    "        accuracy = accuracy_score(y_pred, y)\n",
    "        print(f'Acurácia do modelo: {accuracy:.2f}')\n",
    "    if cross_val:\n",
    "        print(f'\\nCross Validation: {y_scores}')\n",
    "    if precision:\n",
    "        p_score = precision_score(y, y_pred)\n",
    "        print(f'\\nPrecision: {p_score:.2f}')\n",
    "    if recall:\n",
    "        r_score = recall_score(y, y_pred)\n",
    "        print(f'\\nRecall: {r_score:.2f}')\n",
    "    if f1:\n",
    "        f_score = f1_score(y, y_pred)\n",
    "        print(f'\\nf1_score: {f_score:.2f}')\n",
    "    if conf_mx:\n",
    "        matriz = confusion_matrix(y, y_cfmx_pred)\n",
    "        print(f'\\nMatriz de Confusão: \\n{matriz}')\n",
    "    if roc:\n",
    "        if flag_tree:\n",
    "            fpr, tpr, thresholds = roc_curve(y, y_scores_tree)\n",
    "        else:\n",
    "            fpr, tpr, thresholds = roc_curve(y, y_roc_pred)\n",
    "        plot_roc_curve(fpr, tpr)"
   ]
  },
  {
   "cell_type": "markdown",
   "metadata": {},
   "source": [
    "### Regressão Logística"
   ]
  },
  {
   "cell_type": "code",
   "execution_count": 26,
   "metadata": {
    "ExecuteTime": {
     "end_time": "2019-05-13T19:30:33.968884Z",
     "start_time": "2019-05-13T19:30:32.698455Z"
    }
   },
   "outputs": [
    {
     "name": "stdout",
     "output_type": "stream",
     "text": [
      "Acurácia do modelo: 0.73\n",
      "\n",
      "Cross Validation: [0.7515528  0.71875    0.68125    0.71875    0.67924528]\n",
      "\n",
      "Precision: 0.59\n",
      "\n",
      "Recall: 0.24\n",
      "\n",
      "f1_score: 0.34\n",
      "\n",
      "Matriz de Confusão: \n",
      "[[518  46]\n",
      " [186  50]]\n"
     ]
    },
    {
     "data": {
      "image/png": "[encoded data removed]",
      "text/plain": [
       "<Figure size 432x288 with 1 Axes>"
      ]
     },
     "metadata": {
      "needs_background": "light"
     },
     "output_type": "display_data"
    }
   ],
   "source": [
    "# Treinando modelo de Regressão Logística e verificando resultados\n",
    "log_reg = LogisticRegression()\n",
    "log_reg.fit(X_train_prepared, y_train)\n",
    "\n",
    "full_train_analysis(log_reg, X_train_prepared, y_train)"
   ]
  },
  {
   "cell_type": "markdown",
   "metadata": {},
   "source": [
    "### Random Forest"
   ]
  },
  {
   "cell_type": "code",
   "execution_count": 27,
   "metadata": {
    "ExecuteTime": {
     "end_time": "2019-05-13T19:30:36.715974Z",
     "start_time": "2019-05-13T19:30:33.971914Z"
    }
   },
   "outputs": [
    {
     "name": "stdout",
     "output_type": "stream",
     "text": [
      "Acurácia do modelo: 0.98\n",
      "\n",
      "Cross Validation: [0.67701863 0.68125    0.64375    0.7375     0.67924528]\n",
      "\n",
      "Precision: 1.00\n",
      "\n",
      "Recall: 0.94\n",
      "\n",
      "f1_score: 0.97\n",
      "\n",
      "Matriz de Confusão: \n",
      "[[497  67]\n",
      " [171  65]]\n"
     ]
    },
    {
     "data": {
      "image/png": "[encoded data removed]",
      "text/plain": [
       "<Figure size 432x288 with 1 Axes>"
      ]
     },
     "metadata": {
      "needs_background": "light"
     },
     "output_type": "display_data"
    }
   ],
   "source": [
    "# Treinando modelo\n",
    "from sklearn.ensemble import RandomForestClassifier\n",
    "\n",
    "forest_clf = RandomForestClassifier()\n",
    "forest_clf.fit(X_train_prepared, y_train)\n",
    "full_train_analysis(forest_clf, X_train_prepared, y_train)"
   ]
  },
  {
   "cell_type": "markdown",
   "metadata": {},
   "source": [
    "### Multi Layer Perceptron"
   ]
  },
  {
   "cell_type": "code",
   "execution_count": 28,
   "metadata": {
    "ExecuteTime": {
     "end_time": "2019-05-13T19:30:53.404250Z",
     "start_time": "2019-05-13T19:30:36.718962Z"
    }
   },
   "outputs": [
    {
     "name": "stdout",
     "output_type": "stream",
     "text": [
      "Acurácia do modelo: 0.84\n",
      "\n",
      "Cross Validation: [0.78881988 0.73125    0.7375     0.70625    0.72955975]\n",
      "\n",
      "Precision: 0.81\n",
      "\n",
      "Recall: 0.61\n",
      "\n",
      "f1_score: 0.70\n",
      "\n",
      "Matriz de Confusão: \n",
      "[[494  70]\n",
      " [153  83]]\n"
     ]
    },
    {
     "data": {
      "image/png": "[encoded data removed]",
      "text/plain": [
       "<Figure size 432x288 with 1 Axes>"
      ]
     },
     "metadata": {
      "needs_background": "light"
     },
     "output_type": "display_data"
    }
   ],
   "source": [
    "# Treinando modelo\n",
    "from sklearn.neural_network import MLPClassifier\n",
    "\n",
    "mlp_clf = MLPClassifier()\n",
    "mlp_clf.fit(X_train_prepared, y_train)\n",
    "full_train_analysis(mlp_clf, X_train_prepared, y_train)"
   ]
  },
  {
   "cell_type": "markdown",
   "metadata": {},
   "source": [
    "## Dados de Teste"
   ]
  },
  {
   "cell_type": "code",
   "execution_count": 30,
   "metadata": {
    "ExecuteTime": {
     "end_time": "2019-05-13T19:32:13.295397Z",
     "start_time": "2019-05-13T19:32:13.267870Z"
    }
   },
   "outputs": [
    {
     "data": {
      "text/plain": [
       "0.685"
      ]
     },
     "execution_count": 30,
     "metadata": {},
     "output_type": "execute_result"
    }
   ],
   "source": [
    "# Preparando dados\n",
    "X_test_prepared = full_pipeline.fit_transform(X_test)\n",
    "y_pred = mlp_clf.predict(X_test_prepared)\n",
    "accuracy_score(y_pred, y_test)"
   ]
  },
  {
   "cell_type": "code",
   "execution_count": 31,
   "metadata": {
    "ExecuteTime": {
     "end_time": "2019-05-13T19:32:45.669881Z",
     "start_time": "2019-05-13T19:32:45.657420Z"
    }
   },
   "outputs": [
    {
     "data": {
      "text/plain": [
       "0.7"
      ]
     },
     "execution_count": 31,
     "metadata": {},
     "output_type": "execute_result"
    }
   ],
   "source": [
    "y_pred = forest_clf.predict(X_test_prepared)\n",
    "accuracy_score(y_pred, y_test)"
   ]
  },
  {
   "cell_type": "code",
   "execution_count": 32,
   "metadata": {
    "ExecuteTime": {
     "end_time": "2019-05-13T19:33:01.037454Z",
     "start_time": "2019-05-13T19:33:01.030668Z"
    }
   },
   "outputs": [
    {
     "data": {
      "text/plain": [
       "0.715"
      ]
     },
     "execution_count": 32,
     "metadata": {},
     "output_type": "execute_result"
    }
   ],
   "source": [
    "y_pred = log_reg.predict(X_test_prepared)\n",
    "accuracy_score(y_pred, y_test)"
   ]
  },
  {
   "cell_type": "code",
   "execution_count": null,
   "metadata": {},
   "outputs": [],
   "source": []
  }
 ],
 "metadata": {
  "kernelspec": {
   "display_name": "Python 3",
   "language": "python",
   "name": "python3"
  },
  "language_info": {
   "codemirror_mode": {
    "name": "ipython",
    "version": 3
   },
   "file_extension": ".py",
   "mimetype": "text/x-python",
   "name": "python",
   "nbconvert_exporter": "python",
   "pygments_lexer": "ipython3",
   "version": "3.7.3"
  },
  "toc": {
   "base_numbering": 1,
   "nav_menu": {},
   "number_sections": true,
   "sideBar": true,
   "skip_h1_title": true,
   "title_cell": "Table of Contents",
   "title_sidebar": "Contents",
   "toc_cell": true,
   "toc_position": {
    "height": "calc(100% - 180px)",
    "left": "10px",
    "top": "150px",
    "width": "245.76px"
   },
   "toc_section_display": true,
   "toc_window_display": true
  }
 },
 "nbformat": 4,
 "nbformat_minor": 2
}
