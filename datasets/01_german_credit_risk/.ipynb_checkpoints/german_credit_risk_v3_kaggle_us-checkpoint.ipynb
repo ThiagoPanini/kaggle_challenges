{
 "cells": [
  {
   "cell_type": "markdown",
   "metadata": {
    "toc": true
   },
   "source": [
    "<h1>Table of Contents<span class=\"tocSkip\"></span></h1>\n",
    "<div class=\"toc\"><ul class=\"toc-item\"><li><span><a href=\"#Objectives\" data-toc-modified-id=\"Objectives-1\"><span class=\"toc-item-num\">1&nbsp;&nbsp;</span>Objectives</a></span></li><li><span><a href=\"#Definitions\" data-toc-modified-id=\"Definitions-2\"><span class=\"toc-item-num\">2&nbsp;&nbsp;</span>Definitions</a></span></li><li><span><a href=\"#EDA\" data-toc-modified-id=\"EDA-3\"><span class=\"toc-item-num\">3&nbsp;&nbsp;</span>EDA</a></span><ul class=\"toc-item\"><li><span><a href=\"#Graphics\" data-toc-modified-id=\"Graphics-3.1\"><span class=\"toc-item-num\">3.1&nbsp;&nbsp;</span>Graphics</a></span></li><li><span><a href=\"#Splitting-Data\" data-toc-modified-id=\"Splitting-Data-3.2\"><span class=\"toc-item-num\">3.2&nbsp;&nbsp;</span>Splitting Data</a></span></li><li><span><a href=\"#Null-Data\" data-toc-modified-id=\"Null-Data-3.3\"><span class=\"toc-item-num\">3.3&nbsp;&nbsp;</span>Null Data</a></span></li><li><span><a href=\"#Categorical-Features\" data-toc-modified-id=\"Categorical-Features-3.4\"><span class=\"toc-item-num\">3.4&nbsp;&nbsp;</span>Categorical Features</a></span></li><li><span><a href=\"#Feature-Scaling\" data-toc-modified-id=\"Feature-Scaling-3.5\"><span class=\"toc-item-num\">3.5&nbsp;&nbsp;</span>Feature Scaling</a></span></li></ul></li><li><span><a href=\"#Pipeline\" data-toc-modified-id=\"Pipeline-4\"><span class=\"toc-item-num\">4&nbsp;&nbsp;</span>Pipeline</a></span><ul class=\"toc-item\"><li><span><a href=\"#Numerical-Pipeline\" data-toc-modified-id=\"Numerical-Pipeline-4.1\"><span class=\"toc-item-num\">4.1&nbsp;&nbsp;</span>Numerical Pipeline</a></span></li><li><span><a href=\"#Categorical-Pipeline\" data-toc-modified-id=\"Categorical-Pipeline-4.2\"><span class=\"toc-item-num\">4.2&nbsp;&nbsp;</span>Categorical Pipeline</a></span></li><li><span><a href=\"#Full-Pipeline\" data-toc-modified-id=\"Full-Pipeline-4.3\"><span class=\"toc-item-num\">4.3&nbsp;&nbsp;</span>Full Pipeline</a></span></li></ul></li><li><span><a href=\"#Training-a-Model\" data-toc-modified-id=\"Training-a-Model-5\"><span class=\"toc-item-num\">5&nbsp;&nbsp;</span>Training a Model</a></span><ul class=\"toc-item\"><li><span><a href=\"#Logistic-Regression\" data-toc-modified-id=\"Logistic-Regression-5.1\"><span class=\"toc-item-num\">5.1&nbsp;&nbsp;</span>Logistic Regression</a></span></li><li><span><a href=\"#SGD-Classifier\" data-toc-modified-id=\"SGD-Classifier-5.2\"><span class=\"toc-item-num\">5.2&nbsp;&nbsp;</span>SGD Classifier</a></span></li><li><span><a href=\"#Decision-Trees\" data-toc-modified-id=\"Decision-Trees-5.3\"><span class=\"toc-item-num\">5.3&nbsp;&nbsp;</span>Decision Trees</a></span></li><li><span><a href=\"#Random-Forest\" data-toc-modified-id=\"Random-Forest-5.4\"><span class=\"toc-item-num\">5.4&nbsp;&nbsp;</span>Random Forest</a></span></li><li><span><a href=\"#Multi-Layer-Perceptron\" data-toc-modified-id=\"Multi-Layer-Perceptron-5.5\"><span class=\"toc-item-num\">5.5&nbsp;&nbsp;</span>Multi Layer Perceptron</a></span></li></ul></li><li><span><a href=\"#Grid-Search\" data-toc-modified-id=\"Grid-Search-6\"><span class=\"toc-item-num\">6&nbsp;&nbsp;</span>Grid Search</a></span></li><li><span><a href=\"#Predicting-Null-Data\" data-toc-modified-id=\"Predicting-Null-Data-7\"><span class=\"toc-item-num\">7&nbsp;&nbsp;</span>Predicting Null Data</a></span></li><li><span><a href=\"#Test-Accuracy\" data-toc-modified-id=\"Test-Accuracy-8\"><span class=\"toc-item-num\">8&nbsp;&nbsp;</span>Test Accuracy</a></span></li></ul></div>"
   ]
  },
  {
   "cell_type": "markdown",
   "metadata": {},
   "source": [
    "In this implementation, we will explore a dataset with informations of German credit risk. In this financial context, we have data of German borrowers, such as _age_, _sex_, _saving accounts_, and so on, with the goal to predict whenever there is a credit risk for the loaner.\n",
    "\n",
    "The dataset includes the following features:\n",
    "* Age (numeric);\n",
    "* Sex (text: male, female);\n",
    "* Job (numeric: 0 - unskilled and non-resident, 1 - unskilled and resident, 2 - skilled, 3 - highly skilled);\n",
    "* Housing (text: own, rent, or free);\n",
    "* Saving accounts (text - little, moderate, quite rich, rich); - _Conta Poupança_\n",
    "* Checking account (numeric, in DM - Deutsch Mark); - _Conta Corrente_\n",
    "* Credit amount (numeric, in DM);\n",
    "* Duration (numeric, in month);\n",
    "* Purpose (text: car, furniture/equipement, radio/TV, domestic appliances, repairs, education, business, vacation/others)\n",
    "* **Risk (text: good, bad)**"
   ]
  },
  {
   "cell_type": "markdown",
   "metadata": {},
   "source": [
    "## Objectives"
   ]
  },
  {
   "cell_type": "markdown",
   "metadata": {},
   "source": [
    "Through exploratory data analysis and training models, we intend to answear some questions and observe some points:\n",
    "* What are the marjority attributes of the dataset?\n",
    "    * Count values for sex, housing, saving_accounts, checking_account, purpose, risk?\n",
    "    * Different ways and different charts to visualize it.\n",
    "* Mean credit amount requested by gender?\n",
    "* Distribution of credit amount requested by gender.\n",
    "* Mean credit amount requested by purpose.\n",
    "* Is there any relationship between credit amount, purpose and risk?\n",
    "* Mean credit amount for categories of saving_accounts, checking_account by risk.\n",
    "* Mean duration of credit request by purpose and risk.\n",
    "* Distribution of duration of credit request by risk.\n",
    "* Correlation between numerical features.\n",
    "* Frequency and count of housing by risk.\n",
    "* Frequency and count of job by risk.\n",
    "* Visualize outliers for credit amount requested by purpose\n",
    "\n",
    "* **Train a model to predict credit risk with good accuracy**"
   ]
  },
  {
   "cell_type": "markdown",
   "metadata": {},
   "source": [
    "## Definitions"
   ]
  },
  {
   "cell_type": "markdown",
   "metadata": {},
   "source": [
    "First of all, lets import the libraries to be used in this project."
   ]
  },
  {
   "cell_type": "code",
   "execution_count": 1,
   "metadata": {
    "ExecuteTime": {
     "end_time": "2019-05-13T21:05:23.785663Z",
     "start_time": "2019-05-13T21:05:09.193474Z"
    }
   },
   "outputs": [],
   "source": [
    "# Importing libs\n",
    "import pandas as pd\n",
    "import numpy as np\n",
    "import matplotlib.pyplot as plt\n",
    "from matplotlib import cm\n",
    "import seaborn as sns\n",
    "from sklearn.model_selection import train_test_split, cross_val_score, cross_val_predict, GridSearchCV\n",
    "from sklearn.base import BaseEstimator, TransformerMixin\n",
    "from sklearn.preprocessing import OneHotEncoder, StandardScaler\n",
    "from sklearn.pipeline import Pipeline\n",
    "from sklearn.compose import ColumnTransformer\n",
    "from sklearn.linear_model import LogisticRegression, SGDClassifier\n",
    "from sklearn.metrics import accuracy_score, confusion_matrix, precision_score, recall_score\n",
    "from sklearn.metrics import f1_score, roc_curve\n",
    "from sklearn.tree import DecisionTreeClassifier\n",
    "from sklearn.ensemble import RandomForestClassifier\n",
    "from sklearn.neural_network import MLPClassifier\n",
    "\n",
    "import warnings\n",
    "warnings.filterwarnings('ignore')\n",
    "%matplotlib inline"
   ]
  },
  {
   "cell_type": "markdown",
   "metadata": {},
   "source": [
    "Now, we have to define all the functions to be used."
   ]
  },
  {
   "cell_type": "code",
   "execution_count": 87,
   "metadata": {
    "ExecuteTime": {
     "end_time": "2019-05-13T23:31:32.116607Z",
     "start_time": "2019-05-13T23:31:30.457509Z"
    }
   },
   "outputs": [],
   "source": [
    "def categorical_plot(cols_cat):\n",
    "    \"\"\"docstring for categorical_plot:\n",
    "    this function will be use to plot, in once, the count of categorical features\n",
    "    \n",
    "    input:\n",
    "        cols_cat: list of categorical features\"\"\"\n",
    "    \n",
    "    # Creating figure\n",
    "    fig, axs = plt.subplots(2, 3, figsize=(10, 6))\n",
    "    idx_row = 0\n",
    "    for col in cols_cat:\n",
    "        # Returning column index\n",
    "        idx_col = cols_cat.index(col)\n",
    "\n",
    "        # Verifying brake line in figure (second row)\n",
    "        if idx_col >= 3:\n",
    "            idx_col -= 3\n",
    "            idx_row = 1\n",
    "\n",
    "        # Plot params\n",
    "        names = df[col].value_counts().index\n",
    "        heights = df[col].value_counts().values\n",
    "\n",
    "        # Bar chart\n",
    "        axs[idx_row, idx_col].bar(names, heights)\n",
    "        if (idx_row, idx_col) == (0, 2):\n",
    "            y_pos = np.arange(len(names))\n",
    "            axs[idx_row, idx_col].tick_params(axis='x', labelrotation=30)\n",
    "        if (idx_row, idx_col) == (1, 1):\n",
    "            y_pos = np.arange(len(names))\n",
    "            axs[idx_row, idx_col].tick_params(axis='x', labelrotation=90)\n",
    "\n",
    "        total = df[col].value_counts().sum()\n",
    "        for p in axs[idx_row, idx_col].patches:\n",
    "            w, h = p.get_width(), p.get_height()\n",
    "            x, y = p.get_xy()\n",
    "            axs[idx_row, idx_col].annotate('{:.1%}'.format(h/1000), (p.get_x()+.29*w,\n",
    "                                            p.get_y()+h+20), color='k')\n",
    "\n",
    "        # Plot configuration\n",
    "        axs[idx_row, idx_col].set_title(col, size=12)\n",
    "        axs[idx_row, idx_col].set_ylim(0, heights.max()+120)\n",
    "        plt.tight_layout()\n",
    "\n",
    "def individual_cat_plot(col):\n",
    "    \"\"\"docstring for individual_cat_plot\n",
    "    With this function we can plot individual categorical features and see more details\n",
    "    \n",
    "    input:\n",
    "        col: categorical feture to be analyzed\"\"\"\n",
    "    \n",
    "    # If the parameter isn't a categorical feature, return a message\n",
    "    if col not in ['sex', 'housing', 'saving_accounts', 'checking_account',\n",
    "            'purpose', 'risk']:\n",
    "        return \"Atributo não categórico\"\n",
    "    \n",
    "    # Creating figure and showing data\n",
    "    fig, ax = plt.subplots(figsize=(8, 5))\n",
    "    names = df[col].value_counts().index\n",
    "    heights = df[col].value_counts().values\n",
    "    total = df[col].value_counts().sum()\n",
    "    # Due to its diversity, the feature purpose will be plotted in a horizontal bar chart\n",
    "    if col == 'purpose':\n",
    "        ax.barh(names, heights)\n",
    "        ax.set_title(col.capitalize().replace('_', ' '), size=15)\n",
    "        ax.patch.set_facecolor('#FFFFFF')\n",
    "        ax.spines['bottom'].set_color('#CCCCCC')\n",
    "        ax.spines['left'].set_color('#CCCCCC')\n",
    "        ax.spines['top'].set_color('#FFFFFF')\n",
    "        ax.spines['right'].set_color('#FFFFFF')\n",
    "        for i in ax.patches:\n",
    "            # get_width pulls left or right; get_y pushes up or down\n",
    "            ax.text(i.get_width()+2, i.get_y()+.50, \\\n",
    "                    str(round((i.get_width()/total)*100, 1))+'%', fontsize=12,\n",
    "        color='dimgrey')\n",
    "        plt.gca().invert_yaxis()\n",
    "    else:\n",
    "        ax.bar(names, heights)\n",
    "        ax.set_title(col.capitalize().replace('_', ' '), size=15)\n",
    "        ax.patch.set_facecolor('#FFFFFF')\n",
    "        ax.spines['bottom'].set_color('#CCCCCC')\n",
    "        ax.spines['left'].set_color('#CCCCCC')\n",
    "        ax.spines['top'].set_color('#FFFFFF')\n",
    "        ax.spines['right'].set_color('#FFFFFF')\n",
    "        for i in ax.patches:\n",
    "            # get_x pulls left or right; get_height pushes up or down\n",
    "            ax.text(i.get_x()+.3, i.get_height()+8, \\\n",
    "                    str(round((i.get_height()/total)*100, 1))+'%', fontsize=12,\n",
    "                        color='dimgrey')\n",
    "\n",
    "def individual_cat_pie_plot(col):\n",
    "    \"\"\"docstring for individual_cat_pie_plot\n",
    "    With this function we can plot individual categorical features \n",
    "    and see more details in a pie chart\n",
    "    \n",
    "    input:\n",
    "        col: categorical feture to be analyzed\"\"\"\n",
    "    \n",
    "    # If the parameter isn't a categorical feature, return a message\n",
    "    if col not in ['sex', 'housing', 'saving_accounts', 'checking_account',\n",
    "            'purpose', 'risk']:\n",
    "        return \"Atributo não categórico\"\n",
    "    \n",
    "    # Creating figure and showing data\n",
    "    names = df[col].value_counts().index\n",
    "    heights = df[col].value_counts().values\n",
    "    total = df[col].value_counts().sum()\n",
    "    fig, ax = plt.subplots(figsize=(5, 5))\n",
    "    cs = cm.viridis(np.arange(len(names))/len(names))\n",
    "    explode = np.zeros(len(names))\n",
    "    explode[0] = 0.05\n",
    "    wedges, texts, autotexts = ax.pie(heights, labels=names, explode=explode,\n",
    "                                       startangle=90, shadow=False, \n",
    "                                      autopct='%1.1f%%', colors=cs)\n",
    "    ax.axis('equal')\n",
    "    plt.title(col.capitalize().replace('_', ' '), size=15)\n",
    "    plt.legend(fontsize=10, loc='best')\n",
    "    plt.tight_layout()\n",
    "    plt.setp(autotexts, size=12, color='w')\n",
    "    plt.show()\n",
    "\n",
    "def plot_roc_curve(fpr, tpr, label=None):\n",
    "    \"\"\"docstring for plot_roc_curve:\n",
    "    function responsible for plot the ROC curve of a model\n",
    "    \n",
    "    input:\n",
    "        fpr: false positive rate\n",
    "        tpr: true positive rate\"\"\"\n",
    "    \n",
    "    # Showing data\n",
    "    plt.plot(fpr, tpr, linewidth=2, label=label)\n",
    "    plt.plot([0, 1], [0, 1], 'k--')\n",
    "    plt.axis([0, 1, 0, 1])\n",
    "    plt.xlabel('False Positive Rate')\n",
    "    plt.ylabel('True Positive Rate')\n",
    "    plt.title('ROC Curve')\n",
    "    plt.show()\n",
    "\n",
    "def full_train_analysis(model, X, y, acc=True, cross_val=True, cv=5, precision=True, \n",
    "                        recall=True, f1=True, conf_mx=True, roc=True):\n",
    "    \"\"\"docstring for full_train_analysis:\n",
    "    with this function, we can make a full analysis of a training model. \n",
    "    the function prints out:\n",
    "        model accuracy, cross validation analysis, precision, recall, f1_score,\n",
    "        confusion matrix and the ROC curve\n",
    "    \n",
    "    input:\n",
    "        model: training model\n",
    "        X: features\n",
    "        y: label\n",
    "        acc: flag for printing accuracy (default=True)\n",
    "        cross_val: flag for printing cross validation analysis (default=True)\n",
    "        cv: kfolds for cross validation (default=5)\n",
    "        precision: flag for printing precision (default=True)\n",
    "        recall: flag for printing recall (default=True)\n",
    "        f1: flag for printing f1_score (default=True)\n",
    "        conf_mx: flag for printing confusion matrix (default=True)\n",
    "        roc: flag for printing the ROC curve (default=True)\"\"\"\n",
    "    \n",
    "    # Computing analysis requirements\n",
    "    flag_tree = False\n",
    "    y_pred = model.predict(X)\n",
    "    y_scores = cross_val_score(model, X, y, cv=cv, scoring='accuracy')\n",
    "    y_cfmx_pred = cross_val_predict(model, X, y, cv=cv)\n",
    "    \n",
    "    try:\n",
    "        y_roc_pred = cross_val_predict(model, X, y, cv=5, method='decision_function')\n",
    "    except:\n",
    "        # Decision Trees and Random Forest don't have decision_function\n",
    "        y_probas = cross_val_predict(model, X, y, cv=5, method='predict_proba')\n",
    "        y_scores_tree = y_probas[:, 1]\n",
    "        flag_tree = True\n",
    "    \n",
    "    # Analysis\n",
    "    if acc:\n",
    "        accuracy = accuracy_score(y_pred, y)\n",
    "        print(f'Model Accuracy: {accuracy:.2f}')\n",
    "    if cross_val:\n",
    "        print(f'\\nCross Validation: {y_scores}')\n",
    "    if precision:\n",
    "        p_score = precision_score(y, y_pred)\n",
    "        print(f'\\nPrecision: {p_score:.2f}')\n",
    "    if recall:\n",
    "        r_score = recall_score(y, y_pred)\n",
    "        print(f'\\nRecall: {r_score:.2f}')\n",
    "    if f1:\n",
    "        f_score = f1_score(y, y_pred)\n",
    "        print(f'\\nf1_score: {f_score:.2f}')\n",
    "    if conf_mx:\n",
    "        matriz = confusion_matrix(y, y_cfmx_pred)\n",
    "        print(f'\\nConfusion Matrix: \\n{matriz}')\n",
    "    if roc:\n",
    "        if flag_tree:\n",
    "            fpr, tpr, thresholds = roc_curve(y, y_scores_tree)\n",
    "        else:\n",
    "            fpr, tpr, thresholds = roc_curve(y, y_roc_pred)\n",
    "        plot_roc_curve(fpr, tpr)"
   ]
  },
  {
   "cell_type": "markdown",
   "metadata": {},
   "source": [
    "Defining classes for data transformation"
   ]
  },
  {
   "cell_type": "code",
   "execution_count": 3,
   "metadata": {
    "ExecuteTime": {
     "end_time": "2019-05-13T21:29:49.964518Z",
     "start_time": "2019-05-13T21:29:49.950553Z"
    }
   },
   "outputs": [],
   "source": [
    "\"\"\"class for fill null data with most common instance\"\"\"\n",
    "class FillNAMostCommon(BaseEstimator, TransformerMixin):\n",
    "    \n",
    "    def fit(self, X, y=None):\n",
    "        return self\n",
    "    \n",
    "    def transform(self, X, y=None):\n",
    "        most_common_cc = X['checking_account'].value_counts().index[0]\n",
    "        X = X.fillna(value=most_common_cc)\n",
    "        most_common_cp = X['saving_accounts'].value_counts().index[0]\n",
    "        X = X.fillna(value=most_common_cp)\n",
    "        \n",
    "        return X"
   ]
  },
  {
   "cell_type": "markdown",
   "metadata": {},
   "source": [
    "## EDA"
   ]
  },
  {
   "cell_type": "code",
   "execution_count": 4,
   "metadata": {
    "ExecuteTime": {
     "end_time": "2019-05-13T21:32:54.137531Z",
     "start_time": "2019-05-13T21:32:54.112626Z"
    }
   },
   "outputs": [
    {
     "data": {
      "text/html": [
       "<div>\n",
       "<style scoped>\n",
       "    .dataframe tbody tr th:only-of-type {\n",
       "        vertical-align: middle;\n",
       "    }\n",
       "\n",
       "    .dataframe tbody tr th {\n",
       "        vertical-align: top;\n",
       "    }\n",
       "\n",
       "    .dataframe thead th {\n",
       "        text-align: right;\n",
       "    }\n",
       "</style>\n",
       "<table border=\"1\" class=\"dataframe\">\n",
       "  <thead>\n",
       "    <tr style=\"text-align: right;\">\n",
       "      <th></th>\n",
       "      <th>Age</th>\n",
       "      <th>Sex</th>\n",
       "      <th>Job</th>\n",
       "      <th>Housing</th>\n",
       "      <th>Saving accounts</th>\n",
       "      <th>Checking account</th>\n",
       "      <th>Credit amount</th>\n",
       "      <th>Duration</th>\n",
       "      <th>Purpose</th>\n",
       "      <th>Risk</th>\n",
       "    </tr>\n",
       "  </thead>\n",
       "  <tbody>\n",
       "    <tr>\n",
       "      <th>0</th>\n",
       "      <td>67</td>\n",
       "      <td>male</td>\n",
       "      <td>2</td>\n",
       "      <td>own</td>\n",
       "      <td>NaN</td>\n",
       "      <td>little</td>\n",
       "      <td>1169</td>\n",
       "      <td>6</td>\n",
       "      <td>radio/TV</td>\n",
       "      <td>good</td>\n",
       "    </tr>\n",
       "    <tr>\n",
       "      <th>1</th>\n",
       "      <td>22</td>\n",
       "      <td>female</td>\n",
       "      <td>2</td>\n",
       "      <td>own</td>\n",
       "      <td>little</td>\n",
       "      <td>moderate</td>\n",
       "      <td>5951</td>\n",
       "      <td>48</td>\n",
       "      <td>radio/TV</td>\n",
       "      <td>bad</td>\n",
       "    </tr>\n",
       "    <tr>\n",
       "      <th>2</th>\n",
       "      <td>49</td>\n",
       "      <td>male</td>\n",
       "      <td>1</td>\n",
       "      <td>own</td>\n",
       "      <td>little</td>\n",
       "      <td>NaN</td>\n",
       "      <td>2096</td>\n",
       "      <td>12</td>\n",
       "      <td>education</td>\n",
       "      <td>good</td>\n",
       "    </tr>\n",
       "    <tr>\n",
       "      <th>3</th>\n",
       "      <td>45</td>\n",
       "      <td>male</td>\n",
       "      <td>2</td>\n",
       "      <td>free</td>\n",
       "      <td>little</td>\n",
       "      <td>little</td>\n",
       "      <td>7882</td>\n",
       "      <td>42</td>\n",
       "      <td>furniture/equipment</td>\n",
       "      <td>good</td>\n",
       "    </tr>\n",
       "    <tr>\n",
       "      <th>4</th>\n",
       "      <td>53</td>\n",
       "      <td>male</td>\n",
       "      <td>2</td>\n",
       "      <td>free</td>\n",
       "      <td>little</td>\n",
       "      <td>little</td>\n",
       "      <td>4870</td>\n",
       "      <td>24</td>\n",
       "      <td>car</td>\n",
       "      <td>bad</td>\n",
       "    </tr>\n",
       "  </tbody>\n",
       "</table>\n",
       "</div>"
      ],
      "text/plain": [
       "   Age     Sex  Job Housing Saving accounts Checking account  Credit amount  \\\n",
       "0   67    male    2     own             NaN           little           1169   \n",
       "1   22  female    2     own          little         moderate           5951   \n",
       "2   49    male    1     own          little              NaN           2096   \n",
       "3   45    male    2    free          little           little           7882   \n",
       "4   53    male    2    free          little           little           4870   \n",
       "\n",
       "   Duration              Purpose  Risk  \n",
       "0         6             radio/TV  good  \n",
       "1        48             radio/TV   bad  \n",
       "2        12            education  good  \n",
       "3        42  furniture/equipment  good  \n",
       "4        24                  car   bad  "
      ]
     },
     "execution_count": 4,
     "metadata": {},
     "output_type": "execute_result"
    }
   ],
   "source": [
    "# Reading data\n",
    "df = pd.read_csv('german_credit_data.csv', index_col=0)\n",
    "df.head(5)"
   ]
  },
  {
   "cell_type": "code",
   "execution_count": 9,
   "metadata": {
    "ExecuteTime": {
     "end_time": "2019-05-13T21:34:13.464470Z",
     "start_time": "2019-05-13T21:34:13.448513Z"
    }
   },
   "outputs": [
    {
     "data": {
      "text/html": [
       "<div>\n",
       "<style scoped>\n",
       "    .dataframe tbody tr th:only-of-type {\n",
       "        vertical-align: middle;\n",
       "    }\n",
       "\n",
       "    .dataframe tbody tr th {\n",
       "        vertical-align: top;\n",
       "    }\n",
       "\n",
       "    .dataframe thead th {\n",
       "        text-align: right;\n",
       "    }\n",
       "</style>\n",
       "<table border=\"1\" class=\"dataframe\">\n",
       "  <thead>\n",
       "    <tr style=\"text-align: right;\">\n",
       "      <th></th>\n",
       "      <th>age</th>\n",
       "      <th>sex</th>\n",
       "      <th>job</th>\n",
       "      <th>housing</th>\n",
       "      <th>saving_accounts</th>\n",
       "      <th>checking_account</th>\n",
       "      <th>credit_amount</th>\n",
       "      <th>duration</th>\n",
       "      <th>purpose</th>\n",
       "      <th>risk</th>\n",
       "    </tr>\n",
       "  </thead>\n",
       "  <tbody>\n",
       "    <tr>\n",
       "      <th>0</th>\n",
       "      <td>67</td>\n",
       "      <td>male</td>\n",
       "      <td>2</td>\n",
       "      <td>own</td>\n",
       "      <td>NaN</td>\n",
       "      <td>little</td>\n",
       "      <td>1169</td>\n",
       "      <td>6</td>\n",
       "      <td>radio/TV</td>\n",
       "      <td>good</td>\n",
       "    </tr>\n",
       "    <tr>\n",
       "      <th>1</th>\n",
       "      <td>22</td>\n",
       "      <td>female</td>\n",
       "      <td>2</td>\n",
       "      <td>own</td>\n",
       "      <td>little</td>\n",
       "      <td>moderate</td>\n",
       "      <td>5951</td>\n",
       "      <td>48</td>\n",
       "      <td>radio/TV</td>\n",
       "      <td>bad</td>\n",
       "    </tr>\n",
       "    <tr>\n",
       "      <th>2</th>\n",
       "      <td>49</td>\n",
       "      <td>male</td>\n",
       "      <td>1</td>\n",
       "      <td>own</td>\n",
       "      <td>little</td>\n",
       "      <td>NaN</td>\n",
       "      <td>2096</td>\n",
       "      <td>12</td>\n",
       "      <td>education</td>\n",
       "      <td>good</td>\n",
       "    </tr>\n",
       "    <tr>\n",
       "      <th>3</th>\n",
       "      <td>45</td>\n",
       "      <td>male</td>\n",
       "      <td>2</td>\n",
       "      <td>free</td>\n",
       "      <td>little</td>\n",
       "      <td>little</td>\n",
       "      <td>7882</td>\n",
       "      <td>42</td>\n",
       "      <td>furniture/equipment</td>\n",
       "      <td>good</td>\n",
       "    </tr>\n",
       "    <tr>\n",
       "      <th>4</th>\n",
       "      <td>53</td>\n",
       "      <td>male</td>\n",
       "      <td>2</td>\n",
       "      <td>free</td>\n",
       "      <td>little</td>\n",
       "      <td>little</td>\n",
       "      <td>4870</td>\n",
       "      <td>24</td>\n",
       "      <td>car</td>\n",
       "      <td>bad</td>\n",
       "    </tr>\n",
       "  </tbody>\n",
       "</table>\n",
       "</div>"
      ],
      "text/plain": [
       "   age     sex  job housing saving_accounts checking_account  credit_amount  \\\n",
       "0   67    male    2     own             NaN           little           1169   \n",
       "1   22  female    2     own          little         moderate           5951   \n",
       "2   49    male    1     own          little              NaN           2096   \n",
       "3   45    male    2    free          little           little           7882   \n",
       "4   53    male    2    free          little           little           4870   \n",
       "\n",
       "   duration              purpose  risk  \n",
       "0         6             radio/TV  good  \n",
       "1        48             radio/TV   bad  \n",
       "2        12            education  good  \n",
       "3        42  furniture/equipment  good  \n",
       "4        24                  car   bad  "
      ]
     },
     "execution_count": 9,
     "metadata": {},
     "output_type": "execute_result"
    }
   ],
   "source": [
    "# Changing column names\n",
    "df.columns = [col.replace(' ', '_').lower() for col in df.columns]\n",
    "\n",
    "df.head()"
   ]
  },
  {
   "cell_type": "code",
   "execution_count": 10,
   "metadata": {
    "ExecuteTime": {
     "end_time": "2019-05-13T21:34:19.058476Z",
     "start_time": "2019-05-13T21:34:19.053488Z"
    }
   },
   "outputs": [
    {
     "name": "stdout",
     "output_type": "stream",
     "text": [
      "Dimensions: (1000, 10)\n"
     ]
    }
   ],
   "source": [
    "# Dataset dimensions\n",
    "print(f'Dimensions: {df.shape}')"
   ]
  },
  {
   "cell_type": "code",
   "execution_count": 14,
   "metadata": {
    "ExecuteTime": {
     "end_time": "2019-05-13T21:34:33.910579Z",
     "start_time": "2019-05-13T21:34:33.901601Z"
    }
   },
   "outputs": [
    {
     "data": {
      "text/plain": [
       "age                   0\n",
       "sex                   0\n",
       "job                   0\n",
       "housing               0\n",
       "saving_accounts     183\n",
       "checking_account    394\n",
       "credit_amount         0\n",
       "duration              0\n",
       "purpose               0\n",
       "risk                  0\n",
       "dtype: int64"
      ]
     },
     "execution_count": 14,
     "metadata": {},
     "output_type": "execute_result"
    }
   ],
   "source": [
    "# Null data\n",
    "df.isnull().sum()"
   ]
  },
  {
   "cell_type": "code",
   "execution_count": 15,
   "metadata": {
    "ExecuteTime": {
     "end_time": "2019-05-13T21:34:48.262329Z",
     "start_time": "2019-05-13T21:34:48.222435Z"
    }
   },
   "outputs": [
    {
     "name": "stdout",
     "output_type": "stream",
     "text": [
      "<class 'pandas.core.frame.DataFrame'>\n",
      "Int64Index: 1000 entries, 0 to 999\n",
      "Data columns (total 10 columns):\n",
      "age                 1000 non-null int64\n",
      "sex                 1000 non-null object\n",
      "job                 1000 non-null int64\n",
      "housing             1000 non-null object\n",
      "saving_accounts     817 non-null object\n",
      "checking_account    606 non-null object\n",
      "credit_amount       1000 non-null int64\n",
      "duration            1000 non-null int64\n",
      "purpose             1000 non-null object\n",
      "risk                1000 non-null object\n",
      "dtypes: int64(4), object(6)\n",
      "memory usage: 85.9+ KB\n"
     ]
    }
   ],
   "source": [
    "# Detailed information of dataset\n",
    "df.info()"
   ]
  },
  {
   "cell_type": "code",
   "execution_count": 16,
   "metadata": {
    "ExecuteTime": {
     "end_time": "2019-05-13T21:35:07.950022Z",
     "start_time": "2019-05-13T21:35:07.922097Z"
    }
   },
   "outputs": [
    {
     "data": {
      "text/html": [
       "<div>\n",
       "<style scoped>\n",
       "    .dataframe tbody tr th:only-of-type {\n",
       "        vertical-align: middle;\n",
       "    }\n",
       "\n",
       "    .dataframe tbody tr th {\n",
       "        vertical-align: top;\n",
       "    }\n",
       "\n",
       "    .dataframe thead th {\n",
       "        text-align: right;\n",
       "    }\n",
       "</style>\n",
       "<table border=\"1\" class=\"dataframe\">\n",
       "  <thead>\n",
       "    <tr style=\"text-align: right;\">\n",
       "      <th></th>\n",
       "      <th>age</th>\n",
       "      <th>job</th>\n",
       "      <th>credit_amount</th>\n",
       "      <th>duration</th>\n",
       "    </tr>\n",
       "  </thead>\n",
       "  <tbody>\n",
       "    <tr>\n",
       "      <th>count</th>\n",
       "      <td>1000.000000</td>\n",
       "      <td>1000.000000</td>\n",
       "      <td>1000.000000</td>\n",
       "      <td>1000.000000</td>\n",
       "    </tr>\n",
       "    <tr>\n",
       "      <th>mean</th>\n",
       "      <td>35.546000</td>\n",
       "      <td>1.904000</td>\n",
       "      <td>3271.258000</td>\n",
       "      <td>20.903000</td>\n",
       "    </tr>\n",
       "    <tr>\n",
       "      <th>std</th>\n",
       "      <td>11.375469</td>\n",
       "      <td>0.653614</td>\n",
       "      <td>2822.736876</td>\n",
       "      <td>12.058814</td>\n",
       "    </tr>\n",
       "    <tr>\n",
       "      <th>min</th>\n",
       "      <td>19.000000</td>\n",
       "      <td>0.000000</td>\n",
       "      <td>250.000000</td>\n",
       "      <td>4.000000</td>\n",
       "    </tr>\n",
       "    <tr>\n",
       "      <th>25%</th>\n",
       "      <td>27.000000</td>\n",
       "      <td>2.000000</td>\n",
       "      <td>1365.500000</td>\n",
       "      <td>12.000000</td>\n",
       "    </tr>\n",
       "    <tr>\n",
       "      <th>50%</th>\n",
       "      <td>33.000000</td>\n",
       "      <td>2.000000</td>\n",
       "      <td>2319.500000</td>\n",
       "      <td>18.000000</td>\n",
       "    </tr>\n",
       "    <tr>\n",
       "      <th>75%</th>\n",
       "      <td>42.000000</td>\n",
       "      <td>2.000000</td>\n",
       "      <td>3972.250000</td>\n",
       "      <td>24.000000</td>\n",
       "    </tr>\n",
       "    <tr>\n",
       "      <th>max</th>\n",
       "      <td>75.000000</td>\n",
       "      <td>3.000000</td>\n",
       "      <td>18424.000000</td>\n",
       "      <td>72.000000</td>\n",
       "    </tr>\n",
       "  </tbody>\n",
       "</table>\n",
       "</div>"
      ],
      "text/plain": [
       "               age          job  credit_amount     duration\n",
       "count  1000.000000  1000.000000    1000.000000  1000.000000\n",
       "mean     35.546000     1.904000    3271.258000    20.903000\n",
       "std      11.375469     0.653614    2822.736876    12.058814\n",
       "min      19.000000     0.000000     250.000000     4.000000\n",
       "25%      27.000000     2.000000    1365.500000    12.000000\n",
       "50%      33.000000     2.000000    2319.500000    18.000000\n",
       "75%      42.000000     2.000000    3972.250000    24.000000\n",
       "max      75.000000     3.000000   18424.000000    72.000000"
      ]
     },
     "execution_count": 16,
     "metadata": {},
     "output_type": "execute_result"
    }
   ],
   "source": [
    "# Describing statistics\n",
    "df.describe()"
   ]
  },
  {
   "cell_type": "markdown",
   "metadata": {},
   "source": [
    "### Graphics"
   ]
  },
  {
   "cell_type": "code",
   "execution_count": 17,
   "metadata": {
    "ExecuteTime": {
     "end_time": "2019-05-13T21:36:50.141243Z",
     "start_time": "2019-05-13T21:36:48.544991Z"
    }
   },
   "outputs": [
    {
     "data": {
      "image/png": "[encoded data removed]",
      "text/plain": [
       "<Figure size 720x432 with 6 Axes>"
      ]
     },
     "metadata": {
      "needs_background": "light"
     },
     "output_type": "display_data"
    }
   ],
   "source": [
    "# Plotting count of categorical features\n",
    "cols_cat = ['sex', 'housing', 'saving_accounts', 'checking_account',\n",
    "            'purpose', 'risk']\n",
    "categorical_plot(cols_cat)"
   ]
  },
  {
   "cell_type": "code",
   "execution_count": 18,
   "metadata": {
    "ExecuteTime": {
     "end_time": "2019-05-13T22:22:18.737957Z",
     "start_time": "2019-05-13T22:22:18.535099Z"
    }
   },
   "outputs": [
    {
     "data": {
      "image/png": "[encoded data removed]",
      "text/plain": [
       "<Figure size 576x360 with 1 Axes>"
      ]
     },
     "metadata": {
      "needs_background": "light"
     },
     "output_type": "display_data"
    }
   ],
   "source": [
    "# Inividual categorial plot (sex)\n",
    "individual_cat_plot('sex')"
   ]
  },
  {
   "cell_type": "code",
   "execution_count": 19,
   "metadata": {
    "ExecuteTime": {
     "end_time": "2019-05-13T22:22:39.203455Z",
     "start_time": "2019-05-13T22:22:38.899592Z"
    }
   },
   "outputs": [
    {
     "data": {
      "image/png": "[encoded data removed]",
      "text/plain": [
       "<Figure size 576x360 with 1 Axes>"
      ]
     },
     "metadata": {
      "needs_background": "light"
     },
     "output_type": "display_data"
    }
   ],
   "source": [
    "# Inividual categorial plot (purpose)\n",
    "individual_cat_plot('purpose')"
   ]
  },
  {
   "cell_type": "code",
   "execution_count": 20,
   "metadata": {
    "ExecuteTime": {
     "end_time": "2019-05-13T22:23:24.973700Z",
     "start_time": "2019-05-13T22:23:24.713634Z"
    }
   },
   "outputs": [
    {
     "data": {
      "image/png": "[encoded data removed]",
      "text/plain": [
       "<Figure size 576x360 with 1 Axes>"
      ]
     },
     "metadata": {
      "needs_background": "light"
     },
     "output_type": "display_data"
    }
   ],
   "source": [
    "# Inividual categorial plot (purpose)\n",
    "individual_cat_plot('housing')"
   ]
  },
  {
   "cell_type": "code",
   "execution_count": 24,
   "metadata": {
    "ExecuteTime": {
     "end_time": "2019-05-13T22:29:37.633123Z",
     "start_time": "2019-05-13T22:29:37.237495Z"
    }
   },
   "outputs": [
    {
     "data": {
      "image/png": "[encoded data removed]",
      "text/plain": [
       "<Figure size 360x360 with 1 Axes>"
      ]
     },
     "metadata": {},
     "output_type": "display_data"
    }
   ],
   "source": [
    "# Pie plots\n",
    "individual_cat_pie_plot('saving_accounts')"
   ]
  },
  {
   "cell_type": "code",
   "execution_count": 25,
   "metadata": {
    "ExecuteTime": {
     "end_time": "2019-05-13T22:29:57.474516Z",
     "start_time": "2019-05-13T22:29:57.322563Z"
    }
   },
   "outputs": [
    {
     "data": {
      "image/png": "[encoded data removed]",
      "text/plain": [
       "<Figure size 360x360 with 1 Axes>"
      ]
     },
     "metadata": {},
     "output_type": "display_data"
    }
   ],
   "source": [
    "# Label risk\n",
    "individual_cat_pie_plot('risk')"
   ]
  },
  {
   "cell_type": "markdown",
   "metadata": {},
   "source": [
    "**Some conclusions:**\n",
    "\n",
    "* **sex:** in this dataset, information of 69% of instances is from male gender. 31% are from female gender;\n",
    "* **housing:** most of borrowers have their own house;\n",
    "* **saving_accounts:** most of them have little saving accounts and only 6.3% are quite rich;\n",
    "* **checking_account:** there is a balance between little and moderate checking account;\n",
    "* **purpose:** the main reason of credit requirement is for buying cars, followed by radio/TV and furniture/equipment;\n",
    "* **risk:** 70% of dataset is labeled with good risk and 30% is labeled with bad risk."
   ]
  },
  {
   "cell_type": "markdown",
   "metadata": {},
   "source": [
    "Well, the analysis above was quite good and gave us some inspiration and knowledge about data. But our intention is to view relationships between features, specially with our label risk."
   ]
  },
  {
   "cell_type": "code",
   "execution_count": 26,
   "metadata": {
    "ExecuteTime": {
     "end_time": "2019-05-13T22:32:25.672453Z",
     "start_time": "2019-05-13T22:32:24.953939Z"
    }
   },
   "outputs": [
    {
     "data": {
      "image/png": "[encoded data removed]",
      "text/plain": [
       "<Figure size 420.75x360 with 1 Axes>"
      ]
     },
     "metadata": {
      "needs_background": "light"
     },
     "output_type": "display_data"
    }
   ],
   "source": [
    "# Credit amount by gender and risk\n",
    "ax = sns.catplot(x='sex', y='credit_amount', hue='risk', kind='bar', \n",
    "            data=df, palette=\"YlGnBu\")\n",
    "plt.title('Mean Credit Amount by Gender and Risk')\n",
    "plt.show()"
   ]
  },
  {
   "cell_type": "code",
   "execution_count": 41,
   "metadata": {
    "ExecuteTime": {
     "end_time": "2019-05-13T22:40:02.540481Z",
     "start_time": "2019-05-13T22:40:02.133370Z"
    }
   },
   "outputs": [
    {
     "data": {
      "image/png": "[encoded data removed]",
      "text/plain": [
       "<Figure size 720x288 with 1 Axes>"
      ]
     },
     "metadata": {
      "needs_background": "light"
     },
     "output_type": "display_data"
    }
   ],
   "source": [
    "# Credit amount distribution\n",
    "fig, ax = plt.subplots(figsize=(10, 4))\n",
    "risk_good = df.loc[df['risk'] == 'good']\n",
    "risk_bad = df.loc[df['risk'] == 'bad']\n",
    "ax = sns.distplot(risk_good['credit_amount'], bins=20, label='good_credit')\n",
    "ax = sns.distplot(risk_bad['credit_amount'], bins=20, label='bad_credit')\n",
    "ax.set_title('Distribution of Credit Amount by Risk')\n",
    "ax.patch.set_facecolor('#FFFFFF')\n",
    "ax.spines['bottom'].set_color('#CCCCCC')\n",
    "ax.spines['left'].set_color('#CCCCCC')\n",
    "ax.spines['top'].set_color('#FFFFFF')\n",
    "ax.spines['right'].set_color('#FFFFFF')\n",
    "plt.legend()\n",
    "plt.show()"
   ]
  },
  {
   "cell_type": "markdown",
   "metadata": {},
   "source": [
    "**Some conclusions:**\n",
    "* In general, people of male gender request bigger credit values;\n",
    "* The distribution of credit amount indicates that bad risk is related with the high values for credit request (above 4.800,00 approx)"
   ]
  },
  {
   "cell_type": "code",
   "execution_count": 42,
   "metadata": {
    "ExecuteTime": {
     "end_time": "2019-05-13T22:51:39.416789Z",
     "start_time": "2019-05-13T22:51:39.167082Z"
    }
   },
   "outputs": [
    {
     "data": {
      "image/png": "[encoded data removed]",
      "text/plain": [
       "<Figure size 432x288 with 1 Axes>"
      ]
     },
     "metadata": {
      "needs_background": "light"
     },
     "output_type": "display_data"
    }
   ],
   "source": [
    "# Credit amount byb purpose\n",
    "idx_sorted = df.groupby('purpose').mean()['credit_amount'].sort_values(ascending=False).index\n",
    "fig, ax = plt.subplots()\n",
    "ax = sns.barplot(x='credit_amount', y='purpose', data=df, ci=None, \n",
    "            palette=\"YlGnBu\", order=idx_sorted)\n",
    "ax.set_title('Mean Credit Amount by Purpose')\n",
    "ax.patch.set_facecolor('#FFFFFF')\n",
    "ax.spines['bottom'].set_color('#CCCCCC')\n",
    "ax.spines['left'].set_color('#CCCCCC')\n",
    "ax.spines['top'].set_color('#FFFFFF')\n",
    "ax.spines['right'].set_color('#FFFFFF')\n",
    "plt.show()"
   ]
  },
  {
   "cell_type": "markdown",
   "metadata": {},
   "source": [
    "* Vacations/Others, Business and Cars bringh forth the highest values for credit amount;\n",
    "* Domestic Appliances has the lowest mean value for credit amount."
   ]
  },
  {
   "cell_type": "code",
   "execution_count": 43,
   "metadata": {
    "ExecuteTime": {
     "end_time": "2019-05-13T22:53:42.750658Z",
     "start_time": "2019-05-13T22:53:42.479556Z"
    }
   },
   "outputs": [
    {
     "data": {
      "image/png": "[encoded data removed]",
      "text/plain": [
       "<Figure size 432x288 with 1 Axes>"
      ]
     },
     "metadata": {
      "needs_background": "light"
     },
     "output_type": "display_data"
    }
   ],
   "source": [
    "# Bringing forth risk\n",
    "idx_sorted = df.groupby('purpose').mean()['credit_amount'].sort_values(ascending=False).index\n",
    "fig, ax = plt.subplots()\n",
    "ax = sns.barplot(x='credit_amount', y='purpose', data=df, ci=None, hue='risk',\n",
    "            palette=\"YlGnBu\", order=idx_sorted)\n",
    "ax.set_title('Mean Credit Amount by Purpose and Risk')\n",
    "ax.patch.set_facecolor('#FFFFFF')\n",
    "ax.spines['bottom'].set_color('#CCCCCC')\n",
    "ax.spines['left'].set_color('#CCCCCC')\n",
    "ax.spines['top'].set_color('#FFFFFF')\n",
    "ax.spines['right'].set_color('#FFFFFF')\n",
    "plt.show()"
   ]
  },
  {
   "cell_type": "code",
   "execution_count": 44,
   "metadata": {
    "ExecuteTime": {
     "end_time": "2019-05-13T22:55:27.348298Z",
     "start_time": "2019-05-13T22:55:26.197888Z"
    }
   },
   "outputs": [
    {
     "data": {
      "image/png": "[encoded data removed]",
      "text/plain": [
       "<Figure size 1140.75x360 with 3 Axes>"
      ]
     },
     "metadata": {
      "needs_background": "light"
     },
     "output_type": "display_data"
    }
   ],
   "source": [
    "# Checking and Saving Accounts\n",
    "idx_sorted = ['little', 'moderate', 'rich', 'quite rich']\n",
    "ax = sns.catplot(x='saving_accounts', y='credit_amount', data=df, ci=None, hue='risk',\n",
    "             col='checking_account', palette=\"Blues_d\", order=idx_sorted, kind='bar')\n",
    "fig = ax.fig\n",
    "fig.suptitle('Credit Risk Analysis by Credit Amount and Saving/Checking Accounts',\n",
    "             size=15)\n",
    "plt.subplots_adjust(top=0.85)\n",
    "plt.show()"
   ]
  },
  {
   "cell_type": "markdown",
   "metadata": {},
   "source": [
    "**Some conclusions:**\n",
    "\n",
    "* **1.** Borrowers with very good checking accounts (rich) have the lowest mean credit requests.\n",
    "\n",
    "* **2.** There is no bad risk for people with good saving accounts (rich)"
   ]
  },
  {
   "cell_type": "code",
   "execution_count": 45,
   "metadata": {
    "ExecuteTime": {
     "end_time": "2019-05-13T22:59:02.927619Z",
     "start_time": "2019-05-13T22:59:02.393530Z"
    }
   },
   "outputs": [
    {
     "data": {
      "image/png": "[encoded data removed]",
      "text/plain": [
       "<Figure size 720x360 with 2 Axes>"
      ]
     },
     "metadata": {
      "needs_background": "light"
     },
     "output_type": "display_data"
    }
   ],
   "source": [
    "df_bad = df[df['risk'] == 'bad']\n",
    "# Duration\n",
    "idx_sorted = df_bad.groupby('purpose').mean().\\\n",
    "           sort_values('duration', ascending=False).index\n",
    "ax = sns.catplot(x='duration', y='purpose', data=df, ci=None,\n",
    "             col='risk', palette=\"Blues_d\", order=idx_sorted, kind='bar')\n",
    "fig = ax.fig\n",
    "fig.suptitle('Mean Duration of Credit by Purpose and Risk',\n",
    "             size=12)\n",
    "plt.subplots_adjust(top=0.85)\n",
    "plt.show()"
   ]
  },
  {
   "cell_type": "markdown",
   "metadata": {},
   "source": [
    "* **1.** In general, credit requests with high duration represents risk;\n",
    "* **2.** If we look at domestic appliances, we can see that the mean duration for a good risk is about 14. The difference between the duration of the same purpose for bad risk is visible. This indicates that if the bank receives a request for domestic appliance with long duration, this represents a bad risk."
   ]
  },
  {
   "cell_type": "code",
   "execution_count": 50,
   "metadata": {
    "ExecuteTime": {
     "end_time": "2019-05-13T23:06:17.004020Z",
     "start_time": "2019-05-13T23:06:16.459250Z"
    }
   },
   "outputs": [
    {
     "data": {
      "image/png": "[encoded data removed]",
      "text/plain": [
       "<Figure size 720x288 with 1 Axes>"
      ]
     },
     "metadata": {
      "needs_background": "light"
     },
     "output_type": "display_data"
    }
   ],
   "source": [
    "# Age distribution\n",
    "fig, ax = plt.subplots(figsize=(10, 4))\n",
    "risk_good = df.loc[df['risk'] == 'good']\n",
    "risk_bad = df.loc[df['risk'] == 'bad']\n",
    "ax = sns.distplot(risk_good['age'], bins=20, label='good_credit')\n",
    "ax = sns.distplot(risk_bad['age'], bins=20, label='bad_credit')\n",
    "ax.set_title('Distribution of Age by Risk')\n",
    "ax.patch.set_facecolor('#FFFFFF')\n",
    "ax.spines['bottom'].set_color('#CCCCCC')\n",
    "ax.spines['left'].set_color('#CCCCCC')\n",
    "ax.spines['top'].set_color('#FFFFFF')\n",
    "ax.spines['right'].set_color('#FFFFFF')\n",
    "plt.legend()\n",
    "plt.show()"
   ]
  },
  {
   "cell_type": "markdown",
   "metadata": {},
   "source": [
    "The risk is higher when age of borrower is between 20 and 30."
   ]
  },
  {
   "cell_type": "code",
   "execution_count": 52,
   "metadata": {
    "ExecuteTime": {
     "end_time": "2019-05-13T23:07:00.123813Z",
     "start_time": "2019-05-13T23:06:57.327630Z"
    }
   },
   "outputs": [
    {
     "data": {
      "image/png": "[encoded data removed]",
      "text/plain": [
       "<Figure size 600.75x540 with 12 Axes>"
      ]
     },
     "metadata": {
      "needs_background": "light"
     },
     "output_type": "display_data"
    }
   ],
   "source": [
    "# Numerical features\n",
    "cols_pairplot_analyis = ['age', 'credit_amount', 'duration', 'risk']\n",
    "df_pairplot = df.loc[:, cols_pairplot_analyis]\n",
    "custom_colors = [\"#3498db\", \"#C8391A\"]\n",
    "ax = sns.pairplot(data=df_pairplot, hue='risk', palette=custom_colors);\n",
    "fig = ax.fig\n",
    "fig.suptitle('Numerical Features Distribution by Risk', size=12)\n",
    "plt.subplots_adjust(top=.90)\n",
    "plt.show()"
   ]
  },
  {
   "cell_type": "markdown",
   "metadata": {},
   "source": [
    "**Some conclusions:**\n",
    "* **1.** There is a direct correlation between duration and credit amount. In other words, it is possible to say when higher duration of credit, the higher the credit amount.\n",
    "* **2.** Inside this correlation, it is possible to view some good points:\n",
    "    - There is some outliers if we look the visualization separated by risk: requests with low duration and high credit amount represents a bad risk."
   ]
  },
  {
   "cell_type": "code",
   "execution_count": 54,
   "metadata": {
    "ExecuteTime": {
     "end_time": "2019-05-13T23:09:44.723572Z",
     "start_time": "2019-05-13T23:09:44.339926Z"
    }
   },
   "outputs": [
    {
     "data": {
      "image/png": "[encoded data removed]",
      "text/plain": [
       "<Figure size 432x288 with 2 Axes>"
      ]
     },
     "metadata": {
      "needs_background": "light"
     },
     "output_type": "display_data"
    }
   ],
   "source": [
    "# Housing\n",
    "ncount = len(df)\n",
    "fig, ax = plt.subplots()\n",
    "custom_colors = [\"#3498db\", \"#C8391A\"]\n",
    "ax = sns.countplot(x='housing', data=df, hue='risk', palette=custom_colors)\n",
    "\n",
    "# Make twin axis\n",
    "ax2=ax.twinx()\n",
    "\n",
    "# Switch so count axis is on right, frequency on left\n",
    "ax2.yaxis.tick_left()\n",
    "ax.yaxis.tick_right()\n",
    "\n",
    "# Also switch the labels over\n",
    "ax.yaxis.set_label_position('right')\n",
    "ax2.yaxis.set_label_position('left')\n",
    "\n",
    "ax2.set_ylabel('Frequency [%]')\n",
    "\n",
    "# Configurando bordas\n",
    "ax.spines['bottom'].set_color('#CCCCCC')\n",
    "ax.spines['left'].set_color('#CCCCCC')\n",
    "ax.spines['top'].set_color('#FFFFFF')\n",
    "ax.spines['right'].set_color('#CCCCCC')\n",
    "ax2.patch.set_facecolor('#FFFFFF')\n",
    "ax2.spines['bottom'].set_color('#CCCCCC')\n",
    "ax2.spines['left'].set_color('#CCCCCC')\n",
    "ax2.spines['top'].set_color('#FFFFFF')\n",
    "ax2.spines['right'].set_color('#CCCCCC')\n",
    "\n",
    "# Configurando porcentagens no gráfico\n",
    "for p in ax.patches:\n",
    "    x=p.get_bbox().get_points()[:,0]\n",
    "    y=p.get_bbox().get_points()[1,1]\n",
    "    ax.annotate('{:.1f}%'.format(100.*y/ncount), (x.mean(), y), \n",
    "            ha='center', va='bottom') # set the alignment of the text\n",
    "plt.title('Risk Analysis by Housing')\n",
    "plt.show()"
   ]
  },
  {
   "cell_type": "code",
   "execution_count": 55,
   "metadata": {
    "ExecuteTime": {
     "end_time": "2019-05-13T23:10:25.183306Z",
     "start_time": "2019-05-13T23:10:24.567064Z"
    }
   },
   "outputs": [
    {
     "data": {
      "image/png": "[encoded data removed]",
      "text/plain": [
       "<Figure size 432x288 with 2 Axes>"
      ]
     },
     "metadata": {
      "needs_background": "light"
     },
     "output_type": "display_data"
    }
   ],
   "source": [
    "# Job\n",
    "ncount = len(df)\n",
    "fig, ax = plt.subplots()\n",
    "custom_colors = [\"#3498db\", \"#C8391A\"]\n",
    "ax = sns.countplot(x='job', data=df, hue='risk', palette=custom_colors)\n",
    "\n",
    "# Make twin axis\n",
    "ax2=ax.twinx()\n",
    "\n",
    "# Switch so count axis is on right, frequency on left\n",
    "ax2.yaxis.tick_left()\n",
    "ax.yaxis.tick_right()\n",
    "\n",
    "# Also switch the labels over\n",
    "ax.yaxis.set_label_position('right')\n",
    "ax2.yaxis.set_label_position('left')\n",
    "\n",
    "ax2.set_ylabel('Frequency [%]')\n",
    "\n",
    "# Configurando bordas\n",
    "ax.spines['bottom'].set_color('#CCCCCC')\n",
    "ax.spines['left'].set_color('#CCCCCC')\n",
    "ax.spines['top'].set_color('#FFFFFF')\n",
    "ax.spines['right'].set_color('#CCCCCC')\n",
    "ax2.patch.set_facecolor('#FFFFFF')\n",
    "ax2.spines['bottom'].set_color('#CCCCCC')\n",
    "ax2.spines['left'].set_color('#CCCCCC')\n",
    "ax2.spines['top'].set_color('#FFFFFF')\n",
    "ax2.spines['right'].set_color('#CCCCCC')\n",
    "\n",
    "# Configurando porcentagens no gráfico\n",
    "for p in ax.patches:\n",
    "    x=p.get_bbox().get_points()[:,0]\n",
    "    y=p.get_bbox().get_points()[1,1]\n",
    "    ax.annotate('{:.1f}%'.format(100.*y/ncount), (x.mean(), y), \n",
    "            ha='center', va='bottom') # set the alignment of the text\n",
    "plt.title('Risk Analysis by Job')\n",
    "plt.show()"
   ]
  },
  {
   "cell_type": "code",
   "execution_count": 57,
   "metadata": {
    "ExecuteTime": {
     "end_time": "2019-05-13T23:10:53.827337Z",
     "start_time": "2019-05-13T23:10:53.079106Z"
    }
   },
   "outputs": [
    {
     "data": {
      "image/png": "[encoded data removed]",
      "text/plain": [
       "<Figure size 720x360 with 1 Axes>"
      ]
     },
     "metadata": {
      "needs_background": "light"
     },
     "output_type": "display_data"
    }
   ],
   "source": [
    "# Outliers\n",
    "fig, ax = plt.subplots(figsize=(10, 5))\n",
    "ax = sns.boxplot(x='saving_accounts', y='credit_amount', hue='checking_account', data=df)"
   ]
  },
  {
   "cell_type": "markdown",
   "metadata": {},
   "source": [
    "### Splitting Data"
   ]
  },
  {
   "cell_type": "code",
   "execution_count": 58,
   "metadata": {
    "ExecuteTime": {
     "end_time": "2019-05-13T23:12:52.292304Z",
     "start_time": "2019-05-13T23:12:51.825740Z"
    }
   },
   "outputs": [],
   "source": [
    "# Indexing data\n",
    "X = df.iloc[:, :9]\n",
    "y = df.iloc[:, -1]\n",
    "\n",
    "# Changing label\n",
    "y = (y == 'bad')*1"
   ]
  },
  {
   "cell_type": "markdown",
   "metadata": {},
   "source": [
    "* bad risk = 1\n",
    "* good rick = 0"
   ]
  },
  {
   "cell_type": "code",
   "execution_count": 60,
   "metadata": {
    "ExecuteTime": {
     "end_time": "2019-05-13T23:13:54.139648Z",
     "start_time": "2019-05-13T23:13:54.121970Z"
    }
   },
   "outputs": [
    {
     "name": "stdout",
     "output_type": "stream",
     "text": [
      "X_train dimension: (800, 9)\n",
      "X_test dimension: (200, 9)\n",
      "\n",
      "y_train dimension: (800,)\n",
      "y_test dimension: (200,)\n"
     ]
    }
   ],
   "source": [
    "# Splitting data\n",
    "X_train, X_test, y_train, y_test = train_test_split(X, y, test_size=.20)\n",
    "\n",
    "# Verifying\n",
    "print(f'X_train dimension: {X_train.shape}')\n",
    "print(f'X_test dimension: {X_test.shape}')\n",
    "print(f'\\ny_train dimension: {y_train.shape}')\n",
    "print(f'y_test dimension: {y_test.shape}')"
   ]
  },
  {
   "cell_type": "markdown",
   "metadata": {},
   "source": [
    "### Null Data"
   ]
  },
  {
   "cell_type": "code",
   "execution_count": 62,
   "metadata": {
    "ExecuteTime": {
     "end_time": "2019-05-13T23:14:20.568134Z",
     "start_time": "2019-05-13T23:14:20.558436Z"
    }
   },
   "outputs": [
    {
     "data": {
      "text/plain": [
       "age                   0\n",
       "sex                   0\n",
       "job                   0\n",
       "housing               0\n",
       "saving_accounts     152\n",
       "checking_account    314\n",
       "credit_amount         0\n",
       "duration              0\n",
       "purpose               0\n",
       "dtype: int64"
      ]
     },
     "execution_count": 62,
     "metadata": {},
     "output_type": "execute_result"
    }
   ],
   "source": [
    "# How many in X_train?\n",
    "X_train.isnull().sum()"
   ]
  },
  {
   "cell_type": "markdown",
   "metadata": {},
   "source": [
    "Let's try our first approach: fill null data with most common instance of each feature. For that, we created a class to make it easy for the scikit-learn pipeline."
   ]
  },
  {
   "cell_type": "code",
   "execution_count": 63,
   "metadata": {
    "ExecuteTime": {
     "end_time": "2019-05-13T23:16:03.434153Z",
     "start_time": "2019-05-13T23:16:03.417763Z"
    }
   },
   "outputs": [
    {
     "data": {
      "text/plain": [
       "age                 0\n",
       "sex                 0\n",
       "job                 0\n",
       "housing             0\n",
       "saving_accounts     0\n",
       "checking_account    0\n",
       "credit_amount       0\n",
       "duration            0\n",
       "purpose             0\n",
       "dtype: int64"
      ]
     },
     "execution_count": 63,
     "metadata": {},
     "output_type": "execute_result"
    }
   ],
   "source": [
    "# Filling null data\n",
    "filler_common = FillNAMostCommon()\n",
    "X_train_filled = filler_common.transform(X_train)\n",
    "X_train_filled.isnull().sum()"
   ]
  },
  {
   "cell_type": "code",
   "execution_count": 64,
   "metadata": {
    "ExecuteTime": {
     "end_time": "2019-05-13T23:16:45.291543Z",
     "start_time": "2019-05-13T23:16:45.278937Z"
    }
   },
   "outputs": [
    {
     "name": "stdout",
     "output_type": "stream",
     "text": [
      "Most common in checking_account: moderate\n",
      "Most common in saving_accounts: little\n"
     ]
    }
   ],
   "source": [
    "# Most common values for each feature\n",
    "most_common_cc = X_train['checking_account'].value_counts().index[0]\n",
    "most_common_cp = X_train['saving_accounts'].value_counts().index[0]\n",
    "print(f'Most common in checking_account: {most_common_cc}')\n",
    "print(f'Most common in saving_accounts: {most_common_cp}')"
   ]
  },
  {
   "cell_type": "markdown",
   "metadata": {},
   "source": [
    "Recording that maybe this isn't the best approach, but let's construct our first model like this and after we can improve it."
   ]
  },
  {
   "cell_type": "markdown",
   "metadata": {},
   "source": [
    "### Categorical Features"
   ]
  },
  {
   "cell_type": "code",
   "execution_count": 65,
   "metadata": {
    "ExecuteTime": {
     "end_time": "2019-05-13T23:19:13.923897Z",
     "start_time": "2019-05-13T23:19:13.812031Z"
    }
   },
   "outputs": [],
   "source": [
    "# Testing for sex feature\n",
    "X_attempt = X_train_filled['sex']\n",
    "X_attempt_encoded, X_attempt_categories = X_attempt.factorize()\n",
    "\n",
    "# OneHot\n",
    "encoder = OneHotEncoder(sparse=False)\n",
    "X_attempt_1hot = encoder.fit_transform(X_attempt_encoded.reshape(-1, 1))"
   ]
  },
  {
   "cell_type": "code",
   "execution_count": 68,
   "metadata": {
    "ExecuteTime": {
     "end_time": "2019-05-13T23:19:28.563020Z",
     "start_time": "2019-05-13T23:19:28.555031Z"
    }
   },
   "outputs": [
    {
     "data": {
      "text/plain": [
       "array([0, 1, 1, 1, 1], dtype=int64)"
      ]
     },
     "execution_count": 68,
     "metadata": {},
     "output_type": "execute_result"
    }
   ],
   "source": [
    "# Encoded\n",
    "X_attempt_encoded[:5]"
   ]
  },
  {
   "cell_type": "code",
   "execution_count": 69,
   "metadata": {
    "ExecuteTime": {
     "end_time": "2019-05-13T23:19:37.950792Z",
     "start_time": "2019-05-13T23:19:37.942323Z"
    }
   },
   "outputs": [
    {
     "data": {
      "text/plain": [
       "562    female\n",
       "164      male\n",
       "490      male\n",
       "422      male\n",
       "513      male\n",
       "Name: sex, dtype: object"
      ]
     },
     "execution_count": 69,
     "metadata": {},
     "output_type": "execute_result"
    }
   ],
   "source": [
    "# Original\n",
    "X_attempt[:5]"
   ]
  },
  {
   "cell_type": "code",
   "execution_count": 70,
   "metadata": {
    "ExecuteTime": {
     "end_time": "2019-05-13T23:19:46.744510Z",
     "start_time": "2019-05-13T23:19:46.736146Z"
    }
   },
   "outputs": [
    {
     "data": {
      "text/plain": [
       "Index(['female', 'male'], dtype='object')"
      ]
     },
     "execution_count": 70,
     "metadata": {},
     "output_type": "execute_result"
    }
   ],
   "source": [
    "# Categories\n",
    "X_attempt_categories"
   ]
  },
  {
   "cell_type": "code",
   "execution_count": 71,
   "metadata": {
    "ExecuteTime": {
     "end_time": "2019-05-13T23:20:09.293113Z",
     "start_time": "2019-05-13T23:20:09.283131Z"
    }
   },
   "outputs": [
    {
     "data": {
      "text/plain": [
       "array([[1., 0.],\n",
       "       [0., 1.],\n",
       "       [0., 1.],\n",
       "       ...,\n",
       "       [0., 1.],\n",
       "       [0., 1.],\n",
       "       [0., 1.]])"
      ]
     },
     "execution_count": 71,
     "metadata": {},
     "output_type": "execute_result"
    }
   ],
   "source": [
    "# One Hot\n",
    "X_attempt_1hot"
   ]
  },
  {
   "cell_type": "code",
   "execution_count": 73,
   "metadata": {
    "ExecuteTime": {
     "end_time": "2019-05-13T23:22:59.684960Z",
     "start_time": "2019-05-13T23:22:59.664113Z"
    }
   },
   "outputs": [
    {
     "data": {
      "text/html": [
       "<div>\n",
       "<style scoped>\n",
       "    .dataframe tbody tr th:only-of-type {\n",
       "        vertical-align: middle;\n",
       "    }\n",
       "\n",
       "    .dataframe tbody tr th {\n",
       "        vertical-align: top;\n",
       "    }\n",
       "\n",
       "    .dataframe thead th {\n",
       "        text-align: right;\n",
       "    }\n",
       "</style>\n",
       "<table border=\"1\" class=\"dataframe\">\n",
       "  <thead>\n",
       "    <tr style=\"text-align: right;\">\n",
       "      <th></th>\n",
       "      <th>sex</th>\n",
       "      <th>housing</th>\n",
       "      <th>saving_accounts</th>\n",
       "      <th>checking_account</th>\n",
       "      <th>purpose</th>\n",
       "    </tr>\n",
       "  </thead>\n",
       "  <tbody>\n",
       "    <tr>\n",
       "      <th>562</th>\n",
       "      <td>female</td>\n",
       "      <td>own</td>\n",
       "      <td>little</td>\n",
       "      <td>rich</td>\n",
       "      <td>radio/TV</td>\n",
       "    </tr>\n",
       "  </tbody>\n",
       "</table>\n",
       "</div>"
      ],
      "text/plain": [
       "        sex housing saving_accounts checking_account   purpose\n",
       "562  female     own          little             rich  radio/TV"
      ]
     },
     "execution_count": 73,
     "metadata": {},
     "output_type": "execute_result"
    }
   ],
   "source": [
    "# Testing for all categorical features\n",
    "cat_attribs = ['sex', 'housing', 'saving_accounts', \n",
    "               'checking_account', 'purpose']\n",
    "X_train_cat = X_train_filled.loc[:, cat_attribs]\n",
    "X_train_cat.head(1)"
   ]
  },
  {
   "cell_type": "code",
   "execution_count": 74,
   "metadata": {
    "ExecuteTime": {
     "end_time": "2019-05-13T23:23:16.082390Z",
     "start_time": "2019-05-13T23:23:16.067592Z"
    }
   },
   "outputs": [
    {
     "data": {
      "text/plain": [
       "array([[1., 0., 0., ..., 1., 0., 0.],\n",
       "       [0., 1., 0., ..., 0., 0., 0.],\n",
       "       [0., 1., 0., ..., 1., 0., 0.],\n",
       "       ...,\n",
       "       [0., 1., 1., ..., 0., 0., 0.],\n",
       "       [0., 1., 0., ..., 1., 0., 0.],\n",
       "       [0., 1., 0., ..., 0., 0., 0.]])"
      ]
     },
     "execution_count": 74,
     "metadata": {},
     "output_type": "execute_result"
    }
   ],
   "source": [
    "# Applying encoder\n",
    "encoder = OneHotEncoder(sparse=False)\n",
    "X_train_cat_encoded = encoder.fit_transform(X_train_cat)\n",
    "X_train_cat_encoded"
   ]
  },
  {
   "cell_type": "markdown",
   "metadata": {},
   "source": [
    "### Feature Scaling"
   ]
  },
  {
   "cell_type": "markdown",
   "metadata": {},
   "source": [
    "As we can see, we have features in different ranges in our dataset and this can be a problem for a model to fing the minimum global."
   ]
  },
  {
   "cell_type": "code",
   "execution_count": 75,
   "metadata": {
    "ExecuteTime": {
     "end_time": "2019-05-13T23:24:23.164753Z",
     "start_time": "2019-05-13T23:24:23.147010Z"
    }
   },
   "outputs": [
    {
     "data": {
      "text/html": [
       "<div>\n",
       "<style scoped>\n",
       "    .dataframe tbody tr th:only-of-type {\n",
       "        vertical-align: middle;\n",
       "    }\n",
       "\n",
       "    .dataframe tbody tr th {\n",
       "        vertical-align: top;\n",
       "    }\n",
       "\n",
       "    .dataframe thead th {\n",
       "        text-align: right;\n",
       "    }\n",
       "</style>\n",
       "<table border=\"1\" class=\"dataframe\">\n",
       "  <thead>\n",
       "    <tr style=\"text-align: right;\">\n",
       "      <th></th>\n",
       "      <th>age</th>\n",
       "      <th>sex</th>\n",
       "      <th>job</th>\n",
       "      <th>housing</th>\n",
       "      <th>saving_accounts</th>\n",
       "      <th>checking_account</th>\n",
       "      <th>credit_amount</th>\n",
       "      <th>duration</th>\n",
       "      <th>purpose</th>\n",
       "    </tr>\n",
       "  </thead>\n",
       "  <tbody>\n",
       "    <tr>\n",
       "      <th>562</th>\n",
       "      <td>29</td>\n",
       "      <td>female</td>\n",
       "      <td>2</td>\n",
       "      <td>own</td>\n",
       "      <td>little</td>\n",
       "      <td>rich</td>\n",
       "      <td>683</td>\n",
       "      <td>6</td>\n",
       "      <td>radio/TV</td>\n",
       "    </tr>\n",
       "  </tbody>\n",
       "</table>\n",
       "</div>"
      ],
      "text/plain": [
       "     age     sex  job housing saving_accounts checking_account  credit_amount  \\\n",
       "562   29  female    2     own          little             rich            683   \n",
       "\n",
       "     duration   purpose  \n",
       "562         6  radio/TV  "
      ]
     },
     "execution_count": 75,
     "metadata": {},
     "output_type": "execute_result"
    }
   ],
   "source": [
    "# What we have until now\n",
    "X_train_filled.head(1)"
   ]
  },
  {
   "cell_type": "code",
   "execution_count": 76,
   "metadata": {
    "ExecuteTime": {
     "end_time": "2019-05-13T23:24:55.267301Z",
     "start_time": "2019-05-13T23:24:55.255546Z"
    }
   },
   "outputs": [],
   "source": [
    "# Scaling\n",
    "scaler = StandardScaler()\n",
    "X_train_filled_num = X_train_filled.loc[:, ['age', 'credit_amount', 'duration']]\n",
    "X_train_filled_scalled = scaler.fit_transform(X_train_filled_num)"
   ]
  },
  {
   "cell_type": "code",
   "execution_count": 77,
   "metadata": {
    "ExecuteTime": {
     "end_time": "2019-05-13T23:25:07.184652Z",
     "start_time": "2019-05-13T23:25:07.165250Z"
    }
   },
   "outputs": [
    {
     "data": {
      "text/html": [
       "<div>\n",
       "<style scoped>\n",
       "    .dataframe tbody tr th:only-of-type {\n",
       "        vertical-align: middle;\n",
       "    }\n",
       "\n",
       "    .dataframe tbody tr th {\n",
       "        vertical-align: top;\n",
       "    }\n",
       "\n",
       "    .dataframe thead th {\n",
       "        text-align: right;\n",
       "    }\n",
       "</style>\n",
       "<table border=\"1\" class=\"dataframe\">\n",
       "  <thead>\n",
       "    <tr style=\"text-align: right;\">\n",
       "      <th></th>\n",
       "      <th>age</th>\n",
       "      <th>sex</th>\n",
       "      <th>job</th>\n",
       "      <th>housing</th>\n",
       "      <th>saving_accounts</th>\n",
       "      <th>checking_account</th>\n",
       "      <th>credit_amount</th>\n",
       "      <th>duration</th>\n",
       "      <th>purpose</th>\n",
       "    </tr>\n",
       "  </thead>\n",
       "  <tbody>\n",
       "    <tr>\n",
       "      <th>562</th>\n",
       "      <td>29</td>\n",
       "      <td>female</td>\n",
       "      <td>2</td>\n",
       "      <td>own</td>\n",
       "      <td>little</td>\n",
       "      <td>rich</td>\n",
       "      <td>683</td>\n",
       "      <td>6</td>\n",
       "      <td>radio/TV</td>\n",
       "    </tr>\n",
       "    <tr>\n",
       "      <th>164</th>\n",
       "      <td>36</td>\n",
       "      <td>male</td>\n",
       "      <td>2</td>\n",
       "      <td>own</td>\n",
       "      <td>quite rich</td>\n",
       "      <td>moderate</td>\n",
       "      <td>909</td>\n",
       "      <td>36</td>\n",
       "      <td>car</td>\n",
       "    </tr>\n",
       "    <tr>\n",
       "      <th>490</th>\n",
       "      <td>26</td>\n",
       "      <td>male</td>\n",
       "      <td>2</td>\n",
       "      <td>own</td>\n",
       "      <td>little</td>\n",
       "      <td>moderate</td>\n",
       "      <td>1934</td>\n",
       "      <td>12</td>\n",
       "      <td>radio/TV</td>\n",
       "    </tr>\n",
       "  </tbody>\n",
       "</table>\n",
       "</div>"
      ],
      "text/plain": [
       "     age     sex  job housing saving_accounts checking_account  credit_amount  \\\n",
       "562   29  female    2     own          little             rich            683   \n",
       "164   36    male    2     own      quite rich         moderate            909   \n",
       "490   26    male    2     own          little         moderate           1934   \n",
       "\n",
       "     duration   purpose  \n",
       "562         6  radio/TV  \n",
       "164        36       car  \n",
       "490        12  radio/TV  "
      ]
     },
     "execution_count": 77,
     "metadata": {},
     "output_type": "execute_result"
    }
   ],
   "source": [
    "# Before scaling\n",
    "X_train_filled.head(3)"
   ]
  },
  {
   "cell_type": "code",
   "execution_count": 78,
   "metadata": {
    "ExecuteTime": {
     "end_time": "2019-05-13T23:25:17.627529Z",
     "start_time": "2019-05-13T23:25:17.619855Z"
    }
   },
   "outputs": [
    {
     "data": {
      "text/plain": [
       "array([[-0.58853873, -0.92572253, -1.25457366],\n",
       "       [ 0.03935551, -0.84530444,  1.24748449],\n",
       "       [-0.85763626, -0.48057637, -0.75416203]])"
      ]
     },
     "execution_count": 78,
     "metadata": {},
     "output_type": "execute_result"
    }
   ],
   "source": [
    "# After scaling\n",
    "X_train_filled_scalled[:3]"
   ]
  },
  {
   "cell_type": "markdown",
   "metadata": {},
   "source": [
    "## Pipeline"
   ]
  },
  {
   "cell_type": "markdown",
   "metadata": {},
   "source": [
    "With all operations already mapped, we can think of implementing a pipeline for data transformation. This will be made through the construction of a numerical pipeline, a categorical pipeline and a full pipeline with both."
   ]
  },
  {
   "cell_type": "markdown",
   "metadata": {},
   "source": [
    "### Numerical Pipeline"
   ]
  },
  {
   "cell_type": "code",
   "execution_count": 79,
   "metadata": {
    "ExecuteTime": {
     "end_time": "2019-05-13T23:26:45.973399Z",
     "start_time": "2019-05-13T23:26:45.956055Z"
    }
   },
   "outputs": [],
   "source": [
    "# Numerical features\n",
    "num_attribs = ['age', 'credit_amount', 'duration']\n",
    "X_train_num = X_train.loc[:, num_attribs]\n",
    "\n",
    "# Numerical Pipeline\n",
    "num_pipeline = Pipeline([\n",
    "    ('std_scaler', StandardScaler())\n",
    "])\n",
    "\n",
    "# Applying pipeline\n",
    "X_train_num_prepared = num_pipeline.fit_transform(X_train_num)"
   ]
  },
  {
   "cell_type": "code",
   "execution_count": 80,
   "metadata": {
    "ExecuteTime": {
     "end_time": "2019-05-13T23:26:55.641880Z",
     "start_time": "2019-05-13T23:26:55.633428Z"
    }
   },
   "outputs": [
    {
     "data": {
      "text/plain": [
       "array([[-0.58853873, -0.92572253, -1.25457366],\n",
       "       [ 0.03935551, -0.84530444,  1.24748449],\n",
       "       [-0.85763626, -0.48057637, -0.75416203],\n",
       "       ...,\n",
       "       [-0.76793708, -0.66276249, -1.00436784],\n",
       "       [ 0.21875387, -0.73606394,  0.24666123],\n",
       "       [-0.14004284, -0.60262684, -0.00354458]])"
      ]
     },
     "execution_count": 80,
     "metadata": {},
     "output_type": "execute_result"
    }
   ],
   "source": [
    "# Verifying\n",
    "X_train_num_prepared"
   ]
  },
  {
   "cell_type": "markdown",
   "metadata": {},
   "source": [
    "### Categorical Pipeline"
   ]
  },
  {
   "cell_type": "code",
   "execution_count": 81,
   "metadata": {
    "ExecuteTime": {
     "end_time": "2019-05-13T23:27:29.888018Z",
     "start_time": "2019-05-13T23:27:29.856862Z"
    }
   },
   "outputs": [],
   "source": [
    "# Categorical features\n",
    "cat_attribs = ['sex', 'job', 'housing', 'saving_accounts', \n",
    "               'checking_account', 'purpose']\n",
    "X_train_cat = X_train.loc[:, cat_attribs]\n",
    "\n",
    "# Categorical pipeline\n",
    "cat_pipeline = Pipeline([\n",
    "    ('fillna_most_common', FillNAMostCommon()),\n",
    "    ('one_hot', OneHotEncoder(sparse=False))\n",
    "])\n",
    "\n",
    "# Applying Pipeline\n",
    "X_train_cat_prepared = cat_pipeline.fit_transform(X_train_cat)"
   ]
  },
  {
   "cell_type": "code",
   "execution_count": 82,
   "metadata": {
    "ExecuteTime": {
     "end_time": "2019-05-13T23:27:43.210743Z",
     "start_time": "2019-05-13T23:27:43.203787Z"
    }
   },
   "outputs": [
    {
     "data": {
      "text/plain": [
       "array([[1., 0., 0., ..., 1., 0., 0.],\n",
       "       [0., 1., 0., ..., 0., 0., 0.],\n",
       "       [0., 1., 0., ..., 1., 0., 0.],\n",
       "       ...,\n",
       "       [0., 1., 0., ..., 0., 0., 0.],\n",
       "       [0., 1., 0., ..., 1., 0., 0.],\n",
       "       [0., 1., 0., ..., 0., 0., 0.]])"
      ]
     },
     "execution_count": 82,
     "metadata": {},
     "output_type": "execute_result"
    }
   ],
   "source": [
    "# Verifying\n",
    "X_train_cat_prepared"
   ]
  },
  {
   "cell_type": "markdown",
   "metadata": {},
   "source": [
    "### Full Pipeline"
   ]
  },
  {
   "cell_type": "code",
   "execution_count": 83,
   "metadata": {
    "ExecuteTime": {
     "end_time": "2019-05-13T23:29:00.396600Z",
     "start_time": "2019-05-13T23:29:00.353885Z"
    }
   },
   "outputs": [],
   "source": [
    "# Preparing pipeline\n",
    "num_attribs = ['age', 'credit_amount', 'duration']\n",
    "cat_attribs = ['sex', 'job', 'housing', 'saving_accounts', \n",
    "               'checking_account', 'purpose']\n",
    "\n",
    "# Numerical pipeline\n",
    "num_pipeline = Pipeline([\n",
    "    ('std_scaler', StandardScaler())\n",
    "])\n",
    "\n",
    "# Categorical pipeline\n",
    "cat_pipeline = Pipeline([\n",
    "    ('fillna_most_common', FillNAMostCommon()),\n",
    "    ('one_hot', OneHotEncoder(sparse=False))\n",
    "])\n",
    "\n",
    "# full pipeline\n",
    "full_pipeline = ColumnTransformer([\n",
    "    ('num_pipeline', num_pipeline, num_attribs),\n",
    "    ('cat_pipeline', cat_pipeline, cat_attribs)\n",
    "])\n",
    "\n",
    "# Dados preparados\n",
    "X_train_prepared = full_pipeline.fit_transform(X_train)"
   ]
  },
  {
   "cell_type": "code",
   "execution_count": 84,
   "metadata": {
    "ExecuteTime": {
     "end_time": "2019-05-13T23:29:09.644992Z",
     "start_time": "2019-05-13T23:29:09.637208Z"
    }
   },
   "outputs": [
    {
     "data": {
      "text/plain": [
       "array([-0.58853873, -0.92572253, -1.25457366,  1.        ,  0.        ,\n",
       "        0.        ,  0.        ,  1.        ,  0.        ,  0.        ,\n",
       "        1.        ,  0.        ,  1.        ,  0.        ,  0.        ,\n",
       "        0.        ,  0.        ,  0.        ,  1.        ,  0.        ,\n",
       "        0.        ,  0.        ,  0.        ,  0.        ,  1.        ,\n",
       "        0.        ,  0.        ])"
      ]
     },
     "execution_count": 84,
     "metadata": {},
     "output_type": "execute_result"
    }
   ],
   "source": [
    "# Verifying\n",
    "X_train_prepared[0]"
   ]
  },
  {
   "cell_type": "code",
   "execution_count": 85,
   "metadata": {
    "ExecuteTime": {
     "end_time": "2019-05-13T23:29:23.613196Z",
     "start_time": "2019-05-13T23:29:23.606118Z"
    }
   },
   "outputs": [
    {
     "data": {
      "text/plain": [
       "(800, 27)"
      ]
     },
     "execution_count": 85,
     "metadata": {},
     "output_type": "execute_result"
    }
   ],
   "source": [
    "# New dimension\n",
    "X_train_prepared.shape"
   ]
  },
  {
   "cell_type": "markdown",
   "metadata": {},
   "source": [
    "## Training a Model"
   ]
  },
  {
   "cell_type": "markdown",
   "metadata": {},
   "source": [
    "After the data prep pipeline, we can investigate the best models for our task."
   ]
  },
  {
   "cell_type": "markdown",
   "metadata": {},
   "source": [
    "### Logistic Regression"
   ]
  },
  {
   "cell_type": "code",
   "execution_count": 88,
   "metadata": {
    "ExecuteTime": {
     "end_time": "2019-05-13T23:31:34.992239Z",
     "start_time": "2019-05-13T23:31:34.709695Z"
    }
   },
   "outputs": [
    {
     "name": "stdout",
     "output_type": "stream",
     "text": [
      "Model Accuracy: 0.76\n",
      "\n",
      "Cross Validation: [0.68322981 0.75       0.74375    0.725      0.73584906]\n",
      "\n",
      "Precision: 0.67\n",
      "\n",
      "Recall: 0.35\n",
      "\n",
      "f1_score: 0.46\n",
      "\n",
      "Confusion Matrix: \n",
      "[[506  55]\n",
      " [163  76]]\n"
     ]
    },
    {
     "data": {
      "image/png": "[encoded data removed]",
      "text/plain": [
       "<Figure size 432x288 with 1 Axes>"
      ]
     },
     "metadata": {
      "needs_background": "light"
     },
     "output_type": "display_data"
    }
   ],
   "source": [
    "# Train and analysis\n",
    "log_reg = LogisticRegression()\n",
    "log_reg.fit(X_train_prepared, y_train)\n",
    "full_train_analysis(log_reg, X_train_prepared, y_train)"
   ]
  },
  {
   "cell_type": "markdown",
   "metadata": {},
   "source": [
    "The result isn't so good at all but we keep trying."
   ]
  },
  {
   "cell_type": "markdown",
   "metadata": {},
   "source": [
    "### SGD Classifier"
   ]
  },
  {
   "cell_type": "code",
   "execution_count": 89,
   "metadata": {
    "ExecuteTime": {
     "end_time": "2019-05-13T23:32:29.383089Z",
     "start_time": "2019-05-13T23:32:29.102491Z"
    }
   },
   "outputs": [
    {
     "name": "stdout",
     "output_type": "stream",
     "text": [
      "Model Accuracy: 0.71\n",
      "\n",
      "Cross Validation: [0.65838509 0.66875    0.725      0.7        0.64150943]\n",
      "\n",
      "Precision: 0.59\n",
      "\n",
      "Recall: 0.14\n",
      "\n",
      "f1_score: 0.23\n",
      "\n",
      "Confusion Matrix: \n",
      "[[465  96]\n",
      " [161  78]]\n"
     ]
    },
    {
     "data": {
      "image/png": "[encoded data removed]",
      "text/plain": [
       "<Figure size 432x288 with 1 Axes>"
      ]
     },
     "metadata": {
      "needs_background": "light"
     },
     "output_type": "display_data"
    }
   ],
   "source": [
    "# SGD Classifier\n",
    "sgd_clf = SGDClassifier(random_state=42)\n",
    "sgd_clf.fit(X_train_prepared, y_train)\n",
    "full_train_analysis(sgd_clf, X_train_prepared, y_train)"
   ]
  },
  {
   "cell_type": "markdown",
   "metadata": {},
   "source": [
    "Worse than Logistic Regression. The ROC Curve and the confusion matrix show that."
   ]
  },
  {
   "cell_type": "markdown",
   "metadata": {},
   "source": [
    "### Decision Trees"
   ]
  },
  {
   "cell_type": "code",
   "execution_count": 91,
   "metadata": {
    "ExecuteTime": {
     "end_time": "2019-05-13T23:33:19.032146Z",
     "start_time": "2019-05-13T23:33:18.700926Z"
    }
   },
   "outputs": [
    {
     "name": "stdout",
     "output_type": "stream",
     "text": [
      "Model Accuracy: 1.00\n",
      "\n",
      "Cross Validation: [0.62111801 0.6        0.5875     0.59375    0.67924528]\n",
      "\n",
      "Precision: 1.00\n",
      "\n",
      "Recall: 1.00\n",
      "\n",
      "f1_score: 1.00\n",
      "\n",
      "Confusion Matrix: \n",
      "[[389 172]\n",
      " [137 102]]\n"
     ]
    },
    {
     "data": {
      "image/png": "[encoded data removed]",
      "text/plain": [
       "<Figure size 432x288 with 1 Axes>"
      ]
     },
     "metadata": {
      "needs_background": "light"
     },
     "output_type": "display_data"
    }
   ],
   "source": [
    "# Decision Trees\n",
    "tree_clf = DecisionTreeClassifier()\n",
    "tree_clf.fit(X_train_prepared, y_train)\n",
    "full_train_analysis(tree_clf, X_train_prepared, y_train)"
   ]
  },
  {
   "cell_type": "markdown",
   "metadata": {},
   "source": [
    "This is a classic example of overfitting. Tree models tend to overfit data. Even with a 100% accuracy, we get poor results in cross validation."
   ]
  },
  {
   "cell_type": "markdown",
   "metadata": {},
   "source": [
    "### Random Forest"
   ]
  },
  {
   "cell_type": "code",
   "execution_count": 92,
   "metadata": {
    "ExecuteTime": {
     "end_time": "2019-05-13T23:34:16.299171Z",
     "start_time": "2019-05-13T23:34:15.746544Z"
    }
   },
   "outputs": [
    {
     "name": "stdout",
     "output_type": "stream",
     "text": [
      "Model Accuracy: 0.99\n",
      "\n",
      "Cross Validation: [0.65838509 0.6875     0.725      0.6875     0.73584906]\n",
      "\n",
      "Precision: 1.00\n",
      "\n",
      "Recall: 0.95\n",
      "\n",
      "f1_score: 0.98\n",
      "\n",
      "Confusion Matrix: \n",
      "[[499  62]\n",
      " [165  74]]\n"
     ]
    },
    {
     "data": {
      "image/png": "[encoded data removed]",
      "text/plain": [
       "<Figure size 432x288 with 1 Axes>"
      ]
     },
     "metadata": {
      "needs_background": "light"
     },
     "output_type": "display_data"
    }
   ],
   "source": [
    "# Random Forest\n",
    "forest_clf = RandomForestClassifier()\n",
    "forest_clf.fit(X_train_prepared, y_train)\n",
    "full_train_analysis(forest_clf, X_train_prepared, y_train)"
   ]
  },
  {
   "cell_type": "markdown",
   "metadata": {},
   "source": [
    "Logistic Regression still the best."
   ]
  },
  {
   "cell_type": "markdown",
   "metadata": {},
   "source": [
    "### Multi Layer Perceptron"
   ]
  },
  {
   "cell_type": "code",
   "execution_count": 93,
   "metadata": {
    "ExecuteTime": {
     "end_time": "2019-05-13T23:35:15.082999Z",
     "start_time": "2019-05-13T23:34:58.096792Z"
    }
   },
   "outputs": [
    {
     "name": "stdout",
     "output_type": "stream",
     "text": [
      "Model Accuracy: 0.86\n",
      "\n",
      "Cross Validation: [0.68322981 0.75       0.73125    0.75       0.76100629]\n",
      "\n",
      "Precision: 0.86\n",
      "\n",
      "Recall: 0.64\n",
      "\n",
      "f1_score: 0.73\n",
      "\n",
      "Confusion Matrix: \n",
      "[[496  65]\n",
      " [146  93]]\n"
     ]
    },
    {
     "data": {
      "image/png": "[encoded data removed]",
      "text/plain": [
       "<Figure size 432x288 with 1 Axes>"
      ]
     },
     "metadata": {
      "needs_background": "light"
     },
     "output_type": "display_data"
    }
   ],
   "source": [
    "# MLP Classifier\n",
    "mlp_clf = MLPClassifier()\n",
    "mlp_clf.fit(X_train_prepared, y_train)\n",
    "full_train_analysis(mlp_clf, X_train_prepared, y_train)"
   ]
  },
  {
   "cell_type": "markdown",
   "metadata": {},
   "source": [
    "We get good results comparing to other models, but the time we spent training MLP Classifier was high."
   ]
  },
  {
   "cell_type": "markdown",
   "metadata": {},
   "source": [
    "## Grid Search"
   ]
  },
  {
   "cell_type": "code",
   "execution_count": 94,
   "metadata": {
    "ExecuteTime": {
     "end_time": "2019-05-13T23:40:10.783685Z",
     "start_time": "2019-05-13T23:39:37.889626Z"
    }
   },
   "outputs": [
    {
     "name": "stdout",
     "output_type": "stream",
     "text": [
      "Fitting 3 folds for each of 256 candidates, totalling 768 fits\n",
      "[CV] bootstrap=True, criterion=gini, max_depth=None, min_samples_leaf=1, min_samples_split=2, n_estimators=5 \n",
      "[CV]  bootstrap=True, criterion=gini, max_depth=None, min_samples_leaf=1, min_samples_split=2, n_estimators=5, score=0.663, total=   0.0s\n",
      "[CV] bootstrap=True, criterion=gini, max_depth=None, min_samples_leaf=1, min_samples_split=2, n_estimators=5 \n",
      "[CV]  bootstrap=True, criterion=gini, max_depth=None, min_samples_leaf=1, min_samples_split=2, n_estimators=5, score=0.689, total=   0.0s\n",
      "[CV] bootstrap=True, criterion=gini, max_depth=None, min_samples_leaf=1, min_samples_split=2, n_estimators=5 \n",
      "[CV]  bootstrap=True, criterion=gini, max_depth=None, min_samples_leaf=1, min_samples_split=2, n_estimators=5, score=0.662, total=   0.0s\n",
      "[CV] bootstrap=True, criterion=gini, max_depth=None, min_samples_leaf=1, min_samples_split=2, n_estimators=10 \n",
      "[CV]  bootstrap=True, criterion=gini, max_depth=None, min_samples_leaf=1, min_samples_split=2, n_estimators=10, score=0.685, total=   0.0s\n",
      "[CV] bootstrap=True, criterion=gini, max_depth=None, min_samples_leaf=1, min_samples_split=2, n_estimators=10 \n",
      "[CV]  bootstrap=True, criterion=gini, max_depth=None, min_samples_leaf=1, min_samples_split=2, n_estimators=10, score=0.708, total=   0.0s\n",
      "[CV] bootstrap=True, criterion=gini, max_depth=None, min_samples_leaf=1, min_samples_split=2, n_estimators=10 \n",
      "[CV]  bootstrap=True, criterion=gini, max_depth=None, min_samples_leaf=1, min_samples_split=2, n_estimators=10, score=0.737, total=   0.0s\n",
      "[CV] bootstrap=True, criterion=gini, max_depth=None, min_samples_leaf=1, min_samples_split=2, n_estimators=20 \n",
      "[CV]  bootstrap=True, criterion=gini, max_depth=None, min_samples_leaf=1, min_samples_split=2, n_estimators=20, score=0.693, total=   0.0s\n",
      "[CV] bootstrap=True, criterion=gini, max_depth=None, min_samples_leaf=1, min_samples_split=2, n_estimators=20 \n",
      "[CV]  bootstrap=True, criterion=gini, max_depth=None, min_samples_leaf=1, min_samples_split=2, n_estimators=20, score=0.730, total=   0.1s\n",
      "[CV] bootstrap=True, criterion=gini, max_depth=None, min_samples_leaf=1, min_samples_split=2, n_estimators=20 \n"
     ]
    },
    {
     "name": "stderr",
     "output_type": "stream",
     "text": [
      "[Parallel(n_jobs=1)]: Using backend SequentialBackend with 1 concurrent workers.\n",
      "[Parallel(n_jobs=1)]: Done   1 out of   1 | elapsed:    0.0s remaining:    0.0s\n",
      "[Parallel(n_jobs=1)]: Done   2 out of   2 | elapsed:    0.0s remaining:    0.0s\n"
     ]
    },
    {
     "name": "stdout",
     "output_type": "stream",
     "text": [
      "[CV]  bootstrap=True, criterion=gini, max_depth=None, min_samples_leaf=1, min_samples_split=2, n_estimators=20, score=0.771, total=   0.0s\n",
      "[CV] bootstrap=True, criterion=gini, max_depth=None, min_samples_leaf=1, min_samples_split=2, n_estimators=50 \n",
      "[CV]  bootstrap=True, criterion=gini, max_depth=None, min_samples_leaf=1, min_samples_split=2, n_estimators=50, score=0.715, total=   0.1s\n",
      "[CV] bootstrap=True, criterion=gini, max_depth=None, min_samples_leaf=1, min_samples_split=2, n_estimators=50 \n",
      "[CV]  bootstrap=True, criterion=gini, max_depth=None, min_samples_leaf=1, min_samples_split=2, n_estimators=50, score=0.734, total=   0.1s\n",
      "[CV] bootstrap=True, criterion=gini, max_depth=None, min_samples_leaf=1, min_samples_split=2, n_estimators=50 \n",
      "[CV]  bootstrap=True, criterion=gini, max_depth=None, min_samples_leaf=1, min_samples_split=2, n_estimators=50, score=0.752, total=   0.1s\n",
      "[CV] bootstrap=True, criterion=gini, max_depth=None, min_samples_leaf=1, min_samples_split=5, n_estimators=5 \n",
      "[CV]  bootstrap=True, criterion=gini, max_depth=None, min_samples_leaf=1, min_samples_split=5, n_estimators=5, score=0.697, total=   0.0s\n",
      "[CV] bootstrap=True, criterion=gini, max_depth=None, min_samples_leaf=1, min_samples_split=5, n_estimators=5 \n",
      "[CV]  bootstrap=True, criterion=gini, max_depth=None, min_samples_leaf=1, min_samples_split=5, n_estimators=5, score=0.719, total=   0.0s\n",
      "[CV] bootstrap=True, criterion=gini, max_depth=None, min_samples_leaf=1, min_samples_split=5, n_estimators=5 \n",
      "[CV]  bootstrap=True, criterion=gini, max_depth=None, min_samples_leaf=1, min_samples_split=5, n_estimators=5, score=0.699, total=   0.0s\n",
      "[CV] bootstrap=True, criterion=gini, max_depth=None, min_samples_leaf=1, min_samples_split=5, n_estimators=10 \n",
      "[CV]  bootstrap=True, criterion=gini, max_depth=None, min_samples_leaf=1, min_samples_split=5, n_estimators=10, score=0.674, total=   0.0s\n",
      "[CV] bootstrap=True, criterion=gini, max_depth=None, min_samples_leaf=1, min_samples_split=5, n_estimators=10 \n",
      "[CV]  bootstrap=True, criterion=gini, max_depth=None, min_samples_leaf=1, min_samples_split=5, n_estimators=10, score=0.730, total=   0.0s\n",
      "[CV] bootstrap=True, criterion=gini, max_depth=None, min_samples_leaf=1, min_samples_split=5, n_estimators=10 \n",
      "[CV]  bootstrap=True, criterion=gini, max_depth=None, min_samples_leaf=1, min_samples_split=5, n_estimators=10, score=0.733, total=   0.0s\n",
      "[CV] bootstrap=True, criterion=gini, max_depth=None, min_samples_leaf=1, min_samples_split=5, n_estimators=20 \n",
      "[CV]  bootstrap=True, criterion=gini, max_depth=None, min_samples_leaf=1, min_samples_split=5, n_estimators=20, score=0.708, total=   0.0s\n",
      "[CV] bootstrap=True, criterion=gini, max_depth=None, min_samples_leaf=1, min_samples_split=5, n_estimators=20 \n",
      "[CV]  bootstrap=True, criterion=gini, max_depth=None, min_samples_leaf=1, min_samples_split=5, n_estimators=20, score=0.742, total=   0.0s\n",
      "[CV] bootstrap=True, criterion=gini, max_depth=None, min_samples_leaf=1, min_samples_split=5, n_estimators=20 \n",
      "[CV]  bootstrap=True, criterion=gini, max_depth=None, min_samples_leaf=1, min_samples_split=5, n_estimators=20, score=0.726, total=   0.0s\n",
      "[CV] bootstrap=True, criterion=gini, max_depth=None, min_samples_leaf=1, min_samples_split=5, n_estimators=50 \n",
      "[CV]  bootstrap=True, criterion=gini, max_depth=None, min_samples_leaf=1, min_samples_split=5, n_estimators=50, score=0.730, total=   0.1s\n",
      "[CV] bootstrap=True, criterion=gini, max_depth=None, min_samples_leaf=1, min_samples_split=5, n_estimators=50 \n",
      "[CV]  bootstrap=True, criterion=gini, max_depth=None, min_samples_leaf=1, min_samples_split=5, n_estimators=50, score=0.727, total=   0.1s\n",
      "[CV] bootstrap=True, criterion=gini, max_depth=None, min_samples_leaf=1, min_samples_split=5, n_estimators=50 \n",
      "[CV]  bootstrap=True, criterion=gini, max_depth=None, min_samples_leaf=1, min_samples_split=5, n_estimators=50, score=0.744, total=   0.1s\n",
      "[CV] bootstrap=True, criterion=gini, max_depth=None, min_samples_leaf=5, min_samples_split=2, n_estimators=5 \n",
      "[CV]  bootstrap=True, criterion=gini, max_depth=None, min_samples_leaf=5, min_samples_split=2, n_estimators=5, score=0.742, total=   0.0s\n",
      "[CV] bootstrap=True, criterion=gini, max_depth=None, min_samples_leaf=5, min_samples_split=2, n_estimators=5 \n",
      "[CV]  bootstrap=True, criterion=gini, max_depth=None, min_samples_leaf=5, min_samples_split=2, n_estimators=5, score=0.693, total=   0.0s\n",
      "[CV] bootstrap=True, criterion=gini, max_depth=None, min_samples_leaf=5, min_samples_split=2, n_estimators=5 \n",
      "[CV]  bootstrap=True, criterion=gini, max_depth=None, min_samples_leaf=5, min_samples_split=2, n_estimators=5, score=0.759, total=   0.0s\n",
      "[CV] bootstrap=True, criterion=gini, max_depth=None, min_samples_leaf=5, min_samples_split=2, n_estimators=10 \n",
      "[CV]  bootstrap=True, criterion=gini, max_depth=None, min_samples_leaf=5, min_samples_split=2, n_estimators=10, score=0.708, total=   0.0s\n",
      "[CV] bootstrap=True, criterion=gini, max_depth=None, min_samples_leaf=5, min_samples_split=2, n_estimators=10 \n",
      "[CV]  bootstrap=True, criterion=gini, max_depth=None, min_samples_leaf=5, min_samples_split=2, n_estimators=10, score=0.723, total=   0.0s\n",
      "[CV] bootstrap=True, criterion=gini, max_depth=None, min_samples_leaf=5, min_samples_split=2, n_estimators=10 \n",
      "[CV]  bootstrap=True, criterion=gini, max_depth=None, min_samples_leaf=5, min_samples_split=2, n_estimators=10, score=0.707, total=   0.0s\n",
      "[CV] bootstrap=True, criterion=gini, max_depth=None, min_samples_leaf=5, min_samples_split=2, n_estimators=20 \n",
      "[CV]  bootstrap=True, criterion=gini, max_depth=None, min_samples_leaf=5, min_samples_split=2, n_estimators=20, score=0.730, total=   0.1s\n",
      "[CV] bootstrap=True, criterion=gini, max_depth=None, min_samples_leaf=5, min_samples_split=2, n_estimators=20 \n",
      "[CV]  bootstrap=True, criterion=gini, max_depth=None, min_samples_leaf=5, min_samples_split=2, n_estimators=20, score=0.734, total=   0.0s\n",
      "[CV] bootstrap=True, criterion=gini, max_depth=None, min_samples_leaf=5, min_samples_split=2, n_estimators=20 \n",
      "[CV]  bootstrap=True, criterion=gini, max_depth=None, min_samples_leaf=5, min_samples_split=2, n_estimators=20, score=0.718, total=   0.0s\n",
      "[CV] bootstrap=True, criterion=gini, max_depth=None, min_samples_leaf=5, min_samples_split=2, n_estimators=50 \n",
      "[CV]  bootstrap=True, criterion=gini, max_depth=None, min_samples_leaf=5, min_samples_split=2, n_estimators=50, score=0.719, total=   0.1s\n",
      "[CV] bootstrap=True, criterion=gini, max_depth=None, min_samples_leaf=5, min_samples_split=2, n_estimators=50 \n",
      "[CV]  bootstrap=True, criterion=gini, max_depth=None, min_samples_leaf=5, min_samples_split=2, n_estimators=50, score=0.730, total=   0.1s\n",
      "[CV] bootstrap=True, criterion=gini, max_depth=None, min_samples_leaf=5, min_samples_split=2, n_estimators=50 \n",
      "[CV]  bootstrap=True, criterion=gini, max_depth=None, min_samples_leaf=5, min_samples_split=2, n_estimators=50, score=0.733, total=   0.1s\n",
      "[CV] bootstrap=True, criterion=gini, max_depth=None, min_samples_leaf=5, min_samples_split=5, n_estimators=5 \n",
      "[CV]  bootstrap=True, criterion=gini, max_depth=None, min_samples_leaf=5, min_samples_split=5, n_estimators=5, score=0.682, total=   0.0s\n",
      "[CV] bootstrap=True, criterion=gini, max_depth=None, min_samples_leaf=5, min_samples_split=5, n_estimators=5 \n",
      "[CV]  bootstrap=True, criterion=gini, max_depth=None, min_samples_leaf=5, min_samples_split=5, n_estimators=5, score=0.727, total=   0.0s\n",
      "[CV] bootstrap=True, criterion=gini, max_depth=None, min_samples_leaf=5, min_samples_split=5, n_estimators=5 \n",
      "[CV]  bootstrap=True, criterion=gini, max_depth=None, min_samples_leaf=5, min_samples_split=5, n_estimators=5, score=0.722, total=   0.0s\n",
      "[CV] bootstrap=True, criterion=gini, max_depth=None, min_samples_leaf=5, min_samples_split=5, n_estimators=10 \n",
      "[CV]  bootstrap=True, criterion=gini, max_depth=None, min_samples_leaf=5, min_samples_split=5, n_estimators=10, score=0.738, total=   0.0s\n",
      "[CV] bootstrap=True, criterion=gini, max_depth=None, min_samples_leaf=5, min_samples_split=5, n_estimators=10 \n",
      "[CV]  bootstrap=True, criterion=gini, max_depth=None, min_samples_leaf=5, min_samples_split=5, n_estimators=10, score=0.723, total=   0.0s\n",
      "[CV] bootstrap=True, criterion=gini, max_depth=None, min_samples_leaf=5, min_samples_split=5, n_estimators=10 \n",
      "[CV]  bootstrap=True, criterion=gini, max_depth=None, min_samples_leaf=5, min_samples_split=5, n_estimators=10, score=0.718, total=   0.0s\n",
      "[CV] bootstrap=True, criterion=gini, max_depth=None, min_samples_leaf=5, min_samples_split=5, n_estimators=20 \n",
      "[CV]  bootstrap=True, criterion=gini, max_depth=None, min_samples_leaf=5, min_samples_split=5, n_estimators=20, score=0.719, total=   0.0s\n",
      "[CV] bootstrap=True, criterion=gini, max_depth=None, min_samples_leaf=5, min_samples_split=5, n_estimators=20 \n"
     ]
    },
    {
     "name": "stdout",
     "output_type": "stream",
     "text": [
      "[CV]  bootstrap=True, criterion=gini, max_depth=None, min_samples_leaf=5, min_samples_split=5, n_estimators=20, score=0.742, total=   0.0s\n",
      "[CV] bootstrap=True, criterion=gini, max_depth=None, min_samples_leaf=5, min_samples_split=5, n_estimators=20 \n",
      "[CV]  bootstrap=True, criterion=gini, max_depth=None, min_samples_leaf=5, min_samples_split=5, n_estimators=20, score=0.741, total=   0.0s\n",
      "[CV] bootstrap=True, criterion=gini, max_depth=None, min_samples_leaf=5, min_samples_split=5, n_estimators=50 \n",
      "[CV]  bootstrap=True, criterion=gini, max_depth=None, min_samples_leaf=5, min_samples_split=5, n_estimators=50, score=0.723, total=   0.1s\n",
      "[CV] bootstrap=True, criterion=gini, max_depth=None, min_samples_leaf=5, min_samples_split=5, n_estimators=50 \n",
      "[CV]  bootstrap=True, criterion=gini, max_depth=None, min_samples_leaf=5, min_samples_split=5, n_estimators=50, score=0.730, total=   0.1s\n",
      "[CV] bootstrap=True, criterion=gini, max_depth=None, min_samples_leaf=5, min_samples_split=5, n_estimators=50 \n",
      "[CV]  bootstrap=True, criterion=gini, max_depth=None, min_samples_leaf=5, min_samples_split=5, n_estimators=50, score=0.744, total=   0.1s\n",
      "[CV] bootstrap=True, criterion=gini, max_depth=5, min_samples_leaf=1, min_samples_split=2, n_estimators=5 \n",
      "[CV]  bootstrap=True, criterion=gini, max_depth=5, min_samples_leaf=1, min_samples_split=2, n_estimators=5, score=0.682, total=   0.0s\n",
      "[CV] bootstrap=True, criterion=gini, max_depth=5, min_samples_leaf=1, min_samples_split=2, n_estimators=5 \n",
      "[CV]  bootstrap=True, criterion=gini, max_depth=5, min_samples_leaf=1, min_samples_split=2, n_estimators=5, score=0.704, total=   0.0s\n",
      "[CV] bootstrap=True, criterion=gini, max_depth=5, min_samples_leaf=1, min_samples_split=2, n_estimators=5 \n",
      "[CV]  bootstrap=True, criterion=gini, max_depth=5, min_samples_leaf=1, min_samples_split=2, n_estimators=5, score=0.733, total=   0.0s\n",
      "[CV] bootstrap=True, criterion=gini, max_depth=5, min_samples_leaf=1, min_samples_split=2, n_estimators=10 \n",
      "[CV]  bootstrap=True, criterion=gini, max_depth=5, min_samples_leaf=1, min_samples_split=2, n_estimators=10, score=0.734, total=   0.0s\n",
      "[CV] bootstrap=True, criterion=gini, max_depth=5, min_samples_leaf=1, min_samples_split=2, n_estimators=10 \n",
      "[CV]  bootstrap=True, criterion=gini, max_depth=5, min_samples_leaf=1, min_samples_split=2, n_estimators=10, score=0.723, total=   0.0s\n",
      "[CV] bootstrap=True, criterion=gini, max_depth=5, min_samples_leaf=1, min_samples_split=2, n_estimators=10 \n",
      "[CV]  bootstrap=True, criterion=gini, max_depth=5, min_samples_leaf=1, min_samples_split=2, n_estimators=10, score=0.737, total=   0.0s\n",
      "[CV] bootstrap=True, criterion=gini, max_depth=5, min_samples_leaf=1, min_samples_split=2, n_estimators=20 \n",
      "[CV]  bootstrap=True, criterion=gini, max_depth=5, min_samples_leaf=1, min_samples_split=2, n_estimators=20, score=0.715, total=   0.0s\n",
      "[CV] bootstrap=True, criterion=gini, max_depth=5, min_samples_leaf=1, min_samples_split=2, n_estimators=20 \n",
      "[CV]  bootstrap=True, criterion=gini, max_depth=5, min_samples_leaf=1, min_samples_split=2, n_estimators=20, score=0.712, total=   0.0s\n",
      "[CV] bootstrap=True, criterion=gini, max_depth=5, min_samples_leaf=1, min_samples_split=2, n_estimators=20 \n",
      "[CV]  bootstrap=True, criterion=gini, max_depth=5, min_samples_leaf=1, min_samples_split=2, n_estimators=20, score=0.756, total=   0.0s\n",
      "[CV] bootstrap=True, criterion=gini, max_depth=5, min_samples_leaf=1, min_samples_split=2, n_estimators=50 \n",
      "[CV]  bootstrap=True, criterion=gini, max_depth=5, min_samples_leaf=1, min_samples_split=2, n_estimators=50, score=0.734, total=   0.1s\n",
      "[CV] bootstrap=True, criterion=gini, max_depth=5, min_samples_leaf=1, min_samples_split=2, n_estimators=50 \n",
      "[CV]  bootstrap=True, criterion=gini, max_depth=5, min_samples_leaf=1, min_samples_split=2, n_estimators=50, score=0.719, total=   0.1s\n",
      "[CV] bootstrap=True, criterion=gini, max_depth=5, min_samples_leaf=1, min_samples_split=2, n_estimators=50 \n",
      "[CV]  bootstrap=True, criterion=gini, max_depth=5, min_samples_leaf=1, min_samples_split=2, n_estimators=50, score=0.748, total=   0.1s\n",
      "[CV] bootstrap=True, criterion=gini, max_depth=5, min_samples_leaf=1, min_samples_split=5, n_estimators=5 \n",
      "[CV]  bootstrap=True, criterion=gini, max_depth=5, min_samples_leaf=1, min_samples_split=5, n_estimators=5, score=0.708, total=   0.0s\n",
      "[CV] bootstrap=True, criterion=gini, max_depth=5, min_samples_leaf=1, min_samples_split=5, n_estimators=5 \n",
      "[CV]  bootstrap=True, criterion=gini, max_depth=5, min_samples_leaf=1, min_samples_split=5, n_estimators=5, score=0.738, total=   0.0s\n",
      "[CV] bootstrap=True, criterion=gini, max_depth=5, min_samples_leaf=1, min_samples_split=5, n_estimators=5 \n",
      "[CV]  bootstrap=True, criterion=gini, max_depth=5, min_samples_leaf=1, min_samples_split=5, n_estimators=5, score=0.711, total=   0.0s\n",
      "[CV] bootstrap=True, criterion=gini, max_depth=5, min_samples_leaf=1, min_samples_split=5, n_estimators=10 \n",
      "[CV]  bootstrap=True, criterion=gini, max_depth=5, min_samples_leaf=1, min_samples_split=5, n_estimators=10, score=0.730, total=   0.0s\n",
      "[CV] bootstrap=True, criterion=gini, max_depth=5, min_samples_leaf=1, min_samples_split=5, n_estimators=10 \n",
      "[CV]  bootstrap=True, criterion=gini, max_depth=5, min_samples_leaf=1, min_samples_split=5, n_estimators=10, score=0.712, total=   0.0s\n",
      "[CV] bootstrap=True, criterion=gini, max_depth=5, min_samples_leaf=1, min_samples_split=5, n_estimators=10 \n",
      "[CV]  bootstrap=True, criterion=gini, max_depth=5, min_samples_leaf=1, min_samples_split=5, n_estimators=10, score=0.744, total=   0.0s\n",
      "[CV] bootstrap=True, criterion=gini, max_depth=5, min_samples_leaf=1, min_samples_split=5, n_estimators=20 \n",
      "[CV]  bootstrap=True, criterion=gini, max_depth=5, min_samples_leaf=1, min_samples_split=5, n_estimators=20, score=0.753, total=   0.0s\n",
      "[CV] bootstrap=True, criterion=gini, max_depth=5, min_samples_leaf=1, min_samples_split=5, n_estimators=20 \n",
      "[CV]  bootstrap=True, criterion=gini, max_depth=5, min_samples_leaf=1, min_samples_split=5, n_estimators=20, score=0.730, total=   0.0s\n",
      "[CV] bootstrap=True, criterion=gini, max_depth=5, min_samples_leaf=1, min_samples_split=5, n_estimators=20 \n",
      "[CV]  bootstrap=True, criterion=gini, max_depth=5, min_samples_leaf=1, min_samples_split=5, n_estimators=20, score=0.752, total=   0.0s\n",
      "[CV] bootstrap=True, criterion=gini, max_depth=5, min_samples_leaf=1, min_samples_split=5, n_estimators=50 \n",
      "[CV]  bootstrap=True, criterion=gini, max_depth=5, min_samples_leaf=1, min_samples_split=5, n_estimators=50, score=0.727, total=   0.1s\n",
      "[CV] bootstrap=True, criterion=gini, max_depth=5, min_samples_leaf=1, min_samples_split=5, n_estimators=50 \n",
      "[CV]  bootstrap=True, criterion=gini, max_depth=5, min_samples_leaf=1, min_samples_split=5, n_estimators=50, score=0.738, total=   0.1s\n",
      "[CV] bootstrap=True, criterion=gini, max_depth=5, min_samples_leaf=1, min_samples_split=5, n_estimators=50 \n",
      "[CV]  bootstrap=True, criterion=gini, max_depth=5, min_samples_leaf=1, min_samples_split=5, n_estimators=50, score=0.752, total=   0.1s\n",
      "[CV] bootstrap=True, criterion=gini, max_depth=5, min_samples_leaf=5, min_samples_split=2, n_estimators=5 \n",
      "[CV]  bootstrap=True, criterion=gini, max_depth=5, min_samples_leaf=5, min_samples_split=2, n_estimators=5, score=0.723, total=   0.0s\n",
      "[CV] bootstrap=True, criterion=gini, max_depth=5, min_samples_leaf=5, min_samples_split=2, n_estimators=5 \n",
      "[CV]  bootstrap=True, criterion=gini, max_depth=5, min_samples_leaf=5, min_samples_split=2, n_estimators=5, score=0.719, total=   0.0s\n",
      "[CV] bootstrap=True, criterion=gini, max_depth=5, min_samples_leaf=5, min_samples_split=2, n_estimators=5 \n",
      "[CV]  bootstrap=True, criterion=gini, max_depth=5, min_samples_leaf=5, min_samples_split=2, n_estimators=5, score=0.726, total=   0.0s\n",
      "[CV] bootstrap=True, criterion=gini, max_depth=5, min_samples_leaf=5, min_samples_split=2, n_estimators=10 \n",
      "[CV]  bootstrap=True, criterion=gini, max_depth=5, min_samples_leaf=5, min_samples_split=2, n_estimators=10, score=0.719, total=   0.0s\n",
      "[CV] bootstrap=True, criterion=gini, max_depth=5, min_samples_leaf=5, min_samples_split=2, n_estimators=10 \n",
      "[CV]  bootstrap=True, criterion=gini, max_depth=5, min_samples_leaf=5, min_samples_split=2, n_estimators=10, score=0.723, total=   0.0s\n",
      "[CV] bootstrap=True, criterion=gini, max_depth=5, min_samples_leaf=5, min_samples_split=2, n_estimators=10 \n",
      "[CV]  bootstrap=True, criterion=gini, max_depth=5, min_samples_leaf=5, min_samples_split=2, n_estimators=10, score=0.729, total=   0.0s\n",
      "[CV] bootstrap=True, criterion=gini, max_depth=5, min_samples_leaf=5, min_samples_split=2, n_estimators=20 \n",
      "[CV]  bootstrap=True, criterion=gini, max_depth=5, min_samples_leaf=5, min_samples_split=2, n_estimators=20, score=0.727, total=   0.0s\n",
      "[CV] bootstrap=True, criterion=gini, max_depth=5, min_samples_leaf=5, min_samples_split=2, n_estimators=20 \n"
     ]
    },
    {
     "name": "stdout",
     "output_type": "stream",
     "text": [
      "[CV]  bootstrap=True, criterion=gini, max_depth=5, min_samples_leaf=5, min_samples_split=2, n_estimators=20, score=0.749, total=   0.0s\n",
      "[CV] bootstrap=True, criterion=gini, max_depth=5, min_samples_leaf=5, min_samples_split=2, n_estimators=20 \n",
      "[CV]  bootstrap=True, criterion=gini, max_depth=5, min_samples_leaf=5, min_samples_split=2, n_estimators=20, score=0.759, total=   0.0s\n",
      "[CV] bootstrap=True, criterion=gini, max_depth=5, min_samples_leaf=5, min_samples_split=2, n_estimators=50 \n",
      "[CV]  bootstrap=True, criterion=gini, max_depth=5, min_samples_leaf=5, min_samples_split=2, n_estimators=50, score=0.723, total=   0.1s\n",
      "[CV] bootstrap=True, criterion=gini, max_depth=5, min_samples_leaf=5, min_samples_split=2, n_estimators=50 \n",
      "[CV]  bootstrap=True, criterion=gini, max_depth=5, min_samples_leaf=5, min_samples_split=2, n_estimators=50, score=0.727, total=   0.2s\n",
      "[CV] bootstrap=True, criterion=gini, max_depth=5, min_samples_leaf=5, min_samples_split=2, n_estimators=50 \n",
      "[CV]  bootstrap=True, criterion=gini, max_depth=5, min_samples_leaf=5, min_samples_split=2, n_estimators=50, score=0.729, total=   0.1s\n",
      "[CV] bootstrap=True, criterion=gini, max_depth=5, min_samples_leaf=5, min_samples_split=5, n_estimators=5 \n",
      "[CV]  bootstrap=True, criterion=gini, max_depth=5, min_samples_leaf=5, min_samples_split=5, n_estimators=5, score=0.727, total=   0.0s\n",
      "[CV] bootstrap=True, criterion=gini, max_depth=5, min_samples_leaf=5, min_samples_split=5, n_estimators=5 \n",
      "[CV]  bootstrap=True, criterion=gini, max_depth=5, min_samples_leaf=5, min_samples_split=5, n_estimators=5, score=0.734, total=   0.0s\n",
      "[CV] bootstrap=True, criterion=gini, max_depth=5, min_samples_leaf=5, min_samples_split=5, n_estimators=5 \n",
      "[CV]  bootstrap=True, criterion=gini, max_depth=5, min_samples_leaf=5, min_samples_split=5, n_estimators=5, score=0.722, total=   0.0s\n",
      "[CV] bootstrap=True, criterion=gini, max_depth=5, min_samples_leaf=5, min_samples_split=5, n_estimators=10 \n",
      "[CV]  bootstrap=True, criterion=gini, max_depth=5, min_samples_leaf=5, min_samples_split=5, n_estimators=10, score=0.715, total=   0.0s\n",
      "[CV] bootstrap=True, criterion=gini, max_depth=5, min_samples_leaf=5, min_samples_split=5, n_estimators=10 \n",
      "[CV]  bootstrap=True, criterion=gini, max_depth=5, min_samples_leaf=5, min_samples_split=5, n_estimators=10, score=0.704, total=   0.0s\n",
      "[CV] bootstrap=True, criterion=gini, max_depth=5, min_samples_leaf=5, min_samples_split=5, n_estimators=10 \n",
      "[CV]  bootstrap=True, criterion=gini, max_depth=5, min_samples_leaf=5, min_samples_split=5, n_estimators=10, score=0.733, total=   0.0s\n",
      "[CV] bootstrap=True, criterion=gini, max_depth=5, min_samples_leaf=5, min_samples_split=5, n_estimators=20 \n",
      "[CV]  bootstrap=True, criterion=gini, max_depth=5, min_samples_leaf=5, min_samples_split=5, n_estimators=20, score=0.730, total=   0.0s\n",
      "[CV] bootstrap=True, criterion=gini, max_depth=5, min_samples_leaf=5, min_samples_split=5, n_estimators=20 \n",
      "[CV]  bootstrap=True, criterion=gini, max_depth=5, min_samples_leaf=5, min_samples_split=5, n_estimators=20, score=0.727, total=   0.0s\n",
      "[CV] bootstrap=True, criterion=gini, max_depth=5, min_samples_leaf=5, min_samples_split=5, n_estimators=20 \n",
      "[CV]  bootstrap=True, criterion=gini, max_depth=5, min_samples_leaf=5, min_samples_split=5, n_estimators=20, score=0.741, total=   0.0s\n",
      "[CV] bootstrap=True, criterion=gini, max_depth=5, min_samples_leaf=5, min_samples_split=5, n_estimators=50 \n",
      "[CV]  bootstrap=True, criterion=gini, max_depth=5, min_samples_leaf=5, min_samples_split=5, n_estimators=50, score=0.727, total=   0.1s\n",
      "[CV] bootstrap=True, criterion=gini, max_depth=5, min_samples_leaf=5, min_samples_split=5, n_estimators=50 \n",
      "[CV]  bootstrap=True, criterion=gini, max_depth=5, min_samples_leaf=5, min_samples_split=5, n_estimators=50, score=0.738, total=   0.1s\n",
      "[CV] bootstrap=True, criterion=gini, max_depth=5, min_samples_leaf=5, min_samples_split=5, n_estimators=50 \n",
      "[CV]  bootstrap=True, criterion=gini, max_depth=5, min_samples_leaf=5, min_samples_split=5, n_estimators=50, score=0.744, total=   0.1s\n",
      "[CV] bootstrap=True, criterion=gini, max_depth=10, min_samples_leaf=1, min_samples_split=2, n_estimators=5 \n",
      "[CV]  bootstrap=True, criterion=gini, max_depth=10, min_samples_leaf=1, min_samples_split=2, n_estimators=5, score=0.700, total=   0.0s\n",
      "[CV] bootstrap=True, criterion=gini, max_depth=10, min_samples_leaf=1, min_samples_split=2, n_estimators=5 \n",
      "[CV]  bootstrap=True, criterion=gini, max_depth=10, min_samples_leaf=1, min_samples_split=2, n_estimators=5, score=0.689, total=   0.0s\n",
      "[CV] bootstrap=True, criterion=gini, max_depth=10, min_samples_leaf=1, min_samples_split=2, n_estimators=5 \n",
      "[CV]  bootstrap=True, criterion=gini, max_depth=10, min_samples_leaf=1, min_samples_split=2, n_estimators=5, score=0.703, total=   0.0s\n",
      "[CV] bootstrap=True, criterion=gini, max_depth=10, min_samples_leaf=1, min_samples_split=2, n_estimators=10 \n",
      "[CV]  bootstrap=True, criterion=gini, max_depth=10, min_samples_leaf=1, min_samples_split=2, n_estimators=10, score=0.689, total=   0.0s\n",
      "[CV] bootstrap=True, criterion=gini, max_depth=10, min_samples_leaf=1, min_samples_split=2, n_estimators=10 \n",
      "[CV]  bootstrap=True, criterion=gini, max_depth=10, min_samples_leaf=1, min_samples_split=2, n_estimators=10, score=0.730, total=   0.0s\n",
      "[CV] bootstrap=True, criterion=gini, max_depth=10, min_samples_leaf=1, min_samples_split=2, n_estimators=10 \n",
      "[CV]  bootstrap=True, criterion=gini, max_depth=10, min_samples_leaf=1, min_samples_split=2, n_estimators=10, score=0.703, total=   0.0s\n",
      "[CV] bootstrap=True, criterion=gini, max_depth=10, min_samples_leaf=1, min_samples_split=2, n_estimators=20 \n",
      "[CV]  bootstrap=True, criterion=gini, max_depth=10, min_samples_leaf=1, min_samples_split=2, n_estimators=20, score=0.712, total=   0.1s\n",
      "[CV] bootstrap=True, criterion=gini, max_depth=10, min_samples_leaf=1, min_samples_split=2, n_estimators=20 \n",
      "[CV]  bootstrap=True, criterion=gini, max_depth=10, min_samples_leaf=1, min_samples_split=2, n_estimators=20, score=0.734, total=   0.1s\n",
      "[CV] bootstrap=True, criterion=gini, max_depth=10, min_samples_leaf=1, min_samples_split=2, n_estimators=20 \n",
      "[CV]  bootstrap=True, criterion=gini, max_depth=10, min_samples_leaf=1, min_samples_split=2, n_estimators=20, score=0.737, total=   0.0s\n",
      "[CV] bootstrap=True, criterion=gini, max_depth=10, min_samples_leaf=1, min_samples_split=2, n_estimators=50 \n",
      "[CV]  bootstrap=True, criterion=gini, max_depth=10, min_samples_leaf=1, min_samples_split=2, n_estimators=50, score=0.719, total=   0.1s\n",
      "[CV] bootstrap=True, criterion=gini, max_depth=10, min_samples_leaf=1, min_samples_split=2, n_estimators=50 \n",
      "[CV]  bootstrap=True, criterion=gini, max_depth=10, min_samples_leaf=1, min_samples_split=2, n_estimators=50, score=0.727, total=   0.1s\n",
      "[CV] bootstrap=True, criterion=gini, max_depth=10, min_samples_leaf=1, min_samples_split=2, n_estimators=50 \n",
      "[CV]  bootstrap=True, criterion=gini, max_depth=10, min_samples_leaf=1, min_samples_split=2, n_estimators=50, score=0.729, total=   0.1s\n",
      "[CV] bootstrap=True, criterion=gini, max_depth=10, min_samples_leaf=1, min_samples_split=5, n_estimators=5 \n",
      "[CV]  bootstrap=True, criterion=gini, max_depth=10, min_samples_leaf=1, min_samples_split=5, n_estimators=5, score=0.719, total=   0.0s\n",
      "[CV] bootstrap=True, criterion=gini, max_depth=10, min_samples_leaf=1, min_samples_split=5, n_estimators=5 \n",
      "[CV]  bootstrap=True, criterion=gini, max_depth=10, min_samples_leaf=1, min_samples_split=5, n_estimators=5, score=0.704, total=   0.0s\n",
      "[CV] bootstrap=True, criterion=gini, max_depth=10, min_samples_leaf=1, min_samples_split=5, n_estimators=5 \n",
      "[CV]  bootstrap=True, criterion=gini, max_depth=10, min_samples_leaf=1, min_samples_split=5, n_estimators=5, score=0.733, total=   0.0s\n",
      "[CV] bootstrap=True, criterion=gini, max_depth=10, min_samples_leaf=1, min_samples_split=5, n_estimators=10 \n",
      "[CV]  bootstrap=True, criterion=gini, max_depth=10, min_samples_leaf=1, min_samples_split=5, n_estimators=10, score=0.719, total=   0.0s\n",
      "[CV] bootstrap=True, criterion=gini, max_depth=10, min_samples_leaf=1, min_samples_split=5, n_estimators=10 \n",
      "[CV]  bootstrap=True, criterion=gini, max_depth=10, min_samples_leaf=1, min_samples_split=5, n_estimators=10, score=0.727, total=   0.0s\n",
      "[CV] bootstrap=True, criterion=gini, max_depth=10, min_samples_leaf=1, min_samples_split=5, n_estimators=10 \n",
      "[CV]  bootstrap=True, criterion=gini, max_depth=10, min_samples_leaf=1, min_samples_split=5, n_estimators=10, score=0.744, total=   0.0s\n",
      "[CV] bootstrap=True, criterion=gini, max_depth=10, min_samples_leaf=1, min_samples_split=5, n_estimators=20 \n",
      "[CV]  bootstrap=True, criterion=gini, max_depth=10, min_samples_leaf=1, min_samples_split=5, n_estimators=20, score=0.708, total=   0.0s\n",
      "[CV] bootstrap=True, criterion=gini, max_depth=10, min_samples_leaf=1, min_samples_split=5, n_estimators=20 \n",
      "[CV]  bootstrap=True, criterion=gini, max_depth=10, min_samples_leaf=1, min_samples_split=5, n_estimators=20, score=0.719, total=   0.0s\n",
      "[CV] bootstrap=True, criterion=gini, max_depth=10, min_samples_leaf=1, min_samples_split=5, n_estimators=20 \n",
      "[CV]  bootstrap=True, criterion=gini, max_depth=10, min_samples_leaf=1, min_samples_split=5, n_estimators=20, score=0.763, total=   0.0s\n",
      "[CV] bootstrap=True, criterion=gini, max_depth=10, min_samples_leaf=1, min_samples_split=5, n_estimators=50 \n",
      "[CV]  bootstrap=True, criterion=gini, max_depth=10, min_samples_leaf=1, min_samples_split=5, n_estimators=50, score=0.742, total=   0.1s\n",
      "[CV] bootstrap=True, criterion=gini, max_depth=10, min_samples_leaf=1, min_samples_split=5, n_estimators=50 \n"
     ]
    },
    {
     "name": "stdout",
     "output_type": "stream",
     "text": [
      "[CV]  bootstrap=True, criterion=gini, max_depth=10, min_samples_leaf=1, min_samples_split=5, n_estimators=50, score=0.734, total=   0.1s\n",
      "[CV] bootstrap=True, criterion=gini, max_depth=10, min_samples_leaf=1, min_samples_split=5, n_estimators=50 \n",
      "[CV]  bootstrap=True, criterion=gini, max_depth=10, min_samples_leaf=1, min_samples_split=5, n_estimators=50, score=0.737, total=   0.1s\n",
      "[CV] bootstrap=True, criterion=gini, max_depth=10, min_samples_leaf=5, min_samples_split=2, n_estimators=5 \n",
      "[CV]  bootstrap=True, criterion=gini, max_depth=10, min_samples_leaf=5, min_samples_split=2, n_estimators=5, score=0.708, total=   0.0s\n",
      "[CV] bootstrap=True, criterion=gini, max_depth=10, min_samples_leaf=5, min_samples_split=2, n_estimators=5 \n",
      "[CV]  bootstrap=True, criterion=gini, max_depth=10, min_samples_leaf=5, min_samples_split=2, n_estimators=5, score=0.712, total=   0.0s\n",
      "[CV] bootstrap=True, criterion=gini, max_depth=10, min_samples_leaf=5, min_samples_split=2, n_estimators=5 \n",
      "[CV]  bootstrap=True, criterion=gini, max_depth=10, min_samples_leaf=5, min_samples_split=2, n_estimators=5, score=0.688, total=   0.0s\n",
      "[CV] bootstrap=True, criterion=gini, max_depth=10, min_samples_leaf=5, min_samples_split=2, n_estimators=10 \n",
      "[CV]  bootstrap=True, criterion=gini, max_depth=10, min_samples_leaf=5, min_samples_split=2, n_estimators=10, score=0.749, total=   0.0s\n",
      "[CV] bootstrap=True, criterion=gini, max_depth=10, min_samples_leaf=5, min_samples_split=2, n_estimators=10 \n",
      "[CV]  bootstrap=True, criterion=gini, max_depth=10, min_samples_leaf=5, min_samples_split=2, n_estimators=10, score=0.708, total=   0.0s\n",
      "[CV] bootstrap=True, criterion=gini, max_depth=10, min_samples_leaf=5, min_samples_split=2, n_estimators=10 \n",
      "[CV]  bootstrap=True, criterion=gini, max_depth=10, min_samples_leaf=5, min_samples_split=2, n_estimators=10, score=0.741, total=   0.0s\n",
      "[CV] bootstrap=True, criterion=gini, max_depth=10, min_samples_leaf=5, min_samples_split=2, n_estimators=20 \n",
      "[CV]  bootstrap=True, criterion=gini, max_depth=10, min_samples_leaf=5, min_samples_split=2, n_estimators=20, score=0.727, total=   0.0s\n",
      "[CV] bootstrap=True, criterion=gini, max_depth=10, min_samples_leaf=5, min_samples_split=2, n_estimators=20 \n",
      "[CV]  bootstrap=True, criterion=gini, max_depth=10, min_samples_leaf=5, min_samples_split=2, n_estimators=20, score=0.712, total=   0.0s\n",
      "[CV] bootstrap=True, criterion=gini, max_depth=10, min_samples_leaf=5, min_samples_split=2, n_estimators=20 \n",
      "[CV]  bootstrap=True, criterion=gini, max_depth=10, min_samples_leaf=5, min_samples_split=2, n_estimators=20, score=0.744, total=   0.0s\n",
      "[CV] bootstrap=True, criterion=gini, max_depth=10, min_samples_leaf=5, min_samples_split=2, n_estimators=50 \n",
      "[CV]  bootstrap=True, criterion=gini, max_depth=10, min_samples_leaf=5, min_samples_split=2, n_estimators=50, score=0.742, total=   0.1s\n",
      "[CV] bootstrap=True, criterion=gini, max_depth=10, min_samples_leaf=5, min_samples_split=2, n_estimators=50 \n",
      "[CV]  bootstrap=True, criterion=gini, max_depth=10, min_samples_leaf=5, min_samples_split=2, n_estimators=50, score=0.719, total=   0.1s\n",
      "[CV] bootstrap=True, criterion=gini, max_depth=10, min_samples_leaf=5, min_samples_split=2, n_estimators=50 \n",
      "[CV]  bootstrap=True, criterion=gini, max_depth=10, min_samples_leaf=5, min_samples_split=2, n_estimators=50, score=0.756, total=   0.1s\n",
      "[CV] bootstrap=True, criterion=gini, max_depth=10, min_samples_leaf=5, min_samples_split=5, n_estimators=5 \n",
      "[CV]  bootstrap=True, criterion=gini, max_depth=10, min_samples_leaf=5, min_samples_split=5, n_estimators=5, score=0.715, total=   0.0s\n",
      "[CV] bootstrap=True, criterion=gini, max_depth=10, min_samples_leaf=5, min_samples_split=5, n_estimators=5 \n",
      "[CV]  bootstrap=True, criterion=gini, max_depth=10, min_samples_leaf=5, min_samples_split=5, n_estimators=5, score=0.712, total=   0.0s\n",
      "[CV] bootstrap=True, criterion=gini, max_depth=10, min_samples_leaf=5, min_samples_split=5, n_estimators=5 \n",
      "[CV]  bootstrap=True, criterion=gini, max_depth=10, min_samples_leaf=5, min_samples_split=5, n_estimators=5, score=0.722, total=   0.0s\n",
      "[CV] bootstrap=True, criterion=gini, max_depth=10, min_samples_leaf=5, min_samples_split=5, n_estimators=10 \n",
      "[CV]  bootstrap=True, criterion=gini, max_depth=10, min_samples_leaf=5, min_samples_split=5, n_estimators=10, score=0.723, total=   0.0s\n",
      "[CV] bootstrap=True, criterion=gini, max_depth=10, min_samples_leaf=5, min_samples_split=5, n_estimators=10 \n",
      "[CV]  bootstrap=True, criterion=gini, max_depth=10, min_samples_leaf=5, min_samples_split=5, n_estimators=10, score=0.674, total=   0.0s\n",
      "[CV] bootstrap=True, criterion=gini, max_depth=10, min_samples_leaf=5, min_samples_split=5, n_estimators=10 \n",
      "[CV]  bootstrap=True, criterion=gini, max_depth=10, min_samples_leaf=5, min_samples_split=5, n_estimators=10, score=0.737, total=   0.0s\n",
      "[CV] bootstrap=True, criterion=gini, max_depth=10, min_samples_leaf=5, min_samples_split=5, n_estimators=20 \n",
      "[CV]  bootstrap=True, criterion=gini, max_depth=10, min_samples_leaf=5, min_samples_split=5, n_estimators=20, score=0.715, total=   0.0s\n",
      "[CV] bootstrap=True, criterion=gini, max_depth=10, min_samples_leaf=5, min_samples_split=5, n_estimators=20 \n",
      "[CV]  bootstrap=True, criterion=gini, max_depth=10, min_samples_leaf=5, min_samples_split=5, n_estimators=20, score=0.734, total=   0.0s\n",
      "[CV] bootstrap=True, criterion=gini, max_depth=10, min_samples_leaf=5, min_samples_split=5, n_estimators=20 \n",
      "[CV]  bootstrap=True, criterion=gini, max_depth=10, min_samples_leaf=5, min_samples_split=5, n_estimators=20, score=0.767, total=   0.0s\n",
      "[CV] bootstrap=True, criterion=gini, max_depth=10, min_samples_leaf=5, min_samples_split=5, n_estimators=50 \n",
      "[CV]  bootstrap=True, criterion=gini, max_depth=10, min_samples_leaf=5, min_samples_split=5, n_estimators=50, score=0.749, total=   0.1s\n",
      "[CV] bootstrap=True, criterion=gini, max_depth=10, min_samples_leaf=5, min_samples_split=5, n_estimators=50 \n",
      "[CV]  bootstrap=True, criterion=gini, max_depth=10, min_samples_leaf=5, min_samples_split=5, n_estimators=50, score=0.742, total=   0.1s\n",
      "[CV] bootstrap=True, criterion=gini, max_depth=10, min_samples_leaf=5, min_samples_split=5, n_estimators=50 \n",
      "[CV]  bootstrap=True, criterion=gini, max_depth=10, min_samples_leaf=5, min_samples_split=5, n_estimators=50, score=0.744, total=   0.1s\n",
      "[CV] bootstrap=True, criterion=gini, max_depth=15, min_samples_leaf=1, min_samples_split=2, n_estimators=5 \n",
      "[CV]  bootstrap=True, criterion=gini, max_depth=15, min_samples_leaf=1, min_samples_split=2, n_estimators=5, score=0.689, total=   0.0s\n",
      "[CV] bootstrap=True, criterion=gini, max_depth=15, min_samples_leaf=1, min_samples_split=2, n_estimators=5 \n",
      "[CV]  bootstrap=True, criterion=gini, max_depth=15, min_samples_leaf=1, min_samples_split=2, n_estimators=5, score=0.685, total=   0.0s\n",
      "[CV] bootstrap=True, criterion=gini, max_depth=15, min_samples_leaf=1, min_samples_split=2, n_estimators=5 \n",
      "[CV]  bootstrap=True, criterion=gini, max_depth=15, min_samples_leaf=1, min_samples_split=2, n_estimators=5, score=0.684, total=   0.0s\n",
      "[CV] bootstrap=True, criterion=gini, max_depth=15, min_samples_leaf=1, min_samples_split=2, n_estimators=10 \n",
      "[CV]  bootstrap=True, criterion=gini, max_depth=15, min_samples_leaf=1, min_samples_split=2, n_estimators=10, score=0.715, total=   0.0s\n",
      "[CV] bootstrap=True, criterion=gini, max_depth=15, min_samples_leaf=1, min_samples_split=2, n_estimators=10 \n",
      "[CV]  bootstrap=True, criterion=gini, max_depth=15, min_samples_leaf=1, min_samples_split=2, n_estimators=10, score=0.712, total=   0.0s\n",
      "[CV] bootstrap=True, criterion=gini, max_depth=15, min_samples_leaf=1, min_samples_split=2, n_estimators=10 \n",
      "[CV]  bootstrap=True, criterion=gini, max_depth=15, min_samples_leaf=1, min_samples_split=2, n_estimators=10, score=0.695, total=   0.0s\n",
      "[CV] bootstrap=True, criterion=gini, max_depth=15, min_samples_leaf=1, min_samples_split=2, n_estimators=20 \n",
      "[CV]  bootstrap=True, criterion=gini, max_depth=15, min_samples_leaf=1, min_samples_split=2, n_estimators=20, score=0.689, total=   0.0s\n",
      "[CV] bootstrap=True, criterion=gini, max_depth=15, min_samples_leaf=1, min_samples_split=2, n_estimators=20 \n",
      "[CV]  bootstrap=True, criterion=gini, max_depth=15, min_samples_leaf=1, min_samples_split=2, n_estimators=20, score=0.719, total=   0.0s\n",
      "[CV] bootstrap=True, criterion=gini, max_depth=15, min_samples_leaf=1, min_samples_split=2, n_estimators=20 \n",
      "[CV]  bootstrap=True, criterion=gini, max_depth=15, min_samples_leaf=1, min_samples_split=2, n_estimators=20, score=0.718, total=   0.0s\n",
      "[CV] bootstrap=True, criterion=gini, max_depth=15, min_samples_leaf=1, min_samples_split=2, n_estimators=50 \n",
      "[CV]  bootstrap=True, criterion=gini, max_depth=15, min_samples_leaf=1, min_samples_split=2, n_estimators=50, score=0.715, total=   0.1s\n",
      "[CV] bootstrap=True, criterion=gini, max_depth=15, min_samples_leaf=1, min_samples_split=2, n_estimators=50 \n"
     ]
    },
    {
     "name": "stdout",
     "output_type": "stream",
     "text": [
      "[CV]  bootstrap=True, criterion=gini, max_depth=15, min_samples_leaf=1, min_samples_split=2, n_estimators=50, score=0.719, total=   0.1s\n",
      "[CV] bootstrap=True, criterion=gini, max_depth=15, min_samples_leaf=1, min_samples_split=2, n_estimators=50 \n",
      "[CV]  bootstrap=True, criterion=gini, max_depth=15, min_samples_leaf=1, min_samples_split=2, n_estimators=50, score=0.733, total=   0.1s\n",
      "[CV] bootstrap=True, criterion=gini, max_depth=15, min_samples_leaf=1, min_samples_split=5, n_estimators=5 \n",
      "[CV]  bootstrap=True, criterion=gini, max_depth=15, min_samples_leaf=1, min_samples_split=5, n_estimators=5, score=0.704, total=   0.0s\n",
      "[CV] bootstrap=True, criterion=gini, max_depth=15, min_samples_leaf=1, min_samples_split=5, n_estimators=5 \n",
      "[CV]  bootstrap=True, criterion=gini, max_depth=15, min_samples_leaf=1, min_samples_split=5, n_estimators=5, score=0.712, total=   0.0s\n",
      "[CV] bootstrap=True, criterion=gini, max_depth=15, min_samples_leaf=1, min_samples_split=5, n_estimators=5 \n",
      "[CV]  bootstrap=True, criterion=gini, max_depth=15, min_samples_leaf=1, min_samples_split=5, n_estimators=5, score=0.714, total=   0.0s\n",
      "[CV] bootstrap=True, criterion=gini, max_depth=15, min_samples_leaf=1, min_samples_split=5, n_estimators=10 \n",
      "[CV]  bootstrap=True, criterion=gini, max_depth=15, min_samples_leaf=1, min_samples_split=5, n_estimators=10, score=0.697, total=   0.0s\n",
      "[CV] bootstrap=True, criterion=gini, max_depth=15, min_samples_leaf=1, min_samples_split=5, n_estimators=10 \n",
      "[CV]  bootstrap=True, criterion=gini, max_depth=15, min_samples_leaf=1, min_samples_split=5, n_estimators=10, score=0.667, total=   0.0s\n",
      "[CV] bootstrap=True, criterion=gini, max_depth=15, min_samples_leaf=1, min_samples_split=5, n_estimators=10 \n",
      "[CV]  bootstrap=True, criterion=gini, max_depth=15, min_samples_leaf=1, min_samples_split=5, n_estimators=10, score=0.763, total=   0.0s\n",
      "[CV] bootstrap=True, criterion=gini, max_depth=15, min_samples_leaf=1, min_samples_split=5, n_estimators=20 \n",
      "[CV]  bootstrap=True, criterion=gini, max_depth=15, min_samples_leaf=1, min_samples_split=5, n_estimators=20, score=0.719, total=   0.0s\n",
      "[CV] bootstrap=True, criterion=gini, max_depth=15, min_samples_leaf=1, min_samples_split=5, n_estimators=20 \n",
      "[CV]  bootstrap=True, criterion=gini, max_depth=15, min_samples_leaf=1, min_samples_split=5, n_estimators=20, score=0.734, total=   0.0s\n",
      "[CV] bootstrap=True, criterion=gini, max_depth=15, min_samples_leaf=1, min_samples_split=5, n_estimators=20 \n",
      "[CV]  bootstrap=True, criterion=gini, max_depth=15, min_samples_leaf=1, min_samples_split=5, n_estimators=20, score=0.729, total=   0.0s\n",
      "[CV] bootstrap=True, criterion=gini, max_depth=15, min_samples_leaf=1, min_samples_split=5, n_estimators=50 \n",
      "[CV]  bootstrap=True, criterion=gini, max_depth=15, min_samples_leaf=1, min_samples_split=5, n_estimators=50, score=0.712, total=   0.1s\n",
      "[CV] bootstrap=True, criterion=gini, max_depth=15, min_samples_leaf=1, min_samples_split=5, n_estimators=50 \n",
      "[CV]  bootstrap=True, criterion=gini, max_depth=15, min_samples_leaf=1, min_samples_split=5, n_estimators=50, score=0.723, total=   0.1s\n",
      "[CV] bootstrap=True, criterion=gini, max_depth=15, min_samples_leaf=1, min_samples_split=5, n_estimators=50 \n",
      "[CV]  bootstrap=True, criterion=gini, max_depth=15, min_samples_leaf=1, min_samples_split=5, n_estimators=50, score=0.748, total=   0.1s\n",
      "[CV] bootstrap=True, criterion=gini, max_depth=15, min_samples_leaf=5, min_samples_split=2, n_estimators=5 \n",
      "[CV]  bootstrap=True, criterion=gini, max_depth=15, min_samples_leaf=5, min_samples_split=2, n_estimators=5, score=0.700, total=   0.0s\n",
      "[CV] bootstrap=True, criterion=gini, max_depth=15, min_samples_leaf=5, min_samples_split=2, n_estimators=5 \n",
      "[CV]  bootstrap=True, criterion=gini, max_depth=15, min_samples_leaf=5, min_samples_split=2, n_estimators=5, score=0.768, total=   0.0s\n",
      "[CV] bootstrap=True, criterion=gini, max_depth=15, min_samples_leaf=5, min_samples_split=2, n_estimators=5 \n",
      "[CV]  bootstrap=True, criterion=gini, max_depth=15, min_samples_leaf=5, min_samples_split=2, n_estimators=5, score=0.741, total=   0.0s\n",
      "[CV] bootstrap=True, criterion=gini, max_depth=15, min_samples_leaf=5, min_samples_split=2, n_estimators=10 \n",
      "[CV]  bootstrap=True, criterion=gini, max_depth=15, min_samples_leaf=5, min_samples_split=2, n_estimators=10, score=0.734, total=   0.0s\n",
      "[CV] bootstrap=True, criterion=gini, max_depth=15, min_samples_leaf=5, min_samples_split=2, n_estimators=10 \n",
      "[CV]  bootstrap=True, criterion=gini, max_depth=15, min_samples_leaf=5, min_samples_split=2, n_estimators=10, score=0.723, total=   0.0s\n",
      "[CV] bootstrap=True, criterion=gini, max_depth=15, min_samples_leaf=5, min_samples_split=2, n_estimators=10 \n",
      "[CV]  bootstrap=True, criterion=gini, max_depth=15, min_samples_leaf=5, min_samples_split=2, n_estimators=10, score=0.748, total=   0.0s\n",
      "[CV] bootstrap=True, criterion=gini, max_depth=15, min_samples_leaf=5, min_samples_split=2, n_estimators=20 \n",
      "[CV]  bootstrap=True, criterion=gini, max_depth=15, min_samples_leaf=5, min_samples_split=2, n_estimators=20, score=0.715, total=   0.0s\n",
      "[CV] bootstrap=True, criterion=gini, max_depth=15, min_samples_leaf=5, min_samples_split=2, n_estimators=20 \n",
      "[CV]  bootstrap=True, criterion=gini, max_depth=15, min_samples_leaf=5, min_samples_split=2, n_estimators=20, score=0.719, total=   0.0s\n",
      "[CV] bootstrap=True, criterion=gini, max_depth=15, min_samples_leaf=5, min_samples_split=2, n_estimators=20 \n",
      "[CV]  bootstrap=True, criterion=gini, max_depth=15, min_samples_leaf=5, min_samples_split=2, n_estimators=20, score=0.741, total=   0.0s\n",
      "[CV] bootstrap=True, criterion=gini, max_depth=15, min_samples_leaf=5, min_samples_split=2, n_estimators=50 \n",
      "[CV]  bootstrap=True, criterion=gini, max_depth=15, min_samples_leaf=5, min_samples_split=2, n_estimators=50, score=0.730, total=   0.1s\n",
      "[CV] bootstrap=True, criterion=gini, max_depth=15, min_samples_leaf=5, min_samples_split=2, n_estimators=50 \n",
      "[CV]  bootstrap=True, criterion=gini, max_depth=15, min_samples_leaf=5, min_samples_split=2, n_estimators=50, score=0.753, total=   0.1s\n",
      "[CV] bootstrap=True, criterion=gini, max_depth=15, min_samples_leaf=5, min_samples_split=2, n_estimators=50 \n",
      "[CV]  bootstrap=True, criterion=gini, max_depth=15, min_samples_leaf=5, min_samples_split=2, n_estimators=50, score=0.759, total=   0.1s\n",
      "[CV] bootstrap=True, criterion=gini, max_depth=15, min_samples_leaf=5, min_samples_split=5, n_estimators=5 \n",
      "[CV]  bootstrap=True, criterion=gini, max_depth=15, min_samples_leaf=5, min_samples_split=5, n_estimators=5, score=0.742, total=   0.0s\n",
      "[CV] bootstrap=True, criterion=gini, max_depth=15, min_samples_leaf=5, min_samples_split=5, n_estimators=5 \n",
      "[CV]  bootstrap=True, criterion=gini, max_depth=15, min_samples_leaf=5, min_samples_split=5, n_estimators=5, score=0.712, total=   0.0s\n",
      "[CV] bootstrap=True, criterion=gini, max_depth=15, min_samples_leaf=5, min_samples_split=5, n_estimators=5 \n",
      "[CV]  bootstrap=True, criterion=gini, max_depth=15, min_samples_leaf=5, min_samples_split=5, n_estimators=5, score=0.729, total=   0.0s\n",
      "[CV] bootstrap=True, criterion=gini, max_depth=15, min_samples_leaf=5, min_samples_split=5, n_estimators=10 \n",
      "[CV]  bootstrap=True, criterion=gini, max_depth=15, min_samples_leaf=5, min_samples_split=5, n_estimators=10, score=0.727, total=   0.0s\n",
      "[CV] bootstrap=True, criterion=gini, max_depth=15, min_samples_leaf=5, min_samples_split=5, n_estimators=10 \n",
      "[CV]  bootstrap=True, criterion=gini, max_depth=15, min_samples_leaf=5, min_samples_split=5, n_estimators=10, score=0.708, total=   0.0s\n",
      "[CV] bootstrap=True, criterion=gini, max_depth=15, min_samples_leaf=5, min_samples_split=5, n_estimators=10 \n",
      "[CV]  bootstrap=True, criterion=gini, max_depth=15, min_samples_leaf=5, min_samples_split=5, n_estimators=10, score=0.748, total=   0.0s\n",
      "[CV] bootstrap=True, criterion=gini, max_depth=15, min_samples_leaf=5, min_samples_split=5, n_estimators=20 \n",
      "[CV]  bootstrap=True, criterion=gini, max_depth=15, min_samples_leaf=5, min_samples_split=5, n_estimators=20, score=0.738, total=   0.0s\n",
      "[CV] bootstrap=True, criterion=gini, max_depth=15, min_samples_leaf=5, min_samples_split=5, n_estimators=20 \n",
      "[CV]  bootstrap=True, criterion=gini, max_depth=15, min_samples_leaf=5, min_samples_split=5, n_estimators=20, score=0.727, total=   0.0s\n",
      "[CV] bootstrap=True, criterion=gini, max_depth=15, min_samples_leaf=5, min_samples_split=5, n_estimators=20 \n",
      "[CV]  bootstrap=True, criterion=gini, max_depth=15, min_samples_leaf=5, min_samples_split=5, n_estimators=20, score=0.748, total=   0.0s\n",
      "[CV] bootstrap=True, criterion=gini, max_depth=15, min_samples_leaf=5, min_samples_split=5, n_estimators=50 \n"
     ]
    },
    {
     "name": "stdout",
     "output_type": "stream",
     "text": [
      "[CV]  bootstrap=True, criterion=gini, max_depth=15, min_samples_leaf=5, min_samples_split=5, n_estimators=50, score=0.749, total=   0.1s\n",
      "[CV] bootstrap=True, criterion=gini, max_depth=15, min_samples_leaf=5, min_samples_split=5, n_estimators=50 \n",
      "[CV]  bootstrap=True, criterion=gini, max_depth=15, min_samples_leaf=5, min_samples_split=5, n_estimators=50, score=0.749, total=   0.1s\n",
      "[CV] bootstrap=True, criterion=gini, max_depth=15, min_samples_leaf=5, min_samples_split=5, n_estimators=50 \n",
      "[CV]  bootstrap=True, criterion=gini, max_depth=15, min_samples_leaf=5, min_samples_split=5, n_estimators=50, score=0.752, total=   0.1s\n",
      "[CV] bootstrap=True, criterion=entropy, max_depth=None, min_samples_leaf=1, min_samples_split=2, n_estimators=5 \n",
      "[CV]  bootstrap=True, criterion=entropy, max_depth=None, min_samples_leaf=1, min_samples_split=2, n_estimators=5, score=0.674, total=   0.0s\n",
      "[CV] bootstrap=True, criterion=entropy, max_depth=None, min_samples_leaf=1, min_samples_split=2, n_estimators=5 \n",
      "[CV]  bootstrap=True, criterion=entropy, max_depth=None, min_samples_leaf=1, min_samples_split=2, n_estimators=5, score=0.663, total=   0.0s\n",
      "[CV] bootstrap=True, criterion=entropy, max_depth=None, min_samples_leaf=1, min_samples_split=2, n_estimators=5 \n",
      "[CV]  bootstrap=True, criterion=entropy, max_depth=None, min_samples_leaf=1, min_samples_split=2, n_estimators=5, score=0.722, total=   0.0s\n",
      "[CV] bootstrap=True, criterion=entropy, max_depth=None, min_samples_leaf=1, min_samples_split=2, n_estimators=10 \n",
      "[CV]  bootstrap=True, criterion=entropy, max_depth=None, min_samples_leaf=1, min_samples_split=2, n_estimators=10, score=0.708, total=   0.0s\n",
      "[CV] bootstrap=True, criterion=entropy, max_depth=None, min_samples_leaf=1, min_samples_split=2, n_estimators=10 \n",
      "[CV]  bootstrap=True, criterion=entropy, max_depth=None, min_samples_leaf=1, min_samples_split=2, n_estimators=10, score=0.734, total=   0.0s\n",
      "[CV] bootstrap=True, criterion=entropy, max_depth=None, min_samples_leaf=1, min_samples_split=2, n_estimators=10 \n",
      "[CV]  bootstrap=True, criterion=entropy, max_depth=None, min_samples_leaf=1, min_samples_split=2, n_estimators=10, score=0.726, total=   0.0s\n",
      "[CV] bootstrap=True, criterion=entropy, max_depth=None, min_samples_leaf=1, min_samples_split=2, n_estimators=20 \n",
      "[CV]  bootstrap=True, criterion=entropy, max_depth=None, min_samples_leaf=1, min_samples_split=2, n_estimators=20, score=0.712, total=   0.0s\n",
      "[CV] bootstrap=True, criterion=entropy, max_depth=None, min_samples_leaf=1, min_samples_split=2, n_estimators=20 \n",
      "[CV]  bootstrap=True, criterion=entropy, max_depth=None, min_samples_leaf=1, min_samples_split=2, n_estimators=20, score=0.723, total=   0.0s\n",
      "[CV] bootstrap=True, criterion=entropy, max_depth=None, min_samples_leaf=1, min_samples_split=2, n_estimators=20 \n",
      "[CV]  bootstrap=True, criterion=entropy, max_depth=None, min_samples_leaf=1, min_samples_split=2, n_estimators=20, score=0.729, total=   0.0s\n",
      "[CV] bootstrap=True, criterion=entropy, max_depth=None, min_samples_leaf=1, min_samples_split=2, n_estimators=50 \n",
      "[CV]  bootstrap=True, criterion=entropy, max_depth=None, min_samples_leaf=1, min_samples_split=2, n_estimators=50, score=0.712, total=   0.1s\n",
      "[CV] bootstrap=True, criterion=entropy, max_depth=None, min_samples_leaf=1, min_samples_split=2, n_estimators=50 \n",
      "[CV]  bootstrap=True, criterion=entropy, max_depth=None, min_samples_leaf=1, min_samples_split=2, n_estimators=50, score=0.723, total=   0.1s\n",
      "[CV] bootstrap=True, criterion=entropy, max_depth=None, min_samples_leaf=1, min_samples_split=2, n_estimators=50 \n",
      "[CV]  bootstrap=True, criterion=entropy, max_depth=None, min_samples_leaf=1, min_samples_split=2, n_estimators=50, score=0.714, total=   0.1s\n",
      "[CV] bootstrap=True, criterion=entropy, max_depth=None, min_samples_leaf=1, min_samples_split=5, n_estimators=5 \n",
      "[CV]  bootstrap=True, criterion=entropy, max_depth=None, min_samples_leaf=1, min_samples_split=5, n_estimators=5, score=0.697, total=   0.0s\n",
      "[CV] bootstrap=True, criterion=entropy, max_depth=None, min_samples_leaf=1, min_samples_split=5, n_estimators=5 \n",
      "[CV]  bootstrap=True, criterion=entropy, max_depth=None, min_samples_leaf=1, min_samples_split=5, n_estimators=5, score=0.663, total=   0.0s\n",
      "[CV] bootstrap=True, criterion=entropy, max_depth=None, min_samples_leaf=1, min_samples_split=5, n_estimators=5 \n",
      "[CV]  bootstrap=True, criterion=entropy, max_depth=None, min_samples_leaf=1, min_samples_split=5, n_estimators=5, score=0.688, total=   0.0s\n",
      "[CV] bootstrap=True, criterion=entropy, max_depth=None, min_samples_leaf=1, min_samples_split=5, n_estimators=10 \n",
      "[CV]  bootstrap=True, criterion=entropy, max_depth=None, min_samples_leaf=1, min_samples_split=5, n_estimators=10, score=0.715, total=   0.0s\n",
      "[CV] bootstrap=True, criterion=entropy, max_depth=None, min_samples_leaf=1, min_samples_split=5, n_estimators=10 \n",
      "[CV]  bootstrap=True, criterion=entropy, max_depth=None, min_samples_leaf=1, min_samples_split=5, n_estimators=10, score=0.730, total=   0.0s\n",
      "[CV] bootstrap=True, criterion=entropy, max_depth=None, min_samples_leaf=1, min_samples_split=5, n_estimators=10 \n",
      "[CV]  bootstrap=True, criterion=entropy, max_depth=None, min_samples_leaf=1, min_samples_split=5, n_estimators=10, score=0.703, total=   0.0s\n",
      "[CV] bootstrap=True, criterion=entropy, max_depth=None, min_samples_leaf=1, min_samples_split=5, n_estimators=20 \n",
      "[CV]  bootstrap=True, criterion=entropy, max_depth=None, min_samples_leaf=1, min_samples_split=5, n_estimators=20, score=0.723, total=   0.0s\n",
      "[CV] bootstrap=True, criterion=entropy, max_depth=None, min_samples_leaf=1, min_samples_split=5, n_estimators=20 \n",
      "[CV]  bootstrap=True, criterion=entropy, max_depth=None, min_samples_leaf=1, min_samples_split=5, n_estimators=20, score=0.742, total=   0.1s\n",
      "[CV] bootstrap=True, criterion=entropy, max_depth=None, min_samples_leaf=1, min_samples_split=5, n_estimators=20 \n",
      "[CV]  bootstrap=True, criterion=entropy, max_depth=None, min_samples_leaf=1, min_samples_split=5, n_estimators=20, score=0.744, total=   0.0s\n",
      "[CV] bootstrap=True, criterion=entropy, max_depth=None, min_samples_leaf=1, min_samples_split=5, n_estimators=50 \n",
      "[CV]  bootstrap=True, criterion=entropy, max_depth=None, min_samples_leaf=1, min_samples_split=5, n_estimators=50, score=0.704, total=   0.1s\n",
      "[CV] bootstrap=True, criterion=entropy, max_depth=None, min_samples_leaf=1, min_samples_split=5, n_estimators=50 \n",
      "[CV]  bootstrap=True, criterion=entropy, max_depth=None, min_samples_leaf=1, min_samples_split=5, n_estimators=50, score=0.723, total=   0.1s\n",
      "[CV] bootstrap=True, criterion=entropy, max_depth=None, min_samples_leaf=1, min_samples_split=5, n_estimators=50 \n",
      "[CV]  bootstrap=True, criterion=entropy, max_depth=None, min_samples_leaf=1, min_samples_split=5, n_estimators=50, score=0.756, total=   0.1s\n",
      "[CV] bootstrap=True, criterion=entropy, max_depth=None, min_samples_leaf=5, min_samples_split=2, n_estimators=5 \n",
      "[CV]  bootstrap=True, criterion=entropy, max_depth=None, min_samples_leaf=5, min_samples_split=2, n_estimators=5, score=0.712, total=   0.0s\n",
      "[CV] bootstrap=True, criterion=entropy, max_depth=None, min_samples_leaf=5, min_samples_split=2, n_estimators=5 \n",
      "[CV]  bootstrap=True, criterion=entropy, max_depth=None, min_samples_leaf=5, min_samples_split=2, n_estimators=5, score=0.693, total=   0.0s\n",
      "[CV] bootstrap=True, criterion=entropy, max_depth=None, min_samples_leaf=5, min_samples_split=2, n_estimators=5 \n",
      "[CV]  bootstrap=True, criterion=entropy, max_depth=None, min_samples_leaf=5, min_samples_split=2, n_estimators=5, score=0.741, total=   0.0s\n",
      "[CV] bootstrap=True, criterion=entropy, max_depth=None, min_samples_leaf=5, min_samples_split=2, n_estimators=10 \n",
      "[CV]  bootstrap=True, criterion=entropy, max_depth=None, min_samples_leaf=5, min_samples_split=2, n_estimators=10, score=0.715, total=   0.0s\n",
      "[CV] bootstrap=True, criterion=entropy, max_depth=None, min_samples_leaf=5, min_samples_split=2, n_estimators=10 \n",
      "[CV]  bootstrap=True, criterion=entropy, max_depth=None, min_samples_leaf=5, min_samples_split=2, n_estimators=10, score=0.715, total=   0.0s\n",
      "[CV] bootstrap=True, criterion=entropy, max_depth=None, min_samples_leaf=5, min_samples_split=2, n_estimators=10 \n",
      "[CV]  bootstrap=True, criterion=entropy, max_depth=None, min_samples_leaf=5, min_samples_split=2, n_estimators=10, score=0.737, total=   0.0s\n",
      "[CV] bootstrap=True, criterion=entropy, max_depth=None, min_samples_leaf=5, min_samples_split=2, n_estimators=20 \n",
      "[CV]  bootstrap=True, criterion=entropy, max_depth=None, min_samples_leaf=5, min_samples_split=2, n_estimators=20, score=0.730, total=   0.0s\n",
      "[CV] bootstrap=True, criterion=entropy, max_depth=None, min_samples_leaf=5, min_samples_split=2, n_estimators=20 \n",
      "[CV]  bootstrap=True, criterion=entropy, max_depth=None, min_samples_leaf=5, min_samples_split=2, n_estimators=20, score=0.727, total=   0.0s\n",
      "[CV] bootstrap=True, criterion=entropy, max_depth=None, min_samples_leaf=5, min_samples_split=2, n_estimators=20 \n"
     ]
    },
    {
     "name": "stdout",
     "output_type": "stream",
     "text": [
      "[CV]  bootstrap=True, criterion=entropy, max_depth=None, min_samples_leaf=5, min_samples_split=2, n_estimators=20, score=0.767, total=   0.0s\n",
      "[CV] bootstrap=True, criterion=entropy, max_depth=None, min_samples_leaf=5, min_samples_split=2, n_estimators=50 \n",
      "[CV]  bootstrap=True, criterion=entropy, max_depth=None, min_samples_leaf=5, min_samples_split=2, n_estimators=50, score=0.723, total=   0.1s\n",
      "[CV] bootstrap=True, criterion=entropy, max_depth=None, min_samples_leaf=5, min_samples_split=2, n_estimators=50 \n",
      "[CV]  bootstrap=True, criterion=entropy, max_depth=None, min_samples_leaf=5, min_samples_split=2, n_estimators=50, score=0.727, total=   0.1s\n",
      "[CV] bootstrap=True, criterion=entropy, max_depth=None, min_samples_leaf=5, min_samples_split=2, n_estimators=50 \n",
      "[CV]  bootstrap=True, criterion=entropy, max_depth=None, min_samples_leaf=5, min_samples_split=2, n_estimators=50, score=0.748, total=   0.1s\n",
      "[CV] bootstrap=True, criterion=entropy, max_depth=None, min_samples_leaf=5, min_samples_split=5, n_estimators=5 \n",
      "[CV]  bootstrap=True, criterion=entropy, max_depth=None, min_samples_leaf=5, min_samples_split=5, n_estimators=5, score=0.689, total=   0.0s\n",
      "[CV] bootstrap=True, criterion=entropy, max_depth=None, min_samples_leaf=5, min_samples_split=5, n_estimators=5 \n",
      "[CV]  bootstrap=True, criterion=entropy, max_depth=None, min_samples_leaf=5, min_samples_split=5, n_estimators=5, score=0.734, total=   0.0s\n",
      "[CV] bootstrap=True, criterion=entropy, max_depth=None, min_samples_leaf=5, min_samples_split=5, n_estimators=5 \n",
      "[CV]  bootstrap=True, criterion=entropy, max_depth=None, min_samples_leaf=5, min_samples_split=5, n_estimators=5, score=0.748, total=   0.0s\n",
      "[CV] bootstrap=True, criterion=entropy, max_depth=None, min_samples_leaf=5, min_samples_split=5, n_estimators=10 \n",
      "[CV]  bootstrap=True, criterion=entropy, max_depth=None, min_samples_leaf=5, min_samples_split=5, n_estimators=10, score=0.734, total=   0.1s\n",
      "[CV] bootstrap=True, criterion=entropy, max_depth=None, min_samples_leaf=5, min_samples_split=5, n_estimators=10 \n",
      "[CV]  bootstrap=True, criterion=entropy, max_depth=None, min_samples_leaf=5, min_samples_split=5, n_estimators=10, score=0.715, total=   0.0s\n",
      "[CV] bootstrap=True, criterion=entropy, max_depth=None, min_samples_leaf=5, min_samples_split=5, n_estimators=10 \n",
      "[CV]  bootstrap=True, criterion=entropy, max_depth=None, min_samples_leaf=5, min_samples_split=5, n_estimators=10, score=0.748, total=   0.0s\n",
      "[CV] bootstrap=True, criterion=entropy, max_depth=None, min_samples_leaf=5, min_samples_split=5, n_estimators=20 \n",
      "[CV]  bootstrap=True, criterion=entropy, max_depth=None, min_samples_leaf=5, min_samples_split=5, n_estimators=20, score=0.712, total=   0.0s\n",
      "[CV] bootstrap=True, criterion=entropy, max_depth=None, min_samples_leaf=5, min_samples_split=5, n_estimators=20 \n",
      "[CV]  bootstrap=True, criterion=entropy, max_depth=None, min_samples_leaf=5, min_samples_split=5, n_estimators=20, score=0.742, total=   0.0s\n",
      "[CV] bootstrap=True, criterion=entropy, max_depth=None, min_samples_leaf=5, min_samples_split=5, n_estimators=20 \n",
      "[CV]  bootstrap=True, criterion=entropy, max_depth=None, min_samples_leaf=5, min_samples_split=5, n_estimators=20, score=0.744, total=   0.0s\n",
      "[CV] bootstrap=True, criterion=entropy, max_depth=None, min_samples_leaf=5, min_samples_split=5, n_estimators=50 \n",
      "[CV]  bootstrap=True, criterion=entropy, max_depth=None, min_samples_leaf=5, min_samples_split=5, n_estimators=50, score=0.742, total=   0.1s\n",
      "[CV] bootstrap=True, criterion=entropy, max_depth=None, min_samples_leaf=5, min_samples_split=5, n_estimators=50 \n",
      "[CV]  bootstrap=True, criterion=entropy, max_depth=None, min_samples_leaf=5, min_samples_split=5, n_estimators=50, score=0.745, total=   0.1s\n",
      "[CV] bootstrap=True, criterion=entropy, max_depth=None, min_samples_leaf=5, min_samples_split=5, n_estimators=50 \n",
      "[CV]  bootstrap=True, criterion=entropy, max_depth=None, min_samples_leaf=5, min_samples_split=5, n_estimators=50, score=0.756, total=   0.1s\n",
      "[CV] bootstrap=True, criterion=entropy, max_depth=5, min_samples_leaf=1, min_samples_split=2, n_estimators=5 \n",
      "[CV]  bootstrap=True, criterion=entropy, max_depth=5, min_samples_leaf=1, min_samples_split=2, n_estimators=5, score=0.697, total=   0.0s\n",
      "[CV] bootstrap=True, criterion=entropy, max_depth=5, min_samples_leaf=1, min_samples_split=2, n_estimators=5 \n",
      "[CV]  bootstrap=True, criterion=entropy, max_depth=5, min_samples_leaf=1, min_samples_split=2, n_estimators=5, score=0.700, total=   0.0s\n",
      "[CV] bootstrap=True, criterion=entropy, max_depth=5, min_samples_leaf=1, min_samples_split=2, n_estimators=5 \n",
      "[CV]  bootstrap=True, criterion=entropy, max_depth=5, min_samples_leaf=1, min_samples_split=2, n_estimators=5, score=0.688, total=   0.0s\n",
      "[CV] bootstrap=True, criterion=entropy, max_depth=5, min_samples_leaf=1, min_samples_split=2, n_estimators=10 \n",
      "[CV]  bootstrap=True, criterion=entropy, max_depth=5, min_samples_leaf=1, min_samples_split=2, n_estimators=10, score=0.712, total=   0.0s\n",
      "[CV] bootstrap=True, criterion=entropy, max_depth=5, min_samples_leaf=1, min_samples_split=2, n_estimators=10 \n",
      "[CV]  bootstrap=True, criterion=entropy, max_depth=5, min_samples_leaf=1, min_samples_split=2, n_estimators=10, score=0.719, total=   0.0s\n",
      "[CV] bootstrap=True, criterion=entropy, max_depth=5, min_samples_leaf=1, min_samples_split=2, n_estimators=10 \n",
      "[CV]  bootstrap=True, criterion=entropy, max_depth=5, min_samples_leaf=1, min_samples_split=2, n_estimators=10, score=0.733, total=   0.0s\n",
      "[CV] bootstrap=True, criterion=entropy, max_depth=5, min_samples_leaf=1, min_samples_split=2, n_estimators=20 \n",
      "[CV]  bootstrap=True, criterion=entropy, max_depth=5, min_samples_leaf=1, min_samples_split=2, n_estimators=20, score=0.723, total=   0.0s\n",
      "[CV] bootstrap=True, criterion=entropy, max_depth=5, min_samples_leaf=1, min_samples_split=2, n_estimators=20 \n",
      "[CV]  bootstrap=True, criterion=entropy, max_depth=5, min_samples_leaf=1, min_samples_split=2, n_estimators=20, score=0.738, total=   0.0s\n",
      "[CV] bootstrap=True, criterion=entropy, max_depth=5, min_samples_leaf=1, min_samples_split=2, n_estimators=20 \n",
      "[CV]  bootstrap=True, criterion=entropy, max_depth=5, min_samples_leaf=1, min_samples_split=2, n_estimators=20, score=0.752, total=   0.0s\n",
      "[CV] bootstrap=True, criterion=entropy, max_depth=5, min_samples_leaf=1, min_samples_split=2, n_estimators=50 \n",
      "[CV]  bootstrap=True, criterion=entropy, max_depth=5, min_samples_leaf=1, min_samples_split=2, n_estimators=50, score=0.723, total=   0.1s\n",
      "[CV] bootstrap=True, criterion=entropy, max_depth=5, min_samples_leaf=1, min_samples_split=2, n_estimators=50 \n",
      "[CV]  bootstrap=True, criterion=entropy, max_depth=5, min_samples_leaf=1, min_samples_split=2, n_estimators=50, score=0.738, total=   0.1s\n",
      "[CV] bootstrap=True, criterion=entropy, max_depth=5, min_samples_leaf=1, min_samples_split=2, n_estimators=50 \n",
      "[CV]  bootstrap=True, criterion=entropy, max_depth=5, min_samples_leaf=1, min_samples_split=2, n_estimators=50, score=0.748, total=   0.1s\n",
      "[CV] bootstrap=True, criterion=entropy, max_depth=5, min_samples_leaf=1, min_samples_split=5, n_estimators=5 \n",
      "[CV]  bootstrap=True, criterion=entropy, max_depth=5, min_samples_leaf=1, min_samples_split=5, n_estimators=5, score=0.719, total=   0.0s\n",
      "[CV] bootstrap=True, criterion=entropy, max_depth=5, min_samples_leaf=1, min_samples_split=5, n_estimators=5 \n",
      "[CV]  bootstrap=True, criterion=entropy, max_depth=5, min_samples_leaf=1, min_samples_split=5, n_estimators=5, score=0.723, total=   0.0s\n",
      "[CV] bootstrap=True, criterion=entropy, max_depth=5, min_samples_leaf=1, min_samples_split=5, n_estimators=5 \n",
      "[CV]  bootstrap=True, criterion=entropy, max_depth=5, min_samples_leaf=1, min_samples_split=5, n_estimators=5, score=0.718, total=   0.0s\n",
      "[CV] bootstrap=True, criterion=entropy, max_depth=5, min_samples_leaf=1, min_samples_split=5, n_estimators=10 \n",
      "[CV]  bootstrap=True, criterion=entropy, max_depth=5, min_samples_leaf=1, min_samples_split=5, n_estimators=10, score=0.723, total=   0.0s\n",
      "[CV] bootstrap=True, criterion=entropy, max_depth=5, min_samples_leaf=1, min_samples_split=5, n_estimators=10 \n",
      "[CV]  bootstrap=True, criterion=entropy, max_depth=5, min_samples_leaf=1, min_samples_split=5, n_estimators=10, score=0.723, total=   0.0s\n",
      "[CV] bootstrap=True, criterion=entropy, max_depth=5, min_samples_leaf=1, min_samples_split=5, n_estimators=10 \n",
      "[CV]  bootstrap=True, criterion=entropy, max_depth=5, min_samples_leaf=1, min_samples_split=5, n_estimators=10, score=0.733, total=   0.0s\n",
      "[CV] bootstrap=True, criterion=entropy, max_depth=5, min_samples_leaf=1, min_samples_split=5, n_estimators=20 \n",
      "[CV]  bootstrap=True, criterion=entropy, max_depth=5, min_samples_leaf=1, min_samples_split=5, n_estimators=20, score=0.734, total=   0.0s\n",
      "[CV] bootstrap=True, criterion=entropy, max_depth=5, min_samples_leaf=1, min_samples_split=5, n_estimators=20 \n",
      "[CV]  bootstrap=True, criterion=entropy, max_depth=5, min_samples_leaf=1, min_samples_split=5, n_estimators=20, score=0.738, total=   0.0s\n",
      "[CV] bootstrap=True, criterion=entropy, max_depth=5, min_samples_leaf=1, min_samples_split=5, n_estimators=20 \n",
      "[CV]  bootstrap=True, criterion=entropy, max_depth=5, min_samples_leaf=1, min_samples_split=5, n_estimators=20, score=0.733, total=   0.0s\n",
      "[CV] bootstrap=True, criterion=entropy, max_depth=5, min_samples_leaf=1, min_samples_split=5, n_estimators=50 \n"
     ]
    },
    {
     "name": "stdout",
     "output_type": "stream",
     "text": [
      "[CV]  bootstrap=True, criterion=entropy, max_depth=5, min_samples_leaf=1, min_samples_split=5, n_estimators=50, score=0.730, total=   0.1s\n",
      "[CV] bootstrap=True, criterion=entropy, max_depth=5, min_samples_leaf=1, min_samples_split=5, n_estimators=50 \n",
      "[CV]  bootstrap=True, criterion=entropy, max_depth=5, min_samples_leaf=1, min_samples_split=5, n_estimators=50, score=0.742, total=   0.1s\n",
      "[CV] bootstrap=True, criterion=entropy, max_depth=5, min_samples_leaf=1, min_samples_split=5, n_estimators=50 \n",
      "[CV]  bootstrap=True, criterion=entropy, max_depth=5, min_samples_leaf=1, min_samples_split=5, n_estimators=50, score=0.741, total=   0.1s\n",
      "[CV] bootstrap=True, criterion=entropy, max_depth=5, min_samples_leaf=5, min_samples_split=2, n_estimators=5 \n",
      "[CV]  bootstrap=True, criterion=entropy, max_depth=5, min_samples_leaf=5, min_samples_split=2, n_estimators=5, score=0.712, total=   0.0s\n",
      "[CV] bootstrap=True, criterion=entropy, max_depth=5, min_samples_leaf=5, min_samples_split=2, n_estimators=5 \n",
      "[CV]  bootstrap=True, criterion=entropy, max_depth=5, min_samples_leaf=5, min_samples_split=2, n_estimators=5, score=0.723, total=   0.0s\n",
      "[CV] bootstrap=True, criterion=entropy, max_depth=5, min_samples_leaf=5, min_samples_split=2, n_estimators=5 \n",
      "[CV]  bootstrap=True, criterion=entropy, max_depth=5, min_samples_leaf=5, min_samples_split=2, n_estimators=5, score=0.744, total=   0.0s\n",
      "[CV] bootstrap=True, criterion=entropy, max_depth=5, min_samples_leaf=5, min_samples_split=2, n_estimators=10 \n",
      "[CV]  bootstrap=True, criterion=entropy, max_depth=5, min_samples_leaf=5, min_samples_split=2, n_estimators=10, score=0.723, total=   0.0s\n",
      "[CV] bootstrap=True, criterion=entropy, max_depth=5, min_samples_leaf=5, min_samples_split=2, n_estimators=10 \n",
      "[CV]  bootstrap=True, criterion=entropy, max_depth=5, min_samples_leaf=5, min_samples_split=2, n_estimators=10, score=0.723, total=   0.0s\n",
      "[CV] bootstrap=True, criterion=entropy, max_depth=5, min_samples_leaf=5, min_samples_split=2, n_estimators=10 \n",
      "[CV]  bootstrap=True, criterion=entropy, max_depth=5, min_samples_leaf=5, min_samples_split=2, n_estimators=10, score=0.733, total=   0.0s\n",
      "[CV] bootstrap=True, criterion=entropy, max_depth=5, min_samples_leaf=5, min_samples_split=2, n_estimators=20 \n",
      "[CV]  bootstrap=True, criterion=entropy, max_depth=5, min_samples_leaf=5, min_samples_split=2, n_estimators=20, score=0.723, total=   0.0s\n",
      "[CV] bootstrap=True, criterion=entropy, max_depth=5, min_samples_leaf=5, min_samples_split=2, n_estimators=20 \n",
      "[CV]  bootstrap=True, criterion=entropy, max_depth=5, min_samples_leaf=5, min_samples_split=2, n_estimators=20, score=0.715, total=   0.0s\n",
      "[CV] bootstrap=True, criterion=entropy, max_depth=5, min_samples_leaf=5, min_samples_split=2, n_estimators=20 \n",
      "[CV]  bootstrap=True, criterion=entropy, max_depth=5, min_samples_leaf=5, min_samples_split=2, n_estimators=20, score=0.733, total=   0.0s\n",
      "[CV] bootstrap=True, criterion=entropy, max_depth=5, min_samples_leaf=5, min_samples_split=2, n_estimators=50 \n",
      "[CV]  bootstrap=True, criterion=entropy, max_depth=5, min_samples_leaf=5, min_samples_split=2, n_estimators=50, score=0.738, total=   0.1s\n",
      "[CV] bootstrap=True, criterion=entropy, max_depth=5, min_samples_leaf=5, min_samples_split=2, n_estimators=50 \n",
      "[CV]  bootstrap=True, criterion=entropy, max_depth=5, min_samples_leaf=5, min_samples_split=2, n_estimators=50, score=0.738, total=   0.1s\n",
      "[CV] bootstrap=True, criterion=entropy, max_depth=5, min_samples_leaf=5, min_samples_split=2, n_estimators=50 \n",
      "[CV]  bootstrap=True, criterion=entropy, max_depth=5, min_samples_leaf=5, min_samples_split=2, n_estimators=50, score=0.744, total=   0.1s\n",
      "[CV] bootstrap=True, criterion=entropy, max_depth=5, min_samples_leaf=5, min_samples_split=5, n_estimators=5 \n",
      "[CV]  bootstrap=True, criterion=entropy, max_depth=5, min_samples_leaf=5, min_samples_split=5, n_estimators=5, score=0.697, total=   0.0s\n",
      "[CV] bootstrap=True, criterion=entropy, max_depth=5, min_samples_leaf=5, min_samples_split=5, n_estimators=5 \n",
      "[CV]  bootstrap=True, criterion=entropy, max_depth=5, min_samples_leaf=5, min_samples_split=5, n_estimators=5, score=0.749, total=   0.0s\n",
      "[CV] bootstrap=True, criterion=entropy, max_depth=5, min_samples_leaf=5, min_samples_split=5, n_estimators=5 \n",
      "[CV]  bootstrap=True, criterion=entropy, max_depth=5, min_samples_leaf=5, min_samples_split=5, n_estimators=5, score=0.763, total=   0.0s\n",
      "[CV] bootstrap=True, criterion=entropy, max_depth=5, min_samples_leaf=5, min_samples_split=5, n_estimators=10 \n",
      "[CV]  bootstrap=True, criterion=entropy, max_depth=5, min_samples_leaf=5, min_samples_split=5, n_estimators=10, score=0.723, total=   0.0s\n",
      "[CV] bootstrap=True, criterion=entropy, max_depth=5, min_samples_leaf=5, min_samples_split=5, n_estimators=10 \n",
      "[CV]  bootstrap=True, criterion=entropy, max_depth=5, min_samples_leaf=5, min_samples_split=5, n_estimators=10, score=0.727, total=   0.0s\n",
      "[CV] bootstrap=True, criterion=entropy, max_depth=5, min_samples_leaf=5, min_samples_split=5, n_estimators=10 \n",
      "[CV]  bootstrap=True, criterion=entropy, max_depth=5, min_samples_leaf=5, min_samples_split=5, n_estimators=10, score=0.737, total=   0.0s\n",
      "[CV] bootstrap=True, criterion=entropy, max_depth=5, min_samples_leaf=5, min_samples_split=5, n_estimators=20 \n",
      "[CV]  bootstrap=True, criterion=entropy, max_depth=5, min_samples_leaf=5, min_samples_split=5, n_estimators=20, score=0.723, total=   0.0s\n",
      "[CV] bootstrap=True, criterion=entropy, max_depth=5, min_samples_leaf=5, min_samples_split=5, n_estimators=20 \n",
      "[CV]  bootstrap=True, criterion=entropy, max_depth=5, min_samples_leaf=5, min_samples_split=5, n_estimators=20, score=0.734, total=   0.0s\n",
      "[CV] bootstrap=True, criterion=entropy, max_depth=5, min_samples_leaf=5, min_samples_split=5, n_estimators=20 \n",
      "[CV]  bootstrap=True, criterion=entropy, max_depth=5, min_samples_leaf=5, min_samples_split=5, n_estimators=20, score=0.748, total=   0.0s\n",
      "[CV] bootstrap=True, criterion=entropy, max_depth=5, min_samples_leaf=5, min_samples_split=5, n_estimators=50 \n",
      "[CV]  bootstrap=True, criterion=entropy, max_depth=5, min_samples_leaf=5, min_samples_split=5, n_estimators=50, score=0.719, total=   0.1s\n",
      "[CV] bootstrap=True, criterion=entropy, max_depth=5, min_samples_leaf=5, min_samples_split=5, n_estimators=50 \n",
      "[CV]  bootstrap=True, criterion=entropy, max_depth=5, min_samples_leaf=5, min_samples_split=5, n_estimators=50, score=0.719, total=   0.1s\n",
      "[CV] bootstrap=True, criterion=entropy, max_depth=5, min_samples_leaf=5, min_samples_split=5, n_estimators=50 \n",
      "[CV]  bootstrap=True, criterion=entropy, max_depth=5, min_samples_leaf=5, min_samples_split=5, n_estimators=50, score=0.741, total=   0.1s\n",
      "[CV] bootstrap=True, criterion=entropy, max_depth=10, min_samples_leaf=1, min_samples_split=2, n_estimators=5 \n",
      "[CV]  bootstrap=True, criterion=entropy, max_depth=10, min_samples_leaf=1, min_samples_split=2, n_estimators=5, score=0.689, total=   0.0s\n",
      "[CV] bootstrap=True, criterion=entropy, max_depth=10, min_samples_leaf=1, min_samples_split=2, n_estimators=5 \n",
      "[CV]  bootstrap=True, criterion=entropy, max_depth=10, min_samples_leaf=1, min_samples_split=2, n_estimators=5, score=0.674, total=   0.0s\n",
      "[CV] bootstrap=True, criterion=entropy, max_depth=10, min_samples_leaf=1, min_samples_split=2, n_estimators=5 \n",
      "[CV]  bootstrap=True, criterion=entropy, max_depth=10, min_samples_leaf=1, min_samples_split=2, n_estimators=5, score=0.699, total=   0.0s\n",
      "[CV] bootstrap=True, criterion=entropy, max_depth=10, min_samples_leaf=1, min_samples_split=2, n_estimators=10 \n",
      "[CV]  bootstrap=True, criterion=entropy, max_depth=10, min_samples_leaf=1, min_samples_split=2, n_estimators=10, score=0.697, total=   0.0s\n",
      "[CV] bootstrap=True, criterion=entropy, max_depth=10, min_samples_leaf=1, min_samples_split=2, n_estimators=10 \n",
      "[CV]  bootstrap=True, criterion=entropy, max_depth=10, min_samples_leaf=1, min_samples_split=2, n_estimators=10, score=0.693, total=   0.0s\n",
      "[CV] bootstrap=True, criterion=entropy, max_depth=10, min_samples_leaf=1, min_samples_split=2, n_estimators=10 \n",
      "[CV]  bootstrap=True, criterion=entropy, max_depth=10, min_samples_leaf=1, min_samples_split=2, n_estimators=10, score=0.722, total=   0.0s\n",
      "[CV] bootstrap=True, criterion=entropy, max_depth=10, min_samples_leaf=1, min_samples_split=2, n_estimators=20 \n",
      "[CV]  bootstrap=True, criterion=entropy, max_depth=10, min_samples_leaf=1, min_samples_split=2, n_estimators=20, score=0.719, total=   0.0s\n",
      "[CV] bootstrap=True, criterion=entropy, max_depth=10, min_samples_leaf=1, min_samples_split=2, n_estimators=20 \n",
      "[CV]  bootstrap=True, criterion=entropy, max_depth=10, min_samples_leaf=1, min_samples_split=2, n_estimators=20, score=0.723, total=   0.0s\n",
      "[CV] bootstrap=True, criterion=entropy, max_depth=10, min_samples_leaf=1, min_samples_split=2, n_estimators=20 \n"
     ]
    },
    {
     "name": "stdout",
     "output_type": "stream",
     "text": [
      "[CV]  bootstrap=True, criterion=entropy, max_depth=10, min_samples_leaf=1, min_samples_split=2, n_estimators=20, score=0.752, total=   0.0s\n",
      "[CV] bootstrap=True, criterion=entropy, max_depth=10, min_samples_leaf=1, min_samples_split=2, n_estimators=50 \n",
      "[CV]  bootstrap=True, criterion=entropy, max_depth=10, min_samples_leaf=1, min_samples_split=2, n_estimators=50, score=0.734, total=   0.1s\n",
      "[CV] bootstrap=True, criterion=entropy, max_depth=10, min_samples_leaf=1, min_samples_split=2, n_estimators=50 \n",
      "[CV]  bootstrap=True, criterion=entropy, max_depth=10, min_samples_leaf=1, min_samples_split=2, n_estimators=50, score=0.727, total=   0.1s\n",
      "[CV] bootstrap=True, criterion=entropy, max_depth=10, min_samples_leaf=1, min_samples_split=2, n_estimators=50 \n",
      "[CV]  bootstrap=True, criterion=entropy, max_depth=10, min_samples_leaf=1, min_samples_split=2, n_estimators=50, score=0.763, total=   0.1s\n",
      "[CV] bootstrap=True, criterion=entropy, max_depth=10, min_samples_leaf=1, min_samples_split=5, n_estimators=5 \n",
      "[CV]  bootstrap=True, criterion=entropy, max_depth=10, min_samples_leaf=1, min_samples_split=5, n_estimators=5, score=0.655, total=   0.0s\n",
      "[CV] bootstrap=True, criterion=entropy, max_depth=10, min_samples_leaf=1, min_samples_split=5, n_estimators=5 \n",
      "[CV]  bootstrap=True, criterion=entropy, max_depth=10, min_samples_leaf=1, min_samples_split=5, n_estimators=5, score=0.685, total=   0.0s\n",
      "[CV] bootstrap=True, criterion=entropy, max_depth=10, min_samples_leaf=1, min_samples_split=5, n_estimators=5 \n",
      "[CV]  bootstrap=True, criterion=entropy, max_depth=10, min_samples_leaf=1, min_samples_split=5, n_estimators=5, score=0.744, total=   0.0s\n",
      "[CV] bootstrap=True, criterion=entropy, max_depth=10, min_samples_leaf=1, min_samples_split=5, n_estimators=10 \n",
      "[CV]  bootstrap=True, criterion=entropy, max_depth=10, min_samples_leaf=1, min_samples_split=5, n_estimators=10, score=0.697, total=   0.0s\n",
      "[CV] bootstrap=True, criterion=entropy, max_depth=10, min_samples_leaf=1, min_samples_split=5, n_estimators=10 \n",
      "[CV]  bootstrap=True, criterion=entropy, max_depth=10, min_samples_leaf=1, min_samples_split=5, n_estimators=10, score=0.730, total=   0.0s\n",
      "[CV] bootstrap=True, criterion=entropy, max_depth=10, min_samples_leaf=1, min_samples_split=5, n_estimators=10 \n",
      "[CV]  bootstrap=True, criterion=entropy, max_depth=10, min_samples_leaf=1, min_samples_split=5, n_estimators=10, score=0.737, total=   0.0s\n",
      "[CV] bootstrap=True, criterion=entropy, max_depth=10, min_samples_leaf=1, min_samples_split=5, n_estimators=20 \n",
      "[CV]  bootstrap=True, criterion=entropy, max_depth=10, min_samples_leaf=1, min_samples_split=5, n_estimators=20, score=0.727, total=   0.0s\n",
      "[CV] bootstrap=True, criterion=entropy, max_depth=10, min_samples_leaf=1, min_samples_split=5, n_estimators=20 \n",
      "[CV]  bootstrap=True, criterion=entropy, max_depth=10, min_samples_leaf=1, min_samples_split=5, n_estimators=20, score=0.727, total=   0.0s\n",
      "[CV] bootstrap=True, criterion=entropy, max_depth=10, min_samples_leaf=1, min_samples_split=5, n_estimators=20 \n",
      "[CV]  bootstrap=True, criterion=entropy, max_depth=10, min_samples_leaf=1, min_samples_split=5, n_estimators=20, score=0.778, total=   0.0s\n",
      "[CV] bootstrap=True, criterion=entropy, max_depth=10, min_samples_leaf=1, min_samples_split=5, n_estimators=50 \n",
      "[CV]  bootstrap=True, criterion=entropy, max_depth=10, min_samples_leaf=1, min_samples_split=5, n_estimators=50, score=0.712, total=   0.1s\n",
      "[CV] bootstrap=True, criterion=entropy, max_depth=10, min_samples_leaf=1, min_samples_split=5, n_estimators=50 \n",
      "[CV]  bootstrap=True, criterion=entropy, max_depth=10, min_samples_leaf=1, min_samples_split=5, n_estimators=50, score=0.749, total=   0.1s\n",
      "[CV] bootstrap=True, criterion=entropy, max_depth=10, min_samples_leaf=1, min_samples_split=5, n_estimators=50 \n",
      "[CV]  bootstrap=True, criterion=entropy, max_depth=10, min_samples_leaf=1, min_samples_split=5, n_estimators=50, score=0.737, total=   0.1s\n",
      "[CV] bootstrap=True, criterion=entropy, max_depth=10, min_samples_leaf=5, min_samples_split=2, n_estimators=5 \n",
      "[CV]  bootstrap=True, criterion=entropy, max_depth=10, min_samples_leaf=5, min_samples_split=2, n_estimators=5, score=0.704, total=   0.0s\n",
      "[CV] bootstrap=True, criterion=entropy, max_depth=10, min_samples_leaf=5, min_samples_split=2, n_estimators=5 \n",
      "[CV]  bootstrap=True, criterion=entropy, max_depth=10, min_samples_leaf=5, min_samples_split=2, n_estimators=5, score=0.727, total=   0.0s\n",
      "[CV] bootstrap=True, criterion=entropy, max_depth=10, min_samples_leaf=5, min_samples_split=2, n_estimators=5 \n",
      "[CV]  bootstrap=True, criterion=entropy, max_depth=10, min_samples_leaf=5, min_samples_split=2, n_estimators=5, score=0.707, total=   0.0s\n",
      "[CV] bootstrap=True, criterion=entropy, max_depth=10, min_samples_leaf=5, min_samples_split=2, n_estimators=10 \n",
      "[CV]  bootstrap=True, criterion=entropy, max_depth=10, min_samples_leaf=5, min_samples_split=2, n_estimators=10, score=0.738, total=   0.0s\n",
      "[CV] bootstrap=True, criterion=entropy, max_depth=10, min_samples_leaf=5, min_samples_split=2, n_estimators=10 \n",
      "[CV]  bootstrap=True, criterion=entropy, max_depth=10, min_samples_leaf=5, min_samples_split=2, n_estimators=10, score=0.730, total=   0.0s\n",
      "[CV] bootstrap=True, criterion=entropy, max_depth=10, min_samples_leaf=5, min_samples_split=2, n_estimators=10 \n",
      "[CV]  bootstrap=True, criterion=entropy, max_depth=10, min_samples_leaf=5, min_samples_split=2, n_estimators=10, score=0.699, total=   0.0s\n",
      "[CV] bootstrap=True, criterion=entropy, max_depth=10, min_samples_leaf=5, min_samples_split=2, n_estimators=20 \n",
      "[CV]  bootstrap=True, criterion=entropy, max_depth=10, min_samples_leaf=5, min_samples_split=2, n_estimators=20, score=0.745, total=   0.0s\n",
      "[CV] bootstrap=True, criterion=entropy, max_depth=10, min_samples_leaf=5, min_samples_split=2, n_estimators=20 \n",
      "[CV]  bootstrap=True, criterion=entropy, max_depth=10, min_samples_leaf=5, min_samples_split=2, n_estimators=20, score=0.727, total=   0.0s\n",
      "[CV] bootstrap=True, criterion=entropy, max_depth=10, min_samples_leaf=5, min_samples_split=2, n_estimators=20 \n",
      "[CV]  bootstrap=True, criterion=entropy, max_depth=10, min_samples_leaf=5, min_samples_split=2, n_estimators=20, score=0.722, total=   0.0s\n",
      "[CV] bootstrap=True, criterion=entropy, max_depth=10, min_samples_leaf=5, min_samples_split=2, n_estimators=50 \n",
      "[CV]  bootstrap=True, criterion=entropy, max_depth=10, min_samples_leaf=5, min_samples_split=2, n_estimators=50, score=0.734, total=   0.1s\n",
      "[CV] bootstrap=True, criterion=entropy, max_depth=10, min_samples_leaf=5, min_samples_split=2, n_estimators=50 \n",
      "[CV]  bootstrap=True, criterion=entropy, max_depth=10, min_samples_leaf=5, min_samples_split=2, n_estimators=50, score=0.730, total=   0.1s\n",
      "[CV] bootstrap=True, criterion=entropy, max_depth=10, min_samples_leaf=5, min_samples_split=2, n_estimators=50 \n",
      "[CV]  bootstrap=True, criterion=entropy, max_depth=10, min_samples_leaf=5, min_samples_split=2, n_estimators=50, score=0.744, total=   0.1s\n",
      "[CV] bootstrap=True, criterion=entropy, max_depth=10, min_samples_leaf=5, min_samples_split=5, n_estimators=5 \n",
      "[CV]  bootstrap=True, criterion=entropy, max_depth=10, min_samples_leaf=5, min_samples_split=5, n_estimators=5, score=0.704, total=   0.0s\n",
      "[CV] bootstrap=True, criterion=entropy, max_depth=10, min_samples_leaf=5, min_samples_split=5, n_estimators=5 \n",
      "[CV]  bootstrap=True, criterion=entropy, max_depth=10, min_samples_leaf=5, min_samples_split=5, n_estimators=5, score=0.682, total=   0.0s\n",
      "[CV] bootstrap=True, criterion=entropy, max_depth=10, min_samples_leaf=5, min_samples_split=5, n_estimators=5 \n",
      "[CV]  bootstrap=True, criterion=entropy, max_depth=10, min_samples_leaf=5, min_samples_split=5, n_estimators=5, score=0.744, total=   0.0s\n",
      "[CV] bootstrap=True, criterion=entropy, max_depth=10, min_samples_leaf=5, min_samples_split=5, n_estimators=10 \n",
      "[CV]  bootstrap=True, criterion=entropy, max_depth=10, min_samples_leaf=5, min_samples_split=5, n_estimators=10, score=0.723, total=   0.0s\n",
      "[CV] bootstrap=True, criterion=entropy, max_depth=10, min_samples_leaf=5, min_samples_split=5, n_estimators=10 \n",
      "[CV]  bootstrap=True, criterion=entropy, max_depth=10, min_samples_leaf=5, min_samples_split=5, n_estimators=10, score=0.719, total=   0.0s\n",
      "[CV] bootstrap=True, criterion=entropy, max_depth=10, min_samples_leaf=5, min_samples_split=5, n_estimators=10 \n",
      "[CV]  bootstrap=True, criterion=entropy, max_depth=10, min_samples_leaf=5, min_samples_split=5, n_estimators=10, score=0.744, total=   0.0s\n",
      "[CV] bootstrap=True, criterion=entropy, max_depth=10, min_samples_leaf=5, min_samples_split=5, n_estimators=20 \n",
      "[CV]  bootstrap=True, criterion=entropy, max_depth=10, min_samples_leaf=5, min_samples_split=5, n_estimators=20, score=0.738, total=   0.0s\n",
      "[CV] bootstrap=True, criterion=entropy, max_depth=10, min_samples_leaf=5, min_samples_split=5, n_estimators=20 \n",
      "[CV]  bootstrap=True, criterion=entropy, max_depth=10, min_samples_leaf=5, min_samples_split=5, n_estimators=20, score=0.745, total=   0.1s\n",
      "[CV] bootstrap=True, criterion=entropy, max_depth=10, min_samples_leaf=5, min_samples_split=5, n_estimators=20 \n"
     ]
    },
    {
     "name": "stdout",
     "output_type": "stream",
     "text": [
      "[CV]  bootstrap=True, criterion=entropy, max_depth=10, min_samples_leaf=5, min_samples_split=5, n_estimators=20, score=0.737, total=   0.0s\n",
      "[CV] bootstrap=True, criterion=entropy, max_depth=10, min_samples_leaf=5, min_samples_split=5, n_estimators=50 \n",
      "[CV]  bootstrap=True, criterion=entropy, max_depth=10, min_samples_leaf=5, min_samples_split=5, n_estimators=50, score=0.730, total=   0.1s\n",
      "[CV] bootstrap=True, criterion=entropy, max_depth=10, min_samples_leaf=5, min_samples_split=5, n_estimators=50 \n",
      "[CV]  bootstrap=True, criterion=entropy, max_depth=10, min_samples_leaf=5, min_samples_split=5, n_estimators=50, score=0.723, total=   0.1s\n",
      "[CV] bootstrap=True, criterion=entropy, max_depth=10, min_samples_leaf=5, min_samples_split=5, n_estimators=50 \n",
      "[CV]  bootstrap=True, criterion=entropy, max_depth=10, min_samples_leaf=5, min_samples_split=5, n_estimators=50, score=0.748, total=   0.1s\n",
      "[CV] bootstrap=True, criterion=entropy, max_depth=15, min_samples_leaf=1, min_samples_split=2, n_estimators=5 \n",
      "[CV]  bootstrap=True, criterion=entropy, max_depth=15, min_samples_leaf=1, min_samples_split=2, n_estimators=5, score=0.704, total=   0.0s\n",
      "[CV] bootstrap=True, criterion=entropy, max_depth=15, min_samples_leaf=1, min_samples_split=2, n_estimators=5 \n",
      "[CV]  bootstrap=True, criterion=entropy, max_depth=15, min_samples_leaf=1, min_samples_split=2, n_estimators=5, score=0.708, total=   0.0s\n",
      "[CV] bootstrap=True, criterion=entropy, max_depth=15, min_samples_leaf=1, min_samples_split=2, n_estimators=5 \n",
      "[CV]  bootstrap=True, criterion=entropy, max_depth=15, min_samples_leaf=1, min_samples_split=2, n_estimators=5, score=0.729, total=   0.0s\n",
      "[CV] bootstrap=True, criterion=entropy, max_depth=15, min_samples_leaf=1, min_samples_split=2, n_estimators=10 \n",
      "[CV]  bootstrap=True, criterion=entropy, max_depth=15, min_samples_leaf=1, min_samples_split=2, n_estimators=10, score=0.693, total=   0.0s\n",
      "[CV] bootstrap=True, criterion=entropy, max_depth=15, min_samples_leaf=1, min_samples_split=2, n_estimators=10 \n",
      "[CV]  bootstrap=True, criterion=entropy, max_depth=15, min_samples_leaf=1, min_samples_split=2, n_estimators=10, score=0.708, total=   0.0s\n",
      "[CV] bootstrap=True, criterion=entropy, max_depth=15, min_samples_leaf=1, min_samples_split=2, n_estimators=10 \n",
      "[CV]  bootstrap=True, criterion=entropy, max_depth=15, min_samples_leaf=1, min_samples_split=2, n_estimators=10, score=0.711, total=   0.0s\n",
      "[CV] bootstrap=True, criterion=entropy, max_depth=15, min_samples_leaf=1, min_samples_split=2, n_estimators=20 \n",
      "[CV]  bootstrap=True, criterion=entropy, max_depth=15, min_samples_leaf=1, min_samples_split=2, n_estimators=20, score=0.727, total=   0.0s\n",
      "[CV] bootstrap=True, criterion=entropy, max_depth=15, min_samples_leaf=1, min_samples_split=2, n_estimators=20 \n",
      "[CV]  bootstrap=True, criterion=entropy, max_depth=15, min_samples_leaf=1, min_samples_split=2, n_estimators=20, score=0.674, total=   0.0s\n",
      "[CV] bootstrap=True, criterion=entropy, max_depth=15, min_samples_leaf=1, min_samples_split=2, n_estimators=20 \n",
      "[CV]  bootstrap=True, criterion=entropy, max_depth=15, min_samples_leaf=1, min_samples_split=2, n_estimators=20, score=0.703, total=   0.0s\n",
      "[CV] bootstrap=True, criterion=entropy, max_depth=15, min_samples_leaf=1, min_samples_split=2, n_estimators=50 \n",
      "[CV]  bootstrap=True, criterion=entropy, max_depth=15, min_samples_leaf=1, min_samples_split=2, n_estimators=50, score=0.719, total=   0.1s\n",
      "[CV] bootstrap=True, criterion=entropy, max_depth=15, min_samples_leaf=1, min_samples_split=2, n_estimators=50 \n",
      "[CV]  bootstrap=True, criterion=entropy, max_depth=15, min_samples_leaf=1, min_samples_split=2, n_estimators=50, score=0.749, total=   0.1s\n",
      "[CV] bootstrap=True, criterion=entropy, max_depth=15, min_samples_leaf=1, min_samples_split=2, n_estimators=50 \n",
      "[CV]  bootstrap=True, criterion=entropy, max_depth=15, min_samples_leaf=1, min_samples_split=2, n_estimators=50, score=0.744, total=   0.1s\n",
      "[CV] bootstrap=True, criterion=entropy, max_depth=15, min_samples_leaf=1, min_samples_split=5, n_estimators=5 \n",
      "[CV]  bootstrap=True, criterion=entropy, max_depth=15, min_samples_leaf=1, min_samples_split=5, n_estimators=5, score=0.697, total=   0.0s\n",
      "[CV] bootstrap=True, criterion=entropy, max_depth=15, min_samples_leaf=1, min_samples_split=5, n_estimators=5 \n",
      "[CV]  bootstrap=True, criterion=entropy, max_depth=15, min_samples_leaf=1, min_samples_split=5, n_estimators=5, score=0.708, total=   0.0s\n",
      "[CV] bootstrap=True, criterion=entropy, max_depth=15, min_samples_leaf=1, min_samples_split=5, n_estimators=5 \n",
      "[CV]  bootstrap=True, criterion=entropy, max_depth=15, min_samples_leaf=1, min_samples_split=5, n_estimators=5, score=0.684, total=   0.0s\n",
      "[CV] bootstrap=True, criterion=entropy, max_depth=15, min_samples_leaf=1, min_samples_split=5, n_estimators=10 \n",
      "[CV]  bootstrap=True, criterion=entropy, max_depth=15, min_samples_leaf=1, min_samples_split=5, n_estimators=10, score=0.700, total=   0.0s\n",
      "[CV] bootstrap=True, criterion=entropy, max_depth=15, min_samples_leaf=1, min_samples_split=5, n_estimators=10 \n",
      "[CV]  bootstrap=True, criterion=entropy, max_depth=15, min_samples_leaf=1, min_samples_split=5, n_estimators=10, score=0.700, total=   0.0s\n",
      "[CV] bootstrap=True, criterion=entropy, max_depth=15, min_samples_leaf=1, min_samples_split=5, n_estimators=10 \n",
      "[CV]  bootstrap=True, criterion=entropy, max_depth=15, min_samples_leaf=1, min_samples_split=5, n_estimators=10, score=0.703, total=   0.0s\n",
      "[CV] bootstrap=True, criterion=entropy, max_depth=15, min_samples_leaf=1, min_samples_split=5, n_estimators=20 \n",
      "[CV]  bootstrap=True, criterion=entropy, max_depth=15, min_samples_leaf=1, min_samples_split=5, n_estimators=20, score=0.715, total=   0.0s\n",
      "[CV] bootstrap=True, criterion=entropy, max_depth=15, min_samples_leaf=1, min_samples_split=5, n_estimators=20 \n",
      "[CV]  bootstrap=True, criterion=entropy, max_depth=15, min_samples_leaf=1, min_samples_split=5, n_estimators=20, score=0.730, total=   0.0s\n",
      "[CV] bootstrap=True, criterion=entropy, max_depth=15, min_samples_leaf=1, min_samples_split=5, n_estimators=20 \n",
      "[CV]  bootstrap=True, criterion=entropy, max_depth=15, min_samples_leaf=1, min_samples_split=5, n_estimators=20, score=0.752, total=   0.0s\n",
      "[CV] bootstrap=True, criterion=entropy, max_depth=15, min_samples_leaf=1, min_samples_split=5, n_estimators=50 \n",
      "[CV]  bootstrap=True, criterion=entropy, max_depth=15, min_samples_leaf=1, min_samples_split=5, n_estimators=50, score=0.715, total=   0.1s\n",
      "[CV] bootstrap=True, criterion=entropy, max_depth=15, min_samples_leaf=1, min_samples_split=5, n_estimators=50 \n",
      "[CV]  bootstrap=True, criterion=entropy, max_depth=15, min_samples_leaf=1, min_samples_split=5, n_estimators=50, score=0.764, total=   0.1s\n",
      "[CV] bootstrap=True, criterion=entropy, max_depth=15, min_samples_leaf=1, min_samples_split=5, n_estimators=50 \n",
      "[CV]  bootstrap=True, criterion=entropy, max_depth=15, min_samples_leaf=1, min_samples_split=5, n_estimators=50, score=0.748, total=   0.1s\n",
      "[CV] bootstrap=True, criterion=entropy, max_depth=15, min_samples_leaf=5, min_samples_split=2, n_estimators=5 \n",
      "[CV]  bootstrap=True, criterion=entropy, max_depth=15, min_samples_leaf=5, min_samples_split=2, n_estimators=5, score=0.708, total=   0.0s\n",
      "[CV] bootstrap=True, criterion=entropy, max_depth=15, min_samples_leaf=5, min_samples_split=2, n_estimators=5 \n",
      "[CV]  bootstrap=True, criterion=entropy, max_depth=15, min_samples_leaf=5, min_samples_split=2, n_estimators=5, score=0.700, total=   0.0s\n",
      "[CV] bootstrap=True, criterion=entropy, max_depth=15, min_samples_leaf=5, min_samples_split=2, n_estimators=5 \n",
      "[CV]  bootstrap=True, criterion=entropy, max_depth=15, min_samples_leaf=5, min_samples_split=2, n_estimators=5, score=0.729, total=   0.0s\n",
      "[CV] bootstrap=True, criterion=entropy, max_depth=15, min_samples_leaf=5, min_samples_split=2, n_estimators=10 \n",
      "[CV]  bootstrap=True, criterion=entropy, max_depth=15, min_samples_leaf=5, min_samples_split=2, n_estimators=10, score=0.723, total=   0.0s\n",
      "[CV] bootstrap=True, criterion=entropy, max_depth=15, min_samples_leaf=5, min_samples_split=2, n_estimators=10 \n",
      "[CV]  bootstrap=True, criterion=entropy, max_depth=15, min_samples_leaf=5, min_samples_split=2, n_estimators=10, score=0.749, total=   0.0s\n",
      "[CV] bootstrap=True, criterion=entropy, max_depth=15, min_samples_leaf=5, min_samples_split=2, n_estimators=10 \n",
      "[CV]  bootstrap=True, criterion=entropy, max_depth=15, min_samples_leaf=5, min_samples_split=2, n_estimators=10, score=0.737, total=   0.0s\n",
      "[CV] bootstrap=True, criterion=entropy, max_depth=15, min_samples_leaf=5, min_samples_split=2, n_estimators=20 \n",
      "[CV]  bootstrap=True, criterion=entropy, max_depth=15, min_samples_leaf=5, min_samples_split=2, n_estimators=20, score=0.719, total=   0.0s\n",
      "[CV] bootstrap=True, criterion=entropy, max_depth=15, min_samples_leaf=5, min_samples_split=2, n_estimators=20 \n",
      "[CV]  bootstrap=True, criterion=entropy, max_depth=15, min_samples_leaf=5, min_samples_split=2, n_estimators=20, score=0.745, total=   0.0s\n",
      "[CV] bootstrap=True, criterion=entropy, max_depth=15, min_samples_leaf=5, min_samples_split=2, n_estimators=20 \n",
      "[CV]  bootstrap=True, criterion=entropy, max_depth=15, min_samples_leaf=5, min_samples_split=2, n_estimators=20, score=0.759, total=   0.0s\n",
      "[CV] bootstrap=True, criterion=entropy, max_depth=15, min_samples_leaf=5, min_samples_split=2, n_estimators=50 \n"
     ]
    },
    {
     "name": "stdout",
     "output_type": "stream",
     "text": [
      "[CV]  bootstrap=True, criterion=entropy, max_depth=15, min_samples_leaf=5, min_samples_split=2, n_estimators=50, score=0.734, total=   0.1s\n",
      "[CV] bootstrap=True, criterion=entropy, max_depth=15, min_samples_leaf=5, min_samples_split=2, n_estimators=50 \n",
      "[CV]  bootstrap=True, criterion=entropy, max_depth=15, min_samples_leaf=5, min_samples_split=2, n_estimators=50, score=0.727, total=   0.1s\n",
      "[CV] bootstrap=True, criterion=entropy, max_depth=15, min_samples_leaf=5, min_samples_split=2, n_estimators=50 \n",
      "[CV]  bootstrap=True, criterion=entropy, max_depth=15, min_samples_leaf=5, min_samples_split=2, n_estimators=50, score=0.737, total=   0.1s\n",
      "[CV] bootstrap=True, criterion=entropy, max_depth=15, min_samples_leaf=5, min_samples_split=5, n_estimators=5 \n",
      "[CV]  bootstrap=True, criterion=entropy, max_depth=15, min_samples_leaf=5, min_samples_split=5, n_estimators=5, score=0.667, total=   0.0s\n",
      "[CV] bootstrap=True, criterion=entropy, max_depth=15, min_samples_leaf=5, min_samples_split=5, n_estimators=5 \n",
      "[CV]  bootstrap=True, criterion=entropy, max_depth=15, min_samples_leaf=5, min_samples_split=5, n_estimators=5, score=0.727, total=   0.0s\n",
      "[CV] bootstrap=True, criterion=entropy, max_depth=15, min_samples_leaf=5, min_samples_split=5, n_estimators=5 \n",
      "[CV]  bootstrap=True, criterion=entropy, max_depth=15, min_samples_leaf=5, min_samples_split=5, n_estimators=5, score=0.711, total=   0.0s\n",
      "[CV] bootstrap=True, criterion=entropy, max_depth=15, min_samples_leaf=5, min_samples_split=5, n_estimators=10 \n",
      "[CV]  bootstrap=True, criterion=entropy, max_depth=15, min_samples_leaf=5, min_samples_split=5, n_estimators=10, score=0.712, total=   0.0s\n",
      "[CV] bootstrap=True, criterion=entropy, max_depth=15, min_samples_leaf=5, min_samples_split=5, n_estimators=10 \n",
      "[CV]  bootstrap=True, criterion=entropy, max_depth=15, min_samples_leaf=5, min_samples_split=5, n_estimators=10, score=0.734, total=   0.0s\n",
      "[CV] bootstrap=True, criterion=entropy, max_depth=15, min_samples_leaf=5, min_samples_split=5, n_estimators=10 \n",
      "[CV]  bootstrap=True, criterion=entropy, max_depth=15, min_samples_leaf=5, min_samples_split=5, n_estimators=10, score=0.741, total=   0.0s\n",
      "[CV] bootstrap=True, criterion=entropy, max_depth=15, min_samples_leaf=5, min_samples_split=5, n_estimators=20 \n",
      "[CV]  bootstrap=True, criterion=entropy, max_depth=15, min_samples_leaf=5, min_samples_split=5, n_estimators=20, score=0.738, total=   0.0s\n",
      "[CV] bootstrap=True, criterion=entropy, max_depth=15, min_samples_leaf=5, min_samples_split=5, n_estimators=20 \n",
      "[CV]  bootstrap=True, criterion=entropy, max_depth=15, min_samples_leaf=5, min_samples_split=5, n_estimators=20, score=0.742, total=   0.1s\n",
      "[CV] bootstrap=True, criterion=entropy, max_depth=15, min_samples_leaf=5, min_samples_split=5, n_estimators=20 \n",
      "[CV]  bootstrap=True, criterion=entropy, max_depth=15, min_samples_leaf=5, min_samples_split=5, n_estimators=20, score=0.759, total=   0.1s\n",
      "[CV] bootstrap=True, criterion=entropy, max_depth=15, min_samples_leaf=5, min_samples_split=5, n_estimators=50 \n",
      "[CV]  bootstrap=True, criterion=entropy, max_depth=15, min_samples_leaf=5, min_samples_split=5, n_estimators=50, score=0.727, total=   0.1s\n",
      "[CV] bootstrap=True, criterion=entropy, max_depth=15, min_samples_leaf=5, min_samples_split=5, n_estimators=50 \n",
      "[CV]  bootstrap=True, criterion=entropy, max_depth=15, min_samples_leaf=5, min_samples_split=5, n_estimators=50, score=0.734, total=   0.1s\n",
      "[CV] bootstrap=True, criterion=entropy, max_depth=15, min_samples_leaf=5, min_samples_split=5, n_estimators=50 \n",
      "[CV]  bootstrap=True, criterion=entropy, max_depth=15, min_samples_leaf=5, min_samples_split=5, n_estimators=50, score=0.737, total=   0.1s\n",
      "[CV] bootstrap=False, criterion=gini, max_depth=None, min_samples_leaf=1, min_samples_split=2, n_estimators=5 \n",
      "[CV]  bootstrap=False, criterion=gini, max_depth=None, min_samples_leaf=1, min_samples_split=2, n_estimators=5, score=0.708, total=   0.0s\n",
      "[CV] bootstrap=False, criterion=gini, max_depth=None, min_samples_leaf=1, min_samples_split=2, n_estimators=5 \n",
      "[CV]  bootstrap=False, criterion=gini, max_depth=None, min_samples_leaf=1, min_samples_split=2, n_estimators=5, score=0.704, total=   0.0s\n",
      "[CV] bootstrap=False, criterion=gini, max_depth=None, min_samples_leaf=1, min_samples_split=2, n_estimators=5 \n",
      "[CV]  bootstrap=False, criterion=gini, max_depth=None, min_samples_leaf=1, min_samples_split=2, n_estimators=5, score=0.703, total=   0.0s\n",
      "[CV] bootstrap=False, criterion=gini, max_depth=None, min_samples_leaf=1, min_samples_split=2, n_estimators=10 \n",
      "[CV]  bootstrap=False, criterion=gini, max_depth=None, min_samples_leaf=1, min_samples_split=2, n_estimators=10, score=0.685, total=   0.0s\n",
      "[CV] bootstrap=False, criterion=gini, max_depth=None, min_samples_leaf=1, min_samples_split=2, n_estimators=10 \n",
      "[CV]  bootstrap=False, criterion=gini, max_depth=None, min_samples_leaf=1, min_samples_split=2, n_estimators=10, score=0.712, total=   0.0s\n",
      "[CV] bootstrap=False, criterion=gini, max_depth=None, min_samples_leaf=1, min_samples_split=2, n_estimators=10 \n",
      "[CV]  bootstrap=False, criterion=gini, max_depth=None, min_samples_leaf=1, min_samples_split=2, n_estimators=10, score=0.737, total=   0.0s\n",
      "[CV] bootstrap=False, criterion=gini, max_depth=None, min_samples_leaf=1, min_samples_split=2, n_estimators=20 \n",
      "[CV]  bootstrap=False, criterion=gini, max_depth=None, min_samples_leaf=1, min_samples_split=2, n_estimators=20, score=0.700, total=   0.0s\n",
      "[CV] bootstrap=False, criterion=gini, max_depth=None, min_samples_leaf=1, min_samples_split=2, n_estimators=20 \n",
      "[CV]  bootstrap=False, criterion=gini, max_depth=None, min_samples_leaf=1, min_samples_split=2, n_estimators=20, score=0.719, total=   0.1s\n",
      "[CV] bootstrap=False, criterion=gini, max_depth=None, min_samples_leaf=1, min_samples_split=2, n_estimators=20 \n",
      "[CV]  bootstrap=False, criterion=gini, max_depth=None, min_samples_leaf=1, min_samples_split=2, n_estimators=20, score=0.722, total=   0.1s\n",
      "[CV] bootstrap=False, criterion=gini, max_depth=None, min_samples_leaf=1, min_samples_split=2, n_estimators=50 \n",
      "[CV]  bootstrap=False, criterion=gini, max_depth=None, min_samples_leaf=1, min_samples_split=2, n_estimators=50, score=0.678, total=   0.1s\n",
      "[CV] bootstrap=False, criterion=gini, max_depth=None, min_samples_leaf=1, min_samples_split=2, n_estimators=50 \n",
      "[CV]  bootstrap=False, criterion=gini, max_depth=None, min_samples_leaf=1, min_samples_split=2, n_estimators=50, score=0.719, total=   0.2s\n",
      "[CV] bootstrap=False, criterion=gini, max_depth=None, min_samples_leaf=1, min_samples_split=2, n_estimators=50 \n",
      "[CV]  bootstrap=False, criterion=gini, max_depth=None, min_samples_leaf=1, min_samples_split=2, n_estimators=50, score=0.744, total=   0.1s\n",
      "[CV] bootstrap=False, criterion=gini, max_depth=None, min_samples_leaf=1, min_samples_split=5, n_estimators=5 \n",
      "[CV]  bootstrap=False, criterion=gini, max_depth=None, min_samples_leaf=1, min_samples_split=5, n_estimators=5, score=0.652, total=   0.0s\n",
      "[CV] bootstrap=False, criterion=gini, max_depth=None, min_samples_leaf=1, min_samples_split=5, n_estimators=5 \n",
      "[CV]  bootstrap=False, criterion=gini, max_depth=None, min_samples_leaf=1, min_samples_split=5, n_estimators=5, score=0.685, total=   0.0s\n",
      "[CV] bootstrap=False, criterion=gini, max_depth=None, min_samples_leaf=1, min_samples_split=5, n_estimators=5 \n",
      "[CV]  bootstrap=False, criterion=gini, max_depth=None, min_samples_leaf=1, min_samples_split=5, n_estimators=5, score=0.726, total=   0.0s\n",
      "[CV] bootstrap=False, criterion=gini, max_depth=None, min_samples_leaf=1, min_samples_split=5, n_estimators=10 \n",
      "[CV]  bootstrap=False, criterion=gini, max_depth=None, min_samples_leaf=1, min_samples_split=5, n_estimators=10, score=0.689, total=   0.0s\n",
      "[CV] bootstrap=False, criterion=gini, max_depth=None, min_samples_leaf=1, min_samples_split=5, n_estimators=10 \n",
      "[CV]  bootstrap=False, criterion=gini, max_depth=None, min_samples_leaf=1, min_samples_split=5, n_estimators=10, score=0.700, total=   0.0s\n",
      "[CV] bootstrap=False, criterion=gini, max_depth=None, min_samples_leaf=1, min_samples_split=5, n_estimators=10 \n",
      "[CV]  bootstrap=False, criterion=gini, max_depth=None, min_samples_leaf=1, min_samples_split=5, n_estimators=10, score=0.733, total=   0.0s\n",
      "[CV] bootstrap=False, criterion=gini, max_depth=None, min_samples_leaf=1, min_samples_split=5, n_estimators=20 \n",
      "[CV]  bootstrap=False, criterion=gini, max_depth=None, min_samples_leaf=1, min_samples_split=5, n_estimators=20, score=0.719, total=   0.0s\n",
      "[CV] bootstrap=False, criterion=gini, max_depth=None, min_samples_leaf=1, min_samples_split=5, n_estimators=20 \n"
     ]
    },
    {
     "name": "stdout",
     "output_type": "stream",
     "text": [
      "[CV]  bootstrap=False, criterion=gini, max_depth=None, min_samples_leaf=1, min_samples_split=5, n_estimators=20, score=0.742, total=   0.1s\n",
      "[CV] bootstrap=False, criterion=gini, max_depth=None, min_samples_leaf=1, min_samples_split=5, n_estimators=20 \n",
      "[CV]  bootstrap=False, criterion=gini, max_depth=None, min_samples_leaf=1, min_samples_split=5, n_estimators=20, score=0.714, total=   0.0s\n",
      "[CV] bootstrap=False, criterion=gini, max_depth=None, min_samples_leaf=1, min_samples_split=5, n_estimators=50 \n",
      "[CV]  bootstrap=False, criterion=gini, max_depth=None, min_samples_leaf=1, min_samples_split=5, n_estimators=50, score=0.727, total=   0.1s\n",
      "[CV] bootstrap=False, criterion=gini, max_depth=None, min_samples_leaf=1, min_samples_split=5, n_estimators=50 \n",
      "[CV]  bootstrap=False, criterion=gini, max_depth=None, min_samples_leaf=1, min_samples_split=5, n_estimators=50, score=0.753, total=   0.1s\n",
      "[CV] bootstrap=False, criterion=gini, max_depth=None, min_samples_leaf=1, min_samples_split=5, n_estimators=50 \n",
      "[CV]  bootstrap=False, criterion=gini, max_depth=None, min_samples_leaf=1, min_samples_split=5, n_estimators=50, score=0.744, total=   0.1s\n",
      "[CV] bootstrap=False, criterion=gini, max_depth=None, min_samples_leaf=5, min_samples_split=2, n_estimators=5 \n",
      "[CV]  bootstrap=False, criterion=gini, max_depth=None, min_samples_leaf=5, min_samples_split=2, n_estimators=5, score=0.712, total=   0.0s\n",
      "[CV] bootstrap=False, criterion=gini, max_depth=None, min_samples_leaf=5, min_samples_split=2, n_estimators=5 \n",
      "[CV]  bootstrap=False, criterion=gini, max_depth=None, min_samples_leaf=5, min_samples_split=2, n_estimators=5, score=0.723, total=   0.0s\n",
      "[CV] bootstrap=False, criterion=gini, max_depth=None, min_samples_leaf=5, min_samples_split=2, n_estimators=5 \n",
      "[CV]  bootstrap=False, criterion=gini, max_depth=None, min_samples_leaf=5, min_samples_split=2, n_estimators=5, score=0.744, total=   0.0s\n",
      "[CV] bootstrap=False, criterion=gini, max_depth=None, min_samples_leaf=5, min_samples_split=2, n_estimators=10 \n",
      "[CV]  bootstrap=False, criterion=gini, max_depth=None, min_samples_leaf=5, min_samples_split=2, n_estimators=10, score=0.700, total=   0.0s\n",
      "[CV] bootstrap=False, criterion=gini, max_depth=None, min_samples_leaf=5, min_samples_split=2, n_estimators=10 \n",
      "[CV]  bootstrap=False, criterion=gini, max_depth=None, min_samples_leaf=5, min_samples_split=2, n_estimators=10, score=0.715, total=   0.0s\n",
      "[CV] bootstrap=False, criterion=gini, max_depth=None, min_samples_leaf=5, min_samples_split=2, n_estimators=10 \n",
      "[CV]  bootstrap=False, criterion=gini, max_depth=None, min_samples_leaf=5, min_samples_split=2, n_estimators=10, score=0.748, total=   0.0s\n",
      "[CV] bootstrap=False, criterion=gini, max_depth=None, min_samples_leaf=5, min_samples_split=2, n_estimators=20 \n",
      "[CV]  bootstrap=False, criterion=gini, max_depth=None, min_samples_leaf=5, min_samples_split=2, n_estimators=20, score=0.715, total=   0.0s\n",
      "[CV] bootstrap=False, criterion=gini, max_depth=None, min_samples_leaf=5, min_samples_split=2, n_estimators=20 \n",
      "[CV]  bootstrap=False, criterion=gini, max_depth=None, min_samples_leaf=5, min_samples_split=2, n_estimators=20, score=0.738, total=   0.0s\n",
      "[CV] bootstrap=False, criterion=gini, max_depth=None, min_samples_leaf=5, min_samples_split=2, n_estimators=20 \n",
      "[CV]  bootstrap=False, criterion=gini, max_depth=None, min_samples_leaf=5, min_samples_split=2, n_estimators=20, score=0.733, total=   0.0s\n",
      "[CV] bootstrap=False, criterion=gini, max_depth=None, min_samples_leaf=5, min_samples_split=2, n_estimators=50 \n",
      "[CV]  bootstrap=False, criterion=gini, max_depth=None, min_samples_leaf=5, min_samples_split=2, n_estimators=50, score=0.742, total=   0.1s\n",
      "[CV] bootstrap=False, criterion=gini, max_depth=None, min_samples_leaf=5, min_samples_split=2, n_estimators=50 \n",
      "[CV]  bootstrap=False, criterion=gini, max_depth=None, min_samples_leaf=5, min_samples_split=2, n_estimators=50, score=0.738, total=   0.1s\n",
      "[CV] bootstrap=False, criterion=gini, max_depth=None, min_samples_leaf=5, min_samples_split=2, n_estimators=50 \n",
      "[CV]  bootstrap=False, criterion=gini, max_depth=None, min_samples_leaf=5, min_samples_split=2, n_estimators=50, score=0.744, total=   0.1s\n",
      "[CV] bootstrap=False, criterion=gini, max_depth=None, min_samples_leaf=5, min_samples_split=5, n_estimators=5 \n",
      "[CV]  bootstrap=False, criterion=gini, max_depth=None, min_samples_leaf=5, min_samples_split=5, n_estimators=5, score=0.693, total=   0.0s\n",
      "[CV] bootstrap=False, criterion=gini, max_depth=None, min_samples_leaf=5, min_samples_split=5, n_estimators=5 \n",
      "[CV]  bootstrap=False, criterion=gini, max_depth=None, min_samples_leaf=5, min_samples_split=5, n_estimators=5, score=0.715, total=   0.0s\n",
      "[CV] bootstrap=False, criterion=gini, max_depth=None, min_samples_leaf=5, min_samples_split=5, n_estimators=5 \n",
      "[CV]  bootstrap=False, criterion=gini, max_depth=None, min_samples_leaf=5, min_samples_split=5, n_estimators=5, score=0.729, total=   0.0s\n",
      "[CV] bootstrap=False, criterion=gini, max_depth=None, min_samples_leaf=5, min_samples_split=5, n_estimators=10 \n",
      "[CV]  bootstrap=False, criterion=gini, max_depth=None, min_samples_leaf=5, min_samples_split=5, n_estimators=10, score=0.715, total=   0.0s\n",
      "[CV] bootstrap=False, criterion=gini, max_depth=None, min_samples_leaf=5, min_samples_split=5, n_estimators=10 \n",
      "[CV]  bootstrap=False, criterion=gini, max_depth=None, min_samples_leaf=5, min_samples_split=5, n_estimators=10, score=0.723, total=   0.0s\n",
      "[CV] bootstrap=False, criterion=gini, max_depth=None, min_samples_leaf=5, min_samples_split=5, n_estimators=10 \n",
      "[CV]  bootstrap=False, criterion=gini, max_depth=None, min_samples_leaf=5, min_samples_split=5, n_estimators=10, score=0.733, total=   0.0s\n",
      "[CV] bootstrap=False, criterion=gini, max_depth=None, min_samples_leaf=5, min_samples_split=5, n_estimators=20 \n",
      "[CV]  bootstrap=False, criterion=gini, max_depth=None, min_samples_leaf=5, min_samples_split=5, n_estimators=20, score=0.730, total=   0.0s\n",
      "[CV] bootstrap=False, criterion=gini, max_depth=None, min_samples_leaf=5, min_samples_split=5, n_estimators=20 \n",
      "[CV]  bootstrap=False, criterion=gini, max_depth=None, min_samples_leaf=5, min_samples_split=5, n_estimators=20, score=0.734, total=   0.0s\n",
      "[CV] bootstrap=False, criterion=gini, max_depth=None, min_samples_leaf=5, min_samples_split=5, n_estimators=20 \n",
      "[CV]  bootstrap=False, criterion=gini, max_depth=None, min_samples_leaf=5, min_samples_split=5, n_estimators=20, score=0.729, total=   0.0s\n",
      "[CV] bootstrap=False, criterion=gini, max_depth=None, min_samples_leaf=5, min_samples_split=5, n_estimators=50 \n",
      "[CV]  bootstrap=False, criterion=gini, max_depth=None, min_samples_leaf=5, min_samples_split=5, n_estimators=50, score=0.745, total=   0.1s\n",
      "[CV] bootstrap=False, criterion=gini, max_depth=None, min_samples_leaf=5, min_samples_split=5, n_estimators=50 \n",
      "[CV]  bootstrap=False, criterion=gini, max_depth=None, min_samples_leaf=5, min_samples_split=5, n_estimators=50, score=0.730, total=   0.1s\n",
      "[CV] bootstrap=False, criterion=gini, max_depth=None, min_samples_leaf=5, min_samples_split=5, n_estimators=50 \n",
      "[CV]  bootstrap=False, criterion=gini, max_depth=None, min_samples_leaf=5, min_samples_split=5, n_estimators=50, score=0.748, total=   0.1s\n",
      "[CV] bootstrap=False, criterion=gini, max_depth=5, min_samples_leaf=1, min_samples_split=2, n_estimators=5 \n",
      "[CV]  bootstrap=False, criterion=gini, max_depth=5, min_samples_leaf=1, min_samples_split=2, n_estimators=5, score=0.712, total=   0.0s\n",
      "[CV] bootstrap=False, criterion=gini, max_depth=5, min_samples_leaf=1, min_samples_split=2, n_estimators=5 \n",
      "[CV]  bootstrap=False, criterion=gini, max_depth=5, min_samples_leaf=1, min_samples_split=2, n_estimators=5, score=0.700, total=   0.0s\n",
      "[CV] bootstrap=False, criterion=gini, max_depth=5, min_samples_leaf=1, min_samples_split=2, n_estimators=5 \n",
      "[CV]  bootstrap=False, criterion=gini, max_depth=5, min_samples_leaf=1, min_samples_split=2, n_estimators=5, score=0.703, total=   0.0s\n",
      "[CV] bootstrap=False, criterion=gini, max_depth=5, min_samples_leaf=1, min_samples_split=2, n_estimators=10 \n",
      "[CV]  bootstrap=False, criterion=gini, max_depth=5, min_samples_leaf=1, min_samples_split=2, n_estimators=10, score=0.719, total=   0.0s\n",
      "[CV] bootstrap=False, criterion=gini, max_depth=5, min_samples_leaf=1, min_samples_split=2, n_estimators=10 \n",
      "[CV]  bootstrap=False, criterion=gini, max_depth=5, min_samples_leaf=1, min_samples_split=2, n_estimators=10, score=0.738, total=   0.0s\n",
      "[CV] bootstrap=False, criterion=gini, max_depth=5, min_samples_leaf=1, min_samples_split=2, n_estimators=10 \n",
      "[CV]  bootstrap=False, criterion=gini, max_depth=5, min_samples_leaf=1, min_samples_split=2, n_estimators=10, score=0.729, total=   0.0s\n",
      "[CV] bootstrap=False, criterion=gini, max_depth=5, min_samples_leaf=1, min_samples_split=2, n_estimators=20 \n"
     ]
    },
    {
     "name": "stdout",
     "output_type": "stream",
     "text": [
      "[CV]  bootstrap=False, criterion=gini, max_depth=5, min_samples_leaf=1, min_samples_split=2, n_estimators=20, score=0.738, total=   0.0s\n",
      "[CV] bootstrap=False, criterion=gini, max_depth=5, min_samples_leaf=1, min_samples_split=2, n_estimators=20 \n",
      "[CV]  bootstrap=False, criterion=gini, max_depth=5, min_samples_leaf=1, min_samples_split=2, n_estimators=20, score=0.749, total=   0.0s\n",
      "[CV] bootstrap=False, criterion=gini, max_depth=5, min_samples_leaf=1, min_samples_split=2, n_estimators=20 \n",
      "[CV]  bootstrap=False, criterion=gini, max_depth=5, min_samples_leaf=1, min_samples_split=2, n_estimators=20, score=0.737, total=   0.0s\n",
      "[CV] bootstrap=False, criterion=gini, max_depth=5, min_samples_leaf=1, min_samples_split=2, n_estimators=50 \n",
      "[CV]  bootstrap=False, criterion=gini, max_depth=5, min_samples_leaf=1, min_samples_split=2, n_estimators=50, score=0.738, total=   0.1s\n",
      "[CV] bootstrap=False, criterion=gini, max_depth=5, min_samples_leaf=1, min_samples_split=2, n_estimators=50 \n",
      "[CV]  bootstrap=False, criterion=gini, max_depth=5, min_samples_leaf=1, min_samples_split=2, n_estimators=50, score=0.742, total=   0.1s\n",
      "[CV] bootstrap=False, criterion=gini, max_depth=5, min_samples_leaf=1, min_samples_split=2, n_estimators=50 \n",
      "[CV]  bootstrap=False, criterion=gini, max_depth=5, min_samples_leaf=1, min_samples_split=2, n_estimators=50, score=0.748, total=   0.1s\n",
      "[CV] bootstrap=False, criterion=gini, max_depth=5, min_samples_leaf=1, min_samples_split=5, n_estimators=5 \n",
      "[CV]  bootstrap=False, criterion=gini, max_depth=5, min_samples_leaf=1, min_samples_split=5, n_estimators=5, score=0.648, total=   0.0s\n",
      "[CV] bootstrap=False, criterion=gini, max_depth=5, min_samples_leaf=1, min_samples_split=5, n_estimators=5 \n",
      "[CV]  bootstrap=False, criterion=gini, max_depth=5, min_samples_leaf=1, min_samples_split=5, n_estimators=5, score=0.727, total=   0.0s\n",
      "[CV] bootstrap=False, criterion=gini, max_depth=5, min_samples_leaf=1, min_samples_split=5, n_estimators=5 \n",
      "[CV]  bootstrap=False, criterion=gini, max_depth=5, min_samples_leaf=1, min_samples_split=5, n_estimators=5, score=0.748, total=   0.0s\n",
      "[CV] bootstrap=False, criterion=gini, max_depth=5, min_samples_leaf=1, min_samples_split=5, n_estimators=10 \n",
      "[CV]  bootstrap=False, criterion=gini, max_depth=5, min_samples_leaf=1, min_samples_split=5, n_estimators=10, score=0.712, total=   0.0s\n",
      "[CV] bootstrap=False, criterion=gini, max_depth=5, min_samples_leaf=1, min_samples_split=5, n_estimators=10 \n",
      "[CV]  bootstrap=False, criterion=gini, max_depth=5, min_samples_leaf=1, min_samples_split=5, n_estimators=10, score=0.742, total=   0.0s\n",
      "[CV] bootstrap=False, criterion=gini, max_depth=5, min_samples_leaf=1, min_samples_split=5, n_estimators=10 \n",
      "[CV]  bootstrap=False, criterion=gini, max_depth=5, min_samples_leaf=1, min_samples_split=5, n_estimators=10, score=0.737, total=   0.0s\n",
      "[CV] bootstrap=False, criterion=gini, max_depth=5, min_samples_leaf=1, min_samples_split=5, n_estimators=20 \n",
      "[CV]  bootstrap=False, criterion=gini, max_depth=5, min_samples_leaf=1, min_samples_split=5, n_estimators=20, score=0.749, total=   0.0s\n",
      "[CV] bootstrap=False, criterion=gini, max_depth=5, min_samples_leaf=1, min_samples_split=5, n_estimators=20 \n",
      "[CV]  bootstrap=False, criterion=gini, max_depth=5, min_samples_leaf=1, min_samples_split=5, n_estimators=20, score=0.727, total=   0.0s\n",
      "[CV] bootstrap=False, criterion=gini, max_depth=5, min_samples_leaf=1, min_samples_split=5, n_estimators=20 \n",
      "[CV]  bootstrap=False, criterion=gini, max_depth=5, min_samples_leaf=1, min_samples_split=5, n_estimators=20, score=0.748, total=   0.0s\n",
      "[CV] bootstrap=False, criterion=gini, max_depth=5, min_samples_leaf=1, min_samples_split=5, n_estimators=50 \n",
      "[CV]  bootstrap=False, criterion=gini, max_depth=5, min_samples_leaf=1, min_samples_split=5, n_estimators=50, score=0.734, total=   0.1s\n",
      "[CV] bootstrap=False, criterion=gini, max_depth=5, min_samples_leaf=1, min_samples_split=5, n_estimators=50 \n",
      "[CV]  bootstrap=False, criterion=gini, max_depth=5, min_samples_leaf=1, min_samples_split=5, n_estimators=50, score=0.749, total=   0.1s\n",
      "[CV] bootstrap=False, criterion=gini, max_depth=5, min_samples_leaf=1, min_samples_split=5, n_estimators=50 \n",
      "[CV]  bootstrap=False, criterion=gini, max_depth=5, min_samples_leaf=1, min_samples_split=5, n_estimators=50, score=0.748, total=   0.1s\n",
      "[CV] bootstrap=False, criterion=gini, max_depth=5, min_samples_leaf=5, min_samples_split=2, n_estimators=5 \n",
      "[CV]  bootstrap=False, criterion=gini, max_depth=5, min_samples_leaf=5, min_samples_split=2, n_estimators=5, score=0.693, total=   0.0s\n",
      "[CV] bootstrap=False, criterion=gini, max_depth=5, min_samples_leaf=5, min_samples_split=2, n_estimators=5 \n",
      "[CV]  bootstrap=False, criterion=gini, max_depth=5, min_samples_leaf=5, min_samples_split=2, n_estimators=5, score=0.723, total=   0.0s\n",
      "[CV] bootstrap=False, criterion=gini, max_depth=5, min_samples_leaf=5, min_samples_split=2, n_estimators=5 \n",
      "[CV]  bootstrap=False, criterion=gini, max_depth=5, min_samples_leaf=5, min_samples_split=2, n_estimators=5, score=0.744, total=   0.0s\n",
      "[CV] bootstrap=False, criterion=gini, max_depth=5, min_samples_leaf=5, min_samples_split=2, n_estimators=10 \n",
      "[CV]  bootstrap=False, criterion=gini, max_depth=5, min_samples_leaf=5, min_samples_split=2, n_estimators=10, score=0.742, total=   0.0s\n",
      "[CV] bootstrap=False, criterion=gini, max_depth=5, min_samples_leaf=5, min_samples_split=2, n_estimators=10 \n",
      "[CV]  bootstrap=False, criterion=gini, max_depth=5, min_samples_leaf=5, min_samples_split=2, n_estimators=10, score=0.745, total=   0.0s\n",
      "[CV] bootstrap=False, criterion=gini, max_depth=5, min_samples_leaf=5, min_samples_split=2, n_estimators=10 \n",
      "[CV]  bootstrap=False, criterion=gini, max_depth=5, min_samples_leaf=5, min_samples_split=2, n_estimators=10, score=0.741, total=   0.0s\n",
      "[CV] bootstrap=False, criterion=gini, max_depth=5, min_samples_leaf=5, min_samples_split=2, n_estimators=20 \n",
      "[CV]  bootstrap=False, criterion=gini, max_depth=5, min_samples_leaf=5, min_samples_split=2, n_estimators=20, score=0.708, total=   0.0s\n",
      "[CV] bootstrap=False, criterion=gini, max_depth=5, min_samples_leaf=5, min_samples_split=2, n_estimators=20 \n",
      "[CV]  bootstrap=False, criterion=gini, max_depth=5, min_samples_leaf=5, min_samples_split=2, n_estimators=20, score=0.715, total=   0.0s\n",
      "[CV] bootstrap=False, criterion=gini, max_depth=5, min_samples_leaf=5, min_samples_split=2, n_estimators=20 \n",
      "[CV]  bootstrap=False, criterion=gini, max_depth=5, min_samples_leaf=5, min_samples_split=2, n_estimators=20, score=0.741, total=   0.0s\n",
      "[CV] bootstrap=False, criterion=gini, max_depth=5, min_samples_leaf=5, min_samples_split=2, n_estimators=50 \n",
      "[CV]  bootstrap=False, criterion=gini, max_depth=5, min_samples_leaf=5, min_samples_split=2, n_estimators=50, score=0.734, total=   0.1s\n",
      "[CV] bootstrap=False, criterion=gini, max_depth=5, min_samples_leaf=5, min_samples_split=2, n_estimators=50 \n",
      "[CV]  bootstrap=False, criterion=gini, max_depth=5, min_samples_leaf=5, min_samples_split=2, n_estimators=50, score=0.723, total=   0.1s\n",
      "[CV] bootstrap=False, criterion=gini, max_depth=5, min_samples_leaf=5, min_samples_split=2, n_estimators=50 \n",
      "[CV]  bootstrap=False, criterion=gini, max_depth=5, min_samples_leaf=5, min_samples_split=2, n_estimators=50, score=0.752, total=   0.1s\n",
      "[CV] bootstrap=False, criterion=gini, max_depth=5, min_samples_leaf=5, min_samples_split=5, n_estimators=5 \n",
      "[CV]  bootstrap=False, criterion=gini, max_depth=5, min_samples_leaf=5, min_samples_split=5, n_estimators=5, score=0.712, total=   0.0s\n",
      "[CV] bootstrap=False, criterion=gini, max_depth=5, min_samples_leaf=5, min_samples_split=5, n_estimators=5 \n",
      "[CV]  bootstrap=False, criterion=gini, max_depth=5, min_samples_leaf=5, min_samples_split=5, n_estimators=5, score=0.734, total=   0.0s\n",
      "[CV] bootstrap=False, criterion=gini, max_depth=5, min_samples_leaf=5, min_samples_split=5, n_estimators=5 \n",
      "[CV]  bootstrap=False, criterion=gini, max_depth=5, min_samples_leaf=5, min_samples_split=5, n_estimators=5, score=0.707, total=   0.0s\n",
      "[CV] bootstrap=False, criterion=gini, max_depth=5, min_samples_leaf=5, min_samples_split=5, n_estimators=10 \n",
      "[CV]  bootstrap=False, criterion=gini, max_depth=5, min_samples_leaf=5, min_samples_split=5, n_estimators=10, score=0.734, total=   0.0s\n",
      "[CV] bootstrap=False, criterion=gini, max_depth=5, min_samples_leaf=5, min_samples_split=5, n_estimators=10 \n",
      "[CV]  bootstrap=False, criterion=gini, max_depth=5, min_samples_leaf=5, min_samples_split=5, n_estimators=10, score=0.730, total=   0.0s\n",
      "[CV] bootstrap=False, criterion=gini, max_depth=5, min_samples_leaf=5, min_samples_split=5, n_estimators=10 \n",
      "[CV]  bootstrap=False, criterion=gini, max_depth=5, min_samples_leaf=5, min_samples_split=5, n_estimators=10, score=0.748, total=   0.0s\n",
      "[CV] bootstrap=False, criterion=gini, max_depth=5, min_samples_leaf=5, min_samples_split=5, n_estimators=20 \n"
     ]
    },
    {
     "name": "stdout",
     "output_type": "stream",
     "text": [
      "[CV]  bootstrap=False, criterion=gini, max_depth=5, min_samples_leaf=5, min_samples_split=5, n_estimators=20, score=0.727, total=   0.0s\n",
      "[CV] bootstrap=False, criterion=gini, max_depth=5, min_samples_leaf=5, min_samples_split=5, n_estimators=20 \n",
      "[CV]  bootstrap=False, criterion=gini, max_depth=5, min_samples_leaf=5, min_samples_split=5, n_estimators=20, score=0.742, total=   0.0s\n",
      "[CV] bootstrap=False, criterion=gini, max_depth=5, min_samples_leaf=5, min_samples_split=5, n_estimators=20 \n",
      "[CV]  bootstrap=False, criterion=gini, max_depth=5, min_samples_leaf=5, min_samples_split=5, n_estimators=20, score=0.726, total=   0.0s\n",
      "[CV] bootstrap=False, criterion=gini, max_depth=5, min_samples_leaf=5, min_samples_split=5, n_estimators=50 \n",
      "[CV]  bootstrap=False, criterion=gini, max_depth=5, min_samples_leaf=5, min_samples_split=5, n_estimators=50, score=0.734, total=   0.1s\n",
      "[CV] bootstrap=False, criterion=gini, max_depth=5, min_samples_leaf=5, min_samples_split=5, n_estimators=50 \n",
      "[CV]  bootstrap=False, criterion=gini, max_depth=5, min_samples_leaf=5, min_samples_split=5, n_estimators=50, score=0.734, total=   0.1s\n",
      "[CV] bootstrap=False, criterion=gini, max_depth=5, min_samples_leaf=5, min_samples_split=5, n_estimators=50 \n",
      "[CV]  bootstrap=False, criterion=gini, max_depth=5, min_samples_leaf=5, min_samples_split=5, n_estimators=50, score=0.744, total=   0.1s\n",
      "[CV] bootstrap=False, criterion=gini, max_depth=10, min_samples_leaf=1, min_samples_split=2, n_estimators=5 \n",
      "[CV]  bootstrap=False, criterion=gini, max_depth=10, min_samples_leaf=1, min_samples_split=2, n_estimators=5, score=0.674, total=   0.0s\n",
      "[CV] bootstrap=False, criterion=gini, max_depth=10, min_samples_leaf=1, min_samples_split=2, n_estimators=5 \n",
      "[CV]  bootstrap=False, criterion=gini, max_depth=10, min_samples_leaf=1, min_samples_split=2, n_estimators=5, score=0.700, total=   0.0s\n",
      "[CV] bootstrap=False, criterion=gini, max_depth=10, min_samples_leaf=1, min_samples_split=2, n_estimators=5 \n",
      "[CV]  bootstrap=False, criterion=gini, max_depth=10, min_samples_leaf=1, min_samples_split=2, n_estimators=5, score=0.763, total=   0.0s\n",
      "[CV] bootstrap=False, criterion=gini, max_depth=10, min_samples_leaf=1, min_samples_split=2, n_estimators=10 \n",
      "[CV]  bootstrap=False, criterion=gini, max_depth=10, min_samples_leaf=1, min_samples_split=2, n_estimators=10, score=0.693, total=   0.0s\n",
      "[CV] bootstrap=False, criterion=gini, max_depth=10, min_samples_leaf=1, min_samples_split=2, n_estimators=10 \n",
      "[CV]  bootstrap=False, criterion=gini, max_depth=10, min_samples_leaf=1, min_samples_split=2, n_estimators=10, score=0.708, total=   0.0s\n",
      "[CV] bootstrap=False, criterion=gini, max_depth=10, min_samples_leaf=1, min_samples_split=2, n_estimators=10 \n",
      "[CV]  bootstrap=False, criterion=gini, max_depth=10, min_samples_leaf=1, min_samples_split=2, n_estimators=10, score=0.707, total=   0.0s\n",
      "[CV] bootstrap=False, criterion=gini, max_depth=10, min_samples_leaf=1, min_samples_split=2, n_estimators=20 \n",
      "[CV]  bootstrap=False, criterion=gini, max_depth=10, min_samples_leaf=1, min_samples_split=2, n_estimators=20, score=0.712, total=   0.0s\n",
      "[CV] bootstrap=False, criterion=gini, max_depth=10, min_samples_leaf=1, min_samples_split=2, n_estimators=20 \n",
      "[CV]  bootstrap=False, criterion=gini, max_depth=10, min_samples_leaf=1, min_samples_split=2, n_estimators=20, score=0.745, total=   0.0s\n",
      "[CV] bootstrap=False, criterion=gini, max_depth=10, min_samples_leaf=1, min_samples_split=2, n_estimators=20 \n",
      "[CV]  bootstrap=False, criterion=gini, max_depth=10, min_samples_leaf=1, min_samples_split=2, n_estimators=20, score=0.752, total=   0.0s\n",
      "[CV] bootstrap=False, criterion=gini, max_depth=10, min_samples_leaf=1, min_samples_split=2, n_estimators=50 \n",
      "[CV]  bootstrap=False, criterion=gini, max_depth=10, min_samples_leaf=1, min_samples_split=2, n_estimators=50, score=0.712, total=   0.1s\n",
      "[CV] bootstrap=False, criterion=gini, max_depth=10, min_samples_leaf=1, min_samples_split=2, n_estimators=50 \n",
      "[CV]  bootstrap=False, criterion=gini, max_depth=10, min_samples_leaf=1, min_samples_split=2, n_estimators=50, score=0.719, total=   0.1s\n",
      "[CV] bootstrap=False, criterion=gini, max_depth=10, min_samples_leaf=1, min_samples_split=2, n_estimators=50 \n",
      "[CV]  bootstrap=False, criterion=gini, max_depth=10, min_samples_leaf=1, min_samples_split=2, n_estimators=50, score=0.741, total=   0.1s\n",
      "[CV] bootstrap=False, criterion=gini, max_depth=10, min_samples_leaf=1, min_samples_split=5, n_estimators=5 \n",
      "[CV]  bootstrap=False, criterion=gini, max_depth=10, min_samples_leaf=1, min_samples_split=5, n_estimators=5, score=0.663, total=   0.0s\n",
      "[CV] bootstrap=False, criterion=gini, max_depth=10, min_samples_leaf=1, min_samples_split=5, n_estimators=5 \n",
      "[CV]  bootstrap=False, criterion=gini, max_depth=10, min_samples_leaf=1, min_samples_split=5, n_estimators=5, score=0.727, total=   0.0s\n",
      "[CV] bootstrap=False, criterion=gini, max_depth=10, min_samples_leaf=1, min_samples_split=5, n_estimators=5 \n",
      "[CV]  bootstrap=False, criterion=gini, max_depth=10, min_samples_leaf=1, min_samples_split=5, n_estimators=5, score=0.703, total=   0.0s\n",
      "[CV] bootstrap=False, criterion=gini, max_depth=10, min_samples_leaf=1, min_samples_split=5, n_estimators=10 \n",
      "[CV]  bootstrap=False, criterion=gini, max_depth=10, min_samples_leaf=1, min_samples_split=5, n_estimators=10, score=0.685, total=   0.0s\n",
      "[CV] bootstrap=False, criterion=gini, max_depth=10, min_samples_leaf=1, min_samples_split=5, n_estimators=10 \n",
      "[CV]  bootstrap=False, criterion=gini, max_depth=10, min_samples_leaf=1, min_samples_split=5, n_estimators=10, score=0.719, total=   0.0s\n",
      "[CV] bootstrap=False, criterion=gini, max_depth=10, min_samples_leaf=1, min_samples_split=5, n_estimators=10 \n",
      "[CV]  bootstrap=False, criterion=gini, max_depth=10, min_samples_leaf=1, min_samples_split=5, n_estimators=10, score=0.748, total=   0.0s\n",
      "[CV] bootstrap=False, criterion=gini, max_depth=10, min_samples_leaf=1, min_samples_split=5, n_estimators=20 \n",
      "[CV]  bootstrap=False, criterion=gini, max_depth=10, min_samples_leaf=1, min_samples_split=5, n_estimators=20, score=0.730, total=   0.0s\n",
      "[CV] bootstrap=False, criterion=gini, max_depth=10, min_samples_leaf=1, min_samples_split=5, n_estimators=20 \n",
      "[CV]  bootstrap=False, criterion=gini, max_depth=10, min_samples_leaf=1, min_samples_split=5, n_estimators=20, score=0.730, total=   0.0s\n",
      "[CV] bootstrap=False, criterion=gini, max_depth=10, min_samples_leaf=1, min_samples_split=5, n_estimators=20 \n",
      "[CV]  bootstrap=False, criterion=gini, max_depth=10, min_samples_leaf=1, min_samples_split=5, n_estimators=20, score=0.726, total=   0.0s\n",
      "[CV] bootstrap=False, criterion=gini, max_depth=10, min_samples_leaf=1, min_samples_split=5, n_estimators=50 \n",
      "[CV]  bootstrap=False, criterion=gini, max_depth=10, min_samples_leaf=1, min_samples_split=5, n_estimators=50, score=0.712, total=   0.1s\n",
      "[CV] bootstrap=False, criterion=gini, max_depth=10, min_samples_leaf=1, min_samples_split=5, n_estimators=50 \n",
      "[CV]  bootstrap=False, criterion=gini, max_depth=10, min_samples_leaf=1, min_samples_split=5, n_estimators=50, score=0.749, total=   0.1s\n",
      "[CV] bootstrap=False, criterion=gini, max_depth=10, min_samples_leaf=1, min_samples_split=5, n_estimators=50 \n",
      "[CV]  bootstrap=False, criterion=gini, max_depth=10, min_samples_leaf=1, min_samples_split=5, n_estimators=50, score=0.737, total=   0.1s\n",
      "[CV] bootstrap=False, criterion=gini, max_depth=10, min_samples_leaf=5, min_samples_split=2, n_estimators=5 \n",
      "[CV]  bootstrap=False, criterion=gini, max_depth=10, min_samples_leaf=5, min_samples_split=2, n_estimators=5, score=0.727, total=   0.0s\n",
      "[CV] bootstrap=False, criterion=gini, max_depth=10, min_samples_leaf=5, min_samples_split=2, n_estimators=5 \n",
      "[CV]  bootstrap=False, criterion=gini, max_depth=10, min_samples_leaf=5, min_samples_split=2, n_estimators=5, score=0.742, total=   0.0s\n",
      "[CV] bootstrap=False, criterion=gini, max_depth=10, min_samples_leaf=5, min_samples_split=2, n_estimators=5 \n",
      "[CV]  bootstrap=False, criterion=gini, max_depth=10, min_samples_leaf=5, min_samples_split=2, n_estimators=5, score=0.744, total=   0.0s\n",
      "[CV] bootstrap=False, criterion=gini, max_depth=10, min_samples_leaf=5, min_samples_split=2, n_estimators=10 \n",
      "[CV]  bootstrap=False, criterion=gini, max_depth=10, min_samples_leaf=5, min_samples_split=2, n_estimators=10, score=0.727, total=   0.0s\n",
      "[CV] bootstrap=False, criterion=gini, max_depth=10, min_samples_leaf=5, min_samples_split=2, n_estimators=10 \n",
      "[CV]  bootstrap=False, criterion=gini, max_depth=10, min_samples_leaf=5, min_samples_split=2, n_estimators=10, score=0.745, total=   0.0s\n",
      "[CV] bootstrap=False, criterion=gini, max_depth=10, min_samples_leaf=5, min_samples_split=2, n_estimators=10 \n",
      "[CV]  bootstrap=False, criterion=gini, max_depth=10, min_samples_leaf=5, min_samples_split=2, n_estimators=10, score=0.756, total=   0.0s\n",
      "[CV] bootstrap=False, criterion=gini, max_depth=10, min_samples_leaf=5, min_samples_split=2, n_estimators=20 \n",
      "[CV]  bootstrap=False, criterion=gini, max_depth=10, min_samples_leaf=5, min_samples_split=2, n_estimators=20, score=0.719, total=   0.0s\n",
      "[CV] bootstrap=False, criterion=gini, max_depth=10, min_samples_leaf=5, min_samples_split=2, n_estimators=20 \n",
      "[CV]  bootstrap=False, criterion=gini, max_depth=10, min_samples_leaf=5, min_samples_split=2, n_estimators=20, score=0.727, total=   0.0s\n",
      "[CV] bootstrap=False, criterion=gini, max_depth=10, min_samples_leaf=5, min_samples_split=2, n_estimators=20 \n",
      "[CV]  bootstrap=False, criterion=gini, max_depth=10, min_samples_leaf=5, min_samples_split=2, n_estimators=20, score=0.733, total=   0.0s\n",
      "[CV] bootstrap=False, criterion=gini, max_depth=10, min_samples_leaf=5, min_samples_split=2, n_estimators=50 \n"
     ]
    },
    {
     "name": "stdout",
     "output_type": "stream",
     "text": [
      "[CV]  bootstrap=False, criterion=gini, max_depth=10, min_samples_leaf=5, min_samples_split=2, n_estimators=50, score=0.730, total=   0.1s\n",
      "[CV] bootstrap=False, criterion=gini, max_depth=10, min_samples_leaf=5, min_samples_split=2, n_estimators=50 \n",
      "[CV]  bootstrap=False, criterion=gini, max_depth=10, min_samples_leaf=5, min_samples_split=2, n_estimators=50, score=0.738, total=   0.1s\n",
      "[CV] bootstrap=False, criterion=gini, max_depth=10, min_samples_leaf=5, min_samples_split=2, n_estimators=50 \n",
      "[CV]  bootstrap=False, criterion=gini, max_depth=10, min_samples_leaf=5, min_samples_split=2, n_estimators=50, score=0.744, total=   0.1s\n",
      "[CV] bootstrap=False, criterion=gini, max_depth=10, min_samples_leaf=5, min_samples_split=5, n_estimators=5 \n",
      "[CV]  bootstrap=False, criterion=gini, max_depth=10, min_samples_leaf=5, min_samples_split=5, n_estimators=5, score=0.738, total=   0.0s\n",
      "[CV] bootstrap=False, criterion=gini, max_depth=10, min_samples_leaf=5, min_samples_split=5, n_estimators=5 \n",
      "[CV]  bootstrap=False, criterion=gini, max_depth=10, min_samples_leaf=5, min_samples_split=5, n_estimators=5, score=0.704, total=   0.0s\n",
      "[CV] bootstrap=False, criterion=gini, max_depth=10, min_samples_leaf=5, min_samples_split=5, n_estimators=5 \n",
      "[CV]  bootstrap=False, criterion=gini, max_depth=10, min_samples_leaf=5, min_samples_split=5, n_estimators=5, score=0.748, total=   0.0s\n",
      "[CV] bootstrap=False, criterion=gini, max_depth=10, min_samples_leaf=5, min_samples_split=5, n_estimators=10 \n",
      "[CV]  bootstrap=False, criterion=gini, max_depth=10, min_samples_leaf=5, min_samples_split=5, n_estimators=10, score=0.727, total=   0.0s\n",
      "[CV] bootstrap=False, criterion=gini, max_depth=10, min_samples_leaf=5, min_samples_split=5, n_estimators=10 \n",
      "[CV]  bootstrap=False, criterion=gini, max_depth=10, min_samples_leaf=5, min_samples_split=5, n_estimators=10, score=0.742, total=   0.0s\n",
      "[CV] bootstrap=False, criterion=gini, max_depth=10, min_samples_leaf=5, min_samples_split=5, n_estimators=10 \n",
      "[CV]  bootstrap=False, criterion=gini, max_depth=10, min_samples_leaf=5, min_samples_split=5, n_estimators=10, score=0.748, total=   0.0s\n",
      "[CV] bootstrap=False, criterion=gini, max_depth=10, min_samples_leaf=5, min_samples_split=5, n_estimators=20 \n",
      "[CV]  bootstrap=False, criterion=gini, max_depth=10, min_samples_leaf=5, min_samples_split=5, n_estimators=20, score=0.738, total=   0.0s\n",
      "[CV] bootstrap=False, criterion=gini, max_depth=10, min_samples_leaf=5, min_samples_split=5, n_estimators=20 \n",
      "[CV]  bootstrap=False, criterion=gini, max_depth=10, min_samples_leaf=5, min_samples_split=5, n_estimators=20, score=0.742, total=   0.0s\n",
      "[CV] bootstrap=False, criterion=gini, max_depth=10, min_samples_leaf=5, min_samples_split=5, n_estimators=20 \n",
      "[CV]  bootstrap=False, criterion=gini, max_depth=10, min_samples_leaf=5, min_samples_split=5, n_estimators=20, score=0.744, total=   0.0s\n",
      "[CV] bootstrap=False, criterion=gini, max_depth=10, min_samples_leaf=5, min_samples_split=5, n_estimators=50 \n",
      "[CV]  bootstrap=False, criterion=gini, max_depth=10, min_samples_leaf=5, min_samples_split=5, n_estimators=50, score=0.742, total=   0.1s\n",
      "[CV] bootstrap=False, criterion=gini, max_depth=10, min_samples_leaf=5, min_samples_split=5, n_estimators=50 \n",
      "[CV]  bootstrap=False, criterion=gini, max_depth=10, min_samples_leaf=5, min_samples_split=5, n_estimators=50, score=0.738, total=   0.1s\n",
      "[CV] bootstrap=False, criterion=gini, max_depth=10, min_samples_leaf=5, min_samples_split=5, n_estimators=50 \n",
      "[CV]  bootstrap=False, criterion=gini, max_depth=10, min_samples_leaf=5, min_samples_split=5, n_estimators=50, score=0.756, total=   0.1s\n",
      "[CV] bootstrap=False, criterion=gini, max_depth=15, min_samples_leaf=1, min_samples_split=2, n_estimators=5 \n",
      "[CV]  bootstrap=False, criterion=gini, max_depth=15, min_samples_leaf=1, min_samples_split=2, n_estimators=5, score=0.685, total=   0.0s\n",
      "[CV] bootstrap=False, criterion=gini, max_depth=15, min_samples_leaf=1, min_samples_split=2, n_estimators=5 \n",
      "[CV]  bootstrap=False, criterion=gini, max_depth=15, min_samples_leaf=1, min_samples_split=2, n_estimators=5, score=0.685, total=   0.0s\n",
      "[CV] bootstrap=False, criterion=gini, max_depth=15, min_samples_leaf=1, min_samples_split=2, n_estimators=5 \n",
      "[CV]  bootstrap=False, criterion=gini, max_depth=15, min_samples_leaf=1, min_samples_split=2, n_estimators=5, score=0.729, total=   0.0s\n",
      "[CV] bootstrap=False, criterion=gini, max_depth=15, min_samples_leaf=1, min_samples_split=2, n_estimators=10 \n",
      "[CV]  bootstrap=False, criterion=gini, max_depth=15, min_samples_leaf=1, min_samples_split=2, n_estimators=10, score=0.704, total=   0.0s\n",
      "[CV] bootstrap=False, criterion=gini, max_depth=15, min_samples_leaf=1, min_samples_split=2, n_estimators=10 \n",
      "[CV]  bootstrap=False, criterion=gini, max_depth=15, min_samples_leaf=1, min_samples_split=2, n_estimators=10, score=0.693, total=   0.0s\n",
      "[CV] bootstrap=False, criterion=gini, max_depth=15, min_samples_leaf=1, min_samples_split=2, n_estimators=10 \n",
      "[CV]  bootstrap=False, criterion=gini, max_depth=15, min_samples_leaf=1, min_samples_split=2, n_estimators=10, score=0.711, total=   0.0s\n",
      "[CV] bootstrap=False, criterion=gini, max_depth=15, min_samples_leaf=1, min_samples_split=2, n_estimators=20 \n",
      "[CV]  bootstrap=False, criterion=gini, max_depth=15, min_samples_leaf=1, min_samples_split=2, n_estimators=20, score=0.704, total=   0.0s\n",
      "[CV] bootstrap=False, criterion=gini, max_depth=15, min_samples_leaf=1, min_samples_split=2, n_estimators=20 \n",
      "[CV]  bootstrap=False, criterion=gini, max_depth=15, min_samples_leaf=1, min_samples_split=2, n_estimators=20, score=0.723, total=   0.0s\n",
      "[CV] bootstrap=False, criterion=gini, max_depth=15, min_samples_leaf=1, min_samples_split=2, n_estimators=20 \n",
      "[CV]  bootstrap=False, criterion=gini, max_depth=15, min_samples_leaf=1, min_samples_split=2, n_estimators=20, score=0.741, total=   0.0s\n",
      "[CV] bootstrap=False, criterion=gini, max_depth=15, min_samples_leaf=1, min_samples_split=2, n_estimators=50 \n",
      "[CV]  bootstrap=False, criterion=gini, max_depth=15, min_samples_leaf=1, min_samples_split=2, n_estimators=50, score=0.700, total=   0.1s\n",
      "[CV] bootstrap=False, criterion=gini, max_depth=15, min_samples_leaf=1, min_samples_split=2, n_estimators=50 \n",
      "[CV]  bootstrap=False, criterion=gini, max_depth=15, min_samples_leaf=1, min_samples_split=2, n_estimators=50, score=0.745, total=   0.1s\n",
      "[CV] bootstrap=False, criterion=gini, max_depth=15, min_samples_leaf=1, min_samples_split=2, n_estimators=50 \n",
      "[CV]  bootstrap=False, criterion=gini, max_depth=15, min_samples_leaf=1, min_samples_split=2, n_estimators=50, score=0.729, total=   0.1s\n",
      "[CV] bootstrap=False, criterion=gini, max_depth=15, min_samples_leaf=1, min_samples_split=5, n_estimators=5 \n",
      "[CV]  bootstrap=False, criterion=gini, max_depth=15, min_samples_leaf=1, min_samples_split=5, n_estimators=5, score=0.682, total=   0.0s\n",
      "[CV] bootstrap=False, criterion=gini, max_depth=15, min_samples_leaf=1, min_samples_split=5, n_estimators=5 \n",
      "[CV]  bootstrap=False, criterion=gini, max_depth=15, min_samples_leaf=1, min_samples_split=5, n_estimators=5, score=0.719, total=   0.0s\n",
      "[CV] bootstrap=False, criterion=gini, max_depth=15, min_samples_leaf=1, min_samples_split=5, n_estimators=5 \n",
      "[CV]  bootstrap=False, criterion=gini, max_depth=15, min_samples_leaf=1, min_samples_split=5, n_estimators=5, score=0.711, total=   0.0s\n",
      "[CV] bootstrap=False, criterion=gini, max_depth=15, min_samples_leaf=1, min_samples_split=5, n_estimators=10 \n",
      "[CV]  bootstrap=False, criterion=gini, max_depth=15, min_samples_leaf=1, min_samples_split=5, n_estimators=10, score=0.704, total=   0.0s\n",
      "[CV] bootstrap=False, criterion=gini, max_depth=15, min_samples_leaf=1, min_samples_split=5, n_estimators=10 \n",
      "[CV]  bootstrap=False, criterion=gini, max_depth=15, min_samples_leaf=1, min_samples_split=5, n_estimators=10, score=0.715, total=   0.0s\n",
      "[CV] bootstrap=False, criterion=gini, max_depth=15, min_samples_leaf=1, min_samples_split=5, n_estimators=10 \n",
      "[CV]  bootstrap=False, criterion=gini, max_depth=15, min_samples_leaf=1, min_samples_split=5, n_estimators=10, score=0.695, total=   0.0s\n",
      "[CV] bootstrap=False, criterion=gini, max_depth=15, min_samples_leaf=1, min_samples_split=5, n_estimators=20 \n",
      "[CV]  bootstrap=False, criterion=gini, max_depth=15, min_samples_leaf=1, min_samples_split=5, n_estimators=20, score=0.704, total=   0.0s\n",
      "[CV] bootstrap=False, criterion=gini, max_depth=15, min_samples_leaf=1, min_samples_split=5, n_estimators=20 \n",
      "[CV]  bootstrap=False, criterion=gini, max_depth=15, min_samples_leaf=1, min_samples_split=5, n_estimators=20, score=0.700, total=   0.0s\n",
      "[CV] bootstrap=False, criterion=gini, max_depth=15, min_samples_leaf=1, min_samples_split=5, n_estimators=20 \n",
      "[CV]  bootstrap=False, criterion=gini, max_depth=15, min_samples_leaf=1, min_samples_split=5, n_estimators=20, score=0.756, total=   0.0s\n",
      "[CV] bootstrap=False, criterion=gini, max_depth=15, min_samples_leaf=1, min_samples_split=5, n_estimators=50 \n"
     ]
    },
    {
     "name": "stdout",
     "output_type": "stream",
     "text": [
      "[CV]  bootstrap=False, criterion=gini, max_depth=15, min_samples_leaf=1, min_samples_split=5, n_estimators=50, score=0.734, total=   0.1s\n",
      "[CV] bootstrap=False, criterion=gini, max_depth=15, min_samples_leaf=1, min_samples_split=5, n_estimators=50 \n",
      "[CV]  bootstrap=False, criterion=gini, max_depth=15, min_samples_leaf=1, min_samples_split=5, n_estimators=50, score=0.727, total=   0.1s\n",
      "[CV] bootstrap=False, criterion=gini, max_depth=15, min_samples_leaf=1, min_samples_split=5, n_estimators=50 \n",
      "[CV]  bootstrap=False, criterion=gini, max_depth=15, min_samples_leaf=1, min_samples_split=5, n_estimators=50, score=0.748, total=   0.1s\n",
      "[CV] bootstrap=False, criterion=gini, max_depth=15, min_samples_leaf=5, min_samples_split=2, n_estimators=5 \n",
      "[CV]  bootstrap=False, criterion=gini, max_depth=15, min_samples_leaf=5, min_samples_split=2, n_estimators=5, score=0.723, total=   0.0s\n",
      "[CV] bootstrap=False, criterion=gini, max_depth=15, min_samples_leaf=5, min_samples_split=2, n_estimators=5 \n",
      "[CV]  bootstrap=False, criterion=gini, max_depth=15, min_samples_leaf=5, min_samples_split=2, n_estimators=5, score=0.730, total=   0.0s\n",
      "[CV] bootstrap=False, criterion=gini, max_depth=15, min_samples_leaf=5, min_samples_split=2, n_estimators=5 \n",
      "[CV]  bootstrap=False, criterion=gini, max_depth=15, min_samples_leaf=5, min_samples_split=2, n_estimators=5, score=0.718, total=   0.0s\n",
      "[CV] bootstrap=False, criterion=gini, max_depth=15, min_samples_leaf=5, min_samples_split=2, n_estimators=10 \n",
      "[CV]  bootstrap=False, criterion=gini, max_depth=15, min_samples_leaf=5, min_samples_split=2, n_estimators=10, score=0.742, total=   0.0s\n",
      "[CV] bootstrap=False, criterion=gini, max_depth=15, min_samples_leaf=5, min_samples_split=2, n_estimators=10 \n",
      "[CV]  bootstrap=False, criterion=gini, max_depth=15, min_samples_leaf=5, min_samples_split=2, n_estimators=10, score=0.742, total=   0.0s\n",
      "[CV] bootstrap=False, criterion=gini, max_depth=15, min_samples_leaf=5, min_samples_split=2, n_estimators=10 \n",
      "[CV]  bootstrap=False, criterion=gini, max_depth=15, min_samples_leaf=5, min_samples_split=2, n_estimators=10, score=0.707, total=   0.0s\n",
      "[CV] bootstrap=False, criterion=gini, max_depth=15, min_samples_leaf=5, min_samples_split=2, n_estimators=20 \n",
      "[CV]  bootstrap=False, criterion=gini, max_depth=15, min_samples_leaf=5, min_samples_split=2, n_estimators=20, score=0.730, total=   0.0s\n",
      "[CV] bootstrap=False, criterion=gini, max_depth=15, min_samples_leaf=5, min_samples_split=2, n_estimators=20 \n",
      "[CV]  bootstrap=False, criterion=gini, max_depth=15, min_samples_leaf=5, min_samples_split=2, n_estimators=20, score=0.742, total=   0.0s\n",
      "[CV] bootstrap=False, criterion=gini, max_depth=15, min_samples_leaf=5, min_samples_split=2, n_estimators=20 \n",
      "[CV]  bootstrap=False, criterion=gini, max_depth=15, min_samples_leaf=5, min_samples_split=2, n_estimators=20, score=0.744, total=   0.0s\n",
      "[CV] bootstrap=False, criterion=gini, max_depth=15, min_samples_leaf=5, min_samples_split=2, n_estimators=50 \n",
      "[CV]  bootstrap=False, criterion=gini, max_depth=15, min_samples_leaf=5, min_samples_split=2, n_estimators=50, score=0.745, total=   0.1s\n",
      "[CV] bootstrap=False, criterion=gini, max_depth=15, min_samples_leaf=5, min_samples_split=2, n_estimators=50 \n",
      "[CV]  bootstrap=False, criterion=gini, max_depth=15, min_samples_leaf=5, min_samples_split=2, n_estimators=50, score=0.749, total=   0.1s\n",
      "[CV] bootstrap=False, criterion=gini, max_depth=15, min_samples_leaf=5, min_samples_split=2, n_estimators=50 \n",
      "[CV]  bootstrap=False, criterion=gini, max_depth=15, min_samples_leaf=5, min_samples_split=2, n_estimators=50, score=0.733, total=   0.1s\n",
      "[CV] bootstrap=False, criterion=gini, max_depth=15, min_samples_leaf=5, min_samples_split=5, n_estimators=5 \n",
      "[CV]  bootstrap=False, criterion=gini, max_depth=15, min_samples_leaf=5, min_samples_split=5, n_estimators=5, score=0.742, total=   0.0s\n",
      "[CV] bootstrap=False, criterion=gini, max_depth=15, min_samples_leaf=5, min_samples_split=5, n_estimators=5 \n",
      "[CV]  bootstrap=False, criterion=gini, max_depth=15, min_samples_leaf=5, min_samples_split=5, n_estimators=5, score=0.730, total=   0.0s\n",
      "[CV] bootstrap=False, criterion=gini, max_depth=15, min_samples_leaf=5, min_samples_split=5, n_estimators=5 \n",
      "[CV]  bootstrap=False, criterion=gini, max_depth=15, min_samples_leaf=5, min_samples_split=5, n_estimators=5, score=0.729, total=   0.0s\n",
      "[CV] bootstrap=False, criterion=gini, max_depth=15, min_samples_leaf=5, min_samples_split=5, n_estimators=10 \n",
      "[CV]  bootstrap=False, criterion=gini, max_depth=15, min_samples_leaf=5, min_samples_split=5, n_estimators=10, score=0.727, total=   0.0s\n",
      "[CV] bootstrap=False, criterion=gini, max_depth=15, min_samples_leaf=5, min_samples_split=5, n_estimators=10 \n",
      "[CV]  bootstrap=False, criterion=gini, max_depth=15, min_samples_leaf=5, min_samples_split=5, n_estimators=10, score=0.749, total=   0.0s\n",
      "[CV] bootstrap=False, criterion=gini, max_depth=15, min_samples_leaf=5, min_samples_split=5, n_estimators=10 \n",
      "[CV]  bootstrap=False, criterion=gini, max_depth=15, min_samples_leaf=5, min_samples_split=5, n_estimators=10, score=0.759, total=   0.0s\n",
      "[CV] bootstrap=False, criterion=gini, max_depth=15, min_samples_leaf=5, min_samples_split=5, n_estimators=20 \n",
      "[CV]  bootstrap=False, criterion=gini, max_depth=15, min_samples_leaf=5, min_samples_split=5, n_estimators=20, score=0.745, total=   0.0s\n",
      "[CV] bootstrap=False, criterion=gini, max_depth=15, min_samples_leaf=5, min_samples_split=5, n_estimators=20 \n",
      "[CV]  bootstrap=False, criterion=gini, max_depth=15, min_samples_leaf=5, min_samples_split=5, n_estimators=20, score=0.727, total=   0.0s\n",
      "[CV] bootstrap=False, criterion=gini, max_depth=15, min_samples_leaf=5, min_samples_split=5, n_estimators=20 \n",
      "[CV]  bootstrap=False, criterion=gini, max_depth=15, min_samples_leaf=5, min_samples_split=5, n_estimators=20, score=0.733, total=   0.0s\n",
      "[CV] bootstrap=False, criterion=gini, max_depth=15, min_samples_leaf=5, min_samples_split=5, n_estimators=50 \n",
      "[CV]  bootstrap=False, criterion=gini, max_depth=15, min_samples_leaf=5, min_samples_split=5, n_estimators=50, score=0.734, total=   0.1s\n",
      "[CV] bootstrap=False, criterion=gini, max_depth=15, min_samples_leaf=5, min_samples_split=5, n_estimators=50 \n",
      "[CV]  bootstrap=False, criterion=gini, max_depth=15, min_samples_leaf=5, min_samples_split=5, n_estimators=50, score=0.734, total=   0.1s\n",
      "[CV] bootstrap=False, criterion=gini, max_depth=15, min_samples_leaf=5, min_samples_split=5, n_estimators=50 \n",
      "[CV]  bootstrap=False, criterion=gini, max_depth=15, min_samples_leaf=5, min_samples_split=5, n_estimators=50, score=0.741, total=   0.1s\n",
      "[CV] bootstrap=False, criterion=entropy, max_depth=None, min_samples_leaf=1, min_samples_split=2, n_estimators=5 \n",
      "[CV]  bootstrap=False, criterion=entropy, max_depth=None, min_samples_leaf=1, min_samples_split=2, n_estimators=5, score=0.678, total=   0.0s\n",
      "[CV] bootstrap=False, criterion=entropy, max_depth=None, min_samples_leaf=1, min_samples_split=2, n_estimators=5 \n",
      "[CV]  bootstrap=False, criterion=entropy, max_depth=None, min_samples_leaf=1, min_samples_split=2, n_estimators=5, score=0.685, total=   0.0s\n",
      "[CV] bootstrap=False, criterion=entropy, max_depth=None, min_samples_leaf=1, min_samples_split=2, n_estimators=5 \n",
      "[CV]  bootstrap=False, criterion=entropy, max_depth=None, min_samples_leaf=1, min_samples_split=2, n_estimators=5, score=0.703, total=   0.0s\n",
      "[CV] bootstrap=False, criterion=entropy, max_depth=None, min_samples_leaf=1, min_samples_split=2, n_estimators=10 \n",
      "[CV]  bootstrap=False, criterion=entropy, max_depth=None, min_samples_leaf=1, min_samples_split=2, n_estimators=10, score=0.715, total=   0.0s\n",
      "[CV] bootstrap=False, criterion=entropy, max_depth=None, min_samples_leaf=1, min_samples_split=2, n_estimators=10 \n",
      "[CV]  bootstrap=False, criterion=entropy, max_depth=None, min_samples_leaf=1, min_samples_split=2, n_estimators=10, score=0.693, total=   0.0s\n",
      "[CV] bootstrap=False, criterion=entropy, max_depth=None, min_samples_leaf=1, min_samples_split=2, n_estimators=10 \n",
      "[CV]  bootstrap=False, criterion=entropy, max_depth=None, min_samples_leaf=1, min_samples_split=2, n_estimators=10, score=0.718, total=   0.0s\n",
      "[CV] bootstrap=False, criterion=entropy, max_depth=None, min_samples_leaf=1, min_samples_split=2, n_estimators=20 \n",
      "[CV]  bootstrap=False, criterion=entropy, max_depth=None, min_samples_leaf=1, min_samples_split=2, n_estimators=20, score=0.678, total=   0.1s\n",
      "[CV] bootstrap=False, criterion=entropy, max_depth=None, min_samples_leaf=1, min_samples_split=2, n_estimators=20 \n"
     ]
    },
    {
     "name": "stdout",
     "output_type": "stream",
     "text": [
      "[CV]  bootstrap=False, criterion=entropy, max_depth=None, min_samples_leaf=1, min_samples_split=2, n_estimators=20, score=0.685, total=   0.0s\n",
      "[CV] bootstrap=False, criterion=entropy, max_depth=None, min_samples_leaf=1, min_samples_split=2, n_estimators=20 \n",
      "[CV]  bootstrap=False, criterion=entropy, max_depth=None, min_samples_leaf=1, min_samples_split=2, n_estimators=20, score=0.711, total=   0.0s\n",
      "[CV] bootstrap=False, criterion=entropy, max_depth=None, min_samples_leaf=1, min_samples_split=2, n_estimators=50 \n",
      "[CV]  bootstrap=False, criterion=entropy, max_depth=None, min_samples_leaf=1, min_samples_split=2, n_estimators=50, score=0.674, total=   0.1s\n",
      "[CV] bootstrap=False, criterion=entropy, max_depth=None, min_samples_leaf=1, min_samples_split=2, n_estimators=50 \n",
      "[CV]  bootstrap=False, criterion=entropy, max_depth=None, min_samples_leaf=1, min_samples_split=2, n_estimators=50, score=0.715, total=   0.1s\n",
      "[CV] bootstrap=False, criterion=entropy, max_depth=None, min_samples_leaf=1, min_samples_split=2, n_estimators=50 \n",
      "[CV]  bootstrap=False, criterion=entropy, max_depth=None, min_samples_leaf=1, min_samples_split=2, n_estimators=50, score=0.733, total=   0.1s\n",
      "[CV] bootstrap=False, criterion=entropy, max_depth=None, min_samples_leaf=1, min_samples_split=5, n_estimators=5 \n",
      "[CV]  bootstrap=False, criterion=entropy, max_depth=None, min_samples_leaf=1, min_samples_split=5, n_estimators=5, score=0.693, total=   0.0s\n",
      "[CV] bootstrap=False, criterion=entropy, max_depth=None, min_samples_leaf=1, min_samples_split=5, n_estimators=5 \n",
      "[CV]  bootstrap=False, criterion=entropy, max_depth=None, min_samples_leaf=1, min_samples_split=5, n_estimators=5, score=0.682, total=   0.0s\n",
      "[CV] bootstrap=False, criterion=entropy, max_depth=None, min_samples_leaf=1, min_samples_split=5, n_estimators=5 \n",
      "[CV]  bootstrap=False, criterion=entropy, max_depth=None, min_samples_leaf=1, min_samples_split=5, n_estimators=5, score=0.748, total=   0.0s\n",
      "[CV] bootstrap=False, criterion=entropy, max_depth=None, min_samples_leaf=1, min_samples_split=5, n_estimators=10 \n",
      "[CV]  bootstrap=False, criterion=entropy, max_depth=None, min_samples_leaf=1, min_samples_split=5, n_estimators=10, score=0.670, total=   0.0s\n",
      "[CV] bootstrap=False, criterion=entropy, max_depth=None, min_samples_leaf=1, min_samples_split=5, n_estimators=10 \n",
      "[CV]  bootstrap=False, criterion=entropy, max_depth=None, min_samples_leaf=1, min_samples_split=5, n_estimators=10, score=0.719, total=   0.0s\n",
      "[CV] bootstrap=False, criterion=entropy, max_depth=None, min_samples_leaf=1, min_samples_split=5, n_estimators=10 \n",
      "[CV]  bootstrap=False, criterion=entropy, max_depth=None, min_samples_leaf=1, min_samples_split=5, n_estimators=10, score=0.714, total=   0.0s\n",
      "[CV] bootstrap=False, criterion=entropy, max_depth=None, min_samples_leaf=1, min_samples_split=5, n_estimators=20 \n",
      "[CV]  bootstrap=False, criterion=entropy, max_depth=None, min_samples_leaf=1, min_samples_split=5, n_estimators=20, score=0.723, total=   0.0s\n",
      "[CV] bootstrap=False, criterion=entropy, max_depth=None, min_samples_leaf=1, min_samples_split=5, n_estimators=20 \n",
      "[CV]  bootstrap=False, criterion=entropy, max_depth=None, min_samples_leaf=1, min_samples_split=5, n_estimators=20, score=0.730, total=   0.0s\n",
      "[CV] bootstrap=False, criterion=entropy, max_depth=None, min_samples_leaf=1, min_samples_split=5, n_estimators=20 \n",
      "[CV]  bootstrap=False, criterion=entropy, max_depth=None, min_samples_leaf=1, min_samples_split=5, n_estimators=20, score=0.729, total=   0.1s\n",
      "[CV] bootstrap=False, criterion=entropy, max_depth=None, min_samples_leaf=1, min_samples_split=5, n_estimators=50 \n",
      "[CV]  bootstrap=False, criterion=entropy, max_depth=None, min_samples_leaf=1, min_samples_split=5, n_estimators=50, score=0.723, total=   0.1s\n",
      "[CV] bootstrap=False, criterion=entropy, max_depth=None, min_samples_leaf=1, min_samples_split=5, n_estimators=50 \n",
      "[CV]  bootstrap=False, criterion=entropy, max_depth=None, min_samples_leaf=1, min_samples_split=5, n_estimators=50, score=0.715, total=   0.1s\n",
      "[CV] bootstrap=False, criterion=entropy, max_depth=None, min_samples_leaf=1, min_samples_split=5, n_estimators=50 \n",
      "[CV]  bootstrap=False, criterion=entropy, max_depth=None, min_samples_leaf=1, min_samples_split=5, n_estimators=50, score=0.744, total=   0.1s\n",
      "[CV] bootstrap=False, criterion=entropy, max_depth=None, min_samples_leaf=5, min_samples_split=2, n_estimators=5 \n",
      "[CV]  bootstrap=False, criterion=entropy, max_depth=None, min_samples_leaf=5, min_samples_split=2, n_estimators=5, score=0.715, total=   0.0s\n",
      "[CV] bootstrap=False, criterion=entropy, max_depth=None, min_samples_leaf=5, min_samples_split=2, n_estimators=5 \n",
      "[CV]  bootstrap=False, criterion=entropy, max_depth=None, min_samples_leaf=5, min_samples_split=2, n_estimators=5, score=0.719, total=   0.0s\n",
      "[CV] bootstrap=False, criterion=entropy, max_depth=None, min_samples_leaf=5, min_samples_split=2, n_estimators=5 \n",
      "[CV]  bootstrap=False, criterion=entropy, max_depth=None, min_samples_leaf=5, min_samples_split=2, n_estimators=5, score=0.722, total=   0.0s\n",
      "[CV] bootstrap=False, criterion=entropy, max_depth=None, min_samples_leaf=5, min_samples_split=2, n_estimators=10 \n",
      "[CV]  bootstrap=False, criterion=entropy, max_depth=None, min_samples_leaf=5, min_samples_split=2, n_estimators=10, score=0.715, total=   0.0s\n",
      "[CV] bootstrap=False, criterion=entropy, max_depth=None, min_samples_leaf=5, min_samples_split=2, n_estimators=10 \n",
      "[CV]  bootstrap=False, criterion=entropy, max_depth=None, min_samples_leaf=5, min_samples_split=2, n_estimators=10, score=0.734, total=   0.0s\n",
      "[CV] bootstrap=False, criterion=entropy, max_depth=None, min_samples_leaf=5, min_samples_split=2, n_estimators=10 \n",
      "[CV]  bootstrap=False, criterion=entropy, max_depth=None, min_samples_leaf=5, min_samples_split=2, n_estimators=10, score=0.714, total=   0.0s\n",
      "[CV] bootstrap=False, criterion=entropy, max_depth=None, min_samples_leaf=5, min_samples_split=2, n_estimators=20 \n",
      "[CV]  bootstrap=False, criterion=entropy, max_depth=None, min_samples_leaf=5, min_samples_split=2, n_estimators=20, score=0.727, total=   0.1s\n",
      "[CV] bootstrap=False, criterion=entropy, max_depth=None, min_samples_leaf=5, min_samples_split=2, n_estimators=20 \n",
      "[CV]  bootstrap=False, criterion=entropy, max_depth=None, min_samples_leaf=5, min_samples_split=2, n_estimators=20, score=0.738, total=   0.1s\n",
      "[CV] bootstrap=False, criterion=entropy, max_depth=None, min_samples_leaf=5, min_samples_split=2, n_estimators=20 \n",
      "[CV]  bootstrap=False, criterion=entropy, max_depth=None, min_samples_leaf=5, min_samples_split=2, n_estimators=20, score=0.722, total=   0.1s\n",
      "[CV] bootstrap=False, criterion=entropy, max_depth=None, min_samples_leaf=5, min_samples_split=2, n_estimators=50 \n",
      "[CV]  bootstrap=False, criterion=entropy, max_depth=None, min_samples_leaf=5, min_samples_split=2, n_estimators=50, score=0.719, total=   0.1s\n",
      "[CV] bootstrap=False, criterion=entropy, max_depth=None, min_samples_leaf=5, min_samples_split=2, n_estimators=50 \n",
      "[CV]  bootstrap=False, criterion=entropy, max_depth=None, min_samples_leaf=5, min_samples_split=2, n_estimators=50, score=0.734, total=   0.1s\n",
      "[CV] bootstrap=False, criterion=entropy, max_depth=None, min_samples_leaf=5, min_samples_split=2, n_estimators=50 \n",
      "[CV]  bootstrap=False, criterion=entropy, max_depth=None, min_samples_leaf=5, min_samples_split=2, n_estimators=50, score=0.741, total=   0.1s\n",
      "[CV] bootstrap=False, criterion=entropy, max_depth=None, min_samples_leaf=5, min_samples_split=5, n_estimators=5 \n",
      "[CV]  bootstrap=False, criterion=entropy, max_depth=None, min_samples_leaf=5, min_samples_split=5, n_estimators=5, score=0.708, total=   0.0s\n",
      "[CV] bootstrap=False, criterion=entropy, max_depth=None, min_samples_leaf=5, min_samples_split=5, n_estimators=5 \n",
      "[CV]  bootstrap=False, criterion=entropy, max_depth=None, min_samples_leaf=5, min_samples_split=5, n_estimators=5, score=0.723, total=   0.0s\n",
      "[CV] bootstrap=False, criterion=entropy, max_depth=None, min_samples_leaf=5, min_samples_split=5, n_estimators=5 \n",
      "[CV]  bootstrap=False, criterion=entropy, max_depth=None, min_samples_leaf=5, min_samples_split=5, n_estimators=5, score=0.756, total=   0.0s\n",
      "[CV] bootstrap=False, criterion=entropy, max_depth=None, min_samples_leaf=5, min_samples_split=5, n_estimators=10 \n",
      "[CV]  bootstrap=False, criterion=entropy, max_depth=None, min_samples_leaf=5, min_samples_split=5, n_estimators=10, score=0.730, total=   0.0s\n",
      "[CV] bootstrap=False, criterion=entropy, max_depth=None, min_samples_leaf=5, min_samples_split=5, n_estimators=10 \n",
      "[CV]  bootstrap=False, criterion=entropy, max_depth=None, min_samples_leaf=5, min_samples_split=5, n_estimators=10, score=0.730, total=   0.0s\n",
      "[CV] bootstrap=False, criterion=entropy, max_depth=None, min_samples_leaf=5, min_samples_split=5, n_estimators=10 \n"
     ]
    },
    {
     "name": "stdout",
     "output_type": "stream",
     "text": [
      "[CV]  bootstrap=False, criterion=entropy, max_depth=None, min_samples_leaf=5, min_samples_split=5, n_estimators=10, score=0.729, total=   0.0s\n",
      "[CV] bootstrap=False, criterion=entropy, max_depth=None, min_samples_leaf=5, min_samples_split=5, n_estimators=20 \n",
      "[CV]  bootstrap=False, criterion=entropy, max_depth=None, min_samples_leaf=5, min_samples_split=5, n_estimators=20, score=0.734, total=   0.0s\n",
      "[CV] bootstrap=False, criterion=entropy, max_depth=None, min_samples_leaf=5, min_samples_split=5, n_estimators=20 \n",
      "[CV]  bootstrap=False, criterion=entropy, max_depth=None, min_samples_leaf=5, min_samples_split=5, n_estimators=20, score=0.745, total=   0.0s\n",
      "[CV] bootstrap=False, criterion=entropy, max_depth=None, min_samples_leaf=5, min_samples_split=5, n_estimators=20 \n",
      "[CV]  bootstrap=False, criterion=entropy, max_depth=None, min_samples_leaf=5, min_samples_split=5, n_estimators=20, score=0.722, total=   0.0s\n",
      "[CV] bootstrap=False, criterion=entropy, max_depth=None, min_samples_leaf=5, min_samples_split=5, n_estimators=50 \n",
      "[CV]  bootstrap=False, criterion=entropy, max_depth=None, min_samples_leaf=5, min_samples_split=5, n_estimators=50, score=0.723, total=   0.1s\n",
      "[CV] bootstrap=False, criterion=entropy, max_depth=None, min_samples_leaf=5, min_samples_split=5, n_estimators=50 \n",
      "[CV]  bootstrap=False, criterion=entropy, max_depth=None, min_samples_leaf=5, min_samples_split=5, n_estimators=50, score=0.727, total=   0.1s\n",
      "[CV] bootstrap=False, criterion=entropy, max_depth=None, min_samples_leaf=5, min_samples_split=5, n_estimators=50 \n",
      "[CV]  bootstrap=False, criterion=entropy, max_depth=None, min_samples_leaf=5, min_samples_split=5, n_estimators=50, score=0.752, total=   0.1s\n",
      "[CV] bootstrap=False, criterion=entropy, max_depth=5, min_samples_leaf=1, min_samples_split=2, n_estimators=5 \n",
      "[CV]  bootstrap=False, criterion=entropy, max_depth=5, min_samples_leaf=1, min_samples_split=2, n_estimators=5, score=0.723, total=   0.0s\n",
      "[CV] bootstrap=False, criterion=entropy, max_depth=5, min_samples_leaf=1, min_samples_split=2, n_estimators=5 \n",
      "[CV]  bootstrap=False, criterion=entropy, max_depth=5, min_samples_leaf=1, min_samples_split=2, n_estimators=5, score=0.723, total=   0.0s\n",
      "[CV] bootstrap=False, criterion=entropy, max_depth=5, min_samples_leaf=1, min_samples_split=2, n_estimators=5 \n",
      "[CV]  bootstrap=False, criterion=entropy, max_depth=5, min_samples_leaf=1, min_samples_split=2, n_estimators=5, score=0.718, total=   0.0s\n",
      "[CV] bootstrap=False, criterion=entropy, max_depth=5, min_samples_leaf=1, min_samples_split=2, n_estimators=10 \n",
      "[CV]  bootstrap=False, criterion=entropy, max_depth=5, min_samples_leaf=1, min_samples_split=2, n_estimators=10, score=0.708, total=   0.0s\n",
      "[CV] bootstrap=False, criterion=entropy, max_depth=5, min_samples_leaf=1, min_samples_split=2, n_estimators=10 \n",
      "[CV]  bootstrap=False, criterion=entropy, max_depth=5, min_samples_leaf=1, min_samples_split=2, n_estimators=10, score=0.742, total=   0.0s\n",
      "[CV] bootstrap=False, criterion=entropy, max_depth=5, min_samples_leaf=1, min_samples_split=2, n_estimators=10 \n",
      "[CV]  bootstrap=False, criterion=entropy, max_depth=5, min_samples_leaf=1, min_samples_split=2, n_estimators=10, score=0.744, total=   0.0s\n",
      "[CV] bootstrap=False, criterion=entropy, max_depth=5, min_samples_leaf=1, min_samples_split=2, n_estimators=20 \n",
      "[CV]  bootstrap=False, criterion=entropy, max_depth=5, min_samples_leaf=1, min_samples_split=2, n_estimators=20, score=0.727, total=   0.0s\n",
      "[CV] bootstrap=False, criterion=entropy, max_depth=5, min_samples_leaf=1, min_samples_split=2, n_estimators=20 \n",
      "[CV]  bootstrap=False, criterion=entropy, max_depth=5, min_samples_leaf=1, min_samples_split=2, n_estimators=20, score=0.738, total=   0.0s\n",
      "[CV] bootstrap=False, criterion=entropy, max_depth=5, min_samples_leaf=1, min_samples_split=2, n_estimators=20 \n",
      "[CV]  bootstrap=False, criterion=entropy, max_depth=5, min_samples_leaf=1, min_samples_split=2, n_estimators=20, score=0.737, total=   0.0s\n",
      "[CV] bootstrap=False, criterion=entropy, max_depth=5, min_samples_leaf=1, min_samples_split=2, n_estimators=50 \n",
      "[CV]  bootstrap=False, criterion=entropy, max_depth=5, min_samples_leaf=1, min_samples_split=2, n_estimators=50, score=0.730, total=   0.1s\n",
      "[CV] bootstrap=False, criterion=entropy, max_depth=5, min_samples_leaf=1, min_samples_split=2, n_estimators=50 \n",
      "[CV]  bootstrap=False, criterion=entropy, max_depth=5, min_samples_leaf=1, min_samples_split=2, n_estimators=50, score=0.742, total=   0.1s\n",
      "[CV] bootstrap=False, criterion=entropy, max_depth=5, min_samples_leaf=1, min_samples_split=2, n_estimators=50 \n",
      "[CV]  bootstrap=False, criterion=entropy, max_depth=5, min_samples_leaf=1, min_samples_split=2, n_estimators=50, score=0.744, total=   0.1s\n",
      "[CV] bootstrap=False, criterion=entropy, max_depth=5, min_samples_leaf=1, min_samples_split=5, n_estimators=5 \n",
      "[CV]  bootstrap=False, criterion=entropy, max_depth=5, min_samples_leaf=1, min_samples_split=5, n_estimators=5, score=0.719, total=   0.0s\n",
      "[CV] bootstrap=False, criterion=entropy, max_depth=5, min_samples_leaf=1, min_samples_split=5, n_estimators=5 \n",
      "[CV]  bootstrap=False, criterion=entropy, max_depth=5, min_samples_leaf=1, min_samples_split=5, n_estimators=5, score=0.734, total=   0.0s\n",
      "[CV] bootstrap=False, criterion=entropy, max_depth=5, min_samples_leaf=1, min_samples_split=5, n_estimators=5 \n",
      "[CV]  bootstrap=False, criterion=entropy, max_depth=5, min_samples_leaf=1, min_samples_split=5, n_estimators=5, score=0.744, total=   0.0s\n",
      "[CV] bootstrap=False, criterion=entropy, max_depth=5, min_samples_leaf=1, min_samples_split=5, n_estimators=10 \n",
      "[CV]  bootstrap=False, criterion=entropy, max_depth=5, min_samples_leaf=1, min_samples_split=5, n_estimators=10, score=0.749, total=   0.0s\n",
      "[CV] bootstrap=False, criterion=entropy, max_depth=5, min_samples_leaf=1, min_samples_split=5, n_estimators=10 \n",
      "[CV]  bootstrap=False, criterion=entropy, max_depth=5, min_samples_leaf=1, min_samples_split=5, n_estimators=10, score=0.749, total=   0.0s\n",
      "[CV] bootstrap=False, criterion=entropy, max_depth=5, min_samples_leaf=1, min_samples_split=5, n_estimators=10 \n",
      "[CV]  bootstrap=False, criterion=entropy, max_depth=5, min_samples_leaf=1, min_samples_split=5, n_estimators=10, score=0.752, total=   0.0s\n",
      "[CV] bootstrap=False, criterion=entropy, max_depth=5, min_samples_leaf=1, min_samples_split=5, n_estimators=20 \n",
      "[CV]  bootstrap=False, criterion=entropy, max_depth=5, min_samples_leaf=1, min_samples_split=5, n_estimators=20, score=0.704, total=   0.0s\n",
      "[CV] bootstrap=False, criterion=entropy, max_depth=5, min_samples_leaf=1, min_samples_split=5, n_estimators=20 \n",
      "[CV]  bootstrap=False, criterion=entropy, max_depth=5, min_samples_leaf=1, min_samples_split=5, n_estimators=20, score=0.745, total=   0.0s\n",
      "[CV] bootstrap=False, criterion=entropy, max_depth=5, min_samples_leaf=1, min_samples_split=5, n_estimators=20 \n",
      "[CV]  bootstrap=False, criterion=entropy, max_depth=5, min_samples_leaf=1, min_samples_split=5, n_estimators=20, score=0.741, total=   0.0s\n",
      "[CV] bootstrap=False, criterion=entropy, max_depth=5, min_samples_leaf=1, min_samples_split=5, n_estimators=50 \n",
      "[CV]  bootstrap=False, criterion=entropy, max_depth=5, min_samples_leaf=1, min_samples_split=5, n_estimators=50, score=0.745, total=   0.1s\n",
      "[CV] bootstrap=False, criterion=entropy, max_depth=5, min_samples_leaf=1, min_samples_split=5, n_estimators=50 \n",
      "[CV]  bootstrap=False, criterion=entropy, max_depth=5, min_samples_leaf=1, min_samples_split=5, n_estimators=50, score=0.727, total=   0.1s\n",
      "[CV] bootstrap=False, criterion=entropy, max_depth=5, min_samples_leaf=1, min_samples_split=5, n_estimators=50 \n",
      "[CV]  bootstrap=False, criterion=entropy, max_depth=5, min_samples_leaf=1, min_samples_split=5, n_estimators=50, score=0.744, total=   0.1s\n",
      "[CV] bootstrap=False, criterion=entropy, max_depth=5, min_samples_leaf=5, min_samples_split=2, n_estimators=5 \n",
      "[CV]  bootstrap=False, criterion=entropy, max_depth=5, min_samples_leaf=5, min_samples_split=2, n_estimators=5, score=0.715, total=   0.0s\n",
      "[CV] bootstrap=False, criterion=entropy, max_depth=5, min_samples_leaf=5, min_samples_split=2, n_estimators=5 \n",
      "[CV]  bootstrap=False, criterion=entropy, max_depth=5, min_samples_leaf=5, min_samples_split=2, n_estimators=5, score=0.697, total=   0.0s\n",
      "[CV] bootstrap=False, criterion=entropy, max_depth=5, min_samples_leaf=5, min_samples_split=2, n_estimators=5 \n"
     ]
    },
    {
     "name": "stdout",
     "output_type": "stream",
     "text": [
      "[CV]  bootstrap=False, criterion=entropy, max_depth=5, min_samples_leaf=5, min_samples_split=2, n_estimators=5, score=0.726, total=   0.0s\n",
      "[CV] bootstrap=False, criterion=entropy, max_depth=5, min_samples_leaf=5, min_samples_split=2, n_estimators=10 \n",
      "[CV]  bootstrap=False, criterion=entropy, max_depth=5, min_samples_leaf=5, min_samples_split=2, n_estimators=10, score=0.757, total=   0.0s\n",
      "[CV] bootstrap=False, criterion=entropy, max_depth=5, min_samples_leaf=5, min_samples_split=2, n_estimators=10 \n",
      "[CV]  bootstrap=False, criterion=entropy, max_depth=5, min_samples_leaf=5, min_samples_split=2, n_estimators=10, score=0.742, total=   0.0s\n",
      "[CV] bootstrap=False, criterion=entropy, max_depth=5, min_samples_leaf=5, min_samples_split=2, n_estimators=10 \n",
      "[CV]  bootstrap=False, criterion=entropy, max_depth=5, min_samples_leaf=5, min_samples_split=2, n_estimators=10, score=0.722, total=   0.0s\n",
      "[CV] bootstrap=False, criterion=entropy, max_depth=5, min_samples_leaf=5, min_samples_split=2, n_estimators=20 \n",
      "[CV]  bootstrap=False, criterion=entropy, max_depth=5, min_samples_leaf=5, min_samples_split=2, n_estimators=20, score=0.719, total=   0.0s\n",
      "[CV] bootstrap=False, criterion=entropy, max_depth=5, min_samples_leaf=5, min_samples_split=2, n_estimators=20 \n",
      "[CV]  bootstrap=False, criterion=entropy, max_depth=5, min_samples_leaf=5, min_samples_split=2, n_estimators=20, score=0.749, total=   0.0s\n",
      "[CV] bootstrap=False, criterion=entropy, max_depth=5, min_samples_leaf=5, min_samples_split=2, n_estimators=20 \n",
      "[CV]  bootstrap=False, criterion=entropy, max_depth=5, min_samples_leaf=5, min_samples_split=2, n_estimators=20, score=0.752, total=   0.0s\n",
      "[CV] bootstrap=False, criterion=entropy, max_depth=5, min_samples_leaf=5, min_samples_split=2, n_estimators=50 \n",
      "[CV]  bootstrap=False, criterion=entropy, max_depth=5, min_samples_leaf=5, min_samples_split=2, n_estimators=50, score=0.734, total=   0.1s\n",
      "[CV] bootstrap=False, criterion=entropy, max_depth=5, min_samples_leaf=5, min_samples_split=2, n_estimators=50 \n",
      "[CV]  bootstrap=False, criterion=entropy, max_depth=5, min_samples_leaf=5, min_samples_split=2, n_estimators=50, score=0.738, total=   0.1s\n",
      "[CV] bootstrap=False, criterion=entropy, max_depth=5, min_samples_leaf=5, min_samples_split=2, n_estimators=50 \n",
      "[CV]  bootstrap=False, criterion=entropy, max_depth=5, min_samples_leaf=5, min_samples_split=2, n_estimators=50, score=0.741, total=   0.1s\n",
      "[CV] bootstrap=False, criterion=entropy, max_depth=5, min_samples_leaf=5, min_samples_split=5, n_estimators=5 \n",
      "[CV]  bootstrap=False, criterion=entropy, max_depth=5, min_samples_leaf=5, min_samples_split=5, n_estimators=5, score=0.715, total=   0.0s\n",
      "[CV] bootstrap=False, criterion=entropy, max_depth=5, min_samples_leaf=5, min_samples_split=5, n_estimators=5 \n",
      "[CV]  bootstrap=False, criterion=entropy, max_depth=5, min_samples_leaf=5, min_samples_split=5, n_estimators=5, score=0.730, total=   0.0s\n",
      "[CV] bootstrap=False, criterion=entropy, max_depth=5, min_samples_leaf=5, min_samples_split=5, n_estimators=5 \n",
      "[CV]  bootstrap=False, criterion=entropy, max_depth=5, min_samples_leaf=5, min_samples_split=5, n_estimators=5, score=0.756, total=   0.0s\n",
      "[CV] bootstrap=False, criterion=entropy, max_depth=5, min_samples_leaf=5, min_samples_split=5, n_estimators=10 \n",
      "[CV]  bootstrap=False, criterion=entropy, max_depth=5, min_samples_leaf=5, min_samples_split=5, n_estimators=10, score=0.723, total=   0.0s\n",
      "[CV] bootstrap=False, criterion=entropy, max_depth=5, min_samples_leaf=5, min_samples_split=5, n_estimators=10 \n",
      "[CV]  bootstrap=False, criterion=entropy, max_depth=5, min_samples_leaf=5, min_samples_split=5, n_estimators=10, score=0.723, total=   0.0s\n",
      "[CV] bootstrap=False, criterion=entropy, max_depth=5, min_samples_leaf=5, min_samples_split=5, n_estimators=10 \n",
      "[CV]  bootstrap=False, criterion=entropy, max_depth=5, min_samples_leaf=5, min_samples_split=5, n_estimators=10, score=0.741, total=   0.0s\n",
      "[CV] bootstrap=False, criterion=entropy, max_depth=5, min_samples_leaf=5, min_samples_split=5, n_estimators=20 \n",
      "[CV]  bootstrap=False, criterion=entropy, max_depth=5, min_samples_leaf=5, min_samples_split=5, n_estimators=20, score=0.745, total=   0.0s\n",
      "[CV] bootstrap=False, criterion=entropy, max_depth=5, min_samples_leaf=5, min_samples_split=5, n_estimators=20 \n",
      "[CV]  bootstrap=False, criterion=entropy, max_depth=5, min_samples_leaf=5, min_samples_split=5, n_estimators=20, score=0.738, total=   0.0s\n",
      "[CV] bootstrap=False, criterion=entropy, max_depth=5, min_samples_leaf=5, min_samples_split=5, n_estimators=20 \n",
      "[CV]  bootstrap=False, criterion=entropy, max_depth=5, min_samples_leaf=5, min_samples_split=5, n_estimators=20, score=0.737, total=   0.0s\n",
      "[CV] bootstrap=False, criterion=entropy, max_depth=5, min_samples_leaf=5, min_samples_split=5, n_estimators=50 \n",
      "[CV]  bootstrap=False, criterion=entropy, max_depth=5, min_samples_leaf=5, min_samples_split=5, n_estimators=50, score=0.727, total=   0.1s\n",
      "[CV] bootstrap=False, criterion=entropy, max_depth=5, min_samples_leaf=5, min_samples_split=5, n_estimators=50 \n",
      "[CV]  bootstrap=False, criterion=entropy, max_depth=5, min_samples_leaf=5, min_samples_split=5, n_estimators=50, score=0.742, total=   0.1s\n",
      "[CV] bootstrap=False, criterion=entropy, max_depth=5, min_samples_leaf=5, min_samples_split=5, n_estimators=50 \n",
      "[CV]  bootstrap=False, criterion=entropy, max_depth=5, min_samples_leaf=5, min_samples_split=5, n_estimators=50, score=0.737, total=   0.2s\n",
      "[CV] bootstrap=False, criterion=entropy, max_depth=10, min_samples_leaf=1, min_samples_split=2, n_estimators=5 \n",
      "[CV]  bootstrap=False, criterion=entropy, max_depth=10, min_samples_leaf=1, min_samples_split=2, n_estimators=5, score=0.708, total=   0.0s\n",
      "[CV] bootstrap=False, criterion=entropy, max_depth=10, min_samples_leaf=1, min_samples_split=2, n_estimators=5 \n",
      "[CV]  bootstrap=False, criterion=entropy, max_depth=10, min_samples_leaf=1, min_samples_split=2, n_estimators=5, score=0.693, total=   0.0s\n",
      "[CV] bootstrap=False, criterion=entropy, max_depth=10, min_samples_leaf=1, min_samples_split=2, n_estimators=5 \n",
      "[CV]  bootstrap=False, criterion=entropy, max_depth=10, min_samples_leaf=1, min_samples_split=2, n_estimators=5, score=0.722, total=   0.0s\n",
      "[CV] bootstrap=False, criterion=entropy, max_depth=10, min_samples_leaf=1, min_samples_split=2, n_estimators=10 \n",
      "[CV]  bootstrap=False, criterion=entropy, max_depth=10, min_samples_leaf=1, min_samples_split=2, n_estimators=10, score=0.727, total=   0.0s\n",
      "[CV] bootstrap=False, criterion=entropy, max_depth=10, min_samples_leaf=1, min_samples_split=2, n_estimators=10 \n",
      "[CV]  bootstrap=False, criterion=entropy, max_depth=10, min_samples_leaf=1, min_samples_split=2, n_estimators=10, score=0.715, total=   0.0s\n",
      "[CV] bootstrap=False, criterion=entropy, max_depth=10, min_samples_leaf=1, min_samples_split=2, n_estimators=10 \n",
      "[CV]  bootstrap=False, criterion=entropy, max_depth=10, min_samples_leaf=1, min_samples_split=2, n_estimators=10, score=0.741, total=   0.0s\n",
      "[CV] bootstrap=False, criterion=entropy, max_depth=10, min_samples_leaf=1, min_samples_split=2, n_estimators=20 \n",
      "[CV]  bootstrap=False, criterion=entropy, max_depth=10, min_samples_leaf=1, min_samples_split=2, n_estimators=20, score=0.715, total=   0.1s\n",
      "[CV] bootstrap=False, criterion=entropy, max_depth=10, min_samples_leaf=1, min_samples_split=2, n_estimators=20 \n",
      "[CV]  bootstrap=False, criterion=entropy, max_depth=10, min_samples_leaf=1, min_samples_split=2, n_estimators=20, score=0.757, total=   0.0s\n",
      "[CV] bootstrap=False, criterion=entropy, max_depth=10, min_samples_leaf=1, min_samples_split=2, n_estimators=20 \n",
      "[CV]  bootstrap=False, criterion=entropy, max_depth=10, min_samples_leaf=1, min_samples_split=2, n_estimators=20, score=0.752, total=   0.0s\n",
      "[CV] bootstrap=False, criterion=entropy, max_depth=10, min_samples_leaf=1, min_samples_split=2, n_estimators=50 \n",
      "[CV]  bootstrap=False, criterion=entropy, max_depth=10, min_samples_leaf=1, min_samples_split=2, n_estimators=50, score=0.708, total=   0.1s\n",
      "[CV] bootstrap=False, criterion=entropy, max_depth=10, min_samples_leaf=1, min_samples_split=2, n_estimators=50 \n",
      "[CV]  bootstrap=False, criterion=entropy, max_depth=10, min_samples_leaf=1, min_samples_split=2, n_estimators=50, score=0.742, total=   0.1s\n",
      "[CV] bootstrap=False, criterion=entropy, max_depth=10, min_samples_leaf=1, min_samples_split=2, n_estimators=50 \n",
      "[CV]  bootstrap=False, criterion=entropy, max_depth=10, min_samples_leaf=1, min_samples_split=2, n_estimators=50, score=0.748, total=   0.1s\n",
      "[CV] bootstrap=False, criterion=entropy, max_depth=10, min_samples_leaf=1, min_samples_split=5, n_estimators=5 \n",
      "[CV]  bootstrap=False, criterion=entropy, max_depth=10, min_samples_leaf=1, min_samples_split=5, n_estimators=5, score=0.708, total=   0.0s\n",
      "[CV] bootstrap=False, criterion=entropy, max_depth=10, min_samples_leaf=1, min_samples_split=5, n_estimators=5 \n",
      "[CV]  bootstrap=False, criterion=entropy, max_depth=10, min_samples_leaf=1, min_samples_split=5, n_estimators=5, score=0.742, total=   0.0s\n",
      "[CV] bootstrap=False, criterion=entropy, max_depth=10, min_samples_leaf=1, min_samples_split=5, n_estimators=5 \n",
      "[CV]  bootstrap=False, criterion=entropy, max_depth=10, min_samples_leaf=1, min_samples_split=5, n_estimators=5, score=0.714, total=   0.0s\n",
      "[CV] bootstrap=False, criterion=entropy, max_depth=10, min_samples_leaf=1, min_samples_split=5, n_estimators=10 \n",
      "[CV]  bootstrap=False, criterion=entropy, max_depth=10, min_samples_leaf=1, min_samples_split=5, n_estimators=10, score=0.719, total=   0.0s\n",
      "[CV] bootstrap=False, criterion=entropy, max_depth=10, min_samples_leaf=1, min_samples_split=5, n_estimators=10 \n"
     ]
    },
    {
     "name": "stdout",
     "output_type": "stream",
     "text": [
      "[CV]  bootstrap=False, criterion=entropy, max_depth=10, min_samples_leaf=1, min_samples_split=5, n_estimators=10, score=0.745, total=   0.0s\n",
      "[CV] bootstrap=False, criterion=entropy, max_depth=10, min_samples_leaf=1, min_samples_split=5, n_estimators=10 \n",
      "[CV]  bootstrap=False, criterion=entropy, max_depth=10, min_samples_leaf=1, min_samples_split=5, n_estimators=10, score=0.726, total=   0.0s\n",
      "[CV] bootstrap=False, criterion=entropy, max_depth=10, min_samples_leaf=1, min_samples_split=5, n_estimators=20 \n",
      "[CV]  bootstrap=False, criterion=entropy, max_depth=10, min_samples_leaf=1, min_samples_split=5, n_estimators=20, score=0.697, total=   0.0s\n",
      "[CV] bootstrap=False, criterion=entropy, max_depth=10, min_samples_leaf=1, min_samples_split=5, n_estimators=20 \n",
      "[CV]  bootstrap=False, criterion=entropy, max_depth=10, min_samples_leaf=1, min_samples_split=5, n_estimators=20, score=0.734, total=   0.0s\n",
      "[CV] bootstrap=False, criterion=entropy, max_depth=10, min_samples_leaf=1, min_samples_split=5, n_estimators=20 \n",
      "[CV]  bootstrap=False, criterion=entropy, max_depth=10, min_samples_leaf=1, min_samples_split=5, n_estimators=20, score=0.733, total=   0.0s\n",
      "[CV] bootstrap=False, criterion=entropy, max_depth=10, min_samples_leaf=1, min_samples_split=5, n_estimators=50 \n",
      "[CV]  bootstrap=False, criterion=entropy, max_depth=10, min_samples_leaf=1, min_samples_split=5, n_estimators=50, score=0.723, total=   0.1s\n",
      "[CV] bootstrap=False, criterion=entropy, max_depth=10, min_samples_leaf=1, min_samples_split=5, n_estimators=50 \n",
      "[CV]  bootstrap=False, criterion=entropy, max_depth=10, min_samples_leaf=1, min_samples_split=5, n_estimators=50, score=0.719, total=   0.1s\n",
      "[CV] bootstrap=False, criterion=entropy, max_depth=10, min_samples_leaf=1, min_samples_split=5, n_estimators=50 \n",
      "[CV]  bootstrap=False, criterion=entropy, max_depth=10, min_samples_leaf=1, min_samples_split=5, n_estimators=50, score=0.748, total=   0.1s\n",
      "[CV] bootstrap=False, criterion=entropy, max_depth=10, min_samples_leaf=5, min_samples_split=2, n_estimators=5 \n",
      "[CV]  bootstrap=False, criterion=entropy, max_depth=10, min_samples_leaf=5, min_samples_split=2, n_estimators=5, score=0.712, total=   0.0s\n",
      "[CV] bootstrap=False, criterion=entropy, max_depth=10, min_samples_leaf=5, min_samples_split=2, n_estimators=5 \n",
      "[CV]  bootstrap=False, criterion=entropy, max_depth=10, min_samples_leaf=5, min_samples_split=2, n_estimators=5, score=0.712, total=   0.0s\n",
      "[CV] bootstrap=False, criterion=entropy, max_depth=10, min_samples_leaf=5, min_samples_split=2, n_estimators=5 \n",
      "[CV]  bootstrap=False, criterion=entropy, max_depth=10, min_samples_leaf=5, min_samples_split=2, n_estimators=5, score=0.737, total=   0.0s\n",
      "[CV] bootstrap=False, criterion=entropy, max_depth=10, min_samples_leaf=5, min_samples_split=2, n_estimators=10 \n",
      "[CV]  bootstrap=False, criterion=entropy, max_depth=10, min_samples_leaf=5, min_samples_split=2, n_estimators=10, score=0.730, total=   0.0s\n",
      "[CV] bootstrap=False, criterion=entropy, max_depth=10, min_samples_leaf=5, min_samples_split=2, n_estimators=10 \n",
      "[CV]  bootstrap=False, criterion=entropy, max_depth=10, min_samples_leaf=5, min_samples_split=2, n_estimators=10, score=0.738, total=   0.0s\n",
      "[CV] bootstrap=False, criterion=entropy, max_depth=10, min_samples_leaf=5, min_samples_split=2, n_estimators=10 \n",
      "[CV]  bootstrap=False, criterion=entropy, max_depth=10, min_samples_leaf=5, min_samples_split=2, n_estimators=10, score=0.741, total=   0.0s\n",
      "[CV] bootstrap=False, criterion=entropy, max_depth=10, min_samples_leaf=5, min_samples_split=2, n_estimators=20 \n",
      "[CV]  bootstrap=False, criterion=entropy, max_depth=10, min_samples_leaf=5, min_samples_split=2, n_estimators=20, score=0.723, total=   0.1s\n",
      "[CV] bootstrap=False, criterion=entropy, max_depth=10, min_samples_leaf=5, min_samples_split=2, n_estimators=20 \n",
      "[CV]  bootstrap=False, criterion=entropy, max_depth=10, min_samples_leaf=5, min_samples_split=2, n_estimators=20, score=0.742, total=   0.0s\n",
      "[CV] bootstrap=False, criterion=entropy, max_depth=10, min_samples_leaf=5, min_samples_split=2, n_estimators=20 \n",
      "[CV]  bootstrap=False, criterion=entropy, max_depth=10, min_samples_leaf=5, min_samples_split=2, n_estimators=20, score=0.767, total=   0.0s\n",
      "[CV] bootstrap=False, criterion=entropy, max_depth=10, min_samples_leaf=5, min_samples_split=2, n_estimators=50 \n",
      "[CV]  bootstrap=False, criterion=entropy, max_depth=10, min_samples_leaf=5, min_samples_split=2, n_estimators=50, score=0.719, total=   0.1s\n",
      "[CV] bootstrap=False, criterion=entropy, max_depth=10, min_samples_leaf=5, min_samples_split=2, n_estimators=50 \n",
      "[CV]  bootstrap=False, criterion=entropy, max_depth=10, min_samples_leaf=5, min_samples_split=2, n_estimators=50, score=0.757, total=   0.1s\n",
      "[CV] bootstrap=False, criterion=entropy, max_depth=10, min_samples_leaf=5, min_samples_split=2, n_estimators=50 \n",
      "[CV]  bootstrap=False, criterion=entropy, max_depth=10, min_samples_leaf=5, min_samples_split=2, n_estimators=50, score=0.752, total=   0.1s\n",
      "[CV] bootstrap=False, criterion=entropy, max_depth=10, min_samples_leaf=5, min_samples_split=5, n_estimators=5 \n",
      "[CV]  bootstrap=False, criterion=entropy, max_depth=10, min_samples_leaf=5, min_samples_split=5, n_estimators=5, score=0.693, total=   0.0s\n",
      "[CV] bootstrap=False, criterion=entropy, max_depth=10, min_samples_leaf=5, min_samples_split=5, n_estimators=5 \n",
      "[CV]  bootstrap=False, criterion=entropy, max_depth=10, min_samples_leaf=5, min_samples_split=5, n_estimators=5, score=0.719, total=   0.0s\n",
      "[CV] bootstrap=False, criterion=entropy, max_depth=10, min_samples_leaf=5, min_samples_split=5, n_estimators=5 \n",
      "[CV]  bootstrap=False, criterion=entropy, max_depth=10, min_samples_leaf=5, min_samples_split=5, n_estimators=5, score=0.733, total=   0.0s\n",
      "[CV] bootstrap=False, criterion=entropy, max_depth=10, min_samples_leaf=5, min_samples_split=5, n_estimators=10 \n",
      "[CV]  bootstrap=False, criterion=entropy, max_depth=10, min_samples_leaf=5, min_samples_split=5, n_estimators=10, score=0.712, total=   0.0s\n",
      "[CV] bootstrap=False, criterion=entropy, max_depth=10, min_samples_leaf=5, min_samples_split=5, n_estimators=10 \n",
      "[CV]  bootstrap=False, criterion=entropy, max_depth=10, min_samples_leaf=5, min_samples_split=5, n_estimators=10, score=0.730, total=   0.0s\n",
      "[CV] bootstrap=False, criterion=entropy, max_depth=10, min_samples_leaf=5, min_samples_split=5, n_estimators=10 \n",
      "[CV]  bootstrap=False, criterion=entropy, max_depth=10, min_samples_leaf=5, min_samples_split=5, n_estimators=10, score=0.714, total=   0.0s\n",
      "[CV] bootstrap=False, criterion=entropy, max_depth=10, min_samples_leaf=5, min_samples_split=5, n_estimators=20 \n",
      "[CV]  bootstrap=False, criterion=entropy, max_depth=10, min_samples_leaf=5, min_samples_split=5, n_estimators=20, score=0.719, total=   0.0s\n",
      "[CV] bootstrap=False, criterion=entropy, max_depth=10, min_samples_leaf=5, min_samples_split=5, n_estimators=20 \n",
      "[CV]  bootstrap=False, criterion=entropy, max_depth=10, min_samples_leaf=5, min_samples_split=5, n_estimators=20, score=0.730, total=   0.0s\n",
      "[CV] bootstrap=False, criterion=entropy, max_depth=10, min_samples_leaf=5, min_samples_split=5, n_estimators=20 \n",
      "[CV]  bootstrap=False, criterion=entropy, max_depth=10, min_samples_leaf=5, min_samples_split=5, n_estimators=20, score=0.729, total=   0.1s\n",
      "[CV] bootstrap=False, criterion=entropy, max_depth=10, min_samples_leaf=5, min_samples_split=5, n_estimators=50 \n",
      "[CV]  bootstrap=False, criterion=entropy, max_depth=10, min_samples_leaf=5, min_samples_split=5, n_estimators=50, score=0.723, total=   0.1s\n",
      "[CV] bootstrap=False, criterion=entropy, max_depth=10, min_samples_leaf=5, min_samples_split=5, n_estimators=50 \n",
      "[CV]  bootstrap=False, criterion=entropy, max_depth=10, min_samples_leaf=5, min_samples_split=5, n_estimators=50, score=0.745, total=   0.1s\n",
      "[CV] bootstrap=False, criterion=entropy, max_depth=10, min_samples_leaf=5, min_samples_split=5, n_estimators=50 \n",
      "[CV]  bootstrap=False, criterion=entropy, max_depth=10, min_samples_leaf=5, min_samples_split=5, n_estimators=50, score=0.752, total=   0.1s\n",
      "[CV] bootstrap=False, criterion=entropy, max_depth=15, min_samples_leaf=1, min_samples_split=2, n_estimators=5 \n",
      "[CV]  bootstrap=False, criterion=entropy, max_depth=15, min_samples_leaf=1, min_samples_split=2, n_estimators=5, score=0.678, total=   0.0s\n",
      "[CV] bootstrap=False, criterion=entropy, max_depth=15, min_samples_leaf=1, min_samples_split=2, n_estimators=5 \n",
      "[CV]  bootstrap=False, criterion=entropy, max_depth=15, min_samples_leaf=1, min_samples_split=2, n_estimators=5, score=0.682, total=   0.0s\n",
      "[CV] bootstrap=False, criterion=entropy, max_depth=15, min_samples_leaf=1, min_samples_split=2, n_estimators=5 \n",
      "[CV]  bootstrap=False, criterion=entropy, max_depth=15, min_samples_leaf=1, min_samples_split=2, n_estimators=5, score=0.741, total=   0.0s\n",
      "[CV] bootstrap=False, criterion=entropy, max_depth=15, min_samples_leaf=1, min_samples_split=2, n_estimators=10 \n",
      "[CV]  bootstrap=False, criterion=entropy, max_depth=15, min_samples_leaf=1, min_samples_split=2, n_estimators=10, score=0.693, total=   0.0s\n",
      "[CV] bootstrap=False, criterion=entropy, max_depth=15, min_samples_leaf=1, min_samples_split=2, n_estimators=10 \n",
      "[CV]  bootstrap=False, criterion=entropy, max_depth=15, min_samples_leaf=1, min_samples_split=2, n_estimators=10, score=0.719, total=   0.0s\n",
      "[CV] bootstrap=False, criterion=entropy, max_depth=15, min_samples_leaf=1, min_samples_split=2, n_estimators=10 \n",
      "[CV]  bootstrap=False, criterion=entropy, max_depth=15, min_samples_leaf=1, min_samples_split=2, n_estimators=10, score=0.722, total=   0.0s\n",
      "[CV] bootstrap=False, criterion=entropy, max_depth=15, min_samples_leaf=1, min_samples_split=2, n_estimators=20 \n",
      "[CV]  bootstrap=False, criterion=entropy, max_depth=15, min_samples_leaf=1, min_samples_split=2, n_estimators=20, score=0.693, total=   0.1s\n",
      "[CV] bootstrap=False, criterion=entropy, max_depth=15, min_samples_leaf=1, min_samples_split=2, n_estimators=20 \n",
      "[CV]  bootstrap=False, criterion=entropy, max_depth=15, min_samples_leaf=1, min_samples_split=2, n_estimators=20, score=0.727, total=   0.1s\n",
      "[CV] bootstrap=False, criterion=entropy, max_depth=15, min_samples_leaf=1, min_samples_split=2, n_estimators=20 \n"
     ]
    },
    {
     "name": "stdout",
     "output_type": "stream",
     "text": [
      "[CV]  bootstrap=False, criterion=entropy, max_depth=15, min_samples_leaf=1, min_samples_split=2, n_estimators=20, score=0.737, total=   0.0s\n",
      "[CV] bootstrap=False, criterion=entropy, max_depth=15, min_samples_leaf=1, min_samples_split=2, n_estimators=50 \n",
      "[CV]  bootstrap=False, criterion=entropy, max_depth=15, min_samples_leaf=1, min_samples_split=2, n_estimators=50, score=0.704, total=   0.1s\n",
      "[CV] bootstrap=False, criterion=entropy, max_depth=15, min_samples_leaf=1, min_samples_split=2, n_estimators=50 \n",
      "[CV]  bootstrap=False, criterion=entropy, max_depth=15, min_samples_leaf=1, min_samples_split=2, n_estimators=50, score=0.719, total=   0.1s\n",
      "[CV] bootstrap=False, criterion=entropy, max_depth=15, min_samples_leaf=1, min_samples_split=2, n_estimators=50 \n",
      "[CV]  bootstrap=False, criterion=entropy, max_depth=15, min_samples_leaf=1, min_samples_split=2, n_estimators=50, score=0.726, total=   0.1s\n",
      "[CV] bootstrap=False, criterion=entropy, max_depth=15, min_samples_leaf=1, min_samples_split=5, n_estimators=5 \n",
      "[CV]  bootstrap=False, criterion=entropy, max_depth=15, min_samples_leaf=1, min_samples_split=5, n_estimators=5, score=0.674, total=   0.0s\n",
      "[CV] bootstrap=False, criterion=entropy, max_depth=15, min_samples_leaf=1, min_samples_split=5, n_estimators=5 \n",
      "[CV]  bootstrap=False, criterion=entropy, max_depth=15, min_samples_leaf=1, min_samples_split=5, n_estimators=5, score=0.678, total=   0.0s\n",
      "[CV] bootstrap=False, criterion=entropy, max_depth=15, min_samples_leaf=1, min_samples_split=5, n_estimators=5 \n",
      "[CV]  bootstrap=False, criterion=entropy, max_depth=15, min_samples_leaf=1, min_samples_split=5, n_estimators=5, score=0.703, total=   0.0s\n",
      "[CV] bootstrap=False, criterion=entropy, max_depth=15, min_samples_leaf=1, min_samples_split=5, n_estimators=10 \n",
      "[CV]  bootstrap=False, criterion=entropy, max_depth=15, min_samples_leaf=1, min_samples_split=5, n_estimators=10, score=0.667, total=   0.0s\n",
      "[CV] bootstrap=False, criterion=entropy, max_depth=15, min_samples_leaf=1, min_samples_split=5, n_estimators=10 \n",
      "[CV]  bootstrap=False, criterion=entropy, max_depth=15, min_samples_leaf=1, min_samples_split=5, n_estimators=10, score=0.723, total=   0.0s\n",
      "[CV] bootstrap=False, criterion=entropy, max_depth=15, min_samples_leaf=1, min_samples_split=5, n_estimators=10 \n",
      "[CV]  bootstrap=False, criterion=entropy, max_depth=15, min_samples_leaf=1, min_samples_split=5, n_estimators=10, score=0.741, total=   0.0s\n",
      "[CV] bootstrap=False, criterion=entropy, max_depth=15, min_samples_leaf=1, min_samples_split=5, n_estimators=20 \n",
      "[CV]  bootstrap=False, criterion=entropy, max_depth=15, min_samples_leaf=1, min_samples_split=5, n_estimators=20, score=0.708, total=   0.1s\n",
      "[CV] bootstrap=False, criterion=entropy, max_depth=15, min_samples_leaf=1, min_samples_split=5, n_estimators=20 \n",
      "[CV]  bootstrap=False, criterion=entropy, max_depth=15, min_samples_leaf=1, min_samples_split=5, n_estimators=20, score=0.745, total=   0.0s\n",
      "[CV] bootstrap=False, criterion=entropy, max_depth=15, min_samples_leaf=1, min_samples_split=5, n_estimators=20 \n",
      "[CV]  bootstrap=False, criterion=entropy, max_depth=15, min_samples_leaf=1, min_samples_split=5, n_estimators=20, score=0.752, total=   0.1s\n",
      "[CV] bootstrap=False, criterion=entropy, max_depth=15, min_samples_leaf=1, min_samples_split=5, n_estimators=50 \n",
      "[CV]  bootstrap=False, criterion=entropy, max_depth=15, min_samples_leaf=1, min_samples_split=5, n_estimators=50, score=0.715, total=   0.1s\n",
      "[CV] bootstrap=False, criterion=entropy, max_depth=15, min_samples_leaf=1, min_samples_split=5, n_estimators=50 \n",
      "[CV]  bootstrap=False, criterion=entropy, max_depth=15, min_samples_leaf=1, min_samples_split=5, n_estimators=50, score=0.738, total=   0.1s\n",
      "[CV] bootstrap=False, criterion=entropy, max_depth=15, min_samples_leaf=1, min_samples_split=5, n_estimators=50 \n",
      "[CV]  bootstrap=False, criterion=entropy, max_depth=15, min_samples_leaf=1, min_samples_split=5, n_estimators=50, score=0.737, total=   0.1s\n",
      "[CV] bootstrap=False, criterion=entropy, max_depth=15, min_samples_leaf=5, min_samples_split=2, n_estimators=5 \n",
      "[CV]  bootstrap=False, criterion=entropy, max_depth=15, min_samples_leaf=5, min_samples_split=2, n_estimators=5, score=0.738, total=   0.0s\n",
      "[CV] bootstrap=False, criterion=entropy, max_depth=15, min_samples_leaf=5, min_samples_split=2, n_estimators=5 \n",
      "[CV]  bootstrap=False, criterion=entropy, max_depth=15, min_samples_leaf=5, min_samples_split=2, n_estimators=5, score=0.742, total=   0.0s\n",
      "[CV] bootstrap=False, criterion=entropy, max_depth=15, min_samples_leaf=5, min_samples_split=2, n_estimators=5 \n",
      "[CV]  bootstrap=False, criterion=entropy, max_depth=15, min_samples_leaf=5, min_samples_split=2, n_estimators=5, score=0.737, total=   0.0s\n",
      "[CV] bootstrap=False, criterion=entropy, max_depth=15, min_samples_leaf=5, min_samples_split=2, n_estimators=10 \n",
      "[CV]  bootstrap=False, criterion=entropy, max_depth=15, min_samples_leaf=5, min_samples_split=2, n_estimators=10, score=0.723, total=   0.0s\n",
      "[CV] bootstrap=False, criterion=entropy, max_depth=15, min_samples_leaf=5, min_samples_split=2, n_estimators=10 \n",
      "[CV]  bootstrap=False, criterion=entropy, max_depth=15, min_samples_leaf=5, min_samples_split=2, n_estimators=10, score=0.742, total=   0.0s\n",
      "[CV] bootstrap=False, criterion=entropy, max_depth=15, min_samples_leaf=5, min_samples_split=2, n_estimators=10 \n",
      "[CV]  bootstrap=False, criterion=entropy, max_depth=15, min_samples_leaf=5, min_samples_split=2, n_estimators=10, score=0.729, total=   0.0s\n",
      "[CV] bootstrap=False, criterion=entropy, max_depth=15, min_samples_leaf=5, min_samples_split=2, n_estimators=20 \n",
      "[CV]  bootstrap=False, criterion=entropy, max_depth=15, min_samples_leaf=5, min_samples_split=2, n_estimators=20, score=0.712, total=   0.0s\n",
      "[CV] bootstrap=False, criterion=entropy, max_depth=15, min_samples_leaf=5, min_samples_split=2, n_estimators=20 \n",
      "[CV]  bootstrap=False, criterion=entropy, max_depth=15, min_samples_leaf=5, min_samples_split=2, n_estimators=20, score=0.723, total=   0.0s\n",
      "[CV] bootstrap=False, criterion=entropy, max_depth=15, min_samples_leaf=5, min_samples_split=2, n_estimators=20 \n",
      "[CV]  bootstrap=False, criterion=entropy, max_depth=15, min_samples_leaf=5, min_samples_split=2, n_estimators=20, score=0.748, total=   0.0s\n",
      "[CV] bootstrap=False, criterion=entropy, max_depth=15, min_samples_leaf=5, min_samples_split=2, n_estimators=50 \n",
      "[CV]  bootstrap=False, criterion=entropy, max_depth=15, min_samples_leaf=5, min_samples_split=2, n_estimators=50, score=0.738, total=   0.1s\n",
      "[CV] bootstrap=False, criterion=entropy, max_depth=15, min_samples_leaf=5, min_samples_split=2, n_estimators=50 \n",
      "[CV]  bootstrap=False, criterion=entropy, max_depth=15, min_samples_leaf=5, min_samples_split=2, n_estimators=50, score=0.727, total=   0.1s\n",
      "[CV] bootstrap=False, criterion=entropy, max_depth=15, min_samples_leaf=5, min_samples_split=2, n_estimators=50 \n",
      "[CV]  bootstrap=False, criterion=entropy, max_depth=15, min_samples_leaf=5, min_samples_split=2, n_estimators=50, score=0.756, total=   0.1s\n",
      "[CV] bootstrap=False, criterion=entropy, max_depth=15, min_samples_leaf=5, min_samples_split=5, n_estimators=5 \n",
      "[CV]  bootstrap=False, criterion=entropy, max_depth=15, min_samples_leaf=5, min_samples_split=5, n_estimators=5, score=0.700, total=   0.0s\n",
      "[CV] bootstrap=False, criterion=entropy, max_depth=15, min_samples_leaf=5, min_samples_split=5, n_estimators=5 \n",
      "[CV]  bootstrap=False, criterion=entropy, max_depth=15, min_samples_leaf=5, min_samples_split=5, n_estimators=5, score=0.730, total=   0.0s\n",
      "[CV] bootstrap=False, criterion=entropy, max_depth=15, min_samples_leaf=5, min_samples_split=5, n_estimators=5 \n",
      "[CV]  bootstrap=False, criterion=entropy, max_depth=15, min_samples_leaf=5, min_samples_split=5, n_estimators=5, score=0.722, total=   0.0s\n",
      "[CV] bootstrap=False, criterion=entropy, max_depth=15, min_samples_leaf=5, min_samples_split=5, n_estimators=10 \n",
      "[CV]  bootstrap=False, criterion=entropy, max_depth=15, min_samples_leaf=5, min_samples_split=5, n_estimators=10, score=0.712, total=   0.0s\n",
      "[CV] bootstrap=False, criterion=entropy, max_depth=15, min_samples_leaf=5, min_samples_split=5, n_estimators=10 \n",
      "[CV]  bootstrap=False, criterion=entropy, max_depth=15, min_samples_leaf=5, min_samples_split=5, n_estimators=10, score=0.742, total=   0.0s\n",
      "[CV] bootstrap=False, criterion=entropy, max_depth=15, min_samples_leaf=5, min_samples_split=5, n_estimators=10 \n",
      "[CV]  bootstrap=False, criterion=entropy, max_depth=15, min_samples_leaf=5, min_samples_split=5, n_estimators=10, score=0.722, total=   0.0s\n",
      "[CV] bootstrap=False, criterion=entropy, max_depth=15, min_samples_leaf=5, min_samples_split=5, n_estimators=20 \n",
      "[CV]  bootstrap=False, criterion=entropy, max_depth=15, min_samples_leaf=5, min_samples_split=5, n_estimators=20, score=0.730, total=   0.0s\n",
      "[CV] bootstrap=False, criterion=entropy, max_depth=15, min_samples_leaf=5, min_samples_split=5, n_estimators=20 \n",
      "[CV]  bootstrap=False, criterion=entropy, max_depth=15, min_samples_leaf=5, min_samples_split=5, n_estimators=20, score=0.753, total=   0.0s\n",
      "[CV] bootstrap=False, criterion=entropy, max_depth=15, min_samples_leaf=5, min_samples_split=5, n_estimators=20 \n"
     ]
    },
    {
     "name": "stdout",
     "output_type": "stream",
     "text": [
      "[CV]  bootstrap=False, criterion=entropy, max_depth=15, min_samples_leaf=5, min_samples_split=5, n_estimators=20, score=0.759, total=   0.0s\n",
      "[CV] bootstrap=False, criterion=entropy, max_depth=15, min_samples_leaf=5, min_samples_split=5, n_estimators=50 \n",
      "[CV]  bootstrap=False, criterion=entropy, max_depth=15, min_samples_leaf=5, min_samples_split=5, n_estimators=50, score=0.734, total=   0.1s\n",
      "[CV] bootstrap=False, criterion=entropy, max_depth=15, min_samples_leaf=5, min_samples_split=5, n_estimators=50 \n",
      "[CV]  bootstrap=False, criterion=entropy, max_depth=15, min_samples_leaf=5, min_samples_split=5, n_estimators=50, score=0.727, total=   0.1s\n",
      "[CV] bootstrap=False, criterion=entropy, max_depth=15, min_samples_leaf=5, min_samples_split=5, n_estimators=50 \n",
      "[CV]  bootstrap=False, criterion=entropy, max_depth=15, min_samples_leaf=5, min_samples_split=5, n_estimators=50, score=0.741, total=   0.1s\n"
     ]
    },
    {
     "name": "stderr",
     "output_type": "stream",
     "text": [
      "[Parallel(n_jobs=1)]: Done 768 out of 768 | elapsed:   32.7s finished\n"
     ]
    },
    {
     "data": {
      "text/plain": [
       "GridSearchCV(cv=3, error_score='raise-deprecating',\n",
       "             estimator=RandomForestClassifier(bootstrap=True, class_weight=None,\n",
       "                                              criterion='gini', max_depth=None,\n",
       "                                              max_features='auto',\n",
       "                                              max_leaf_nodes=None,\n",
       "                                              min_impurity_decrease=0.0,\n",
       "                                              min_impurity_split=None,\n",
       "                                              min_samples_leaf=1,\n",
       "                                              min_samples_split=2,\n",
       "                                              min_weight_fraction_leaf=0.0,\n",
       "                                              n_estimators='warn', n_jobs=None,\n",
       "                                              oob_score=False,\n",
       "                                              random_state=None, verbose=0,\n",
       "                                              warm_start=False),\n",
       "             iid='warn', n_jobs=None,\n",
       "             param_grid=[{'bootstrap': [True, False],\n",
       "                          'criterion': ['gini', 'entropy'],\n",
       "                          'max_depth': [None, 5, 10, 15],\n",
       "                          'min_samples_leaf': [1, 5],\n",
       "                          'min_samples_split': [2, 5],\n",
       "                          'n_estimators': [5, 10, 20, 50]}],\n",
       "             pre_dispatch='2*n_jobs', refit=True, return_train_score=False,\n",
       "             scoring='accuracy', verbose=3)"
      ]
     },
     "execution_count": 94,
     "metadata": {},
     "output_type": "execute_result"
    }
   ],
   "source": [
    "# params for random forest\n",
    "param_grid_forest = [\n",
    "    {\n",
    "        'n_estimators': [5, 10, 20, 50],        \n",
    "        'criterion': ['gini', 'entropy'],\n",
    "        'min_samples_split': [2, 5],\n",
    "        'max_depth': [None, 5, 10, 15],\n",
    "        'min_samples_leaf': [1, 5],\n",
    "        'bootstrap': [True, False]\n",
    "    }\n",
    "]\n",
    "\n",
    "#GridSearch\n",
    "forest_clf = RandomForestClassifier()\n",
    "grid_search = GridSearchCV(forest_clf, param_grid_forest, cv=3,\n",
    "                           scoring='accuracy', verbose=3)\n",
    "\n",
    "grid_search.fit(X_train_prepared, y_train)"
   ]
  },
  {
   "cell_type": "code",
   "execution_count": 95,
   "metadata": {
    "ExecuteTime": {
     "end_time": "2019-05-13T23:40:30.230808Z",
     "start_time": "2019-05-13T23:40:30.223078Z"
    }
   },
   "outputs": [
    {
     "data": {
      "text/plain": [
       "{'bootstrap': True,\n",
       " 'criterion': 'gini',\n",
       " 'max_depth': 15,\n",
       " 'min_samples_leaf': 5,\n",
       " 'min_samples_split': 5,\n",
       " 'n_estimators': 50}"
      ]
     },
     "execution_count": 95,
     "metadata": {},
     "output_type": "execute_result"
    }
   ],
   "source": [
    "# Best params\n",
    "grid_search.best_params_"
   ]
  },
  {
   "cell_type": "code",
   "execution_count": 96,
   "metadata": {
    "ExecuteTime": {
     "end_time": "2019-05-13T23:40:42.592620Z",
     "start_time": "2019-05-13T23:40:42.584181Z"
    }
   },
   "outputs": [
    {
     "data": {
      "text/plain": [
       "0.75"
      ]
     },
     "execution_count": 96,
     "metadata": {},
     "output_type": "execute_result"
    }
   ],
   "source": [
    "# Best accuracy\n",
    "grid_search.best_score_"
   ]
  },
  {
   "cell_type": "code",
   "execution_count": 97,
   "metadata": {
    "ExecuteTime": {
     "end_time": "2019-05-13T23:40:55.149262Z",
     "start_time": "2019-05-13T23:40:53.384478Z"
    }
   },
   "outputs": [
    {
     "name": "stdout",
     "output_type": "stream",
     "text": [
      "Model Accuracy: 0.81\n",
      "\n",
      "Cross Validation: [0.69565217 0.75       0.7125     0.76875    0.77358491]\n",
      "\n",
      "Precision: 0.88\n",
      "\n",
      "Recall: 0.41\n",
      "\n",
      "f1_score: 0.56\n",
      "\n",
      "Confusion Matrix: \n",
      "[[524  37]\n",
      " [179  60]]\n"
     ]
    },
    {
     "data": {
      "image/png": "[encoded data removed]",
      "text/plain": [
       "<Figure size 432x288 with 1 Axes>"
      ]
     },
     "metadata": {
      "needs_background": "light"
     },
     "output_type": "display_data"
    }
   ],
   "source": [
    "# Analysing\n",
    "final_model = grid_search.best_estimator_\n",
    "final_model.fit(X_train_prepared, y_train)\n",
    "full_train_analysis(final_model, X_train_prepared, y_train)"
   ]
  },
  {
   "cell_type": "code",
   "execution_count": 120,
   "metadata": {
    "ExecuteTime": {
     "end_time": "2019-05-13T23:59:58.241153Z",
     "start_time": "2019-05-13T23:59:57.672458Z"
    }
   },
   "outputs": [
    {
     "name": "stdout",
     "output_type": "stream",
     "text": [
      "Fitting 5 folds for each of 14 candidates, totalling 70 fits\n",
      "[CV] C=0.001, penalty=l1 .............................................\n",
      "[CV] ................. C=0.001, penalty=l1, score=0.702, total=   0.0s\n",
      "[CV] C=0.001, penalty=l1 .............................................\n",
      "[CV] ................. C=0.001, penalty=l1, score=0.700, total=   0.0s\n",
      "[CV] C=0.001, penalty=l1 .............................................\n",
      "[CV] ................. C=0.001, penalty=l1, score=0.700, total=   0.0s\n",
      "[CV] C=0.001, penalty=l1 .............................................\n",
      "[CV] ................. C=0.001, penalty=l1, score=0.700, total=   0.0s\n",
      "[CV] C=0.001, penalty=l1 .............................................\n",
      "[CV] ................. C=0.001, penalty=l1, score=0.704, total=   0.0s\n",
      "[CV] C=0.001, penalty=l2 .............................................\n",
      "[CV] ................. C=0.001, penalty=l2, score=0.702, total=   0.0s\n",
      "[CV] C=0.001, penalty=l2 .............................................\n",
      "[CV] ................. C=0.001, penalty=l2, score=0.700, total=   0.0s\n",
      "[CV] C=0.001, penalty=l2 .............................................\n",
      "[CV] ................. C=0.001, penalty=l2, score=0.700, total=   0.0s\n",
      "[CV] C=0.001, penalty=l2 .............................................\n",
      "[CV] ................. C=0.001, penalty=l2, score=0.700, total=   0.0s\n",
      "[CV] C=0.001, penalty=l2 .............................................\n",
      "[CV] ................. C=0.001, penalty=l2, score=0.704, total=   0.0s\n",
      "[CV] C=0.01, penalty=l1 ..............................................\n",
      "[CV] .................. C=0.01, penalty=l1, score=0.702, total=   0.0s\n",
      "[CV] C=0.01, penalty=l1 ..............................................\n",
      "[CV] .................. C=0.01, penalty=l1, score=0.700, total=   0.0s\n",
      "[CV] C=0.01, penalty=l1 ..............................................\n",
      "[CV] .................. C=0.01, penalty=l1, score=0.700, total=   0.0s\n",
      "[CV] C=0.01, penalty=l1 ..............................................\n",
      "[CV] .................. C=0.01, penalty=l1, score=0.700, total=   0.0s\n",
      "[CV] C=0.01, penalty=l1 ..............................................\n",
      "[CV] .................. C=0.01, penalty=l1, score=0.704, total=   0.0s\n",
      "[CV] C=0.01, penalty=l2 ..............................................\n",
      "[CV] .................. C=0.01, penalty=l2, score=0.689, total=   0.0s\n",
      "[CV] C=0.01, penalty=l2 ..............................................\n",
      "[CV] .................. C=0.01, penalty=l2, score=0.719, total=   0.0s\n",
      "[CV] C=0.01, penalty=l2 ..............................................\n",
      "[CV] .................. C=0.01, penalty=l2, score=0.713, total=   0.0s\n",
      "[CV] C=0.01, penalty=l2 ..............................................\n",
      "[CV] .................. C=0.01, penalty=l2, score=0.738, total=   0.0s\n",
      "[CV] C=0.01, penalty=l2 ..............................................\n",
      "[CV] .................. C=0.01, penalty=l2, score=0.717, total=   0.0s\n",
      "[CV] C=0.1, penalty=l1 ...............................................\n",
      "[CV] ................... C=0.1, penalty=l1, score=0.696, total=   0.0s\n",
      "[CV] C=0.1, penalty=l1 ...............................................\n",
      "[CV] ................... C=0.1, penalty=l1, score=0.731, total=   0.0s\n",
      "[CV] C=0.1, penalty=l1 ...............................................\n",
      "[CV] ................... C=0.1, penalty=l1, score=0.719, total=   0.0s\n",
      "[CV] C=0.1, penalty=l1 ...............................................\n",
      "[CV] ................... C=0.1, penalty=l1, score=0.731, total=   0.0s\n",
      "[CV] C=0.1, penalty=l1 ...............................................\n",
      "[CV] ................... C=0.1, penalty=l1, score=0.717, total=   0.0s\n",
      "[CV] C=0.1, penalty=l2 ...............................................\n",
      "[CV] ................... C=0.1, penalty=l2, score=0.720, total=   0.0s\n",
      "[CV] C=0.1, penalty=l2 ...............................................\n",
      "[CV] ................... C=0.1, penalty=l2, score=0.744, total=   0.0s\n",
      "[CV] C=0.1, penalty=l2 ...............................................\n",
      "[CV] ................... C=0.1, penalty=l2, score=0.725, total=   0.0s\n",
      "[CV] C=0.1, penalty=l2 ...............................................\n",
      "[CV] ................... C=0.1, penalty=l2, score=0.706, total=   0.0s\n",
      "[CV] C=0.1, penalty=l2 ...............................................\n",
      "[CV] ................... C=0.1, penalty=l2, score=0.742, total=   0.0s\n",
      "[CV] C=1.0, penalty=l1 ...............................................\n",
      "[CV] ................... C=1.0, penalty=l1, score=0.677, total=   0.0s\n",
      "[CV] C=1.0, penalty=l1 ...............................................\n",
      "[CV] ................... C=1.0, penalty=l1, score=0.762, total=   0.0s\n",
      "[CV] C=1.0, penalty=l1 ...............................................\n",
      "[CV] ................... C=1.0, penalty=l1, score=0.731, total=   0.0s\n",
      "[CV] C=1.0, penalty=l1 ...............................................\n",
      "[CV] ................... C=1.0, penalty=l1, score=0.719, total=   0.0s\n",
      "[CV] C=1.0, penalty=l1 ...............................................\n",
      "[CV] ................... C=1.0, penalty=l1, score=0.748, total=   0.0s\n",
      "[CV] C=1.0, penalty=l2 ...............................................\n",
      "[CV] ................... C=1.0, penalty=l2, score=0.683, total=   0.0s\n",
      "[CV] C=1.0, penalty=l2 ...............................................\n",
      "[CV] ................... C=1.0, penalty=l2, score=0.750, total=   0.0s\n",
      "[CV] C=1.0, penalty=l2 ...............................................\n",
      "[CV] ................... C=1.0, penalty=l2, score=0.744, total=   0.0s\n",
      "[CV] C=1.0, penalty=l2 ...............................................\n",
      "[CV] ................... C=1.0, penalty=l2, score=0.725, total=   0.0s\n",
      "[CV] C=1.0, penalty=l2 ...............................................\n",
      "[CV] ................... C=1.0, penalty=l2, score=0.736, total=   0.0s\n",
      "[CV] C=10.0, penalty=l1 ..............................................\n",
      "[CV] .................. C=10.0, penalty=l1, score=0.677, total=   0.0s\n",
      "[CV] C=10.0, penalty=l1 ..............................................\n",
      "[CV] .................. C=10.0, penalty=l1, score=0.744, total=   0.0s\n",
      "[CV] C=10.0, penalty=l1 ..............................................\n",
      "[CV] .................. C=10.0, penalty=l1, score=0.744, total=   0.0s\n",
      "[CV] C=10.0, penalty=l1 ..............................................\n"
     ]
    },
    {
     "name": "stderr",
     "output_type": "stream",
     "text": [
      "[Parallel(n_jobs=1)]: Using backend SequentialBackend with 1 concurrent workers.\n",
      "[Parallel(n_jobs=1)]: Done   1 out of   1 | elapsed:    0.0s remaining:    0.0s\n",
      "[Parallel(n_jobs=1)]: Done   2 out of   2 | elapsed:    0.0s remaining:    0.0s\n"
     ]
    },
    {
     "name": "stdout",
     "output_type": "stream",
     "text": [
      "[CV] .................. C=10.0, penalty=l1, score=0.725, total=   0.0s\n",
      "[CV] C=10.0, penalty=l1 ..............................................\n",
      "[CV] .................. C=10.0, penalty=l1, score=0.736, total=   0.0s\n",
      "[CV] C=10.0, penalty=l2 ..............................................\n",
      "[CV] .................. C=10.0, penalty=l2, score=0.677, total=   0.0s\n",
      "[CV] C=10.0, penalty=l2 ..............................................\n",
      "[CV] .................. C=10.0, penalty=l2, score=0.744, total=   0.0s\n",
      "[CV] C=10.0, penalty=l2 ..............................................\n",
      "[CV] .................. C=10.0, penalty=l2, score=0.744, total=   0.0s\n",
      "[CV] C=10.0, penalty=l2 ..............................................\n",
      "[CV] .................. C=10.0, penalty=l2, score=0.725, total=   0.0s\n",
      "[CV] C=10.0, penalty=l2 ..............................................\n",
      "[CV] .................. C=10.0, penalty=l2, score=0.742, total=   0.0s\n",
      "[CV] C=100.0, penalty=l1 .............................................\n",
      "[CV] ................. C=100.0, penalty=l1, score=0.677, total=   0.1s\n",
      "[CV] C=100.0, penalty=l1 .............................................\n",
      "[CV] ................. C=100.0, penalty=l1, score=0.744, total=   0.0s\n",
      "[CV] C=100.0, penalty=l1 .............................................\n",
      "[CV] ................. C=100.0, penalty=l1, score=0.744, total=   0.0s\n",
      "[CV] C=100.0, penalty=l1 .............................................\n",
      "[CV] ................. C=100.0, penalty=l1, score=0.725, total=   0.0s\n",
      "[CV] C=100.0, penalty=l1 .............................................\n",
      "[CV] ................. C=100.0, penalty=l1, score=0.742, total=   0.0s\n",
      "[CV] C=100.0, penalty=l2 .............................................\n",
      "[CV] ................. C=100.0, penalty=l2, score=0.677, total=   0.0s\n",
      "[CV] C=100.0, penalty=l2 .............................................\n",
      "[CV] ................. C=100.0, penalty=l2, score=0.744, total=   0.0s\n",
      "[CV] C=100.0, penalty=l2 .............................................\n",
      "[CV] ................. C=100.0, penalty=l2, score=0.744, total=   0.0s\n",
      "[CV] C=100.0, penalty=l2 .............................................\n",
      "[CV] ................. C=100.0, penalty=l2, score=0.725, total=   0.0s\n",
      "[CV] C=100.0, penalty=l2 .............................................\n",
      "[CV] ................. C=100.0, penalty=l2, score=0.742, total=   0.0s\n",
      "[CV] C=1000.0, penalty=l1 ............................................\n",
      "[CV] ................ C=1000.0, penalty=l1, score=0.677, total=   0.0s\n",
      "[CV] C=1000.0, penalty=l1 ............................................\n",
      "[CV] ................ C=1000.0, penalty=l1, score=0.744, total=   0.0s\n",
      "[CV] C=1000.0, penalty=l1 ............................................\n",
      "[CV] ................ C=1000.0, penalty=l1, score=0.744, total=   0.0s\n",
      "[CV] C=1000.0, penalty=l1 ............................................\n",
      "[CV] ................ C=1000.0, penalty=l1, score=0.725, total=   0.0s\n",
      "[CV] C=1000.0, penalty=l1 ............................................\n",
      "[CV] ................ C=1000.0, penalty=l1, score=0.742, total=   0.0s\n",
      "[CV] C=1000.0, penalty=l2 ............................................\n",
      "[CV] ................ C=1000.0, penalty=l2, score=0.677, total=   0.0s\n",
      "[CV] C=1000.0, penalty=l2 ............................................\n",
      "[CV] ................ C=1000.0, penalty=l2, score=0.744, total=   0.0s\n",
      "[CV] C=1000.0, penalty=l2 ............................................\n",
      "[CV] ................ C=1000.0, penalty=l2, score=0.744, total=   0.0s\n",
      "[CV] C=1000.0, penalty=l2 ............................................\n",
      "[CV] ................ C=1000.0, penalty=l2, score=0.725, total=   0.0s\n",
      "[CV] C=1000.0, penalty=l2 ............................................\n",
      "[CV] ................ C=1000.0, penalty=l2, score=0.742, total=   0.0s\n"
     ]
    },
    {
     "name": "stderr",
     "output_type": "stream",
     "text": [
      "[Parallel(n_jobs=1)]: Done  70 out of  70 | elapsed:    0.4s finished\n"
     ]
    },
    {
     "data": {
      "text/plain": [
       "GridSearchCV(cv=5, error_score='raise-deprecating',\n",
       "             estimator=LogisticRegression(C=1.0, class_weight=None, dual=False,\n",
       "                                          fit_intercept=True,\n",
       "                                          intercept_scaling=1, l1_ratio=None,\n",
       "                                          max_iter=100, multi_class='warn',\n",
       "                                          n_jobs=None, penalty='l2',\n",
       "                                          random_state=None, solver='warn',\n",
       "                                          tol=0.0001, verbose=0,\n",
       "                                          warm_start=False),\n",
       "             iid='warn', n_jobs=None,\n",
       "             param_grid=[{'C': array([1.e-03, 1.e-02, 1.e-01, 1.e+00, 1.e+01, 1.e+02, 1.e+03]),\n",
       "                          'penalty': ['l1', 'l2']}],\n",
       "             pre_dispatch='2*n_jobs', refit=True, return_train_score=False,\n",
       "             scoring='accuracy', verbose=3)"
      ]
     },
     "execution_count": 120,
     "metadata": {},
     "output_type": "execute_result"
    }
   ],
   "source": [
    "# Trying Grid Search with Logistic Regression\n",
    "# params for log reg\n",
    "param_grid_logreg = [\n",
    "    {\n",
    "        'C':np.logspace(-3, 3, 7),\n",
    "        'penalty':['l1', 'l2']\n",
    "    }\n",
    "]\n",
    "\n",
    "#GridSearch\n",
    "log_reg_grid = LogisticRegression()\n",
    "grid_search = GridSearchCV(log_reg_grid, param_grid_logreg, cv=5,\n",
    "                           scoring='accuracy', verbose=3)\n",
    "\n",
    "grid_search.fit(X_train_prepared, y_train)"
   ]
  },
  {
   "cell_type": "code",
   "execution_count": 122,
   "metadata": {
    "ExecuteTime": {
     "end_time": "2019-05-14T00:00:34.831559Z",
     "start_time": "2019-05-14T00:00:34.823438Z"
    }
   },
   "outputs": [
    {
     "data": {
      "text/plain": [
       "{'C': 0.1, 'penalty': 'l2'}"
      ]
     },
     "execution_count": 122,
     "metadata": {},
     "output_type": "execute_result"
    }
   ],
   "source": [
    "# Best params\n",
    "grid_search.best_params_"
   ]
  },
  {
   "cell_type": "code",
   "execution_count": 121,
   "metadata": {
    "ExecuteTime": {
     "end_time": "2019-05-14T00:00:19.477275Z",
     "start_time": "2019-05-14T00:00:19.469682Z"
    }
   },
   "outputs": [
    {
     "data": {
      "text/plain": [
       "0.7275"
      ]
     },
     "execution_count": 121,
     "metadata": {},
     "output_type": "execute_result"
    }
   ],
   "source": [
    "# Best Score\n",
    "grid_search.best_score_"
   ]
  },
  {
   "cell_type": "code",
   "execution_count": 123,
   "metadata": {
    "ExecuteTime": {
     "end_time": "2019-05-14T00:00:51.756120Z",
     "start_time": "2019-05-14T00:00:51.501550Z"
    }
   },
   "outputs": [
    {
     "name": "stdout",
     "output_type": "stream",
     "text": [
      "Model Accuracy: 0.74\n",
      "\n",
      "Cross Validation: [0.72049689 0.74375    0.725      0.70625    0.74213836]\n",
      "\n",
      "Precision: 0.65\n",
      "\n",
      "Recall: 0.30\n",
      "\n",
      "f1_score: 0.41\n",
      "\n",
      "Confusion Matrix: \n",
      "[[517  44]\n",
      " [174  65]]\n"
     ]
    },
    {
     "data": {
      "image/png": "[encoded data removed]",
      "text/plain": [
       "<Figure size 432x288 with 1 Axes>"
      ]
     },
     "metadata": {
      "needs_background": "light"
     },
     "output_type": "display_data"
    }
   ],
   "source": [
    "# Analysing\n",
    "final_model = grid_search.best_estimator_\n",
    "final_model.fit(X_train_prepared, y_train)\n",
    "full_train_analysis(final_model, X_train_prepared, y_train)"
   ]
  },
  {
   "cell_type": "markdown",
   "metadata": {},
   "source": [
    "## Predicting Null Data"
   ]
  },
  {
   "cell_type": "markdown",
   "metadata": {},
   "source": [
    "In begining of data preparation, we filled the null data of the columns saving_accounts and checking_accounts with the most common instance. Maybe this isn't the best approach. So, let's try making a pipeline to predict the null data with the filled data we have for both columns."
   ]
  },
  {
   "cell_type": "code",
   "execution_count": 98,
   "metadata": {
    "ExecuteTime": {
     "end_time": "2019-05-13T23:43:34.831744Z",
     "start_time": "2019-05-13T23:43:34.812913Z"
    }
   },
   "outputs": [],
   "source": [
    "# Pipeline for checking account\n",
    "num_attribs_cc = ['age', 'credit_amount', 'duration']\n",
    "cat_attribs_cc = ['sex', 'job', 'housing', 'purpose', 'risk']\n",
    "\n",
    "# Num pipeline\n",
    "num_pipeline_cc = Pipeline([\n",
    "    ('std_scaler', StandardScaler())\n",
    "])\n",
    "\n",
    "# Cat pipeline\n",
    "cat_pipeline_cc = Pipeline([\n",
    "    ('one_hot', OneHotEncoder(sparse=False))\n",
    "])\n",
    "\n",
    "# full checking account pipeline\n",
    "full_pipeline_cc = ColumnTransformer([\n",
    "    ('num_pipeline', num_pipeline_cc, num_attribs_cc),\n",
    "    ('cat_pipeline', cat_pipeline_cc, cat_attribs_cc)\n",
    "])"
   ]
  },
  {
   "cell_type": "code",
   "execution_count": 99,
   "metadata": {
    "ExecuteTime": {
     "end_time": "2019-05-13T23:44:12.633379Z",
     "start_time": "2019-05-13T23:44:12.619368Z"
    }
   },
   "outputs": [],
   "source": [
    "# pipeline for saving_accounts\n",
    "num_attribs_cp = ['age', 'credit_amount', 'duration']\n",
    "cat_attribs_cp = ['sex', 'job', 'housing', 'purpose', 'risk', 'checking_account']\n",
    "\n",
    "# Num pipeline\n",
    "num_pipeline_cp = Pipeline([\n",
    "    ('std_scaler', StandardScaler())\n",
    "])\n",
    "\n",
    "# cat pipeline\n",
    "cat_pipeline_cp = Pipeline([\n",
    "    ('one_hot', OneHotEncoder(sparse=False))\n",
    "])\n",
    "\n",
    "# full pipeline for saving accounts\n",
    "full_pipeline_cp = ColumnTransformer([\n",
    "    ('num_pipeline', num_pipeline_cp, num_attribs_cp),\n",
    "    ('cat_pipeline', cat_pipeline_cp, cat_attribs_cp)\n",
    "])"
   ]
  },
  {
   "cell_type": "code",
   "execution_count": 129,
   "metadata": {
    "ExecuteTime": {
     "end_time": "2019-05-14T00:02:42.426775Z",
     "start_time": "2019-05-14T00:02:42.385339Z"
    }
   },
   "outputs": [],
   "source": [
    "class FillCheckingAcc(BaseEstimator, TransformerMixin):\n",
    "    \n",
    "    def fit(self, df, y=None):\n",
    "        return self\n",
    "    \n",
    "    def transform(self, df, y=None):\n",
    "        \n",
    "        # features to predict checking account\n",
    "        features_cc = ['age', 'sex', 'job', 'housing', 'credit_amount', 'duration', \n",
    "                       'purpose', 'risk']\n",
    "        label_cc = ['checking_account']\n",
    "        \n",
    "        # checking account indexing\n",
    "        X_cc_notnull = df[df['checking_account'].notnull()]\n",
    "        X_cc_null = df[df['checking_account'].isnull()]\n",
    "        X_train_cc = X_cc_notnull.loc[:, features_cc]\n",
    "        y_train_cc = X_cc_notnull.loc[:, label_cc]\n",
    "        X_fill_cc = X_cc_null.loc[:, features_cc]\n",
    "        \n",
    "        # data prep\n",
    "        X_cc_prepared = full_pipeline_cc.fit_transform(X_train_cc)\n",
    "        X_cc_fill_prepared = full_pipeline_cc.fit_transform(X_fill_cc)\n",
    "       \n",
    "        # training a model and predicting\n",
    "        log_reg_cc = LogisticRegression()\n",
    "        log_reg_cc.fit(X_cc_prepared, y_train_cc)\n",
    "        cc_pred = log_reg_cc.predict(X_cc_fill_prepared)\n",
    "        X_cc_null['checking_account'] = cc_pred\n",
    "        \n",
    "        return pd.concat([X_cc_notnull, X_cc_null])"
   ]
  },
  {
   "cell_type": "code",
   "execution_count": 130,
   "metadata": {
    "ExecuteTime": {
     "end_time": "2019-05-14T00:02:42.909741Z",
     "start_time": "2019-05-14T00:02:42.756099Z"
    }
   },
   "outputs": [],
   "source": [
    "# Handling checking_account null data\n",
    "filler_checking_account = FillCheckingAcc()\n",
    "df_full_cc = filler_checking_account.fit_transform(df)"
   ]
  },
  {
   "cell_type": "code",
   "execution_count": 131,
   "metadata": {
    "ExecuteTime": {
     "end_time": "2019-05-14T00:02:43.943791Z",
     "start_time": "2019-05-14T00:02:43.931762Z"
    }
   },
   "outputs": [
    {
     "data": {
      "text/plain": [
       "age                   0\n",
       "sex                   0\n",
       "job                   0\n",
       "housing               0\n",
       "saving_accounts     183\n",
       "checking_account      0\n",
       "credit_amount         0\n",
       "duration              0\n",
       "purpose               0\n",
       "risk                  0\n",
       "dtype: int64"
      ]
     },
     "execution_count": 131,
     "metadata": {},
     "output_type": "execute_result"
    }
   ],
   "source": [
    "# Verifying\n",
    "df_full_cc.isnull().sum()"
   ]
  },
  {
   "cell_type": "code",
   "execution_count": 132,
   "metadata": {
    "ExecuteTime": {
     "end_time": "2019-05-14T00:02:46.157534Z",
     "start_time": "2019-05-14T00:02:46.116343Z"
    }
   },
   "outputs": [],
   "source": [
    "# Definindo uma classe\n",
    "class FillSavingAcc(BaseEstimator, TransformerMixin):\n",
    "    \n",
    "    def fit(self, df, y=None):\n",
    "        return self\n",
    "    \n",
    "    def transform(self, df, y=None):\n",
    "        \n",
    "        # features to predict saving account\n",
    "        features_cp = ['age', 'sex', 'job', 'housing', 'credit_amount', 'duration', \n",
    "                       'purpose', 'risk', 'checking_account']\n",
    "        label_cp = ['saving_accounts']\n",
    "        \n",
    "        # saving account indexing\n",
    "        X_cp_notnull = df[df['saving_accounts'].notnull()]\n",
    "        X_cp_null = df[df['saving_accounts'].isnull()]\n",
    "        X_train_cp = X_cp_notnull.loc[:, features_cp]\n",
    "        y_train_cp = X_cp_notnull.loc[:, label_cp]\n",
    "        X_fill_cp = X_cp_null.loc[:, features_cp]\n",
    "        \n",
    "        # data prep\n",
    "        X_cp_prepared = full_pipeline_cp.fit_transform(X_train_cp)\n",
    "        X_cp_fill_prepared = full_pipeline_cp.fit_transform(X_fill_cp)\n",
    "       \n",
    "        # traning a model and predicting \n",
    "        log_reg_cp = MLPClassifier()\n",
    "        log_reg_cp.fit(X_cp_prepared, y_train_cp)\n",
    "        cp_pred = log_reg_cp.predict(X_cp_fill_prepared)\n",
    "        X_cp_null['saving_accounts'] = cp_pred\n",
    "        \n",
    "        return pd.concat([X_cp_notnull, X_cp_null])"
   ]
  },
  {
   "cell_type": "code",
   "execution_count": 133,
   "metadata": {
    "ExecuteTime": {
     "end_time": "2019-05-14T00:02:48.402526Z",
     "start_time": "2019-05-14T00:02:47.015355Z"
    }
   },
   "outputs": [],
   "source": [
    "# Applying\n",
    "filler_saving_accouns = FillSavingAcc()\n",
    "df_full_complete = filler_saving_accouns.fit_transform(df_full_cc)"
   ]
  },
  {
   "cell_type": "code",
   "execution_count": 134,
   "metadata": {
    "ExecuteTime": {
     "end_time": "2019-05-14T00:02:49.483763Z",
     "start_time": "2019-05-14T00:02:49.469212Z"
    }
   },
   "outputs": [
    {
     "data": {
      "text/plain": [
       "age                 0\n",
       "sex                 0\n",
       "job                 0\n",
       "housing             0\n",
       "saving_accounts     0\n",
       "checking_account    0\n",
       "credit_amount       0\n",
       "duration            0\n",
       "purpose             0\n",
       "risk                0\n",
       "dtype: int64"
      ]
     },
     "execution_count": 134,
     "metadata": {},
     "output_type": "execute_result"
    }
   ],
   "source": [
    "# Verifying\n",
    "df_full_complete.isnull().sum()"
   ]
  },
  {
   "cell_type": "code",
   "execution_count": 135,
   "metadata": {
    "ExecuteTime": {
     "end_time": "2019-05-14T00:02:51.159728Z",
     "start_time": "2019-05-14T00:02:51.141730Z"
    }
   },
   "outputs": [
    {
     "data": {
      "text/html": [
       "<div>\n",
       "<style scoped>\n",
       "    .dataframe tbody tr th:only-of-type {\n",
       "        vertical-align: middle;\n",
       "    }\n",
       "\n",
       "    .dataframe tbody tr th {\n",
       "        vertical-align: top;\n",
       "    }\n",
       "\n",
       "    .dataframe thead th {\n",
       "        text-align: right;\n",
       "    }\n",
       "</style>\n",
       "<table border=\"1\" class=\"dataframe\">\n",
       "  <thead>\n",
       "    <tr style=\"text-align: right;\">\n",
       "      <th></th>\n",
       "      <th>age</th>\n",
       "      <th>sex</th>\n",
       "      <th>job</th>\n",
       "      <th>housing</th>\n",
       "      <th>saving_accounts</th>\n",
       "      <th>checking_account</th>\n",
       "      <th>credit_amount</th>\n",
       "      <th>duration</th>\n",
       "      <th>purpose</th>\n",
       "      <th>risk</th>\n",
       "    </tr>\n",
       "  </thead>\n",
       "  <tbody>\n",
       "    <tr>\n",
       "      <th>1</th>\n",
       "      <td>22</td>\n",
       "      <td>female</td>\n",
       "      <td>2</td>\n",
       "      <td>own</td>\n",
       "      <td>little</td>\n",
       "      <td>moderate</td>\n",
       "      <td>5951</td>\n",
       "      <td>48</td>\n",
       "      <td>radio/TV</td>\n",
       "      <td>bad</td>\n",
       "    </tr>\n",
       "    <tr>\n",
       "      <th>3</th>\n",
       "      <td>45</td>\n",
       "      <td>male</td>\n",
       "      <td>2</td>\n",
       "      <td>free</td>\n",
       "      <td>little</td>\n",
       "      <td>little</td>\n",
       "      <td>7882</td>\n",
       "      <td>42</td>\n",
       "      <td>furniture/equipment</td>\n",
       "      <td>good</td>\n",
       "    </tr>\n",
       "    <tr>\n",
       "      <th>4</th>\n",
       "      <td>53</td>\n",
       "      <td>male</td>\n",
       "      <td>2</td>\n",
       "      <td>free</td>\n",
       "      <td>little</td>\n",
       "      <td>little</td>\n",
       "      <td>4870</td>\n",
       "      <td>24</td>\n",
       "      <td>car</td>\n",
       "      <td>bad</td>\n",
       "    </tr>\n",
       "    <tr>\n",
       "      <th>7</th>\n",
       "      <td>35</td>\n",
       "      <td>male</td>\n",
       "      <td>3</td>\n",
       "      <td>rent</td>\n",
       "      <td>little</td>\n",
       "      <td>moderate</td>\n",
       "      <td>6948</td>\n",
       "      <td>36</td>\n",
       "      <td>car</td>\n",
       "      <td>good</td>\n",
       "    </tr>\n",
       "    <tr>\n",
       "      <th>9</th>\n",
       "      <td>28</td>\n",
       "      <td>male</td>\n",
       "      <td>3</td>\n",
       "      <td>own</td>\n",
       "      <td>little</td>\n",
       "      <td>moderate</td>\n",
       "      <td>5234</td>\n",
       "      <td>30</td>\n",
       "      <td>car</td>\n",
       "      <td>bad</td>\n",
       "    </tr>\n",
       "  </tbody>\n",
       "</table>\n",
       "</div>"
      ],
      "text/plain": [
       "   age     sex  job housing saving_accounts checking_account  credit_amount  \\\n",
       "1   22  female    2     own          little         moderate           5951   \n",
       "3   45    male    2    free          little           little           7882   \n",
       "4   53    male    2    free          little           little           4870   \n",
       "7   35    male    3    rent          little         moderate           6948   \n",
       "9   28    male    3     own          little         moderate           5234   \n",
       "\n",
       "   duration              purpose  risk  \n",
       "1        48             radio/TV   bad  \n",
       "3        42  furniture/equipment  good  \n",
       "4        24                  car   bad  \n",
       "7        36                  car  good  \n",
       "9        30                  car   bad  "
      ]
     },
     "execution_count": 135,
     "metadata": {},
     "output_type": "execute_result"
    }
   ],
   "source": [
    "# Head\n",
    "df_full_complete.head()"
   ]
  },
  {
   "cell_type": "markdown",
   "metadata": {},
   "source": [
    "The null data was filled by predictions of a traning."
   ]
  },
  {
   "cell_type": "code",
   "execution_count": 136,
   "metadata": {
    "ExecuteTime": {
     "end_time": "2019-05-14T00:02:52.135266Z",
     "start_time": "2019-05-14T00:02:52.119768Z"
    }
   },
   "outputs": [],
   "source": [
    "# Indexing data\n",
    "X = df_full_complete.iloc[:, :9]\n",
    "y = df_full_complete.iloc[:, -1]\n",
    "\n",
    "# label 0s and 1s\n",
    "y = (y == 'bad')*1"
   ]
  },
  {
   "cell_type": "code",
   "execution_count": 137,
   "metadata": {
    "ExecuteTime": {
     "end_time": "2019-05-14T00:02:53.478304Z",
     "start_time": "2019-05-14T00:02:53.470804Z"
    }
   },
   "outputs": [],
   "source": [
    "# Splitting\n",
    "X_train_new, X_test_new, y_train_new, y_test_new = train_test_split(X, y, test_size=.20)"
   ]
  },
  {
   "cell_type": "code",
   "execution_count": 138,
   "metadata": {
    "ExecuteTime": {
     "end_time": "2019-05-14T00:02:53.806738Z",
     "start_time": "2019-05-14T00:02:53.775668Z"
    }
   },
   "outputs": [],
   "source": [
    "# new pipeline\n",
    "num_attribs = ['age', 'credit_amount', 'duration']\n",
    "cat_attribs = ['sex', 'job', 'housing', 'saving_accounts', \n",
    "               'checking_account', 'purpose']\n",
    "\n",
    "# Criando pipeline numérico\n",
    "new_num_pipeline = Pipeline([\n",
    "    ('std_scaler', StandardScaler())\n",
    "])\n",
    "\n",
    "# Criando pipeline categórico\n",
    "new_cat_pipeline = Pipeline([\n",
    "    ('one_hot', OneHotEncoder(sparse=False))\n",
    "])\n",
    "\n",
    "# Definindo pipeline completo\n",
    "new_full_pipeline = ColumnTransformer([\n",
    "    ('num_pipeline', new_num_pipeline, num_attribs),\n",
    "    ('cat_pipeline', new_cat_pipeline, cat_attribs)\n",
    "])\n",
    "\n",
    "# Dados preparados\n",
    "X_train_prepared_new = new_full_pipeline.fit_transform(X_train_new)"
   ]
  },
  {
   "cell_type": "code",
   "execution_count": 139,
   "metadata": {
    "ExecuteTime": {
     "end_time": "2019-05-14T00:02:55.372390Z",
     "start_time": "2019-05-14T00:02:55.113733Z"
    }
   },
   "outputs": [
    {
     "name": "stdout",
     "output_type": "stream",
     "text": [
      "Model Accuracy: 0.73\n",
      "\n",
      "Cross Validation: [0.68944099 0.73913043 0.71875    0.69811321 0.73584906]\n",
      "\n",
      "Precision: 0.61\n",
      "\n",
      "Recall: 0.28\n",
      "\n",
      "f1_score: 0.38\n",
      "\n",
      "Confusion Matrix: \n",
      "[[513  49]\n",
      " [178  60]]\n"
     ]
    },
    {
     "data": {
      "image/png": "[encoded data removed]",
      "text/plain": [
       "<Figure size 432x288 with 1 Axes>"
      ]
     },
     "metadata": {
      "needs_background": "light"
     },
     "output_type": "display_data"
    }
   ],
   "source": [
    "# Train and analysis\n",
    "log_reg_new = LogisticRegression()\n",
    "log_reg_new.fit(X_train_prepared_new, y_train_new)\n",
    "full_train_analysis(log_reg_new, X_train_prepared_new, y_train_new)"
   ]
  },
  {
   "cell_type": "markdown",
   "metadata": {},
   "source": [
    "There was no improvement. Let's try Grid Search."
   ]
  },
  {
   "cell_type": "code",
   "execution_count": 141,
   "metadata": {
    "ExecuteTime": {
     "end_time": "2019-05-14T00:04:54.689127Z",
     "start_time": "2019-05-14T00:04:54.113530Z"
    }
   },
   "outputs": [
    {
     "name": "stdout",
     "output_type": "stream",
     "text": [
      "Fitting 5 folds for each of 14 candidates, totalling 70 fits\n",
      "[CV] C=0.001, penalty=l1 .............................................\n",
      "[CV] ................. C=0.001, penalty=l1, score=0.702, total=   0.0s\n",
      "[CV] C=0.001, penalty=l1 .............................................\n",
      "[CV] ................. C=0.001, penalty=l1, score=0.702, total=   0.0s\n",
      "[CV] C=0.001, penalty=l1 .............................................\n",
      "[CV] ................. C=0.001, penalty=l1, score=0.700, total=   0.0s\n",
      "[CV] C=0.001, penalty=l1 .............................................\n",
      "[CV] ................. C=0.001, penalty=l1, score=0.704, total=   0.0s\n",
      "[CV] C=0.001, penalty=l1 .............................................\n",
      "[CV] ................. C=0.001, penalty=l1, score=0.704, total=   0.0s\n",
      "[CV] C=0.001, penalty=l2 .............................................\n",
      "[CV] ................. C=0.001, penalty=l2, score=0.702, total=   0.0s\n",
      "[CV] C=0.001, penalty=l2 .............................................\n",
      "[CV] ................. C=0.001, penalty=l2, score=0.708, total=   0.0s\n",
      "[CV] C=0.001, penalty=l2 .............................................\n",
      "[CV] ................. C=0.001, penalty=l2, score=0.706, total=   0.0s\n",
      "[CV] C=0.001, penalty=l2 .............................................\n",
      "[CV] ................. C=0.001, penalty=l2, score=0.704, total=   0.0s\n",
      "[CV] C=0.001, penalty=l2 .............................................\n",
      "[CV] ................. C=0.001, penalty=l2, score=0.717, total=   0.0s\n",
      "[CV] C=0.01, penalty=l1 ..............................................\n",
      "[CV] .................. C=0.01, penalty=l1, score=0.702, total=   0.0s\n",
      "[CV] C=0.01, penalty=l1 ..............................................\n",
      "[CV] .................. C=0.01, penalty=l1, score=0.702, total=   0.0s\n",
      "[CV] C=0.01, penalty=l1 ..............................................\n",
      "[CV] .................. C=0.01, penalty=l1, score=0.700, total=   0.0s\n",
      "[CV] C=0.01, penalty=l1 ..............................................\n",
      "[CV] .................. C=0.01, penalty=l1, score=0.704, total=   0.0s\n",
      "[CV] C=0.01, penalty=l1 ..............................................\n",
      "[CV] .................. C=0.01, penalty=l1, score=0.704, total=   0.0s\n",
      "[CV] C=0.01, penalty=l2 ..............................................\n",
      "[CV] .................. C=0.01, penalty=l2, score=0.714, total=   0.0s\n",
      "[CV] C=0.01, penalty=l2 ..............................................\n",
      "[CV] .................. C=0.01, penalty=l2, score=0.727, total=   0.0s\n",
      "[CV] C=0.01, penalty=l2 ..............................................\n",
      "[CV] .................. C=0.01, penalty=l2, score=0.688, total=   0.0s\n",
      "[CV] C=0.01, penalty=l2 ..............................................\n",
      "[CV] .................. C=0.01, penalty=l2, score=0.723, total=   0.0s\n",
      "[CV] C=0.01, penalty=l2 ..............................................\n",
      "[CV] .................. C=0.01, penalty=l2, score=0.742, total=   0.0s\n",
      "[CV] C=0.1, penalty=l1 ...............................................\n",
      "[CV] ................... C=0.1, penalty=l1, score=0.702, total=   0.0s\n",
      "[CV] C=0.1, penalty=l1 ...............................................\n",
      "[CV] ................... C=0.1, penalty=l1, score=0.733, total=   0.0s\n",
      "[CV] C=0.1, penalty=l1 ...............................................\n",
      "[CV] ................... C=0.1, penalty=l1, score=0.725, total=   0.0s\n",
      "[CV] C=0.1, penalty=l1 ...............................................\n",
      "[CV] ................... C=0.1, penalty=l1, score=0.704, total=   0.0s\n",
      "[CV] C=0.1, penalty=l1 ...............................................\n",
      "[CV] ................... C=0.1, penalty=l1, score=0.723, total=   0.0s\n",
      "[CV] C=0.1, penalty=l2 ...............................................\n",
      "[CV] ................... C=0.1, penalty=l2, score=0.696, total=   0.0s\n",
      "[CV] C=0.1, penalty=l2 ...............................................\n",
      "[CV] ................... C=0.1, penalty=l2, score=0.752, total=   0.0s\n",
      "[CV] C=0.1, penalty=l2 ...............................................\n",
      "[CV] ................... C=0.1, penalty=l2, score=0.713, total=   0.0s\n",
      "[CV] C=0.1, penalty=l2 ...............................................\n",
      "[CV] ................... C=0.1, penalty=l2, score=0.723, total=   0.0s\n",
      "[CV] C=0.1, penalty=l2 ...............................................\n",
      "[CV] ................... C=0.1, penalty=l2, score=0.748, total=   0.0s\n",
      "[CV] C=1.0, penalty=l1 ...............................................\n",
      "[CV] ................... C=1.0, penalty=l1, score=0.696, total=   0.0s\n",
      "[CV] C=1.0, penalty=l1 ...............................................\n",
      "[CV] ................... C=1.0, penalty=l1, score=0.758, total=   0.0s\n",
      "[CV] C=1.0, penalty=l1 ...............................................\n",
      "[CV] ................... C=1.0, penalty=l1, score=0.719, total=   0.0s\n",
      "[CV] C=1.0, penalty=l1 ...............................................\n",
      "[CV] ................... C=1.0, penalty=l1, score=0.717, total=   0.0s\n",
      "[CV] C=1.0, penalty=l1 ...............................................\n",
      "[CV] ................... C=1.0, penalty=l1, score=0.748, total=   0.0s\n",
      "[CV] C=1.0, penalty=l2 ...............................................\n",
      "[CV] ................... C=1.0, penalty=l2, score=0.689, total=   0.0s\n",
      "[CV] C=1.0, penalty=l2 ...............................................\n",
      "[CV] ................... C=1.0, penalty=l2, score=0.739, total=   0.0s\n",
      "[CV] C=1.0, penalty=l2 ...............................................\n",
      "[CV] ................... C=1.0, penalty=l2, score=0.719, total=   0.0s\n",
      "[CV] C=1.0, penalty=l2 ...............................................\n",
      "[CV] ................... C=1.0, penalty=l2, score=0.698, total=   0.0s\n",
      "[CV] C=1.0, penalty=l2 ...............................................\n",
      "[CV] ................... C=1.0, penalty=l2, score=0.736, total=   0.0s\n",
      "[CV] C=10.0, penalty=l1 ..............................................\n",
      "[CV] .................. C=10.0, penalty=l1, score=0.696, total=   0.0s\n",
      "[CV] C=10.0, penalty=l1 ..............................................\n",
      "[CV] .................. C=10.0, penalty=l1, score=0.745, total=   0.0s\n",
      "[CV] C=10.0, penalty=l1 ..............................................\n",
      "[CV] .................. C=10.0, penalty=l1, score=0.719, total=   0.0s\n",
      "[CV] C=10.0, penalty=l1 ..............................................\n",
      "[CV] .................. C=10.0, penalty=l1, score=0.704, total=   0.0s\n",
      "[CV] C=10.0, penalty=l1 ..............................................\n",
      "[CV] .................. C=10.0, penalty=l1, score=0.736, total=   0.0s\n",
      "[CV] C=10.0, penalty=l2 ..............................................\n",
      "[CV] .................. C=10.0, penalty=l2, score=0.689, total=   0.0s\n",
      "[CV] C=10.0, penalty=l2 ..............................................\n",
      "[CV] .................. C=10.0, penalty=l2, score=0.745, total=   0.0s\n",
      "[CV] C=10.0, penalty=l2 ..............................................\n"
     ]
    },
    {
     "name": "stderr",
     "output_type": "stream",
     "text": [
      "[Parallel(n_jobs=1)]: Using backend SequentialBackend with 1 concurrent workers.\n",
      "[Parallel(n_jobs=1)]: Done   1 out of   1 | elapsed:    0.0s remaining:    0.0s\n",
      "[Parallel(n_jobs=1)]: Done   2 out of   2 | elapsed:    0.0s remaining:    0.0s\n"
     ]
    },
    {
     "name": "stdout",
     "output_type": "stream",
     "text": [
      "[CV] .................. C=10.0, penalty=l2, score=0.725, total=   0.0s\n",
      "[CV] C=10.0, penalty=l2 ..............................................\n",
      "[CV] .................. C=10.0, penalty=l2, score=0.704, total=   0.0s\n",
      "[CV] C=10.0, penalty=l2 ..............................................\n",
      "[CV] .................. C=10.0, penalty=l2, score=0.736, total=   0.0s\n",
      "[CV] C=100.0, penalty=l1 .............................................\n",
      "[CV] ................. C=100.0, penalty=l1, score=0.689, total=   0.1s\n",
      "[CV] C=100.0, penalty=l1 .............................................\n",
      "[CV] ................. C=100.0, penalty=l1, score=0.745, total=   0.1s\n",
      "[CV] C=100.0, penalty=l1 .............................................\n",
      "[CV] ................. C=100.0, penalty=l1, score=0.725, total=   0.1s\n",
      "[CV] C=100.0, penalty=l1 .............................................\n",
      "[CV] ................. C=100.0, penalty=l1, score=0.704, total=   0.0s\n",
      "[CV] C=100.0, penalty=l1 .............................................\n",
      "[CV] ................. C=100.0, penalty=l1, score=0.736, total=   0.0s\n",
      "[CV] C=100.0, penalty=l2 .............................................\n",
      "[CV] ................. C=100.0, penalty=l2, score=0.689, total=   0.0s\n",
      "[CV] C=100.0, penalty=l2 .............................................\n",
      "[CV] ................. C=100.0, penalty=l2, score=0.745, total=   0.0s\n",
      "[CV] C=100.0, penalty=l2 .............................................\n",
      "[CV] ................. C=100.0, penalty=l2, score=0.725, total=   0.0s\n",
      "[CV] C=100.0, penalty=l2 .............................................\n",
      "[CV] ................. C=100.0, penalty=l2, score=0.704, total=   0.0s\n",
      "[CV] C=100.0, penalty=l2 .............................................\n",
      "[CV] ................. C=100.0, penalty=l2, score=0.736, total=   0.0s\n",
      "[CV] C=1000.0, penalty=l1 ............................................\n",
      "[CV] ................ C=1000.0, penalty=l1, score=0.689, total=   0.0s\n",
      "[CV] C=1000.0, penalty=l1 ............................................\n",
      "[CV] ................ C=1000.0, penalty=l1, score=0.745, total=   0.0s\n",
      "[CV] C=1000.0, penalty=l1 ............................................\n",
      "[CV] ................ C=1000.0, penalty=l1, score=0.725, total=   0.0s\n",
      "[CV] C=1000.0, penalty=l1 ............................................\n",
      "[CV] ................ C=1000.0, penalty=l1, score=0.704, total=   0.0s\n",
      "[CV] C=1000.0, penalty=l1 ............................................\n",
      "[CV] ................ C=1000.0, penalty=l1, score=0.736, total=   0.0s\n",
      "[CV] C=1000.0, penalty=l2 ............................................\n",
      "[CV] ................ C=1000.0, penalty=l2, score=0.689, total=   0.0s\n",
      "[CV] C=1000.0, penalty=l2 ............................................\n",
      "[CV] ................ C=1000.0, penalty=l2, score=0.745, total=   0.0s\n",
      "[CV] C=1000.0, penalty=l2 ............................................\n",
      "[CV] ................ C=1000.0, penalty=l2, score=0.725, total=   0.0s\n",
      "[CV] C=1000.0, penalty=l2 ............................................\n",
      "[CV] ................ C=1000.0, penalty=l2, score=0.704, total=   0.0s\n",
      "[CV] C=1000.0, penalty=l2 ............................................\n",
      "[CV] ................ C=1000.0, penalty=l2, score=0.736, total=   0.0s\n"
     ]
    },
    {
     "name": "stderr",
     "output_type": "stream",
     "text": [
      "[Parallel(n_jobs=1)]: Done  70 out of  70 | elapsed:    0.4s finished\n"
     ]
    },
    {
     "data": {
      "text/plain": [
       "GridSearchCV(cv=5, error_score='raise-deprecating',\n",
       "             estimator=LogisticRegression(C=1.0, class_weight=None, dual=False,\n",
       "                                          fit_intercept=True,\n",
       "                                          intercept_scaling=1, l1_ratio=None,\n",
       "                                          max_iter=100, multi_class='warn',\n",
       "                                          n_jobs=None, penalty='l2',\n",
       "                                          random_state=None, solver='warn',\n",
       "                                          tol=0.0001, verbose=0,\n",
       "                                          warm_start=False),\n",
       "             iid='warn', n_jobs=None,\n",
       "             param_grid=[{'C': array([1.e-03, 1.e-02, 1.e-01, 1.e+00, 1.e+01, 1.e+02, 1.e+03]),\n",
       "                          'penalty': ['l1', 'l2']}],\n",
       "             pre_dispatch='2*n_jobs', refit=True, return_train_score=False,\n",
       "             scoring='accuracy', verbose=3)"
      ]
     },
     "execution_count": 141,
     "metadata": {},
     "output_type": "execute_result"
    }
   ],
   "source": [
    "# Trying Grid Search with Logistic Regression\n",
    "# params for log reg\n",
    "param_grid_logreg = [\n",
    "    {\n",
    "        'C':np.logspace(-3, 3, 7),\n",
    "        'penalty':['l1', 'l2']\n",
    "    }\n",
    "]\n",
    "\n",
    "#GridSearch\n",
    "log_reg_grid_new = LogisticRegression()\n",
    "grid_search = GridSearchCV(log_reg_grid_new, param_grid_logreg, cv=5,\n",
    "                           scoring='accuracy', verbose=3)\n",
    "\n",
    "grid_search.fit(X_train_prepared_new, y_train_new)"
   ]
  },
  {
   "cell_type": "code",
   "execution_count": 142,
   "metadata": {
    "ExecuteTime": {
     "end_time": "2019-05-14T00:05:03.922961Z",
     "start_time": "2019-05-14T00:05:03.601498Z"
    }
   },
   "outputs": [
    {
     "name": "stdout",
     "output_type": "stream",
     "text": [
      "Model Accuracy: 0.73\n",
      "\n",
      "Cross Validation: [0.69565217 0.75776398 0.71875    0.71698113 0.74842767]\n",
      "\n",
      "Precision: 0.60\n",
      "\n",
      "Recall: 0.26\n",
      "\n",
      "f1_score: 0.36\n",
      "\n",
      "Confusion Matrix: \n",
      "[[520  42]\n",
      " [176  62]]\n"
     ]
    },
    {
     "data": {
      "image/png": "[encoded data removed]",
      "text/plain": [
       "<Figure size 432x288 with 1 Axes>"
      ]
     },
     "metadata": {
      "needs_background": "light"
     },
     "output_type": "display_data"
    }
   ],
   "source": [
    "# Analysing\n",
    "final_model_new = grid_search.best_estimator_\n",
    "final_model_new.fit(X_train_prepared_new, y_train_new)\n",
    "full_train_analysis(final_model_new, X_train_prepared_new, y_train_new)"
   ]
  },
  {
   "cell_type": "code",
   "execution_count": 143,
   "metadata": {
    "ExecuteTime": {
     "end_time": "2019-05-14T00:05:13.182496Z",
     "start_time": "2019-05-14T00:05:12.907928Z"
    }
   },
   "outputs": [
    {
     "name": "stdout",
     "output_type": "stream",
     "text": [
      "Model Accuracy: 0.75\n",
      "\n",
      "Cross Validation: [0.67701863 0.7625     0.73125    0.71875    0.74842767]\n",
      "\n",
      "Precision: 0.66\n",
      "\n",
      "Recall: 0.34\n",
      "\n",
      "f1_score: 0.45\n",
      "\n",
      "Confusion Matrix: \n",
      "[[508  53]\n",
      " [165  74]]\n"
     ]
    },
    {
     "data": {
      "image/png": "[encoded data removed]",
      "text/plain": [
       "<Figure size 432x288 with 1 Axes>"
      ]
     },
     "metadata": {
      "needs_background": "light"
     },
     "output_type": "display_data"
    }
   ],
   "source": [
    "# Comparing with previous result\n",
    "final_model = grid_search.best_estimator_\n",
    "final_model.fit(X_train_prepared, y_train)\n",
    "full_train_analysis(final_model, X_train_prepared, y_train)"
   ]
  },
  {
   "cell_type": "markdown",
   "metadata": {},
   "source": [
    "With previous result, we got a True Positive rate higher. Let's keep with the first Random Forest we got."
   ]
  },
  {
   "cell_type": "markdown",
   "metadata": {},
   "source": [
    "## Test Accuracy"
   ]
  },
  {
   "cell_type": "code",
   "execution_count": 144,
   "metadata": {
    "ExecuteTime": {
     "end_time": "2019-05-14T00:05:41.182711Z",
     "start_time": "2019-05-14T00:05:41.156793Z"
    }
   },
   "outputs": [
    {
     "data": {
      "text/plain": [
       "0.68"
      ]
     },
     "execution_count": 144,
     "metadata": {},
     "output_type": "execute_result"
    }
   ],
   "source": [
    "# Data prep\n",
    "X_test_prepared = full_pipeline.fit_transform(X_test)\n",
    "y_pred = final_model_new.predict(X_test_prepared)\n",
    "accuracy_score(y_pred, y_test)"
   ]
  },
  {
   "cell_type": "code",
   "execution_count": null,
   "metadata": {},
   "outputs": [],
   "source": []
  }
 ],
 "metadata": {
  "kernelspec": {
   "display_name": "Python 3",
   "language": "python",
   "name": "python3"
  },
  "language_info": {
   "codemirror_mode": {
    "name": "ipython",
    "version": 3
   },
   "file_extension": ".py",
   "mimetype": "text/x-python",
   "name": "python",
   "nbconvert_exporter": "python",
   "pygments_lexer": "ipython3",
   "version": "3.6.4"
  },
  "toc": {
   "base_numbering": 1,
   "nav_menu": {},
   "number_sections": true,
   "sideBar": true,
   "skip_h1_title": true,
   "title_cell": "Table of Contents",
   "title_sidebar": "Contents",
   "toc_cell": true,
   "toc_position": {},
   "toc_section_display": true,
   "toc_window_display": true
  }
 },
 "nbformat": 4,
 "nbformat_minor": 2
}
