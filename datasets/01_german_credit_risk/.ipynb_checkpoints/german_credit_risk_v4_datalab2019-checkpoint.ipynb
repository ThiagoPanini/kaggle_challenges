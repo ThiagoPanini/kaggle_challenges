{
 "cells": [
  {
   "cell_type": "markdown",
   "metadata": {
    "toc": true
   },
   "source": [
    "<h1>Table of Contents<span class=\"tocSkip\"></span></h1>\n",
    "<div class=\"toc\"><ul class=\"toc-item\"><li><span><a href=\"#Explorando-Dados\" data-toc-modified-id=\"Explorando-Dados-1\"><span class=\"toc-item-num\">1&nbsp;&nbsp;</span>Explorando Dados</a></span><ul class=\"toc-item\"><li><span><a href=\"#Exploração-Gráfica-1.0\" data-toc-modified-id=\"Exploração-Gráfica-1.0-1.1\"><span class=\"toc-item-num\">1.1&nbsp;&nbsp;</span>Exploração Gráfica 1.0</a></span></li><li><span><a href=\"#Exploração-Gráfica-2.0\" data-toc-modified-id=\"Exploração-Gráfica-2.0-1.2\"><span class=\"toc-item-num\">1.2&nbsp;&nbsp;</span>Exploração Gráfica 2.0</a></span></li></ul></li><li><span><a href=\"#Preparando-os-Dados\" data-toc-modified-id=\"Preparando-os-Dados-2\"><span class=\"toc-item-num\">2&nbsp;&nbsp;</span>Preparando os Dados</a></span><ul class=\"toc-item\"><li><span><a href=\"#Separando-os-Dados\" data-toc-modified-id=\"Separando-os-Dados-2.1\"><span class=\"toc-item-num\">2.1&nbsp;&nbsp;</span>Separando os Dados</a></span></li><li><span><a href=\"#Dados-Nulos\" data-toc-modified-id=\"Dados-Nulos-2.2\"><span class=\"toc-item-num\">2.2&nbsp;&nbsp;</span>Dados Nulos</a></span></li><li><span><a href=\"#Atributos-Categóricos\" data-toc-modified-id=\"Atributos-Categóricos-2.3\"><span class=\"toc-item-num\">2.3&nbsp;&nbsp;</span>Atributos Categóricos</a></span></li><li><span><a href=\"#Feature-Scaling\" data-toc-modified-id=\"Feature-Scaling-2.4\"><span class=\"toc-item-num\">2.4&nbsp;&nbsp;</span>Feature Scaling</a></span></li></ul></li><li><span><a href=\"#Pipeline\" data-toc-modified-id=\"Pipeline-3\"><span class=\"toc-item-num\">3&nbsp;&nbsp;</span>Pipeline</a></span><ul class=\"toc-item\"><li><span><a href=\"#Pipeline-Numérico\" data-toc-modified-id=\"Pipeline-Numérico-3.1\"><span class=\"toc-item-num\">3.1&nbsp;&nbsp;</span>Pipeline Numérico</a></span></li><li><span><a href=\"#Pipeline-Categórico\" data-toc-modified-id=\"Pipeline-Categórico-3.2\"><span class=\"toc-item-num\">3.2&nbsp;&nbsp;</span>Pipeline Categórico</a></span></li><li><span><a href=\"#Pipeline-Completo\" data-toc-modified-id=\"Pipeline-Completo-3.3\"><span class=\"toc-item-num\">3.3&nbsp;&nbsp;</span>Pipeline Completo</a></span></li></ul></li><li><span><a href=\"#Treinando-um-Modelo\" data-toc-modified-id=\"Treinando-um-Modelo-4\"><span class=\"toc-item-num\">4&nbsp;&nbsp;</span>Treinando um Modelo</a></span><ul class=\"toc-item\"><li><span><a href=\"#Regressão-Logística\" data-toc-modified-id=\"Regressão-Logística-4.1\"><span class=\"toc-item-num\">4.1&nbsp;&nbsp;</span>Regressão Logística</a></span></li><li><span><a href=\"#SGDClassifier\" data-toc-modified-id=\"SGDClassifier-4.2\"><span class=\"toc-item-num\">4.2&nbsp;&nbsp;</span>SGDClassifier</a></span></li><li><span><a href=\"#Decision-Trees\" data-toc-modified-id=\"Decision-Trees-4.3\"><span class=\"toc-item-num\">4.3&nbsp;&nbsp;</span>Decision Trees</a></span></li><li><span><a href=\"#Random-Forest\" data-toc-modified-id=\"Random-Forest-4.4\"><span class=\"toc-item-num\">4.4&nbsp;&nbsp;</span>Random Forest</a></span></li><li><span><a href=\"#Multi-Layer-Perceptron\" data-toc-modified-id=\"Multi-Layer-Perceptron-4.5\"><span class=\"toc-item-num\">4.5&nbsp;&nbsp;</span>Multi Layer Perceptron</a></span></li></ul></li><li><span><a href=\"#Grid-Search\" data-toc-modified-id=\"Grid-Search-5\"><span class=\"toc-item-num\">5&nbsp;&nbsp;</span>Grid Search</a></span></li><li><span><a href=\"#Deletando-Dados-Nulos\" data-toc-modified-id=\"Deletando-Dados-Nulos-6\"><span class=\"toc-item-num\">6&nbsp;&nbsp;</span>Deletando Dados Nulos</a></span><ul class=\"toc-item\"><li><span><a href=\"#Treinando-Modelo\" data-toc-modified-id=\"Treinando-Modelo-6.1\"><span class=\"toc-item-num\">6.1&nbsp;&nbsp;</span>Treinando Modelo</a></span><ul class=\"toc-item\"><li><span><a href=\"#Regressão-Logística\" data-toc-modified-id=\"Regressão-Logística-6.1.1\"><span class=\"toc-item-num\">6.1.1&nbsp;&nbsp;</span>Regressão Logística</a></span></li></ul></li></ul></li></ul></div>"
   ]
  },
  {
   "cell_type": "markdown",
   "metadata": {},
   "source": [
    "Este notebook especial tem por objetivo apresentar o desenvolvimento do _primeiro_ projeto do Kaggle envolvendo Machine Learning: [German_Credit_Risk](https://www.kaggle.com/uciml/german-credit)"
   ]
  },
  {
   "cell_type": "markdown",
   "metadata": {},
   "source": [
    "<img src=\"german_credit_background.png\" alt=\"German Credit Risk Background\" style=\"width: 750px;\"/>"
   ]
  },
  {
   "cell_type": "markdown",
   "metadata": {},
   "source": [
    "Este dataset contém 1000 registros e 20 atributos representando indivíduos que solicitam e recebem crédito através de um organização financeira. Cada indivíduo é classificado de acordo com o risco de crédito que o mesmo possa oferecer (good ou bad). As features que definem este risco contemplam:\n",
    "* Age (numeric);\n",
    "* Sex (text: male, female);\n",
    "* Job (numeric: 0 - unskilled and non-resident, 1 - unskilled and resident, 2 - skilled, 3 - highly skilled);\n",
    "* Housing (text: own, rent, or free);\n",
    "* Saving accounts (text - little, moderate, quite rich, rich); - _Conta Poupança_\n",
    "* Checking account (numeric, in DM - Deutsch Mark); - _Conta Corrente_\n",
    "* Credit amount (numeric, in DM);\n",
    "* Duration (numeric, in month);\n",
    "* Purpose (text: car, furniture/equipement, radio/TV, domestic appliances, repairs, education, business, vacation/others)\n",
    "* **Risk (text: good, bad)**"
   ]
  },
  {
   "cell_type": "markdown",
   "metadata": {},
   "source": [
    "## Explorando Dados"
   ]
  },
  {
   "cell_type": "code",
   "execution_count": 1,
   "metadata": {
    "ExecuteTime": {
     "end_time": "2019-05-27T20:16:42.506179Z",
     "start_time": "2019-05-27T20:16:41.914995Z"
    }
   },
   "outputs": [
    {
     "data": {
      "text/html": [
       "<div>\n",
       "<style scoped>\n",
       "    .dataframe tbody tr th:only-of-type {\n",
       "        vertical-align: middle;\n",
       "    }\n",
       "\n",
       "    .dataframe tbody tr th {\n",
       "        vertical-align: top;\n",
       "    }\n",
       "\n",
       "    .dataframe thead th {\n",
       "        text-align: right;\n",
       "    }\n",
       "</style>\n",
       "<table border=\"1\" class=\"dataframe\">\n",
       "  <thead>\n",
       "    <tr style=\"text-align: right;\">\n",
       "      <th></th>\n",
       "      <th>Unnamed: 0</th>\n",
       "      <th>Age</th>\n",
       "      <th>Sex</th>\n",
       "      <th>Job</th>\n",
       "      <th>Housing</th>\n",
       "      <th>Saving accounts</th>\n",
       "      <th>Checking account</th>\n",
       "      <th>Credit amount</th>\n",
       "      <th>Duration</th>\n",
       "      <th>Purpose</th>\n",
       "      <th>Risk</th>\n",
       "    </tr>\n",
       "  </thead>\n",
       "  <tbody>\n",
       "    <tr>\n",
       "      <th>0</th>\n",
       "      <td>0</td>\n",
       "      <td>67</td>\n",
       "      <td>male</td>\n",
       "      <td>2</td>\n",
       "      <td>own</td>\n",
       "      <td>NaN</td>\n",
       "      <td>little</td>\n",
       "      <td>1169</td>\n",
       "      <td>6</td>\n",
       "      <td>radio/TV</td>\n",
       "      <td>good</td>\n",
       "    </tr>\n",
       "    <tr>\n",
       "      <th>1</th>\n",
       "      <td>1</td>\n",
       "      <td>22</td>\n",
       "      <td>female</td>\n",
       "      <td>2</td>\n",
       "      <td>own</td>\n",
       "      <td>little</td>\n",
       "      <td>moderate</td>\n",
       "      <td>5951</td>\n",
       "      <td>48</td>\n",
       "      <td>radio/TV</td>\n",
       "      <td>bad</td>\n",
       "    </tr>\n",
       "    <tr>\n",
       "      <th>2</th>\n",
       "      <td>2</td>\n",
       "      <td>49</td>\n",
       "      <td>male</td>\n",
       "      <td>1</td>\n",
       "      <td>own</td>\n",
       "      <td>little</td>\n",
       "      <td>NaN</td>\n",
       "      <td>2096</td>\n",
       "      <td>12</td>\n",
       "      <td>education</td>\n",
       "      <td>good</td>\n",
       "    </tr>\n",
       "    <tr>\n",
       "      <th>3</th>\n",
       "      <td>3</td>\n",
       "      <td>45</td>\n",
       "      <td>male</td>\n",
       "      <td>2</td>\n",
       "      <td>free</td>\n",
       "      <td>little</td>\n",
       "      <td>little</td>\n",
       "      <td>7882</td>\n",
       "      <td>42</td>\n",
       "      <td>furniture/equipment</td>\n",
       "      <td>good</td>\n",
       "    </tr>\n",
       "    <tr>\n",
       "      <th>4</th>\n",
       "      <td>4</td>\n",
       "      <td>53</td>\n",
       "      <td>male</td>\n",
       "      <td>2</td>\n",
       "      <td>free</td>\n",
       "      <td>little</td>\n",
       "      <td>little</td>\n",
       "      <td>4870</td>\n",
       "      <td>24</td>\n",
       "      <td>car</td>\n",
       "      <td>bad</td>\n",
       "    </tr>\n",
       "  </tbody>\n",
       "</table>\n",
       "</div>"
      ],
      "text/plain": [
       "   Unnamed: 0  Age     Sex  Job Housing Saving accounts Checking account  \\\n",
       "0           0   67    male    2     own             NaN           little   \n",
       "1           1   22  female    2     own          little         moderate   \n",
       "2           2   49    male    1     own          little              NaN   \n",
       "3           3   45    male    2    free          little           little   \n",
       "4           4   53    male    2    free          little           little   \n",
       "\n",
       "   Credit amount  Duration              Purpose  Risk  \n",
       "0           1169         6             radio/TV  good  \n",
       "1           5951        48             radio/TV   bad  \n",
       "2           2096        12            education  good  \n",
       "3           7882        42  furniture/equipment  good  \n",
       "4           4870        24                  car   bad  "
      ]
     },
     "execution_count": 1,
     "metadata": {},
     "output_type": "execute_result"
    }
   ],
   "source": [
    "# Importando biblioteca e lendo arquivo\n",
    "import pandas as pd\n",
    "\n",
    "df = pd.read_csv('german_credit_data.csv')\n",
    "df.head()"
   ]
  },
  {
   "cell_type": "code",
   "execution_count": 2,
   "metadata": {
    "ExecuteTime": {
     "end_time": "2019-05-27T20:16:42.533019Z",
     "start_time": "2019-05-27T20:16:42.509114Z"
    }
   },
   "outputs": [
    {
     "data": {
      "text/html": [
       "<div>\n",
       "<style scoped>\n",
       "    .dataframe tbody tr th:only-of-type {\n",
       "        vertical-align: middle;\n",
       "    }\n",
       "\n",
       "    .dataframe tbody tr th {\n",
       "        vertical-align: top;\n",
       "    }\n",
       "\n",
       "    .dataframe thead th {\n",
       "        text-align: right;\n",
       "    }\n",
       "</style>\n",
       "<table border=\"1\" class=\"dataframe\">\n",
       "  <thead>\n",
       "    <tr style=\"text-align: right;\">\n",
       "      <th></th>\n",
       "      <th>Age</th>\n",
       "      <th>Sex</th>\n",
       "      <th>Job</th>\n",
       "      <th>Housing</th>\n",
       "      <th>Saving accounts</th>\n",
       "      <th>Checking account</th>\n",
       "      <th>Credit amount</th>\n",
       "      <th>Duration</th>\n",
       "      <th>Purpose</th>\n",
       "      <th>Risk</th>\n",
       "    </tr>\n",
       "  </thead>\n",
       "  <tbody>\n",
       "    <tr>\n",
       "      <th>0</th>\n",
       "      <td>67</td>\n",
       "      <td>male</td>\n",
       "      <td>2</td>\n",
       "      <td>own</td>\n",
       "      <td>NaN</td>\n",
       "      <td>little</td>\n",
       "      <td>1169</td>\n",
       "      <td>6</td>\n",
       "      <td>radio/TV</td>\n",
       "      <td>good</td>\n",
       "    </tr>\n",
       "    <tr>\n",
       "      <th>1</th>\n",
       "      <td>22</td>\n",
       "      <td>female</td>\n",
       "      <td>2</td>\n",
       "      <td>own</td>\n",
       "      <td>little</td>\n",
       "      <td>moderate</td>\n",
       "      <td>5951</td>\n",
       "      <td>48</td>\n",
       "      <td>radio/TV</td>\n",
       "      <td>bad</td>\n",
       "    </tr>\n",
       "    <tr>\n",
       "      <th>2</th>\n",
       "      <td>49</td>\n",
       "      <td>male</td>\n",
       "      <td>1</td>\n",
       "      <td>own</td>\n",
       "      <td>little</td>\n",
       "      <td>NaN</td>\n",
       "      <td>2096</td>\n",
       "      <td>12</td>\n",
       "      <td>education</td>\n",
       "      <td>good</td>\n",
       "    </tr>\n",
       "    <tr>\n",
       "      <th>3</th>\n",
       "      <td>45</td>\n",
       "      <td>male</td>\n",
       "      <td>2</td>\n",
       "      <td>free</td>\n",
       "      <td>little</td>\n",
       "      <td>little</td>\n",
       "      <td>7882</td>\n",
       "      <td>42</td>\n",
       "      <td>furniture/equipment</td>\n",
       "      <td>good</td>\n",
       "    </tr>\n",
       "    <tr>\n",
       "      <th>4</th>\n",
       "      <td>53</td>\n",
       "      <td>male</td>\n",
       "      <td>2</td>\n",
       "      <td>free</td>\n",
       "      <td>little</td>\n",
       "      <td>little</td>\n",
       "      <td>4870</td>\n",
       "      <td>24</td>\n",
       "      <td>car</td>\n",
       "      <td>bad</td>\n",
       "    </tr>\n",
       "  </tbody>\n",
       "</table>\n",
       "</div>"
      ],
      "text/plain": [
       "   Age     Sex  Job Housing Saving accounts Checking account  Credit amount  \\\n",
       "0   67    male    2     own             NaN           little           1169   \n",
       "1   22  female    2     own          little         moderate           5951   \n",
       "2   49    male    1     own          little              NaN           2096   \n",
       "3   45    male    2    free          little           little           7882   \n",
       "4   53    male    2    free          little           little           4870   \n",
       "\n",
       "   Duration              Purpose  Risk  \n",
       "0         6             radio/TV  good  \n",
       "1        48             radio/TV   bad  \n",
       "2        12            education  good  \n",
       "3        42  furniture/equipment  good  \n",
       "4        24                  car   bad  "
      ]
     },
     "execution_count": 2,
     "metadata": {},
     "output_type": "execute_result"
    }
   ],
   "source": [
    "# Lendo arquivo corretamente\n",
    "df = pd.read_csv('german_credit_data.csv', index_col=0)\n",
    "df.head()"
   ]
  },
  {
   "cell_type": "code",
   "execution_count": 3,
   "metadata": {
    "ExecuteTime": {
     "end_time": "2019-05-27T20:16:42.727187Z",
     "start_time": "2019-05-27T20:16:42.535834Z"
    }
   },
   "outputs": [
    {
     "data": {
      "text/plain": [
       "(1000, 10)"
      ]
     },
     "execution_count": 3,
     "metadata": {},
     "output_type": "execute_result"
    }
   ],
   "source": [
    "# Verificando dimensões\n",
    "df.shape"
   ]
  },
  {
   "cell_type": "code",
   "execution_count": 4,
   "metadata": {
    "ExecuteTime": {
     "end_time": "2019-05-27T20:16:42.818331Z",
     "start_time": "2019-05-27T20:16:42.730229Z"
    }
   },
   "outputs": [
    {
     "name": "stdout",
     "output_type": "stream",
     "text": [
      "O dataset possui 1000 linhas e 10 colunas.\n"
     ]
    }
   ],
   "source": [
    "# Comunicando\n",
    "print(f'O dataset possui {df.shape[0]} linhas e {df.shape[1]} colunas.')"
   ]
  },
  {
   "cell_type": "code",
   "execution_count": 5,
   "metadata": {
    "ExecuteTime": {
     "end_time": "2019-05-27T20:16:42.898239Z",
     "start_time": "2019-05-27T20:16:42.821893Z"
    }
   },
   "outputs": [
    {
     "data": {
      "text/plain": [
       "Age                 False\n",
       "Sex                 False\n",
       "Job                 False\n",
       "Housing             False\n",
       "Saving accounts      True\n",
       "Checking account     True\n",
       "Credit amount       False\n",
       "Duration            False\n",
       "Purpose             False\n",
       "Risk                False\n",
       "dtype: bool"
      ]
     },
     "execution_count": 5,
     "metadata": {},
     "output_type": "execute_result"
    }
   ],
   "source": [
    "# Verificando dados nulos\n",
    "df.isnull().any()"
   ]
  },
  {
   "cell_type": "code",
   "execution_count": 6,
   "metadata": {
    "ExecuteTime": {
     "end_time": "2019-05-27T20:16:42.988372Z",
     "start_time": "2019-05-27T20:16:42.901211Z"
    }
   },
   "outputs": [
    {
     "data": {
      "text/plain": [
       "Age                   0\n",
       "Sex                   0\n",
       "Job                   0\n",
       "Housing               0\n",
       "Saving accounts     183\n",
       "Checking account    394\n",
       "Credit amount         0\n",
       "Duration              0\n",
       "Purpose               0\n",
       "Risk                  0\n",
       "dtype: int64"
      ]
     },
     "execution_count": 6,
     "metadata": {},
     "output_type": "execute_result"
    }
   ],
   "source": [
    "# Quantos?\n",
    "df.isnull().sum()"
   ]
  },
  {
   "cell_type": "code",
   "execution_count": 7,
   "metadata": {
    "ExecuteTime": {
     "end_time": "2019-05-27T20:16:43.097454Z",
     "start_time": "2019-05-27T20:16:42.988372Z"
    }
   },
   "outputs": [
    {
     "name": "stdout",
     "output_type": "stream",
     "text": [
      "Empty DataFrame\n",
      "Columns: [Age, Sex, Job, Housing, Saving accounts, Checking account, Credit amount, Duration, Purpose, Risk]\n",
      "Index: []\n"
     ]
    }
   ],
   "source": [
    "# Verificando colunas\n",
    "print(df.head(0))"
   ]
  },
  {
   "cell_type": "code",
   "execution_count": 8,
   "metadata": {
    "ExecuteTime": {
     "end_time": "2019-05-27T20:16:43.178336Z",
     "start_time": "2019-05-27T20:16:43.101001Z"
    }
   },
   "outputs": [
    {
     "data": {
      "text/plain": [
       "['age',\n",
       " 'sex',\n",
       " 'job',\n",
       " 'housing',\n",
       " 'saving_accounts',\n",
       " 'checking_account',\n",
       " 'credit_amount',\n",
       " 'duration',\n",
       " 'purpose',\n",
       " 'risk']"
      ]
     },
     "execution_count": 8,
     "metadata": {},
     "output_type": "execute_result"
    }
   ],
   "source": [
    "# Criando nova lista de colunas\n",
    "new_cols = [col.replace(' ', '_').lower() for col in df.columns]\n",
    "new_cols"
   ]
  },
  {
   "cell_type": "code",
   "execution_count": 9,
   "metadata": {
    "ExecuteTime": {
     "end_time": "2019-05-27T20:16:43.274592Z",
     "start_time": "2019-05-27T20:16:43.181407Z"
    }
   },
   "outputs": [
    {
     "data": {
      "text/html": [
       "<div>\n",
       "<style scoped>\n",
       "    .dataframe tbody tr th:only-of-type {\n",
       "        vertical-align: middle;\n",
       "    }\n",
       "\n",
       "    .dataframe tbody tr th {\n",
       "        vertical-align: top;\n",
       "    }\n",
       "\n",
       "    .dataframe thead th {\n",
       "        text-align: right;\n",
       "    }\n",
       "</style>\n",
       "<table border=\"1\" class=\"dataframe\">\n",
       "  <thead>\n",
       "    <tr style=\"text-align: right;\">\n",
       "      <th></th>\n",
       "      <th>age</th>\n",
       "      <th>sex</th>\n",
       "      <th>job</th>\n",
       "      <th>housing</th>\n",
       "      <th>saving_accounts</th>\n",
       "      <th>checking_account</th>\n",
       "      <th>credit_amount</th>\n",
       "      <th>duration</th>\n",
       "      <th>purpose</th>\n",
       "      <th>risk</th>\n",
       "    </tr>\n",
       "  </thead>\n",
       "  <tbody>\n",
       "    <tr>\n",
       "      <th>0</th>\n",
       "      <td>67</td>\n",
       "      <td>male</td>\n",
       "      <td>2</td>\n",
       "      <td>own</td>\n",
       "      <td>NaN</td>\n",
       "      <td>little</td>\n",
       "      <td>1169</td>\n",
       "      <td>6</td>\n",
       "      <td>radio/TV</td>\n",
       "      <td>good</td>\n",
       "    </tr>\n",
       "  </tbody>\n",
       "</table>\n",
       "</div>"
      ],
      "text/plain": [
       "   age   sex  job housing saving_accounts checking_account  credit_amount  \\\n",
       "0   67  male    2     own             NaN           little           1169   \n",
       "\n",
       "   duration   purpose  risk  \n",
       "0         6  radio/TV  good  "
      ]
     },
     "execution_count": 9,
     "metadata": {},
     "output_type": "execute_result"
    }
   ],
   "source": [
    "# Alterando colunas\n",
    "df.columns = new_cols\n",
    "df.head(1)"
   ]
  },
  {
   "cell_type": "code",
   "execution_count": 10,
   "metadata": {
    "ExecuteTime": {
     "end_time": "2019-05-27T20:16:43.440830Z",
     "start_time": "2019-05-27T20:16:43.277641Z"
    }
   },
   "outputs": [
    {
     "data": {
      "text/plain": [
       "age                  int64\n",
       "sex                 object\n",
       "job                  int64\n",
       "housing             object\n",
       "saving_accounts     object\n",
       "checking_account    object\n",
       "credit_amount        int64\n",
       "duration             int64\n",
       "purpose             object\n",
       "risk                object\n",
       "dtype: object"
      ]
     },
     "execution_count": 10,
     "metadata": {},
     "output_type": "execute_result"
    }
   ],
   "source": [
    "# Tipos primitivos\n",
    "df.dtypes"
   ]
  },
  {
   "cell_type": "code",
   "execution_count": 11,
   "metadata": {
    "ExecuteTime": {
     "end_time": "2019-05-27T20:16:43.549932Z",
     "start_time": "2019-05-27T20:16:43.443965Z"
    }
   },
   "outputs": [
    {
     "data": {
      "text/html": [
       "<div>\n",
       "<style scoped>\n",
       "    .dataframe tbody tr th:only-of-type {\n",
       "        vertical-align: middle;\n",
       "    }\n",
       "\n",
       "    .dataframe tbody tr th {\n",
       "        vertical-align: top;\n",
       "    }\n",
       "\n",
       "    .dataframe thead th {\n",
       "        text-align: right;\n",
       "    }\n",
       "</style>\n",
       "<table border=\"1\" class=\"dataframe\">\n",
       "  <thead>\n",
       "    <tr style=\"text-align: right;\">\n",
       "      <th></th>\n",
       "      <th>age</th>\n",
       "      <th>job</th>\n",
       "      <th>credit_amount</th>\n",
       "      <th>duration</th>\n",
       "    </tr>\n",
       "  </thead>\n",
       "  <tbody>\n",
       "    <tr>\n",
       "      <th>count</th>\n",
       "      <td>1000.000000</td>\n",
       "      <td>1000.000000</td>\n",
       "      <td>1000.000000</td>\n",
       "      <td>1000.000000</td>\n",
       "    </tr>\n",
       "    <tr>\n",
       "      <th>mean</th>\n",
       "      <td>35.546000</td>\n",
       "      <td>1.904000</td>\n",
       "      <td>3271.258000</td>\n",
       "      <td>20.903000</td>\n",
       "    </tr>\n",
       "    <tr>\n",
       "      <th>std</th>\n",
       "      <td>11.375469</td>\n",
       "      <td>0.653614</td>\n",
       "      <td>2822.736876</td>\n",
       "      <td>12.058814</td>\n",
       "    </tr>\n",
       "    <tr>\n",
       "      <th>min</th>\n",
       "      <td>19.000000</td>\n",
       "      <td>0.000000</td>\n",
       "      <td>250.000000</td>\n",
       "      <td>4.000000</td>\n",
       "    </tr>\n",
       "    <tr>\n",
       "      <th>25%</th>\n",
       "      <td>27.000000</td>\n",
       "      <td>2.000000</td>\n",
       "      <td>1365.500000</td>\n",
       "      <td>12.000000</td>\n",
       "    </tr>\n",
       "    <tr>\n",
       "      <th>50%</th>\n",
       "      <td>33.000000</td>\n",
       "      <td>2.000000</td>\n",
       "      <td>2319.500000</td>\n",
       "      <td>18.000000</td>\n",
       "    </tr>\n",
       "    <tr>\n",
       "      <th>75%</th>\n",
       "      <td>42.000000</td>\n",
       "      <td>2.000000</td>\n",
       "      <td>3972.250000</td>\n",
       "      <td>24.000000</td>\n",
       "    </tr>\n",
       "    <tr>\n",
       "      <th>max</th>\n",
       "      <td>75.000000</td>\n",
       "      <td>3.000000</td>\n",
       "      <td>18424.000000</td>\n",
       "      <td>72.000000</td>\n",
       "    </tr>\n",
       "  </tbody>\n",
       "</table>\n",
       "</div>"
      ],
      "text/plain": [
       "               age          job  credit_amount     duration\n",
       "count  1000.000000  1000.000000    1000.000000  1000.000000\n",
       "mean     35.546000     1.904000    3271.258000    20.903000\n",
       "std      11.375469     0.653614    2822.736876    12.058814\n",
       "min      19.000000     0.000000     250.000000     4.000000\n",
       "25%      27.000000     2.000000    1365.500000    12.000000\n",
       "50%      33.000000     2.000000    2319.500000    18.000000\n",
       "75%      42.000000     2.000000    3972.250000    24.000000\n",
       "max      75.000000     3.000000   18424.000000    72.000000"
      ]
     },
     "execution_count": 11,
     "metadata": {},
     "output_type": "execute_result"
    }
   ],
   "source": [
    "# Estatística\n",
    "df.describe()"
   ]
  },
  {
   "cell_type": "code",
   "execution_count": 12,
   "metadata": {
    "ExecuteTime": {
     "end_time": "2019-05-27T20:16:43.614152Z",
     "start_time": "2019-05-27T20:16:43.552465Z"
    }
   },
   "outputs": [
    {
     "data": {
      "text/plain": [
       "male      690\n",
       "female    310\n",
       "Name: sex, dtype: int64"
      ]
     },
     "execution_count": 12,
     "metadata": {},
     "output_type": "execute_result"
    }
   ],
   "source": [
    "# Contando atributos categóricos (sex)\n",
    "df['sex'].value_counts()"
   ]
  },
  {
   "cell_type": "code",
   "execution_count": 13,
   "metadata": {
    "ExecuteTime": {
     "end_time": "2019-05-27T20:16:43.696274Z",
     "start_time": "2019-05-27T20:16:43.617315Z"
    }
   },
   "outputs": [
    {
     "data": {
      "text/plain": [
       "own     713\n",
       "rent    179\n",
       "free    108\n",
       "Name: housing, dtype: int64"
      ]
     },
     "execution_count": 13,
     "metadata": {},
     "output_type": "execute_result"
    }
   ],
   "source": [
    "# Contando atributos categóricos (housing)\n",
    "df['housing'].value_counts()"
   ]
  },
  {
   "cell_type": "code",
   "execution_count": 14,
   "metadata": {
    "ExecuteTime": {
     "end_time": "2019-05-27T20:16:43.784773Z",
     "start_time": "2019-05-27T20:16:43.696274Z"
    }
   },
   "outputs": [
    {
     "data": {
      "text/plain": [
       "little        603\n",
       "moderate      103\n",
       "quite rich     63\n",
       "rich           48\n",
       "Name: saving_accounts, dtype: int64"
      ]
     },
     "execution_count": 14,
     "metadata": {},
     "output_type": "execute_result"
    }
   ],
   "source": [
    "# Contando atributos categóricos (saving accounts)\n",
    "df['saving_accounts'].value_counts()"
   ]
  },
  {
   "cell_type": "code",
   "execution_count": 15,
   "metadata": {
    "ExecuteTime": {
     "end_time": "2019-05-27T20:16:43.865499Z",
     "start_time": "2019-05-27T20:16:43.788080Z"
    }
   },
   "outputs": [
    {
     "data": {
      "text/plain": [
       "little      274\n",
       "moderate    269\n",
       "rich         63\n",
       "Name: checking_account, dtype: int64"
      ]
     },
     "execution_count": 15,
     "metadata": {},
     "output_type": "execute_result"
    }
   ],
   "source": [
    "# Contando atributos categóricos (checking accounts)\n",
    "df['checking_account'].value_counts()"
   ]
  },
  {
   "cell_type": "code",
   "execution_count": 16,
   "metadata": {
    "ExecuteTime": {
     "end_time": "2019-05-27T20:16:43.957566Z",
     "start_time": "2019-05-27T20:16:43.865499Z"
    }
   },
   "outputs": [
    {
     "data": {
      "text/plain": [
       "car                    337\n",
       "radio/TV               280\n",
       "furniture/equipment    181\n",
       "business                97\n",
       "education               59\n",
       "repairs                 22\n",
       "domestic appliances     12\n",
       "vacation/others         12\n",
       "Name: purpose, dtype: int64"
      ]
     },
     "execution_count": 16,
     "metadata": {},
     "output_type": "execute_result"
    }
   ],
   "source": [
    "# Contando atributos categóricos (purpose)\n",
    "df['purpose'].value_counts()"
   ]
  },
  {
   "cell_type": "code",
   "execution_count": 17,
   "metadata": {
    "ExecuteTime": {
     "end_time": "2019-05-27T20:16:44.034701Z",
     "start_time": "2019-05-27T20:16:43.958559Z"
    }
   },
   "outputs": [
    {
     "data": {
      "text/plain": [
       "good    700\n",
       "bad     300\n",
       "Name: risk, dtype: int64"
      ]
     },
     "execution_count": 17,
     "metadata": {},
     "output_type": "execute_result"
    }
   ],
   "source": [
    "# Contando atributos categóricos (risk)\n",
    "df['risk'].value_counts()"
   ]
  },
  {
   "cell_type": "markdown",
   "metadata": {
    "ExecuteTime": {
     "end_time": "2019-05-11T12:10:28.917344Z",
     "start_time": "2019-05-11T12:10:28.909391Z"
    }
   },
   "source": [
    "**Conclusão Intermediária:** Temos 4 atributos numéricos e 6 atributos categóricos (incluindo o label `risk`). Cada um destes atributos categóricos possuem `n` opções diferentes. Sabemos que, futuramente, precisaremos realizar modificações utilizando a classe `OneHotEncoder` para transformar essas categorias em \"binários\". \n",
    "\n",
    "Antes disso, melhor do que avaliar números individuais através do método `value_counts()`, vamos explorar graficamente estes resultados para entender mais sobre nosso dataset."
   ]
  },
  {
   "cell_type": "markdown",
   "metadata": {},
   "source": [
    "### Exploração Gráfica 1.0"
   ]
  },
  {
   "cell_type": "code",
   "execution_count": 18,
   "metadata": {
    "ExecuteTime": {
     "end_time": "2019-05-27T20:16:44.308181Z",
     "start_time": "2019-05-27T20:16:44.034701Z"
    }
   },
   "outputs": [],
   "source": [
    "# Importando bibliotecas\n",
    "import matplotlib.pyplot as plt\n",
    "import numpy as np\n",
    "%matplotlib inline"
   ]
  },
  {
   "cell_type": "code",
   "execution_count": 19,
   "metadata": {
    "ExecuteTime": {
     "end_time": "2019-05-27T20:16:44.611522Z",
     "start_time": "2019-05-27T20:16:44.310132Z"
    }
   },
   "outputs": [
    {
     "data": {
      "image/png": "[encoded data removed]",
      "text/plain": [
       "<Figure size 504x360 with 1 Axes>"
      ]
     },
     "metadata": {
      "needs_background": "light"
     },
     "output_type": "display_data"
    }
   ],
   "source": [
    "# Plotando \"value_counts()\" para coluna gênero\n",
    "fig, ax = plt.subplots(figsize=(7, 5))\n",
    "names_gender = df['sex'].value_counts().index\n",
    "heights_gender = df['sex'].value_counts().values\n",
    "ax.bar(names_gender, heights_gender)\n",
    "ax.set_title('sex')\n",
    "plt.show()"
   ]
  },
  {
   "cell_type": "code",
   "execution_count": 20,
   "metadata": {
    "ExecuteTime": {
     "end_time": "2019-05-27T20:16:44.795593Z",
     "start_time": "2019-05-27T20:16:44.614514Z"
    }
   },
   "outputs": [
    {
     "data": {
      "image/png": "[encoded data removed]",
      "text/plain": [
       "<Figure size 504x360 with 1 Axes>"
      ]
     },
     "metadata": {
      "needs_background": "light"
     },
     "output_type": "display_data"
    }
   ],
   "source": [
    "# Plotando \"value_counts()\" para coluna gênero\n",
    "fig, ax = plt.subplots(figsize=(7, 5))\n",
    "names_housing = df['housing'].value_counts().index\n",
    "heights_housing = df['housing'].value_counts().values\n",
    "ax.bar(names_housing, heights_housing)\n",
    "ax.set_title('housing')\n",
    "plt.show()"
   ]
  },
  {
   "cell_type": "code",
   "execution_count": 21,
   "metadata": {
    "ExecuteTime": {
     "end_time": "2019-05-27T20:16:45.107954Z",
     "start_time": "2019-05-27T20:16:44.798650Z"
    }
   },
   "outputs": [
    {
     "data": {
      "image/png": "[encoded data removed]",
      "text/plain": [
       "<Figure size 720x288 with 2 Axes>"
      ]
     },
     "metadata": {
      "needs_background": "light"
     },
     "output_type": "display_data"
    }
   ],
   "source": [
    "# Plotando os dois na mesma figure\n",
    "fig, axs = plt.subplots(nrows=1, ncols=2, figsize=(10, 4))\n",
    "axs[0].bar(names_gender, heights_gender)\n",
    "axs[0].set_title('sex')\n",
    "axs[1].bar(names_housing, heights_housing)\n",
    "axs[1].set_title('housing')\n",
    "plt.show()"
   ]
  },
  {
   "cell_type": "code",
   "execution_count": 22,
   "metadata": {
    "ExecuteTime": {
     "end_time": "2019-05-27T20:16:45.718055Z",
     "start_time": "2019-05-27T20:16:45.109958Z"
    }
   },
   "outputs": [
    {
     "data": {
      "image/png": "[encoded data removed]",
      "text/plain": [
       "<Figure size 720x288 with 4 Axes>"
      ]
     },
     "metadata": {
      "needs_background": "light"
     },
     "output_type": "display_data"
    }
   ],
   "source": [
    "# Calculando valores para checking account e risk\n",
    "names_ca = df['checking_account'].value_counts().index\n",
    "heights_ca = df['checking_account'].value_counts().values\n",
    "names_risk = df['risk'].value_counts().index\n",
    "heights_risk = df['risk'].value_counts().values\n",
    "\n",
    "fig, axs = plt.subplots(nrows=2, ncols=2, figsize=(10, 4))\n",
    "axs[0, 0].bar(names_gender, heights_gender)\n",
    "axs[0, 0].set_title('sex')\n",
    "axs[0, 1].bar(names_housing, heights_housing)\n",
    "axs[0, 1].set_title('housing')\n",
    "axs[1, 0].bar(names_ca, heights_ca)\n",
    "axs[1, 0].set_title('checking_account')\n",
    "axs[1, 1].bar(names_risk, heights_risk)\n",
    "axs[1, 1].set_title('risk')\n",
    "plt.tight_layout()\n",
    "plt.show()"
   ]
  },
  {
   "cell_type": "markdown",
   "metadata": {},
   "source": [
    "Conseguimos plotar todos os 6 gráficos para atributos categóricos?"
   ]
  },
  {
   "cell_type": "code",
   "execution_count": 23,
   "metadata": {
    "ExecuteTime": {
     "end_time": "2019-05-27T20:16:46.584427Z",
     "start_time": "2019-05-27T20:16:45.724290Z"
    }
   },
   "outputs": [
    {
     "data": {
      "image/png": "[encoded data removed]",
      "text/plain": [
       "<Figure size 720x432 with 6 Axes>"
      ]
     },
     "metadata": {
      "needs_background": "light"
     },
     "output_type": "display_data"
    }
   ],
   "source": [
    "# Criando figures\n",
    "fig, axs = plt.subplots(2, 3, figsize=(10, 6))\n",
    "plt.show()"
   ]
  },
  {
   "cell_type": "code",
   "execution_count": 24,
   "metadata": {
    "ExecuteTime": {
     "end_time": "2019-05-27T20:16:46.664631Z",
     "start_time": "2019-05-27T20:16:46.590773Z"
    }
   },
   "outputs": [],
   "source": [
    "# Definindo função para plotagem de dados categóricos\n",
    "def categorical_plot(cols_cat):\n",
    "    \"\"\"docstring for categorical_plot:\n",
    "    função responsável por plotar, de uma única vez, a distribuição de dados categóricos\n",
    "    do dataset\"\"\"\n",
    "    \n",
    "    # Criando figure\n",
    "    fig, axs = plt.subplots(2, 3, figsize=(10, 6))\n",
    "    idx_row = 0\n",
    "    for col in cols_cat:\n",
    "        # Coletando índice da coluna\n",
    "        idx_col = cols_cat.index(col)\n",
    "\n",
    "        # Verificando quebra de linha (figure)\n",
    "        if idx_col >= 3:\n",
    "            idx_col -= 3\n",
    "            idx_row = 1\n",
    "\n",
    "        # Parâmetros de plotagem\n",
    "        names = df[col].value_counts().index\n",
    "        heights = df[col].value_counts().values\n",
    "\n",
    "        # Plotando gráfico de barras\n",
    "        axs[idx_row, idx_col].bar(names, heights)\n",
    "        if (idx_row, idx_col) == (0, 2):\n",
    "            axs[idx_row, idx_col].tick_params(axis='x', labelrotation=30)\n",
    "        if (idx_row, idx_col) == (1, 1):\n",
    "            axs[idx_row, idx_col].tick_params(axis='x', labelrotation=90)\n",
    "        \n",
    "        # Cálculo de porcentagem\n",
    "        total = df[col].value_counts().sum()\n",
    "        for p in axs[idx_row, idx_col].patches:\n",
    "            w, h = p.get_width(), p.get_height()\n",
    "            x, y = p.get_xy()\n",
    "            axs[idx_row, idx_col].annotate('{:.1%}'.format(h/1000), (p.get_x()+.29*w,\n",
    "                                            p.get_y()+h+20), color='k')\n",
    "\n",
    "        # Configurando plotagem\n",
    "        axs[idx_row, idx_col].set_title(col, size=12)\n",
    "        axs[idx_row, idx_col].set_ylim(0, heights.max()+120)\n",
    "        plt.tight_layout()"
   ]
  },
  {
   "cell_type": "code",
   "execution_count": 25,
   "metadata": {
    "ExecuteTime": {
     "end_time": "2019-05-27T20:16:49.299904Z",
     "start_time": "2019-05-27T20:16:46.664631Z"
    }
   },
   "outputs": [
    {
     "data": {
      "image/png": "[encoded data removed]",
      "text/plain": [
       "<Figure size 720x432 with 6 Axes>"
      ]
     },
     "metadata": {
      "needs_background": "light"
     },
     "output_type": "display_data"
    }
   ],
   "source": [
    "# Testando função\n",
    "cols_cat = ['sex', 'housing', 'saving_accounts', 'checking_account',\n",
    "            'purpose', 'risk']\n",
    "categorical_plot(cols_cat)"
   ]
  },
  {
   "cell_type": "markdown",
   "metadata": {},
   "source": [
    "Explicando base da função"
   ]
  },
  {
   "cell_type": "code",
   "execution_count": 26,
   "metadata": {
    "ExecuteTime": {
     "end_time": "2019-05-27T20:16:49.311513Z",
     "start_time": "2019-05-27T20:16:49.303307Z"
    }
   },
   "outputs": [
    {
     "data": {
      "text/plain": [
       "['sex', 'housing', 'saving_accounts', 'checking_account', 'purpose', 'risk']"
      ]
     },
     "execution_count": 26,
     "metadata": {},
     "output_type": "execute_result"
    }
   ],
   "source": [
    "# O que é cols_cat?\n",
    "cols_cat"
   ]
  },
  {
   "cell_type": "code",
   "execution_count": 27,
   "metadata": {
    "ExecuteTime": {
     "end_time": "2019-05-27T20:16:49.391012Z",
     "start_time": "2019-05-27T20:16:49.316355Z"
    }
   },
   "outputs": [
    {
     "name": "stdout",
     "output_type": "stream",
     "text": [
      "0 sex\n",
      "1 housing\n",
      "2 saving_accounts\n",
      "3 checking_account\n",
      "4 purpose\n",
      "5 risk\n"
     ]
    }
   ],
   "source": [
    "# Laço de plotagem\n",
    "for col in cols_cat:\n",
    "    idx_col = cols_cat.index(col)\n",
    "    print(idx_col, col)"
   ]
  },
  {
   "cell_type": "markdown",
   "metadata": {
    "ExecuteTime": {
     "end_time": "2019-05-11T13:13:36.714601Z",
     "start_time": "2019-05-11T13:13:36.708619Z"
    }
   },
   "source": [
    "**Algumas Conclusões:**\n",
    "* **sex:** a maioria dos registros deste dataset são de pessoas do sexo masculino;\n",
    "* **housing:** a maioria possui casa própria e, em segundo lugar, estão aqueles com casa alugada;\n",
    "* **saving_accounts:** a maioria possui poucas economias na poupança e apenas 6.3% possuem muita grana guardada;\n",
    "* **checking_account:** há um equilíbrio maior entre quem possui níveis baixos e médios na conta corrente;\n",
    "* **purpose:** os principais motivos para solicitação de crédito são para compra de carro, radio/TV, mobília/equipamentos;\n",
    "* **risk:** 70% do dataset está flagado como risco baixo (good) e 30% com alto risco de crédito (bad)."
   ]
  },
  {
   "cell_type": "markdown",
   "metadata": {},
   "source": [
    "Para aprimorar nosso report, vamos analisar alguns dados em plotagens individuais"
   ]
  },
  {
   "cell_type": "code",
   "execution_count": 28,
   "metadata": {
    "ExecuteTime": {
     "end_time": "2019-05-27T20:16:49.578314Z",
     "start_time": "2019-05-27T20:16:49.395013Z"
    }
   },
   "outputs": [],
   "source": [
    "def individual_cat_plot(col):\n",
    "    \"\"\"docstring for individual_cat_plot\n",
    "    função responsável por mostrar plotagens individuais dos atributos categóricos\n",
    "    \n",
    "    input:\n",
    "        col: atributo a ser analisado\"\"\"\n",
    "    \n",
    "    # Verificando se o argumento faz parte de um atributo categórico\n",
    "    if col not in ['sex', 'housing', 'saving_accounts', 'checking_account',\n",
    "            'purpose', 'risk']:\n",
    "        return \"Atributo não categórico\"\n",
    "    \n",
    "    # Criando figure e levantando dados\n",
    "    fig, ax = plt.subplots(figsize=(8, 5))\n",
    "    names = df[col].value_counts().index\n",
    "    heights = df[col].value_counts().values\n",
    "    total = df[col].value_counts().sum()\n",
    "    # Plotando e configurando (purpose será plotado em barras horizontais)\n",
    "    if col == 'purpose':\n",
    "        ax.barh(names, heights)\n",
    "        ax.set_title(col.capitalize().replace('_', ' '), size=15)\n",
    "        ax.patch.set_facecolor('#FFFFFF')\n",
    "        ax.spines['bottom'].set_color('#CCCCCC')\n",
    "        ax.spines['left'].set_color('#CCCCCC')\n",
    "        ax.spines['top'].set_color('#FFFFFF')\n",
    "        ax.spines['right'].set_color('#FFFFFF')\n",
    "        for i in ax.patches:\n",
    "            # get_width pulls left or right; get_y pushes up or down\n",
    "            ax.text(i.get_width()+2, i.get_y()+.50, \\\n",
    "                    str(round((i.get_width()/total)*100, 1))+'%', fontsize=12,\n",
    "        color='dimgrey')\n",
    "        plt.gca().invert_yaxis()\n",
    "    else:\n",
    "        ax.bar(names, heights)\n",
    "        ax.set_title(col.capitalize().replace('_', ' '), size=15)\n",
    "        ax.patch.set_facecolor('#FFFFFF')\n",
    "        ax.spines['bottom'].set_color('#CCCCCC')\n",
    "        ax.spines['left'].set_color('#CCCCCC')\n",
    "        ax.spines['top'].set_color('#FFFFFF')\n",
    "        ax.spines['right'].set_color('#FFFFFF')\n",
    "        for i in ax.patches:\n",
    "            # get_x pulls left or right; get_height pushes up or down\n",
    "            ax.text(i.get_x()+.3, i.get_height()+8, \\\n",
    "                    str(round((i.get_height()/total)*100, 1))+'%', fontsize=12,\n",
    "                        color='dimgrey')"
   ]
  },
  {
   "cell_type": "code",
   "execution_count": 29,
   "metadata": {
    "ExecuteTime": {
     "end_time": "2019-05-27T20:16:49.963195Z",
     "start_time": "2019-05-27T20:16:49.583591Z"
    }
   },
   "outputs": [
    {
     "data": {
      "image/png": "[encoded data removed]",
      "text/plain": [
       "<Figure size 576x360 with 1 Axes>"
      ]
     },
     "metadata": {
      "needs_background": "light"
     },
     "output_type": "display_data"
    }
   ],
   "source": [
    "# Testando para propósito do crédito\n",
    "individual_cat_plot('purpose')"
   ]
  },
  {
   "cell_type": "code",
   "execution_count": 30,
   "metadata": {
    "ExecuteTime": {
     "end_time": "2019-05-27T20:16:50.258845Z",
     "start_time": "2019-05-27T20:16:49.967857Z"
    }
   },
   "outputs": [
    {
     "data": {
      "image/png": "[encoded data removed]",
      "text/plain": [
       "<Figure size 576x360 with 1 Axes>"
      ]
     },
     "metadata": {
      "needs_background": "light"
     },
     "output_type": "display_data"
    }
   ],
   "source": [
    "# Modelo de aquisição de casa\n",
    "individual_cat_plot('housing')"
   ]
  },
  {
   "cell_type": "code",
   "execution_count": 31,
   "metadata": {
    "ExecuteTime": {
     "end_time": "2019-05-27T20:16:50.381799Z",
     "start_time": "2019-05-27T20:16:50.261841Z"
    }
   },
   "outputs": [],
   "source": [
    "from matplotlib import cm\n",
    "\n",
    "def individual_cat_pie_plot(col):\n",
    "    \"\"\"docstring for individual_cat_pie_plot\n",
    "    função responsável por mostrar plotagens individuais (pie plot) dos atributos categóricos\n",
    "    \n",
    "    input:\n",
    "        col: atributo a ser analisado\"\"\"\n",
    "    \n",
    "    # Verificando se o argumento faz parte de um atributo categórico\n",
    "    if col not in ['sex', 'housing', 'saving_accounts', 'checking_account',\n",
    "            'purpose', 'risk']:\n",
    "        return \"Atributo não categórico\"\n",
    "    \n",
    "    # Criando figure e levantando dados\n",
    "    names = df[col].value_counts().index\n",
    "    heights = df[col].value_counts().values\n",
    "    total = df[col].value_counts().sum()\n",
    "    fig, ax = plt.subplots(figsize=(5, 5))\n",
    "    cs = cm.viridis(np.arange(len(names))/len(names))\n",
    "    explode = np.zeros(len(names))\n",
    "    explode[0] = 0.05\n",
    "    wedges, texts, autotexts = ax.pie(heights, labels=names, explode=explode,\n",
    "                                       startangle=90, shadow=False, \n",
    "                                      autopct='%1.1f%%', colors=cs)\n",
    "    ax.axis('equal')\n",
    "    plt.title(col.capitalize().replace('_', ' '), size=15)\n",
    "    plt.legend(fontsize=10, loc='best')\n",
    "    plt.tight_layout()\n",
    "    plt.setp(autotexts, size=12, color='w')\n",
    "    plt.show()"
   ]
  },
  {
   "cell_type": "code",
   "execution_count": 32,
   "metadata": {
    "ExecuteTime": {
     "end_time": "2019-05-27T20:16:50.850368Z",
     "start_time": "2019-05-27T20:16:50.386910Z"
    }
   },
   "outputs": [
    {
     "data": {
      "image/png": "[encoded data removed]",
      "text/plain": [
       "<Figure size 360x360 with 1 Axes>"
      ]
     },
     "metadata": {},
     "output_type": "display_data"
    }
   ],
   "source": [
    "# Testando (gênero)\n",
    "individual_cat_pie_plot('sex')"
   ]
  },
  {
   "cell_type": "code",
   "execution_count": 33,
   "metadata": {
    "ExecuteTime": {
     "end_time": "2019-05-27T20:16:51.057958Z",
     "start_time": "2019-05-27T20:16:50.857763Z"
    }
   },
   "outputs": [
    {
     "data": {
      "image/png": "[encoded data removed]",
      "text/plain": [
       "<Figure size 360x360 with 1 Axes>"
      ]
     },
     "metadata": {},
     "output_type": "display_data"
    }
   ],
   "source": [
    "# Testando saving accounts\n",
    "individual_cat_pie_plot('saving_accounts')"
   ]
  },
  {
   "cell_type": "markdown",
   "metadata": {
    "ExecuteTime": {
     "end_time": "2019-05-11T13:14:37.142412Z",
     "start_time": "2019-05-11T13:14:37.133425Z"
    }
   },
   "source": [
    "Visualizar os dados e porcentagens em um único gráfico foi interessante mas, pensando melhor, todas as nossas conclusões foram baseadas apenas na _maioria_ das instâncias presentes em cada atributo. Seria legal correlacionar estas conclusões com algo como: \"Quantas pessoas do gênero feminino solicitam crédito para comprar carro?\" ou \"Quantas pessoas com baixo valor na poupança são consideradas com alto risco?\". Vamos utilizar uma outra biblioteca para este tipo de análise."
   ]
  },
  {
   "cell_type": "markdown",
   "metadata": {},
   "source": [
    "### Exploração Gráfica 2.0"
   ]
  },
  {
   "cell_type": "code",
   "execution_count": 34,
   "metadata": {
    "ExecuteTime": {
     "end_time": "2019-05-27T20:16:51.817711Z",
     "start_time": "2019-05-27T20:16:51.060391Z"
    }
   },
   "outputs": [],
   "source": [
    "# Importando biblioteca\n",
    "import seaborn as sns"
   ]
  },
  {
   "cell_type": "code",
   "execution_count": 35,
   "metadata": {
    "ExecuteTime": {
     "end_time": "2019-05-27T20:16:52.328659Z",
     "start_time": "2019-05-27T20:16:51.819958Z"
    }
   },
   "outputs": [
    {
     "data": {
      "image/png": "[encoded data removed]",
      "text/plain": [
       "<Figure size 420.75x360 with 1 Axes>"
      ]
     },
     "metadata": {
      "needs_background": "light"
     },
     "output_type": "display_data"
    }
   ],
   "source": [
    "# Verificando crédito por gênero\n",
    "ax = sns.catplot(x='sex', y='credit_amount', hue='risk', kind='bar', \n",
    "            data=df, palette=\"YlGnBu\")\n",
    "plt.title('Risco de Crédito por Gênero e Valor')\n",
    "plt.show()"
   ]
  },
  {
   "cell_type": "markdown",
   "metadata": {},
   "source": [
    "O gráfico acima mostra dois pontos interessantes:\n",
    "* 1. Geralmente, pessoas do gênero masculino solicitam  um maior vlaor de crédito\n",
    "* 2. Para o gênero masculino, um crédito médio acima de 4,000.00 representa um risco;\n",
    "* 3. Para o gênero feminino, um crédito médio acima de 3,400.00 representa um risco "
   ]
  },
  {
   "cell_type": "code",
   "execution_count": 36,
   "metadata": {
    "ExecuteTime": {
     "end_time": "2019-05-27T20:16:52.717968Z",
     "start_time": "2019-05-27T20:16:52.331069Z"
    }
   },
   "outputs": [
    {
     "data": {
      "image/png": "[encoded data removed]",
      "text/plain": [
       "<Figure size 432x288 with 1 Axes>"
      ]
     },
     "metadata": {
      "needs_background": "light"
     },
     "output_type": "display_data"
    }
   ],
   "source": [
    "# Visualizando quantidade de crédito solicitado por propósito\n",
    "idx_sorted = df.groupby('purpose').mean()['credit_amount'].sort_values(ascending=False).index\n",
    "fig, ax = plt.subplots()\n",
    "ax = sns.barplot(x='credit_amount', y='purpose', data=df, ci=None, \n",
    "            palette=\"YlGnBu\", order=idx_sorted)\n",
    "ax.set_title('Valor Médio Solicitado por Propósito')\n",
    "ax.patch.set_facecolor('#FFFFFF')\n",
    "ax.spines['bottom'].set_color('#CCCCCC')\n",
    "ax.spines['left'].set_color('#CCCCCC')\n",
    "ax.spines['top'].set_color('#FFFFFF')\n",
    "ax.spines['right'].set_color('#FFFFFF')\n",
    "plt.show()"
   ]
  },
  {
   "cell_type": "markdown",
   "metadata": {},
   "source": [
    "Analisando o gráfico acima, podemos concluir que:\n",
    "* 1. Férias, Negócios e Financiamento de Carro são os motivos que geram a maior quantidade de valor solcitada de crédito.\n",
    "* 2. Aplicações domésticas normalmente exigem um valor baixo de crédito."
   ]
  },
  {
   "cell_type": "code",
   "execution_count": 37,
   "metadata": {
    "ExecuteTime": {
     "end_time": "2019-05-27T20:16:53.217661Z",
     "start_time": "2019-05-27T20:16:52.723006Z"
    }
   },
   "outputs": [
    {
     "data": {
      "image/png": "[encoded data removed]",
      "text/plain": [
       "<Figure size 432x288 with 1 Axes>"
      ]
     },
     "metadata": {
      "needs_background": "light"
     },
     "output_type": "display_data"
    }
   ],
   "source": [
    "# Envolvendo o risco na análise\n",
    "idx_sorted = df.groupby('purpose').mean()['credit_amount'].sort_values(ascending=False).index\n",
    "fig, ax = plt.subplots()\n",
    "ax = sns.barplot(x='credit_amount', y='purpose', data=df, ci=None, hue='risk',\n",
    "            palette=\"YlGnBu\", order=idx_sorted)\n",
    "ax.set_title('Valor Médio Solicitado por Propósito')\n",
    "ax.patch.set_facecolor('#FFFFFF')\n",
    "ax.spines['bottom'].set_color('#CCCCCC')\n",
    "ax.spines['left'].set_color('#CCCCCC')\n",
    "ax.spines['top'].set_color('#FFFFFF')\n",
    "ax.spines['right'].set_color('#FFFFFF')\n",
    "plt.show()"
   ]
  },
  {
   "cell_type": "markdown",
   "metadata": {
    "ExecuteTime": {
     "end_time": "2019-05-11T15:49:46.391712Z",
     "start_time": "2019-05-11T15:49:46.334998Z"
    }
   },
   "source": [
    "Pontos interessantes:\n",
    "* 1. Férias e Outros Motivos representam a maior porcentagem de risco de crédito, muito provavalmente devido aos altos valores de crédito envolvidos.\n",
    "* 2. Aplicações Domésticas apresenta o maior equilíbrio entre risco de crédito. Analogamente ao primeiro tópico, isto pode ser explicado pelos baixos valores envolvidos."
   ]
  },
  {
   "cell_type": "code",
   "execution_count": 38,
   "metadata": {
    "ExecuteTime": {
     "end_time": "2019-05-27T20:16:54.540268Z",
     "start_time": "2019-05-27T20:16:53.221697Z"
    }
   },
   "outputs": [
    {
     "data": {
      "image/png": "[encoded data removed]",
      "text/plain": [
       "<Figure size 1140.75x360 with 3 Axes>"
      ]
     },
     "metadata": {
      "needs_background": "light"
     },
     "output_type": "display_data"
    }
   ],
   "source": [
    "# Analisando condições em Conta Corrente e Conta Poupança\n",
    "idx_sorted = ['little', 'moderate', 'rich', 'quite rich']\n",
    "ax = sns.catplot(x='saving_accounts', y='credit_amount', data=df, ci=None, hue='risk',\n",
    "             col='checking_account', palette=\"Blues_d\", order=idx_sorted, kind='bar')\n",
    "fig = ax.fig\n",
    "fig.suptitle('Análise de Risco de Crédito por Valor Solicitado e Condição em CC e CP',\n",
    "             size=15)\n",
    "plt.subplots_adjust(top=0.85)\n",
    "plt.show()"
   ]
  },
  {
   "cell_type": "markdown",
   "metadata": {},
   "source": [
    "O gráfico acima é extremamente interessante pois, através dele, é possível levantar os seguintes pontos:\n",
    "* **1.** Os maiores valores de créditos solicitados são proveninentes de clientes com baixas reservas na poupança e condições moderadas na conta corrente.\n",
    "    - Isto pode ser explicado por uma possível \"animação\" em clientes com uma educação financeira relativamente falha: ao se ver com uma condição moderada na conta corrente, clientes solicitam altas quantias, mesmo que seus valores poupados não sejam suficientes para arcar com tal crédito."
   ]
  },
  {
   "cell_type": "markdown",
   "metadata": {},
   "source": [
    "* **2.** Clientes com melhores condições na conta corrente são os que solicitam menores valores de crédito.\n",
    "    - Provavelmente, isto se deve ao fato de cada empréstimo ser realizado a partir de um \"target\", ou seja, um valor objetivo dentro das necessidades de cada cliente. Quando um cliente já possui valores razoavelmente interessantes, não é necessário solicitar grandes quantidades de crédito."
   ]
  },
  {
   "cell_type": "markdown",
   "metadata": {},
   "source": [
    "* **3.** O maior risco de crédito envolve empréstimos realizados para clientes com pequenas quantias na poupança, moderada situação na conta corrente e que solicitam um valor médio de aproximadamente 5,000.00.\n",
    "    - Clientes com grandes quantidades na poupança, mas condições precárias na conta corrente  e que solicitam valores próximos a 4,000.00 também apresentam um risco elevado."
   ]
  },
  {
   "cell_type": "markdown",
   "metadata": {},
   "source": [
    "* **4.** Não há risco de crédito para clientes com boas condições na poupança e condições muito baixas ou muito altas na conta corrente.\n",
    "    - Os dados nulos provavelmente estão interferindo nesta análise."
   ]
  },
  {
   "cell_type": "code",
   "execution_count": 39,
   "metadata": {
    "ExecuteTime": {
     "end_time": "2019-05-27T20:16:55.168440Z",
     "start_time": "2019-05-27T20:16:54.543334Z"
    }
   },
   "outputs": [
    {
     "data": {
      "image/png": "[encoded data removed]",
      "text/plain": [
       "<Figure size 720x360 with 2 Axes>"
      ]
     },
     "metadata": {
      "needs_background": "light"
     },
     "output_type": "display_data"
    }
   ],
   "source": [
    "df_bad = df[df['risk'] == 'bad']\n",
    "# Analisando condições em Conta Corrente e Conta Poupança\n",
    "idx_sorted = df_bad.groupby('purpose').mean().\\\n",
    "           sort_values('duration', ascending=False).index\n",
    "ax = sns.catplot(x='duration', y='purpose', data=df, ci=None,\n",
    "             col='risk', palette=\"Blues_d\", order=idx_sorted, kind='bar')\n",
    "fig.suptitle('Duração Média de Empréstimos por Propósito e Risco',\n",
    "             size=12)\n",
    "plt.subplots_adjust(top=0.85)\n",
    "plt.show()"
   ]
  },
  {
   "cell_type": "markdown",
   "metadata": {
    "ExecuteTime": {
     "end_time": "2019-05-11T17:07:51.748296Z",
     "start_time": "2019-05-11T17:07:51.738447Z"
    }
   },
   "source": [
    "No geral, empréstimos de risco possuem maiores durações."
   ]
  },
  {
   "cell_type": "code",
   "execution_count": 40,
   "metadata": {
    "ExecuteTime": {
     "end_time": "2019-05-27T20:16:55.651942Z",
     "start_time": "2019-05-27T20:16:55.168440Z"
    }
   },
   "outputs": [
    {
     "data": {
      "image/png": "[encoded data removed]",
      "text/plain": [
       "<Figure size 432x288 with 1 Axes>"
      ]
     },
     "metadata": {
      "needs_background": "light"
     },
     "output_type": "display_data"
    }
   ],
   "source": [
    "# Distribuição de idades\n",
    "fig, ax = plt.subplots()\n",
    "ax = sns.distplot(df['age'], bins=20)\n",
    "ax.set_title('Distribuição de Idades dos Clientes')\n",
    "ax.patch.set_facecolor('#FFFFFF')\n",
    "ax.spines['bottom'].set_color('#CCCCCC')\n",
    "ax.spines['left'].set_color('#CCCCCC')\n",
    "ax.spines['top'].set_color('#FFFFFF')\n",
    "ax.spines['right'].set_color('#FFFFFF')"
   ]
  },
  {
   "cell_type": "markdown",
   "metadata": {},
   "source": [
    "A maior parte das solicitações de crédito são realizadas por clientes entre 25 e 35 anos."
   ]
  },
  {
   "cell_type": "code",
   "execution_count": 41,
   "metadata": {
    "ExecuteTime": {
     "end_time": "2019-05-27T20:16:58.826039Z",
     "start_time": "2019-05-27T20:16:55.653751Z"
    }
   },
   "outputs": [
    {
     "data": {
      "image/png": "[encoded data removed]",
      "text/plain": [
       "<Figure size 600.75x540 with 12 Axes>"
      ]
     },
     "metadata": {
      "needs_background": "light"
     },
     "output_type": "display_data"
    }
   ],
   "source": [
    "# Analisando distribuição de variáveis numéricas\n",
    "cols_pairplot_analyis = ['age', 'credit_amount', 'duration', 'risk']\n",
    "df_pairplot = df.loc[:, cols_pairplot_analyis]\n",
    "custom_colors = [\"#3498db\", \"#C8391A\"]\n",
    "ax = sns.pairplot(data=df_pairplot, hue='risk', palette=custom_colors);\n",
    "fig = ax.fig\n",
    "fig.suptitle('Distribuição de Variáveis Numéricas', size=12)\n",
    "plt.subplots_adjust(top=.90)\n",
    "plt.show()"
   ]
  },
  {
   "cell_type": "markdown",
   "metadata": {},
   "source": [
    "Pontos:\n",
    "* **1.** Existe uma correlação direta entre a duração e o valor do empréstimo (atributos \"duration\" e \"credit_amount\". Em outras palavras, é possível dizer que quanto maior a duração do empréstimos, maior o valor solicitado.\n",
    "    - Dentro dessa correlação, é possível identificar alguns pontos (talvez outliers) envolvendo o risco, como por exemplo, empréstimos de curta duração e com altos valores são mais arriscados."
   ]
  },
  {
   "cell_type": "code",
   "execution_count": 42,
   "metadata": {
    "ExecuteTime": {
     "end_time": "2019-05-27T20:16:59.323609Z",
     "start_time": "2019-05-27T20:16:58.830986Z"
    }
   },
   "outputs": [
    {
     "data": {
      "image/png": "[encoded data removed]",
      "text/plain": [
       "<Figure size 432x288 with 2 Axes>"
      ]
     },
     "metadata": {
      "needs_background": "light"
     },
     "output_type": "display_data"
    }
   ],
   "source": [
    "# Analisando porcentagem das instâncias por risco e tipo de moradia\n",
    "ncount = len(df)\n",
    "fig, ax = plt.subplots()\n",
    "custom_colors = [\"#3498db\", \"#C8391A\"]\n",
    "ax = sns.countplot(x='housing', data=df, hue='risk', palette=custom_colors)\n",
    "\n",
    "# Make twin axis\n",
    "ax2=ax.twinx()\n",
    "\n",
    "# Switch so count axis is on right, frequency on left\n",
    "ax2.yaxis.tick_left()\n",
    "ax.yaxis.tick_right()\n",
    "\n",
    "# Also switch the labels over\n",
    "ax.yaxis.set_label_position('right')\n",
    "ax2.yaxis.set_label_position('left')\n",
    "\n",
    "ax2.set_ylabel('Frequency [%]')\n",
    "\n",
    "# Configurando bordas\n",
    "ax.spines['bottom'].set_color('#CCCCCC')\n",
    "ax.spines['left'].set_color('#CCCCCC')\n",
    "ax.spines['top'].set_color('#FFFFFF')\n",
    "ax.spines['right'].set_color('#CCCCCC')\n",
    "ax2.patch.set_facecolor('#FFFFFF')\n",
    "ax2.spines['bottom'].set_color('#CCCCCC')\n",
    "ax2.spines['left'].set_color('#CCCCCC')\n",
    "ax2.spines['top'].set_color('#FFFFFF')\n",
    "ax2.spines['right'].set_color('#CCCCCC')\n",
    "\n",
    "# Configurando porcentagens no gráfico\n",
    "for p in ax.patches:\n",
    "    x=p.get_bbox().get_points()[:,0]\n",
    "    y=p.get_bbox().get_points()[1,1]\n",
    "    ax.annotate('{:.1f}%'.format(100.*y/ncount), (x.mean(), y), \n",
    "            ha='center', va='bottom') # set the alignment of the text\n",
    "plt.title('Análise de Risco por Moradia')\n",
    "plt.show()"
   ]
  },
  {
   "cell_type": "markdown",
   "metadata": {},
   "source": [
    "Pontos:\n",
    "* **1.** Clientes com casa própria apresentam riscos menores ao Banco;\n",
    "* **2.** Clientes que vivem em regime de \"free\" apresentam maior risco de crédito, dada que a diferença da porcentagem entre esta classe é menor que as demais (2%), ou seja, dentro desta classe, existem muito mais clientes com alto risco do que nas demais classes."
   ]
  },
  {
   "cell_type": "code",
   "execution_count": 43,
   "metadata": {
    "ExecuteTime": {
     "end_time": "2019-05-27T20:17:00.016463Z",
     "start_time": "2019-05-27T20:16:59.328624Z"
    }
   },
   "outputs": [
    {
     "data": {
      "image/png": "[encoded data removed]",
      "text/plain": [
       "<Figure size 432x288 with 2 Axes>"
      ]
     },
     "metadata": {
      "needs_background": "light"
     },
     "output_type": "display_data"
    }
   ],
   "source": [
    "# Analisando porcentagem das instâncias por risco e skills de trabalho\n",
    "ncount = len(df)\n",
    "fig, ax = plt.subplots()\n",
    "custom_colors = [\"#3498db\", \"#C8391A\"]\n",
    "ax = sns.countplot(x='job', data=df, hue='risk', palette=custom_colors)\n",
    "\n",
    "# Make twin axis\n",
    "ax2=ax.twinx()\n",
    "\n",
    "# Switch so count axis is on right, frequency on left\n",
    "ax2.yaxis.tick_left()\n",
    "ax.yaxis.tick_right()\n",
    "\n",
    "# Also switch the labels over\n",
    "ax.yaxis.set_label_position('right')\n",
    "ax2.yaxis.set_label_position('left')\n",
    "\n",
    "ax2.set_ylabel('Frequency [%]')\n",
    "\n",
    "# Configurando bordas\n",
    "ax.spines['bottom'].set_color('#CCCCCC')\n",
    "ax.spines['left'].set_color('#CCCCCC')\n",
    "ax.spines['top'].set_color('#FFFFFF')\n",
    "ax.spines['right'].set_color('#CCCCCC')\n",
    "ax2.patch.set_facecolor('#FFFFFF')\n",
    "ax2.spines['bottom'].set_color('#CCCCCC')\n",
    "ax2.spines['left'].set_color('#CCCCCC')\n",
    "ax2.spines['top'].set_color('#FFFFFF')\n",
    "ax2.spines['right'].set_color('#CCCCCC')\n",
    "\n",
    "# Configurando porcentagens no gráfico\n",
    "for p in ax.patches:\n",
    "    x=p.get_bbox().get_points()[:,0]\n",
    "    y=p.get_bbox().get_points()[1,1]\n",
    "    ax.annotate('{:.1f}%'.format(100.*y/ncount), (x.mean(), y), \n",
    "            ha='center', va='bottom') # set the alignment of the text\n",
    "plt.title('Análise de Risco por Tipo de Trabalho')\n",
    "plt.show()"
   ]
  },
  {
   "cell_type": "markdown",
   "metadata": {},
   "source": [
    "Lembrando que:\n",
    "* Job (numeric: 0 - unskilled and non-resident, 1 - unskilled and resident, 2 - skilled, 3 - highly skilled);"
   ]
  },
  {
   "cell_type": "markdown",
   "metadata": {},
   "source": [
    "* **1.** Temos que a maior parte deste dataset é composta por trabalhadores com boas habilidades (2 - skilled).\n",
    "* **2.** Entre condições mais arriscadas de empréstimos encontram-se entre trabalhadores sem habilidades e não residentes (0 - unskilled and non-resident)"
   ]
  },
  {
   "cell_type": "code",
   "execution_count": 44,
   "metadata": {
    "ExecuteTime": {
     "end_time": "2019-05-27T20:17:00.301346Z",
     "start_time": "2019-05-27T20:17:00.022333Z"
    }
   },
   "outputs": [
    {
     "data": {
      "image/png": "[encoded data removed]",
      "text/plain": [
       "<Figure size 432x288 with 1 Axes>"
      ]
     },
     "metadata": {
      "needs_background": "light"
     },
     "output_type": "display_data"
    }
   ],
   "source": [
    "# Preparando plot para verificação de outliers\n",
    "fig, ax = plt.subplots()\n",
    "ax = sns.boxplot(x='checking_account', y='credit_amount', data=df)"
   ]
  },
  {
   "cell_type": "code",
   "execution_count": 45,
   "metadata": {
    "ExecuteTime": {
     "end_time": "2019-05-27T20:17:01.070176Z",
     "start_time": "2019-05-27T20:17:00.304044Z"
    }
   },
   "outputs": [
    {
     "data": {
      "image/png": "[encoded data removed]",
      "text/plain": [
       "<Figure size 432x288 with 1 Axes>"
      ]
     },
     "metadata": {
      "needs_background": "light"
     },
     "output_type": "display_data"
    }
   ],
   "source": [
    "# Preparando plot para verificação de outliers\n",
    "fig, ax = plt.subplots()\n",
    "ax = sns.boxplot(x='saving_accounts', y='credit_amount', hue='checking_account', data=df)"
   ]
  },
  {
   "cell_type": "markdown",
   "metadata": {},
   "source": [
    "Com relação aos boxplot:\n",
    "* **1.** No geral, clientes com saving_accounts do tipo `moderate` possuem uma maior variabilidade na solicitação de valores de crédito.\n",
    "* **2.** Existem muitos outliers dentro desta análise, para a maioria das classes de saving e checking account."
   ]
  },
  {
   "cell_type": "code",
   "execution_count": 46,
   "metadata": {
    "ExecuteTime": {
     "end_time": "2019-05-27T20:17:01.440929Z",
     "start_time": "2019-05-27T20:17:01.071174Z"
    },
    "scrolled": true
   },
   "outputs": [
    {
     "data": {
      "image/png": "[encoded data removed]",
      "text/plain": [
       "<Figure size 432x288 with 1 Axes>"
      ]
     },
     "metadata": {
      "needs_background": "light"
     },
     "output_type": "display_data"
    }
   ],
   "source": [
    "# Distribuição de valores solicitados\n",
    "fig, ax = plt.subplots()\n",
    "ax = sns.distplot(df['credit_amount'], bins=20)\n",
    "ax.set_title('Distribuição de Idades dos Clientes')\n",
    "ax.patch.set_facecolor('#FFFFFF')\n",
    "ax.spines['bottom'].set_color('#CCCCCC')\n",
    "ax.spines['left'].set_color('#CCCCCC')\n",
    "ax.spines['top'].set_color('#FFFFFF')\n",
    "ax.spines['right'].set_color('#FFFFFF')"
   ]
  },
  {
   "cell_type": "markdown",
   "metadata": {},
   "source": [
    "## Preparando os Dados"
   ]
  },
  {
   "cell_type": "markdown",
   "metadata": {},
   "source": [
    "Após uma exploração visual dos dados que temos em mãos, é necessário analisar a presença de inconsistências em nossa base, como dados nulos, por exemplo. Mas antes, vamos realizar a separação da base em dados de `treino` e `teste` para que, dessa forma, possamos construir um pipeline adequado de preparação e treinamento."
   ]
  },
  {
   "cell_type": "markdown",
   "metadata": {},
   "source": [
    "### Separando os Dados"
   ]
  },
  {
   "cell_type": "code",
   "execution_count": 47,
   "metadata": {
    "ExecuteTime": {
     "end_time": "2019-05-27T20:17:01.827726Z",
     "start_time": "2019-05-27T20:17:01.446698Z"
    }
   },
   "outputs": [],
   "source": [
    "# Importando módulo\n",
    "from sklearn.model_selection import train_test_split\n",
    "\n",
    "# Selecionando dados\n",
    "X = df.iloc[:, :9]\n",
    "y = df.iloc[:, -1]\n",
    "\n",
    "# Transformando label em 0s e 1s\n",
    "y = (y == 'bad')*1"
   ]
  },
  {
   "cell_type": "markdown",
   "metadata": {},
   "source": [
    "* Alto risco de crédito (bad) = 1\n",
    "* Baixo risco de crédito (good) = 0"
   ]
  },
  {
   "cell_type": "code",
   "execution_count": 48,
   "metadata": {
    "ExecuteTime": {
     "end_time": "2019-05-27T20:17:01.854761Z",
     "start_time": "2019-05-27T20:17:01.830991Z"
    }
   },
   "outputs": [
    {
     "data": {
      "text/html": [
       "<div>\n",
       "<style scoped>\n",
       "    .dataframe tbody tr th:only-of-type {\n",
       "        vertical-align: middle;\n",
       "    }\n",
       "\n",
       "    .dataframe tbody tr th {\n",
       "        vertical-align: top;\n",
       "    }\n",
       "\n",
       "    .dataframe thead th {\n",
       "        text-align: right;\n",
       "    }\n",
       "</style>\n",
       "<table border=\"1\" class=\"dataframe\">\n",
       "  <thead>\n",
       "    <tr style=\"text-align: right;\">\n",
       "      <th></th>\n",
       "      <th>age</th>\n",
       "      <th>sex</th>\n",
       "      <th>job</th>\n",
       "      <th>housing</th>\n",
       "      <th>saving_accounts</th>\n",
       "      <th>checking_account</th>\n",
       "      <th>credit_amount</th>\n",
       "      <th>duration</th>\n",
       "      <th>purpose</th>\n",
       "    </tr>\n",
       "  </thead>\n",
       "  <tbody>\n",
       "    <tr>\n",
       "      <th>0</th>\n",
       "      <td>67</td>\n",
       "      <td>male</td>\n",
       "      <td>2</td>\n",
       "      <td>own</td>\n",
       "      <td>NaN</td>\n",
       "      <td>little</td>\n",
       "      <td>1169</td>\n",
       "      <td>6</td>\n",
       "      <td>radio/TV</td>\n",
       "    </tr>\n",
       "    <tr>\n",
       "      <th>1</th>\n",
       "      <td>22</td>\n",
       "      <td>female</td>\n",
       "      <td>2</td>\n",
       "      <td>own</td>\n",
       "      <td>little</td>\n",
       "      <td>moderate</td>\n",
       "      <td>5951</td>\n",
       "      <td>48</td>\n",
       "      <td>radio/TV</td>\n",
       "    </tr>\n",
       "    <tr>\n",
       "      <th>2</th>\n",
       "      <td>49</td>\n",
       "      <td>male</td>\n",
       "      <td>1</td>\n",
       "      <td>own</td>\n",
       "      <td>little</td>\n",
       "      <td>NaN</td>\n",
       "      <td>2096</td>\n",
       "      <td>12</td>\n",
       "      <td>education</td>\n",
       "    </tr>\n",
       "    <tr>\n",
       "      <th>3</th>\n",
       "      <td>45</td>\n",
       "      <td>male</td>\n",
       "      <td>2</td>\n",
       "      <td>free</td>\n",
       "      <td>little</td>\n",
       "      <td>little</td>\n",
       "      <td>7882</td>\n",
       "      <td>42</td>\n",
       "      <td>furniture/equipment</td>\n",
       "    </tr>\n",
       "    <tr>\n",
       "      <th>4</th>\n",
       "      <td>53</td>\n",
       "      <td>male</td>\n",
       "      <td>2</td>\n",
       "      <td>free</td>\n",
       "      <td>little</td>\n",
       "      <td>little</td>\n",
       "      <td>4870</td>\n",
       "      <td>24</td>\n",
       "      <td>car</td>\n",
       "    </tr>\n",
       "  </tbody>\n",
       "</table>\n",
       "</div>"
      ],
      "text/plain": [
       "   age     sex  job housing saving_accounts checking_account  credit_amount  \\\n",
       "0   67    male    2     own             NaN           little           1169   \n",
       "1   22  female    2     own          little         moderate           5951   \n",
       "2   49    male    1     own          little              NaN           2096   \n",
       "3   45    male    2    free          little           little           7882   \n",
       "4   53    male    2    free          little           little           4870   \n",
       "\n",
       "   duration              purpose  \n",
       "0         6             radio/TV  \n",
       "1        48             radio/TV  \n",
       "2        12            education  \n",
       "3        42  furniture/equipment  \n",
       "4        24                  car  "
      ]
     },
     "execution_count": 48,
     "metadata": {},
     "output_type": "execute_result"
    }
   ],
   "source": [
    "# Verificando\n",
    "X.head()"
   ]
  },
  {
   "cell_type": "code",
   "execution_count": 49,
   "metadata": {
    "ExecuteTime": {
     "end_time": "2019-05-27T20:17:02.018157Z",
     "start_time": "2019-05-27T20:17:01.858546Z"
    }
   },
   "outputs": [
    {
     "data": {
      "text/plain": [
       "0    0\n",
       "1    1\n",
       "2    0\n",
       "3    0\n",
       "4    1\n",
       "Name: risk, dtype: int32"
      ]
     },
     "execution_count": 49,
     "metadata": {},
     "output_type": "execute_result"
    }
   ],
   "source": [
    "# Label\n",
    "y[:5]"
   ]
  },
  {
   "cell_type": "code",
   "execution_count": 50,
   "metadata": {
    "ExecuteTime": {
     "end_time": "2019-05-27T20:17:02.212923Z",
     "start_time": "2019-05-27T20:17:02.027371Z"
    }
   },
   "outputs": [
    {
     "data": {
      "text/html": [
       "<div>\n",
       "<style scoped>\n",
       "    .dataframe tbody tr th:only-of-type {\n",
       "        vertical-align: middle;\n",
       "    }\n",
       "\n",
       "    .dataframe tbody tr th {\n",
       "        vertical-align: top;\n",
       "    }\n",
       "\n",
       "    .dataframe thead th {\n",
       "        text-align: right;\n",
       "    }\n",
       "</style>\n",
       "<table border=\"1\" class=\"dataframe\">\n",
       "  <thead>\n",
       "    <tr style=\"text-align: right;\">\n",
       "      <th></th>\n",
       "      <th>age</th>\n",
       "      <th>sex</th>\n",
       "      <th>job</th>\n",
       "      <th>housing</th>\n",
       "      <th>saving_accounts</th>\n",
       "      <th>checking_account</th>\n",
       "      <th>credit_amount</th>\n",
       "      <th>duration</th>\n",
       "      <th>purpose</th>\n",
       "      <th>risk</th>\n",
       "    </tr>\n",
       "  </thead>\n",
       "  <tbody>\n",
       "    <tr>\n",
       "      <th>0</th>\n",
       "      <td>67</td>\n",
       "      <td>male</td>\n",
       "      <td>2</td>\n",
       "      <td>own</td>\n",
       "      <td>NaN</td>\n",
       "      <td>little</td>\n",
       "      <td>1169</td>\n",
       "      <td>6</td>\n",
       "      <td>radio/TV</td>\n",
       "      <td>good</td>\n",
       "    </tr>\n",
       "    <tr>\n",
       "      <th>1</th>\n",
       "      <td>22</td>\n",
       "      <td>female</td>\n",
       "      <td>2</td>\n",
       "      <td>own</td>\n",
       "      <td>little</td>\n",
       "      <td>moderate</td>\n",
       "      <td>5951</td>\n",
       "      <td>48</td>\n",
       "      <td>radio/TV</td>\n",
       "      <td>bad</td>\n",
       "    </tr>\n",
       "    <tr>\n",
       "      <th>2</th>\n",
       "      <td>49</td>\n",
       "      <td>male</td>\n",
       "      <td>1</td>\n",
       "      <td>own</td>\n",
       "      <td>little</td>\n",
       "      <td>NaN</td>\n",
       "      <td>2096</td>\n",
       "      <td>12</td>\n",
       "      <td>education</td>\n",
       "      <td>good</td>\n",
       "    </tr>\n",
       "    <tr>\n",
       "      <th>3</th>\n",
       "      <td>45</td>\n",
       "      <td>male</td>\n",
       "      <td>2</td>\n",
       "      <td>free</td>\n",
       "      <td>little</td>\n",
       "      <td>little</td>\n",
       "      <td>7882</td>\n",
       "      <td>42</td>\n",
       "      <td>furniture/equipment</td>\n",
       "      <td>good</td>\n",
       "    </tr>\n",
       "    <tr>\n",
       "      <th>4</th>\n",
       "      <td>53</td>\n",
       "      <td>male</td>\n",
       "      <td>2</td>\n",
       "      <td>free</td>\n",
       "      <td>little</td>\n",
       "      <td>little</td>\n",
       "      <td>4870</td>\n",
       "      <td>24</td>\n",
       "      <td>car</td>\n",
       "      <td>bad</td>\n",
       "    </tr>\n",
       "  </tbody>\n",
       "</table>\n",
       "</div>"
      ],
      "text/plain": [
       "   age     sex  job housing saving_accounts checking_account  credit_amount  \\\n",
       "0   67    male    2     own             NaN           little           1169   \n",
       "1   22  female    2     own          little         moderate           5951   \n",
       "2   49    male    1     own          little              NaN           2096   \n",
       "3   45    male    2    free          little           little           7882   \n",
       "4   53    male    2    free          little           little           4870   \n",
       "\n",
       "   duration              purpose  risk  \n",
       "0         6             radio/TV  good  \n",
       "1        48             radio/TV   bad  \n",
       "2        12            education  good  \n",
       "3        42  furniture/equipment  good  \n",
       "4        24                  car   bad  "
      ]
     },
     "execution_count": 50,
     "metadata": {},
     "output_type": "execute_result"
    }
   ],
   "source": [
    "# Original\n",
    "df.head()"
   ]
  },
  {
   "cell_type": "code",
   "execution_count": 51,
   "metadata": {
    "ExecuteTime": {
     "end_time": "2019-05-27T20:17:02.281982Z",
     "start_time": "2019-05-27T20:17:02.231449Z"
    }
   },
   "outputs": [
    {
     "name": "stdout",
     "output_type": "stream",
     "text": [
      "Dimensões de X_train: (800, 9)\n",
      "Dimensões de X_test: (200, 9)\n",
      "\n",
      "Dimensões de y_train: (800,)\n",
      "Dimensões de y_test: (200,)\n"
     ]
    }
   ],
   "source": [
    "# Separando dados\n",
    "X_train, X_test, y_train, y_test = train_test_split(X, y, test_size=.20, random_state=42)\n",
    "\n",
    "# Verificando\n",
    "print(f'Dimensões de X_train: {X_train.shape}')\n",
    "print(f'Dimensões de X_test: {X_test.shape}')\n",
    "print(f'\\nDimensões de y_train: {y_train.shape}')\n",
    "print(f'Dimensões de y_test: {y_test.shape}')"
   ]
  },
  {
   "cell_type": "markdown",
   "metadata": {},
   "source": [
    "A partir de agora, vamos trabalhar apenas com `X_train` e `y_train`."
   ]
  },
  {
   "cell_type": "markdown",
   "metadata": {
    "ExecuteTime": {
     "end_time": "2019-05-11T18:46:30.351004Z",
     "start_time": "2019-05-11T18:46:30.291193Z"
    }
   },
   "source": [
    "### Dados Nulos"
   ]
  },
  {
   "cell_type": "code",
   "execution_count": 52,
   "metadata": {
    "ExecuteTime": {
     "end_time": "2019-05-27T20:17:02.381099Z",
     "start_time": "2019-05-27T20:17:02.286937Z"
    }
   },
   "outputs": [
    {
     "data": {
      "text/plain": [
       "age                 False\n",
       "sex                 False\n",
       "job                 False\n",
       "housing             False\n",
       "saving_accounts      True\n",
       "checking_account     True\n",
       "credit_amount       False\n",
       "duration            False\n",
       "purpose             False\n",
       "dtype: bool"
      ]
     },
     "execution_count": 52,
     "metadata": {},
     "output_type": "execute_result"
    }
   ],
   "source": [
    "# Verificando dados nulos\n",
    "X_train.isnull().any()"
   ]
  },
  {
   "cell_type": "code",
   "execution_count": 53,
   "metadata": {
    "ExecuteTime": {
     "end_time": "2019-05-27T20:17:02.477550Z",
     "start_time": "2019-05-27T20:17:02.382097Z"
    }
   },
   "outputs": [
    {
     "data": {
      "text/plain": [
       "age                   0\n",
       "sex                   0\n",
       "job                   0\n",
       "housing               0\n",
       "saving_accounts     149\n",
       "checking_account    323\n",
       "credit_amount         0\n",
       "duration              0\n",
       "purpose               0\n",
       "dtype: int64"
      ]
     },
     "execution_count": 53,
     "metadata": {},
     "output_type": "execute_result"
    }
   ],
   "source": [
    "# Quantos?\n",
    "X_train.isnull().sum()"
   ]
  },
  {
   "cell_type": "markdown",
   "metadata": {},
   "source": [
    "Temos muitos dados nulos em dois atributos: `saving_accounts` e `checking_accounts` que indicam, respectivamente, valores salvos em Contas Poupança e Corrente de cada cliente. Análise sobre estes dados nulos:\n",
    "* Não podemos simplesmente elimina-los pois, dessa forma, perderíamos muita informação sobre o dataset.\n",
    "* O preenchimento com a média provavelmente não seja aplicável, dada a grande quantidade de dados nulos. Isto poderia enviesar o modelo. Podemos estudar melhor isso futuramente. Até por que, estes atributos são categóricos e haveria grande dificuldade em saber qual a categoria de cada registro nulo."
   ]
  },
  {
   "cell_type": "code",
   "execution_count": 54,
   "metadata": {
    "ExecuteTime": {
     "end_time": "2019-05-27T20:17:02.605215Z",
     "start_time": "2019-05-27T20:17:02.490029Z"
    }
   },
   "outputs": [
    {
     "data": {
      "text/html": [
       "<div>\n",
       "<style scoped>\n",
       "    .dataframe tbody tr th:only-of-type {\n",
       "        vertical-align: middle;\n",
       "    }\n",
       "\n",
       "    .dataframe tbody tr th {\n",
       "        vertical-align: top;\n",
       "    }\n",
       "\n",
       "    .dataframe thead th {\n",
       "        text-align: right;\n",
       "    }\n",
       "</style>\n",
       "<table border=\"1\" class=\"dataframe\">\n",
       "  <thead>\n",
       "    <tr style=\"text-align: right;\">\n",
       "      <th></th>\n",
       "      <th>age</th>\n",
       "      <th>sex</th>\n",
       "      <th>job</th>\n",
       "      <th>housing</th>\n",
       "      <th>saving_accounts</th>\n",
       "      <th>checking_account</th>\n",
       "      <th>credit_amount</th>\n",
       "      <th>duration</th>\n",
       "      <th>purpose</th>\n",
       "      <th>risk</th>\n",
       "    </tr>\n",
       "  </thead>\n",
       "  <tbody>\n",
       "    <tr>\n",
       "      <th>2</th>\n",
       "      <td>49</td>\n",
       "      <td>male</td>\n",
       "      <td>1</td>\n",
       "      <td>own</td>\n",
       "      <td>little</td>\n",
       "      <td>NaN</td>\n",
       "      <td>2096</td>\n",
       "      <td>12</td>\n",
       "      <td>education</td>\n",
       "      <td>good</td>\n",
       "    </tr>\n",
       "    <tr>\n",
       "      <th>5</th>\n",
       "      <td>35</td>\n",
       "      <td>male</td>\n",
       "      <td>1</td>\n",
       "      <td>free</td>\n",
       "      <td>NaN</td>\n",
       "      <td>NaN</td>\n",
       "      <td>9055</td>\n",
       "      <td>36</td>\n",
       "      <td>education</td>\n",
       "      <td>good</td>\n",
       "    </tr>\n",
       "    <tr>\n",
       "      <th>6</th>\n",
       "      <td>53</td>\n",
       "      <td>male</td>\n",
       "      <td>2</td>\n",
       "      <td>own</td>\n",
       "      <td>quite rich</td>\n",
       "      <td>NaN</td>\n",
       "      <td>2835</td>\n",
       "      <td>24</td>\n",
       "      <td>furniture/equipment</td>\n",
       "      <td>good</td>\n",
       "    </tr>\n",
       "    <tr>\n",
       "      <th>8</th>\n",
       "      <td>61</td>\n",
       "      <td>male</td>\n",
       "      <td>1</td>\n",
       "      <td>own</td>\n",
       "      <td>rich</td>\n",
       "      <td>NaN</td>\n",
       "      <td>3059</td>\n",
       "      <td>12</td>\n",
       "      <td>radio/TV</td>\n",
       "      <td>good</td>\n",
       "    </tr>\n",
       "    <tr>\n",
       "      <th>16</th>\n",
       "      <td>53</td>\n",
       "      <td>male</td>\n",
       "      <td>2</td>\n",
       "      <td>own</td>\n",
       "      <td>NaN</td>\n",
       "      <td>NaN</td>\n",
       "      <td>2424</td>\n",
       "      <td>24</td>\n",
       "      <td>radio/TV</td>\n",
       "      <td>good</td>\n",
       "    </tr>\n",
       "  </tbody>\n",
       "</table>\n",
       "</div>"
      ],
      "text/plain": [
       "    age   sex  job housing saving_accounts checking_account  credit_amount  \\\n",
       "2    49  male    1     own          little              NaN           2096   \n",
       "5    35  male    1    free             NaN              NaN           9055   \n",
       "6    53  male    2     own      quite rich              NaN           2835   \n",
       "8    61  male    1     own            rich              NaN           3059   \n",
       "16   53  male    2     own             NaN              NaN           2424   \n",
       "\n",
       "    duration              purpose  risk  \n",
       "2         12            education  good  \n",
       "5         36            education  good  \n",
       "6         24  furniture/equipment  good  \n",
       "8         12             radio/TV  good  \n",
       "16        24             radio/TV  good  "
      ]
     },
     "execution_count": 54,
     "metadata": {},
     "output_type": "execute_result"
    }
   ],
   "source": [
    "# Indexando dataset apenas com checking_account nulo\n",
    "df_cc_null = df[df['checking_account'].isnull()]\n",
    "df_cc_null.head()"
   ]
  },
  {
   "cell_type": "code",
   "execution_count": 55,
   "metadata": {
    "ExecuteTime": {
     "end_time": "2019-05-27T20:17:02.682012Z",
     "start_time": "2019-05-27T20:17:02.607234Z"
    }
   },
   "outputs": [
    {
     "data": {
      "text/plain": [
       "little      274\n",
       "moderate    269\n",
       "rich         63\n",
       "Name: checking_account, dtype: int64"
      ]
     },
     "execution_count": 55,
     "metadata": {},
     "output_type": "execute_result"
    }
   ],
   "source": [
    "# Verificando entradas e quantidades\n",
    "df['checking_account'].value_counts()"
   ]
  },
  {
   "cell_type": "code",
   "execution_count": 56,
   "metadata": {
    "ExecuteTime": {
     "end_time": "2019-05-27T20:17:02.780361Z",
     "start_time": "2019-05-27T20:17:02.686071Z"
    }
   },
   "outputs": [
    {
     "data": {
      "text/html": [
       "<div>\n",
       "<style scoped>\n",
       "    .dataframe tbody tr th:only-of-type {\n",
       "        vertical-align: middle;\n",
       "    }\n",
       "\n",
       "    .dataframe tbody tr th {\n",
       "        vertical-align: top;\n",
       "    }\n",
       "\n",
       "    .dataframe thead th {\n",
       "        text-align: right;\n",
       "    }\n",
       "</style>\n",
       "<table border=\"1\" class=\"dataframe\">\n",
       "  <thead>\n",
       "    <tr style=\"text-align: right;\">\n",
       "      <th></th>\n",
       "      <th>age</th>\n",
       "      <th>job</th>\n",
       "      <th>credit_amount</th>\n",
       "      <th>duration</th>\n",
       "    </tr>\n",
       "    <tr>\n",
       "      <th>checking_account</th>\n",
       "      <th></th>\n",
       "      <th></th>\n",
       "      <th></th>\n",
       "      <th></th>\n",
       "    </tr>\n",
       "  </thead>\n",
       "  <tbody>\n",
       "    <tr>\n",
       "      <th>little</th>\n",
       "      <td>35.339416</td>\n",
       "      <td>1.875912</td>\n",
       "      <td>3175.218978</td>\n",
       "      <td>21.339416</td>\n",
       "    </tr>\n",
       "    <tr>\n",
       "      <th>moderate</th>\n",
       "      <td>34.081784</td>\n",
       "      <td>1.899628</td>\n",
       "      <td>3827.561338</td>\n",
       "      <td>22.680297</td>\n",
       "    </tr>\n",
       "    <tr>\n",
       "      <th>rich</th>\n",
       "      <td>37.190476</td>\n",
       "      <td>1.777778</td>\n",
       "      <td>2177.650794</td>\n",
       "      <td>17.349206</td>\n",
       "    </tr>\n",
       "  </tbody>\n",
       "</table>\n",
       "</div>"
      ],
      "text/plain": [
       "                        age       job  credit_amount   duration\n",
       "checking_account                                               \n",
       "little            35.339416  1.875912    3175.218978  21.339416\n",
       "moderate          34.081784  1.899628    3827.561338  22.680297\n",
       "rich              37.190476  1.777778    2177.650794  17.349206"
      ]
     },
     "execution_count": 56,
     "metadata": {},
     "output_type": "execute_result"
    }
   ],
   "source": [
    "# Agrupando dados para verificar média de cada categoria\n",
    "df.groupby('checking_account').mean()"
   ]
  },
  {
   "cell_type": "code",
   "execution_count": 57,
   "metadata": {
    "ExecuteTime": {
     "end_time": "2019-05-27T20:17:02.901299Z",
     "start_time": "2019-05-27T20:17:02.783175Z"
    }
   },
   "outputs": [
    {
     "data": {
      "text/html": [
       "<div>\n",
       "<style scoped>\n",
       "    .dataframe tbody tr th:only-of-type {\n",
       "        vertical-align: middle;\n",
       "    }\n",
       "\n",
       "    .dataframe tbody tr th {\n",
       "        vertical-align: top;\n",
       "    }\n",
       "\n",
       "    .dataframe thead th {\n",
       "        text-align: right;\n",
       "    }\n",
       "</style>\n",
       "<table border=\"1\" class=\"dataframe\">\n",
       "  <thead>\n",
       "    <tr style=\"text-align: right;\">\n",
       "      <th></th>\n",
       "      <th></th>\n",
       "      <th>age</th>\n",
       "      <th>job</th>\n",
       "      <th>credit_amount</th>\n",
       "      <th>duration</th>\n",
       "    </tr>\n",
       "    <tr>\n",
       "      <th>checking_account</th>\n",
       "      <th>saving_accounts</th>\n",
       "      <th></th>\n",
       "      <th></th>\n",
       "      <th></th>\n",
       "      <th></th>\n",
       "    </tr>\n",
       "  </thead>\n",
       "  <tbody>\n",
       "    <tr>\n",
       "      <th rowspan=\"4\" valign=\"top\">little</th>\n",
       "      <th>little</th>\n",
       "      <td>35.579909</td>\n",
       "      <td>1.863014</td>\n",
       "      <td>3208.269406</td>\n",
       "      <td>21.753425</td>\n",
       "    </tr>\n",
       "    <tr>\n",
       "      <th>moderate</th>\n",
       "      <td>31.500000</td>\n",
       "      <td>1.833333</td>\n",
       "      <td>2066.416667</td>\n",
       "      <td>17.750000</td>\n",
       "    </tr>\n",
       "    <tr>\n",
       "      <th>quite rich</th>\n",
       "      <td>31.375000</td>\n",
       "      <td>1.750000</td>\n",
       "      <td>2369.750000</td>\n",
       "      <td>16.875000</td>\n",
       "    </tr>\n",
       "    <tr>\n",
       "      <th>rich</th>\n",
       "      <td>40.166667</td>\n",
       "      <td>2.000000</td>\n",
       "      <td>2531.000000</td>\n",
       "      <td>18.500000</td>\n",
       "    </tr>\n",
       "    <tr>\n",
       "      <th rowspan=\"4\" valign=\"top\">moderate</th>\n",
       "      <th>little</th>\n",
       "      <td>34.407895</td>\n",
       "      <td>1.921053</td>\n",
       "      <td>3736.986842</td>\n",
       "      <td>21.250000</td>\n",
       "    </tr>\n",
       "    <tr>\n",
       "      <th>moderate</th>\n",
       "      <td>31.914894</td>\n",
       "      <td>1.978723</td>\n",
       "      <td>4212.851064</td>\n",
       "      <td>27.744681</td>\n",
       "    </tr>\n",
       "    <tr>\n",
       "      <th>quite rich</th>\n",
       "      <td>35.000000</td>\n",
       "      <td>1.636364</td>\n",
       "      <td>2798.000000</td>\n",
       "      <td>19.545455</td>\n",
       "    </tr>\n",
       "    <tr>\n",
       "      <th>rich</th>\n",
       "      <td>33.214286</td>\n",
       "      <td>1.857143</td>\n",
       "      <td>2721.571429</td>\n",
       "      <td>17.642857</td>\n",
       "    </tr>\n",
       "    <tr>\n",
       "      <th rowspan=\"4\" valign=\"top\">rich</th>\n",
       "      <th>little</th>\n",
       "      <td>36.048780</td>\n",
       "      <td>1.829268</td>\n",
       "      <td>2405.560976</td>\n",
       "      <td>18.170732</td>\n",
       "    </tr>\n",
       "    <tr>\n",
       "      <th>moderate</th>\n",
       "      <td>40.000000</td>\n",
       "      <td>2.000000</td>\n",
       "      <td>1597.800000</td>\n",
       "      <td>14.000000</td>\n",
       "    </tr>\n",
       "    <tr>\n",
       "      <th>quite rich</th>\n",
       "      <td>46.750000</td>\n",
       "      <td>1.250000</td>\n",
       "      <td>1509.250000</td>\n",
       "      <td>15.750000</td>\n",
       "    </tr>\n",
       "    <tr>\n",
       "      <th>rich</th>\n",
       "      <td>35.000000</td>\n",
       "      <td>1.333333</td>\n",
       "      <td>797.666667</td>\n",
       "      <td>14.000000</td>\n",
       "    </tr>\n",
       "  </tbody>\n",
       "</table>\n",
       "</div>"
      ],
      "text/plain": [
       "                                        age       job  credit_amount  \\\n",
       "checking_account saving_accounts                                       \n",
       "little           little           35.579909  1.863014    3208.269406   \n",
       "                 moderate         31.500000  1.833333    2066.416667   \n",
       "                 quite rich       31.375000  1.750000    2369.750000   \n",
       "                 rich             40.166667  2.000000    2531.000000   \n",
       "moderate         little           34.407895  1.921053    3736.986842   \n",
       "                 moderate         31.914894  1.978723    4212.851064   \n",
       "                 quite rich       35.000000  1.636364    2798.000000   \n",
       "                 rich             33.214286  1.857143    2721.571429   \n",
       "rich             little           36.048780  1.829268    2405.560976   \n",
       "                 moderate         40.000000  2.000000    1597.800000   \n",
       "                 quite rich       46.750000  1.250000    1509.250000   \n",
       "                 rich             35.000000  1.333333     797.666667   \n",
       "\n",
       "                                   duration  \n",
       "checking_account saving_accounts             \n",
       "little           little           21.753425  \n",
       "                 moderate         17.750000  \n",
       "                 quite rich       16.875000  \n",
       "                 rich             18.500000  \n",
       "moderate         little           21.250000  \n",
       "                 moderate         27.744681  \n",
       "                 quite rich       19.545455  \n",
       "                 rich             17.642857  \n",
       "rich             little           18.170732  \n",
       "                 moderate         14.000000  \n",
       "                 quite rich       15.750000  \n",
       "                 rich             14.000000  "
      ]
     },
     "execution_count": 57,
     "metadata": {},
     "output_type": "execute_result"
    }
   ],
   "source": [
    "# Adicionando saving_accounts ao agrupamento\n",
    "df.groupby(['checking_account', 'saving_accounts']).mean()"
   ]
  },
  {
   "cell_type": "code",
   "execution_count": 58,
   "metadata": {
    "ExecuteTime": {
     "end_time": "2019-05-27T20:17:02.977958Z",
     "start_time": "2019-05-27T20:17:02.915724Z"
    }
   },
   "outputs": [
    {
     "data": {
      "text/html": [
       "<div>\n",
       "<style scoped>\n",
       "    .dataframe tbody tr th:only-of-type {\n",
       "        vertical-align: middle;\n",
       "    }\n",
       "\n",
       "    .dataframe tbody tr th {\n",
       "        vertical-align: top;\n",
       "    }\n",
       "\n",
       "    .dataframe thead th {\n",
       "        text-align: right;\n",
       "    }\n",
       "</style>\n",
       "<table border=\"1\" class=\"dataframe\">\n",
       "  <thead>\n",
       "    <tr style=\"text-align: right;\">\n",
       "      <th></th>\n",
       "      <th>age</th>\n",
       "      <th>job</th>\n",
       "      <th>credit_amount</th>\n",
       "      <th>duration</th>\n",
       "    </tr>\n",
       "    <tr>\n",
       "      <th>saving_accounts</th>\n",
       "      <th></th>\n",
       "      <th></th>\n",
       "      <th></th>\n",
       "      <th></th>\n",
       "    </tr>\n",
       "  </thead>\n",
       "  <tbody>\n",
       "    <tr>\n",
       "      <th>little</th>\n",
       "      <td>35.020942</td>\n",
       "      <td>1.952880</td>\n",
       "      <td>2895.298429</td>\n",
       "      <td>18.780105</td>\n",
       "    </tr>\n",
       "    <tr>\n",
       "      <th>moderate</th>\n",
       "      <td>33.923077</td>\n",
       "      <td>1.846154</td>\n",
       "      <td>3019.641026</td>\n",
       "      <td>19.358974</td>\n",
       "    </tr>\n",
       "    <tr>\n",
       "      <th>quite rich</th>\n",
       "      <td>37.550000</td>\n",
       "      <td>1.925000</td>\n",
       "      <td>2656.750000</td>\n",
       "      <td>19.650000</td>\n",
       "    </tr>\n",
       "    <tr>\n",
       "      <th>rich</th>\n",
       "      <td>38.920000</td>\n",
       "      <td>1.880000</td>\n",
       "      <td>2713.680000</td>\n",
       "      <td>19.160000</td>\n",
       "    </tr>\n",
       "  </tbody>\n",
       "</table>\n",
       "</div>"
      ],
      "text/plain": [
       "                       age       job  credit_amount   duration\n",
       "saving_accounts                                               \n",
       "little           35.020942  1.952880    2895.298429  18.780105\n",
       "moderate         33.923077  1.846154    3019.641026  19.358974\n",
       "quite rich       37.550000  1.925000    2656.750000  19.650000\n",
       "rich             38.920000  1.880000    2713.680000  19.160000"
      ]
     },
     "execution_count": 58,
     "metadata": {},
     "output_type": "execute_result"
    }
   ],
   "source": [
    "# Verificando condições do dataset de CC null\n",
    "df_cc_null.groupby('saving_accounts').mean()"
   ]
  },
  {
   "cell_type": "markdown",
   "metadata": {},
   "source": [
    "Um primeiro passo para investigar a melhor forma de preencher os dados nulos de `checking_account` é analisar o atributo `credit_amount`, dado que os menores valores estão presentes para clientes com status de saving e checking accounts `quite_rich` ou `rich`."
   ]
  },
  {
   "cell_type": "code",
   "execution_count": 59,
   "metadata": {
    "ExecuteTime": {
     "end_time": "2019-05-27T20:17:03.069473Z",
     "start_time": "2019-05-27T20:17:02.980702Z"
    }
   },
   "outputs": [
    {
     "data": {
      "text/plain": [
       "count      394.000000\n",
       "mean      3133.101523\n",
       "std       2554.164338\n",
       "min        250.000000\n",
       "25%       1414.250000\n",
       "50%       2248.000000\n",
       "75%       3804.000000\n",
       "max      15653.000000\n",
       "Name: credit_amount, dtype: float64"
      ]
     },
     "execution_count": 59,
     "metadata": {},
     "output_type": "execute_result"
    }
   ],
   "source": [
    "# Verificando (credit_amount)\n",
    "df_cc_null['credit_amount'].describe()"
   ]
  },
  {
   "cell_type": "code",
   "execution_count": 60,
   "metadata": {
    "ExecuteTime": {
     "end_time": "2019-05-27T20:17:03.339998Z",
     "start_time": "2019-05-27T20:17:03.076664Z"
    }
   },
   "outputs": [
    {
     "data": {
      "text/plain": [
       "count    394.000000\n",
       "mean      36.426396\n",
       "std       10.839374\n",
       "min       19.000000\n",
       "25%       28.000000\n",
       "50%       34.500000\n",
       "75%       43.000000\n",
       "max       74.000000\n",
       "Name: age, dtype: float64"
      ]
     },
     "execution_count": 60,
     "metadata": {},
     "output_type": "execute_result"
    }
   ],
   "source": [
    "# Verificando (age)\n",
    "df_cc_null['age'].describe()"
   ]
  },
  {
   "cell_type": "markdown",
   "metadata": {
    "ExecuteTime": {
     "end_time": "2019-05-12T13:25:05.582614Z",
     "start_time": "2019-05-12T13:25:05.569648Z"
    }
   },
   "source": [
    "**Conclusão:**\n",
    "\n",
    "Em um primeiro momento, vamos construir um pipeline para imputar os valores mais frequentes em cada uma das categorias onde há dados nulos. Muito provavelmente esta não é a melhor abordagem, entretanto a ideia é realmente verificar qual a performance obtida com este pipeline para que, somente assim, possamos investigar de maneira mais efetiva qual a melhor maneira de tratar estes dados."
   ]
  },
  {
   "cell_type": "code",
   "execution_count": 61,
   "metadata": {
    "ExecuteTime": {
     "end_time": "2019-05-27T20:17:03.513000Z",
     "start_time": "2019-05-27T20:17:03.351258Z"
    }
   },
   "outputs": [],
   "source": [
    "# Preenchendo checking_account\n",
    "most_common_ca = df['checking_account'].value_counts().index[0]\n",
    "df_test = df.copy()\n",
    "df_test['checking_account'].fillna(value=most_common_ca, inplace=True)"
   ]
  },
  {
   "cell_type": "code",
   "execution_count": 62,
   "metadata": {
    "ExecuteTime": {
     "end_time": "2019-05-27T20:17:03.677857Z",
     "start_time": "2019-05-27T20:17:03.516940Z"
    }
   },
   "outputs": [],
   "source": [
    "# Preenchendo saving_accounts\n",
    "most_common_sa = df_test['saving_accounts'].value_counts().index[0]\n",
    "df_test['saving_accounts'].fillna(value=most_common_sa, inplace=True)"
   ]
  },
  {
   "cell_type": "code",
   "execution_count": 63,
   "metadata": {
    "ExecuteTime": {
     "end_time": "2019-05-27T20:17:03.796024Z",
     "start_time": "2019-05-27T20:17:03.687946Z"
    }
   },
   "outputs": [
    {
     "data": {
      "text/plain": [
       "age                 0\n",
       "sex                 0\n",
       "job                 0\n",
       "housing             0\n",
       "saving_accounts     0\n",
       "checking_account    0\n",
       "credit_amount       0\n",
       "duration            0\n",
       "purpose             0\n",
       "risk                0\n",
       "dtype: int64"
      ]
     },
     "execution_count": 63,
     "metadata": {},
     "output_type": "execute_result"
    }
   ],
   "source": [
    "# Verificando\n",
    "df_test.isnull().sum()"
   ]
  },
  {
   "cell_type": "code",
   "execution_count": 64,
   "metadata": {
    "ExecuteTime": {
     "end_time": "2019-05-27T20:17:03.905436Z",
     "start_time": "2019-05-27T20:17:03.809298Z"
    }
   },
   "outputs": [],
   "source": [
    "# Criando classe para realizar este procedimento (já pensando no Pipeline final)\n",
    "from sklearn.base import BaseEstimator, TransformerMixin\n",
    "\n",
    "class FillNAMostCommon(BaseEstimator, TransformerMixin):\n",
    "    \n",
    "    def fit(self, X, y=None):\n",
    "        return self\n",
    "    \n",
    "    def transform(self, X, y=None):\n",
    "        most_common_cc = X['checking_account'].value_counts().index[0]\n",
    "        X = X.fillna(value=most_common_cc)\n",
    "        most_common_cp = X['saving_accounts'].value_counts().index[0]\n",
    "        X = X.fillna(value=most_common_cp)\n",
    "        \n",
    "        return X"
   ]
  },
  {
   "cell_type": "code",
   "execution_count": 65,
   "metadata": {
    "ExecuteTime": {
     "end_time": "2019-05-27T20:17:03.995508Z",
     "start_time": "2019-05-27T20:17:03.911738Z"
    }
   },
   "outputs": [
    {
     "data": {
      "text/plain": [
       "age                 0\n",
       "sex                 0\n",
       "job                 0\n",
       "housing             0\n",
       "saving_accounts     0\n",
       "checking_account    0\n",
       "credit_amount       0\n",
       "duration            0\n",
       "purpose             0\n",
       "dtype: int64"
      ]
     },
     "execution_count": 65,
     "metadata": {},
     "output_type": "execute_result"
    }
   ],
   "source": [
    "# Instanciando classe\n",
    "filler_common = FillNAMostCommon()\n",
    "X_train_filled = filler_common.transform(X_train)\n",
    "X_train_filled.isnull().sum()"
   ]
  },
  {
   "cell_type": "code",
   "execution_count": 66,
   "metadata": {
    "ExecuteTime": {
     "end_time": "2019-05-27T20:17:04.084761Z",
     "start_time": "2019-05-27T20:17:03.998549Z"
    }
   },
   "outputs": [
    {
     "name": "stdout",
     "output_type": "stream",
     "text": [
      "Mais comum em checking_account: moderate\n",
      "Mais comum em saving_accounts: little\n"
     ]
    }
   ],
   "source": [
    "# Quais são os valores mais comuns?\n",
    "most_common_ca = X_train['checking_account'].value_counts().index[0]\n",
    "most_common_sa = X_train['saving_accounts'].value_counts().index[0]\n",
    "print(f'Mais comum em checking_account: {most_common_ca}')\n",
    "print(f'Mais comum em saving_accounts: {most_common_sa}')"
   ]
  },
  {
   "cell_type": "code",
   "execution_count": 67,
   "metadata": {
    "ExecuteTime": {
     "end_time": "2019-05-27T20:17:04.199986Z",
     "start_time": "2019-05-27T20:17:04.084761Z"
    }
   },
   "outputs": [
    {
     "data": {
      "text/html": [
       "<div>\n",
       "<style scoped>\n",
       "    .dataframe tbody tr th:only-of-type {\n",
       "        vertical-align: middle;\n",
       "    }\n",
       "\n",
       "    .dataframe tbody tr th {\n",
       "        vertical-align: top;\n",
       "    }\n",
       "\n",
       "    .dataframe thead th {\n",
       "        text-align: right;\n",
       "    }\n",
       "</style>\n",
       "<table border=\"1\" class=\"dataframe\">\n",
       "  <thead>\n",
       "    <tr style=\"text-align: right;\">\n",
       "      <th></th>\n",
       "      <th>age</th>\n",
       "      <th>sex</th>\n",
       "      <th>job</th>\n",
       "      <th>housing</th>\n",
       "      <th>saving_accounts</th>\n",
       "      <th>checking_account</th>\n",
       "      <th>credit_amount</th>\n",
       "      <th>duration</th>\n",
       "      <th>purpose</th>\n",
       "    </tr>\n",
       "  </thead>\n",
       "  <tbody>\n",
       "    <tr>\n",
       "      <th>29</th>\n",
       "      <td>63</td>\n",
       "      <td>male</td>\n",
       "      <td>2</td>\n",
       "      <td>own</td>\n",
       "      <td>little</td>\n",
       "      <td>little</td>\n",
       "      <td>6836</td>\n",
       "      <td>60</td>\n",
       "      <td>business</td>\n",
       "    </tr>\n",
       "    <tr>\n",
       "      <th>535</th>\n",
       "      <td>33</td>\n",
       "      <td>male</td>\n",
       "      <td>2</td>\n",
       "      <td>rent</td>\n",
       "      <td>little</td>\n",
       "      <td>rich</td>\n",
       "      <td>2319</td>\n",
       "      <td>21</td>\n",
       "      <td>education</td>\n",
       "    </tr>\n",
       "    <tr>\n",
       "      <th>695</th>\n",
       "      <td>50</td>\n",
       "      <td>male</td>\n",
       "      <td>2</td>\n",
       "      <td>rent</td>\n",
       "      <td>quite rich</td>\n",
       "      <td>NaN</td>\n",
       "      <td>1236</td>\n",
       "      <td>6</td>\n",
       "      <td>car</td>\n",
       "    </tr>\n",
       "    <tr>\n",
       "      <th>557</th>\n",
       "      <td>29</td>\n",
       "      <td>female</td>\n",
       "      <td>2</td>\n",
       "      <td>own</td>\n",
       "      <td>NaN</td>\n",
       "      <td>NaN</td>\n",
       "      <td>5003</td>\n",
       "      <td>21</td>\n",
       "      <td>car</td>\n",
       "    </tr>\n",
       "    <tr>\n",
       "      <th>836</th>\n",
       "      <td>21</td>\n",
       "      <td>female</td>\n",
       "      <td>2</td>\n",
       "      <td>own</td>\n",
       "      <td>NaN</td>\n",
       "      <td>NaN</td>\n",
       "      <td>886</td>\n",
       "      <td>12</td>\n",
       "      <td>radio/TV</td>\n",
       "    </tr>\n",
       "  </tbody>\n",
       "</table>\n",
       "</div>"
      ],
      "text/plain": [
       "     age     sex  job housing saving_accounts checking_account  credit_amount  \\\n",
       "29    63    male    2     own          little           little           6836   \n",
       "535   33    male    2    rent          little             rich           2319   \n",
       "695   50    male    2    rent      quite rich              NaN           1236   \n",
       "557   29  female    2     own             NaN              NaN           5003   \n",
       "836   21  female    2     own             NaN              NaN            886   \n",
       "\n",
       "     duration    purpose  \n",
       "29         60   business  \n",
       "535        21  education  \n",
       "695         6        car  \n",
       "557        21        car  \n",
       "836        12   radio/TV  "
      ]
     },
     "execution_count": 67,
     "metadata": {},
     "output_type": "execute_result"
    }
   ],
   "source": [
    "# Verificando índices onde saving_accounts e checking_account ambos nulos\n",
    "X_train.head()"
   ]
  },
  {
   "cell_type": "markdown",
   "metadata": {},
   "source": [
    "Procurar um registro com valores NaN para ambas as colunas de saving e checking account"
   ]
  },
  {
   "cell_type": "code",
   "execution_count": 68,
   "metadata": {
    "ExecuteTime": {
     "end_time": "2019-05-27T20:17:04.310416Z",
     "start_time": "2019-05-27T20:17:04.251597Z"
    }
   },
   "outputs": [
    {
     "data": {
      "text/html": [
       "<div>\n",
       "<style scoped>\n",
       "    .dataframe tbody tr th:only-of-type {\n",
       "        vertical-align: middle;\n",
       "    }\n",
       "\n",
       "    .dataframe tbody tr th {\n",
       "        vertical-align: top;\n",
       "    }\n",
       "\n",
       "    .dataframe thead th {\n",
       "        text-align: right;\n",
       "    }\n",
       "</style>\n",
       "<table border=\"1\" class=\"dataframe\">\n",
       "  <thead>\n",
       "    <tr style=\"text-align: right;\">\n",
       "      <th></th>\n",
       "      <th>age</th>\n",
       "      <th>sex</th>\n",
       "      <th>job</th>\n",
       "      <th>housing</th>\n",
       "      <th>saving_accounts</th>\n",
       "      <th>checking_account</th>\n",
       "      <th>credit_amount</th>\n",
       "      <th>duration</th>\n",
       "      <th>purpose</th>\n",
       "    </tr>\n",
       "  </thead>\n",
       "  <tbody>\n",
       "    <tr>\n",
       "      <th>889</th>\n",
       "      <td>40</td>\n",
       "      <td>male</td>\n",
       "      <td>2</td>\n",
       "      <td>rent</td>\n",
       "      <td>NaN</td>\n",
       "      <td>NaN</td>\n",
       "      <td>7824</td>\n",
       "      <td>28</td>\n",
       "      <td>car</td>\n",
       "    </tr>\n",
       "  </tbody>\n",
       "</table>\n",
       "</div>"
      ],
      "text/plain": [
       "     age   sex  job housing saving_accounts checking_account  credit_amount  \\\n",
       "889   40  male    2    rent             NaN              NaN           7824   \n",
       "\n",
       "     duration purpose  \n",
       "889        28     car  "
      ]
     },
     "execution_count": 68,
     "metadata": {},
     "output_type": "execute_result"
    }
   ],
   "source": [
    "# Verificando indexação\n",
    "sample = X_train[X_train.index==889]\n",
    "sample"
   ]
  },
  {
   "cell_type": "code",
   "execution_count": 69,
   "metadata": {
    "ExecuteTime": {
     "end_time": "2019-05-27T20:17:04.419154Z",
     "start_time": "2019-05-27T20:17:04.316087Z"
    }
   },
   "outputs": [
    {
     "data": {
      "text/html": [
       "<div>\n",
       "<style scoped>\n",
       "    .dataframe tbody tr th:only-of-type {\n",
       "        vertical-align: middle;\n",
       "    }\n",
       "\n",
       "    .dataframe tbody tr th {\n",
       "        vertical-align: top;\n",
       "    }\n",
       "\n",
       "    .dataframe thead th {\n",
       "        text-align: right;\n",
       "    }\n",
       "</style>\n",
       "<table border=\"1\" class=\"dataframe\">\n",
       "  <thead>\n",
       "    <tr style=\"text-align: right;\">\n",
       "      <th></th>\n",
       "      <th>age</th>\n",
       "      <th>sex</th>\n",
       "      <th>job</th>\n",
       "      <th>housing</th>\n",
       "      <th>saving_accounts</th>\n",
       "      <th>checking_account</th>\n",
       "      <th>credit_amount</th>\n",
       "      <th>duration</th>\n",
       "      <th>purpose</th>\n",
       "    </tr>\n",
       "  </thead>\n",
       "  <tbody>\n",
       "    <tr>\n",
       "      <th>889</th>\n",
       "      <td>40</td>\n",
       "      <td>male</td>\n",
       "      <td>2</td>\n",
       "      <td>rent</td>\n",
       "      <td>moderate</td>\n",
       "      <td>moderate</td>\n",
       "      <td>7824</td>\n",
       "      <td>28</td>\n",
       "      <td>car</td>\n",
       "    </tr>\n",
       "  </tbody>\n",
       "</table>\n",
       "</div>"
      ],
      "text/plain": [
       "     age   sex  job housing saving_accounts checking_account  credit_amount  \\\n",
       "889   40  male    2    rent        moderate         moderate           7824   \n",
       "\n",
       "     duration purpose  \n",
       "889        28     car  "
      ]
     },
     "execution_count": 69,
     "metadata": {},
     "output_type": "execute_result"
    }
   ],
   "source": [
    "# Verificando pós fillna\n",
    "sample_filled = X_train_filled[X_train_filled.index==889]\n",
    "sample_filled"
   ]
  },
  {
   "cell_type": "markdown",
   "metadata": {},
   "source": [
    "Era realmente esse o resultado esperado."
   ]
  },
  {
   "cell_type": "markdown",
   "metadata": {},
   "source": [
    "### Atributos Categóricos"
   ]
  },
  {
   "cell_type": "markdown",
   "metadata": {},
   "source": [
    "Vamos entrar num ponto esperado desde o início do pipeline: o tratamento de entradas `categóricas`. Para isso, vamos utilizar a classe `OneHotEncoder` do scikit-learn."
   ]
  },
  {
   "cell_type": "code",
   "execution_count": 70,
   "metadata": {
    "ExecuteTime": {
     "end_time": "2019-05-27T20:17:04.503618Z",
     "start_time": "2019-05-27T20:17:04.425246Z"
    }
   },
   "outputs": [],
   "source": [
    "# Ignorando alertas\n",
    "import warnings\n",
    "warnings.filterwarnings('ignore')"
   ]
  },
  {
   "cell_type": "code",
   "execution_count": 71,
   "metadata": {
    "ExecuteTime": {
     "end_time": "2019-05-27T20:17:04.602821Z",
     "start_time": "2019-05-27T20:17:04.509986Z"
    }
   },
   "outputs": [],
   "source": [
    "from sklearn.preprocessing import OneHotEncoder\n",
    "\n",
    "X_teste = X_train_filled['sex']\n",
    "X_teste_encoded, X_teste_categories = X_teste.factorize()\n",
    "\n",
    "# Verificando\n",
    "X_teste_encoded[:5]\n",
    "\n",
    "# Categorias\n",
    "X_teste_categories\n",
    "\n",
    "# OneHot\n",
    "encoder = OneHotEncoder(sparse=False)\n",
    "X_teste_1hot = encoder.fit_transform(X_teste_encoded.reshape(-1, 1))"
   ]
  },
  {
   "cell_type": "code",
   "execution_count": 72,
   "metadata": {
    "ExecuteTime": {
     "end_time": "2019-05-27T20:17:04.683540Z",
     "start_time": "2019-05-27T20:17:04.606121Z"
    }
   },
   "outputs": [
    {
     "data": {
      "text/plain": [
       "array([0, 0, 0, 1, 1], dtype=int64)"
      ]
     },
     "execution_count": 72,
     "metadata": {},
     "output_type": "execute_result"
    }
   ],
   "source": [
    "# Verificando\n",
    "X_teste_encoded[:5]"
   ]
  },
  {
   "cell_type": "code",
   "execution_count": 73,
   "metadata": {
    "ExecuteTime": {
     "end_time": "2019-05-27T20:17:04.868551Z",
     "start_time": "2019-05-27T20:17:04.686640Z"
    }
   },
   "outputs": [
    {
     "data": {
      "text/plain": [
       "Index(['male', 'female'], dtype='object')"
      ]
     },
     "execution_count": 73,
     "metadata": {},
     "output_type": "execute_result"
    }
   ],
   "source": [
    "# Categorias\n",
    "X_teste_categories"
   ]
  },
  {
   "cell_type": "code",
   "execution_count": 74,
   "metadata": {
    "ExecuteTime": {
     "end_time": "2019-05-27T20:17:05.071199Z",
     "start_time": "2019-05-27T20:17:04.873559Z"
    }
   },
   "outputs": [
    {
     "data": {
      "text/plain": [
       "array([[1., 0.],\n",
       "       [1., 0.],\n",
       "       [1., 0.],\n",
       "       ...,\n",
       "       [1., 0.],\n",
       "       [1., 0.],\n",
       "       [0., 1.]])"
      ]
     },
     "execution_count": 74,
     "metadata": {},
     "output_type": "execute_result"
    }
   ],
   "source": [
    "# OneHot\n",
    "encoder = OneHotEncoder(sparse=False)\n",
    "X_teste_1hot = encoder.fit_transform(X_teste_encoded.reshape(-1, 1))\n",
    "X_teste_1hot"
   ]
  },
  {
   "cell_type": "markdown",
   "metadata": {},
   "source": [
    "Deu certo! Para instâncias do genero `male`, o dataset retorna [1, 0]. Analogamente, para o gênero `female`, temos um retorno de [0, 1]."
   ]
  },
  {
   "cell_type": "code",
   "execution_count": 75,
   "metadata": {
    "ExecuteTime": {
     "end_time": "2019-05-27T20:17:05.166625Z",
     "start_time": "2019-05-27T20:17:05.075194Z"
    }
   },
   "outputs": [
    {
     "data": {
      "text/html": [
       "<div>\n",
       "<style scoped>\n",
       "    .dataframe tbody tr th:only-of-type {\n",
       "        vertical-align: middle;\n",
       "    }\n",
       "\n",
       "    .dataframe tbody tr th {\n",
       "        vertical-align: top;\n",
       "    }\n",
       "\n",
       "    .dataframe thead th {\n",
       "        text-align: right;\n",
       "    }\n",
       "</style>\n",
       "<table border=\"1\" class=\"dataframe\">\n",
       "  <thead>\n",
       "    <tr style=\"text-align: right;\">\n",
       "      <th></th>\n",
       "      <th>sex</th>\n",
       "      <th>housing</th>\n",
       "      <th>saving_accounts</th>\n",
       "      <th>checking_account</th>\n",
       "      <th>purpose</th>\n",
       "    </tr>\n",
       "  </thead>\n",
       "  <tbody>\n",
       "    <tr>\n",
       "      <th>29</th>\n",
       "      <td>male</td>\n",
       "      <td>own</td>\n",
       "      <td>little</td>\n",
       "      <td>little</td>\n",
       "      <td>business</td>\n",
       "    </tr>\n",
       "  </tbody>\n",
       "</table>\n",
       "</div>"
      ],
      "text/plain": [
       "     sex housing saving_accounts checking_account   purpose\n",
       "29  male     own          little           little  business"
      ]
     },
     "execution_count": 75,
     "metadata": {},
     "output_type": "execute_result"
    }
   ],
   "source": [
    "# Testando para todas as classes categóricas\n",
    "cat_attribs = ['sex', 'housing', 'saving_accounts', \n",
    "               'checking_account', 'purpose']\n",
    "X_train_cat = X_train_filled.loc[:, cat_attribs]\n",
    "X_train_cat.head(1)"
   ]
  },
  {
   "cell_type": "code",
   "execution_count": 76,
   "metadata": {
    "ExecuteTime": {
     "end_time": "2019-05-27T20:17:05.259979Z",
     "start_time": "2019-05-27T20:17:05.171012Z"
    }
   },
   "outputs": [],
   "source": [
    "# Criando encoder\n",
    "encoder = OneHotEncoder(sparse=False)\n",
    "X_train_cat_encoded = encoder.fit_transform(X_train_cat)"
   ]
  },
  {
   "cell_type": "code",
   "execution_count": 77,
   "metadata": {
    "ExecuteTime": {
     "end_time": "2019-05-27T20:17:05.423475Z",
     "start_time": "2019-05-27T20:17:05.259979Z"
    }
   },
   "outputs": [
    {
     "data": {
      "text/plain": [
       "array([[0., 1., 0., ..., 0., 0., 0.],\n",
       "       [0., 1., 0., ..., 0., 0., 0.],\n",
       "       [0., 1., 0., ..., 0., 0., 0.],\n",
       "       ...,\n",
       "       [0., 1., 0., ..., 0., 0., 0.],\n",
       "       [0., 1., 0., ..., 1., 0., 0.],\n",
       "       [1., 0., 0., ..., 1., 0., 0.]])"
      ]
     },
     "execution_count": 77,
     "metadata": {},
     "output_type": "execute_result"
    }
   ],
   "source": [
    "# Verificando (column sex)\n",
    "X_train_cat_encoded"
   ]
  },
  {
   "cell_type": "markdown",
   "metadata": {
    "ExecuteTime": {
     "end_time": "2019-05-12T14:30:21.892037Z",
     "start_time": "2019-05-12T14:30:21.880071Z"
    }
   },
   "source": [
    "### Feature Scaling"
   ]
  },
  {
   "cell_type": "markdown",
   "metadata": {},
   "source": [
    "Temos features numéricas em diferentes ranges e isto dificulta o modelo a encontrar o mínimo local durante o treinamento (lembrar da elipse achatada). Vamos aplicar um procedimento de normalização para melhorar a performance.\n",
    "\n",
    "Obs: futuramente, vamos treinar novamente o modelo sem `feature scaling` para quantificar a possível melhora."
   ]
  },
  {
   "cell_type": "code",
   "execution_count": 78,
   "metadata": {
    "ExecuteTime": {
     "end_time": "2019-05-27T20:17:05.672713Z",
     "start_time": "2019-05-27T20:17:05.429733Z"
    }
   },
   "outputs": [
    {
     "data": {
      "text/html": [
       "<div>\n",
       "<style scoped>\n",
       "    .dataframe tbody tr th:only-of-type {\n",
       "        vertical-align: middle;\n",
       "    }\n",
       "\n",
       "    .dataframe tbody tr th {\n",
       "        vertical-align: top;\n",
       "    }\n",
       "\n",
       "    .dataframe thead th {\n",
       "        text-align: right;\n",
       "    }\n",
       "</style>\n",
       "<table border=\"1\" class=\"dataframe\">\n",
       "  <thead>\n",
       "    <tr style=\"text-align: right;\">\n",
       "      <th></th>\n",
       "      <th>age</th>\n",
       "      <th>sex</th>\n",
       "      <th>job</th>\n",
       "      <th>housing</th>\n",
       "      <th>saving_accounts</th>\n",
       "      <th>checking_account</th>\n",
       "      <th>credit_amount</th>\n",
       "      <th>duration</th>\n",
       "      <th>purpose</th>\n",
       "    </tr>\n",
       "  </thead>\n",
       "  <tbody>\n",
       "    <tr>\n",
       "      <th>29</th>\n",
       "      <td>63</td>\n",
       "      <td>male</td>\n",
       "      <td>2</td>\n",
       "      <td>own</td>\n",
       "      <td>little</td>\n",
       "      <td>little</td>\n",
       "      <td>6836</td>\n",
       "      <td>60</td>\n",
       "      <td>business</td>\n",
       "    </tr>\n",
       "  </tbody>\n",
       "</table>\n",
       "</div>"
      ],
      "text/plain": [
       "    age   sex  job housing saving_accounts checking_account  credit_amount  \\\n",
       "29   63  male    2     own          little           little           6836   \n",
       "\n",
       "    duration   purpose  \n",
       "29        60  business  "
      ]
     },
     "execution_count": 78,
     "metadata": {},
     "output_type": "execute_result"
    }
   ],
   "source": [
    "# Verificando cabeçalho\n",
    "X_train_filled.head(1)"
   ]
  },
  {
   "cell_type": "code",
   "execution_count": 79,
   "metadata": {
    "ExecuteTime": {
     "end_time": "2019-05-27T20:17:05.973252Z",
     "start_time": "2019-05-27T20:17:05.673709Z"
    }
   },
   "outputs": [],
   "source": [
    "# Normalizando\n",
    "from sklearn.preprocessing import StandardScaler\n",
    "\n",
    "scaler = StandardScaler()\n",
    "X_train_filled_num = X_train_filled.loc[:, ['age', 'credit_amount', 'duration']]\n",
    "X_train_filled_scalled = scaler.fit_transform(X_train_filled_num)"
   ]
  },
  {
   "cell_type": "code",
   "execution_count": 80,
   "metadata": {
    "ExecuteTime": {
     "end_time": "2019-05-27T20:17:06.339088Z",
     "start_time": "2019-05-27T20:17:05.974250Z"
    }
   },
   "outputs": [
    {
     "data": {
      "text/html": [
       "<div>\n",
       "<style scoped>\n",
       "    .dataframe tbody tr th:only-of-type {\n",
       "        vertical-align: middle;\n",
       "    }\n",
       "\n",
       "    .dataframe tbody tr th {\n",
       "        vertical-align: top;\n",
       "    }\n",
       "\n",
       "    .dataframe thead th {\n",
       "        text-align: right;\n",
       "    }\n",
       "</style>\n",
       "<table border=\"1\" class=\"dataframe\">\n",
       "  <thead>\n",
       "    <tr style=\"text-align: right;\">\n",
       "      <th></th>\n",
       "      <th>age</th>\n",
       "      <th>sex</th>\n",
       "      <th>job</th>\n",
       "      <th>housing</th>\n",
       "      <th>saving_accounts</th>\n",
       "      <th>checking_account</th>\n",
       "      <th>credit_amount</th>\n",
       "      <th>duration</th>\n",
       "      <th>purpose</th>\n",
       "    </tr>\n",
       "  </thead>\n",
       "  <tbody>\n",
       "    <tr>\n",
       "      <th>29</th>\n",
       "      <td>63</td>\n",
       "      <td>male</td>\n",
       "      <td>2</td>\n",
       "      <td>own</td>\n",
       "      <td>little</td>\n",
       "      <td>little</td>\n",
       "      <td>6836</td>\n",
       "      <td>60</td>\n",
       "      <td>business</td>\n",
       "    </tr>\n",
       "    <tr>\n",
       "      <th>535</th>\n",
       "      <td>33</td>\n",
       "      <td>male</td>\n",
       "      <td>2</td>\n",
       "      <td>rent</td>\n",
       "      <td>little</td>\n",
       "      <td>rich</td>\n",
       "      <td>2319</td>\n",
       "      <td>21</td>\n",
       "      <td>education</td>\n",
       "    </tr>\n",
       "    <tr>\n",
       "      <th>695</th>\n",
       "      <td>50</td>\n",
       "      <td>male</td>\n",
       "      <td>2</td>\n",
       "      <td>rent</td>\n",
       "      <td>quite rich</td>\n",
       "      <td>moderate</td>\n",
       "      <td>1236</td>\n",
       "      <td>6</td>\n",
       "      <td>car</td>\n",
       "    </tr>\n",
       "  </tbody>\n",
       "</table>\n",
       "</div>"
      ],
      "text/plain": [
       "     age   sex  job housing saving_accounts checking_account  credit_amount  \\\n",
       "29    63  male    2     own          little           little           6836   \n",
       "535   33  male    2    rent          little             rich           2319   \n",
       "695   50  male    2    rent      quite rich         moderate           1236   \n",
       "\n",
       "     duration    purpose  \n",
       "29         60   business  \n",
       "535        21  education  \n",
       "695         6        car  "
      ]
     },
     "execution_count": 80,
     "metadata": {},
     "output_type": "execute_result"
    }
   ],
   "source": [
    "# Antes da normalização\n",
    "X_train_filled.head(3)"
   ]
  },
  {
   "cell_type": "code",
   "execution_count": 81,
   "metadata": {
    "ExecuteTime": {
     "end_time": "2019-05-27T20:17:06.482370Z",
     "start_time": "2019-05-27T20:17:06.344100Z"
    }
   },
   "outputs": [
    {
     "data": {
      "text/plain": [
       "array([[ 2.4061873 ,  1.19991221,  3.29708155],\n",
       "       [-0.22436411, -0.35962991, -0.00805096],\n",
       "       [ 1.26628169, -0.73354714, -1.27925578]])"
      ]
     },
     "execution_count": 81,
     "metadata": {},
     "output_type": "execute_result"
    }
   ],
   "source": [
    "# Atributos normalizados\n",
    "X_train_filled_scalled[:3]"
   ]
  },
  {
   "cell_type": "markdown",
   "metadata": {},
   "source": [
    "## Pipeline"
   ]
  },
  {
   "cell_type": "markdown",
   "metadata": {},
   "source": [
    "Com as operações mapeadas, podemos já pensar em implementar um pipeline de transformação de dados. Isto será realizado através da criação de um pipeline numérico e um pipeline categórico, seguido da união entre os dois."
   ]
  },
  {
   "cell_type": "markdown",
   "metadata": {},
   "source": [
    "### Pipeline Numérico"
   ]
  },
  {
   "cell_type": "code",
   "execution_count": 82,
   "metadata": {
    "ExecuteTime": {
     "end_time": "2019-05-27T20:17:06.678638Z",
     "start_time": "2019-05-27T20:17:06.487735Z"
    }
   },
   "outputs": [],
   "source": [
    "# Pipeline numérico\n",
    "from sklearn.pipeline import Pipeline\n",
    "\n",
    "# Indexando dados\n",
    "num_attribs = ['age', 'credit_amount', 'duration']\n",
    "X_train_num = X_train.loc[:, num_attribs]\n",
    "\n",
    "# Criando pipeline numérico\n",
    "num_pipeline = Pipeline([\n",
    "    ('std_scaler', StandardScaler())\n",
    "])\n",
    "\n",
    "# Aplicando pipeline\n",
    "X_train_num_prepared = num_pipeline.fit_transform(X_train_num)"
   ]
  },
  {
   "cell_type": "code",
   "execution_count": 83,
   "metadata": {
    "ExecuteTime": {
     "end_time": "2019-05-27T20:17:06.816473Z",
     "start_time": "2019-05-27T20:17:06.682947Z"
    }
   },
   "outputs": [
    {
     "data": {
      "text/plain": [
       "array([[ 2.4061873 ,  1.19991221,  3.29708155],\n",
       "       [-0.22436411, -0.35962991, -0.00805096],\n",
       "       [ 1.26628169, -0.73354714, -1.27925578],\n",
       "       ...,\n",
       "       [-0.7504744 ,  0.84360327,  0.24619   ],\n",
       "       [-0.92584449, -0.64792251, -0.77077385],\n",
       "       [-1.01352954, -0.83850636, -1.27925578]])"
      ]
     },
     "execution_count": 83,
     "metadata": {},
     "output_type": "execute_result"
    }
   ],
   "source": [
    "# Verificnado\n",
    "X_train_num_prepared"
   ]
  },
  {
   "cell_type": "markdown",
   "metadata": {},
   "source": [
    "### Pipeline Categórico"
   ]
  },
  {
   "cell_type": "code",
   "execution_count": 84,
   "metadata": {
    "ExecuteTime": {
     "end_time": "2019-05-27T20:17:07.016832Z",
     "start_time": "2019-05-27T20:17:06.820706Z"
    }
   },
   "outputs": [],
   "source": [
    "# Atributos categóricos\n",
    "cat_attribs = ['sex', 'job', 'housing', 'saving_accounts', \n",
    "               'checking_account', 'purpose']\n",
    "X_train_cat = X_train.loc[:, cat_attribs]\n",
    "\n",
    "# Criando pipeline\n",
    "cat_pipeline = Pipeline([\n",
    "    ('fillna_most_common', FillNAMostCommon()),\n",
    "    ('one_hot', OneHotEncoder(sparse=False))\n",
    "])\n",
    "\n",
    "# Aplicando pipeline\n",
    "X_train_cat_prepared = cat_pipeline.fit_transform(X_train_cat)"
   ]
  },
  {
   "cell_type": "code",
   "execution_count": 85,
   "metadata": {
    "ExecuteTime": {
     "end_time": "2019-05-27T20:17:07.176765Z",
     "start_time": "2019-05-27T20:17:07.020581Z"
    }
   },
   "outputs": [
    {
     "data": {
      "text/plain": [
       "array([[0., 1., 0., ..., 0., 0., 0.],\n",
       "       [0., 1., 0., ..., 0., 0., 0.],\n",
       "       [0., 1., 0., ..., 0., 0., 0.],\n",
       "       ...,\n",
       "       [0., 1., 0., ..., 0., 0., 0.],\n",
       "       [0., 1., 0., ..., 1., 0., 0.],\n",
       "       [1., 0., 0., ..., 1., 0., 0.]])"
      ]
     },
     "execution_count": 85,
     "metadata": {},
     "output_type": "execute_result"
    }
   ],
   "source": [
    "# Verificando\n",
    "X_train_cat_prepared"
   ]
  },
  {
   "cell_type": "markdown",
   "metadata": {},
   "source": [
    "### Pipeline Completo"
   ]
  },
  {
   "cell_type": "code",
   "execution_count": 86,
   "metadata": {
    "ExecuteTime": {
     "end_time": "2019-05-27T20:17:07.332246Z",
     "start_time": "2019-05-27T20:17:07.181020Z"
    }
   },
   "outputs": [],
   "source": [
    "# Importando módulo especial do scikit para unir pipelines\n",
    "from sklearn.compose import ColumnTransformer\n",
    "\n",
    "# Preparando pipeline\n",
    "num_attribs = ['age', 'credit_amount', 'duration']\n",
    "cat_attribs = ['sex', 'job', 'housing', 'saving_accounts', \n",
    "               'checking_account', 'purpose']\n",
    "\n",
    "# Criando pipeline numérico\n",
    "num_pipeline = Pipeline([\n",
    "    ('std_scaler', StandardScaler())\n",
    "])\n",
    "\n",
    "# Criando pipeline categórico\n",
    "cat_pipeline = Pipeline([\n",
    "    ('fillna_most_common', FillNAMostCommon()),\n",
    "    ('one_hot', OneHotEncoder(sparse=False))\n",
    "])\n",
    "\n",
    "# Definindo pipeline completo\n",
    "full_pipeline = ColumnTransformer([\n",
    "    ('num_pipeline', num_pipeline, num_attribs),\n",
    "    ('cat_pipeline', cat_pipeline, cat_attribs)\n",
    "])\n",
    "\n",
    "# Dados preparados\n",
    "X_train_prepared = full_pipeline.fit_transform(X_train)"
   ]
  },
  {
   "cell_type": "code",
   "execution_count": 87,
   "metadata": {
    "ExecuteTime": {
     "end_time": "2019-05-27T20:17:07.481896Z",
     "start_time": "2019-05-27T20:17:07.338533Z"
    }
   },
   "outputs": [
    {
     "data": {
      "text/plain": [
       "array([2.4061873 , 1.19991221, 3.29708155, 0.        , 1.        ,\n",
       "       0.        , 0.        , 1.        , 0.        , 0.        ,\n",
       "       1.        , 0.        , 1.        , 0.        , 0.        ,\n",
       "       0.        , 1.        , 0.        , 0.        , 1.        ,\n",
       "       0.        , 0.        , 0.        , 0.        , 0.        ,\n",
       "       0.        , 0.        ])"
      ]
     },
     "execution_count": 87,
     "metadata": {},
     "output_type": "execute_result"
    }
   ],
   "source": [
    "# Verificando\n",
    "X_train_prepared[0]"
   ]
  },
  {
   "cell_type": "code",
   "execution_count": 88,
   "metadata": {
    "ExecuteTime": {
     "end_time": "2019-05-27T20:17:07.578158Z",
     "start_time": "2019-05-27T20:17:07.486223Z"
    }
   },
   "outputs": [
    {
     "data": {
      "text/plain": [
       "(800, 27)"
      ]
     },
     "execution_count": 88,
     "metadata": {},
     "output_type": "execute_result"
    }
   ],
   "source": [
    "# Dimensões\n",
    "X_train_prepared.shape"
   ]
  },
  {
   "cell_type": "code",
   "execution_count": 89,
   "metadata": {
    "ExecuteTime": {
     "end_time": "2019-05-27T20:17:07.913661Z",
     "start_time": "2019-05-27T20:17:07.579153Z"
    }
   },
   "outputs": [
    {
     "data": {
      "text/plain": [
       "(800, 9)"
      ]
     },
     "execution_count": 89,
     "metadata": {},
     "output_type": "execute_result"
    }
   ],
   "source": [
    "# Comparando\n",
    "X_train.shape"
   ]
  },
  {
   "cell_type": "markdown",
   "metadata": {},
   "source": [
    "## Treinando um Modelo"
   ]
  },
  {
   "cell_type": "markdown",
   "metadata": {},
   "source": [
    "Agora que finalizamos uma primeira versão de um pipeline de data_prep, vamos realizar o treinamento de um modelo para verificar nossa performance. Com essa métrica em mãos, podemos analisar melhores formas de se chegar a melhores resultados."
   ]
  },
  {
   "cell_type": "markdown",
   "metadata": {
    "ExecuteTime": {
     "end_time": "2019-05-12T17:16:47.497845Z",
     "start_time": "2019-05-12T17:16:47.486476Z"
    }
   },
   "source": [
    "### Regressão Logística"
   ]
  },
  {
   "cell_type": "markdown",
   "metadata": {},
   "source": [
    "Vamos tentar aplicar, em um primeiro momento, o modelo de Regressão Logística"
   ]
  },
  {
   "cell_type": "code",
   "execution_count": 90,
   "metadata": {
    "ExecuteTime": {
     "end_time": "2019-05-27T20:17:08.125730Z",
     "start_time": "2019-05-27T20:17:07.918013Z"
    }
   },
   "outputs": [
    {
     "name": "stdout",
     "output_type": "stream",
     "text": [
      "Acurácia nos dados de treino: 0.7425\n"
     ]
    }
   ],
   "source": [
    "# Importando bibliotecas\n",
    "from sklearn.linear_model import LogisticRegression\n",
    "from sklearn.model_selection import cross_val_score\n",
    "from sklearn.metrics import accuracy_score\n",
    "import warnings\n",
    "warnings.filterwarnings('ignore')\n",
    "\n",
    "# Treinando modelo\n",
    "log_reg = LogisticRegression()\n",
    "log_reg.fit(X_train_prepared, y_train)\n",
    "\n",
    "# Predizendo e medindo acurácia\n",
    "pred = log_reg.predict(X_train_prepared)\n",
    "acc_train = accuracy_score(pred, y_train)\n",
    "\n",
    "print(f'Acurácia nos dados de treino: {acc_train}')"
   ]
  },
  {
   "cell_type": "code",
   "execution_count": 91,
   "metadata": {
    "ExecuteTime": {
     "end_time": "2019-05-27T20:17:08.183799Z",
     "start_time": "2019-05-27T20:17:08.126729Z"
    }
   },
   "outputs": [
    {
     "data": {
      "text/plain": [
       "array([0.73291925, 0.7375    , 0.69375   , 0.725     , 0.72327044])"
      ]
     },
     "execution_count": 91,
     "metadata": {},
     "output_type": "execute_result"
    }
   ],
   "source": [
    "# Aplicando validação cruzada\n",
    "scores = cross_val_score(log_reg, X_train_prepared, y_train, cv=5, \n",
    "                         scoring='accuracy')\n",
    "scores"
   ]
  },
  {
   "cell_type": "markdown",
   "metadata": {},
   "source": [
    "Apesar do baixo score, seguimos investigando."
   ]
  },
  {
   "cell_type": "code",
   "execution_count": 92,
   "metadata": {
    "ExecuteTime": {
     "end_time": "2019-05-27T20:17:08.263754Z",
     "start_time": "2019-05-27T20:17:08.187795Z"
    }
   },
   "outputs": [
    {
     "data": {
      "text/plain": [
       "array([[502,  57],\n",
       "       [165,  76]], dtype=int64)"
      ]
     },
     "execution_count": 92,
     "metadata": {},
     "output_type": "execute_result"
    }
   ],
   "source": [
    "# Matriz de confusão\n",
    "from sklearn.model_selection import cross_val_predict\n",
    "from sklearn.metrics import confusion_matrix\n",
    "\n",
    "y_train_pred = cross_val_predict(log_reg, X_train_prepared, y_train, cv=5)\n",
    "confusion_matrix(y_train, y_train_pred)"
   ]
  },
  {
   "cell_type": "markdown",
   "metadata": {},
   "source": [
    "    510 registros foram classificados corretamente como sem risco (good) - TN\n",
    "    45 registros foram classificados corretamente como arriscados (bad) - TP\n",
    "    50 registros foram classificados erroneamente como sem risco - FP\n",
    "    195 registros foram classificados erroneamente como arriscados - FN"
   ]
  },
  {
   "cell_type": "code",
   "execution_count": 93,
   "metadata": {
    "ExecuteTime": {
     "end_time": "2019-05-27T20:17:08.324017Z",
     "start_time": "2019-05-27T20:17:08.263754Z"
    }
   },
   "outputs": [
    {
     "name": "stdout",
     "output_type": "stream",
     "text": [
      "Precision: 0.57\n",
      "Recall: 0.32\n"
     ]
    }
   ],
   "source": [
    "# Precision e recall\n",
    "from sklearn.metrics import precision_score, recall_score\n",
    "\n",
    "precision = precision_score(y_train, y_train_pred)\n",
    "recall = recall_score(y_train, y_train_pred)\n",
    "print(f'Precision: {precision:.2f}')\n",
    "print(f'Recall: {recall:.2f}')"
   ]
  },
  {
   "cell_type": "markdown",
   "metadata": {},
   "source": [
    "Um modelo pouco preciso."
   ]
  },
  {
   "cell_type": "code",
   "execution_count": 94,
   "metadata": {
    "ExecuteTime": {
     "end_time": "2019-05-27T20:17:08.410529Z",
     "start_time": "2019-05-27T20:17:08.324017Z"
    }
   },
   "outputs": [
    {
     "data": {
      "text/plain": [
       "0.4064171122994652"
      ]
     },
     "execution_count": 94,
     "metadata": {},
     "output_type": "execute_result"
    }
   ],
   "source": [
    "# f1 score\n",
    "from sklearn.metrics import f1_score\n",
    "f1_score(y_train, y_train_pred)"
   ]
  },
  {
   "cell_type": "code",
   "execution_count": 95,
   "metadata": {
    "ExecuteTime": {
     "end_time": "2019-05-27T20:17:08.820004Z",
     "start_time": "2019-05-27T20:17:08.414502Z"
    }
   },
   "outputs": [
    {
     "data": {
      "image/png": "[encoded data removed]",
      "text/plain": [
       "<Figure size 432x288 with 1 Axes>"
      ]
     },
     "metadata": {
      "needs_background": "light"
     },
     "output_type": "display_data"
    }
   ],
   "source": [
    "# Plotando ROC curve\n",
    "from sklearn.metrics import roc_curve\n",
    "\n",
    "y_scores = cross_val_predict(log_reg, X_train_prepared, y_train, cv=5,\n",
    "                            method='decision_function')\n",
    "fpr, tpr, thresholds = roc_curve(y_train, y_scores)\n",
    "\n",
    "def plot_roc_curve(fpr, tpr, label=None):\n",
    "    plt.plot(fpr, tpr, linewidth=2, label=label)\n",
    "    plt.plot([0, 1], [0, 1], 'k--')\n",
    "    plt.axis([0, 1, 0, 1])\n",
    "    plt.xlabel('False Positive Rate')\n",
    "    plt.ylabel('True Positive Rate')\n",
    "    plt.title('ROC Curve')\n",
    "    plt.show()\n",
    "    \n",
    "plot_roc_curve(fpr, tpr)"
   ]
  },
  {
   "cell_type": "markdown",
   "metadata": {},
   "source": [
    "Percebemos que o modelo está performando muito mal a medida que a curva azul (ROC) está muito próxima da curva linear, sendo esta o indicativo de um modelo TOTALMENTE aleatório e sem inteligência envolvida."
   ]
  },
  {
   "cell_type": "code",
   "execution_count": 96,
   "metadata": {
    "ExecuteTime": {
     "end_time": "2019-05-27T20:17:08.952686Z",
     "start_time": "2019-05-27T20:17:08.822158Z"
    }
   },
   "outputs": [],
   "source": [
    "# Definindo função para retornar toda a análise nos dados de treino\n",
    "def full_train_analysis(model, X, y, acc=True, cross_val=True, cv=5, precision=True, \n",
    "                        recall=True, f1=True, conf_mx=True, roc=True):\n",
    "    \n",
    "    # Calculando requisitos para as análises\n",
    "    flag_tree = False\n",
    "    y_pred = model.predict(X)\n",
    "    y_scores = cross_val_score(model, X, y, cv=cv, scoring='accuracy')\n",
    "    y_cfmx_pred = cross_val_predict(model, X, y, cv=cv)\n",
    "    \n",
    "    try:\n",
    "        y_roc_pred = cross_val_predict(model, X, y, cv=5, method='decision_function')\n",
    "    except:\n",
    "        # Decision Trees e Random Forest não possuem decision_function\n",
    "        y_probas = cross_val_predict(model, X, y, cv=5, method='predict_proba')\n",
    "        y_scores_tree = y_probas[:, 1]\n",
    "        flag_tree = True\n",
    "    \n",
    "    # Retornando análise\n",
    "    if acc:\n",
    "        accuracy = accuracy_score(y_pred, y)\n",
    "        print(f'Acurácia do modelo: {accuracy:.2f}')\n",
    "    if cross_val:\n",
    "        print(f'\\nCross Validation: {y_scores}')\n",
    "    if precision:\n",
    "        p_score = precision_score(y, y_pred)\n",
    "        print(f'\\nPrecision: {p_score:.2f}')\n",
    "    if recall:\n",
    "        r_score = recall_score(y, y_pred)\n",
    "        print(f'\\nRecall: {r_score:.2f}')\n",
    "    if f1:\n",
    "        f_score = f1_score(y, y_pred)\n",
    "        print(f'\\nf1_score: {f_score:.2f}')\n",
    "    if conf_mx:\n",
    "        matriz = confusion_matrix(y, y_cfmx_pred)\n",
    "        print(f'\\nMatriz de Confusão: \\n{matriz}')\n",
    "    if roc:\n",
    "        if flag_tree:\n",
    "            fpr, tpr, thresholds = roc_curve(y, y_scores_tree)\n",
    "        else:\n",
    "            fpr, tpr, thresholds = roc_curve(y, y_roc_pred)\n",
    "        plot_roc_curve(fpr, tpr)"
   ]
  },
  {
   "cell_type": "code",
   "execution_count": 97,
   "metadata": {
    "ExecuteTime": {
     "end_time": "2019-05-27T20:17:09.452503Z",
     "start_time": "2019-05-27T20:17:08.955786Z"
    }
   },
   "outputs": [
    {
     "name": "stdout",
     "output_type": "stream",
     "text": [
      "Acurácia do modelo: 0.74\n",
      "\n",
      "Cross Validation: [0.73291925 0.7375     0.69375    0.725      0.72327044]\n",
      "\n",
      "Precision: 0.63\n",
      "\n",
      "Recall: 0.35\n",
      "\n",
      "f1_score: 0.45\n",
      "\n",
      "Matriz de Confusão: \n",
      "[[502  57]\n",
      " [165  76]]\n"
     ]
    },
    {
     "data": {
      "image/png": "[encoded data removed]",
      "text/plain": [
       "<Figure size 432x288 with 1 Axes>"
      ]
     },
     "metadata": {
      "needs_background": "light"
     },
     "output_type": "display_data"
    }
   ],
   "source": [
    "# Testando\n",
    "full_train_analysis(log_reg, X_train_prepared, y_train)"
   ]
  },
  {
   "cell_type": "markdown",
   "metadata": {},
   "source": [
    "### SGDClassifier"
   ]
  },
  {
   "cell_type": "code",
   "execution_count": 98,
   "metadata": {
    "ExecuteTime": {
     "end_time": "2019-05-27T20:17:10.013318Z",
     "start_time": "2019-05-27T20:17:09.457566Z"
    }
   },
   "outputs": [
    {
     "name": "stdout",
     "output_type": "stream",
     "text": [
      "Acurácia do modelo: 0.71\n",
      "\n",
      "Cross Validation: [0.68944099 0.71875    0.65625    0.75       0.72327044]\n",
      "\n",
      "Precision: 0.53\n",
      "\n",
      "Recall: 0.44\n",
      "\n",
      "f1_score: 0.48\n",
      "\n",
      "Matriz de Confusão: \n",
      "[[500  59]\n",
      " [175  66]]\n"
     ]
    },
    {
     "data": {
      "image/png": "[encoded data removed]",
      "text/plain": [
       "<Figure size 432x288 with 1 Axes>"
      ]
     },
     "metadata": {
      "needs_background": "light"
     },
     "output_type": "display_data"
    }
   ],
   "source": [
    "# Importando e treinando modelo\n",
    "from sklearn.linear_model import SGDClassifier\n",
    "\n",
    "sgd_clf = SGDClassifier(random_state=42)\n",
    "sgd_clf.fit(X_train_prepared, y_train)\n",
    "full_train_analysis(sgd_clf, X_train_prepared, y_train)"
   ]
  },
  {
   "cell_type": "markdown",
   "metadata": {},
   "source": [
    "Resultado pior que o modelo de Regressão Logística"
   ]
  },
  {
   "cell_type": "markdown",
   "metadata": {},
   "source": [
    "### Decision Trees"
   ]
  },
  {
   "cell_type": "code",
   "execution_count": 99,
   "metadata": {
    "ExecuteTime": {
     "end_time": "2019-05-27T20:17:10.778035Z",
     "start_time": "2019-05-27T20:17:10.016722Z"
    }
   },
   "outputs": [
    {
     "name": "stdout",
     "output_type": "stream",
     "text": [
      "Acurácia do modelo: 1.00\n",
      "\n",
      "Cross Validation: [0.61490683 0.64375    0.59375    0.6375     0.66037736]\n",
      "\n",
      "Precision: 1.00\n",
      "\n",
      "Recall: 1.00\n",
      "\n",
      "f1_score: 1.00\n",
      "\n",
      "Matriz de Confusão: \n",
      "[[399 160]\n",
      " [135 106]]\n"
     ]
    },
    {
     "data": {
      "image/png": "[encoded data removed]",
      "text/plain": [
       "<Figure size 432x288 with 1 Axes>"
      ]
     },
     "metadata": {
      "needs_background": "light"
     },
     "output_type": "display_data"
    }
   ],
   "source": [
    "# Importando e analisando\n",
    "from sklearn.tree import DecisionTreeClassifier\n",
    "\n",
    "tree_clf = DecisionTreeClassifier()\n",
    "tree_clf.fit(X_train_prepared, y_train)\n",
    "full_train_analysis(tree_clf, X_train_prepared, y_train)"
   ]
  },
  {
   "cell_type": "markdown",
   "metadata": {},
   "source": [
    "Comparando os resultados de acurácia com os resultados da validação cruzada, está claro que o modelo de Árvore de Decisão é bem propenso ao overfitting. A matriz de confusão e a curva ROC também é um bom indicativo."
   ]
  },
  {
   "cell_type": "markdown",
   "metadata": {},
   "source": [
    "### Random Forest"
   ]
  },
  {
   "cell_type": "code",
   "execution_count": 100,
   "metadata": {
    "ExecuteTime": {
     "end_time": "2019-05-27T20:17:11.704735Z",
     "start_time": "2019-05-27T20:17:10.779032Z"
    }
   },
   "outputs": [
    {
     "name": "stdout",
     "output_type": "stream",
     "text": [
      "Acurácia do modelo: 0.97\n",
      "\n",
      "Cross Validation: [0.70186335 0.73125    0.73125    0.68125    0.72327044]\n",
      "\n",
      "Precision: 0.99\n",
      "\n",
      "Recall: 0.92\n",
      "\n",
      "f1_score: 0.95\n",
      "\n",
      "Matriz de Confusão: \n",
      "[[500  59]\n",
      " [171  70]]\n"
     ]
    },
    {
     "data": {
      "image/png": "[encoded data removed]",
      "text/plain": [
       "<Figure size 432x288 with 1 Axes>"
      ]
     },
     "metadata": {
      "needs_background": "light"
     },
     "output_type": "display_data"
    }
   ],
   "source": [
    "# Treinando modelo\n",
    "from sklearn.ensemble import RandomForestClassifier\n",
    "\n",
    "forest_clf = RandomForestClassifier()\n",
    "forest_clf.fit(X_train_prepared, y_train)\n",
    "full_train_analysis(forest_clf, X_train_prepared, y_train)"
   ]
  },
  {
   "cell_type": "markdown",
   "metadata": {},
   "source": [
    "Apesar do overfitting, este foi o modelo que melhor se comportou, até o momento."
   ]
  },
  {
   "cell_type": "markdown",
   "metadata": {},
   "source": [
    "### Multi Layer Perceptron"
   ]
  },
  {
   "cell_type": "code",
   "execution_count": 101,
   "metadata": {
    "ExecuteTime": {
     "end_time": "2019-05-27T20:17:35.130588Z",
     "start_time": "2019-05-27T20:17:11.707725Z"
    }
   },
   "outputs": [
    {
     "name": "stdout",
     "output_type": "stream",
     "text": [
      "Acurácia do modelo: 0.85\n",
      "\n",
      "Cross Validation: [0.72049689 0.69375    0.7375     0.775      0.72955975]\n",
      "\n",
      "Precision: 0.83\n",
      "\n",
      "Recall: 0.62\n",
      "\n",
      "f1_score: 0.71\n",
      "\n",
      "Matriz de Confusão: \n",
      "[[481  78]\n",
      " [146  95]]\n"
     ]
    },
    {
     "data": {
      "image/png": "[encoded data removed]",
      "text/plain": [
       "<Figure size 432x288 with 1 Axes>"
      ]
     },
     "metadata": {
      "needs_background": "light"
     },
     "output_type": "display_data"
    }
   ],
   "source": [
    "# Treinando modelo\n",
    "from sklearn.neural_network import MLPClassifier\n",
    "\n",
    "mlp_clf = MLPClassifier()\n",
    "mlp_clf.fit(X_train_prepared, y_train)\n",
    "full_train_analysis(mlp_clf, X_train_prepared, y_train)"
   ]
  },
  {
   "cell_type": "markdown",
   "metadata": {},
   "source": [
    "Acredito que o resultado com o MLP tenha sido melhor que o do Random Forest pelo fato de ter classificado corretamente uma quantidade maior de Verdadeiros Positivos (clientes com risco = 78 no MLP contra 52 no Forest)."
   ]
  },
  {
   "cell_type": "markdown",
   "metadata": {},
   "source": [
    "## Grid Search"
   ]
  },
  {
   "cell_type": "code",
   "execution_count": 102,
   "metadata": {
    "ExecuteTime": {
     "end_time": "2019-05-27T20:18:09.618170Z",
     "start_time": "2019-05-27T20:17:35.133503Z"
    }
   },
   "outputs": [
    {
     "name": "stdout",
     "output_type": "stream",
     "text": [
      "Fitting 3 folds for each of 256 candidates, totalling 768 fits\n",
      "[CV] bootstrap=True, criterion=gini, max_depth=None, min_samples_leaf=1, min_samples_split=2, n_estimators=5 \n",
      "[CV]  bootstrap=True, criterion=gini, max_depth=None, min_samples_leaf=1, min_samples_split=2, n_estimators=5, score=0.709, total=   0.0s\n",
      "[CV] bootstrap=True, criterion=gini, max_depth=None, min_samples_leaf=1, min_samples_split=2, n_estimators=5 \n",
      "[CV]  bootstrap=True, criterion=gini, max_depth=None, min_samples_leaf=1, min_samples_split=2, n_estimators=5, score=0.688, total=   0.0s\n",
      "[CV] bootstrap=True, criterion=gini, max_depth=None, min_samples_leaf=1, min_samples_split=2, n_estimators=5 \n",
      "[CV]  bootstrap=True, criterion=gini, max_depth=None, min_samples_leaf=1, min_samples_split=2, n_estimators=5, score=0.662, total=   0.0s\n",
      "[CV] bootstrap=True, criterion=gini, max_depth=None, min_samples_leaf=1, min_samples_split=2, n_estimators=10 \n",
      "[CV]  bootstrap=True, criterion=gini, max_depth=None, min_samples_leaf=1, min_samples_split=2, n_estimators=10, score=0.716, total=   0.0s\n",
      "[CV] bootstrap=True, criterion=gini, max_depth=None, min_samples_leaf=1, min_samples_split=2, n_estimators=10 \n",
      "[CV]  bootstrap=True, criterion=gini, max_depth=None, min_samples_leaf=1, min_samples_split=2, n_estimators=10, score=0.688, total=   0.0s\n",
      "[CV] bootstrap=True, criterion=gini, max_depth=None, min_samples_leaf=1, min_samples_split=2, n_estimators=10 \n",
      "[CV]  bootstrap=True, criterion=gini, max_depth=None, min_samples_leaf=1, min_samples_split=2, n_estimators=10, score=0.695, total=   0.0s\n",
      "[CV] bootstrap=True, criterion=gini, max_depth=None, min_samples_leaf=1, min_samples_split=2, n_estimators=20 \n",
      "[CV]  bootstrap=True, criterion=gini, max_depth=None, min_samples_leaf=1, min_samples_split=2, n_estimators=20, score=0.728, total=   0.0s\n",
      "[CV] bootstrap=True, criterion=gini, max_depth=None, min_samples_leaf=1, min_samples_split=2, n_estimators=20 \n"
     ]
    },
    {
     "name": "stderr",
     "output_type": "stream",
     "text": [
      "[Parallel(n_jobs=1)]: Using backend SequentialBackend with 1 concurrent workers.\n",
      "[Parallel(n_jobs=1)]: Done   1 out of   1 | elapsed:    0.0s remaining:    0.0s\n",
      "[Parallel(n_jobs=1)]: Done   2 out of   2 | elapsed:    0.0s remaining:    0.0s\n"
     ]
    },
    {
     "name": "stdout",
     "output_type": "stream",
     "text": [
      "[CV]  bootstrap=True, criterion=gini, max_depth=None, min_samples_leaf=1, min_samples_split=2, n_estimators=20, score=0.688, total=   0.1s\n",
      "[CV] bootstrap=True, criterion=gini, max_depth=None, min_samples_leaf=1, min_samples_split=2, n_estimators=20 \n",
      "[CV]  bootstrap=True, criterion=gini, max_depth=None, min_samples_leaf=1, min_samples_split=2, n_estimators=20, score=0.695, total=   0.1s\n",
      "[CV] bootstrap=True, criterion=gini, max_depth=None, min_samples_leaf=1, min_samples_split=2, n_estimators=50 \n",
      "[CV]  bootstrap=True, criterion=gini, max_depth=None, min_samples_leaf=1, min_samples_split=2, n_estimators=50, score=0.709, total=   0.1s\n",
      "[CV] bootstrap=True, criterion=gini, max_depth=None, min_samples_leaf=1, min_samples_split=2, n_estimators=50 \n",
      "[CV]  bootstrap=True, criterion=gini, max_depth=None, min_samples_leaf=1, min_samples_split=2, n_estimators=50, score=0.707, total=   0.1s\n",
      "[CV] bootstrap=True, criterion=gini, max_depth=None, min_samples_leaf=1, min_samples_split=2, n_estimators=50 \n",
      "[CV]  bootstrap=True, criterion=gini, max_depth=None, min_samples_leaf=1, min_samples_split=2, n_estimators=50, score=0.703, total=   0.1s\n",
      "[CV] bootstrap=True, criterion=gini, max_depth=None, min_samples_leaf=1, min_samples_split=5, n_estimators=5 \n",
      "[CV]  bootstrap=True, criterion=gini, max_depth=None, min_samples_leaf=1, min_samples_split=5, n_estimators=5, score=0.728, total=   0.0s\n",
      "[CV] bootstrap=True, criterion=gini, max_depth=None, min_samples_leaf=1, min_samples_split=5, n_estimators=5 \n",
      "[CV]  bootstrap=True, criterion=gini, max_depth=None, min_samples_leaf=1, min_samples_split=5, n_estimators=5, score=0.703, total=   0.0s\n",
      "[CV] bootstrap=True, criterion=gini, max_depth=None, min_samples_leaf=1, min_samples_split=5, n_estimators=5 \n",
      "[CV]  bootstrap=True, criterion=gini, max_depth=None, min_samples_leaf=1, min_samples_split=5, n_estimators=5, score=0.688, total=   0.0s\n",
      "[CV] bootstrap=True, criterion=gini, max_depth=None, min_samples_leaf=1, min_samples_split=5, n_estimators=10 \n",
      "[CV]  bootstrap=True, criterion=gini, max_depth=None, min_samples_leaf=1, min_samples_split=5, n_estimators=10, score=0.728, total=   0.0s\n",
      "[CV] bootstrap=True, criterion=gini, max_depth=None, min_samples_leaf=1, min_samples_split=5, n_estimators=10 \n",
      "[CV]  bootstrap=True, criterion=gini, max_depth=None, min_samples_leaf=1, min_samples_split=5, n_estimators=10, score=0.703, total=   0.0s\n",
      "[CV] bootstrap=True, criterion=gini, max_depth=None, min_samples_leaf=1, min_samples_split=5, n_estimators=10 \n",
      "[CV]  bootstrap=True, criterion=gini, max_depth=None, min_samples_leaf=1, min_samples_split=5, n_estimators=10, score=0.741, total=   0.0s\n",
      "[CV] bootstrap=True, criterion=gini, max_depth=None, min_samples_leaf=1, min_samples_split=5, n_estimators=20 \n",
      "[CV]  bootstrap=True, criterion=gini, max_depth=None, min_samples_leaf=1, min_samples_split=5, n_estimators=20, score=0.735, total=   0.0s\n",
      "[CV] bootstrap=True, criterion=gini, max_depth=None, min_samples_leaf=1, min_samples_split=5, n_estimators=20 \n",
      "[CV]  bootstrap=True, criterion=gini, max_depth=None, min_samples_leaf=1, min_samples_split=5, n_estimators=20, score=0.707, total=   0.0s\n",
      "[CV] bootstrap=True, criterion=gini, max_depth=None, min_samples_leaf=1, min_samples_split=5, n_estimators=20 \n",
      "[CV]  bootstrap=True, criterion=gini, max_depth=None, min_samples_leaf=1, min_samples_split=5, n_estimators=20, score=0.692, total=   0.0s\n",
      "[CV] bootstrap=True, criterion=gini, max_depth=None, min_samples_leaf=1, min_samples_split=5, n_estimators=50 \n",
      "[CV]  bootstrap=True, criterion=gini, max_depth=None, min_samples_leaf=1, min_samples_split=5, n_estimators=50, score=0.735, total=   0.1s\n",
      "[CV] bootstrap=True, criterion=gini, max_depth=None, min_samples_leaf=1, min_samples_split=5, n_estimators=50 \n",
      "[CV]  bootstrap=True, criterion=gini, max_depth=None, min_samples_leaf=1, min_samples_split=5, n_estimators=50, score=0.703, total=   0.1s\n",
      "[CV] bootstrap=True, criterion=gini, max_depth=None, min_samples_leaf=1, min_samples_split=5, n_estimators=50 \n",
      "[CV]  bootstrap=True, criterion=gini, max_depth=None, min_samples_leaf=1, min_samples_split=5, n_estimators=50, score=0.711, total=   0.1s\n",
      "[CV] bootstrap=True, criterion=gini, max_depth=None, min_samples_leaf=5, min_samples_split=2, n_estimators=5 \n",
      "[CV]  bootstrap=True, criterion=gini, max_depth=None, min_samples_leaf=5, min_samples_split=2, n_estimators=5, score=0.690, total=   0.0s\n",
      "[CV] bootstrap=True, criterion=gini, max_depth=None, min_samples_leaf=5, min_samples_split=2, n_estimators=5 \n",
      "[CV]  bootstrap=True, criterion=gini, max_depth=None, min_samples_leaf=5, min_samples_split=2, n_estimators=5, score=0.714, total=   0.0s\n",
      "[CV] bootstrap=True, criterion=gini, max_depth=None, min_samples_leaf=5, min_samples_split=2, n_estimators=5 \n",
      "[CV]  bootstrap=True, criterion=gini, max_depth=None, min_samples_leaf=5, min_samples_split=2, n_estimators=5, score=0.741, total=   0.0s\n",
      "[CV] bootstrap=True, criterion=gini, max_depth=None, min_samples_leaf=5, min_samples_split=2, n_estimators=10 \n",
      "[CV]  bootstrap=True, criterion=gini, max_depth=None, min_samples_leaf=5, min_samples_split=2, n_estimators=10, score=0.720, total=   0.0s\n",
      "[CV] bootstrap=True, criterion=gini, max_depth=None, min_samples_leaf=5, min_samples_split=2, n_estimators=10 \n",
      "[CV]  bootstrap=True, criterion=gini, max_depth=None, min_samples_leaf=5, min_samples_split=2, n_estimators=10, score=0.726, total=   0.0s\n",
      "[CV] bootstrap=True, criterion=gini, max_depth=None, min_samples_leaf=5, min_samples_split=2, n_estimators=10 \n",
      "[CV]  bootstrap=True, criterion=gini, max_depth=None, min_samples_leaf=5, min_samples_split=2, n_estimators=10, score=0.748, total=   0.0s\n",
      "[CV] bootstrap=True, criterion=gini, max_depth=None, min_samples_leaf=5, min_samples_split=2, n_estimators=20 \n",
      "[CV]  bootstrap=True, criterion=gini, max_depth=None, min_samples_leaf=5, min_samples_split=2, n_estimators=20, score=0.713, total=   0.0s\n",
      "[CV] bootstrap=True, criterion=gini, max_depth=None, min_samples_leaf=5, min_samples_split=2, n_estimators=20 \n",
      "[CV]  bootstrap=True, criterion=gini, max_depth=None, min_samples_leaf=5, min_samples_split=2, n_estimators=20, score=0.726, total=   0.0s\n",
      "[CV] bootstrap=True, criterion=gini, max_depth=None, min_samples_leaf=5, min_samples_split=2, n_estimators=20 \n",
      "[CV]  bootstrap=True, criterion=gini, max_depth=None, min_samples_leaf=5, min_samples_split=2, n_estimators=20, score=0.744, total=   0.0s\n",
      "[CV] bootstrap=True, criterion=gini, max_depth=None, min_samples_leaf=5, min_samples_split=2, n_estimators=50 \n",
      "[CV]  bootstrap=True, criterion=gini, max_depth=None, min_samples_leaf=5, min_samples_split=2, n_estimators=50, score=0.728, total=   0.1s\n",
      "[CV] bootstrap=True, criterion=gini, max_depth=None, min_samples_leaf=5, min_samples_split=2, n_estimators=50 \n",
      "[CV]  bootstrap=True, criterion=gini, max_depth=None, min_samples_leaf=5, min_samples_split=2, n_estimators=50, score=0.733, total=   0.1s\n",
      "[CV] bootstrap=True, criterion=gini, max_depth=None, min_samples_leaf=5, min_samples_split=2, n_estimators=50 \n",
      "[CV]  bootstrap=True, criterion=gini, max_depth=None, min_samples_leaf=5, min_samples_split=2, n_estimators=50, score=0.744, total=   0.1s\n",
      "[CV] bootstrap=True, criterion=gini, max_depth=None, min_samples_leaf=5, min_samples_split=5, n_estimators=5 \n",
      "[CV]  bootstrap=True, criterion=gini, max_depth=None, min_samples_leaf=5, min_samples_split=5, n_estimators=5, score=0.690, total=   0.0s\n",
      "[CV] bootstrap=True, criterion=gini, max_depth=None, min_samples_leaf=5, min_samples_split=5, n_estimators=5 \n",
      "[CV]  bootstrap=True, criterion=gini, max_depth=None, min_samples_leaf=5, min_samples_split=5, n_estimators=5, score=0.729, total=   0.0s\n",
      "[CV] bootstrap=True, criterion=gini, max_depth=None, min_samples_leaf=5, min_samples_split=5, n_estimators=5 \n",
      "[CV]  bootstrap=True, criterion=gini, max_depth=None, min_samples_leaf=5, min_samples_split=5, n_estimators=5, score=0.703, total=   0.0s\n",
      "[CV] bootstrap=True, criterion=gini, max_depth=None, min_samples_leaf=5, min_samples_split=5, n_estimators=10 \n",
      "[CV]  bootstrap=True, criterion=gini, max_depth=None, min_samples_leaf=5, min_samples_split=5, n_estimators=10, score=0.698, total=   0.0s\n",
      "[CV] bootstrap=True, criterion=gini, max_depth=None, min_samples_leaf=5, min_samples_split=5, n_estimators=10 \n",
      "[CV]  bootstrap=True, criterion=gini, max_depth=None, min_samples_leaf=5, min_samples_split=5, n_estimators=10, score=0.714, total=   0.0s\n",
      "[CV] bootstrap=True, criterion=gini, max_depth=None, min_samples_leaf=5, min_samples_split=5, n_estimators=10 \n",
      "[CV]  bootstrap=True, criterion=gini, max_depth=None, min_samples_leaf=5, min_samples_split=5, n_estimators=10, score=0.692, total=   0.0s\n",
      "[CV] bootstrap=True, criterion=gini, max_depth=None, min_samples_leaf=5, min_samples_split=5, n_estimators=20 \n",
      "[CV]  bootstrap=True, criterion=gini, max_depth=None, min_samples_leaf=5, min_samples_split=5, n_estimators=20, score=0.698, total=   0.0s\n",
      "[CV] bootstrap=True, criterion=gini, max_depth=None, min_samples_leaf=5, min_samples_split=5, n_estimators=20 \n",
      "[CV]  bootstrap=True, criterion=gini, max_depth=None, min_samples_leaf=5, min_samples_split=5, n_estimators=20, score=0.714, total=   0.0s\n",
      "[CV] bootstrap=True, criterion=gini, max_depth=None, min_samples_leaf=5, min_samples_split=5, n_estimators=20 \n"
     ]
    },
    {
     "name": "stdout",
     "output_type": "stream",
     "text": [
      "[CV]  bootstrap=True, criterion=gini, max_depth=None, min_samples_leaf=5, min_samples_split=5, n_estimators=20, score=0.733, total=   0.1s\n",
      "[CV] bootstrap=True, criterion=gini, max_depth=None, min_samples_leaf=5, min_samples_split=5, n_estimators=50 \n",
      "[CV]  bootstrap=True, criterion=gini, max_depth=None, min_samples_leaf=5, min_samples_split=5, n_estimators=50, score=0.731, total=   0.1s\n",
      "[CV] bootstrap=True, criterion=gini, max_depth=None, min_samples_leaf=5, min_samples_split=5, n_estimators=50 \n",
      "[CV]  bootstrap=True, criterion=gini, max_depth=None, min_samples_leaf=5, min_samples_split=5, n_estimators=50, score=0.737, total=   0.1s\n",
      "[CV] bootstrap=True, criterion=gini, max_depth=None, min_samples_leaf=5, min_samples_split=5, n_estimators=50 \n",
      "[CV]  bootstrap=True, criterion=gini, max_depth=None, min_samples_leaf=5, min_samples_split=5, n_estimators=50, score=0.759, total=   0.1s\n",
      "[CV] bootstrap=True, criterion=gini, max_depth=5, min_samples_leaf=1, min_samples_split=2, n_estimators=5 \n",
      "[CV]  bootstrap=True, criterion=gini, max_depth=5, min_samples_leaf=1, min_samples_split=2, n_estimators=5, score=0.716, total=   0.0s\n",
      "[CV] bootstrap=True, criterion=gini, max_depth=5, min_samples_leaf=1, min_samples_split=2, n_estimators=5 \n",
      "[CV]  bootstrap=True, criterion=gini, max_depth=5, min_samples_leaf=1, min_samples_split=2, n_estimators=5, score=0.714, total=   0.0s\n",
      "[CV] bootstrap=True, criterion=gini, max_depth=5, min_samples_leaf=1, min_samples_split=2, n_estimators=5 \n",
      "[CV]  bootstrap=True, criterion=gini, max_depth=5, min_samples_leaf=1, min_samples_split=2, n_estimators=5, score=0.737, total=   0.0s\n",
      "[CV] bootstrap=True, criterion=gini, max_depth=5, min_samples_leaf=1, min_samples_split=2, n_estimators=10 \n",
      "[CV]  bootstrap=True, criterion=gini, max_depth=5, min_samples_leaf=1, min_samples_split=2, n_estimators=10, score=0.713, total=   0.0s\n",
      "[CV] bootstrap=True, criterion=gini, max_depth=5, min_samples_leaf=1, min_samples_split=2, n_estimators=10 \n",
      "[CV]  bootstrap=True, criterion=gini, max_depth=5, min_samples_leaf=1, min_samples_split=2, n_estimators=10, score=0.714, total=   0.0s\n",
      "[CV] bootstrap=True, criterion=gini, max_depth=5, min_samples_leaf=1, min_samples_split=2, n_estimators=10 \n",
      "[CV]  bootstrap=True, criterion=gini, max_depth=5, min_samples_leaf=1, min_samples_split=2, n_estimators=10, score=0.714, total=   0.0s\n",
      "[CV] bootstrap=True, criterion=gini, max_depth=5, min_samples_leaf=1, min_samples_split=2, n_estimators=20 \n",
      "[CV]  bootstrap=True, criterion=gini, max_depth=5, min_samples_leaf=1, min_samples_split=2, n_estimators=20, score=0.720, total=   0.0s\n",
      "[CV] bootstrap=True, criterion=gini, max_depth=5, min_samples_leaf=1, min_samples_split=2, n_estimators=20 \n",
      "[CV]  bootstrap=True, criterion=gini, max_depth=5, min_samples_leaf=1, min_samples_split=2, n_estimators=20, score=0.718, total=   0.0s\n",
      "[CV] bootstrap=True, criterion=gini, max_depth=5, min_samples_leaf=1, min_samples_split=2, n_estimators=20 \n",
      "[CV]  bootstrap=True, criterion=gini, max_depth=5, min_samples_leaf=1, min_samples_split=2, n_estimators=20, score=0.729, total=   0.0s\n",
      "[CV] bootstrap=True, criterion=gini, max_depth=5, min_samples_leaf=1, min_samples_split=2, n_estimators=50 \n",
      "[CV]  bootstrap=True, criterion=gini, max_depth=5, min_samples_leaf=1, min_samples_split=2, n_estimators=50, score=0.713, total=   0.1s\n",
      "[CV] bootstrap=True, criterion=gini, max_depth=5, min_samples_leaf=1, min_samples_split=2, n_estimators=50 \n",
      "[CV]  bootstrap=True, criterion=gini, max_depth=5, min_samples_leaf=1, min_samples_split=2, n_estimators=50, score=0.714, total=   0.0s\n",
      "[CV] bootstrap=True, criterion=gini, max_depth=5, min_samples_leaf=1, min_samples_split=2, n_estimators=50 \n",
      "[CV]  bootstrap=True, criterion=gini, max_depth=5, min_samples_leaf=1, min_samples_split=2, n_estimators=50, score=0.737, total=   0.1s\n",
      "[CV] bootstrap=True, criterion=gini, max_depth=5, min_samples_leaf=1, min_samples_split=5, n_estimators=5 \n",
      "[CV]  bootstrap=True, criterion=gini, max_depth=5, min_samples_leaf=1, min_samples_split=5, n_estimators=5, score=0.731, total=   0.0s\n",
      "[CV] bootstrap=True, criterion=gini, max_depth=5, min_samples_leaf=1, min_samples_split=5, n_estimators=5 \n",
      "[CV]  bootstrap=True, criterion=gini, max_depth=5, min_samples_leaf=1, min_samples_split=5, n_estimators=5, score=0.722, total=   0.0s\n",
      "[CV] bootstrap=True, criterion=gini, max_depth=5, min_samples_leaf=1, min_samples_split=5, n_estimators=5 \n",
      "[CV]  bootstrap=True, criterion=gini, max_depth=5, min_samples_leaf=1, min_samples_split=5, n_estimators=5, score=0.733, total=   0.0s\n",
      "[CV] bootstrap=True, criterion=gini, max_depth=5, min_samples_leaf=1, min_samples_split=5, n_estimators=10 \n",
      "[CV]  bootstrap=True, criterion=gini, max_depth=5, min_samples_leaf=1, min_samples_split=5, n_estimators=10, score=0.731, total=   0.0s\n",
      "[CV] bootstrap=True, criterion=gini, max_depth=5, min_samples_leaf=1, min_samples_split=5, n_estimators=10 \n",
      "[CV]  bootstrap=True, criterion=gini, max_depth=5, min_samples_leaf=1, min_samples_split=5, n_estimators=10, score=0.711, total=   0.0s\n",
      "[CV] bootstrap=True, criterion=gini, max_depth=5, min_samples_leaf=1, min_samples_split=5, n_estimators=10 \n",
      "[CV]  bootstrap=True, criterion=gini, max_depth=5, min_samples_leaf=1, min_samples_split=5, n_estimators=10, score=0.714, total=   0.0s\n",
      "[CV] bootstrap=True, criterion=gini, max_depth=5, min_samples_leaf=1, min_samples_split=5, n_estimators=20 \n",
      "[CV]  bootstrap=True, criterion=gini, max_depth=5, min_samples_leaf=1, min_samples_split=5, n_estimators=20, score=0.698, total=   0.0s\n",
      "[CV] bootstrap=True, criterion=gini, max_depth=5, min_samples_leaf=1, min_samples_split=5, n_estimators=20 \n",
      "[CV]  bootstrap=True, criterion=gini, max_depth=5, min_samples_leaf=1, min_samples_split=5, n_estimators=20, score=0.714, total=   0.1s\n",
      "[CV] bootstrap=True, criterion=gini, max_depth=5, min_samples_leaf=1, min_samples_split=5, n_estimators=20 \n",
      "[CV]  bootstrap=True, criterion=gini, max_depth=5, min_samples_leaf=1, min_samples_split=5, n_estimators=20, score=0.722, total=   0.0s\n",
      "[CV] bootstrap=True, criterion=gini, max_depth=5, min_samples_leaf=1, min_samples_split=5, n_estimators=50 \n",
      "[CV]  bootstrap=True, criterion=gini, max_depth=5, min_samples_leaf=1, min_samples_split=5, n_estimators=50, score=0.701, total=   0.1s\n",
      "[CV] bootstrap=True, criterion=gini, max_depth=5, min_samples_leaf=1, min_samples_split=5, n_estimators=50 \n",
      "[CV]  bootstrap=True, criterion=gini, max_depth=5, min_samples_leaf=1, min_samples_split=5, n_estimators=50, score=0.714, total=   0.1s\n",
      "[CV] bootstrap=True, criterion=gini, max_depth=5, min_samples_leaf=1, min_samples_split=5, n_estimators=50 \n",
      "[CV]  bootstrap=True, criterion=gini, max_depth=5, min_samples_leaf=1, min_samples_split=5, n_estimators=50, score=0.737, total=   0.1s\n",
      "[CV] bootstrap=True, criterion=gini, max_depth=5, min_samples_leaf=5, min_samples_split=2, n_estimators=5 \n",
      "[CV]  bootstrap=True, criterion=gini, max_depth=5, min_samples_leaf=5, min_samples_split=2, n_estimators=5, score=0.713, total=   0.0s\n",
      "[CV] bootstrap=True, criterion=gini, max_depth=5, min_samples_leaf=5, min_samples_split=2, n_estimators=5 \n",
      "[CV]  bootstrap=True, criterion=gini, max_depth=5, min_samples_leaf=5, min_samples_split=2, n_estimators=5, score=0.726, total=   0.0s\n",
      "[CV] bootstrap=True, criterion=gini, max_depth=5, min_samples_leaf=5, min_samples_split=2, n_estimators=5 \n",
      "[CV]  bootstrap=True, criterion=gini, max_depth=5, min_samples_leaf=5, min_samples_split=2, n_estimators=5, score=0.718, total=   0.0s\n",
      "[CV] bootstrap=True, criterion=gini, max_depth=5, min_samples_leaf=5, min_samples_split=2, n_estimators=10 \n",
      "[CV]  bootstrap=True, criterion=gini, max_depth=5, min_samples_leaf=5, min_samples_split=2, n_estimators=10, score=0.724, total=   0.0s\n",
      "[CV] bootstrap=True, criterion=gini, max_depth=5, min_samples_leaf=5, min_samples_split=2, n_estimators=10 \n",
      "[CV]  bootstrap=True, criterion=gini, max_depth=5, min_samples_leaf=5, min_samples_split=2, n_estimators=10, score=0.737, total=   0.0s\n",
      "[CV] bootstrap=True, criterion=gini, max_depth=5, min_samples_leaf=5, min_samples_split=2, n_estimators=10 \n",
      "[CV]  bootstrap=True, criterion=gini, max_depth=5, min_samples_leaf=5, min_samples_split=2, n_estimators=10, score=0.707, total=   0.0s\n",
      "[CV] bootstrap=True, criterion=gini, max_depth=5, min_samples_leaf=5, min_samples_split=2, n_estimators=20 \n",
      "[CV]  bootstrap=True, criterion=gini, max_depth=5, min_samples_leaf=5, min_samples_split=2, n_estimators=20, score=0.701, total=   0.0s\n",
      "[CV] bootstrap=True, criterion=gini, max_depth=5, min_samples_leaf=5, min_samples_split=2, n_estimators=20 \n",
      "[CV]  bootstrap=True, criterion=gini, max_depth=5, min_samples_leaf=5, min_samples_split=2, n_estimators=20, score=0.729, total=   0.0s\n",
      "[CV] bootstrap=True, criterion=gini, max_depth=5, min_samples_leaf=5, min_samples_split=2, n_estimators=20 \n",
      "[CV]  bootstrap=True, criterion=gini, max_depth=5, min_samples_leaf=5, min_samples_split=2, n_estimators=20, score=0.744, total=   0.0s\n",
      "[CV] bootstrap=True, criterion=gini, max_depth=5, min_samples_leaf=5, min_samples_split=2, n_estimators=50 \n"
     ]
    },
    {
     "name": "stdout",
     "output_type": "stream",
     "text": [
      "[CV]  bootstrap=True, criterion=gini, max_depth=5, min_samples_leaf=5, min_samples_split=2, n_estimators=50, score=0.720, total=   0.1s\n",
      "[CV] bootstrap=True, criterion=gini, max_depth=5, min_samples_leaf=5, min_samples_split=2, n_estimators=50 \n",
      "[CV]  bootstrap=True, criterion=gini, max_depth=5, min_samples_leaf=5, min_samples_split=2, n_estimators=50, score=0.737, total=   0.1s\n",
      "[CV] bootstrap=True, criterion=gini, max_depth=5, min_samples_leaf=5, min_samples_split=2, n_estimators=50 \n",
      "[CV]  bootstrap=True, criterion=gini, max_depth=5, min_samples_leaf=5, min_samples_split=2, n_estimators=50, score=0.737, total=   0.1s\n",
      "[CV] bootstrap=True, criterion=gini, max_depth=5, min_samples_leaf=5, min_samples_split=5, n_estimators=5 \n",
      "[CV]  bootstrap=True, criterion=gini, max_depth=5, min_samples_leaf=5, min_samples_split=5, n_estimators=5, score=0.709, total=   0.0s\n",
      "[CV] bootstrap=True, criterion=gini, max_depth=5, min_samples_leaf=5, min_samples_split=5, n_estimators=5 \n",
      "[CV]  bootstrap=True, criterion=gini, max_depth=5, min_samples_leaf=5, min_samples_split=5, n_estimators=5, score=0.718, total=   0.0s\n",
      "[CV] bootstrap=True, criterion=gini, max_depth=5, min_samples_leaf=5, min_samples_split=5, n_estimators=5 \n",
      "[CV]  bootstrap=True, criterion=gini, max_depth=5, min_samples_leaf=5, min_samples_split=5, n_estimators=5, score=0.711, total=   0.0s\n",
      "[CV] bootstrap=True, criterion=gini, max_depth=5, min_samples_leaf=5, min_samples_split=5, n_estimators=10 \n",
      "[CV]  bootstrap=True, criterion=gini, max_depth=5, min_samples_leaf=5, min_samples_split=5, n_estimators=10, score=0.716, total=   0.0s\n",
      "[CV] bootstrap=True, criterion=gini, max_depth=5, min_samples_leaf=5, min_samples_split=5, n_estimators=10 \n",
      "[CV]  bootstrap=True, criterion=gini, max_depth=5, min_samples_leaf=5, min_samples_split=5, n_estimators=10, score=0.684, total=   0.0s\n",
      "[CV] bootstrap=True, criterion=gini, max_depth=5, min_samples_leaf=5, min_samples_split=5, n_estimators=10 \n",
      "[CV]  bootstrap=True, criterion=gini, max_depth=5, min_samples_leaf=5, min_samples_split=5, n_estimators=10, score=0.744, total=   0.0s\n",
      "[CV] bootstrap=True, criterion=gini, max_depth=5, min_samples_leaf=5, min_samples_split=5, n_estimators=20 \n",
      "[CV]  bootstrap=True, criterion=gini, max_depth=5, min_samples_leaf=5, min_samples_split=5, n_estimators=20, score=0.728, total=   0.0s\n",
      "[CV] bootstrap=True, criterion=gini, max_depth=5, min_samples_leaf=5, min_samples_split=5, n_estimators=20 \n",
      "[CV]  bootstrap=True, criterion=gini, max_depth=5, min_samples_leaf=5, min_samples_split=5, n_estimators=20, score=0.714, total=   0.0s\n",
      "[CV] bootstrap=True, criterion=gini, max_depth=5, min_samples_leaf=5, min_samples_split=5, n_estimators=20 \n",
      "[CV]  bootstrap=True, criterion=gini, max_depth=5, min_samples_leaf=5, min_samples_split=5, n_estimators=20, score=0.718, total=   0.0s\n",
      "[CV] bootstrap=True, criterion=gini, max_depth=5, min_samples_leaf=5, min_samples_split=5, n_estimators=50 \n",
      "[CV]  bootstrap=True, criterion=gini, max_depth=5, min_samples_leaf=5, min_samples_split=5, n_estimators=50, score=0.720, total=   0.1s\n",
      "[CV] bootstrap=True, criterion=gini, max_depth=5, min_samples_leaf=5, min_samples_split=5, n_estimators=50 \n",
      "[CV]  bootstrap=True, criterion=gini, max_depth=5, min_samples_leaf=5, min_samples_split=5, n_estimators=50, score=0.741, total=   0.1s\n",
      "[CV] bootstrap=True, criterion=gini, max_depth=5, min_samples_leaf=5, min_samples_split=5, n_estimators=50 \n",
      "[CV]  bootstrap=True, criterion=gini, max_depth=5, min_samples_leaf=5, min_samples_split=5, n_estimators=50, score=0.729, total=   0.1s\n",
      "[CV] bootstrap=True, criterion=gini, max_depth=10, min_samples_leaf=1, min_samples_split=2, n_estimators=5 \n",
      "[CV]  bootstrap=True, criterion=gini, max_depth=10, min_samples_leaf=1, min_samples_split=2, n_estimators=5, score=0.716, total=   0.0s\n",
      "[CV] bootstrap=True, criterion=gini, max_depth=10, min_samples_leaf=1, min_samples_split=2, n_estimators=5 \n",
      "[CV]  bootstrap=True, criterion=gini, max_depth=10, min_samples_leaf=1, min_samples_split=2, n_estimators=5, score=0.695, total=   0.0s\n",
      "[CV] bootstrap=True, criterion=gini, max_depth=10, min_samples_leaf=1, min_samples_split=2, n_estimators=5 \n",
      "[CV]  bootstrap=True, criterion=gini, max_depth=10, min_samples_leaf=1, min_samples_split=2, n_estimators=5, score=0.684, total=   0.0s\n",
      "[CV] bootstrap=True, criterion=gini, max_depth=10, min_samples_leaf=1, min_samples_split=2, n_estimators=10 \n",
      "[CV]  bootstrap=True, criterion=gini, max_depth=10, min_samples_leaf=1, min_samples_split=2, n_estimators=10, score=0.690, total=   0.0s\n",
      "[CV] bootstrap=True, criterion=gini, max_depth=10, min_samples_leaf=1, min_samples_split=2, n_estimators=10 \n",
      "[CV]  bootstrap=True, criterion=gini, max_depth=10, min_samples_leaf=1, min_samples_split=2, n_estimators=10, score=0.695, total=   0.0s\n",
      "[CV] bootstrap=True, criterion=gini, max_depth=10, min_samples_leaf=1, min_samples_split=2, n_estimators=10 \n",
      "[CV]  bootstrap=True, criterion=gini, max_depth=10, min_samples_leaf=1, min_samples_split=2, n_estimators=10, score=0.718, total=   0.0s\n",
      "[CV] bootstrap=True, criterion=gini, max_depth=10, min_samples_leaf=1, min_samples_split=2, n_estimators=20 \n",
      "[CV]  bootstrap=True, criterion=gini, max_depth=10, min_samples_leaf=1, min_samples_split=2, n_estimators=20, score=0.728, total=   0.0s\n",
      "[CV] bootstrap=True, criterion=gini, max_depth=10, min_samples_leaf=1, min_samples_split=2, n_estimators=20 \n",
      "[CV]  bootstrap=True, criterion=gini, max_depth=10, min_samples_leaf=1, min_samples_split=2, n_estimators=20, score=0.718, total=   0.0s\n",
      "[CV] bootstrap=True, criterion=gini, max_depth=10, min_samples_leaf=1, min_samples_split=2, n_estimators=20 \n",
      "[CV]  bootstrap=True, criterion=gini, max_depth=10, min_samples_leaf=1, min_samples_split=2, n_estimators=20, score=0.718, total=   0.0s\n",
      "[CV] bootstrap=True, criterion=gini, max_depth=10, min_samples_leaf=1, min_samples_split=2, n_estimators=50 \n",
      "[CV]  bootstrap=True, criterion=gini, max_depth=10, min_samples_leaf=1, min_samples_split=2, n_estimators=50, score=0.720, total=   0.1s\n",
      "[CV] bootstrap=True, criterion=gini, max_depth=10, min_samples_leaf=1, min_samples_split=2, n_estimators=50 \n",
      "[CV]  bootstrap=True, criterion=gini, max_depth=10, min_samples_leaf=1, min_samples_split=2, n_estimators=50, score=0.726, total=   0.1s\n",
      "[CV] bootstrap=True, criterion=gini, max_depth=10, min_samples_leaf=1, min_samples_split=2, n_estimators=50 \n",
      "[CV]  bootstrap=True, criterion=gini, max_depth=10, min_samples_leaf=1, min_samples_split=2, n_estimators=50, score=0.718, total=   0.1s\n",
      "[CV] bootstrap=True, criterion=gini, max_depth=10, min_samples_leaf=1, min_samples_split=5, n_estimators=5 \n",
      "[CV]  bootstrap=True, criterion=gini, max_depth=10, min_samples_leaf=1, min_samples_split=5, n_estimators=5, score=0.690, total=   0.0s\n",
      "[CV] bootstrap=True, criterion=gini, max_depth=10, min_samples_leaf=1, min_samples_split=5, n_estimators=5 \n",
      "[CV]  bootstrap=True, criterion=gini, max_depth=10, min_samples_leaf=1, min_samples_split=5, n_estimators=5, score=0.673, total=   0.0s\n",
      "[CV] bootstrap=True, criterion=gini, max_depth=10, min_samples_leaf=1, min_samples_split=5, n_estimators=5 \n",
      "[CV]  bootstrap=True, criterion=gini, max_depth=10, min_samples_leaf=1, min_samples_split=5, n_estimators=5, score=0.684, total=   0.0s\n",
      "[CV] bootstrap=True, criterion=gini, max_depth=10, min_samples_leaf=1, min_samples_split=5, n_estimators=10 \n",
      "[CV]  bootstrap=True, criterion=gini, max_depth=10, min_samples_leaf=1, min_samples_split=5, n_estimators=10, score=0.698, total=   0.0s\n",
      "[CV] bootstrap=True, criterion=gini, max_depth=10, min_samples_leaf=1, min_samples_split=5, n_estimators=10 \n",
      "[CV]  bootstrap=True, criterion=gini, max_depth=10, min_samples_leaf=1, min_samples_split=5, n_estimators=10, score=0.722, total=   0.0s\n",
      "[CV] bootstrap=True, criterion=gini, max_depth=10, min_samples_leaf=1, min_samples_split=5, n_estimators=10 \n",
      "[CV]  bootstrap=True, criterion=gini, max_depth=10, min_samples_leaf=1, min_samples_split=5, n_estimators=10, score=0.722, total=   0.0s\n",
      "[CV] bootstrap=True, criterion=gini, max_depth=10, min_samples_leaf=1, min_samples_split=5, n_estimators=20 \n",
      "[CV]  bootstrap=True, criterion=gini, max_depth=10, min_samples_leaf=1, min_samples_split=5, n_estimators=20, score=0.735, total=   0.0s\n",
      "[CV] bootstrap=True, criterion=gini, max_depth=10, min_samples_leaf=1, min_samples_split=5, n_estimators=20 \n",
      "[CV]  bootstrap=True, criterion=gini, max_depth=10, min_samples_leaf=1, min_samples_split=5, n_estimators=20, score=0.707, total=   0.1s\n",
      "[CV] bootstrap=True, criterion=gini, max_depth=10, min_samples_leaf=1, min_samples_split=5, n_estimators=20 \n"
     ]
    },
    {
     "name": "stdout",
     "output_type": "stream",
     "text": [
      "[CV]  bootstrap=True, criterion=gini, max_depth=10, min_samples_leaf=1, min_samples_split=5, n_estimators=20, score=0.699, total=   0.0s\n",
      "[CV] bootstrap=True, criterion=gini, max_depth=10, min_samples_leaf=1, min_samples_split=5, n_estimators=50 \n",
      "[CV]  bootstrap=True, criterion=gini, max_depth=10, min_samples_leaf=1, min_samples_split=5, n_estimators=50, score=0.709, total=   0.1s\n",
      "[CV] bootstrap=True, criterion=gini, max_depth=10, min_samples_leaf=1, min_samples_split=5, n_estimators=50 \n",
      "[CV]  bootstrap=True, criterion=gini, max_depth=10, min_samples_leaf=1, min_samples_split=5, n_estimators=50, score=0.714, total=   0.1s\n",
      "[CV] bootstrap=True, criterion=gini, max_depth=10, min_samples_leaf=1, min_samples_split=5, n_estimators=50 \n",
      "[CV]  bootstrap=True, criterion=gini, max_depth=10, min_samples_leaf=1, min_samples_split=5, n_estimators=50, score=0.718, total=   0.1s\n",
      "[CV] bootstrap=True, criterion=gini, max_depth=10, min_samples_leaf=5, min_samples_split=2, n_estimators=5 \n",
      "[CV]  bootstrap=True, criterion=gini, max_depth=10, min_samples_leaf=5, min_samples_split=2, n_estimators=5, score=0.698, total=   0.0s\n",
      "[CV] bootstrap=True, criterion=gini, max_depth=10, min_samples_leaf=5, min_samples_split=2, n_estimators=5 \n",
      "[CV]  bootstrap=True, criterion=gini, max_depth=10, min_samples_leaf=5, min_samples_split=2, n_estimators=5, score=0.718, total=   0.0s\n",
      "[CV] bootstrap=True, criterion=gini, max_depth=10, min_samples_leaf=5, min_samples_split=2, n_estimators=5 \n",
      "[CV]  bootstrap=True, criterion=gini, max_depth=10, min_samples_leaf=5, min_samples_split=2, n_estimators=5, score=0.726, total=   0.0s\n",
      "[CV] bootstrap=True, criterion=gini, max_depth=10, min_samples_leaf=5, min_samples_split=2, n_estimators=10 \n",
      "[CV]  bootstrap=True, criterion=gini, max_depth=10, min_samples_leaf=5, min_samples_split=2, n_estimators=10, score=0.713, total=   0.0s\n",
      "[CV] bootstrap=True, criterion=gini, max_depth=10, min_samples_leaf=5, min_samples_split=2, n_estimators=10 \n",
      "[CV]  bootstrap=True, criterion=gini, max_depth=10, min_samples_leaf=5, min_samples_split=2, n_estimators=10, score=0.714, total=   0.0s\n",
      "[CV] bootstrap=True, criterion=gini, max_depth=10, min_samples_leaf=5, min_samples_split=2, n_estimators=10 \n",
      "[CV]  bootstrap=True, criterion=gini, max_depth=10, min_samples_leaf=5, min_samples_split=2, n_estimators=10, score=0.711, total=   0.0s\n",
      "[CV] bootstrap=True, criterion=gini, max_depth=10, min_samples_leaf=5, min_samples_split=2, n_estimators=20 \n",
      "[CV]  bootstrap=True, criterion=gini, max_depth=10, min_samples_leaf=5, min_samples_split=2, n_estimators=20, score=0.720, total=   0.1s\n",
      "[CV] bootstrap=True, criterion=gini, max_depth=10, min_samples_leaf=5, min_samples_split=2, n_estimators=20 \n",
      "[CV]  bootstrap=True, criterion=gini, max_depth=10, min_samples_leaf=5, min_samples_split=2, n_estimators=20, score=0.703, total=   0.0s\n",
      "[CV] bootstrap=True, criterion=gini, max_depth=10, min_samples_leaf=5, min_samples_split=2, n_estimators=20 \n",
      "[CV]  bootstrap=True, criterion=gini, max_depth=10, min_samples_leaf=5, min_samples_split=2, n_estimators=20, score=0.756, total=   0.0s\n",
      "[CV] bootstrap=True, criterion=gini, max_depth=10, min_samples_leaf=5, min_samples_split=2, n_estimators=50 \n",
      "[CV]  bootstrap=True, criterion=gini, max_depth=10, min_samples_leaf=5, min_samples_split=2, n_estimators=50, score=0.720, total=   0.1s\n",
      "[CV] bootstrap=True, criterion=gini, max_depth=10, min_samples_leaf=5, min_samples_split=2, n_estimators=50 \n",
      "[CV]  bootstrap=True, criterion=gini, max_depth=10, min_samples_leaf=5, min_samples_split=2, n_estimators=50, score=0.718, total=   0.1s\n",
      "[CV] bootstrap=True, criterion=gini, max_depth=10, min_samples_leaf=5, min_samples_split=2, n_estimators=50 \n",
      "[CV]  bootstrap=True, criterion=gini, max_depth=10, min_samples_leaf=5, min_samples_split=2, n_estimators=50, score=0.733, total=   0.1s\n",
      "[CV] bootstrap=True, criterion=gini, max_depth=10, min_samples_leaf=5, min_samples_split=5, n_estimators=5 \n",
      "[CV]  bootstrap=True, criterion=gini, max_depth=10, min_samples_leaf=5, min_samples_split=5, n_estimators=5, score=0.716, total=   0.0s\n",
      "[CV] bootstrap=True, criterion=gini, max_depth=10, min_samples_leaf=5, min_samples_split=5, n_estimators=5 \n",
      "[CV]  bootstrap=True, criterion=gini, max_depth=10, min_samples_leaf=5, min_samples_split=5, n_estimators=5, score=0.692, total=   0.0s\n",
      "[CV] bootstrap=True, criterion=gini, max_depth=10, min_samples_leaf=5, min_samples_split=5, n_estimators=5 \n",
      "[CV]  bootstrap=True, criterion=gini, max_depth=10, min_samples_leaf=5, min_samples_split=5, n_estimators=5, score=0.729, total=   0.0s\n",
      "[CV] bootstrap=True, criterion=gini, max_depth=10, min_samples_leaf=5, min_samples_split=5, n_estimators=10 \n",
      "[CV]  bootstrap=True, criterion=gini, max_depth=10, min_samples_leaf=5, min_samples_split=5, n_estimators=10, score=0.713, total=   0.0s\n",
      "[CV] bootstrap=True, criterion=gini, max_depth=10, min_samples_leaf=5, min_samples_split=5, n_estimators=10 \n",
      "[CV]  bootstrap=True, criterion=gini, max_depth=10, min_samples_leaf=5, min_samples_split=5, n_estimators=10, score=0.722, total=   0.0s\n",
      "[CV] bootstrap=True, criterion=gini, max_depth=10, min_samples_leaf=5, min_samples_split=5, n_estimators=10 \n",
      "[CV]  bootstrap=True, criterion=gini, max_depth=10, min_samples_leaf=5, min_samples_split=5, n_estimators=10, score=0.729, total=   0.0s\n",
      "[CV] bootstrap=True, criterion=gini, max_depth=10, min_samples_leaf=5, min_samples_split=5, n_estimators=20 \n",
      "[CV]  bootstrap=True, criterion=gini, max_depth=10, min_samples_leaf=5, min_samples_split=5, n_estimators=20, score=0.728, total=   0.0s\n",
      "[CV] bootstrap=True, criterion=gini, max_depth=10, min_samples_leaf=5, min_samples_split=5, n_estimators=20 \n",
      "[CV]  bootstrap=True, criterion=gini, max_depth=10, min_samples_leaf=5, min_samples_split=5, n_estimators=20, score=0.695, total=   0.0s\n",
      "[CV] bootstrap=True, criterion=gini, max_depth=10, min_samples_leaf=5, min_samples_split=5, n_estimators=20 \n",
      "[CV]  bootstrap=True, criterion=gini, max_depth=10, min_samples_leaf=5, min_samples_split=5, n_estimators=20, score=0.722, total=   0.0s\n",
      "[CV] bootstrap=True, criterion=gini, max_depth=10, min_samples_leaf=5, min_samples_split=5, n_estimators=50 \n",
      "[CV]  bootstrap=True, criterion=gini, max_depth=10, min_samples_leaf=5, min_samples_split=5, n_estimators=50, score=0.713, total=   0.1s\n",
      "[CV] bootstrap=True, criterion=gini, max_depth=10, min_samples_leaf=5, min_samples_split=5, n_estimators=50 \n",
      "[CV]  bootstrap=True, criterion=gini, max_depth=10, min_samples_leaf=5, min_samples_split=5, n_estimators=50, score=0.729, total=   0.1s\n",
      "[CV] bootstrap=True, criterion=gini, max_depth=10, min_samples_leaf=5, min_samples_split=5, n_estimators=50 \n",
      "[CV]  bootstrap=True, criterion=gini, max_depth=10, min_samples_leaf=5, min_samples_split=5, n_estimators=50, score=0.733, total=   0.1s\n",
      "[CV] bootstrap=True, criterion=gini, max_depth=15, min_samples_leaf=1, min_samples_split=2, n_estimators=5 \n",
      "[CV]  bootstrap=True, criterion=gini, max_depth=15, min_samples_leaf=1, min_samples_split=2, n_estimators=5, score=0.735, total=   0.0s\n",
      "[CV] bootstrap=True, criterion=gini, max_depth=15, min_samples_leaf=1, min_samples_split=2, n_estimators=5 \n",
      "[CV]  bootstrap=True, criterion=gini, max_depth=15, min_samples_leaf=1, min_samples_split=2, n_estimators=5, score=0.707, total=   0.0s\n",
      "[CV] bootstrap=True, criterion=gini, max_depth=15, min_samples_leaf=1, min_samples_split=2, n_estimators=5 \n",
      "[CV]  bootstrap=True, criterion=gini, max_depth=15, min_samples_leaf=1, min_samples_split=2, n_estimators=5, score=0.684, total=   0.0s\n",
      "[CV] bootstrap=True, criterion=gini, max_depth=15, min_samples_leaf=1, min_samples_split=2, n_estimators=10 \n",
      "[CV]  bootstrap=True, criterion=gini, max_depth=15, min_samples_leaf=1, min_samples_split=2, n_estimators=10, score=0.701, total=   0.0s\n",
      "[CV] bootstrap=True, criterion=gini, max_depth=15, min_samples_leaf=1, min_samples_split=2, n_estimators=10 \n",
      "[CV]  bootstrap=True, criterion=gini, max_depth=15, min_samples_leaf=1, min_samples_split=2, n_estimators=10, score=0.714, total=   0.0s\n",
      "[CV] bootstrap=True, criterion=gini, max_depth=15, min_samples_leaf=1, min_samples_split=2, n_estimators=10 \n",
      "[CV]  bootstrap=True, criterion=gini, max_depth=15, min_samples_leaf=1, min_samples_split=2, n_estimators=10, score=0.699, total=   0.0s\n",
      "[CV] bootstrap=True, criterion=gini, max_depth=15, min_samples_leaf=1, min_samples_split=2, n_estimators=20 \n",
      "[CV]  bootstrap=True, criterion=gini, max_depth=15, min_samples_leaf=1, min_samples_split=2, n_estimators=20, score=0.709, total=   0.0s\n",
      "[CV] bootstrap=True, criterion=gini, max_depth=15, min_samples_leaf=1, min_samples_split=2, n_estimators=20 \n",
      "[CV]  bootstrap=True, criterion=gini, max_depth=15, min_samples_leaf=1, min_samples_split=2, n_estimators=20, score=0.673, total=   0.1s\n",
      "[CV] bootstrap=True, criterion=gini, max_depth=15, min_samples_leaf=1, min_samples_split=2, n_estimators=20 \n"
     ]
    },
    {
     "name": "stdout",
     "output_type": "stream",
     "text": [
      "[CV]  bootstrap=True, criterion=gini, max_depth=15, min_samples_leaf=1, min_samples_split=2, n_estimators=20, score=0.714, total=   0.0s\n",
      "[CV] bootstrap=True, criterion=gini, max_depth=15, min_samples_leaf=1, min_samples_split=2, n_estimators=50 \n",
      "[CV]  bootstrap=True, criterion=gini, max_depth=15, min_samples_leaf=1, min_samples_split=2, n_estimators=50, score=0.724, total=   0.1s\n",
      "[CV] bootstrap=True, criterion=gini, max_depth=15, min_samples_leaf=1, min_samples_split=2, n_estimators=50 \n",
      "[CV]  bootstrap=True, criterion=gini, max_depth=15, min_samples_leaf=1, min_samples_split=2, n_estimators=50, score=0.726, total=   0.1s\n",
      "[CV] bootstrap=True, criterion=gini, max_depth=15, min_samples_leaf=1, min_samples_split=2, n_estimators=50 \n",
      "[CV]  bootstrap=True, criterion=gini, max_depth=15, min_samples_leaf=1, min_samples_split=2, n_estimators=50, score=0.699, total=   0.1s\n",
      "[CV] bootstrap=True, criterion=gini, max_depth=15, min_samples_leaf=1, min_samples_split=5, n_estimators=5 \n",
      "[CV]  bootstrap=True, criterion=gini, max_depth=15, min_samples_leaf=1, min_samples_split=5, n_estimators=5, score=0.683, total=   0.0s\n",
      "[CV] bootstrap=True, criterion=gini, max_depth=15, min_samples_leaf=1, min_samples_split=5, n_estimators=5 \n",
      "[CV]  bootstrap=True, criterion=gini, max_depth=15, min_samples_leaf=1, min_samples_split=5, n_estimators=5, score=0.680, total=   0.0s\n",
      "[CV] bootstrap=True, criterion=gini, max_depth=15, min_samples_leaf=1, min_samples_split=5, n_estimators=5 \n",
      "[CV]  bootstrap=True, criterion=gini, max_depth=15, min_samples_leaf=1, min_samples_split=5, n_estimators=5, score=0.692, total=   0.0s\n",
      "[CV] bootstrap=True, criterion=gini, max_depth=15, min_samples_leaf=1, min_samples_split=5, n_estimators=10 \n",
      "[CV]  bootstrap=True, criterion=gini, max_depth=15, min_samples_leaf=1, min_samples_split=5, n_estimators=10, score=0.728, total=   0.0s\n",
      "[CV] bootstrap=True, criterion=gini, max_depth=15, min_samples_leaf=1, min_samples_split=5, n_estimators=10 \n",
      "[CV]  bootstrap=True, criterion=gini, max_depth=15, min_samples_leaf=1, min_samples_split=5, n_estimators=10, score=0.695, total=   0.0s\n",
      "[CV] bootstrap=True, criterion=gini, max_depth=15, min_samples_leaf=1, min_samples_split=5, n_estimators=10 \n",
      "[CV]  bootstrap=True, criterion=gini, max_depth=15, min_samples_leaf=1, min_samples_split=5, n_estimators=10, score=0.669, total=   0.0s\n",
      "[CV] bootstrap=True, criterion=gini, max_depth=15, min_samples_leaf=1, min_samples_split=5, n_estimators=20 \n",
      "[CV]  bootstrap=True, criterion=gini, max_depth=15, min_samples_leaf=1, min_samples_split=5, n_estimators=20, score=0.709, total=   0.0s\n",
      "[CV] bootstrap=True, criterion=gini, max_depth=15, min_samples_leaf=1, min_samples_split=5, n_estimators=20 \n",
      "[CV]  bootstrap=True, criterion=gini, max_depth=15, min_samples_leaf=1, min_samples_split=5, n_estimators=20, score=0.695, total=   0.0s\n",
      "[CV] bootstrap=True, criterion=gini, max_depth=15, min_samples_leaf=1, min_samples_split=5, n_estimators=20 \n",
      "[CV]  bootstrap=True, criterion=gini, max_depth=15, min_samples_leaf=1, min_samples_split=5, n_estimators=20, score=0.695, total=   0.1s\n",
      "[CV] bootstrap=True, criterion=gini, max_depth=15, min_samples_leaf=1, min_samples_split=5, n_estimators=50 \n",
      "[CV]  bootstrap=True, criterion=gini, max_depth=15, min_samples_leaf=1, min_samples_split=5, n_estimators=50, score=0.724, total=   0.1s\n",
      "[CV] bootstrap=True, criterion=gini, max_depth=15, min_samples_leaf=1, min_samples_split=5, n_estimators=50 \n",
      "[CV]  bootstrap=True, criterion=gini, max_depth=15, min_samples_leaf=1, min_samples_split=5, n_estimators=50, score=0.707, total=   0.1s\n",
      "[CV] bootstrap=True, criterion=gini, max_depth=15, min_samples_leaf=1, min_samples_split=5, n_estimators=50 \n",
      "[CV]  bootstrap=True, criterion=gini, max_depth=15, min_samples_leaf=1, min_samples_split=5, n_estimators=50, score=0.729, total=   0.1s\n",
      "[CV] bootstrap=True, criterion=gini, max_depth=15, min_samples_leaf=5, min_samples_split=2, n_estimators=5 \n",
      "[CV]  bootstrap=True, criterion=gini, max_depth=15, min_samples_leaf=5, min_samples_split=2, n_estimators=5, score=0.698, total=   0.0s\n",
      "[CV] bootstrap=True, criterion=gini, max_depth=15, min_samples_leaf=5, min_samples_split=2, n_estimators=5 \n",
      "[CV]  bootstrap=True, criterion=gini, max_depth=15, min_samples_leaf=5, min_samples_split=2, n_estimators=5, score=0.711, total=   0.0s\n",
      "[CV] bootstrap=True, criterion=gini, max_depth=15, min_samples_leaf=5, min_samples_split=2, n_estimators=5 \n",
      "[CV]  bootstrap=True, criterion=gini, max_depth=15, min_samples_leaf=5, min_samples_split=2, n_estimators=5, score=0.718, total=   0.0s\n",
      "[CV] bootstrap=True, criterion=gini, max_depth=15, min_samples_leaf=5, min_samples_split=2, n_estimators=10 \n",
      "[CV]  bootstrap=True, criterion=gini, max_depth=15, min_samples_leaf=5, min_samples_split=2, n_estimators=10, score=0.735, total=   0.0s\n",
      "[CV] bootstrap=True, criterion=gini, max_depth=15, min_samples_leaf=5, min_samples_split=2, n_estimators=10 \n",
      "[CV]  bootstrap=True, criterion=gini, max_depth=15, min_samples_leaf=5, min_samples_split=2, n_estimators=10, score=0.726, total=   0.0s\n",
      "[CV] bootstrap=True, criterion=gini, max_depth=15, min_samples_leaf=5, min_samples_split=2, n_estimators=10 \n",
      "[CV]  bootstrap=True, criterion=gini, max_depth=15, min_samples_leaf=5, min_samples_split=2, n_estimators=10, score=0.733, total=   0.0s\n",
      "[CV] bootstrap=True, criterion=gini, max_depth=15, min_samples_leaf=5, min_samples_split=2, n_estimators=20 \n",
      "[CV]  bootstrap=True, criterion=gini, max_depth=15, min_samples_leaf=5, min_samples_split=2, n_estimators=20, score=0.720, total=   0.0s\n",
      "[CV] bootstrap=True, criterion=gini, max_depth=15, min_samples_leaf=5, min_samples_split=2, n_estimators=20 \n",
      "[CV]  bootstrap=True, criterion=gini, max_depth=15, min_samples_leaf=5, min_samples_split=2, n_estimators=20, score=0.688, total=   0.0s\n",
      "[CV] bootstrap=True, criterion=gini, max_depth=15, min_samples_leaf=5, min_samples_split=2, n_estimators=20 \n",
      "[CV]  bootstrap=True, criterion=gini, max_depth=15, min_samples_leaf=5, min_samples_split=2, n_estimators=20, score=0.744, total=   0.0s\n",
      "[CV] bootstrap=True, criterion=gini, max_depth=15, min_samples_leaf=5, min_samples_split=2, n_estimators=50 \n",
      "[CV]  bootstrap=True, criterion=gini, max_depth=15, min_samples_leaf=5, min_samples_split=2, n_estimators=50, score=0.724, total=   0.1s\n",
      "[CV] bootstrap=True, criterion=gini, max_depth=15, min_samples_leaf=5, min_samples_split=2, n_estimators=50 \n",
      "[CV]  bootstrap=True, criterion=gini, max_depth=15, min_samples_leaf=5, min_samples_split=2, n_estimators=50, score=0.737, total=   0.1s\n",
      "[CV] bootstrap=True, criterion=gini, max_depth=15, min_samples_leaf=5, min_samples_split=2, n_estimators=50 \n",
      "[CV]  bootstrap=True, criterion=gini, max_depth=15, min_samples_leaf=5, min_samples_split=2, n_estimators=50, score=0.748, total=   0.1s\n",
      "[CV] bootstrap=True, criterion=gini, max_depth=15, min_samples_leaf=5, min_samples_split=5, n_estimators=5 \n",
      "[CV]  bootstrap=True, criterion=gini, max_depth=15, min_samples_leaf=5, min_samples_split=5, n_estimators=5, score=0.701, total=   0.0s\n",
      "[CV] bootstrap=True, criterion=gini, max_depth=15, min_samples_leaf=5, min_samples_split=5, n_estimators=5 \n",
      "[CV]  bootstrap=True, criterion=gini, max_depth=15, min_samples_leaf=5, min_samples_split=5, n_estimators=5, score=0.726, total=   0.0s\n",
      "[CV] bootstrap=True, criterion=gini, max_depth=15, min_samples_leaf=5, min_samples_split=5, n_estimators=5 \n",
      "[CV]  bootstrap=True, criterion=gini, max_depth=15, min_samples_leaf=5, min_samples_split=5, n_estimators=5, score=0.718, total=   0.0s\n",
      "[CV] bootstrap=True, criterion=gini, max_depth=15, min_samples_leaf=5, min_samples_split=5, n_estimators=10 \n",
      "[CV]  bootstrap=True, criterion=gini, max_depth=15, min_samples_leaf=5, min_samples_split=5, n_estimators=10, score=0.705, total=   0.0s\n",
      "[CV] bootstrap=True, criterion=gini, max_depth=15, min_samples_leaf=5, min_samples_split=5, n_estimators=10 \n",
      "[CV]  bootstrap=True, criterion=gini, max_depth=15, min_samples_leaf=5, min_samples_split=5, n_estimators=10, score=0.707, total=   0.0s\n",
      "[CV] bootstrap=True, criterion=gini, max_depth=15, min_samples_leaf=5, min_samples_split=5, n_estimators=10 \n",
      "[CV]  bootstrap=True, criterion=gini, max_depth=15, min_samples_leaf=5, min_samples_split=5, n_estimators=10, score=0.703, total=   0.0s\n",
      "[CV] bootstrap=True, criterion=gini, max_depth=15, min_samples_leaf=5, min_samples_split=5, n_estimators=20 \n",
      "[CV]  bootstrap=True, criterion=gini, max_depth=15, min_samples_leaf=5, min_samples_split=5, n_estimators=20, score=0.731, total=   0.0s\n",
      "[CV] bootstrap=True, criterion=gini, max_depth=15, min_samples_leaf=5, min_samples_split=5, n_estimators=20 \n",
      "[CV]  bootstrap=True, criterion=gini, max_depth=15, min_samples_leaf=5, min_samples_split=5, n_estimators=20, score=0.692, total=   0.0s\n",
      "[CV] bootstrap=True, criterion=gini, max_depth=15, min_samples_leaf=5, min_samples_split=5, n_estimators=20 \n",
      "[CV]  bootstrap=True, criterion=gini, max_depth=15, min_samples_leaf=5, min_samples_split=5, n_estimators=20, score=0.718, total=   0.1s\n",
      "[CV] bootstrap=True, criterion=gini, max_depth=15, min_samples_leaf=5, min_samples_split=5, n_estimators=50 \n"
     ]
    },
    {
     "name": "stdout",
     "output_type": "stream",
     "text": [
      "[CV]  bootstrap=True, criterion=gini, max_depth=15, min_samples_leaf=5, min_samples_split=5, n_estimators=50, score=0.724, total=   0.1s\n",
      "[CV] bootstrap=True, criterion=gini, max_depth=15, min_samples_leaf=5, min_samples_split=5, n_estimators=50 \n",
      "[CV]  bootstrap=True, criterion=gini, max_depth=15, min_samples_leaf=5, min_samples_split=5, n_estimators=50, score=0.741, total=   0.1s\n",
      "[CV] bootstrap=True, criterion=gini, max_depth=15, min_samples_leaf=5, min_samples_split=5, n_estimators=50 \n",
      "[CV]  bootstrap=True, criterion=gini, max_depth=15, min_samples_leaf=5, min_samples_split=5, n_estimators=50, score=0.737, total=   0.1s\n",
      "[CV] bootstrap=True, criterion=entropy, max_depth=None, min_samples_leaf=1, min_samples_split=2, n_estimators=5 \n",
      "[CV]  bootstrap=True, criterion=entropy, max_depth=None, min_samples_leaf=1, min_samples_split=2, n_estimators=5, score=0.694, total=   0.0s\n",
      "[CV] bootstrap=True, criterion=entropy, max_depth=None, min_samples_leaf=1, min_samples_split=2, n_estimators=5 \n",
      "[CV]  bootstrap=True, criterion=entropy, max_depth=None, min_samples_leaf=1, min_samples_split=2, n_estimators=5, score=0.639, total=   0.0s\n",
      "[CV] bootstrap=True, criterion=entropy, max_depth=None, min_samples_leaf=1, min_samples_split=2, n_estimators=5 \n",
      "[CV]  bootstrap=True, criterion=entropy, max_depth=None, min_samples_leaf=1, min_samples_split=2, n_estimators=5, score=0.677, total=   0.0s\n",
      "[CV] bootstrap=True, criterion=entropy, max_depth=None, min_samples_leaf=1, min_samples_split=2, n_estimators=10 \n",
      "[CV]  bootstrap=True, criterion=entropy, max_depth=None, min_samples_leaf=1, min_samples_split=2, n_estimators=10, score=0.720, total=   0.0s\n",
      "[CV] bootstrap=True, criterion=entropy, max_depth=None, min_samples_leaf=1, min_samples_split=2, n_estimators=10 \n",
      "[CV]  bootstrap=True, criterion=entropy, max_depth=None, min_samples_leaf=1, min_samples_split=2, n_estimators=10, score=0.726, total=   0.0s\n",
      "[CV] bootstrap=True, criterion=entropy, max_depth=None, min_samples_leaf=1, min_samples_split=2, n_estimators=10 \n",
      "[CV]  bootstrap=True, criterion=entropy, max_depth=None, min_samples_leaf=1, min_samples_split=2, n_estimators=10, score=0.688, total=   0.0s\n",
      "[CV] bootstrap=True, criterion=entropy, max_depth=None, min_samples_leaf=1, min_samples_split=2, n_estimators=20 \n",
      "[CV]  bootstrap=True, criterion=entropy, max_depth=None, min_samples_leaf=1, min_samples_split=2, n_estimators=20, score=0.705, total=   0.1s\n",
      "[CV] bootstrap=True, criterion=entropy, max_depth=None, min_samples_leaf=1, min_samples_split=2, n_estimators=20 \n",
      "[CV]  bootstrap=True, criterion=entropy, max_depth=None, min_samples_leaf=1, min_samples_split=2, n_estimators=20, score=0.726, total=   0.0s\n",
      "[CV] bootstrap=True, criterion=entropy, max_depth=None, min_samples_leaf=1, min_samples_split=2, n_estimators=20 \n",
      "[CV]  bootstrap=True, criterion=entropy, max_depth=None, min_samples_leaf=1, min_samples_split=2, n_estimators=20, score=0.722, total=   0.0s\n",
      "[CV] bootstrap=True, criterion=entropy, max_depth=None, min_samples_leaf=1, min_samples_split=2, n_estimators=50 \n",
      "[CV]  bootstrap=True, criterion=entropy, max_depth=None, min_samples_leaf=1, min_samples_split=2, n_estimators=50, score=0.739, total=   0.1s\n",
      "[CV] bootstrap=True, criterion=entropy, max_depth=None, min_samples_leaf=1, min_samples_split=2, n_estimators=50 \n",
      "[CV]  bootstrap=True, criterion=entropy, max_depth=None, min_samples_leaf=1, min_samples_split=2, n_estimators=50, score=0.718, total=   0.1s\n",
      "[CV] bootstrap=True, criterion=entropy, max_depth=None, min_samples_leaf=1, min_samples_split=2, n_estimators=50 \n",
      "[CV]  bootstrap=True, criterion=entropy, max_depth=None, min_samples_leaf=1, min_samples_split=2, n_estimators=50, score=0.703, total=   0.1s\n",
      "[CV] bootstrap=True, criterion=entropy, max_depth=None, min_samples_leaf=1, min_samples_split=5, n_estimators=5 \n",
      "[CV]  bootstrap=True, criterion=entropy, max_depth=None, min_samples_leaf=1, min_samples_split=5, n_estimators=5, score=0.668, total=   0.0s\n",
      "[CV] bootstrap=True, criterion=entropy, max_depth=None, min_samples_leaf=1, min_samples_split=5, n_estimators=5 \n",
      "[CV]  bootstrap=True, criterion=entropy, max_depth=None, min_samples_leaf=1, min_samples_split=5, n_estimators=5, score=0.658, total=   0.0s\n",
      "[CV] bootstrap=True, criterion=entropy, max_depth=None, min_samples_leaf=1, min_samples_split=5, n_estimators=5 \n",
      "[CV]  bootstrap=True, criterion=entropy, max_depth=None, min_samples_leaf=1, min_samples_split=5, n_estimators=5, score=0.662, total=   0.0s\n",
      "[CV] bootstrap=True, criterion=entropy, max_depth=None, min_samples_leaf=1, min_samples_split=5, n_estimators=10 \n",
      "[CV]  bootstrap=True, criterion=entropy, max_depth=None, min_samples_leaf=1, min_samples_split=5, n_estimators=10, score=0.743, total=   0.0s\n",
      "[CV] bootstrap=True, criterion=entropy, max_depth=None, min_samples_leaf=1, min_samples_split=5, n_estimators=10 \n",
      "[CV]  bootstrap=True, criterion=entropy, max_depth=None, min_samples_leaf=1, min_samples_split=5, n_estimators=10, score=0.680, total=   0.0s\n",
      "[CV] bootstrap=True, criterion=entropy, max_depth=None, min_samples_leaf=1, min_samples_split=5, n_estimators=10 \n",
      "[CV]  bootstrap=True, criterion=entropy, max_depth=None, min_samples_leaf=1, min_samples_split=5, n_estimators=10, score=0.744, total=   0.0s\n",
      "[CV] bootstrap=True, criterion=entropy, max_depth=None, min_samples_leaf=1, min_samples_split=5, n_estimators=20 \n",
      "[CV]  bootstrap=True, criterion=entropy, max_depth=None, min_samples_leaf=1, min_samples_split=5, n_estimators=20, score=0.709, total=   0.0s\n",
      "[CV] bootstrap=True, criterion=entropy, max_depth=None, min_samples_leaf=1, min_samples_split=5, n_estimators=20 \n",
      "[CV]  bootstrap=True, criterion=entropy, max_depth=None, min_samples_leaf=1, min_samples_split=5, n_estimators=20, score=0.744, total=   0.0s\n",
      "[CV] bootstrap=True, criterion=entropy, max_depth=None, min_samples_leaf=1, min_samples_split=5, n_estimators=20 \n",
      "[CV]  bootstrap=True, criterion=entropy, max_depth=None, min_samples_leaf=1, min_samples_split=5, n_estimators=20, score=0.699, total=   0.0s\n",
      "[CV] bootstrap=True, criterion=entropy, max_depth=None, min_samples_leaf=1, min_samples_split=5, n_estimators=50 \n",
      "[CV]  bootstrap=True, criterion=entropy, max_depth=None, min_samples_leaf=1, min_samples_split=5, n_estimators=50, score=0.720, total=   0.1s\n",
      "[CV] bootstrap=True, criterion=entropy, max_depth=None, min_samples_leaf=1, min_samples_split=5, n_estimators=50 \n",
      "[CV]  bootstrap=True, criterion=entropy, max_depth=None, min_samples_leaf=1, min_samples_split=5, n_estimators=50, score=0.714, total=   0.1s\n",
      "[CV] bootstrap=True, criterion=entropy, max_depth=None, min_samples_leaf=1, min_samples_split=5, n_estimators=50 \n",
      "[CV]  bootstrap=True, criterion=entropy, max_depth=None, min_samples_leaf=1, min_samples_split=5, n_estimators=50, score=0.703, total=   0.1s\n",
      "[CV] bootstrap=True, criterion=entropy, max_depth=None, min_samples_leaf=5, min_samples_split=2, n_estimators=5 \n",
      "[CV]  bootstrap=True, criterion=entropy, max_depth=None, min_samples_leaf=5, min_samples_split=2, n_estimators=5, score=0.701, total=   0.0s\n",
      "[CV] bootstrap=True, criterion=entropy, max_depth=None, min_samples_leaf=5, min_samples_split=2, n_estimators=5 \n",
      "[CV]  bootstrap=True, criterion=entropy, max_depth=None, min_samples_leaf=5, min_samples_split=2, n_estimators=5, score=0.707, total=   0.0s\n",
      "[CV] bootstrap=True, criterion=entropy, max_depth=None, min_samples_leaf=5, min_samples_split=2, n_estimators=5 \n",
      "[CV]  bootstrap=True, criterion=entropy, max_depth=None, min_samples_leaf=5, min_samples_split=2, n_estimators=5, score=0.737, total=   0.0s\n",
      "[CV] bootstrap=True, criterion=entropy, max_depth=None, min_samples_leaf=5, min_samples_split=2, n_estimators=10 \n",
      "[CV]  bootstrap=True, criterion=entropy, max_depth=None, min_samples_leaf=5, min_samples_split=2, n_estimators=10, score=0.731, total=   0.0s\n",
      "[CV] bootstrap=True, criterion=entropy, max_depth=None, min_samples_leaf=5, min_samples_split=2, n_estimators=10 \n",
      "[CV]  bootstrap=True, criterion=entropy, max_depth=None, min_samples_leaf=5, min_samples_split=2, n_estimators=10, score=0.707, total=   0.0s\n",
      "[CV] bootstrap=True, criterion=entropy, max_depth=None, min_samples_leaf=5, min_samples_split=2, n_estimators=10 \n",
      "[CV]  bootstrap=True, criterion=entropy, max_depth=None, min_samples_leaf=5, min_samples_split=2, n_estimators=10, score=0.722, total=   0.0s\n",
      "[CV] bootstrap=True, criterion=entropy, max_depth=None, min_samples_leaf=5, min_samples_split=2, n_estimators=20 \n",
      "[CV]  bootstrap=True, criterion=entropy, max_depth=None, min_samples_leaf=5, min_samples_split=2, n_estimators=20, score=0.724, total=   0.0s\n",
      "[CV] bootstrap=True, criterion=entropy, max_depth=None, min_samples_leaf=5, min_samples_split=2, n_estimators=20 \n",
      "[CV]  bootstrap=True, criterion=entropy, max_depth=None, min_samples_leaf=5, min_samples_split=2, n_estimators=20, score=0.729, total=   0.0s\n",
      "[CV] bootstrap=True, criterion=entropy, max_depth=None, min_samples_leaf=5, min_samples_split=2, n_estimators=20 \n"
     ]
    },
    {
     "name": "stdout",
     "output_type": "stream",
     "text": [
      "[CV]  bootstrap=True, criterion=entropy, max_depth=None, min_samples_leaf=5, min_samples_split=2, n_estimators=20, score=0.726, total=   0.0s\n",
      "[CV] bootstrap=True, criterion=entropy, max_depth=None, min_samples_leaf=5, min_samples_split=2, n_estimators=50 \n",
      "[CV]  bootstrap=True, criterion=entropy, max_depth=None, min_samples_leaf=5, min_samples_split=2, n_estimators=50, score=0.709, total=   0.1s\n",
      "[CV] bootstrap=True, criterion=entropy, max_depth=None, min_samples_leaf=5, min_samples_split=2, n_estimators=50 \n",
      "[CV]  bootstrap=True, criterion=entropy, max_depth=None, min_samples_leaf=5, min_samples_split=2, n_estimators=50, score=0.744, total=   0.1s\n",
      "[CV] bootstrap=True, criterion=entropy, max_depth=None, min_samples_leaf=5, min_samples_split=2, n_estimators=50 \n",
      "[CV]  bootstrap=True, criterion=entropy, max_depth=None, min_samples_leaf=5, min_samples_split=2, n_estimators=50, score=0.729, total=   0.1s\n",
      "[CV] bootstrap=True, criterion=entropy, max_depth=None, min_samples_leaf=5, min_samples_split=5, n_estimators=5 \n",
      "[CV]  bootstrap=True, criterion=entropy, max_depth=None, min_samples_leaf=5, min_samples_split=5, n_estimators=5, score=0.705, total=   0.0s\n",
      "[CV] bootstrap=True, criterion=entropy, max_depth=None, min_samples_leaf=5, min_samples_split=5, n_estimators=5 \n",
      "[CV]  bootstrap=True, criterion=entropy, max_depth=None, min_samples_leaf=5, min_samples_split=5, n_estimators=5, score=0.684, total=   0.0s\n",
      "[CV] bootstrap=True, criterion=entropy, max_depth=None, min_samples_leaf=5, min_samples_split=5, n_estimators=5 \n",
      "[CV]  bootstrap=True, criterion=entropy, max_depth=None, min_samples_leaf=5, min_samples_split=5, n_estimators=5, score=0.658, total=   0.0s\n",
      "[CV] bootstrap=True, criterion=entropy, max_depth=None, min_samples_leaf=5, min_samples_split=5, n_estimators=10 \n",
      "[CV]  bootstrap=True, criterion=entropy, max_depth=None, min_samples_leaf=5, min_samples_split=5, n_estimators=10, score=0.698, total=   0.0s\n",
      "[CV] bootstrap=True, criterion=entropy, max_depth=None, min_samples_leaf=5, min_samples_split=5, n_estimators=10 \n",
      "[CV]  bootstrap=True, criterion=entropy, max_depth=None, min_samples_leaf=5, min_samples_split=5, n_estimators=10, score=0.711, total=   0.0s\n",
      "[CV] bootstrap=True, criterion=entropy, max_depth=None, min_samples_leaf=5, min_samples_split=5, n_estimators=10 \n",
      "[CV]  bootstrap=True, criterion=entropy, max_depth=None, min_samples_leaf=5, min_samples_split=5, n_estimators=10, score=0.714, total=   0.0s\n",
      "[CV] bootstrap=True, criterion=entropy, max_depth=None, min_samples_leaf=5, min_samples_split=5, n_estimators=20 \n",
      "[CV]  bootstrap=True, criterion=entropy, max_depth=None, min_samples_leaf=5, min_samples_split=5, n_estimators=20, score=0.720, total=   0.0s\n",
      "[CV] bootstrap=True, criterion=entropy, max_depth=None, min_samples_leaf=5, min_samples_split=5, n_estimators=20 \n",
      "[CV]  bootstrap=True, criterion=entropy, max_depth=None, min_samples_leaf=5, min_samples_split=5, n_estimators=20, score=0.741, total=   0.0s\n",
      "[CV] bootstrap=True, criterion=entropy, max_depth=None, min_samples_leaf=5, min_samples_split=5, n_estimators=20 \n",
      "[CV]  bootstrap=True, criterion=entropy, max_depth=None, min_samples_leaf=5, min_samples_split=5, n_estimators=20, score=0.741, total=   0.0s\n",
      "[CV] bootstrap=True, criterion=entropy, max_depth=None, min_samples_leaf=5, min_samples_split=5, n_estimators=50 \n",
      "[CV]  bootstrap=True, criterion=entropy, max_depth=None, min_samples_leaf=5, min_samples_split=5, n_estimators=50, score=0.728, total=   0.1s\n",
      "[CV] bootstrap=True, criterion=entropy, max_depth=None, min_samples_leaf=5, min_samples_split=5, n_estimators=50 \n",
      "[CV]  bootstrap=True, criterion=entropy, max_depth=None, min_samples_leaf=5, min_samples_split=5, n_estimators=50, score=0.741, total=   0.1s\n",
      "[CV] bootstrap=True, criterion=entropy, max_depth=None, min_samples_leaf=5, min_samples_split=5, n_estimators=50 \n",
      "[CV]  bootstrap=True, criterion=entropy, max_depth=None, min_samples_leaf=5, min_samples_split=5, n_estimators=50, score=0.714, total=   0.1s\n",
      "[CV] bootstrap=True, criterion=entropy, max_depth=5, min_samples_leaf=1, min_samples_split=2, n_estimators=5 \n",
      "[CV]  bootstrap=True, criterion=entropy, max_depth=5, min_samples_leaf=1, min_samples_split=2, n_estimators=5, score=0.713, total=   0.0s\n",
      "[CV] bootstrap=True, criterion=entropy, max_depth=5, min_samples_leaf=1, min_samples_split=2, n_estimators=5 \n",
      "[CV]  bootstrap=True, criterion=entropy, max_depth=5, min_samples_leaf=1, min_samples_split=2, n_estimators=5, score=0.673, total=   0.0s\n",
      "[CV] bootstrap=True, criterion=entropy, max_depth=5, min_samples_leaf=1, min_samples_split=2, n_estimators=5 \n",
      "[CV]  bootstrap=True, criterion=entropy, max_depth=5, min_samples_leaf=1, min_samples_split=2, n_estimators=5, score=0.718, total=   0.0s\n",
      "[CV] bootstrap=True, criterion=entropy, max_depth=5, min_samples_leaf=1, min_samples_split=2, n_estimators=10 \n",
      "[CV]  bootstrap=True, criterion=entropy, max_depth=5, min_samples_leaf=1, min_samples_split=2, n_estimators=10, score=0.716, total=   0.0s\n",
      "[CV] bootstrap=True, criterion=entropy, max_depth=5, min_samples_leaf=1, min_samples_split=2, n_estimators=10 \n",
      "[CV]  bootstrap=True, criterion=entropy, max_depth=5, min_samples_leaf=1, min_samples_split=2, n_estimators=10, score=0.718, total=   0.0s\n",
      "[CV] bootstrap=True, criterion=entropy, max_depth=5, min_samples_leaf=1, min_samples_split=2, n_estimators=10 \n",
      "[CV]  bootstrap=True, criterion=entropy, max_depth=5, min_samples_leaf=1, min_samples_split=2, n_estimators=10, score=0.737, total=   0.0s\n",
      "[CV] bootstrap=True, criterion=entropy, max_depth=5, min_samples_leaf=1, min_samples_split=2, n_estimators=20 \n",
      "[CV]  bootstrap=True, criterion=entropy, max_depth=5, min_samples_leaf=1, min_samples_split=2, n_estimators=20, score=0.713, total=   0.1s\n",
      "[CV] bootstrap=True, criterion=entropy, max_depth=5, min_samples_leaf=1, min_samples_split=2, n_estimators=20 \n",
      "[CV]  bootstrap=True, criterion=entropy, max_depth=5, min_samples_leaf=1, min_samples_split=2, n_estimators=20, score=0.714, total=   0.0s\n",
      "[CV] bootstrap=True, criterion=entropy, max_depth=5, min_samples_leaf=1, min_samples_split=2, n_estimators=20 \n",
      "[CV]  bootstrap=True, criterion=entropy, max_depth=5, min_samples_leaf=1, min_samples_split=2, n_estimators=20, score=0.726, total=   0.0s\n",
      "[CV] bootstrap=True, criterion=entropy, max_depth=5, min_samples_leaf=1, min_samples_split=2, n_estimators=50 \n",
      "[CV]  bootstrap=True, criterion=entropy, max_depth=5, min_samples_leaf=1, min_samples_split=2, n_estimators=50, score=0.724, total=   0.1s\n",
      "[CV] bootstrap=True, criterion=entropy, max_depth=5, min_samples_leaf=1, min_samples_split=2, n_estimators=50 \n",
      "[CV]  bootstrap=True, criterion=entropy, max_depth=5, min_samples_leaf=1, min_samples_split=2, n_estimators=50, score=0.729, total=   0.1s\n",
      "[CV] bootstrap=True, criterion=entropy, max_depth=5, min_samples_leaf=1, min_samples_split=2, n_estimators=50 \n",
      "[CV]  bootstrap=True, criterion=entropy, max_depth=5, min_samples_leaf=1, min_samples_split=2, n_estimators=50, score=0.733, total=   0.1s\n",
      "[CV] bootstrap=True, criterion=entropy, max_depth=5, min_samples_leaf=1, min_samples_split=5, n_estimators=5 \n",
      "[CV]  bootstrap=True, criterion=entropy, max_depth=5, min_samples_leaf=1, min_samples_split=5, n_estimators=5, score=0.705, total=   0.0s\n",
      "[CV] bootstrap=True, criterion=entropy, max_depth=5, min_samples_leaf=1, min_samples_split=5, n_estimators=5 \n",
      "[CV]  bootstrap=True, criterion=entropy, max_depth=5, min_samples_leaf=1, min_samples_split=5, n_estimators=5, score=0.707, total=   0.0s\n",
      "[CV] bootstrap=True, criterion=entropy, max_depth=5, min_samples_leaf=1, min_samples_split=5, n_estimators=5 \n",
      "[CV]  bootstrap=True, criterion=entropy, max_depth=5, min_samples_leaf=1, min_samples_split=5, n_estimators=5, score=0.741, total=   0.0s\n",
      "[CV] bootstrap=True, criterion=entropy, max_depth=5, min_samples_leaf=1, min_samples_split=5, n_estimators=10 \n",
      "[CV]  bootstrap=True, criterion=entropy, max_depth=5, min_samples_leaf=1, min_samples_split=5, n_estimators=10, score=0.713, total=   0.0s\n",
      "[CV] bootstrap=True, criterion=entropy, max_depth=5, min_samples_leaf=1, min_samples_split=5, n_estimators=10 \n",
      "[CV]  bootstrap=True, criterion=entropy, max_depth=5, min_samples_leaf=1, min_samples_split=5, n_estimators=10, score=0.699, total=   0.0s\n",
      "[CV] bootstrap=True, criterion=entropy, max_depth=5, min_samples_leaf=1, min_samples_split=5, n_estimators=10 \n",
      "[CV]  bootstrap=True, criterion=entropy, max_depth=5, min_samples_leaf=1, min_samples_split=5, n_estimators=10, score=0.707, total=   0.0s\n",
      "[CV] bootstrap=True, criterion=entropy, max_depth=5, min_samples_leaf=1, min_samples_split=5, n_estimators=20 \n",
      "[CV]  bootstrap=True, criterion=entropy, max_depth=5, min_samples_leaf=1, min_samples_split=5, n_estimators=20, score=0.724, total=   0.0s\n",
      "[CV] bootstrap=True, criterion=entropy, max_depth=5, min_samples_leaf=1, min_samples_split=5, n_estimators=20 \n",
      "[CV]  bootstrap=True, criterion=entropy, max_depth=5, min_samples_leaf=1, min_samples_split=5, n_estimators=20, score=0.722, total=   0.0s\n",
      "[CV] bootstrap=True, criterion=entropy, max_depth=5, min_samples_leaf=1, min_samples_split=5, n_estimators=20 \n"
     ]
    },
    {
     "name": "stdout",
     "output_type": "stream",
     "text": [
      "[CV]  bootstrap=True, criterion=entropy, max_depth=5, min_samples_leaf=1, min_samples_split=5, n_estimators=20, score=0.737, total=   0.0s\n",
      "[CV] bootstrap=True, criterion=entropy, max_depth=5, min_samples_leaf=1, min_samples_split=5, n_estimators=50 \n",
      "[CV]  bootstrap=True, criterion=entropy, max_depth=5, min_samples_leaf=1, min_samples_split=5, n_estimators=50, score=0.728, total=   0.1s\n",
      "[CV] bootstrap=True, criterion=entropy, max_depth=5, min_samples_leaf=1, min_samples_split=5, n_estimators=50 \n",
      "[CV]  bootstrap=True, criterion=entropy, max_depth=5, min_samples_leaf=1, min_samples_split=5, n_estimators=50, score=0.737, total=   0.1s\n",
      "[CV] bootstrap=True, criterion=entropy, max_depth=5, min_samples_leaf=1, min_samples_split=5, n_estimators=50 \n",
      "[CV]  bootstrap=True, criterion=entropy, max_depth=5, min_samples_leaf=1, min_samples_split=5, n_estimators=50, score=0.722, total=   0.1s\n",
      "[CV] bootstrap=True, criterion=entropy, max_depth=5, min_samples_leaf=5, min_samples_split=2, n_estimators=5 \n",
      "[CV]  bootstrap=True, criterion=entropy, max_depth=5, min_samples_leaf=5, min_samples_split=2, n_estimators=5, score=0.735, total=   0.0s\n",
      "[CV] bootstrap=True, criterion=entropy, max_depth=5, min_samples_leaf=5, min_samples_split=2, n_estimators=5 \n",
      "[CV]  bootstrap=True, criterion=entropy, max_depth=5, min_samples_leaf=5, min_samples_split=2, n_estimators=5, score=0.722, total=   0.0s\n",
      "[CV] bootstrap=True, criterion=entropy, max_depth=5, min_samples_leaf=5, min_samples_split=2, n_estimators=5 \n",
      "[CV]  bootstrap=True, criterion=entropy, max_depth=5, min_samples_leaf=5, min_samples_split=2, n_estimators=5, score=0.722, total=   0.0s\n",
      "[CV] bootstrap=True, criterion=entropy, max_depth=5, min_samples_leaf=5, min_samples_split=2, n_estimators=10 \n",
      "[CV]  bootstrap=True, criterion=entropy, max_depth=5, min_samples_leaf=5, min_samples_split=2, n_estimators=10, score=0.724, total=   0.0s\n",
      "[CV] bootstrap=True, criterion=entropy, max_depth=5, min_samples_leaf=5, min_samples_split=2, n_estimators=10 \n",
      "[CV]  bootstrap=True, criterion=entropy, max_depth=5, min_samples_leaf=5, min_samples_split=2, n_estimators=10, score=0.714, total=   0.0s\n",
      "[CV] bootstrap=True, criterion=entropy, max_depth=5, min_samples_leaf=5, min_samples_split=2, n_estimators=10 \n",
      "[CV]  bootstrap=True, criterion=entropy, max_depth=5, min_samples_leaf=5, min_samples_split=2, n_estimators=10, score=0.711, total=   0.0s\n",
      "[CV] bootstrap=True, criterion=entropy, max_depth=5, min_samples_leaf=5, min_samples_split=2, n_estimators=20 \n",
      "[CV]  bootstrap=True, criterion=entropy, max_depth=5, min_samples_leaf=5, min_samples_split=2, n_estimators=20, score=0.724, total=   0.0s\n",
      "[CV] bootstrap=True, criterion=entropy, max_depth=5, min_samples_leaf=5, min_samples_split=2, n_estimators=20 \n",
      "[CV]  bootstrap=True, criterion=entropy, max_depth=5, min_samples_leaf=5, min_samples_split=2, n_estimators=20, score=0.711, total=   0.0s\n",
      "[CV] bootstrap=True, criterion=entropy, max_depth=5, min_samples_leaf=5, min_samples_split=2, n_estimators=20 \n",
      "[CV]  bootstrap=True, criterion=entropy, max_depth=5, min_samples_leaf=5, min_samples_split=2, n_estimators=20, score=0.737, total=   0.1s\n",
      "[CV] bootstrap=True, criterion=entropy, max_depth=5, min_samples_leaf=5, min_samples_split=2, n_estimators=50 \n",
      "[CV]  bootstrap=True, criterion=entropy, max_depth=5, min_samples_leaf=5, min_samples_split=2, n_estimators=50, score=0.709, total=   0.1s\n",
      "[CV] bootstrap=True, criterion=entropy, max_depth=5, min_samples_leaf=5, min_samples_split=2, n_estimators=50 \n",
      "[CV]  bootstrap=True, criterion=entropy, max_depth=5, min_samples_leaf=5, min_samples_split=2, n_estimators=50, score=0.726, total=   0.1s\n",
      "[CV] bootstrap=True, criterion=entropy, max_depth=5, min_samples_leaf=5, min_samples_split=2, n_estimators=50 \n",
      "[CV]  bootstrap=True, criterion=entropy, max_depth=5, min_samples_leaf=5, min_samples_split=2, n_estimators=50, score=0.737, total=   0.1s\n",
      "[CV] bootstrap=True, criterion=entropy, max_depth=5, min_samples_leaf=5, min_samples_split=5, n_estimators=5 \n",
      "[CV]  bootstrap=True, criterion=entropy, max_depth=5, min_samples_leaf=5, min_samples_split=5, n_estimators=5, score=0.728, total=   0.0s\n",
      "[CV] bootstrap=True, criterion=entropy, max_depth=5, min_samples_leaf=5, min_samples_split=5, n_estimators=5 \n",
      "[CV]  bootstrap=True, criterion=entropy, max_depth=5, min_samples_leaf=5, min_samples_split=5, n_estimators=5, score=0.718, total=   0.0s\n",
      "[CV] bootstrap=True, criterion=entropy, max_depth=5, min_samples_leaf=5, min_samples_split=5, n_estimators=5 \n",
      "[CV]  bootstrap=True, criterion=entropy, max_depth=5, min_samples_leaf=5, min_samples_split=5, n_estimators=5, score=0.718, total=   0.0s\n",
      "[CV] bootstrap=True, criterion=entropy, max_depth=5, min_samples_leaf=5, min_samples_split=5, n_estimators=10 \n",
      "[CV]  bootstrap=True, criterion=entropy, max_depth=5, min_samples_leaf=5, min_samples_split=5, n_estimators=10, score=0.698, total=   0.0s\n",
      "[CV] bootstrap=True, criterion=entropy, max_depth=5, min_samples_leaf=5, min_samples_split=5, n_estimators=10 \n",
      "[CV]  bootstrap=True, criterion=entropy, max_depth=5, min_samples_leaf=5, min_samples_split=5, n_estimators=10, score=0.714, total=   0.0s\n",
      "[CV] bootstrap=True, criterion=entropy, max_depth=5, min_samples_leaf=5, min_samples_split=5, n_estimators=10 \n",
      "[CV]  bootstrap=True, criterion=entropy, max_depth=5, min_samples_leaf=5, min_samples_split=5, n_estimators=10, score=0.737, total=   0.0s\n",
      "[CV] bootstrap=True, criterion=entropy, max_depth=5, min_samples_leaf=5, min_samples_split=5, n_estimators=20 \n",
      "[CV]  bootstrap=True, criterion=entropy, max_depth=5, min_samples_leaf=5, min_samples_split=5, n_estimators=20, score=0.713, total=   0.0s\n",
      "[CV] bootstrap=True, criterion=entropy, max_depth=5, min_samples_leaf=5, min_samples_split=5, n_estimators=20 \n",
      "[CV]  bootstrap=True, criterion=entropy, max_depth=5, min_samples_leaf=5, min_samples_split=5, n_estimators=20, score=0.722, total=   0.0s\n",
      "[CV] bootstrap=True, criterion=entropy, max_depth=5, min_samples_leaf=5, min_samples_split=5, n_estimators=20 \n",
      "[CV]  bootstrap=True, criterion=entropy, max_depth=5, min_samples_leaf=5, min_samples_split=5, n_estimators=20, score=0.748, total=   0.0s\n",
      "[CV] bootstrap=True, criterion=entropy, max_depth=5, min_samples_leaf=5, min_samples_split=5, n_estimators=50 \n",
      "[CV]  bootstrap=True, criterion=entropy, max_depth=5, min_samples_leaf=5, min_samples_split=5, n_estimators=50, score=0.728, total=   0.1s\n",
      "[CV] bootstrap=True, criterion=entropy, max_depth=5, min_samples_leaf=5, min_samples_split=5, n_estimators=50 \n",
      "[CV]  bootstrap=True, criterion=entropy, max_depth=5, min_samples_leaf=5, min_samples_split=5, n_estimators=50, score=0.733, total=   0.1s\n",
      "[CV] bootstrap=True, criterion=entropy, max_depth=5, min_samples_leaf=5, min_samples_split=5, n_estimators=50 \n",
      "[CV]  bootstrap=True, criterion=entropy, max_depth=5, min_samples_leaf=5, min_samples_split=5, n_estimators=50, score=0.741, total=   0.1s\n",
      "[CV] bootstrap=True, criterion=entropy, max_depth=10, min_samples_leaf=1, min_samples_split=2, n_estimators=5 \n",
      "[CV]  bootstrap=True, criterion=entropy, max_depth=10, min_samples_leaf=1, min_samples_split=2, n_estimators=5, score=0.728, total=   0.0s\n",
      "[CV] bootstrap=True, criterion=entropy, max_depth=10, min_samples_leaf=1, min_samples_split=2, n_estimators=5 \n",
      "[CV]  bootstrap=True, criterion=entropy, max_depth=10, min_samples_leaf=1, min_samples_split=2, n_estimators=5, score=0.711, total=   0.0s\n",
      "[CV] bootstrap=True, criterion=entropy, max_depth=10, min_samples_leaf=1, min_samples_split=2, n_estimators=5 \n",
      "[CV]  bootstrap=True, criterion=entropy, max_depth=10, min_samples_leaf=1, min_samples_split=2, n_estimators=5, score=0.699, total=   0.0s\n",
      "[CV] bootstrap=True, criterion=entropy, max_depth=10, min_samples_leaf=1, min_samples_split=2, n_estimators=10 \n",
      "[CV]  bootstrap=True, criterion=entropy, max_depth=10, min_samples_leaf=1, min_samples_split=2, n_estimators=10, score=0.679, total=   0.0s\n",
      "[CV] bootstrap=True, criterion=entropy, max_depth=10, min_samples_leaf=1, min_samples_split=2, n_estimators=10 \n",
      "[CV]  bootstrap=True, criterion=entropy, max_depth=10, min_samples_leaf=1, min_samples_split=2, n_estimators=10, score=0.718, total=   0.0s\n",
      "[CV] bootstrap=True, criterion=entropy, max_depth=10, min_samples_leaf=1, min_samples_split=2, n_estimators=10 \n",
      "[CV]  bootstrap=True, criterion=entropy, max_depth=10, min_samples_leaf=1, min_samples_split=2, n_estimators=10, score=0.707, total=   0.0s\n",
      "[CV] bootstrap=True, criterion=entropy, max_depth=10, min_samples_leaf=1, min_samples_split=2, n_estimators=20 \n",
      "[CV]  bootstrap=True, criterion=entropy, max_depth=10, min_samples_leaf=1, min_samples_split=2, n_estimators=20, score=0.728, total=   0.0s\n",
      "[CV] bootstrap=True, criterion=entropy, max_depth=10, min_samples_leaf=1, min_samples_split=2, n_estimators=20 \n",
      "[CV]  bootstrap=True, criterion=entropy, max_depth=10, min_samples_leaf=1, min_samples_split=2, n_estimators=20, score=0.707, total=   0.0s\n",
      "[CV] bootstrap=True, criterion=entropy, max_depth=10, min_samples_leaf=1, min_samples_split=2, n_estimators=20 \n",
      "[CV]  bootstrap=True, criterion=entropy, max_depth=10, min_samples_leaf=1, min_samples_split=2, n_estimators=20, score=0.707, total=   0.1s\n"
     ]
    },
    {
     "name": "stdout",
     "output_type": "stream",
     "text": [
      "[CV] bootstrap=True, criterion=entropy, max_depth=10, min_samples_leaf=1, min_samples_split=2, n_estimators=50 \n",
      "[CV]  bootstrap=True, criterion=entropy, max_depth=10, min_samples_leaf=1, min_samples_split=2, n_estimators=50, score=0.735, total=   0.1s\n",
      "[CV] bootstrap=True, criterion=entropy, max_depth=10, min_samples_leaf=1, min_samples_split=2, n_estimators=50 \n",
      "[CV]  bootstrap=True, criterion=entropy, max_depth=10, min_samples_leaf=1, min_samples_split=2, n_estimators=50, score=0.737, total=   0.1s\n",
      "[CV] bootstrap=True, criterion=entropy, max_depth=10, min_samples_leaf=1, min_samples_split=2, n_estimators=50 \n",
      "[CV]  bootstrap=True, criterion=entropy, max_depth=10, min_samples_leaf=1, min_samples_split=2, n_estimators=50, score=0.714, total=   0.1s\n",
      "[CV] bootstrap=True, criterion=entropy, max_depth=10, min_samples_leaf=1, min_samples_split=5, n_estimators=5 \n",
      "[CV]  bootstrap=True, criterion=entropy, max_depth=10, min_samples_leaf=1, min_samples_split=5, n_estimators=5, score=0.716, total=   0.0s\n",
      "[CV] bootstrap=True, criterion=entropy, max_depth=10, min_samples_leaf=1, min_samples_split=5, n_estimators=5 \n",
      "[CV]  bootstrap=True, criterion=entropy, max_depth=10, min_samples_leaf=1, min_samples_split=5, n_estimators=5, score=0.692, total=   0.0s\n",
      "[CV] bootstrap=True, criterion=entropy, max_depth=10, min_samples_leaf=1, min_samples_split=5, n_estimators=5 \n",
      "[CV]  bootstrap=True, criterion=entropy, max_depth=10, min_samples_leaf=1, min_samples_split=5, n_estimators=5, score=0.695, total=   0.0s\n",
      "[CV] bootstrap=True, criterion=entropy, max_depth=10, min_samples_leaf=1, min_samples_split=5, n_estimators=10 \n",
      "[CV]  bootstrap=True, criterion=entropy, max_depth=10, min_samples_leaf=1, min_samples_split=5, n_estimators=10, score=0.713, total=   0.0s\n",
      "[CV] bootstrap=True, criterion=entropy, max_depth=10, min_samples_leaf=1, min_samples_split=5, n_estimators=10 \n",
      "[CV]  bootstrap=True, criterion=entropy, max_depth=10, min_samples_leaf=1, min_samples_split=5, n_estimators=10, score=0.707, total=   0.0s\n",
      "[CV] bootstrap=True, criterion=entropy, max_depth=10, min_samples_leaf=1, min_samples_split=5, n_estimators=10 \n",
      "[CV]  bootstrap=True, criterion=entropy, max_depth=10, min_samples_leaf=1, min_samples_split=5, n_estimators=10, score=0.711, total=   0.0s\n",
      "[CV] bootstrap=True, criterion=entropy, max_depth=10, min_samples_leaf=1, min_samples_split=5, n_estimators=20 \n",
      "[CV]  bootstrap=True, criterion=entropy, max_depth=10, min_samples_leaf=1, min_samples_split=5, n_estimators=20, score=0.735, total=   0.0s\n",
      "[CV] bootstrap=True, criterion=entropy, max_depth=10, min_samples_leaf=1, min_samples_split=5, n_estimators=20 \n",
      "[CV]  bootstrap=True, criterion=entropy, max_depth=10, min_samples_leaf=1, min_samples_split=5, n_estimators=20, score=0.714, total=   0.0s\n",
      "[CV] bootstrap=True, criterion=entropy, max_depth=10, min_samples_leaf=1, min_samples_split=5, n_estimators=20 \n",
      "[CV]  bootstrap=True, criterion=entropy, max_depth=10, min_samples_leaf=1, min_samples_split=5, n_estimators=20, score=0.699, total=   0.0s\n",
      "[CV] bootstrap=True, criterion=entropy, max_depth=10, min_samples_leaf=1, min_samples_split=5, n_estimators=50 \n",
      "[CV]  bootstrap=True, criterion=entropy, max_depth=10, min_samples_leaf=1, min_samples_split=5, n_estimators=50, score=0.713, total=   0.1s\n",
      "[CV] bootstrap=True, criterion=entropy, max_depth=10, min_samples_leaf=1, min_samples_split=5, n_estimators=50 \n",
      "[CV]  bootstrap=True, criterion=entropy, max_depth=10, min_samples_leaf=1, min_samples_split=5, n_estimators=50, score=0.726, total=   0.1s\n",
      "[CV] bootstrap=True, criterion=entropy, max_depth=10, min_samples_leaf=1, min_samples_split=5, n_estimators=50 \n",
      "[CV]  bootstrap=True, criterion=entropy, max_depth=10, min_samples_leaf=1, min_samples_split=5, n_estimators=50, score=0.733, total=   0.1s\n",
      "[CV] bootstrap=True, criterion=entropy, max_depth=10, min_samples_leaf=5, min_samples_split=2, n_estimators=5 \n",
      "[CV]  bootstrap=True, criterion=entropy, max_depth=10, min_samples_leaf=5, min_samples_split=2, n_estimators=5, score=0.709, total=   0.0s\n",
      "[CV] bootstrap=True, criterion=entropy, max_depth=10, min_samples_leaf=5, min_samples_split=2, n_estimators=5 \n",
      "[CV]  bootstrap=True, criterion=entropy, max_depth=10, min_samples_leaf=5, min_samples_split=2, n_estimators=5, score=0.688, total=   0.0s\n",
      "[CV] bootstrap=True, criterion=entropy, max_depth=10, min_samples_leaf=5, min_samples_split=2, n_estimators=5 \n",
      "[CV]  bootstrap=True, criterion=entropy, max_depth=10, min_samples_leaf=5, min_samples_split=2, n_estimators=5, score=0.733, total=   0.0s\n",
      "[CV] bootstrap=True, criterion=entropy, max_depth=10, min_samples_leaf=5, min_samples_split=2, n_estimators=10 \n",
      "[CV]  bootstrap=True, criterion=entropy, max_depth=10, min_samples_leaf=5, min_samples_split=2, n_estimators=10, score=0.735, total=   0.0s\n",
      "[CV] bootstrap=True, criterion=entropy, max_depth=10, min_samples_leaf=5, min_samples_split=2, n_estimators=10 \n",
      "[CV]  bootstrap=True, criterion=entropy, max_depth=10, min_samples_leaf=5, min_samples_split=2, n_estimators=10, score=0.692, total=   0.0s\n",
      "[CV] bootstrap=True, criterion=entropy, max_depth=10, min_samples_leaf=5, min_samples_split=2, n_estimators=10 \n",
      "[CV]  bootstrap=True, criterion=entropy, max_depth=10, min_samples_leaf=5, min_samples_split=2, n_estimators=10, score=0.741, total=   0.0s\n",
      "[CV] bootstrap=True, criterion=entropy, max_depth=10, min_samples_leaf=5, min_samples_split=2, n_estimators=20 \n",
      "[CV]  bootstrap=True, criterion=entropy, max_depth=10, min_samples_leaf=5, min_samples_split=2, n_estimators=20, score=0.716, total=   0.0s\n",
      "[CV] bootstrap=True, criterion=entropy, max_depth=10, min_samples_leaf=5, min_samples_split=2, n_estimators=20 \n",
      "[CV]  bootstrap=True, criterion=entropy, max_depth=10, min_samples_leaf=5, min_samples_split=2, n_estimators=20, score=0.718, total=   0.0s\n",
      "[CV] bootstrap=True, criterion=entropy, max_depth=10, min_samples_leaf=5, min_samples_split=2, n_estimators=20 \n",
      "[CV]  bootstrap=True, criterion=entropy, max_depth=10, min_samples_leaf=5, min_samples_split=2, n_estimators=20, score=0.733, total=   0.0s\n",
      "[CV] bootstrap=True, criterion=entropy, max_depth=10, min_samples_leaf=5, min_samples_split=2, n_estimators=50 \n",
      "[CV]  bootstrap=True, criterion=entropy, max_depth=10, min_samples_leaf=5, min_samples_split=2, n_estimators=50, score=0.709, total=   0.1s\n",
      "[CV] bootstrap=True, criterion=entropy, max_depth=10, min_samples_leaf=5, min_samples_split=2, n_estimators=50 \n",
      "[CV]  bootstrap=True, criterion=entropy, max_depth=10, min_samples_leaf=5, min_samples_split=2, n_estimators=50, score=0.718, total=   0.1s\n",
      "[CV] bootstrap=True, criterion=entropy, max_depth=10, min_samples_leaf=5, min_samples_split=2, n_estimators=50 \n",
      "[CV]  bootstrap=True, criterion=entropy, max_depth=10, min_samples_leaf=5, min_samples_split=2, n_estimators=50, score=0.714, total=   0.1s\n",
      "[CV] bootstrap=True, criterion=entropy, max_depth=10, min_samples_leaf=5, min_samples_split=5, n_estimators=5 \n",
      "[CV]  bootstrap=True, criterion=entropy, max_depth=10, min_samples_leaf=5, min_samples_split=5, n_estimators=5, score=0.724, total=   0.0s\n",
      "[CV] bootstrap=True, criterion=entropy, max_depth=10, min_samples_leaf=5, min_samples_split=5, n_estimators=5 \n",
      "[CV]  bootstrap=True, criterion=entropy, max_depth=10, min_samples_leaf=5, min_samples_split=5, n_estimators=5, score=0.711, total=   0.0s\n",
      "[CV] bootstrap=True, criterion=entropy, max_depth=10, min_samples_leaf=5, min_samples_split=5, n_estimators=5 \n",
      "[CV]  bootstrap=True, criterion=entropy, max_depth=10, min_samples_leaf=5, min_samples_split=5, n_estimators=5, score=0.680, total=   0.0s\n",
      "[CV] bootstrap=True, criterion=entropy, max_depth=10, min_samples_leaf=5, min_samples_split=5, n_estimators=10 \n",
      "[CV]  bootstrap=True, criterion=entropy, max_depth=10, min_samples_leaf=5, min_samples_split=5, n_estimators=10, score=0.720, total=   0.0s\n",
      "[CV] bootstrap=True, criterion=entropy, max_depth=10, min_samples_leaf=5, min_samples_split=5, n_estimators=10 \n",
      "[CV]  bootstrap=True, criterion=entropy, max_depth=10, min_samples_leaf=5, min_samples_split=5, n_estimators=10, score=0.752, total=   0.0s\n",
      "[CV] bootstrap=True, criterion=entropy, max_depth=10, min_samples_leaf=5, min_samples_split=5, n_estimators=10 \n",
      "[CV]  bootstrap=True, criterion=entropy, max_depth=10, min_samples_leaf=5, min_samples_split=5, n_estimators=10, score=0.692, total=   0.0s\n",
      "[CV] bootstrap=True, criterion=entropy, max_depth=10, min_samples_leaf=5, min_samples_split=5, n_estimators=20 \n",
      "[CV]  bootstrap=True, criterion=entropy, max_depth=10, min_samples_leaf=5, min_samples_split=5, n_estimators=20, score=0.698, total=   0.0s\n",
      "[CV] bootstrap=True, criterion=entropy, max_depth=10, min_samples_leaf=5, min_samples_split=5, n_estimators=20 \n",
      "[CV]  bootstrap=True, criterion=entropy, max_depth=10, min_samples_leaf=5, min_samples_split=5, n_estimators=20, score=0.718, total=   0.1s\n",
      "[CV] bootstrap=True, criterion=entropy, max_depth=10, min_samples_leaf=5, min_samples_split=5, n_estimators=20 \n"
     ]
    },
    {
     "name": "stdout",
     "output_type": "stream",
     "text": [
      "[CV]  bootstrap=True, criterion=entropy, max_depth=10, min_samples_leaf=5, min_samples_split=5, n_estimators=20, score=0.703, total=   0.0s\n",
      "[CV] bootstrap=True, criterion=entropy, max_depth=10, min_samples_leaf=5, min_samples_split=5, n_estimators=50 \n",
      "[CV]  bootstrap=True, criterion=entropy, max_depth=10, min_samples_leaf=5, min_samples_split=5, n_estimators=50, score=0.716, total=   0.1s\n",
      "[CV] bootstrap=True, criterion=entropy, max_depth=10, min_samples_leaf=5, min_samples_split=5, n_estimators=50 \n",
      "[CV]  bootstrap=True, criterion=entropy, max_depth=10, min_samples_leaf=5, min_samples_split=5, n_estimators=50, score=0.756, total=   0.1s\n",
      "[CV] bootstrap=True, criterion=entropy, max_depth=10, min_samples_leaf=5, min_samples_split=5, n_estimators=50 \n",
      "[CV]  bootstrap=True, criterion=entropy, max_depth=10, min_samples_leaf=5, min_samples_split=5, n_estimators=50, score=0.733, total=   0.1s\n",
      "[CV] bootstrap=True, criterion=entropy, max_depth=15, min_samples_leaf=1, min_samples_split=2, n_estimators=5 \n",
      "[CV]  bootstrap=True, criterion=entropy, max_depth=15, min_samples_leaf=1, min_samples_split=2, n_estimators=5, score=0.694, total=   0.0s\n",
      "[CV] bootstrap=True, criterion=entropy, max_depth=15, min_samples_leaf=1, min_samples_split=2, n_estimators=5 \n",
      "[CV]  bootstrap=True, criterion=entropy, max_depth=15, min_samples_leaf=1, min_samples_split=2, n_estimators=5, score=0.684, total=   0.0s\n",
      "[CV] bootstrap=True, criterion=entropy, max_depth=15, min_samples_leaf=1, min_samples_split=2, n_estimators=5 \n",
      "[CV]  bootstrap=True, criterion=entropy, max_depth=15, min_samples_leaf=1, min_samples_split=2, n_estimators=5, score=0.665, total=   0.0s\n",
      "[CV] bootstrap=True, criterion=entropy, max_depth=15, min_samples_leaf=1, min_samples_split=2, n_estimators=10 \n",
      "[CV]  bootstrap=True, criterion=entropy, max_depth=15, min_samples_leaf=1, min_samples_split=2, n_estimators=10, score=0.713, total=   0.0s\n",
      "[CV] bootstrap=True, criterion=entropy, max_depth=15, min_samples_leaf=1, min_samples_split=2, n_estimators=10 \n",
      "[CV]  bootstrap=True, criterion=entropy, max_depth=15, min_samples_leaf=1, min_samples_split=2, n_estimators=10, score=0.673, total=   0.0s\n",
      "[CV] bootstrap=True, criterion=entropy, max_depth=15, min_samples_leaf=1, min_samples_split=2, n_estimators=10 \n",
      "[CV]  bootstrap=True, criterion=entropy, max_depth=15, min_samples_leaf=1, min_samples_split=2, n_estimators=10, score=0.703, total=   0.0s\n",
      "[CV] bootstrap=True, criterion=entropy, max_depth=15, min_samples_leaf=1, min_samples_split=2, n_estimators=20 \n",
      "[CV]  bootstrap=True, criterion=entropy, max_depth=15, min_samples_leaf=1, min_samples_split=2, n_estimators=20, score=0.705, total=   0.1s\n",
      "[CV] bootstrap=True, criterion=entropy, max_depth=15, min_samples_leaf=1, min_samples_split=2, n_estimators=20 \n",
      "[CV]  bootstrap=True, criterion=entropy, max_depth=15, min_samples_leaf=1, min_samples_split=2, n_estimators=20, score=0.703, total=   0.0s\n",
      "[CV] bootstrap=True, criterion=entropy, max_depth=15, min_samples_leaf=1, min_samples_split=2, n_estimators=20 \n",
      "[CV]  bootstrap=True, criterion=entropy, max_depth=15, min_samples_leaf=1, min_samples_split=2, n_estimators=20, score=0.688, total=   0.0s\n",
      "[CV] bootstrap=True, criterion=entropy, max_depth=15, min_samples_leaf=1, min_samples_split=2, n_estimators=50 \n",
      "[CV]  bootstrap=True, criterion=entropy, max_depth=15, min_samples_leaf=1, min_samples_split=2, n_estimators=50, score=0.716, total=   0.1s\n",
      "[CV] bootstrap=True, criterion=entropy, max_depth=15, min_samples_leaf=1, min_samples_split=2, n_estimators=50 \n",
      "[CV]  bootstrap=True, criterion=entropy, max_depth=15, min_samples_leaf=1, min_samples_split=2, n_estimators=50, score=0.711, total=   0.1s\n",
      "[CV] bootstrap=True, criterion=entropy, max_depth=15, min_samples_leaf=1, min_samples_split=2, n_estimators=50 \n",
      "[CV]  bootstrap=True, criterion=entropy, max_depth=15, min_samples_leaf=1, min_samples_split=2, n_estimators=50, score=0.722, total=   0.1s\n",
      "[CV] bootstrap=True, criterion=entropy, max_depth=15, min_samples_leaf=1, min_samples_split=5, n_estimators=5 \n",
      "[CV]  bootstrap=True, criterion=entropy, max_depth=15, min_samples_leaf=1, min_samples_split=5, n_estimators=5, score=0.701, total=   0.0s\n",
      "[CV] bootstrap=True, criterion=entropy, max_depth=15, min_samples_leaf=1, min_samples_split=5, n_estimators=5 \n",
      "[CV]  bootstrap=True, criterion=entropy, max_depth=15, min_samples_leaf=1, min_samples_split=5, n_estimators=5, score=0.662, total=   0.0s\n",
      "[CV] bootstrap=True, criterion=entropy, max_depth=15, min_samples_leaf=1, min_samples_split=5, n_estimators=5 \n",
      "[CV]  bootstrap=True, criterion=entropy, max_depth=15, min_samples_leaf=1, min_samples_split=5, n_estimators=5, score=0.711, total=   0.0s\n",
      "[CV] bootstrap=True, criterion=entropy, max_depth=15, min_samples_leaf=1, min_samples_split=5, n_estimators=10 \n",
      "[CV]  bootstrap=True, criterion=entropy, max_depth=15, min_samples_leaf=1, min_samples_split=5, n_estimators=10, score=0.705, total=   0.0s\n",
      "[CV] bootstrap=True, criterion=entropy, max_depth=15, min_samples_leaf=1, min_samples_split=5, n_estimators=10 \n",
      "[CV]  bootstrap=True, criterion=entropy, max_depth=15, min_samples_leaf=1, min_samples_split=5, n_estimators=10, score=0.729, total=   0.0s\n",
      "[CV] bootstrap=True, criterion=entropy, max_depth=15, min_samples_leaf=1, min_samples_split=5, n_estimators=10 \n",
      "[CV]  bootstrap=True, criterion=entropy, max_depth=15, min_samples_leaf=1, min_samples_split=5, n_estimators=10, score=0.718, total=   0.0s\n",
      "[CV] bootstrap=True, criterion=entropy, max_depth=15, min_samples_leaf=1, min_samples_split=5, n_estimators=20 \n",
      "[CV]  bootstrap=True, criterion=entropy, max_depth=15, min_samples_leaf=1, min_samples_split=5, n_estimators=20, score=0.713, total=   0.0s\n",
      "[CV] bootstrap=True, criterion=entropy, max_depth=15, min_samples_leaf=1, min_samples_split=5, n_estimators=20 \n",
      "[CV]  bootstrap=True, criterion=entropy, max_depth=15, min_samples_leaf=1, min_samples_split=5, n_estimators=20, score=0.726, total=   0.0s\n",
      "[CV] bootstrap=True, criterion=entropy, max_depth=15, min_samples_leaf=1, min_samples_split=5, n_estimators=20 \n",
      "[CV]  bootstrap=True, criterion=entropy, max_depth=15, min_samples_leaf=1, min_samples_split=5, n_estimators=20, score=0.684, total=   0.0s\n",
      "[CV] bootstrap=True, criterion=entropy, max_depth=15, min_samples_leaf=1, min_samples_split=5, n_estimators=50 \n",
      "[CV]  bootstrap=True, criterion=entropy, max_depth=15, min_samples_leaf=1, min_samples_split=5, n_estimators=50, score=0.716, total=   0.1s\n",
      "[CV] bootstrap=True, criterion=entropy, max_depth=15, min_samples_leaf=1, min_samples_split=5, n_estimators=50 \n",
      "[CV]  bootstrap=True, criterion=entropy, max_depth=15, min_samples_leaf=1, min_samples_split=5, n_estimators=50, score=0.699, total=   0.1s\n",
      "[CV] bootstrap=True, criterion=entropy, max_depth=15, min_samples_leaf=1, min_samples_split=5, n_estimators=50 \n",
      "[CV]  bootstrap=True, criterion=entropy, max_depth=15, min_samples_leaf=1, min_samples_split=5, n_estimators=50, score=0.684, total=   0.1s\n",
      "[CV] bootstrap=True, criterion=entropy, max_depth=15, min_samples_leaf=5, min_samples_split=2, n_estimators=5 \n",
      "[CV]  bootstrap=True, criterion=entropy, max_depth=15, min_samples_leaf=5, min_samples_split=2, n_estimators=5, score=0.690, total=   0.0s\n",
      "[CV] bootstrap=True, criterion=entropy, max_depth=15, min_samples_leaf=5, min_samples_split=2, n_estimators=5 \n",
      "[CV]  bootstrap=True, criterion=entropy, max_depth=15, min_samples_leaf=5, min_samples_split=2, n_estimators=5, score=0.707, total=   0.0s\n",
      "[CV] bootstrap=True, criterion=entropy, max_depth=15, min_samples_leaf=5, min_samples_split=2, n_estimators=5 \n",
      "[CV]  bootstrap=True, criterion=entropy, max_depth=15, min_samples_leaf=5, min_samples_split=2, n_estimators=5, score=0.707, total=   0.0s\n",
      "[CV] bootstrap=True, criterion=entropy, max_depth=15, min_samples_leaf=5, min_samples_split=2, n_estimators=10 \n",
      "[CV]  bootstrap=True, criterion=entropy, max_depth=15, min_samples_leaf=5, min_samples_split=2, n_estimators=10, score=0.698, total=   0.0s\n",
      "[CV] bootstrap=True, criterion=entropy, max_depth=15, min_samples_leaf=5, min_samples_split=2, n_estimators=10 \n",
      "[CV]  bootstrap=True, criterion=entropy, max_depth=15, min_samples_leaf=5, min_samples_split=2, n_estimators=10, score=0.703, total=   0.0s\n",
      "[CV] bootstrap=True, criterion=entropy, max_depth=15, min_samples_leaf=5, min_samples_split=2, n_estimators=10 \n",
      "[CV]  bootstrap=True, criterion=entropy, max_depth=15, min_samples_leaf=5, min_samples_split=2, n_estimators=10, score=0.688, total=   0.0s\n",
      "[CV] bootstrap=True, criterion=entropy, max_depth=15, min_samples_leaf=5, min_samples_split=2, n_estimators=20 \n",
      "[CV]  bootstrap=True, criterion=entropy, max_depth=15, min_samples_leaf=5, min_samples_split=2, n_estimators=20, score=0.731, total=   0.0s\n",
      "[CV] bootstrap=True, criterion=entropy, max_depth=15, min_samples_leaf=5, min_samples_split=2, n_estimators=20 \n",
      "[CV]  bootstrap=True, criterion=entropy, max_depth=15, min_samples_leaf=5, min_samples_split=2, n_estimators=20, score=0.722, total=   0.0s\n",
      "[CV] bootstrap=True, criterion=entropy, max_depth=15, min_samples_leaf=5, min_samples_split=2, n_estimators=20 \n"
     ]
    },
    {
     "name": "stdout",
     "output_type": "stream",
     "text": [
      "[CV]  bootstrap=True, criterion=entropy, max_depth=15, min_samples_leaf=5, min_samples_split=2, n_estimators=20, score=0.729, total=   0.0s\n",
      "[CV] bootstrap=True, criterion=entropy, max_depth=15, min_samples_leaf=5, min_samples_split=2, n_estimators=50 \n",
      "[CV]  bootstrap=True, criterion=entropy, max_depth=15, min_samples_leaf=5, min_samples_split=2, n_estimators=50, score=0.709, total=   0.1s\n",
      "[CV] bootstrap=True, criterion=entropy, max_depth=15, min_samples_leaf=5, min_samples_split=2, n_estimators=50 \n",
      "[CV]  bootstrap=True, criterion=entropy, max_depth=15, min_samples_leaf=5, min_samples_split=2, n_estimators=50, score=0.733, total=   0.1s\n",
      "[CV] bootstrap=True, criterion=entropy, max_depth=15, min_samples_leaf=5, min_samples_split=2, n_estimators=50 \n",
      "[CV]  bootstrap=True, criterion=entropy, max_depth=15, min_samples_leaf=5, min_samples_split=2, n_estimators=50, score=0.733, total=   0.1s\n",
      "[CV] bootstrap=True, criterion=entropy, max_depth=15, min_samples_leaf=5, min_samples_split=5, n_estimators=5 \n",
      "[CV]  bootstrap=True, criterion=entropy, max_depth=15, min_samples_leaf=5, min_samples_split=5, n_estimators=5, score=0.683, total=   0.0s\n",
      "[CV] bootstrap=True, criterion=entropy, max_depth=15, min_samples_leaf=5, min_samples_split=5, n_estimators=5 \n",
      "[CV]  bootstrap=True, criterion=entropy, max_depth=15, min_samples_leaf=5, min_samples_split=5, n_estimators=5, score=0.688, total=   0.0s\n",
      "[CV] bootstrap=True, criterion=entropy, max_depth=15, min_samples_leaf=5, min_samples_split=5, n_estimators=5 \n",
      "[CV]  bootstrap=True, criterion=entropy, max_depth=15, min_samples_leaf=5, min_samples_split=5, n_estimators=5, score=0.703, total=   0.0s\n",
      "[CV] bootstrap=True, criterion=entropy, max_depth=15, min_samples_leaf=5, min_samples_split=5, n_estimators=10 \n",
      "[CV]  bootstrap=True, criterion=entropy, max_depth=15, min_samples_leaf=5, min_samples_split=5, n_estimators=10, score=0.709, total=   0.0s\n",
      "[CV] bootstrap=True, criterion=entropy, max_depth=15, min_samples_leaf=5, min_samples_split=5, n_estimators=10 \n",
      "[CV]  bootstrap=True, criterion=entropy, max_depth=15, min_samples_leaf=5, min_samples_split=5, n_estimators=10, score=0.737, total=   0.0s\n",
      "[CV] bootstrap=True, criterion=entropy, max_depth=15, min_samples_leaf=5, min_samples_split=5, n_estimators=10 \n",
      "[CV]  bootstrap=True, criterion=entropy, max_depth=15, min_samples_leaf=5, min_samples_split=5, n_estimators=10, score=0.748, total=   0.0s\n",
      "[CV] bootstrap=True, criterion=entropy, max_depth=15, min_samples_leaf=5, min_samples_split=5, n_estimators=20 \n",
      "[CV]  bootstrap=True, criterion=entropy, max_depth=15, min_samples_leaf=5, min_samples_split=5, n_estimators=20, score=0.709, total=   0.1s\n",
      "[CV] bootstrap=True, criterion=entropy, max_depth=15, min_samples_leaf=5, min_samples_split=5, n_estimators=20 \n",
      "[CV]  bootstrap=True, criterion=entropy, max_depth=15, min_samples_leaf=5, min_samples_split=5, n_estimators=20, score=0.699, total=   0.0s\n",
      "[CV] bootstrap=True, criterion=entropy, max_depth=15, min_samples_leaf=5, min_samples_split=5, n_estimators=20 \n",
      "[CV]  bootstrap=True, criterion=entropy, max_depth=15, min_samples_leaf=5, min_samples_split=5, n_estimators=20, score=0.729, total=   0.1s\n",
      "[CV] bootstrap=True, criterion=entropy, max_depth=15, min_samples_leaf=5, min_samples_split=5, n_estimators=50 \n",
      "[CV]  bootstrap=True, criterion=entropy, max_depth=15, min_samples_leaf=5, min_samples_split=5, n_estimators=50, score=0.709, total=   0.1s\n",
      "[CV] bootstrap=True, criterion=entropy, max_depth=15, min_samples_leaf=5, min_samples_split=5, n_estimators=50 \n",
      "[CV]  bootstrap=True, criterion=entropy, max_depth=15, min_samples_leaf=5, min_samples_split=5, n_estimators=50, score=0.733, total=   0.1s\n",
      "[CV] bootstrap=True, criterion=entropy, max_depth=15, min_samples_leaf=5, min_samples_split=5, n_estimators=50 \n",
      "[CV]  bootstrap=True, criterion=entropy, max_depth=15, min_samples_leaf=5, min_samples_split=5, n_estimators=50, score=0.748, total=   0.1s\n",
      "[CV] bootstrap=False, criterion=gini, max_depth=None, min_samples_leaf=1, min_samples_split=2, n_estimators=5 \n",
      "[CV]  bootstrap=False, criterion=gini, max_depth=None, min_samples_leaf=1, min_samples_split=2, n_estimators=5, score=0.724, total=   0.0s\n",
      "[CV] bootstrap=False, criterion=gini, max_depth=None, min_samples_leaf=1, min_samples_split=2, n_estimators=5 \n",
      "[CV]  bootstrap=False, criterion=gini, max_depth=None, min_samples_leaf=1, min_samples_split=2, n_estimators=5, score=0.722, total=   0.0s\n",
      "[CV] bootstrap=False, criterion=gini, max_depth=None, min_samples_leaf=1, min_samples_split=2, n_estimators=5 \n",
      "[CV]  bootstrap=False, criterion=gini, max_depth=None, min_samples_leaf=1, min_samples_split=2, n_estimators=5, score=0.658, total=   0.0s\n",
      "[CV] bootstrap=False, criterion=gini, max_depth=None, min_samples_leaf=1, min_samples_split=2, n_estimators=10 \n",
      "[CV]  bootstrap=False, criterion=gini, max_depth=None, min_samples_leaf=1, min_samples_split=2, n_estimators=10, score=0.683, total=   0.0s\n",
      "[CV] bootstrap=False, criterion=gini, max_depth=None, min_samples_leaf=1, min_samples_split=2, n_estimators=10 \n",
      "[CV]  bootstrap=False, criterion=gini, max_depth=None, min_samples_leaf=1, min_samples_split=2, n_estimators=10, score=0.711, total=   0.0s\n",
      "[CV] bootstrap=False, criterion=gini, max_depth=None, min_samples_leaf=1, min_samples_split=2, n_estimators=10 \n",
      "[CV]  bootstrap=False, criterion=gini, max_depth=None, min_samples_leaf=1, min_samples_split=2, n_estimators=10, score=0.703, total=   0.0s\n",
      "[CV] bootstrap=False, criterion=gini, max_depth=None, min_samples_leaf=1, min_samples_split=2, n_estimators=20 \n",
      "[CV]  bootstrap=False, criterion=gini, max_depth=None, min_samples_leaf=1, min_samples_split=2, n_estimators=20, score=0.716, total=   0.0s\n",
      "[CV] bootstrap=False, criterion=gini, max_depth=None, min_samples_leaf=1, min_samples_split=2, n_estimators=20 \n",
      "[CV]  bootstrap=False, criterion=gini, max_depth=None, min_samples_leaf=1, min_samples_split=2, n_estimators=20, score=0.699, total=   0.0s\n",
      "[CV] bootstrap=False, criterion=gini, max_depth=None, min_samples_leaf=1, min_samples_split=2, n_estimators=20 \n",
      "[CV]  bootstrap=False, criterion=gini, max_depth=None, min_samples_leaf=1, min_samples_split=2, n_estimators=20, score=0.688, total=   0.1s\n",
      "[CV] bootstrap=False, criterion=gini, max_depth=None, min_samples_leaf=1, min_samples_split=2, n_estimators=50 \n",
      "[CV]  bootstrap=False, criterion=gini, max_depth=None, min_samples_leaf=1, min_samples_split=2, n_estimators=50, score=0.713, total=   0.1s\n",
      "[CV] bootstrap=False, criterion=gini, max_depth=None, min_samples_leaf=1, min_samples_split=2, n_estimators=50 \n",
      "[CV]  bootstrap=False, criterion=gini, max_depth=None, min_samples_leaf=1, min_samples_split=2, n_estimators=50, score=0.684, total=   0.1s\n",
      "[CV] bootstrap=False, criterion=gini, max_depth=None, min_samples_leaf=1, min_samples_split=2, n_estimators=50 \n",
      "[CV]  bootstrap=False, criterion=gini, max_depth=None, min_samples_leaf=1, min_samples_split=2, n_estimators=50, score=0.688, total=   0.1s\n",
      "[CV] bootstrap=False, criterion=gini, max_depth=None, min_samples_leaf=1, min_samples_split=5, n_estimators=5 \n",
      "[CV]  bootstrap=False, criterion=gini, max_depth=None, min_samples_leaf=1, min_samples_split=5, n_estimators=5, score=0.694, total=   0.0s\n",
      "[CV] bootstrap=False, criterion=gini, max_depth=None, min_samples_leaf=1, min_samples_split=5, n_estimators=5 \n",
      "[CV]  bootstrap=False, criterion=gini, max_depth=None, min_samples_leaf=1, min_samples_split=5, n_estimators=5, score=0.688, total=   0.0s\n",
      "[CV] bootstrap=False, criterion=gini, max_depth=None, min_samples_leaf=1, min_samples_split=5, n_estimators=5 \n",
      "[CV]  bootstrap=False, criterion=gini, max_depth=None, min_samples_leaf=1, min_samples_split=5, n_estimators=5, score=0.669, total=   0.0s\n",
      "[CV] bootstrap=False, criterion=gini, max_depth=None, min_samples_leaf=1, min_samples_split=5, n_estimators=10 \n",
      "[CV]  bootstrap=False, criterion=gini, max_depth=None, min_samples_leaf=1, min_samples_split=5, n_estimators=10, score=0.724, total=   0.0s\n",
      "[CV] bootstrap=False, criterion=gini, max_depth=None, min_samples_leaf=1, min_samples_split=5, n_estimators=10 \n",
      "[CV]  bootstrap=False, criterion=gini, max_depth=None, min_samples_leaf=1, min_samples_split=5, n_estimators=10, score=0.737, total=   0.0s\n",
      "[CV] bootstrap=False, criterion=gini, max_depth=None, min_samples_leaf=1, min_samples_split=5, n_estimators=10 \n",
      "[CV]  bootstrap=False, criterion=gini, max_depth=None, min_samples_leaf=1, min_samples_split=5, n_estimators=10, score=0.695, total=   0.0s\n",
      "[CV] bootstrap=False, criterion=gini, max_depth=None, min_samples_leaf=1, min_samples_split=5, n_estimators=20 \n",
      "[CV]  bootstrap=False, criterion=gini, max_depth=None, min_samples_leaf=1, min_samples_split=5, n_estimators=20, score=0.713, total=   0.0s\n",
      "[CV] bootstrap=False, criterion=gini, max_depth=None, min_samples_leaf=1, min_samples_split=5, n_estimators=20 \n"
     ]
    },
    {
     "name": "stdout",
     "output_type": "stream",
     "text": [
      "[CV]  bootstrap=False, criterion=gini, max_depth=None, min_samples_leaf=1, min_samples_split=5, n_estimators=20, score=0.692, total=   0.1s\n",
      "[CV] bootstrap=False, criterion=gini, max_depth=None, min_samples_leaf=1, min_samples_split=5, n_estimators=20 \n",
      "[CV]  bootstrap=False, criterion=gini, max_depth=None, min_samples_leaf=1, min_samples_split=5, n_estimators=20, score=0.718, total=   0.1s\n",
      "[CV] bootstrap=False, criterion=gini, max_depth=None, min_samples_leaf=1, min_samples_split=5, n_estimators=50 \n",
      "[CV]  bootstrap=False, criterion=gini, max_depth=None, min_samples_leaf=1, min_samples_split=5, n_estimators=50, score=0.735, total=   0.1s\n",
      "[CV] bootstrap=False, criterion=gini, max_depth=None, min_samples_leaf=1, min_samples_split=5, n_estimators=50 \n",
      "[CV]  bootstrap=False, criterion=gini, max_depth=None, min_samples_leaf=1, min_samples_split=5, n_estimators=50, score=0.718, total=   0.1s\n",
      "[CV] bootstrap=False, criterion=gini, max_depth=None, min_samples_leaf=1, min_samples_split=5, n_estimators=50 \n",
      "[CV]  bootstrap=False, criterion=gini, max_depth=None, min_samples_leaf=1, min_samples_split=5, n_estimators=50, score=0.718, total=   0.1s\n",
      "[CV] bootstrap=False, criterion=gini, max_depth=None, min_samples_leaf=5, min_samples_split=2, n_estimators=5 \n",
      "[CV]  bootstrap=False, criterion=gini, max_depth=None, min_samples_leaf=5, min_samples_split=2, n_estimators=5, score=0.724, total=   0.0s\n",
      "[CV] bootstrap=False, criterion=gini, max_depth=None, min_samples_leaf=5, min_samples_split=2, n_estimators=5 \n",
      "[CV]  bootstrap=False, criterion=gini, max_depth=None, min_samples_leaf=5, min_samples_split=2, n_estimators=5, score=0.707, total=   0.0s\n",
      "[CV] bootstrap=False, criterion=gini, max_depth=None, min_samples_leaf=5, min_samples_split=2, n_estimators=5 \n",
      "[CV]  bootstrap=False, criterion=gini, max_depth=None, min_samples_leaf=5, min_samples_split=2, n_estimators=5, score=0.673, total=   0.0s\n",
      "[CV] bootstrap=False, criterion=gini, max_depth=None, min_samples_leaf=5, min_samples_split=2, n_estimators=10 \n",
      "[CV]  bootstrap=False, criterion=gini, max_depth=None, min_samples_leaf=5, min_samples_split=2, n_estimators=10, score=0.724, total=   0.0s\n",
      "[CV] bootstrap=False, criterion=gini, max_depth=None, min_samples_leaf=5, min_samples_split=2, n_estimators=10 \n",
      "[CV]  bootstrap=False, criterion=gini, max_depth=None, min_samples_leaf=5, min_samples_split=2, n_estimators=10, score=0.726, total=   0.0s\n",
      "[CV] bootstrap=False, criterion=gini, max_depth=None, min_samples_leaf=5, min_samples_split=2, n_estimators=10 \n",
      "[CV]  bootstrap=False, criterion=gini, max_depth=None, min_samples_leaf=5, min_samples_split=2, n_estimators=10, score=0.707, total=   0.0s\n",
      "[CV] bootstrap=False, criterion=gini, max_depth=None, min_samples_leaf=5, min_samples_split=2, n_estimators=20 \n",
      "[CV]  bootstrap=False, criterion=gini, max_depth=None, min_samples_leaf=5, min_samples_split=2, n_estimators=20, score=0.705, total=   0.0s\n",
      "[CV] bootstrap=False, criterion=gini, max_depth=None, min_samples_leaf=5, min_samples_split=2, n_estimators=20 \n",
      "[CV]  bootstrap=False, criterion=gini, max_depth=None, min_samples_leaf=5, min_samples_split=2, n_estimators=20, score=0.711, total=   0.0s\n",
      "[CV] bootstrap=False, criterion=gini, max_depth=None, min_samples_leaf=5, min_samples_split=2, n_estimators=20 \n",
      "[CV]  bootstrap=False, criterion=gini, max_depth=None, min_samples_leaf=5, min_samples_split=2, n_estimators=20, score=0.729, total=   0.0s\n",
      "[CV] bootstrap=False, criterion=gini, max_depth=None, min_samples_leaf=5, min_samples_split=2, n_estimators=50 \n",
      "[CV]  bootstrap=False, criterion=gini, max_depth=None, min_samples_leaf=5, min_samples_split=2, n_estimators=50, score=0.724, total=   0.1s\n",
      "[CV] bootstrap=False, criterion=gini, max_depth=None, min_samples_leaf=5, min_samples_split=2, n_estimators=50 \n",
      "[CV]  bootstrap=False, criterion=gini, max_depth=None, min_samples_leaf=5, min_samples_split=2, n_estimators=50, score=0.726, total=   0.1s\n",
      "[CV] bootstrap=False, criterion=gini, max_depth=None, min_samples_leaf=5, min_samples_split=2, n_estimators=50 \n",
      "[CV]  bootstrap=False, criterion=gini, max_depth=None, min_samples_leaf=5, min_samples_split=2, n_estimators=50, score=0.695, total=   0.1s\n",
      "[CV] bootstrap=False, criterion=gini, max_depth=None, min_samples_leaf=5, min_samples_split=5, n_estimators=5 \n",
      "[CV]  bootstrap=False, criterion=gini, max_depth=None, min_samples_leaf=5, min_samples_split=5, n_estimators=5, score=0.713, total=   0.0s\n",
      "[CV] bootstrap=False, criterion=gini, max_depth=None, min_samples_leaf=5, min_samples_split=5, n_estimators=5 \n",
      "[CV]  bootstrap=False, criterion=gini, max_depth=None, min_samples_leaf=5, min_samples_split=5, n_estimators=5, score=0.729, total=   0.0s\n",
      "[CV] bootstrap=False, criterion=gini, max_depth=None, min_samples_leaf=5, min_samples_split=5, n_estimators=5 \n",
      "[CV]  bootstrap=False, criterion=gini, max_depth=None, min_samples_leaf=5, min_samples_split=5, n_estimators=5, score=0.699, total=   0.0s\n",
      "[CV] bootstrap=False, criterion=gini, max_depth=None, min_samples_leaf=5, min_samples_split=5, n_estimators=10 \n",
      "[CV]  bootstrap=False, criterion=gini, max_depth=None, min_samples_leaf=5, min_samples_split=5, n_estimators=10, score=0.701, total=   0.0s\n",
      "[CV] bootstrap=False, criterion=gini, max_depth=None, min_samples_leaf=5, min_samples_split=5, n_estimators=10 \n",
      "[CV]  bootstrap=False, criterion=gini, max_depth=None, min_samples_leaf=5, min_samples_split=5, n_estimators=10, score=0.744, total=   0.0s\n",
      "[CV] bootstrap=False, criterion=gini, max_depth=None, min_samples_leaf=5, min_samples_split=5, n_estimators=10 \n",
      "[CV]  bootstrap=False, criterion=gini, max_depth=None, min_samples_leaf=5, min_samples_split=5, n_estimators=10, score=0.703, total=   0.0s\n",
      "[CV] bootstrap=False, criterion=gini, max_depth=None, min_samples_leaf=5, min_samples_split=5, n_estimators=20 \n",
      "[CV]  bootstrap=False, criterion=gini, max_depth=None, min_samples_leaf=5, min_samples_split=5, n_estimators=20, score=0.716, total=   0.0s\n",
      "[CV] bootstrap=False, criterion=gini, max_depth=None, min_samples_leaf=5, min_samples_split=5, n_estimators=20 \n",
      "[CV]  bootstrap=False, criterion=gini, max_depth=None, min_samples_leaf=5, min_samples_split=5, n_estimators=20, score=0.714, total=   0.1s\n",
      "[CV] bootstrap=False, criterion=gini, max_depth=None, min_samples_leaf=5, min_samples_split=5, n_estimators=20 \n",
      "[CV]  bootstrap=False, criterion=gini, max_depth=None, min_samples_leaf=5, min_samples_split=5, n_estimators=20, score=0.703, total=   0.0s\n",
      "[CV] bootstrap=False, criterion=gini, max_depth=None, min_samples_leaf=5, min_samples_split=5, n_estimators=50 \n",
      "[CV]  bootstrap=False, criterion=gini, max_depth=None, min_samples_leaf=5, min_samples_split=5, n_estimators=50, score=0.709, total=   0.1s\n",
      "[CV] bootstrap=False, criterion=gini, max_depth=None, min_samples_leaf=5, min_samples_split=5, n_estimators=50 \n",
      "[CV]  bootstrap=False, criterion=gini, max_depth=None, min_samples_leaf=5, min_samples_split=5, n_estimators=50, score=0.737, total=   0.1s\n",
      "[CV] bootstrap=False, criterion=gini, max_depth=None, min_samples_leaf=5, min_samples_split=5, n_estimators=50 \n",
      "[CV]  bootstrap=False, criterion=gini, max_depth=None, min_samples_leaf=5, min_samples_split=5, n_estimators=50, score=0.718, total=   0.1s\n",
      "[CV] bootstrap=False, criterion=gini, max_depth=5, min_samples_leaf=1, min_samples_split=2, n_estimators=5 \n",
      "[CV]  bootstrap=False, criterion=gini, max_depth=5, min_samples_leaf=1, min_samples_split=2, n_estimators=5, score=0.709, total=   0.0s\n",
      "[CV] bootstrap=False, criterion=gini, max_depth=5, min_samples_leaf=1, min_samples_split=2, n_estimators=5 \n",
      "[CV]  bootstrap=False, criterion=gini, max_depth=5, min_samples_leaf=1, min_samples_split=2, n_estimators=5, score=0.680, total=   0.0s\n",
      "[CV] bootstrap=False, criterion=gini, max_depth=5, min_samples_leaf=1, min_samples_split=2, n_estimators=5 \n",
      "[CV]  bootstrap=False, criterion=gini, max_depth=5, min_samples_leaf=1, min_samples_split=2, n_estimators=5, score=0.722, total=   0.0s\n",
      "[CV] bootstrap=False, criterion=gini, max_depth=5, min_samples_leaf=1, min_samples_split=2, n_estimators=10 \n",
      "[CV]  bootstrap=False, criterion=gini, max_depth=5, min_samples_leaf=1, min_samples_split=2, n_estimators=10, score=0.687, total=   0.0s\n",
      "[CV] bootstrap=False, criterion=gini, max_depth=5, min_samples_leaf=1, min_samples_split=2, n_estimators=10 \n",
      "[CV]  bootstrap=False, criterion=gini, max_depth=5, min_samples_leaf=1, min_samples_split=2, n_estimators=10, score=0.695, total=   0.0s\n",
      "[CV] bootstrap=False, criterion=gini, max_depth=5, min_samples_leaf=1, min_samples_split=2, n_estimators=10 \n",
      "[CV]  bootstrap=False, criterion=gini, max_depth=5, min_samples_leaf=1, min_samples_split=2, n_estimators=10, score=0.726, total=   0.0s\n",
      "[CV] bootstrap=False, criterion=gini, max_depth=5, min_samples_leaf=1, min_samples_split=2, n_estimators=20 \n"
     ]
    },
    {
     "name": "stdout",
     "output_type": "stream",
     "text": [
      "[CV]  bootstrap=False, criterion=gini, max_depth=5, min_samples_leaf=1, min_samples_split=2, n_estimators=20, score=0.728, total=   0.0s\n",
      "[CV] bootstrap=False, criterion=gini, max_depth=5, min_samples_leaf=1, min_samples_split=2, n_estimators=20 \n",
      "[CV]  bootstrap=False, criterion=gini, max_depth=5, min_samples_leaf=1, min_samples_split=2, n_estimators=20, score=0.714, total=   0.0s\n",
      "[CV] bootstrap=False, criterion=gini, max_depth=5, min_samples_leaf=1, min_samples_split=2, n_estimators=20 \n",
      "[CV]  bootstrap=False, criterion=gini, max_depth=5, min_samples_leaf=1, min_samples_split=2, n_estimators=20, score=0.714, total=   0.0s\n",
      "[CV] bootstrap=False, criterion=gini, max_depth=5, min_samples_leaf=1, min_samples_split=2, n_estimators=50 \n",
      "[CV]  bootstrap=False, criterion=gini, max_depth=5, min_samples_leaf=1, min_samples_split=2, n_estimators=50, score=0.724, total=   0.1s\n",
      "[CV] bootstrap=False, criterion=gini, max_depth=5, min_samples_leaf=1, min_samples_split=2, n_estimators=50 \n",
      "[CV]  bootstrap=False, criterion=gini, max_depth=5, min_samples_leaf=1, min_samples_split=2, n_estimators=50, score=0.718, total=   0.1s\n",
      "[CV] bootstrap=False, criterion=gini, max_depth=5, min_samples_leaf=1, min_samples_split=2, n_estimators=50 \n",
      "[CV]  bootstrap=False, criterion=gini, max_depth=5, min_samples_leaf=1, min_samples_split=2, n_estimators=50, score=0.722, total=   0.1s\n",
      "[CV] bootstrap=False, criterion=gini, max_depth=5, min_samples_leaf=1, min_samples_split=5, n_estimators=5 \n",
      "[CV]  bootstrap=False, criterion=gini, max_depth=5, min_samples_leaf=1, min_samples_split=5, n_estimators=5, score=0.716, total=   0.0s\n",
      "[CV] bootstrap=False, criterion=gini, max_depth=5, min_samples_leaf=1, min_samples_split=5, n_estimators=5 \n",
      "[CV]  bootstrap=False, criterion=gini, max_depth=5, min_samples_leaf=1, min_samples_split=5, n_estimators=5, score=0.707, total=   0.0s\n",
      "[CV] bootstrap=False, criterion=gini, max_depth=5, min_samples_leaf=1, min_samples_split=5, n_estimators=5 \n",
      "[CV]  bootstrap=False, criterion=gini, max_depth=5, min_samples_leaf=1, min_samples_split=5, n_estimators=5, score=0.718, total=   0.0s\n",
      "[CV] bootstrap=False, criterion=gini, max_depth=5, min_samples_leaf=1, min_samples_split=5, n_estimators=10 \n",
      "[CV]  bootstrap=False, criterion=gini, max_depth=5, min_samples_leaf=1, min_samples_split=5, n_estimators=10, score=0.713, total=   0.0s\n",
      "[CV] bootstrap=False, criterion=gini, max_depth=5, min_samples_leaf=1, min_samples_split=5, n_estimators=10 \n",
      "[CV]  bootstrap=False, criterion=gini, max_depth=5, min_samples_leaf=1, min_samples_split=5, n_estimators=10, score=0.695, total=   0.0s\n",
      "[CV] bootstrap=False, criterion=gini, max_depth=5, min_samples_leaf=1, min_samples_split=5, n_estimators=10 \n",
      "[CV]  bootstrap=False, criterion=gini, max_depth=5, min_samples_leaf=1, min_samples_split=5, n_estimators=10, score=0.733, total=   0.0s\n",
      "[CV] bootstrap=False, criterion=gini, max_depth=5, min_samples_leaf=1, min_samples_split=5, n_estimators=20 \n",
      "[CV]  bootstrap=False, criterion=gini, max_depth=5, min_samples_leaf=1, min_samples_split=5, n_estimators=20, score=0.724, total=   0.0s\n",
      "[CV] bootstrap=False, criterion=gini, max_depth=5, min_samples_leaf=1, min_samples_split=5, n_estimators=20 \n",
      "[CV]  bootstrap=False, criterion=gini, max_depth=5, min_samples_leaf=1, min_samples_split=5, n_estimators=20, score=0.699, total=   0.0s\n",
      "[CV] bootstrap=False, criterion=gini, max_depth=5, min_samples_leaf=1, min_samples_split=5, n_estimators=20 \n",
      "[CV]  bootstrap=False, criterion=gini, max_depth=5, min_samples_leaf=1, min_samples_split=5, n_estimators=20, score=0.726, total=   0.0s\n",
      "[CV] bootstrap=False, criterion=gini, max_depth=5, min_samples_leaf=1, min_samples_split=5, n_estimators=50 \n",
      "[CV]  bootstrap=False, criterion=gini, max_depth=5, min_samples_leaf=1, min_samples_split=5, n_estimators=50, score=0.709, total=   0.1s\n",
      "[CV] bootstrap=False, criterion=gini, max_depth=5, min_samples_leaf=1, min_samples_split=5, n_estimators=50 \n",
      "[CV]  bootstrap=False, criterion=gini, max_depth=5, min_samples_leaf=1, min_samples_split=5, n_estimators=50, score=0.714, total=   0.1s\n",
      "[CV] bootstrap=False, criterion=gini, max_depth=5, min_samples_leaf=1, min_samples_split=5, n_estimators=50 \n",
      "[CV]  bootstrap=False, criterion=gini, max_depth=5, min_samples_leaf=1, min_samples_split=5, n_estimators=50, score=0.718, total=   0.1s\n",
      "[CV] bootstrap=False, criterion=gini, max_depth=5, min_samples_leaf=5, min_samples_split=2, n_estimators=5 \n",
      "[CV]  bootstrap=False, criterion=gini, max_depth=5, min_samples_leaf=5, min_samples_split=2, n_estimators=5, score=0.720, total=   0.0s\n",
      "[CV] bootstrap=False, criterion=gini, max_depth=5, min_samples_leaf=5, min_samples_split=2, n_estimators=5 \n",
      "[CV]  bootstrap=False, criterion=gini, max_depth=5, min_samples_leaf=5, min_samples_split=2, n_estimators=5, score=0.707, total=   0.0s\n",
      "[CV] bootstrap=False, criterion=gini, max_depth=5, min_samples_leaf=5, min_samples_split=2, n_estimators=5 \n",
      "[CV]  bootstrap=False, criterion=gini, max_depth=5, min_samples_leaf=5, min_samples_split=2, n_estimators=5, score=0.722, total=   0.0s\n",
      "[CV] bootstrap=False, criterion=gini, max_depth=5, min_samples_leaf=5, min_samples_split=2, n_estimators=10 \n",
      "[CV]  bootstrap=False, criterion=gini, max_depth=5, min_samples_leaf=5, min_samples_split=2, n_estimators=10, score=0.716, total=   0.0s\n",
      "[CV] bootstrap=False, criterion=gini, max_depth=5, min_samples_leaf=5, min_samples_split=2, n_estimators=10 \n",
      "[CV]  bootstrap=False, criterion=gini, max_depth=5, min_samples_leaf=5, min_samples_split=2, n_estimators=10, score=0.707, total=   0.0s\n",
      "[CV] bootstrap=False, criterion=gini, max_depth=5, min_samples_leaf=5, min_samples_split=2, n_estimators=10 \n",
      "[CV]  bootstrap=False, criterion=gini, max_depth=5, min_samples_leaf=5, min_samples_split=2, n_estimators=10, score=0.733, total=   0.0s\n",
      "[CV] bootstrap=False, criterion=gini, max_depth=5, min_samples_leaf=5, min_samples_split=2, n_estimators=20 \n",
      "[CV]  bootstrap=False, criterion=gini, max_depth=5, min_samples_leaf=5, min_samples_split=2, n_estimators=20, score=0.709, total=   0.0s\n",
      "[CV] bootstrap=False, criterion=gini, max_depth=5, min_samples_leaf=5, min_samples_split=2, n_estimators=20 \n",
      "[CV]  bootstrap=False, criterion=gini, max_depth=5, min_samples_leaf=5, min_samples_split=2, n_estimators=20, score=0.711, total=   0.0s\n",
      "[CV] bootstrap=False, criterion=gini, max_depth=5, min_samples_leaf=5, min_samples_split=2, n_estimators=20 \n",
      "[CV]  bootstrap=False, criterion=gini, max_depth=5, min_samples_leaf=5, min_samples_split=2, n_estimators=20, score=0.729, total=   0.0s\n",
      "[CV] bootstrap=False, criterion=gini, max_depth=5, min_samples_leaf=5, min_samples_split=2, n_estimators=50 \n",
      "[CV]  bootstrap=False, criterion=gini, max_depth=5, min_samples_leaf=5, min_samples_split=2, n_estimators=50, score=0.731, total=   0.1s\n",
      "[CV] bootstrap=False, criterion=gini, max_depth=5, min_samples_leaf=5, min_samples_split=2, n_estimators=50 \n",
      "[CV]  bootstrap=False, criterion=gini, max_depth=5, min_samples_leaf=5, min_samples_split=2, n_estimators=50, score=0.722, total=   0.1s\n",
      "[CV] bootstrap=False, criterion=gini, max_depth=5, min_samples_leaf=5, min_samples_split=2, n_estimators=50 \n",
      "[CV]  bootstrap=False, criterion=gini, max_depth=5, min_samples_leaf=5, min_samples_split=2, n_estimators=50, score=0.714, total=   0.1s\n",
      "[CV] bootstrap=False, criterion=gini, max_depth=5, min_samples_leaf=5, min_samples_split=5, n_estimators=5 \n",
      "[CV]  bootstrap=False, criterion=gini, max_depth=5, min_samples_leaf=5, min_samples_split=5, n_estimators=5, score=0.720, total=   0.0s\n",
      "[CV] bootstrap=False, criterion=gini, max_depth=5, min_samples_leaf=5, min_samples_split=5, n_estimators=5 \n",
      "[CV]  bootstrap=False, criterion=gini, max_depth=5, min_samples_leaf=5, min_samples_split=5, n_estimators=5, score=0.722, total=   0.0s\n",
      "[CV] bootstrap=False, criterion=gini, max_depth=5, min_samples_leaf=5, min_samples_split=5, n_estimators=5 \n",
      "[CV]  bootstrap=False, criterion=gini, max_depth=5, min_samples_leaf=5, min_samples_split=5, n_estimators=5, score=0.703, total=   0.0s\n",
      "[CV] bootstrap=False, criterion=gini, max_depth=5, min_samples_leaf=5, min_samples_split=5, n_estimators=10 \n",
      "[CV]  bootstrap=False, criterion=gini, max_depth=5, min_samples_leaf=5, min_samples_split=5, n_estimators=10, score=0.716, total=   0.0s\n",
      "[CV] bootstrap=False, criterion=gini, max_depth=5, min_samples_leaf=5, min_samples_split=5, n_estimators=10 \n",
      "[CV]  bootstrap=False, criterion=gini, max_depth=5, min_samples_leaf=5, min_samples_split=5, n_estimators=10, score=0.692, total=   0.0s\n",
      "[CV] bootstrap=False, criterion=gini, max_depth=5, min_samples_leaf=5, min_samples_split=5, n_estimators=10 \n",
      "[CV]  bootstrap=False, criterion=gini, max_depth=5, min_samples_leaf=5, min_samples_split=5, n_estimators=10, score=0.718, total=   0.0s\n",
      "[CV] bootstrap=False, criterion=gini, max_depth=5, min_samples_leaf=5, min_samples_split=5, n_estimators=20 \n"
     ]
    },
    {
     "name": "stdout",
     "output_type": "stream",
     "text": [
      "[CV]  bootstrap=False, criterion=gini, max_depth=5, min_samples_leaf=5, min_samples_split=5, n_estimators=20, score=0.731, total=   0.0s\n",
      "[CV] bootstrap=False, criterion=gini, max_depth=5, min_samples_leaf=5, min_samples_split=5, n_estimators=20 \n",
      "[CV]  bootstrap=False, criterion=gini, max_depth=5, min_samples_leaf=5, min_samples_split=5, n_estimators=20, score=0.722, total=   0.0s\n",
      "[CV] bootstrap=False, criterion=gini, max_depth=5, min_samples_leaf=5, min_samples_split=5, n_estimators=20 \n",
      "[CV]  bootstrap=False, criterion=gini, max_depth=5, min_samples_leaf=5, min_samples_split=5, n_estimators=20, score=0.726, total=   0.1s\n",
      "[CV] bootstrap=False, criterion=gini, max_depth=5, min_samples_leaf=5, min_samples_split=5, n_estimators=50 \n",
      "[CV]  bootstrap=False, criterion=gini, max_depth=5, min_samples_leaf=5, min_samples_split=5, n_estimators=50, score=0.713, total=   0.1s\n",
      "[CV] bootstrap=False, criterion=gini, max_depth=5, min_samples_leaf=5, min_samples_split=5, n_estimators=50 \n",
      "[CV]  bootstrap=False, criterion=gini, max_depth=5, min_samples_leaf=5, min_samples_split=5, n_estimators=50, score=0.737, total=   0.1s\n",
      "[CV] bootstrap=False, criterion=gini, max_depth=5, min_samples_leaf=5, min_samples_split=5, n_estimators=50 \n",
      "[CV]  bootstrap=False, criterion=gini, max_depth=5, min_samples_leaf=5, min_samples_split=5, n_estimators=50, score=0.718, total=   0.1s\n",
      "[CV] bootstrap=False, criterion=gini, max_depth=10, min_samples_leaf=1, min_samples_split=2, n_estimators=5 \n",
      "[CV]  bootstrap=False, criterion=gini, max_depth=10, min_samples_leaf=1, min_samples_split=2, n_estimators=5, score=0.731, total=   0.0s\n",
      "[CV] bootstrap=False, criterion=gini, max_depth=10, min_samples_leaf=1, min_samples_split=2, n_estimators=5 \n",
      "[CV]  bootstrap=False, criterion=gini, max_depth=10, min_samples_leaf=1, min_samples_split=2, n_estimators=5, score=0.703, total=   0.0s\n",
      "[CV] bootstrap=False, criterion=gini, max_depth=10, min_samples_leaf=1, min_samples_split=2, n_estimators=5 \n",
      "[CV]  bootstrap=False, criterion=gini, max_depth=10, min_samples_leaf=1, min_samples_split=2, n_estimators=5, score=0.688, total=   0.0s\n",
      "[CV] bootstrap=False, criterion=gini, max_depth=10, min_samples_leaf=1, min_samples_split=2, n_estimators=10 \n",
      "[CV]  bootstrap=False, criterion=gini, max_depth=10, min_samples_leaf=1, min_samples_split=2, n_estimators=10, score=0.735, total=   0.0s\n",
      "[CV] bootstrap=False, criterion=gini, max_depth=10, min_samples_leaf=1, min_samples_split=2, n_estimators=10 \n",
      "[CV]  bootstrap=False, criterion=gini, max_depth=10, min_samples_leaf=1, min_samples_split=2, n_estimators=10, score=0.662, total=   0.0s\n",
      "[CV] bootstrap=False, criterion=gini, max_depth=10, min_samples_leaf=1, min_samples_split=2, n_estimators=10 \n",
      "[CV]  bootstrap=False, criterion=gini, max_depth=10, min_samples_leaf=1, min_samples_split=2, n_estimators=10, score=0.699, total=   0.0s\n",
      "[CV] bootstrap=False, criterion=gini, max_depth=10, min_samples_leaf=1, min_samples_split=2, n_estimators=20 \n",
      "[CV]  bootstrap=False, criterion=gini, max_depth=10, min_samples_leaf=1, min_samples_split=2, n_estimators=20, score=0.709, total=   0.0s\n",
      "[CV] bootstrap=False, criterion=gini, max_depth=10, min_samples_leaf=1, min_samples_split=2, n_estimators=20 \n",
      "[CV]  bootstrap=False, criterion=gini, max_depth=10, min_samples_leaf=1, min_samples_split=2, n_estimators=20, score=0.703, total=   0.0s\n",
      "[CV] bootstrap=False, criterion=gini, max_depth=10, min_samples_leaf=1, min_samples_split=2, n_estimators=20 \n",
      "[CV]  bootstrap=False, criterion=gini, max_depth=10, min_samples_leaf=1, min_samples_split=2, n_estimators=20, score=0.699, total=   0.0s\n",
      "[CV] bootstrap=False, criterion=gini, max_depth=10, min_samples_leaf=1, min_samples_split=2, n_estimators=50 \n",
      "[CV]  bootstrap=False, criterion=gini, max_depth=10, min_samples_leaf=1, min_samples_split=2, n_estimators=50, score=0.716, total=   0.1s\n",
      "[CV] bootstrap=False, criterion=gini, max_depth=10, min_samples_leaf=1, min_samples_split=2, n_estimators=50 \n",
      "[CV]  bootstrap=False, criterion=gini, max_depth=10, min_samples_leaf=1, min_samples_split=2, n_estimators=50, score=0.711, total=   0.1s\n",
      "[CV] bootstrap=False, criterion=gini, max_depth=10, min_samples_leaf=1, min_samples_split=2, n_estimators=50 \n",
      "[CV]  bootstrap=False, criterion=gini, max_depth=10, min_samples_leaf=1, min_samples_split=2, n_estimators=50, score=0.707, total=   0.1s\n",
      "[CV] bootstrap=False, criterion=gini, max_depth=10, min_samples_leaf=1, min_samples_split=5, n_estimators=5 \n",
      "[CV]  bootstrap=False, criterion=gini, max_depth=10, min_samples_leaf=1, min_samples_split=5, n_estimators=5, score=0.731, total=   0.0s\n",
      "[CV] bootstrap=False, criterion=gini, max_depth=10, min_samples_leaf=1, min_samples_split=5, n_estimators=5 \n",
      "[CV]  bootstrap=False, criterion=gini, max_depth=10, min_samples_leaf=1, min_samples_split=5, n_estimators=5, score=0.722, total=   0.0s\n",
      "[CV] bootstrap=False, criterion=gini, max_depth=10, min_samples_leaf=1, min_samples_split=5, n_estimators=5 \n",
      "[CV]  bootstrap=False, criterion=gini, max_depth=10, min_samples_leaf=1, min_samples_split=5, n_estimators=5, score=0.711, total=   0.0s\n",
      "[CV] bootstrap=False, criterion=gini, max_depth=10, min_samples_leaf=1, min_samples_split=5, n_estimators=10 \n",
      "[CV]  bootstrap=False, criterion=gini, max_depth=10, min_samples_leaf=1, min_samples_split=5, n_estimators=10, score=0.743, total=   0.0s\n",
      "[CV] bootstrap=False, criterion=gini, max_depth=10, min_samples_leaf=1, min_samples_split=5, n_estimators=10 \n",
      "[CV]  bootstrap=False, criterion=gini, max_depth=10, min_samples_leaf=1, min_samples_split=5, n_estimators=10, score=0.680, total=   0.0s\n",
      "[CV] bootstrap=False, criterion=gini, max_depth=10, min_samples_leaf=1, min_samples_split=5, n_estimators=10 \n",
      "[CV]  bootstrap=False, criterion=gini, max_depth=10, min_samples_leaf=1, min_samples_split=5, n_estimators=10, score=0.707, total=   0.0s\n",
      "[CV] bootstrap=False, criterion=gini, max_depth=10, min_samples_leaf=1, min_samples_split=5, n_estimators=20 \n",
      "[CV]  bootstrap=False, criterion=gini, max_depth=10, min_samples_leaf=1, min_samples_split=5, n_estimators=20, score=0.705, total=   0.0s\n",
      "[CV] bootstrap=False, criterion=gini, max_depth=10, min_samples_leaf=1, min_samples_split=5, n_estimators=20 \n",
      "[CV]  bootstrap=False, criterion=gini, max_depth=10, min_samples_leaf=1, min_samples_split=5, n_estimators=20, score=0.703, total=   0.1s\n",
      "[CV] bootstrap=False, criterion=gini, max_depth=10, min_samples_leaf=1, min_samples_split=5, n_estimators=20 \n",
      "[CV]  bootstrap=False, criterion=gini, max_depth=10, min_samples_leaf=1, min_samples_split=5, n_estimators=20, score=0.703, total=   0.0s\n",
      "[CV] bootstrap=False, criterion=gini, max_depth=10, min_samples_leaf=1, min_samples_split=5, n_estimators=50 \n",
      "[CV]  bootstrap=False, criterion=gini, max_depth=10, min_samples_leaf=1, min_samples_split=5, n_estimators=50, score=0.720, total=   0.1s\n",
      "[CV] bootstrap=False, criterion=gini, max_depth=10, min_samples_leaf=1, min_samples_split=5, n_estimators=50 \n",
      "[CV]  bootstrap=False, criterion=gini, max_depth=10, min_samples_leaf=1, min_samples_split=5, n_estimators=50, score=0.711, total=   0.1s\n",
      "[CV] bootstrap=False, criterion=gini, max_depth=10, min_samples_leaf=1, min_samples_split=5, n_estimators=50 \n",
      "[CV]  bootstrap=False, criterion=gini, max_depth=10, min_samples_leaf=1, min_samples_split=5, n_estimators=50, score=0.699, total=   0.1s\n",
      "[CV] bootstrap=False, criterion=gini, max_depth=10, min_samples_leaf=5, min_samples_split=2, n_estimators=5 \n",
      "[CV]  bootstrap=False, criterion=gini, max_depth=10, min_samples_leaf=5, min_samples_split=2, n_estimators=5, score=0.713, total=   0.0s\n",
      "[CV] bootstrap=False, criterion=gini, max_depth=10, min_samples_leaf=5, min_samples_split=2, n_estimators=5 \n",
      "[CV]  bootstrap=False, criterion=gini, max_depth=10, min_samples_leaf=5, min_samples_split=2, n_estimators=5, score=0.707, total=   0.0s\n",
      "[CV] bootstrap=False, criterion=gini, max_depth=10, min_samples_leaf=5, min_samples_split=2, n_estimators=5 \n",
      "[CV]  bootstrap=False, criterion=gini, max_depth=10, min_samples_leaf=5, min_samples_split=2, n_estimators=5, score=0.699, total=   0.0s\n",
      "[CV] bootstrap=False, criterion=gini, max_depth=10, min_samples_leaf=5, min_samples_split=2, n_estimators=10 \n",
      "[CV]  bootstrap=False, criterion=gini, max_depth=10, min_samples_leaf=5, min_samples_split=2, n_estimators=10, score=0.713, total=   0.0s\n",
      "[CV] bootstrap=False, criterion=gini, max_depth=10, min_samples_leaf=5, min_samples_split=2, n_estimators=10 \n",
      "[CV]  bootstrap=False, criterion=gini, max_depth=10, min_samples_leaf=5, min_samples_split=2, n_estimators=10, score=0.699, total=   0.0s\n",
      "[CV] bootstrap=False, criterion=gini, max_depth=10, min_samples_leaf=5, min_samples_split=2, n_estimators=10 \n"
     ]
    },
    {
     "name": "stdout",
     "output_type": "stream",
     "text": [
      "[CV]  bootstrap=False, criterion=gini, max_depth=10, min_samples_leaf=5, min_samples_split=2, n_estimators=10, score=0.737, total=   0.0s\n",
      "[CV] bootstrap=False, criterion=gini, max_depth=10, min_samples_leaf=5, min_samples_split=2, n_estimators=20 \n",
      "[CV]  bootstrap=False, criterion=gini, max_depth=10, min_samples_leaf=5, min_samples_split=2, n_estimators=20, score=0.720, total=   0.0s\n",
      "[CV] bootstrap=False, criterion=gini, max_depth=10, min_samples_leaf=5, min_samples_split=2, n_estimators=20 \n",
      "[CV]  bootstrap=False, criterion=gini, max_depth=10, min_samples_leaf=5, min_samples_split=2, n_estimators=20, score=0.726, total=   0.0s\n",
      "[CV] bootstrap=False, criterion=gini, max_depth=10, min_samples_leaf=5, min_samples_split=2, n_estimators=20 \n",
      "[CV]  bootstrap=False, criterion=gini, max_depth=10, min_samples_leaf=5, min_samples_split=2, n_estimators=20, score=0.707, total=   0.0s\n",
      "[CV] bootstrap=False, criterion=gini, max_depth=10, min_samples_leaf=5, min_samples_split=2, n_estimators=50 \n",
      "[CV]  bootstrap=False, criterion=gini, max_depth=10, min_samples_leaf=5, min_samples_split=2, n_estimators=50, score=0.720, total=   0.1s\n",
      "[CV] bootstrap=False, criterion=gini, max_depth=10, min_samples_leaf=5, min_samples_split=2, n_estimators=50 \n",
      "[CV]  bootstrap=False, criterion=gini, max_depth=10, min_samples_leaf=5, min_samples_split=2, n_estimators=50, score=0.737, total=   0.1s\n",
      "[CV] bootstrap=False, criterion=gini, max_depth=10, min_samples_leaf=5, min_samples_split=2, n_estimators=50 \n",
      "[CV]  bootstrap=False, criterion=gini, max_depth=10, min_samples_leaf=5, min_samples_split=2, n_estimators=50, score=0.726, total=   0.1s\n",
      "[CV] bootstrap=False, criterion=gini, max_depth=10, min_samples_leaf=5, min_samples_split=5, n_estimators=5 \n",
      "[CV]  bootstrap=False, criterion=gini, max_depth=10, min_samples_leaf=5, min_samples_split=5, n_estimators=5, score=0.701, total=   0.0s\n",
      "[CV] bootstrap=False, criterion=gini, max_depth=10, min_samples_leaf=5, min_samples_split=5, n_estimators=5 \n",
      "[CV]  bootstrap=False, criterion=gini, max_depth=10, min_samples_leaf=5, min_samples_split=5, n_estimators=5, score=0.711, total=   0.0s\n",
      "[CV] bootstrap=False, criterion=gini, max_depth=10, min_samples_leaf=5, min_samples_split=5, n_estimators=5 \n",
      "[CV]  bootstrap=False, criterion=gini, max_depth=10, min_samples_leaf=5, min_samples_split=5, n_estimators=5, score=0.703, total=   0.0s\n",
      "[CV] bootstrap=False, criterion=gini, max_depth=10, min_samples_leaf=5, min_samples_split=5, n_estimators=10 \n",
      "[CV]  bootstrap=False, criterion=gini, max_depth=10, min_samples_leaf=5, min_samples_split=5, n_estimators=10, score=0.709, total=   0.0s\n",
      "[CV] bootstrap=False, criterion=gini, max_depth=10, min_samples_leaf=5, min_samples_split=5, n_estimators=10 \n",
      "[CV]  bootstrap=False, criterion=gini, max_depth=10, min_samples_leaf=5, min_samples_split=5, n_estimators=10, score=0.677, total=   0.0s\n",
      "[CV] bootstrap=False, criterion=gini, max_depth=10, min_samples_leaf=5, min_samples_split=5, n_estimators=10 \n",
      "[CV]  bootstrap=False, criterion=gini, max_depth=10, min_samples_leaf=5, min_samples_split=5, n_estimators=10, score=0.699, total=   0.0s\n",
      "[CV] bootstrap=False, criterion=gini, max_depth=10, min_samples_leaf=5, min_samples_split=5, n_estimators=20 \n",
      "[CV]  bootstrap=False, criterion=gini, max_depth=10, min_samples_leaf=5, min_samples_split=5, n_estimators=20, score=0.720, total=   0.0s\n",
      "[CV] bootstrap=False, criterion=gini, max_depth=10, min_samples_leaf=5, min_samples_split=5, n_estimators=20 \n",
      "[CV]  bootstrap=False, criterion=gini, max_depth=10, min_samples_leaf=5, min_samples_split=5, n_estimators=20, score=0.722, total=   0.0s\n",
      "[CV] bootstrap=False, criterion=gini, max_depth=10, min_samples_leaf=5, min_samples_split=5, n_estimators=20 \n",
      "[CV]  bootstrap=False, criterion=gini, max_depth=10, min_samples_leaf=5, min_samples_split=5, n_estimators=20, score=0.711, total=   0.0s\n",
      "[CV] bootstrap=False, criterion=gini, max_depth=10, min_samples_leaf=5, min_samples_split=5, n_estimators=50 \n",
      "[CV]  bootstrap=False, criterion=gini, max_depth=10, min_samples_leaf=5, min_samples_split=5, n_estimators=50, score=0.731, total=   0.1s\n",
      "[CV] bootstrap=False, criterion=gini, max_depth=10, min_samples_leaf=5, min_samples_split=5, n_estimators=50 \n",
      "[CV]  bootstrap=False, criterion=gini, max_depth=10, min_samples_leaf=5, min_samples_split=5, n_estimators=50, score=0.722, total=   0.1s\n",
      "[CV] bootstrap=False, criterion=gini, max_depth=10, min_samples_leaf=5, min_samples_split=5, n_estimators=50 \n",
      "[CV]  bootstrap=False, criterion=gini, max_depth=10, min_samples_leaf=5, min_samples_split=5, n_estimators=50, score=0.733, total=   0.1s\n",
      "[CV] bootstrap=False, criterion=gini, max_depth=15, min_samples_leaf=1, min_samples_split=2, n_estimators=5 \n",
      "[CV]  bootstrap=False, criterion=gini, max_depth=15, min_samples_leaf=1, min_samples_split=2, n_estimators=5, score=0.668, total=   0.0s\n",
      "[CV] bootstrap=False, criterion=gini, max_depth=15, min_samples_leaf=1, min_samples_split=2, n_estimators=5 \n",
      "[CV]  bootstrap=False, criterion=gini, max_depth=15, min_samples_leaf=1, min_samples_split=2, n_estimators=5, score=0.628, total=   0.0s\n",
      "[CV] bootstrap=False, criterion=gini, max_depth=15, min_samples_leaf=1, min_samples_split=2, n_estimators=5 \n",
      "[CV]  bootstrap=False, criterion=gini, max_depth=15, min_samples_leaf=1, min_samples_split=2, n_estimators=5, score=0.632, total=   0.0s\n",
      "[CV] bootstrap=False, criterion=gini, max_depth=15, min_samples_leaf=1, min_samples_split=2, n_estimators=10 \n",
      "[CV]  bootstrap=False, criterion=gini, max_depth=15, min_samples_leaf=1, min_samples_split=2, n_estimators=10, score=0.675, total=   0.0s\n",
      "[CV] bootstrap=False, criterion=gini, max_depth=15, min_samples_leaf=1, min_samples_split=2, n_estimators=10 \n",
      "[CV]  bootstrap=False, criterion=gini, max_depth=15, min_samples_leaf=1, min_samples_split=2, n_estimators=10, score=0.673, total=   0.0s\n",
      "[CV] bootstrap=False, criterion=gini, max_depth=15, min_samples_leaf=1, min_samples_split=2, n_estimators=10 \n",
      "[CV]  bootstrap=False, criterion=gini, max_depth=15, min_samples_leaf=1, min_samples_split=2, n_estimators=10, score=0.711, total=   0.0s\n",
      "[CV] bootstrap=False, criterion=gini, max_depth=15, min_samples_leaf=1, min_samples_split=2, n_estimators=20 \n",
      "[CV]  bootstrap=False, criterion=gini, max_depth=15, min_samples_leaf=1, min_samples_split=2, n_estimators=20, score=0.698, total=   0.0s\n",
      "[CV] bootstrap=False, criterion=gini, max_depth=15, min_samples_leaf=1, min_samples_split=2, n_estimators=20 \n",
      "[CV]  bootstrap=False, criterion=gini, max_depth=15, min_samples_leaf=1, min_samples_split=2, n_estimators=20, score=0.711, total=   0.1s\n",
      "[CV] bootstrap=False, criterion=gini, max_depth=15, min_samples_leaf=1, min_samples_split=2, n_estimators=20 \n",
      "[CV]  bootstrap=False, criterion=gini, max_depth=15, min_samples_leaf=1, min_samples_split=2, n_estimators=20, score=0.699, total=   0.0s\n",
      "[CV] bootstrap=False, criterion=gini, max_depth=15, min_samples_leaf=1, min_samples_split=2, n_estimators=50 \n",
      "[CV]  bootstrap=False, criterion=gini, max_depth=15, min_samples_leaf=1, min_samples_split=2, n_estimators=50, score=0.705, total=   0.1s\n",
      "[CV] bootstrap=False, criterion=gini, max_depth=15, min_samples_leaf=1, min_samples_split=2, n_estimators=50 \n",
      "[CV]  bootstrap=False, criterion=gini, max_depth=15, min_samples_leaf=1, min_samples_split=2, n_estimators=50, score=0.692, total=   0.1s\n",
      "[CV] bootstrap=False, criterion=gini, max_depth=15, min_samples_leaf=1, min_samples_split=2, n_estimators=50 \n",
      "[CV]  bootstrap=False, criterion=gini, max_depth=15, min_samples_leaf=1, min_samples_split=2, n_estimators=50, score=0.684, total=   0.2s\n",
      "[CV] bootstrap=False, criterion=gini, max_depth=15, min_samples_leaf=1, min_samples_split=5, n_estimators=5 \n",
      "[CV]  bootstrap=False, criterion=gini, max_depth=15, min_samples_leaf=1, min_samples_split=5, n_estimators=5, score=0.694, total=   0.0s\n",
      "[CV] bootstrap=False, criterion=gini, max_depth=15, min_samples_leaf=1, min_samples_split=5, n_estimators=5 \n",
      "[CV]  bootstrap=False, criterion=gini, max_depth=15, min_samples_leaf=1, min_samples_split=5, n_estimators=5, score=0.729, total=   0.0s\n",
      "[CV] bootstrap=False, criterion=gini, max_depth=15, min_samples_leaf=1, min_samples_split=5, n_estimators=5 \n",
      "[CV]  bootstrap=False, criterion=gini, max_depth=15, min_samples_leaf=1, min_samples_split=5, n_estimators=5, score=0.632, total=   0.0s\n",
      "[CV] bootstrap=False, criterion=gini, max_depth=15, min_samples_leaf=1, min_samples_split=5, n_estimators=10 \n",
      "[CV]  bootstrap=False, criterion=gini, max_depth=15, min_samples_leaf=1, min_samples_split=5, n_estimators=10, score=0.720, total=   0.0s\n",
      "[CV] bootstrap=False, criterion=gini, max_depth=15, min_samples_leaf=1, min_samples_split=5, n_estimators=10 \n",
      "[CV]  bootstrap=False, criterion=gini, max_depth=15, min_samples_leaf=1, min_samples_split=5, n_estimators=10, score=0.669, total=   0.0s\n",
      "[CV] bootstrap=False, criterion=gini, max_depth=15, min_samples_leaf=1, min_samples_split=5, n_estimators=10 \n",
      "[CV]  bootstrap=False, criterion=gini, max_depth=15, min_samples_leaf=1, min_samples_split=5, n_estimators=10, score=0.677, total=   0.0s\n",
      "[CV] bootstrap=False, criterion=gini, max_depth=15, min_samples_leaf=1, min_samples_split=5, n_estimators=20 \n"
     ]
    },
    {
     "name": "stdout",
     "output_type": "stream",
     "text": [
      "[CV]  bootstrap=False, criterion=gini, max_depth=15, min_samples_leaf=1, min_samples_split=5, n_estimators=20, score=0.713, total=   0.1s\n",
      "[CV] bootstrap=False, criterion=gini, max_depth=15, min_samples_leaf=1, min_samples_split=5, n_estimators=20 \n",
      "[CV]  bootstrap=False, criterion=gini, max_depth=15, min_samples_leaf=1, min_samples_split=5, n_estimators=20, score=0.695, total=   0.0s\n",
      "[CV] bootstrap=False, criterion=gini, max_depth=15, min_samples_leaf=1, min_samples_split=5, n_estimators=20 \n",
      "[CV]  bootstrap=False, criterion=gini, max_depth=15, min_samples_leaf=1, min_samples_split=5, n_estimators=20, score=0.688, total=   0.0s\n",
      "[CV] bootstrap=False, criterion=gini, max_depth=15, min_samples_leaf=1, min_samples_split=5, n_estimators=50 \n",
      "[CV]  bootstrap=False, criterion=gini, max_depth=15, min_samples_leaf=1, min_samples_split=5, n_estimators=50, score=0.694, total=   0.1s\n",
      "[CV] bootstrap=False, criterion=gini, max_depth=15, min_samples_leaf=1, min_samples_split=5, n_estimators=50 \n",
      "[CV]  bootstrap=False, criterion=gini, max_depth=15, min_samples_leaf=1, min_samples_split=5, n_estimators=50, score=0.703, total=   0.1s\n",
      "[CV] bootstrap=False, criterion=gini, max_depth=15, min_samples_leaf=1, min_samples_split=5, n_estimators=50 \n",
      "[CV]  bootstrap=False, criterion=gini, max_depth=15, min_samples_leaf=1, min_samples_split=5, n_estimators=50, score=0.684, total=   0.1s\n",
      "[CV] bootstrap=False, criterion=gini, max_depth=15, min_samples_leaf=5, min_samples_split=2, n_estimators=5 \n",
      "[CV]  bootstrap=False, criterion=gini, max_depth=15, min_samples_leaf=5, min_samples_split=2, n_estimators=5, score=0.724, total=   0.0s\n",
      "[CV] bootstrap=False, criterion=gini, max_depth=15, min_samples_leaf=5, min_samples_split=2, n_estimators=5 \n",
      "[CV]  bootstrap=False, criterion=gini, max_depth=15, min_samples_leaf=5, min_samples_split=2, n_estimators=5, score=0.737, total=   0.0s\n",
      "[CV] bootstrap=False, criterion=gini, max_depth=15, min_samples_leaf=5, min_samples_split=2, n_estimators=5 \n",
      "[CV]  bootstrap=False, criterion=gini, max_depth=15, min_samples_leaf=5, min_samples_split=2, n_estimators=5, score=0.680, total=   0.0s\n",
      "[CV] bootstrap=False, criterion=gini, max_depth=15, min_samples_leaf=5, min_samples_split=2, n_estimators=10 \n",
      "[CV]  bootstrap=False, criterion=gini, max_depth=15, min_samples_leaf=5, min_samples_split=2, n_estimators=10, score=0.705, total=   0.0s\n",
      "[CV] bootstrap=False, criterion=gini, max_depth=15, min_samples_leaf=5, min_samples_split=2, n_estimators=10 \n",
      "[CV]  bootstrap=False, criterion=gini, max_depth=15, min_samples_leaf=5, min_samples_split=2, n_estimators=10, score=0.714, total=   0.0s\n",
      "[CV] bootstrap=False, criterion=gini, max_depth=15, min_samples_leaf=5, min_samples_split=2, n_estimators=10 \n",
      "[CV]  bootstrap=False, criterion=gini, max_depth=15, min_samples_leaf=5, min_samples_split=2, n_estimators=10, score=0.699, total=   0.0s\n",
      "[CV] bootstrap=False, criterion=gini, max_depth=15, min_samples_leaf=5, min_samples_split=2, n_estimators=20 \n",
      "[CV]  bootstrap=False, criterion=gini, max_depth=15, min_samples_leaf=5, min_samples_split=2, n_estimators=20, score=0.701, total=   0.0s\n",
      "[CV] bootstrap=False, criterion=gini, max_depth=15, min_samples_leaf=5, min_samples_split=2, n_estimators=20 \n",
      "[CV]  bootstrap=False, criterion=gini, max_depth=15, min_samples_leaf=5, min_samples_split=2, n_estimators=20, score=0.718, total=   0.0s\n",
      "[CV] bootstrap=False, criterion=gini, max_depth=15, min_samples_leaf=5, min_samples_split=2, n_estimators=20 \n",
      "[CV]  bootstrap=False, criterion=gini, max_depth=15, min_samples_leaf=5, min_samples_split=2, n_estimators=20, score=0.688, total=   0.0s\n",
      "[CV] bootstrap=False, criterion=gini, max_depth=15, min_samples_leaf=5, min_samples_split=2, n_estimators=50 \n",
      "[CV]  bootstrap=False, criterion=gini, max_depth=15, min_samples_leaf=5, min_samples_split=2, n_estimators=50, score=0.709, total=   0.1s\n",
      "[CV] bootstrap=False, criterion=gini, max_depth=15, min_samples_leaf=5, min_samples_split=2, n_estimators=50 \n",
      "[CV]  bootstrap=False, criterion=gini, max_depth=15, min_samples_leaf=5, min_samples_split=2, n_estimators=50, score=0.733, total=   0.1s\n",
      "[CV] bootstrap=False, criterion=gini, max_depth=15, min_samples_leaf=5, min_samples_split=2, n_estimators=50 \n",
      "[CV]  bootstrap=False, criterion=gini, max_depth=15, min_samples_leaf=5, min_samples_split=2, n_estimators=50, score=0.707, total=   0.1s\n",
      "[CV] bootstrap=False, criterion=gini, max_depth=15, min_samples_leaf=5, min_samples_split=5, n_estimators=5 \n",
      "[CV]  bootstrap=False, criterion=gini, max_depth=15, min_samples_leaf=5, min_samples_split=5, n_estimators=5, score=0.709, total=   0.0s\n",
      "[CV] bootstrap=False, criterion=gini, max_depth=15, min_samples_leaf=5, min_samples_split=5, n_estimators=5 \n",
      "[CV]  bootstrap=False, criterion=gini, max_depth=15, min_samples_leaf=5, min_samples_split=5, n_estimators=5, score=0.699, total=   0.0s\n",
      "[CV] bootstrap=False, criterion=gini, max_depth=15, min_samples_leaf=5, min_samples_split=5, n_estimators=5 \n",
      "[CV]  bootstrap=False, criterion=gini, max_depth=15, min_samples_leaf=5, min_samples_split=5, n_estimators=5, score=0.707, total=   0.0s\n",
      "[CV] bootstrap=False, criterion=gini, max_depth=15, min_samples_leaf=5, min_samples_split=5, n_estimators=10 \n",
      "[CV]  bootstrap=False, criterion=gini, max_depth=15, min_samples_leaf=5, min_samples_split=5, n_estimators=10, score=0.728, total=   0.0s\n",
      "[CV] bootstrap=False, criterion=gini, max_depth=15, min_samples_leaf=5, min_samples_split=5, n_estimators=10 \n",
      "[CV]  bootstrap=False, criterion=gini, max_depth=15, min_samples_leaf=5, min_samples_split=5, n_estimators=10, score=0.733, total=   0.0s\n",
      "[CV] bootstrap=False, criterion=gini, max_depth=15, min_samples_leaf=5, min_samples_split=5, n_estimators=10 \n",
      "[CV]  bootstrap=False, criterion=gini, max_depth=15, min_samples_leaf=5, min_samples_split=5, n_estimators=10, score=0.733, total=   0.0s\n",
      "[CV] bootstrap=False, criterion=gini, max_depth=15, min_samples_leaf=5, min_samples_split=5, n_estimators=20 \n",
      "[CV]  bootstrap=False, criterion=gini, max_depth=15, min_samples_leaf=5, min_samples_split=5, n_estimators=20, score=0.724, total=   0.0s\n",
      "[CV] bootstrap=False, criterion=gini, max_depth=15, min_samples_leaf=5, min_samples_split=5, n_estimators=20 \n",
      "[CV]  bootstrap=False, criterion=gini, max_depth=15, min_samples_leaf=5, min_samples_split=5, n_estimators=20, score=0.718, total=   0.0s\n",
      "[CV] bootstrap=False, criterion=gini, max_depth=15, min_samples_leaf=5, min_samples_split=5, n_estimators=20 \n",
      "[CV]  bootstrap=False, criterion=gini, max_depth=15, min_samples_leaf=5, min_samples_split=5, n_estimators=20, score=0.703, total=   0.0s\n",
      "[CV] bootstrap=False, criterion=gini, max_depth=15, min_samples_leaf=5, min_samples_split=5, n_estimators=50 \n",
      "[CV]  bootstrap=False, criterion=gini, max_depth=15, min_samples_leaf=5, min_samples_split=5, n_estimators=50, score=0.716, total=   0.1s\n",
      "[CV] bootstrap=False, criterion=gini, max_depth=15, min_samples_leaf=5, min_samples_split=5, n_estimators=50 \n",
      "[CV]  bootstrap=False, criterion=gini, max_depth=15, min_samples_leaf=5, min_samples_split=5, n_estimators=50, score=0.714, total=   0.1s\n",
      "[CV] bootstrap=False, criterion=gini, max_depth=15, min_samples_leaf=5, min_samples_split=5, n_estimators=50 \n",
      "[CV]  bootstrap=False, criterion=gini, max_depth=15, min_samples_leaf=5, min_samples_split=5, n_estimators=50, score=0.729, total=   0.1s\n",
      "[CV] bootstrap=False, criterion=entropy, max_depth=None, min_samples_leaf=1, min_samples_split=2, n_estimators=5 \n",
      "[CV]  bootstrap=False, criterion=entropy, max_depth=None, min_samples_leaf=1, min_samples_split=2, n_estimators=5, score=0.716, total=   0.0s\n",
      "[CV] bootstrap=False, criterion=entropy, max_depth=None, min_samples_leaf=1, min_samples_split=2, n_estimators=5 \n",
      "[CV]  bootstrap=False, criterion=entropy, max_depth=None, min_samples_leaf=1, min_samples_split=2, n_estimators=5, score=0.639, total=   0.0s\n",
      "[CV] bootstrap=False, criterion=entropy, max_depth=None, min_samples_leaf=1, min_samples_split=2, n_estimators=5 \n",
      "[CV]  bootstrap=False, criterion=entropy, max_depth=None, min_samples_leaf=1, min_samples_split=2, n_estimators=5, score=0.669, total=   0.0s\n",
      "[CV] bootstrap=False, criterion=entropy, max_depth=None, min_samples_leaf=1, min_samples_split=2, n_estimators=10 \n",
      "[CV]  bootstrap=False, criterion=entropy, max_depth=None, min_samples_leaf=1, min_samples_split=2, n_estimators=10, score=0.683, total=   0.0s\n",
      "[CV] bootstrap=False, criterion=entropy, max_depth=None, min_samples_leaf=1, min_samples_split=2, n_estimators=10 \n",
      "[CV]  bootstrap=False, criterion=entropy, max_depth=None, min_samples_leaf=1, min_samples_split=2, n_estimators=10, score=0.692, total=   0.0s\n",
      "[CV] bootstrap=False, criterion=entropy, max_depth=None, min_samples_leaf=1, min_samples_split=2, n_estimators=10 \n",
      "[CV]  bootstrap=False, criterion=entropy, max_depth=None, min_samples_leaf=1, min_samples_split=2, n_estimators=10, score=0.684, total=   0.0s\n",
      "[CV] bootstrap=False, criterion=entropy, max_depth=None, min_samples_leaf=1, min_samples_split=2, n_estimators=20 \n",
      "[CV]  bootstrap=False, criterion=entropy, max_depth=None, min_samples_leaf=1, min_samples_split=2, n_estimators=20, score=0.720, total=   0.1s\n",
      "[CV] bootstrap=False, criterion=entropy, max_depth=None, min_samples_leaf=1, min_samples_split=2, n_estimators=20 \n"
     ]
    },
    {
     "name": "stdout",
     "output_type": "stream",
     "text": [
      "[CV]  bootstrap=False, criterion=entropy, max_depth=None, min_samples_leaf=1, min_samples_split=2, n_estimators=20, score=0.699, total=   0.0s\n",
      "[CV] bootstrap=False, criterion=entropy, max_depth=None, min_samples_leaf=1, min_samples_split=2, n_estimators=20 \n",
      "[CV]  bootstrap=False, criterion=entropy, max_depth=None, min_samples_leaf=1, min_samples_split=2, n_estimators=20, score=0.677, total=   0.1s\n",
      "[CV] bootstrap=False, criterion=entropy, max_depth=None, min_samples_leaf=1, min_samples_split=2, n_estimators=50 \n",
      "[CV]  bootstrap=False, criterion=entropy, max_depth=None, min_samples_leaf=1, min_samples_split=2, n_estimators=50, score=0.731, total=   0.1s\n",
      "[CV] bootstrap=False, criterion=entropy, max_depth=None, min_samples_leaf=1, min_samples_split=2, n_estimators=50 \n",
      "[CV]  bootstrap=False, criterion=entropy, max_depth=None, min_samples_leaf=1, min_samples_split=2, n_estimators=50, score=0.714, total=   0.1s\n",
      "[CV] bootstrap=False, criterion=entropy, max_depth=None, min_samples_leaf=1, min_samples_split=2, n_estimators=50 \n",
      "[CV]  bootstrap=False, criterion=entropy, max_depth=None, min_samples_leaf=1, min_samples_split=2, n_estimators=50, score=0.699, total=   0.1s\n",
      "[CV] bootstrap=False, criterion=entropy, max_depth=None, min_samples_leaf=1, min_samples_split=5, n_estimators=5 \n",
      "[CV]  bootstrap=False, criterion=entropy, max_depth=None, min_samples_leaf=1, min_samples_split=5, n_estimators=5, score=0.716, total=   0.0s\n",
      "[CV] bootstrap=False, criterion=entropy, max_depth=None, min_samples_leaf=1, min_samples_split=5, n_estimators=5 \n",
      "[CV]  bootstrap=False, criterion=entropy, max_depth=None, min_samples_leaf=1, min_samples_split=5, n_estimators=5, score=0.692, total=   0.0s\n",
      "[CV] bootstrap=False, criterion=entropy, max_depth=None, min_samples_leaf=1, min_samples_split=5, n_estimators=5 \n",
      "[CV]  bootstrap=False, criterion=entropy, max_depth=None, min_samples_leaf=1, min_samples_split=5, n_estimators=5, score=0.684, total=   0.0s\n",
      "[CV] bootstrap=False, criterion=entropy, max_depth=None, min_samples_leaf=1, min_samples_split=5, n_estimators=10 \n",
      "[CV]  bootstrap=False, criterion=entropy, max_depth=None, min_samples_leaf=1, min_samples_split=5, n_estimators=10, score=0.709, total=   0.0s\n",
      "[CV] bootstrap=False, criterion=entropy, max_depth=None, min_samples_leaf=1, min_samples_split=5, n_estimators=10 \n",
      "[CV]  bootstrap=False, criterion=entropy, max_depth=None, min_samples_leaf=1, min_samples_split=5, n_estimators=10, score=0.707, total=   0.0s\n",
      "[CV] bootstrap=False, criterion=entropy, max_depth=None, min_samples_leaf=1, min_samples_split=5, n_estimators=10 \n",
      "[CV]  bootstrap=False, criterion=entropy, max_depth=None, min_samples_leaf=1, min_samples_split=5, n_estimators=10, score=0.688, total=   0.0s\n",
      "[CV] bootstrap=False, criterion=entropy, max_depth=None, min_samples_leaf=1, min_samples_split=5, n_estimators=20 \n",
      "[CV]  bootstrap=False, criterion=entropy, max_depth=None, min_samples_leaf=1, min_samples_split=5, n_estimators=20, score=0.690, total=   0.0s\n",
      "[CV] bootstrap=False, criterion=entropy, max_depth=None, min_samples_leaf=1, min_samples_split=5, n_estimators=20 \n",
      "[CV]  bootstrap=False, criterion=entropy, max_depth=None, min_samples_leaf=1, min_samples_split=5, n_estimators=20, score=0.722, total=   0.1s\n",
      "[CV] bootstrap=False, criterion=entropy, max_depth=None, min_samples_leaf=1, min_samples_split=5, n_estimators=20 \n",
      "[CV]  bootstrap=False, criterion=entropy, max_depth=None, min_samples_leaf=1, min_samples_split=5, n_estimators=20, score=0.703, total=   0.1s\n",
      "[CV] bootstrap=False, criterion=entropy, max_depth=None, min_samples_leaf=1, min_samples_split=5, n_estimators=50 \n",
      "[CV]  bootstrap=False, criterion=entropy, max_depth=None, min_samples_leaf=1, min_samples_split=5, n_estimators=50, score=0.728, total=   0.1s\n",
      "[CV] bootstrap=False, criterion=entropy, max_depth=None, min_samples_leaf=1, min_samples_split=5, n_estimators=50 \n",
      "[CV]  bootstrap=False, criterion=entropy, max_depth=None, min_samples_leaf=1, min_samples_split=5, n_estimators=50, score=0.722, total=   0.1s\n",
      "[CV] bootstrap=False, criterion=entropy, max_depth=None, min_samples_leaf=1, min_samples_split=5, n_estimators=50 \n",
      "[CV]  bootstrap=False, criterion=entropy, max_depth=None, min_samples_leaf=1, min_samples_split=5, n_estimators=50, score=0.680, total=   0.1s\n",
      "[CV] bootstrap=False, criterion=entropy, max_depth=None, min_samples_leaf=5, min_samples_split=2, n_estimators=5 \n",
      "[CV]  bootstrap=False, criterion=entropy, max_depth=None, min_samples_leaf=5, min_samples_split=2, n_estimators=5, score=0.716, total=   0.0s\n",
      "[CV] bootstrap=False, criterion=entropy, max_depth=None, min_samples_leaf=5, min_samples_split=2, n_estimators=5 \n",
      "[CV]  bootstrap=False, criterion=entropy, max_depth=None, min_samples_leaf=5, min_samples_split=2, n_estimators=5, score=0.726, total=   0.0s\n",
      "[CV] bootstrap=False, criterion=entropy, max_depth=None, min_samples_leaf=5, min_samples_split=2, n_estimators=5 \n",
      "[CV]  bootstrap=False, criterion=entropy, max_depth=None, min_samples_leaf=5, min_samples_split=2, n_estimators=5, score=0.726, total=   0.0s\n",
      "[CV] bootstrap=False, criterion=entropy, max_depth=None, min_samples_leaf=5, min_samples_split=2, n_estimators=10 \n",
      "[CV]  bootstrap=False, criterion=entropy, max_depth=None, min_samples_leaf=5, min_samples_split=2, n_estimators=10, score=0.750, total=   0.0s\n",
      "[CV] bootstrap=False, criterion=entropy, max_depth=None, min_samples_leaf=5, min_samples_split=2, n_estimators=10 \n",
      "[CV]  bootstrap=False, criterion=entropy, max_depth=None, min_samples_leaf=5, min_samples_split=2, n_estimators=10, score=0.726, total=   0.0s\n",
      "[CV] bootstrap=False, criterion=entropy, max_depth=None, min_samples_leaf=5, min_samples_split=2, n_estimators=10 \n",
      "[CV]  bootstrap=False, criterion=entropy, max_depth=None, min_samples_leaf=5, min_samples_split=2, n_estimators=10, score=0.711, total=   0.0s\n",
      "[CV] bootstrap=False, criterion=entropy, max_depth=None, min_samples_leaf=5, min_samples_split=2, n_estimators=20 \n",
      "[CV]  bootstrap=False, criterion=entropy, max_depth=None, min_samples_leaf=5, min_samples_split=2, n_estimators=20, score=0.720, total=   0.0s\n",
      "[CV] bootstrap=False, criterion=entropy, max_depth=None, min_samples_leaf=5, min_samples_split=2, n_estimators=20 \n",
      "[CV]  bootstrap=False, criterion=entropy, max_depth=None, min_samples_leaf=5, min_samples_split=2, n_estimators=20, score=0.726, total=   0.0s\n",
      "[CV] bootstrap=False, criterion=entropy, max_depth=None, min_samples_leaf=5, min_samples_split=2, n_estimators=20 \n",
      "[CV]  bootstrap=False, criterion=entropy, max_depth=None, min_samples_leaf=5, min_samples_split=2, n_estimators=20, score=0.718, total=   0.0s\n",
      "[CV] bootstrap=False, criterion=entropy, max_depth=None, min_samples_leaf=5, min_samples_split=2, n_estimators=50 \n",
      "[CV]  bootstrap=False, criterion=entropy, max_depth=None, min_samples_leaf=5, min_samples_split=2, n_estimators=50, score=0.713, total=   0.1s\n",
      "[CV] bootstrap=False, criterion=entropy, max_depth=None, min_samples_leaf=5, min_samples_split=2, n_estimators=50 \n",
      "[CV]  bootstrap=False, criterion=entropy, max_depth=None, min_samples_leaf=5, min_samples_split=2, n_estimators=50, score=0.718, total=   0.1s\n",
      "[CV] bootstrap=False, criterion=entropy, max_depth=None, min_samples_leaf=5, min_samples_split=2, n_estimators=50 \n",
      "[CV]  bootstrap=False, criterion=entropy, max_depth=None, min_samples_leaf=5, min_samples_split=2, n_estimators=50, score=0.722, total=   0.1s\n",
      "[CV] bootstrap=False, criterion=entropy, max_depth=None, min_samples_leaf=5, min_samples_split=5, n_estimators=5 \n",
      "[CV]  bootstrap=False, criterion=entropy, max_depth=None, min_samples_leaf=5, min_samples_split=5, n_estimators=5, score=0.713, total=   0.0s\n",
      "[CV] bootstrap=False, criterion=entropy, max_depth=None, min_samples_leaf=5, min_samples_split=5, n_estimators=5 \n",
      "[CV]  bootstrap=False, criterion=entropy, max_depth=None, min_samples_leaf=5, min_samples_split=5, n_estimators=5, score=0.729, total=   0.0s\n",
      "[CV] bootstrap=False, criterion=entropy, max_depth=None, min_samples_leaf=5, min_samples_split=5, n_estimators=5 \n",
      "[CV]  bootstrap=False, criterion=entropy, max_depth=None, min_samples_leaf=5, min_samples_split=5, n_estimators=5, score=0.684, total=   0.0s\n",
      "[CV] bootstrap=False, criterion=entropy, max_depth=None, min_samples_leaf=5, min_samples_split=5, n_estimators=10 \n",
      "[CV]  bootstrap=False, criterion=entropy, max_depth=None, min_samples_leaf=5, min_samples_split=5, n_estimators=10, score=0.716, total=   0.0s\n",
      "[CV] bootstrap=False, criterion=entropy, max_depth=None, min_samples_leaf=5, min_samples_split=5, n_estimators=10 \n",
      "[CV]  bootstrap=False, criterion=entropy, max_depth=None, min_samples_leaf=5, min_samples_split=5, n_estimators=10, score=0.703, total=   0.0s\n",
      "[CV] bootstrap=False, criterion=entropy, max_depth=None, min_samples_leaf=5, min_samples_split=5, n_estimators=10 \n",
      "[CV]  bootstrap=False, criterion=entropy, max_depth=None, min_samples_leaf=5, min_samples_split=5, n_estimators=10, score=0.707, total=   0.0s\n",
      "[CV] bootstrap=False, criterion=entropy, max_depth=None, min_samples_leaf=5, min_samples_split=5, n_estimators=20 \n",
      "[CV]  bootstrap=False, criterion=entropy, max_depth=None, min_samples_leaf=5, min_samples_split=5, n_estimators=20, score=0.705, total=   0.0s\n",
      "[CV] bootstrap=False, criterion=entropy, max_depth=None, min_samples_leaf=5, min_samples_split=5, n_estimators=20 \n"
     ]
    },
    {
     "name": "stdout",
     "output_type": "stream",
     "text": [
      "[CV]  bootstrap=False, criterion=entropy, max_depth=None, min_samples_leaf=5, min_samples_split=5, n_estimators=20, score=0.699, total=   0.1s\n",
      "[CV] bootstrap=False, criterion=entropy, max_depth=None, min_samples_leaf=5, min_samples_split=5, n_estimators=20 \n",
      "[CV]  bootstrap=False, criterion=entropy, max_depth=None, min_samples_leaf=5, min_samples_split=5, n_estimators=20, score=0.684, total=   0.0s\n",
      "[CV] bootstrap=False, criterion=entropy, max_depth=None, min_samples_leaf=5, min_samples_split=5, n_estimators=50 \n",
      "[CV]  bootstrap=False, criterion=entropy, max_depth=None, min_samples_leaf=5, min_samples_split=5, n_estimators=50, score=0.716, total=   0.1s\n",
      "[CV] bootstrap=False, criterion=entropy, max_depth=None, min_samples_leaf=5, min_samples_split=5, n_estimators=50 \n",
      "[CV]  bootstrap=False, criterion=entropy, max_depth=None, min_samples_leaf=5, min_samples_split=5, n_estimators=50, score=0.726, total=   0.1s\n",
      "[CV] bootstrap=False, criterion=entropy, max_depth=None, min_samples_leaf=5, min_samples_split=5, n_estimators=50 \n",
      "[CV]  bootstrap=False, criterion=entropy, max_depth=None, min_samples_leaf=5, min_samples_split=5, n_estimators=50, score=0.703, total=   0.1s\n",
      "[CV] bootstrap=False, criterion=entropy, max_depth=5, min_samples_leaf=1, min_samples_split=2, n_estimators=5 \n",
      "[CV]  bootstrap=False, criterion=entropy, max_depth=5, min_samples_leaf=1, min_samples_split=2, n_estimators=5, score=0.716, total=   0.0s\n",
      "[CV] bootstrap=False, criterion=entropy, max_depth=5, min_samples_leaf=1, min_samples_split=2, n_estimators=5 \n",
      "[CV]  bootstrap=False, criterion=entropy, max_depth=5, min_samples_leaf=1, min_samples_split=2, n_estimators=5, score=0.699, total=   0.0s\n",
      "[CV] bootstrap=False, criterion=entropy, max_depth=5, min_samples_leaf=1, min_samples_split=2, n_estimators=5 \n",
      "[CV]  bootstrap=False, criterion=entropy, max_depth=5, min_samples_leaf=1, min_samples_split=2, n_estimators=5, score=0.695, total=   0.0s\n",
      "[CV] bootstrap=False, criterion=entropy, max_depth=5, min_samples_leaf=1, min_samples_split=2, n_estimators=10 \n",
      "[CV]  bootstrap=False, criterion=entropy, max_depth=5, min_samples_leaf=1, min_samples_split=2, n_estimators=10, score=0.731, total=   0.0s\n",
      "[CV] bootstrap=False, criterion=entropy, max_depth=5, min_samples_leaf=1, min_samples_split=2, n_estimators=10 \n",
      "[CV]  bootstrap=False, criterion=entropy, max_depth=5, min_samples_leaf=1, min_samples_split=2, n_estimators=10, score=0.722, total=   0.0s\n",
      "[CV] bootstrap=False, criterion=entropy, max_depth=5, min_samples_leaf=1, min_samples_split=2, n_estimators=10 \n",
      "[CV]  bootstrap=False, criterion=entropy, max_depth=5, min_samples_leaf=1, min_samples_split=2, n_estimators=10, score=0.744, total=   0.0s\n",
      "[CV] bootstrap=False, criterion=entropy, max_depth=5, min_samples_leaf=1, min_samples_split=2, n_estimators=20 \n",
      "[CV]  bootstrap=False, criterion=entropy, max_depth=5, min_samples_leaf=1, min_samples_split=2, n_estimators=20, score=0.728, total=   0.0s\n",
      "[CV] bootstrap=False, criterion=entropy, max_depth=5, min_samples_leaf=1, min_samples_split=2, n_estimators=20 \n",
      "[CV]  bootstrap=False, criterion=entropy, max_depth=5, min_samples_leaf=1, min_samples_split=2, n_estimators=20, score=0.718, total=   0.0s\n",
      "[CV] bootstrap=False, criterion=entropy, max_depth=5, min_samples_leaf=1, min_samples_split=2, n_estimators=20 \n",
      "[CV]  bootstrap=False, criterion=entropy, max_depth=5, min_samples_leaf=1, min_samples_split=2, n_estimators=20, score=0.722, total=   0.0s\n",
      "[CV] bootstrap=False, criterion=entropy, max_depth=5, min_samples_leaf=1, min_samples_split=2, n_estimators=50 \n",
      "[CV]  bootstrap=False, criterion=entropy, max_depth=5, min_samples_leaf=1, min_samples_split=2, n_estimators=50, score=0.713, total=   0.1s\n",
      "[CV] bootstrap=False, criterion=entropy, max_depth=5, min_samples_leaf=1, min_samples_split=2, n_estimators=50 \n",
      "[CV]  bootstrap=False, criterion=entropy, max_depth=5, min_samples_leaf=1, min_samples_split=2, n_estimators=50, score=0.722, total=   0.1s\n",
      "[CV] bootstrap=False, criterion=entropy, max_depth=5, min_samples_leaf=1, min_samples_split=2, n_estimators=50 \n",
      "[CV]  bootstrap=False, criterion=entropy, max_depth=5, min_samples_leaf=1, min_samples_split=2, n_estimators=50, score=0.733, total=   0.1s\n",
      "[CV] bootstrap=False, criterion=entropy, max_depth=5, min_samples_leaf=1, min_samples_split=5, n_estimators=5 \n",
      "[CV]  bootstrap=False, criterion=entropy, max_depth=5, min_samples_leaf=1, min_samples_split=5, n_estimators=5, score=0.720, total=   0.0s\n",
      "[CV] bootstrap=False, criterion=entropy, max_depth=5, min_samples_leaf=1, min_samples_split=5, n_estimators=5 \n",
      "[CV]  bootstrap=False, criterion=entropy, max_depth=5, min_samples_leaf=1, min_samples_split=5, n_estimators=5, score=0.722, total=   0.0s\n",
      "[CV] bootstrap=False, criterion=entropy, max_depth=5, min_samples_leaf=1, min_samples_split=5, n_estimators=5 \n",
      "[CV]  bootstrap=False, criterion=entropy, max_depth=5, min_samples_leaf=1, min_samples_split=5, n_estimators=5, score=0.718, total=   0.0s\n",
      "[CV] bootstrap=False, criterion=entropy, max_depth=5, min_samples_leaf=1, min_samples_split=5, n_estimators=10 \n",
      "[CV]  bootstrap=False, criterion=entropy, max_depth=5, min_samples_leaf=1, min_samples_split=5, n_estimators=10, score=0.731, total=   0.0s\n",
      "[CV] bootstrap=False, criterion=entropy, max_depth=5, min_samples_leaf=1, min_samples_split=5, n_estimators=10 \n",
      "[CV]  bootstrap=False, criterion=entropy, max_depth=5, min_samples_leaf=1, min_samples_split=5, n_estimators=10, score=0.711, total=   0.0s\n",
      "[CV] bootstrap=False, criterion=entropy, max_depth=5, min_samples_leaf=1, min_samples_split=5, n_estimators=10 \n",
      "[CV]  bootstrap=False, criterion=entropy, max_depth=5, min_samples_leaf=1, min_samples_split=5, n_estimators=10, score=0.711, total=   0.0s\n",
      "[CV] bootstrap=False, criterion=entropy, max_depth=5, min_samples_leaf=1, min_samples_split=5, n_estimators=20 \n",
      "[CV]  bootstrap=False, criterion=entropy, max_depth=5, min_samples_leaf=1, min_samples_split=5, n_estimators=20, score=0.724, total=   0.1s\n",
      "[CV] bootstrap=False, criterion=entropy, max_depth=5, min_samples_leaf=1, min_samples_split=5, n_estimators=20 \n",
      "[CV]  bootstrap=False, criterion=entropy, max_depth=5, min_samples_leaf=1, min_samples_split=5, n_estimators=20, score=0.711, total=   0.1s\n",
      "[CV] bootstrap=False, criterion=entropy, max_depth=5, min_samples_leaf=1, min_samples_split=5, n_estimators=20 \n",
      "[CV]  bootstrap=False, criterion=entropy, max_depth=5, min_samples_leaf=1, min_samples_split=5, n_estimators=20, score=0.718, total=   0.0s\n",
      "[CV] bootstrap=False, criterion=entropy, max_depth=5, min_samples_leaf=1, min_samples_split=5, n_estimators=50 \n",
      "[CV]  bootstrap=False, criterion=entropy, max_depth=5, min_samples_leaf=1, min_samples_split=5, n_estimators=50, score=0.724, total=   0.1s\n",
      "[CV] bootstrap=False, criterion=entropy, max_depth=5, min_samples_leaf=1, min_samples_split=5, n_estimators=50 \n",
      "[CV]  bootstrap=False, criterion=entropy, max_depth=5, min_samples_leaf=1, min_samples_split=5, n_estimators=50, score=0.718, total=   0.1s\n",
      "[CV] bootstrap=False, criterion=entropy, max_depth=5, min_samples_leaf=1, min_samples_split=5, n_estimators=50 \n",
      "[CV]  bootstrap=False, criterion=entropy, max_depth=5, min_samples_leaf=1, min_samples_split=5, n_estimators=50, score=0.714, total=   0.1s\n",
      "[CV] bootstrap=False, criterion=entropy, max_depth=5, min_samples_leaf=5, min_samples_split=2, n_estimators=5 \n",
      "[CV]  bootstrap=False, criterion=entropy, max_depth=5, min_samples_leaf=5, min_samples_split=2, n_estimators=5, score=0.716, total=   0.0s\n",
      "[CV] bootstrap=False, criterion=entropy, max_depth=5, min_samples_leaf=5, min_samples_split=2, n_estimators=5 \n",
      "[CV]  bootstrap=False, criterion=entropy, max_depth=5, min_samples_leaf=5, min_samples_split=2, n_estimators=5, score=0.714, total=   0.0s\n",
      "[CV] bootstrap=False, criterion=entropy, max_depth=5, min_samples_leaf=5, min_samples_split=2, n_estimators=5 \n",
      "[CV]  bootstrap=False, criterion=entropy, max_depth=5, min_samples_leaf=5, min_samples_split=2, n_estimators=5, score=0.718, total=   0.0s\n",
      "[CV] bootstrap=False, criterion=entropy, max_depth=5, min_samples_leaf=5, min_samples_split=2, n_estimators=10 \n",
      "[CV]  bootstrap=False, criterion=entropy, max_depth=5, min_samples_leaf=5, min_samples_split=2, n_estimators=10, score=0.724, total=   0.0s\n",
      "[CV] bootstrap=False, criterion=entropy, max_depth=5, min_samples_leaf=5, min_samples_split=2, n_estimators=10 \n",
      "[CV]  bootstrap=False, criterion=entropy, max_depth=5, min_samples_leaf=5, min_samples_split=2, n_estimators=10, score=0.729, total=   0.0s\n",
      "[CV] bootstrap=False, criterion=entropy, max_depth=5, min_samples_leaf=5, min_samples_split=2, n_estimators=10 \n",
      "[CV]  bootstrap=False, criterion=entropy, max_depth=5, min_samples_leaf=5, min_samples_split=2, n_estimators=10, score=0.737, total=   0.0s\n",
      "[CV] bootstrap=False, criterion=entropy, max_depth=5, min_samples_leaf=5, min_samples_split=2, n_estimators=20 \n"
     ]
    },
    {
     "name": "stdout",
     "output_type": "stream",
     "text": [
      "[CV]  bootstrap=False, criterion=entropy, max_depth=5, min_samples_leaf=5, min_samples_split=2, n_estimators=20, score=0.724, total=   0.0s\n",
      "[CV] bootstrap=False, criterion=entropy, max_depth=5, min_samples_leaf=5, min_samples_split=2, n_estimators=20 \n",
      "[CV]  bootstrap=False, criterion=entropy, max_depth=5, min_samples_leaf=5, min_samples_split=2, n_estimators=20, score=0.722, total=   0.0s\n",
      "[CV] bootstrap=False, criterion=entropy, max_depth=5, min_samples_leaf=5, min_samples_split=2, n_estimators=20 \n",
      "[CV]  bootstrap=False, criterion=entropy, max_depth=5, min_samples_leaf=5, min_samples_split=2, n_estimators=20, score=0.748, total=   0.0s\n",
      "[CV] bootstrap=False, criterion=entropy, max_depth=5, min_samples_leaf=5, min_samples_split=2, n_estimators=50 \n",
      "[CV]  bootstrap=False, criterion=entropy, max_depth=5, min_samples_leaf=5, min_samples_split=2, n_estimators=50, score=0.709, total=   0.1s\n",
      "[CV] bootstrap=False, criterion=entropy, max_depth=5, min_samples_leaf=5, min_samples_split=2, n_estimators=50 \n",
      "[CV]  bootstrap=False, criterion=entropy, max_depth=5, min_samples_leaf=5, min_samples_split=2, n_estimators=50, score=0.733, total=   0.1s\n",
      "[CV] bootstrap=False, criterion=entropy, max_depth=5, min_samples_leaf=5, min_samples_split=2, n_estimators=50 \n",
      "[CV]  bootstrap=False, criterion=entropy, max_depth=5, min_samples_leaf=5, min_samples_split=2, n_estimators=50, score=0.733, total=   0.1s\n",
      "[CV] bootstrap=False, criterion=entropy, max_depth=5, min_samples_leaf=5, min_samples_split=5, n_estimators=5 \n",
      "[CV]  bootstrap=False, criterion=entropy, max_depth=5, min_samples_leaf=5, min_samples_split=5, n_estimators=5, score=0.709, total=   0.0s\n",
      "[CV] bootstrap=False, criterion=entropy, max_depth=5, min_samples_leaf=5, min_samples_split=5, n_estimators=5 \n",
      "[CV]  bootstrap=False, criterion=entropy, max_depth=5, min_samples_leaf=5, min_samples_split=5, n_estimators=5, score=0.726, total=   0.0s\n",
      "[CV] bootstrap=False, criterion=entropy, max_depth=5, min_samples_leaf=5, min_samples_split=5, n_estimators=5 \n",
      "[CV]  bootstrap=False, criterion=entropy, max_depth=5, min_samples_leaf=5, min_samples_split=5, n_estimators=5, score=0.729, total=   0.0s\n",
      "[CV] bootstrap=False, criterion=entropy, max_depth=5, min_samples_leaf=5, min_samples_split=5, n_estimators=10 \n",
      "[CV]  bootstrap=False, criterion=entropy, max_depth=5, min_samples_leaf=5, min_samples_split=5, n_estimators=10, score=0.705, total=   0.0s\n",
      "[CV] bootstrap=False, criterion=entropy, max_depth=5, min_samples_leaf=5, min_samples_split=5, n_estimators=10 \n",
      "[CV]  bootstrap=False, criterion=entropy, max_depth=5, min_samples_leaf=5, min_samples_split=5, n_estimators=10, score=0.733, total=   0.0s\n",
      "[CV] bootstrap=False, criterion=entropy, max_depth=5, min_samples_leaf=5, min_samples_split=5, n_estimators=10 \n",
      "[CV]  bootstrap=False, criterion=entropy, max_depth=5, min_samples_leaf=5, min_samples_split=5, n_estimators=10, score=0.733, total=   0.0s\n",
      "[CV] bootstrap=False, criterion=entropy, max_depth=5, min_samples_leaf=5, min_samples_split=5, n_estimators=20 \n",
      "[CV]  bootstrap=False, criterion=entropy, max_depth=5, min_samples_leaf=5, min_samples_split=5, n_estimators=20, score=0.713, total=   0.0s\n",
      "[CV] bootstrap=False, criterion=entropy, max_depth=5, min_samples_leaf=5, min_samples_split=5, n_estimators=20 \n",
      "[CV]  bootstrap=False, criterion=entropy, max_depth=5, min_samples_leaf=5, min_samples_split=5, n_estimators=20, score=0.733, total=   0.0s\n",
      "[CV] bootstrap=False, criterion=entropy, max_depth=5, min_samples_leaf=5, min_samples_split=5, n_estimators=20 \n",
      "[CV]  bootstrap=False, criterion=entropy, max_depth=5, min_samples_leaf=5, min_samples_split=5, n_estimators=20, score=0.733, total=   0.0s\n",
      "[CV] bootstrap=False, criterion=entropy, max_depth=5, min_samples_leaf=5, min_samples_split=5, n_estimators=50 \n",
      "[CV]  bootstrap=False, criterion=entropy, max_depth=5, min_samples_leaf=5, min_samples_split=5, n_estimators=50, score=0.716, total=   0.1s\n",
      "[CV] bootstrap=False, criterion=entropy, max_depth=5, min_samples_leaf=5, min_samples_split=5, n_estimators=50 \n",
      "[CV]  bootstrap=False, criterion=entropy, max_depth=5, min_samples_leaf=5, min_samples_split=5, n_estimators=50, score=0.726, total=   0.1s\n",
      "[CV] bootstrap=False, criterion=entropy, max_depth=5, min_samples_leaf=5, min_samples_split=5, n_estimators=50 \n",
      "[CV]  bootstrap=False, criterion=entropy, max_depth=5, min_samples_leaf=5, min_samples_split=5, n_estimators=50, score=0.733, total=   0.1s\n",
      "[CV] bootstrap=False, criterion=entropy, max_depth=10, min_samples_leaf=1, min_samples_split=2, n_estimators=5 \n",
      "[CV]  bootstrap=False, criterion=entropy, max_depth=10, min_samples_leaf=1, min_samples_split=2, n_estimators=5, score=0.709, total=   0.0s\n",
      "[CV] bootstrap=False, criterion=entropy, max_depth=10, min_samples_leaf=1, min_samples_split=2, n_estimators=5 \n",
      "[CV]  bootstrap=False, criterion=entropy, max_depth=10, min_samples_leaf=1, min_samples_split=2, n_estimators=5, score=0.658, total=   0.0s\n",
      "[CV] bootstrap=False, criterion=entropy, max_depth=10, min_samples_leaf=1, min_samples_split=2, n_estimators=5 \n",
      "[CV]  bootstrap=False, criterion=entropy, max_depth=10, min_samples_leaf=1, min_samples_split=2, n_estimators=5, score=0.692, total=   0.0s\n",
      "[CV] bootstrap=False, criterion=entropy, max_depth=10, min_samples_leaf=1, min_samples_split=2, n_estimators=10 \n",
      "[CV]  bootstrap=False, criterion=entropy, max_depth=10, min_samples_leaf=1, min_samples_split=2, n_estimators=10, score=0.731, total=   0.0s\n",
      "[CV] bootstrap=False, criterion=entropy, max_depth=10, min_samples_leaf=1, min_samples_split=2, n_estimators=10 \n",
      "[CV]  bootstrap=False, criterion=entropy, max_depth=10, min_samples_leaf=1, min_samples_split=2, n_estimators=10, score=0.722, total=   0.0s\n",
      "[CV] bootstrap=False, criterion=entropy, max_depth=10, min_samples_leaf=1, min_samples_split=2, n_estimators=10 \n",
      "[CV]  bootstrap=False, criterion=entropy, max_depth=10, min_samples_leaf=1, min_samples_split=2, n_estimators=10, score=0.707, total=   0.0s\n",
      "[CV] bootstrap=False, criterion=entropy, max_depth=10, min_samples_leaf=1, min_samples_split=2, n_estimators=20 \n",
      "[CV]  bootstrap=False, criterion=entropy, max_depth=10, min_samples_leaf=1, min_samples_split=2, n_estimators=20, score=0.724, total=   0.0s\n",
      "[CV] bootstrap=False, criterion=entropy, max_depth=10, min_samples_leaf=1, min_samples_split=2, n_estimators=20 \n",
      "[CV]  bootstrap=False, criterion=entropy, max_depth=10, min_samples_leaf=1, min_samples_split=2, n_estimators=20, score=0.688, total=   0.0s\n",
      "[CV] bootstrap=False, criterion=entropy, max_depth=10, min_samples_leaf=1, min_samples_split=2, n_estimators=20 \n",
      "[CV]  bootstrap=False, criterion=entropy, max_depth=10, min_samples_leaf=1, min_samples_split=2, n_estimators=20, score=0.684, total=   0.0s\n",
      "[CV] bootstrap=False, criterion=entropy, max_depth=10, min_samples_leaf=1, min_samples_split=2, n_estimators=50 \n",
      "[CV]  bootstrap=False, criterion=entropy, max_depth=10, min_samples_leaf=1, min_samples_split=2, n_estimators=50, score=0.731, total=   0.1s\n",
      "[CV] bootstrap=False, criterion=entropy, max_depth=10, min_samples_leaf=1, min_samples_split=2, n_estimators=50 \n",
      "[CV]  bootstrap=False, criterion=entropy, max_depth=10, min_samples_leaf=1, min_samples_split=2, n_estimators=50, score=0.726, total=   0.1s\n",
      "[CV] bootstrap=False, criterion=entropy, max_depth=10, min_samples_leaf=1, min_samples_split=2, n_estimators=50 \n",
      "[CV]  bootstrap=False, criterion=entropy, max_depth=10, min_samples_leaf=1, min_samples_split=2, n_estimators=50, score=0.695, total=   0.1s\n",
      "[CV] bootstrap=False, criterion=entropy, max_depth=10, min_samples_leaf=1, min_samples_split=5, n_estimators=5 \n",
      "[CV]  bootstrap=False, criterion=entropy, max_depth=10, min_samples_leaf=1, min_samples_split=5, n_estimators=5, score=0.720, total=   0.0s\n",
      "[CV] bootstrap=False, criterion=entropy, max_depth=10, min_samples_leaf=1, min_samples_split=5, n_estimators=5 \n",
      "[CV]  bootstrap=False, criterion=entropy, max_depth=10, min_samples_leaf=1, min_samples_split=5, n_estimators=5, score=0.703, total=   0.0s\n",
      "[CV] bootstrap=False, criterion=entropy, max_depth=10, min_samples_leaf=1, min_samples_split=5, n_estimators=5 \n",
      "[CV]  bootstrap=False, criterion=entropy, max_depth=10, min_samples_leaf=1, min_samples_split=5, n_estimators=5, score=0.680, total=   0.0s\n",
      "[CV] bootstrap=False, criterion=entropy, max_depth=10, min_samples_leaf=1, min_samples_split=5, n_estimators=10 \n",
      "[CV]  bootstrap=False, criterion=entropy, max_depth=10, min_samples_leaf=1, min_samples_split=5, n_estimators=10, score=0.690, total=   0.0s\n",
      "[CV] bootstrap=False, criterion=entropy, max_depth=10, min_samples_leaf=1, min_samples_split=5, n_estimators=10 \n",
      "[CV]  bootstrap=False, criterion=entropy, max_depth=10, min_samples_leaf=1, min_samples_split=5, n_estimators=10, score=0.703, total=   0.0s\n",
      "[CV] bootstrap=False, criterion=entropy, max_depth=10, min_samples_leaf=1, min_samples_split=5, n_estimators=10 \n",
      "[CV]  bootstrap=False, criterion=entropy, max_depth=10, min_samples_leaf=1, min_samples_split=5, n_estimators=10, score=0.673, total=   0.0s\n",
      "[CV] bootstrap=False, criterion=entropy, max_depth=10, min_samples_leaf=1, min_samples_split=5, n_estimators=20 \n",
      "[CV]  bootstrap=False, criterion=entropy, max_depth=10, min_samples_leaf=1, min_samples_split=5, n_estimators=20, score=0.720, total=   0.1s\n",
      "[CV] bootstrap=False, criterion=entropy, max_depth=10, min_samples_leaf=1, min_samples_split=5, n_estimators=20 \n"
     ]
    },
    {
     "name": "stdout",
     "output_type": "stream",
     "text": [
      "[CV]  bootstrap=False, criterion=entropy, max_depth=10, min_samples_leaf=1, min_samples_split=5, n_estimators=20, score=0.718, total=   0.0s\n",
      "[CV] bootstrap=False, criterion=entropy, max_depth=10, min_samples_leaf=1, min_samples_split=5, n_estimators=20 \n",
      "[CV]  bootstrap=False, criterion=entropy, max_depth=10, min_samples_leaf=1, min_samples_split=5, n_estimators=20, score=0.695, total=   0.0s\n",
      "[CV] bootstrap=False, criterion=entropy, max_depth=10, min_samples_leaf=1, min_samples_split=5, n_estimators=50 \n",
      "[CV]  bootstrap=False, criterion=entropy, max_depth=10, min_samples_leaf=1, min_samples_split=5, n_estimators=50, score=0.709, total=   0.1s\n",
      "[CV] bootstrap=False, criterion=entropy, max_depth=10, min_samples_leaf=1, min_samples_split=5, n_estimators=50 \n",
      "[CV]  bootstrap=False, criterion=entropy, max_depth=10, min_samples_leaf=1, min_samples_split=5, n_estimators=50, score=0.718, total=   0.1s\n",
      "[CV] bootstrap=False, criterion=entropy, max_depth=10, min_samples_leaf=1, min_samples_split=5, n_estimators=50 \n",
      "[CV]  bootstrap=False, criterion=entropy, max_depth=10, min_samples_leaf=1, min_samples_split=5, n_estimators=50, score=0.695, total=   0.1s\n",
      "[CV] bootstrap=False, criterion=entropy, max_depth=10, min_samples_leaf=5, min_samples_split=2, n_estimators=5 \n",
      "[CV]  bootstrap=False, criterion=entropy, max_depth=10, min_samples_leaf=5, min_samples_split=2, n_estimators=5, score=0.694, total=   0.0s\n",
      "[CV] bootstrap=False, criterion=entropy, max_depth=10, min_samples_leaf=5, min_samples_split=2, n_estimators=5 \n",
      "[CV]  bootstrap=False, criterion=entropy, max_depth=10, min_samples_leaf=5, min_samples_split=2, n_estimators=5, score=0.714, total=   0.0s\n",
      "[CV] bootstrap=False, criterion=entropy, max_depth=10, min_samples_leaf=5, min_samples_split=2, n_estimators=5 \n",
      "[CV]  bootstrap=False, criterion=entropy, max_depth=10, min_samples_leaf=5, min_samples_split=2, n_estimators=5, score=0.718, total=   0.0s\n",
      "[CV] bootstrap=False, criterion=entropy, max_depth=10, min_samples_leaf=5, min_samples_split=2, n_estimators=10 \n",
      "[CV]  bootstrap=False, criterion=entropy, max_depth=10, min_samples_leaf=5, min_samples_split=2, n_estimators=10, score=0.709, total=   0.0s\n",
      "[CV] bootstrap=False, criterion=entropy, max_depth=10, min_samples_leaf=5, min_samples_split=2, n_estimators=10 \n",
      "[CV]  bootstrap=False, criterion=entropy, max_depth=10, min_samples_leaf=5, min_samples_split=2, n_estimators=10, score=0.714, total=   0.0s\n",
      "[CV] bootstrap=False, criterion=entropy, max_depth=10, min_samples_leaf=5, min_samples_split=2, n_estimators=10 \n",
      "[CV]  bootstrap=False, criterion=entropy, max_depth=10, min_samples_leaf=5, min_samples_split=2, n_estimators=10, score=0.703, total=   0.0s\n",
      "[CV] bootstrap=False, criterion=entropy, max_depth=10, min_samples_leaf=5, min_samples_split=2, n_estimators=20 \n",
      "[CV]  bootstrap=False, criterion=entropy, max_depth=10, min_samples_leaf=5, min_samples_split=2, n_estimators=20, score=0.724, total=   0.0s\n",
      "[CV] bootstrap=False, criterion=entropy, max_depth=10, min_samples_leaf=5, min_samples_split=2, n_estimators=20 \n",
      "[CV]  bootstrap=False, criterion=entropy, max_depth=10, min_samples_leaf=5, min_samples_split=2, n_estimators=20, score=0.729, total=   0.0s\n",
      "[CV] bootstrap=False, criterion=entropy, max_depth=10, min_samples_leaf=5, min_samples_split=2, n_estimators=20 \n",
      "[CV]  bootstrap=False, criterion=entropy, max_depth=10, min_samples_leaf=5, min_samples_split=2, n_estimators=20, score=0.714, total=   0.0s\n",
      "[CV] bootstrap=False, criterion=entropy, max_depth=10, min_samples_leaf=5, min_samples_split=2, n_estimators=50 \n",
      "[CV]  bootstrap=False, criterion=entropy, max_depth=10, min_samples_leaf=5, min_samples_split=2, n_estimators=50, score=0.724, total=   0.1s\n",
      "[CV] bootstrap=False, criterion=entropy, max_depth=10, min_samples_leaf=5, min_samples_split=2, n_estimators=50 \n",
      "[CV]  bootstrap=False, criterion=entropy, max_depth=10, min_samples_leaf=5, min_samples_split=2, n_estimators=50, score=0.714, total=   0.1s\n",
      "[CV] bootstrap=False, criterion=entropy, max_depth=10, min_samples_leaf=5, min_samples_split=2, n_estimators=50 \n",
      "[CV]  bootstrap=False, criterion=entropy, max_depth=10, min_samples_leaf=5, min_samples_split=2, n_estimators=50, score=0.714, total=   0.1s\n",
      "[CV] bootstrap=False, criterion=entropy, max_depth=10, min_samples_leaf=5, min_samples_split=5, n_estimators=5 \n",
      "[CV]  bootstrap=False, criterion=entropy, max_depth=10, min_samples_leaf=5, min_samples_split=5, n_estimators=5, score=0.728, total=   0.0s\n",
      "[CV] bootstrap=False, criterion=entropy, max_depth=10, min_samples_leaf=5, min_samples_split=5, n_estimators=5 \n",
      "[CV]  bootstrap=False, criterion=entropy, max_depth=10, min_samples_leaf=5, min_samples_split=5, n_estimators=5, score=0.718, total=   0.0s\n",
      "[CV] bootstrap=False, criterion=entropy, max_depth=10, min_samples_leaf=5, min_samples_split=5, n_estimators=5 \n",
      "[CV]  bootstrap=False, criterion=entropy, max_depth=10, min_samples_leaf=5, min_samples_split=5, n_estimators=5, score=0.699, total=   0.0s\n",
      "[CV] bootstrap=False, criterion=entropy, max_depth=10, min_samples_leaf=5, min_samples_split=5, n_estimators=10 \n",
      "[CV]  bootstrap=False, criterion=entropy, max_depth=10, min_samples_leaf=5, min_samples_split=5, n_estimators=10, score=0.720, total=   0.0s\n",
      "[CV] bootstrap=False, criterion=entropy, max_depth=10, min_samples_leaf=5, min_samples_split=5, n_estimators=10 \n",
      "[CV]  bootstrap=False, criterion=entropy, max_depth=10, min_samples_leaf=5, min_samples_split=5, n_estimators=10, score=0.722, total=   0.0s\n",
      "[CV] bootstrap=False, criterion=entropy, max_depth=10, min_samples_leaf=5, min_samples_split=5, n_estimators=10 \n",
      "[CV]  bootstrap=False, criterion=entropy, max_depth=10, min_samples_leaf=5, min_samples_split=5, n_estimators=10, score=0.703, total=   0.0s\n",
      "[CV] bootstrap=False, criterion=entropy, max_depth=10, min_samples_leaf=5, min_samples_split=5, n_estimators=20 \n",
      "[CV]  bootstrap=False, criterion=entropy, max_depth=10, min_samples_leaf=5, min_samples_split=5, n_estimators=20, score=0.728, total=   0.0s\n",
      "[CV] bootstrap=False, criterion=entropy, max_depth=10, min_samples_leaf=5, min_samples_split=5, n_estimators=20 \n",
      "[CV]  bootstrap=False, criterion=entropy, max_depth=10, min_samples_leaf=5, min_samples_split=5, n_estimators=20, score=0.714, total=   0.0s\n",
      "[CV] bootstrap=False, criterion=entropy, max_depth=10, min_samples_leaf=5, min_samples_split=5, n_estimators=20 \n",
      "[CV]  bootstrap=False, criterion=entropy, max_depth=10, min_samples_leaf=5, min_samples_split=5, n_estimators=20, score=0.695, total=   0.0s\n",
      "[CV] bootstrap=False, criterion=entropy, max_depth=10, min_samples_leaf=5, min_samples_split=5, n_estimators=50 \n",
      "[CV]  bootstrap=False, criterion=entropy, max_depth=10, min_samples_leaf=5, min_samples_split=5, n_estimators=50, score=0.716, total=   0.1s\n",
      "[CV] bootstrap=False, criterion=entropy, max_depth=10, min_samples_leaf=5, min_samples_split=5, n_estimators=50 \n",
      "[CV]  bootstrap=False, criterion=entropy, max_depth=10, min_samples_leaf=5, min_samples_split=5, n_estimators=50, score=0.714, total=   0.1s\n",
      "[CV] bootstrap=False, criterion=entropy, max_depth=10, min_samples_leaf=5, min_samples_split=5, n_estimators=50 \n",
      "[CV]  bootstrap=False, criterion=entropy, max_depth=10, min_samples_leaf=5, min_samples_split=5, n_estimators=50, score=0.707, total=   0.1s\n",
      "[CV] bootstrap=False, criterion=entropy, max_depth=15, min_samples_leaf=1, min_samples_split=2, n_estimators=5 \n",
      "[CV]  bootstrap=False, criterion=entropy, max_depth=15, min_samples_leaf=1, min_samples_split=2, n_estimators=5, score=0.709, total=   0.0s\n",
      "[CV] bootstrap=False, criterion=entropy, max_depth=15, min_samples_leaf=1, min_samples_split=2, n_estimators=5 \n",
      "[CV]  bootstrap=False, criterion=entropy, max_depth=15, min_samples_leaf=1, min_samples_split=2, n_estimators=5, score=0.677, total=   0.0s\n",
      "[CV] bootstrap=False, criterion=entropy, max_depth=15, min_samples_leaf=1, min_samples_split=2, n_estimators=5 \n",
      "[CV]  bootstrap=False, criterion=entropy, max_depth=15, min_samples_leaf=1, min_samples_split=2, n_estimators=5, score=0.665, total=   0.0s\n",
      "[CV] bootstrap=False, criterion=entropy, max_depth=15, min_samples_leaf=1, min_samples_split=2, n_estimators=10 \n",
      "[CV]  bootstrap=False, criterion=entropy, max_depth=15, min_samples_leaf=1, min_samples_split=2, n_estimators=10, score=0.698, total=   0.0s\n",
      "[CV] bootstrap=False, criterion=entropy, max_depth=15, min_samples_leaf=1, min_samples_split=2, n_estimators=10 \n",
      "[CV]  bootstrap=False, criterion=entropy, max_depth=15, min_samples_leaf=1, min_samples_split=2, n_estimators=10, score=0.703, total=   0.0s\n",
      "[CV] bootstrap=False, criterion=entropy, max_depth=15, min_samples_leaf=1, min_samples_split=2, n_estimators=10 \n"
     ]
    },
    {
     "name": "stdout",
     "output_type": "stream",
     "text": [
      "[CV]  bootstrap=False, criterion=entropy, max_depth=15, min_samples_leaf=1, min_samples_split=2, n_estimators=10, score=0.684, total=   0.0s\n",
      "[CV] bootstrap=False, criterion=entropy, max_depth=15, min_samples_leaf=1, min_samples_split=2, n_estimators=20 \n",
      "[CV]  bootstrap=False, criterion=entropy, max_depth=15, min_samples_leaf=1, min_samples_split=2, n_estimators=20, score=0.716, total=   0.1s\n",
      "[CV] bootstrap=False, criterion=entropy, max_depth=15, min_samples_leaf=1, min_samples_split=2, n_estimators=20 \n",
      "[CV]  bootstrap=False, criterion=entropy, max_depth=15, min_samples_leaf=1, min_samples_split=2, n_estimators=20, score=0.711, total=   0.1s\n",
      "[CV] bootstrap=False, criterion=entropy, max_depth=15, min_samples_leaf=1, min_samples_split=2, n_estimators=20 \n",
      "[CV]  bootstrap=False, criterion=entropy, max_depth=15, min_samples_leaf=1, min_samples_split=2, n_estimators=20, score=0.680, total=   0.1s\n",
      "[CV] bootstrap=False, criterion=entropy, max_depth=15, min_samples_leaf=1, min_samples_split=2, n_estimators=50 \n",
      "[CV]  bootstrap=False, criterion=entropy, max_depth=15, min_samples_leaf=1, min_samples_split=2, n_estimators=50, score=0.713, total=   0.1s\n",
      "[CV] bootstrap=False, criterion=entropy, max_depth=15, min_samples_leaf=1, min_samples_split=2, n_estimators=50 \n",
      "[CV]  bootstrap=False, criterion=entropy, max_depth=15, min_samples_leaf=1, min_samples_split=2, n_estimators=50, score=0.688, total=   0.1s\n",
      "[CV] bootstrap=False, criterion=entropy, max_depth=15, min_samples_leaf=1, min_samples_split=2, n_estimators=50 \n",
      "[CV]  bootstrap=False, criterion=entropy, max_depth=15, min_samples_leaf=1, min_samples_split=2, n_estimators=50, score=0.677, total=   0.1s\n",
      "[CV] bootstrap=False, criterion=entropy, max_depth=15, min_samples_leaf=1, min_samples_split=5, n_estimators=5 \n",
      "[CV]  bootstrap=False, criterion=entropy, max_depth=15, min_samples_leaf=1, min_samples_split=5, n_estimators=5, score=0.668, total=   0.0s\n",
      "[CV] bootstrap=False, criterion=entropy, max_depth=15, min_samples_leaf=1, min_samples_split=5, n_estimators=5 \n",
      "[CV]  bootstrap=False, criterion=entropy, max_depth=15, min_samples_leaf=1, min_samples_split=5, n_estimators=5, score=0.684, total=   0.0s\n",
      "[CV] bootstrap=False, criterion=entropy, max_depth=15, min_samples_leaf=1, min_samples_split=5, n_estimators=5 \n",
      "[CV]  bootstrap=False, criterion=entropy, max_depth=15, min_samples_leaf=1, min_samples_split=5, n_estimators=5, score=0.680, total=   0.0s\n",
      "[CV] bootstrap=False, criterion=entropy, max_depth=15, min_samples_leaf=1, min_samples_split=5, n_estimators=10 \n",
      "[CV]  bootstrap=False, criterion=entropy, max_depth=15, min_samples_leaf=1, min_samples_split=5, n_estimators=10, score=0.698, total=   0.0s\n",
      "[CV] bootstrap=False, criterion=entropy, max_depth=15, min_samples_leaf=1, min_samples_split=5, n_estimators=10 \n",
      "[CV]  bootstrap=False, criterion=entropy, max_depth=15, min_samples_leaf=1, min_samples_split=5, n_estimators=10, score=0.692, total=   0.0s\n",
      "[CV] bootstrap=False, criterion=entropy, max_depth=15, min_samples_leaf=1, min_samples_split=5, n_estimators=10 \n",
      "[CV]  bootstrap=False, criterion=entropy, max_depth=15, min_samples_leaf=1, min_samples_split=5, n_estimators=10, score=0.707, total=   0.0s\n",
      "[CV] bootstrap=False, criterion=entropy, max_depth=15, min_samples_leaf=1, min_samples_split=5, n_estimators=20 \n",
      "[CV]  bootstrap=False, criterion=entropy, max_depth=15, min_samples_leaf=1, min_samples_split=5, n_estimators=20, score=0.731, total=   0.1s\n",
      "[CV] bootstrap=False, criterion=entropy, max_depth=15, min_samples_leaf=1, min_samples_split=5, n_estimators=20 \n",
      "[CV]  bootstrap=False, criterion=entropy, max_depth=15, min_samples_leaf=1, min_samples_split=5, n_estimators=20, score=0.684, total=   0.1s\n",
      "[CV] bootstrap=False, criterion=entropy, max_depth=15, min_samples_leaf=1, min_samples_split=5, n_estimators=20 \n",
      "[CV]  bootstrap=False, criterion=entropy, max_depth=15, min_samples_leaf=1, min_samples_split=5, n_estimators=20, score=0.680, total=   0.1s\n",
      "[CV] bootstrap=False, criterion=entropy, max_depth=15, min_samples_leaf=1, min_samples_split=5, n_estimators=50 \n",
      "[CV]  bootstrap=False, criterion=entropy, max_depth=15, min_samples_leaf=1, min_samples_split=5, n_estimators=50, score=0.724, total=   0.1s\n",
      "[CV] bootstrap=False, criterion=entropy, max_depth=15, min_samples_leaf=1, min_samples_split=5, n_estimators=50 \n",
      "[CV]  bootstrap=False, criterion=entropy, max_depth=15, min_samples_leaf=1, min_samples_split=5, n_estimators=50, score=0.714, total=   0.1s\n",
      "[CV] bootstrap=False, criterion=entropy, max_depth=15, min_samples_leaf=1, min_samples_split=5, n_estimators=50 \n",
      "[CV]  bootstrap=False, criterion=entropy, max_depth=15, min_samples_leaf=1, min_samples_split=5, n_estimators=50, score=0.673, total=   0.1s\n",
      "[CV] bootstrap=False, criterion=entropy, max_depth=15, min_samples_leaf=5, min_samples_split=2, n_estimators=5 \n",
      "[CV]  bootstrap=False, criterion=entropy, max_depth=15, min_samples_leaf=5, min_samples_split=2, n_estimators=5, score=0.690, total=   0.0s\n",
      "[CV] bootstrap=False, criterion=entropy, max_depth=15, min_samples_leaf=5, min_samples_split=2, n_estimators=5 \n",
      "[CV]  bootstrap=False, criterion=entropy, max_depth=15, min_samples_leaf=5, min_samples_split=2, n_estimators=5, score=0.718, total=   0.0s\n",
      "[CV] bootstrap=False, criterion=entropy, max_depth=15, min_samples_leaf=5, min_samples_split=2, n_estimators=5 \n",
      "[CV]  bootstrap=False, criterion=entropy, max_depth=15, min_samples_leaf=5, min_samples_split=2, n_estimators=5, score=0.726, total=   0.0s\n",
      "[CV] bootstrap=False, criterion=entropy, max_depth=15, min_samples_leaf=5, min_samples_split=2, n_estimators=10 \n",
      "[CV]  bootstrap=False, criterion=entropy, max_depth=15, min_samples_leaf=5, min_samples_split=2, n_estimators=10, score=0.713, total=   0.0s\n",
      "[CV] bootstrap=False, criterion=entropy, max_depth=15, min_samples_leaf=5, min_samples_split=2, n_estimators=10 \n",
      "[CV]  bootstrap=False, criterion=entropy, max_depth=15, min_samples_leaf=5, min_samples_split=2, n_estimators=10, score=0.714, total=   0.0s\n",
      "[CV] bootstrap=False, criterion=entropy, max_depth=15, min_samples_leaf=5, min_samples_split=2, n_estimators=10 \n",
      "[CV]  bootstrap=False, criterion=entropy, max_depth=15, min_samples_leaf=5, min_samples_split=2, n_estimators=10, score=0.707, total=   0.0s\n",
      "[CV] bootstrap=False, criterion=entropy, max_depth=15, min_samples_leaf=5, min_samples_split=2, n_estimators=20 \n",
      "[CV]  bootstrap=False, criterion=entropy, max_depth=15, min_samples_leaf=5, min_samples_split=2, n_estimators=20, score=0.716, total=   0.0s\n",
      "[CV] bootstrap=False, criterion=entropy, max_depth=15, min_samples_leaf=5, min_samples_split=2, n_estimators=20 \n",
      "[CV]  bootstrap=False, criterion=entropy, max_depth=15, min_samples_leaf=5, min_samples_split=2, n_estimators=20, score=0.711, total=   0.1s\n",
      "[CV] bootstrap=False, criterion=entropy, max_depth=15, min_samples_leaf=5, min_samples_split=2, n_estimators=20 \n",
      "[CV]  bootstrap=False, criterion=entropy, max_depth=15, min_samples_leaf=5, min_samples_split=2, n_estimators=20, score=0.714, total=   0.0s\n",
      "[CV] bootstrap=False, criterion=entropy, max_depth=15, min_samples_leaf=5, min_samples_split=2, n_estimators=50 \n",
      "[CV]  bootstrap=False, criterion=entropy, max_depth=15, min_samples_leaf=5, min_samples_split=2, n_estimators=50, score=0.713, total=   0.1s\n",
      "[CV] bootstrap=False, criterion=entropy, max_depth=15, min_samples_leaf=5, min_samples_split=2, n_estimators=50 \n",
      "[CV]  bootstrap=False, criterion=entropy, max_depth=15, min_samples_leaf=5, min_samples_split=2, n_estimators=50, score=0.718, total=   0.1s\n",
      "[CV] bootstrap=False, criterion=entropy, max_depth=15, min_samples_leaf=5, min_samples_split=2, n_estimators=50 \n",
      "[CV]  bootstrap=False, criterion=entropy, max_depth=15, min_samples_leaf=5, min_samples_split=2, n_estimators=50, score=0.707, total=   0.1s\n",
      "[CV] bootstrap=False, criterion=entropy, max_depth=15, min_samples_leaf=5, min_samples_split=5, n_estimators=5 \n",
      "[CV]  bootstrap=False, criterion=entropy, max_depth=15, min_samples_leaf=5, min_samples_split=5, n_estimators=5, score=0.709, total=   0.0s\n",
      "[CV] bootstrap=False, criterion=entropy, max_depth=15, min_samples_leaf=5, min_samples_split=5, n_estimators=5 \n",
      "[CV]  bootstrap=False, criterion=entropy, max_depth=15, min_samples_leaf=5, min_samples_split=5, n_estimators=5, score=0.714, total=   0.0s\n",
      "[CV] bootstrap=False, criterion=entropy, max_depth=15, min_samples_leaf=5, min_samples_split=5, n_estimators=5 \n",
      "[CV]  bootstrap=False, criterion=entropy, max_depth=15, min_samples_leaf=5, min_samples_split=5, n_estimators=5, score=0.711, total=   0.0s\n",
      "[CV] bootstrap=False, criterion=entropy, max_depth=15, min_samples_leaf=5, min_samples_split=5, n_estimators=10 \n",
      "[CV]  bootstrap=False, criterion=entropy, max_depth=15, min_samples_leaf=5, min_samples_split=5, n_estimators=10, score=0.735, total=   0.0s\n",
      "[CV] bootstrap=False, criterion=entropy, max_depth=15, min_samples_leaf=5, min_samples_split=5, n_estimators=10 \n",
      "[CV]  bootstrap=False, criterion=entropy, max_depth=15, min_samples_leaf=5, min_samples_split=5, n_estimators=10, score=0.718, total=   0.0s\n",
      "[CV] bootstrap=False, criterion=entropy, max_depth=15, min_samples_leaf=5, min_samples_split=5, n_estimators=10 \n",
      "[CV]  bootstrap=False, criterion=entropy, max_depth=15, min_samples_leaf=5, min_samples_split=5, n_estimators=10, score=0.699, total=   0.0s\n",
      "[CV] bootstrap=False, criterion=entropy, max_depth=15, min_samples_leaf=5, min_samples_split=5, n_estimators=20 \n",
      "[CV]  bootstrap=False, criterion=entropy, max_depth=15, min_samples_leaf=5, min_samples_split=5, n_estimators=20, score=0.728, total=   0.0s\n",
      "[CV] bootstrap=False, criterion=entropy, max_depth=15, min_samples_leaf=5, min_samples_split=5, n_estimators=20 \n",
      "[CV]  bootstrap=False, criterion=entropy, max_depth=15, min_samples_leaf=5, min_samples_split=5, n_estimators=20, score=0.722, total=   0.0s\n",
      "[CV] bootstrap=False, criterion=entropy, max_depth=15, min_samples_leaf=5, min_samples_split=5, n_estimators=20 \n"
     ]
    },
    {
     "name": "stdout",
     "output_type": "stream",
     "text": [
      "[CV]  bootstrap=False, criterion=entropy, max_depth=15, min_samples_leaf=5, min_samples_split=5, n_estimators=20, score=0.711, total=   0.0s\n",
      "[CV] bootstrap=False, criterion=entropy, max_depth=15, min_samples_leaf=5, min_samples_split=5, n_estimators=50 \n",
      "[CV]  bootstrap=False, criterion=entropy, max_depth=15, min_samples_leaf=5, min_samples_split=5, n_estimators=50, score=0.713, total=   0.1s\n",
      "[CV] bootstrap=False, criterion=entropy, max_depth=15, min_samples_leaf=5, min_samples_split=5, n_estimators=50 \n",
      "[CV]  bootstrap=False, criterion=entropy, max_depth=15, min_samples_leaf=5, min_samples_split=5, n_estimators=50, score=0.741, total=   0.1s\n",
      "[CV] bootstrap=False, criterion=entropy, max_depth=15, min_samples_leaf=5, min_samples_split=5, n_estimators=50 \n",
      "[CV]  bootstrap=False, criterion=entropy, max_depth=15, min_samples_leaf=5, min_samples_split=5, n_estimators=50, score=0.707, total=   0.1s\n"
     ]
    },
    {
     "name": "stderr",
     "output_type": "stream",
     "text": [
      "[Parallel(n_jobs=1)]: Done 768 out of 768 | elapsed:   34.2s finished\n"
     ]
    },
    {
     "data": {
      "text/plain": [
       "GridSearchCV(cv=3, error_score='raise-deprecating',\n",
       "             estimator=RandomForestClassifier(bootstrap=True, class_weight=None,\n",
       "                                              criterion='gini', max_depth=None,\n",
       "                                              max_features='auto',\n",
       "                                              max_leaf_nodes=None,\n",
       "                                              min_impurity_decrease=0.0,\n",
       "                                              min_impurity_split=None,\n",
       "                                              min_samples_leaf=1,\n",
       "                                              min_samples_split=2,\n",
       "                                              min_weight_fraction_leaf=0.0,\n",
       "                                              n_estimators='warn', n_jobs=None,\n",
       "                                              oob_score=False,\n",
       "                                              random_state=None, verbose=0,\n",
       "                                              warm_start=False),\n",
       "             iid='warn', n_jobs=None,\n",
       "             param_grid=[{'bootstrap': [True, False],\n",
       "                          'criterion': ['gini', 'entropy'],\n",
       "                          'max_depth': [None, 5, 10, 15],\n",
       "                          'min_samples_leaf': [1, 5],\n",
       "                          'min_samples_split': [2, 5],\n",
       "                          'n_estimators': [5, 10, 20, 50]}],\n",
       "             pre_dispatch='2*n_jobs', refit=True, return_train_score=False,\n",
       "             scoring='accuracy', verbose=3)"
      ]
     },
     "execution_count": 102,
     "metadata": {},
     "output_type": "execute_result"
    }
   ],
   "source": [
    "from sklearn.model_selection import GridSearchCV\n",
    "\n",
    "# Considerando alguns parâmetros para a floresta\n",
    "param_grid_forest = [\n",
    "    {\n",
    "        'n_estimators': [5, 10, 20, 50],        \n",
    "        'criterion': ['gini', 'entropy'],\n",
    "        'min_samples_split': [2, 5],\n",
    "        'max_depth': [None, 5, 10, 15],\n",
    "        'min_samples_leaf': [1, 5],\n",
    "        'bootstrap': [True, False]\n",
    "    }\n",
    "]\n",
    "\n",
    "# Aplicando GridSearch\n",
    "forest_clf = RandomForestClassifier()\n",
    "grid_search = GridSearchCV(forest_clf, param_grid_forest, cv=3,\n",
    "                           scoring='accuracy', verbose=3)\n",
    "\n",
    "grid_search.fit(X_train_prepared, y_train)"
   ]
  },
  {
   "cell_type": "code",
   "execution_count": 103,
   "metadata": {
    "ExecuteTime": {
     "end_time": "2019-05-27T20:18:09.628757Z",
     "start_time": "2019-05-27T20:18:09.620796Z"
    }
   },
   "outputs": [
    {
     "data": {
      "text/plain": [
       "{'bootstrap': True,\n",
       " 'criterion': 'gini',\n",
       " 'max_depth': None,\n",
       " 'min_samples_leaf': 5,\n",
       " 'min_samples_split': 5,\n",
       " 'n_estimators': 50}"
      ]
     },
     "execution_count": 103,
     "metadata": {},
     "output_type": "execute_result"
    }
   ],
   "source": [
    "# Melhores parâmetros\n",
    "grid_search.best_params_"
   ]
  },
  {
   "cell_type": "code",
   "execution_count": 104,
   "metadata": {
    "ExecuteTime": {
     "end_time": "2019-05-27T20:18:09.793919Z",
     "start_time": "2019-05-27T20:18:09.631966Z"
    }
   },
   "outputs": [
    {
     "data": {
      "text/plain": [
       "0.7425"
      ]
     },
     "execution_count": 104,
     "metadata": {},
     "output_type": "execute_result"
    }
   ],
   "source": [
    "# Melhor acurácia\n",
    "grid_search.best_score_"
   ]
  },
  {
   "cell_type": "code",
   "execution_count": 105,
   "metadata": {
    "ExecuteTime": {
     "end_time": "2019-05-27T20:18:11.901789Z",
     "start_time": "2019-05-27T20:18:09.800557Z"
    }
   },
   "outputs": [
    {
     "name": "stdout",
     "output_type": "stream",
     "text": [
      "Acurácia do modelo: 0.81\n",
      "\n",
      "Cross Validation: [0.70807453 0.7125     0.7375     0.71875    0.74842767]\n",
      "\n",
      "Precision: 0.88\n",
      "\n",
      "Recall: 0.44\n",
      "\n",
      "f1_score: 0.59\n",
      "\n",
      "Matriz de Confusão: \n",
      "[[525  34]\n",
      " [179  62]]\n"
     ]
    },
    {
     "data": {
      "image/png": "[encoded data removed]",
      "text/plain": [
       "<Figure size 432x288 with 1 Axes>"
      ]
     },
     "metadata": {
      "needs_background": "light"
     },
     "output_type": "display_data"
    }
   ],
   "source": [
    "final_model = grid_search.best_estimator_\n",
    "final_model.fit(X_train_prepared, y_train)\n",
    "full_train_analysis(final_model, X_train_prepared, y_train)"
   ]
  },
  {
   "cell_type": "code",
   "execution_count": 106,
   "metadata": {
    "ExecuteTime": {
     "end_time": "2019-05-27T20:18:11.933086Z",
     "start_time": "2019-05-27T20:18:11.904689Z"
    }
   },
   "outputs": [],
   "source": [
    "# Dados de teste\n",
    "X_test_prepared = full_pipeline.fit_transform(X_test)\n",
    "y_test_pred = final_model.predict(X_test_prepared)\n",
    "acc_test = accuracy_score(y_test, y_test_pred)"
   ]
  },
  {
   "cell_type": "code",
   "execution_count": 107,
   "metadata": {
    "ExecuteTime": {
     "end_time": "2019-05-27T20:18:12.126276Z",
     "start_time": "2019-05-27T20:18:11.933086Z"
    }
   },
   "outputs": [
    {
     "data": {
      "text/plain": [
       "0.655"
      ]
     },
     "execution_count": 107,
     "metadata": {},
     "output_type": "execute_result"
    }
   ],
   "source": [
    "# Acurácia nos dados de teste\n",
    "acc_test"
   ]
  },
  {
   "cell_type": "markdown",
   "metadata": {},
   "source": [
    "**Conclusão:**\n",
    "\n",
    "Mesmo com algumas tentativas de se alcançar melhores performances no treinamento (GridSearchCV), não foi possível aumentar a acurácia do modelo para níveis razoáveis. Apesar de todas as tentativas, os melhores valores de acurácia obtido ficaram entre 70 e 72%. Alguns pontos podem explicar essa performance mediana:\n",
    "\n",
    "    Falha na preparação dos dados;\n",
    "    Erro ao preencher dados nulos com as entradas mais comuns;"
   ]
  }
 ],
 "metadata": {
  "kernelspec": {
   "display_name": "Python 3",
   "language": "python",
   "name": "python3"
  },
  "language_info": {
   "codemirror_mode": {
    "name": "ipython",
    "version": 3
   },
   "file_extension": ".py",
   "mimetype": "text/x-python",
   "name": "python",
   "nbconvert_exporter": "python",
   "pygments_lexer": "ipython3",
   "version": "3.6.4"
  },
  "toc": {
   "base_numbering": 1,
   "nav_menu": {},
   "number_sections": true,
   "sideBar": true,
   "skip_h1_title": true,
   "title_cell": "Table of Contents",
   "title_sidebar": "Contents",
   "toc_cell": true,
   "toc_position": {},
   "toc_section_display": true,
   "toc_window_display": true
  }
 },
 "nbformat": 4,
 "nbformat_minor": 2
}
