{
 "cells": [
  {
   "cell_type": "markdown",
   "metadata": {
    "toc": true
   },
   "source": [
    "<h1>Table of Contents<span class=\"tocSkip\"></span></h1>\n",
    "<div class=\"toc\"><ul class=\"toc-item\"><li><span><a href=\"#Lendo-Conjuntos\" data-toc-modified-id=\"Lendo-Conjuntos-1\"><span class=\"toc-item-num\">1&nbsp;&nbsp;</span>Lendo Conjuntos</a></span></li></ul></div>"
   ]
  },
  {
   "cell_type": "markdown",
   "metadata": {},
   "source": [
    "Antes de iniciar o desenvolvimento desse notebook, é interessante pontuar as conclusões finais obtidas com as análises na `versão 2` da criação do modelo de predição de preços de casas.\n",
    "\n",
    "_\"**Conclusão:** Temos uma diferença de 16 colunas para os dados preparados de `Teste` para os dados preparados de `Treino`. Isto implica diretamente na análise do modelo, uma vez que essa diferença na quantidade de colunas não irá permitir realizar predições com um modelo treinado._\n",
    "\n",
    "_Provavelmente, essa diferença de colunas é gerada após o `OneHotEncoder` (e isso foi verificado retirando esse passo do pipeline e identificando que o número de colunas se mantém iguais). Isto pois é provável que os dados de teste possuam um maior desbalanceamento entre as entradas categóricas, fazendo com que algumas entradas encontradas nos dados de treino não estejam presentes no conjunto de teste._\n",
    "\n",
    "_**Solução:** antes de realizar qualquer procedimento preparatório, o ideal seria juntar os dois conjuntos de treino e teste em um único dataset e, após isso, aplicar procedimentos de separação (StratiffiedShuffleSplit) para garantir um balanço igualitário entre os dois datasets.\"_"
   ]
  },
  {
   "cell_type": "markdown",
   "metadata": {},
   "source": [
    "## Lendo Conjuntos"
   ]
  },
  {
   "cell_type": "code",
   "execution_count": 2,
   "metadata": {
    "ExecuteTime": {
     "end_time": "2019-06-07T21:33:57.880505Z",
     "start_time": "2019-06-07T21:33:57.207741Z"
    }
   },
   "outputs": [
    {
     "name": "stdout",
     "output_type": "stream",
     "text": [
      "Dimensões dos dados de treino: (1460, 81)\n",
      "Dimensões dos dados de teste: (1459, 80)\n"
     ]
    }
   ],
   "source": [
    "# Importando bibliotecas\n",
    "import pandas as pd\n",
    "import warnings\n",
    "warnings.filterwarnings('ignore')\n",
    "\n",
    "# Lendo dados\n",
    "train = pd.read_csv('train.csv')\n",
    "test = pd.read_csv('test.csv')\n",
    "\n",
    "# Verificando\n",
    "print(f'Dimensões dos dados de treino: {train.shape}')\n",
    "print(f'Dimensões dos dados de teste: {test.shape}')"
   ]
  },
  {
   "cell_type": "markdown",
   "metadata": {},
   "source": [
    "# Unindo Dados"
   ]
  },
  {
   "cell_type": "code",
   "execution_count": 4,
   "metadata": {
    "ExecuteTime": {
     "end_time": "2019-06-07T21:50:25.880272Z",
     "start_time": "2019-06-07T21:50:25.769938Z"
    }
   },
   "outputs": [
    {
     "name": "stdout",
     "output_type": "stream",
     "text": [
      "Dimensões dos dados de treino: (1460, 81)\n",
      "Dimensões dos dados de teste: (1459, 80)\n",
      "Dados unidos: (2919, 81)\n"
     ]
    }
   ],
   "source": [
    "# Aplicando união dos dados\n",
    "df = train.append(test, ignore_index=True)\n",
    "\n",
    "# Verificando\n",
    "print(f'Dimensões dos dados de treino: {train.shape}')\n",
    "print(f'Dimensões dos dados de teste: {test.shape}')\n",
    "print(f'Dados unidos: {df.shape}')"
   ]
  },
  {
   "cell_type": "code",
   "execution_count": null,
   "metadata": {},
   "outputs": [],
   "source": []
  }
 ],
 "metadata": {
  "kernelspec": {
   "display_name": "Python 3",
   "language": "python",
   "name": "python3"
  },
  "language_info": {
   "codemirror_mode": {
    "name": "ipython",
    "version": 3
   },
   "file_extension": ".py",
   "mimetype": "text/x-python",
   "name": "python",
   "nbconvert_exporter": "python",
   "pygments_lexer": "ipython3",
   "version": "3.6.4"
  },
  "toc": {
   "base_numbering": 1,
   "nav_menu": {},
   "number_sections": true,
   "sideBar": true,
   "skip_h1_title": true,
   "title_cell": "Table of Contents",
   "title_sidebar": "Contents",
   "toc_cell": true,
   "toc_position": {},
   "toc_section_display": true,
   "toc_window_display": true
  }
 },
 "nbformat": 4,
 "nbformat_minor": 2
}
